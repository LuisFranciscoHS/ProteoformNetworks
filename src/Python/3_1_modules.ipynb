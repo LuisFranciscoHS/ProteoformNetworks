{
 "cells": [
  {
   "cell_type": "markdown",
   "metadata": {
    "collapsed": false,
    "pycharm": {
     "name": "#%% md\n"
    }
   },
   "source": [
    "# Find cases when proteoforms clarify gene-level overlap"
   ]
  },
  {
   "cell_type": "markdown",
   "metadata": {
    "collapsed": false,
    "pycharm": {
     "name": "#%% md\n"
    }
   },
   "source": [
    "### Set up configuration"
   ]
  },
  {
   "cell_type": "code",
   "execution_count": 10,
   "outputs": [
    {
     "name": "stdout",
     "output_type": "stream",
     "text": [
      "The autoreload extension is already loaded. To reload it, use:\n",
      "  %reload_ext autoreload\n",
      "Initial working directory: C:\\git\\ProteoformNetworks\\src\\Python\n",
      "New working directory: C:\\git\\ProteoformNetworks\n"
     ]
    }
   ],
   "source": [
    "\n",
    "\n",
    "import config\n",
    "from lib.graph_database_access import get_query_result\n",
    "from queries import QUERY_GET_NUM_PROTEOFORMS_PER_PROTEIN\n",
    "\n",
    "%load_ext autoreload\n",
    "%autoreload 2\n",
    "%reload_ext autoreload\n",
    "\n",
    "config.set_root_wd()"
   ],
   "metadata": {
    "collapsed": false,
    "pycharm": {
     "name": "#%%\n"
    }
   }
  },
  {
   "cell_type": "markdown",
   "metadata": {
    "collapsed": false,
    "pycharm": {
     "name": "#%% md\n"
    }
   },
   "source": [
    "## Select candidate proteins"
   ]
  },
  {
   "cell_type": "code",
   "execution_count": 4,
   "metadata": {
    "collapsed": false,
    "pycharm": {
     "name": "#%% Get list of proteins with multiple proteoforms\n"
    }
   },
   "outputs": [
    {
     "data": {
      "text/plain": "     Protein                                        Proteoforms  \\\n0     P0CG48  [[P0CG48], [P0CG48, 00134:152], [P0CG48, 00134...   \n1     P68431  [[P68431], [P68431, 00046:11, 00047:12, 00064:...   \n2     Q71DI3  [[Q71DI3], [Q71DI3, 00046:11, 00047:12, 00064:...   \n3     P02452  [[P02452], [P02452, 00037:null], [P02452, 0003...   \n4     P08123  [[P08123], [P08123, 00037:null], [P08123, 0003...   \n...      ...                                                ...   \n1522  Q13554                    [[Q13554], [Q13554, 00047:287]]   \n1523  Q13555                    [[Q13555], [Q13555, 00047:287]]   \n1524  Q13557                    [[Q13557], [Q13557, 00047:287]]   \n1525  Q13569                    [[Q13569], [Q13569, 01149:330]]   \n1526  Q13591                   [[Q13591], [Q13591, 00812:null]]   \n\n      NumProteoforms  \n0                 82  \n1                 52  \n2                 48  \n3                 36  \n4                 36  \n...              ...  \n1522               2  \n1523               2  \n1524               2  \n1525               2  \n1526               2  \n\n[1527 rows x 3 columns]",
      "text/html": "<div>\n<style scoped>\n    .dataframe tbody tr th:only-of-type {\n        vertical-align: middle;\n    }\n\n    .dataframe tbody tr th {\n        vertical-align: top;\n    }\n\n    .dataframe thead th {\n        text-align: right;\n    }\n</style>\n<table border=\"1\" class=\"dataframe\">\n  <thead>\n    <tr style=\"text-align: right;\">\n      <th></th>\n      <th>Protein</th>\n      <th>Proteoforms</th>\n      <th>NumProteoforms</th>\n    </tr>\n  </thead>\n  <tbody>\n    <tr>\n      <th>0</th>\n      <td>P0CG48</td>\n      <td>[[P0CG48], [P0CG48, 00134:152], [P0CG48, 00134...</td>\n      <td>82</td>\n    </tr>\n    <tr>\n      <th>1</th>\n      <td>P68431</td>\n      <td>[[P68431], [P68431, 00046:11, 00047:12, 00064:...</td>\n      <td>52</td>\n    </tr>\n    <tr>\n      <th>2</th>\n      <td>Q71DI3</td>\n      <td>[[Q71DI3], [Q71DI3, 00046:11, 00047:12, 00064:...</td>\n      <td>48</td>\n    </tr>\n    <tr>\n      <th>3</th>\n      <td>P02452</td>\n      <td>[[P02452], [P02452, 00037:null], [P02452, 0003...</td>\n      <td>36</td>\n    </tr>\n    <tr>\n      <th>4</th>\n      <td>P08123</td>\n      <td>[[P08123], [P08123, 00037:null], [P08123, 0003...</td>\n      <td>36</td>\n    </tr>\n    <tr>\n      <th>...</th>\n      <td>...</td>\n      <td>...</td>\n      <td>...</td>\n    </tr>\n    <tr>\n      <th>1522</th>\n      <td>Q13554</td>\n      <td>[[Q13554], [Q13554, 00047:287]]</td>\n      <td>2</td>\n    </tr>\n    <tr>\n      <th>1523</th>\n      <td>Q13555</td>\n      <td>[[Q13555], [Q13555, 00047:287]]</td>\n      <td>2</td>\n    </tr>\n    <tr>\n      <th>1524</th>\n      <td>Q13557</td>\n      <td>[[Q13557], [Q13557, 00047:287]]</td>\n      <td>2</td>\n    </tr>\n    <tr>\n      <th>1525</th>\n      <td>Q13569</td>\n      <td>[[Q13569], [Q13569, 01149:330]]</td>\n      <td>2</td>\n    </tr>\n    <tr>\n      <th>1526</th>\n      <td>Q13591</td>\n      <td>[[Q13591], [Q13591, 00812:null]]</td>\n      <td>2</td>\n    </tr>\n  </tbody>\n</table>\n<p>1527 rows × 3 columns</p>\n</div>"
     },
     "execution_count": 4,
     "metadata": {},
     "output_type": "execute_result"
    }
   ],
   "source": [
    "# Select proteins with multiple proteoforms\n",
    "df_proteins = get_query_result(QUERY_GET_NUM_PROTEOFORMS_PER_PROTEIN)\n",
    "df_proteins"
   ]
  },
  {
   "cell_type": "code",
   "execution_count": 7,
   "outputs": [
    {
     "name": "stdout",
     "output_type": "stream",
     "text": [
      "There are 1527 proteins with multiple proteoforms.\n"
     ]
    }
   ],
   "source": [
    "print(f\"There are {len(df_proteins)} proteins with multiple proteoforms.\")"
   ],
   "metadata": {
    "collapsed": false,
    "pycharm": {
     "name": "#%%\n"
    }
   }
  },
  {
   "cell_type": "code",
   "execution_count": 9,
   "metadata": {
    "collapsed": false,
    "pycharm": {
     "name": "#%% Select proteins proteins to filter diseases\n"
    }
   },
   "outputs": [
    {
     "data": {
      "text/plain": "1527"
     },
     "execution_count": 9,
     "metadata": {},
     "output_type": "execute_result"
    }
   ],
   "source": [
    "\n",
    "\n",
    "selected_proteins = set(df[\"Protein\"].unique())\n",
    "len(selected_proteins)\n",
    "\n",
    "# Select proteins that do not participate in many diseases\n",
    "\n"
   ]
  }
 ],
 "metadata": {
  "kernelspec": {
   "display_name": "Python 3",
   "language": "python",
   "name": "python3"
  },
  "language_info": {
   "codemirror_mode": {
    "name": "ipython",
    "version": 2
   },
   "file_extension": ".py",
   "mimetype": "text/x-python",
   "name": "python",
   "nbconvert_exporter": "python",
   "pygments_lexer": "ipython2",
   "version": "2.7.6"
  },
  "pycharm": {
   "stem_cell": {
    "cell_type": "raw",
    "metadata": {
     "collapsed": false
    },
    "source": [
     "# This file is the starting point for the whole project.\n",
     "\"\"\"\n",
     " The goal of this project is to study the differences between protein and proteoform \n",
     " interaction networks for functional analysis.\n",
     "\n",
     "\"\"\"  \n"
    ]
   }
  }
 },
 "nbformat": 4,
 "nbformat_minor": 0
}