{
 "cells": [
  {
   "cell_type": "markdown",
   "metadata": {
    "collapsed": false,
    "pycharm": {
     "name": "#%% md\n"
    }
   },
   "source": [
    "# Find cases when proteoforms clarify gene-level overlap"
   ]
  },
  {
   "cell_type": "markdown",
   "metadata": {
    "collapsed": false,
    "pycharm": {
     "name": "#%% md\n"
    }
   },
   "source": [
    "### Set up configuration"
   ]
  },
  {
   "cell_type": "code",
   "execution_count": 7,
   "outputs": [
    {
     "name": "stdout",
     "output_type": "stream",
     "text": [
      "The autoreload extension is already loaded. To reload it, use:\n",
      "  %reload_ext autoreload\n",
      "Initial working directory: C:\\git\\ProteoformNetworks\\src\\Python\n",
      "New working directory: C:\\git\\ProteoformNetworks\n"
     ]
    }
   ],
   "source": [
    "\n",
    "\n",
    "import config\n",
    "from lib.graph_database_access import get_query_result\n",
    "from queries import QUERY_GET_NUM_PROTEOFORMS_PER_PROTEIN, QUERY_GET_REACTIONS_BY_PROTEIN_FOR_MULTIPROTEOFORM_PROTEINS\n",
    "\n",
    "%load_ext autoreload\n",
    "%autoreload 2\n",
    "%reload_ext autoreload\n",
    "\n",
    "config.set_root_wd()"
   ],
   "metadata": {
    "collapsed": false,
    "pycharm": {
     "name": "#%%\n"
    }
   }
  },
  {
   "cell_type": "code",
   "execution_count": 8,
   "metadata": {
    "collapsed": false,
    "pycharm": {
     "name": "#%% Select proteins proteins to filter diseases\n"
    }
   },
   "outputs": [
    {
     "name": "stdout",
     "output_type": "stream",
     "text": [
      "There are 1493 proteins with multiple proteoforms.\n"
     ]
    }
   ],
   "source": [
    "## Identify proteins with at least a proteoform in one set of reactions and another in a different set of reactions.\n",
    "\n",
    "## Get Reactions by proteoform\n",
    "\n",
    "## Proteins with 2+ proteoforms, 2+ reactions and 1 proteoform being the only one participating in a reaction.\n",
    "\n",
    "df_proteins = get_query_result(QUERY_GET_REACTIONS_BY_PROTEIN_FOR_MULTIPROTEOFORM_PROTEINS)\n",
    "print(f\"There are {len(df_proteins)} proteins with multiple proteoforms.\")\n"
   ]
  },
  {
   "cell_type": "code",
   "execution_count": 11,
   "outputs": [
    {
     "data": {
      "text/plain": "                                            Proteoforms  \\\n0                      [[P36969, 00031:73], [P36969-2]]   \n20                      [[P04279, 00034:239], [P04279]]   \n112          [[Q15080, 00046:315, 00047:154], [Q15080]]   \n169         [[Q9BX63, 00046:990, 00064:1249], [Q9BX63]]   \n182                    [[P54840, 00046:null], [P54840]]   \n...                                                 ...   \n1488  [[P0CG47, 00134:76], [P0CG47, 00134:152], [P0C...   \n1489  [[P04637, 00046:15, 00046:20, 00046:46], [P046...   \n1490  [[Q71DI3, 00046:11, 00047:12, 00064:15, 00064:...   \n1491  [[P68431, 00046:11, 00047:12, 00064:15, 00064:...   \n1492  [[P0CG48, 00134:76], [P0CG48, 00134:152], [P0C...   \n\n                                     PhysicalEntitySets  \\\n0                    [[R-HSA-2142826], [R-HSA-9020572]]   \n20                    [[R-HSA-6810688], [R-HSA-977100]]   \n112                  [[R-HSA-1996221], [R-HSA-1222707]]   \n169                  [[R-HSA-5687710], [R-HSA-2564781]]   \n182   [[R-HSA-71604], [R-HSA-3858521, R-HSA-3858519,...   \n...                                                 ...   \n1488  [[R-HSA-8869049], [R-HSA-8869047], [R-HSA-8869...   \n1489  [[R-HSA-6798369], [R-HSA-3222124], [R-HSA-3222...   \n1490  [[R-HSA-8871289], [R-HSA-8871296], [R-HSA-8865...   \n1491  [[R-HSA-8871286], [R-HSA-8871295], [R-HSA-8865...   \n1492  [[R-HSA-8869030], [R-HSA-8869026], [R-HSA-8869...   \n\n                                           ReactionSets  \n0     [[R-HSA-2161791, R-HSA-2161999, R-HSA-2161959,...  \n20                    [[R-HSA-6810643], [R-HSA-977136]]  \n112   [[R-HSA-9014424, R-HSA-1236967, R-HSA-5668605,...  \n169   [[R-HSA-9701199, R-HSA-9709601, R-HSA-5686657,...  \n182   [[R-HSA-3322019], [R-HSA-3858506, R-HSA-378099...  \n...                                                 ...  \n1488  [[R-HSA-5690319], [R-HSA-5690319], [R-HSA-5690...  \n1489  [[R-HSA-6799409, R-HSA-6798374, R-HSA-6798611,...  \n1490  [[R-HSA-8865613], [R-HSA-8865613], [R-HSA-8865...  \n1491  [[R-HSA-8865613], [R-HSA-8865613], [R-HSA-8865...  \n1492  [[R-HSA-5690319], [R-HSA-5690319], [R-HSA-5690...  \n\n[497 rows x 3 columns]",
      "text/html": "<div>\n<style scoped>\n    .dataframe tbody tr th:only-of-type {\n        vertical-align: middle;\n    }\n\n    .dataframe tbody tr th {\n        vertical-align: top;\n    }\n\n    .dataframe thead th {\n        text-align: right;\n    }\n</style>\n<table border=\"1\" class=\"dataframe\">\n  <thead>\n    <tr style=\"text-align: right;\">\n      <th></th>\n      <th>Proteoforms</th>\n      <th>PhysicalEntitySets</th>\n      <th>ReactionSets</th>\n    </tr>\n  </thead>\n  <tbody>\n    <tr>\n      <th>0</th>\n      <td>[[P36969, 00031:73], [P36969-2]]</td>\n      <td>[[R-HSA-2142826], [R-HSA-9020572]]</td>\n      <td>[[R-HSA-2161791, R-HSA-2161999, R-HSA-2161959,...</td>\n    </tr>\n    <tr>\n      <th>20</th>\n      <td>[[P04279, 00034:239], [P04279]]</td>\n      <td>[[R-HSA-6810688], [R-HSA-977100]]</td>\n      <td>[[R-HSA-6810643], [R-HSA-977136]]</td>\n    </tr>\n    <tr>\n      <th>112</th>\n      <td>[[Q15080, 00046:315, 00047:154], [Q15080]]</td>\n      <td>[[R-HSA-1996221], [R-HSA-1222707]]</td>\n      <td>[[R-HSA-9014424, R-HSA-1236967, R-HSA-5668605,...</td>\n    </tr>\n    <tr>\n      <th>169</th>\n      <td>[[Q9BX63, 00046:990, 00064:1249], [Q9BX63]]</td>\n      <td>[[R-HSA-5687710], [R-HSA-2564781]]</td>\n      <td>[[R-HSA-9701199, R-HSA-9709601, R-HSA-5686657,...</td>\n    </tr>\n    <tr>\n      <th>182</th>\n      <td>[[P54840, 00046:null], [P54840]]</td>\n      <td>[[R-HSA-71604], [R-HSA-3858521, R-HSA-3858519,...</td>\n      <td>[[R-HSA-3322019], [R-HSA-3858506, R-HSA-378099...</td>\n    </tr>\n    <tr>\n      <th>...</th>\n      <td>...</td>\n      <td>...</td>\n      <td>...</td>\n    </tr>\n    <tr>\n      <th>1488</th>\n      <td>[[P0CG47, 00134:76], [P0CG47, 00134:152], [P0C...</td>\n      <td>[[R-HSA-8869049], [R-HSA-8869047], [R-HSA-8869...</td>\n      <td>[[R-HSA-5690319], [R-HSA-5690319], [R-HSA-5690...</td>\n    </tr>\n    <tr>\n      <th>1489</th>\n      <td>[[P04637, 00046:15, 00046:20, 00046:46], [P046...</td>\n      <td>[[R-HSA-6798369], [R-HSA-3222124], [R-HSA-3222...</td>\n      <td>[[R-HSA-6799409, R-HSA-6798374, R-HSA-6798611,...</td>\n    </tr>\n    <tr>\n      <th>1490</th>\n      <td>[[Q71DI3, 00046:11, 00047:12, 00064:15, 00064:...</td>\n      <td>[[R-HSA-8871289], [R-HSA-8871296], [R-HSA-8865...</td>\n      <td>[[R-HSA-8865613], [R-HSA-8865613], [R-HSA-8865...</td>\n    </tr>\n    <tr>\n      <th>1491</th>\n      <td>[[P68431, 00046:11, 00047:12, 00064:15, 00064:...</td>\n      <td>[[R-HSA-8871286], [R-HSA-8871295], [R-HSA-8865...</td>\n      <td>[[R-HSA-8865613], [R-HSA-8865613], [R-HSA-8865...</td>\n    </tr>\n    <tr>\n      <th>1492</th>\n      <td>[[P0CG48, 00134:76], [P0CG48, 00134:152], [P0C...</td>\n      <td>[[R-HSA-8869030], [R-HSA-8869026], [R-HSA-8869...</td>\n      <td>[[R-HSA-5690319], [R-HSA-5690319], [R-HSA-5690...</td>\n    </tr>\n  </tbody>\n</table>\n<p>497 rows × 3 columns</p>\n</div>"
     },
     "execution_count": 11,
     "metadata": {},
     "output_type": "execute_result"
    }
   ],
   "source": [
    "# Which one of these 1493 possibilities, has dissociate reaction sets in their proteoforms.\n",
    "# Each protein has n sets of reactions.\n",
    "# Find a protein where at least one set has no intersection with the other sets.\n",
    "\n",
    "def isExample(row):\n",
    "    l = list(map(lambda reactionSet: set(reactionSet), row[\"ReactionSets\"]))\n",
    "    for i in range(row[\"NumProteoforms\"]):\n",
    "        left = []\n",
    "        right = []\n",
    "        if i == 0:\n",
    "            right = l[1:]\n",
    "        elif i == len(l):\n",
    "            left = l[:len(l)-1]\n",
    "        else:\n",
    "            left = l[:i]\n",
    "            right = l[i+1:]\n",
    "        #print(f\"Compare: {l[i]} with: {left + right}\")\n",
    "        intersection = l[i].intersection(*(left + right))\n",
    "        if len(intersection) == 0:\n",
    "            # print(\"++++++++++++++++++++++++++++++++++++++++++++\")\n",
    "            # print(f\"Proteoform {i+1} ({row['Proteoforms'][i]}) that participantes in: {l[i]}\")\n",
    "            # print(row[\"Proteoforms\"])\n",
    "            # print(row[\"ReactionSets\"])\n",
    "            return True;\n",
    "    return False;\n",
    "selection = df_proteins.apply(lambda row : isExample(row), axis = 1)\n",
    "examples = df_proteins.loc[selection][[\"Proteoforms\", \"PhysicalEntitySets\", \"ReactionSets\"]]\n",
    "examples"
   ],
   "metadata": {
    "collapsed": false,
    "pycharm": {
     "name": "#%%\n"
    }
   }
  },
  {
   "cell_type": "code",
   "execution_count": 10,
   "outputs": [
    {
     "name": "stdout",
     "output_type": "stream",
     "text": [
      "Found 497 proteins that have at least one proteoform participating in separate reactions.\n"
     ]
    }
   ],
   "source": [
    "print(f\"Found {len(examples)} proteins that have at least one proteoform participating in separate reactions.\")"
   ],
   "metadata": {
    "collapsed": false,
    "pycharm": {
     "name": "#%%\n"
    }
   }
  }
 ],
 "metadata": {
  "kernelspec": {
   "display_name": "Python 3",
   "language": "python",
   "name": "python3"
  },
  "language_info": {
   "codemirror_mode": {
    "name": "ipython",
    "version": 2
   },
   "file_extension": ".py",
   "mimetype": "text/x-python",
   "name": "python",
   "nbconvert_exporter": "python",
   "pygments_lexer": "ipython2",
   "version": "2.7.6"
  },
  "pycharm": {
   "stem_cell": {
    "cell_type": "raw",
    "metadata": {
     "collapsed": false
    },
    "source": [
     "# This file is the starting point for the whole project.\n",
     "\"\"\"\n",
     " The goal of this project is to study the differences between protein and proteoform \n",
     " interaction networks for functional analysis.\n",
     "\n",
     "\"\"\"  \n"
    ]
   }
  }
 },
 "nbformat": 4,
 "nbformat_minor": 0
}