{
 "cells": [
  {
   "cell_type": "markdown",
   "source": [
    "# Percolation analysis"
   ],
   "metadata": {
    "collapsed": false,
    "pycharm": {
     "name": "#%% md\n"
    }
   }
  },
  {
   "cell_type": "markdown",
   "source": [
    " ### Set up"
   ],
   "metadata": {
    "collapsed": false,
    "pycharm": {
     "name": "#%% md\n"
    }
   }
  },
  {
   "cell_type": "code",
   "execution_count": 1,
   "outputs": [
    {
     "name": "stdout",
     "output_type": "stream",
     "text": [
      "Working directory: c:\\git\\pathwayanalysisplatform\\proteoformnetworks\n"
     ]
    }
   ],
   "source": [
    "import os.path\n",
    "from os import path\n",
    "import matplotlib.pyplot as plt\n",
    "from scipy.interpolate import make_interp_spline\n",
    "\n",
    "import config\n",
    "from config import LEVELS\n",
    "from create_full_graph_with_single_query import read_or_create_full_graph\n",
    "from lib.percolation import getCompletenessValues, sampleLinkPercolationWithPercentages\n",
    "from itertools import repeat\n",
    "import pandas as pd\n",
    "import numpy as np\n",
    "\n",
    "config.set_root_wd()"
   ],
   "metadata": {
    "collapsed": false,
    "pycharm": {
     "name": "#%% Set up configuration\n"
    }
   }
  },
  {
   "cell_type": "markdown",
   "source": [
    " ### Create full interaction Networks for Genes, Proteins and Proteoforms"
   ],
   "metadata": {
    "collapsed": false,
    "pycharm": {
     "name": "#%% md\n"
    }
   }
  },
  {
   "cell_type": "code",
   "execution_count": 2,
   "outputs": [
    {
     "name": "stdout",
     "output_type": "stream",
     "text": [
      "    Reading resources\\Reactome\\genes_interactions.tsv\n",
      "    Reading resources\\Reactome\\genes_vertices.tsv\n",
      "    Reading resources\\Reactome\\genes_small_molecules_vertices.tsv\n",
      "        Graph edges: 457443\n",
      "        Graph nodes: 12789\n",
      "        Graph genes nodes: 10804\n",
      "        Graph small molecule nodes: 1947\n",
      "    Reading resources\\Reactome\\proteins_interactions.tsv\n",
      "    Reading resources\\Reactome\\proteins_vertices.tsv\n",
      "    Reading resources\\Reactome\\proteins_small_molecules_vertices.tsv\n",
      "        Graph edges: 466752\n",
      "        Graph nodes: 12903\n",
      "        Graph proteins nodes: 10902\n",
      "        Graph small molecule nodes: 1963\n",
      "    Reading resources\\Reactome\\proteoforms_interactions.tsv\n",
      "    Reading resources\\Reactome\\proteoforms_vertices.tsv\n",
      "    Reading resources\\Reactome\\proteoforms_small_molecules_vertices.tsv\n",
      "        Graph edges: 679747\n",
      "        Graph nodes: 16040\n",
      "        Graph proteoforms nodes: 14039\n",
      "        Graph small molecule nodes: 1963\n",
      "    Reading resources\\Reactome\\genes_interactions.tsv\n",
      "    Reading resources\\Reactome\\genes_vertices.tsv\n",
      "    Reading resources\\Reactome\\genes_small_molecules_vertices.tsv\n",
      "        Graph edges: 457443\n",
      "        Graph nodes: 12789\n",
      "        Graph genes nodes: 10804\n",
      "        Graph small molecule nodes: 1947\n",
      "    Reading resources\\Reactome\\proteins_interactions.tsv\n",
      "    Reading resources\\Reactome\\proteins_vertices.tsv\n",
      "    Reading resources\\Reactome\\proteins_small_molecules_vertices.tsv\n",
      "        Graph edges: 466752\n",
      "        Graph nodes: 12903\n",
      "        Graph proteins nodes: 10902\n",
      "        Graph small molecule nodes: 1963\n",
      "    Reading resources\\Reactome\\proteoforms_interactions.tsv\n",
      "    Reading resources\\Reactome\\proteoforms_vertices.tsv\n",
      "    Reading resources\\Reactome\\proteoforms_small_molecules_vertices.tsv\n",
      "        Graph edges: 679747\n",
      "        Graph nodes: 16040\n",
      "        Graph proteoforms nodes: 14039\n",
      "        Graph small molecule nodes: 1963\n"
     ]
    }
   ],
   "source": [
    "graphs = { l: read_or_create_full_graph(l, True, config.GRAPHS_PATH) for l in LEVELS}\n",
    "graphs_no_sm = [read_or_create_full_graph(level, False, config.GRAPHS_PATH, v=False) for level in LEVELS]"
   ],
   "metadata": {
    "collapsed": false,
    "pycharm": {
     "name": "#%%\n"
    }
   }
  },
  {
   "cell_type": "markdown",
   "source": [
    "### Sample completeness vs lcc size"
   ],
   "metadata": {
    "collapsed": false,
    "pycharm": {
     "name": "#%% md\n"
    }
   }
  },
  {
   "cell_type": "code",
   "execution_count": 3,
   "outputs": [
    {
     "name": "stdout",
     "output_type": "stream",
     "text": [
      "Reading percolation samples for genes\n",
      "Reading percolation samples for proteins\n",
      "Reading percolation samples for proteoforms\n"
     ]
    },
    {
     "data": {
      "text/plain": "{'genes':       Unnamed: 0  index  Completeness  Relative Size  Replicate\n 0              0      0      0.899998       0.988811          0\n 1              1      1      0.809998       0.982699          0\n 2              2      2      0.728998       0.975270          0\n 3              3      3      0.656097       0.967184          0\n 4              4      4      0.590487       0.959003          0\n ...          ...    ...           ...            ...        ...\n 2155        2155   2155      0.000009       0.000094         19\n 2156        2156   2156      0.000007       0.000094         19\n 2157        2157   2157      0.000004       0.000094         19\n 2158        2158   2158      0.000002       0.000094         19\n 2159        2159   2159      0.000000       0.000094         19\n \n [2160 rows x 5 columns],\n 'proteins':       Unnamed: 0  index  Completeness  Relative Size  Replicate\n 0              0      0      0.899998       0.996589          0\n 1              1      1      0.809998       0.989198          0\n 2              2      2      0.728997       0.982717          0\n 3              3      3      0.656096       0.972030          0\n 4              4      4      0.590485       0.965094          0\n ...          ...    ...           ...            ...        ...\n 2155        2155   2155      0.000009       0.000114         19\n 2156        2156   2156      0.000006       0.000114         19\n 2157        2157   2157      0.000004       0.000114         19\n 2158        2158   2158      0.000002       0.000114         19\n 2159        2159   2159      0.000000       0.000114         19\n \n [2160 rows x 5 columns],\n 'proteoforms':       Unnamed: 0  index  Completeness  Relative Size  Replicate\n 0              0      0      0.900000       0.995479          0\n 1              1      1      0.809998       0.988824          0\n 2              2      2      0.728998       0.982000          0\n 3              3      3      0.656097       0.972701          0\n 4              4      4      0.590487       0.965620          0\n ...          ...    ...           ...            ...        ...\n 2235        2235   2235      0.000006       0.000085         19\n 2236        2236   2236      0.000004       0.000085         19\n 2237        2237   2237      0.000003       0.000085         19\n 2238        2238   2238      0.000001       0.000085         19\n 2239        2239   2239      0.000000       0.000085         19\n \n [2240 rows x 5 columns]}"
     },
     "execution_count": 3,
     "metadata": {},
     "output_type": "execute_result"
    }
   ],
   "source": [
    "num_completeness_points = 20\n",
    "num_replicates = 20\n",
    "step = 0.1\n",
    "\n",
    "# P = getCompletenessValues(num_completeness_points)\n",
    "samples = {}\n",
    "file_name = 'reports/samples_link_percolation_'\n",
    "for level in LEVELS:\n",
    "    if path.exists(file_name + level + '.csv'):\n",
    "        print(f\"Reading percolation samples for {level}\")\n",
    "        samples[level] = pd.read_csv(file_name + level + '.csv')\n",
    "    else:\n",
    "        print(f'Sampling link percolation for {level}')\n",
    "        samples[level] = sampleLinkPercolationWithPercentages(graphs[level], num_replicates, step)\n",
    "        print(f'Creating csv files.')\n",
    "        samples[level].to_csv(file_name + level + '.csv')\n",
    "samples"
   ],
   "metadata": {
    "collapsed": false,
    "pycharm": {
     "name": "#%%\n"
    }
   }
  },
  {
   "cell_type": "markdown",
   "source": [
    "### Plot link percolation curves at 3 granularity levels"
   ],
   "metadata": {
    "collapsed": false,
    "pycharm": {
     "name": "#%% md\n"
    }
   }
  },
  {
   "cell_type": "code",
   "execution_count": 5,
   "outputs": [
    {
     "data": {
      "text/plain": "<Figure size 432x288 with 1 Axes>",
      "image/png": "[encoded data removed]"
     },
     "metadata": {},
     "output_type": "display_data"
    }
   ],
   "source": [
    "plt.style.use('seaborn-darkgrid')\n",
    "\n",
    "for level in LEVELS:\n",
    "    for label, sub_df in samples[level].groupby('Replicate'):\n",
    "        plt.plot(sub_df['Completeness'], sub_df['Relative Size'], marker='', linewidth=0.5, alpha=0.3, color=config.LEVELS_COLOR[level])\n",
    "\n",
    "    df_mean = samples[level].groupby('Completeness').mean()\n",
    "    df_mean = df_mean.reset_index()\n",
    "    df_mean = df_mean.drop(columns=['Replicate', 'index'])\n",
    "\n",
    "    x_new = np.linspace(0, 1, 300)\n",
    "    spl = make_interp_spline(df_mean['Completeness'], df_mean['Relative Size'])\n",
    "    y_new = spl(x_new)\n",
    "    plt.plot(x_new, y_new, marker='', linewidth=2, alpha=1, color=config.LEVELS_COLOR[level], label=level.title())\n",
    "\n",
    "plt.legend()\n",
    "plt.xscale('log')\n",
    "plt.title(\"Link percolation\")\n",
    "plt.xlabel(\"Completeness\")\n",
    "plt.ylabel(\"Relative size of largest connected component\")\n",
    "plt.show()"
   ],
   "metadata": {
    "collapsed": false,
    "pycharm": {
     "name": "#%% Plot completeness vs relative size of the lcc\n"
    }
   }
  },
  {
   "cell_type": "code",
   "execution_count": null,
   "outputs": [],
   "source": [
    "print(path.exists('reports/samples_link_percolation_genes.csv'))\n"
   ],
   "metadata": {
    "collapsed": false,
    "pycharm": {
     "name": "#%% Sample link percolation by relative step size\n"
    }
   }
  },
  {
   "cell_type": "code",
   "execution_count": null,
   "outputs": [],
   "source": [
    "\n",
    "# Edge percolation\n",
    "\n",
    "# TODO: Make scatter plot where each dot is a disease.\n",
    "#  Number of genes (x) VS Observed module size (y)\n",
    "# The observed module size is the number of vertices in the lcc of the disease module\n",
    "\n"
   ],
   "metadata": {
    "collapsed": false,
    "pycharm": {
     "name": "#%% Plot: Network completeness (x) VS Relative module size (y)\n"
    }
   }
  },
  {
   "cell_type": "code",
   "execution_count": null,
   "outputs": [],
   "source": [
    "\n"
   ],
   "metadata": {
    "collapsed": false,
    "pycharm": {
     "name": "#%%\n"
    }
   }
  }
 ],
 "metadata": {
  "kernelspec": {
   "display_name": "Python 3",
   "language": "python",
   "name": "python3"
  },
  "language_info": {
   "codemirror_mode": {
    "name": "ipython",
    "version": 2
   },
   "file_extension": ".py",
   "mimetype": "text/x-python",
   "name": "python",
   "nbconvert_exporter": "python",
   "pygments_lexer": "ipython2",
   "version": "2.7.6"
  },
  "pycharm": {
   "stem_cell": {
    "cell_type": "raw",
    "source": [
     "# This file is the starting point for the whole project.\n",
     "\"\"\"\n",
     " The goal of this project is to study the differences between protein and proteoform \n",
     " interaction networks for functional analysis.\n",
     "\n",
     "\"\"\"\n"
    ],
    "metadata": {
     "collapsed": false
    }
   }
  }
 },
 "nbformat": 4,
 "nbformat_minor": 0
}