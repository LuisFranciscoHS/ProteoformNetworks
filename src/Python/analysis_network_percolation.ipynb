{
 "cells": [
  {
   "cell_type": "markdown",
   "source": [
    "# Percolation analysis"
   ],
   "metadata": {
    "collapsed": false,
    "pycharm": {
     "name": "#%% md\n"
    }
   }
  },
  {
   "cell_type": "markdown",
   "source": [
    " ### Set up"
   ],
   "metadata": {
    "collapsed": false,
    "pycharm": {
     "name": "#%% md\n"
    }
   }
  },
  {
   "cell_type": "code",
   "execution_count": 1,
   "outputs": [
    {
     "name": "stdout",
     "output_type": "stream",
     "text": [
      "Working directory: c:\\git\\pathwayanalysisplatform\\proteoformnetworks\n"
     ]
    }
   ],
   "source": [
    "\n",
    "import matplotlib.pyplot as plt\n",
    "\n",
    "import config\n",
    "from config import LEVELS\n",
    "from create_full_graph_with_single_query import read_or_create_full_graph\n",
    "from lib.percolation import getCompletenessValues, sampleWithLinkPercolation\n",
    "from itertools import repeat\n",
    "import pandas as pd\n",
    "\n",
    "config.set_root_wd()"
   ],
   "metadata": {
    "collapsed": false,
    "pycharm": {
     "name": "#%% Set up configuration\n"
    }
   }
  },
  {
   "cell_type": "markdown",
   "source": [
    " ### Create full interaction Networks for Genes, Proteins and Proteoforms"
   ],
   "metadata": {
    "collapsed": false,
    "pycharm": {
     "name": "#%% md\n"
    }
   }
  },
  {
   "cell_type": "code",
   "execution_count": 2,
   "outputs": [
    {
     "name": "stdout",
     "output_type": "stream",
     "text": [
      "    Reading resources\\Reactome\\genes_interactions.tsv\n",
      "    Reading resources\\Reactome\\genes_vertices.tsv\n",
      "    Reading resources\\Reactome\\genes_small_molecules_vertices.tsv\n",
      "        Graph edges: 457443\n",
      "        Graph nodes: 12789\n",
      "        Graph genes nodes: 10804\n",
      "        Graph small molecule nodes: 1947\n",
      "    Reading resources\\Reactome\\proteins_interactions.tsv\n",
      "    Reading resources\\Reactome\\proteins_vertices.tsv\n",
      "    Reading resources\\Reactome\\proteins_small_molecules_vertices.tsv\n",
      "        Graph edges: 466752\n",
      "        Graph nodes: 12903\n",
      "        Graph proteins nodes: 10902\n",
      "        Graph small molecule nodes: 1963\n",
      "    Reading resources\\Reactome\\proteoforms_interactions.tsv\n",
      "    Reading resources\\Reactome\\proteoforms_vertices.tsv\n",
      "    Reading resources\\Reactome\\proteoforms_small_molecules_vertices.tsv\n",
      "        Graph edges: 679747\n",
      "        Graph nodes: 16040\n",
      "        Graph proteoforms nodes: 14039\n",
      "        Graph small molecule nodes: 1963\n",
      "    Reading resources\\Reactome\\genes_interactions.tsv\n",
      "    Reading resources\\Reactome\\genes_vertices.tsv\n",
      "    Reading resources\\Reactome\\genes_small_molecules_vertices.tsv\n",
      "        Graph edges: 457443\n",
      "        Graph nodes: 12789\n",
      "        Graph genes nodes: 10804\n",
      "        Graph small molecule nodes: 1947\n",
      "    Reading resources\\Reactome\\proteins_interactions.tsv\n",
      "    Reading resources\\Reactome\\proteins_vertices.tsv\n",
      "    Reading resources\\Reactome\\proteins_small_molecules_vertices.tsv\n",
      "        Graph edges: 466752\n",
      "        Graph nodes: 12903\n",
      "        Graph proteins nodes: 10902\n",
      "        Graph small molecule nodes: 1963\n",
      "    Reading resources\\Reactome\\proteoforms_interactions.tsv\n",
      "    Reading resources\\Reactome\\proteoforms_vertices.tsv\n",
      "    Reading resources\\Reactome\\proteoforms_small_molecules_vertices.tsv\n",
      "        Graph edges: 679747\n",
      "        Graph nodes: 16040\n",
      "        Graph proteoforms nodes: 14039\n",
      "        Graph small molecule nodes: 1963\n"
     ]
    }
   ],
   "source": [
    "graphs = { l: read_or_create_full_graph(l, True, config.GRAPHS_PATH) for l in LEVELS}\n",
    "graphs_no_sm = [read_or_create_full_graph(level, False, config.GRAPHS_PATH, v=False) for level in LEVELS]"
   ],
   "metadata": {
    "collapsed": false,
    "pycharm": {
     "name": "#%%\n"
    }
   }
  },
  {
   "cell_type": "markdown",
   "source": [
    "### Sample completeness vs lcc size"
   ],
   "metadata": {
    "collapsed": false,
    "pycharm": {
     "name": "#%% md\n"
    }
   }
  },
  {
   "cell_type": "code",
   "execution_count": 4,
   "outputs": [
    {
     "name": "stdout",
     "output_type": "stream",
     "text": [
      "\tCompleteness: 1.0 \t Graph edges: 457443 \t Size of lcc: 0.8315740089139104\n",
      "\tCompleteness: 0.9473684210526315 \t Graph edges: 433367 \t Size of lcc: 0.826335131753851\n",
      "\tCompleteness: 0.894736842105263 \t Graph edges: 409291 \t Size of lcc: 0.8235202126827743\n",
      "\tCompleteness: 0.8421052631578947 \t Graph edges: 385215 \t Size of lcc: 0.8199233716475096\n",
      "\tCompleteness: 0.7894736842105263 \t Graph edges: 361139 \t Size of lcc: 0.8165611072015013\n",
      "\tCompleteness: 0.7368421052631579 \t Graph edges: 337063 \t Size of lcc: 0.8131206505590742\n",
      "\tCompleteness: 0.6842105263157894 \t Graph edges: 312987 \t Size of lcc: 0.8090546563452967\n",
      "\tCompleteness: 0.631578947368421 \t Graph edges: 288911 \t Size of lcc: 0.8024865118461177\n",
      "\tCompleteness: 0.5789473684210527 \t Graph edges: 264835 \t Size of lcc: 0.7972476346860583\n",
      "\tCompleteness: 0.5263157894736842 \t Graph edges: 240759 \t Size of lcc: 0.7897411838298538\n",
      "\tCompleteness: 0.47368421052631576 \t Graph edges: 216683 \t Size of lcc: 0.7798107748846665\n",
      "\tCompleteness: 0.42105263157894735 \t Graph edges: 192607 \t Size of lcc: 0.7687074829931972\n",
      "\tCompleteness: 0.3684210526315789 \t Graph edges: 168531 \t Size of lcc: 0.7520525451559934\n",
      "\tCompleteness: 0.3157894736842105 \t Graph edges: 144455 \t Size of lcc: 0.7350848385331143\n",
      "\tCompleteness: 0.2631578947368421 \t Graph edges: 120379 \t Size of lcc: 0.7127218703573384\n",
      "\tCompleteness: 0.21052631578947367 \t Graph edges: 96303 \t Size of lcc: 0.6883259050746735\n",
      "\tCompleteness: 0.15789473684210525 \t Graph edges: 72227 \t Size of lcc: 0.6523574947220268\n",
      "\tCompleteness: 0.10526315789473684 \t Graph edges: 48151 \t Size of lcc: 0.5971538040503558\n",
      "\tCompleteness: 0.05263157894736842 \t Graph edges: 24075 \t Size of lcc: 0.49847525216983346\n",
      "\tCompleteness: 0.0 \t Graph edges: 0 \t Size of lcc: 7.81921964187974e-05\n",
      "\tCompleteness: 1.0 \t Graph edges: 457443 \t Size of lcc: 0.8315740089139104\n",
      "\tCompleteness: 0.9473684210526315 \t Graph edges: 433367 \t Size of lcc: 0.8288372820392524\n",
      "\tCompleteness: 0.894736842105263 \t Graph edges: 409291 \t Size of lcc: 0.8264915161466886\n",
      "\tCompleteness: 0.8421052631578947 \t Graph edges: 385215 \t Size of lcc: 0.8238329814684494\n",
      "\tCompleteness: 0.7894736842105263 \t Graph edges: 361139 \t Size of lcc: 0.8210180623973727\n",
      "\tCompleteness: 0.7368421052631579 \t Graph edges: 337063 \t Size of lcc: 0.8168738759871765\n",
      "\tCompleteness: 0.6842105263157894 \t Graph edges: 312987 \t Size of lcc: 0.8118695754163735\n",
      "\tCompleteness: 0.631578947368421 \t Graph edges: 288911 \t Size of lcc: 0.8063179294706389\n",
      "\tCompleteness: 0.5789473684210527 \t Graph edges: 264835 \t Size of lcc: 0.8006098991320666\n",
      "\tCompleteness: 0.5263157894736842 \t Graph edges: 240759 \t Size of lcc: 0.7934162170615373\n",
      "\tCompleteness: 0.47368421052631576 \t Graph edges: 216683 \t Size of lcc: 0.7848932676518884\n",
      "\tCompleteness: 0.42105263157894735 \t Graph edges: 192607 \t Size of lcc: 0.7717569786535303\n",
      "\tCompleteness: 0.3684210526315789 \t Graph edges: 168531 \t Size of lcc: 0.75877707404801\n",
      "\tCompleteness: 0.3157894736842105 \t Graph edges: 144455 \t Size of lcc: 0.7409492532645242\n",
      "\tCompleteness: 0.2631578947368421 \t Graph edges: 120379 \t Size of lcc: 0.7196027836421925\n",
      "\tCompleteness: 0.21052631578947367 \t Graph edges: 96303 \t Size of lcc: 0.6930956290562202\n",
      "\tCompleteness: 0.15789473684210525 \t Graph edges: 72227 \t Size of lcc: 0.6506372664008132\n",
      "\tCompleteness: 0.10526315789473684 \t Graph edges: 48151 \t Size of lcc: 0.5957463445148174\n",
      "\tCompleteness: 0.05263157894736842 \t Graph edges: 24075 \t Size of lcc: 0.49839705997341466\n",
      "\tCompleteness: 0.0 \t Graph edges: 0 \t Size of lcc: 7.81921964187974e-05\n",
      "\tCompleteness: 1.0 \t Graph edges: 457443 \t Size of lcc: 0.8315740089139104\n",
      "\tCompleteness: 0.9473684210526315 \t Graph edges: 433367 \t Size of lcc: 0.8292282430213465\n",
      "\tCompleteness: 0.894736842105263 \t Graph edges: 409291 \t Size of lcc: 0.824771287825475\n",
      "\tCompleteness: 0.8421052631578947 \t Graph edges: 385215 \t Size of lcc: 0.8221909453436547\n",
      "\tCompleteness: 0.7894736842105263 \t Graph edges: 361139 \t Size of lcc: 0.8188286808976464\n",
      "\tCompleteness: 0.7368421052631579 \t Graph edges: 337063 \t Size of lcc: 0.8149190710767066\n",
      "\tCompleteness: 0.6842105263157894 \t Graph edges: 312987 \t Size of lcc: 0.8107748846665103\n",
      "\tCompleteness: 0.631578947368421 \t Graph edges: 288911 \t Size of lcc: 0.8061615450778012\n",
      "\tCompleteness: 0.5789473684210527 \t Graph edges: 264835 \t Size of lcc: 0.8009226679177418\n",
      "\tCompleteness: 0.5263157894736842 \t Graph edges: 240759 \t Size of lcc: 0.7940417546328876\n",
      "\tCompleteness: 0.47368421052631576 \t Graph edges: 216683 \t Size of lcc: 0.7840331534912816\n",
      "\tCompleteness: 0.42105263157894735 \t Graph edges: 192607 \t Size of lcc: 0.7740245523496755\n",
      "\tCompleteness: 0.3684210526315789 \t Graph edges: 168531 \t Size of lcc: 0.7619047619047619\n",
      "\tCompleteness: 0.3157894736842105 \t Graph edges: 144455 \t Size of lcc: 0.7423567128000625\n",
      "\tCompleteness: 0.2631578947368421 \t Graph edges: 120379 \t Size of lcc: 0.7210884353741497\n",
      "\tCompleteness: 0.21052631578947367 \t Graph edges: 96303 \t Size of lcc: 0.6963015091093909\n",
      "\tCompleteness: 0.15789473684210525 \t Graph edges: 72227 \t Size of lcc: 0.6572054108999922\n",
      "\tCompleteness: 0.10526315789473684 \t Graph edges: 48151 \t Size of lcc: 0.5987958401751505\n",
      "\tCompleteness: 0.05263157894736842 \t Graph edges: 24075 \t Size of lcc: 0.49370552818828684\n",
      "\tCompleteness: 0.0 \t Graph edges: 0 \t Size of lcc: 7.81921964187974e-05\n",
      "\tCompleteness: 1.0 \t Graph edges: 457443 \t Size of lcc: 0.8315740089139104\n",
      "\tCompleteness: 0.9473684210526315 \t Graph edges: 433367 \t Size of lcc: 0.8286808976464148\n",
      "\tCompleteness: 0.894736842105263 \t Graph edges: 409291 \t Size of lcc: 0.8250058644147314\n",
      "\tCompleteness: 0.8421052631578947 \t Graph edges: 385215 \t Size of lcc: 0.8219563687543983\n",
      "\tCompleteness: 0.7894736842105263 \t Graph edges: 361139 \t Size of lcc: 0.8184377199155525\n",
      "\tCompleteness: 0.7368421052631579 \t Graph edges: 337063 \t Size of lcc: 0.8149972632731254\n",
      "\tCompleteness: 0.6842105263157894 \t Graph edges: 312987 \t Size of lcc: 0.8114786144342795\n",
      "\tCompleteness: 0.631578947368421 \t Graph edges: 288911 \t Size of lcc: 0.8067088904527329\n",
      "\tCompleteness: 0.5789473684210527 \t Graph edges: 264835 \t Size of lcc: 0.8003753225428102\n",
      "\tCompleteness: 0.5263157894736842 \t Graph edges: 240759 \t Size of lcc: 0.7930252560794433\n",
      "\tCompleteness: 0.47368421052631576 \t Graph edges: 216683 \t Size of lcc: 0.784267730080538\n",
      "\tCompleteness: 0.42105263157894735 \t Graph edges: 192607 \t Size of lcc: 0.7728516694033936\n",
      "\tCompleteness: 0.3684210526315789 \t Graph edges: 168531 \t Size of lcc: 0.759949956994292\n",
      "\tCompleteness: 0.3157894736842105 \t Graph edges: 144455 \t Size of lcc: 0.7447024786926265\n",
      "\tCompleteness: 0.2631578947368421 \t Graph edges: 120379 \t Size of lcc: 0.7233560090702947\n",
      "\tCompleteness: 0.21052631578947367 \t Graph edges: 96303 \t Size of lcc: 0.6929392446633826\n",
      "\tCompleteness: 0.15789473684210525 \t Graph edges: 72227 \t Size of lcc: 0.6485260770975056\n",
      "\tCompleteness: 0.10526315789473684 \t Graph edges: 48151 \t Size of lcc: 0.595511767925561\n",
      "\tCompleteness: 0.05263157894736842 \t Graph edges: 24075 \t Size of lcc: 0.49229806865274844\n",
      "\tCompleteness: 0.0 \t Graph edges: 0 \t Size of lcc: 7.81921964187974e-05\n",
      "\tCompleteness: 1.0 \t Graph edges: 457443 \t Size of lcc: 0.8315740089139104\n",
      "\tCompleteness: 0.9473684210526315 \t Graph edges: 433367 \t Size of lcc: 0.8299319727891157\n",
      "\tCompleteness: 0.894736842105263 \t Graph edges: 409291 \t Size of lcc: 0.8278207834858081\n",
      "\tCompleteness: 0.8421052631578947 \t Graph edges: 385215 \t Size of lcc: 0.8250840566111503\n",
      "\tCompleteness: 0.7894736842105263 \t Graph edges: 361139 \t Size of lcc: 0.8210180623973727\n",
      "\tCompleteness: 0.7368421052631579 \t Graph edges: 337063 \t Size of lcc: 0.8167174915943389\n",
      "\tCompleteness: 0.6842105263157894 \t Graph edges: 312987 \t Size of lcc: 0.8125733051841426\n",
      "\tCompleteness: 0.631578947368421 \t Graph edges: 288911 \t Size of lcc: 0.8078817733990148\n",
      "\tCompleteness: 0.5789473684210527 \t Graph edges: 264835 \t Size of lcc: 0.8017045898819298\n",
      "\tCompleteness: 0.5263157894736842 \t Graph edges: 240759 \t Size of lcc: 0.7931816404722809\n",
      "\tCompleteness: 0.47368421052631576 \t Graph edges: 216683 \t Size of lcc: 0.7845804988662132\n",
      "\tCompleteness: 0.42105263157894735 \t Graph edges: 192607 \t Size of lcc: 0.7726170928141372\n",
      "\tCompleteness: 0.3684210526315789 \t Graph edges: 168531 \t Size of lcc: 0.7597153804050356\n",
      "\tCompleteness: 0.3157894736842105 \t Graph edges: 144455 \t Size of lcc: 0.7422785206036437\n",
      "\tCompleteness: 0.2631578947368421 \t Graph edges: 120379 \t Size of lcc: 0.7215575885526625\n",
      "\tCompleteness: 0.21052631578947367 \t Graph edges: 96303 \t Size of lcc: 0.6928610524669638\n",
      "\tCompleteness: 0.15789473684210525 \t Graph edges: 72227 \t Size of lcc: 0.648369692704668\n",
      "\tCompleteness: 0.10526315789473684 \t Graph edges: 48151 \t Size of lcc: 0.5961373054969115\n",
      "\tCompleteness: 0.05263157894736842 \t Graph edges: 24075 \t Size of lcc: 0.4977715224020643\n",
      "\tCompleteness: 0.0 \t Graph edges: 0 \t Size of lcc: 7.81921964187974e-05\n",
      "\tCompleteness: 1.0 \t Graph edges: 466752 \t Size of lcc: 0.6816244284274975\n",
      "\tCompleteness: 0.9473684210526315 \t Graph edges: 442186 \t Size of lcc: 0.6757343253506937\n",
      "\tCompleteness: 0.894736842105263 \t Graph edges: 417620 \t Size of lcc: 0.6744168022940401\n",
      "\tCompleteness: 0.8421052631578947 \t Graph edges: 393054 \t Size of lcc: 0.6714717507556383\n",
      "\tCompleteness: 0.7894736842105263 \t Graph edges: 368488 \t Size of lcc: 0.6688367046423312\n",
      "\tCompleteness: 0.7368421052631579 \t Graph edges: 343922 \t Size of lcc: 0.6662016585290242\n",
      "\tCompleteness: 0.6842105263157894 \t Graph edges: 319356 \t Size of lcc: 0.662481593427885\n",
      "\tCompleteness: 0.631578947368421 \t Graph edges: 294790 \t Size of lcc: 0.6589165310392932\n",
      "\tCompleteness: 0.5789473684210527 \t Graph edges: 270224 \t Size of lcc: 0.6552739672944277\n",
      "\tCompleteness: 0.5263157894736842 \t Graph edges: 245658 \t Size of lcc: 0.651941408974657\n",
      "\tCompleteness: 0.47368421052631576 \t Graph edges: 221093 \t Size of lcc: 0.6465163140354956\n",
      "\tCompleteness: 0.42105263157894735 \t Graph edges: 196527 \t Size of lcc: 0.6403162055335968\n",
      "\tCompleteness: 0.3684210526315789 \t Graph edges: 171961 \t Size of lcc: 0.6320235604123072\n",
      "\tCompleteness: 0.3157894736842105 \t Graph edges: 147395 \t Size of lcc: 0.6199333488336046\n",
      "\tCompleteness: 0.2631578947368421 \t Graph edges: 122829 \t Size of lcc: 0.6079981399674494\n",
      "\tCompleteness: 0.21052631578947367 \t Graph edges: 98263 \t Size of lcc: 0.5935828877005348\n",
      "\tCompleteness: 0.15789473684210525 \t Graph edges: 73697 \t Size of lcc: 0.5659924048670851\n",
      "\tCompleteness: 0.10526315789473684 \t Graph edges: 49131 \t Size of lcc: 0.5333643338758428\n",
      "\tCompleteness: 0.05263157894736842 \t Graph edges: 24565 \t Size of lcc: 0.45966054405952106\n",
      "\tCompleteness: 0.0 \t Graph edges: 0 \t Size of lcc: 7.750135627373479e-05\n",
      "\tCompleteness: 1.0 \t Graph edges: 466752 \t Size of lcc: 0.6816244284274975\n",
      "\tCompleteness: 0.9473684210526315 \t Graph edges: 442186 \t Size of lcc: 0.6794543904518329\n",
      "\tCompleteness: 0.894736842105263 \t Graph edges: 417620 \t Size of lcc: 0.6773618538324421\n",
      "\tCompleteness: 0.8421052631578947 \t Graph edges: 393054 \t Size of lcc: 0.675346818569325\n",
      "\tCompleteness: 0.7894736842105263 \t Graph edges: 368488 \t Size of lcc: 0.6730992792373867\n",
      "\tCompleteness: 0.7368421052631579 \t Graph edges: 343922 \t Size of lcc: 0.6705417344803534\n",
      "\tCompleteness: 0.6842105263157894 \t Graph edges: 319356 \t Size of lcc: 0.6676741842982252\n",
      "\tCompleteness: 0.631578947368421 \t Graph edges: 294790 \t Size of lcc: 0.6641091219096334\n",
      "\tCompleteness: 0.5789473684210527 \t Graph edges: 270224 \t Size of lcc: 0.6599240486708517\n",
      "\tCompleteness: 0.5263157894736842 \t Graph edges: 245658 \t Size of lcc: 0.6549639618693327\n",
      "\tCompleteness: 0.47368421052631576 \t Graph edges: 221093 \t Size of lcc: 0.6498488723552662\n",
      "\tCompleteness: 0.42105263157894735 \t Graph edges: 196527 \t Size of lcc: 0.6441137719910098\n",
      "\tCompleteness: 0.3684210526315789 \t Graph edges: 171961 \t Size of lcc: 0.6335735875377819\n",
      "\tCompleteness: 0.3157894736842105 \t Graph edges: 147395 \t Size of lcc: 0.6186933271332248\n",
      "\tCompleteness: 0.2631578947368421 \t Graph edges: 122829 \t Size of lcc: 0.6078431372549019\n",
      "\tCompleteness: 0.21052631578947367 \t Graph edges: 98263 \t Size of lcc: 0.5908703402309541\n",
      "\tCompleteness: 0.15789473684210525 \t Graph edges: 73697 \t Size of lcc: 0.5676199333488336\n",
      "\tCompleteness: 0.10526315789473684 \t Graph edges: 49131 \t Size of lcc: 0.5303417809811671\n",
      "\tCompleteness: 0.05263157894736842 \t Graph edges: 24565 \t Size of lcc: 0.4578005115089514\n",
      "\tCompleteness: 0.0 \t Graph edges: 0 \t Size of lcc: 7.750135627373479e-05\n",
      "\tCompleteness: 1.0 \t Graph edges: 466752 \t Size of lcc: 0.6816244284274975\n",
      "\tCompleteness: 0.9473684210526315 \t Graph edges: 442186 \t Size of lcc: 0.6792218863830117\n",
      "\tCompleteness: 0.894736842105263 \t Graph edges: 417620 \t Size of lcc: 0.6772068511198946\n",
      "\tCompleteness: 0.8421052631578947 \t Graph edges: 393054 \t Size of lcc: 0.6708517399054483\n",
      "\tCompleteness: 0.7894736842105263 \t Graph edges: 368488 \t Size of lcc: 0.6693017127799736\n",
      "\tCompleteness: 0.7368421052631579 \t Graph edges: 343922 \t Size of lcc: 0.6658916531039293\n",
      "\tCompleteness: 0.6842105263157894 \t Graph edges: 319356 \t Size of lcc: 0.6637216151282648\n",
      "\tCompleteness: 0.631578947368421 \t Graph edges: 294790 \t Size of lcc: 0.659846547314578\n",
      "\tCompleteness: 0.5789473684210527 \t Graph edges: 270224 \t Size of lcc: 0.65635898628226\n",
      "\tCompleteness: 0.5263157894736842 \t Graph edges: 245658 \t Size of lcc: 0.6517864062621096\n",
      "\tCompleteness: 0.47368421052631576 \t Graph edges: 221093 \t Size of lcc: 0.6465163140354956\n",
      "\tCompleteness: 0.42105263157894735 \t Graph edges: 196527 \t Size of lcc: 0.6393086879020383\n",
      "\tCompleteness: 0.3684210526315789 \t Graph edges: 171961 \t Size of lcc: 0.6338835929628769\n",
      "\tCompleteness: 0.3157894736842105 \t Graph edges: 147395 \t Size of lcc: 0.6248159342788498\n",
      "\tCompleteness: 0.2631578947368421 \t Graph edges: 122829 \t Size of lcc: 0.6142757498256219\n",
      "\tCompleteness: 0.21052631578947367 \t Graph edges: 98263 \t Size of lcc: 0.5993954894210649\n",
      "\tCompleteness: 0.15789473684210525 \t Graph edges: 73697 \t Size of lcc: 0.5742075486321011\n",
      "\tCompleteness: 0.10526315789473684 \t Graph edges: 49131 \t Size of lcc: 0.5382469193210881\n",
      "\tCompleteness: 0.05263157894736842 \t Graph edges: 24565 \t Size of lcc: 0.4577230101526777\n",
      "\tCompleteness: 0.0 \t Graph edges: 0 \t Size of lcc: 7.750135627373479e-05\n",
      "\tCompleteness: 1.0 \t Graph edges: 466752 \t Size of lcc: 0.6816244284274975\n",
      "\tCompleteness: 0.9473684210526315 \t Graph edges: 442186 \t Size of lcc: 0.6798418972332015\n",
      "\tCompleteness: 0.894736842105263 \t Graph edges: 417620 \t Size of lcc: 0.6780593660389057\n",
      "\tCompleteness: 0.8421052631578947 \t Graph edges: 393054 \t Size of lcc: 0.6757343253506937\n",
      "\tCompleteness: 0.7894736842105263 \t Graph edges: 368488 \t Size of lcc: 0.673021777881113\n",
      "\tCompleteness: 0.7368421052631579 \t Graph edges: 343922 \t Size of lcc: 0.670929241261722\n",
      "\tCompleteness: 0.6842105263157894 \t Graph edges: 319356 \t Size of lcc: 0.6686817019297838\n",
      "\tCompleteness: 0.631578947368421 \t Graph edges: 294790 \t Size of lcc: 0.6639541191970859\n",
      "\tCompleteness: 0.5789473684210527 \t Graph edges: 270224 \t Size of lcc: 0.6603115554522204\n",
      "\tCompleteness: 0.5263157894736842 \t Graph edges: 245658 \t Size of lcc: 0.6558164767883438\n",
      "\tCompleteness: 0.47368421052631576 \t Graph edges: 221093 \t Size of lcc: 0.6493838642176238\n",
      "\tCompleteness: 0.42105263157894735 \t Graph edges: 196527 \t Size of lcc: 0.6444237774161048\n",
      "\tCompleteness: 0.3684210526315789 \t Graph edges: 171961 \t Size of lcc: 0.6371386499263737\n",
      "\tCompleteness: 0.3157894736842105 \t Graph edges: 147395 \t Size of lcc: 0.6265984654731458\n",
      "\tCompleteness: 0.2631578947368421 \t Graph edges: 122829 \t Size of lcc: 0.6150507633883593\n",
      "\tCompleteness: 0.21052631578947367 \t Graph edges: 98263 \t Size of lcc: 0.5989304812834224\n",
      "\tCompleteness: 0.15789473684210525 \t Graph edges: 73697 \t Size of lcc: 0.5767650933891343\n",
      "\tCompleteness: 0.10526315789473684 \t Graph edges: 49131 \t Size of lcc: 0.5377044098271719\n",
      "\tCompleteness: 0.05263157894736842 \t Graph edges: 24565 \t Size of lcc: 0.4605130589785321\n",
      "\tCompleteness: 0.0 \t Graph edges: 0 \t Size of lcc: 7.750135627373479e-05\n",
      "\tCompleteness: 1.0 \t Graph edges: 466752 \t Size of lcc: 0.6816244284274975\n",
      "\tCompleteness: 0.9473684210526315 \t Graph edges: 442186 \t Size of lcc: 0.6800744013020228\n",
      "\tCompleteness: 0.894736842105263 \t Graph edges: 417620 \t Size of lcc: 0.677981864682632\n",
      "\tCompleteness: 0.8421052631578947 \t Graph edges: 393054 \t Size of lcc: 0.6761218321320623\n",
      "\tCompleteness: 0.7894736842105263 \t Graph edges: 368488 \t Size of lcc: 0.674184298225219\n",
      "\tCompleteness: 0.7368421052631579 \t Graph edges: 343922 \t Size of lcc: 0.6710842439742696\n",
      "\tCompleteness: 0.6842105263157894 \t Graph edges: 319356 \t Size of lcc: 0.6678291870107727\n",
      "\tCompleteness: 0.631578947368421 \t Graph edges: 294790 \t Size of lcc: 0.6643416259784546\n",
      "\tCompleteness: 0.5789473684210527 \t Graph edges: 270224 \t Size of lcc: 0.6610865690149578\n",
      "\tCompleteness: 0.5263157894736842 \t Graph edges: 245658 \t Size of lcc: 0.65573897543207\n",
      "\tCompleteness: 0.47368421052631576 \t Graph edges: 221093 \t Size of lcc: 0.6471363248856855\n",
      "\tCompleteness: 0.42105263157894735 \t Graph edges: 196527 \t Size of lcc: 0.6403162055335968\n",
      "\tCompleteness: 0.3684210526315789 \t Graph edges: 171961 \t Size of lcc: 0.6302410292180113\n",
      "\tCompleteness: 0.3157894736842105 \t Graph edges: 147395 \t Size of lcc: 0.6212508718902581\n",
      "\tCompleteness: 0.2631578947368421 \t Graph edges: 122829 \t Size of lcc: 0.6092381616678292\n",
      "\tCompleteness: 0.21052631578947367 \t Graph edges: 98263 \t Size of lcc: 0.5945904053320933\n",
      "\tCompleteness: 0.15789473684210525 \t Graph edges: 73697 \t Size of lcc: 0.5715725025187941\n",
      "\tCompleteness: 0.10526315789473684 \t Graph edges: 49131 \t Size of lcc: 0.5362318840579711\n",
      "\tCompleteness: 0.05263157894736842 \t Graph edges: 24565 \t Size of lcc: 0.4651631403549562\n",
      "\tCompleteness: 0.0 \t Graph edges: 0 \t Size of lcc: 7.750135627373479e-05\n",
      "\tCompleteness: 1.0 \t Graph edges: 679747 \t Size of lcc: 0.7307980049875312\n",
      "\tCompleteness: 0.9473684210526315 \t Graph edges: 643970 \t Size of lcc: 0.7284912718204489\n",
      "\tCompleteness: 0.894736842105263 \t Graph edges: 608194 \t Size of lcc: 0.726496259351621\n",
      "\tCompleteness: 0.8421052631578947 \t Graph edges: 572418 \t Size of lcc: 0.7248129675810474\n",
      "\tCompleteness: 0.7894736842105263 \t Graph edges: 536642 \t Size of lcc: 0.7189526184538654\n",
      "\tCompleteness: 0.7368421052631579 \t Graph edges: 500866 \t Size of lcc: 0.7154613466334164\n",
      "\tCompleteness: 0.6842105263157894 \t Graph edges: 465090 \t Size of lcc: 0.712219451371571\n",
      "\tCompleteness: 0.631578947368421 \t Graph edges: 429313 \t Size of lcc: 0.7086658354114713\n",
      "\tCompleteness: 0.5789473684210527 \t Graph edges: 393537 \t Size of lcc: 0.7041770573566085\n",
      "\tCompleteness: 0.5263157894736842 \t Graph edges: 357761 \t Size of lcc: 0.6998753117206983\n",
      "\tCompleteness: 0.47368421052631576 \t Graph edges: 321985 \t Size of lcc: 0.6947007481296759\n",
      "\tCompleteness: 0.42105263157894735 \t Graph edges: 286209 \t Size of lcc: 0.6864089775561097\n",
      "\tCompleteness: 0.3684210526315789 \t Graph edges: 250433 \t Size of lcc: 0.6778678304239402\n",
      "\tCompleteness: 0.3157894736842105 \t Graph edges: 214656 \t Size of lcc: 0.6673940149625935\n",
      "\tCompleteness: 0.2631578947368421 \t Graph edges: 178880 \t Size of lcc: 0.6539900249376559\n",
      "\tCompleteness: 0.21052631578947367 \t Graph edges: 143104 \t Size of lcc: 0.6354114713216957\n",
      "\tCompleteness: 0.15789473684210525 \t Graph edges: 107328 \t Size of lcc: 0.6071072319201996\n",
      "\tCompleteness: 0.10526315789473684 \t Graph edges: 71552 \t Size of lcc: 0.5637780548628429\n",
      "\tCompleteness: 0.05263157894736842 \t Graph edges: 35776 \t Size of lcc: 0.4551122194513716\n",
      "\tCompleteness: 0.0 \t Graph edges: 0 \t Size of lcc: 6.234413965087281e-05\n",
      "\tCompleteness: 1.0 \t Graph edges: 679747 \t Size of lcc: 0.7307980049875312\n",
      "\tCompleteness: 0.9473684210526315 \t Graph edges: 643970 \t Size of lcc: 0.7292394014962593\n",
      "\tCompleteness: 0.894736842105263 \t Graph edges: 608194 \t Size of lcc: 0.7272443890274314\n",
      "\tCompleteness: 0.8421052631578947 \t Graph edges: 572418 \t Size of lcc: 0.7237531172069825\n",
      "\tCompleteness: 0.7894736842105263 \t Graph edges: 536642 \t Size of lcc: 0.721072319201995\n",
      "\tCompleteness: 0.7368421052631579 \t Graph edges: 500866 \t Size of lcc: 0.7188279301745636\n",
      "\tCompleteness: 0.6842105263157894 \t Graph edges: 465090 \t Size of lcc: 0.7157730673316708\n",
      "\tCompleteness: 0.631578947368421 \t Graph edges: 429313 \t Size of lcc: 0.7125311720698254\n",
      "\tCompleteness: 0.5789473684210527 \t Graph edges: 393537 \t Size of lcc: 0.7059850374064838\n",
      "\tCompleteness: 0.5263157894736842 \t Graph edges: 357761 \t Size of lcc: 0.701496259351621\n",
      "\tCompleteness: 0.47368421052631576 \t Graph edges: 321985 \t Size of lcc: 0.6967581047381546\n",
      "\tCompleteness: 0.42105263157894735 \t Graph edges: 286209 \t Size of lcc: 0.6895261845386533\n",
      "\tCompleteness: 0.3684210526315789 \t Graph edges: 250433 \t Size of lcc: 0.6816708229426434\n",
      "\tCompleteness: 0.3157894736842105 \t Graph edges: 214656 \t Size of lcc: 0.6724438902743142\n",
      "\tCompleteness: 0.2631578947368421 \t Graph edges: 178880 \t Size of lcc: 0.6554239401496259\n",
      "\tCompleteness: 0.21052631578947367 \t Graph edges: 143104 \t Size of lcc: 0.6374688279301746\n",
      "\tCompleteness: 0.15789473684210525 \t Graph edges: 107328 \t Size of lcc: 0.6108478802992519\n",
      "\tCompleteness: 0.10526315789473684 \t Graph edges: 71552 \t Size of lcc: 0.566147132169576\n",
      "\tCompleteness: 0.05263157894736842 \t Graph edges: 35776 \t Size of lcc: 0.48067331670822944\n",
      "\tCompleteness: 0.0 \t Graph edges: 0 \t Size of lcc: 6.234413965087281e-05\n",
      "\tCompleteness: 1.0 \t Graph edges: 679747 \t Size of lcc: 0.7307980049875312\n",
      "\tCompleteness: 0.9473684210526315 \t Graph edges: 643970 \t Size of lcc: 0.7293017456359102\n",
      "\tCompleteness: 0.894736842105263 \t Graph edges: 608194 \t Size of lcc: 0.7248129675810474\n",
      "\tCompleteness: 0.8421052631578947 \t Graph edges: 572418 \t Size of lcc: 0.7233167082294264\n",
      "\tCompleteness: 0.7894736842105263 \t Graph edges: 536642 \t Size of lcc: 0.7213216957605985\n",
      "\tCompleteness: 0.7368421052631579 \t Graph edges: 500866 \t Size of lcc: 0.7187655860349127\n",
      "\tCompleteness: 0.6842105263157894 \t Graph edges: 465090 \t Size of lcc: 0.7137157107231921\n",
      "\tCompleteness: 0.631578947368421 \t Graph edges: 429313 \t Size of lcc: 0.7099127182044888\n",
      "\tCompleteness: 0.5789473684210527 \t Graph edges: 393537 \t Size of lcc: 0.7056109725685785\n",
      "\tCompleteness: 0.5263157894736842 \t Graph edges: 357761 \t Size of lcc: 0.7011845386533666\n",
      "\tCompleteness: 0.47368421052631576 \t Graph edges: 321985 \t Size of lcc: 0.6937655860349127\n",
      "\tCompleteness: 0.42105263157894735 \t Graph edges: 286209 \t Size of lcc: 0.6865960099750623\n",
      "\tCompleteness: 0.3684210526315789 \t Graph edges: 250433 \t Size of lcc: 0.6795511221945137\n",
      "\tCompleteness: 0.3157894736842105 \t Graph edges: 214656 \t Size of lcc: 0.6677057356608479\n",
      "\tCompleteness: 0.2631578947368421 \t Graph edges: 178880 \t Size of lcc: 0.6555486284289277\n",
      "\tCompleteness: 0.21052631578947367 \t Graph edges: 143104 \t Size of lcc: 0.6369077306733167\n",
      "\tCompleteness: 0.15789473684210525 \t Graph edges: 107328 \t Size of lcc: 0.6076059850374065\n",
      "\tCompleteness: 0.10526315789473684 \t Graph edges: 71552 \t Size of lcc: 0.5640897755610973\n",
      "\tCompleteness: 0.05263157894736842 \t Graph edges: 35776 \t Size of lcc: 0.4834788029925187\n",
      "\tCompleteness: 0.0 \t Graph edges: 0 \t Size of lcc: 6.234413965087281e-05\n",
      "\tCompleteness: 1.0 \t Graph edges: 679747 \t Size of lcc: 0.7307980049875312\n",
      "\tCompleteness: 0.9473684210526315 \t Graph edges: 643970 \t Size of lcc: 0.7296758104738155\n",
      "\tCompleteness: 0.894736842105263 \t Graph edges: 608194 \t Size of lcc: 0.7276807980049875\n",
      "\tCompleteness: 0.8421052631578947 \t Graph edges: 572418 \t Size of lcc: 0.7260598503740648\n",
      "\tCompleteness: 0.7894736842105263 \t Graph edges: 536642 \t Size of lcc: 0.7241271820448878\n",
      "\tCompleteness: 0.7368421052631579 \t Graph edges: 500866 \t Size of lcc: 0.7220074812967581\n",
      "\tCompleteness: 0.6842105263157894 \t Graph edges: 465090 \t Size of lcc: 0.7193890274314214\n",
      "\tCompleteness: 0.631578947368421 \t Graph edges: 429313 \t Size of lcc: 0.7166458852867831\n",
      "\tCompleteness: 0.5789473684210527 \t Graph edges: 393537 \t Size of lcc: 0.7118453865336658\n",
      "\tCompleteness: 0.5263157894736842 \t Graph edges: 357761 \t Size of lcc: 0.7074812967581048\n",
      "\tCompleteness: 0.47368421052631576 \t Graph edges: 321985 \t Size of lcc: 0.6979426433915212\n",
      "\tCompleteness: 0.42105263157894735 \t Graph edges: 286209 \t Size of lcc: 0.6902743142144638\n",
      "\tCompleteness: 0.3684210526315789 \t Graph edges: 250433 \t Size of lcc: 0.6836034912718204\n",
      "\tCompleteness: 0.3157894736842105 \t Graph edges: 214656 \t Size of lcc: 0.6733790523690774\n",
      "\tCompleteness: 0.2631578947368421 \t Graph edges: 178880 \t Size of lcc: 0.6599750623441396\n",
      "\tCompleteness: 0.21052631578947367 \t Graph edges: 143104 \t Size of lcc: 0.6384039900249376\n",
      "\tCompleteness: 0.15789473684210525 \t Graph edges: 107328 \t Size of lcc: 0.6089152119700748\n",
      "\tCompleteness: 0.10526315789473684 \t Graph edges: 71552 \t Size of lcc: 0.566708229426434\n",
      "\tCompleteness: 0.05263157894736842 \t Graph edges: 35776 \t Size of lcc: 0.4830423940149626\n",
      "\tCompleteness: 0.0 \t Graph edges: 0 \t Size of lcc: 6.234413965087281e-05\n",
      "\tCompleteness: 1.0 \t Graph edges: 679747 \t Size of lcc: 0.7307980049875312\n",
      "\tCompleteness: 0.9473684210526315 \t Graph edges: 643970 \t Size of lcc: 0.7299251870324189\n",
      "\tCompleteness: 0.894736842105263 \t Graph edges: 608194 \t Size of lcc: 0.7275561097256857\n",
      "\tCompleteness: 0.8421052631578947 \t Graph edges: 572418 \t Size of lcc: 0.7243142144638404\n",
      "\tCompleteness: 0.7894736842105263 \t Graph edges: 536642 \t Size of lcc: 0.7221321695760599\n",
      "\tCompleteness: 0.7368421052631579 \t Graph edges: 500866 \t Size of lcc: 0.7206982543640897\n",
      "\tCompleteness: 0.6842105263157894 \t Graph edges: 465090 \t Size of lcc: 0.7179551122194514\n",
      "\tCompleteness: 0.631578947368421 \t Graph edges: 429313 \t Size of lcc: 0.7135910224438903\n",
      "\tCompleteness: 0.5789473684210527 \t Graph edges: 393537 \t Size of lcc: 0.7087281795511222\n",
      "\tCompleteness: 0.5263157894736842 \t Graph edges: 357761 \t Size of lcc: 0.7047381546134663\n",
      "\tCompleteness: 0.47368421052631576 \t Graph edges: 321985 \t Size of lcc: 0.6996882793017456\n",
      "\tCompleteness: 0.42105263157894735 \t Graph edges: 286209 \t Size of lcc: 0.6929551122194514\n",
      "\tCompleteness: 0.3684210526315789 \t Graph edges: 250433 \t Size of lcc: 0.6824189526184539\n",
      "\tCompleteness: 0.3157894736842105 \t Graph edges: 214656 \t Size of lcc: 0.6708852867830424\n",
      "\tCompleteness: 0.2631578947368421 \t Graph edges: 178880 \t Size of lcc: 0.6584164588528678\n",
      "\tCompleteness: 0.21052631578947367 \t Graph edges: 143104 \t Size of lcc: 0.638279301745636\n",
      "\tCompleteness: 0.15789473684210525 \t Graph edges: 107328 \t Size of lcc: 0.6088528678304239\n",
      "\tCompleteness: 0.10526315789473684 \t Graph edges: 71552 \t Size of lcc: 0.5650872817955113\n",
      "\tCompleteness: 0.05263157894736842 \t Graph edges: 35776 \t Size of lcc: 0.4809850374064838\n",
      "\tCompleteness: 0.0 \t Graph edges: 0 \t Size of lcc: 6.234413965087281e-05\n"
     ]
    },
    {
     "data": {
      "text/plain": "    index  Completeness  Relative Size        level\n0       0      1.000000       0.831574        genes\n1       1      0.947368       0.826335        genes\n2       2      0.894737       0.823520        genes\n3       3      0.842105       0.819923        genes\n4       4      0.789474       0.816561        genes\n..    ...           ...            ...          ...\n95     95      0.210526       0.638279  proteoforms\n96     96      0.157895       0.608853  proteoforms\n97     97      0.105263       0.565087  proteoforms\n98     98      0.052632       0.480985  proteoforms\n99     99      0.000000       0.000062  proteoforms\n\n[300 rows x 4 columns]",
      "text/html": "<div>\n<style scoped>\n    .dataframe tbody tr th:only-of-type {\n        vertical-align: middle;\n    }\n\n    .dataframe tbody tr th {\n        vertical-align: top;\n    }\n\n    .dataframe thead th {\n        text-align: right;\n    }\n</style>\n<table border=\"1\" class=\"dataframe\">\n  <thead>\n    <tr style=\"text-align: right;\">\n      <th></th>\n      <th>index</th>\n      <th>Completeness</th>\n      <th>Relative Size</th>\n      <th>level</th>\n    </tr>\n  </thead>\n  <tbody>\n    <tr>\n      <th>0</th>\n      <td>0</td>\n      <td>1.000000</td>\n      <td>0.831574</td>\n      <td>genes</td>\n    </tr>\n    <tr>\n      <th>1</th>\n      <td>1</td>\n      <td>0.947368</td>\n      <td>0.826335</td>\n      <td>genes</td>\n    </tr>\n    <tr>\n      <th>2</th>\n      <td>2</td>\n      <td>0.894737</td>\n      <td>0.823520</td>\n      <td>genes</td>\n    </tr>\n    <tr>\n      <th>3</th>\n      <td>3</td>\n      <td>0.842105</td>\n      <td>0.819923</td>\n      <td>genes</td>\n    </tr>\n    <tr>\n      <th>4</th>\n      <td>4</td>\n      <td>0.789474</td>\n      <td>0.816561</td>\n      <td>genes</td>\n    </tr>\n    <tr>\n      <th>...</th>\n      <td>...</td>\n      <td>...</td>\n      <td>...</td>\n      <td>...</td>\n    </tr>\n    <tr>\n      <th>95</th>\n      <td>95</td>\n      <td>0.210526</td>\n      <td>0.638279</td>\n      <td>proteoforms</td>\n    </tr>\n    <tr>\n      <th>96</th>\n      <td>96</td>\n      <td>0.157895</td>\n      <td>0.608853</td>\n      <td>proteoforms</td>\n    </tr>\n    <tr>\n      <th>97</th>\n      <td>97</td>\n      <td>0.105263</td>\n      <td>0.565087</td>\n      <td>proteoforms</td>\n    </tr>\n    <tr>\n      <th>98</th>\n      <td>98</td>\n      <td>0.052632</td>\n      <td>0.480985</td>\n      <td>proteoforms</td>\n    </tr>\n    <tr>\n      <th>99</th>\n      <td>99</td>\n      <td>0.000000</td>\n      <td>0.000062</td>\n      <td>proteoforms</td>\n    </tr>\n  </tbody>\n</table>\n<p>300 rows × 4 columns</p>\n</div>"
     },
     "execution_count": 4,
     "metadata": {},
     "output_type": "execute_result"
    }
   ],
   "source": [
    "num_completeness_points = 20\n",
    "num_replicates = 5\n",
    "\n",
    "P = getCompletenessValues(num_completeness_points)\n",
    "samples = {level: sampleWithLinkPercolation(P, graphs[level], num_replicates) for level in LEVELS}\n",
    "for level in LEVELS:\n",
    "    samples[level]['level'] = list(repeat(level, num_replicates * num_completeness_points))\n",
    "#    print(level)\n",
    "#    print(samples[level])\n",
    "samples = pd.concat([samples[level] for level in LEVELS])\n",
    "samples"
   ],
   "metadata": {
    "collapsed": false,
    "pycharm": {
     "name": "#%%\n"
    }
   }
  },
  {
   "cell_type": "markdown",
   "source": [
    "### Plot link percolation curves at 3 granularity levels"
   ],
   "metadata": {
    "collapsed": false,
    "pycharm": {
     "name": "#%% md\n"
    }
   }
  },
  {
   "cell_type": "code",
   "execution_count": 5,
   "outputs": [
    {
     "data": {
      "text/plain": "<Figure size 432x288 with 1 Axes>",
      "image/png": "[encoded data removed]"
     },
     "metadata": {
      "needs_background": "light"
     },
     "output_type": "display_data"
    }
   ],
   "source": [
    "groups = samples.groupby('level')\n",
    "\n",
    "for name, group in groups:\n",
    "    plt.plot(group['Completeness'], group['Relative Size'], 'o', label=name)\n",
    "plt.legend()\n",
    "plt.show()"
   ],
   "metadata": {
    "collapsed": false,
    "pycharm": {
     "name": "#%% Plot completeness vs relative size of the lcc\n"
    }
   }
  },
  {
   "cell_type": "code",
   "execution_count": null,
   "outputs": [],
   "source": [],
   "metadata": {
    "collapsed": false,
    "pycharm": {
     "name": "#%% Sample link percolation by relative step size\n"
    }
   }
  },
  {
   "cell_type": "code",
   "execution_count": null,
   "outputs": [],
   "source": [
    "\n",
    "# Edge percolation\n",
    "\n",
    "# TODO: Make scatter plot where each dot is a disease.\n",
    "#  Number of genes (x) VS Observed module size (y)\n",
    "# The observed module size is the number of vertices in the lcc of the disease module\n",
    "\n"
   ],
   "metadata": {
    "collapsed": false,
    "pycharm": {
     "name": "#%% Plot: Network completeness (x) VS Relative module size (y)\n"
    }
   }
  },
  {
   "cell_type": "code",
   "execution_count": null,
   "outputs": [],
   "source": [
    "\n"
   ],
   "metadata": {
    "collapsed": false,
    "pycharm": {
     "name": "#%%\n"
    }
   }
  }
 ],
 "metadata": {
  "kernelspec": {
   "display_name": "Python 3",
   "language": "python",
   "name": "python3"
  },
  "language_info": {
   "codemirror_mode": {
    "name": "ipython",
    "version": 2
   },
   "file_extension": ".py",
   "mimetype": "text/x-python",
   "name": "python",
   "nbconvert_exporter": "python",
   "pygments_lexer": "ipython2",
   "version": "2.7.6"
  },
  "pycharm": {
   "stem_cell": {
    "cell_type": "raw",
    "source": [
     "# This file is the starting point for the whole project.\n",
     "\"\"\"\n",
     " The goal of this project is to study the differences between protein and proteoform \n",
     " interaction networks for functional analysis.\n",
     "\n",
     "\"\"\"\n"
    ],
    "metadata": {
     "collapsed": false
    }
   }
  }
 },
 "nbformat": 4,
 "nbformat_minor": 0
}