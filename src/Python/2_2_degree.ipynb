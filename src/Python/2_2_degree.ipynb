{
 "cells": [
  {
   "cell_type": "markdown",
   "metadata": {
    "collapsed": false,
    "pycharm": {
     "name": "#%% md\n"
    }
   },
   "source": [
    "# Node Degree"
   ]
  },
  {
   "cell_type": "markdown",
   "metadata": {},
   "source": [
    "## Load dependencies"
   ]
  },
  {
   "cell_type": "code",
   "execution_count": 1,
   "metadata": {
    "collapsed": false,
    "pycharm": {
     "name": "#%% Set up configuration\n"
    }
   },
   "outputs": [
    {
     "name": "stdout",
     "output_type": "stream",
     "text": [
      "Initial working directory: C:\\git\\ProteoformNetworks\\src\\Python\n",
      "New working directory: c:\\git\\ProteoformNetworks\n"
     ]
    }
   ],
   "source": [
    "import pandas as pd\n",
    "import seaborn as sns\n",
    "import numpy as np\n",
    "import matplotlib.pyplot as plt\n",
    "from matplotlib import ticker as mticker\n",
    "from lib.dictionaries import read_dictionary_one_to_set\n",
    "import re\n",
    "import dataframe_image as dfi\n",
    "from statistics import median, mean\n",
    "import visualization.visualize_single_network as v\n",
    "import networkx as nx\n",
    "\n",
    "import config\n",
    "from config import LEVELS, INTERACTOMES_PATH, METHODS, DATA_REACTOME_PATH, PATHWAY_GRAPHS_PATH, genes, proteins, proteoforms, COLOR_GENES_FILL, COLOR_PROTEOFORMS_FILL\n",
    "from lib.networks import get_interactomes, get_combinations, get_combinations_with_pathways\n",
    "from lib.networks import get_multiindex, get_sizes, get_json_filename, create_pathway_interaction_network, read_graph, \\\n",
    "    get_pathways_with_multiple_proteoforms, get_increase_percentage, create_pathway_interaction_networks\n",
    "from lib.graph_database_access import get_pathways\n",
    "from queries import QUERY_GET_PATHWAYS_BY_PROTEIN\n",
    "from lib.graph_database_access import get_query_result\n",
    "\n",
    "%load_ext autoreload\n",
    "%autoreload 2\n",
    "%reload_ext autoreload\n",
    "\n",
    "config.set_root_wd()"
   ]
  },
  {
   "cell_type": "markdown",
   "metadata": {},
   "source": [
    "# Degree by Interactomes"
   ]
  },
  {
   "cell_type": "markdown",
   "metadata": {},
   "source": [
    "## Load interactomes"
   ]
  },
  {
   "cell_type": "code",
   "execution_count": null,
   "metadata": {},
   "outputs": [],
   "source": [
    "index = get_multiindex()\n",
    "interactomes_no_sm, interactomes_with_sm, interactomes_with_unique_sm = get_interactomes(DATA_REACTOME_PATH, INTERACTOMES_PATH)\n",
    "interactomes = [interactomes_no_sm[genes], interactomes_no_sm[proteoforms], interactomes_with_sm[genes], interactomes_with_sm[proteoforms], interactomes_with_unique_sm[genes], interactomes_with_unique_sm[proteoforms]]"
   ]
  },
  {
   "cell_type": "markdown",
   "metadata": {},
   "source": [
    "## Degree of all proteoforms and its genes"
   ]
  },
  {
   "cell_type": "code",
   "execution_count": null,
   "metadata": {},
   "outputs": [],
   "source": [
    "map_proteins_to_genes = read_dictionary_one_to_set(INTERACTOMES_PATH, \"mapping_proteins_to_genes.tsv\", col_indices=(0, 1))\n",
    "map_proteins_to_genes\n",
    "proteoform_degrees = [(node, val) for (node, val) in interactomes_no_sm[proteoforms].degree()]\n",
    "proteoform_degrees\n",
    "\n",
    "df_degrees_genes_vs_all_proteoforms = pd.DataFrame(proteoform_degrees, columns=[\"Proteoform\", \"Proteoform Degree\"])\n",
    "df_degrees_genes_vs_all_proteoforms[\"Gene\"] = df_degrees_genes_vs_all_proteoforms['Proteoform'].apply(lambda proteoform: list(map_proteins_to_genes[proteoform[:re.search(\"[;-]\", proteoform).start()]])[0])\n",
    "df_degrees_genes_vs_all_proteoforms[\"Gene Degree\"] = df_degrees_genes_vs_all_proteoforms[\"Gene\"].apply(lambda gene: interactomes_no_sm[genes].degree[gene])\n",
    "df_degrees_genes_vs_all_proteoforms[\"Annotations\"] = df_degrees_genes_vs_all_proteoforms['Proteoform'].apply(lambda proteoform: any((c in {':', '-'}) for c in str(proteoform)))\n",
    "df_degrees_genes_vs_all_proteoforms"
   ]
  },
  {
   "cell_type": "markdown",
   "metadata": {},
   "source": [
    "## Plot degree distribution in the interactomes"
   ]
  },
  {
   "cell_type": "code",
   "execution_count": null,
   "metadata": {
    "collapsed": false,
    "pycharm": {
     "name": "#%% Create dataframe with Degree values of Interactomes\n"
    }
   },
   "outputs": [],
   "source": [
    "degree_sequences = []\n",
    "for interactome in interactomes:            \n",
    "    accessioned_nodes = [node for node, data in interactome.nodes(data=True) if not data['type'].startswith(\"Simple\")]\n",
    "    sequence = sorted([d for n, d in interactome.degree(accessioned_nodes)], reverse=True)\n",
    "    degree_sequences.append(sequence)\n",
    "\n",
    "degree_sequences = pd.Series(degree_sequences, index=index)\n",
    "degree_sequences"
   ]
  },
  {
   "cell_type": "code",
   "execution_count": null,
   "metadata": {
    "collapsed": false,
    "pycharm": {
     "name": "#%% Prepare data for the violin plot of the degree sequences\n"
    }
   },
   "outputs": [],
   "source": [
    "df_seq = pd.DataFrame({\"Sequence\": degree_sequences})\n",
    "df_seq.reset_index(inplace=True)\n",
    "\n",
    "lst_col = 'Sequence'\n",
    "\n",
    "df_seq = pd.DataFrame({\n",
    "    col: np.repeat(df_seq[col].values, df_seq[lst_col].str.len())\n",
    "    for col in df_seq.columns.drop(lst_col)}\n",
    ").assign(**{lst_col: np.concatenate(df_seq[lst_col].values)})[df_seq.columns]\n",
    "\n",
    "df_seq = df_seq.rename(columns={'Sequence': 'Degree'})\n",
    "df_seq\n",
    "ax = sns.boxplot(x=\"Small Molecules\", y=\"Degree\", hue=\"Entity Level\",\n",
    "                 data=df_seq, palette=[COLOR_GENES_FILL, COLOR_PROTEOFORMS_FILL])\n",
    "ax.set_yscale('log')\n",
    "ax.figure.savefig('figures/degree_interactomes.png')"
   ]
  },
  {
   "cell_type": "code",
   "execution_count": null,
   "metadata": {},
   "outputs": [],
   "source": [
    "degrees_genes = degree_sequences[\"Included\", \"genes\"]\n",
    "degrees_proteoforms = degree_sequences[\"Included\", \"proteoforms\"]\n",
    "change = get_increase_percentage(len(degrees_genes), len(degrees_proteoforms))\n",
    "print(f\"the degree in the complete proteoform network is increased in average from {mean(degrees_genes)} to {mean(degrees_proteoforms)} connections ({change} %)\")"
   ]
  },
  {
   "cell_type": "markdown",
   "metadata": {},
   "source": [
    "## Degree of proteoforms with annotations"
   ]
  },
  {
   "cell_type": "code",
   "execution_count": null,
   "metadata": {},
   "outputs": [],
   "source": [
    "proteoforms_no_annotations = [node for node in interactomes_no_sm['proteoforms'].nodes if not any((c in {':', '-'}) for c in str(node))]\n",
    "proteoforms_with_annotations = [node for node in interactomes_no_sm['proteoforms'].nodes if any((c in {':', '-'}) for c in str(node))]\n",
    "\n",
    "modified_proteoform_degrees = [(node, val) for (node, val) in interactomes_no_sm[\"proteoforms\"].degree(proteoforms_with_annotations)]\n",
    "\n",
    "df_degrees_genes_vs_proteoforms_with_annotations = pd.DataFrame(modified_proteoform_degrees, columns=[\"Proteoform\", \"Proteoform Degree\"])\n",
    "df_degrees_genes_vs_proteoforms_with_annotations[\"Gene\"] = df_degrees_genes_vs_proteoforms_with_annotations['Proteoform'].apply(lambda proteoform: list(map_proteins_to_genes[proteoform[:re.search(\"[;-]\", proteoform).start()]])[0])\n",
    "df_degrees_genes_vs_proteoforms_with_annotations[\"Gene Degree\"] = df_degrees_genes_vs_proteoforms_with_annotations[\"Gene\"].apply(lambda gene: interactomes_no_sm[genes].degree[gene])\n",
    "df_degrees_genes_vs_proteoforms_with_annotations[\"Annotations\"] = df_degrees_genes_vs_proteoforms_with_annotations['Proteoform'].apply(lambda proteoform: any((c in {':', '-'}) for c in str(proteoform)))\n",
    "dfi.export(df_degrees_genes_vs_proteoforms_with_annotations.set_index(\"Proteoform\").sample(20), 'figures/df_degrees_genes_vs_modified_proteoforms.png')\n",
    "df_degrees_genes_vs_proteoforms_with_annotations.sample(20)"
   ]
  },
  {
   "cell_type": "code",
   "execution_count": null,
   "metadata": {},
   "outputs": [],
   "source": [
    "degrees_proteoforms_with_annotations = df_degrees_genes_vs_proteoforms_with_annotations[\"Proteoform Degree\"]\n",
    "print(f\"Selected {len(degrees_proteoforms_with_annotations)} unique proteoforms.\")\n",
    "degrees_genes = df_degrees_genes_vs_proteoforms_with_annotations.drop_duplicates(subset= [\"Gene\"])[\"Gene Degree\"]\n",
    "print(f\"Selected {len(degrees_genes)} unique genes.\")\n",
    "change = get_increase_percentage(len(degrees_genes), len(degrees_proteoforms_with_annotations))\n",
    "print(f\"the degree of annotated proteoform nodes in the complete proteoform network changes from {mean(degrees_genes)} to {mean(degrees_proteoforms_with_annotations)} connections ({change} %)\")"
   ]
  },
  {
   "cell_type": "markdown",
   "metadata": {},
   "source": [
    "## Plot degree of proteoforms with annotations"
   ]
  },
  {
   "cell_type": "code",
   "execution_count": null,
   "metadata": {},
   "outputs": [],
   "source": [
    "# The interactoms are 0: no_sm-genes, 1: no_sm-proteoforms, 2: with_sm-genes, 3: with_sm-proteoforms, 4: with_unique_sm-genes, 5: with_unique_sm-proteoforms\n",
    "for i in [1, 3, 5]:\n",
    "    degree_sequences[i] = [degree for proteoform_node, degree in interactomes[i].degree(proteoforms_with_annotations)]\n",
    "\n",
    "degree_sequences = pd.Series(degree_sequences, index=index)\n",
    "\n",
    "df_seq = pd.DataFrame({\"Sequence\": degree_sequences})\n",
    "df_seq\n",
    "df_seq.reset_index(inplace=True)\n",
    "\n",
    "lst_col = 'Sequence'\n",
    "\n",
    "df_seq = pd.DataFrame({\n",
    "    col: np.repeat(df_seq[col].values, df_seq[lst_col].str.len())\n",
    "    for col in df_seq.columns.drop(lst_col)}\n",
    ").assign(**{lst_col: np.concatenate(df_seq[lst_col].values)})[df_seq.columns]\n",
    "\n",
    "df_seq = df_seq.rename(columns={'Sequence': 'Degree'})\n",
    "df_seq\n",
    "ax = sns.boxplot(x=\"Small Molecules\", y=\"Degree\", hue=\"Entity Level\",\n",
    "                 data=df_seq, palette=[COLOR_GENES_FILL, COLOR_PROTEOFORMS_FILL])\n",
    "ax.set_yscale('log')\n",
    "ax.figure.savefig('figures/degree_interactomes_proteoforms_with_annotations.png')"
   ]
  },
  {
   "cell_type": "markdown",
   "metadata": {},
   "source": [
    "## Count proteoforms with higher or lower degree than genes"
   ]
  },
  {
   "cell_type": "code",
   "execution_count": null,
   "metadata": {},
   "outputs": [],
   "source": [
    "def getChange(value):\n",
    "    if value > 0: return \"+\"\n",
    "    elif value == 0: return \"=\"\n",
    "    else: return \"-\"\n",
    "\n",
    "df_degrees_genes_vs_all_proteoforms[\"Degree Difference\"] = df_degrees_genes_vs_all_proteoforms[\"Proteoform Degree\"] - df_degrees_genes_vs_all_proteoforms[\"Gene Degree\"]\n",
    "df_degrees_genes_vs_all_proteoforms[\"Change\"] = df_degrees_genes_vs_all_proteoforms[\"Degree Difference\"].apply(lambda d: getChange(d))\n",
    "df_degrees_genes_vs_all_proteoforms\n",
    "\n",
    "print(f\"For all proteoforms: \")\n",
    "df_cases = pd.DataFrame(df_degrees_genes_vs_all_proteoforms.groupby(['Change']).size(), columns=[\"Count\"])\n",
    "\n",
    "df_cases[\"Percentage\"] = df_cases[\"Count\"] / len(df_degrees_genes_vs_all_proteoforms) * 100\n",
    "print(df_cases)\n",
    "\n",
    "print(f\"For proteoforms with annotations: \")\n",
    "cases = df_degrees_genes_vs_all_proteoforms.loc[df_degrees_genes_vs_all_proteoforms[\"Annotations\"] == True].groupby(['Change']).size()\n",
    "df_cases = pd.DataFrame(cases, columns=[\"Count\"])\n",
    "df_cases[\"Percentage\"] = df_cases[\"Count\"] / len(df_degrees_genes_vs_all_proteoforms.loc[df_degrees_genes_vs_all_proteoforms[\"Annotations\"] == True]) * 100\n",
    "print(df_cases)\n",
    "\n",
    "print(f\"For proteoforms no annotations: \")\n",
    "df_cases = pd.DataFrame(df_degrees_genes_vs_all_proteoforms.loc[df_degrees_genes_vs_all_proteoforms[\"Annotations\"] == False].groupby(['Change']).size(), columns=[\"Count\"])\n",
    "df_cases[\"Percentage\"] = df_cases[\"Count\"] / len(df_degrees_genes_vs_all_proteoforms.loc[df_degrees_genes_vs_all_proteoforms[\"Annotations\"] == False]) * 100\n",
    "print(df_cases)"
   ]
  },
  {
   "cell_type": "markdown",
   "metadata": {},
   "source": [
    "## Examples of proteoforms that have higher degree than gene nodes"
   ]
  },
  {
   "cell_type": "code",
   "execution_count": null,
   "metadata": {},
   "outputs": [],
   "source": [
    "df_degrees_genes_vs_all_proteoforms.sort_values(by = \"Degree Difference\").tail(20)"
   ]
  },
  {
   "cell_type": "markdown",
   "metadata": {},
   "source": [
    "## Example of how the degree of some proteoforms increases"
   ]
  },
  {
   "cell_type": "code",
   "execution_count": 2,
   "metadata": {},
   "outputs": [
    {
     "data": {
      "text/plain": [
       "['P67870;',\n",
       " 'P19784;',\n",
       " 'P68400;',\n",
       " 'Q8IVP5;',\n",
       " 'Q8IVP5;00046:13',\n",
       " 'sm_R-HSA-8948039_ATP',\n",
       " 'sm_R-HSA-8948039_ADP',\n",
       " 'O75385;',\n",
       " 'Q96HS1-2;',\n",
       " 'P12931-1;',\n",
       " 'Q8IVP5;00046:13,00048:18',\n",
       " 'sm_R-HSA-8948143_ATP',\n",
       " 'sm_R-HSA-8948143_ADP',\n",
       " 'Q8IVP5;00046:17',\n",
       " 'sm_R-HSA-8948146_ATP',\n",
       " 'sm_R-HSA-8948146_ADP',\n",
       " 'Q9H1Y0;',\n",
       " 'O94817;',\n",
       " 'Q9GZQ8;',\n",
       " 'Q9H492;']"
      ]
     },
     "execution_count": 2,
     "metadata": {},
     "output_type": "execute_result"
    }
   ],
   "source": [
    "gene = \"COL7A1\"\n",
    "protein = \"Q02388\"\n",
    "\n",
    "# Get pathways in which gene X participates\n",
    "pathways = get_query_result(QUERY_GET_PATHWAYS_BY_PROTEIN.replace(\"identifier:\\\"\\\"\", f\"identifier:\\\"{protein}\\\"\"))\n",
    "pathway = \"R-HSA-8934903\"\n",
    "# Check plots at gene and proteoform level\n",
    "\n",
    "graphs = create_pathway_interaction_networks(pathway, config.PATHWAY_GRAPHS_PATH)\n",
    "list(graphs[config.with_unique_sm][proteoforms].nodes())\n"
   ]
  },
  {
   "cell_type": "code",
   "execution_count": 3,
   "metadata": {},
   "outputs": [
    {
     "name": "stdout",
     "output_type": "stream",
     "text": [
      "Processing node P67870;\n",
      "Processing node P19784;\n",
      "Processing node P68400;\n",
      "Processing node Q8IVP5;\n",
      "Processing node Q8IVP5;00046:13\n",
      "Processing node O75385;\n",
      "Processing node Q96HS1-2;\n",
      "Processing node P12931-1;\n",
      "Processing node Q8IVP5;00046:13,00048:18\n",
      "Processing node Q8IVP5;00046:17\n",
      "Processing node Q9H1Y0;\n",
      "Processing node O94817;\n",
      "Processing node Q9GZQ8;\n",
      "Processing node Q9H492;\n",
      "Plotting network for genes\n",
      "with method: no_sm\n",
      "Plotting network for proteoforms\n",
      "with method: no_sm\n",
      "Plotting network for genes\n",
      "with method: with_sm\n",
      "Plotting network for proteoforms\n",
      "with method: with_sm\n",
      "Plotting network for genes\n",
      "with method: with_unique_sm\n",
      "Plotting network for proteoforms\n",
      "with method: with_unique_sm\n",
      "Generated figure: networks/pathways/R-HSA-8934903_ENTITY_TYPE_network.html\n"
     ]
    }
   ],
   "source": [
    "\n",
    "nx.get_node_attributes(graphs[config.no_sm][config.proteoforms], \"prevId\")\n",
    "\n",
    "p = v.plot_pathway_all_levels(pathway, out_path=PATHWAY_GRAPHS_PATH, graphs=graphs,\n",
    "                                coloring=v.Coloring.ENTITY_TYPE, outline_line_width=1,\n",
    "                                node_size=12,\n",
    "                                inner_plot_size=350,\n",
    "                                highlight_articulations=True,\n",
    "                                highlight_bridges=True,\n",
    "                                toolbar_location=None)"
   ]
  },
  {
   "cell_type": "markdown",
   "metadata": {},
   "source": [
    "## Plot degree of all proteoforms compared to gene degree"
   ]
  },
  {
   "cell_type": "code",
   "execution_count": null,
   "metadata": {},
   "outputs": [],
   "source": [
    "\n",
    "\n",
    "markers = {True: \"s\", False: \"X\"}\n",
    "sns.set_style(\"ticks\")\n",
    "plot = sns.scatterplot(data=df_degrees_genes_vs_all_proteoforms, x=\"Proteoform Degree\", y=\"Gene Degree\", hue=\"Annotations\", style=\"Annotations\", markers=markers, palette=[COLOR_GENES_FILL, COLOR_PROTEOFORMS_FILL])\n",
    "plot.set(xscale=\"log\", yscale=\"log\")\n",
    "\n",
    "plot = sns.FacetGrid(df_degrees_genes_vs_all_proteoforms, col=\"Annotations\", hue=\"Annotations\", palette=[COLOR_GENES_FILL, COLOR_PROTEOFORMS_FILL])\n",
    "plot.map(sns.scatterplot, \"Proteoform Degree\", \"Gene Degree\", alpha=.7, markers=markers)\n",
    "plot.add_legend()\n",
    "for ax in plot.axes_dict.values():\n",
    "    ax.axline((0, 0), slope=.2, c=\".2\", ls=\"--\", zorder=0)\n",
    "plot.set(xscale=\"log\", yscale=\"log\")\n"
   ]
  },
  {
   "cell_type": "code",
   "execution_count": null,
   "metadata": {},
   "outputs": [],
   "source": [
    "# Plot proteoform vs gene degree for non annotated proteoforms\n",
    "\n",
    "df = df_degrees_genes_vs_all_proteoforms.loc[df_degrees_genes_vs_all_proteoforms[\"Annotations\"] == False]\n",
    "\n",
    "plot = sns.scatterplot(data=df, x=\"Proteoform Degree\", y=\"Gene Degree\", hue=\"Annotations\", style=\"Annotations\", markers=markers, palette=[COLOR_GENES_FILL])\n",
    "plot.set(xscale=\"log\", yscale=\"log\")\n",
    "\n",
    "# Draw a line of x=y \n",
    "x0, x1 = plot.get_xlim()\n",
    "y0, y1 = plot.get_ylim()\n",
    "lims = [max(x0, y0), min(x1, y1)]\n",
    "plot.plot(lims, lims, '-r')"
   ]
  },
  {
   "cell_type": "code",
   "execution_count": null,
   "metadata": {},
   "outputs": [],
   "source": [
    "# Plot proteoform vs gene degree for annotated proteoforms\n",
    "\n",
    "df = df_degrees_genes_vs_all_proteoforms.loc[df_degrees_genes_vs_all_proteoforms[\"Annotations\"] == True]\n",
    "plot = sns.scatterplot(data=df_degrees_genes_vs_proteoforms_with_annotations, x=\"Proteoform Degree\", y=\"Gene Degree\", style=\"Annotations\", markers=markers, palette=[COLOR_PROTEOFORMS_FILL])\n",
    "plot.set(xscale=\"log\", yscale=\"log\")\n",
    "\n",
    "# Draw a line of x=y \n",
    "x0, x1 = plot.get_xlim()\n",
    "y0, y1 = plot.get_ylim()\n",
    "lims = [max(x0, y0), min(x1, y1)]\n",
    "plot.plot(lims, lims, '-r')"
   ]
  },
  {
   "cell_type": "markdown",
   "metadata": {},
   "source": [
    "## Plot degree of small molecules"
   ]
  },
  {
   "cell_type": "code",
   "execution_count": null,
   "metadata": {},
   "outputs": [],
   "source": [
    "# TODO: Plot degree of small molecules"
   ]
  },
  {
   "cell_type": "markdown",
   "metadata": {},
   "source": [
    "# Degree by Pathways"
   ]
  },
  {
   "cell_type": "code",
   "execution_count": null,
   "metadata": {
    "collapsed": false,
    "pycharm": {
     "name": "#%% Find example pathways\n"
    }
   },
   "outputs": [],
   "source": [
    "columns = [\n",
    "    'Pathway',\n",
    "    'Small Molecules',\n",
    "    'Increase Nodes Genes-Proteins',\n",
    "    'Increase Interactions Genes-Proteins',\n",
    "    'Increase Nodes Proteins-Proteoforms',\n",
    "    'Increase Interactions Proteins-Proteoforms'\n",
    "]\n",
    "\n",
    "\n",
    "def get_pathway_tuples(pathway, graphs):\n",
    "    increase_nodes_genes_proteins = get_increase_percentage(graphs[genes].number_of_nodes(),\n",
    "                                                            graphs[proteins].number_of_nodes())\n",
    "    increase_links_genes_proteins = get_increase_percentage(graphs[genes].number_of_edges(),\n",
    "                                                            graphs[proteins].number_of_edges())\n",
    "    increase_nodes_proteins_proteoforms = get_increase_percentage(graphs[proteins].number_of_nodes(),\n",
    "                                                                  graphs[proteoforms].number_of_nodes())\n",
    "    increase_links_proteins_proteoforms = get_increase_percentage(graphs[proteoforms].number_of_edges(),\n",
    "                                                                  graphs[proteoforms].number_of_edges())\n",
    "\n",
    "    return (\n",
    "        pathway,\n",
    "        graphs[genes].graph[\"method\"],\n",
    "        increase_nodes_genes_proteins,\n",
    "        increase_links_genes_proteins,\n",
    "        increase_nodes_proteins_proteoforms,\n",
    "        increase_links_proteins_proteoforms\n",
    "    )\n",
    "\n",
    "\n",
    "data_pathways = []\n",
    "# pathways = get_pathways()[\"stId\"]\n",
    "pathways = get_pathways_with_multiple_proteoforms(INTERACTOMES_PATH, PATHWAY_GRAPHS_PATH)\n",
    "for pathway in pathways:\n",
    "    for method in METHODS:\n",
    "        pathway_graphs = {}\n",
    "        for level in LEVELS:\n",
    "            filename = get_json_filename(level, method, PATHWAY_GRAPHS_PATH, pathway)\n",
    "            if not os.path.exists(filename):\n",
    "                create_pathway_interaction_network(pathway, level, method, PATHWAY_GRAPHS_PATH)\n",
    "            G = read_graph(filename)\n",
    "            pathway_graphs[level] = G\n",
    "        if pathway_graphs[genes].number_of_nodes() > 0\\\n",
    "                and pathway_graphs[genes].number_of_edges() > 0\\\n",
    "                and pathway_graphs[genes].number_of_nodes() < 20:\n",
    "            data_pathways.append(get_pathway_tuples(pathway, pathway_graphs))\n",
    "\n",
    "df_pathways = pd.DataFrame.from_records(data_pathways, columns=columns)\n",
    "df_pathways"
   ]
  },
  {
   "cell_type": "code",
   "execution_count": null,
   "metadata": {
    "collapsed": false,
    "pycharm": {
     "name": "#%% Find the example of pathways with most change\n"
    }
   },
   "outputs": [],
   "source": [
    "from bokeh.io import show\n",
    "from visualization.visualize_single_network import Coloring, plot_pathway_all_levels\n",
    "from lib.networks import create_pathway_interaction_networks\n",
    "\n",
    "# Example nodes genes-proteins\n",
    "df_pathways.sort_values(by=['Increase Nodes Genes-Proteins'], ascending=False, inplace=True)\n",
    "examples = df_pathways.head(20)[\"Pathway\"].unique()\n",
    "print(examples)\n",
    "\n",
    "for example in examples:\n",
    "    graphs = create_pathway_interaction_networks(example, \"resources/pathway_networks/\")\n",
    "    p = plot_pathway_all_levels(example, out_path=\"resources/pathway_networks/\", graphs=graphs,\n",
    "                                coloring=Coloring.ENTITY_TYPE, outline_line_width=1,\n",
    "                                node_size = 12,\n",
    "                                inner_plot_size=350,\n",
    "                                highlight_articulations=True,\n",
    "                                highlight_bridges=True,\n",
    "                                toolbar_location='below')\n",
    "    show(p)\n",
    "df_pathways.head(20)"
   ]
  },
  {
   "cell_type": "code",
   "execution_count": null,
   "metadata": {
    "collapsed": false,
    "pycharm": {
     "name": "#%% Example pathways increasing nodes proteins-proteoforms\n"
    }
   },
   "outputs": [],
   "source": [
    "df_pathways.sort_values(by=['Increase Nodes Proteins-Proteoforms'], ascending=False, inplace=True)\n",
    "examples = df_pathways.head(10)[\"Pathway\"].unique()\n",
    "print(examples)\n",
    "df_pathways[[\"Pathway\", \"Increase Nodes Proteins-Proteoforms\", \"Increase Interactions Proteins-Proteoforms\"]].head(20)"
   ]
  },
  {
   "cell_type": "code",
   "execution_count": null,
   "metadata": {
    "collapsed": false,
    "pycharm": {
     "name": "#%% Example pathways increasing interactions proteins-proteoforms\n"
    }
   },
   "outputs": [],
   "source": [
    "df_pathways.sort_values(by=['Increase Interactions Proteins-Proteoforms'], ascending=False, inplace=True)\n",
    "df_pathways[[\"Pathway\", \"Increase Nodes Proteins-Proteoforms\", \"Increase Interactions Proteins-Proteoforms\"]].head(12)"
   ]
  },
  {
   "cell_type": "code",
   "execution_count": null,
   "metadata": {
    "collapsed": false,
    "pycharm": {
     "name": "#%% Calculate degree for all types of entities in the Interactomes\n"
    }
   },
   "outputs": [],
   "source": [
    "# Table with degrees.\n",
    "columns = [\n",
    "    \"Small Molecules\",\n",
    "    \"Entity Level\",\n",
    "    \"Q_1 Acc. Ent.\",\n",
    "    \"Q_2 Acc. Ent.\",\n",
    "    \"Q_3 Acc. Ent.\",\n",
    "    \"Q_4 Acc. Ent.\",\n",
    "    \"Q_1 S. Mol.\",\n",
    "    \"Q_2 S. Mol.\",\n",
    "    \"Q_3 S. Mol.\",\n",
    "    \"Q_4 S. Mol.\",\n",
    "]\n",
    "\n",
    "def get_tuples(G):\n",
    "\n",
    "    acc_ents = list(G.nodes)\n",
    "    sm_ents = []\n",
    "    if G.graph['num_small_molecules'] > 0:\n",
    "        acc_ents = [n for n in G.nodes if not G.nodes[n]['type'].startswith(\"Simple\")]\n",
    "        sm_ents = [n for n in G.nodes if G.nodes[n]['type'].startswith(\"Simple\")]\n",
    "\n",
    "    deg_seq_acc_ents = [d for n, d in list(G.degree(acc_ents))]\n",
    "\n",
    "    values_ae = np.quantile(deg_seq_acc_ents, [0,0.25,0.5,0.75,1])\n",
    "    values_sm = [0] * 5\n",
    "    if len(sm_ents) > 0:\n",
    "        deg_seq_sm_ents = [d for n, d in list(G.degree(sm_ents))]\n",
    "        values_sm = np.quantile(deg_seq_sm_ents, [0,0.25,0.5,0.75,1])\n",
    "\n",
    "    return (G.graph[\"method\"], G.graph[\"level\"], *(values_ae)[1:], *(values_sm[1:]))"
   ]
  },
  {
   "cell_type": "code",
   "execution_count": null,
   "metadata": {
    "collapsed": false,
    "pycharm": {
     "name": "#%%\n"
    }
   },
   "outputs": [],
   "source": [
    "values = [get_tuples(I) for I in interactomes]\n",
    "df_deg_interactomes = pd.DataFrame(values, columns=columns, index=index)\n",
    "df_deg_interactomes.drop([\"Small Molecules\",\"Entity Level\"], axis=1)\n",
    "dfi.export(df_deg_interactomes, \"figures/df_degree_interactomes.png\")\n",
    "df_deg_interactomes"
   ]
  },
  {
   "cell_type": "code",
   "execution_count": null,
   "metadata": {
    "collapsed": false,
    "pycharm": {
     "name": "#%%\n"
    }
   },
   "outputs": [],
   "source": [
    "for method in config.SMALL_MOLECULES:\n",
    "    print(f\"Small Molecules: {method}\")\n",
    "    avg_genes = df_deg_interactomes.loc[method,'genes'][\"Avg. Degree Accessioned Entities\"]\n",
    "    avg_proteoforms = df_deg_interactomes.loc[method,'proteoforms'][\"Avg. Degree Accessioned Entities\"]\n",
    "    inc_genes_proteoforms = get_increase_percentage(avg_genes, avg_proteins)\n",
    "    inc_proteins_proteoforms = get_increase_percentage(avg_proteins, avg_proteoforms)\n",
    "    print(f\"There is an increase of degree: {inc_genes_proteins}% from genes to proteins\")\n",
    "    print(f\"There is an increase of degree: {inc_proteins_proteoforms}% from proteins to proteoforms\")\n"
   ]
  },
  {
   "cell_type": "code",
   "execution_count": null,
   "metadata": {
    "collapsed": false,
    "pycharm": {
     "name": "#%% Calculate degree for all types of entities for all pathways\n"
    }
   },
   "outputs": [],
   "source": [
    "combinations = get_combinations_with_pathways(3)\n",
    "\n",
    "columns = [\n",
    "    \"Small Molecules\",\n",
    "    \"Entity Level\",\n",
    "    \"Pathway\",\n",
    "    \"Min. Degree Accessioned Entities\",\n",
    "    \"Avg. Degree Accessioned Entities\",\n",
    "    \"Max. Degree Accessioned Entities\",\n",
    "    \"Min. Degree Small Molecules\",\n",
    "    \"Avg. Degree Small Molecules\",\n",
    "    \"Max. Degree Small Molecules\"\n",
    "]\n",
    "\n",
    "out_path = \"resources/pathway_networks/\"\n",
    "\n",
    "def get_tuples(combination):\n",
    "    G = create_pathway_interaction_network(\n",
    "        method=combination[0], level=combination[1], pathway=combination[2], out_path=out_path\n",
    "    )\n",
    "\n",
    "    acc_ents = list(G.nodes)\n",
    "    sm_ents = []\n",
    "    if G.graph['num_small_molecules'] > 0:\n",
    "        acc_ents = [n for n in G.nodes if not G.nodes[n]['type'].startswith(\"Simple\")]\n",
    "        sm_ents = [n for n in G.nodes if G.nodes[n]['type'].startswith(\"Simple\")]\n",
    "\n",
    "    deg_seq_acc_ents = [d for n, d in list(G.degree(acc_ents))]\n",
    "    min_deg_sm_ents = 0\n",
    "    avg_deg_sm_ents = 0\n",
    "    max_deg_sm_ents = 0\n",
    "    if len(sm_ents) > 0:\n",
    "        deg_seq_sm_ents = [d for n, d in list(G.degree(sm_ents))]\n",
    "        min_deg_sm_ents = min(deg_seq_sm_ents)\n",
    "        avg_deg_sm_ents = mean(deg_seq_sm_ents)\n",
    "        max_deg_sm_ents = max(deg_seq_sm_ents)\n",
    "\n",
    "    return (\n",
    "        combination[0], combination[1], combination[2],\n",
    "        min(deg_seq_acc_ents), mean(deg_seq_acc_ents), max(deg_seq_acc_ents),\n",
    "        min_deg_sm_ents, avg_deg_sm_ents, max_deg_sm_ents\n",
    "    )"
   ]
  },
  {
   "cell_type": "code",
   "execution_count": null,
   "metadata": {
    "collapsed": false,
    "pycharm": {
     "name": "#%%\n"
    }
   },
   "outputs": [],
   "source": [
    "df_deg_pathways = pd.DataFrame([get_tuples(combination) for combination in combinations], columns=columns)\n",
    "df_deg_pathways"
   ]
  },
  {
   "cell_type": "code",
   "execution_count": null,
   "metadata": {
    "collapsed": false,
    "pycharm": {
     "name": "#%%\n"
    }
   },
   "outputs": [],
   "source": [
    "df_deg_pathways_agg = df_deg_pathways.groupby(['Small Molecules', 'Entity Level']).agg(\n",
    "    {\n",
    "        \"Min. Degree Accessioned Entities\": ['mean'],\n",
    "        \"Avg. Degree Accessioned Entities\": ['mean'],\n",
    "        \"Max. Degree Accessioned Entities\": ['mean'],\n",
    "        \"Min. Degree Small Molecules\": ['mean'],\n",
    "        \"Avg. Degree Small Molecules\": ['mean'],\n",
    "        \"Max. Degree Small Molecules\": ['mean']\n",
    "    })\n",
    "df_deg_pathways_agg.columns = [\n",
    "    \"Min. Degree Accessioned Entities\",\n",
    "    \"Avg. Degree Accessioned Entities\",\n",
    "    \"Max. Degree Accessioned Entities\",\n",
    "    \"Min. Degree Small Molecules\",\n",
    "    \"Avg. Degree Small Molecules\",\n",
    "    \"Max. Degree Small Molecules\"\n",
    "]\n",
    "df_pathways_grouped = df_deg_pathways_agg.set_index(get_multiindex())\n",
    "df_pathways_grouped"
   ]
  },
  {
   "cell_type": "code",
   "execution_count": null,
   "metadata": {
    "collapsed": false,
    "pycharm": {
     "name": "#%% Plot distribution of the Avg. Degree of accessioned entities in each pathway\n"
    }
   },
   "outputs": [],
   "source": [
    "import matplotlib.pyplot as plt\n",
    "\n",
    "sns.set(rc = {\"figure.facecolor\": \"white\"})\n",
    "\n",
    "fig, ax = plt.subplots(1, 1, figsize=(5, 6))\n",
    "fig.set_size_inches(10, 6)\n",
    "f = sns.violinplot(x=\"Small Molecules\", y=\"Avg. Degree Accessioned Entities\", hue=\"Entity Level\",\n",
    "                   data=df_deg_pathways, palette=config.COLORS_BORDER)\n",
    "#ax.yaxis.set_major_formatter(mticker.StrMethodFormatter(\"$10^{{{x:.0f}}}$\")) # Convert ticks to powers of 10\n",
    "f.legend(loc='center left', bbox_to_anchor=(1, 0.5))\n",
    "f.set_title(\"Distribution of Avg. Degree of Accessioned Entities in all Pathways\")"
   ]
  },
  {
   "cell_type": "code",
   "execution_count": null,
   "metadata": {
    "collapsed": false,
    "pycharm": {
     "name": "#%% Plot distribution of the Avg.Degree of small molecules in each pathway\n"
    }
   },
   "outputs": [],
   "source": [
    "import matplotlib.pyplot as plt\n",
    "\n",
    "fig, ax = plt.subplots(1, 1, figsize=(5, 6))\n",
    "fig.set_size_inches(10, 6)\n",
    "f = sns.violinplot(x=\"Small Molecules\", y=\"Avg. Degree Small Molecules\", hue=\"Entity Level\",\n",
    "                   data=df_deg_pathways, palette=config.COLORS_BORDER)\n",
    "#ax.yaxis.set_major_formatter(mticker.StrMethodFormatter(\"$10^{{{x:.0f}}}$\")) # Convert ticks to powers of 10\n",
    "f.legend(loc='center left', bbox_to_anchor=(1, 0.5))\n",
    "f.set_title(\"Distribution of Avg. Degree of Small Molecules in all Pathways\")"
   ]
  },
  {
   "cell_type": "code",
   "execution_count": null,
   "metadata": {
    "collapsed": false,
    "pycharm": {
     "name": "#%%\n"
    }
   },
   "outputs": [],
   "source": [
    "df_deg_pathways[\n",
    "    (df_deg_pathways[\"Small Molecules\"] == 'with_unique_sm') & (df_deg_pathways[\"Entity Level\"] == 'proteoforms')]"
   ]
  },
  {
   "cell_type": "code",
   "execution_count": null,
   "metadata": {
    "collapsed": false,
    "pycharm": {
     "name": "#%%\n"
    }
   },
   "outputs": [],
   "source": [
    "df_pathways_grouped.reset_index(inplace=True)\n",
    "df_pathways_grouped"
   ]
  },
  {
   "cell_type": "code",
   "execution_count": null,
   "metadata": {
    "collapsed": false,
    "pycharm": {
     "name": "#%%\n"
    }
   },
   "outputs": [],
   "source": [
    "df_interactomes_temp = df_deg_interactomes[[\"Avg. Degree Accessioned Entities\",\n",
    "    \"Avg. Degree Small Molecules\"]]\n",
    "df_interactomes_temp.reset_index(inplace=True)\n",
    "df_interactomes_temp"
   ]
  },
  {
   "cell_type": "code",
   "execution_count": null,
   "metadata": {
    "collapsed": false,
    "pycharm": {
     "name": "#%%\n"
    }
   },
   "outputs": [],
   "source": [
    "df_degrees = pd.concat([df_interactomes_temp, df_pathways_grouped[[\"Avg. Degree Accessioned Entities\",\n",
    "    \"Avg. Degree Small Molecules\"]]], axis=1)\n",
    "df_degrees.set_index(index, inplace=True)\n",
    "df_degrees.drop(df_degrees.columns[[0,1]],axis=1,inplace=True)\n",
    "df_degrees"
   ]
  },
  {
   "cell_type": "code",
   "execution_count": null,
   "metadata": {
    "collapsed": false,
    "pycharm": {
     "name": "#%%\n"
    }
   },
   "outputs": [],
   "source": []
  }
 ],
 "metadata": {
  "kernelspec": {
   "display_name": "Python 3",
   "language": "python",
   "name": "python3"
  },
  "language_info": {
   "codemirror_mode": {
    "name": "ipython",
    "version": 3
   },
   "file_extension": ".py",
   "mimetype": "text/x-python",
   "name": "python",
   "nbconvert_exporter": "python",
   "pygments_lexer": "ipython3",
   "version": "3.10.2"
  }
 },
 "nbformat": 4,
 "nbformat_minor": 0
}
