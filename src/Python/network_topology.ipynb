{
 "cells": [
  {
   "cell_type": "markdown",
   "source": [
    "## Set up"
   ],
   "metadata": {
    "collapsed": false,
    "pycharm": {
     "name": "#%% md\n"
    }
   }
  },
  {
   "cell_type": "code",
   "execution_count": 1,
   "outputs": [
    {
     "name": "stdout",
     "text": [
      "Working directory: c:\\git\\pathwayanalysisplatform\\proteoformnetworks\n"
     ],
     "output_type": "stream"
    }
   ],
   "source": [
    "import importlib\n",
    "import re\n",
    "\n",
    "import matplotlib as plt\n",
    "import numpy as np\n",
    "import pandas as pd\n",
    "import seaborn as sns\n",
    "from numpy.core.tests.test_einsum import sizes\n",
    "import config, visualization\n",
    "from config import PATH_REACTOME, FILE_REACTOME_PROTEOFORMS, FILE_REACTOME_PROTEIN_INTERACTIONS, \\\n",
    "    FILE_PROTEOFORMS_SEARCH, PATH_RESOURCES, FILE_PATHWAYMATCHER, URL_PATHWAYMATCHER, \\\n",
    "    FILE_REACTOME_PROTEOFORM_INTERACTIONS, FILE_REACTOME_GENE_INTERACTIONS, FILE_REACTOME_PROTEINS, FILE_REACTOME_GENES, \\\n",
    "    LEVELS\n",
    "from interaction_network import create_graph\n",
    "from lib.data_read_write import create_pathwaymatcher_files\n",
    "from lib.download import download_if_not_exists\n",
    "from network_topology_queries import get_pathways\n",
    "from visualization import plot_graph\n",
    "\n",
    "config.set_root_wd()"
   ],
   "metadata": {
    "collapsed": false,
    "pycharm": {
     "name": "#%% Set up configuration\n",
     "is_executing": false
    }
   }
  },
  {
   "cell_type": "markdown",
   "source": [
    "## Download PathwayMatcher and create interaction networks"
   ],
   "metadata": {
    "collapsed": false,
    "pycharm": {
     "name": "#%% md\n",
     "is_executing": false
    }
   }
  },
  {
   "cell_type": "code",
   "execution_count": 2,
   "outputs": [
    {
     "name": "stdout",
     "text": [
      "PathwayMatcher files READY\n"
     ],
     "output_type": "stream"
    }
   ],
   "source": [
    "# What is fixed for all sources? These files are generated following the Network-Topology.md instructions in the Wiki.\n",
    "## genes, proteins and proteoforms universe list (full network nodes)\n",
    "## genes, proteins and proteoforms interactions (full network links)\n",
    "## Mapping from genes to proteins, and from proteins to proteoforms\n",
    "\n",
    "create_pathwaymatcher_files(PATH_REACTOME, FILE_REACTOME_GENES, FILE_REACTOME_PROTEINS,\n",
    "                            FILE_REACTOME_PROTEOFORMS, FILE_REACTOME_GENE_INTERACTIONS,\n",
    "                            FILE_REACTOME_PROTEIN_INTERACTIONS, FILE_REACTOME_PROTEOFORM_INTERACTIONS,\n",
    "                            FILE_PROTEOFORMS_SEARCH,\n",
    "                            PATH_RESOURCES, FILE_PATHWAYMATCHER, URL_PATHWAYMATCHER)"
   ],
   "metadata": {
    "collapsed": false,
    "pycharm": {
     "name": "#%% Download and create interaction networks for genes, proteins and proteforms\n",
     "is_executing": false
    }
   }
  },
  {
   "cell_type": "code",
   "execution_count": 3,
   "outputs": [
    {
     "name": "stdout",
     "text": [
      "               stId                      displayName\n0     R-HSA-9612973                        Autophagy\n1     R-HSA-9613829     Chaperone Mediated Autophagy\n2     R-HSA-1632852                   Macroautophagy\n3     R-HSA-9663891              Selective autophagy\n4     R-HSA-5205647                        Mitophagy\n...             ...                              ...\n2357  R-HSA-2168880   Scavenging of heme from plasma\n2358  R-HSA-3000484  Scavenging by Class F Receptors\n2359  R-HSA-3000471  Scavenging by Class B Receptors\n2360  R-HSA-3000497  Scavenging by Class H Receptors\n2361  R-HSA-3000480  Scavenging by Class A Receptors\n\n[2362 rows x 2 columns]\n"
     ],
     "output_type": "stream"
    }
   ],
   "source": [
    "pathways = get_pathways()\n",
    "print(pathways)"
   ],
   "metadata": {
    "collapsed": false,
    "pycharm": {
     "name": "#%% Plot interaction networks\n",
     "is_executing": false
    }
   }
  },
  {
   "cell_type": "code",
   "execution_count": 4,
   "outputs": [
    {
     "name": "stdout",
     "text": [
      "\n\nQuerying proteins participants of pathway R-HSA-9634600...\n\n\n\n        MATCH (p:Pathway{stId:\"R-HSA-9634600\"})-[:hasEvent]->(rle:ReactionLikeEvent{speciesName:'Homo sapiens'})\n        WITH rle\n        MATCH p = (rle)-[:input|output|catalystActivity|physicalEntity|regulatedBy|regulator|hasComponent|hasMember|hasCandidate*]->(pe:PhysicalEntity)\n        WHERE last(labels(pe)) IN [\"EntityWithAccessionedSequence\" , \"SimpleEntity\"\n        ]\n        OPTIONAL MATCH (pe)-[:referenceEntity]->(re:ReferenceEntity)-[:referenceDatabase]->(rd:ReferenceDatabase)\n        RETURN DISTINCT rle.stId as Reaction, pe.stId as Entity, pe.displayName as Name, last(labels(pe)) as Type,\n        CASE WHEN last(labels(pe)) = \"SimpleEntity\" THEN pe.displayName  WHEN last(labels(pe)) = \"EntityWithAccessionedSequence\" THEN re.identifier  \n        ELSE re.identifier END as Id,\n        rd.displayName AS Database, head([scores IN relationships(p) | type(scores)]) as Role\n        ORDER BY Reaction, Role, Type \n\n        // Get Pathway complex participants\n        MATCH (p:Pathway{stId:\"R-HSA-9634600\"})-[:hasEvent*]->(rle:ReactionLikeEvent)\n        WITH rle\n        MATCH (rle)-[:input|output|catalystActivity|physicalEntity|regulatedBy|regulator|hasComponent|hasMember|hasCandidate*]->(c:Complex)\n        WITH c\n        MATCH (c)-[:hasComponent|hasMember|hasCandidate*]->(pe:PhysicalEntity)-[:referenceEntity]->(re:ReferenceEntity)\n        WHERE last(labels(pe)) in [\"EntityWithAccessionedSequence\" , \"SimpleEntity\"\n        ]\n        RETURN DISTINCT c.stId as Complex, pe.stId AS Entity, pe.displayName AS Name, last(labels(pe)) as Type, \n        CASE WHEN last(labels(pe)) = \"SimpleEntity\" THEN pe.displayName  WHEN last(labels(pe)) = \"EntityWithAccessionedSequence\" THEN re.identifier  \n        ELSE re.identifier END as Id\n        ORDER BY Complex\n        \n\n\nReaction: R-HSA-163750:\nInputs: {'P16118', 'H2O'}\nCatalysts: {'P30153', 'P30154', 'P67775', 'Q14738', 'P62714'}\nOutputs: {'P16118', 'Pi'}\nRegulators: set()\nAdded edge from: P16118 to Pi\nAdded edge from: H2O to P16118\nAdded edge from: H2O to Pi\nAdded edge from: P30153 to P16118\nAdded edge from: P30153 to Pi\nAdded edge from: P30154 to P16118\nAdded edge from: P30154 to Pi\nAdded edge from: P67775 to P16118\nAdded edge from: P67775 to Pi\nAdded edge from: Q14738 to P16118\nAdded edge from: Q14738 to Pi\nAdded edge from: P62714 to P16118\nAdded edge from: P62714 to Pi\n\n\nReaction: R-HSA-163773:\nInputs: {'P16118', 'ATP'}\nCatalysts: {'P17612', 'P22612', 'P22694'}\nOutputs: {'ADP', 'P16118'}\nRegulators: set()\nAdded edge from: P16118 to ADP\nAdded edge from: ATP to ADP\nAdded edge from: ATP to P16118\nAdded edge from: P17612 to ADP\nAdded edge from: P17612 to P16118\nAdded edge from: P22612 to ADP\nAdded edge from: P22612 to P16118\nAdded edge from: P22694 to ADP\nAdded edge from: P22694 to P16118\n\n\nReaction: R-HSA-70262:\nInputs: {'D-Fructose 2,6-bisphosphate', 'H2O'}\nCatalysts: {'P16118'}\nOutputs: {'Fru(6)P', 'Pi'}\nRegulators: set()\nAdded edge from: D-Fructose 2,6-bisphosphate to Fru(6)P\nAdded edge from: D-Fructose 2,6-bisphosphate to Pi\nAdded edge from: H2O to Fru(6)P\nAdded edge from: H2O to Pi\nAdded edge from: P16118 to Fru(6)P\nAdded edge from: P16118 to Pi\n\n\nReaction: R-HSA-71802:\nInputs: {'Fru(6)P', 'ATP'}\nCatalysts: {'P16118', 'Q16875', 'Q16877', 'O60825'}\nOutputs: {'ADP', 'D-Fructose 2,6-bisphosphate'}\nRegulators: {'D-Fructose 2,6-bisphosphate'}\nAdded edge from: Fru(6)P to ADP\nAdded edge from: Fru(6)P to D-Fructose 2,6-bisphosphate\nAdded edge from: ATP to ADP\nAdded edge from: ATP to D-Fructose 2,6-bisphosphate\nAdded edge from: P16118 to ADP\nAdded edge from: P16118 to D-Fructose 2,6-bisphosphate\nAdded edge from: Q16875 to ADP\nAdded edge from: Q16875 to D-Fructose 2,6-bisphosphate\nAdded edge from: Q16877 to ADP\nAdded edge from: Q16877 to D-Fructose 2,6-bisphosphate\nAdded edge from: O60825 to ADP\nAdded edge from: O60825 to D-Fructose 2,6-bisphosphate\nAdded edge from: D-Fructose 2,6-bisphosphate to ADP\nFrom reactions, added 18 nodes to the graph.\nFrom reactions, added 36 edges to the graph.\nFrom complexes, added 18 nodes to the graph.\nFrom complexes, added 46 edges to the graph.\n"
     ],
     "output_type": "stream"
    }
   ],
   "source": [
    "importlib.reload(visualization)\n",
    "\n",
    "from bokeh.io import show\n",
    "\n",
    "plot = visualization.plot_pathway(\"R-HSA-9634600\", level=\"proteins\")\n",
    "show(plot)\n",
    "\n",
    "# TODO: Write function that converts a set of pathways into an interaction network\n",
    "\n",
    "# TODO: Write function that colors the different pathways in an interaction network"
   ],
   "metadata": {
    "collapsed": false,
    "pycharm": {
     "name": "#%%\n",
     "is_executing": false
    }
   }
  },
  {
   "cell_type": "markdown",
   "source": [
    "## Node Degree analysis"
   ],
   "metadata": {
    "collapsed": false,
    "pycharm": {
     "name": "#%% md\n"
    }
   }
  },
  {
   "cell_type": "code",
   "execution_count": null,
   "outputs": [],
   "source": [
    "def getDegrees(filename, entity):\n",
    "    \"\"\"\n",
    "    Calculates number of interactors (degree) of each entity node.\n",
    "    By entity we mean: genes, proteins or proteoforms\n",
    "    \n",
    "    :param filename: File with the interactions of an entity type\n",
    "    :return: Pandas dataframe with two columns: ENTITY, DEGREE\n",
    "    ENTITY is a string value, DEGREE is an integer\n",
    "    \"\"\"\n",
    "    entities = {}\n",
    "    with open(filename) as fg:\n",
    "        interaction = fg.readline()\n",
    "        interaction = fg.readline()\n",
    "        while interaction:\n",
    "            # print(interaction)\n",
    "            fields = interaction.split('\\t')\n",
    "            entities.setdefault(fields[0].strip(), set()).add(fields[1].strip())\n",
    "            entities.setdefault(fields[1].strip(), set()).add(fields[0].strip())\n",
    "            interaction = fg.readline()\n",
    "    print(\"Number of entities: \", len(entities))\n",
    "    \n",
    "    genes_degrees = [len(entry[1]) for entry in entities.items()]\n",
    "    data = {'ENTITY': np.repeat(entity, len(genes_degrees)),\n",
    "            'DEGREE': genes_degrees}\n",
    "    avg_degree = sum(genes_degrees)/len(genes_degrees)\n",
    "    print(\"Average number of interacting entities: {:.2f}\".format(avg_degree) )    \n",
    "    return pd.DataFrame(data, columns = [\"ENTITY\", \"DEGREE\"])\n",
    "\n",
    "# Calculate number of neighbours of each node\n",
    "degree_genes = getDegrees(PATH_REACTOME + FILE_REACTOME_GENE_INTERACTIONS, \"gene\")\n",
    "degree_proteins = getDegrees(PATH_REACTOME + FILE_REACTOME_PROTEIN_INTERACTIONS, \"protein\")\n",
    "degree_proteoforms = getDegrees(PATH_REACTOME + FILE_REACTOME_PROTEOFORM_INTERACTIONS, \"proteoform\")"
   ],
   "metadata": {
    "collapsed": false,
    "pycharm": {
     "name": "#%% Calculate average degree for all networks\n",
     "is_executing": true
    }
   }
  },
  {
   "cell_type": "code",
   "execution_count": null,
   "outputs": [],
   "source": [
    "degrees = pd.concat([degree_genes, degree_proteins, degree_proteoforms])\n",
    "sns.set(style=\"ticks\")\n",
    "ax = sns.boxplot(x=\"ENTITY\", y=\"DEGREE\", data=degrees)\n"
   ],
   "metadata": {
    "collapsed": false,
    "pycharm": {
     "name": "#%% Plot the max, min, and average degree for each type of entity\n",
     "is_executing": true
    }
   }
  },
  {
   "cell_type": "markdown",
   "source": [
    "## Bridges and Articulation points"
   ],
   "metadata": {
    "collapsed": false,
    "pycharm": {
     "name": "#%% md\n",
     "is_executing": false
    }
   }
  },
  {
   "cell_type": "code",
   "execution_count": null,
   "outputs": [],
   "source": [
    "# TODO: Write function that plots and highlights the articulation points of an interaction network.\n",
    "# TODO: Write function that plots and highlights also the bridges of the network."
   ],
   "metadata": {
    "collapsed": false,
    "pycharm": {
     "name": "#%%\n",
     "is_executing": true
    }
   }
  },
  {
   "cell_type": "markdown",
   "source": [
    "## Disease modules"
   ],
   "metadata": {
    "collapsed": false,
    "pycharm": {
     "name": "#%% md\n"
    }
   }
  },
  {
   "cell_type": "code",
   "execution_count": null,
   "outputs": [],
   "source": [
    "# What is needed from each source? \n",
    "## Gene/Protein Modules file (network regions)\n",
    "\n",
    "# PheGenI Phenotypes\n",
    "download_if_not_exists(\"resources/PheGenI/\", \n",
    "                       \"PheGenI_Association.txt\", \n",
    "                       \"https://www.ncbi.nlm.nih.gov/projects/gap/eqtl/EpiViewBE.cgi?type=dl.tab\",\n",
    "                       \"PheGenI modules\")\n",
    "\n",
    "# Jensen Lab Diseases\n",
    "download_if_not_exists(\"resources/Jensen/\",\n",
    "                       \"human_disease_textmining_filtered.tsv\",\n",
    "                       \"http://download.jensenlab.org/human_disease_textmining_filtered.tsv\",\n",
    "                       \"Jensen Lab Diseases\")\n",
    "\n",
    "# from lib.conversions import create_gene_to_protein_mapping\n",
    "# \n",
    "# path_file_genes = \"../resources/Reactome/v70/Genes/all_genes_v70.csv\"\n",
    "# create_gene_to_protein_mapping(path_file_genes, \"../resources/UniProt/\", \"mapping_proteins_to_genes_v70.tab\", 1000)\n",
    "dataset=\"PheGenI\" \n",
    "# dataset=\"Pathways\" \n",
    "# dataset=\"Jensen\" \n",
    "print(\"Module files READY\")"
   ],
   "metadata": {
    "collapsed": false,
    "pycharm": {
     "name": "#%% Download and create disease modules\n",
     "is_executing": true
    }
   }
  },
  {
   "cell_type": "code",
   "execution_count": null,
   "outputs": [],
   "source": [
    "# Generates module files: gene_modules.tsv, protein_modules.tsv and proteoform_modules.tsv\n",
    "# Generates single module files at each level: gene, protein and proteoform file for each trait\n",
    "# Module sizes for genes, protein and proteoform levels\n",
    "# Variation in module sizes when going from one level to the other\n",
    "# Three files (for genes, proteins and proteoforms) with the Overlap similarity of each \n",
    "# pair of traits.\n",
    "# Creates a file with a selection of trait pair examples which show decrease in the overlap. "
   ],
   "metadata": {
    "collapsed": false,
    "pycharm": {
     "name": "#%% Create report files: Execute the C++ main program\n",
     "is_executing": true
    }
   }
  },
  {
   "cell_type": "code",
   "execution_count": null,
   "outputs": [],
   "source": [
    "sizes_dict_connected = {level: pd.read_csv(f\"reports/modules/module_sizes_{level}.tsv\", sep=\"\\t\") for level in LEVELS}\n",
    "sizes_dict_disconnected = {level: pd.read_csv(f\"reports/modules_keep_disconnected/module_sizes_{level}.tsv\", sep=\"\\t\") for level in LEVELS}\n",
    "for level in LEVELS:\n",
    "    print(f\"\\n{level}\")\n",
    "    print(sizes_dict_connected[level].describe())\n",
    "    print(sizes_dict_disconnected[level].describe())\n",
    "    sizes_dict_connected[level][\"CONNECTEDNESS\"] = \"connected\"\n",
    "    sizes_dict_disconnected[level][\"CONNECTEDNESS\"] = \"disconnected\"\n",
    "\n",
    "sizes_df_connected = pd.concat(sizes_dict_connected, names=[\"level\", \"index\"])\n",
    "sizes_df_disconnected = pd.concat(sizes_dict_disconnected, names=[\"level\", \"index\"])\n",
    "# sizes_df[sizes_df.index.get_level_values(\"level\") == \"genes\"]\n",
    "# sizes_df = pd.concat([sizes_df_connected, sizes_dict_disconnected], names=[\"level\", \"index\"])\n",
    "# sizes_df\n",
    "sizes_df_connected[\"LEVEL\"] = sizes_df_connected.index.get_level_values(\"level\")\n",
    "sizes_df_disconnected[\"LEVEL\"] = sizes_df_disconnected.index.get_level_values(\"level\")\n",
    "sizes_df = pd.concat([sizes_df_connected, sizes_df_disconnected])\n",
    "sizes_df"
   ],
   "metadata": {
    "collapsed": false,
    "pycharm": {
     "name": "#%% Explore module sizes\n",
     "is_executing": true
    }
   }
  },
  {
   "cell_type": "code",
   "execution_count": null,
   "outputs": [],
   "source": [
    "# Do the following plots for the modules in two cases: keeping disconnected nodes and removing them\n",
    "    # Jitter plot showing the sizes for genes, proteins and proteoforms\n",
    "    # Jitter plot showing the difference in size fom genes to proteins and from proteins to proteoforms.\n",
    "# sizes_df = pd.DataFrame()\n",
    "# for level in levels:\n",
    "#     sizes_df[f\"SIZES_{level.upper()}\"] = sizes_dict[level][\"SIZES\"]\n",
    "\n",
    "sns.set(style=\"ticks\")\n",
    "g = sns.FacetGrid(sizes_df, col=\"LEVEL\", height=4, aspect=.5, hue=\"LEVEL\", palette=\"Set2\")\n",
    "g.map(sns.barplot, \"CONNECTEDNESS\", \"SIZE\")\n",
    "plt.show()\n",
    "\n",
    "ax = sns.boxplot(x=\"SIZE\", y=\"LEVEL\", data=sizes_df_connected, whis=np.inf)\n",
    "ax = sns.stripplot(x=\"SIZE\", y=\"LEVEL\", data=sizes_df_connected, jitter=True, color=\".3\")\n",
    "plt.show()\n",
    "\n",
    "ax = sns.violinplot(x=\"SIZE\", y=\"LEVEL\", data=sizes_df_connected, inner=None, color=\".8\")\n",
    "ax = sns.stripplot(x=\"SIZE\", y=\"LEVEL\", data=sizes_df_connected, jitter=True)\n",
    "plt.show()\n",
    "\n",
    "g = sns.catplot(x=\"LEVEL\", y=\"SIZE\",\n",
    "                hue=\"LEVEL\", col=\"CONNECTEDNESS\",\n",
    "                data=sizes_df, kind=\"strip\",\n",
    "                jitter=True,\n",
    "                height=4, aspect=.7);\n",
    "plt.show()\n",
    "\n",
    "g = sns.catplot(x=\"CONNECTEDNESS\", y=\"SIZE\",\n",
    "                hue=\"CONNECTEDNESS\", col=\"LEVEL\",\n",
    "                data=sizes_df, kind=\"strip\",\n",
    "                jitter=True,\n",
    "                height=4, aspect=.7);\n",
    "plt.show()\n",
    "\n",
    "g = sns.catplot(x=\"SIZE\", y=\"LEVEL\", hue=\"CONNECTEDNESS\", data=sizes_df, kind=\"violin\")\n",
    "plt.show()\n",
    "\n",
    "g = sns.catplot(x=\"SIZE\", y=\"CONNECTEDNESS\", hue=\"LEVEL\", data=sizes_df, kind=\"violin\")\n",
    "plt.show()"
   ],
   "metadata": {
    "collapsed": false,
    "pycharm": {
     "name": "#%%\n",
     "is_executing": true
    }
   }
  },
  {
   "cell_type": "code",
   "execution_count": null,
   "outputs": [],
   "source": [
    "# Calculate and plot size variation\n",
    "sizes_df = pd.concat(\n",
    "    [pd.read_csv(f\"reports/modules/module_sizes_{level}.tsv\", sep=\"\\t\", names=[\"MODULES\", f\"SIZE_{level.upper()}\"], header=0)[f\"SIZE_{level.upper()}\"] for level in LEVELS], \n",
    "    axis=1)\n",
    "\n",
    "sizes_df[f\"VARIATION_GENES_TO_PROTEINS\"] = sizes_df[\"SIZE_PROTEINS\"] - sizes_df[\"SIZE_GENES\"]\n",
    "sizes_df[f\"VARIATION_PROTEINS_TO_PROTEOFORMS\"] = sizes_df[\"SIZE_PROTEOFORMS\"] - sizes_df[\"SIZE_PROTEINS\"]\n",
    "\n",
    "sizes_df['PERCENTAGE_GENES_TO_PROTEINS'] = sizes_df['VARIATION_GENES_TO_PROTEINS']*100/sizes_df['SIZE_GENES']\n",
    "sizes_df['PERCENTAGE_PROTEINS_TO_PROTEOFORMS'] = sizes_df['VARIATION_PROTEINS_TO_PROTEOFORMS']*100/sizes_df['SIZE_PROTEINS']\n",
    "sizes_df.fillna(0, inplace=True)\n",
    "# sizes_df['PERCENTAGE_PROTEINS_TO_PROTEOFORMS'].unique()\n",
    "sizes_df"
   ],
   "metadata": {
    "collapsed": false,
    "pycharm": {
     "name": "#%% Explore module size variation when switching levels\n",
     "is_executing": true
    }
   }
  },
  {
   "cell_type": "code",
   "execution_count": null,
   "outputs": [],
   "source": [
    "size_variation = pd.concat({\"GENES_TO_PROTEINS\":sizes_df[\"VARIATION_GENES_TO_PROTEINS\"], \n",
    "                            \"PROTEINS_TO_PROTEOFORMS\": sizes_df[f\"VARIATION_PROTEINS_TO_PROTEOFORMS\"]\n",
    "                           }, names=[\"STEP\", \"INDEX\"], axis=0)\n",
    "size_variation = size_variation.to_frame()\n",
    "size_variation[\"STEP\"] = size_variation.index.get_level_values(\"STEP\")\n",
    "size_variation.columns = [\"VARIATION\", \"STEP\"]\n",
    "\n",
    "size_variation"
   ],
   "metadata": {
    "collapsed": false,
    "pycharm": {
     "name": "#%% Plot size variation\n",
     "is_executing": true
    }
   }
  },
  {
   "cell_type": "code",
   "execution_count": null,
   "outputs": [],
   "source": [
    "ax = sns.boxplot(x=\"VARIATION\", y=\"STEP\", data=size_variation, whis=np.inf)\n",
    "ax = sns.stripplot(x=\"VARIATION\", y=\"STEP\", data=size_variation,\n",
    "                   jitter=True, color=\".3\").set_title(\"SIZE VARIATION AT LEVEL TRANSITION\")\n",
    "plt.show()\n",
    "\n",
    "ax = sns.violinplot(x=\"STEP\", y=\"VARIATION\", data=size_variation, inner=None, color=\".8\")\n",
    "ax = sns.stripplot(x=\"STEP\", y=\"VARIATION\", data=size_variation, jitter=True).set_title(\"SIZE VARIATION AT LEVEL TRANSITION\")\n",
    "plt.show()"
   ],
   "metadata": {
    "collapsed": false,
    "pycharm": {
     "name": "#%%\n",
     "is_executing": true
    }
   }
  },
  {
   "cell_type": "code",
   "execution_count": null,
   "outputs": [],
   "source": [
    "percentage_variation = pd.concat({\"GENES_TO_PROTEINS\":sizes_df[\"PERCENTAGE_GENES_TO_PROTEINS\"], \n",
    "                            \"PROTEINS_TO_PROTEOFORMS\": sizes_df[f\"PERCENTAGE_PROTEINS_TO_PROTEOFORMS\"]\n",
    "                           }, names=[\"STEP\", \"INDEX\"], axis=0)\n",
    "percentage_variation = percentage_variation.to_frame()\n",
    "percentage_variation[\"STEP\"] = percentage_variation.index.get_level_values(\"STEP\")\n",
    "percentage_variation.columns = [\"PERCENTAGE\", \"STEP\"]\n",
    "\n",
    "percentage_variation"
   ],
   "metadata": {
    "collapsed": false,
    "pycharm": {
     "name": "#%% Plot percentage variation\n",
     "is_executing": true
    }
   }
  },
  {
   "cell_type": "code",
   "execution_count": null,
   "outputs": [],
   "source": [
    "ax = sns.boxplot(x=\"PERCENTAGE\", y=\"STEP\", data=percentage_variation, whis=np.inf)\n",
    "ax = sns.stripplot(x=\"PERCENTAGE\", y=\"STEP\", data=percentage_variation,\n",
    "                   jitter=True, color=\".3\").set_title(\"PERCENTAGE OF SIZE VARIATION AT LEVEL TRANSITION\")\n",
    "plt.show()\n",
    "\n",
    "ax = sns.violinplot(x=\"STEP\", y=\"PERCENTAGE\", data=percentage_variation, inner=None, color=\".8\")\n",
    "ax = sns.stripplot(x=\"STEP\", y=\"PERCENTAGE\", data=percentage_variation, jitter=True).set_title(\"PERCENTAGE OF SIZE VARIATION AT LEVEL TRANSITION\")\n",
    "plt.show()\n"
   ],
   "metadata": {
    "collapsed": false,
    "pycharm": {
     "name": "#%%\n",
     "is_executing": true
    }
   }
  },
  {
   "cell_type": "code",
   "execution_count": null,
   "outputs": [],
   "source": [
    "scores = {level: pd.read_csv(f\"reports/scores_{level}_overlap_similarity.tsv\", sep='\\t') for level in LEVELS}\n",
    "assert len({len(scores[level]) for level in LEVELS}) == 1, \"Error: the number of modules vary among levels.\""
   ],
   "metadata": {
    "collapsed": false,
    "pycharm": {
     "name": "#%% Read overlap scores off all levels\n",
     "is_executing": true
    }
   }
  },
  {
   "cell_type": "code",
   "execution_count": null,
   "outputs": [],
   "source": [
    "import matplotlib.pyplot as plt\n",
    "\n",
    "bins = 250\n",
    "plt.figure(figsize=(13, 6), )\n",
    "for level in LEVELS:\n",
    "    sns.distplot(scores[level]['SCORE'] , hist = True, kde = True, kde_kws = {'linewidth': 1}, label=level, bins=bins)\n",
    "plt.ylim(0, 20)\n",
    "plt.legend(prop={'size': 16}, title = 'Overlap score density distribution')\n",
    "plt.title('Overlap score distribution')\n",
    "plt.xlabel('Overlap score')\n",
    "plt.ylabel('Density')\n",
    "plt.show()"
   ],
   "metadata": {
    "collapsed": false,
    "pycharm": {
     "name": "#%% Plot overlap scores\n",
     "is_executing": true
    }
   }
  },
  {
   "cell_type": "code",
   "execution_count": null,
   "outputs": [],
   "source": [
    "df = pd.DataFrame(scores['genes'][['SCORE', 'OVERLAP_SIZE']])\n",
    "df.columns = ['SCORE_GENES', 'OVERLAP_SIZE_GENES']\n",
    "for level in ['proteins', 'proteoforms']:\n",
    "    df['OVERLAP_SIZE_' + level.upper()] = scores[level]['OVERLAP_SIZE']\n",
    "    df['SCORE_' + level.upper()] = scores[level]['SCORE']\n",
    "df['SCORE_VARIATION'] = df['SCORE_PROTEOFORMS'] - df['SCORE_GENES'] \n",
    "df['SIZE_PERCENTAGE_VARIATION'] = scores['genes'].apply(lambda x: sizes['PERCENTAGE_VARIATION'].loc[x['TRAIT1']] + sizes['PERCENTAGE_VARIATION'].loc[x['TRAIT2']], axis=1)\n",
    "df.index = scores['genes'].apply(lambda x: (x['TRAIT1'], x['TRAIT2']), axis=1)\n",
    "df"
   ],
   "metadata": {
    "collapsed": false,
    "pycharm": {
     "name": "#%% Calculate overlap score variation\n",
     "is_executing": true
    }
   }
  },
  {
   "cell_type": "code",
   "execution_count": null,
   "outputs": [],
   "source": [
    "plt.figure(figsize=(13, 6))\n",
    "plt.scatter(df['SCORE_VARIATION'], df['SIZE_PERCENTAGE_VARIATION'], alpha=0.5)\n",
    "plt.title('Variation in size VS variation in overlap')\n",
    "plt.xlabel('Size percentage variation')\n",
    "plt.ylabel('Overlap variation')\n",
    "plt.show()"
   ],
   "metadata": {
    "collapsed": false,
    "pycharm": {
     "name": "#%% Plot size variation vs score variation\n",
     "is_executing": true
    }
   }
  },
  {
   "cell_type": "code",
   "execution_count": null,
   "outputs": [],
   "source": [
    "min_overlap_size = 10\n",
    "max_overlap_size = 20\n",
    "\n",
    "overlap_data = {level: pd.read_csv(f\"reports/modules/pairs_overlap_data_{level}.tsv\") for level in LEVELS}\n"
   ],
   "metadata": {
    "collapsed": false,
    "pycharm": {
     "name": "#%% Select overlap examples where the overlap is between size range\n",
     "is_executing": true
    }
   }
  },
  {
   "cell_type": "code",
   "execution_count": null,
   "outputs": [],
   "source": [],
   "metadata": {
    "collapsed": false,
    "pycharm": {
     "name": "#%% Plot: Variation in size VS variation in overlap\n",
     "is_executing": true
    }
   }
  },
  {
   "cell_type": "code",
   "execution_count": null,
   "outputs": [],
   "source": [],
   "metadata": {
    "collapsed": false,
    "pycharm": {
     "name": "#%% Create a column with overlap coefficient variation across levels\n",
     "is_executing": true
    }
   }
  },
  {
   "cell_type": "code",
   "execution_count": null,
   "outputs": [],
   "source": [
    "# NODE_OVERLAP_SIZE_VARIATION_GENES_TO_PROTEINS\n",
    "# NODE_OVERLAP_SIZE_VARIATION_PROTEINS_TO_PROTEOFORMS\n",
    "# NODE_INTERFACE_SIZE_VARIATION_GENES_TO_PROTEINS\n",
    "# NODE_INTERFACE_SIZE_VARIATION_PROTEINS_TO_PROTEOFORMS\n",
    "# NODE_INTERFACE_SIZE_VARIATION_GENES_TO"
   ],
   "metadata": {
    "collapsed": false,
    "pycharm": {
     "name": "#%% Create columns: \n",
     "is_executing": true
    }
   }
  }
 ],
 "metadata": {
  "kernelspec": {
   "display_name": "Python 3",
   "language": "python",
   "name": "python3"
  },
  "language_info": {
   "codemirror_mode": {
    "name": "ipython",
    "version": 2
   },
   "file_extension": ".py",
   "mimetype": "text/x-python",
   "name": "python",
   "nbconvert_exporter": "python",
   "pygments_lexer": "ipython2",
   "version": "2.7.6"
  },
  "pycharm": {
   "stem_cell": {
    "cell_type": "raw",
    "source": [
     "# This file is the starting point for the whole project.\n",
     "\"\"\"\n",
     " The goal of this project is to study the differences between protein and proteoform \n",
     " interaction networks for functional analysis.\n",
     "\n",
     "\"\"\"  \n"
    ],
    "metadata": {
     "collapsed": false
    }
   }
  }
 },
 "nbformat": 4,
 "nbformat_minor": 0
}