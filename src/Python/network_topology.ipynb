{
 "cells": [
  {
   "cell_type": "markdown",
   "source": [
    "## Set up"
   ],
   "metadata": {
    "collapsed": false,
    "pycharm": {
     "name": "#%% md\n"
    }
   }
  },
  {
   "cell_type": "code",
   "execution_count": 1,
   "outputs": [
    {
     "name": "stdout",
     "text": [
      "First reaction is: R-HSA-5696021\nAdded 61 nodes to the graph.\nAdded 107 edges to the graph.\n",
      "Working directory: c:\\git\\pathwayanalysisplatform\\proteoformnetworks\n"
     ],
     "output_type": "stream"
    }
   ],
   "source": [
    "import importlib\n",
    "import re\n",
    "\n",
    "import matplotlib as plt\n",
    "import numpy as np\n",
    "import pandas as pd\n",
    "import seaborn as sns\n",
    "from numpy.core.tests.test_einsum import sizes\n",
    "\n",
    "from Python import config, interaction_network, visualization\n",
    "from Python.config import FILE_REACTOME_GENES, PATH_REACTOME, FILE_REACTOME_PROTEOFORMS, \\\n",
    "    FILE_REACTOME_PROTEIN_INTERACTIONS, FILE_PROTEOFORMS_SEARCH, PATH_RESOURCES, FILE_PATHWAYMATCHER, \\\n",
    "    URL_PATHWAYMATCHER, FILE_REACTOME_PROTEOFORM_INTERACTIONS, FILE_REACTOME_GENE_INTERACTIONS, FILE_REACTOME_PROTEINS, \\\n",
    "    LEVELS\n",
    "from Python.interaction_network import create_graph\n",
    "from Python.lib.data_read_write import create_pathwaymatcher_files\n",
    "from Python.lib.download import download_if_not_exists\n",
    "from Python.network_topology_queries import get_pathways, get_reactions_and_participants_by_pathway\n",
    "from Python.visualization import plot_graph\n",
    "\n",
    "config.set_root_wd()"
   ],
   "metadata": {
    "collapsed": false,
    "pycharm": {
     "name": "#%% Set up configuration\n",
     "is_executing": false
    }
   }
  },
  {
   "cell_type": "markdown",
   "source": [
    "## Download PathwayMatcher and create interaction networks"
   ],
   "metadata": {
    "collapsed": false,
    "pycharm": {
     "name": "#%% md\n",
     "is_executing": false
    }
   }
  },
  {
   "cell_type": "code",
   "execution_count": 2,
   "outputs": [
    {
     "name": "stdout",
     "text": [
      "PathwayMatcher files READY\n"
     ],
     "output_type": "stream"
    }
   ],
   "source": [
    "# What is fixed for all sources? These files are generated following the Network-Topology.md instructions in the Wiki.\n",
    "## genes, proteins and proteoforms universe list (full network nodes)\n",
    "## genes, proteins and proteoforms interactions (full network links)\n",
    "## Mapping from genes to proteins, and from proteins to proteoforms\n",
    "\n",
    "create_pathwaymatcher_files(PATH_REACTOME, FILE_REACTOME_GENES, FILE_REACTOME_PROTEINS,\n",
    "                            FILE_REACTOME_PROTEOFORMS, FILE_REACTOME_GENE_INTERACTIONS,\n",
    "                            FILE_REACTOME_PROTEIN_INTERACTIONS, FILE_REACTOME_PROTEOFORM_INTERACTIONS,\n",
    "                            FILE_PROTEOFORMS_SEARCH,\n",
    "                            PATH_RESOURCES, FILE_PATHWAYMATCHER, URL_PATHWAYMATCHER)"
   ],
   "metadata": {
    "collapsed": false,
    "pycharm": {
     "name": "#%% Download and create interaction networks for genes, proteins and proteforms\n",
     "is_executing": false
    }
   }
  },
  {
   "cell_type": "code",
   "execution_count": 3,
   "outputs": [
    {
     "name": "stdout",
     "text": [
      "        Reaction         Entity                                    Name  \\\n0  R-HSA-5696021  R-HSA-5696062  ADPGK [endoplasmic reticulum membrane]   \n1  R-HSA-5696021   R-ALL-217314   Mg2+ [endoplasmic reticulum membrane]   \n2  R-HSA-5696021    R-ALL-70113                           Glc [cytosol]   \n3  R-HSA-5696021    R-ALL-29370                           ADP [cytosol]   \n4  R-HSA-5696021    R-ALL-76577                           AMP [cytosol]   \n\n                            Type      Id Database              Role  \n0  EntityWithAccessionedSequence  Q9BRR6  UniProt  catalystActivity  \n1                   SimpleEntity   18420    ChEBI  catalystActivity  \n2                   SimpleEntity   17925    ChEBI             input  \n3                   SimpleEntity  456216    ChEBI             input  \n4                   SimpleEntity   16027    ChEBI            output  \n['catalystActivity' 'input' 'output' 'regulatedBy']\nIndex(['Reaction', 'Entity', 'Name', 'Type', 'Id', 'Database', 'Role'], dtype='object')\n"
     ],
     "output_type": "stream"
    }
   ],
   "source": [
    "pathways = get_pathways()\n",
    "# print(pathways)\n",
    "\n",
    "df = get_reactions_and_participants_by_pathway(\"R-HSA-70171\") \n",
    "print(df.head())\n",
    "\n",
    "print(df[\"Role\"].unique())\n",
    "print(df.columns)\n",
    "\n"
   ],
   "metadata": {
    "collapsed": false,
    "pycharm": {
     "name": "#%% Plot interaction networks\n",
     "is_executing": false
    }
   }
  },
  {
   "cell_type": "code",
   "execution_count": 4,
   "outputs": [
    {
     "name": "stdout",
     "text": [
      "First reaction is: R-HSA-5696021\nAdded 61 nodes to the graph.\nAdded 107 edges to the graph.\n['ADPGK', 'Mg2+', 'Glc', 'ADP', 'AMP', 'G6P', 'BPGM', '1,3BPG', '2,3BPG', 'GNPDA1', 'GNPDA2', 'GlcN6P', 'H2O', 'NH4+', 'Fru(6)P', 'GCK', 'HK1', 'HK2', 'HK3', 'ATP', 'H+', 'GAPDHS', 'GAPDH', 'NAD+', 'GA3P', 'Pi', 'NADH', 'TPI1', 'DHAP', 'PFKL', 'PFKM', 'PFKP', 'D-Fructose 1,6-bisphosphate', 'D-Fructose 2,6-bisphosphate', 'CIT', 'GPI', 'ALDOA', 'ALDOB', 'ALDOC', 'PGAM1', 'PGAM2', '3PG', '2PG', 'ENO2', 'ENO3', 'ENO1', 'PEP', 'PKM-2', 'PKLR-1', 'PKLR-2', 'PKM-1', 'K+', 'PYR', 'cAMP', 'Ac-CoA', 'PGK2', 'PGK1', 'PGM2L1', 'G1,6BP', 'PGP', 'Glycerol']\n[('ADPGK', 'AMP'), ('ADPGK', 'G6P'), ('Mg2+', 'AMP'), ('Mg2+', 'G6P'), ('Mg2+', 'H2O'), ('Mg2+', 'PEP'), ('Mg2+', 'PYR'), ('Mg2+', 'ATP'), ('Mg2+', '3PG'), ('Mg2+', 'H+'), ('Mg2+', 'G1,6BP'), ('Glc', 'AMP'), ('Glc', 'G6P'), ('Glc', 'H+'), ('Glc', 'ADP'), ('ADP', 'AMP'), ('ADP', 'G6P'), ('ADP', 'ATP'), ('ADP', 'HK3'), ('ADP', 'HK2'), ('ADP', 'HK1'), ('ADP', 'Fru(6)P'), ('ADP', 'PFKP'), ('ADP', 'PFKM'), ('ADP', 'D-Fructose 2,6-bisphosphate'), ('ADP', 'D-Fructose 1,6-bisphosphate'), ('ADP', 'ADP'), ('ADP', 'CIT'), ('ADP', 'PYR'), ('ADP', '3PG'), ('AMP', 'D-Fructose 1,6-bisphosphate'), ('G6P', 'ATP'), ('G6P', 'HK3'), ('G6P', 'HK2'), ('G6P', 'HK1'), ('G6P', 'Fru(6)P'), ('G6P', '3PG'), ('G6P', 'H+'), ('G6P', 'G1,6BP'), ('1,3BPG', '2,3BPG'), ('1,3BPG', 'Pi'), ('1,3BPG', 'NAD+'), ('1,3BPG', 'GA3P'), ('1,3BPG', 'GAPDH'), ('1,3BPG', '3PG'), ('1,3BPG', 'ATP'), ('1,3BPG', 'H+'), ('1,3BPG', 'G1,6BP'), ('GNPDA2', 'NH4+'), ('GNPDA2', 'Fru(6)P'), ('GlcN6P', 'NH4+'), ('GlcN6P', 'Fru(6)P'), ('H2O', 'NH4+'), ('H2O', 'Fru(6)P'), ('H2O', '2PG'), ('H2O', 'ENO1'), ('H2O', 'ENO3'), ('Fru(6)P', 'D-Fructose 1,6-bisphosphate'), ('HK1', 'H+'), ('HK2', 'H+'), ('HK3', 'H+'), ('ATP', 'H+'), ('ATP', 'D-Fructose 1,6-bisphosphate'), ('ATP', 'PEP'), ('ATP', 'PKLR-2'), ('ATP', 'PKLR-1'), ('ATP', 'K+'), ('ATP', 'PKM-1'), ('ATP', 'cAMP'), ('ATP', 'PYR'), ('ATP', 'ATP'), ('ATP', 'Ac-CoA'), ('ATP', 'PGK1'), ('H+', 'Pi'), ('H+', 'NAD+'), ('H+', 'GA3P'), ('H+', 'GAPDH'), ('H+', 'PYR'), ('GAPDH', 'NADH'), ('NAD+', 'NADH'), ('GA3P', 'NADH'), ('GA3P', 'DHAP'), ('GA3P', 'D-Fructose 1,6-bisphosphate'), ('GA3P', 'ALDOB'), ('GA3P', 'ALDOC'), ('Pi', 'NADH'), ('DHAP', 'D-Fructose 1,6-bisphosphate'), ('DHAP', 'ALDOB'), ('DHAP', 'ALDOC'), ('PFKM', 'D-Fructose 1,6-bisphosphate'), ('PFKP', 'D-Fructose 1,6-bisphosphate'), ('D-Fructose 1,6-bisphosphate', 'D-Fructose 2,6-bisphosphate'), ('D-Fructose 1,6-bisphosphate', 'CIT'), ('D-Fructose 1,6-bisphosphate', 'PYR'), ('PGAM2', '2PG'), ('3PG', '2PG'), ('3PG', 'PGK1'), ('2PG', 'PEP'), ('ENO3', 'PEP'), ('ENO1', 'PEP'), ('PEP', 'PYR'), ('PKLR-1', 'PYR'), ('PKLR-2', 'PYR'), ('PKM-1', 'PYR'), ('K+', 'PYR'), ('PYR', 'cAMP'), ('PYR', 'Ac-CoA')]\n"
     ],
     "output_type": "stream"
    }
   ],
   "source": [
    "importlib.reload(interaction_network)\n",
    "\n",
    "G = create_graph(df)\n",
    "print(G.nodes)\n",
    "print(G.edges)"
   ],
   "metadata": {
    "collapsed": false,
    "pycharm": {
     "name": "#%%\n",
     "is_executing": false
    }
   }
  },
  {
   "cell_type": "code",
   "execution_count": 5,
   "outputs": [
    {
     "name": "stdout",
     "text": [
      "First reaction is: R-HSA-5696021\nAdded 61 nodes to the graph.\nAdded 107 edges to the graph.\n"
     ],
     "output_type": "stream"
    }
   ],
   "source": [
    "importlib.reload(visualization)\n",
    "\n",
    "from bokeh.io import show\n",
    "\n",
    "plot = plot_graph(G)\n",
    "show(plot)\n",
    "\n",
    "# TODO: Write function that converts a single pathway into an undirected graph\n",
    "# TODO: Write function that converts a single pathway into a directed graph\n",
    "# TODO: Write function that converts a set of pathways into an interaction network\n",
    "# TODO: Implement function to plot an interaction network\n",
    "# TODO: Write function that colors the different pathways in an interaction network"
   ],
   "metadata": {
    "collapsed": false,
    "pycharm": {
     "name": "#%%\n",
     "is_executing": false
    }
   }
  },
  {
   "cell_type": "code",
   "execution_count": 5,
   "outputs": [],
   "source": [],
   "metadata": {
    "collapsed": false,
    "pycharm": {
     "name": "#%%\n",
     "is_executing": false
    }
   }
  },
  {
   "cell_type": "markdown",
   "source": [
    "## Node Degree analysis"
   ],
   "metadata": {
    "collapsed": false,
    "pycharm": {
     "name": "#%% md\n"
    }
   }
  },
  {
   "cell_type": "code",
   "execution_count": 6,
   "outputs": [
    {
     "name": "stdout",
     "text": [
      "Number of entities:  21992\nAverage number of interacting entities: 186.81\n",
      "Number of entities:  9841\nAverage number of interacting entities: 92.03\n",
      "Number of entities:  13002\nAverage number of interacting entities: 104.51\n"
     ],
     "output_type": "stream"
    }
   ],
   "source": [
    "def getDegrees(filename, entity):\n",
    "    \"\"\"\n",
    "    Calculates number of interactors (degree) of each entity node.\n",
    "    By entity we mean: genes, proteins or proteoforms\n",
    "    \n",
    "    :param filename: File with the interactions of an entity type\n",
    "    :return: Pandas dataframe with two columns: ENTITY, DEGREE\n",
    "    ENTITY is a string value, DEGREE is an integer\n",
    "    \"\"\"\n",
    "    entities = {}\n",
    "    with open(filename) as fg:\n",
    "        interaction = fg.readline()\n",
    "        interaction = fg.readline()\n",
    "        while interaction:\n",
    "            # print(interaction)\n",
    "            fields = interaction.split('\\t')\n",
    "            entities.setdefault(fields[0].strip(), set()).add(fields[1].strip())\n",
    "            entities.setdefault(fields[1].strip(), set()).add(fields[0].strip())\n",
    "            interaction = fg.readline()\n",
    "    print(\"Number of entities: \", len(entities))\n",
    "    \n",
    "    genes_degrees = [len(entry[1]) for entry in entities.items()]\n",
    "    data = {'ENTITY': np.repeat(entity, len(genes_degrees)),\n",
    "            'DEGREE': genes_degrees}\n",
    "    avg_degree = sum(genes_degrees)/len(genes_degrees)\n",
    "    print(\"Average number of interacting entities: {:.2f}\".format(avg_degree) )    \n",
    "    return pd.DataFrame(data, columns = [\"ENTITY\", \"DEGREE\"])\n",
    "\n",
    "# Calculate number of neighbours of each node\n",
    "degree_genes = getDegrees(PATH_REACTOME + FILE_REACTOME_GENE_INTERACTIONS, \"gene\")\n",
    "degree_proteins = getDegrees(PATH_REACTOME + FILE_REACTOME_PROTEIN_INTERACTIONS, \"protein\")\n",
    "degree_proteoforms = getDegrees(PATH_REACTOME + FILE_REACTOME_PROTEOFORM_INTERACTIONS, \"proteoform\")"
   ],
   "metadata": {
    "collapsed": false,
    "pycharm": {
     "name": "#%% Calculate average degree for all networks\n",
     "is_executing": false
    }
   }
  },
  {
   "cell_type": "code",
   "execution_count": 7,
   "outputs": [
    {
     "data": {
      "text/plain": "<Figure size 432x288 with 1 Axes>",
      "image/png": "[encoded data removed]"
     },
     "metadata": {},
     "output_type": "display_data"
    }
   ],
   "source": [
    "degrees = pd.concat([degree_genes, degree_proteins, degree_proteoforms])\n",
    "sns.set(style=\"ticks\")\n",
    "ax = sns.boxplot(x=\"ENTITY\", y=\"DEGREE\", data=degrees)\n"
   ],
   "metadata": {
    "collapsed": false,
    "pycharm": {
     "name": "#%% Plot the max, min, and average degree for each type of entity\n",
     "is_executing": false
    }
   }
  },
  {
   "cell_type": "markdown",
   "source": [
    "## Bridges and Articulation points"
   ],
   "metadata": {
    "collapsed": false,
    "pycharm": {
     "name": "#%% md\n",
     "is_executing": false
    }
   }
  },
  {
   "cell_type": "code",
   "execution_count": 8,
   "outputs": [],
   "source": [
    "# TODO: Write function that plots and highlights the articulation points of an interaction network.\n",
    "# TODO: Write function that plots and highlights also the bridges of the network."
   ],
   "metadata": {
    "collapsed": false,
    "pycharm": {
     "name": "#%%\n",
     "is_executing": false
    }
   }
  },
  {
   "cell_type": "markdown",
   "source": [
    "## Disease modules"
   ],
   "metadata": {
    "collapsed": false,
    "pycharm": {
     "name": "#%% md\n"
    }
   }
  },
  {
   "cell_type": "code",
   "execution_count": 9,
   "outputs": [
    {
     "name": "stdout",
     "text": [
      "Module files READY\n"
     ],
     "output_type": "stream"
    }
   ],
   "source": [
    "# What is needed from each source? \n",
    "## Gene/Protein Modules file (network regions)\n",
    "\n",
    "# PheGenI Phenotypes\n",
    "download_if_not_exists(\"resources/PheGenI/\", \n",
    "                       \"PheGenI_Association.txt\", \n",
    "                       \"https://www.ncbi.nlm.nih.gov/projects/gap/eqtl/EpiViewBE.cgi?type=dl.tab\",\n",
    "                       \"PheGenI modules\")\n",
    "\n",
    "# Jensen Lab Diseases\n",
    "download_if_not_exists(\"resources/Jensen/\",\n",
    "                       \"human_disease_textmining_filtered.tsv\",\n",
    "                       \"http://download.jensenlab.org/human_disease_textmining_filtered.tsv\",\n",
    "                       \"Jensen Lab Diseases\")\n",
    "\n",
    "# from lib.conversions import create_gene_to_protein_mapping\n",
    "# \n",
    "# path_file_genes = \"../resources/Reactome/v70/Genes/all_genes_v70.csv\"\n",
    "# create_gene_to_protein_mapping(path_file_genes, \"../resources/UniProt/\", \"mapping_proteins_to_genes_v70.tab\", 1000)\n",
    "dataset=\"PheGenI\" \n",
    "# dataset=\"Pathways\" \n",
    "# dataset=\"Jensen\" \n",
    "print(\"Module files READY\")"
   ],
   "metadata": {
    "collapsed": false,
    "pycharm": {
     "name": "#%% Download and create disease modules\n",
     "is_executing": false
    }
   }
  },
  {
   "cell_type": "code",
   "execution_count": 10,
   "outputs": [],
   "source": [
    "# Generates module files: gene_modules.tsv, protein_modules.tsv and proteoform_modules.tsv\n",
    "# Generates single module files at each level: gene, protein and proteoform file for each trait\n",
    "# Module sizes for genes, protein and proteoform levels\n",
    "# Variation in module sizes when going from one level to the other\n",
    "# Three files (for genes, proteins and proteoforms) with the Overlap similarity of each \n",
    "# pair of traits.\n",
    "# Creates a file with a selection of trait pair examples which show decrease in the overlap. "
   ],
   "metadata": {
    "collapsed": false,
    "pycharm": {
     "name": "#%% Create report files: Execute the C++ main program\n",
     "is_executing": false
    }
   }
  },
  {
   "cell_type": "code",
   "execution_count": 11,
   "outputs": [
    {
     "name": "stdout",
     "text": [
      "\ngenes\n             SIZE\ncount  792.000000\nmean     3.445707\nstd     11.633449\nmin      0.000000\n25%      0.000000\n50%      0.000000\n75%      2.000000\nmax    141.000000\n             SIZE\ncount  792.000000\nmean    11.867424\nstd     25.251481\nmin      1.000000\n25%      2.000000\n50%      4.000000\n75%     10.000000\nmax    257.000000\n\nproteins\n             SIZE\ncount  792.000000\nmean     4.707071\nstd     14.607725\nmin      0.000000\n25%      0.000000\n50%      0.000000\n75%      2.000000\nmax    140.000000\n             SIZE\ncount  792.000000\nmean    14.083333\nstd     29.044247\nmin      1.000000\n25%      2.000000\n50%      4.000000\n75%     13.000000\nmax    271.000000\n\nproteoforms\n             SIZE\ncount  792.000000\nmean     7.037879\nstd     23.795081\nmin      0.000000\n25%      0.000000\n50%      0.000000\n75%      2.000000\nmax    283.000000\n             SIZE\ncount  792.000000\nmean    18.588384\nstd     40.643680\nmin      0.000000\n25%      2.000000\n50%      5.000000\n75%     16.000000\nmax    417.000000\n"
     ],
     "output_type": "stream"
    },
    {
     "data": {
      "text/plain": "                                                              MODULE  SIZE  \\\nlevel       index                                                            \ngenes       0                                ADAMTS13 protein, human     0   \n            1      Amyloidosis, Cerebral, with Spongiform Encepha...     0   \n            2                                    Anemia, Sickle Cell    11   \n            3                                Antibodies, Antinuclear     0   \n            4                           Antibodies, Antiphospholipid     0   \n...                                                              ...   ...   \nproteoforms 787                                         temozolomide     2   \n            788                         thiopurine methyltransferase     3   \n            789                        thyroid microsomal antibodies     3   \n            790                                von Willebrand Factor     6   \n            791                                          ziprasidone     1   \n\n                  CONNECTEDNESS        LEVEL  \nlevel       index                             \ngenes       0         connected        genes  \n            1         connected        genes  \n            2         connected        genes  \n            3         connected        genes  \n            4         connected        genes  \n...                         ...          ...  \nproteoforms 787    disconnected  proteoforms  \n            788    disconnected  proteoforms  \n            789    disconnected  proteoforms  \n            790    disconnected  proteoforms  \n            791    disconnected  proteoforms  \n\n[4752 rows x 4 columns]",
      "text/html": "<div>\n<style scoped>\n    .dataframe tbody tr th:only-of-type {\n        vertical-align: middle;\n    }\n\n    .dataframe tbody tr th {\n        vertical-align: top;\n    }\n\n    .dataframe thead th {\n        text-align: right;\n    }\n</style>\n<table border=\"1\" class=\"dataframe\">\n  <thead>\n    <tr style=\"text-align: right;\">\n      <th></th>\n      <th></th>\n      <th>MODULE</th>\n      <th>SIZE</th>\n      <th>CONNECTEDNESS</th>\n      <th>LEVEL</th>\n    </tr>\n    <tr>\n      <th>level</th>\n      <th>index</th>\n      <th></th>\n      <th></th>\n      <th></th>\n      <th></th>\n    </tr>\n  </thead>\n  <tbody>\n    <tr>\n      <th rowspan=\"5\" valign=\"top\">genes</th>\n      <th>0</th>\n      <td>ADAMTS13 protein, human</td>\n      <td>0</td>\n      <td>connected</td>\n      <td>genes</td>\n    </tr>\n    <tr>\n      <th>1</th>\n      <td>Amyloidosis, Cerebral, with Spongiform Encepha...</td>\n      <td>0</td>\n      <td>connected</td>\n      <td>genes</td>\n    </tr>\n    <tr>\n      <th>2</th>\n      <td>Anemia, Sickle Cell</td>\n      <td>11</td>\n      <td>connected</td>\n      <td>genes</td>\n    </tr>\n    <tr>\n      <th>3</th>\n      <td>Antibodies, Antinuclear</td>\n      <td>0</td>\n      <td>connected</td>\n      <td>genes</td>\n    </tr>\n    <tr>\n      <th>4</th>\n      <td>Antibodies, Antiphospholipid</td>\n      <td>0</td>\n      <td>connected</td>\n      <td>genes</td>\n    </tr>\n    <tr>\n      <th>...</th>\n      <th>...</th>\n      <td>...</td>\n      <td>...</td>\n      <td>...</td>\n      <td>...</td>\n    </tr>\n    <tr>\n      <th rowspan=\"5\" valign=\"top\">proteoforms</th>\n      <th>787</th>\n      <td>temozolomide</td>\n      <td>2</td>\n      <td>disconnected</td>\n      <td>proteoforms</td>\n    </tr>\n    <tr>\n      <th>788</th>\n      <td>thiopurine methyltransferase</td>\n      <td>3</td>\n      <td>disconnected</td>\n      <td>proteoforms</td>\n    </tr>\n    <tr>\n      <th>789</th>\n      <td>thyroid microsomal antibodies</td>\n      <td>3</td>\n      <td>disconnected</td>\n      <td>proteoforms</td>\n    </tr>\n    <tr>\n      <th>790</th>\n      <td>von Willebrand Factor</td>\n      <td>6</td>\n      <td>disconnected</td>\n      <td>proteoforms</td>\n    </tr>\n    <tr>\n      <th>791</th>\n      <td>ziprasidone</td>\n      <td>1</td>\n      <td>disconnected</td>\n      <td>proteoforms</td>\n    </tr>\n  </tbody>\n</table>\n<p>4752 rows × 4 columns</p>\n</div>"
     },
     "metadata": {},
     "output_type": "execute_result",
     "execution_count": 11
    }
   ],
   "source": [
    "sizes_dict_connected = {level: pd.read_csv(f\"reports/modules/module_sizes_{level}.tsv\", sep=\"\\t\") for level in LEVELS}\n",
    "sizes_dict_disconnected = {level: pd.read_csv(f\"reports/modules_keep_disconnected/module_sizes_{level}.tsv\", sep=\"\\t\") for level in LEVELS}\n",
    "for level in LEVELS:\n",
    "    print(f\"\\n{level}\")\n",
    "    print(sizes_dict_connected[level].describe())\n",
    "    print(sizes_dict_disconnected[level].describe())\n",
    "    sizes_dict_connected[level][\"CONNECTEDNESS\"] = \"connected\"\n",
    "    sizes_dict_disconnected[level][\"CONNECTEDNESS\"] = \"disconnected\"\n",
    "\n",
    "sizes_df_connected = pd.concat(sizes_dict_connected, names=[\"level\", \"index\"])\n",
    "sizes_df_disconnected = pd.concat(sizes_dict_disconnected, names=[\"level\", \"index\"])\n",
    "# sizes_df[sizes_df.index.get_level_values(\"level\") == \"genes\"]\n",
    "# sizes_df = pd.concat([sizes_df_connected, sizes_dict_disconnected], names=[\"level\", \"index\"])\n",
    "# sizes_df\n",
    "sizes_df_connected[\"LEVEL\"] = sizes_df_connected.index.get_level_values(\"level\")\n",
    "sizes_df_disconnected[\"LEVEL\"] = sizes_df_disconnected.index.get_level_values(\"level\")\n",
    "sizes_df = pd.concat([sizes_df_connected, sizes_df_disconnected])\n",
    "sizes_df"
   ],
   "metadata": {
    "collapsed": false,
    "pycharm": {
     "name": "#%% Explore module sizes\n",
     "is_executing": false
    }
   }
  },
  {
   "cell_type": "code",
   "execution_count": 12,
   "outputs": [
    {
     "name": "stderr",
     "text": [
      "c:\\git\\pathwayanalysisplatform\\proteoformnetworks\\venv\\lib\\site-packages\\seaborn\\axisgrid.py:728: UserWarning: Using the barplot function without specifying `order` is likely to produce an incorrect plot.\n  warnings.warn(warning)\n"
     ],
     "output_type": "stream"
    },
    {
     "traceback": [
      "\u001b[1;31m---------------------------------------------------------------------------\u001b[0m",
      "\u001b[1;31mAttributeError\u001b[0m                            Traceback (most recent call last)",
      "\u001b[1;32m<ipython-input-12-23742e39aff0>\u001b[0m in \u001b[0;36m<module>\u001b[1;34m\u001b[0m\n\u001b[0;32m      9\u001b[0m \u001b[0mg\u001b[0m \u001b[1;33m=\u001b[0m \u001b[0msns\u001b[0m\u001b[1;33m.\u001b[0m\u001b[0mFacetGrid\u001b[0m\u001b[1;33m(\u001b[0m\u001b[0msizes_df\u001b[0m\u001b[1;33m,\u001b[0m \u001b[0mcol\u001b[0m\u001b[1;33m=\u001b[0m\u001b[1;34m\"LEVEL\"\u001b[0m\u001b[1;33m,\u001b[0m \u001b[0mheight\u001b[0m\u001b[1;33m=\u001b[0m\u001b[1;36m4\u001b[0m\u001b[1;33m,\u001b[0m \u001b[0maspect\u001b[0m\u001b[1;33m=\u001b[0m\u001b[1;36m.5\u001b[0m\u001b[1;33m,\u001b[0m \u001b[0mhue\u001b[0m\u001b[1;33m=\u001b[0m\u001b[1;34m\"LEVEL\"\u001b[0m\u001b[1;33m,\u001b[0m \u001b[0mpalette\u001b[0m\u001b[1;33m=\u001b[0m\u001b[1;34m\"Set2\"\u001b[0m\u001b[1;33m)\u001b[0m\u001b[1;33m\u001b[0m\u001b[1;33m\u001b[0m\u001b[0m\n\u001b[0;32m     10\u001b[0m \u001b[0mg\u001b[0m\u001b[1;33m.\u001b[0m\u001b[0mmap\u001b[0m\u001b[1;33m(\u001b[0m\u001b[0msns\u001b[0m\u001b[1;33m.\u001b[0m\u001b[0mbarplot\u001b[0m\u001b[1;33m,\u001b[0m \u001b[1;34m\"CONNECTEDNESS\"\u001b[0m\u001b[1;33m,\u001b[0m \u001b[1;34m\"SIZE\"\u001b[0m\u001b[1;33m)\u001b[0m\u001b[1;33m\u001b[0m\u001b[1;33m\u001b[0m\u001b[0m\n\u001b[1;32m---> 11\u001b[1;33m \u001b[0mplt\u001b[0m\u001b[1;33m.\u001b[0m\u001b[0mshow\u001b[0m\u001b[1;33m(\u001b[0m\u001b[1;33m)\u001b[0m\u001b[1;33m\u001b[0m\u001b[1;33m\u001b[0m\u001b[0m\n\u001b[0m\u001b[0;32m     12\u001b[0m \u001b[1;33m\u001b[0m\u001b[0m\n\u001b[0;32m     13\u001b[0m \u001b[0max\u001b[0m \u001b[1;33m=\u001b[0m \u001b[0msns\u001b[0m\u001b[1;33m.\u001b[0m\u001b[0mboxplot\u001b[0m\u001b[1;33m(\u001b[0m\u001b[0mx\u001b[0m\u001b[1;33m=\u001b[0m\u001b[1;34m\"SIZE\"\u001b[0m\u001b[1;33m,\u001b[0m \u001b[0my\u001b[0m\u001b[1;33m=\u001b[0m\u001b[1;34m\"LEVEL\"\u001b[0m\u001b[1;33m,\u001b[0m \u001b[0mdata\u001b[0m\u001b[1;33m=\u001b[0m\u001b[0msizes_df_connected\u001b[0m\u001b[1;33m,\u001b[0m \u001b[0mwhis\u001b[0m\u001b[1;33m=\u001b[0m\u001b[0mnp\u001b[0m\u001b[1;33m.\u001b[0m\u001b[0minf\u001b[0m\u001b[1;33m)\u001b[0m\u001b[1;33m\u001b[0m\u001b[1;33m\u001b[0m\u001b[0m\n",
      "\u001b[1;31mAttributeError\u001b[0m: module 'matplotlib' has no attribute 'show'"
     ],
     "ename": "AttributeError",
     "evalue": "module 'matplotlib' has no attribute 'show'",
     "output_type": "error"
    },
    {
     "data": {
      "text/plain": "<Figure size 432x288 with 3 Axes>",
      "image/png": "[encoded data removed]"
     },
     "metadata": {},
     "output_type": "display_data"
    }
   ],
   "source": [
    "# Do the following plots for the modules in two cases: keeping disconnected nodes and removing them\n",
    "    # Jitter plot showing the sizes for genes, proteins and proteoforms\n",
    "    # Jitter plot showing the difference in size fom genes to proteins and from proteins to proteoforms.\n",
    "# sizes_df = pd.DataFrame()\n",
    "# for level in levels:\n",
    "#     sizes_df[f\"SIZES_{level.upper()}\"] = sizes_dict[level][\"SIZES\"]\n",
    "\n",
    "sns.set(style=\"ticks\")\n",
    "g = sns.FacetGrid(sizes_df, col=\"LEVEL\", height=4, aspect=.5, hue=\"LEVEL\", palette=\"Set2\")\n",
    "g.map(sns.barplot, \"CONNECTEDNESS\", \"SIZE\")\n",
    "plt.show()\n",
    "\n",
    "ax = sns.boxplot(x=\"SIZE\", y=\"LEVEL\", data=sizes_df_connected, whis=np.inf)\n",
    "ax = sns.stripplot(x=\"SIZE\", y=\"LEVEL\", data=sizes_df_connected, jitter=True, color=\".3\")\n",
    "plt.show()\n",
    "\n",
    "ax = sns.violinplot(x=\"SIZE\", y=\"LEVEL\", data=sizes_df_connected, inner=None, color=\".8\")\n",
    "ax = sns.stripplot(x=\"SIZE\", y=\"LEVEL\", data=sizes_df_connected, jitter=True)\n",
    "plt.show()\n",
    "\n",
    "g = sns.catplot(x=\"LEVEL\", y=\"SIZE\",\n",
    "                hue=\"LEVEL\", col=\"CONNECTEDNESS\",\n",
    "                data=sizes_df, kind=\"strip\",\n",
    "                jitter=True,\n",
    "                height=4, aspect=.7);\n",
    "plt.show()\n",
    "\n",
    "g = sns.catplot(x=\"CONNECTEDNESS\", y=\"SIZE\",\n",
    "                hue=\"CONNECTEDNESS\", col=\"LEVEL\",\n",
    "                data=sizes_df, kind=\"strip\",\n",
    "                jitter=True,\n",
    "                height=4, aspect=.7);\n",
    "plt.show()\n",
    "\n",
    "g = sns.catplot(x=\"SIZE\", y=\"LEVEL\", hue=\"CONNECTEDNESS\", data=sizes_df, kind=\"violin\")\n",
    "plt.show()\n",
    "\n",
    "g = sns.catplot(x=\"SIZE\", y=\"CONNECTEDNESS\", hue=\"LEVEL\", data=sizes_df, kind=\"violin\")\n",
    "plt.show()"
   ],
   "metadata": {
    "collapsed": false,
    "pycharm": {
     "name": "#%%\n",
     "is_executing": false
    }
   }
  },
  {
   "cell_type": "code",
   "execution_count": null,
   "outputs": [],
   "source": [
    "# Calculate and plot size variation\n",
    "sizes_df = pd.concat(\n",
    "    [pd.read_csv(f\"reports/modules/module_sizes_{level}.tsv\", sep=\"\\t\", names=[\"MODULES\", f\"SIZE_{level.upper()}\"], header=0)[f\"SIZE_{level.upper()}\"] for level in LEVELS], \n",
    "    axis=1)\n",
    "\n",
    "sizes_df[f\"VARIATION_GENES_TO_PROTEINS\"] = sizes_df[\"SIZE_PROTEINS\"] - sizes_df[\"SIZE_GENES\"]\n",
    "sizes_df[f\"VARIATION_PROTEINS_TO_PROTEOFORMS\"] = sizes_df[\"SIZE_PROTEOFORMS\"] - sizes_df[\"SIZE_PROTEINS\"]\n",
    "\n",
    "sizes_df['PERCENTAGE_GENES_TO_PROTEINS'] = sizes_df['VARIATION_GENES_TO_PROTEINS']*100/sizes_df['SIZE_GENES']\n",
    "sizes_df['PERCENTAGE_PROTEINS_TO_PROTEOFORMS'] = sizes_df['VARIATION_PROTEINS_TO_PROTEOFORMS']*100/sizes_df['SIZE_PROTEINS']\n",
    "sizes_df.fillna(0, inplace=True)\n",
    "# sizes_df['PERCENTAGE_PROTEINS_TO_PROTEOFORMS'].unique()\n",
    "sizes_df"
   ],
   "metadata": {
    "collapsed": false,
    "pycharm": {
     "name": "#%% Explore module size variation when switching levels\n",
     "is_executing": false
    }
   }
  },
  {
   "cell_type": "code",
   "execution_count": null,
   "outputs": [],
   "source": [
    "size_variation = pd.concat({\"GENES_TO_PROTEINS\":sizes_df[\"VARIATION_GENES_TO_PROTEINS\"], \n",
    "                            \"PROTEINS_TO_PROTEOFORMS\": sizes_df[f\"VARIATION_PROTEINS_TO_PROTEOFORMS\"]\n",
    "                           }, names=[\"STEP\", \"INDEX\"], axis=0)\n",
    "size_variation = size_variation.to_frame()\n",
    "size_variation[\"STEP\"] = size_variation.index.get_level_values(\"STEP\")\n",
    "size_variation.columns = [\"VARIATION\", \"STEP\"]\n",
    "\n",
    "size_variation"
   ],
   "metadata": {
    "collapsed": false,
    "pycharm": {
     "name": "#%% Plot size variation\n",
     "is_executing": false
    }
   }
  },
  {
   "cell_type": "code",
   "execution_count": null,
   "outputs": [],
   "source": [
    "ax = sns.boxplot(x=\"VARIATION\", y=\"STEP\", data=size_variation, whis=np.inf)\n",
    "ax = sns.stripplot(x=\"VARIATION\", y=\"STEP\", data=size_variation,\n",
    "                   jitter=True, color=\".3\").set_title(\"SIZE VARIATION AT LEVEL TRANSITION\")\n",
    "plt.show()\n",
    "\n",
    "ax = sns.violinplot(x=\"STEP\", y=\"VARIATION\", data=size_variation, inner=None, color=\".8\")\n",
    "ax = sns.stripplot(x=\"STEP\", y=\"VARIATION\", data=size_variation, jitter=True).set_title(\"SIZE VARIATION AT LEVEL TRANSITION\")\n",
    "plt.show()"
   ],
   "metadata": {
    "collapsed": false,
    "pycharm": {
     "name": "#%%\n",
     "is_executing": false
    }
   }
  },
  {
   "cell_type": "code",
   "execution_count": null,
   "outputs": [],
   "source": [
    "percentage_variation = pd.concat({\"GENES_TO_PROTEINS\":sizes_df[\"PERCENTAGE_GENES_TO_PROTEINS\"], \n",
    "                            \"PROTEINS_TO_PROTEOFORMS\": sizes_df[f\"PERCENTAGE_PROTEINS_TO_PROTEOFORMS\"]\n",
    "                           }, names=[\"STEP\", \"INDEX\"], axis=0)\n",
    "percentage_variation = percentage_variation.to_frame()\n",
    "percentage_variation[\"STEP\"] = percentage_variation.index.get_level_values(\"STEP\")\n",
    "percentage_variation.columns = [\"PERCENTAGE\", \"STEP\"]\n",
    "\n",
    "percentage_variation"
   ],
   "metadata": {
    "collapsed": false,
    "pycharm": {
     "name": "#%% Plot percentage variation\n",
     "is_executing": false
    }
   }
  },
  {
   "cell_type": "code",
   "execution_count": null,
   "outputs": [],
   "source": [
    "ax = sns.boxplot(x=\"PERCENTAGE\", y=\"STEP\", data=percentage_variation, whis=np.inf)\n",
    "ax = sns.stripplot(x=\"PERCENTAGE\", y=\"STEP\", data=percentage_variation,\n",
    "                   jitter=True, color=\".3\").set_title(\"PERCENTAGE OF SIZE VARIATION AT LEVEL TRANSITION\")\n",
    "plt.show()\n",
    "\n",
    "ax = sns.violinplot(x=\"STEP\", y=\"PERCENTAGE\", data=percentage_variation, inner=None, color=\".8\")\n",
    "ax = sns.stripplot(x=\"STEP\", y=\"PERCENTAGE\", data=percentage_variation, jitter=True).set_title(\"PERCENTAGE OF SIZE VARIATION AT LEVEL TRANSITION\")\n",
    "plt.show()\n"
   ],
   "metadata": {
    "collapsed": false,
    "pycharm": {
     "name": "#%%\n",
     "is_executing": false
    }
   }
  },
  {
   "cell_type": "code",
   "execution_count": null,
   "outputs": [],
   "source": [
    "scores = {level: pd.read_csv(f\"reports/scores_{level}_overlap_similarity.tsv\", sep='\\t') for level in LEVELS}\n",
    "assert len({len(scores[level]) for level in LEVELS}) == 1, \"Error: the number of modules vary among levels.\""
   ],
   "metadata": {
    "collapsed": false,
    "pycharm": {
     "name": "#%% Read overlap scores off all levels\n",
     "is_executing": false
    }
   }
  },
  {
   "cell_type": "code",
   "execution_count": null,
   "outputs": [],
   "source": [
    "import matplotlib.pyplot as plt\n",
    "\n",
    "bins = 250\n",
    "plt.figure(figsize=(13, 6), )\n",
    "for level in LEVELS:\n",
    "    sns.distplot(scores[level]['SCORE'] , hist = True, kde = True, kde_kws = {'linewidth': 1}, label=level, bins=bins)\n",
    "plt.ylim(0, 20)\n",
    "plt.legend(prop={'size': 16}, title = 'Overlap score density distribution')\n",
    "plt.title('Overlap score distribution')\n",
    "plt.xlabel('Overlap score')\n",
    "plt.ylabel('Density')\n",
    "plt.show()"
   ],
   "metadata": {
    "collapsed": false,
    "pycharm": {
     "name": "#%% Plot overlap scores\n",
     "is_executing": false
    }
   }
  },
  {
   "cell_type": "code",
   "execution_count": null,
   "outputs": [],
   "source": [
    "df = pd.DataFrame(scores['genes'][['SCORE', 'OVERLAP_SIZE']])\n",
    "df.columns = ['SCORE_GENES', 'OVERLAP_SIZE_GENES']\n",
    "for level in ['proteins', 'proteoforms']:\n",
    "    df['OVERLAP_SIZE_' + level.upper()] = scores[level]['OVERLAP_SIZE']\n",
    "    df['SCORE_' + level.upper()] = scores[level]['SCORE']\n",
    "df['SCORE_VARIATION'] = df['SCORE_PROTEOFORMS'] - df['SCORE_GENES'] \n",
    "df['SIZE_PERCENTAGE_VARIATION'] = scores['genes'].apply(lambda x: sizes['PERCENTAGE_VARIATION'].loc[x['TRAIT1']] + sizes['PERCENTAGE_VARIATION'].loc[x['TRAIT2']], axis=1)\n",
    "df.index = scores['genes'].apply(lambda x: (x['TRAIT1'], x['TRAIT2']), axis=1)\n",
    "df"
   ],
   "metadata": {
    "collapsed": false,
    "pycharm": {
     "name": "#%% Calculate overlap score variation\n",
     "is_executing": false
    }
   }
  },
  {
   "cell_type": "code",
   "execution_count": null,
   "outputs": [],
   "source": [
    "plt.figure(figsize=(13, 6))\n",
    "plt.scatter(df['SCORE_VARIATION'], df['SIZE_PERCENTAGE_VARIATION'], alpha=0.5)\n",
    "plt.title('Variation in size VS variation in overlap')\n",
    "plt.xlabel('Size percentage variation')\n",
    "plt.ylabel('Overlap variation')\n",
    "plt.show()"
   ],
   "metadata": {
    "collapsed": false,
    "pycharm": {
     "name": "#%% Plot size variation vs score variation\n",
     "is_executing": false
    }
   }
  },
  {
   "cell_type": "code",
   "execution_count": null,
   "outputs": [],
   "source": [
    "min_overlap_size = 10\n",
    "max_overlap_size = 20\n",
    "\n",
    "overlap_data = {level: pd.read_csv(f\"reports/modules/pairs_overlap_data_{level}.tsv\") for level in LEVELS}\n"
   ],
   "metadata": {
    "collapsed": false,
    "pycharm": {
     "name": "#%% Select overlap examples where the overlap is between size range\n",
     "is_executing": false
    }
   }
  },
  {
   "cell_type": "code",
   "execution_count": null,
   "outputs": [],
   "source": [],
   "metadata": {
    "collapsed": false,
    "pycharm": {
     "name": "#%% Plot: Variation in size VS variation in overlap\n",
     "is_executing": false
    }
   }
  },
  {
   "cell_type": "code",
   "execution_count": null,
   "outputs": [],
   "source": [],
   "metadata": {
    "collapsed": false,
    "pycharm": {
     "name": "#%% Create a column with overlap coefficient variation across levels\n",
     "is_executing": false
    }
   }
  },
  {
   "cell_type": "code",
   "execution_count": null,
   "outputs": [],
   "source": [
    "# NODE_OVERLAP_SIZE_VARIATION_GENES_TO_PROTEINS\n",
    "# NODE_OVERLAP_SIZE_VARIATION_PROTEINS_TO_PROTEOFORMS\n",
    "# NODE_INTERFACE_SIZE_VARIATION_GENES_TO_PROTEINS\n",
    "# NODE_INTERFACE_SIZE_VARIATION_PROTEINS_TO_PROTEOFORMS\n",
    "# NODE_INTERFACE_SIZE_VARIATION_GENES_TO"
   ],
   "metadata": {
    "collapsed": false,
    "pycharm": {
     "name": "#%% Create columns: \n",
     "is_executing": false
    }
   }
  }
 ],
 "metadata": {
  "kernelspec": {
   "display_name": "Python 3",
   "language": "python",
   "name": "python3"
  },
  "language_info": {
   "codemirror_mode": {
    "name": "ipython",
    "version": 2
   },
   "file_extension": ".py",
   "mimetype": "text/x-python",
   "name": "python",
   "nbconvert_exporter": "python",
   "pygments_lexer": "ipython2",
   "version": "2.7.6"
  },
  "pycharm": {
   "stem_cell": {
    "cell_type": "raw",
    "source": [
     "# This file is the starting point for the whole project.\n",
     "\"\"\"\n",
     " The goal of this project is to study the differences between protein and proteoform \n",
     " interaction networks for functional analysis.\n",
     "\n",
     "\"\"\"  \n"
    ],
    "metadata": {
     "collapsed": false
    }
   }
  }
 },
 "nbformat": 4,
 "nbformat_minor": 0
}