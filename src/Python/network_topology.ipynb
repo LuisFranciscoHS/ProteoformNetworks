{
 "cells": [
  {
   "cell_type": "markdown",
   "source": [
    "## Set up"
   ],
   "metadata": {
    "collapsed": false,
    "pycharm": {
     "name": "#%% md\n"
    }
   }
  },
  {
   "cell_type": "code",
   "execution_count": 1,
   "outputs": [
    {
     "name": "stdout",
     "text": [
      "Finished\nWorking directory: c:\\git\\pathwayanalysisplatform\\proteoformnetworks\n"
     ],
     "output_type": "stream"
    }
   ],
   "source": [
    "import importlib\n",
    "import re\n",
    "\n",
    "import matplotlib as plt\n",
    "import numpy as np\n",
    "import pandas as pd\n",
    "import seaborn as sns\n",
    "from numpy.core.tests.test_einsum import sizes\n",
    "import config, visualization\n",
    "from config import PATH_REACTOME, FILE_REACTOME_PROTEOFORMS, FILE_REACTOME_PROTEIN_INTERACTIONS, \\\n",
    "    FILE_PROTEOFORMS_SEARCH, PATH_RESOURCES, FILE_PATHWAYMATCHER, URL_PATHWAYMATCHER, \\\n",
    "    FILE_REACTOME_PROTEOFORM_INTERACTIONS, FILE_REACTOME_GENE_INTERACTIONS, FILE_REACTOME_PROTEINS, FILE_REACTOME_GENES, \\\n",
    "    LEVELS\n",
    "from interaction_network import create_graph\n",
    "from lib.data_read_write import create_pathwaymatcher_files\n",
    "from lib.download import download_if_not_exists\n",
    "from network_topology_queries import get_pathways\n",
    "from visualization import plot_graph\n",
    "\n",
    "config.set_root_wd()"
   ],
   "metadata": {
    "collapsed": false,
    "pycharm": {
     "name": "#%% Set up configuration\n",
     "is_executing": false
    }
   }
  },
  {
   "cell_type": "markdown",
   "source": [
    "## Download PathwayMatcher and create interaction networks"
   ],
   "metadata": {
    "collapsed": false,
    "pycharm": {
     "name": "#%% md\n",
     "is_executing": false
    }
   }
  },
  {
   "cell_type": "code",
   "execution_count": 2,
   "outputs": [
    {
     "name": "stdout",
     "text": [
      "PathwayMatcher files READY\n"
     ],
     "output_type": "stream"
    }
   ],
   "source": [
    "# What is fixed for all sources? These files are generated following the Network-Topology.md instructions in the Wiki.\n",
    "## genes, proteins and proteoforms universe list (full network nodes)\n",
    "## genes, proteins and proteoforms interactions (full network links)\n",
    "## Mapping from genes to proteins, and from proteins to proteoforms\n",
    "\n",
    "create_pathwaymatcher_files(PATH_REACTOME, FILE_REACTOME_GENES, FILE_REACTOME_PROTEINS,\n",
    "                            FILE_REACTOME_PROTEOFORMS, FILE_REACTOME_GENE_INTERACTIONS,\n",
    "                            FILE_REACTOME_PROTEIN_INTERACTIONS, FILE_REACTOME_PROTEOFORM_INTERACTIONS,\n",
    "                            FILE_PROTEOFORMS_SEARCH,\n",
    "                            PATH_RESOURCES, FILE_PATHWAYMATCHER, URL_PATHWAYMATCHER)"
   ],
   "metadata": {
    "collapsed": false,
    "pycharm": {
     "name": "#%% Download and create interaction networks for genes, proteins and proteforms\n",
     "is_executing": false
    }
   }
  },
  {
   "cell_type": "code",
   "execution_count": 3,
   "outputs": [
    {
     "name": "stdout",
     "text": [
      "Plot R-HSA-9613829\n",
      "Plot R-HSA-1632852\n",
      "Plot R-HSA-9663891\n",
      "Plot R-HSA-5205647\n",
      "Plot R-HSA-5205685\n",
      "Plot R-HSA-8934903\n",
      "Plot R-HSA-9613354\n",
      "Plot R-HSA-9664873\n",
      "Plot R-HSA-9646399\n",
      "Plot R-HSA-9615710\n",
      "Plot R-HSA-1640170\n"
     ],
     "output_type": "stream"
    },
    {
     "name": "stderr",
     "text": [
      "ERROR:bokeh.core.validation.check:E-1001 (BAD_COLUMN_NAME): Glyph refers to nonexistent column name. This could either be due to a misspelling or typo, or due to an expected column being missing. : key \"fill_color\" value \"color\" [renderer: GlyphRenderer(id='5871', ...)]\n",
      "ERROR:bokeh.core.validation.check:E-1001 (BAD_COLUMN_NAME): Glyph refers to nonexistent column name. This could either be due to a misspelling or typo, or due to an expected column being missing. : key \"fill_color\" value \"color\" [renderer: GlyphRenderer(id='5976', ...)]\n",
      "ERROR:bokeh.core.validation.check:E-1001 (BAD_COLUMN_NAME): Glyph refers to nonexistent column name. This could either be due to a misspelling or typo, or due to an expected column being missing. : key \"line_color\" value \"edge_color\" [renderer: GlyphRenderer(id='5875', ...)]\n",
      "ERROR:bokeh.core.validation.check:E-1001 (BAD_COLUMN_NAME): Glyph refers to nonexistent column name. This could either be due to a misspelling or typo, or due to an expected column being missing. : key \"line_color\" value \"edge_color\" [renderer: GlyphRenderer(id='5980', ...)]\n",
      "ERROR:bokeh.core.validation.check:E-1001 (BAD_COLUMN_NAME): Glyph refers to nonexistent column name. This could either be due to a misspelling or typo, or due to an expected column being missing. : key \"fill_color\" value \"color\" [renderer: GlyphRenderer(id='7465', ...)]\n",
      "ERROR:bokeh.core.validation.check:E-1001 (BAD_COLUMN_NAME): Glyph refers to nonexistent column name. This could either be due to a misspelling or typo, or due to an expected column being missing. : key \"fill_color\" value \"color\" [renderer: GlyphRenderer(id='7570', ...)]\n",
      "ERROR:bokeh.core.validation.check:E-1001 (BAD_COLUMN_NAME): Glyph refers to nonexistent column name. This could either be due to a misspelling or typo, or due to an expected column being missing. : key \"line_color\" value \"edge_color\" [renderer: GlyphRenderer(id='7469', ...)]\n",
      "ERROR:bokeh.core.validation.check:E-1001 (BAD_COLUMN_NAME): Glyph refers to nonexistent column name. This could either be due to a misspelling or typo, or due to an expected column being missing. : key \"line_color\" value \"edge_color\" [renderer: GlyphRenderer(id='7574', ...)]\n",
      "ERROR:bokeh.core.validation.check:E-1001 (BAD_COLUMN_NAME): Glyph refers to nonexistent column name. This could either be due to a misspelling or typo, or due to an expected column being missing. : key \"fill_color\" value \"color\" [renderer: GlyphRenderer(id='18623', ...)]\n",
      "ERROR:bokeh.core.validation.check:E-1001 (BAD_COLUMN_NAME): Glyph refers to nonexistent column name. This could either be due to a misspelling or typo, or due to an expected column being missing. : key \"fill_color\" value \"color\" [renderer: GlyphRenderer(id='18728', ...)]\n",
      "ERROR:bokeh.core.validation.check:E-1001 (BAD_COLUMN_NAME): Glyph refers to nonexistent column name. This could either be due to a misspelling or typo, or due to an expected column being missing. : key \"line_color\" value \"edge_color\" [renderer: GlyphRenderer(id='18627', ...)]\n",
      "ERROR:bokeh.core.validation.check:E-1001 (BAD_COLUMN_NAME): Glyph refers to nonexistent column name. This could either be due to a misspelling or typo, or due to an expected column being missing. : key \"line_color\" value \"edge_color\" [renderer: GlyphRenderer(id='18732', ...)]\n"
     ],
     "output_type": "stream"
    },
    {
     "traceback": [
      "\u001b[1;31m---------------------------------------------------------------------------\u001b[0m",
      "\u001b[1;31mTypeError\u001b[0m                                 Traceback (most recent call last)",
      "\u001b[1;32m<ipython-input-3-4dddc60ba000>\u001b[0m in \u001b[0;36m<module>\u001b[1;34m\u001b[0m\n\u001b[0;32m      2\u001b[0m \u001b[1;32mfor\u001b[0m \u001b[0mpathway\u001b[0m \u001b[1;32min\u001b[0m \u001b[0mpathways\u001b[0m\u001b[1;33m[\u001b[0m\u001b[1;34m'stId'\u001b[0m\u001b[1;33m]\u001b[0m\u001b[1;33m[\u001b[0m\u001b[1;36m1\u001b[0m\u001b[1;33m:\u001b[0m\u001b[1;33m]\u001b[0m\u001b[1;33m:\u001b[0m\u001b[1;33m\u001b[0m\u001b[1;33m\u001b[0m\u001b[0m\n\u001b[0;32m      3\u001b[0m     \u001b[0mprint\u001b[0m\u001b[1;33m(\u001b[0m\u001b[1;34mf\"Plot {pathway}\"\u001b[0m\u001b[1;33m)\u001b[0m\u001b[1;33m\u001b[0m\u001b[1;33m\u001b[0m\u001b[0m\n\u001b[1;32m----> 4\u001b[1;33m     \u001b[0mvisualization\u001b[0m\u001b[1;33m.\u001b[0m\u001b[0mplot_pathway_all_levels\u001b[0m\u001b[1;33m(\u001b[0m\u001b[0mpathway\u001b[0m\u001b[1;33m,\u001b[0m \u001b[0mfigures_path\u001b[0m\u001b[1;33m=\u001b[0m\u001b[1;34m\"figures/pathways/\"\u001b[0m\u001b[1;33m)\u001b[0m\u001b[1;33m\u001b[0m\u001b[1;33m\u001b[0m\u001b[0m\n\u001b[0m\u001b[0;32m      5\u001b[0m \u001b[1;33m\u001b[0m\u001b[0m\n\u001b[0;32m      6\u001b[0m \u001b[1;31m# TODO: Write function that converts a set of pathways into an interaction network\u001b[0m\u001b[1;33m\u001b[0m\u001b[1;33m\u001b[0m\u001b[1;33m\u001b[0m\u001b[0m\n",
      "\u001b[1;32mC:\\git\\PathwayAnalysisPlatform\\ProteoformNetworks\\src\\Python\\visualization.py\u001b[0m in \u001b[0;36mplot_pathway_all_levels\u001b[1;34m(pathway, figures_path, verbose)\u001b[0m\n\u001b[0;32m    136\u001b[0m         \u001b[0mfigures\u001b[0m\u001b[1;33m,\u001b[0m\u001b[1;33m\u001b[0m\u001b[1;33m\u001b[0m\u001b[0m\n\u001b[0;32m    137\u001b[0m         \u001b[1;33m[\u001b[0m\u001b[0mDiv\u001b[0m\u001b[1;33m(\u001b[0m\u001b[0mtext\u001b[0m\u001b[1;33m=\u001b[0m\u001b[1;34mf\"<p>Without small molecules:</p>\"\u001b[0m\u001b[1;33m)\u001b[0m\u001b[1;33m]\u001b[0m\u001b[1;33m,\u001b[0m\u001b[1;33m\u001b[0m\u001b[1;33m\u001b[0m\u001b[0m\n\u001b[1;32m--> 138\u001b[1;33m         \u001b[0mfigures_no_small_molecules\u001b[0m\u001b[1;33m\u001b[0m\u001b[1;33m\u001b[0m\u001b[0m\n\u001b[0m\u001b[0;32m    139\u001b[0m     ]))\n\u001b[0;32m    140\u001b[0m \u001b[1;33m\u001b[0m\u001b[0m\n",
      "\u001b[1;32mc:\\git\\pathwayanalysisplatform\\proteoformnetworks\\venv\\lib\\site-packages\\bokeh\\io\\saving.py\u001b[0m in \u001b[0;36msave\u001b[1;34m(obj, filename, resources, title, template, state, **kwargs)\u001b[0m\n\u001b[0;32m     84\u001b[0m \u001b[1;33m\u001b[0m\u001b[0m\n\u001b[0;32m     85\u001b[0m     \u001b[0mfilename\u001b[0m\u001b[1;33m,\u001b[0m \u001b[0mresources\u001b[0m\u001b[1;33m,\u001b[0m \u001b[0mtitle\u001b[0m \u001b[1;33m=\u001b[0m \u001b[0m_get_save_args\u001b[0m\u001b[1;33m(\u001b[0m\u001b[0mstate\u001b[0m\u001b[1;33m,\u001b[0m \u001b[0mfilename\u001b[0m\u001b[1;33m,\u001b[0m \u001b[0mresources\u001b[0m\u001b[1;33m,\u001b[0m \u001b[0mtitle\u001b[0m\u001b[1;33m)\u001b[0m\u001b[1;33m\u001b[0m\u001b[1;33m\u001b[0m\u001b[0m\n\u001b[1;32m---> 86\u001b[1;33m     \u001b[0m_save_helper\u001b[0m\u001b[1;33m(\u001b[0m\u001b[0mobj\u001b[0m\u001b[1;33m,\u001b[0m \u001b[0mfilename\u001b[0m\u001b[1;33m,\u001b[0m \u001b[0mresources\u001b[0m\u001b[1;33m,\u001b[0m \u001b[0mtitle\u001b[0m\u001b[1;33m,\u001b[0m \u001b[0mtemplate\u001b[0m\u001b[1;33m)\u001b[0m\u001b[1;33m\u001b[0m\u001b[1;33m\u001b[0m\u001b[0m\n\u001b[0m\u001b[0;32m     87\u001b[0m     \u001b[1;32mreturn\u001b[0m \u001b[0mabspath\u001b[0m\u001b[1;33m(\u001b[0m\u001b[0mfilename\u001b[0m\u001b[1;33m)\u001b[0m\u001b[1;33m\u001b[0m\u001b[1;33m\u001b[0m\u001b[0m\n\u001b[0;32m     88\u001b[0m \u001b[1;33m\u001b[0m\u001b[0m\n",
      "\u001b[1;32mc:\\git\\pathwayanalysisplatform\\proteoformnetworks\\venv\\lib\\site-packages\\bokeh\\io\\saving.py\u001b[0m in \u001b[0;36m_save_helper\u001b[1;34m(obj, filename, resources, title, template)\u001b[0m\n\u001b[0;32m    146\u001b[0m     '''\n\u001b[0;32m    147\u001b[0m     \u001b[1;32mfrom\u001b[0m \u001b[1;33m.\u001b[0m\u001b[1;33m.\u001b[0m\u001b[0membed\u001b[0m \u001b[1;32mimport\u001b[0m \u001b[0mfile_html\u001b[0m\u001b[1;33m\u001b[0m\u001b[1;33m\u001b[0m\u001b[0m\n\u001b[1;32m--> 148\u001b[1;33m     \u001b[0mhtml\u001b[0m \u001b[1;33m=\u001b[0m \u001b[0mfile_html\u001b[0m\u001b[1;33m(\u001b[0m\u001b[0mobj\u001b[0m\u001b[1;33m,\u001b[0m \u001b[0mresources\u001b[0m\u001b[1;33m,\u001b[0m \u001b[0mtitle\u001b[0m\u001b[1;33m=\u001b[0m\u001b[0mtitle\u001b[0m\u001b[1;33m,\u001b[0m \u001b[0mtemplate\u001b[0m\u001b[1;33m=\u001b[0m\u001b[0mtemplate\u001b[0m\u001b[1;33m)\u001b[0m\u001b[1;33m\u001b[0m\u001b[1;33m\u001b[0m\u001b[0m\n\u001b[0m\u001b[0;32m    149\u001b[0m \u001b[1;33m\u001b[0m\u001b[0m\n\u001b[0;32m    150\u001b[0m     \u001b[1;32mwith\u001b[0m \u001b[0mio\u001b[0m\u001b[1;33m.\u001b[0m\u001b[0mopen\u001b[0m\u001b[1;33m(\u001b[0m\u001b[0mfilename\u001b[0m\u001b[1;33m,\u001b[0m \u001b[0mmode\u001b[0m\u001b[1;33m=\u001b[0m\u001b[1;34m\"w\"\u001b[0m\u001b[1;33m,\u001b[0m \u001b[0mencoding\u001b[0m\u001b[1;33m=\u001b[0m\u001b[1;34m\"utf-8\"\u001b[0m\u001b[1;33m)\u001b[0m \u001b[1;32mas\u001b[0m \u001b[0mf\u001b[0m\u001b[1;33m:\u001b[0m\u001b[1;33m\u001b[0m\u001b[1;33m\u001b[0m\u001b[0m\n",
      "\u001b[1;32mc:\\git\\pathwayanalysisplatform\\proteoformnetworks\\venv\\lib\\site-packages\\bokeh\\embed\\standalone.py\u001b[0m in \u001b[0;36mfile_html\u001b[1;34m(models, resources, title, template, template_variables, theme, suppress_callback_warning, _always_new)\u001b[0m\n\u001b[0;32m    289\u001b[0m \u001b[1;33m\u001b[0m\u001b[0m\n\u001b[0;32m    290\u001b[0m     \u001b[1;32mwith\u001b[0m \u001b[0mOutputDocumentFor\u001b[0m\u001b[1;33m(\u001b[0m\u001b[0mmodels\u001b[0m\u001b[1;33m,\u001b[0m \u001b[0mapply_theme\u001b[0m\u001b[1;33m=\u001b[0m\u001b[0mtheme\u001b[0m\u001b[1;33m,\u001b[0m \u001b[0malways_new\u001b[0m\u001b[1;33m=\u001b[0m\u001b[0m_always_new\u001b[0m\u001b[1;33m)\u001b[0m \u001b[1;32mas\u001b[0m \u001b[0mdoc\u001b[0m\u001b[1;33m:\u001b[0m\u001b[1;33m\u001b[0m\u001b[1;33m\u001b[0m\u001b[0m\n\u001b[1;32m--> 291\u001b[1;33m         \u001b[1;33m(\u001b[0m\u001b[0mdocs_json\u001b[0m\u001b[1;33m,\u001b[0m \u001b[0mrender_items\u001b[0m\u001b[1;33m)\u001b[0m \u001b[1;33m=\u001b[0m \u001b[0mstandalone_docs_json_and_render_items\u001b[0m\u001b[1;33m(\u001b[0m\u001b[0mmodels\u001b[0m\u001b[1;33m,\u001b[0m \u001b[0msuppress_callback_warning\u001b[0m\u001b[1;33m=\u001b[0m\u001b[0msuppress_callback_warning\u001b[0m\u001b[1;33m)\u001b[0m\u001b[1;33m\u001b[0m\u001b[1;33m\u001b[0m\u001b[0m\n\u001b[0m\u001b[0;32m    292\u001b[0m         \u001b[0mtitle\u001b[0m \u001b[1;33m=\u001b[0m \u001b[0m_title_from_models\u001b[0m\u001b[1;33m(\u001b[0m\u001b[0mmodels\u001b[0m\u001b[1;33m,\u001b[0m \u001b[0mtitle\u001b[0m\u001b[1;33m)\u001b[0m\u001b[1;33m\u001b[0m\u001b[1;33m\u001b[0m\u001b[0m\n\u001b[0;32m    293\u001b[0m         \u001b[0mbundle\u001b[0m \u001b[1;33m=\u001b[0m \u001b[0mbundle_for_objs_and_resources\u001b[0m\u001b[1;33m(\u001b[0m\u001b[1;33m[\u001b[0m\u001b[0mdoc\u001b[0m\u001b[1;33m]\u001b[0m\u001b[1;33m,\u001b[0m \u001b[0mresources\u001b[0m\u001b[1;33m)\u001b[0m\u001b[1;33m\u001b[0m\u001b[1;33m\u001b[0m\u001b[0m\n",
      "\u001b[1;32mc:\\git\\pathwayanalysisplatform\\proteoformnetworks\\venv\\lib\\site-packages\\bokeh\\embed\\util.py\u001b[0m in \u001b[0;36mstandalone_docs_json_and_render_items\u001b[1;34m(models, suppress_callback_warning)\u001b[0m\n\u001b[0;32m    295\u001b[0m     \u001b[0mdocs_json\u001b[0m \u001b[1;33m=\u001b[0m \u001b[1;33m{\u001b[0m\u001b[1;33m}\u001b[0m\u001b[1;33m\u001b[0m\u001b[1;33m\u001b[0m\u001b[0m\n\u001b[0;32m    296\u001b[0m     \u001b[1;32mfor\u001b[0m \u001b[0mdoc\u001b[0m\u001b[1;33m,\u001b[0m \u001b[1;33m(\u001b[0m\u001b[0mdocid\u001b[0m\u001b[1;33m,\u001b[0m \u001b[0m_\u001b[0m\u001b[1;33m)\u001b[0m \u001b[1;32min\u001b[0m \u001b[0mdocs\u001b[0m\u001b[1;33m.\u001b[0m\u001b[0mitems\u001b[0m\u001b[1;33m(\u001b[0m\u001b[1;33m)\u001b[0m\u001b[1;33m:\u001b[0m\u001b[1;33m\u001b[0m\u001b[1;33m\u001b[0m\u001b[0m\n\u001b[1;32m--> 297\u001b[1;33m         \u001b[0mdocs_json\u001b[0m\u001b[1;33m[\u001b[0m\u001b[0mdocid\u001b[0m\u001b[1;33m]\u001b[0m \u001b[1;33m=\u001b[0m \u001b[0mdoc\u001b[0m\u001b[1;33m.\u001b[0m\u001b[0mto_json\u001b[0m\u001b[1;33m(\u001b[0m\u001b[1;33m)\u001b[0m\u001b[1;33m\u001b[0m\u001b[1;33m\u001b[0m\u001b[0m\n\u001b[0m\u001b[0;32m    298\u001b[0m \u001b[1;33m\u001b[0m\u001b[0m\n\u001b[0;32m    299\u001b[0m     \u001b[0mrender_items\u001b[0m \u001b[1;33m=\u001b[0m \u001b[1;33m[\u001b[0m\u001b[1;33m]\u001b[0m\u001b[1;33m\u001b[0m\u001b[1;33m\u001b[0m\u001b[0m\n",
      "\u001b[1;32mc:\\git\\pathwayanalysisplatform\\proteoformnetworks\\venv\\lib\\site-packages\\bokeh\\document\\document.py\u001b[0m in \u001b[0;36mto_json\u001b[1;34m(self)\u001b[0m\n\u001b[0;32m    843\u001b[0m         \u001b[1;31m# this is a total hack to go via a string, needed because\u001b[0m\u001b[1;33m\u001b[0m\u001b[1;33m\u001b[0m\u001b[1;33m\u001b[0m\u001b[0m\n\u001b[0;32m    844\u001b[0m         \u001b[1;31m# our BokehJSONEncoder goes straight to a string.\u001b[0m\u001b[1;33m\u001b[0m\u001b[1;33m\u001b[0m\u001b[1;33m\u001b[0m\u001b[0m\n\u001b[1;32m--> 845\u001b[1;33m         \u001b[0mdoc_json\u001b[0m \u001b[1;33m=\u001b[0m \u001b[0mself\u001b[0m\u001b[1;33m.\u001b[0m\u001b[0mto_json_string\u001b[0m\u001b[1;33m(\u001b[0m\u001b[1;33m)\u001b[0m\u001b[1;33m\u001b[0m\u001b[1;33m\u001b[0m\u001b[0m\n\u001b[0m\u001b[0;32m    846\u001b[0m         \u001b[1;32mreturn\u001b[0m \u001b[0mloads\u001b[0m\u001b[1;33m(\u001b[0m\u001b[0mdoc_json\u001b[0m\u001b[1;33m)\u001b[0m\u001b[1;33m\u001b[0m\u001b[1;33m\u001b[0m\u001b[0m\n\u001b[0;32m    847\u001b[0m \u001b[1;33m\u001b[0m\u001b[0m\n",
      "\u001b[1;32mc:\\git\\pathwayanalysisplatform\\proteoformnetworks\\venv\\lib\\site-packages\\bokeh\\document\\document.py\u001b[0m in \u001b[0;36mto_json_string\u001b[1;34m(self, indent)\u001b[0m\n\u001b[0;32m    872\u001b[0m         }\n\u001b[0;32m    873\u001b[0m \u001b[1;33m\u001b[0m\u001b[0m\n\u001b[1;32m--> 874\u001b[1;33m         \u001b[1;32mreturn\u001b[0m \u001b[0mserialize_json\u001b[0m\u001b[1;33m(\u001b[0m\u001b[0mjson\u001b[0m\u001b[1;33m,\u001b[0m \u001b[0mindent\u001b[0m\u001b[1;33m=\u001b[0m\u001b[0mindent\u001b[0m\u001b[1;33m)\u001b[0m\u001b[1;33m\u001b[0m\u001b[1;33m\u001b[0m\u001b[0m\n\u001b[0m\u001b[0;32m    875\u001b[0m \u001b[1;33m\u001b[0m\u001b[0m\n\u001b[0;32m    876\u001b[0m     \u001b[1;32mdef\u001b[0m \u001b[0mvalidate\u001b[0m\u001b[1;33m(\u001b[0m\u001b[0mself\u001b[0m\u001b[1;33m)\u001b[0m\u001b[1;33m:\u001b[0m\u001b[1;33m\u001b[0m\u001b[1;33m\u001b[0m\u001b[0m\n",
      "\u001b[1;32mc:\\git\\pathwayanalysisplatform\\proteoformnetworks\\venv\\lib\\site-packages\\bokeh\\core\\json_encoder.py\u001b[0m in \u001b[0;36mserialize_json\u001b[1;34m(obj, pretty, indent, **kwargs)\u001b[0m\n\u001b[0;32m    158\u001b[0m         \u001b[0mindent\u001b[0m \u001b[1;33m=\u001b[0m \u001b[1;36m2\u001b[0m\u001b[1;33m\u001b[0m\u001b[1;33m\u001b[0m\u001b[0m\n\u001b[0;32m    159\u001b[0m \u001b[1;33m\u001b[0m\u001b[0m\n\u001b[1;32m--> 160\u001b[1;33m     \u001b[1;32mreturn\u001b[0m \u001b[0mjson\u001b[0m\u001b[1;33m.\u001b[0m\u001b[0mdumps\u001b[0m\u001b[1;33m(\u001b[0m\u001b[0mobj\u001b[0m\u001b[1;33m,\u001b[0m \u001b[0mcls\u001b[0m\u001b[1;33m=\u001b[0m\u001b[0mBokehJSONEncoder\u001b[0m\u001b[1;33m,\u001b[0m \u001b[0mallow_nan\u001b[0m\u001b[1;33m=\u001b[0m\u001b[1;32mFalse\u001b[0m\u001b[1;33m,\u001b[0m \u001b[0mindent\u001b[0m\u001b[1;33m=\u001b[0m\u001b[0mindent\u001b[0m\u001b[1;33m,\u001b[0m \u001b[0mseparators\u001b[0m\u001b[1;33m=\u001b[0m\u001b[0mseparators\u001b[0m\u001b[1;33m,\u001b[0m \u001b[0msort_keys\u001b[0m\u001b[1;33m=\u001b[0m\u001b[1;32mTrue\u001b[0m\u001b[1;33m,\u001b[0m \u001b[1;33m**\u001b[0m\u001b[0mkwargs\u001b[0m\u001b[1;33m)\u001b[0m\u001b[1;33m\u001b[0m\u001b[1;33m\u001b[0m\u001b[0m\n\u001b[0m\u001b[0;32m    161\u001b[0m \u001b[1;33m\u001b[0m\u001b[0m\n\u001b[0;32m    162\u001b[0m \u001b[1;33m\u001b[0m\u001b[0m\n",
      "\u001b[1;32mC:\\Program Files (x86)\\Microsoft Visual Studio\\Shared\\Python37_64\\lib\\json\\__init__.py\u001b[0m in \u001b[0;36mdumps\u001b[1;34m(obj, skipkeys, ensure_ascii, check_circular, allow_nan, cls, indent, separators, default, sort_keys, **kw)\u001b[0m\n\u001b[0;32m    236\u001b[0m         \u001b[0mcheck_circular\u001b[0m\u001b[1;33m=\u001b[0m\u001b[0mcheck_circular\u001b[0m\u001b[1;33m,\u001b[0m \u001b[0mallow_nan\u001b[0m\u001b[1;33m=\u001b[0m\u001b[0mallow_nan\u001b[0m\u001b[1;33m,\u001b[0m \u001b[0mindent\u001b[0m\u001b[1;33m=\u001b[0m\u001b[0mindent\u001b[0m\u001b[1;33m,\u001b[0m\u001b[1;33m\u001b[0m\u001b[1;33m\u001b[0m\u001b[0m\n\u001b[0;32m    237\u001b[0m         \u001b[0mseparators\u001b[0m\u001b[1;33m=\u001b[0m\u001b[0mseparators\u001b[0m\u001b[1;33m,\u001b[0m \u001b[0mdefault\u001b[0m\u001b[1;33m=\u001b[0m\u001b[0mdefault\u001b[0m\u001b[1;33m,\u001b[0m \u001b[0msort_keys\u001b[0m\u001b[1;33m=\u001b[0m\u001b[0msort_keys\u001b[0m\u001b[1;33m,\u001b[0m\u001b[1;33m\u001b[0m\u001b[1;33m\u001b[0m\u001b[0m\n\u001b[1;32m--> 238\u001b[1;33m         **kw).encode(obj)\n\u001b[0m\u001b[0;32m    239\u001b[0m \u001b[1;33m\u001b[0m\u001b[0m\n\u001b[0;32m    240\u001b[0m \u001b[1;33m\u001b[0m\u001b[0m\n",
      "\u001b[1;32mC:\\Program Files (x86)\\Microsoft Visual Studio\\Shared\\Python37_64\\lib\\json\\encoder.py\u001b[0m in \u001b[0;36mencode\u001b[1;34m(self, o)\u001b[0m\n\u001b[0;32m    197\u001b[0m         \u001b[1;31m# exceptions aren't as detailed.  The list call should be roughly\u001b[0m\u001b[1;33m\u001b[0m\u001b[1;33m\u001b[0m\u001b[1;33m\u001b[0m\u001b[0m\n\u001b[0;32m    198\u001b[0m         \u001b[1;31m# equivalent to the PySequence_Fast that ''.join() would do.\u001b[0m\u001b[1;33m\u001b[0m\u001b[1;33m\u001b[0m\u001b[1;33m\u001b[0m\u001b[0m\n\u001b[1;32m--> 199\u001b[1;33m         \u001b[0mchunks\u001b[0m \u001b[1;33m=\u001b[0m \u001b[0mself\u001b[0m\u001b[1;33m.\u001b[0m\u001b[0miterencode\u001b[0m\u001b[1;33m(\u001b[0m\u001b[0mo\u001b[0m\u001b[1;33m,\u001b[0m \u001b[0m_one_shot\u001b[0m\u001b[1;33m=\u001b[0m\u001b[1;32mTrue\u001b[0m\u001b[1;33m)\u001b[0m\u001b[1;33m\u001b[0m\u001b[1;33m\u001b[0m\u001b[0m\n\u001b[0m\u001b[0;32m    200\u001b[0m         \u001b[1;32mif\u001b[0m \u001b[1;32mnot\u001b[0m \u001b[0misinstance\u001b[0m\u001b[1;33m(\u001b[0m\u001b[0mchunks\u001b[0m\u001b[1;33m,\u001b[0m \u001b[1;33m(\u001b[0m\u001b[0mlist\u001b[0m\u001b[1;33m,\u001b[0m \u001b[0mtuple\u001b[0m\u001b[1;33m)\u001b[0m\u001b[1;33m)\u001b[0m\u001b[1;33m:\u001b[0m\u001b[1;33m\u001b[0m\u001b[1;33m\u001b[0m\u001b[0m\n\u001b[0;32m    201\u001b[0m             \u001b[0mchunks\u001b[0m \u001b[1;33m=\u001b[0m \u001b[0mlist\u001b[0m\u001b[1;33m(\u001b[0m\u001b[0mchunks\u001b[0m\u001b[1;33m)\u001b[0m\u001b[1;33m\u001b[0m\u001b[1;33m\u001b[0m\u001b[0m\n",
      "\u001b[1;32mC:\\Program Files (x86)\\Microsoft Visual Studio\\Shared\\Python37_64\\lib\\json\\encoder.py\u001b[0m in \u001b[0;36miterencode\u001b[1;34m(self, o, _one_shot)\u001b[0m\n\u001b[0;32m    255\u001b[0m                 \u001b[0mself\u001b[0m\u001b[1;33m.\u001b[0m\u001b[0mkey_separator\u001b[0m\u001b[1;33m,\u001b[0m \u001b[0mself\u001b[0m\u001b[1;33m.\u001b[0m\u001b[0mitem_separator\u001b[0m\u001b[1;33m,\u001b[0m \u001b[0mself\u001b[0m\u001b[1;33m.\u001b[0m\u001b[0msort_keys\u001b[0m\u001b[1;33m,\u001b[0m\u001b[1;33m\u001b[0m\u001b[1;33m\u001b[0m\u001b[0m\n\u001b[0;32m    256\u001b[0m                 self.skipkeys, _one_shot)\n\u001b[1;32m--> 257\u001b[1;33m         \u001b[1;32mreturn\u001b[0m \u001b[0m_iterencode\u001b[0m\u001b[1;33m(\u001b[0m\u001b[0mo\u001b[0m\u001b[1;33m,\u001b[0m \u001b[1;36m0\u001b[0m\u001b[1;33m)\u001b[0m\u001b[1;33m\u001b[0m\u001b[1;33m\u001b[0m\u001b[0m\n\u001b[0m\u001b[0;32m    258\u001b[0m \u001b[1;33m\u001b[0m\u001b[0m\n\u001b[0;32m    259\u001b[0m def _make_iterencode(markers, _default, _encoder, _indent, _floatstr,\n",
      "\u001b[1;31mTypeError\u001b[0m: '<' not supported between instances of 'NoneType' and 'str'"
     ],
     "ename": "TypeError",
     "evalue": "'<' not supported between instances of 'NoneType' and 'str'",
     "output_type": "error"
    }
   ],
   "source": [
    "pathways = get_pathways()\n",
    "for pathway in pathways['stId'][1:]:\n",
    "    print(f\"Plot {pathway}\")\n",
    "    visualization.plot_pathway_all_levels(pathway, figures_path=\"figures/pathways/\")\n",
    "\n",
    "# TODO: Write function that converts a set of pathways into an interaction network\n",
    "\n",
    "# TODO: Write function that colors the different pathways in an interaction network"
   ],
   "metadata": {
    "collapsed": false,
    "pycharm": {
     "name": "#%% Plot interaction networks\n",
     "is_executing": false
    }
   }
  },
  {
   "cell_type": "markdown",
   "source": [
    "## Node Degree analysis"
   ],
   "metadata": {
    "collapsed": false,
    "pycharm": {
     "name": "#%% md\n"
    }
   }
  },
  {
   "cell_type": "code",
   "execution_count": null,
   "outputs": [],
   "source": [
    "def getDegrees(filename, entity):\n",
    "    \"\"\"\n",
    "    Calculates number of interactors (degree) of each entity node.\n",
    "    By entity we mean: genes, proteins or proteoforms\n",
    "    \n",
    "    :param filename: File with the interactions of an entity type\n",
    "    :return: Pandas dataframe with two columns: ENTITY, DEGREE\n",
    "    ENTITY is a string value, DEGREE is an integer\n",
    "    \"\"\"\n",
    "    entities = {}\n",
    "    with open(filename) as fg:\n",
    "        interaction = fg.readline()\n",
    "        interaction = fg.readline()\n",
    "        while interaction:\n",
    "            # print(interaction)\n",
    "            fields = interaction.split('\\t')\n",
    "            entities.setdefault(fields[0].strip(), set()).add(fields[1].strip())\n",
    "            entities.setdefault(fields[1].strip(), set()).add(fields[0].strip())\n",
    "            interaction = fg.readline()\n",
    "    print(\"Number of entities: \", len(entities))\n",
    "    \n",
    "    genes_degrees = [len(entry[1]) for entry in entities.items()]\n",
    "    data = {'ENTITY': np.repeat(entity, len(genes_degrees)),\n",
    "            'DEGREE': genes_degrees}\n",
    "    avg_degree = sum(genes_degrees)/len(genes_degrees)\n",
    "    print(\"Average number of interacting entities: {:.2f}\".format(avg_degree) )    \n",
    "    return pd.DataFrame(data, columns = [\"ENTITY\", \"DEGREE\"])\n",
    "\n",
    "# Calculate number of neighbours of each node\n",
    "degree_genes = getDegrees(PATH_REACTOME + FILE_REACTOME_GENE_INTERACTIONS, \"gene\")\n",
    "degree_proteins = getDegrees(PATH_REACTOME + FILE_REACTOME_PROTEIN_INTERACTIONS, \"protein\")\n",
    "degree_proteoforms = getDegrees(PATH_REACTOME + FILE_REACTOME_PROTEOFORM_INTERACTIONS, \"proteoform\")"
   ],
   "metadata": {
    "collapsed": false,
    "pycharm": {
     "name": "#%% Calculate average degree for all networks\n",
     "is_executing": false
    }
   }
  },
  {
   "cell_type": "code",
   "execution_count": null,
   "outputs": [],
   "source": [
    "degrees = pd.concat([degree_genes, degree_proteins, degree_proteoforms])\n",
    "sns.set(style=\"ticks\")\n",
    "ax = sns.boxplot(x=\"ENTITY\", y=\"DEGREE\", data=degrees)\n"
   ],
   "metadata": {
    "collapsed": false,
    "pycharm": {
     "name": "#%% Plot the max, min, and average degree for each type of entity\n",
     "is_executing": false
    }
   }
  },
  {
   "cell_type": "markdown",
   "source": [
    "## Bridges and Articulation points"
   ],
   "metadata": {
    "collapsed": false,
    "pycharm": {
     "name": "#%% md\n",
     "is_executing": false
    }
   }
  },
  {
   "cell_type": "code",
   "execution_count": null,
   "outputs": [],
   "source": [
    "# TODO: Write function that plots and highlights the articulation points of an interaction network.\n",
    "# TODO: Write function that plots and highlights also the bridges of the network."
   ],
   "metadata": {
    "collapsed": false,
    "pycharm": {
     "name": "#%%\n",
     "is_executing": false
    }
   }
  },
  {
   "cell_type": "markdown",
   "source": [
    "## Disease modules"
   ],
   "metadata": {
    "collapsed": false,
    "pycharm": {
     "name": "#%% md\n"
    }
   }
  },
  {
   "cell_type": "code",
   "execution_count": null,
   "outputs": [],
   "source": [
    "# What is needed from each source? \n",
    "## Gene/Protein Modules file (network regions)\n",
    "\n",
    "# PheGenI Phenotypes\n",
    "download_if_not_exists(\"resources/PheGenI/\", \n",
    "                       \"PheGenI_Association.txt\", \n",
    "                       \"https://www.ncbi.nlm.nih.gov/projects/gap/eqtl/EpiViewBE.cgi?type=dl.tab\",\n",
    "                       \"PheGenI modules\")\n",
    "\n",
    "# Jensen Lab Diseases\n",
    "download_if_not_exists(\"resources/Jensen/\",\n",
    "                       \"human_disease_textmining_filtered.tsv\",\n",
    "                       \"http://download.jensenlab.org/human_disease_textmining_filtered.tsv\",\n",
    "                       \"Jensen Lab Diseases\")\n",
    "\n",
    "# from lib.conversions import create_gene_to_protein_mapping\n",
    "# \n",
    "# path_file_genes = \"../resources/Reactome/v70/Genes/all_genes_v70.csv\"\n",
    "# create_gene_to_protein_mapping(path_file_genes, \"../resources/UniProt/\", \"mapping_proteins_to_genes_v70.tab\", 1000)\n",
    "dataset=\"PheGenI\" \n",
    "# dataset=\"Pathways\" \n",
    "# dataset=\"Jensen\" \n",
    "print(\"Module files READY\")"
   ],
   "metadata": {
    "collapsed": false,
    "pycharm": {
     "name": "#%% Download and create disease modules\n",
     "is_executing": false
    }
   }
  },
  {
   "cell_type": "code",
   "execution_count": null,
   "outputs": [],
   "source": [
    "# Generates module files: gene_modules.tsv, protein_modules.tsv and proteoform_modules.tsv\n",
    "# Generates single module files at each level: gene, protein and proteoform file for each trait\n",
    "# Module sizes for genes, protein and proteoform levels\n",
    "# Variation in module sizes when going from one level to the other\n",
    "# Three files (for genes, proteins and proteoforms) with the Overlap similarity of each \n",
    "# pair of traits.\n",
    "# Creates a file with a selection of trait pair examples which show decrease in the overlap. "
   ],
   "metadata": {
    "collapsed": false,
    "pycharm": {
     "name": "#%% Create report files: Execute the C++ main program\n",
     "is_executing": false
    }
   }
  },
  {
   "cell_type": "code",
   "execution_count": null,
   "outputs": [],
   "source": [
    "sizes_dict_connected = {level: pd.read_csv(f\"reports/modules/module_sizes_{level}.tsv\", sep=\"\\t\") for level in LEVELS}\n",
    "sizes_dict_disconnected = {level: pd.read_csv(f\"reports/modules_keep_disconnected/module_sizes_{level}.tsv\", sep=\"\\t\") for level in LEVELS}\n",
    "for level in LEVELS:\n",
    "    print(f\"\\n{level}\")\n",
    "    print(sizes_dict_connected[level].describe())\n",
    "    print(sizes_dict_disconnected[level].describe())\n",
    "    sizes_dict_connected[level][\"CONNECTEDNESS\"] = \"connected\"\n",
    "    sizes_dict_disconnected[level][\"CONNECTEDNESS\"] = \"disconnected\"\n",
    "\n",
    "sizes_df_connected = pd.concat(sizes_dict_connected, names=[\"level\", \"index\"])\n",
    "sizes_df_disconnected = pd.concat(sizes_dict_disconnected, names=[\"level\", \"index\"])\n",
    "# sizes_df[sizes_df.index.get_level_values(\"level\") == \"genes\"]\n",
    "# sizes_df = pd.concat([sizes_df_connected, sizes_dict_disconnected], names=[\"level\", \"index\"])\n",
    "# sizes_df\n",
    "sizes_df_connected[\"LEVEL\"] = sizes_df_connected.index.get_level_values(\"level\")\n",
    "sizes_df_disconnected[\"LEVEL\"] = sizes_df_disconnected.index.get_level_values(\"level\")\n",
    "sizes_df = pd.concat([sizes_df_connected, sizes_df_disconnected])\n",
    "sizes_df"
   ],
   "metadata": {
    "collapsed": false,
    "pycharm": {
     "name": "#%% Explore module sizes\n",
     "is_executing": false
    }
   }
  },
  {
   "cell_type": "code",
   "execution_count": null,
   "outputs": [],
   "source": [
    "# Do the following plots for the modules in two cases: keeping disconnected nodes and removing them\n",
    "    # Jitter plot showing the sizes for genes, proteins and proteoforms\n",
    "    # Jitter plot showing the difference in size fom genes to proteins and from proteins to proteoforms.\n",
    "# sizes_df = pd.DataFrame()\n",
    "# for level in levels:\n",
    "#     sizes_df[f\"SIZES_{level.upper()}\"] = sizes_dict[level][\"SIZES\"]\n",
    "\n",
    "sns.set(style=\"ticks\")\n",
    "g = sns.FacetGrid(sizes_df, col=\"LEVEL\", height=4, aspect=.5, hue=\"LEVEL\", palette=\"Set2\")\n",
    "g.map(sns.barplot, \"CONNECTEDNESS\", \"SIZE\")\n",
    "plt.show()\n",
    "\n",
    "ax = sns.boxplot(x=\"SIZE\", y=\"LEVEL\", data=sizes_df_connected, whis=np.inf)\n",
    "ax = sns.stripplot(x=\"SIZE\", y=\"LEVEL\", data=sizes_df_connected, jitter=True, color=\".3\")\n",
    "plt.show()\n",
    "\n",
    "ax = sns.violinplot(x=\"SIZE\", y=\"LEVEL\", data=sizes_df_connected, inner=None, color=\".8\")\n",
    "ax = sns.stripplot(x=\"SIZE\", y=\"LEVEL\", data=sizes_df_connected, jitter=True)\n",
    "plt.show()\n",
    "\n",
    "g = sns.catplot(x=\"LEVEL\", y=\"SIZE\",\n",
    "                hue=\"LEVEL\", col=\"CONNECTEDNESS\",\n",
    "                data=sizes_df, kind=\"strip\",\n",
    "                jitter=True,\n",
    "                height=4, aspect=.7);\n",
    "plt.show()\n",
    "\n",
    "g = sns.catplot(x=\"CONNECTEDNESS\", y=\"SIZE\",\n",
    "                hue=\"CONNECTEDNESS\", col=\"LEVEL\",\n",
    "                data=sizes_df, kind=\"strip\",\n",
    "                jitter=True,\n",
    "                height=4, aspect=.7);\n",
    "plt.show()\n",
    "\n",
    "g = sns.catplot(x=\"SIZE\", y=\"LEVEL\", hue=\"CONNECTEDNESS\", data=sizes_df, kind=\"violin\")\n",
    "plt.show()\n",
    "\n",
    "g = sns.catplot(x=\"SIZE\", y=\"CONNECTEDNESS\", hue=\"LEVEL\", data=sizes_df, kind=\"violin\")\n",
    "plt.show()"
   ],
   "metadata": {
    "collapsed": false,
    "pycharm": {
     "name": "#%%\n",
     "is_executing": false
    }
   }
  },
  {
   "cell_type": "code",
   "execution_count": null,
   "outputs": [],
   "source": [
    "# Calculate and plot size variation\n",
    "sizes_df = pd.concat(\n",
    "    [pd.read_csv(f\"reports/modules/module_sizes_{level}.tsv\", sep=\"\\t\", names=[\"MODULES\", f\"SIZE_{level.upper()}\"], header=0)[f\"SIZE_{level.upper()}\"] for level in LEVELS], \n",
    "    axis=1)\n",
    "\n",
    "sizes_df[f\"VARIATION_GENES_TO_PROTEINS\"] = sizes_df[\"SIZE_PROTEINS\"] - sizes_df[\"SIZE_GENES\"]\n",
    "sizes_df[f\"VARIATION_PROTEINS_TO_PROTEOFORMS\"] = sizes_df[\"SIZE_PROTEOFORMS\"] - sizes_df[\"SIZE_PROTEINS\"]\n",
    "\n",
    "sizes_df['PERCENTAGE_GENES_TO_PROTEINS'] = sizes_df['VARIATION_GENES_TO_PROTEINS']*100/sizes_df['SIZE_GENES']\n",
    "sizes_df['PERCENTAGE_PROTEINS_TO_PROTEOFORMS'] = sizes_df['VARIATION_PROTEINS_TO_PROTEOFORMS']*100/sizes_df['SIZE_PROTEINS']\n",
    "sizes_df.fillna(0, inplace=True)\n",
    "# sizes_df['PERCENTAGE_PROTEINS_TO_PROTEOFORMS'].unique()\n",
    "sizes_df"
   ],
   "metadata": {
    "collapsed": false,
    "pycharm": {
     "name": "#%% Explore module size variation when switching levels\n",
     "is_executing": false
    }
   }
  },
  {
   "cell_type": "code",
   "execution_count": null,
   "outputs": [],
   "source": [
    "size_variation = pd.concat({\"GENES_TO_PROTEINS\":sizes_df[\"VARIATION_GENES_TO_PROTEINS\"], \n",
    "                            \"PROTEINS_TO_PROTEOFORMS\": sizes_df[f\"VARIATION_PROTEINS_TO_PROTEOFORMS\"]\n",
    "                           }, names=[\"STEP\", \"INDEX\"], axis=0)\n",
    "size_variation = size_variation.to_frame()\n",
    "size_variation[\"STEP\"] = size_variation.index.get_level_values(\"STEP\")\n",
    "size_variation.columns = [\"VARIATION\", \"STEP\"]\n",
    "\n",
    "size_variation"
   ],
   "metadata": {
    "collapsed": false,
    "pycharm": {
     "name": "#%% Plot size variation\n",
     "is_executing": false
    }
   }
  },
  {
   "cell_type": "code",
   "execution_count": null,
   "outputs": [],
   "source": [
    "ax = sns.boxplot(x=\"VARIATION\", y=\"STEP\", data=size_variation, whis=np.inf)\n",
    "ax = sns.stripplot(x=\"VARIATION\", y=\"STEP\", data=size_variation,\n",
    "                   jitter=True, color=\".3\").set_title(\"SIZE VARIATION AT LEVEL TRANSITION\")\n",
    "plt.show()\n",
    "\n",
    "ax = sns.violinplot(x=\"STEP\", y=\"VARIATION\", data=size_variation, inner=None, color=\".8\")\n",
    "ax = sns.stripplot(x=\"STEP\", y=\"VARIATION\", data=size_variation, jitter=True).set_title(\"SIZE VARIATION AT LEVEL TRANSITION\")\n",
    "plt.show()"
   ],
   "metadata": {
    "collapsed": false,
    "pycharm": {
     "name": "#%%\n",
     "is_executing": false
    }
   }
  },
  {
   "cell_type": "code",
   "execution_count": null,
   "outputs": [],
   "source": [
    "percentage_variation = pd.concat({\"GENES_TO_PROTEINS\":sizes_df[\"PERCENTAGE_GENES_TO_PROTEINS\"], \n",
    "                            \"PROTEINS_TO_PROTEOFORMS\": sizes_df[f\"PERCENTAGE_PROTEINS_TO_PROTEOFORMS\"]\n",
    "                           }, names=[\"STEP\", \"INDEX\"], axis=0)\n",
    "percentage_variation = percentage_variation.to_frame()\n",
    "percentage_variation[\"STEP\"] = percentage_variation.index.get_level_values(\"STEP\")\n",
    "percentage_variation.columns = [\"PERCENTAGE\", \"STEP\"]\n",
    "\n",
    "percentage_variation"
   ],
   "metadata": {
    "collapsed": false,
    "pycharm": {
     "name": "#%% Plot percentage variation\n",
     "is_executing": false
    }
   }
  },
  {
   "cell_type": "code",
   "execution_count": null,
   "outputs": [],
   "source": [
    "ax = sns.boxplot(x=\"PERCENTAGE\", y=\"STEP\", data=percentage_variation, whis=np.inf)\n",
    "ax = sns.stripplot(x=\"PERCENTAGE\", y=\"STEP\", data=percentage_variation,\n",
    "                   jitter=True, color=\".3\").set_title(\"PERCENTAGE OF SIZE VARIATION AT LEVEL TRANSITION\")\n",
    "plt.show()\n",
    "\n",
    "ax = sns.violinplot(x=\"STEP\", y=\"PERCENTAGE\", data=percentage_variation, inner=None, color=\".8\")\n",
    "ax = sns.stripplot(x=\"STEP\", y=\"PERCENTAGE\", data=percentage_variation, jitter=True).set_title(\"PERCENTAGE OF SIZE VARIATION AT LEVEL TRANSITION\")\n",
    "plt.show()\n"
   ],
   "metadata": {
    "collapsed": false,
    "pycharm": {
     "name": "#%%\n",
     "is_executing": false
    }
   }
  },
  {
   "cell_type": "code",
   "execution_count": null,
   "outputs": [],
   "source": [
    "scores = {level: pd.read_csv(f\"reports/scores_{level}_overlap_similarity.tsv\", sep='\\t') for level in LEVELS}\n",
    "assert len({len(scores[level]) for level in LEVELS}) == 1, \"Error: the number of modules vary among levels.\""
   ],
   "metadata": {
    "collapsed": false,
    "pycharm": {
     "name": "#%% Read overlap scores off all levels\n",
     "is_executing": false
    }
   }
  },
  {
   "cell_type": "code",
   "execution_count": null,
   "outputs": [],
   "source": [
    "import matplotlib.pyplot as plt\n",
    "\n",
    "bins = 250\n",
    "plt.figure(figsize=(13, 6), )\n",
    "for level in LEVELS:\n",
    "    sns.distplot(scores[level]['SCORE'] , hist = True, kde = True, kde_kws = {'linewidth': 1}, label=level, bins=bins)\n",
    "plt.ylim(0, 20)\n",
    "plt.legend(prop={'size': 16}, title = 'Overlap score density distribution')\n",
    "plt.title('Overlap score distribution')\n",
    "plt.xlabel('Overlap score')\n",
    "plt.ylabel('Density')\n",
    "plt.show()"
   ],
   "metadata": {
    "collapsed": false,
    "pycharm": {
     "name": "#%% Plot overlap scores\n",
     "is_executing": false
    }
   }
  },
  {
   "cell_type": "code",
   "execution_count": null,
   "outputs": [],
   "source": [
    "df = pd.DataFrame(scores['genes'][['SCORE', 'OVERLAP_SIZE']])\n",
    "df.columns = ['SCORE_GENES', 'OVERLAP_SIZE_GENES']\n",
    "for level in ['proteins', 'proteoforms']:\n",
    "    df['OVERLAP_SIZE_' + level.upper()] = scores[level]['OVERLAP_SIZE']\n",
    "    df['SCORE_' + level.upper()] = scores[level]['SCORE']\n",
    "df['SCORE_VARIATION'] = df['SCORE_PROTEOFORMS'] - df['SCORE_GENES'] \n",
    "df['SIZE_PERCENTAGE_VARIATION'] = scores['genes'].apply(lambda x: sizes['PERCENTAGE_VARIATION'].loc[x['TRAIT1']] + sizes['PERCENTAGE_VARIATION'].loc[x['TRAIT2']], axis=1)\n",
    "df.index = scores['genes'].apply(lambda x: (x['TRAIT1'], x['TRAIT2']), axis=1)\n",
    "df"
   ],
   "metadata": {
    "collapsed": false,
    "pycharm": {
     "name": "#%% Calculate overlap score variation\n",
     "is_executing": false
    }
   }
  },
  {
   "cell_type": "code",
   "execution_count": null,
   "outputs": [],
   "source": [
    "plt.figure(figsize=(13, 6))\n",
    "plt.scatter(df['SCORE_VARIATION'], df['SIZE_PERCENTAGE_VARIATION'], alpha=0.5)\n",
    "plt.title('Variation in size VS variation in overlap')\n",
    "plt.xlabel('Size percentage variation')\n",
    "plt.ylabel('Overlap variation')\n",
    "plt.show()"
   ],
   "metadata": {
    "collapsed": false,
    "pycharm": {
     "name": "#%% Plot size variation vs score variation\n",
     "is_executing": false
    }
   }
  },
  {
   "cell_type": "code",
   "execution_count": null,
   "outputs": [],
   "source": [
    "min_overlap_size = 10\n",
    "max_overlap_size = 20\n",
    "\n",
    "overlap_data = {level: pd.read_csv(f\"reports/modules/pairs_overlap_data_{level}.tsv\") for level in LEVELS}\n"
   ],
   "metadata": {
    "collapsed": false,
    "pycharm": {
     "name": "#%% Select overlap examples where the overlap is between size range\n",
     "is_executing": false
    }
   }
  },
  {
   "cell_type": "code",
   "execution_count": null,
   "outputs": [],
   "source": [],
   "metadata": {
    "collapsed": false,
    "pycharm": {
     "name": "#%% Plot: Variation in size VS variation in overlap\n",
     "is_executing": false
    }
   }
  },
  {
   "cell_type": "code",
   "execution_count": null,
   "outputs": [],
   "source": [],
   "metadata": {
    "collapsed": false,
    "pycharm": {
     "name": "#%% Create a column with overlap coefficient variation across levels\n",
     "is_executing": false
    }
   }
  },
  {
   "cell_type": "code",
   "execution_count": null,
   "outputs": [],
   "source": [
    "# NODE_OVERLAP_SIZE_VARIATION_GENES_TO_PROTEINS\n",
    "# NODE_OVERLAP_SIZE_VARIATION_PROTEINS_TO_PROTEOFORMS\n",
    "# NODE_INTERFACE_SIZE_VARIATION_GENES_TO_PROTEINS\n",
    "# NODE_INTERFACE_SIZE_VARIATION_PROTEINS_TO_PROTEOFORMS\n",
    "# NODE_INTERFACE_SIZE_VARIATION_GENES_TO"
   ],
   "metadata": {
    "collapsed": false,
    "pycharm": {
     "name": "#%% Create columns: \n",
     "is_executing": false
    }
   }
  }
 ],
 "metadata": {
  "kernelspec": {
   "display_name": "Python 3",
   "language": "python",
   "name": "python3"
  },
  "language_info": {
   "codemirror_mode": {
    "name": "ipython",
    "version": 2
   },
   "file_extension": ".py",
   "mimetype": "text/x-python",
   "name": "python",
   "nbconvert_exporter": "python",
   "pygments_lexer": "ipython2",
   "version": "2.7.6"
  },
  "pycharm": {
   "stem_cell": {
    "cell_type": "raw",
    "source": [
     "# This file is the starting point for the whole project.\n",
     "\"\"\"\n",
     " The goal of this project is to study the differences between protein and proteoform \n",
     " interaction networks for functional analysis.\n",
     "\n",
     "\"\"\"  \n"
    ],
    "metadata": {
     "collapsed": false
    }
   }
  }
 },
 "nbformat": 4,
 "nbformat_minor": 0
}