{
 "cells": [
  {
   "cell_type": "markdown",
   "source": [
    "## Articulation points and bridges"
   ],
   "metadata": {
    "collapsed": false
   }
  },
  {
   "cell_type": "code",
   "execution_count": 4,
   "outputs": [
    {
     "name": "stdout",
     "output_type": "stream",
     "text": [
      "The autoreload extension is already loaded. To reload it, use:\n",
      "  %reload_ext autoreload\n",
      "Working directory: c:\\git\\pathwayanalysisplatform\\proteoformnetworks\n"
     ]
    }
   ],
   "source": [
    "import bisect\n",
    "\n",
    "import networkx as nx\n",
    "import pandas as pd\n",
    "import matplotlib as plt\n",
    "import seaborn as sns\n",
    "import numpy as np\n",
    "\n",
    "import config\n",
    "from config import GRAPHS_PATH\n",
    "from lib.graph_database_access import get_pathways\n",
    "from lib.networks import get_interactomes, get_multiindex\n",
    "\n",
    "%load_ext autoreload\n",
    "%autoreload 2\n",
    "%reload_ext autoreload\n",
    "\n",
    "config.set_root_wd()\n"
   ],
   "metadata": {
    "collapsed": false,
    "pycharm": {
     "name": "#%%\n"
    }
   }
  },
  {
   "cell_type": "code",
   "execution_count": 5,
   "outputs": [],
   "source": [
    "index = get_multiindex()\n",
    "interactomes_no_sm, interactomes_with_sm, interactomes_with_unique_sm = get_interactomes(GRAPHS_PATH)\n",
    "interactomes = [*interactomes_no_sm.values(), *interactomes_with_sm.values(), *interactomes_with_unique_sm.values()]"
   ],
   "metadata": {
    "collapsed": false,
    "pycharm": {
     "name": "#%% Get all interactomes\n"
    }
   }
  },
  {
   "cell_type": "code",
   "execution_count": 14,
   "outputs": [
    {
     "data": {
      "text/plain": "                                       Number of Articulation Points  \\\nSmall Molecules          Entity Level                                  \nNot Included             genes                                   269   \n                         proteins                                270   \n                         proteoforms                             349   \nIncluded                 genes                                   246   \n                         proteins                                246   \n                         proteoforms                             255   \nReaction-Unique Included genes                                  1889   \n                         proteins                               1888   \n                         proteoforms                            1919   \n\n                                       Percentage of nodes that are articulation points  \\\nSmall Molecules          Entity Level                                                     \nNot Included             genes                                                     0.02   \n                         proteins                                                  0.02   \n                         proteoforms                                               0.02   \nIncluded                 genes                                                     0.02   \n                         proteins                                                  0.02   \n                         proteoforms                                               0.02   \nReaction-Unique Included genes                                                     0.05   \n                         proteins                                                  0.05   \n                         proteoforms                                               0.05   \n\n                                       Number of accessioned entities that are articulation points  \\\nSmall Molecules          Entity Level                                                                \nNot Included             genes                                                       269             \n                         proteins                                                    270             \n                         proteoforms                                                 349             \nIncluded                 genes                                                       145             \n                         proteins                                                    145             \n                         proteoforms                                                 153             \nReaction-Unique Included genes                                                      1486             \n                         proteins                                                   1485             \n                         proteoforms                                                1516             \n\n                                       Percentage of accessioned entities that are articulation points  \\\nSmall Molecules          Entity Level                                                                    \nNot Included             genes                                                      0.02                 \n                         proteins                                                   0.02                 \n                         proteoforms                                                0.02                 \nIncluded                 genes                                                      0.01                 \n                         proteins                                                   0.01                 \n                         proteoforms                                                0.01                 \nReaction-Unique Included genes                                                      0.14                 \n                         proteins                                                   0.13                 \n                         proteoforms                                                0.11                 \n\n                                       Number of small molecules that are articulation points  \\\nSmall Molecules          Entity Level                                                           \nNot Included             genes                                                         0        \n                         proteins                                                      0        \n                         proteoforms                                                   0        \nIncluded                 genes                                                       101        \n                         proteins                                                    101        \n                         proteoforms                                                 102        \nReaction-Unique Included genes                                                       403        \n                         proteins                                                    403        \n                         proteoforms                                                 403        \n\n                                       Percentage of small molecules that are articulation points  \\\nSmall Molecules          Entity Level                                                               \nNot Included             genes                                                      0.00            \n                         proteins                                                   0.00            \n                         proteoforms                                                0.00            \nIncluded                 genes                                                      0.05            \n                         proteins                                                   0.05            \n                         proteoforms                                                0.05            \nReaction-Unique Included genes                                                      0.01            \n                         proteins                                                   0.01            \n                         proteoforms                                                0.01            \n\n                                       Number of interactions  \\\nSmall Molecules          Entity Level                           \nNot Included             genes                         453137   \n                         proteins                      462430   \n                         proteoforms                   677057   \nIncluded                 genes                         528969   \n                         proteins                      538874   \n                         proteoforms                   759198   \nReaction-Unique Included genes                         839401   \n                         proteins                      853568   \n                         proteoforms                  1077886   \n\n                                       Number of bridge interactions  \\\nSmall Molecules          Entity Level                                  \nNot Included             genes                                   515   \n                         proteins                                517   \n                         proteoforms                             580   \nIncluded                 genes                                   524   \n                         proteins                                524   \n                         proteoforms                             524   \nReaction-Unique Included genes                                  3367   \n                         proteins                               3365   \n                         proteoforms                            3280   \n\n                                      Percentage of links that are bridges  \\\nSmall Molecules          Entity Level                                        \nNot Included             genes                                     0.00114   \n                         proteins                                  0.00112   \n                         proteoforms                               0.00086   \nIncluded                 genes                                     0.00099   \n                         proteins                                  0.00097   \n                         proteoforms                               0.00069   \nReaction-Unique Included genes                                     0.00401   \n                         proteins                                  0.00394   \n                         proteoforms                               0.00304   \n\n                                       Percentage of links coming out of the accessioned entities that are bridges  \\\nSmall Molecules          Entity Level                                                                                \nNot Included             genes                                                      0.06                             \n                         proteins                                                   0.06                             \n                         proteoforms                                                0.05                             \nIncluded                 genes                                                      0.05                             \n                         proteins                                                   0.05                             \n                         proteoforms                                                0.04                             \nReaction-Unique Included genes                                                      0.06                             \n                         proteins                                                   0.06                             \n                         proteoforms                                                0.05                             \n\n                                       Percentage of links coming out of the small molecules that are bridges  \nSmall Molecules          Entity Level                                                                          \nNot Included             genes                                                      0.00                       \n                         proteins                                                   0.00                       \n                         proteoforms                                                0.00                       \nIncluded                 genes                                                      0.04                       \n                         proteins                                                   0.04                       \n                         proteoforms                                                0.04                       \nReaction-Unique Included genes                                                      0.12                       \n                         proteins                                                   0.12                       \n                         proteoforms                                                0.11                       ",
      "text/html": "<div>\n<style scoped>\n    .dataframe tbody tr th:only-of-type {\n        vertical-align: middle;\n    }\n\n    .dataframe tbody tr th {\n        vertical-align: top;\n    }\n\n    .dataframe thead th {\n        text-align: right;\n    }\n</style>\n<table border=\"1\" class=\"dataframe\">\n  <thead>\n    <tr style=\"text-align: right;\">\n      <th></th>\n      <th></th>\n      <th>Number of Articulation Points</th>\n      <th>Percentage of nodes that are articulation points</th>\n      <th>Number of accessioned entities that are articulation points</th>\n      <th>Percentage of accessioned entities that are articulation points</th>\n      <th>Number of small molecules that are articulation points</th>\n      <th>Percentage of small molecules that are articulation points</th>\n      <th>Number of interactions</th>\n      <th>Number of bridge interactions</th>\n      <th>Percentage of links that are bridges</th>\n      <th>Percentage of links coming out of the accessioned entities that are bridges</th>\n      <th>Percentage of links coming out of the small molecules that are bridges</th>\n    </tr>\n    <tr>\n      <th>Small Molecules</th>\n      <th>Entity Level</th>\n      <th></th>\n      <th></th>\n      <th></th>\n      <th></th>\n      <th></th>\n      <th></th>\n      <th></th>\n      <th></th>\n      <th></th>\n      <th></th>\n      <th></th>\n    </tr>\n  </thead>\n  <tbody>\n    <tr>\n      <th rowspan=\"3\" valign=\"top\">Not Included</th>\n      <th>genes</th>\n      <td>269</td>\n      <td>0.02</td>\n      <td>269</td>\n      <td>0.02</td>\n      <td>0</td>\n      <td>0.00</td>\n      <td>453137</td>\n      <td>515</td>\n      <td>0.00114</td>\n      <td>0.06</td>\n      <td>0.00</td>\n    </tr>\n    <tr>\n      <th>proteins</th>\n      <td>270</td>\n      <td>0.02</td>\n      <td>270</td>\n      <td>0.02</td>\n      <td>0</td>\n      <td>0.00</td>\n      <td>462430</td>\n      <td>517</td>\n      <td>0.00112</td>\n      <td>0.06</td>\n      <td>0.00</td>\n    </tr>\n    <tr>\n      <th>proteoforms</th>\n      <td>349</td>\n      <td>0.02</td>\n      <td>349</td>\n      <td>0.02</td>\n      <td>0</td>\n      <td>0.00</td>\n      <td>677057</td>\n      <td>580</td>\n      <td>0.00086</td>\n      <td>0.05</td>\n      <td>0.00</td>\n    </tr>\n    <tr>\n      <th rowspan=\"3\" valign=\"top\">Included</th>\n      <th>genes</th>\n      <td>246</td>\n      <td>0.02</td>\n      <td>145</td>\n      <td>0.01</td>\n      <td>101</td>\n      <td>0.05</td>\n      <td>528969</td>\n      <td>524</td>\n      <td>0.00099</td>\n      <td>0.05</td>\n      <td>0.04</td>\n    </tr>\n    <tr>\n      <th>proteins</th>\n      <td>246</td>\n      <td>0.02</td>\n      <td>145</td>\n      <td>0.01</td>\n      <td>101</td>\n      <td>0.05</td>\n      <td>538874</td>\n      <td>524</td>\n      <td>0.00097</td>\n      <td>0.05</td>\n      <td>0.04</td>\n    </tr>\n    <tr>\n      <th>proteoforms</th>\n      <td>255</td>\n      <td>0.02</td>\n      <td>153</td>\n      <td>0.01</td>\n      <td>102</td>\n      <td>0.05</td>\n      <td>759198</td>\n      <td>524</td>\n      <td>0.00069</td>\n      <td>0.04</td>\n      <td>0.04</td>\n    </tr>\n    <tr>\n      <th rowspan=\"3\" valign=\"top\">Reaction-Unique Included</th>\n      <th>genes</th>\n      <td>1889</td>\n      <td>0.05</td>\n      <td>1486</td>\n      <td>0.14</td>\n      <td>403</td>\n      <td>0.01</td>\n      <td>839401</td>\n      <td>3367</td>\n      <td>0.00401</td>\n      <td>0.06</td>\n      <td>0.12</td>\n    </tr>\n    <tr>\n      <th>proteins</th>\n      <td>1888</td>\n      <td>0.05</td>\n      <td>1485</td>\n      <td>0.13</td>\n      <td>403</td>\n      <td>0.01</td>\n      <td>853568</td>\n      <td>3365</td>\n      <td>0.00394</td>\n      <td>0.06</td>\n      <td>0.12</td>\n    </tr>\n    <tr>\n      <th>proteoforms</th>\n      <td>1919</td>\n      <td>0.05</td>\n      <td>1516</td>\n      <td>0.11</td>\n      <td>403</td>\n      <td>0.01</td>\n      <td>1077886</td>\n      <td>3280</td>\n      <td>0.00304</td>\n      <td>0.05</td>\n      <td>0.11</td>\n    </tr>\n  </tbody>\n</table>\n</div>"
     },
     "execution_count": 14,
     "metadata": {},
     "output_type": "execute_result"
    }
   ],
   "source": [
    "import decimal\n",
    "from statistics import mean\n",
    "\n",
    "columns = [\n",
    "    \"Number of Articulation Points\",\n",
    "    \"Percentage of nodes that are articulation points\",\n",
    "    \"Number of accessioned entities that are articulation points\",\n",
    "    \"Percentage of accessioned entities that are articulation points\",\n",
    "    \"Number of small molecules that are articulation points\",\n",
    "    \"Percentage of small molecules that are articulation points\",\n",
    "    \"Number of interactions\",\n",
    "    \"Number of bridge interactions\",\n",
    "    \"Percentage of links that are bridges\",\n",
    "    \"Percentage of links coming out of the accessioned entities that are bridges\",\n",
    "    \"Percentage of links coming out of the small molecules that are bridges\"\n",
    "]\n",
    "\n",
    "def count_accessioned_entites_art_points(g):\n",
    "    return sum(g.nodes[n][\"Articulation Point\"] and not g.nodes[n]['type'].startswith(\"Simple\") for n in g.nodes)\n",
    "\n",
    "def count_small_molecules_art_points(g):\n",
    "    return sum(g.nodes[n][\"Articulation Point\"] and g.nodes[n]['type'].startswith(\"Simple\") for n in g.nodes)\n",
    "\n",
    "def get_percentage_links_that_are_bridges(g, nodes):\n",
    "    percentage_bridges_from_node = []\n",
    "    for node in nodes:\n",
    "        if len(g.edges(node)) > 0:\n",
    "            num_bridges = sum(g.edges[e]['Bridge'] for e in g.edges(node))\n",
    "            percentage_bridges_from_node.append(num_bridges / len(g.edges(node)))\n",
    "    return mean(percentage_bridges_from_node)\n",
    "\n",
    "def get_tuples(interactome):\n",
    "    percentage_art_points = interactome.graph['Articulation Points'] / interactome.number_of_nodes()\n",
    "    num_acc_ent_art_points = count_accessioned_entites_art_points(interactome)\n",
    "    percentage_acc_ent_art_points = num_acc_ent_art_points / interactome.graph['num_entities']\n",
    "    num_sm_art_points = count_small_molecules_art_points(interactome)\n",
    "    percentage_sm_art_points = 0\n",
    "    if interactome.graph['num_small_molecules'] > 0:\n",
    "        percentage_sm_art_points = num_sm_art_points / interactome.graph['num_small_molecules']\n",
    "    assert interactome.graph['Articulation Points'] == num_acc_ent_art_points + num_sm_art_points\n",
    "\n",
    "    percentage_bridges = round(decimal.Decimal(interactome.graph[\"Bridges\"]) / interactome.number_of_edges(), 5)\n",
    "    acc_ents = list(interactome.nodes)\n",
    "    percentage_from_sms = 0\n",
    "    if interactome.graph['num_small_molecules'] > 0:\n",
    "        acc_ents = [n for n in interactome.nodes if not interactome.nodes[n]['type'].startswith(\"Simple\")]\n",
    "        sms = [n for n in interactome.nodes if interactome.nodes[n]['type'].startswith(\"Simple\")]\n",
    "        percentage_from_sms = get_percentage_links_that_are_bridges(interactome, sms)\n",
    "    percentage_from_acc_ents = get_percentage_links_that_are_bridges(interactome, acc_ents)\n",
    "\n",
    "    return (\n",
    "        interactome.graph['Articulation Points'],\n",
    "        percentage_art_points,\n",
    "        num_acc_ent_art_points,\n",
    "        percentage_acc_ent_art_points,\n",
    "        num_sm_art_points,\n",
    "        percentage_sm_art_points,\n",
    "        interactome.number_of_edges(),\n",
    "        interactome.graph[\"Bridges\"],\n",
    "        percentage_bridges,\n",
    "        percentage_from_acc_ents,\n",
    "        percentage_from_sms\n",
    "    )\n",
    "\n",
    "df_br_ap = pd.DataFrame([get_tuples(interactome) for interactome in interactomes],\n",
    "                        columns=columns,\n",
    "                        index=index)\n",
    "df_br_ap"
   ],
   "metadata": {
    "collapsed": false,
    "pycharm": {
     "name": "#%% Table: Calculate articulation points and bridges for all interactomes\n"
    }
   }
  },
  {
   "cell_type": "code",
   "execution_count": 36,
   "outputs": [
    {
     "data": {
      "text/plain": "<Figure size 432x288 with 1 Axes>",
      "image/png": "[encoded data removed]"
     },
     "metadata": {
      "needs_background": "light"
     },
     "output_type": "display_data"
    }
   ],
   "source": [
    "data = {\n",
    "    \"Bottleneck\": [\"Articulation Points\"]*9,\n",
    "    \"Percentage\": df_br_ap[\"Percentage of nodes that are articulation points\"]\n",
    "}\n",
    "df_art_points = pd.DataFrame(data)\n",
    "df_art_points.reset_index(inplace=True)\n",
    "\n",
    "data = {\n",
    "    \"Bottleneck\": [\"Bridges\"]*9,\n",
    "    \"Percentage\": df_br_ap[\"Percentage of links that are bridges\"]\n",
    "}\n",
    "df_bridges = pd.DataFrame(data)\n",
    "df_bridges.reset_index(inplace=True)\n",
    "\n",
    "data_br_ap = pd.concat([df_art_points, df_bridges])\n",
    "data_br_ap"
   ],
   "metadata": {
    "collapsed": false,
    "pycharm": {
     "name": "#%% Figure: Bar plot percentage of nodes that are articulation points in each interactome\n"
    }
   }
  },
  {
   "cell_type": "code",
   "execution_count": 48,
   "outputs": [
    {
     "data": {
      "text/plain": "<seaborn.axisgrid.FacetGrid at 0x255b82f70d0>"
     },
     "execution_count": 48,
     "metadata": {},
     "output_type": "execute_result"
    },
    {
     "data": {
      "text/plain": "<Figure size 1015.38x432 with 2 Axes>",
      "image/png": "[encoded data removed]"
     },
     "metadata": {},
     "output_type": "display_data"
    }
   ],
   "source": [
    "sns.set_style(\"dark\")\n",
    "f = sns.catplot(x=\"Entity Level\",\n",
    "                y=\"Percentage\",\n",
    "                hue = \"Small Molecules\",\n",
    "                col= \"Bottleneck\",\n",
    "                data=data_br_ap,\n",
    "                kind=\"bar\",\n",
    "                height=6, aspect=1, sharey=False)\n",
    "f.set_titles(\"{col_name}\")\n"
   ],
   "metadata": {
    "collapsed": false,
    "pycharm": {
     "name": "#%%\n"
    }
   }
  },
  {
   "cell_type": "code",
   "execution_count": 17,
   "outputs": [
    {
     "data": {
      "text/plain": "               stId                                        displayName\n0     R-HSA-9613829                       Chaperone Mediated Autophagy\n1     R-HSA-1632852                                     Macroautophagy\n2     R-HSA-5205685                      PINK1-PRKN Mediated Mitophagy\n3     R-HSA-8934903                        Receptor Mediated Mitophagy\n4     R-HSA-9613354                                          Lipophagy\n...             ...                                                ...\n2060   R-HSA-432722                Golgi Associated Vesicle Biogenesis\n2061   R-HSA-432720                        Lysosome Vesicle Biogenesis\n2062  R-HSA-8856828                      Clathrin-mediated endocytosis\n2063  R-HSA-8856825  Cargo recognition for clathrin-mediated endocy...\n2064   R-HSA-917729  Endosomal Sorting Complex Required For Transpo...\n\n[2065 rows x 2 columns]",
      "text/html": "<div>\n<style scoped>\n    .dataframe tbody tr th:only-of-type {\n        vertical-align: middle;\n    }\n\n    .dataframe tbody tr th {\n        vertical-align: top;\n    }\n\n    .dataframe thead th {\n        text-align: right;\n    }\n</style>\n<table border=\"1\" class=\"dataframe\">\n  <thead>\n    <tr style=\"text-align: right;\">\n      <th></th>\n      <th>stId</th>\n      <th>displayName</th>\n    </tr>\n  </thead>\n  <tbody>\n    <tr>\n      <th>0</th>\n      <td>R-HSA-9613829</td>\n      <td>Chaperone Mediated Autophagy</td>\n    </tr>\n    <tr>\n      <th>1</th>\n      <td>R-HSA-1632852</td>\n      <td>Macroautophagy</td>\n    </tr>\n    <tr>\n      <th>2</th>\n      <td>R-HSA-5205685</td>\n      <td>PINK1-PRKN Mediated Mitophagy</td>\n    </tr>\n    <tr>\n      <th>3</th>\n      <td>R-HSA-8934903</td>\n      <td>Receptor Mediated Mitophagy</td>\n    </tr>\n    <tr>\n      <th>4</th>\n      <td>R-HSA-9613354</td>\n      <td>Lipophagy</td>\n    </tr>\n    <tr>\n      <th>...</th>\n      <td>...</td>\n      <td>...</td>\n    </tr>\n    <tr>\n      <th>2060</th>\n      <td>R-HSA-432722</td>\n      <td>Golgi Associated Vesicle Biogenesis</td>\n    </tr>\n    <tr>\n      <th>2061</th>\n      <td>R-HSA-432720</td>\n      <td>Lysosome Vesicle Biogenesis</td>\n    </tr>\n    <tr>\n      <th>2062</th>\n      <td>R-HSA-8856828</td>\n      <td>Clathrin-mediated endocytosis</td>\n    </tr>\n    <tr>\n      <th>2063</th>\n      <td>R-HSA-8856825</td>\n      <td>Cargo recognition for clathrin-mediated endocy...</td>\n    </tr>\n    <tr>\n      <th>2064</th>\n      <td>R-HSA-917729</td>\n      <td>Endosomal Sorting Complex Required For Transpo...</td>\n    </tr>\n  </tbody>\n</table>\n<p>2065 rows × 2 columns</p>\n</div>"
     },
     "execution_count": 17,
     "metadata": {},
     "output_type": "execute_result"
    }
   ],
   "source": [
    "from lib.networks import create_pathway_interaction_networks\n",
    "\n",
    "# Create all pathway networks\n",
    "# Sets each node as node as articulation points or not\n",
    "# Sets each edge as bridge or not\n",
    "df_pathways = get_pathways()\n",
    "#for pathway in df_pathways[\"stId\"]:\n",
    "#    create_pathway_interaction_networks(pathway, \"resources/pathway_networks/\")\n",
    "df_pathways"
   ],
   "metadata": {
    "collapsed": false,
    "pycharm": {
     "name": "#%% Calculate the number of articulation points and bridges for each pathway\n"
    }
   }
  },
  {
   "cell_type": "code",
   "execution_count": 18,
   "outputs": [
    {
     "data": {
      "text/plain": "Small Molecules           Entity Level\nNot Included              genes           [0.3333333333333333, 0.3333333333333333, 0.333...\n                          proteins        [0.3333333333333333, 0.3333333333333333, 0.333...\n                          proteoforms     [0.5, 0.4444444444444444, 0.4, 0.4, 0.4, 0.4, ...\nIncluded                  genes           [0.5, 0.3333333333333333, 0.3333333333333333, ...\n                          proteins        [0.5, 0.3333333333333333, 0.3333333333333333, ...\n                          proteoforms     [0.5, 0.4, 0.3333333333333333, 0.3333333333333...\nReaction-Unique Included  genes           [0.5, 0.42857142857142855, 0.4, 0.333333333333...\n                          proteins        [0.5, 0.42857142857142855, 0.4, 0.333333333333...\n                          proteoforms     [0.5, 0.42857142857142855, 0.4, 0.4, 0.375, 0....\ndtype: object"
     },
     "execution_count": 18,
     "metadata": {},
     "output_type": "execute_result"
    }
   ],
   "source": [
    "from lib.networks import get_json_filename, create_pathway_interaction_network, read_graph, \\\n",
    "    update_json_file, set_articulation_points, set_num_articulation_points, set_bridges, set_num_bridges\n",
    "from config import LEVELS, METHODS\n",
    "from pathlib import Path\n",
    "\n",
    "out_path = \"resources/pathway_networks/\"\n",
    "art_points_sequences = []\n",
    "bridge_sequences = []\n",
    "for method in METHODS:\n",
    "    for level in LEVELS:\n",
    "        art_point_sequence = []\n",
    "        bridge_sequence = []\n",
    "        for pathway in df_pathways[\"stId\"]:\n",
    "            #print(f\"Bridges for {pathway}\")\n",
    "            filename = get_json_filename(level, method, out_path, pathway)\n",
    "            if not Path(filename).exists():\n",
    "                create_pathway_interaction_network(pathway, level, method, out_path)\n",
    "            G = read_graph(filename)\n",
    "\n",
    "            set_articulation_points(G)\n",
    "            set_num_articulation_points(G)\n",
    "            art_points_ratio = G.graph['Articulation Points']/G.number_of_nodes() if G.number_of_nodes() > 0 else 0\n",
    "            art_point_sequence.append(art_points_ratio)\n",
    "\n",
    "            set_bridges(G)\n",
    "            set_num_bridges(G)\n",
    "\n",
    "            bridge_ratio = G.graph['Bridges']/G.number_of_edges() if G.number_of_edges() > 0 else 0\n",
    "            bridge_sequence.append(bridge_ratio)\n",
    "\n",
    "            update_json_file(G, level, method, out_path, pathway)\n",
    "        art_points_sequences.append(sorted(art_point_sequence))\n",
    "        bridge_sequences.append(sorted(bridge_sequence))\n",
    "\n",
    "art_points_sequences = pd.Series([sorted(sequence, reverse=True) for sequence in art_points_sequences], index=index)\n",
    "art_points_sequences"
   ],
   "metadata": {
    "collapsed": false,
    "pycharm": {
     "name": "#%%\n"
    }
   }
  },
  {
   "cell_type": "code",
   "execution_count": 19,
   "outputs": [
    {
     "data": {
      "text/plain": "Small Molecules           Entity Level\nNot Included              genes           [1.0, 1.0, 1.0, 1.0, 1.0, 1.0, 1.0, 1.0, 1.0, ...\n                          proteins        [1.0, 1.0, 1.0, 1.0, 1.0, 1.0, 1.0, 1.0, 1.0, ...\n                          proteoforms     [1.0, 1.0, 1.0, 1.0, 1.0, 1.0, 1.0, 1.0, 1.0, ...\nIncluded                  genes           [1.0, 1.0, 1.0, 1.0, 1.0, 1.0, 1.0, 1.0, 1.0, ...\n                          proteins        [1.0, 1.0, 1.0, 1.0, 1.0, 1.0, 1.0, 1.0, 1.0, ...\n                          proteoforms     [1.0, 1.0, 1.0, 1.0, 1.0, 1.0, 1.0, 1.0, 1.0, ...\nReaction-Unique Included  genes           [1.0, 1.0, 1.0, 1.0, 1.0, 1.0, 1.0, 1.0, 1.0, ...\n                          proteins        [1.0, 1.0, 1.0, 1.0, 1.0, 1.0, 1.0, 1.0, 1.0, ...\n                          proteoforms     [1.0, 1.0, 1.0, 1.0, 1.0, 1.0, 1.0, 1.0, 1.0, ...\ndtype: object"
     },
     "execution_count": 19,
     "metadata": {},
     "output_type": "execute_result"
    }
   ],
   "source": [
    "bridge_sequences = pd.Series([sorted(sequence, reverse=True) for sequence in bridge_sequences], index=index)\n",
    "bridge_sequences"
   ],
   "metadata": {
    "collapsed": false,
    "pycharm": {
     "name": "#%%\n"
    }
   }
  },
  {
   "cell_type": "code",
   "execution_count": 20,
   "outputs": [
    {
     "data": {
      "text/plain": "                                       Min  Max  Avg\nSmall Molecules          Entity Level               \nNot Included             genes        0.00 0.33 0.02\n                         proteins     0.00 0.33 0.02\n                         proteoforms  0.00 0.50 0.03\nIncluded                 genes        0.00 0.50 0.03\n                         proteins     0.00 0.50 0.03\n                         proteoforms  0.00 0.50 0.03\nReaction-Unique Included genes        0.00 0.50 0.04\n                         proteins     0.00 0.50 0.04\n                         proteoforms  0.00 0.50 0.03",
      "text/html": "<div>\n<style scoped>\n    .dataframe tbody tr th:only-of-type {\n        vertical-align: middle;\n    }\n\n    .dataframe tbody tr th {\n        vertical-align: top;\n    }\n\n    .dataframe thead th {\n        text-align: right;\n    }\n</style>\n<table border=\"1\" class=\"dataframe\">\n  <thead>\n    <tr style=\"text-align: right;\">\n      <th></th>\n      <th></th>\n      <th>Min</th>\n      <th>Max</th>\n      <th>Avg</th>\n    </tr>\n    <tr>\n      <th>Small Molecules</th>\n      <th>Entity Level</th>\n      <th></th>\n      <th></th>\n      <th></th>\n    </tr>\n  </thead>\n  <tbody>\n    <tr>\n      <th rowspan=\"3\" valign=\"top\">Not Included</th>\n      <th>genes</th>\n      <td>0.00</td>\n      <td>0.33</td>\n      <td>0.02</td>\n    </tr>\n    <tr>\n      <th>proteins</th>\n      <td>0.00</td>\n      <td>0.33</td>\n      <td>0.02</td>\n    </tr>\n    <tr>\n      <th>proteoforms</th>\n      <td>0.00</td>\n      <td>0.50</td>\n      <td>0.03</td>\n    </tr>\n    <tr>\n      <th rowspan=\"3\" valign=\"top\">Included</th>\n      <th>genes</th>\n      <td>0.00</td>\n      <td>0.50</td>\n      <td>0.03</td>\n    </tr>\n    <tr>\n      <th>proteins</th>\n      <td>0.00</td>\n      <td>0.50</td>\n      <td>0.03</td>\n    </tr>\n    <tr>\n      <th>proteoforms</th>\n      <td>0.00</td>\n      <td>0.50</td>\n      <td>0.03</td>\n    </tr>\n    <tr>\n      <th rowspan=\"3\" valign=\"top\">Reaction-Unique Included</th>\n      <th>genes</th>\n      <td>0.00</td>\n      <td>0.50</td>\n      <td>0.04</td>\n    </tr>\n    <tr>\n      <th>proteins</th>\n      <td>0.00</td>\n      <td>0.50</td>\n      <td>0.04</td>\n    </tr>\n    <tr>\n      <th>proteoforms</th>\n      <td>0.00</td>\n      <td>0.50</td>\n      <td>0.03</td>\n    </tr>\n  </tbody>\n</table>\n</div>"
     },
     "execution_count": 20,
     "metadata": {},
     "output_type": "execute_result"
    }
   ],
   "source": [
    "mins = pd.Series([min(art_points_sequence) for art_points_sequence in art_points_sequences], index=index)\n",
    "maxs = pd.Series([max(art_points_sequence) for art_points_sequence in art_points_sequences], index=index)\n",
    "avgs = pd.Series([sum(art_points_sequence)/len(art_points_sequence) for art_points_sequence in art_points_sequences], index=index)\n",
    "\n",
    "df_art_points = pd.DataFrame({\"Min\": mins, \"Max\": maxs, \"Avg\": avgs}, index=index)\n",
    "df_art_points.index.name = \"Articulation Points\"\n",
    "df_art_points"
   ],
   "metadata": {
    "collapsed": false,
    "pycharm": {
     "name": "#%% Create dataframe with Articulation points stats for all pathways\n"
    }
   }
  },
  {
   "cell_type": "code",
   "execution_count": 21,
   "outputs": [
    {
     "data": {
      "text/plain": "                                       Min  Max  Avg\nSmall Molecules          Entity Level               \nNot Included             genes        0.00 1.00 0.10\n                         proteins     0.00 1.00 0.10\n                         proteoforms  0.00 1.00 0.10\nIncluded                 genes        0.00 1.00 0.07\n                         proteins     0.00 1.00 0.07\n                         proteoforms  0.00 1.00 0.07\nReaction-Unique Included genes        0.00 1.00 0.08\n                         proteins     0.00 1.00 0.08\n                         proteoforms  0.00 1.00 0.08",
      "text/html": "<div>\n<style scoped>\n    .dataframe tbody tr th:only-of-type {\n        vertical-align: middle;\n    }\n\n    .dataframe tbody tr th {\n        vertical-align: top;\n    }\n\n    .dataframe thead th {\n        text-align: right;\n    }\n</style>\n<table border=\"1\" class=\"dataframe\">\n  <thead>\n    <tr style=\"text-align: right;\">\n      <th></th>\n      <th></th>\n      <th>Min</th>\n      <th>Max</th>\n      <th>Avg</th>\n    </tr>\n    <tr>\n      <th>Small Molecules</th>\n      <th>Entity Level</th>\n      <th></th>\n      <th></th>\n      <th></th>\n    </tr>\n  </thead>\n  <tbody>\n    <tr>\n      <th rowspan=\"3\" valign=\"top\">Not Included</th>\n      <th>genes</th>\n      <td>0.00</td>\n      <td>1.00</td>\n      <td>0.10</td>\n    </tr>\n    <tr>\n      <th>proteins</th>\n      <td>0.00</td>\n      <td>1.00</td>\n      <td>0.10</td>\n    </tr>\n    <tr>\n      <th>proteoforms</th>\n      <td>0.00</td>\n      <td>1.00</td>\n      <td>0.10</td>\n    </tr>\n    <tr>\n      <th rowspan=\"3\" valign=\"top\">Included</th>\n      <th>genes</th>\n      <td>0.00</td>\n      <td>1.00</td>\n      <td>0.07</td>\n    </tr>\n    <tr>\n      <th>proteins</th>\n      <td>0.00</td>\n      <td>1.00</td>\n      <td>0.07</td>\n    </tr>\n    <tr>\n      <th>proteoforms</th>\n      <td>0.00</td>\n      <td>1.00</td>\n      <td>0.07</td>\n    </tr>\n    <tr>\n      <th rowspan=\"3\" valign=\"top\">Reaction-Unique Included</th>\n      <th>genes</th>\n      <td>0.00</td>\n      <td>1.00</td>\n      <td>0.08</td>\n    </tr>\n    <tr>\n      <th>proteins</th>\n      <td>0.00</td>\n      <td>1.00</td>\n      <td>0.08</td>\n    </tr>\n    <tr>\n      <th>proteoforms</th>\n      <td>0.00</td>\n      <td>1.00</td>\n      <td>0.08</td>\n    </tr>\n  </tbody>\n</table>\n</div>"
     },
     "execution_count": 21,
     "metadata": {},
     "output_type": "execute_result"
    }
   ],
   "source": [
    "mins = pd.Series([min(bridge_sequence) for bridge_sequence in bridge_sequences], index=index)\n",
    "maxs = pd.Series([max(bridge_sequence) for bridge_sequence in bridge_sequences], index=index)\n",
    "avgs = pd.Series([sum(bridge_sequence)/len(bridge_sequence) for bridge_sequence in bridge_sequences], index=index)\n",
    "\n",
    "df_bridges = pd.DataFrame({\"Min\": mins, \"Max\": maxs, \"Avg\": avgs}, index=index)\n",
    "df_bridges.index.name = \"Bridges\"\n",
    "df_bridges"
   ],
   "metadata": {
    "collapsed": false,
    "pycharm": {
     "name": "#%% Create dataframe with Bridge stats for all pathways\n"
    }
   }
  },
  {
   "cell_type": "code",
   "execution_count": 22,
   "outputs": [
    {
     "data": {
      "text/plain": "                Small Molecules Entity Level  Articulation Points\n0                  Not Included        genes                 0.33\n1                  Not Included        genes                 0.33\n2                  Not Included        genes                 0.33\n3                  Not Included        genes                 0.33\n4                  Not Included        genes                 0.33\n...                         ...          ...                  ...\n18580  Reaction-Unique Included  proteoforms                 0.00\n18581  Reaction-Unique Included  proteoforms                 0.00\n18582  Reaction-Unique Included  proteoforms                 0.00\n18583  Reaction-Unique Included  proteoforms                 0.00\n18584  Reaction-Unique Included  proteoforms                 0.00\n\n[18585 rows x 3 columns]",
      "text/html": "<div>\n<style scoped>\n    .dataframe tbody tr th:only-of-type {\n        vertical-align: middle;\n    }\n\n    .dataframe tbody tr th {\n        vertical-align: top;\n    }\n\n    .dataframe thead th {\n        text-align: right;\n    }\n</style>\n<table border=\"1\" class=\"dataframe\">\n  <thead>\n    <tr style=\"text-align: right;\">\n      <th></th>\n      <th>Small Molecules</th>\n      <th>Entity Level</th>\n      <th>Articulation Points</th>\n    </tr>\n  </thead>\n  <tbody>\n    <tr>\n      <th>0</th>\n      <td>Not Included</td>\n      <td>genes</td>\n      <td>0.33</td>\n    </tr>\n    <tr>\n      <th>1</th>\n      <td>Not Included</td>\n      <td>genes</td>\n      <td>0.33</td>\n    </tr>\n    <tr>\n      <th>2</th>\n      <td>Not Included</td>\n      <td>genes</td>\n      <td>0.33</td>\n    </tr>\n    <tr>\n      <th>3</th>\n      <td>Not Included</td>\n      <td>genes</td>\n      <td>0.33</td>\n    </tr>\n    <tr>\n      <th>4</th>\n      <td>Not Included</td>\n      <td>genes</td>\n      <td>0.33</td>\n    </tr>\n    <tr>\n      <th>...</th>\n      <td>...</td>\n      <td>...</td>\n      <td>...</td>\n    </tr>\n    <tr>\n      <th>18580</th>\n      <td>Reaction-Unique Included</td>\n      <td>proteoforms</td>\n      <td>0.00</td>\n    </tr>\n    <tr>\n      <th>18581</th>\n      <td>Reaction-Unique Included</td>\n      <td>proteoforms</td>\n      <td>0.00</td>\n    </tr>\n    <tr>\n      <th>18582</th>\n      <td>Reaction-Unique Included</td>\n      <td>proteoforms</td>\n      <td>0.00</td>\n    </tr>\n    <tr>\n      <th>18583</th>\n      <td>Reaction-Unique Included</td>\n      <td>proteoforms</td>\n      <td>0.00</td>\n    </tr>\n    <tr>\n      <th>18584</th>\n      <td>Reaction-Unique Included</td>\n      <td>proteoforms</td>\n      <td>0.00</td>\n    </tr>\n  </tbody>\n</table>\n<p>18585 rows × 3 columns</p>\n</div>"
     },
     "execution_count": 22,
     "metadata": {},
     "output_type": "execute_result"
    }
   ],
   "source": [
    "df_art_points= pd.DataFrame({\"Sequence\": art_points_sequences})\n",
    "df_art_points.reset_index(inplace=True)\n",
    "lst_col = 'Sequence'\n",
    "\n",
    "df_art_points = pd.DataFrame({\n",
    "      col:np.repeat(df_art_points[col].values, df_art_points[lst_col].str.len())\n",
    "      for col in df_art_points.columns.drop(lst_col)}\n",
    "    ).assign(**{lst_col:np.concatenate(df_art_points[lst_col].values)})[df_art_points.columns]\n",
    "\n",
    "df_art_points = df_art_points.rename(columns={'Sequence': 'Articulation Points'})\n",
    "#df_art_points['Articulation Points'] = df_art_points['Articulation Points'].apply(lambda x: 0 if x == 0 else np.log10(x))\n",
    "\n",
    "df_art_points"
   ],
   "metadata": {
    "collapsed": false,
    "pycharm": {
     "name": "#%% Prepare data for the violin plot of the articulation points sequences\n"
    }
   }
  },
  {
   "cell_type": "code",
   "execution_count": 23,
   "outputs": [],
   "source": [
    "#tips = sns.load_dataset(\"tips\")\n",
    "#tips"
   ],
   "metadata": {
    "collapsed": false,
    "pycharm": {
     "name": "#%%\n"
    }
   }
  },
  {
   "cell_type": "code",
   "execution_count": 24,
   "outputs": [],
   "source": [
    "#ax = sns.boxplot(x=\"day\", y=\"total_bill\", hue=\"smoker\", data=tips, palette=\"Set3\")"
   ],
   "metadata": {
    "collapsed": false,
    "pycharm": {
     "name": "#%%\n"
    }
   }
  },
  {
   "cell_type": "code",
   "execution_count": 25,
   "outputs": [
    {
     "ename": "AttributeError",
     "evalue": "module 'matplotlib' has no attribute 'subplots'",
     "output_type": "error",
     "traceback": [
      "\u001B[1;31m---------------------------------------------------------------------------\u001B[0m",
      "\u001B[1;31mAttributeError\u001B[0m                            Traceback (most recent call last)",
      "\u001B[1;32m<ipython-input-25-da75f222ce29>\u001B[0m in \u001B[0;36m<module>\u001B[1;34m\u001B[0m\n\u001B[0;32m      1\u001B[0m \u001B[1;32mfrom\u001B[0m \u001B[0mmatplotlib\u001B[0m \u001B[1;32mimport\u001B[0m \u001B[0mticker\u001B[0m \u001B[1;32mas\u001B[0m \u001B[0mmticker\u001B[0m\u001B[1;33m\u001B[0m\u001B[1;33m\u001B[0m\u001B[0m\n\u001B[0;32m      2\u001B[0m \u001B[1;33m\u001B[0m\u001B[0m\n\u001B[1;32m----> 3\u001B[1;33m \u001B[0mfig\u001B[0m\u001B[1;33m,\u001B[0m \u001B[0max\u001B[0m \u001B[1;33m=\u001B[0m \u001B[0mplt\u001B[0m\u001B[1;33m.\u001B[0m\u001B[0msubplots\u001B[0m\u001B[1;33m(\u001B[0m\u001B[1;36m1\u001B[0m\u001B[1;33m,\u001B[0m \u001B[1;36m1\u001B[0m\u001B[1;33m,\u001B[0m \u001B[0mfigsize\u001B[0m\u001B[1;33m=\u001B[0m\u001B[1;33m(\u001B[0m\u001B[1;36m5\u001B[0m\u001B[1;33m,\u001B[0m \u001B[1;36m6\u001B[0m\u001B[1;33m)\u001B[0m\u001B[1;33m)\u001B[0m\u001B[1;33m\u001B[0m\u001B[1;33m\u001B[0m\u001B[0m\n\u001B[0m\u001B[0;32m      4\u001B[0m \u001B[0mfig\u001B[0m\u001B[1;33m.\u001B[0m\u001B[0mset_size_inches\u001B[0m\u001B[1;33m(\u001B[0m\u001B[1;36m10\u001B[0m\u001B[1;33m,\u001B[0m \u001B[1;36m6\u001B[0m\u001B[1;33m)\u001B[0m\u001B[1;33m\u001B[0m\u001B[1;33m\u001B[0m\u001B[0m\n\u001B[0;32m      5\u001B[0m \u001B[0mfig7\u001B[0m \u001B[1;33m=\u001B[0m \u001B[0msns\u001B[0m\u001B[1;33m.\u001B[0m\u001B[0mviolinplot\u001B[0m\u001B[1;33m(\u001B[0m\u001B[0mx\u001B[0m\u001B[1;33m=\u001B[0m\u001B[1;34m\"Small Molecules\"\u001B[0m\u001B[1;33m,\u001B[0m \u001B[0my\u001B[0m\u001B[1;33m=\u001B[0m\u001B[1;34m\"Articulation Points\"\u001B[0m\u001B[1;33m,\u001B[0m \u001B[0mhue\u001B[0m\u001B[1;33m=\u001B[0m\u001B[1;34m\"Entity Level\"\u001B[0m\u001B[1;33m,\u001B[0m \u001B[0mdata\u001B[0m\u001B[1;33m=\u001B[0m\u001B[0mdf_art_points\u001B[0m\u001B[1;33m,\u001B[0m \u001B[0mpalette\u001B[0m\u001B[1;33m=\u001B[0m\u001B[0mconfig\u001B[0m\u001B[1;33m.\u001B[0m\u001B[0mCOLORS_BORDER\u001B[0m\u001B[1;33m)\u001B[0m\u001B[1;33m\u001B[0m\u001B[1;33m\u001B[0m\u001B[0m\n",
      "\u001B[1;31mAttributeError\u001B[0m: module 'matplotlib' has no attribute 'subplots'"
     ]
    }
   ],
   "source": [
    "from matplotlib import ticker as mticker\n",
    "\n",
    "fig, ax = plt.subplots(1, 1, figsize=(5, 6))\n",
    "fig.set_size_inches(10, 6)\n",
    "fig7 = sns.violinplot(x=\"Small Molecules\", y=\"Articulation Points\", hue=\"Entity Level\", data=df_art_points, palette=config.COLORS_BORDER)\n",
    "#ax.yaxis.set_major_formatter(mticker.StrMethodFormatter(\"$10^{{{x:.0f}}}$\")) # Convert ticks to powers of 10\n",
    "plt.legend(bbox_to_anchor=(1.0, 1),borderaxespad=0.5) # Put the legend out of the figure\n",
    "plt.show()\n",
    "fig7.figure.savefig('figures/figure_7.png')"
   ],
   "metadata": {
    "collapsed": false,
    "pycharm": {
     "name": "#%%\n"
    }
   }
  },
  {
   "cell_type": "code",
   "execution_count": null,
   "outputs": [],
   "source": [
    "df_bridges= pd.DataFrame({\"Sequence\": bridge_sequences})\n",
    "df_bridges.reset_index(inplace=True)\n",
    "lst_col = 'Sequence'\n",
    "\n",
    "df_bridges = pd.DataFrame({\n",
    "      col:np.repeat(df_bridges[col].values, df_bridges[lst_col].str.len())\n",
    "      for col in df_bridges.columns.drop(lst_col)}\n",
    "    ).assign(**{lst_col:np.concatenate(df_bridges[lst_col].values)})[df_bridges.columns]\n",
    "\n",
    "df_bridges = df_bridges.rename(columns={'Sequence': 'Bridges'})\n",
    "#df_bridges['Bridges'] = df_bridges['Bridges'].apply(lambda x: 0 if x == 0 else np.log10(x))\n",
    "\n",
    "df_bridges"
   ],
   "metadata": {
    "collapsed": false,
    "pycharm": {
     "name": "#%% Prepare data for the violin plot of the articulation bridges\n"
    }
   }
  },
  {
   "cell_type": "code",
   "execution_count": null,
   "outputs": [],
   "source": [
    "from matplotlib import ticker as mticker\n",
    "\n",
    "fig, ax = plt.subplots(1, 1, figsize=(5, 6))\n",
    "fig.set_size_inches(10, 6)\n",
    "fig8 = sns.violinplot(x=\"Small Molecules\", y=\"Bridges\", hue=\"Entity Level\", data=df_bridges, palette=config.COLORS_BORDER)\n",
    "#ax.yaxis.set_major_formatter(mticker.StrMethodFormatter(\"$10^{{{x:.0f}}}$\")) # Convert ticks to powers of 10\n",
    "plt.legend(bbox_to_anchor=(1.0, 1),borderaxespad=0.5) # Put the legend out of the figure\n",
    "plt.show()\n",
    "fig8.figure.savefig('figures/figure_8.png')"
   ],
   "metadata": {
    "collapsed": false,
    "pycharm": {
     "name": "#%%\n"
    }
   }
  }
 ],
 "metadata": {
  "kernelspec": {
   "display_name": "Python 3",
   "language": "python",
   "name": "python3"
  },
  "language_info": {
   "codemirror_mode": {
    "name": "ipython",
    "version": 2
   },
   "file_extension": ".py",
   "mimetype": "text/x-python",
   "name": "python",
   "nbconvert_exporter": "python",
   "pygments_lexer": "ipython2",
   "version": "2.7.6"
  }
 },
 "nbformat": 4,
 "nbformat_minor": 0
}