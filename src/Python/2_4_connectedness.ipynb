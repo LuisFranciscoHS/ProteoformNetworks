{
 "cells": [
  {
   "cell_type": "markdown",
   "metadata": {
    "collapsed": false
   },
   "source": [
    "# Connected components"
   ]
  },
  {
   "cell_type": "markdown",
   "metadata": {},
   "source": [
    "## Load dependencies"
   ]
  },
  {
   "cell_type": "code",
   "execution_count": 46,
   "metadata": {
    "collapsed": false,
    "pycharm": {
     "name": "#%%\n"
    }
   },
   "outputs": [
    {
     "name": "stdout",
     "output_type": "stream",
     "text": [
      "The autoreload extension is already loaded. To reload it, use:\n",
      "  %reload_ext autoreload\n",
      "Initial working directory: C:\\git\\ProteoformNetworks\\src\\Python\n",
      "New working directory: c:\\git\\ProteoformNetworks\n"
     ]
    }
   ],
   "source": [
    "import bisect\n",
    "\n",
    "import networkx as nx\n",
    "import pandas as pd\n",
    "import seaborn as sns\n",
    "import numpy as np\n",
    "import re\n",
    "import dataframe_image as dfi\n",
    "import itertools\n",
    "from pathlib import Path\n",
    "\n",
    "import config\n",
    "from config import LEVELS, INTERACTOMES_PATH, DATA_REACTOME_PATH, genes, proteoforms, METHODS, PATHWAY_GRAPHS_PATH, SMALL_MOLECULES\n",
    "from lib.dictionaries import read_dictionary_one_to_set\n",
    "from lib.networks import get_pathway_filenames\n",
    "from lib.networks import get_interactomes, get_multiindex, create_pathway_interaction_networks\n",
    "from lib.networks import get_json_filename, create_pathway_interaction_network, read_graph, replace_methods\n",
    "from lib.graph_database_access import get_pathways\n",
    "from visualization.visualize_single_network import plot_pathway_all_levels, Coloring\n",
    "\n",
    "%load_ext autoreload\n",
    "%autoreload 2\n",
    "%reload_ext autoreload\n",
    "\n",
    "config.set_root_wd()\n"
   ]
  },
  {
   "cell_type": "markdown",
   "metadata": {},
   "source": [
    "## Load Interactomes"
   ]
  },
  {
   "cell_type": "code",
   "execution_count": 3,
   "metadata": {
    "collapsed": false,
    "pycharm": {
     "name": "#%% Get all interactomes\n"
    }
   },
   "outputs": [
    {
     "name": "stdout",
     "output_type": "stream",
     "text": [
      "Reading participants of all reactions for level genes...\n",
      "Reading participants of all reactions for level proteins...\n",
      "Reading participants of all reactions for level proteoforms...\n",
      "Reading participants of all reactions for level sm...\n",
      "Reading components of all complexes for level genes...\n",
      "Reading components of all complexes for level proteins...\n",
      "Reading components of all complexes for level proteoforms...\n",
      "Reading components of all complexes for level sm...\n",
      "Reading interaction network for  at genes level, method no_sm...\n",
      "Reading interaction network for  at proteins level, method no_sm...\n",
      "Reading interaction network for  at proteoforms level, method no_sm...\n",
      "Reading interaction network for  at genes level, method with_sm...\n",
      "Reading interaction network for  at proteins level, method with_sm...\n",
      "Reading interaction network for  at proteoforms level, method with_sm...\n",
      "Reading interaction network for  at genes level, method with_unique_sm...\n",
      "Reading interaction network for  at proteins level, method with_unique_sm...\n",
      "Reading interaction network for  at proteoforms level, method with_unique_sm...\n"
     ]
    }
   ],
   "source": [
    "index = get_multiindex()\n",
    "interactomes_no_sm, interactomes_with_sm, interactomes_with_unique_sm = get_interactomes(DATA_REACTOME_PATH, INTERACTOMES_PATH)\n",
    "interactomes = [interactomes_no_sm[genes], interactomes_no_sm[proteoforms], interactomes_with_sm[genes], interactomes_with_sm[proteoforms], interactomes_with_unique_sm[genes], interactomes_with_unique_sm[proteoforms]]"
   ]
  },
  {
   "cell_type": "markdown",
   "metadata": {},
   "source": [
    "# Metrics by Interactome"
   ]
  },
  {
   "cell_type": "code",
   "execution_count": 6,
   "metadata": {
    "collapsed": false,
    "pycharm": {
     "name": "#%% Relative size of the connected components\n"
    }
   },
   "outputs": [
    {
     "data": {
      "text/html": [
       "<div>\n",
       "<style scoped>\n",
       "    .dataframe tbody tr th:only-of-type {\n",
       "        vertical-align: middle;\n",
       "    }\n",
       "\n",
       "    .dataframe tbody tr th {\n",
       "        vertical-align: top;\n",
       "    }\n",
       "\n",
       "    .dataframe thead th {\n",
       "        text-align: right;\n",
       "    }\n",
       "</style>\n",
       "<table border=\"1\" class=\"dataframe\">\n",
       "  <thead>\n",
       "    <tr style=\"text-align: right;\">\n",
       "      <th></th>\n",
       "      <th></th>\n",
       "      <th>Num. CCs</th>\n",
       "      <th>Size of LCC</th>\n",
       "      <th>Relative size of LCC</th>\n",
       "      <th>Average size of CCs</th>\n",
       "      <th>Size of SCC</th>\n",
       "      <th>Num. isolated nodes</th>\n",
       "    </tr>\n",
       "    <tr>\n",
       "      <th>Small Molecules</th>\n",
       "      <th>Entity Level</th>\n",
       "      <th></th>\n",
       "      <th></th>\n",
       "      <th></th>\n",
       "      <th></th>\n",
       "      <th></th>\n",
       "      <th></th>\n",
       "    </tr>\n",
       "  </thead>\n",
       "  <tbody>\n",
       "    <tr>\n",
       "      <th rowspan=\"2\" valign=\"top\">Not Included</th>\n",
       "      <th>genes</th>\n",
       "      <td>1774</td>\n",
       "      <td>8967</td>\n",
       "      <td>0.82</td>\n",
       "      <td>6.19</td>\n",
       "      <td>1</td>\n",
       "      <td>1665</td>\n",
       "    </tr>\n",
       "    <tr>\n",
       "      <th>proteoforms</th>\n",
       "      <td>1819</td>\n",
       "      <td>12091</td>\n",
       "      <td>0.85</td>\n",
       "      <td>7.83</td>\n",
       "      <td>1</td>\n",
       "      <td>1696</td>\n",
       "    </tr>\n",
       "    <tr>\n",
       "      <th rowspan=\"2\" valign=\"top\">Included</th>\n",
       "      <th>genes</th>\n",
       "      <td>194</td>\n",
       "      <td>12792</td>\n",
       "      <td>0.98</td>\n",
       "      <td>67.18</td>\n",
       "      <td>1</td>\n",
       "      <td>164</td>\n",
       "    </tr>\n",
       "    <tr>\n",
       "      <th>proteoforms</th>\n",
       "      <td>202</td>\n",
       "      <td>16053</td>\n",
       "      <td>0.98</td>\n",
       "      <td>80.71</td>\n",
       "      <td>1</td>\n",
       "      <td>171</td>\n",
       "    </tr>\n",
       "    <tr>\n",
       "      <th rowspan=\"2\" valign=\"top\">Reaction-Unique Included</th>\n",
       "      <th>genes</th>\n",
       "      <td>2445</td>\n",
       "      <td>30153</td>\n",
       "      <td>0.74</td>\n",
       "      <td>16.60</td>\n",
       "      <td>1</td>\n",
       "      <td>1160</td>\n",
       "    </tr>\n",
       "    <tr>\n",
       "      <th>proteoforms</th>\n",
       "      <td>2480</td>\n",
       "      <td>33107</td>\n",
       "      <td>0.76</td>\n",
       "      <td>17.68</td>\n",
       "      <td>1</td>\n",
       "      <td>1167</td>\n",
       "    </tr>\n",
       "  </tbody>\n",
       "</table>\n",
       "</div>"
      ],
      "text/plain": [
       "                                       Num. CCs  Size of LCC  \\\n",
       "Small Molecules          Entity Level                          \n",
       "Not Included             genes             1774         8967   \n",
       "                         proteoforms       1819        12091   \n",
       "Included                 genes              194        12792   \n",
       "                         proteoforms        202        16053   \n",
       "Reaction-Unique Included genes             2445        30153   \n",
       "                         proteoforms       2480        33107   \n",
       "\n",
       "                                       Relative size of LCC  \\\n",
       "Small Molecules          Entity Level                         \n",
       "Not Included             genes                         0.82   \n",
       "                         proteoforms                   0.85   \n",
       "Included                 genes                         0.98   \n",
       "                         proteoforms                   0.98   \n",
       "Reaction-Unique Included genes                         0.74   \n",
       "                         proteoforms                   0.76   \n",
       "\n",
       "                                       Average size of CCs  Size of SCC  \\\n",
       "Small Molecules          Entity Level                                     \n",
       "Not Included             genes                        6.19            1   \n",
       "                         proteoforms                  7.83            1   \n",
       "Included                 genes                       67.18            1   \n",
       "                         proteoforms                 80.71            1   \n",
       "Reaction-Unique Included genes                       16.60            1   \n",
       "                         proteoforms                 17.68            1   \n",
       "\n",
       "                                       Num. isolated nodes  \n",
       "Small Molecules          Entity Level                       \n",
       "Not Included             genes                        1665  \n",
       "                         proteoforms                  1696  \n",
       "Included                 genes                         164  \n",
       "                         proteoforms                   171  \n",
       "Reaction-Unique Included genes                        1160  \n",
       "                         proteoforms                  1167  "
      ]
     },
     "execution_count": 6,
     "metadata": {},
     "output_type": "execute_result"
    }
   ],
   "source": [
    "def getTuples(i):\n",
    "    sizes = [len(c) / i.number_of_nodes() for c in sorted(nx.connected_components(i), key=len, reverse=True)]\n",
    "    d = [(i.graph[\"method\"], i.graph[\"level\"], s) for s in sizes]\n",
    "    return d\n",
    "\n",
    "\n",
    "tuples = [getTuples(i) for i in interactomes]\n",
    "data = list(itertools.chain.from_iterable(tuples))\n",
    "df_cc = pd.DataFrame(data, columns=['Small Molecules', 'Entity Level', 'Size'])\n",
    "# Number of connected components\n",
    "# Size of the largest connected component\n",
    "# Relative size of the largest connected component\n",
    "# Average size of the connected components\n",
    "# Size of the smallest component\n",
    "# Number of isolated nodes\n",
    "\n",
    "def getTuples(i):\n",
    "    ccs_sizes = [len(c) for c in sorted(nx.connected_components(i), key=len, reverse=False)]\n",
    "    num_ccs = len(ccs_sizes)\n",
    "\n",
    "    return (\n",
    "        i.graph[\"method\"],\n",
    "        i.graph[\"level\"],\n",
    "        num_ccs,\n",
    "        ccs_sizes[-1],\n",
    "        ccs_sizes[-1] / i.number_of_nodes(),\n",
    "        sum(ccs_sizes) / len(ccs_sizes),\n",
    "        ccs_sizes[0],\n",
    "        0 if ccs_sizes[0] > 1 else bisect.bisect_left(ccs_sizes, 2, lo=0, hi=len(ccs_sizes))\n",
    "    )\n",
    "\n",
    "\n",
    "data = [getTuples(i) for i in interactomes]\n",
    "columns = [\n",
    "    'Method',\n",
    "    'Level',\n",
    "    'Num. CCs',\n",
    "    'Size of LCC',\n",
    "    'Relative size of LCC',\n",
    "    'Average size of CCs',\n",
    "    \"Size of SCC\",\n",
    "    \"Num. isolated nodes\"\n",
    "]\n",
    "df_ccs_interactomes = pd.DataFrame.from_records(data, columns=columns, index=get_multiindex())\n",
    "dfi.export(df_ccs_interactomes[columns[2:]], 'figures/table_interactomes_ccs.png')\n",
    "df_ccs_interactomes[columns[2:]]"
   ]
  },
  {
   "cell_type": "markdown",
   "metadata": {},
   "source": [
    "# Metrics by Pathway"
   ]
  },
  {
   "cell_type": "markdown",
   "metadata": {},
   "source": [
    "## Select pathways with proteoforms with annotations"
   ]
  },
  {
   "cell_type": "code",
   "execution_count": 11,
   "metadata": {},
   "outputs": [
    {
     "name": "stdout",
     "output_type": "stream",
     "text": [
      "There are 1119 pathways with proteoforms with annotations.\n"
     ]
    },
    {
     "data": {
      "text/html": [
       "<div>\n",
       "<style scoped>\n",
       "    .dataframe tbody tr th:only-of-type {\n",
       "        vertical-align: middle;\n",
       "    }\n",
       "\n",
       "    .dataframe tbody tr th {\n",
       "        vertical-align: top;\n",
       "    }\n",
       "\n",
       "    .dataframe thead th {\n",
       "        text-align: right;\n",
       "    }\n",
       "</style>\n",
       "<table border=\"1\" class=\"dataframe\">\n",
       "  <thead>\n",
       "    <tr style=\"text-align: right;\">\n",
       "      <th></th>\n",
       "      <th>Pathway</th>\n",
       "    </tr>\n",
       "  </thead>\n",
       "  <tbody>\n",
       "    <tr>\n",
       "      <th>115</th>\n",
       "      <td>R-HSA-1059683</td>\n",
       "    </tr>\n",
       "    <tr>\n",
       "      <th>70</th>\n",
       "      <td>R-HSA-109704</td>\n",
       "    </tr>\n",
       "    <tr>\n",
       "      <th>174</th>\n",
       "      <td>R-HSA-110056</td>\n",
       "    </tr>\n",
       "    <tr>\n",
       "      <th>232</th>\n",
       "      <td>R-HSA-110312</td>\n",
       "    </tr>\n",
       "    <tr>\n",
       "      <th>482</th>\n",
       "      <td>R-HSA-110314</td>\n",
       "    </tr>\n",
       "    <tr>\n",
       "      <th>...</th>\n",
       "      <td>...</td>\n",
       "    </tr>\n",
       "    <tr>\n",
       "      <th>81</th>\n",
       "      <td>R-HSA-977347</td>\n",
       "    </tr>\n",
       "    <tr>\n",
       "      <th>424</th>\n",
       "      <td>R-HSA-977606</td>\n",
       "    </tr>\n",
       "    <tr>\n",
       "      <th>440</th>\n",
       "      <td>R-HSA-982772</td>\n",
       "    </tr>\n",
       "    <tr>\n",
       "      <th>106</th>\n",
       "      <td>R-HSA-983231</td>\n",
       "    </tr>\n",
       "    <tr>\n",
       "      <th>1015</th>\n",
       "      <td>R-HSA-983695</td>\n",
       "    </tr>\n",
       "  </tbody>\n",
       "</table>\n",
       "<p>1119 rows × 1 columns</p>\n",
       "</div>"
      ],
      "text/plain": [
       "            Pathway\n",
       "115   R-HSA-1059683\n",
       "70     R-HSA-109704\n",
       "174    R-HSA-110056\n",
       "232    R-HSA-110312\n",
       "482    R-HSA-110314\n",
       "...             ...\n",
       "81     R-HSA-977347\n",
       "424    R-HSA-977606\n",
       "440    R-HSA-982772\n",
       "106    R-HSA-983231\n",
       "1015   R-HSA-983695\n",
       "\n",
       "[1119 rows x 1 columns]"
      ]
     },
     "execution_count": 11,
     "metadata": {},
     "output_type": "execute_result"
    }
   ],
   "source": [
    "proteoforms_no_annotations = [node for node in interactomes_no_sm['proteoforms'].nodes if not any((c in {':', '-'}) for c in str(node))]\n",
    "proteoforms_with_annotations = [node for node in interactomes_no_sm['proteoforms'].nodes if any((c in {':', '-'}) for c in str(node))]\n",
    "\n",
    "pathways_map = nx.get_node_attributes(interactomes_no_sm[proteoforms], \"pathways\")\n",
    "selected_pathways = set()\n",
    "\n",
    "for proteoform in proteoforms_with_annotations:\n",
    "    for pathway in pathways_map[proteoform]:\n",
    "        selected_pathways.add(pathway)\n",
    "print(f\"There are {len(selected_pathways)} pathways with proteoforms with annotations.\")\n",
    "df_selected_pathways = pd.DataFrame(selected_pathways, columns=[\"Pathway\"])\n",
    "df_selected_pathways.sort_values(by=[\"Pathway\"], inplace=True)\n",
    "df_selected_pathways"
   ]
  },
  {
   "cell_type": "markdown",
   "metadata": {},
   "source": [
    "## Calculate metrics by pathway"
   ]
  },
  {
   "cell_type": "code",
   "execution_count": 17,
   "metadata": {
    "collapsed": false,
    "pycharm": {
     "name": "#%% Calculate values for each pathway\n"
    }
   },
   "outputs": [],
   "source": [
    "columns_for_pathways = [\n",
    "    'Pathway',\n",
    "    'Level',\n",
    "    'Small Molecules',\n",
    "    'Relative size LCC',\n",
    "    'Avg. relative size CCs',\n",
    "    'Relative size SCC',\n",
    "    '# CCs',\n",
    "    '# Isolated nodes',\n",
    "    'Relative # Isolated nodes',\n",
    "]\n",
    "\n",
    "\n",
    "def get_pathway_tuples(pathway, pathway_graph):\n",
    "    ccs_sizes = [len(cc) for cc in sorted(nx.connected_components(pathway_graph), key=len, reverse=False)]\n",
    "    rel_ccs_sizes = [size / pathway_graph.number_of_nodes() for size in ccs_sizes]\n",
    "    num_isolated_nodes = 0 if ccs_sizes[0] > 1 else bisect.bisect_left(ccs_sizes, 2, lo=0, hi=len(ccs_sizes))\n",
    "    return (\n",
    "        pathway,\n",
    "        pathway_graph.graph[\"level\"],\n",
    "        pathway_graph.graph[\"method\"],\n",
    "        rel_ccs_sizes[-1],\n",
    "        sum(rel_ccs_sizes) / len(rel_ccs_sizes),\n",
    "        rel_ccs_sizes[0],\n",
    "        len(ccs_sizes),\n",
    "        num_isolated_nodes,\n",
    "        num_isolated_nodes / len(ccs_sizes)\n",
    "    )\n",
    "\n",
    "\n",
    "data_pathways = []\n",
    "for pathway in list(df_selected_pathways[\"Pathway\"]):\n",
    "    for method in METHODS:\n",
    "        for level in [genes, proteoforms]:\n",
    "            filename = get_json_filename(level, method, PATHWAY_GRAPHS_PATH, pathway)\n",
    "            if not Path(filename).exists():\n",
    "                create_pathway_interaction_network(pathway, level, method, PATHWAY_GRAPHS_PATH)\n",
    "            G = read_graph(filename)\n",
    "            if G.number_of_nodes() > 0:\n",
    "                data_pathways.append(get_pathway_tuples(pathway, G))\n"
   ]
  },
  {
   "cell_type": "markdown",
   "metadata": {},
   "source": [
    "## Create table with metrics by pathway"
   ]
  },
  {
   "cell_type": "code",
   "execution_count": 19,
   "metadata": {},
   "outputs": [
    {
     "data": {
      "text/html": [
       "<div>\n",
       "<style scoped>\n",
       "    .dataframe tbody tr th:only-of-type {\n",
       "        vertical-align: middle;\n",
       "    }\n",
       "\n",
       "    .dataframe tbody tr th {\n",
       "        vertical-align: top;\n",
       "    }\n",
       "\n",
       "    .dataframe thead th {\n",
       "        text-align: right;\n",
       "    }\n",
       "</style>\n",
       "<table border=\"1\" class=\"dataframe\">\n",
       "  <thead>\n",
       "    <tr style=\"text-align: right;\">\n",
       "      <th></th>\n",
       "      <th>Pathway</th>\n",
       "      <th>Level</th>\n",
       "      <th>Small Molecules</th>\n",
       "      <th>Relative size LCC</th>\n",
       "      <th>Avg. relative size CCs</th>\n",
       "      <th>Relative size SCC</th>\n",
       "      <th># CCs</th>\n",
       "      <th># Isolated nodes</th>\n",
       "      <th>Relative # Isolated nodes</th>\n",
       "    </tr>\n",
       "  </thead>\n",
       "  <tbody>\n",
       "    <tr>\n",
       "      <th>0</th>\n",
       "      <td>R-HSA-1059683</td>\n",
       "      <td>genes</td>\n",
       "      <td>Not Included</td>\n",
       "      <td>1.00</td>\n",
       "      <td>1.00</td>\n",
       "      <td>1.00</td>\n",
       "      <td>1</td>\n",
       "      <td>0</td>\n",
       "      <td>0.00</td>\n",
       "    </tr>\n",
       "    <tr>\n",
       "      <th>1</th>\n",
       "      <td>R-HSA-1059683</td>\n",
       "      <td>proteoforms</td>\n",
       "      <td>Not Included</td>\n",
       "      <td>1.00</td>\n",
       "      <td>1.00</td>\n",
       "      <td>1.00</td>\n",
       "      <td>1</td>\n",
       "      <td>0</td>\n",
       "      <td>0.00</td>\n",
       "    </tr>\n",
       "    <tr>\n",
       "      <th>2</th>\n",
       "      <td>R-HSA-1059683</td>\n",
       "      <td>genes</td>\n",
       "      <td>Included</td>\n",
       "      <td>1.00</td>\n",
       "      <td>1.00</td>\n",
       "      <td>1.00</td>\n",
       "      <td>1</td>\n",
       "      <td>0</td>\n",
       "      <td>0.00</td>\n",
       "    </tr>\n",
       "    <tr>\n",
       "      <th>3</th>\n",
       "      <td>R-HSA-1059683</td>\n",
       "      <td>proteoforms</td>\n",
       "      <td>Included</td>\n",
       "      <td>1.00</td>\n",
       "      <td>1.00</td>\n",
       "      <td>1.00</td>\n",
       "      <td>1</td>\n",
       "      <td>0</td>\n",
       "      <td>0.00</td>\n",
       "    </tr>\n",
       "    <tr>\n",
       "      <th>4</th>\n",
       "      <td>R-HSA-1059683</td>\n",
       "      <td>genes</td>\n",
       "      <td>Reaction-Unique Included</td>\n",
       "      <td>1.00</td>\n",
       "      <td>1.00</td>\n",
       "      <td>1.00</td>\n",
       "      <td>1</td>\n",
       "      <td>0</td>\n",
       "      <td>0.00</td>\n",
       "    </tr>\n",
       "    <tr>\n",
       "      <th>...</th>\n",
       "      <td>...</td>\n",
       "      <td>...</td>\n",
       "      <td>...</td>\n",
       "      <td>...</td>\n",
       "      <td>...</td>\n",
       "      <td>...</td>\n",
       "      <td>...</td>\n",
       "      <td>...</td>\n",
       "      <td>...</td>\n",
       "    </tr>\n",
       "    <tr>\n",
       "      <th>6709</th>\n",
       "      <td>R-HSA-983695</td>\n",
       "      <td>proteoforms</td>\n",
       "      <td>Not Included</td>\n",
       "      <td>0.91</td>\n",
       "      <td>0.33</td>\n",
       "      <td>0.01</td>\n",
       "      <td>3</td>\n",
       "      <td>1</td>\n",
       "      <td>0.33</td>\n",
       "    </tr>\n",
       "    <tr>\n",
       "      <th>6710</th>\n",
       "      <td>R-HSA-983695</td>\n",
       "      <td>genes</td>\n",
       "      <td>Included</td>\n",
       "      <td>1.00</td>\n",
       "      <td>1.00</td>\n",
       "      <td>1.00</td>\n",
       "      <td>1</td>\n",
       "      <td>0</td>\n",
       "      <td>0.00</td>\n",
       "    </tr>\n",
       "    <tr>\n",
       "      <th>6711</th>\n",
       "      <td>R-HSA-983695</td>\n",
       "      <td>proteoforms</td>\n",
       "      <td>Included</td>\n",
       "      <td>1.00</td>\n",
       "      <td>1.00</td>\n",
       "      <td>1.00</td>\n",
       "      <td>1</td>\n",
       "      <td>0</td>\n",
       "      <td>0.00</td>\n",
       "    </tr>\n",
       "    <tr>\n",
       "      <th>6712</th>\n",
       "      <td>R-HSA-983695</td>\n",
       "      <td>genes</td>\n",
       "      <td>Reaction-Unique Included</td>\n",
       "      <td>0.84</td>\n",
       "      <td>0.33</td>\n",
       "      <td>0.02</td>\n",
       "      <td>3</td>\n",
       "      <td>0</td>\n",
       "      <td>0.00</td>\n",
       "    </tr>\n",
       "    <tr>\n",
       "      <th>6713</th>\n",
       "      <td>R-HSA-983695</td>\n",
       "      <td>proteoforms</td>\n",
       "      <td>Reaction-Unique Included</td>\n",
       "      <td>0.85</td>\n",
       "      <td>0.33</td>\n",
       "      <td>0.02</td>\n",
       "      <td>3</td>\n",
       "      <td>0</td>\n",
       "      <td>0.00</td>\n",
       "    </tr>\n",
       "  </tbody>\n",
       "</table>\n",
       "<p>6714 rows × 9 columns</p>\n",
       "</div>"
      ],
      "text/plain": [
       "            Pathway        Level           Small Molecules  Relative size LCC  \\\n",
       "0     R-HSA-1059683        genes              Not Included               1.00   \n",
       "1     R-HSA-1059683  proteoforms              Not Included               1.00   \n",
       "2     R-HSA-1059683        genes                  Included               1.00   \n",
       "3     R-HSA-1059683  proteoforms                  Included               1.00   \n",
       "4     R-HSA-1059683        genes  Reaction-Unique Included               1.00   \n",
       "...             ...          ...                       ...                ...   \n",
       "6709   R-HSA-983695  proteoforms              Not Included               0.91   \n",
       "6710   R-HSA-983695        genes                  Included               1.00   \n",
       "6711   R-HSA-983695  proteoforms                  Included               1.00   \n",
       "6712   R-HSA-983695        genes  Reaction-Unique Included               0.84   \n",
       "6713   R-HSA-983695  proteoforms  Reaction-Unique Included               0.85   \n",
       "\n",
       "      Avg. relative size CCs  Relative size SCC  # CCs  # Isolated nodes  \\\n",
       "0                       1.00               1.00      1                 0   \n",
       "1                       1.00               1.00      1                 0   \n",
       "2                       1.00               1.00      1                 0   \n",
       "3                       1.00               1.00      1                 0   \n",
       "4                       1.00               1.00      1                 0   \n",
       "...                      ...                ...    ...               ...   \n",
       "6709                    0.33               0.01      3                 1   \n",
       "6710                    1.00               1.00      1                 0   \n",
       "6711                    1.00               1.00      1                 0   \n",
       "6712                    0.33               0.02      3                 0   \n",
       "6713                    0.33               0.02      3                 0   \n",
       "\n",
       "      Relative # Isolated nodes  \n",
       "0                          0.00  \n",
       "1                          0.00  \n",
       "2                          0.00  \n",
       "3                          0.00  \n",
       "4                          0.00  \n",
       "...                         ...  \n",
       "6709                       0.33  \n",
       "6710                       0.00  \n",
       "6711                       0.00  \n",
       "6712                       0.00  \n",
       "6713                       0.00  \n",
       "\n",
       "[6714 rows x 9 columns]"
      ]
     },
     "execution_count": 19,
     "metadata": {},
     "output_type": "execute_result"
    }
   ],
   "source": [
    "df_ccs_pathways = pd.DataFrame.from_records(data_pathways, columns=columns_for_pathways)\n",
    "replace_methods(df_ccs_pathways)\n",
    "df_ccs_pathways"
   ]
  },
  {
   "cell_type": "markdown",
   "metadata": {},
   "source": [
    "## Separate pathway metrics by small molecules handling"
   ]
  },
  {
   "cell_type": "code",
   "execution_count": 20,
   "metadata": {
    "collapsed": false,
    "pycharm": {
     "name": "#%% Select records at protein levels for finding the examples.\n"
    }
   },
   "outputs": [],
   "source": [
    "df_no_sm = df_ccs_pathways[(df_ccs_pathways['Small Molecules'] == \"Not Included\") & (df_ccs_pathways['Level'] == f\"{genes}\")]\n",
    "df_with_sm = df_ccs_pathways[(df_ccs_pathways['Small Molecules'] == \"Included\") & (df_ccs_pathways['Level'] == f\"{genes}\")]\n",
    "df_with_ru_sm =  df_ccs_pathways[(df_ccs_pathways['Small Molecules'] == \"Reaction-Unique Included\") & (df_ccs_pathways['Level'] == f\"{genes}\")]"
   ]
  },
  {
   "cell_type": "markdown",
   "metadata": {},
   "source": [
    "## Calculate change in LCC by adding small molecules"
   ]
  },
  {
   "cell_type": "code",
   "execution_count": 21,
   "metadata": {
    "collapsed": false,
    "pycharm": {
     "name": "#%% Get example of pathway where small molecules increase size of LCC\n"
    }
   },
   "outputs": [
    {
     "data": {
      "text/html": [
       "<div>\n",
       "<style scoped>\n",
       "    .dataframe tbody tr th:only-of-type {\n",
       "        vertical-align: middle;\n",
       "    }\n",
       "\n",
       "    .dataframe tbody tr th {\n",
       "        vertical-align: top;\n",
       "    }\n",
       "\n",
       "    .dataframe thead th {\n",
       "        text-align: right;\n",
       "    }\n",
       "</style>\n",
       "<table border=\"1\" class=\"dataframe\">\n",
       "  <thead>\n",
       "    <tr style=\"text-align: right;\">\n",
       "      <th></th>\n",
       "      <th>LCC size no sm</th>\n",
       "      <th>LCC size with sm</th>\n",
       "      <th>Increase</th>\n",
       "    </tr>\n",
       "    <tr>\n",
       "      <th>Pathway</th>\n",
       "      <th></th>\n",
       "      <th></th>\n",
       "      <th></th>\n",
       "    </tr>\n",
       "  </thead>\n",
       "  <tbody>\n",
       "    <tr>\n",
       "      <th>R-HSA-70263</th>\n",
       "      <td>0.03</td>\n",
       "      <td>1.00</td>\n",
       "      <td>34.00</td>\n",
       "    </tr>\n",
       "    <tr>\n",
       "      <th>R-HSA-9753281</th>\n",
       "      <td>0.03</td>\n",
       "      <td>1.00</td>\n",
       "      <td>30.00</td>\n",
       "    </tr>\n",
       "    <tr>\n",
       "      <th>R-HSA-9749641</th>\n",
       "      <td>0.05</td>\n",
       "      <td>1.00</td>\n",
       "      <td>22.00</td>\n",
       "    </tr>\n",
       "    <tr>\n",
       "      <th>R-HSA-196757</th>\n",
       "      <td>0.06</td>\n",
       "      <td>1.00</td>\n",
       "      <td>17.00</td>\n",
       "    </tr>\n",
       "    <tr>\n",
       "      <th>R-HSA-2162123</th>\n",
       "      <td>0.07</td>\n",
       "      <td>1.00</td>\n",
       "      <td>15.00</td>\n",
       "    </tr>\n",
       "    <tr>\n",
       "      <th>R-HSA-109704</th>\n",
       "      <td>0.07</td>\n",
       "      <td>1.00</td>\n",
       "      <td>14.33</td>\n",
       "    </tr>\n",
       "    <tr>\n",
       "      <th>R-HSA-189451</th>\n",
       "      <td>0.07</td>\n",
       "      <td>1.00</td>\n",
       "      <td>14.00</td>\n",
       "    </tr>\n",
       "    <tr>\n",
       "      <th>R-HSA-1483213</th>\n",
       "      <td>0.08</td>\n",
       "      <td>1.00</td>\n",
       "      <td>13.00</td>\n",
       "    </tr>\n",
       "    <tr>\n",
       "      <th>R-HSA-2046106</th>\n",
       "      <td>0.08</td>\n",
       "      <td>1.00</td>\n",
       "      <td>13.00</td>\n",
       "    </tr>\n",
       "    <tr>\n",
       "      <th>R-HSA-73621</th>\n",
       "      <td>0.08</td>\n",
       "      <td>1.00</td>\n",
       "      <td>12.00</td>\n",
       "    </tr>\n",
       "  </tbody>\n",
       "</table>\n",
       "</div>"
      ],
      "text/plain": [
       "               LCC size no sm  LCC size with sm  Increase\n",
       "Pathway                                                  \n",
       "R-HSA-70263              0.03              1.00     34.00\n",
       "R-HSA-9753281            0.03              1.00     30.00\n",
       "R-HSA-9749641            0.05              1.00     22.00\n",
       "R-HSA-196757             0.06              1.00     17.00\n",
       "R-HSA-2162123            0.07              1.00     15.00\n",
       "R-HSA-109704             0.07              1.00     14.33\n",
       "R-HSA-189451             0.07              1.00     14.00\n",
       "R-HSA-1483213            0.08              1.00     13.00\n",
       "R-HSA-2046106            0.08              1.00     13.00\n",
       "R-HSA-73621              0.08              1.00     12.00"
      ]
     },
     "execution_count": 21,
     "metadata": {},
     "output_type": "execute_result"
    }
   ],
   "source": [
    "df_no_sm_size_lcc = df_no_sm[['Pathway', 'Relative size LCC']]\n",
    "df_no_sm_size_lcc.set_index('Pathway', inplace=True)\n",
    "\n",
    "df_with_sm_size_lcc = df_with_sm[['Pathway', 'Relative size LCC']]\n",
    "df_with_sm_size_lcc.set_index('Pathway', inplace=True)\n",
    "\n",
    "result = pd.concat([df_no_sm_size_lcc, df_with_sm_size_lcc], axis=1)\n",
    "result = result[~result.isnull().any(axis=1)]\n",
    "result.columns = [\"LCC size no sm\", \"LCC size with sm\"]\n",
    "result[\"Increase\"] = result[\"LCC size with sm\"]/result[\"LCC size no sm\"]\n",
    "result.sort_values(by=['Increase'], ascending=False, inplace=True)\n",
    "result.head(10)"
   ]
  },
  {
   "cell_type": "markdown",
   "metadata": {},
   "source": [
    "## Calculate change in number of connected components by adding small molecules"
   ]
  },
  {
   "cell_type": "code",
   "execution_count": 23,
   "metadata": {
    "collapsed": false,
    "pycharm": {
     "name": "#%% Get example of pathway where number of CCs are reduced when adding small molecules and there are no isolated nodes\n"
    }
   },
   "outputs": [
    {
     "data": {
      "text/html": [
       "<div>\n",
       "<style scoped>\n",
       "    .dataframe tbody tr th:only-of-type {\n",
       "        vertical-align: middle;\n",
       "    }\n",
       "\n",
       "    .dataframe tbody tr th {\n",
       "        vertical-align: top;\n",
       "    }\n",
       "\n",
       "    .dataframe thead th {\n",
       "        text-align: right;\n",
       "    }\n",
       "</style>\n",
       "<table border=\"1\" class=\"dataframe\">\n",
       "  <thead>\n",
       "    <tr style=\"text-align: right;\">\n",
       "      <th></th>\n",
       "      <th>Num CCs no sm</th>\n",
       "      <th>Num CCs with sm</th>\n",
       "      <th>Increase</th>\n",
       "    </tr>\n",
       "    <tr>\n",
       "      <th>Pathway</th>\n",
       "      <th></th>\n",
       "      <th></th>\n",
       "      <th></th>\n",
       "    </tr>\n",
       "  </thead>\n",
       "  <tbody>\n",
       "    <tr>\n",
       "      <th>R-HSA-5689880</th>\n",
       "      <td>12.00</td>\n",
       "      <td>1.00</td>\n",
       "      <td>0.08</td>\n",
       "    </tr>\n",
       "    <tr>\n",
       "      <th>R-HSA-8876725</th>\n",
       "      <td>8.00</td>\n",
       "      <td>1.00</td>\n",
       "      <td>0.12</td>\n",
       "    </tr>\n",
       "    <tr>\n",
       "      <th>R-HSA-445144</th>\n",
       "      <td>4.00</td>\n",
       "      <td>1.00</td>\n",
       "      <td>0.25</td>\n",
       "    </tr>\n",
       "    <tr>\n",
       "      <th>R-HSA-3000480</th>\n",
       "      <td>4.00</td>\n",
       "      <td>1.00</td>\n",
       "      <td>0.25</td>\n",
       "    </tr>\n",
       "    <tr>\n",
       "      <th>R-HSA-2871809</th>\n",
       "      <td>3.00</td>\n",
       "      <td>1.00</td>\n",
       "      <td>0.33</td>\n",
       "    </tr>\n",
       "    <tr>\n",
       "      <th>R-HSA-445355</th>\n",
       "      <td>3.00</td>\n",
       "      <td>1.00</td>\n",
       "      <td>0.33</td>\n",
       "    </tr>\n",
       "    <tr>\n",
       "      <th>R-HSA-381676</th>\n",
       "      <td>3.00</td>\n",
       "      <td>1.00</td>\n",
       "      <td>0.33</td>\n",
       "    </tr>\n",
       "    <tr>\n",
       "      <th>R-HSA-1445148</th>\n",
       "      <td>3.00</td>\n",
       "      <td>1.00</td>\n",
       "      <td>0.33</td>\n",
       "    </tr>\n",
       "    <tr>\n",
       "      <th>R-HSA-5607764</th>\n",
       "      <td>5.00</td>\n",
       "      <td>2.00</td>\n",
       "      <td>0.40</td>\n",
       "    </tr>\n",
       "    <tr>\n",
       "      <th>R-HSA-442720</th>\n",
       "      <td>2.00</td>\n",
       "      <td>1.00</td>\n",
       "      <td>0.50</td>\n",
       "    </tr>\n",
       "  </tbody>\n",
       "</table>\n",
       "</div>"
      ],
      "text/plain": [
       "               Num CCs no sm  Num CCs with sm  Increase\n",
       "Pathway                                                \n",
       "R-HSA-5689880          12.00             1.00      0.08\n",
       "R-HSA-8876725           8.00             1.00      0.12\n",
       "R-HSA-445144            4.00             1.00      0.25\n",
       "R-HSA-3000480           4.00             1.00      0.25\n",
       "R-HSA-2871809           3.00             1.00      0.33\n",
       "R-HSA-445355            3.00             1.00      0.33\n",
       "R-HSA-381676            3.00             1.00      0.33\n",
       "R-HSA-1445148           3.00             1.00      0.33\n",
       "R-HSA-5607764           5.00             2.00      0.40\n",
       "R-HSA-442720            2.00             1.00      0.50"
      ]
     },
     "execution_count": 23,
     "metadata": {},
     "output_type": "execute_result"
    }
   ],
   "source": [
    "df_no_sm = df_no_sm[(df_no_sm['Relative # Isolated nodes'] == 0)]\n",
    "df_with_sm = df_with_sm[(df_with_sm['Relative # Isolated nodes'] == 0)]\n",
    "\n",
    "df_no_sm_num_ccs = df_no_sm[['Pathway', '# CCs']]\n",
    "df_no_sm_num_ccs.set_index('Pathway', inplace=True)\n",
    "\n",
    "df_with_sm_num_ccs = df_with_sm[['Pathway', '# CCs']]\n",
    "df_with_sm_num_ccs.set_index('Pathway', inplace=True)\n",
    "\n",
    "result = pd.concat([df_no_sm_num_ccs, df_with_sm_num_ccs], axis=1)\n",
    "result = result[~result.isnull().any(axis=1)]\n",
    "result.columns = [\"Num CCs no sm\", \"Num CCs with sm\"]\n",
    "result[\"Increase\"] = result[\"Num CCs with sm\"]/result[\"Num CCs no sm\"]\n",
    "result.sort_values(by=['Increase'], ascending=True, inplace=True)\n",
    "result.head(10)"
   ]
  },
  {
   "cell_type": "code",
   "execution_count": 24,
   "metadata": {
    "collapsed": false,
    "pycharm": {
     "name": "#%% Get example where the number of CCs increases when using raction-unique instead of generic small molecules\n"
    }
   },
   "outputs": [
    {
     "data": {
      "text/html": [
       "<div>\n",
       "<style scoped>\n",
       "    .dataframe tbody tr th:only-of-type {\n",
       "        vertical-align: middle;\n",
       "    }\n",
       "\n",
       "    .dataframe tbody tr th {\n",
       "        vertical-align: top;\n",
       "    }\n",
       "\n",
       "    .dataframe thead th {\n",
       "        text-align: right;\n",
       "    }\n",
       "</style>\n",
       "<table border=\"1\" class=\"dataframe\">\n",
       "  <thead>\n",
       "    <tr style=\"text-align: right;\">\n",
       "      <th></th>\n",
       "      <th>Num CCs with sm</th>\n",
       "      <th>Num CCs with reaction-unique sm</th>\n",
       "      <th>Increase</th>\n",
       "    </tr>\n",
       "    <tr>\n",
       "      <th>Pathway</th>\n",
       "      <th></th>\n",
       "      <th></th>\n",
       "      <th></th>\n",
       "    </tr>\n",
       "  </thead>\n",
       "  <tbody>\n",
       "    <tr>\n",
       "      <th>R-HSA-352230</th>\n",
       "      <td>1.00</td>\n",
       "      <td>26</td>\n",
       "      <td>26.00</td>\n",
       "    </tr>\n",
       "    <tr>\n",
       "      <th>R-HSA-2162123</th>\n",
       "      <td>1.00</td>\n",
       "      <td>25</td>\n",
       "      <td>25.00</td>\n",
       "    </tr>\n",
       "    <tr>\n",
       "      <th>R-HSA-70263</th>\n",
       "      <td>1.00</td>\n",
       "      <td>25</td>\n",
       "      <td>25.00</td>\n",
       "    </tr>\n",
       "    <tr>\n",
       "      <th>R-HSA-193368</th>\n",
       "      <td>1.00</td>\n",
       "      <td>23</td>\n",
       "      <td>23.00</td>\n",
       "    </tr>\n",
       "    <tr>\n",
       "      <th>R-HSA-9749641</th>\n",
       "      <td>1.00</td>\n",
       "      <td>22</td>\n",
       "      <td>22.00</td>\n",
       "    </tr>\n",
       "    <tr>\n",
       "      <th>...</th>\n",
       "      <td>...</td>\n",
       "      <td>...</td>\n",
       "      <td>...</td>\n",
       "    </tr>\n",
       "    <tr>\n",
       "      <th>R-HSA-373080</th>\n",
       "      <td>12.00</td>\n",
       "      <td>12</td>\n",
       "      <td>1.00</td>\n",
       "    </tr>\n",
       "    <tr>\n",
       "      <th>R-HSA-373752</th>\n",
       "      <td>3.00</td>\n",
       "      <td>3</td>\n",
       "      <td>1.00</td>\n",
       "    </tr>\n",
       "    <tr>\n",
       "      <th>R-HSA-373753</th>\n",
       "      <td>1.00</td>\n",
       "      <td>1</td>\n",
       "      <td>1.00</td>\n",
       "    </tr>\n",
       "    <tr>\n",
       "      <th>R-HSA-373760</th>\n",
       "      <td>4.00</td>\n",
       "      <td>4</td>\n",
       "      <td>1.00</td>\n",
       "    </tr>\n",
       "    <tr>\n",
       "      <th>R-HSA-4641257</th>\n",
       "      <td>1.00</td>\n",
       "      <td>1</td>\n",
       "      <td>1.00</td>\n",
       "    </tr>\n",
       "  </tbody>\n",
       "</table>\n",
       "<p>977 rows × 3 columns</p>\n",
       "</div>"
      ],
      "text/plain": [
       "               Num CCs with sm  Num CCs with reaction-unique sm  Increase\n",
       "Pathway                                                                  \n",
       "R-HSA-352230              1.00                               26     26.00\n",
       "R-HSA-2162123             1.00                               25     25.00\n",
       "R-HSA-70263               1.00                               25     25.00\n",
       "R-HSA-193368              1.00                               23     23.00\n",
       "R-HSA-9749641             1.00                               22     22.00\n",
       "...                        ...                              ...       ...\n",
       "R-HSA-373080             12.00                               12      1.00\n",
       "R-HSA-373752              3.00                                3      1.00\n",
       "R-HSA-373753              1.00                                1      1.00\n",
       "R-HSA-373760              4.00                                4      1.00\n",
       "R-HSA-4641257             1.00                                1      1.00\n",
       "\n",
       "[977 rows x 3 columns]"
      ]
     },
     "execution_count": 24,
     "metadata": {},
     "output_type": "execute_result"
    }
   ],
   "source": [
    "df_with_ru_sm_num_ccs = df_with_ru_sm[['Pathway', '# CCs']]\n",
    "df_with_ru_sm_num_ccs.set_index('Pathway', inplace=True)\n",
    "\n",
    "result = pd.concat([df_with_sm_num_ccs, df_with_ru_sm_num_ccs], axis=1)\n",
    "result = result[~result.isnull().any(axis=1)]\n",
    "result.columns = [\"Num CCs with sm\", \"Num CCs with reaction-unique sm\"]\n",
    "result[\"Increase\"] = result[\"Num CCs with reaction-unique sm\"]/result[\"Num CCs with sm\"]\n",
    "result.sort_values(by=['Increase'], ascending=False, inplace=True)\n",
    "result"
   ]
  },
  {
   "cell_type": "code",
   "execution_count": 41,
   "metadata": {
    "collapsed": false,
    "pycharm": {
     "name": "#%% Get example of a pathway where LCC size decreases but CC increases\n"
    }
   },
   "outputs": [],
   "source": [
    "# df_no_sm_size_lcc = df_no_sm[['Pathway', 'Average relative size of connected components']]\n",
    "# df_no_sm_size_lcc.set_index('Pathway', inplace=True)\n",
    "# df_with_sm_size_cc = df_with_sm[['Pathway', 'Average relative size of connected components']]\n",
    "# df_with_sm_size_cc.set_index('Pathway', inplace=True)\n"
   ]
  },
  {
   "cell_type": "markdown",
   "metadata": {},
   "source": [
    "## Aggregate metrics of CCs for pathways"
   ]
  },
  {
   "cell_type": "code",
   "execution_count": 27,
   "metadata": {
    "collapsed": false,
    "pycharm": {
     "name": "#%% Create sumarized dataframe with average values for all dataframes\n"
    }
   },
   "outputs": [
    {
     "data": {
      "text/html": [
       "<div>\n",
       "<style scoped>\n",
       "    .dataframe tbody tr th:only-of-type {\n",
       "        vertical-align: middle;\n",
       "    }\n",
       "\n",
       "    .dataframe tbody tr th {\n",
       "        vertical-align: top;\n",
       "    }\n",
       "\n",
       "    .dataframe thead th {\n",
       "        text-align: right;\n",
       "    }\n",
       "</style>\n",
       "<table border=\"1\" class=\"dataframe\">\n",
       "  <thead>\n",
       "    <tr style=\"text-align: right;\">\n",
       "      <th></th>\n",
       "      <th></th>\n",
       "      <th>Avg. Rel. Size of LCC</th>\n",
       "      <th>Avg. Rel. Size of CCs</th>\n",
       "      <th>Avg. Rel. Size of SCC</th>\n",
       "      <th>Avg. Rel. Number of isolated nodes</th>\n",
       "    </tr>\n",
       "    <tr>\n",
       "      <th>Small Molecules</th>\n",
       "      <th>Entity Level</th>\n",
       "      <th></th>\n",
       "      <th></th>\n",
       "      <th></th>\n",
       "      <th></th>\n",
       "    </tr>\n",
       "  </thead>\n",
       "  <tbody>\n",
       "    <tr>\n",
       "      <th rowspan=\"2\" valign=\"top\">Not Included</th>\n",
       "      <th>genes</th>\n",
       "      <td>0.91</td>\n",
       "      <td>0.83</td>\n",
       "      <td>0.77</td>\n",
       "      <td>0.08</td>\n",
       "    </tr>\n",
       "    <tr>\n",
       "      <th>proteoforms</th>\n",
       "      <td>0.91</td>\n",
       "      <td>0.81</td>\n",
       "      <td>0.76</td>\n",
       "      <td>0.08</td>\n",
       "    </tr>\n",
       "    <tr>\n",
       "      <th rowspan=\"2\" valign=\"top\">Included</th>\n",
       "      <th>genes</th>\n",
       "      <td>0.83</td>\n",
       "      <td>0.72</td>\n",
       "      <td>0.66</td>\n",
       "      <td>0.20</td>\n",
       "    </tr>\n",
       "    <tr>\n",
       "      <th>proteoforms</th>\n",
       "      <td>0.83</td>\n",
       "      <td>0.71</td>\n",
       "      <td>0.64</td>\n",
       "      <td>0.18</td>\n",
       "    </tr>\n",
       "    <tr>\n",
       "      <th rowspan=\"2\" valign=\"top\">Reaction-Unique Included</th>\n",
       "      <th>genes</th>\n",
       "      <td>0.83</td>\n",
       "      <td>0.71</td>\n",
       "      <td>0.64</td>\n",
       "      <td>0.09</td>\n",
       "    </tr>\n",
       "    <tr>\n",
       "      <th>proteoforms</th>\n",
       "      <td>0.83</td>\n",
       "      <td>0.70</td>\n",
       "      <td>0.62</td>\n",
       "      <td>0.09</td>\n",
       "    </tr>\n",
       "  </tbody>\n",
       "</table>\n",
       "</div>"
      ],
      "text/plain": [
       "                                       Avg. Rel. Size of LCC  \\\n",
       "Small Molecules          Entity Level                          \n",
       "Not Included             genes                          0.91   \n",
       "                         proteoforms                    0.91   \n",
       "Included                 genes                          0.83   \n",
       "                         proteoforms                    0.83   \n",
       "Reaction-Unique Included genes                          0.83   \n",
       "                         proteoforms                    0.83   \n",
       "\n",
       "                                       Avg. Rel. Size of CCs  \\\n",
       "Small Molecules          Entity Level                          \n",
       "Not Included             genes                          0.83   \n",
       "                         proteoforms                    0.81   \n",
       "Included                 genes                          0.72   \n",
       "                         proteoforms                    0.71   \n",
       "Reaction-Unique Included genes                          0.71   \n",
       "                         proteoforms                    0.70   \n",
       "\n",
       "                                       Avg. Rel. Size of SCC  \\\n",
       "Small Molecules          Entity Level                          \n",
       "Not Included             genes                          0.77   \n",
       "                         proteoforms                    0.76   \n",
       "Included                 genes                          0.66   \n",
       "                         proteoforms                    0.64   \n",
       "Reaction-Unique Included genes                          0.64   \n",
       "                         proteoforms                    0.62   \n",
       "\n",
       "                                       Avg. Rel. Number of isolated nodes  \n",
       "Small Molecules          Entity Level                                      \n",
       "Not Included             genes                                       0.08  \n",
       "                         proteoforms                                 0.08  \n",
       "Included                 genes                                       0.20  \n",
       "                         proteoforms                                 0.18  \n",
       "Reaction-Unique Included genes                                       0.09  \n",
       "                         proteoforms                                 0.09  "
      ]
     },
     "execution_count": 27,
     "metadata": {},
     "output_type": "execute_result"
    }
   ],
   "source": [
    "df_pathways_grouped = df_ccs_pathways.groupby(['Small Molecules', 'Level']).agg(\n",
    "    {\n",
    "        'Relative size LCC': ['mean'],\n",
    "        'Avg. relative size CCs': ['mean'],\n",
    "        'Relative size SCC': ['mean'],\n",
    "        'Relative # Isolated nodes': ['mean']\n",
    "    })\n",
    "df_pathways_grouped.columns = [\n",
    "    'Avg. Rel. Size of LCC',\n",
    "    'Avg. Rel. Size of CCs',\n",
    "    'Avg. Rel. Size of SCC',\n",
    "    'Avg. Rel. Number of isolated nodes'\n",
    "]\n",
    "df_pathways_grouped = df_pathways_grouped.set_index(get_multiindex())\n",
    "dfi.export(df_pathways_grouped, 'figures/table_pathways_ccs.png')\n",
    "df_pathways_grouped"
   ]
  },
  {
   "cell_type": "markdown",
   "metadata": {},
   "source": [
    "## Change in isolated nodes when adding small molecules to pathways"
   ]
  },
  {
   "cell_type": "code",
   "execution_count": 39,
   "metadata": {
    "collapsed": false,
    "pycharm": {
     "name": "#%% Calculate in how many pahtways there are less isolated nodes by adding small molecules\n"
    }
   },
   "outputs": [
    {
     "name": "stdout",
     "output_type": "stream",
     "text": [
      "We considered 1119 pathways.\n",
      "In 226 pathways there are less isolated nodes when we add small molecules to the network.\n",
      "In contrast, 39 pathways there are more isolated nodes when adding small molecules.\n"
     ]
    }
   ],
   "source": [
    "df_no_sm = df_ccs_pathways[(df_ccs_pathways['Small Molecules'] == \"Not Included\") & (df_ccs_pathways['Level'] == f\"{genes}\")]\n",
    "df_with_sm = df_ccs_pathways[(df_ccs_pathways['Small Molecules'] == \"Included\") & (df_ccs_pathways['Level'] == f\"{genes}\")]\n",
    "df_with_ru_sm =  df_ccs_pathways[(df_ccs_pathways['Small Molecules'] == \"Reaction-Unique Included\") & (df_ccs_pathways['Level'] == f\"{genes}\")]\n",
    "\n",
    "# df_no_sm = df_pathways_grouped[(df_pathways_grouped['Small Molecules'] == \"Not Included\") & (df_pathways_grouped['Entity Level'] == f\"{genes}\")]\n",
    "# df_with_sm = df_pathways_grouped[(df_pathways_grouped['Small Molecules'] == \"Included\") & (df_pathways_grouped['Entity Level'] == f\"{genes}\")]\n",
    "# df_with_sm\n",
    "\n",
    "df_no_sm_isolated = df_no_sm[['Pathway', \"# Isolated nodes\"]]\n",
    "df_no_sm_isolated.set_index('Pathway', inplace=True)\n",
    "df_no_sm_isolated\n",
    "\n",
    "df_with_sm_isolated = df_with_sm[['Pathway', \"# Isolated nodes\"]]\n",
    "df_with_sm_isolated.set_index('Pathway', inplace=True)\n",
    "df_with_sm_isolated\n",
    "\n",
    "result = pd.concat([df_no_sm_isolated, df_with_sm_isolated], axis=1)\n",
    "result = result[~result.isnull().any(axis=1)]\n",
    "result.columns = [\"Num isolated no sm\", \"Num isolated with sm\"]\n",
    "print(f\"We considered {len(result)} pathways.\")\n",
    "print(f\"In {np.count_nonzero(result['Num isolated no sm'] > result['Num isolated with sm'])} pathways there are less isolated nodes when we add small molecules to the network.\")\n",
    "print(f\"In contrast, {np.count_nonzero(result['Num isolated no sm'] < result['Num isolated with sm'])} pathways there are more isolated nodes when adding small molecules.\")"
   ]
  },
  {
   "cell_type": "code",
   "execution_count": 33,
   "metadata": {
    "collapsed": false,
    "pycharm": {
     "name": "#%%\n"
    }
   },
   "outputs": [
    {
     "data": {
      "text/plain": [
       "<seaborn.axisgrid.FacetGrid at 0x1625a6bc370>"
      ]
     },
     "execution_count": 33,
     "metadata": {},
     "output_type": "execute_result"
    },
    {
     "data": {
      "image/png": "[encoded data removed]",
      "text/plain": [
       "<Figure size 612.8x288 with 3 Axes>"
      ]
     },
     "metadata": {
      "needs_background": "light"
     },
     "output_type": "display_data"
    }
   ],
   "source": [
    "g = sns.catplot(x=\"Level\", y='Relative size LCC',\n",
    "                col=\"Small Molecules\",\n",
    "                data=df_ccs_pathways.sample(1000),\n",
    "                kind=\"violin\", split=True,\n",
    "                order=[genes, proteoforms], col_order=SMALL_MOLECULES,\n",
    "                height=4, aspect=.7);\n",
    "# g.fig.suptitle(\"Small Molecules\")\n",
    "# g.fig.subplots_adjust(top=0.85)\n",
    "g.set_titles(\" Small molecules\\n{col_name}\")\n",
    "g.set_axis_labels(\"Level\", 'Rel.Size of LCC')\n",
    "g.add_legend()"
   ]
  },
  {
   "cell_type": "code",
   "execution_count": 35,
   "metadata": {
    "collapsed": false,
    "pycharm": {
     "name": "#%%\n"
    }
   },
   "outputs": [
    {
     "name": "stderr",
     "output_type": "stream",
     "text": [
      "c:\\Python310\\lib\\site-packages\\seaborn\\categorical.py:2805: UserWarning: The `split` parameter has been renamed to `dodge`.\n",
      "  warnings.warn(msg, UserWarning)\n",
      "c:\\Python310\\lib\\site-packages\\seaborn\\categorical.py:2805: UserWarning: The `split` parameter has been renamed to `dodge`.\n",
      "  warnings.warn(msg, UserWarning)\n",
      "c:\\Python310\\lib\\site-packages\\seaborn\\categorical.py:2805: UserWarning: The `split` parameter has been renamed to `dodge`.\n",
      "  warnings.warn(msg, UserWarning)\n"
     ]
    },
    {
     "data": {
      "text/plain": [
       "<seaborn.axisgrid.FacetGrid at 0x16266c8e200>"
      ]
     },
     "execution_count": 35,
     "metadata": {},
     "output_type": "execute_result"
    },
    {
     "data": {
      "image/png": "[encoded data removed]",
      "text/plain": [
       "<Figure size 612.8x288 with 3 Axes>"
      ]
     },
     "metadata": {
      "needs_background": "light"
     },
     "output_type": "display_data"
    }
   ],
   "source": [
    "g = sns.catplot(x=\"Level\", y='Relative size LCC',\n",
    "                col=\"Small Molecules\",\n",
    "                data=df_ccs_pathways.sample(1000),\n",
    "                kind=\"strip\", split=True,\n",
    "                order=[genes, proteoforms], col_order=SMALL_MOLECULES,\n",
    "                height=4, aspect=.7);\n",
    "# g.fig.suptitle(\"Small Molecules\")\n",
    "# g.fig.subplots_adjust(top=0.85)\n",
    "g.set_titles(\" Small molecules\\n{col_name}\")\n",
    "g.set_axis_labels(\"Level\", 'Rel.Size of LCC')\n",
    "g.add_legend()"
   ]
  },
  {
   "cell_type": "markdown",
   "metadata": {},
   "source": [
    "## Show examples of Pahtway CCs"
   ]
  },
  {
   "cell_type": "code",
   "execution_count": 45,
   "metadata": {
    "collapsed": false,
    "pycharm": {
     "name": "#%% Pahtway examples with Isolated nodes\n"
    }
   },
   "outputs": [
    {
     "name": "stdout",
     "output_type": "stream",
     "text": [
      "R-HSA-110362 CCs: [1, 7]\n",
      "R-HSA-111457 CCs: [1, 6]\n",
      "R-HSA-112399 CCs: [1, 3, 3, 8]\n",
      "R-HSA-1236382 CCs: [1, 1, 1, 1, 15]\n",
      "R-HSA-1237044 CCs: [1, 1, 1, 1, 1, 1, 6]\n",
      "R-HSA-1237112 CCs: [1, 1, 1, 1, 1, 1]\n",
      "R-HSA-1247673 CCs: [1, 1, 1, 1, 1, 1, 2]\n",
      "R-HSA-1362409 CCs: [1, 1, 1, 4, 6]\n",
      "R-HSA-1369062 CCs: [1, 1, 1, 1, 1, 1, 1, 1, 1, 2, 2, 5]\n",
      "R-HSA-141334 CCs: [1, 1]\n"
     ]
    }
   ],
   "source": [
    "\n",
    "n = 10\n",
    "pathway_examples_isolated_nodes = set()\n",
    "for pathway, filename in get_pathway_filenames(PATHWAY_GRAPHS_PATH, list(df_selected_pathways[\"Pathway\"])):\n",
    "    G = read_graph(filename)\n",
    "    if G.number_of_nodes() < 20:\n",
    "        ccs_sizes = [len(cc) for cc in sorted(nx.connected_components(G), key=len, reverse=False)]\n",
    "        if ccs_sizes[0] == 1:\n",
    "            prev = len(pathway_examples_isolated_nodes)\n",
    "            pathway_examples_isolated_nodes.add(pathway)\n",
    "            if len(pathway_examples_isolated_nodes) != prev:\n",
    "                print(f\"{pathway} CCs: {ccs_sizes}\")\n",
    "            if len(pathway_examples_isolated_nodes) == n: break;\n"
   ]
  },
  {
   "cell_type": "code",
   "execution_count": null,
   "metadata": {
    "collapsed": false,
    "pycharm": {
     "name": "#%% Make plots for the examples of pathways with isolated nodes\n"
    }
   },
   "outputs": [
    {
     "name": "stdout",
     "output_type": "stream",
     "text": [
      "-- Creating interaction networks for pathway R-HSA-69183\n",
      "Generated figure: resources/pathway_networks/R-HSA-69183_ENTITY_TYPE_network.html\n",
      "-- Creating interaction networks for pathway R-HSA-111457\n",
      "Generated figure: resources/pathway_networks/R-HSA-111457_ENTITY_TYPE_network.html\n",
      "-- Creating interaction networks for pathway R-HSA-888593\n",
      "Generated figure: resources/pathway_networks/R-HSA-888593_ENTITY_TYPE_network.html\n",
      "-- Creating interaction networks for pathway R-HSA-75153\n",
      "Generated figure: resources/pathway_networks/R-HSA-75153_ENTITY_TYPE_network.html\n",
      "-- Creating interaction networks for pathway R-HSA-937072\n",
      "Generated figure: resources/pathway_networks/R-HSA-937072_ENTITY_TYPE_network.html\n",
      "-- Creating interaction networks for pathway R-HSA-111471\n",
      "Generated figure: resources/pathway_networks/R-HSA-111471_ENTITY_TYPE_network.html\n",
      "-- Creating interaction networks for pathway R-HSA-9683673\n",
      "Generated figure: resources/pathway_networks/R-HSA-9683673_ENTITY_TYPE_network.html\n",
      "-- Creating interaction networks for pathway R-HSA-9686347\n",
      "Generated figure: resources/pathway_networks/R-HSA-9686347_ENTITY_TYPE_network.html\n",
      "-- Creating interaction networks for pathway R-HSA-888568\n",
      "Generated figure: resources/pathway_networks/R-HSA-888568_ENTITY_TYPE_network.html\n",
      "-- Creating interaction networks for pathway R-HSA-176974\n",
      "Generated figure: resources/pathway_networks/R-HSA-176974_ENTITY_TYPE_network.html\n"
     ]
    }
   ],
   "source": [
    "# for pathway in pathway_examples_isolated_nodes:\n",
    "#     graphs = create_pathway_interaction_networks(pathway, PATHWAY_GRAPHS_PATH)\n",
    "#     p = plot_pathway_all_levels(pathway, out_path=PATHWAY_GRAPHS_PATH, graphs=graphs,\n",
    "#                                 coloring=Coloring.ENTITY_TYPE,\n",
    "#                                 highlight_articulations=False, highlight_bridges=False,\n",
    "#                                 node_size = 10,\n",
    "#                                 toolbar_location=None)"
   ]
  },
  {
   "cell_type": "markdown",
   "metadata": {},
   "source": [
    "## Count nodes connected through small molecules"
   ]
  },
  {
   "cell_type": "code",
   "execution_count": 47,
   "metadata": {
    "collapsed": false,
    "pycharm": {
     "name": "#%% Calculate the percentage of nodes that get connected through a link to a small molecule\n"
    }
   },
   "outputs": [
    {
     "name": "stdout",
     "output_type": "stream",
     "text": [
      "There are 2789 nodes connected only through small molecules.\n",
      "They are 25.41% of all 10976 accessioned entity nodes.\n"
     ]
    }
   ],
   "source": [
    "# -- Get all accessioned entity nodes\n",
    "# -- For each accessioned entity node, check if all its neighbors are small molecules\n",
    "\n",
    "def are_all_neighbours_sm(G, v):\n",
    "     return not any([G.nodes[n]['type'].startswith(\"Simple\") for n in G.neighbors(v)])\n",
    "\n",
    "acc_ent_nodes = [n for n in interactomes_with_sm[genes].nodes if not interactomes_with_sm[genes].nodes[n]['type'].startswith(\"Simple\")]\n",
    "values = [are_all_neighbours_sm(interactomes_with_sm[genes], node) for node in acc_ent_nodes]\n",
    "num = np.count_nonzero(values)\n",
    "\n",
    "print(f\"There are {num} nodes connected only through small molecules.\")\n",
    "print(f\"They are {round(num / len(acc_ent_nodes) * 100, 2)}% of all {len(acc_ent_nodes)} accessioned entity nodes.\")"
   ]
  },
  {
   "cell_type": "code",
   "execution_count": null,
   "metadata": {
    "collapsed": false,
    "pycharm": {
     "name": "#%%\n"
    }
   },
   "outputs": [],
   "source": []
  }
 ],
 "metadata": {
  "interpreter": {
   "hash": "369f2c481f4da34e4445cda3fffd2e751bd1c4d706f27375911949ba6bb62e1c"
  },
  "kernelspec": {
   "display_name": "Python 3.10.2 64-bit",
   "language": "python",
   "name": "python3"
  },
  "language_info": {
   "codemirror_mode": {
    "name": "ipython",
    "version": 3
   },
   "file_extension": ".py",
   "mimetype": "text/x-python",
   "name": "python",
   "nbconvert_exporter": "python",
   "pygments_lexer": "ipython3",
   "version": "3.10.2"
  }
 },
 "nbformat": 4,
 "nbformat_minor": 0
}
