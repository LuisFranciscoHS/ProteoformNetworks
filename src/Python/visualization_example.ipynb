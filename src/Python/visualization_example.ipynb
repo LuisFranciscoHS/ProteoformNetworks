{
 "cells": [
  {
   "cell_type": "code",
   "execution_count": null,
   "metadata": {
    "collapsed": true,
    "pycharm": {
     "name": "#%% Visualize particular pair of modules\n"
    }
   },
   "outputs": [],
   "source": [
    "from lib.visualization import plot_module_pair\n",
    "\n",
    "examples = [\n",
    "    (\"Adiponectin\", \"Glomerular Filtration Rate\"),\n",
    "    (\"Adiponectin\", \"Thyrotropin\"),\n",
    "    (\"Body Mass Index\", \"Insulin\"),\n",
    "    (\"Body Weight\", \"Coronary Disease\"),\n",
    "    (\"Cholesterol, LDL\", \"Body Weight\"),\n",
    "    (\"Hemoglobins\", \"Inflammatory Bowel Diseases\"),\n",
    "    (\"Lipoproteins\", \"Triglycerides\"),\n",
    "    (\"Protein C\", \"Venous Thromboembolism\")\n",
    "]\n",
    "\n",
    "for example in examples:\n",
    "    trait1, trait2 = example\n",
    "    path_to_modules = \"../../reports/modules/\"\n",
    "    path_to_figures = \"../../figures/overlap_analysis/\"\n",
    "\n",
    "    plot_module_pair(trait1, trait2, \"genes\", path_to_modules, path_to_figures)\n",
    "    plot_module_pair(trait1, trait2, \"proteins\", path_to_modules, path_to_figures)\n",
    "    plot_module_pair(trait1, trait2, \"proteoforms\", path_to_modules, path_to_figures)"
   ]
  },
  {
   "cell_type": "code",
   "execution_count": 1,
   "outputs": [
    {
     "name": "stdout",
     "text": [
      "Creating graph 1\nReading members of module  Diabetes Mellitus, Type 2\nReading interactions in module  Diabetes Mellitus, Type 2\nCreating graph 2\nReading members of module  Cryoglobulinemia\nReading interactions in module  Cryoglobulinemia\nCreating graph 1\nReading members of module  Diabetes Mellitus, Type 2\nReading interactions in module  Diabetes Mellitus, Type 2\nCreating graph 2\nReading members of module  Cryoglobulinemia\nReading interactions in module  Cryoglobulinemia\nCreating graph 1\nReading members of module  Diabetes Mellitus, Type 2\nReading interactions in module  Diabetes Mellitus, Type 2\nCreating graph 2\nReading members of module  Cryoglobulinemia\nReading interactions in module  Cryoglobulinemia\n"
     ],
     "output_type": "stream"
    }
   ],
   "source": [
    "from lib.visualization import plot_module_pair \n",
    "\n",
    "trait1 = \"Diabetes Mellitus, Type 2\"\n",
    "trait2 = \"Cryoglobulinemia\"\n",
    "path_to_modules = \"../../reports/modules/\"\n",
    "path_to_figures = \"../../figures/overlap_analysis/\"\n",
    "\n",
    "plot_module_pair(trait1, trait2, path_to_modules, path_to_figures)\n"
   ],
   "metadata": {
    "collapsed": false,
    "pycharm": {
     "name": "#%%\n",
     "is_executing": false
    }
   }
  }
 ],
 "metadata": {
  "kernelspec": {
   "display_name": "Python 3",
   "language": "python",
   "name": "python3"
  },
  "language_info": {
   "codemirror_mode": {
    "name": "ipython",
    "version": 2
   },
   "file_extension": ".py",
   "mimetype": "text/x-python",
   "name": "python",
   "nbconvert_exporter": "python",
   "pygments_lexer": "ipython2",
   "version": "2.7.6"
  },
  "pycharm": {
   "stem_cell": {
    "cell_type": "raw",
    "source": [],
    "metadata": {
     "collapsed": false
    }
   }
  }
 },
 "nbformat": 4,
 "nbformat_minor": 0
}