{
 "cells": [
  {
   "cell_type": "code",
   "execution_count": 5,
   "metadata": {
    "collapsed": true,
    "pycharm": {
     "name": "#%% Visualize particular pair of modules\n",
     "is_executing": false
    }
   },
   "outputs": [
    {
     "name": "stdout",
     "text": [
      "Creating graph 1\nReading members of module  Adiponectin\nReading interactions in module  Adiponectin\nCreating graph 2\nReading members of module  Glomerular Filtration Rate\nReading interactions in module  Glomerular Filtration Rate\nCreating graph 1\nReading members of module  Adiponectin\nReading interactions in module  Adiponectin\nCreating graph 2\nReading members of module  Glomerular Filtration Rate\nReading interactions in module  Glomerular Filtration Rate\nCreating graph 1\nReading members of module  Adiponectin\nReading interactions in module  Adiponectin\nCreating graph 2\nReading members of module  Glomerular Filtration Rate\nReading interactions in module  Glomerular Filtration Rate\nCreating graph 1\nReading members of module  Adiponectin\nReading interactions in module  Adiponectin\nCreating graph 2\nReading members of module  Thyrotropin\nReading interactions in module  Thyrotropin\nCreating graph 1\nReading members of module  Adiponectin\nReading interactions in module  Adiponectin\nCreating graph 2\nReading members of module  Thyrotropin\nReading interactions in module  Thyrotropin\nCreating graph 1\nReading members of module  Adiponectin\nReading interactions in module  Adiponectin\nCreating graph 2\nReading members of module  Thyrotropin\nReading interactions in module  Thyrotropin\n",
      "Creating graph 1\nReading members of module  Body Mass Index\nReading interactions in module  Body Mass Index\nCreating graph 2\nReading members of module  Insulin\nReading interactions in module  Insulin\nCreating graph 1\nReading members of module  Body Mass Index\nReading interactions in module  Body Mass Index\nCreating graph 2\nReading members of module  Insulin\nReading interactions in module  Insulin\nCreating graph 1\nReading members of module  Body Mass Index\nReading interactions in module  Body Mass Index\nCreating graph 2\nReading members of module  Insulin\nReading interactions in module  Insulin\n",
      "Creating graph 1\nReading members of module  Body Weight\nReading interactions in module  Body Weight\nCreating graph 2\nReading members of module  Coronary Disease\nReading interactions in module  Coronary Disease\nCreating graph 1\nReading members of module  Body Weight\nReading interactions in module  Body Weight\nCreating graph 2\nReading members of module  Coronary Disease\nReading interactions in module  Coronary Disease\nCreating graph 1\nReading members of module  Body Weight\nReading interactions in module  Body Weight\nCreating graph 2\nReading members of module  Coronary Disease\nReading interactions in module  Coronary Disease\n",
      "Creating graph 1\nReading members of module  Cholesterol, LDL\nReading interactions in module  Cholesterol, LDL\nCreating graph 2\nReading members of module  Body Weight\nReading interactions in module  Body Weight\nCreating graph 1\nReading members of module  Cholesterol, LDL\nReading interactions in module  Cholesterol, LDL\nCreating graph 2\nReading members of module  Body Weight\nReading interactions in module  Body Weight\nCreating graph 1\nReading members of module  Cholesterol, LDL\nReading interactions in module  Cholesterol, LDL\nCreating graph 2\nReading members of module  Body Weight\nReading interactions in module  Body Weight\n",
      "Creating graph 1\nReading members of module  Hemoglobins\nReading interactions in module  Hemoglobins\nCreating graph 2\nReading members of module  Inflammatory Bowel Diseases\nReading interactions in module  Inflammatory Bowel Diseases\nCreating graph 1\nReading members of module  Hemoglobins\nReading interactions in module  Hemoglobins\nCreating graph 2\nReading members of module  Inflammatory Bowel Diseases\nReading interactions in module  Inflammatory Bowel Diseases\nCreating graph 1\nReading members of module  Hemoglobins\nReading interactions in module  Hemoglobins\nCreating graph 2\nReading members of module  Inflammatory Bowel Diseases\nReading interactions in module  Inflammatory Bowel Diseases\n",
      "Creating graph 1\nReading members of module  Lipoproteins\nReading interactions in module  Lipoproteins\nCreating graph 2\nReading members of module  Triglycerides\nReading interactions in module  Triglycerides\nCreating graph 1\nReading members of module  Lipoproteins\nReading interactions in module  Lipoproteins\nCreating graph 2\nReading members of module  Triglycerides\nReading interactions in module  Triglycerides\nCreating graph 1\nReading members of module  Lipoproteins\nReading interactions in module  Lipoproteins\nCreating graph 2\nReading members of module  Triglycerides\nReading interactions in module  Triglycerides\n",
      "Creating graph 1\nReading members of module  Protein C\nReading interactions in module  Protein C\nCreating graph 2\nReading members of module  Venous Thromboembolism\nReading interactions in module  Venous Thromboembolism\nCreating graph 1\nReading members of module  Protein C\nReading interactions in module  Protein C\nCreating graph 2\nReading members of module  Venous Thromboembolism\nReading interactions in module  Venous Thromboembolism\nCreating graph 1\nReading members of module  Protein C\nReading interactions in module  Protein C\nCreating graph 2\nReading members of module  Venous Thromboembolism\nReading interactions in module  Venous Thromboembolism\n"
     ],
     "output_type": "stream"
    }
   ],
   "source": [
    "from importlib import reload\n",
    "from lib import visualization\n",
    "from lib.visualization import plot_module_pair\n",
    "reload(visualization)\n",
    "\n",
    "examples = [\n",
    "    (\"Adiponectin\", \"Glomerular Filtration Rate\"),\n",
    "    (\"Adiponectin\", \"Thyrotropin\"),\n",
    "    (\"Body Mass Index\", \"Insulin\"),\n",
    "    (\"Body Weight\", \"Coronary Disease\"),\n",
    "    (\"Cholesterol, LDL\", \"Body Weight\"),\n",
    "    (\"Hemoglobins\", \"Inflammatory Bowel Diseases\"),\n",
    "    (\"Lipoproteins\", \"Triglycerides\"),\n",
    "    (\"Protein C\", \"Venous Thromboembolism\")\n",
    "]\n",
    "\n",
    "for example in examples:\n",
    "    trait1, trait2 = example\n",
    "    path_to_modules = \"../../reports/modules/\"\n",
    "    path_to_figures = \"../../figures/overlap_analysis/\"\n",
    "    plot_module_pair(trait1, trait2, path_to_modules, path_to_figures)"
   ]
  },
  {
   "cell_type": "code",
   "execution_count": 31,
   "outputs": [
    {
     "name": "stdout",
     "text": [
      "Creating graph 1\nReading members of module  Diabetes Mellitus, Type 2\nReading interactions in module  Diabetes Mellitus, Type 2\nCreating graph 2\nReading members of module  Cryoglobulinemia\nReading interactions in module  Cryoglobulinemia\nCreating graph 1\nReading members of module  Diabetes Mellitus, Type 2\nReading interactions in module  Diabetes Mellitus, Type 2\nCreating graph 2\nReading members of module  Cryoglobulinemia\nReading interactions in module  Cryoglobulinemia\nCreating graph 1\nReading members of module  Diabetes Mellitus, Type 2\nReading interactions in module  Diabetes Mellitus, Type 2\nCreating graph 2\nReading members of module  Cryoglobulinemia\nReading interactions in module  Cryoglobulinemia\nCreating graph 1\nReading members of module  Diabetes Mellitus, Type 2\nReading interactions in module  Diabetes Mellitus, Type 2\nCreating graph 2\nReading members of module  Cryoglobulinemia\nReading interactions in module  Cryoglobulinemia\nCreating graph 1\nReading members of module  Diabetes Mellitus, Type 2\nReading interactions in module  Diabetes Mellitus, Type 2\nCreating graph 2\nReading members of module  Cryoglobulinemia\nReading interactions in module  Cryoglobulinemia\nCreating graph 1\nReading members of module  Diabetes Mellitus, Type 2\nReading interactions in module  Diabetes Mellitus, Type 2\nCreating graph 2\nReading members of module  Cryoglobulinemia\nReading interactions in module  Cryoglobulinemia\n"
     ],
     "output_type": "stream"
    }
   ],
   "source": [
    "from importlib import reload\n",
    "from lib import visualization\n",
    "reload(visualization)\n",
    "from lib.visualization import plot_module_pair\n",
    "\n",
    "\n",
    "trait1 = \"Diabetes Mellitus, Type 2\"\n",
    "trait2 = \"Cryoglobulinemia\"\n",
    "path_to_modules = \"../../reports/modules/\"\n",
    "path_to_figures = \"../../figures/overlap_analysis/\"\n",
    "\n",
    "plot_module_pair(trait1, trait2, path_to_modules, path_to_figures)\n"
   ],
   "metadata": {
    "collapsed": false,
    "pycharm": {
     "name": "#%%\n",
     "is_executing": false
    }
   }
  }
 ],
 "metadata": {
  "kernelspec": {
   "display_name": "Python 3",
   "language": "python",
   "name": "python3"
  },
  "language_info": {
   "codemirror_mode": {
    "name": "ipython",
    "version": 2
   },
   "file_extension": ".py",
   "mimetype": "text/x-python",
   "name": "python",
   "nbconvert_exporter": "python",
   "pygments_lexer": "ipython2",
   "version": "2.7.6"
  },
  "pycharm": {
   "stem_cell": {
    "cell_type": "raw",
    "source": [],
    "metadata": {
     "collapsed": false
    }
   }
  }
 },
 "nbformat": 4,
 "nbformat_minor": 0
}