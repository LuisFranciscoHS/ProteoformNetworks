{
 "cells": [
  {
   "cell_type": "code",
   "execution_count": 2,
   "metadata": {
    "collapsed": true,
    "pycharm": {
     "name": "#%% Visualize particular pair of modules\n",
     "is_executing": false
    }
   },
   "outputs": [],
   "source": [
    "from importlib import reload\n",
    "from Python import disease_module_overlap_visualization, visualization\n",
    "from Python.disease_module_overlap_visualization import plot_module_pair\n",
    "reload(visualization)\n",
    "reload(disease_module_overlap_visualization)\n",
    "\n",
    "examples = [\n",
    "    (\"Adiponectin\", \"Glomerular Filtration Rate\"),\n",
    "    (\"Adiponectin\", \"Thyrotropin\"),\n",
    "    (\"Body Mass Index\", \"Insulin\"),\n",
    "    (\"Body Weight\", \"Coronary Disease\"),\n",
    "    (\"Cholesterol, LDL\", \"Body Weight\"),\n",
    "    (\"Hemoglobins\", \"Inflammatory Bowel Diseases\"),\n",
    "    (\"Lipoproteins\", \"Triglycerides\"),\n",
    "    (\"Protein C\", \"Venous Thromboembolism\")\n",
    "]\n",
    "\n",
    "for (trait1, trait2) in examples:\n",
    "    path_to_modules = \"../../reports/modules/\"\n",
    "    path_to_figures = \"../../figures/overlap_analysis/\"\n",
    "    plot_module_pair(trait1, trait2, path_to_modules, path_to_figures)"
   ]
  },
  {
   "cell_type": "code",
   "execution_count": null,
   "outputs": [],
   "source": [
    "# from importlib import reload\n",
    "# from Python import disease_module_overlap_visualization\n",
    "# reload(disease_module_overlap_visualization)\n",
    "# \n",
    "# trait1 = \"Adiponectin\"\n",
    "# trait2 = \"Thyrotropin\"\n",
    "# path_to_modules = \"../../reports/modules/\"\n",
    "# path_to_figures = \"../../figures/overlap_analysis/\"\n",
    "# \n",
    "# plot_module_pair(trait1, trait2, path_to_modules, path_to_figures)\n"
   ],
   "metadata": {
    "collapsed": false,
    "pycharm": {
     "name": "#%%\n",
     "is_executing": false
    }
   }
  }
 ],
 "metadata": {
  "kernelspec": {
   "display_name": "Python 3",
   "language": "python",
   "name": "python3"
  },
  "language_info": {
   "codemirror_mode": {
    "name": "ipython",
    "version": 2
   },
   "file_extension": ".py",
   "mimetype": "text/x-python",
   "name": "python",
   "nbconvert_exporter": "python",
   "pygments_lexer": "ipython2",
   "version": "2.7.6"
  },
  "pycharm": {
   "stem_cell": {
    "cell_type": "raw",
    "source": [],
    "metadata": {
     "collapsed": false
    }
   }
  }
 },
 "nbformat": 4,
 "nbformat_minor": 0
}