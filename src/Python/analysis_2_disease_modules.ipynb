{
 "cells": [
  {
   "cell_type": "markdown",
   "source": [
    "* Goal 1: Find examples that suggest the use of small molecules in the interaction networks\n",
    "* Goal 2: Show overview of the network topologies\n",
    "* Goal 3: Show overview of modifications of proteins in the interface of disease modules\n",
    "* Goal 4: Show overview of the disease module overlap\n",
    "\n",
    "- [X] Create interactomes\n",
    "    - [X] Interactomes without small molecules\n",
    "    - [X] Interactomes with small molecules\n",
    "- [ ] Show examples\n",
    "- [ ] Create some disease modules\n",
    "    - [X] Select multiform proteins\n",
    "    - [ ] Select diseases containing multiforms\n",
    "- [ ] A) Find pairs that overlap only with modified proteoforms\n",
    "- [ ] B) Find pairs that overlap at gene/protein level and not overlap at proteoform level\n",
    "    - [ ] Calculate overlap scores: node overlap, jaccard index, separation\n",
    "    - [ ] Make\n",
    "    - [ ] Plot overlap score distribution for all selected disease pairs\n",
    "    - [ ] Plot selected pairs"
   ],
   "metadata": {
    "collapsed": false,
    "pycharm": {
     "name": "#%% md\n"
    }
   }
  },
  {
   "cell_type": "markdown",
   "source": [
    "## Set up configuration"
   ],
   "metadata": {
    "collapsed": false,
    "pycharm": {
     "name": "#%% md\n"
    }
   }
  },
  {
   "cell_type": "code",
   "execution_count": null,
   "outputs": [],
   "source": [
    "import subprocess\n",
    "\n",
    "import matplotlib.pyplot as plt\n",
    "import numpy as np\n",
    "import pandas as pd\n",
    "import seaborn as sns\n",
    "from numpy.core.tests.test_einsum import sizes\n",
    "\n",
    "import config\n",
    "from config import LEVELS\n",
    "from datasets.phegeni.filter_genes import create_filtered_file\n",
    "from interactomes import get_interactome\n",
    "from lib.dictionaries import read_dictionary_one_to_set, merge_dictionaries\n",
    "from lib.download import download_if_not_exists\n",
    "from lib.graph_database import get_query_result\n",
    "from queries import QUERY_GET_NUM_PROTEOFORMS_PER_PROTEIN\n",
    "\n",
    "%load_ext autoreload\n",
    "%autoreload 2\n",
    "%reload_ext autoreload\n",
    "\n",
    "config.set_root_wd()"
   ],
   "metadata": {
    "collapsed": false,
    "pycharm": {
     "name": "#%% Set up configuration\n"
    }
   }
  },
  {
   "cell_type": "markdown",
   "source": [
    "## Create disease modules"
   ],
   "metadata": {
    "collapsed": false,
    "pycharm": {
     "name": "#%% md\n"
    }
   }
  },
  {
   "cell_type": "code",
   "execution_count": 60,
   "outputs": [
    {
     "name": "stdout",
     "output_type": "stream",
     "text": [
      "PheGenI files READY\n",
      "Jensen Lab files READY\n"
     ]
    }
   ],
   "source": [
    "# PheGenI Phenotypes\n",
    "download_if_not_exists(\"resources/PheGenI/\", \n",
    "                       \"PheGenI_Association.txt\", \n",
    "                       \"https://www.ncbi.nlm.nih.gov/projects/gap/eqtl/EpiViewBE.cgi?type=dl.tab\",\n",
    "                       \"PheGenI All_modules\")\n",
    "print(\"PheGenI files READY\")\n",
    "\n",
    "# Filter\n",
    "create_filtered_file(\"resources/PheGenI/PheGenI_Association.txt\",\n",
    "                     \"resources/PheGenI/PheGenI_Association_genome_wide_significant.txt\",\n",
    "                     5e-8)\n",
    "\n",
    "# Jensen Lab Diseases\n",
    "download_if_not_exists(\"resources/Jensen/\",\n",
    "                       \"human_disease_textmining_filtered.tsv\",\n",
    "                       \"http://download.jensenlab.org/human_disease_textmining_filtered.tsv\",\n",
    "                       \"Jensen Lab Diseases\")\n",
    "print(\"Jensen Lab files READY\")"
   ],
   "metadata": {
    "collapsed": false,
    "pycharm": {
     "name": "#%% Download data to create disease modules\n"
    }
   }
  },
  {
   "cell_type": "code",
   "execution_count": 61,
   "outputs": [
    {
     "data": {
      "text/plain": "     Protein                                        Proteoforms  \\\n0     P0CG48  [[P0CG48], [P0CG48, 00134:152], [P0CG48, 00134...   \n1     P68431  [[P68431], [P68431, 00046:11, 00047:12, 00064:...   \n2     Q71DI3  [[Q71DI3], [Q71DI3, 00046:11, 00047:12, 00064:...   \n3     P02452  [[P02452], [P02452, 00037:null], [P02452, 0003...   \n4     P08123  [[P08123], [P08123, 00037:null], [P08123, 0003...   \n...      ...                                                ...   \n1486  Q9Y6K1                   [[Q9Y6K1], [Q9Y6K1, 01149:null]]   \n1487  Q9Y6Q2                   [[Q9Y6Q2], [Q9Y6Q2, 01150:null]]   \n1488  Q9Y6Q9                    [[Q9Y6Q9], [Q9Y6Q9, 00046:857]]   \n1489  Q9Y6W8                [[Q9Y6W8-1], [Q9Y6W8-1, 00048:180]]   \n1490  Q9Y6Y9          [[Q9Y6Y9], [Q9Y6Y9, 00160:26, 00160:114]]   \n\n      NumProteoforms  \n0                 82  \n1                 52  \n2                 48  \n3                 36  \n4                 36  \n...              ...  \n1486               2  \n1487               2  \n1488               2  \n1489               2  \n1490               2  \n\n[1491 rows x 3 columns]",
      "text/html": "<div>\n<style scoped>\n    .dataframe tbody tr th:only-of-type {\n        vertical-align: middle;\n    }\n\n    .dataframe tbody tr th {\n        vertical-align: top;\n    }\n\n    .dataframe thead th {\n        text-align: right;\n    }\n</style>\n<table border=\"1\" class=\"dataframe\">\n  <thead>\n    <tr style=\"text-align: right;\">\n      <th></th>\n      <th>Protein</th>\n      <th>Proteoforms</th>\n      <th>NumProteoforms</th>\n    </tr>\n  </thead>\n  <tbody>\n    <tr>\n      <th>0</th>\n      <td>P0CG48</td>\n      <td>[[P0CG48], [P0CG48, 00134:152], [P0CG48, 00134...</td>\n      <td>82</td>\n    </tr>\n    <tr>\n      <th>1</th>\n      <td>P68431</td>\n      <td>[[P68431], [P68431, 00046:11, 00047:12, 00064:...</td>\n      <td>52</td>\n    </tr>\n    <tr>\n      <th>2</th>\n      <td>Q71DI3</td>\n      <td>[[Q71DI3], [Q71DI3, 00046:11, 00047:12, 00064:...</td>\n      <td>48</td>\n    </tr>\n    <tr>\n      <th>3</th>\n      <td>P02452</td>\n      <td>[[P02452], [P02452, 00037:null], [P02452, 0003...</td>\n      <td>36</td>\n    </tr>\n    <tr>\n      <th>4</th>\n      <td>P08123</td>\n      <td>[[P08123], [P08123, 00037:null], [P08123, 0003...</td>\n      <td>36</td>\n    </tr>\n    <tr>\n      <th>...</th>\n      <td>...</td>\n      <td>...</td>\n      <td>...</td>\n    </tr>\n    <tr>\n      <th>1486</th>\n      <td>Q9Y6K1</td>\n      <td>[[Q9Y6K1], [Q9Y6K1, 01149:null]]</td>\n      <td>2</td>\n    </tr>\n    <tr>\n      <th>1487</th>\n      <td>Q9Y6Q2</td>\n      <td>[[Q9Y6Q2], [Q9Y6Q2, 01150:null]]</td>\n      <td>2</td>\n    </tr>\n    <tr>\n      <th>1488</th>\n      <td>Q9Y6Q9</td>\n      <td>[[Q9Y6Q9], [Q9Y6Q9, 00046:857]]</td>\n      <td>2</td>\n    </tr>\n    <tr>\n      <th>1489</th>\n      <td>Q9Y6W8</td>\n      <td>[[Q9Y6W8-1], [Q9Y6W8-1, 00048:180]]</td>\n      <td>2</td>\n    </tr>\n    <tr>\n      <th>1490</th>\n      <td>Q9Y6Y9</td>\n      <td>[[Q9Y6Y9], [Q9Y6Y9, 00160:26, 00160:114]]</td>\n      <td>2</td>\n    </tr>\n  </tbody>\n</table>\n<p>1491 rows × 3 columns</p>\n</div>"
     },
     "execution_count": 61,
     "metadata": {},
     "output_type": "execute_result"
    }
   ],
   "source": [
    "query = QUERY_GET_NUM_PROTEOFORMS_PER_PROTEIN\n",
    "df = get_query_result(query)\n",
    "\n",
    "df"
   ],
   "metadata": {
    "collapsed": false,
    "pycharm": {
     "name": "#%% Get list of proteins with multiple proteoforms\n"
    }
   }
  },
  {
   "cell_type": "code",
   "execution_count": 62,
   "outputs": [
    {
     "data": {
      "text/plain": "            #                                           Trait    SNP rs  \\\n0           2  1-Alkyl-2-acetylglycerophosphocholine Esterase   7528419   \n1           3  1-Alkyl-2-acetylglycerophosphocholine Esterase  12740374   \n2           4  1-Alkyl-2-acetylglycerophosphocholine Esterase    599839   \n3           5  1-Alkyl-2-acetylglycerophosphocholine Esterase    600550   \n4           6  1-Alkyl-2-acetylglycerophosphocholine Esterase    964184   \n...       ...                                             ...       ...   \n30210  136499                           von Willebrand Factor   8176704   \n30211  136500                           von Willebrand Factor    687621   \n30212  136501                           von Willebrand Factor    643434   \n30213  136502                           von Willebrand Factor    505922   \n30214  136526                                     ziprasidone   1405687   \n\n          Context       Gene    Gene ID  Gene 2  Gene ID 2  Chromosome  \\\n0           UTR-3     CELSR2       1952  CELSR2       1952           1   \n1           UTR-3     CELSR2       1952  CELSR2       1952           1   \n2      nearGene-3      PSRC1      84722   PSRC1      84722           1   \n3          intron     MS4A4E     643680  MS4A4E     643680          11   \n4          intron       ZPR1       8882    ZPR1       8882          11   \n...           ...        ...        ...     ...        ...         ...   \n30210      intron        ABO         28     ABO         28           9   \n30211      intron        ABO         28     ABO         28           9   \n30212      intron        ABO         28     ABO         28           9   \n30213      intron        ABO         28     ABO         28           9   \n30214  intergenic  LINC01216  100874275  PPP3CA       5530           4   \n\n        Location  P-Value Source    PubMed  Analysis ID  Study ID Study Name  \n0      109274569     0.00  NHGRI  22003152            0       NaN        NaN  \n1      109274967     0.00  NHGRI  23118302            0       NaN        NaN  \n2      109279543     0.00  NHGRI  20442857            0       NaN        NaN  \n3       60230192     0.00  NHGRI  23118302            0       NaN        NaN  \n4      116778200     0.00  NHGRI  22003152            0       NaN        NaN  \n...          ...      ...    ...       ...          ...       ...        ...  \n30210  133260147     0.00  NHGRI  26486471            0       NaN        NaN  \n30211  133261661     0.00  NHGRI  20231535            0       NaN        NaN  \n30212  133266941     0.00  NHGRI  23381943            0       NaN        NaN  \n30213  133273812     0.00  NHGRI  23381943            0       NaN        NaN  \n30214  101010668     0.00  NHGRI  20195266            0       NaN        NaN  \n\n[30215 rows x 16 columns]",
      "text/html": "<div>\n<style scoped>\n    .dataframe tbody tr th:only-of-type {\n        vertical-align: middle;\n    }\n\n    .dataframe tbody tr th {\n        vertical-align: top;\n    }\n\n    .dataframe thead th {\n        text-align: right;\n    }\n</style>\n<table border=\"1\" class=\"dataframe\">\n  <thead>\n    <tr style=\"text-align: right;\">\n      <th></th>\n      <th>#</th>\n      <th>Trait</th>\n      <th>SNP rs</th>\n      <th>Context</th>\n      <th>Gene</th>\n      <th>Gene ID</th>\n      <th>Gene 2</th>\n      <th>Gene ID 2</th>\n      <th>Chromosome</th>\n      <th>Location</th>\n      <th>P-Value</th>\n      <th>Source</th>\n      <th>PubMed</th>\n      <th>Analysis ID</th>\n      <th>Study ID</th>\n      <th>Study Name</th>\n    </tr>\n  </thead>\n  <tbody>\n    <tr>\n      <th>0</th>\n      <td>2</td>\n      <td>1-Alkyl-2-acetylglycerophosphocholine Esterase</td>\n      <td>7528419</td>\n      <td>UTR-3</td>\n      <td>CELSR2</td>\n      <td>1952</td>\n      <td>CELSR2</td>\n      <td>1952</td>\n      <td>1</td>\n      <td>109274569</td>\n      <td>0.00</td>\n      <td>NHGRI</td>\n      <td>22003152</td>\n      <td>0</td>\n      <td>NaN</td>\n      <td>NaN</td>\n    </tr>\n    <tr>\n      <th>1</th>\n      <td>3</td>\n      <td>1-Alkyl-2-acetylglycerophosphocholine Esterase</td>\n      <td>12740374</td>\n      <td>UTR-3</td>\n      <td>CELSR2</td>\n      <td>1952</td>\n      <td>CELSR2</td>\n      <td>1952</td>\n      <td>1</td>\n      <td>109274967</td>\n      <td>0.00</td>\n      <td>NHGRI</td>\n      <td>23118302</td>\n      <td>0</td>\n      <td>NaN</td>\n      <td>NaN</td>\n    </tr>\n    <tr>\n      <th>2</th>\n      <td>4</td>\n      <td>1-Alkyl-2-acetylglycerophosphocholine Esterase</td>\n      <td>599839</td>\n      <td>nearGene-3</td>\n      <td>PSRC1</td>\n      <td>84722</td>\n      <td>PSRC1</td>\n      <td>84722</td>\n      <td>1</td>\n      <td>109279543</td>\n      <td>0.00</td>\n      <td>NHGRI</td>\n      <td>20442857</td>\n      <td>0</td>\n      <td>NaN</td>\n      <td>NaN</td>\n    </tr>\n    <tr>\n      <th>3</th>\n      <td>5</td>\n      <td>1-Alkyl-2-acetylglycerophosphocholine Esterase</td>\n      <td>600550</td>\n      <td>intron</td>\n      <td>MS4A4E</td>\n      <td>643680</td>\n      <td>MS4A4E</td>\n      <td>643680</td>\n      <td>11</td>\n      <td>60230192</td>\n      <td>0.00</td>\n      <td>NHGRI</td>\n      <td>23118302</td>\n      <td>0</td>\n      <td>NaN</td>\n      <td>NaN</td>\n    </tr>\n    <tr>\n      <th>4</th>\n      <td>6</td>\n      <td>1-Alkyl-2-acetylglycerophosphocholine Esterase</td>\n      <td>964184</td>\n      <td>intron</td>\n      <td>ZPR1</td>\n      <td>8882</td>\n      <td>ZPR1</td>\n      <td>8882</td>\n      <td>11</td>\n      <td>116778200</td>\n      <td>0.00</td>\n      <td>NHGRI</td>\n      <td>22003152</td>\n      <td>0</td>\n      <td>NaN</td>\n      <td>NaN</td>\n    </tr>\n    <tr>\n      <th>...</th>\n      <td>...</td>\n      <td>...</td>\n      <td>...</td>\n      <td>...</td>\n      <td>...</td>\n      <td>...</td>\n      <td>...</td>\n      <td>...</td>\n      <td>...</td>\n      <td>...</td>\n      <td>...</td>\n      <td>...</td>\n      <td>...</td>\n      <td>...</td>\n      <td>...</td>\n      <td>...</td>\n    </tr>\n    <tr>\n      <th>30210</th>\n      <td>136499</td>\n      <td>von Willebrand Factor</td>\n      <td>8176704</td>\n      <td>intron</td>\n      <td>ABO</td>\n      <td>28</td>\n      <td>ABO</td>\n      <td>28</td>\n      <td>9</td>\n      <td>133260147</td>\n      <td>0.00</td>\n      <td>NHGRI</td>\n      <td>26486471</td>\n      <td>0</td>\n      <td>NaN</td>\n      <td>NaN</td>\n    </tr>\n    <tr>\n      <th>30211</th>\n      <td>136500</td>\n      <td>von Willebrand Factor</td>\n      <td>687621</td>\n      <td>intron</td>\n      <td>ABO</td>\n      <td>28</td>\n      <td>ABO</td>\n      <td>28</td>\n      <td>9</td>\n      <td>133261661</td>\n      <td>0.00</td>\n      <td>NHGRI</td>\n      <td>20231535</td>\n      <td>0</td>\n      <td>NaN</td>\n      <td>NaN</td>\n    </tr>\n    <tr>\n      <th>30212</th>\n      <td>136501</td>\n      <td>von Willebrand Factor</td>\n      <td>643434</td>\n      <td>intron</td>\n      <td>ABO</td>\n      <td>28</td>\n      <td>ABO</td>\n      <td>28</td>\n      <td>9</td>\n      <td>133266941</td>\n      <td>0.00</td>\n      <td>NHGRI</td>\n      <td>23381943</td>\n      <td>0</td>\n      <td>NaN</td>\n      <td>NaN</td>\n    </tr>\n    <tr>\n      <th>30213</th>\n      <td>136502</td>\n      <td>von Willebrand Factor</td>\n      <td>505922</td>\n      <td>intron</td>\n      <td>ABO</td>\n      <td>28</td>\n      <td>ABO</td>\n      <td>28</td>\n      <td>9</td>\n      <td>133273812</td>\n      <td>0.00</td>\n      <td>NHGRI</td>\n      <td>23381943</td>\n      <td>0</td>\n      <td>NaN</td>\n      <td>NaN</td>\n    </tr>\n    <tr>\n      <th>30214</th>\n      <td>136526</td>\n      <td>ziprasidone</td>\n      <td>1405687</td>\n      <td>intergenic</td>\n      <td>LINC01216</td>\n      <td>100874275</td>\n      <td>PPP3CA</td>\n      <td>5530</td>\n      <td>4</td>\n      <td>101010668</td>\n      <td>0.00</td>\n      <td>NHGRI</td>\n      <td>20195266</td>\n      <td>0</td>\n      <td>NaN</td>\n      <td>NaN</td>\n    </tr>\n  </tbody>\n</table>\n<p>30215 rows × 16 columns</p>\n</div>"
     },
     "execution_count": 62,
     "metadata": {},
     "output_type": "execute_result"
    }
   ],
   "source": [
    "file_phegeni = \"resources/PheGenI/PheGenI_Association_genome_wide_significant.txt\"\n",
    "df_diseases = pd.read_csv(file_phegeni, sep=\"\\t\")\n",
    "df_diseases"
   ],
   "metadata": {
    "collapsed": false,
    "pycharm": {
     "name": "#%% Get list of diseases in which the selected proteins participate\n"
    }
   }
  },
  {
   "cell_type": "code",
   "execution_count": 63,
   "outputs": [
    {
     "name": "stdout",
     "output_type": "stream",
     "text": [
      "Got map of 873 diseases to genes\n"
     ]
    }
   ],
   "source": [
    "map_disease_to_genes1 = read_dictionary_one_to_set(\"resources/PheGenI/\", \"PheGenI_Association_genome_wide_significant.txt\", col_indices=(1, 4), ignore_header=True)\n",
    "map_disease_to_genes2 = read_dictionary_one_to_set(\"resources/PheGenI/\", \"PheGenI_Association_genome_wide_significant.txt\", col_indices=(1, 6), ignore_header=True)\n",
    "df_diseases.columns\n",
    "map_disease_to_genes = merge_dictionaries(map_disease_to_genes1, map_disease_to_genes2)\n",
    "#map_disease_to_genes\n",
    "print(f\"Got map of {len(map_disease_to_genes.keys())} diseases to genes\")"
   ],
   "metadata": {
    "collapsed": false,
    "pycharm": {
     "name": "#%% Get list of genes for each disease\n"
    }
   }
  },
  {
   "cell_type": "code",
   "execution_count": 76,
   "outputs": [
    {
     "data": {
      "text/plain": "                         Disease  Num Entity\n117              Body Mass Index  646  genes\n637      Platelet Function Tests  594  genes\n116                  Body Height  520  genes\n185             Cholesterol, HDL  391  genes\n109               Blood Pressure  331  genes\n..                           ...  ...    ...\n647              Premature Birth    1  genes\n165              Caudate Nucleus    1  genes\n169  Cerebral Amyloid Angiopathy    1  genes\n243                   Depression    1  genes\n174                    Cetuximab    1  genes\n\n[873 rows x 3 columns]",
      "text/html": "<div>\n<style scoped>\n    .dataframe tbody tr th:only-of-type {\n        vertical-align: middle;\n    }\n\n    .dataframe tbody tr th {\n        vertical-align: top;\n    }\n\n    .dataframe thead th {\n        text-align: right;\n    }\n</style>\n<table border=\"1\" class=\"dataframe\">\n  <thead>\n    <tr style=\"text-align: right;\">\n      <th></th>\n      <th>Disease</th>\n      <th>Num</th>\n      <th>Entity</th>\n    </tr>\n  </thead>\n  <tbody>\n    <tr>\n      <th>117</th>\n      <td>Body Mass Index</td>\n      <td>646</td>\n      <td>genes</td>\n    </tr>\n    <tr>\n      <th>637</th>\n      <td>Platelet Function Tests</td>\n      <td>594</td>\n      <td>genes</td>\n    </tr>\n    <tr>\n      <th>116</th>\n      <td>Body Height</td>\n      <td>520</td>\n      <td>genes</td>\n    </tr>\n    <tr>\n      <th>185</th>\n      <td>Cholesterol, HDL</td>\n      <td>391</td>\n      <td>genes</td>\n    </tr>\n    <tr>\n      <th>109</th>\n      <td>Blood Pressure</td>\n      <td>331</td>\n      <td>genes</td>\n    </tr>\n    <tr>\n      <th>...</th>\n      <td>...</td>\n      <td>...</td>\n      <td>...</td>\n    </tr>\n    <tr>\n      <th>647</th>\n      <td>Premature Birth</td>\n      <td>1</td>\n      <td>genes</td>\n    </tr>\n    <tr>\n      <th>165</th>\n      <td>Caudate Nucleus</td>\n      <td>1</td>\n      <td>genes</td>\n    </tr>\n    <tr>\n      <th>169</th>\n      <td>Cerebral Amyloid Angiopathy</td>\n      <td>1</td>\n      <td>genes</td>\n    </tr>\n    <tr>\n      <th>243</th>\n      <td>Depression</td>\n      <td>1</td>\n      <td>genes</td>\n    </tr>\n    <tr>\n      <th>174</th>\n      <td>Cetuximab</td>\n      <td>1</td>\n      <td>genes</td>\n    </tr>\n  </tbody>\n</table>\n<p>873 rows × 3 columns</p>\n</div>"
     },
     "execution_count": 76,
     "metadata": {},
     "output_type": "execute_result"
    }
   ],
   "source": [
    "df_disease_to_genes = pd.DataFrame(data=[(d, len(g)) for d, g in map_disease_to_genes.items()], columns=[\"Disease\", \"Num\"])\n",
    "df_disease_to_genes['Entity'] = config.genes\n",
    "df_disease_to_genes.sort_values([\"Num\"], ascending=False, inplace=True)\n",
    "df_disease_to_genes"
   ],
   "metadata": {
    "collapsed": false,
    "pycharm": {
     "name": "#%% Get number of genes per disease\n"
    }
   }
  },
  {
   "cell_type": "code",
   "execution_count": 77,
   "outputs": [
    {
     "data": {
      "text/plain": "<Figure size 432x288 with 1 Axes>",
      "image/png": "[encoded data removed]"
     },
     "metadata": {
      "needs_background": "light"
     },
     "output_type": "display_data"
    }
   ],
   "source": [
    "sns.violinplot(x=\"Entity\", y=\"Num\", data=df_disease_to_genes, color=\"0.8\")\n",
    "sns.stripplot(x=\"Entity\", y=\"Num\", data=df_disease_to_genes, jitter=True, zorder=1)\n",
    "plt.show()"
   ],
   "metadata": {
    "collapsed": false,
    "pycharm": {
     "name": "#%% Plot number of genes per disease\n"
    }
   }
  },
  {
   "cell_type": "code",
   "execution_count": 78,
   "outputs": [
    {
     "data": {
      "text/plain": "                         Disease  Num Entity\n172          Cerebrospinal Fluid   99  genes\n323                   Fibrinogen   95  genes\n549           Multiple Sclerosis   92  genes\n220                   Creatinine   92  genes\n504         Macular Degeneration   90  genes\n..                           ...  ...    ...\n647              Premature Birth    1  genes\n165              Caudate Nucleus    1  genes\n169  Cerebral Amyloid Angiopathy    1  genes\n243                   Depression    1  genes\n174                    Cetuximab    1  genes\n\n[827 rows x 3 columns]",
      "text/html": "<div>\n<style scoped>\n    .dataframe tbody tr th:only-of-type {\n        vertical-align: middle;\n    }\n\n    .dataframe tbody tr th {\n        vertical-align: top;\n    }\n\n    .dataframe thead th {\n        text-align: right;\n    }\n</style>\n<table border=\"1\" class=\"dataframe\">\n  <thead>\n    <tr style=\"text-align: right;\">\n      <th></th>\n      <th>Disease</th>\n      <th>Num</th>\n      <th>Entity</th>\n    </tr>\n  </thead>\n  <tbody>\n    <tr>\n      <th>172</th>\n      <td>Cerebrospinal Fluid</td>\n      <td>99</td>\n      <td>genes</td>\n    </tr>\n    <tr>\n      <th>323</th>\n      <td>Fibrinogen</td>\n      <td>95</td>\n      <td>genes</td>\n    </tr>\n    <tr>\n      <th>549</th>\n      <td>Multiple Sclerosis</td>\n      <td>92</td>\n      <td>genes</td>\n    </tr>\n    <tr>\n      <th>220</th>\n      <td>Creatinine</td>\n      <td>92</td>\n      <td>genes</td>\n    </tr>\n    <tr>\n      <th>504</th>\n      <td>Macular Degeneration</td>\n      <td>90</td>\n      <td>genes</td>\n    </tr>\n    <tr>\n      <th>...</th>\n      <td>...</td>\n      <td>...</td>\n      <td>...</td>\n    </tr>\n    <tr>\n      <th>647</th>\n      <td>Premature Birth</td>\n      <td>1</td>\n      <td>genes</td>\n    </tr>\n    <tr>\n      <th>165</th>\n      <td>Caudate Nucleus</td>\n      <td>1</td>\n      <td>genes</td>\n    </tr>\n    <tr>\n      <th>169</th>\n      <td>Cerebral Amyloid Angiopathy</td>\n      <td>1</td>\n      <td>genes</td>\n    </tr>\n    <tr>\n      <th>243</th>\n      <td>Depression</td>\n      <td>1</td>\n      <td>genes</td>\n    </tr>\n    <tr>\n      <th>174</th>\n      <td>Cetuximab</td>\n      <td>1</td>\n      <td>genes</td>\n    </tr>\n  </tbody>\n</table>\n<p>827 rows × 3 columns</p>\n</div>"
     },
     "execution_count": 78,
     "metadata": {},
     "output_type": "execute_result"
    }
   ],
   "source": [
    "df_disease_to_genes = df_disease_to_genes[df_disease_to_genes['Num']<=100]\n",
    "df_disease_to_genes"
   ],
   "metadata": {
    "collapsed": false,
    "pycharm": {
     "name": "#%% Filter: Remove diseases with too many genes\n"
    }
   }
  },
  {
   "cell_type": "code",
   "execution_count": 79,
   "outputs": [
    {
     "data": {
      "text/plain": "          Genes  NumProteins\n830       HLA-B           36\n831       HLA-A           21\n833       HLA-C           14\n3765   HLA-DRB1           13\n4551      KIF5C            2\n...         ...          ...\n3665       TLE3            1\n3666       TLE4            1\n3667       TLE1            1\n3668      KMT2D            1\n10967   EMILIN2            1\n\n[10968 rows x 2 columns]",
      "text/html": "<div>\n<style scoped>\n    .dataframe tbody tr th:only-of-type {\n        vertical-align: middle;\n    }\n\n    .dataframe tbody tr th {\n        vertical-align: top;\n    }\n\n    .dataframe thead th {\n        text-align: right;\n    }\n</style>\n<table border=\"1\" class=\"dataframe\">\n  <thead>\n    <tr style=\"text-align: right;\">\n      <th></th>\n      <th>Genes</th>\n      <th>NumProteins</th>\n    </tr>\n  </thead>\n  <tbody>\n    <tr>\n      <th>830</th>\n      <td>HLA-B</td>\n      <td>36</td>\n    </tr>\n    <tr>\n      <th>831</th>\n      <td>HLA-A</td>\n      <td>21</td>\n    </tr>\n    <tr>\n      <th>833</th>\n      <td>HLA-C</td>\n      <td>14</td>\n    </tr>\n    <tr>\n      <th>3765</th>\n      <td>HLA-DRB1</td>\n      <td>13</td>\n    </tr>\n    <tr>\n      <th>4551</th>\n      <td>KIF5C</td>\n      <td>2</td>\n    </tr>\n    <tr>\n      <th>...</th>\n      <td>...</td>\n      <td>...</td>\n    </tr>\n    <tr>\n      <th>3665</th>\n      <td>TLE3</td>\n      <td>1</td>\n    </tr>\n    <tr>\n      <th>3666</th>\n      <td>TLE4</td>\n      <td>1</td>\n    </tr>\n    <tr>\n      <th>3667</th>\n      <td>TLE1</td>\n      <td>1</td>\n    </tr>\n    <tr>\n      <th>3668</th>\n      <td>KMT2D</td>\n      <td>1</td>\n    </tr>\n    <tr>\n      <th>10967</th>\n      <td>EMILIN2</td>\n      <td>1</td>\n    </tr>\n  </tbody>\n</table>\n<p>10968 rows × 2 columns</p>\n</div>"
     },
     "execution_count": 79,
     "metadata": {},
     "output_type": "execute_result"
    }
   ],
   "source": [
    "map_genes_to_proteins = read_dictionary_one_to_set(config.GRAPHS_PATH, \"mapping_proteins_to_genes.tsv\", col_indices=(1, 0))\n",
    "df_genes_to_proteins = pd.DataFrame(data=[(g,len(ps)) for g, ps in map_genes_to_proteins.items()], columns=[\"Genes\", \"NumProteins\"])\n",
    "df_genes_to_proteins.sort_values([\"NumProteins\"], ascending=False, inplace=True)\n",
    "df_genes_to_proteins"
   ],
   "metadata": {
    "collapsed": false,
    "pycharm": {
     "name": "#%% Get the map to convert genes to proteins\n"
    }
   }
  },
  {
   "cell_type": "code",
   "execution_count": 80,
   "outputs": [
    {
     "data": {
      "text/plain": "<Figure size 432x288 with 1 Axes>",
      "image/png": "[encoded data removed]"
     },
     "metadata": {
      "needs_background": "light"
     },
     "output_type": "display_data"
    }
   ],
   "source": [
    "genes_arr=[\"Genes\"]*len(df_genes_to_proteins)\n",
    "sns.violinplot(x=df_genes_to_proteins[\"NumProteins\"], color=\"0.8\")\n",
    "sns.stripplot(x=df_genes_to_proteins[\"NumProteins\"], jitter=True, zorder=1)\n",
    "plt.show()"
   ],
   "metadata": {
    "collapsed": false,
    "pycharm": {
     "name": "#%% Plot proteins per gene\n"
    }
   }
  },
  {
   "cell_type": "code",
   "execution_count": 84,
   "outputs": [
    {
     "name": "stdout",
     "output_type": "stream",
     "text": [
      "Diseases to delete: \n",
      "\n",
      " {'Lupus Erythematosus, Systemic', 'Immunoglobulin E', 'Glomerulonephritis, Membranous', 'Pulmonary Disease, Chronic Obstructive', 'Dermatitis, Atopic', 'Carcinoma, Basal Cell', 'Monocytes', 'Proteins', 'Lymphocytes', 'Agranulocytosis', 'Hepatitis B, Chronic', 'Lymphoma, Large B-Cell, Diffuse', 'Triglycerides', 'Lymphoma', 'Uveomeningoencephalitic Syndrome', 'Arthritis, Psoriatic', 'Menarche', 'Staphylococcus', 'Vitiligo', 'Staphylococcus aureus', 'Antibodies', 'Glomerulonephritis, IGA', 'Schizophrenia', 'Drug Hypersensitivity Syndrome', 'Coronary Disease', 'Lymphocyte Count', 'Psoriasis', 'Breast Neoplasms', 'Platelet Count', 'Thyroid Hormones', 'Parkinson Disease', 'Tonsillectomy', 'Pulmonary Surfactant-Associated Protein D', 'Uterine Cervical Neoplasms', 'beta 2-Microglobulin', 'Leishmaniasis, Visceral', 'Hodgkin Disease', 'Cholesterol, LDL', 'Leukemia, Lymphocytic, Chronic, B-Cell', 'Colitis, Ulcerative', 'Leukocytes', 'Diabetes Mellitus, Type 1', 'Carcinoma, Hepatocellular', 'C-Reactive Protein', 'Inflammatory Bowel Diseases', 'Epstein-Barr Virus Infections', 'Narcolepsy', 'Nasopharyngeal Neoplasms', 'Oligoclonal Bands', 'Alzheimer Disease', 'Vaccine Potency', 'Cholesterol', 'Epstein-Barr Virus Nuclear Antigens', 'Anti-Neutrophil Cytoplasmic Antibody-Associated Vasculitis', 'Interferon-beta', 'Thioamides', \"Sjogren's Syndrome\", 'Liver Cirrhosis, Biliary', 'HIV-1', 'Hepatitis C, Chronic', 'Body Height', 'Leprosy', 'Otitis', 'Multiple Sclerosis', 'Immunoglobulin G', 'Cryoglobulinemia', 'Arthritis, Rheumatoid', 'Behcet Syndrome', 'Asthma', 'Crohn Disease', 'Scleroderma, Systemic'}\n"
     ]
    },
    {
     "data": {
      "text/plain": "                             Disease  Num Entity\n172              Cerebrospinal Fluid   99  genes\n323                       Fibrinogen   95  genes\n220                       Creatinine   92  genes\n504             Macular Degeneration   90  genes\n424  Influenza A Virus, H1N1 Subtype   89  genes\n..                               ...  ...    ...\n647                  Premature Birth    1  genes\n165                  Caudate Nucleus    1  genes\n169      Cerebral Amyloid Angiopathy    1  genes\n243                       Depression    1  genes\n174                        Cetuximab    1  genes\n\n[774 rows x 3 columns]",
      "text/html": "<div>\n<style scoped>\n    .dataframe tbody tr th:only-of-type {\n        vertical-align: middle;\n    }\n\n    .dataframe tbody tr th {\n        vertical-align: top;\n    }\n\n    .dataframe thead th {\n        text-align: right;\n    }\n</style>\n<table border=\"1\" class=\"dataframe\">\n  <thead>\n    <tr style=\"text-align: right;\">\n      <th></th>\n      <th>Disease</th>\n      <th>Num</th>\n      <th>Entity</th>\n    </tr>\n  </thead>\n  <tbody>\n    <tr>\n      <th>172</th>\n      <td>Cerebrospinal Fluid</td>\n      <td>99</td>\n      <td>genes</td>\n    </tr>\n    <tr>\n      <th>323</th>\n      <td>Fibrinogen</td>\n      <td>95</td>\n      <td>genes</td>\n    </tr>\n    <tr>\n      <th>220</th>\n      <td>Creatinine</td>\n      <td>92</td>\n      <td>genes</td>\n    </tr>\n    <tr>\n      <th>504</th>\n      <td>Macular Degeneration</td>\n      <td>90</td>\n      <td>genes</td>\n    </tr>\n    <tr>\n      <th>424</th>\n      <td>Influenza A Virus, H1N1 Subtype</td>\n      <td>89</td>\n      <td>genes</td>\n    </tr>\n    <tr>\n      <th>...</th>\n      <td>...</td>\n      <td>...</td>\n      <td>...</td>\n    </tr>\n    <tr>\n      <th>647</th>\n      <td>Premature Birth</td>\n      <td>1</td>\n      <td>genes</td>\n    </tr>\n    <tr>\n      <th>165</th>\n      <td>Caudate Nucleus</td>\n      <td>1</td>\n      <td>genes</td>\n    </tr>\n    <tr>\n      <th>169</th>\n      <td>Cerebral Amyloid Angiopathy</td>\n      <td>1</td>\n      <td>genes</td>\n    </tr>\n    <tr>\n      <th>243</th>\n      <td>Depression</td>\n      <td>1</td>\n      <td>genes</td>\n    </tr>\n    <tr>\n      <th>174</th>\n      <td>Cetuximab</td>\n      <td>1</td>\n      <td>genes</td>\n    </tr>\n  </tbody>\n</table>\n<p>774 rows × 3 columns</p>\n</div>"
     },
     "execution_count": 84,
     "metadata": {},
     "output_type": "execute_result"
    }
   ],
   "source": [
    "filter_genes = df_genes_to_proteins[df_genes_to_proteins[\"NumProteins\"] > 5]\n",
    "filter_genes = set(filter_genes['Genes'])\n",
    "filter_diseases = set()\n",
    "for d, gs in map_disease_to_genes.items():\n",
    "    if bool(gs & filter_genes):\n",
    "        filter_diseases.add(d)\n",
    "print(f\"Diseases to delete: \\n\\n {filter_diseases}\")\n",
    "df_sel_diseases = df_disease_to_genes[~df_disease_to_genes['Disease'].isin(filter_diseases)]\n",
    "df_sel_diseases\n"
   ],
   "metadata": {
    "collapsed": false,
    "pycharm": {
     "name": "#%% Filter: Remove diseases which contain genes that map to too many proteins\n"
    }
   }
  },
  {
   "cell_type": "code",
   "execution_count": 87,
   "outputs": [
    {
     "data": {
      "text/plain": "{'Cerebrospinal Fluid': {'O15041',\n  'O15389',\n  'O60333',\n  'O95619',\n  'O95644',\n  'P01019',\n  'P02649',\n  'P04196',\n  'P06734',\n  'P08887',\n  'P09619',\n  'P10643',\n  'P10768',\n  'P12318',\n  'P15848',\n  'P17213',\n  'P20138',\n  'P28223',\n  'P30740',\n  'P36222',\n  'P48357',\n  'P68402',\n  'Q02083',\n  'Q02246',\n  'Q10588',\n  'Q13093',\n  'Q13231',\n  'Q13478',\n  'Q14134',\n  'Q14956',\n  'Q16610',\n  'Q29980',\n  'Q29983',\n  'Q6UWB1',\n  'Q6UX06',\n  'Q6UXX9',\n  'Q8N4E7',\n  'Q8NEC5',\n  'Q8NFM7',\n  'Q96N96',\n  'Q9BW92',\n  'Q9BXR6',\n  'Q9HD89',\n  'Q9HDB5',\n  'Q9NR71',\n  'Q9NZ08',\n  'Q9UHL4',\n  'Q9UI12',\n  'Q9Y336',\n  'Q9Y4C0',\n  'Q9Y4H4'},\n 'Fibrinogen': {'O43660',\n  'O76082',\n  'O94887',\n  'O95237',\n  'O95271',\n  'P01042',\n  'P02671',\n  'P02675',\n  'P02679',\n  'P03951',\n  'P05113',\n  'P05166',\n  'P08887',\n  'P10914',\n  'P14778',\n  'P15289',\n  'P18510',\n  'P20807',\n  'P25116',\n  'P31327',\n  'P38571',\n  'P41235',\n  'P48357',\n  'P51148',\n  'P56880',\n  'Q00341',\n  'Q02127',\n  'Q04756',\n  'Q07343',\n  'Q07352',\n  'Q10471',\n  'Q12791',\n  'Q14554',\n  'Q15149',\n  'Q15652',\n  'Q3L8U1',\n  'Q49A17',\n  'Q5VZE5',\n  'Q6JQN1',\n  'Q8NBK3',\n  'Q8NBN3',\n  'Q8TCT8',\n  'Q8TDQ1',\n  'Q8WWZ1',\n  'Q96AX2',\n  'Q96P20',\n  'Q96SW2',\n  'Q9BWP8',\n  'Q9BYB0',\n  'Q9BZH6',\n  'Q9H015',\n  'Q9HBY0',\n  'Q9P0U1',\n  'Q9UQQ2'},\n 'Creatinine': {'O00462',\n  'O00755',\n  'O14986',\n  'O15244',\n  'O43868',\n  'O95644',\n  'P07911',\n  'P12757',\n  'P15692',\n  'P16444',\n  'P23771',\n  'P43146',\n  'P50440',\n  'P51787',\n  'P55211',\n  'P82251',\n  'P98082',\n  'P98164',\n  'Q06495',\n  'Q07973',\n  'Q13698',\n  'Q14188',\n  'Q14397',\n  'Q14831',\n  'Q15465',\n  'Q86SQ7',\n  'Q8TCU4',\n  'Q8WVN8',\n  'Q92499',\n  'Q96FL8',\n  'Q96G23',\n  'Q96IG2',\n  'Q96PY5',\n  'Q96ST8',\n  'Q9BXS1',\n  'Q9H490',\n  'Q9HD42',\n  'Q9NQ94',\n  'Q9NSD5',\n  'Q9UGJ0',\n  'Q9UHE5',\n  'Q9ULG1',\n  'Q9Y231'},\n 'Macular Degeneration': {'O00220',\n  'O14994',\n  'O15315',\n  'O43175',\n  'O95477',\n  'O95907',\n  'P00751',\n  'P01024',\n  'P02649',\n  'P02654',\n  'P02748',\n  'P04083',\n  'P05156',\n  'P05160',\n  'P06681',\n  'P08603',\n  'P11150',\n  'P11597',\n  'P14780',\n  'P15692',\n  'P16471',\n  'P18615',\n  'P22105',\n  'P27658',\n  'P31327',\n  'P36897',\n  'P36980',\n  'P42685',\n  'P51993',\n  'Q01955',\n  'Q03591',\n  'Q03692',\n  'Q13127',\n  'Q15011',\n  'Q15477',\n  'Q5T5U3',\n  'Q6GPI1',\n  'Q6JQN1',\n  'Q6Y288',\n  'Q8TAT6',\n  'Q92496',\n  'Q92743',\n  'Q92753',\n  'Q92781',\n  'Q99439',\n  'Q99466',\n  'Q99942',\n  'Q99943',\n  'Q9BXR6',\n  'Q9BZM1',\n  'Q9H553',\n  'Q9HB21',\n  'Q9HCF6',\n  'Q9UKJ1'},\n 'Influenza A Virus, H1N1 Subtype': {'A0FGR8',\n  'O00451',\n  'O15078',\n  'O43184',\n  'O75030',\n  'O95573',\n  'P01906',\n  'P11532',\n  'P14780',\n  'P15056',\n  'P18507',\n  'P35869',\n  'P48426',\n  'P51793',\n  'P52594',\n  'P61328',\n  'Q14186',\n  'Q14980',\n  'Q15700',\n  'Q17RR3',\n  'Q5SSG8',\n  'Q6UWR7',\n  'Q7Z698',\n  'Q86UE6',\n  'Q8IW52',\n  'Q8NE71',\n  'Q8WUM4',\n  'Q8WZ64',\n  'Q9BSJ2',\n  'Q9BYX2',\n  'Q9H7S9',\n  'Q9NR34',\n  'Q9NS87',\n  'Q9UBN4'},\n 'Optic Disk': {'O43301',\n  'O43653',\n  'O75369',\n  'O75911',\n  'O96017',\n  'P12259',\n  'P12643',\n  'P13611',\n  'P27658',\n  'P28562',\n  'P35813',\n  'P42772',\n  'Q00587',\n  'Q12805',\n  'Q14974',\n  'Q16518',\n  'Q16880',\n  'Q17RY6',\n  'Q5FYB0',\n  'Q5VT25',\n  'Q8NEL9',\n  'Q96EB1',\n  'Q96KP1',\n  'Q9H2D6',\n  'Q9H2J7',\n  'Q9H672',\n  'Q9P212',\n  'Q9UP79',\n  'Q9Y6T7'},\n 'Hematocrit': {'O00476',\n  'O14490',\n  'O14788',\n  'O60427',\n  'O94805',\n  'P02654',\n  'P04035',\n  'P04114',\n  'P06858',\n  'P10071',\n  'P10242',\n  'P10721',\n  'P11150',\n  'P11413',\n  'P11597',\n  'P16234',\n  'P16442',\n  'P19174',\n  'P19367',\n  'P19838',\n  'P54753',\n  'P82932',\n  'Q02156',\n  'Q12882',\n  'Q13572',\n  'Q13936',\n  'Q14397',\n  'Q14916',\n  'Q15011',\n  'Q15911',\n  'Q30201',\n  'Q7Z569',\n  'Q8IU80',\n  'Q8IWZ8',\n  'Q8TDX5',\n  'Q96JK9',\n  'Q96RU8',\n  'Q99726',\n  'Q9BQK8',\n  'Q9C0B1',\n  'Q9C0K1',\n  'Q9NQB0',\n  'Q9P283',\n  'Q9UBT6',\n  'Q9UGJ0',\n  'Q9UHY1',\n  'Q9UIG0',\n  'Q9UP52'},\n 'Uric Acid': {'O00476',\n  'O15117',\n  'O43169',\n  'O43301',\n  'O43929',\n  'O75083',\n  'O75444',\n  'O76003',\n  'O95971',\n  'P08069',\n  'P10070',\n  'P15692',\n  'P21757',\n  'P22362',\n  'P25100',\n  'P41182',\n  'P42685',\n  'P55103',\n  'P58401',\n  'P80108',\n  'P98164',\n  'Q13563',\n  'Q14397',\n  'Q14541',\n  'Q14916',\n  'Q15637',\n  'Q15849',\n  'Q7Z4K8',\n  'Q8N1W1',\n  'Q8NFY9',\n  'Q8TF09',\n  'Q8WVN8',\n  'Q96AA3',\n  'Q96S37',\n  'Q9BXY4',\n  'Q9NQ94',\n  'Q9NRM0',\n  'Q9NSA0',\n  'Q9P2S2',\n  'Q9UGJ0',\n  'Q9UIG0',\n  'Q9UNQ0'},\n 'Obesity': {'O60266',\n  'O60503',\n  'O60656',\n  'O75444',\n  'P14651',\n  'P19087',\n  'P19224',\n  'P22309',\n  'P22310',\n  'P23560',\n  'P24723',\n  'P32245',\n  'P35503',\n  'P35504',\n  'P48357',\n  'P48546',\n  'P49619',\n  'Q02548',\n  'Q12791',\n  'Q13163',\n  'Q14397',\n  'Q14541',\n  'Q6VY07',\n  'Q7Z5W3',\n  'Q8IYH5',\n  'Q8IZP7',\n  'Q8N122',\n  'Q8N3J6',\n  'Q8TF09',\n  'Q92481',\n  'Q96JE7',\n  'Q9C0B1',\n  'Q9HAW7',\n  'Q9HAW8',\n  'Q9HAW9',\n  'Q9HDB5',\n  'Q9NRF2',\n  'Q9NRM0',\n  'Q9Y4C0'},\n 'Celiac Disease': {'O75144',\n  'O95150',\n  'P01344',\n  'P01589',\n  'P01909',\n  'P08567',\n  'P14921',\n  'P16278',\n  'P17706',\n  'P21580',\n  'P32246',\n  'P32321',\n  'P35368',\n  'P35408',\n  'P51677',\n  'P51679',\n  'P51687',\n  'P51828',\n  'P60568',\n  'P84022',\n  'Q08116',\n  'Q10981',\n  'Q13478',\n  'Q14118',\n  'Q15262',\n  'Q2M1Z3',\n  'Q2M5E4',\n  'Q5S007',\n  'Q5VWK5',\n  'Q676U5',\n  'Q6AI14',\n  'Q8N103',\n  'Q96A46',\n  'Q96E14',\n  'Q99466',\n  'Q9H257',\n  'Q9HBE4',\n  'Q9Y6W8'},\n 'Bronchodilator Agents': {'A2RU49',\n  'O00222',\n  'O94988',\n  'P01009',\n  'P02724',\n  'P08254',\n  'P09172',\n  'P11509',\n  'P14921',\n  'P16455',\n  'P19022',\n  'P20853',\n  'P25789',\n  'P30532',\n  'P30926',\n  'P32297',\n  'P39900',\n  'P40126',\n  'P45452',\n  'P47900',\n  'P48200',\n  'P51965',\n  'P55290',\n  'P61812',\n  'Q00169',\n  'Q08AN1',\n  'Q15700',\n  'Q6VAB6',\n  'Q7Z553',\n  'Q8N883',\n  'Q8NEM0',\n  'Q8TB24',\n  'Q96L21',\n  'Q96LR5',\n  'Q9H7D0',\n  'Q9NZL9',\n  'Q9UK55',\n  'Q9UKL4',\n  'Q9UKP4',\n  'Q9UPX8',\n  'Q9Y3R0',\n  'Q9Y575'},\n 'Hemoglobins': {'O00222',\n  'O14925',\n  'O94805',\n  'P02042',\n  'P02100',\n  'P05091',\n  'P08575',\n  'P09884',\n  'P0C646',\n  'P10242',\n  'P10721',\n  'P10828',\n  'P10911',\n  'P11413',\n  'P16234',\n  'P16442',\n  'P19367',\n  'P19971',\n  'P30281',\n  'P68871',\n  'P69891',\n  'P69892',\n  'P69905',\n  'Q02156',\n  'Q12980',\n  'Q30201',\n  'Q7Z401',\n  'Q7Z569',\n  'Q8IU80',\n  'Q8IWV2',\n  'Q8NGK1',\n  'Q8NH87',\n  'Q8WWG1',\n  'Q96AV8',\n  'Q96LB4',\n  'Q99967',\n  'Q9H211',\n  'Q9H2C8',\n  'Q9H341',\n  'Q9UGJ0',\n  'Q9UP52',\n  'Q9UPR3',\n  'Q9UQQ2',\n  'Q9Y2P8',\n  'Q9Y2W6',\n  'Q9Y666',\n  'Q9Y6K9'},\n 'Lipoproteins, VLDL': {'O15439',\n  'O43903',\n  'P47870',\n  'P49454',\n  'P50135',\n  'P78317',\n  'Q02094',\n  'Q08289',\n  'Q13002',\n  'Q16445',\n  'Q86SS6',\n  'Q86WA6',\n  'Q8IWV2',\n  'Q8N3A8',\n  'Q8N5Z0',\n  'Q8NBK3',\n  'Q96P63',\n  'Q96SW2',\n  'Q9BPZ7',\n  'Q9GZS9',\n  'Q9GZX3',\n  'Q9HD67',\n  'Q9P267',\n  'Q9UIV8',\n  'Q9UNG2',\n  'Q9UQ90',\n  'Q9Y2F5'},\n 'Alopecia': {'O00305',\n  'O75486',\n  'O75886',\n  'O95926',\n  'P05386',\n  'P10275',\n  'P12034',\n  'P18846',\n  'P82650',\n  'Q01196',\n  'Q13901',\n  'Q14571',\n  'Q15306',\n  'Q15849',\n  'Q5VZM2',\n  'Q6YHU6',\n  'Q7Z3B3',\n  'Q8WVJ9',\n  'Q8WXX7',\n  'Q92667',\n  'Q96DH6',\n  'Q9BXA5',\n  'Q9BXY4',\n  'Q9GZT5',\n  'Q9HAV5',\n  'Q9UBU2',\n  'Q9UH73',\n  'Q9UKV0',\n  'Q9UNE0'},\n 'Age of Onset': {'O43426',\n  'O75691',\n  'P00488',\n  'P01909',\n  'P01920',\n  'P02654',\n  'P09493',\n  'P14410',\n  'P25874',\n  'P28222',\n  'P33176',\n  'P41586',\n  'P47869',\n  'P56975',\n  'Q14541',\n  'Q66K46',\n  'Q6ZUX7',\n  'Q8NB78',\n  'Q8WV24',\n  'Q99743',\n  'Q9BYT9',\n  'Q9BZF3',\n  'Q9H7S9',\n  'Q9NWB1',\n  'Q9NZM3'},\n 'Arterial Pressure': {'A6NI28',\n  'O00476',\n  'O14649',\n  'O43318',\n  'P01019',\n  'P04798',\n  'P05091',\n  'P05093',\n  'P05177',\n  'P07332',\n  'P08588',\n  'P09958',\n  'P12034',\n  'P20020',\n  'P34949',\n  'P35908',\n  'P41240',\n  'P42898',\n  'P49902',\n  'Q03112',\n  'Q06124',\n  'Q08289',\n  'Q14654',\n  'Q14865',\n  'Q30201',\n  'Q3MIN7',\n  'Q5HYJ1',\n  'Q6PHR2',\n  'Q7Z569',\n  'Q8NBF2',\n  'Q8NEE6',\n  'Q96G01',\n  'Q9C0K1',\n  'Q9HBK9',\n  'Q9UQQ2',\n  'Q9Y6M7'},\n 'Chin': {'O15085',\n  'O43508',\n  'O75431',\n  'O75486',\n  'P11226',\n  'P35548',\n  'P49767',\n  'P52926',\n  'P61009',\n  'Q02297',\n  'Q13444',\n  'Q53QZ3',\n  'Q8N1W1',\n  'Q96PD6',\n  'Q99502',\n  'Q9H672',\n  'Q9NSD9',\n  'Q9UNE0',\n  'Q9UPW6',\n  'Q9UPY3'},\n 'Bipolar Disorder': {'O00443',\n  'O14594',\n  'O43323',\n  'O43353',\n  'O75348',\n  'O95864',\n  'P04626',\n  'P23142',\n  'P49902',\n  'Q06033',\n  'Q08289',\n  'Q08462',\n  'Q12899',\n  'Q12955',\n  'Q13936',\n  'Q14938',\n  'Q6UQ28',\n  'Q86SQ7',\n  'Q86XP1',\n  'Q86YC2',\n  'Q8NF91',\n  'Q9H0V9',\n  'Q9HBK9',\n  'Q9NQB0',\n  'Q9NVH2',\n  'Q9UEY8',\n  'Q9Y233',\n  'Q9Y6D9'},\n 'Forced Expiratory Volume': {'A2RU49',\n  'O94929',\n  'O94988',\n  'O95084',\n  'P01920',\n  'P02724',\n  'P09172',\n  'P11509',\n  'P25789',\n  'P30532',\n  'P30926',\n  'P32297',\n  'P40126',\n  'P42568',\n  'P47900',\n  'P48200',\n  'P55290',\n  'P61812',\n  'Q00169',\n  'Q03112',\n  'Q08499',\n  'Q13639',\n  'Q15465',\n  'Q16798',\n  'Q7Z3B3',\n  'Q86SQ4',\n  'Q8IXL7',\n  'Q96CB8',\n  'Q9BRR0',\n  'Q9UKL4',\n  'Q9UPX8'},\n 'Autosomal dominant compelling helio ophthalmic outburst syndrome': {'P42685',\n  'P56975',\n  'P62508',\n  'Q7Z6J0',\n  'Q8N4N8',\n  'Q8WXX7',\n  'Q96PU8',\n  'Q96SN8',\n  'Q9BYT9',\n  'Q9NWB1'},\n 'Eyebrows': {'O43181',\n  'O75197',\n  'O75431',\n  'O75486',\n  'O75626',\n  'O95714',\n  'P11226',\n  'P11487',\n  'P12034',\n  'P18075',\n  'P23760',\n  'P42858',\n  'P48431',\n  'Q13635',\n  'Q15306',\n  'Q5H9R7',\n  'Q5TB80',\n  'Q5XXA6',\n  'Q68CQ4',\n  'Q8NFF2',\n  'Q8WXX7',\n  'Q92838',\n  'Q9H1Y0',\n  'Q9NYQ3',\n  'Q9UKV0',\n  'Q9UMX9',\n  'Q9UNE0',\n  'Q9Y5U4'},\n 'Lipids': {'O15072',\n  'O60427',\n  'O95477',\n  'O96008',\n  'P01130',\n  'P02649',\n  'P02654',\n  'P04083',\n  'P04114',\n  'P06858',\n  'P08637',\n  'P11597',\n  'P51532',\n  'P51589',\n  'P55058',\n  'Q02080',\n  'Q06124',\n  'Q14397',\n  'Q15011',\n  'Q6Q788',\n  'Q7Z553',\n  'Q8N4C8',\n  'Q8N4N8',\n  'Q8WWC4',\n  'Q92753',\n  'Q96N67',\n  'Q96RU8',\n  'Q9H221',\n  'Q9NP71',\n  'Q9NYV6',\n  'Q9P121',\n  'Q9UPU5',\n  'Q9Y5X9'},\n 'Migraine Disorders': {'O14786',\n  'O43353',\n  'O94874',\n  'O95279',\n  'P01138',\n  'P08631',\n  'P10767',\n  'P17302',\n  'P37173',\n  'P46937',\n  'Q07954',\n  'Q13127',\n  'Q14642',\n  'Q14814',\n  'Q63HN8',\n  'Q6UY14',\n  'Q7Z2W7',\n  'Q8N1I0',\n  'Q8NCD3',\n  'Q8NEX9',\n  'Q8WWQ2',\n  'Q9BX67',\n  'Q9C000',\n  'Q9GZL7',\n  'Q9GZV9',\n  'Q9HAZ2',\n  'Q9HC58',\n  'Q9P212',\n  'Q9UBP5',\n  'Q9UIG0',\n  'Q9Y231'},\n 'Myopia': {'O14929',\n  'O43508',\n  'P10828',\n  'P12109',\n  'P16520',\n  'P24043',\n  'P24928',\n  'P43304',\n  'P47804',\n  'P48058',\n  'P54710',\n  'P54829',\n  'Q03692',\n  'Q12791',\n  'Q12857',\n  'Q13972',\n  'Q15700',\n  'Q7Z624',\n  'Q8N6G6',\n  'Q8TD84',\n  'Q8WW43',\n  'Q92481',\n  'Q92781',\n  'Q9HCR9',\n  'Q9NQB0',\n  'Q9NR82',\n  'Q9NWB1',\n  'Q9P121',\n  'Q9P2I0',\n  'Q9UDY2',\n  'Q9UKL4',\n  'Q9ULV0'},\n 'Lipoproteins': {'O95477',\n  'P01130',\n  'P02649',\n  'P02652',\n  'P02654',\n  'P04035',\n  'P04114',\n  'P06858',\n  'P08519',\n  'P08567',\n  'P08842',\n  'P0CG48',\n  'P10911',\n  'P11150',\n  'P11597',\n  'P14780',\n  'P30273',\n  'P51532',\n  'P51589',\n  'P55058',\n  'Q10471',\n  'Q13002',\n  'Q14185',\n  'Q15011',\n  'Q8NBP7',\n  'Q8WTV0',\n  'Q96RU8',\n  'Q9BY76',\n  'Q9H221',\n  'Q9H222',\n  'Q9NP71',\n  'Q9UPU5',\n  'Q9Y5Q3',\n  'Q9Y5X9'},\n 'Microbiota': {'O14986',\n  'O75369',\n  'P35813',\n  'P41235',\n  'P62995',\n  'Q16795',\n  'Q6AI14',\n  'Q86UQ4',\n  'Q8IUC2',\n  'Q8NFW1',\n  'Q8WUP2',\n  'Q8WV22',\n  'Q99467',\n  'Q99747',\n  'Q9BZV2',\n  'Q9NRM0',\n  'Q9UBY0',\n  'Q9UK17',\n  'Q9UQ52'},\n 'Cleft Lip': {'A0MZ66',\n  'A8K8P3',\n  'O14653',\n  'O14896',\n  'O15520',\n  'O43597',\n  'O60503',\n  'O75140',\n  'O95631',\n  'P05783',\n  'P10916',\n  'P11362',\n  'P27348',\n  'P62854',\n  'P78363',\n  'Q06124',\n  'Q13253',\n  'Q13635',\n  'Q53T94',\n  'Q68CQ4',\n  'Q8WYR1',\n  'Q92793',\n  'Q9H3D4',\n  'Q9UPY3',\n  'Q9Y5Q3'},\n 'Mental Competency': {'O43155',\n  'O95777',\n  'P20309',\n  'P23416',\n  'P49336',\n  'P54803',\n  'P60880',\n  'P78560',\n  'Q12882',\n  'Q5T1R4',\n  'Q7KZF4',\n  'Q86SS6',\n  'Q8N1W1',\n  'Q8WW38',\n  'Q9BQ31',\n  'Q9H6R3',\n  'Q9HBH5'},\n 'Mortality': {'O15393',\n  'O43903',\n  'O60341',\n  'O60427',\n  'O75891',\n  'P02654',\n  'P04035',\n  'P04114',\n  'P06858',\n  'P11150',\n  'P11597',\n  'P20591',\n  'P21580',\n  'Q13572',\n  'Q13591',\n  'Q13634',\n  'Q14397',\n  'Q15011',\n  'Q15911',\n  'Q8IWZ8',\n  'Q969D9',\n  'Q96JK9',\n  'Q96RU8',\n  'Q99726',\n  'Q9C0B1',\n  'Q9NQB0',\n  'Q9P283',\n  'Q9UBT6',\n  'Q9UHY1',\n  'Q9UIG0'},\n 'Myopia, Degenerative': {'O43143',\n  'O95772',\n  'P01042',\n  'P08133',\n  'P29590',\n  'P41587',\n  'P45381',\n  'P55286',\n  'Q01543',\n  'Q08462',\n  'Q15025',\n  'Q8TEH3',\n  'Q92932',\n  'Q96NJ3',\n  'Q9NWQ8',\n  'Q9UJU3'},\n 'Cleft Palate': {'A0MZ66',\n  'A8K8P3',\n  'O14653',\n  'O14896',\n  'O15520',\n  'O43597',\n  'O60503',\n  'O75140',\n  'O95631',\n  'P05783',\n  'P10916',\n  'P11362',\n  'P27348',\n  'P62854',\n  'P78363',\n  'Q06124',\n  'Q13253',\n  'Q13635',\n  'Q53T94',\n  'Q68CQ4',\n  'Q8WYR1',\n  'Q92793',\n  'Q9H3D4',\n  'Q9UPY3',\n  'Q9Y5Q3'},\n 'Neoplasms': {'O14526',\n  'O15393',\n  'O60427',\n  'P02654',\n  'P02771',\n  'P04035',\n  'P04114',\n  'P06858',\n  'P07288',\n  'P11150',\n  'P11597',\n  'P16442',\n  'P20151',\n  'P20591',\n  'P20936',\n  'P51993',\n  'Q10981',\n  'Q13572',\n  'Q14397',\n  'Q15011',\n  'Q15109',\n  'Q15911',\n  'Q6PFW1',\n  'Q8IWZ8',\n  'Q96JK9',\n  'Q96RU8',\n  'Q99726',\n  'Q9C0B1',\n  'Q9HAZ2',\n  'Q9NQB0',\n  'Q9P283',\n  'Q9UBT6',\n  'Q9UHY1',\n  'Q9UIG0',\n  'Q9UM21',\n  'Q9Y2A9',\n  'Q9Y6Q1'},\n 'Coronary Artery Disease': {'O95279',\n  'P00747',\n  'P01130',\n  'P02654',\n  'P08519',\n  'P08572',\n  'P08887',\n  'P16442',\n  'P20020',\n  'P29474',\n  'P32245',\n  'P38435',\n  'P38571',\n  'P48061',\n  'P51532',\n  'P84022',\n  'Q02108',\n  'Q14722',\n  'Q15672',\n  'Q5JRA6',\n  'Q6VAB6',\n  'Q8NBP7',\n  'Q8WZ55',\n  'Q9UH65',\n  'Q9UKP4',\n  'Q9UPW6',\n  'Q9UQQ2',\n  'Q9Y6J6'},\n 'Cytokines': {'A1A4S6',\n  'O14576',\n  'O60312',\n  'O94779',\n  'P08138',\n  'P46059',\n  'P51948',\n  'P53420',\n  'P61106',\n  'P61225',\n  'P61587',\n  'Q05086',\n  'Q06033',\n  'Q08499',\n  'Q13224',\n  'Q13495',\n  'Q14624',\n  'Q15388',\n  'Q15631',\n  'Q5U5Q3',\n  'Q6UW88',\n  'Q7Z7A1',\n  'Q8NEM8',\n  'Q96AA3',\n  'Q9BYV7',\n  'Q9H903',\n  'Q9NWZ3',\n  'Q9NZV8',\n  'Q9UK17',\n  'Q9UNS1'},\n 'Hypersensitivity': {'O95760',\n  'P01909',\n  'P01920',\n  'P16442',\n  'P26196',\n  'P30273',\n  'P35225',\n  'P35408',\n  'P42226',\n  'P55317',\n  'P60568',\n  'P84022',\n  'Q01638',\n  'Q13469',\n  'Q15399',\n  'Q15742',\n  'Q29983',\n  'Q5TCM9',\n  'Q8N465',\n  'Q8NI36',\n  'Q969D9',\n  'Q9H2J7',\n  'Q9HB29',\n  'Q9HBE4',\n  'Q9UMX1',\n  'Q9Y2C9',\n  'Q9Y496'},\n 'Depressive Disorder': {'O43353',\n  'O43665',\n  'O75444',\n  'P10635',\n  'P11712',\n  'P12643',\n  'P35368',\n  'P37840',\n  'P43146',\n  'P49902',\n  'Q01085',\n  'Q06033',\n  'Q08289',\n  'Q12899',\n  'Q12955',\n  'Q13936',\n  'Q6VAB6',\n  'Q8NF91',\n  'Q8TCU6',\n  'Q8TF09',\n  'Q8WXX7',\n  'Q9H2J7',\n  'Q9HBK9',\n  'Q9HD67',\n  'Q9Y6D5'},\n 'Autoimmune Diseases': {'O43280',\n  'O95150',\n  'P01344',\n  'P01589',\n  'P17706',\n  'P20963',\n  'P26196',\n  'P32321',\n  'P35368',\n  'P35408',\n  'P51687',\n  'P51828',\n  'P62699',\n  'P84022',\n  'Q10981',\n  'Q14118',\n  'Q14765',\n  'Q15025',\n  'Q5S007',\n  'Q5T6S3',\n  'Q5VWK5',\n  'Q676U5',\n  'Q7Z698',\n  'Q92556',\n  'Q96A46',\n  'Q9H257',\n  'Q9Y2R2'},\n 'Prostate-Specific Antigen': {'O00206',\n  'O14966',\n  'P01011',\n  'P07288',\n  'P09237',\n  'P15692',\n  'P20151',\n  'P21802',\n  'P35680',\n  'P41091',\n  'Q01959',\n  'Q5T6S3',\n  'Q5VZM2',\n  'Q6VMQ6',\n  'Q8IVJ1',\n  'Q96GX9',\n  'Q96JT2',\n  'Q9BZH6',\n  'Q9NRA1',\n  'Q9NVS2',\n  'Q9NYZ2',\n  'Q9UBI1'},\n 'Wet Macular Degeneration': {'O14994',\n  'O15315',\n  'O95477',\n  'O95907',\n  'P01024',\n  'P02649',\n  'P02748',\n  'P04083',\n  'P05156',\n  'P08603',\n  'P11150',\n  'P11597',\n  'P14780',\n  'P15692',\n  'P16471',\n  'P27658',\n  'P51993',\n  'Q01955',\n  'Q03591',\n  'Q15011',\n  'Q53GD3',\n  'Q5T5U3',\n  'Q6GPI1',\n  'Q6JQN1',\n  'Q6Y288',\n  'Q8TAT6',\n  'Q92496',\n  'Q92753',\n  'Q92781',\n  'Q99439',\n  'Q9BZM1',\n  'Q9H553',\n  'Q9HCF6',\n  'Q9UKJ1'},\n 'Spondylitis, Ankylosing': {'O75037',\n  'O95150',\n  'P01344',\n  'P01589',\n  'P32321',\n  'P35368',\n  'P35408',\n  'P36941',\n  'P51687',\n  'P51828',\n  'P84022',\n  'Q10981',\n  'Q14118',\n  'Q14974',\n  'Q29983',\n  'Q4KMQ2',\n  'Q5S007',\n  'Q5VWK5',\n  'Q676U5',\n  'Q96A46',\n  'Q9H257',\n  'Q9NZ08'},\n 'Circadian Rhythm': {'O00470',\n  'O15492',\n  'O43614',\n  'P01282',\n  'P40145',\n  'P50406',\n  'Q05823',\n  'Q15836',\n  'Q3L8U1',\n  'Q5I7T1',\n  'Q5VT52',\n  'Q86YQ8',\n  'Q8TDR0',\n  'Q9BW92',\n  'Q9BY50',\n  'Q9H8M1',\n  'Q9UGC7',\n  'Q9UJ68',\n  'Q9ULX7',\n  'Q9UPQ9',\n  'Q9Y576',\n  'Q9Y6K8'},\n 'Insulin': {'O95965',\n  'P05019',\n  'P08908',\n  'P29120',\n  'P49286',\n  'P56975',\n  'Q02297',\n  'Q14397',\n  'Q15544',\n  'Q15800',\n  'Q8IWU4',\n  'Q8WXG6',\n  'Q96P48',\n  'Q9NQB0',\n  'Q9NRA1',\n  'Q9NZC7',\n  'Q9UKK6'},\n 'Atrial Fibrillation': {'O15393',\n  'O60427',\n  'P02654',\n  'P04035',\n  'P04114',\n  'P06858',\n  'P11150',\n  'P11597',\n  'P20591',\n  'Q03135',\n  'Q13572',\n  'Q14397',\n  'Q15011',\n  'Q15911',\n  'Q8IWZ8',\n  'Q8WXH0',\n  'Q92731',\n  'Q96JK9',\n  'Q96RU8',\n  'Q99697',\n  'Q99726',\n  'Q9C0B1',\n  'Q9NQB0',\n  'Q9P283',\n  'Q9UBT6',\n  'Q9UGI6',\n  'Q9UHY1',\n  'Q9UIG0',\n  'Q9Y3Q4'},\n 'Alcohol Drinking': {'O00757',\n  'P00325',\n  'P02787',\n  'P05091',\n  'P10916',\n  'P17948',\n  'P35611',\n  'P36871',\n  'P55290',\n  'Q01973',\n  'Q15746',\n  'Q30201',\n  'Q5VWX1',\n  'Q86Z14',\n  'Q8N4N8',\n  'Q8NCM8',\n  'Q8WXX7',\n  'Q96JE7',\n  'Q9H0E3',\n  'Q9UGN5',\n  'Q9Y5M8',\n  'Q9Y6K5'},\n 'Insulin Resistance': {'O43175',\n  'O60427',\n  'O60669',\n  'O76003',\n  'P00740',\n  'P05019',\n  'P08908',\n  'P10415',\n  'P31327',\n  'P31371',\n  'P39748',\n  'P48065',\n  'P49286',\n  'P56975',\n  'Q01484',\n  'Q07973',\n  'Q12836',\n  'Q14397',\n  'Q15800',\n  'Q49A17',\n  'Q5TG30',\n  'Q86VH4',\n  'Q9BR61',\n  'Q9H598',\n  'Q9NQP4',\n  'Q9UI17',\n  'Q9UKK6'},\n 'Thyroid Diseases': {'O14931',\n  'O95150',\n  'P00751',\n  'P01344',\n  'P01589',\n  'P32321',\n  'P35368',\n  'P35408',\n  'P51687',\n  'P51828',\n  'P84022',\n  'Q03519',\n  'Q10981',\n  'Q14118',\n  'Q5S007',\n  'Q5VWK5',\n  'Q676U5',\n  'Q96A46',\n  'Q9BZY9',\n  'Q9H257',\n  'Q9UIR0',\n  'Q9UKW4',\n  'Q9Y2R2'},\n 'Vascular Calcification': {'O14944',\n  'O15072',\n  'O43315',\n  'O95477',\n  'P00748',\n  'P01009',\n  'P01130',\n  'P02654',\n  'P02774',\n  'P03952',\n  'P04114',\n  'P06858',\n  'P11597',\n  'P17735',\n  'P19876',\n  'P42830',\n  'P43007',\n  'P43250',\n  'P53007',\n  'P55058',\n  'Q10471',\n  'Q14397',\n  'Q15011',\n  'Q15413',\n  'Q6UW88',\n  'Q96N67',\n  'Q9NQR9',\n  'Q9NXB9',\n  'Q9Y5X5'},\n 'Myocardial Infarction': {'O95279',\n  'P00747',\n  'P01130',\n  'P02654',\n  'P08519',\n  'P16442',\n  'P20020',\n  'P31153',\n  'P38571',\n  'P48061',\n  'P51532',\n  'P56199',\n  'Q02108',\n  'Q5JRA6',\n  'Q71RS6',\n  'Q7Z569',\n  'Q8NBP7',\n  'Q8TEK3',\n  'Q8WZ55',\n  'Q96PU8',\n  'Q9GZL7',\n  'Q9UKP4',\n  'Q9Y6J6'},\n 'Blood Coagulation Factors': {'O15068',\n  'O60245',\n  'O94779',\n  'P00488',\n  'P00742',\n  'P02763',\n  'P04275',\n  'P08603',\n  'P08709',\n  'P13726',\n  'P16442',\n  'P41220',\n  'Q08499',\n  'Q6ZQY3',\n  'Q92496',\n  'Q93045',\n  'Q9BXR6',\n  'Q9Y561'},\n 'Amino Acids': {'O15498',\n  'O43175',\n  'O43272',\n  'O43868',\n  'P00439',\n  'P00748',\n  'P01009',\n  'P02775',\n  'P02776',\n  'P03952',\n  'P09960',\n  'P31327',\n  'P43007',\n  'P43250',\n  'P49286',\n  'P50440',\n  'P53007',\n  'P78330',\n  'Q13554',\n  'Q14397',\n  'Q86XE5',\n  'Q86YT5',\n  'Q8N3J5',\n  'Q8TF71',\n  'Q969I6',\n  'Q96H22',\n  'Q9HCJ1',\n  'Q9NQR9',\n  'Q9UGJ0',\n  'Q9UI32'},\n 'Diabetes Mellitus': {'O15393',\n  'O60427',\n  'P02654',\n  'P04035',\n  'P04114',\n  'P06858',\n  'P07911',\n  'P11150',\n  'P11597',\n  'P20591',\n  'P35754',\n  'Q08499',\n  'Q13572',\n  'Q14397',\n  'Q15011',\n  'Q15911',\n  'Q8IWZ8',\n  'Q96JK9',\n  'Q96RU8',\n  'Q99726',\n  'Q9C0B1',\n  'Q9NQB0',\n  'Q9P283',\n  'Q9UBT6',\n  'Q9UHY1',\n  'Q9UIG0'},\n 'Heart Failure': {'O15393',\n  'O43570',\n  'O60427',\n  'P02654',\n  'P04035',\n  'P04114',\n  'P06858',\n  'P11150',\n  'P11597',\n  'P20591',\n  'Q13572',\n  'Q14397',\n  'Q15011',\n  'Q15911',\n  'Q7Z2H8',\n  'Q8IWZ8',\n  'Q969D9',\n  'Q96JK9',\n  'Q96RU8',\n  'Q99726',\n  'Q9C0B1',\n  'Q9NQB0',\n  'Q9P283',\n  'Q9UBT6',\n  'Q9UHY1',\n  'Q9UIG0',\n  'Q9Y6I4'},\n 'Arthritis, Juvenile': {'O95150',\n  'P01344',\n  'P01589',\n  'P01903',\n  'P32321',\n  'P35368',\n  'P35408',\n  'P51687',\n  'P51828',\n  'P61073',\n  'P84022',\n  'Q10981',\n  'Q14118',\n  'Q5S007',\n  'Q5VWK5',\n  'Q676U5',\n  'Q96A46',\n  'Q9H257'},\n 'S-(3-hydroxypropyl)cysteine N-acetate': {'P05165',\n  'P31152',\n  'P42338',\n  'Q12926',\n  'Q3MJ16',\n  'Q5VZ72',\n  'Q8NGI8',\n  'Q8NHJ6',\n  'Q99102',\n  'Q9BRF8',\n  'Q9C0I4',\n  'Q9UBM8',\n  'Q9Y278',\n  'Q9Y4K3'},\n 'Motion Sickness': {'P14651',\n  'P25106',\n  'P31249',\n  'P43304',\n  'Q13163',\n  'Q7Z5N4',\n  'Q8N2Q7',\n  'Q8WXX7',\n  'Q8WZ64',\n  'Q99627',\n  'Q9H1N7',\n  'Q9HAZ2',\n  'Q9Y617'},\n 'Varicose Veins': {'P09960',\n  'P35568',\n  'P54764',\n  'Q13237',\n  'Q14439',\n  'Q15631',\n  'Q16566',\n  'Q8N264',\n  'Q8NCQ5',\n  'Q8NEM8',\n  'Q9C000',\n  'Q9H4L5',\n  'Q9HC35',\n  'Q9UH73'},\n 'Mean Platelet Volume': {'O60229',\n  'O60333',\n  'P01213',\n  'P04275',\n  'P09493',\n  'P21926',\n  'P25116',\n  'P63010',\n  'P67936',\n  'P78324',\n  'Q06413',\n  'Q15185',\n  'Q15652',\n  'Q15762',\n  'Q16621',\n  'Q6PKX4',\n  'Q7L7X3',\n  'Q8NF50',\n  'Q92994',\n  'Q96K12',\n  'Q9H4B7',\n  'Q9NR81',\n  'Q9NYM9',\n  'Q9NZN3',\n  'Q9P2M4',\n  'Q9UBR2',\n  'Q9UQ16'},\n 'Lipoprotein(a)': {'O15056',\n  'O15244',\n  'O15245',\n  'O60260',\n  'O75751',\n  'P00747',\n  'P08519',\n  'P35568',\n  'Q13976',\n  'Q86YQ8',\n  'Q8N103',\n  'Q8NFD5',\n  'Q8TAM2',\n  'Q8TD84',\n  'Q9NRZ5',\n  'Q9Y5X1'},\n 'Cardiovascular Diseases': {'O60503',\n  'P01579',\n  'P08473',\n  'P35568',\n  'P57771',\n  'Q00765',\n  'Q14563',\n  'Q14982',\n  'Q15911',\n  'Q5T2T1',\n  'Q8NFW1',\n  'Q8WYB5',\n  'Q9BWV1',\n  'Q9BXD5',\n  'Q9C0K1',\n  'Q9NPC2',\n  'Q9NPH9',\n  'Q9NZC7'},\n 'Corneal Topography': {'P08235',\n  'P10745',\n  'P16234',\n  'P20908',\n  'P25067',\n  'P30085',\n  'P41222',\n  'P42345',\n  'P56706',\n  'P84022',\n  'Q01955',\n  'Q07157',\n  'Q12778',\n  'Q12802',\n  'Q14865',\n  'Q6JVE5',\n  'Q86X52',\n  'Q8N0U8',\n  'Q8N9N5',\n  'Q92633',\n  'Q9UKP5'},\n 'Thyrotropin': {'O75444',\n  'O95263',\n  'P06213',\n  'P15692',\n  'P16442',\n  'P21781',\n  'P24593',\n  'P47756',\n  'P48436',\n  'Q02297',\n  'Q12857',\n  'Q7L5Y6',\n  'Q8TF09',\n  'Q9UKW4',\n  'Q9Y233'},\n 'Lung Neoplasms': {'A2RU49',\n  'O14746',\n  'O15315',\n  'O95445',\n  'O96017',\n  'P05787',\n  'P21802',\n  'P30532',\n  'P32297',\n  'P35680',\n  'P36896',\n  'P46379',\n  'P51587',\n  'Q13233',\n  'Q13615',\n  'Q30154',\n  'Q96AJ9',\n  'Q9BRK3',\n  'Q9H3D4',\n  'Q9NWV8',\n  'Q9ULH4'},\n 'gamma-Glutamyltransferase': {'O43520',\n  'O75444',\n  'P00973',\n  'P05091',\n  'P0CG30',\n  'P10916',\n  'P11168',\n  'P14174',\n  'P19440',\n  'P20823',\n  'P29317',\n  'P35398',\n  'P56199',\n  'Q10981',\n  'Q14397',\n  'Q15646',\n  'Q8IW93',\n  'Q8TDM6',\n  'Q8TF09',\n  'Q96PU5',\n  'Q9NP71',\n  'Q9Y6K0',\n  'Q9Y6K5'},\n 'Ovarian Neoplasms': {'O14746',\n  'O15315',\n  'P05787',\n  'P21802',\n  'P35680',\n  'P39059',\n  'P46459',\n  'P51587',\n  'P56705',\n  'Q13233',\n  'Q2MKA7',\n  'Q96CF2',\n  'Q9BRK3',\n  'Q9BX63',\n  'Q9NWV8'},\n '3-hydroxy-1-methylpropylmercapturic acid': {'O94804',\n  'P16471',\n  'P31152',\n  'Q11201',\n  'Q14643',\n  'Q15147',\n  'Q8NFH8',\n  'Q8WVJ9',\n  'Q96Q27',\n  'Q9H2S1',\n  'Q9NQ86'},\n 'Menopause': {'O14756',\n  'O60237',\n  'P49642',\n  'Q02223',\n  'Q86UE6',\n  'Q92823',\n  'Q96RL1',\n  'Q9UBL3',\n  'Q9UJA3',\n  'Q9UQ84'},\n 'Phospholipids': {'O60427',\n  'P54317',\n  'Q09328',\n  'Q13797',\n  'Q14397',\n  'Q15700',\n  'Q6ZNG1',\n  'Q86SS6',\n  'Q8N0Y5',\n  'Q8WU67',\n  'Q92604',\n  'Q96F25',\n  'Q99943',\n  'Q9NWB1',\n  'Q9NWT6',\n  'Q9NXB9'},\n 'Hemoglobin A2': {'A6NGY5',\n  'P02042',\n  'P02100',\n  'P0C646',\n  'P10242',\n  'P68871',\n  'P69891',\n  'P69892',\n  'Q7Z553',\n  'Q8NGF1',\n  'Q8NGJ4',\n  'Q8NGJ5',\n  'Q8NGK0',\n  'Q8NGK1',\n  'Q8NH59',\n  'Q8NH60',\n  'Q8NH61',\n  'Q9H2C8',\n  'Q9H340',\n  'Q9H341',\n  'Q9H342',\n  'Q9H343',\n  'Q9H344',\n  'Q9H346'},\n 'Hypertension': {'A6NI28',\n  'O43194',\n  'P05093',\n  'P07911',\n  'P12034',\n  'P20020',\n  'P22105',\n  'P46379',\n  'P49902',\n  'P52907',\n  'Q30201',\n  'Q496J9',\n  'Q96NW7',\n  'Q9HBK9',\n  'Q9P212',\n  'Q9UM54',\n  'Q9UQQ2'},\n 'Renal Insufficiency, Chronic': {'O14986',\n  'O15244',\n  'O43868',\n  'P01034',\n  'P07911',\n  'P15692',\n  'P50440',\n  'P82251',\n  'Q06495',\n  'Q14188',\n  'Q14397',\n  'Q8WVN8',\n  'Q8WWT9',\n  'Q92499',\n  'Q96G23',\n  'Q9NSD5',\n  'Q9UGJ0',\n  'Q9UHE5'},\n 'Common Variable Immunodeficiency': {'O95150',\n  'P01344',\n  'P01589',\n  'P32321',\n  'P35368',\n  'P35408',\n  'P51687',\n  'P51828',\n  'P84022',\n  'Q10981',\n  'Q14118',\n  'Q5S007',\n  'Q5VWK5',\n  'Q676U5',\n  'Q96A46',\n  'Q9H257'},\n 'Adenocarcinoma of lung': {'O14746',\n  'O15315',\n  'O95445',\n  'P05787',\n  'P21802',\n  'P32297',\n  'P35680',\n  'P36896',\n  'P46379',\n  'P51587',\n  'Q13233',\n  'Q96AJ9',\n  'Q9BRK3',\n  'Q9H3D4',\n  'Q9NWV8',\n  'Q9UIR0'},\n 'Body Weights and Measures': {'O14490',\n  'P29279',\n  'P51531',\n  'Q9UKB1',\n  'Q9UPW6',\n  'Q9UPZ6'},\n 'Graves Disease': {'O00584',\n  'P01903',\n  'P01920',\n  'P12872',\n  'P16410',\n  'P16442',\n  'P16473',\n  'Q14573',\n  'Q29983',\n  'Q8NE71',\n  'Q96DU3',\n  'Q9UIR0',\n  'Q9UKW4'},\n 'Cognition Disorders': {'A8MTJ3',\n  'O43432',\n  'O96008',\n  'P02649',\n  'P15260',\n  'P41217',\n  'P42685',\n  'P63104',\n  'Q08462',\n  'Q7Z6A9',\n  'Q9BYJ4',\n  'Q9NWB1'},\n 'Sleep': {'O00470',\n  'O15492',\n  'O43614',\n  'O60890',\n  'O94874',\n  'P08069',\n  'P10275',\n  'Q08499',\n  'Q13572',\n  'Q6P4F7',\n  'Q86Y07',\n  'Q9Y231',\n  'Q9Y6K8'},\n 'Refraction, Ocular': {'P05165',\n  'P07510',\n  'P12643',\n  'P24043',\n  'P48058',\n  'Q00059',\n  'Q01668',\n  'Q13972',\n  'Q92753',\n  'Q92781',\n  'Q9NR82',\n  'Q9NWB1',\n  'Q9UDY2',\n  'Q9UKL4'},\n 'Metabolic Syndrome X': {'O15498',\n  'O95477',\n  'O96008',\n  'P04114',\n  'P06858',\n  'P11597',\n  'P35557',\n  'P49286',\n  'Q10471',\n  'Q13133',\n  'Q13554',\n  'Q14397',\n  'Q15011',\n  'Q29980',\n  'Q6P2E9',\n  'Q6Q788',\n  'Q6ZNB7',\n  'Q9C0B1',\n  'Q9NP71',\n  'Q9NQR9'},\n 'Melanoma': {'O14746',\n  'O60733',\n  'P14679',\n  'P20592',\n  'P24385',\n  'P35869',\n  'Q01726',\n  'Q04671',\n  'Q13126',\n  'Q13315',\n  'Q15306',\n  'Q5VV42',\n  'Q96KP1',\n  'Q9C0B1',\n  'Q9H490',\n  'Q9UMX9'},\n 'Cognitive Dysfunction': {'A8MTJ3',\n  'O43432',\n  'P15260',\n  'P41217',\n  'P42685',\n  'P63104',\n  'Q08462',\n  'Q7Z6A9',\n  'Q9BYJ4',\n  'Q9NWB1'},\n 'Urine': {'O00233',\n  'O60494',\n  'O75191',\n  'P05976',\n  'P11245',\n  'P16219',\n  'P16442',\n  'P28330',\n  'P31327',\n  'P32754',\n  'P49441',\n  'P82251',\n  'Q08AH1',\n  'Q68CK6',\n  'Q68EM7',\n  'Q695T7',\n  'Q6NVY1',\n  'Q8TCU4',\n  'Q96ST8',\n  'Q9BYV1',\n  'Q9H2M3',\n  'Q9NP91',\n  'Q9NSD5',\n  'Q9NYV4',\n  'Q9UHE5'},\n 'Pulse': {'O00399',\n  'P12643',\n  'Q03188',\n  'Q06413',\n  'Q6ZN18',\n  'Q8WWG9',\n  'Q92736',\n  'Q9NVD7',\n  'Q9UKV0',\n  'Q9UL62'},\n 'Hypothyroidism': {'O95263',\n  'P01909',\n  'P01920',\n  'P15692',\n  'P16410',\n  'P17174',\n  'P24593',\n  'P47756',\n  'Q02297',\n  'Q96N96',\n  'Q9UKW4',\n  'Q9UQQ2',\n  'Q9Y233',\n  'Q9Y261',\n  'Q9Y2R2'},\n 'Alkaline Phosphatase': {'O95271',\n  'O95342',\n  'O95864',\n  'P05062',\n  'P05186',\n  'P07306',\n  'P16442',\n  'P78352',\n  'P80108',\n  'Q10981',\n  'Q11206',\n  'Q15652',\n  'Q76LX8',\n  'Q8N2K0',\n  'Q96RU8'},\n 'Leukocyte Count': {'O15144',\n  'O43242',\n  'O75448',\n  'P09919',\n  'P10242',\n  'P18510',\n  'P18850',\n  'P19875',\n  'P61224',\n  'Q00534',\n  'Q16570',\n  'Q16666',\n  'Q8WWZ1',\n  'Q9H903'},\n 'Exercise Test': {'P0C7M3',\n  'P30559',\n  'P49336',\n  'P52803',\n  'Q14982',\n  'Q6PIL6',\n  'Q7Z553',\n  'Q9HC58',\n  'Q9NS91',\n  'Q9NYL9'},\n 'Brain': {'P25103',\n  'P29275',\n  'P34998',\n  'P46934',\n  'P49459',\n  'P52926',\n  'P55283',\n  'P78524',\n  'Q03188',\n  'Q7Z3B3',\n  'Q8IWV2',\n  'Q96AV8',\n  'Q9HCB6'},\n 'Refractive Errors': {'P08174',\n  'P15514',\n  'P24043',\n  'P24046',\n  'P35070',\n  'P35555',\n  'P35813',\n  'Q13972',\n  'Q15849',\n  'Q68CP9',\n  'Q8IXI2',\n  'Q92781',\n  'Q9NR82',\n  'Q9UDY2',\n  'Q9UKL4',\n  'Q9Y233'},\n 'Kidney Diseases': {'P01906',\n  'P08603',\n  'P10243',\n  'P15622',\n  'P28062',\n  'P31937',\n  'Q13562',\n  'Q2NL67',\n  'Q92736',\n  'Q9GZQ3',\n  'Q9H6R3',\n  'Q9UKK6'},\n 'Biomarkers': {'O75444',\n  'P05091',\n  'P07911',\n  'P41182',\n  'P58401',\n  'P63092',\n  'Q03112',\n  'Q13563',\n  'Q15849',\n  'Q5JWF2',\n  'Q8NFY9',\n  'Q8TF09',\n  'Q9BXY4',\n  'Q9NRM0',\n  'Q9P2S2'},\n 'Nose': {'O15315',\n  'O75486',\n  'O95271',\n  'P10071',\n  'P12724',\n  'P18075',\n  'P23760',\n  'P54753',\n  'Q01974',\n  'Q13950',\n  'Q8IZS8',\n  'Q96HF1',\n  'Q9UPY3',\n  'Q9Y6N7'},\n 'Carcinoma, Squamous Cell': {'O14931',\n  'O60427',\n  'O95714',\n  'O96017',\n  'P01909',\n  'P14679',\n  'P14923',\n  'P15907',\n  'P17706',\n  'P17861',\n  'P51587',\n  'Q04671',\n  'Q13433',\n  'Q15306',\n  'Q86US8',\n  'Q99593',\n  'Q9H334',\n  'Q9H3D4',\n  'Q9ULH4',\n  'Q9UMX9'},\n 'Child Development Disorders, Pervasive': {'O43353',\n  'P49902',\n  'Q06033',\n  'Q08289',\n  'Q12899',\n  'Q12955',\n  'Q13936',\n  'Q15303',\n  'Q8NF91',\n  'Q9HBK9'},\n 'Survival': {'O00222',\n  'O75912',\n  'P14735',\n  'P15884',\n  'Q02363',\n  'Q03188',\n  'Q13635',\n  'Q7L5N7',\n  'Q9NYP7',\n  'Q9UKX5',\n  'Q9ULH0'},\n 'Neuroticism': {'O95198',\n  'P34998',\n  'P43034',\n  'P49458',\n  'Q13003',\n  'Q86WG5',\n  'Q8N8S7',\n  'Q8WUM4',\n  'Q969R5',\n  'Q96FE5'},\n 'Adiponectin': {'P01042',\n  'P15692',\n  'P35249',\n  'P55290',\n  'Q14432',\n  'Q15848',\n  'Q86U86',\n  'Q96RU8',\n  'Q99547',\n  'Q9BVP2',\n  'Q9UF56',\n  'Q9Y487'},\n 'Pancreatic Carcinoma': {'O00482',\n  'O14746',\n  'O14867',\n  'P04155',\n  'P16442',\n  'P49683',\n  'P52945',\n  'P56945',\n  'P98082',\n  'Q13901',\n  'Q96PD4',\n  'Q9H3D4',\n  'Q9ULT6'},\n 'Gout': {'O43897',\n  'P10916',\n  'P51787',\n  'P58401',\n  'P78509',\n  'Q13563',\n  'Q14397',\n  'Q14916',\n  'Q16515',\n  'Q5VU57',\n  'Q6NVV3',\n  'Q6PI25',\n  'Q8N5C8',\n  'Q9NRM0',\n  'Q9P2S2',\n  'Q9UNQ0'},\n 'Albuminuria': {'O43897',\n  'O60494',\n  'P27487',\n  'Q03188',\n  'Q14152',\n  'Q5VV42',\n  'Q86XE3',\n  'Q9NP95',\n  'Q9NZV8',\n  'Q9Y6W8'},\n 'Vital Capacity': {'P12643', 'Q12805', 'Q7Z3B3', 'Q96I99', 'Q9NZC7'},\n 'Carcinoma, Endometrioid': {'O14746',\n  'O15315',\n  'P05787',\n  'P11511',\n  'P21802',\n  'P31749',\n  'P35680',\n  'P51587',\n  'Q13233',\n  'Q9BRK3',\n  'Q9NWV8'},\n 'Hair Color': {'O15360',\n  'O95714',\n  'P17643',\n  'P21583',\n  'P41594',\n  'Q01726',\n  'Q15306',\n  'Q3L8U1',\n  'Q71RS6',\n  'Q8NFF2',\n  'Q8NHX9',\n  'Q96KP1',\n  'Q9P2I0',\n  'Q9UMX9'},\n 'Autoantibodies': {'O76024',\n  'P01308',\n  'P01344',\n  'P01589',\n  'P16410',\n  'P17706',\n  'P21860',\n  'P22301',\n  'P29597',\n  'Q15762',\n  'Q5VV42',\n  'Q8NEV9',\n  'Q8TAP6',\n  'Q9BYX4',\n  'Q9NQB0',\n  'Q9UQQ2',\n  'Q9Y2R2'},\n 'Attention Deficit Disorder with Hyperactivity': {'O43353',\n  'P19338',\n  'P49902',\n  'Q06033',\n  'Q08289',\n  'Q08462',\n  'Q12899',\n  'Q12955',\n  'Q13875',\n  'Q13936',\n  'Q8NF91',\n  'Q9HBK9',\n  'Q9Y625'},\n 'Immunoglobulins': {'O43759',\n  'O95980',\n  'P05538',\n  'P07942',\n  'P15291',\n  'P15907',\n  'P50542',\n  'Q09327',\n  'Q12824',\n  'Q13422',\n  'Q15750',\n  'Q9P0X4',\n  'Q9UIM3'},\n 'Homocysteine': {'O00476',\n  'O14717',\n  'O15360',\n  'O60494',\n  'O75899',\n  'P16444',\n  'P19526',\n  'P31327',\n  'P35520',\n  'P42898',\n  'P78330',\n  'Q06830',\n  'Q99707',\n  'Q9HD42',\n  'Q9NPH5',\n  'Q9NSA1',\n  'Q9Y5K6'},\n 'Hypospadias': {'O43365',\n  'O60645',\n  'P46952',\n  'P57772',\n  'Q00056',\n  'Q12791',\n  'Q15911',\n  'Q5KSL6',\n  'Q86VP1',\n  'Q99502',\n  'Q9HC35',\n  'Q9NRA1'},\n 'Cholangitis, Sclerosing': {'O43318',\n  'O43521',\n  'P01589',\n  'P10747',\n  'P15884',\n  'P26927',\n  'P60568',\n  'Q14642',\n  'Q15762',\n  'Q9BZL6',\n  'Q9H334',\n  'Q9HBE4',\n  'Q9HC97',\n  'Q9UQQ2'},\n 'lipoprotein A-I': {'O15244',\n  'O60260',\n  'O75751',\n  'P00747',\n  'P08519',\n  'P11717',\n  'Q8IVF5',\n  'Q8N103',\n  'Q8NF91',\n  'Q8NFD5',\n  'Q96PU8',\n  'Q9UBN4',\n  'Q9Y5X1'},\n 'Blood Flow Velocity': {'O00167',\n  'P11150',\n  'P52306',\n  'P78524',\n  'Q66GS9',\n  'Q9H845',\n  'Q9HDB5',\n  'Q9NZV8',\n  'Q9Y4C0'},\n 'Corneal Pachymetry': {'P20908',\n  'P56706',\n  'Q01130',\n  'Q12778',\n  'Q12802',\n  'Q14563',\n  'Q86SQ4',\n  'Q8N9N5',\n  'Q8NFF2',\n  'Q8TDR0',\n  'Q9NP79',\n  'Q9P2I0'},\n 'Hormones': {'O43521',\n  'P01225',\n  'P04637',\n  'P22459',\n  'Q06520',\n  'Q3L8U1',\n  'Q8TAG9',\n  'Q92747',\n  'Q96LC9',\n  'Q9C037',\n  'Q9NQ90',\n  'Q9Y2L8'},\n 'Adenocarcinoma Of Esophagus': {'O43315',\n  'O94788',\n  'P13569',\n  'P28289',\n  'Q5VWX1',\n  'Q6UUV9',\n  'Q8WWH4',\n  'Q8WXA8',\n  'Q99593',\n  'Q9H334',\n  'Q9UJ68',\n  'Q9UPW6'},\n 'Esophageal Neoplasms': {'O96017',\n  'P00325',\n  'P05091',\n  'P14923',\n  'P15907',\n  'P17706',\n  'P17861',\n  'P18065',\n  'P39687',\n  'P48729',\n  'Q01196',\n  'Q08499',\n  'Q13433',\n  'Q6JQN1',\n  'Q86US8',\n  'Q9P212',\n  'Q9ULH4'},\n 'Precursor Cell Lymphoblastic Leukemia-Lymphoma': {'P06737',\n  'P0C617',\n  'P20711',\n  'P23771',\n  'Q12834',\n  'Q13422',\n  'Q13469',\n  'Q14865',\n  'Q15744',\n  'Q330K2',\n  'Q8TDX6',\n  'Q8TE60',\n  'Q96A56',\n  'Q9BW60',\n  'Q9H3D4',\n  'Q9NVR2'},\n 'Polycystic Ovary Syndrome': {'P01225',\n  'P06213',\n  'P10914',\n  'P22459',\n  'P22888',\n  'P23945',\n  'P46937',\n  'P51687',\n  'P52926',\n  'P61020',\n  'Q13601',\n  'Q15303',\n  'Q6YHU6',\n  'Q8TEH3'},\n 'Bilirubin': {'O60656',\n  'P19224',\n  'P21757',\n  'P22309',\n  'P22310',\n  'P35503',\n  'P35504',\n  'P55286',\n  'Q13018',\n  'Q16566',\n  'Q16760',\n  'Q9HAW7',\n  'Q9HAW8',\n  'Q9HAW9',\n  'Q9NPD5',\n  'Q9Y6L6'},\n 'Multiple Myeloma': {'O00472',\n  'O14836',\n  'P16333',\n  'Q15306',\n  'Q16611',\n  'Q96KP1',\n  'Q9NUZ1'},\n 'CD40 Ligand': {'Q7Z2W7', 'Q96NL3', 'Q9NZV8', 'Q9UHF4'},\n 'Calcium-Binding Proteins': {'O95271',\n  'P24723',\n  'Q08499',\n  'Q8IXL7',\n  'Q9HCK4',\n  'Q9NWB1'},\n 'Carcinoma, Non-Small-Cell Lung': {'O14746',\n  'O15315',\n  'P05787',\n  'P21802',\n  'P35680',\n  'P51587',\n  'Q13233',\n  'Q8NDX2',\n  'Q96RI1',\n  'Q9BRK3',\n  'Q9NWV8'},\n 'Follicle Stimulating Hormone': {'O75400',\n  'P01225',\n  'P11511',\n  'P13807',\n  'P22459',\n  'P33402',\n  'Q13002',\n  'Q9Y230'},\n 'Iron': {'O00327',\n  'O00476',\n  'O95864',\n  'P02787',\n  'P11245',\n  'P16442',\n  'Q14916',\n  'Q30201',\n  'Q8IU80',\n  'Q8IWA0',\n  'Q9NP59',\n  'Q9UP52',\n  'Q9Y5M8'},\n 'Neuropsychological Tests': {'P02654',\n  'P08476',\n  'P61647',\n  'Q15672',\n  'Q5T1R4',\n  'Q8N3A8',\n  'Q96LR5',\n  'Q9Y2B2'},\n 'Urinary Bladder Neoplasms': {'O43653',\n  'O95503',\n  'P11245',\n  'P24864',\n  'P31941',\n  'Q13336',\n  'Q6UX04',\n  'Q8IVL5',\n  'Q9Y6A5'},\n 'Testicular Neoplasms': {'O14746',\n  'O60760',\n  'P21583',\n  'Q02224',\n  'Q16611',\n  'Q6VMQ6',\n  'Q96H78',\n  'Q9BZX2',\n  'Q9GZV8',\n  'Q9Y5R6',\n  'Q9Y6D9'},\n 'hemoglobin A1c protein, human': {'O95342',\n  'P02549',\n  'P10242',\n  'P16157',\n  'P19367',\n  'P35557',\n  'P49286',\n  'Q13459',\n  'Q30201',\n  'Q5VV42',\n  'Q8IU80',\n  'Q8IWU4',\n  'Q96NS5',\n  'Q9HA64',\n  'Q9NQR9',\n  'Q9UPR3'},\n 'Adipose Tissue': {'P25774',\n  'P32245',\n  'Q02548',\n  'Q14449',\n  'Q8WYP3',\n  'Q9UH73'},\n 'Breast': {'P03372',\n  'P09529',\n  'P10070',\n  'P11234',\n  'P12272',\n  'P15514',\n  'P24385',\n  'P29536',\n  'P35070',\n  'Q9H0E7'},\n 'Barrett Esophagus': {'O43315',\n  'O94788',\n  'P13569',\n  'P28289',\n  'Q6UUV9',\n  'Q99593',\n  'Q9H334',\n  'Q9UJ68',\n  'Q9UPW6'},\n 'Osteoporosis': {'O43825',\n  'P07204',\n  'P28907',\n  'P49419',\n  'P62834',\n  'Q03112',\n  'Q6P1J9',\n  'Q9NPY3',\n  'Q9Y6Z7'},\n 'Sex Hormone-Binding Globulin': {'O75352',\n  'P04637',\n  'P14415',\n  'P36537',\n  'P51864',\n  'P54855',\n  'Q14397',\n  'Q15652',\n  'Q96LA8',\n  'Q9BU40',\n  'Q9UHR4',\n  'Q9Y6L6'},\n 'Metabolome': {'O43280',\n  'O60656',\n  'P03952',\n  'P12821',\n  'P19224',\n  'P22309',\n  'P22310',\n  'P35503',\n  'P35504',\n  'P48448',\n  'Q5T1C6',\n  'Q68CK6',\n  'Q96HD9',\n  'Q9HAW7',\n  'Q9HAW8',\n  'Q9HAW9',\n  'Q9NSD5',\n  'Q9UHE5'},\n 'Periodontitis': {'P63162', 'Q16666', 'Q99959'},\n 'Glioma': {'O14746',\n  'P00533',\n  'P04637',\n  'P13804',\n  'P24928',\n  'P42772',\n  'P60059',\n  'Q05516',\n  'Q08378',\n  'Q8WV24',\n  'Q9NZ71'},\n 'Mucocutaneous Lymph Node Syndrome': {'P02741',\n  'P05538',\n  'P0DPH7',\n  'P12318',\n  'P13765',\n  'P25942',\n  'P51451',\n  'Q71F23',\n  'Q96DU7',\n  'Q9H2S1'},\n 'Tooth': {'P63162', 'Q16666', 'Q99959'},\n 'White Matter': {'O76050',\n  'P12272',\n  'P34969',\n  'P55290',\n  'Q12805',\n  'Q14344',\n  'Q14690',\n  'Q5TCZ1',\n  'Q6P1K2',\n  'Q99547',\n  'Q9P2K6'},\n 'Peripheral Nervous System Diseases': {'P01589',\n  'P23467',\n  'P48061',\n  'Q08AM6',\n  'Q2I0M5',\n  'Q330K2',\n  'Q92844',\n  'Q96A56',\n  'Q9UKV0',\n  'Q9Y264'},\n 'Body Fat Distribution': {'O43597',\n  'O60733',\n  'P32245',\n  'P49411',\n  'Q6UUV9',\n  'Q96JE7',\n  'Q9C0B1',\n  'Q9NZI8',\n  'Q9ULX9'},\n 'Cotinine': {'O95274', 'P36537', 'Q8IU89', 'Q9BY14'},\n 'Longevity': {'O96008',\n  'P02654',\n  'P05231',\n  'P30084',\n  'Q13002',\n  'Q16850',\n  'Q96PU8',\n  'Q9HBI1'},\n 'Epilepsy': {'O60245', 'P05013', 'P20309', 'P35498', 'Q8IYU2'},\n 'Hair': {'O75626',\n  'P23760',\n  'Q07283',\n  'Q5T1C6',\n  'Q5T5B0',\n  'Q8TBB1',\n  'Q9GZT5',\n  'Q9UNE0'},\n 'Death, Sudden, Cardiac': {'O43155',\n  'P03372',\n  'P25391',\n  'P42261',\n  'P54803',\n  'Q719H9',\n  'Q8IZL2',\n  'Q8WV24',\n  'Q9H2S1'},\n 'Insulin-Like Growth Factor I': {'O43524',\n  'P05019',\n  'Q14397',\n  'Q76L83',\n  'Q8WUA4',\n  'Q92847',\n  'Q9UG01',\n  'Q9UHY1',\n  'Q9UI10'},\n 'Amyotrophic lateral sclerosis 1': {'O15393',\n  'P14735',\n  'Q01813',\n  'Q13740',\n  'Q13797',\n  'Q14982',\n  'Q9BQG2'},\n 'Sphingolipids': {'O60427',\n  'P08567',\n  'Q75N90',\n  'Q8IZC7',\n  'Q8TBN0',\n  'Q9HA82',\n  'Q9NUV7',\n  'Q9P241'},\n 'Glaucoma, Open-Angle': {'O60547',\n  'O95477',\n  'P35813',\n  'P42772',\n  'P51636',\n  'Q03135',\n  'Q8WWI5',\n  'Q9NNW7',\n  'Q9Y561'},\n 'Aorta': {'P52926', 'P56975', 'Q86US8', 'Q96PU8'},\n 'Caffeine': {'P04798', 'P05177', 'P11509', 'P20813', 'P20853', 'P35869'},\n 'Rhinitis, Allergic, Seasonal': {'P01909',\n  'P01920',\n  'P84022',\n  'Q01638',\n  'Q15399',\n  'Q8NI36',\n  'Q969D9'},\n 'Reproductive Behavior': {'O60741',\n  'P03372',\n  'P52803',\n  'Q53ET0',\n  'Q5K4L6',\n  'Q8WXI9',\n  'Q9NP92',\n  'Q9NQC1',\n  'Q9UF56'},\n 'DNA Methylation': {'O60312',\n  'P16455',\n  'P49286',\n  'Q05086',\n  'Q96HF1',\n  'Q99928',\n  'Q9Y5Z6'},\n 'Eicosapentaenoic Acid': {'O60427',\n  'O76090',\n  'O95864',\n  'P39748',\n  'Q8TBN0',\n  'Q9NQS7',\n  'Q9NXB9',\n  'Q9Y4F1'},\n 'Lung Diseases, Interstitial': {'A7MBM2',\n  'O14746',\n  'O94988',\n  'P10636',\n  'P15924',\n  'P17029',\n  'P26440',\n  'P98088',\n  'P98196',\n  'Q02817',\n  'Q6W4X9',\n  'Q9HC84'},\n 'Alcoholism': {'O75691',\n  'P00325',\n  'P00326',\n  'P05091',\n  'P14410',\n  'P48051',\n  'Q96SA4',\n  'Q9BY49',\n  'Q9H008',\n  'Q9UL01'},\n 'GRN protein, human': {'A0MZ66',\n  'O14896',\n  'O43597',\n  'P29320',\n  'P78363',\n  'Q13253',\n  'Q6YHU6',\n  'Q9Y5Q3'},\n 'Mouth Abnormalities': {'A0MZ66',\n  'O14896',\n  'O43597',\n  'O95631',\n  'P78363',\n  'Q68CQ4',\n  'Q9Y5Q3'},\n 'Erythrocytes': {'P04083', 'P20309', 'P22362', 'Q92753', 'Q9NQP4', 'Q9P104'},\n 'Aortic Aneurysm, Abdominal': {'P01130',\n  'P08887',\n  'P35555',\n  'Q07954',\n  'Q5VWQ8',\n  'Q9NRG4'},\n 'Chemical and Drug Induced Liver Injury': {'O94823',\n  'P01920',\n  'P15907',\n  'P37231',\n  'P47870',\n  'P55327'},\n 'Hypertriglyceridemia': {'P06727',\n  'P32321',\n  'P68402',\n  'Q14397',\n  'Q6Q788',\n  'Q96RU8',\n  'Q9UIG0'},\n 'Memory': {'O76074',\n  'P02654',\n  'P11532',\n  'Q13257',\n  'Q14574',\n  'Q8N3A8',\n  'Q9H5J4',\n  'Q9HCK4'},\n 'Interleukin-6': {'P08887',\n  'P14921',\n  'P16442',\n  'P20309',\n  'Q3SYG4',\n  'Q99928',\n  'Q9BRF8',\n  'Q9HB90',\n  'Q9UBK2'},\n 'Fetal Hemoglobin': {'P02042',\n  'P02100',\n  'P10242',\n  'P68400',\n  'P68871',\n  'P69891',\n  'P69892',\n  'Q9H340',\n  'Q9H341'},\n 'Anemia, Sickle Cell': {'O60656',\n  'P10242',\n  'P19224',\n  'P22309',\n  'P22310',\n  'P35503',\n  'P35504',\n  'Q12980',\n  'Q8NGJ5',\n  'Q9H343',\n  'Q9H344',\n  'Q9HAW7',\n  'Q9HAW8',\n  'Q9HAW9'},\n 'Pulmonary Emphysema': {'A2RU49',\n  'P02724',\n  'P11509',\n  'P30532',\n  'P32297',\n  'P39900',\n  'P61812',\n  'Q96Q05'},\n 'Glaucoma': {'P12107', 'Q6P3W2', 'Q96EB1', 'Q9NWB1', 'Q9Y2C2', 'Q9Y315'},\n 'Tooth Eruption': {'O75626',\n  'P12644',\n  'P52926',\n  'P55263',\n  'P63252',\n  'Q13698',\n  'Q4KMG0',\n  'Q8IXL7',\n  'Q92838',\n  'Q9NZI8'},\n 'Intraocular Pressure': {'O95477',\n  'P16442',\n  'P51636',\n  'Q03135',\n  'Q12913',\n  'Q8WWI5',\n  'Q9NZN5',\n  'Q9UP79'},\n 'Odontogenesis': {'O15315',\n  'P03999',\n  'P52926',\n  'P55263',\n  'P63252',\n  'Q08289',\n  'Q8IXL7',\n  'Q92838',\n  'Q9NZI8'},\n 'Alanine Transaminase': {'P15169',\n  'Q15109',\n  'Q7Z4L5',\n  'Q7Z569',\n  'Q96RU8',\n  'Q9NST1'},\n 'Voice': {'P43354', 'P48357', 'Q05215', 'Q07343', 'Q8IYU2'},\n 'Joint Instability': {'P13611',\n  'P21953',\n  'P46934',\n  'Q08397',\n  'Q99466',\n  'Q9HAU4',\n  'Q9Y6J6'},\n 'Intracranial Aneurysm': {'P25101', 'P35555', 'Q9H6I2', 'Q9Y3M8'},\n 'Blood Urea Nitrogen': {'P41182',\n  'P63092',\n  'Q03112',\n  'Q15849',\n  'Q5JWF2',\n  'Q8NFY9',\n  'Q9BXY4'},\n 'Audiometry, Pure-Tone': {'O00291',\n  'P11532',\n  'Q12882',\n  'Q16827',\n  'Q8NFF2',\n  'Q9HDB5',\n  'Q9Y4C0'},\n 'Hemoglobin A, Glycosylated': {'P11413', 'Q12980', 'Q9Y6K9'},\n 'Luteinizing Hormone': {'O14788',\n  'O95777',\n  'P01225',\n  'P22459',\n  'Q8NFP9',\n  'Q9BQ31',\n  'Q9NSC2'},\n 'docosapentaenoic acid': {'O60427',\n  'O76090',\n  'O95864',\n  'P39748',\n  'Q14397',\n  'Q8TBN0',\n  'Q9NXB9',\n  'Q9Y4D2'},\n 'Hydroxymethylglutaryl CoA Reductases': {'O75023',\n  'P02649',\n  'P02654',\n  'P06732',\n  'P08519',\n  'P11597',\n  'Q13115',\n  'Q15011',\n  'Q6PI73',\n  'Q8NBP7',\n  'Q9UNQ0',\n  'Q9Y6L6'},\n 'amyloid beta-protein (1-42)': {'P02649',\n  'P11511',\n  'P30740',\n  'Q8N4E7',\n  'Q96I99'},\n 'Carotid Artery Diseases': {'P22362',\n  'P52803',\n  'P54764',\n  'Q13591',\n  'Q3LI54',\n  'Q8IUC1',\n  'Q9NPH0'},\n 'Scoliosis': {'P10415', 'Q86SQ4'},\n 'Apolipoproteins E': {'Q07343', 'Q6PGQ7'},\n 'Apolipoprotein A-I': {'O15244',\n  'O43155',\n  'O75751',\n  'P00747',\n  'P08519',\n  'P49146',\n  'P54803',\n  'Q08499',\n  'Q9NYL9',\n  'Q9NZR1'},\n 'Subcutaneous Fat': {'O00750',\n  'P30411',\n  'Q13634',\n  'Q96AV8',\n  'Q9C0B1',\n  'Q9NTI2'},\n 'Lymphoma, Follicular': {'O60346',\n  'P01920',\n  'P10415',\n  'P32302',\n  'Q01543',\n  'Q30154'},\n 'Eosinophils': {'P04843',\n  'P05113',\n  'P10242',\n  'P10914',\n  'Q01638',\n  'Q29980',\n  'Q9UQQ2'},\n 'Thyroid Neoplasms': {'P84022', 'Q02297', 'Q9H2G2', 'Q9NS73'},\n 'Sulfonylurea Compounds': {'O94925', 'P42224', 'Q12857', 'Q14966', 'Q96K83'},\n 'Acute Coronary Syndrome': {'O60503',\n  'P01034',\n  'P08684',\n  'P16662',\n  'P25311',\n  'P46721',\n  'Q92747',\n  'Q9HB55',\n  'Q9Y6L6'},\n 'Carcinoembryonic Antigen': {'O00204',\n  'P16442',\n  'P19526',\n  'P21217',\n  'P51993',\n  'Q07020',\n  'Q10586',\n  'Q10981'},\n 'von Willebrand Factor': {'O43155',\n  'P04275',\n  'P16442',\n  'P43304',\n  'P54803',\n  'Q8WWQ8'},\n 'Endometrial Neoplasms': {'P11511',\n  'P31749',\n  'P35680',\n  'Q06945',\n  'Q9P2K8',\n  'Q9UQQ2'},\n 'Glycerophospholipids': {'O60427', 'O95864', 'Q9NUV7', 'Q9NXB9'},\n 'Endometriosis': {'P08069', 'P47928', 'P56705', 'P60953', 'Q4ZG55'},\n 'Neutrophils': {'O43242',\n  'O75448',\n  'P09919',\n  'P10827',\n  'Q00534',\n  'Q15147',\n  'Q16570'},\n 'alpha-Linolenic Acid': {'O60427', 'O95864', 'P39748', 'Q8TBN0', 'Q9Y4D2'},\n 'Trypanosoma cruzi': {'P08123',\n  'P14923',\n  'Q5VZ72',\n  'Q92539',\n  'Q99676',\n  'Q9UJY1'},\n 'Skin Neoplasms': {'O15027',\n  'P14679',\n  'P35869',\n  'Q01726',\n  'Q15306',\n  'Q9UMX9'},\n 'Crown-Rump Length': {'P17936', 'P21953', 'Q13469', 'Q14185'},\n 'Reverse Transcriptase Inhibitors': {'P01589',\n  'P23467',\n  'P48061',\n  'Q2I0M5',\n  'Q92844',\n  'Q9UKV0',\n  'Q9Y264'},\n 'Heart Function Tests': {'O14653',\n  'P11226',\n  'Q14524',\n  'Q96JA1',\n  'Q99593',\n  'Q9Y5Y9'},\n 'Sleep Initiation and Maintenance Disorders': {'O00470',\n  'O15492',\n  'O43614',\n  'Q15582',\n  'Q92526',\n  'Q9Y6K8'},\n 'Insulin-Secreting Cells': {'O15498',\n  'O60427',\n  'O95622',\n  'P35557',\n  'P49286',\n  'Q6ZNB7',\n  'Q7L804',\n  'Q9NQR9'},\n 'Magnesium': {'O95500', 'P15941', 'Q03112', 'Q06495', 'Q6XR72', 'Q9BX84'},\n 'Stomach Neoplasms': {'O43653',\n  'P15941',\n  'P49746',\n  'Q13131',\n  'Q13505',\n  'Q9NR48',\n  'Q9P212',\n  'Q9ULH4'},\n 'Fatty Acids': {'O60427',\n  'O95864',\n  'P39748',\n  'Q6P1A2',\n  'Q99623',\n  'Q9HA82',\n  'Q9NUV7',\n  'Q9NXB9'},\n 'Liver Diseases': {'P05186',\n  'P15169',\n  'P16442',\n  'P19440',\n  'P80108',\n  'Q15652',\n  'Q76LX8',\n  'Q9NST1'},\n '1-Alkyl-2-acetylglycerophosphocholine Esterase': {'P01130',\n  'P02654',\n  'P08519',\n  'P11597',\n  'Q13093',\n  'Q15011',\n  'Q8WTV0',\n  'Q9UNQ0'},\n 'Autistic Disorder': {'P01111', 'P23109', 'Q15303', 'Q9ULB4', 'Q9UPN9'},\n 'tau Proteins': {'O95644', 'O95944', 'P02649', 'P10636', 'Q6UX06'},\n 'Blood Proteins': {'O00472',\n  'O14836',\n  'O14862',\n  'O60427',\n  'P54764',\n  'Q5VYY2',\n  'Q9UIM3'},\n 'Tumor Necrosis Factor-alpha': {'P05305',\n  'P16442',\n  'Q15181',\n  'Q99747',\n  'Q9HB90'},\n 'Dupuytren Contracture': {'P09544', 'P56706', 'P60228', 'Q9Y5Q3'},\n 'Coffee': {'P04798',\n  'P05177',\n  'P16435',\n  'P35869',\n  'Q6PHR2',\n  'Q86YH6',\n  'Q92823',\n  'Q9NP71'},\n 'Calcium': {'P41180', 'Q07973', 'Q14397', 'Q16760'},\n 'Toluene 2,4-Diisocyanate': {'O95714', 'P45452', 'Q12864', 'Q9UJT9'},\n 'Telomere': {'O43252', 'P19784', 'Q2NKJ3', 'Q8N7Q3'},\n 'Lupus Erythematosus, Cutaneous': {'P01909', 'P67870', 'Q5SSG8', 'Q9HCM9'},\n 'Ticagrelor': {'P08684',\n  'P16662',\n  'P25311',\n  'P46721',\n  'Q92747',\n  'Q9HB55',\n  'Q9Y6L6'},\n 'Maximal Midexpiratory Flow Rate': {'A2RRP1', 'P23468', 'Q8NCM2', 'Q9UBC3'},\n 'Body Weight Changes': {'Q9BYT9', 'Q9HDB5', 'Q9UNG2', 'Q9Y4C0'},\n 'Vitamin D': {'P02774',\n  'P23468',\n  'P53618',\n  'P62070',\n  'Q13370',\n  'Q6IA69',\n  'Q6VVX0'},\n 'Vascular Endothelial Growth Factors': {'P15692',\n  'P98155',\n  'Q06413',\n  'Q15652',\n  'Q8IX07',\n  'Q8TDN2',\n  'Q8WW38',\n  'Q9NVS2'},\n 'Myasthenia Gravis': {'O95670', 'P16410', 'Q30154', 'Q9Y6Q6'},\n 'Gallbladder Diseases': {'O94779', 'P11233', 'P27487', 'Q8IZP7', 'Q9P121'},\n 'Skin Pigmentation': {'O95714',\n  'P14679',\n  'Q01726',\n  'Q13509',\n  'Q15306',\n  'Q71RS6',\n  'Q96KP1',\n  'Q9UMX9'},\n 'acylcarnitine': {'O76082',\n  'P11310',\n  'P28330',\n  'Q08752',\n  'Q5T1C6',\n  'Q86VW1',\n  'Q9H015'},\n 'Amyotrophic Lateral Sclerosis': {'P60953', 'Q13009', 'Q6NUN9', 'Q92845'},\n 'Neuroblastoma': {'P25800', 'Q53GQ0', 'Q8IYU2', 'Q99728', 'Q9HC58'},\n 'Nicotine': {'P11509', 'P20853'},\n 'Ear, External': {'O75897', 'P82650', 'Q9NYQ3', 'Q9UNE0'},\n 'Transferrin': {'O00327',\n  'O95864',\n  'P02787',\n  'P11245',\n  'Q30201',\n  'Q8IU80',\n  'Q8IWA0',\n  'Q9NP59',\n  'Q9UP52'},\n 'Hippocampus': {'O60706', 'P12259', 'P16383', 'Q14832', 'Q8IXL7', 'Q9Y2U8'},\n 'Emphysema': {'P32297', 'Q15109', 'Q3KP31', 'Q96QB1', 'Q9UBK2', 'Q9UK55'},\n 'Seizures, Febrile': {'P15529', 'P28906', 'P35498', 'Q99250', 'Q9BYT9'},\n 'Transplants': {'O60229', 'P04440', 'P10092', 'P20036', 'Q13618', 'Q7Z5N4'},\n 'Serum Albumin': {'P05981', 'P62280', 'Q14397', 'Q562E7'},\n 'Phosphorus': {'P01040',\n  'P05186',\n  'P16442',\n  'Q96PC2',\n  'Q9H221',\n  'Q9NP56',\n  'Q9P0L0'},\n 'Resistin': {'Q6IPR3', 'Q8IX19', 'Q9HD89', 'Q9Y4X5'},\n 'Hepatitis': {'O76093', 'Q99928'},\n 'Partial Thromboplastin Time': {'P00748',\n  'P01042',\n  'P03951',\n  'P04196',\n  'P08709',\n  'P12259',\n  'P16442',\n  'P43250',\n  'Q96MI9',\n  'Q9BV94'},\n 'Natriuretic Peptide, Brain': {'O95965', 'P03952', 'Q92581'},\n 'Stevens-Johnson Syndrome': {'Q01860', 'Q13422', 'Q13838', 'Q9Y3Q4'},\n 'lamotrigine': {'P05013', 'Q8IYU2'},\n 'Personality': {'P23142', 'P23468', 'P29475', 'Q9NVH2', 'Q9P212'},\n 'Suntan': {'O95714',\n  'O95995',\n  'P14679',\n  'P41594',\n  'Q01726',\n  'Q15306',\n  'Q96KP1',\n  'Q9UMX9'},\n 'Exanthema': {'P05013', 'Q8IYU2'},\n 'Eye Color': {'O95714',\n  'P14679',\n  'P17643',\n  'Q15306',\n  'Q8NFF2',\n  'Q8TAT6',\n  'Q9P2I0',\n  'Q9UMX9'},\n 'Selenium': {'P02787',\n  'P15848',\n  'P35520',\n  'Q30201',\n  'Q86YM7',\n  'Q8IU80',\n  'Q93088',\n  'Q9H2M3',\n  'Q9UI17',\n  'Q9UP52'},\n 'Vitamin B 12': {'O60494', 'P20061', 'P51993', 'Q10981', 'Q96HJ5'},\n 'Mouth Neoplasms': {'P00325', 'P01920', 'Q8NGI0', 'Q9Y6N6'},\n 'Melanosis': {'O15360', 'P14679', 'Q01726', 'Q15306', 'Q96KP1'},\n 'Electromagnetic Radiation': {'P23945', 'Q6YBV0', 'Q7LBC6', 'Q9UK17'},\n 'Carcinoma, Renal Cell': {'P24385', 'Q14571', 'Q8WTV0', 'Q99814'},\n 'Thrombosis': {'O95237',\n  'P00734',\n  'P02679',\n  'P12259',\n  'P16442',\n  'Q8IWA5',\n  'Q9UNN8'},\n 'Dehydroepiandrosterone': {'Q8NFW1', 'Q9NPC2'},\n 'Carotid Arteries': {'O43699', 'Q9UH73'},\n 'Alopecia Areata': {'P01589', 'P01906', 'P16410', 'P60568', 'Q9HBE4'},\n 'Cystic Fibrosis': {'P48764',\n  'P50052',\n  'Q7LBE3',\n  'Q96AH8',\n  'Q96GX9',\n  'Q99102',\n  'Q9P209',\n  'Q9UN76'},\n 'Platelet Aggregation': {'P08913', 'Q15652', 'Q9HCN6'},\n 'Blood Cells': {'P42262', 'Q09328', 'Q5VYY2'},\n 'Glaucoma, Angle-Closure': {'O94777', 'P12107', 'Q96AC1'},\n 'Birth Weight': {'O95622', 'P08588', 'P52926', 'Q5VV42'},\n 'Serotonin Uptake Inhibitors': {'O75444',\n  'P10635',\n  'P11712',\n  'Q8TF09',\n  'Q8WXX7'},\n 'Apolipoproteins B': {'P52799', 'P54764', 'Q13586', 'Q9UBM8'},\n 'Mental Disorders': {'P23142', 'Q9H008', 'Q9NVH2'},\n 'Migraine without Aura': {'P01138', 'P10767', 'Q07954', 'Q7Z2W7', 'Q9GZV9'},\n 'Ferritins': {'P16442',\n  'Q14916',\n  'Q30201',\n  'Q8IU80',\n  'Q8IWA0',\n  'Q9NP59',\n  'Q9P0S3'},\n 'Cryptorchidism': {'Q12857', 'Q9UJ68'},\n 'Eosinophilic Esophagitis': {'A8MX76',\n  'Q14019',\n  'Q8NI36',\n  'Q969D9',\n  'Q96NW4'},\n 'Chemokine CCL2': {'O00590',\n  'P12319',\n  'P30954',\n  'P51677',\n  'Q16570',\n  'Q8N126',\n  'Q8N9B8',\n  'Q9H257'},\n 'Adrenal Cortex Hormones': {'P25106', 'Q8IX07', 'Q99627', 'Q9BTW9'},\n 'Complement C4': {'O14931',\n  'P05538',\n  'P13765',\n  'P22105',\n  'P34931',\n  'Q03519',\n  'Q92759',\n  'Q99466',\n  'Q9UIR0'},\n 'Cholelithiasis': {'O60656',\n  'P19224',\n  'P22309',\n  'P22310',\n  'P35503',\n  'P35504',\n  'Q9HAW7',\n  'Q9HAW8',\n  'Q9HAW9'},\n 'Osteoarthritis': {'O15068',\n  'O94788',\n  'Q13554',\n  'Q86U86',\n  'Q8TEK3',\n  'Q9BVP2'},\n 'Acne Vulgaris': {'P14151', 'P16109', 'P61812'},\n 'Pulmonary Embolism': {'O95237',\n  'P00734',\n  'P02679',\n  'P12259',\n  'P16442',\n  'Q8IWA5',\n  'Q9UNN8'},\n 'Insulin-Like Growth Factor Binding Protein 3': {'P17936', 'Q9Y5Y2'},\n 'Angiography': {'P31327', 'Q14982', 'Q8N9B5', 'Q8NEB9', 'Q93088', 'Q9NV58'},\n 'Angiotensin-Converting Enzyme Inhibitors': {'O14782',\n  'P18507',\n  'Q6PIL6',\n  'Q6ZNC8',\n  'Q7Z460',\n  'Q9NRF2'},\n 'Blood Viscosity': {'O94788'},\n 'Blood Vessels': {'O60921'},\n 'Anticoagulants': {'P11712', 'P78329', 'Q12846', 'Q9BQB6'},\n 'Mitral Valve Prolapse': {'P48739', 'Q86US8', 'Q9NZU5'},\n 'Aspartate Aminotransferases': {'P22897', 'Q96JB6', 'Q9NST1'},\n 'Malaria': {'A6NGY5', 'P16442', 'P23634', 'P68871', 'Q9H2C8', 'Q9H346'},\n 'Intervertebral disc disease': {'O60260', 'Q7LGC8', 'Q8NBK3', 'Q96SW2'},\n 'Ossification of the posterior longitudinal ligament of the spine': {'O15372',\n  'O75486',\n  'Q6UXX9',\n  'Q9UJM8'},\n 'Osteitis Deformans': {'P09603',\n  'P29590',\n  'Q8TB24',\n  'Q92621',\n  'Q96CV9',\n  'Q9H295',\n  'Q9Y6Q6'},\n 'Fractures, Bone': {'P03372', 'P11226', 'Q9BXY4', 'Q9UBV4'},\n 'Rhinitis, Allergic': {'Q02338', 'Q68DI1', 'Q8TAW3'},\n 'Face': {'O75486', 'P23760', 'P55317', 'Q13950', 'Q9Y210', 'Q9Y5Q3'},\n 'DNA': {'O60656',\n  'P19224',\n  'P22309',\n  'P22310',\n  'P35503',\n  'P35504',\n  'Q9HAW7',\n  'Q9HAW8',\n  'Q9HAW9'},\n 'Substance-Related Disorders': {'O43639',\n  'O94856',\n  'P08908',\n  'P49619',\n  'Q92831'},\n 'Testicular Germ Cell Tumor': {'O75437',\n  'P35680',\n  'Q02224',\n  'Q14188',\n  'Q8IX07',\n  'Q9UQC2'},\n 'Antidepressive Agents': {'O75444', 'Q8TF09', 'Q96A83', 'Q9Y2C2'},\n 'Protein C': {'P04070', 'Q9BV94', 'Q9UIG0', 'Q9UNN8'},\n 'Paliperidone Palmitate': {'Q13454', 'Q9NZI2'},\n 'Lung Diseases': {'P48764', 'P50052', 'Q96GX9', 'Q99102', 'Q9P209', 'Q9UN76'},\n 'Essential Tremor': {'P11245', 'Q86VH5', 'Q96FE5', 'Q9UBK2'},\n 'Cognition': {'O96008', 'Q9BU64'},\n 'Fenofibrate': {'P01589',\n  'Q13261',\n  'Q86YP4',\n  'Q96HN2',\n  'Q9HD20',\n  'Q9P107',\n  'Q9Y6X3'},\n 'Pancreatitis': {'P01906', 'P07477', 'Q12834', 'Q8TE60', 'Q9BW60'},\n 'Parathyroid Hormone': {'A0M8Q6', 'O43566', 'O95500', 'P41180', 'Q07973'},\n 'Intercellular Adhesion Molecule-1': {'P05362', 'P16442', 'Q14185', 'Q14773'},\n 'Drug Resistance': {'P25789', 'P55290', 'Q12857', 'Q29983', 'Q96BD6'},\n 'P-Selectin': {'P16109', 'P16442', 'P27169', 'Q15166', 'Q8IZP7', 'Q969S0'},\n 'Testosterone': {'O75352', 'P14415', 'Q6NUK4'},\n 'Hepatitis C': {'P01903', 'P30559', 'Q12866', 'Q9UBF6', 'Q9UI40', 'Q9UIR0'},\n 'Trans Fatty Acids': {'O60427', 'O95864', 'P39748', 'Q9ULB5'},\n 'Basophils': {'P04843', 'P49715', 'Q96JT2', 'Q9NS82', 'Q9Y3Q0'},\n 'Diet': {'P56559'},\n 'Potassium, Dietary': {'P56559'},\n 'Tissue Plasminogen Activator': {'P00750', 'P06746', 'Q8NFP9'},\n 'Plasminogen Activator Inhibitor 1': {'O00327', 'P05121', 'P22303', 'Q9BXP5'},\n 'Overweight': {'O95971', 'Q14916', 'Q96S37', 'Q9NRM0', 'Q9NSA0', 'Q9UNQ0'},\n 'Liver Cirrhosis': {'P30559', 'Q12866', 'Q9NST1', 'Q9UBF6', 'Q9UI40'},\n 'Polychlorinated Biphenyls': {'P20813', 'P26232', 'Q96L42', 'Q96PU8'},\n 'Atherosclerosis': {'P02654', 'P25101'},\n 'Glioblastoma': {'O14746', 'P00533', 'P04637', 'P60059', 'Q9NW08', 'Q9NZ71'},\n 'Thyroxine': {'P49895', 'Q7L5N7', 'Q8N5Z0', 'Q8NCQ5', 'Q9UBR4'},\n 'Axial Length, Eye': {'P24043', 'Q2MKA7', 'Q9UKL4'},\n 'Fatty Acids, Omega-6': {'O60427', 'O95864', 'Q15652'},\n 'Peroxidase': {'Q7Z2W7', 'Q8IXL7', 'Q96NL3'},\n 'Precursor B-Cell Lymphoblastic Leukemia-Lymphoma': {'P23771',\n  'P42771',\n  'Q13422',\n  'Q14865',\n  'Q15744',\n  'Q8N726',\n  'Q9H008'},\n 'Intra-Abdominal Fat': {'P37059', 'Q99547', 'Q9H5Y7'},\n 'Glucose Tolerance Test': {'O95622', 'P48546', 'P49286', 'Q14397'},\n 'Vincristine': {'Q330K2', 'Q96A56'},\n 'Puberty': {'Q8IYU2'},\n 'Apolipoproteins C': {'O14788', 'Q86UL8', 'Q9H0E3'},\n 'Polysaccharides': {'P20823', 'P51993', 'Q9BYC5'},\n 'Cartilage': {'O75486', 'P01135', 'P27986', 'Q13950', 'Q8TEK3'},\n 'Carotid Stenosis': {'P19876', 'P35221', 'Q9NQV7', 'Q9Y6N8'},\n 'Wilms Tumor': {'P20062', 'Q15700', 'Q6T4R5', 'Q92499'},\n 'Rheumatoid Factor': {'Q30154'},\n 'Pyloric Stenosis, Hypertrophic': {'P02647', 'Q12981', 'Q9BXA5'},\n 'monocyte chemoattractant protein 1 (66-77)': {'P12319', 'P30954', 'P78333'},\n 'Hernia, Inguinal': {'P19544', 'Q12805', 'Q6UX04', 'Q9UKP5'},\n 'Receptors, Tumor Necrosis Factor': {'O95711', 'P41220'},\n 'Clozapine': {'Q15109', 'Q9NPD5'},\n 'Tuberculosis': {'P19544', 'P57103', 'Q15293', 'Q9ULH1'},\n 'Neurodegenerative Diseases': {'O96008', 'P14210', 'Q15631'},\n 'Restless Legs Syndrome': {'O00470', 'P23468', 'Q13163', 'Q13901'},\n 'Cerebral Cortex': {'O14788', 'O96008', 'P02649', 'P02654', 'Q9UBV4'},\n 'Emotions': {'P01589', 'Q8WXI9', 'Q9NRR3'},\n 'Central Nervous System': {'P29275', 'P78524', 'Q96AV8'},\n 'E-Selectin': {'O15260', 'P16442', 'Q76LX8'},\n 'Subcutaneous Fat, Abdominal': {'O95711'},\n 'Lateral Ventricles': {'Q8N4E7'},\n 'fibrinogen D fragment': {'O60779', 'P02671', 'P02679', 'P12259', 'P13726'},\n 'thiopurine methyltransferase': {'P35659', 'Q6VVB1', 'Q7Z419', 'Q9H1H9'},\n 'Clinical Laboratory Techniques': {'P16442',\n  'P41180',\n  'Q8IU80',\n  'Q9NQB0',\n  'Q9Y6L6'},\n 'Diabetic Nephropathies': set(),\n 'Aspirin': {'O94933', 'P06276'},\n 'Vitamin K': {'Q04724', 'Q14563'},\n 'Skin': {'O00602', 'O15360', 'Q01726'},\n 'Plaque, Atherosclerotic': {'P25101'},\n 'Pharyngeal Neoplasms': {'P00325', 'P01920', 'Q8NGI0'},\n 'Taste Perception': {'O43451', 'P59533', 'P59540'},\n 'Thyroid Gland': {'O75444', 'P21781', 'P47756', 'Q8TF09'},\n 'Amyloid beta-Peptides': {'O96008', 'P02649', 'P02654'},\n 'Supranuclear Palsy, Progressive': {'O43752',\n  'P10636',\n  'P10966',\n  'Q13875',\n  'Q15306',\n  'Q9NZJ5'},\n 'Psychotic Disorders': {'Q86SQ7', 'Q9Y6D9'},\n 'Urinalysis': {'O14490', 'Q01484', 'Q14114'},\n 'Extraversion (Psychology)': {'Q96QG7'},\n 'Giant Cell Arteritis': {'O15460', 'P00747', 'P01906', 'Q30154'},\n 'gamma-Linolenic Acid': {'O60427', 'Q9Y4D2'},\n 'Temporal Lobe': {'P58005'},\n 'Atrial Natriuretic Factor': {'O94823', 'P57057', 'Q9UKV0'},\n 'Receptors, Transferrin': {'O00476', 'P68402', 'Q14916', 'Q8IU80'},\n 'Aortic Aneurysm, Thoracic': {'P35555'},\n 'Mental Processes': {'Q16827', 'Q8N3J6', 'Q9UQQ2'},\n 'Mental Health': {'O43665', 'P12643', 'Q01085', 'Q9BXY4'},\n 'Peroxidases': {'P05164', 'P08603', 'Q8ND04', 'Q99466'},\n 'Glucocorticoids': set(),\n 'Nitric Oxide': {'P35228', 'Q01484', 'Q96QB1'},\n 'Ovarian epithelial cancer': {'P31249', 'Q8IZI9'},\n 'thyroid microsomal antibodies': {'O60229', 'P07202'},\n 'Serum Amyloid A Protein': {'P00338', 'P0DJI8', 'P32780'},\n 'Osteoprotegerin': {'P04004', 'Q9Y6Z7'},\n 'Arachidonic Acid': {'O60427', 'O95864'},\n 'Sex Characteristics': {'P15692'},\n 'Pituitary Neoplasms': {'P49336'},\n 'Matrix Metalloproteinases': {'P08254', 'P39900'},\n 'Diet, Sodium-Restricted': set(),\n 'Arteries': set(),\n 'Skin-Hair-Eye Pigmentation, Variation In, 9': {'P17643'},\n 'Disease-Free Survival': {'Q9UM21', 'Q9Y2F5'},\n 'Pancreatic Neoplasms': {'O00482', 'P16442'},\n 'alpha-carotene': {'P17655', 'Q02156'},\n 'Esophageal Squamous Cell Carcinoma': {'P14415', 'Q01196', 'Q9P212'},\n 'Monoclonal Gammopathy of Undetermined Significance': {'O00472'},\n 'Mood Disorders': {'P37840', 'Q86U86'},\n 'Anthropometry': {'P15692'},\n 'Factor VII': {'P08709', 'Q9UNN8'},\n 'Energy Intake': {'P19526', 'Q8IYV9', 'Q9C0B1', 'Q9NSA1'},\n 'Azoospermia': {'O75038'},\n 'Cystatins': {'Q12791'},\n 'Keloid': {'P46934', 'Q9Y6W6'},\n 'IL1RL1 protein, human': {'O95256', 'P14778', 'Q01638', 'Q6AI14', 'Q9HB29'},\n 'Idiopathic Pulmonary Fibrosis': {'O14746', 'P98088', 'Q9H0E2', 'Q9HC84'},\n 'Bronchitis, Chronic': {'O94988', 'P32297', 'P48509', 'Q717R9'},\n 'Hirschsprung Disease': {'P07949', 'Q02297', 'Q86Y07'},\n 'Leptin': {'Q14397', 'Q9C0B1'},\n 'Prognosis': {'O43524', 'P08833'},\n 'Interleukin-2 Receptor alpha Subunit': {'P01589', 'Q13261', 'Q96I25'},\n 'Progesterone': {'Q9Y2L8'},\n 'Conduct Disorder': {'P49286'},\n 'Brain Diseases': {'P34998'},\n 'Putamen': {'P43146', 'Q07817', 'Q15700', 'Q86UP2'},\n 'Cardiomegaly': {'Q6ZN18', 'Q9NVD7', 'Q9UMD9'},\n 'Growth': {'Q8IYU2'},\n 'Cell Survival': {'Q01813'},\n 'Creatine Kinase': {'O75023', 'P06732', 'Q6PI73', 'Q86VB7'},\n 'Coronary Aneurysm': {'P0DPH7', 'Q9H2S1'},\n 'Uteroglobin': {'Q7L266', 'Q96GX9'},\n 'Lithium': {'Q6UQ28', 'Q6ZQY3'},\n 'Receptors, Tumor Necrosis Factor, Type II': {'O15155',\n  'P08123',\n  'Q08999',\n  'Q92581'},\n 'Blood Sedimentation': {'P17927'},\n 'Diabetic Retinopathy': {'Q7Z5H3', 'Q8IZP7'},\n 'Tobacco Use Disorder': {'A2RU49', 'P32297', 'P43681', 'Q05901'},\n 'Creutzfeldt-Jakob Syndrome': {'O00222', 'P04156', 'Q99743', 'Q9Y216'},\n 'Linoleic Acid': {'O60427', 'O95864', 'P39748', 'Q6P1A2', 'Q9Y4D2'},\n 'Sunburn': {'P14679', 'Q01726'},\n 'Exfoliation Syndrome': {'O00555', 'Q08397'},\n 'Myositis': {'O95670', 'Q29980'},\n 'Smell': {'O95299', 'Q8NG81', 'Q8NGJ1', 'Q8NHC7'},\n 'Inflammation': {'P02741'},\n 'Chemokine CCL4': {'O00421'},\n 'Mycobacterium Infections': set(),\n 'Cystatin C': {'P01034'},\n 'Recombination, Genetic': {'Q9NQV7', 'Q9Y6N8'},\n 'Nephrolithiasis': {'O43566', 'P29972', 'Q86XP1'},\n 'Cough': {'O14782', 'Q6PIL6', 'Q7Z460'},\n 'Hemoglobin E': {'P10242'},\n 'Osteosarcoma': {'O00712', 'Q14833'},\n 'Rest': {'O60547', 'Q7LFX5'},\n 'Embolism': {'P05091', 'Q15911', 'Q99697'},\n 'Hepcidins': {'P02787', 'Q30201', 'Q8IU80'},\n 'sRAGE protein, human': {'Q15109', 'Q99942', 'Q99943'},\n 'Aging': {'Q9UH90'},\n 'Heart Diseases': set(),\n 'Oximetry': set(),\n 'Airway Obstruction': {'A2RU49', 'P25789', 'P30532', 'P32297'},\n 'Sleep Apnea, Obstructive': {'A6ND01', 'Q9NYM4'},\n 'Head and Neck Neoplasms': {'P00325', 'P40394'},\n 'Neuroendocrine Tumors': set(),\n 'Hyperopia': {'Q9UKL4'},\n 'Anti-Inflammatory Agents, Non-Steroidal': set(),\n 'Antibodies, Antiphospholipid': {'P02749'},\n 'Intelligence': {'Q02548', 'Q96L93'},\n 'Pulmonary Artery': {'P30532', 'P48200', 'Q8IYL9'},\n 'Walking': {'A1A4S6'},\n 'Temporomandibular Joint Disorders': {'P11532', 'Q8WXD0'},\n 'Serum Globulins': {'O14836', 'O75888'},\n 'Liver Cirrhosis, Alcoholic': {'Q8IWZ8', 'Q96N66', 'Q9NST1'},\n 'Plasminogen': {'P00747', 'P08519'},\n 'Lymphoma, B-Cell, Marginal Zone': {'Q9UIR0'},\n 'Life Expectancy': set(),\n 'Marijuana Abuse': set(),\n 'Medicine': {'Q13422', 'Q9Y3Q4'},\n 'Digestive System Diseases': {'Q6UUV9', 'Q9H334'},\n 'Arginine': {'P00748', 'P03952', 'P43250', 'Q9ULK4'},\n 'Brugada Syndrome': {'Q14524', 'Q9UBP5', 'Q9Y5Y9'},\n 'Purines': {'P01906', 'Q9C0B1', 'Q9NV35'},\n 'Kidney Calculi': {'O43566', 'O95500', 'P05186', 'P41180'},\n 'Bupropion': {'P37840'},\n 'Hematologic Tests': {'P12259', 'Q9BV94', 'Q9UNN8'},\n 'Stress Disorders, Post-Traumatic': {'O43897'},\n 'Antineoplastic Agents': {'Q08462', 'Q9UM21', 'Q9Y6L6'},\n 'Docosahexaenoic Acids': {'Q9NXB9'},\n 'coenzyme Q10': {'P62861', 'Q5KU26', 'Q96FV9'},\n 'Antipsychotic Agents': {'P32245', 'Q86UE6'},\n 'Dental Caries': {'O00629'},\n 'Primary amyloidosis': {'P24385', 'Q6STE5'},\n 'Sarcoidosis': {'Q9UIR0'},\n 'apolipoprotein A-IV': {'P03952', 'P06727', 'Q6Q788'},\n 'dimethylarginine': {'O94760', 'Q9BYV1'},\n 'Zinc': {'P00915', 'Q96CD2'},\n 'Otitis Media': {'Q9BXM0'},\n 'Plaque, Amyloid': {'Q86SF2', 'Q9NPH3'},\n 'Risperidone': {'Q14831'},\n 'Tetralogy of Fallot': {'P78333', 'Q7Z569'},\n 'Vitamin E': {'P78329', 'Q8WTV0'},\n 'Vitamin A': {'P02766', 'Q5NUL3', 'Q9UBX8'},\n 'Vitamin D Deficiency': {'P02774', 'Q6IA69', 'Q6VVX0'},\n 'Receptors, Interleukin-6': {'P08887'},\n 'alpha 1-Antitrypsin': {'P05091', 'P20823', 'Q14397'},\n 'oxidized low density lipoprotein': {'P04114'},\n 'Thrombin': {'P02763', 'Q12913', 'Q14896'},\n 'Pain': {'Q8NGZ3', 'Q8NGZ6'},\n 'Vitamin B 6': {'P05186'},\n 'Triple Negative Breast Neoplasms': {'P12272'},\n 'Thinness': {'Q14916', 'Q9NRM0', 'Q9UNQ0'},\n 'Peripheral Arterial Disease': {'P25101'},\n 'Interleukin-18': {'Q14116', 'Q9BXU0', 'Q9BYV7'},\n 'Butyrylcholinesterase': {'P06276', 'Q9NYB9'},\n 'Eye': {'P28161'},\n 'Arsenic': set(),\n 'Astigmatism': {'P16234'},\n 'Betaine': {'P31327', 'Q8N9B5', 'Q93088'},\n 'Exhalation': {'Q15109', 'Q9Y6J6'},\n 'Estradiol': {'P11511', 'Q9NQ90'},\n 'Blood': {'P20815', 'Q6NSZ9', 'Q9Y6L6'},\n 'Cold-Shock Response': {'Q7Z2W7', 'Q8NEE6'},\n 'Macrophage Inflammatory Proteins': {'Q96H55'},\n 'Diarrhea': {'Q10981'},\n 'Brain Waves': {'Q9UL01'},\n 'Low Tension Glaucoma': {'Q9Y561'},\n 'Factor VIII': {'P04275', 'P16442'},\n 'Logic': {'Q14123'},\n 'C-Peptide': {'Q14397'},\n 'CHGA protein, human': {'P00748', 'P03952', 'P43250'},\n 'Cadmium': {'O14490'},\n 'Heart Defects, Congenital': {'Q96JK9'},\n 'Drinking Behavior': {'P05091'},\n 'Epilepsy, Generalized': {'P22894', 'Q86Y07'},\n 'Endothelial Growth Factors': {'P14210', 'P16442', 'Q02763'},\n 'Leiomyoma': {'Q9NYM9', 'Q9UPQ9'},\n 'Leukopenia': {'Q8NEM0', 'Q9C0B1', 'Q9NV35'},\n 'Hand Strength': {'Q96QU1'},\n 'Antidepressive Agents, Tricyclic': {'Q96LR5', 'Q9NXR7'},\n 'Granulomatosis with Polyangiitis': {'P04440', 'Q9H2E6'},\n 'Oleic Acid': {'Q99623'},\n 'Aggression': {'P06241'},\n 'Interleukin-1beta': {'Q9BYV7', 'Q9C005', 'Q9UBP0'},\n 'Dehydroepiandrosterone Sulfate': {'Q9Y2L8'},\n 'Non-alcoholic Fatty Liver Disease': {'Q9NST1'},\n 'Nevus': {'O60733', 'Q13126'},\n 'Neuroimaging': {'P02649'},\n 'HIV': {'O00421', 'P02788', 'Q29983'},\n 'Opioid-Related Disorders': {'Q8TBE1'},\n 'Diabetes, Gestational': {'P49286', 'Q5VV42'},\n 'Craniosynostoses': {'P12643', 'Q3SYG4'},\n 'Neoplasm Grading': {'P07288', 'P20936'},\n 'Abdominal Fat': {'Q13634', 'Q9UPW6'},\n 'Myeloproliferative Disorders': {'O60674', 'Q03112'},\n 'Androgens': {'Q3L8U1'},\n 'Anemia': {'P02787', 'Q30201', 'Q9BY32'},\n 'Angiopoietin-2': {'P14210', 'P16442', 'Q02763'},\n 'Angiotensins': {'P12821', 'P16442'},\n 'Fluorescence': {'P11245'},\n 'ADAMTS13 protein, human': {'O75486', 'Q76LX8'},\n 'Suicide, Attempted': set(),\n 'Dermatomyositis': {'P04440', 'P20036'},\n 'Dihydrotestosterone': {'P14415'},\n 'Deglutition Disorders': {'P21802'},\n 'Diclofenac': {'O94823', 'P47870'},\n 'Diagnostic Self Evaluation': {'P12643'},\n 'Diagnostic Techniques, Cardiovascular': {'P13591'},\n 'Duodenal Ulcer': {'O43653', 'P16442'},\n 'Oropharyngeal Neoplasms': {'P00325', 'P01920'},\n 'Dysmenorrhea': {'P01138'},\n 'Eating': {'Q9BXY4'},\n 'Epilepsy, Temporal Lobe': {'P35498'},\n 'Osteoarthritis, Knee': {'Q9UIR0'},\n 'Sneezing': set(),\n 'DNA Damage': {'Q13794'},\n 'Skinfold Thickness': set(),\n 'Frontal Lobe': {'P48051'},\n 'Frontotemporal Dementia': {'Q30154'},\n 'Silicon Compounds': {'P14384', 'Q16630'},\n 'Gait': set(),\n 'Gallstones': {'Q9H221', 'Q9H222'},\n 'Severe Dengue': {'Q29980', 'Q9P212'},\n 'Gases': {'Q08499'},\n 'Smoking Cessation': {'Q12926', 'Q5VZ72'},\n 'Tumor Necrosis Factors': {'O43318'},\n 'Cyclophosphamide': set(),\n 'Bronchial Provocation Tests': set(),\n 'Blood Circulation': {'Q5VZ72'},\n 'Bleomycin': {'Q13794'},\n 'Bladder Exstrophy': set(),\n 'Anxiety Disorders': {'Q7Z624'},\n 'angiotensin converting enzyme 2': {'P12821'},\n 'beta Carotene': {'Q9HAY6'},\n 'blood': {'P13716'},\n 'Antibodies, Antinuclear': {'Q30154'},\n 'Anti-Bacterial Agents': {'Q13794'},\n 'Amyloidosis, Cerebral, with Spongiform Encephalopathy': {'P02649', 'P50150'},\n 'Alpha-Globulins': {'P00739'},\n 'Allergens': set(),\n 'pazopanib': {'Q15109'},\n 'platelet adhesion inhibitor': set(),\n 'pro-brain natriuretic peptide (1-76)': {'P51797'},\n 'Acute-On-Chronic Liver Failure': {'P01903', 'Q9UIR0'},\n 'Acquired Immunodeficiency Syndrome': set(),\n 'Brain Mapping': set(),\n 'CD4-CD8 Ratio': set(),\n 'Corpus Striatum': set(),\n 'Carbon Monoxide': {'P30926', 'P32297'},\n 'Copper': set(),\n 'Tocopherols': set(),\n 'Tomography Scanners, X-Ray Computed': set(),\n 'Complement C3': {'P01024', 'P08603'},\n 'Communication Disorders': {'Q9UI33', 'Q9Y5Y9'},\n 'Triamcinolone Acetonide': set(),\n 'Chlamydial Pneumonia': {'Q13247', 'Q9Y468'},\n 'Troponin T': {'P45379'},\n 'Chemotherapy, Adjuvant': set(),\n 'Serpins': {'P29622'},\n 'Typhoid Fever': {'P01906'},\n 'Cerebral Hemorrhage': {'Q6P1K2'},\n 'Cataract, Age-Related Nuclear': {'Q14722'},\n 'Uromodulin': {'P07911'},\n 'Carotenoids': {'Q9HAY6'},\n 'Cardiomyopathy, Dilated': {'O95817', 'Q13105'},\n 'Carcinoma, squamous cell of head and neck': {'Q8NGZ3', 'Q8NGZ6'},\n 'Gastrointestinal Neoplasms': {'Q9P212'},\n 'Speech Perception': {'Q9NRA1'},\n 'Genotype': {'O60229', 'Q7Z5N4'},\n 'Hypertension, Early-Onset, Autosomal Dominant, with Severe Exacerbation in Pregnancy': set(),\n 'Pneumococcal Infections': set(),\n 'Pneumoconiosis': {'P14384', 'Q16630'},\n 'Lipase': {'P16442', 'Q10981'},\n 'Lewy Bodies': {'P02461'},\n 'Leukemia, Myeloid, Chronic-Phase': set(),\n 'Leucine': {'Q9UHE5'},\n 'Language': set(),\n 'Lactation': {'Q14397'},\n 'Keratoconus': {'Q15042'},\n 'Joints': set(),\n 'Iron-Binding Proteins': {'P02787'},\n 'Pulse Wave Analysis': set(),\n 'Infant, Newborn': set(),\n 'Immunoglobulin M': {'O75888'},\n 'Immunoglobulin A': {'O95150', 'Q9NS00'},\n 'Hypotension, Orthostatic': {'Q86UE6'},\n 'Lupus Nephritis': set(),\n 'Lutein': {'Q9HAY6'},\n 'Papillomavirus Vaccines': {'P01920'},\n 'Osteonecrosis': set(),\n 'Ocular Physiological Phenomena': {'Q9NQV7', 'Q9Y6N8'},\n 'Obsessive-Compulsive Disorder': set(),\n 'Paclitaxel': {'Q01813'},\n 'Neoplasm Metastasis': {'O00712', 'Q9NYP7'},\n 'Neonatal Systemic lupus erythematosus': {'Q29980'},\n 'Panic Disorder': {'Q13835', 'Q9NQ90'},\n 'Paralysis': set(),\n 'Moyamoya Disease': {'Q63HN8'},\n 'Motor Activity': set(),\n 'Peanut Hypersensitivity': {'P01906'},\n 'Methoxyhydroxyphenylglycol': {'P30872'},\n 'Methadone': set(),\n 'Memory, Episodic': set(),\n 'Mathematics': set(),\n 'Hypertension, Pulmonary': set(),\n 'ziprasidone': {'Q08209'},\n 'Hydroxyindoleacetic Acid': {'P30872'},\n 'Hormone Replacement Therapy': {'Q07973', 'Q9NQP4'},\n 'Serologic Tests': {'Q13247', 'Q9Y468'},\n 'Sensation Disorders': {'Q8NFD5'},\n 'Glycoproteins': set(),\n 'Sciatica': set(),\n 'Sarcoma, Ewing': {'P11161'},\n 'S-phenyl-N-acetylcysteine': {'P0CG30', 'P14174'},\n 'Haptoglobins': {'P00739'},\n 'Head': {'P52926'},\n 'Helicobacter Infections': {'P12318', 'Q9BXR5'},\n 'Respiratory System': {'P13521', 'Q96PC3'},\n 'Homoarginine': {'O43868', 'P50440'},\n 'Renin': {'P01042'},\n 'Health': {'P02649', 'P02654'},\n 'Quetiapine Fumarate': {'Q08499'},\n 'Parietal Lobe': set(),\n 'Hydrochlorothiazide': set(),\n 'Hypertrophy, Left Ventricular': {'P13591'},\n 'HER2(776-788)': {'P21802'},\n 'Anticonvulsants': set(),\n 'arylesterase': {'P27169'},\n 'Dyslexia': {'P29122'},\n 'Methotrexate': {'Q9Y6L6'},\n 'Antihypertensive Agents': set(),\n 'Receptors, Leptin': {'P48357'},\n 'Aortic Valve, Calcification of': {'P08519'},\n 'Metformin': set(),\n 'Asparaginase': {'Q13469'},\n 'Menstruation': {'P46531'},\n 'Y Chromosome': set(),\n 'Wine': {'P06340'},\n 'Meningococcal Infections': {'Q02985'},\n 'Bevacizumab': {'Q496J9'},\n 'Biliary Atresia': set(),\n 'Birdshot chorioretinopathy': {'Q9UIQ6'},\n 'Meningioma': set(),\n 'Rotator Cuff Injuries': {'Q9UHR5'},\n 'Diagnosis': {'O00712'},\n 'Mannose': {'Q14397'},\n 'dalcetrapib': {'O60503'},\n 'docetaxel': {'Q08AM6'},\n 'Blood Platelets': set(),\n 'Anterior Chamber': {'O15440'},\n 'Survival Rate': set(),\n 'Orofacial Cleft 1': set(),\n 'Opiate Alkaloids': {'Q9UJ96'},\n 'temozolomide': {'P16455'},\n 'Sensorimotor Cortex': {'Q9NPB8'},\n 'Otosclerosis': {'P78509'},\n 'Occipital Lobe': {'Q9ULG1'},\n 'Diet, High-Fat': set(),\n 'Glomerulosclerosis, Focal Segmental': {'O14791'},\n 'Neurofibrillary Tangles': set(),\n 'olanzapine': {'Q8WXG9'},\n 'montelukast': {'P42568'},\n 'Sex Ratio': {'O60237'},\n 'lycopene': {'Q8WTS6'},\n 'Sexual Behavior': {'Q9H008'},\n 'lapatinib': {'P55327'},\n 'Glucosephosphate Dehydrogenase': {'Q9H341'},\n 'Functional Laterality': {'P29122'},\n 'gemcitabine': {'Q96PD4'},\n \"Fuchs' Endothelial Dystrophy\": {'P15884'},\n 'Muscle Weakness': set(),\n 'gamma-Glutamylcyclotransferase': set(),\n 'Ankle Brachial Index': set(),\n 'Vitamins': set(),\n 'Sleep Wake Disorders': {'Q96NW7'},\n 'Deafness, Aminoglycoside-Induced': {'O76024'},\n 'Ceruloplasmin': {'P00450'},\n 'Language Disorders': set(),\n 'Energy Metabolism': {'P42679'},\n 'Hepatitis, Autoimmune': {'P01909'},\n 'Cisplatin': {'O76024'},\n 'Trichloroethylene': {'Q29983'},\n 'Psychomotor Performance': {'P02654'},\n 'Cocaine-Related Disorders': set(),\n 'Kidney Transplantation': set(),\n 'Colonic Neoplasms': {'Q92797'},\n 'Tourette Syndrome': {'Q8IZC6'},\n 'Psychotropic Drugs': set(),\n 'Stress, Psychological': {'Q9UH73'},\n 'Constriction, Pathologic': set(),\n 'Kashin-Beck Disease': {'Q14571'},\n 'Contrast Sensitivity': set(),\n 'Dementia, Vascular': {'P43405'},\n 'Ear': {'Q9UNE0'},\n 'Interleukin 1 Receptor Antagonist Protein': {'Q8WWZ1'},\n 'Interferons': {'O43897'},\n 'Dystonia': {'Q96EG1'},\n 'Interferon-alpha': {'Q13976'},\n 'DDT': {'P20813'},\n 'Dementia': set(),\n 'Gastric Bypass': set(),\n 'Entorhinal Cortex': set(),\n 'Vitamin D-Binding Protein': {'P02774'},\n 'Hemochromatosis': {'P02787'},\n 'Ribavirin': {'Q9BY32'},\n 'Erectile Dysfunction': {'P23945'},\n 'Hashimoto Disease': {'Q9UKW4'},\n 'Sulfates': set(),\n 'C4BPA protein, human': {'P20851'},\n 'Digestive System Neoplasms': {'Q14185'},\n 'Virus Diseases': {'O43897'},\n 'Live Birth': {'O00584'},\n 'CHI3L1 protein, human': {'P36222'},\n 'Vascular Stiffness': {'P02462'},\n 'Hearing': set(),\n 'Vascular Endothelial Growth Factor Receptor-1': set(),\n 'Calcium Channel Blockers': set(),\n 'Calorimetry, Indirect': set(),\n 'Lip': {'Q9UNE0'},\n 'Linoleoyl-CoA Desaturase': {'O60427'},\n 'Lewy Body Disease': {'P02649'},\n 'Reading': {'Q6UWN5'},\n 'Prefrontal Cortex': {'O43432'},\n 'Premature Birth': {'O00584'},\n 'Caudate Nucleus': set(),\n 'Cerebral Amyloid Angiopathy': set(),\n 'Depression': {'O96008'},\n 'Cetuximab': {'Q9UM21'}}"
     },
     "execution_count": 87,
     "metadata": {},
     "output_type": "execute_result"
    }
   ],
   "source": [
    "map_disease_to_proteins = {disease: set() for disease in df_sel_diseases[\"Disease\"]}\n",
    "for disease in df_sel_diseases[\"Disease\"]:\n",
    "    for g in map_disease_to_genes[disease]:\n",
    "        if g in map_genes_to_proteins:\n",
    "            for protein in map_genes_to_proteins[g]:\n",
    "                map_disease_to_proteins[disease].add(protein)\n",
    "map_disease_to_proteins"
   ],
   "metadata": {
    "collapsed": false,
    "pycharm": {
     "name": "#%% Get list of proteins for each disease\n"
    }
   }
  },
  {
   "cell_type": "code",
   "execution_count": null,
   "outputs": [],
   "source": [
    "map_disease_to_proteins = {d: len(g) for d, g in map_disease_to_proteins.items()}\n",
    "df_disease_to_proteins = pd.DataFrame(data=map_disease_to_proteins.items(), columns=[\"Disease\", \"Num\"])\n",
    "df_disease_to_proteins['Entity'] = config.proteins\n",
    "df_disease_to_proteins.sort_values([\"Num\"], ascending=False, inplace=True)\n",
    "df_disease_to_proteins"
   ],
   "metadata": {
    "collapsed": false,
    "pycharm": {
     "name": "#%% Get number of proteins per disease\n"
    }
   }
  },
  {
   "cell_type": "code",
   "execution_count": null,
   "outputs": [],
   "source": [
    "df_disease_to_entitites = pd.concat([df_disease_to_genes, df_disease_to_proteins])\n",
    "df_disease_to_entitites.sort_values(by=[\"Disease\"], inplace=True)\n",
    "df_disease_to_entitites"
   ],
   "metadata": {
    "collapsed": false,
    "pycharm": {
     "name": "#%%\n"
    }
   }
  },
  {
   "cell_type": "code",
   "execution_count": null,
   "outputs": [],
   "source": [
    "sns.violinplot(data=df_disease_to_entitites, color=\"0.8\")\n",
    "sns.stripplot(data=df_disease_to_entitites, jitter=True, zorder=1)\n",
    "plt.show()"
   ],
   "metadata": {
    "collapsed": false,
    "pycharm": {
     "name": "#%% See the distribution of genes and proteins per disease\n"
    }
   }
  },
  {
   "cell_type": "code",
   "execution_count": null,
   "outputs": [],
   "source": [
    "map_protein_to_diseases = {}\n",
    "for d, ps in map_disease_to_proteins.items():\n",
    "    for p in ps:\n",
    "        if not p in map_protein_to_diseases:\n",
    "            map_protein_to_diseases[p] = set()\n",
    "        map_protein_to_diseases[p].Add(d)\n",
    "map_protein_to_diseases"
   ],
   "metadata": {
    "collapsed": false,
    "pycharm": {
     "name": "#%% Create map from proteins to diseases\n"
    }
   }
  },
  {
   "cell_type": "code",
   "execution_count": null,
   "outputs": [],
   "source": [
    "df_disease_to_proteins = pd.DataFrame(data=map_protein_to_diseases.items(), columns=[\"Protein\", \"Num\"])\n",
    "df_disease_to_proteins['Entity'] = config.proteins\n",
    "df_disease_to_proteins.sort_values([\"Num\"], ascending=False, inplace=True)\n",
    "df_disease_to_proteins"
   ],
   "metadata": {
    "collapsed": false,
    "pycharm": {
     "name": "#%% Get number of disease per protein\n"
    }
   }
  },
  {
   "cell_type": "code",
   "execution_count": null,
   "outputs": [],
   "source": [
    "# Select proteins with multiple proteoforms\n",
    "\n",
    "selected_proteins = set(df[\"Protein\"].unique())\n",
    "selected_proteins\n",
    "\n",
    "# Select proteins that do not participate in many diseases\n",
    "\n"
   ],
   "metadata": {
    "collapsed": false,
    "pycharm": {
     "name": "#%% Select proteins proteins to filter diseases\n"
    }
   }
  },
  {
   "cell_type": "code",
   "execution_count": null,
   "outputs": [],
   "source": [
    "selected_diseases = set()\n",
    "for disease, proteins in map_disease_to_proteins.items():\n",
    "    if proteins & selected_proteins:\n",
    "        selected_diseases.add(disease)\n",
    "selected_diseases"
   ],
   "metadata": {
    "collapsed": false,
    "pycharm": {
     "name": "#%% Select diseases with at least one protein with multiple proteoforms\n"
    }
   }
  },
  {
   "cell_type": "code",
   "execution_count": null,
   "outputs": [],
   "source": [
    "len(selected_diseases)"
   ],
   "metadata": {
    "collapsed": false,
    "pycharm": {
     "name": "#%%\n"
    }
   }
  },
  {
   "cell_type": "code",
   "source": [
    "\n"
   ],
   "metadata": {
    "collapsed": false,
    "pycharm": {
     "name": "#%%\n"
    }
   },
   "execution_count": 47,
   "outputs": [
    {
     "data": {
      "text/plain": "['Hello', 'Hello', 'Hello', 'Hello', 'Hello']"
     },
     "execution_count": 47,
     "metadata": {},
     "output_type": "execute_result"
    }
   ]
  },
  {
   "cell_type": "code",
   "execution_count": null,
   "outputs": [],
   "source": [
    "\n",
    "file_vertices = \"resources/Reactome/interactome_indexed_vertices.tsv\"\n",
    "file_edges = \"resources/Reactome/interactome_edges.tsv\"\n",
    "file_indexes = \"resources/Reactome/interactome_vertices\"\n",
    "file_proteins_to_genes = \"resources/Reactome/mapping_proteins_to_genes.tsv\"\n",
    "file_proteins_to_proteoforms = \"resources/Reactome/mapping_proteins_to_proteoforms.tsv\"\n",
    "output_path = \"resources/PheGenI/modules/\""
   ],
   "metadata": {
    "collapsed": false,
    "pycharm": {
     "name": "#%% Set file locations\n"
    }
   }
  },
  {
   "cell_type": "code",
   "execution_count": null,
   "outputs": [],
   "source": [],
   "metadata": {
    "collapsed": false,
    "pycharm": {
     "name": "#%% Compile and run program\n"
    }
   }
  },
  {
   "cell_type": "code",
   "execution_count": null,
   "outputs": [],
   "source": [
    "\n",
    "pass\n",
    "# Generates module files: gene_modules.tsv, protein_modules.tsv and proteoform_modules.tsv\n",
    "# Generates single module files at each level: gene, protein and proteoform file for each trait\n",
    "# Module sizes for genes, protein and proteoform levels\n",
    "# Variation in module sizes when going from one level to the other\n",
    "# Three files (for genes, proteins and proteoforms) with the Overlap similarity of each \n",
    "# pair of traits.\n",
    "# Creates a file with a selection of trait pair examples which show decrease in the overlap."
   ],
   "metadata": {
    "collapsed": false,
    "pycharm": {
     "name": "#%%\n"
    }
   }
  },
  {
   "cell_type": "code",
   "execution_count": null,
   "outputs": [],
   "source": [
    "args = {\n",
    "    \"modules_file\": \"resources/PheGenI/PheGenI_Association_genome_wide_significant.txt\",\n",
    "    \"gene_vertices\": \"resources/Reactome/genes_vertices.tsv\",\n",
    "    \"protein_vertices\": \"resources/Reactome/proteins_vertices.tsv\",\n",
    "    \"proteoform_vertices\": \"resources/Reactome/proteoforms_vertices.tsv\",\n",
    "    \"small_molecules_vertices\": \"resources/Reactome/proteoforms_small_molecules_vertices.tsv\",\n",
    "    \"gene_edges\": \"resources/Reactome/genes_interactions.tsv\",\n",
    "    \"protein_edges\": \"resources/Reactome/proteins_interactions.tsv\",\n",
    "    \"proteoform_edges\": \"resources/Reactome/proteoforms_interactions.tsv\",\n",
    "    \"proteins_to_genes\": \"resources/UniProt/mapping_proteins_to_genes.tsv\",\n",
    "    \"proteins_to_proteoforms\": \"resources/UniProt/mapping_proteins_to_proteoforms.tsv\",\n",
    "    \"output_path\": \"reports/All_modules/\"\n",
    "}\n",
    "\n",
    "result = subprocess.check_output(\"dir\", stderr=subprocess.STDOUT, shell=True)\n",
    "\n",
    "print(result.decode())"
   ],
   "metadata": {
    "collapsed": false,
    "pycharm": {
     "name": "#%%\n"
    }
   }
  },
  {
   "cell_type": "markdown",
   "source": [
    "## Compare disease modules accross levels"
   ],
   "metadata": {
    "collapsed": false,
    "pycharm": {
     "name": "#%% md\n"
    }
   }
  },
  {
   "cell_type": "code",
   "execution_count": null,
   "outputs": [],
   "source": [
    "sizes_dict_connected = {level: pd.read_csv(f\"reports/All_modules/module_sizes_{level}.tsv\", sep=\"\\t\") for level in LEVELS}\n",
    "sizes_dict_disconnected = {level: pd.read_csv(f\"reports/modules_keep_disconnected/module_sizes_{level}.tsv\", sep=\"\\t\") for level in LEVELS}\n",
    "for level in LEVELS:\n",
    "    print(f\"\\n{level}\")\n",
    "    print(sizes_dict_connected[level].describe())\n",
    "    print(sizes_dict_disconnected[level].describe())\n",
    "    sizes_dict_connected[level][\"CONNECTEDNESS\"] = \"connected\"\n",
    "    sizes_dict_disconnected[level][\"CONNECTEDNESS\"] = \"disconnected\"\n",
    "\n",
    "sizes_df_connected = pd.concat(sizes_dict_connected, names=[\"level\", \"index\"])\n",
    "sizes_df_disconnected = pd.concat(sizes_dict_disconnected, names=[\"level\", \"index\"])\n",
    "# sizes_df[sizes_df.index.get_level_values(\"level\") == \"genes\"]\n",
    "# sizes_df = pd.concat([sizes_df_connected, sizes_dict_disconnected], names=[\"level\", \"index\"])\n",
    "# sizes_df\n",
    "sizes_df_connected[\"LEVEL\"] = sizes_df_connected.index.get_level_values(\"level\")\n",
    "sizes_df_disconnected[\"LEVEL\"] = sizes_df_disconnected.index.get_level_values(\"level\")\n",
    "sizes_df = pd.concat([sizes_df_connected, sizes_df_disconnected])\n",
    "sizes_df"
   ],
   "metadata": {
    "collapsed": false,
    "pycharm": {
     "name": "#%% Explore module sizes\n"
    }
   }
  },
  {
   "cell_type": "code",
   "execution_count": null,
   "outputs": [],
   "source": [
    "# Do the following plots for the All_modules in two cases: keeping disconnected nodes and removing them\n",
    "    # Jitter plot showing the sizes for genes, proteins and proteoforms\n",
    "    # Jitter plot showing the difference in size fom genes to proteins and from proteins to proteoforms.\n",
    "# sizes_df = pd.DataFrame()\n",
    "# for level in levels:\n",
    "#     sizes_df[f\"SIZES_{level.upper()}\"] = sizes_dict[level][\"SIZES\"]\n",
    "\n",
    "sns.set(style=\"ticks\")\n",
    "g = sns.FacetGrid(sizes_df, col=\"LEVEL\", height=4, aspect=.5, hue=\"LEVEL\", palette=\"Set2\")\n",
    "g.map(sns.barplot, \"CONNECTEDNESS\", \"SIZE\")\n",
    "plt.show()\n",
    "\n",
    "ax = sns.boxplot(x=\"SIZE\", y=\"LEVEL\", data=sizes_df_connected, whis=np.inf)\n",
    "ax = sns.stripplot(x=\"SIZE\", y=\"LEVEL\", data=sizes_df_connected, jitter=True, color=\".3\")\n",
    "plt.show()\n",
    "\n",
    "ax = sns.violinplot(x=\"SIZE\", y=\"LEVEL\", data=sizes_df_connected, inner=None, color=\".8\")\n",
    "ax = sns.stripplot(x=\"SIZE\", y=\"LEVEL\", data=sizes_df_connected, jitter=True)\n",
    "plt.show()\n",
    "\n",
    "g = sns.catplot(x=\"LEVEL\", y=\"SIZE\",\n",
    "                hue=\"LEVEL\", col=\"CONNECTEDNESS\",\n",
    "                data=sizes_df, kind=\"strip\",\n",
    "                jitter=True,\n",
    "                height=4, aspect=.7);\n",
    "plt.show()\n",
    "\n",
    "g = sns.catplot(x=\"CONNECTEDNESS\", y=\"SIZE\",\n",
    "                hue=\"CONNECTEDNESS\", col=\"LEVEL\",\n",
    "                data=sizes_df, kind=\"strip\",\n",
    "                jitter=True,\n",
    "                height=4, aspect=.7);\n",
    "plt.show()\n",
    "\n",
    "g = sns.catplot(x=\"SIZE\", y=\"LEVEL\", hue=\"CONNECTEDNESS\", data=sizes_df, kind=\"violin\")\n",
    "plt.show()\n",
    "\n",
    "g = sns.catplot(x=\"SIZE\", y=\"CONNECTEDNESS\", hue=\"LEVEL\", data=sizes_df, kind=\"violin\")\n",
    "plt.show()"
   ],
   "metadata": {
    "collapsed": false,
    "pycharm": {
     "name": "#%%\n"
    }
   }
  },
  {
   "cell_type": "code",
   "execution_count": null,
   "outputs": [],
   "source": [
    "# Calculate and plot size variation\n",
    "sizes_df = pd.concat(\n",
    "    [pd.read_csv(f\"reports/All_modules/module_sizes_{level}.tsv\", sep=\"\\t\", names=[\"MODULES\", f\"SIZE_{level.upper()}\"], header=0)[f\"SIZE_{level.upper()}\"] for level in LEVELS], \n",
    "    axis=1)\n",
    "\n",
    "sizes_df[f\"VARIATION_GENES_TO_PROTEINS\"] = sizes_df[\"SIZE_PROTEINS\"] - sizes_df[\"SIZE_GENES\"]\n",
    "sizes_df[f\"VARIATION_PROTEINS_TO_PROTEOFORMS\"] = sizes_df[\"SIZE_PROTEOFORMS\"] - sizes_df[\"SIZE_PROTEINS\"]\n",
    "\n",
    "sizes_df['PERCENTAGE_GENES_TO_PROTEINS'] = sizes_df['VARIATION_GENES_TO_PROTEINS']*100/sizes_df['SIZE_GENES']\n",
    "sizes_df['PERCENTAGE_PROTEINS_TO_PROTEOFORMS'] = sizes_df['VARIATION_PROTEINS_TO_PROTEOFORMS']*100/sizes_df['SIZE_PROTEINS']\n",
    "sizes_df.fillna(0, inplace=True)\n",
    "# sizes_df['PERCENTAGE_PROTEINS_TO_PROTEOFORMS'].unique()\n",
    "sizes_df"
   ],
   "metadata": {
    "collapsed": false,
    "pycharm": {
     "name": "#%% Explore module size variation when switching levels\n"
    }
   }
  },
  {
   "cell_type": "code",
   "execution_count": null,
   "outputs": [],
   "source": [
    "size_variation = pd.concat({\"GENES_TO_PROTEINS\":sizes_df[\"VARIATION_GENES_TO_PROTEINS\"], \n",
    "                            \"PROTEINS_TO_PROTEOFORMS\": sizes_df[f\"VARIATION_PROTEINS_TO_PROTEOFORMS\"]\n",
    "                           }, names=[\"STEP\", \"INDEX\"], axis=0)\n",
    "size_variation = size_variation.to_frame()\n",
    "size_variation[\"STEP\"] = size_variation.index.get_level_values(\"STEP\")\n",
    "size_variation.columns = [\"VARIATION\", \"STEP\"]\n",
    "\n",
    "size_variation"
   ],
   "metadata": {
    "collapsed": false,
    "pycharm": {
     "name": "#%% Plot size variation\n"
    }
   }
  },
  {
   "cell_type": "code",
   "execution_count": null,
   "outputs": [],
   "source": [
    "ax = sns.boxplot(x=\"VARIATION\", y=\"STEP\", data=size_variation, whis=np.inf)\n",
    "ax = sns.stripplot(x=\"VARIATION\", y=\"STEP\", data=size_variation,\n",
    "                   jitter=True, color=\".3\").set_title(\"SIZE VARIATION AT LEVEL TRANSITION\")\n",
    "plt.show()\n",
    "\n",
    "ax = sns.violinplot(x=\"STEP\", y=\"VARIATION\", data=size_variation, inner=None, color=\".8\")\n",
    "ax = sns.stripplot(x=\"STEP\", y=\"VARIATION\", data=size_variation, jitter=True).set_title(\"SIZE VARIATION AT LEVEL TRANSITION\")\n",
    "plt.show()"
   ],
   "metadata": {
    "collapsed": false,
    "pycharm": {
     "name": "#%%\n"
    }
   }
  },
  {
   "cell_type": "code",
   "execution_count": null,
   "outputs": [],
   "source": [
    "percentage_variation = pd.concat({\"GENES_TO_PROTEINS\":sizes_df[\"PERCENTAGE_GENES_TO_PROTEINS\"], \n",
    "                            \"PROTEINS_TO_PROTEOFORMS\": sizes_df[f\"PERCENTAGE_PROTEINS_TO_PROTEOFORMS\"]\n",
    "                           }, names=[\"STEP\", \"INDEX\"], axis=0)\n",
    "percentage_variation = percentage_variation.to_frame()\n",
    "percentage_variation[\"STEP\"] = percentage_variation.index.get_level_values(\"STEP\")\n",
    "percentage_variation.columns = [\"PERCENTAGE\", \"STEP\"]\n",
    "\n",
    "percentage_variation"
   ],
   "metadata": {
    "collapsed": false,
    "pycharm": {
     "name": "#%% Plot percentage variation\n"
    }
   }
  },
  {
   "cell_type": "code",
   "execution_count": null,
   "outputs": [],
   "source": [
    "ax = sns.boxplot(x=\"PERCENTAGE\", y=\"STEP\", data=percentage_variation, whis=np.inf)\n",
    "ax = sns.stripplot(x=\"PERCENTAGE\", y=\"STEP\", data=percentage_variation,\n",
    "                   jitter=True, color=\".3\").set_title(\"PERCENTAGE OF SIZE VARIATION AT LEVEL TRANSITION\")\n",
    "plt.show()\n",
    "\n",
    "ax = sns.violinplot(x=\"STEP\", y=\"PERCENTAGE\", data=percentage_variation, inner=None, color=\".8\")\n",
    "ax = sns.stripplot(x=\"STEP\", y=\"PERCENTAGE\", data=percentage_variation, jitter=True).set_title(\"PERCENTAGE OF SIZE VARIATION AT LEVEL TRANSITION\")\n",
    "plt.show()"
   ],
   "metadata": {
    "collapsed": false,
    "pycharm": {
     "name": "#%%\n"
    }
   }
  },
  {
   "cell_type": "markdown",
   "source": [
    "## Overlap analysis"
   ],
   "metadata": {
    "collapsed": false,
    "pycharm": {
     "name": "#%% md\n"
    }
   }
  },
  {
   "cell_type": "code",
   "execution_count": null,
   "outputs": [],
   "source": [
    "scores = {level: pd.read_csv(f\"reports/scores_{level}_overlap_similarity.tsv\", sep='\\t') for level in LEVELS}\n",
    "assert len({len(scores[level]) for level in LEVELS}) == 1, \"Error: the number of All_modules vary among levels.\""
   ],
   "metadata": {
    "collapsed": false,
    "pycharm": {
     "name": "#%% Read overlap scores off all levels\n"
    }
   }
  },
  {
   "cell_type": "code",
   "execution_count": null,
   "outputs": [],
   "source": [
    "import matplotlib.pyplot as plt\n",
    "\n",
    "bins = 250\n",
    "plt.figure(figsize=(13, 6), )\n",
    "for level in LEVELS:\n",
    "    sns.distplot(scores[level]['SCORE'] , hist = True, kde = True, kde_kws = {'linewidth': 1}, label=level, bins=bins)\n",
    "plt.ylim(0, 20)\n",
    "plt.legend(prop={'size': 16}, title = 'Overlap score density distribution')\n",
    "plt.title('Overlap score distribution')\n",
    "plt.xlabel('Overlap score')\n",
    "plt.ylabel('Density')\n",
    "plt.show()"
   ],
   "metadata": {
    "collapsed": false,
    "pycharm": {
     "name": "#%% Plot overlap scores\n"
    }
   }
  },
  {
   "cell_type": "code",
   "execution_count": null,
   "outputs": [],
   "source": [
    "df = pd.DataFrame(scores['genes'][['SCORE', 'OVERLAP_SIZE']])\n",
    "df.columns = ['SCORE_GENES', 'OVERLAP_SIZE_GENES']\n",
    "for level in ['proteins', 'proteoforms']:\n",
    "    df['OVERLAP_SIZE_' + level.upper()] = scores[level]['OVERLAP_SIZE']\n",
    "    df['SCORE_' + level.upper()] = scores[level]['SCORE']\n",
    "df['SCORE_VARIATION'] = df['SCORE_PROTEOFORMS'] - df['SCORE_GENES'] \n",
    "df['SIZE_PERCENTAGE_VARIATION'] = scores['genes'].apply(lambda x: sizes['PERCENTAGE_VARIATION'].loc[x['TRAIT1']] + sizes['PERCENTAGE_VARIATION'].loc[x['TRAIT2']], axis=1)\n",
    "df.index = scores['genes'].apply(lambda x: (x['TRAIT1'], x['TRAIT2']), axis=1)\n",
    "df"
   ],
   "metadata": {
    "collapsed": false,
    "pycharm": {
     "name": "#%% Calculate overlap score variation\n"
    }
   }
  },
  {
   "cell_type": "code",
   "execution_count": null,
   "outputs": [],
   "source": [
    "plt.figure(figsize=(13, 6))\n",
    "plt.scatter(df['SCORE_VARIATION'], df['SIZE_PERCENTAGE_VARIATION'], alpha=0.5)\n",
    "plt.title('Variation in size VS variation in overlap')\n",
    "plt.xlabel('Size percentage variation')\n",
    "plt.ylabel('Overlap variation')\n",
    "plt.show()"
   ],
   "metadata": {
    "collapsed": false,
    "pycharm": {
     "name": "#%% Plot size variation vs score variation\n"
    }
   }
  },
  {
   "cell_type": "code",
   "execution_count": null,
   "outputs": [],
   "source": [
    "min_overlap_size = 10\n",
    "max_overlap_size = 20\n",
    "\n",
    "overlap_data = {level: pd.read_csv(f\"reports/All_modules/pairs_overlap_data_{level}.tsv\") for level in LEVELS}\n"
   ],
   "metadata": {
    "collapsed": false,
    "pycharm": {
     "name": "#%% Select overlap examples where the overlap is between size range\n"
    }
   }
  },
  {
   "cell_type": "code",
   "execution_count": null,
   "outputs": [],
   "source": [],
   "metadata": {
    "collapsed": false,
    "pycharm": {
     "name": "#%% Plot: Variation in size VS variation in overlap\n"
    }
   }
  },
  {
   "cell_type": "code",
   "execution_count": null,
   "outputs": [],
   "source": [],
   "metadata": {
    "collapsed": false,
    "pycharm": {
     "name": "#%% Create a column with overlap coefficient variation across levels\n"
    }
   }
  },
  {
   "cell_type": "code",
   "execution_count": null,
   "outputs": [],
   "source": [
    "# NODE_OVERLAP_SIZE_VARIATION_GENES_TO_PROTEINS\n",
    "# NODE_OVERLAP_SIZE_VARIATION_PROTEINS_TO_PROTEOFORMS\n",
    "# NODE_INTERFACE_SIZE_VARIATION_GENES_TO_PROTEINS\n",
    "# NODE_INTERFACE_SIZE_VARIATION_PROTEINS_TO_PROTEOFORMS\n",
    "# NODE_INTERFACE_SIZE_VARIATION_GENES_TO"
   ],
   "metadata": {
    "collapsed": false,
    "pycharm": {
     "name": "#%% Create columns: \n"
    }
   }
  }
 ],
 "metadata": {
  "kernelspec": {
   "display_name": "Python 3",
   "language": "python",
   "name": "python3"
  },
  "language_info": {
   "codemirror_mode": {
    "name": "ipython",
    "version": 2
   },
   "file_extension": ".py",
   "mimetype": "text/x-python",
   "name": "python",
   "nbconvert_exporter": "python",
   "pygments_lexer": "ipython2",
   "version": "2.7.6"
  },
  "pycharm": {
   "stem_cell": {
    "cell_type": "raw",
    "source": [
     "# This file is the starting point for the whole project.\n",
     "\"\"\"\n",
     " The goal of this project is to study the differences between protein and proteoform \n",
     " interaction networks for functional analysis.\n",
     "\n",
     "\"\"\"  \n"
    ],
    "metadata": {
     "collapsed": false
    }
   }
  }
 },
 "nbformat": 4,
 "nbformat_minor": 0
}