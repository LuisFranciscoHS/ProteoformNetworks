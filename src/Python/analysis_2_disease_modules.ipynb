{
 "cells": [
  {
   "cell_type": "markdown",
   "source": [
    "* Goal 1: Find examples that suggest the use of small molecules in the interaction networks\n",
    "* Goal 2: Show overview of the network topologies\n",
    "* Goal 3: Show overview of modifications of proteins in the interface of disease modules\n",
    "* Goal 4: Show overview of the disease module overlap\n",
    "\n",
    "- [X] Create interactomes\n",
    "    - [X] Interactomes without small molecules\n",
    "    - [X] Interactomes with small molecules\n",
    "- [ ] Show examples\n",
    "- [ ] Create some disease modules\n",
    "    - [X] Select multiform proteins\n",
    "    - [ ] Select diseases containing multiforms\n",
    "- [ ] A) Find pairs that overlap only with modified proteoforms\n",
    "- [ ] B) Find pairs that overlap at gene/protein level and not overlap at proteoform level\n",
    "    - [ ] Calculate overlap scores: node overlap, jaccard index, separation\n",
    "    - [ ] Make\n",
    "    - [ ] Plot overlap score distribution for all selected disease pairs\n",
    "    - [ ] Plot selected pairs"
   ],
   "metadata": {
    "collapsed": false,
    "pycharm": {
     "name": "#%% md\n"
    }
   }
  },
  {
   "cell_type": "markdown",
   "source": [
    "## Set up configuration"
   ],
   "metadata": {
    "collapsed": false,
    "pycharm": {
     "name": "#%% md\n"
    }
   }
  },
  {
   "cell_type": "code",
   "execution_count": 1,
   "outputs": [
    {
     "name": "stdout",
     "output_type": "stream",
     "text": [
      "Working directory: c:\\git\\pathwayanalysisplatform\\proteoformnetworks\n"
     ]
    }
   ],
   "source": [
    "import subprocess\n",
    "\n",
    "import matplotlib.pyplot as plt\n",
    "import numpy as np\n",
    "import pandas as pd\n",
    "import seaborn as sns\n",
    "from numpy.core.tests.test_einsum import sizes\n",
    "\n",
    "import config\n",
    "from config import LEVELS\n",
    "from datasets.phegeni.filter_genes import create_filtered_file\n",
    "from interactomes import get_interactome\n",
    "from lib.dictionaries import read_dictionary_one_to_set, merge_dictionaries\n",
    "from lib.download import download_if_not_exists\n",
    "from lib.graph_database import get_query_result\n",
    "from queries import QUERY_GET_NUM_PROTEOFORMS_PER_PROTEIN\n",
    "\n",
    "%load_ext autoreload\n",
    "%autoreload 2\n",
    "%reload_ext autoreload\n",
    "\n",
    "config.set_root_wd()"
   ],
   "metadata": {
    "collapsed": false,
    "pycharm": {
     "name": "#%% Set up configuration\n"
    }
   }
  },
  {
   "cell_type": "markdown",
   "source": [
    "## Create disease modules"
   ],
   "metadata": {
    "collapsed": false,
    "pycharm": {
     "name": "#%% md\n"
    }
   }
  },
  {
   "cell_type": "code",
   "execution_count": 2,
   "outputs": [
    {
     "name": "stdout",
     "output_type": "stream",
     "text": [
      "PheGenI files READY\n",
      "Jensen Lab files READY\n"
     ]
    }
   ],
   "source": [
    "# PheGenI Phenotypes\n",
    "download_if_not_exists(\"resources/PheGenI/\", \n",
    "                       \"PheGenI_Association.txt\", \n",
    "                       \"https://www.ncbi.nlm.nih.gov/projects/gap/eqtl/EpiViewBE.cgi?type=dl.tab\",\n",
    "                       \"PheGenI All_modules\")\n",
    "print(\"PheGenI files READY\")\n",
    "\n",
    "# Filter\n",
    "create_filtered_file(\"resources/PheGenI/PheGenI_Association.txt\",\n",
    "                     \"resources/PheGenI/PheGenI_Association_genome_wide_significant.txt\",\n",
    "                     5e-8)\n",
    "\n",
    "# Jensen Lab Diseases\n",
    "download_if_not_exists(\"resources/Jensen/\",\n",
    "                       \"human_disease_textmining_filtered.tsv\",\n",
    "                       \"http://download.jensenlab.org/human_disease_textmining_filtered.tsv\",\n",
    "                       \"Jensen Lab Diseases\")\n",
    "print(\"Jensen Lab files READY\")"
   ],
   "metadata": {
    "collapsed": false,
    "pycharm": {
     "name": "#%% Download data to create disease modules\n"
    }
   }
  },
  {
   "cell_type": "code",
   "execution_count": 3,
   "outputs": [
    {
     "data": {
      "text/plain": "     Protein                                        Proteoforms  \\\n0     P0CG48  [[P0CG48], [P0CG48, 00134:152], [P0CG48, 00134...   \n1     P68431  [[P68431], [P68431, 00046:11, 00047:12, 00064:...   \n2     Q71DI3  [[Q71DI3], [Q71DI3, 00046:11, 00047:12, 00064:...   \n3     P02452  [[P02452], [P02452, 00037:null], [P02452, 0003...   \n4     P08123  [[P08123], [P08123, 00037:null], [P08123, 0003...   \n...      ...                                                ...   \n1486  Q9Y6K1                   [[Q9Y6K1], [Q9Y6K1, 01149:null]]   \n1487  Q9Y6Q2                   [[Q9Y6Q2], [Q9Y6Q2, 01150:null]]   \n1488  Q9Y6Q9                    [[Q9Y6Q9], [Q9Y6Q9, 00046:857]]   \n1489  Q9Y6W8                [[Q9Y6W8-1], [Q9Y6W8-1, 00048:180]]   \n1490  Q9Y6Y9          [[Q9Y6Y9], [Q9Y6Y9, 00160:26, 00160:114]]   \n\n      NumProteoforms  \n0                 82  \n1                 52  \n2                 48  \n3                 36  \n4                 36  \n...              ...  \n1486               2  \n1487               2  \n1488               2  \n1489               2  \n1490               2  \n\n[1491 rows x 3 columns]",
      "text/html": "<div>\n<style scoped>\n    .dataframe tbody tr th:only-of-type {\n        vertical-align: middle;\n    }\n\n    .dataframe tbody tr th {\n        vertical-align: top;\n    }\n\n    .dataframe thead th {\n        text-align: right;\n    }\n</style>\n<table border=\"1\" class=\"dataframe\">\n  <thead>\n    <tr style=\"text-align: right;\">\n      <th></th>\n      <th>Protein</th>\n      <th>Proteoforms</th>\n      <th>NumProteoforms</th>\n    </tr>\n  </thead>\n  <tbody>\n    <tr>\n      <th>0</th>\n      <td>P0CG48</td>\n      <td>[[P0CG48], [P0CG48, 00134:152], [P0CG48, 00134...</td>\n      <td>82</td>\n    </tr>\n    <tr>\n      <th>1</th>\n      <td>P68431</td>\n      <td>[[P68431], [P68431, 00046:11, 00047:12, 00064:...</td>\n      <td>52</td>\n    </tr>\n    <tr>\n      <th>2</th>\n      <td>Q71DI3</td>\n      <td>[[Q71DI3], [Q71DI3, 00046:11, 00047:12, 00064:...</td>\n      <td>48</td>\n    </tr>\n    <tr>\n      <th>3</th>\n      <td>P02452</td>\n      <td>[[P02452], [P02452, 00037:null], [P02452, 0003...</td>\n      <td>36</td>\n    </tr>\n    <tr>\n      <th>4</th>\n      <td>P08123</td>\n      <td>[[P08123], [P08123, 00037:null], [P08123, 0003...</td>\n      <td>36</td>\n    </tr>\n    <tr>\n      <th>...</th>\n      <td>...</td>\n      <td>...</td>\n      <td>...</td>\n    </tr>\n    <tr>\n      <th>1486</th>\n      <td>Q9Y6K1</td>\n      <td>[[Q9Y6K1], [Q9Y6K1, 01149:null]]</td>\n      <td>2</td>\n    </tr>\n    <tr>\n      <th>1487</th>\n      <td>Q9Y6Q2</td>\n      <td>[[Q9Y6Q2], [Q9Y6Q2, 01150:null]]</td>\n      <td>2</td>\n    </tr>\n    <tr>\n      <th>1488</th>\n      <td>Q9Y6Q9</td>\n      <td>[[Q9Y6Q9], [Q9Y6Q9, 00046:857]]</td>\n      <td>2</td>\n    </tr>\n    <tr>\n      <th>1489</th>\n      <td>Q9Y6W8</td>\n      <td>[[Q9Y6W8-1], [Q9Y6W8-1, 00048:180]]</td>\n      <td>2</td>\n    </tr>\n    <tr>\n      <th>1490</th>\n      <td>Q9Y6Y9</td>\n      <td>[[Q9Y6Y9], [Q9Y6Y9, 00160:26, 00160:114]]</td>\n      <td>2</td>\n    </tr>\n  </tbody>\n</table>\n<p>1491 rows × 3 columns</p>\n</div>"
     },
     "execution_count": 3,
     "metadata": {},
     "output_type": "execute_result"
    }
   ],
   "source": [
    "query = QUERY_GET_NUM_PROTEOFORMS_PER_PROTEIN\n",
    "df = get_query_result(query)\n",
    "\n",
    "df"
   ],
   "metadata": {
    "collapsed": false,
    "pycharm": {
     "name": "#%% Get list of proteins with multiple proteoforms\n"
    }
   }
  },
  {
   "cell_type": "code",
   "execution_count": 4,
   "outputs": [
    {
     "data": {
      "text/plain": "            #                                           Trait    SNP rs  \\\n0           2  1-Alkyl-2-acetylglycerophosphocholine Esterase   7528419   \n1           3  1-Alkyl-2-acetylglycerophosphocholine Esterase  12740374   \n2           4  1-Alkyl-2-acetylglycerophosphocholine Esterase    599839   \n3           5  1-Alkyl-2-acetylglycerophosphocholine Esterase    600550   \n4           6  1-Alkyl-2-acetylglycerophosphocholine Esterase    964184   \n...       ...                                             ...       ...   \n30210  136499                           von Willebrand Factor   8176704   \n30211  136500                           von Willebrand Factor    687621   \n30212  136501                           von Willebrand Factor    643434   \n30213  136502                           von Willebrand Factor    505922   \n30214  136526                                     ziprasidone   1405687   \n\n          Context       Gene    Gene ID  Gene 2  Gene ID 2  Chromosome  \\\n0           UTR-3     CELSR2       1952  CELSR2       1952           1   \n1           UTR-3     CELSR2       1952  CELSR2       1952           1   \n2      nearGene-3      PSRC1      84722   PSRC1      84722           1   \n3          intron     MS4A4E     643680  MS4A4E     643680          11   \n4          intron       ZPR1       8882    ZPR1       8882          11   \n...           ...        ...        ...     ...        ...         ...   \n30210      intron        ABO         28     ABO         28           9   \n30211      intron        ABO         28     ABO         28           9   \n30212      intron        ABO         28     ABO         28           9   \n30213      intron        ABO         28     ABO         28           9   \n30214  intergenic  LINC01216  100874275  PPP3CA       5530           4   \n\n        Location  P-Value Source    PubMed  Analysis ID  Study ID Study Name  \n0      109274569     0.00  NHGRI  22003152            0       NaN        NaN  \n1      109274967     0.00  NHGRI  23118302            0       NaN        NaN  \n2      109279543     0.00  NHGRI  20442857            0       NaN        NaN  \n3       60230192     0.00  NHGRI  23118302            0       NaN        NaN  \n4      116778200     0.00  NHGRI  22003152            0       NaN        NaN  \n...          ...      ...    ...       ...          ...       ...        ...  \n30210  133260147     0.00  NHGRI  26486471            0       NaN        NaN  \n30211  133261661     0.00  NHGRI  20231535            0       NaN        NaN  \n30212  133266941     0.00  NHGRI  23381943            0       NaN        NaN  \n30213  133273812     0.00  NHGRI  23381943            0       NaN        NaN  \n30214  101010668     0.00  NHGRI  20195266            0       NaN        NaN  \n\n[30215 rows x 16 columns]",
      "text/html": "<div>\n<style scoped>\n    .dataframe tbody tr th:only-of-type {\n        vertical-align: middle;\n    }\n\n    .dataframe tbody tr th {\n        vertical-align: top;\n    }\n\n    .dataframe thead th {\n        text-align: right;\n    }\n</style>\n<table border=\"1\" class=\"dataframe\">\n  <thead>\n    <tr style=\"text-align: right;\">\n      <th></th>\n      <th>#</th>\n      <th>Trait</th>\n      <th>SNP rs</th>\n      <th>Context</th>\n      <th>Gene</th>\n      <th>Gene ID</th>\n      <th>Gene 2</th>\n      <th>Gene ID 2</th>\n      <th>Chromosome</th>\n      <th>Location</th>\n      <th>P-Value</th>\n      <th>Source</th>\n      <th>PubMed</th>\n      <th>Analysis ID</th>\n      <th>Study ID</th>\n      <th>Study Name</th>\n    </tr>\n  </thead>\n  <tbody>\n    <tr>\n      <th>0</th>\n      <td>2</td>\n      <td>1-Alkyl-2-acetylglycerophosphocholine Esterase</td>\n      <td>7528419</td>\n      <td>UTR-3</td>\n      <td>CELSR2</td>\n      <td>1952</td>\n      <td>CELSR2</td>\n      <td>1952</td>\n      <td>1</td>\n      <td>109274569</td>\n      <td>0.00</td>\n      <td>NHGRI</td>\n      <td>22003152</td>\n      <td>0</td>\n      <td>NaN</td>\n      <td>NaN</td>\n    </tr>\n    <tr>\n      <th>1</th>\n      <td>3</td>\n      <td>1-Alkyl-2-acetylglycerophosphocholine Esterase</td>\n      <td>12740374</td>\n      <td>UTR-3</td>\n      <td>CELSR2</td>\n      <td>1952</td>\n      <td>CELSR2</td>\n      <td>1952</td>\n      <td>1</td>\n      <td>109274967</td>\n      <td>0.00</td>\n      <td>NHGRI</td>\n      <td>23118302</td>\n      <td>0</td>\n      <td>NaN</td>\n      <td>NaN</td>\n    </tr>\n    <tr>\n      <th>2</th>\n      <td>4</td>\n      <td>1-Alkyl-2-acetylglycerophosphocholine Esterase</td>\n      <td>599839</td>\n      <td>nearGene-3</td>\n      <td>PSRC1</td>\n      <td>84722</td>\n      <td>PSRC1</td>\n      <td>84722</td>\n      <td>1</td>\n      <td>109279543</td>\n      <td>0.00</td>\n      <td>NHGRI</td>\n      <td>20442857</td>\n      <td>0</td>\n      <td>NaN</td>\n      <td>NaN</td>\n    </tr>\n    <tr>\n      <th>3</th>\n      <td>5</td>\n      <td>1-Alkyl-2-acetylglycerophosphocholine Esterase</td>\n      <td>600550</td>\n      <td>intron</td>\n      <td>MS4A4E</td>\n      <td>643680</td>\n      <td>MS4A4E</td>\n      <td>643680</td>\n      <td>11</td>\n      <td>60230192</td>\n      <td>0.00</td>\n      <td>NHGRI</td>\n      <td>23118302</td>\n      <td>0</td>\n      <td>NaN</td>\n      <td>NaN</td>\n    </tr>\n    <tr>\n      <th>4</th>\n      <td>6</td>\n      <td>1-Alkyl-2-acetylglycerophosphocholine Esterase</td>\n      <td>964184</td>\n      <td>intron</td>\n      <td>ZPR1</td>\n      <td>8882</td>\n      <td>ZPR1</td>\n      <td>8882</td>\n      <td>11</td>\n      <td>116778200</td>\n      <td>0.00</td>\n      <td>NHGRI</td>\n      <td>22003152</td>\n      <td>0</td>\n      <td>NaN</td>\n      <td>NaN</td>\n    </tr>\n    <tr>\n      <th>...</th>\n      <td>...</td>\n      <td>...</td>\n      <td>...</td>\n      <td>...</td>\n      <td>...</td>\n      <td>...</td>\n      <td>...</td>\n      <td>...</td>\n      <td>...</td>\n      <td>...</td>\n      <td>...</td>\n      <td>...</td>\n      <td>...</td>\n      <td>...</td>\n      <td>...</td>\n      <td>...</td>\n    </tr>\n    <tr>\n      <th>30210</th>\n      <td>136499</td>\n      <td>von Willebrand Factor</td>\n      <td>8176704</td>\n      <td>intron</td>\n      <td>ABO</td>\n      <td>28</td>\n      <td>ABO</td>\n      <td>28</td>\n      <td>9</td>\n      <td>133260147</td>\n      <td>0.00</td>\n      <td>NHGRI</td>\n      <td>26486471</td>\n      <td>0</td>\n      <td>NaN</td>\n      <td>NaN</td>\n    </tr>\n    <tr>\n      <th>30211</th>\n      <td>136500</td>\n      <td>von Willebrand Factor</td>\n      <td>687621</td>\n      <td>intron</td>\n      <td>ABO</td>\n      <td>28</td>\n      <td>ABO</td>\n      <td>28</td>\n      <td>9</td>\n      <td>133261661</td>\n      <td>0.00</td>\n      <td>NHGRI</td>\n      <td>20231535</td>\n      <td>0</td>\n      <td>NaN</td>\n      <td>NaN</td>\n    </tr>\n    <tr>\n      <th>30212</th>\n      <td>136501</td>\n      <td>von Willebrand Factor</td>\n      <td>643434</td>\n      <td>intron</td>\n      <td>ABO</td>\n      <td>28</td>\n      <td>ABO</td>\n      <td>28</td>\n      <td>9</td>\n      <td>133266941</td>\n      <td>0.00</td>\n      <td>NHGRI</td>\n      <td>23381943</td>\n      <td>0</td>\n      <td>NaN</td>\n      <td>NaN</td>\n    </tr>\n    <tr>\n      <th>30213</th>\n      <td>136502</td>\n      <td>von Willebrand Factor</td>\n      <td>505922</td>\n      <td>intron</td>\n      <td>ABO</td>\n      <td>28</td>\n      <td>ABO</td>\n      <td>28</td>\n      <td>9</td>\n      <td>133273812</td>\n      <td>0.00</td>\n      <td>NHGRI</td>\n      <td>23381943</td>\n      <td>0</td>\n      <td>NaN</td>\n      <td>NaN</td>\n    </tr>\n    <tr>\n      <th>30214</th>\n      <td>136526</td>\n      <td>ziprasidone</td>\n      <td>1405687</td>\n      <td>intergenic</td>\n      <td>LINC01216</td>\n      <td>100874275</td>\n      <td>PPP3CA</td>\n      <td>5530</td>\n      <td>4</td>\n      <td>101010668</td>\n      <td>0.00</td>\n      <td>NHGRI</td>\n      <td>20195266</td>\n      <td>0</td>\n      <td>NaN</td>\n      <td>NaN</td>\n    </tr>\n  </tbody>\n</table>\n<p>30215 rows × 16 columns</p>\n</div>"
     },
     "execution_count": 4,
     "metadata": {},
     "output_type": "execute_result"
    }
   ],
   "source": [
    "file_phegeni = \"resources/PheGenI/PheGenI_Association_genome_wide_significant.txt\"\n",
    "df_diseases = pd.read_csv(file_phegeni, sep=\"\\t\")\n",
    "df_diseases"
   ],
   "metadata": {
    "collapsed": false,
    "pycharm": {
     "name": "#%% Get list of diseases in which the selected proteins participate\n"
    }
   }
  },
  {
   "cell_type": "code",
   "execution_count": 5,
   "outputs": [
    {
     "name": "stdout",
     "output_type": "stream",
     "text": [
      "Got map of 873 diseases to genes\n"
     ]
    }
   ],
   "source": [
    "map_disease_to_genes1 = read_dictionary_one_to_set(\"resources/PheGenI/\", \"PheGenI_Association_genome_wide_significant.txt\", col_indices=(1, 4), ignore_header=True)\n",
    "map_disease_to_genes2 = read_dictionary_one_to_set(\"resources/PheGenI/\", \"PheGenI_Association_genome_wide_significant.txt\", col_indices=(1, 6), ignore_header=True)\n",
    "df_diseases.columns\n",
    "map_disease_to_genes = merge_dictionaries(map_disease_to_genes1, map_disease_to_genes2)\n",
    "#map_disease_to_genes\n",
    "print(f\"Got map of {len(map_disease_to_genes.keys())} diseases to genes\")"
   ],
   "metadata": {
    "collapsed": false,
    "pycharm": {
     "name": "#%% Get list of genes for each disease\n"
    }
   }
  },
  {
   "cell_type": "code",
   "execution_count": 6,
   "outputs": [
    {
     "data": {
      "text/plain": "                         Disease  Num Entity\n117              Body Mass Index  646  genes\n637      Platelet Function Tests  594  genes\n116                  Body Height  520  genes\n185             Cholesterol, HDL  391  genes\n109               Blood Pressure  331  genes\n..                           ...  ...    ...\n647              Premature Birth    1  genes\n165              Caudate Nucleus    1  genes\n169  Cerebral Amyloid Angiopathy    1  genes\n243                   Depression    1  genes\n174                    Cetuximab    1  genes\n\n[873 rows x 3 columns]",
      "text/html": "<div>\n<style scoped>\n    .dataframe tbody tr th:only-of-type {\n        vertical-align: middle;\n    }\n\n    .dataframe tbody tr th {\n        vertical-align: top;\n    }\n\n    .dataframe thead th {\n        text-align: right;\n    }\n</style>\n<table border=\"1\" class=\"dataframe\">\n  <thead>\n    <tr style=\"text-align: right;\">\n      <th></th>\n      <th>Disease</th>\n      <th>Num</th>\n      <th>Entity</th>\n    </tr>\n  </thead>\n  <tbody>\n    <tr>\n      <th>117</th>\n      <td>Body Mass Index</td>\n      <td>646</td>\n      <td>genes</td>\n    </tr>\n    <tr>\n      <th>637</th>\n      <td>Platelet Function Tests</td>\n      <td>594</td>\n      <td>genes</td>\n    </tr>\n    <tr>\n      <th>116</th>\n      <td>Body Height</td>\n      <td>520</td>\n      <td>genes</td>\n    </tr>\n    <tr>\n      <th>185</th>\n      <td>Cholesterol, HDL</td>\n      <td>391</td>\n      <td>genes</td>\n    </tr>\n    <tr>\n      <th>109</th>\n      <td>Blood Pressure</td>\n      <td>331</td>\n      <td>genes</td>\n    </tr>\n    <tr>\n      <th>...</th>\n      <td>...</td>\n      <td>...</td>\n      <td>...</td>\n    </tr>\n    <tr>\n      <th>647</th>\n      <td>Premature Birth</td>\n      <td>1</td>\n      <td>genes</td>\n    </tr>\n    <tr>\n      <th>165</th>\n      <td>Caudate Nucleus</td>\n      <td>1</td>\n      <td>genes</td>\n    </tr>\n    <tr>\n      <th>169</th>\n      <td>Cerebral Amyloid Angiopathy</td>\n      <td>1</td>\n      <td>genes</td>\n    </tr>\n    <tr>\n      <th>243</th>\n      <td>Depression</td>\n      <td>1</td>\n      <td>genes</td>\n    </tr>\n    <tr>\n      <th>174</th>\n      <td>Cetuximab</td>\n      <td>1</td>\n      <td>genes</td>\n    </tr>\n  </tbody>\n</table>\n<p>873 rows × 3 columns</p>\n</div>"
     },
     "execution_count": 6,
     "metadata": {},
     "output_type": "execute_result"
    }
   ],
   "source": [
    "df_disease_to_genes = pd.DataFrame(data=[(d, len(g)) for d, g in map_disease_to_genes.items()], columns=[\"Disease\", \"Num\"])\n",
    "df_disease_to_genes['Entity'] = config.genes\n",
    "df_disease_to_genes.sort_values([\"Num\"], ascending=False, inplace=True)\n",
    "df_disease_to_genes"
   ],
   "metadata": {
    "collapsed": false,
    "pycharm": {
     "name": "#%% Get number of genes per disease\n"
    }
   }
  },
  {
   "cell_type": "code",
   "execution_count": 7,
   "outputs": [
    {
     "data": {
      "text/plain": "<Figure size 432x288 with 1 Axes>",
      "image/png": "[encoded data removed]"
     },
     "metadata": {
      "needs_background": "light"
     },
     "output_type": "display_data"
    }
   ],
   "source": [
    "sns.violinplot(x=\"Entity\", y=\"Num\", data=df_disease_to_genes, color=\"0.8\")\n",
    "sns.stripplot(x=\"Entity\", y=\"Num\", data=df_disease_to_genes, jitter=True, zorder=1)\n",
    "plt.show()"
   ],
   "metadata": {
    "collapsed": false,
    "pycharm": {
     "name": "#%% Plot number of genes per disease\n"
    }
   }
  },
  {
   "cell_type": "code",
   "execution_count": 8,
   "outputs": [
    {
     "data": {
      "text/plain": "                         Disease  Num Entity\n172          Cerebrospinal Fluid   99  genes\n323                   Fibrinogen   95  genes\n549           Multiple Sclerosis   92  genes\n220                   Creatinine   92  genes\n504         Macular Degeneration   90  genes\n..                           ...  ...    ...\n647              Premature Birth    1  genes\n165              Caudate Nucleus    1  genes\n169  Cerebral Amyloid Angiopathy    1  genes\n243                   Depression    1  genes\n174                    Cetuximab    1  genes\n\n[827 rows x 3 columns]",
      "text/html": "<div>\n<style scoped>\n    .dataframe tbody tr th:only-of-type {\n        vertical-align: middle;\n    }\n\n    .dataframe tbody tr th {\n        vertical-align: top;\n    }\n\n    .dataframe thead th {\n        text-align: right;\n    }\n</style>\n<table border=\"1\" class=\"dataframe\">\n  <thead>\n    <tr style=\"text-align: right;\">\n      <th></th>\n      <th>Disease</th>\n      <th>Num</th>\n      <th>Entity</th>\n    </tr>\n  </thead>\n  <tbody>\n    <tr>\n      <th>172</th>\n      <td>Cerebrospinal Fluid</td>\n      <td>99</td>\n      <td>genes</td>\n    </tr>\n    <tr>\n      <th>323</th>\n      <td>Fibrinogen</td>\n      <td>95</td>\n      <td>genes</td>\n    </tr>\n    <tr>\n      <th>549</th>\n      <td>Multiple Sclerosis</td>\n      <td>92</td>\n      <td>genes</td>\n    </tr>\n    <tr>\n      <th>220</th>\n      <td>Creatinine</td>\n      <td>92</td>\n      <td>genes</td>\n    </tr>\n    <tr>\n      <th>504</th>\n      <td>Macular Degeneration</td>\n      <td>90</td>\n      <td>genes</td>\n    </tr>\n    <tr>\n      <th>...</th>\n      <td>...</td>\n      <td>...</td>\n      <td>...</td>\n    </tr>\n    <tr>\n      <th>647</th>\n      <td>Premature Birth</td>\n      <td>1</td>\n      <td>genes</td>\n    </tr>\n    <tr>\n      <th>165</th>\n      <td>Caudate Nucleus</td>\n      <td>1</td>\n      <td>genes</td>\n    </tr>\n    <tr>\n      <th>169</th>\n      <td>Cerebral Amyloid Angiopathy</td>\n      <td>1</td>\n      <td>genes</td>\n    </tr>\n    <tr>\n      <th>243</th>\n      <td>Depression</td>\n      <td>1</td>\n      <td>genes</td>\n    </tr>\n    <tr>\n      <th>174</th>\n      <td>Cetuximab</td>\n      <td>1</td>\n      <td>genes</td>\n    </tr>\n  </tbody>\n</table>\n<p>827 rows × 3 columns</p>\n</div>"
     },
     "execution_count": 8,
     "metadata": {},
     "output_type": "execute_result"
    }
   ],
   "source": [
    "df_disease_to_genes = df_disease_to_genes[df_disease_to_genes['Num']<=100]\n",
    "df_disease_to_genes"
   ],
   "metadata": {
    "collapsed": false,
    "pycharm": {
     "name": "#%% Filter: Remove diseases with too many genes\n"
    }
   }
  },
  {
   "cell_type": "code",
   "execution_count": 9,
   "outputs": [
    {
     "data": {
      "text/plain": "          Genes  NumProteins\n830       HLA-B           36\n831       HLA-A           21\n833       HLA-C           14\n3765   HLA-DRB1           13\n4551      KIF5C            2\n...         ...          ...\n3665       TLE3            1\n3666       TLE4            1\n3667       TLE1            1\n3668      KMT2D            1\n10967   EMILIN2            1\n\n[10968 rows x 2 columns]",
      "text/html": "<div>\n<style scoped>\n    .dataframe tbody tr th:only-of-type {\n        vertical-align: middle;\n    }\n\n    .dataframe tbody tr th {\n        vertical-align: top;\n    }\n\n    .dataframe thead th {\n        text-align: right;\n    }\n</style>\n<table border=\"1\" class=\"dataframe\">\n  <thead>\n    <tr style=\"text-align: right;\">\n      <th></th>\n      <th>Genes</th>\n      <th>NumProteins</th>\n    </tr>\n  </thead>\n  <tbody>\n    <tr>\n      <th>830</th>\n      <td>HLA-B</td>\n      <td>36</td>\n    </tr>\n    <tr>\n      <th>831</th>\n      <td>HLA-A</td>\n      <td>21</td>\n    </tr>\n    <tr>\n      <th>833</th>\n      <td>HLA-C</td>\n      <td>14</td>\n    </tr>\n    <tr>\n      <th>3765</th>\n      <td>HLA-DRB1</td>\n      <td>13</td>\n    </tr>\n    <tr>\n      <th>4551</th>\n      <td>KIF5C</td>\n      <td>2</td>\n    </tr>\n    <tr>\n      <th>...</th>\n      <td>...</td>\n      <td>...</td>\n    </tr>\n    <tr>\n      <th>3665</th>\n      <td>TLE3</td>\n      <td>1</td>\n    </tr>\n    <tr>\n      <th>3666</th>\n      <td>TLE4</td>\n      <td>1</td>\n    </tr>\n    <tr>\n      <th>3667</th>\n      <td>TLE1</td>\n      <td>1</td>\n    </tr>\n    <tr>\n      <th>3668</th>\n      <td>KMT2D</td>\n      <td>1</td>\n    </tr>\n    <tr>\n      <th>10967</th>\n      <td>EMILIN2</td>\n      <td>1</td>\n    </tr>\n  </tbody>\n</table>\n<p>10968 rows × 2 columns</p>\n</div>"
     },
     "execution_count": 9,
     "metadata": {},
     "output_type": "execute_result"
    }
   ],
   "source": [
    "map_genes_to_proteins = read_dictionary_one_to_set(config.GRAPHS_PATH, \"mapping_proteins_to_genes.tsv\", col_indices=(1, 0))\n",
    "df_genes_to_proteins = pd.DataFrame(data=[(g,len(ps)) for g, ps in map_genes_to_proteins.items()], columns=[\"Genes\", \"NumProteins\"])\n",
    "df_genes_to_proteins.sort_values([\"NumProteins\"], ascending=False, inplace=True)\n",
    "df_genes_to_proteins"
   ],
   "metadata": {
    "collapsed": false,
    "pycharm": {
     "name": "#%% Get the map to convert genes to proteins\n"
    }
   }
  },
  {
   "cell_type": "code",
   "execution_count": 10,
   "outputs": [
    {
     "data": {
      "text/plain": "<Figure size 432x288 with 1 Axes>",
      "image/png": "[encoded data removed]"
     },
     "metadata": {
      "needs_background": "light"
     },
     "output_type": "display_data"
    }
   ],
   "source": [
    "genes_arr=[\"Genes\"]*len(df_genes_to_proteins)\n",
    "sns.violinplot(x=df_genes_to_proteins[\"NumProteins\"], color=\"0.8\")\n",
    "sns.stripplot(x=df_genes_to_proteins[\"NumProteins\"], jitter=True, zorder=1)\n",
    "plt.show()"
   ],
   "metadata": {
    "collapsed": false,
    "pycharm": {
     "name": "#%% Plot proteins per gene\n"
    }
   }
  },
  {
   "cell_type": "code",
   "execution_count": 11,
   "outputs": [
    {
     "name": "stdout",
     "output_type": "stream",
     "text": [
      "Diseases to delete: \n",
      "\n",
      " {'Anti-Neutrophil Cytoplasmic Antibody-Associated Vasculitis', 'Agranulocytosis', 'Crohn Disease', 'Lymphocytes', 'Hepatitis B, Chronic', 'Schizophrenia', 'Scleroderma, Systemic', 'Drug Hypersensitivity Syndrome', 'Carcinoma, Basal Cell', 'Monocytes', 'Thyroid Hormones', 'Lymphocyte Count', 'Epstein-Barr Virus Infections', 'Vitiligo', 'Lymphoma, Large B-Cell, Diffuse', 'Colitis, Ulcerative', 'Cholesterol, LDL', 'Diabetes Mellitus, Type 1', 'Alzheimer Disease', 'Body Height', 'Epstein-Barr Virus Nuclear Antigens', 'Lymphoma', 'Uveomeningoencephalitic Syndrome', 'Arthritis, Psoriatic', 'Narcolepsy', 'Platelet Count', 'Cryoglobulinemia', 'Thioamides', 'Asthma', 'Antibodies', 'Carcinoma, Hepatocellular', 'Psoriasis', 'Interferon-beta', 'Nasopharyngeal Neoplasms', 'Leukemia, Lymphocytic, Chronic, B-Cell', 'Hodgkin Disease', 'Glomerulonephritis, Membranous', 'Leishmaniasis, Visceral', 'Leukocytes', 'Liver Cirrhosis, Biliary', 'Lupus Erythematosus, Systemic', 'Menarche', 'Staphylococcus', 'Behcet Syndrome', 'Leprosy', 'Otitis', 'Inflammatory Bowel Diseases', 'Glomerulonephritis, IGA', 'Vaccine Potency', 'Parkinson Disease', 'Staphylococcus aureus', 'C-Reactive Protein', \"Sjogren's Syndrome\", 'Tonsillectomy', 'Pulmonary Surfactant-Associated Protein D', 'Breast Neoplasms', 'HIV-1', 'Dermatitis, Atopic', 'Triglycerides', 'Oligoclonal Bands', 'Arthritis, Rheumatoid', 'Immunoglobulin G', 'Multiple Sclerosis', 'Immunoglobulin E', 'Cholesterol', 'Pulmonary Disease, Chronic Obstructive', 'Uterine Cervical Neoplasms', 'beta 2-Microglobulin', 'Coronary Disease', 'Hepatitis C, Chronic', 'Proteins'}\n"
     ]
    },
    {
     "data": {
      "text/plain": "                             Disease  Num Entity\n172              Cerebrospinal Fluid   99  genes\n323                       Fibrinogen   95  genes\n220                       Creatinine   92  genes\n504             Macular Degeneration   90  genes\n424  Influenza A Virus, H1N1 Subtype   89  genes\n..                               ...  ...    ...\n647                  Premature Birth    1  genes\n165                  Caudate Nucleus    1  genes\n169      Cerebral Amyloid Angiopathy    1  genes\n243                       Depression    1  genes\n174                        Cetuximab    1  genes\n\n[774 rows x 3 columns]",
      "text/html": "<div>\n<style scoped>\n    .dataframe tbody tr th:only-of-type {\n        vertical-align: middle;\n    }\n\n    .dataframe tbody tr th {\n        vertical-align: top;\n    }\n\n    .dataframe thead th {\n        text-align: right;\n    }\n</style>\n<table border=\"1\" class=\"dataframe\">\n  <thead>\n    <tr style=\"text-align: right;\">\n      <th></th>\n      <th>Disease</th>\n      <th>Num</th>\n      <th>Entity</th>\n    </tr>\n  </thead>\n  <tbody>\n    <tr>\n      <th>172</th>\n      <td>Cerebrospinal Fluid</td>\n      <td>99</td>\n      <td>genes</td>\n    </tr>\n    <tr>\n      <th>323</th>\n      <td>Fibrinogen</td>\n      <td>95</td>\n      <td>genes</td>\n    </tr>\n    <tr>\n      <th>220</th>\n      <td>Creatinine</td>\n      <td>92</td>\n      <td>genes</td>\n    </tr>\n    <tr>\n      <th>504</th>\n      <td>Macular Degeneration</td>\n      <td>90</td>\n      <td>genes</td>\n    </tr>\n    <tr>\n      <th>424</th>\n      <td>Influenza A Virus, H1N1 Subtype</td>\n      <td>89</td>\n      <td>genes</td>\n    </tr>\n    <tr>\n      <th>...</th>\n      <td>...</td>\n      <td>...</td>\n      <td>...</td>\n    </tr>\n    <tr>\n      <th>647</th>\n      <td>Premature Birth</td>\n      <td>1</td>\n      <td>genes</td>\n    </tr>\n    <tr>\n      <th>165</th>\n      <td>Caudate Nucleus</td>\n      <td>1</td>\n      <td>genes</td>\n    </tr>\n    <tr>\n      <th>169</th>\n      <td>Cerebral Amyloid Angiopathy</td>\n      <td>1</td>\n      <td>genes</td>\n    </tr>\n    <tr>\n      <th>243</th>\n      <td>Depression</td>\n      <td>1</td>\n      <td>genes</td>\n    </tr>\n    <tr>\n      <th>174</th>\n      <td>Cetuximab</td>\n      <td>1</td>\n      <td>genes</td>\n    </tr>\n  </tbody>\n</table>\n<p>774 rows × 3 columns</p>\n</div>"
     },
     "execution_count": 11,
     "metadata": {},
     "output_type": "execute_result"
    }
   ],
   "source": [
    "filter_genes = df_genes_to_proteins[df_genes_to_proteins[\"NumProteins\"] > 5]\n",
    "filter_genes = set(filter_genes['Genes'])\n",
    "filter_diseases = set()\n",
    "for d, gs in map_disease_to_genes.items():\n",
    "    if bool(gs & filter_genes):\n",
    "        filter_diseases.add(d)\n",
    "print(f\"Diseases to delete: \\n\\n {filter_diseases}\")\n",
    "df_sel_diseases = df_disease_to_genes[~df_disease_to_genes['Disease'].isin(filter_diseases)]\n",
    "df_sel_diseases\n"
   ],
   "metadata": {
    "collapsed": false,
    "pycharm": {
     "name": "#%% Filter: Remove diseases which contain genes that map to too many proteins\n"
    }
   }
  },
  {
   "cell_type": "code",
   "execution_count": 12,
   "outputs": [],
   "source": [
    "map_disease_to_proteins = {disease: set() for disease in df_sel_diseases[\"Disease\"]}\n",
    "for disease in df_sel_diseases[\"Disease\"]:\n",
    "    for g in map_disease_to_genes[disease]:\n",
    "        if g in map_genes_to_proteins:\n",
    "            for protein in map_genes_to_proteins[g]:\n",
    "                map_disease_to_proteins[disease].add(protein)\n",
    "#map_disease_to_proteins"
   ],
   "metadata": {
    "collapsed": false,
    "pycharm": {
     "name": "#%% Get list of proteins for each disease\n"
    }
   }
  },
  {
   "cell_type": "code",
   "execution_count": 13,
   "outputs": [
    {
     "data": {
      "text/plain": "                     Disease  Num    Entity\n3       Macular Degeneration   54  proteins\n1                 Fibrinogen   54  proteins\n0        Cerebrospinal Fluid   51  proteins\n6                 Hematocrit   48  proteins\n11               Hemoglobins   47  proteins\n..                       ...  ...       ...\n705  Neurofibrillary Tangles    0  proteins\n647                Methadone    0  proteins\n703           Diet, High-Fat    0  proteins\n648         Memory, Episodic    0  proteins\n635            Osteonecrosis    0  proteins\n\n[774 rows x 3 columns]",
      "text/html": "<div>\n<style scoped>\n    .dataframe tbody tr th:only-of-type {\n        vertical-align: middle;\n    }\n\n    .dataframe tbody tr th {\n        vertical-align: top;\n    }\n\n    .dataframe thead th {\n        text-align: right;\n    }\n</style>\n<table border=\"1\" class=\"dataframe\">\n  <thead>\n    <tr style=\"text-align: right;\">\n      <th></th>\n      <th>Disease</th>\n      <th>Num</th>\n      <th>Entity</th>\n    </tr>\n  </thead>\n  <tbody>\n    <tr>\n      <th>3</th>\n      <td>Macular Degeneration</td>\n      <td>54</td>\n      <td>proteins</td>\n    </tr>\n    <tr>\n      <th>1</th>\n      <td>Fibrinogen</td>\n      <td>54</td>\n      <td>proteins</td>\n    </tr>\n    <tr>\n      <th>0</th>\n      <td>Cerebrospinal Fluid</td>\n      <td>51</td>\n      <td>proteins</td>\n    </tr>\n    <tr>\n      <th>6</th>\n      <td>Hematocrit</td>\n      <td>48</td>\n      <td>proteins</td>\n    </tr>\n    <tr>\n      <th>11</th>\n      <td>Hemoglobins</td>\n      <td>47</td>\n      <td>proteins</td>\n    </tr>\n    <tr>\n      <th>...</th>\n      <td>...</td>\n      <td>...</td>\n      <td>...</td>\n    </tr>\n    <tr>\n      <th>705</th>\n      <td>Neurofibrillary Tangles</td>\n      <td>0</td>\n      <td>proteins</td>\n    </tr>\n    <tr>\n      <th>647</th>\n      <td>Methadone</td>\n      <td>0</td>\n      <td>proteins</td>\n    </tr>\n    <tr>\n      <th>703</th>\n      <td>Diet, High-Fat</td>\n      <td>0</td>\n      <td>proteins</td>\n    </tr>\n    <tr>\n      <th>648</th>\n      <td>Memory, Episodic</td>\n      <td>0</td>\n      <td>proteins</td>\n    </tr>\n    <tr>\n      <th>635</th>\n      <td>Osteonecrosis</td>\n      <td>0</td>\n      <td>proteins</td>\n    </tr>\n  </tbody>\n</table>\n<p>774 rows × 3 columns</p>\n</div>"
     },
     "execution_count": 13,
     "metadata": {},
     "output_type": "execute_result"
    }
   ],
   "source": [
    "map_disease_to_numproteins = {d: len(g) for d, g in map_disease_to_proteins.items()}\n",
    "df_disease_to_proteins = pd.DataFrame(data=map_disease_to_numproteins.items(), columns=[\"Disease\", \"Num\"])\n",
    "df_disease_to_proteins['Entity'] = config.proteins\n",
    "df_disease_to_proteins.sort_values([\"Num\"], ascending=False, inplace=True)\n",
    "df_disease_to_proteins"
   ],
   "metadata": {
    "collapsed": false,
    "pycharm": {
     "name": "#%% Get number of proteins per disease\n"
    }
   }
  },
  {
   "cell_type": "code",
   "execution_count": 14,
   "outputs": [
    {
     "data": {
      "text/plain": "                                            Disease  Num    Entity\n0    1-Alkyl-2-acetylglycerophosphocholine Esterase   13     genes\n211  1-Alkyl-2-acetylglycerophosphocholine Esterase    8  proteins\n1          3-hydroxy-1-methylpropylmercapturic acid   42     genes\n64         3-hydroxy-1-methylpropylmercapturic acid   11  proteins\n546                         ADAMTS13 protein, human    2  proteins\n..                                              ...  ...       ...\n381                   thyroid microsomal antibodies    2  proteins\n871                           von Willebrand Factor   14     genes\n194                           von Willebrand Factor    6  proteins\n651                                     ziprasidone    1  proteins\n872                                     ziprasidone    2     genes\n\n[1601 rows x 3 columns]",
      "text/html": "<div>\n<style scoped>\n    .dataframe tbody tr th:only-of-type {\n        vertical-align: middle;\n    }\n\n    .dataframe tbody tr th {\n        vertical-align: top;\n    }\n\n    .dataframe thead th {\n        text-align: right;\n    }\n</style>\n<table border=\"1\" class=\"dataframe\">\n  <thead>\n    <tr style=\"text-align: right;\">\n      <th></th>\n      <th>Disease</th>\n      <th>Num</th>\n      <th>Entity</th>\n    </tr>\n  </thead>\n  <tbody>\n    <tr>\n      <th>0</th>\n      <td>1-Alkyl-2-acetylglycerophosphocholine Esterase</td>\n      <td>13</td>\n      <td>genes</td>\n    </tr>\n    <tr>\n      <th>211</th>\n      <td>1-Alkyl-2-acetylglycerophosphocholine Esterase</td>\n      <td>8</td>\n      <td>proteins</td>\n    </tr>\n    <tr>\n      <th>1</th>\n      <td>3-hydroxy-1-methylpropylmercapturic acid</td>\n      <td>42</td>\n      <td>genes</td>\n    </tr>\n    <tr>\n      <th>64</th>\n      <td>3-hydroxy-1-methylpropylmercapturic acid</td>\n      <td>11</td>\n      <td>proteins</td>\n    </tr>\n    <tr>\n      <th>546</th>\n      <td>ADAMTS13 protein, human</td>\n      <td>2</td>\n      <td>proteins</td>\n    </tr>\n    <tr>\n      <th>...</th>\n      <td>...</td>\n      <td>...</td>\n      <td>...</td>\n    </tr>\n    <tr>\n      <th>381</th>\n      <td>thyroid microsomal antibodies</td>\n      <td>2</td>\n      <td>proteins</td>\n    </tr>\n    <tr>\n      <th>871</th>\n      <td>von Willebrand Factor</td>\n      <td>14</td>\n      <td>genes</td>\n    </tr>\n    <tr>\n      <th>194</th>\n      <td>von Willebrand Factor</td>\n      <td>6</td>\n      <td>proteins</td>\n    </tr>\n    <tr>\n      <th>651</th>\n      <td>ziprasidone</td>\n      <td>1</td>\n      <td>proteins</td>\n    </tr>\n    <tr>\n      <th>872</th>\n      <td>ziprasidone</td>\n      <td>2</td>\n      <td>genes</td>\n    </tr>\n  </tbody>\n</table>\n<p>1601 rows × 3 columns</p>\n</div>"
     },
     "execution_count": 14,
     "metadata": {},
     "output_type": "execute_result"
    }
   ],
   "source": [
    "df_disease_to_entitites = pd.concat([df_disease_to_genes, df_disease_to_proteins])\n",
    "df_disease_to_entitites.sort_values(by=[\"Disease\"], inplace=True)\n",
    "df_disease_to_entitites"
   ],
   "metadata": {
    "collapsed": false,
    "pycharm": {
     "name": "#%%\n"
    }
   }
  },
  {
   "cell_type": "code",
   "execution_count": 28,
   "outputs": [
    {
     "data": {
      "text/plain": "<Figure size 432x288 with 1 Axes>",
      "image/png": "[encoded data removed]"
     },
     "metadata": {
      "needs_background": "light"
     },
     "output_type": "display_data"
    }
   ],
   "source": [
    "sns.violinplot(x=\"Entity\", y=\"Num\", data=df_disease_to_entitites, color=\"0.8\")\n",
    "sns.stripplot(x=\"Entity\", y=\"Num\", data=df_disease_to_entitites, jitter=True, zorder=1)\n",
    "plt.show()"
   ],
   "metadata": {
    "collapsed": false,
    "pycharm": {
     "name": "#%% See the distribution of genes and proteins per disease\n"
    }
   }
  },
  {
   "cell_type": "code",
   "execution_count": 16,
   "outputs": [
    {
     "data": {
      "text/plain": "{'Q13231': {'Cerebrospinal Fluid'},\n 'P28223': {'Cerebrospinal Fluid'},\n 'Q9HDB5': {'Audiometry, Pure-Tone',\n  'Blood Flow Velocity',\n  'Body Weight Changes',\n  'Cerebrospinal Fluid',\n  'Obesity'},\n 'Q8NEC5': {'Cerebrospinal Fluid'},\n 'Q13478': {'Celiac Disease', 'Cerebrospinal Fluid'},\n 'Q8NFM7': {'Cerebrospinal Fluid'},\n 'O15389': {'Cerebrospinal Fluid'},\n 'P06734': {'Cerebrospinal Fluid'},\n 'Q9UI12': {'Cerebrospinal Fluid'},\n 'P36222': {'CHI3L1 protein, human', 'Cerebrospinal Fluid'},\n 'P01019': {'Arterial Pressure', 'Cerebrospinal Fluid'},\n 'Q29980': {'Cerebrospinal Fluid',\n  'Eosinophils',\n  'Metabolic Syndrome X',\n  'Myositis',\n  'Neonatal Systemic lupus erythematosus',\n  'Severe Dengue'},\n 'O95619': {'Cerebrospinal Fluid'},\n 'Q9Y336': {'Cerebrospinal Fluid'},\n 'O95644': {'Cerebrospinal Fluid', 'Creatinine', 'tau Proteins'},\n 'Q9NZ08': {'Cerebrospinal Fluid', 'Spondylitis, Ankylosing'},\n 'Q14956': {'Cerebrospinal Fluid'},\n 'Q13093': {'1-Alkyl-2-acetylglycerophosphocholine Esterase',\n  'Cerebrospinal Fluid'},\n 'P17213': {'Cerebrospinal Fluid'},\n 'Q10588': {'Cerebrospinal Fluid'},\n 'Q9HD89': {'Cerebrospinal Fluid', 'Resistin'},\n 'Q14134': {'Cerebrospinal Fluid'},\n 'Q6UX06': {'Cerebrospinal Fluid', 'tau Proteins'},\n 'Q96N96': {'Cerebrospinal Fluid', 'Hypothyroidism'},\n 'O60333': {'Cerebrospinal Fluid', 'Mean Platelet Volume'},\n 'Q9BXR6': {'Blood Coagulation Factors',\n  'Cerebrospinal Fluid',\n  'Macular Degeneration'},\n 'Q9Y4C0': {'Audiometry, Pure-Tone',\n  'Blood Flow Velocity',\n  'Body Weight Changes',\n  'Cerebrospinal Fluid',\n  'Obesity'},\n 'Q6UXX9': {'Cerebrospinal Fluid',\n  'Ossification of the posterior longitudinal ligament of the spine'},\n 'P20138': {'Cerebrospinal Fluid'},\n 'P09619': {'Cerebrospinal Fluid'},\n 'Q6UWB1': {'Cerebrospinal Fluid'},\n 'Q02083': {'Cerebrospinal Fluid'},\n 'Q8N4E7': {'Cerebrospinal Fluid',\n  'Lateral Ventricles',\n  'amyloid beta-protein (1-42)'},\n 'P15848': {'Cerebrospinal Fluid', 'Selenium'},\n 'P10643': {'Cerebrospinal Fluid'},\n 'P10768': {'Cerebrospinal Fluid'},\n 'Q9NR71': {'Cerebrospinal Fluid'},\n 'P02649': {'Amyloid beta-Peptides',\n  'Amyloidosis, Cerebral, with Spongiform Encephalopathy',\n  'Cerebral Cortex',\n  'Cerebrospinal Fluid',\n  'Cognition Disorders',\n  'Health',\n  'Hydroxymethylglutaryl CoA Reductases',\n  'Lewy Body Disease',\n  'Lipids',\n  'Lipoproteins',\n  'Macular Degeneration',\n  'Neuroimaging',\n  'Wet Macular Degeneration',\n  'amyloid beta-protein (1-42)',\n  'tau Proteins'},\n 'Q29983': {'Cerebrospinal Fluid',\n  'Drug Resistance',\n  'Graves Disease',\n  'HIV',\n  'Hypersensitivity',\n  'Spondylitis, Ankylosing',\n  'Trichloroethylene'},\n 'P30740': {'Cerebrospinal Fluid', 'amyloid beta-protein (1-42)'},\n 'Q16610': {'Cerebrospinal Fluid'},\n 'P68402': {'Cerebrospinal Fluid',\n  'Hypertriglyceridemia',\n  'Receptors, Transferrin'},\n 'P48357': {'Cerebrospinal Fluid',\n  'Fibrinogen',\n  'Obesity',\n  'Receptors, Leptin',\n  'Voice'},\n 'P04196': {'Cerebrospinal Fluid', 'Partial Thromboplastin Time'},\n 'P08887': {'Aortic Aneurysm, Abdominal',\n  'Cerebrospinal Fluid',\n  'Coronary Artery Disease',\n  'Fibrinogen',\n  'Interleukin-6',\n  'Receptors, Interleukin-6'},\n 'P12318': {'Cerebrospinal Fluid',\n  'Helicobacter Infections',\n  'Mucocutaneous Lymph Node Syndrome'},\n 'Q9UHL4': {'Cerebrospinal Fluid'},\n 'O15041': {'Cerebrospinal Fluid'},\n 'Q02246': {'Cerebrospinal Fluid'},\n 'Q9Y4H4': {'Cerebrospinal Fluid'},\n 'Q9BW92': {'Cerebrospinal Fluid', 'Circadian Rhythm'},\n 'Q14554': {'Fibrinogen'},\n 'Q6JQN1': {'Esophageal Neoplasms',\n  'Fibrinogen',\n  'Macular Degeneration',\n  'Wet Macular Degeneration'},\n 'Q04756': {'Fibrinogen'},\n 'P03951': {'Fibrinogen', 'Partial Thromboplastin Time'},\n 'Q8WWZ1': {'Fibrinogen',\n  'Interleukin 1 Receptor Antagonist Protein',\n  'Leukocyte Count'},\n 'P20807': {'Fibrinogen'},\n 'P41235': {'Fibrinogen', 'Microbiota'},\n 'Q9BWP8': {'Fibrinogen'},\n 'Q96AX2': {'Fibrinogen'},\n 'Q10471': {'Fibrinogen',\n  'Lipoproteins',\n  'Metabolic Syndrome X',\n  'Vascular Calcification'},\n 'Q96P20': {'Fibrinogen'},\n 'P05166': {'Fibrinogen'},\n 'Q3L8U1': {'Androgens',\n  'Circadian Rhythm',\n  'Fibrinogen',\n  'Hair Color',\n  'Hormones'},\n 'P14778': {'Fibrinogen', 'IL1RL1 protein, human'},\n 'Q9BYB0': {'Fibrinogen'},\n 'P25116': {'Fibrinogen', 'Mean Platelet Volume'},\n 'Q5VZE5': {'Fibrinogen'},\n 'P18510': {'Fibrinogen', 'Leukocyte Count'},\n 'Q9H015': {'Fibrinogen', 'acylcarnitine'},\n 'P02679': {'Fibrinogen',\n  'Pulmonary Embolism',\n  'Thrombosis',\n  'fibrinogen D fragment'},\n 'P10914': {'Eosinophils', 'Fibrinogen', 'Polycystic Ovary Syndrome'},\n 'Q8NBN3': {'Fibrinogen'},\n 'P01042': {'Adiponectin',\n  'Fibrinogen',\n  'Myopia, Degenerative',\n  'Partial Thromboplastin Time',\n  'Renin'},\n 'O95271': {'Alkaline Phosphatase',\n  'Calcium-Binding Proteins',\n  'Fibrinogen',\n  'Nose'},\n 'P02671': {'Fibrinogen', 'fibrinogen D fragment'},\n 'Q9P0U1': {'Fibrinogen'},\n 'Q00341': {'Fibrinogen'},\n 'Q07352': {'Fibrinogen'},\n 'Q8TDQ1': {'Fibrinogen'},\n 'Q02127': {'Fibrinogen'},\n 'P56880': {'Fibrinogen'},\n 'Q12791': {'Cystatins', 'Fibrinogen', 'Hypospadias', 'Myopia', 'Obesity'},\n 'O43660': {'Fibrinogen'},\n 'P51148': {'Fibrinogen'},\n 'Q15149': {'Fibrinogen'},\n 'Q8TCT8': {'Fibrinogen'},\n 'Q9HBY0': {'Fibrinogen'},\n 'P38571': {'Coronary Artery Disease', 'Fibrinogen', 'Myocardial Infarction'},\n 'O94887': {'Fibrinogen'},\n 'Q49A17': {'Fibrinogen', 'Insulin Resistance'},\n 'P31327': {'Amino Acids',\n  'Angiography',\n  'Betaine',\n  'Fibrinogen',\n  'Homocysteine',\n  'Insulin Resistance',\n  'Macular Degeneration',\n  'Urine'},\n 'Q15652': {'Alkaline Phosphatase',\n  'Fatty Acids, Omega-6',\n  'Fibrinogen',\n  'Liver Diseases',\n  'Mean Platelet Volume',\n  'Platelet Aggregation',\n  'Sex Hormone-Binding Globulin',\n  'Vascular Endothelial Growth Factors'},\n 'O95237': {'Fibrinogen', 'Pulmonary Embolism', 'Thrombosis'},\n 'Q8NBK3': {'Fibrinogen', 'Intervertebral disc disease', 'Lipoproteins, VLDL'},\n 'Q9UQQ2': {'Arterial Pressure',\n  'Autoantibodies',\n  'Cholangitis, Sclerosing',\n  'Coronary Artery Disease',\n  'Endometrial Neoplasms',\n  'Eosinophils',\n  'Fibrinogen',\n  'Hemoglobins',\n  'Hypertension',\n  'Hypothyroidism',\n  'Mental Processes'},\n 'Q96SW2': {'Fibrinogen', 'Intervertebral disc disease', 'Lipoproteins, VLDL'},\n 'Q9BZH6': {'Fibrinogen', 'Prostate-Specific Antigen'},\n 'P05113': {'Eosinophils', 'Fibrinogen'},\n 'Q07343': {'Apolipoproteins E', 'Fibrinogen', 'Voice'},\n 'P02675': {'Fibrinogen'},\n 'O76082': {'Fibrinogen', 'acylcarnitine'},\n 'P15289': {'Fibrinogen'},\n 'P15692': {'Adiponectin',\n  'Anthropometry',\n  'Creatinine',\n  'Hypothyroidism',\n  'Macular Degeneration',\n  'Prostate-Specific Antigen',\n  'Renal Insufficiency, Chronic',\n  'Sex Characteristics',\n  'Thyrotropin',\n  'Uric Acid',\n  'Vascular Endothelial Growth Factors',\n  'Wet Macular Degeneration'},\n 'O00462': {'Creatinine'},\n 'Q9UHE5': {'Creatinine',\n  'Leucine',\n  'Metabolome',\n  'Renal Insufficiency, Chronic',\n  'Urine'},\n 'Q9NQ94': {'Creatinine', 'Uric Acid'},\n 'Q92499': {'Creatinine', 'Renal Insufficiency, Chronic', 'Wilms Tumor'},\n 'P98164': {'Creatinine', 'Uric Acid'},\n 'O00755': {'Creatinine'},\n 'Q9H490': {'Creatinine', 'Melanoma'},\n 'Q9BXS1': {'Creatinine'},\n 'Q8WVN8': {'Creatinine', 'Renal Insufficiency, Chronic', 'Uric Acid'},\n 'Q9UGJ0': {'Amino Acids',\n  'Creatinine',\n  'Hematocrit',\n  'Hemoglobins',\n  'Renal Insufficiency, Chronic',\n  'Uric Acid'},\n 'P98082': {'Creatinine', 'Pancreatic Carcinoma'},\n 'Q96PY5': {'Creatinine'},\n 'Q9Y231': {'Creatinine', 'Migraine Disorders', 'Sleep'},\n 'P12757': {'Creatinine'},\n 'Q86SQ7': {'Bipolar Disorder', 'Creatinine', 'Psychotic Disorders'},\n 'Q14397': {'Amino Acids',\n  'Atrial Fibrillation',\n  'C-Peptide',\n  'Calcium',\n  'Creatinine',\n  'Diabetes Mellitus',\n  'Glucose Tolerance Test',\n  'Gout',\n  'Heart Failure',\n  'Hematocrit',\n  'Hypertriglyceridemia',\n  'Insulin',\n  'Insulin Resistance',\n  'Insulin-Like Growth Factor I',\n  'Lactation',\n  'Leptin',\n  'Lipids',\n  'Mannose',\n  'Metabolic Syndrome X',\n  'Mortality',\n  'Neoplasms',\n  'Obesity',\n  'Phospholipids',\n  'Renal Insufficiency, Chronic',\n  'Serum Albumin',\n  'Sex Hormone-Binding Globulin',\n  'Uric Acid',\n  'Vascular Calcification',\n  'alpha 1-Antitrypsin',\n  'docosapentaenoic acid',\n  'gamma-Glutamyltransferase'},\n 'Q96ST8': {'Creatinine', 'Urine'},\n 'Q15465': {'Creatinine', 'Forced Expiratory Volume'},\n 'Q06495': {'Creatinine', 'Magnesium', 'Renal Insufficiency, Chronic'},\n 'Q96IG2': {'Creatinine'},\n 'Q14831': {'Creatinine', 'Risperidone'},\n 'P50440': {'Amino Acids',\n  'Creatinine',\n  'Homoarginine',\n  'Renal Insufficiency, Chronic'},\n 'O15244': {'Apolipoprotein A-I',\n  'Creatinine',\n  'Lipoprotein(a)',\n  'Renal Insufficiency, Chronic',\n  'lipoprotein A-I'},\n 'Q14188': {'Creatinine',\n  'Renal Insufficiency, Chronic',\n  'Testicular Germ Cell Tumor'},\n 'O14986': {'Creatinine', 'Microbiota', 'Renal Insufficiency, Chronic'},\n 'Q8TCU4': {'Creatinine', 'Urine'},\n 'Q9NSD5': {'Creatinine',\n  'Metabolome',\n  'Renal Insufficiency, Chronic',\n  'Urine'},\n 'P82251': {'Creatinine', 'Renal Insufficiency, Chronic', 'Urine'},\n 'P55211': {'Creatinine'},\n 'Q07973': {'Calcium',\n  'Creatinine',\n  'Hormone Replacement Therapy',\n  'Insulin Resistance',\n  'Parathyroid Hormone'},\n 'Q9ULG1': {'Creatinine', 'Occipital Lobe'},\n 'P16444': {'Creatinine', 'Homocysteine'},\n 'P07911': {'Biomarkers',\n  'Creatinine',\n  'Diabetes Mellitus',\n  'Hypertension',\n  'Renal Insufficiency, Chronic',\n  'Uromodulin'},\n 'Q13698': {'Creatinine', 'Tooth Eruption'},\n 'Q9HD42': {'Creatinine', 'Homocysteine'},\n 'P43146': {'Creatinine', 'Depressive Disorder', 'Putamen'},\n 'P51787': {'Creatinine', 'Gout'},\n 'Q96FL8': {'Creatinine'},\n 'O43868': {'Amino Acids',\n  'Creatinine',\n  'Homoarginine',\n  'Renal Insufficiency, Chronic'},\n 'P23771': {'Creatinine',\n  'Precursor B-Cell Lymphoblastic Leukemia-Lymphoma',\n  'Precursor Cell Lymphoblastic Leukemia-Lymphoma'},\n 'Q96G23': {'Creatinine', 'Renal Insufficiency, Chronic'},\n 'P01024': {'Complement C3',\n  'Macular Degeneration',\n  'Wet Macular Degeneration'},\n 'P05160': {'Macular Degeneration'},\n 'Q13127': {'Macular Degeneration', 'Migraine Disorders'},\n 'Q8TAT6': {'Eye Color', 'Macular Degeneration', 'Wet Macular Degeneration'},\n 'Q6GPI1': {'Macular Degeneration', 'Wet Macular Degeneration'},\n 'Q99439': {'Macular Degeneration', 'Wet Macular Degeneration'},\n 'Q9HCF6': {'Macular Degeneration', 'Wet Macular Degeneration'},\n 'Q01955': {'Corneal Topography',\n  'Macular Degeneration',\n  'Wet Macular Degeneration'},\n 'P14780': {'Influenza A Virus, H1N1 Subtype',\n  'Lipoproteins',\n  'Macular Degeneration',\n  'Wet Macular Degeneration'},\n 'Q03591': {'Macular Degeneration', 'Wet Macular Degeneration'},\n 'O15315': {'Adenocarcinoma of lung',\n  'Carcinoma, Endometrioid',\n  'Carcinoma, Non-Small-Cell Lung',\n  'Lung Neoplasms',\n  'Macular Degeneration',\n  'Nose',\n  'Odontogenesis',\n  'Ovarian Neoplasms',\n  'Wet Macular Degeneration'},\n 'P02748': {'Macular Degeneration', 'Wet Macular Degeneration'},\n 'Q92496': {'Blood Coagulation Factors',\n  'Macular Degeneration',\n  'Wet Macular Degeneration'},\n 'Q15011': {'1-Alkyl-2-acetylglycerophosphocholine Esterase',\n  'Atrial Fibrillation',\n  'Diabetes Mellitus',\n  'Heart Failure',\n  'Hematocrit',\n  'Hydroxymethylglutaryl CoA Reductases',\n  'Lipids',\n  'Lipoproteins',\n  'Macular Degeneration',\n  'Metabolic Syndrome X',\n  'Mortality',\n  'Neoplasms',\n  'Vascular Calcification',\n  'Wet Macular Degeneration'},\n 'Q9BZM1': {'Macular Degeneration', 'Wet Macular Degeneration'},\n 'Q15477': {'Macular Degeneration'},\n 'O95477': {'Glaucoma, Open-Angle',\n  'Intraocular Pressure',\n  'Lipids',\n  'Lipoproteins',\n  'Macular Degeneration',\n  'Metabolic Syndrome X',\n  'Vascular Calcification',\n  'Wet Macular Degeneration'},\n 'Q92753': {'Erythrocytes',\n  'Lipids',\n  'Macular Degeneration',\n  'Refraction, Ocular',\n  'Wet Macular Degeneration'},\n 'O00220': {'Macular Degeneration'},\n 'P08603': {'Blood Coagulation Factors',\n  'Complement C3',\n  'Kidney Diseases',\n  'Macular Degeneration',\n  'Peroxidases',\n  'Wet Macular Degeneration'},\n 'Q5T5U3': {'Macular Degeneration', 'Wet Macular Degeneration'},\n 'O14994': {'Macular Degeneration', 'Wet Macular Degeneration'},\n 'P51993': {'Carcinoembryonic Antigen',\n  'Macular Degeneration',\n  'Neoplasms',\n  'Polysaccharides',\n  'Vitamin B 12',\n  'Wet Macular Degeneration'},\n 'Q99466': {'Celiac Disease',\n  'Complement C4',\n  'Joint Instability',\n  'Macular Degeneration',\n  'Peroxidases'},\n 'P27658': {'Macular Degeneration', 'Optic Disk', 'Wet Macular Degeneration'},\n 'O43175': {'Amino Acids', 'Insulin Resistance', 'Macular Degeneration'},\n 'P16471': {'3-hydroxy-1-methylpropylmercapturic acid',\n  'Macular Degeneration',\n  'Wet Macular Degeneration'},\n 'Q99943': {'Macular Degeneration', 'Phospholipids', 'sRAGE protein, human'},\n 'P04083': {'Erythrocytes',\n  'Lipids',\n  'Macular Degeneration',\n  'Wet Macular Degeneration'},\n 'Q9H553': {'Macular Degeneration', 'Wet Macular Degeneration'},\n 'P05156': {'Macular Degeneration', 'Wet Macular Degeneration'},\n 'Q9HB21': {'Macular Degeneration'},\n 'P06681': {'Macular Degeneration'},\n 'P18615': {'Macular Degeneration'},\n 'P36897': {'Macular Degeneration'},\n 'P11150': {'Atrial Fibrillation',\n  'Blood Flow Velocity',\n  'Diabetes Mellitus',\n  'Heart Failure',\n  'Hematocrit',\n  'Lipoproteins',\n  'Macular Degeneration',\n  'Mortality',\n  'Neoplasms',\n  'Wet Macular Degeneration'},\n 'Q92781': {'Macular Degeneration',\n  'Myopia',\n  'Refraction, Ocular',\n  'Refractive Errors',\n  'Wet Macular Degeneration'},\n 'P02654': {'1-Alkyl-2-acetylglycerophosphocholine Esterase',\n  'Age of Onset',\n  'Amyloid beta-Peptides',\n  'Atherosclerosis',\n  'Atrial Fibrillation',\n  'Cerebral Cortex',\n  'Coronary Artery Disease',\n  'Diabetes Mellitus',\n  'Health',\n  'Heart Failure',\n  'Hematocrit',\n  'Hydroxymethylglutaryl CoA Reductases',\n  'Lipids',\n  'Lipoproteins',\n  'Longevity',\n  'Macular Degeneration',\n  'Memory',\n  'Mortality',\n  'Myocardial Infarction',\n  'Neoplasms',\n  'Neuropsychological Tests',\n  'Psychomotor Performance',\n  'Vascular Calcification'},\n 'P36980': {'Macular Degeneration'},\n 'P22105': {'Complement C4', 'Hypertension', 'Macular Degeneration'},\n 'Q9UKJ1': {'Macular Degeneration', 'Wet Macular Degeneration'},\n 'Q03692': {'Macular Degeneration', 'Myopia'},\n 'Q92743': {'Macular Degeneration'},\n 'P00751': {'Macular Degeneration', 'Thyroid Diseases'},\n 'Q99942': {'Macular Degeneration', 'sRAGE protein, human'},\n 'O95907': {'Macular Degeneration', 'Wet Macular Degeneration'},\n 'P11597': {'1-Alkyl-2-acetylglycerophosphocholine Esterase',\n  'Atrial Fibrillation',\n  'Diabetes Mellitus',\n  'Heart Failure',\n  'Hematocrit',\n  'Hydroxymethylglutaryl CoA Reductases',\n  'Lipids',\n  'Lipoproteins',\n  'Macular Degeneration',\n  'Metabolic Syndrome X',\n  'Mortality',\n  'Neoplasms',\n  'Vascular Calcification',\n  'Wet Macular Degeneration'},\n 'P42685': {'Autosomal dominant compelling helio ophthalmic outburst syndrome',\n  'Cognition Disorders',\n  'Cognitive Dysfunction',\n  'Macular Degeneration',\n  'Uric Acid'},\n 'Q6Y288': {'Macular Degeneration', 'Wet Macular Degeneration'},\n 'P01906': {'Alopecia Areata',\n  'Giant Cell Arteritis',\n  'Influenza A Virus, H1N1 Subtype',\n  'Kidney Diseases',\n  'Pancreatitis',\n  'Peanut Hypersensitivity',\n  'Purines',\n  'Typhoid Fever'},\n 'Q6UWR7': {'Influenza A Virus, H1N1 Subtype'},\n 'P48426': {'Influenza A Virus, H1N1 Subtype'},\n 'Q9NR34': {'Influenza A Virus, H1N1 Subtype'},\n 'Q7Z698': {'Autoimmune Diseases', 'Influenza A Virus, H1N1 Subtype'},\n 'Q86UE6': {'Antipsychotic Agents',\n  'Hypotension, Orthostatic',\n  'Influenza A Virus, H1N1 Subtype',\n  'Menopause'},\n 'P35869': {'Caffeine',\n  'Coffee',\n  'Influenza A Virus, H1N1 Subtype',\n  'Melanoma',\n  'Skin Neoplasms'},\n 'Q8NE71': {'Graves Disease', 'Influenza A Virus, H1N1 Subtype'},\n 'O15078': {'Influenza A Virus, H1N1 Subtype'},\n 'Q9BYX2': {'Influenza A Virus, H1N1 Subtype'},\n 'A0FGR8': {'Influenza A Virus, H1N1 Subtype'},\n 'O75030': {'Influenza A Virus, H1N1 Subtype'},\n 'O43184': {'Influenza A Virus, H1N1 Subtype'},\n 'Q17RR3': {'Influenza A Virus, H1N1 Subtype'},\n 'O95573': {'Influenza A Virus, H1N1 Subtype'},\n 'Q15700': {'Bronchodilator Agents',\n  'Influenza A Virus, H1N1 Subtype',\n  'Myopia',\n  'Phospholipids',\n  'Putamen',\n  'Wilms Tumor'},\n 'Q9BSJ2': {'Influenza A Virus, H1N1 Subtype'},\n 'Q9NS87': {'Influenza A Virus, H1N1 Subtype'},\n 'Q14980': {'Influenza A Virus, H1N1 Subtype'},\n 'Q9UBN4': {'Influenza A Virus, H1N1 Subtype', 'lipoprotein A-I'},\n 'P18507': {'Angiotensin-Converting Enzyme Inhibitors',\n  'Influenza A Virus, H1N1 Subtype'},\n 'O00451': {'Influenza A Virus, H1N1 Subtype'},\n 'P52594': {'Influenza A Virus, H1N1 Subtype'},\n 'P61328': {'Influenza A Virus, H1N1 Subtype'},\n 'P15056': {'Influenza A Virus, H1N1 Subtype'},\n 'Q14186': {'Influenza A Virus, H1N1 Subtype'},\n 'Q8IW52': {'Influenza A Virus, H1N1 Subtype'},\n 'P51793': {'Influenza A Virus, H1N1 Subtype'},\n 'Q8WZ64': {'Influenza A Virus, H1N1 Subtype', 'Motion Sickness'},\n 'Q9H7S9': {'Age of Onset', 'Influenza A Virus, H1N1 Subtype'},\n 'P11532': {'Audiometry, Pure-Tone',\n  'Influenza A Virus, H1N1 Subtype',\n  'Memory',\n  'Temporomandibular Joint Disorders'},\n 'Q8WUM4': {'Influenza A Virus, H1N1 Subtype', 'Neuroticism'},\n 'Q5SSG8': {'Influenza A Virus, H1N1 Subtype',\n  'Lupus Erythematosus, Cutaneous'},\n 'Q96EB1': {'Glaucoma', 'Optic Disk'},\n 'P28562': {'Optic Disk'},\n 'Q9H2D6': {'Optic Disk'},\n 'Q8NEL9': {'Optic Disk'},\n 'P12643': {'Craniosynostoses',\n  'Depressive Disorder',\n  'Diagnostic Self Evaluation',\n  'Mental Health',\n  'Optic Disk',\n  'Pulse',\n  'Refraction, Ocular',\n  'Vital Capacity'},\n 'Q14974': {'Optic Disk', 'Spondylitis, Ankylosing'},\n 'Q9UP79': {'Intraocular Pressure', 'Optic Disk'},\n 'Q12805': {'Hernia, Inguinal',\n  'Optic Disk',\n  'Vital Capacity',\n  'White Matter'},\n 'O75369': {'Microbiota', 'Optic Disk'},\n 'Q9H2J7': {'Depressive Disorder', 'Hypersensitivity', 'Optic Disk'},\n 'Q17RY6': {'Optic Disk'},\n 'P42772': {'Glaucoma, Open-Angle', 'Glioma', 'Optic Disk'},\n 'O43301': {'Optic Disk', 'Uric Acid'},\n 'Q16518': {'Optic Disk'},\n 'O96017': {'Carcinoma, Squamous Cell',\n  'Esophageal Neoplasms',\n  'Lung Neoplasms',\n  'Optic Disk'},\n 'Q16880': {'Optic Disk'},\n 'Q9Y6T7': {'Optic Disk'},\n 'P35813': {'Glaucoma, Open-Angle',\n  'Microbiota',\n  'Optic Disk',\n  'Refractive Errors'},\n 'Q9H672': {'Chin', 'Optic Disk'},\n 'O43653': {'Duodenal Ulcer',\n  'Optic Disk',\n  'Stomach Neoplasms',\n  'Urinary Bladder Neoplasms'},\n 'P13611': {'Joint Instability', 'Optic Disk'},\n 'Q5FYB0': {'Optic Disk'},\n 'Q9P212': {'Esophageal Neoplasms',\n  'Esophageal Squamous Cell Carcinoma',\n  'Gastrointestinal Neoplasms',\n  'Hypertension',\n  'Migraine Disorders',\n  'Optic Disk',\n  'Personality',\n  'Severe Dengue',\n  'Stomach Neoplasms'},\n 'Q96KP1': {'Hair Color',\n  'Melanoma',\n  'Melanosis',\n  'Multiple Myeloma',\n  'Optic Disk',\n  'Skin Pigmentation',\n  'Suntan'},\n 'Q5VT25': {'Optic Disk'},\n 'O75911': {'Optic Disk'},\n 'P12259': {'Hematologic Tests',\n  'Hippocampus',\n  'Optic Disk',\n  'Partial Thromboplastin Time',\n  'Pulmonary Embolism',\n  'Thrombosis',\n  'fibrinogen D fragment'},\n 'Q00587': {'Optic Disk'},\n 'O00476': {'Arterial Pressure',\n  'Hematocrit',\n  'Homocysteine',\n  'Iron',\n  'Receptors, Transferrin',\n  'Uric Acid'},\n 'P10242': {'Anemia, Sickle Cell',\n  'Eosinophils',\n  'Fetal Hemoglobin',\n  'Hematocrit',\n  'Hemoglobin A2',\n  'Hemoglobin E',\n  'Hemoglobins',\n  'Leukocyte Count',\n  'hemoglobin A1c protein, human'},\n 'Q96JK9': {'Atrial Fibrillation',\n  'Diabetes Mellitus',\n  'Heart Defects, Congenital',\n  'Heart Failure',\n  'Hematocrit',\n  'Mortality',\n  'Neoplasms'},\n 'Q13572': {'Atrial Fibrillation',\n  'Diabetes Mellitus',\n  'Heart Failure',\n  'Hematocrit',\n  'Mortality',\n  'Neoplasms',\n  'Sleep'},\n 'Q99726': {'Atrial Fibrillation',\n  'Diabetes Mellitus',\n  'Heart Failure',\n  'Hematocrit',\n  'Mortality',\n  'Neoplasms'},\n 'P04114': {'Atrial Fibrillation',\n  'Diabetes Mellitus',\n  'Heart Failure',\n  'Hematocrit',\n  'Lipids',\n  'Lipoproteins',\n  'Metabolic Syndrome X',\n  'Mortality',\n  'Neoplasms',\n  'Vascular Calcification',\n  'oxidized low density lipoprotein'},\n 'P82932': {'Hematocrit'},\n 'Q13936': {'Attention Deficit Disorder with Hyperactivity',\n  'Bipolar Disorder',\n  'Child Development Disorders, Pervasive',\n  'Depressive Disorder',\n  'Hematocrit'},\n 'P16234': {'Astigmatism', 'Corneal Topography', 'Hematocrit', 'Hemoglobins'},\n 'Q9C0B1': {'Atrial Fibrillation',\n  'Body Fat Distribution',\n  'Diabetes Mellitus',\n  'Energy Intake',\n  'Heart Failure',\n  'Hematocrit',\n  'Leptin',\n  'Leukopenia',\n  'Melanoma',\n  'Metabolic Syndrome X',\n  'Mortality',\n  'Neoplasms',\n  'Obesity',\n  'Purines',\n  'Subcutaneous Fat'},\n 'Q9BQK8': {'Hematocrit'},\n 'O94805': {'Hematocrit', 'Hemoglobins'},\n 'P10721': {'Hematocrit', 'Hemoglobins'},\n 'Q9NQB0': {'Atrial Fibrillation',\n  'Autoantibodies',\n  'Bipolar Disorder',\n  'Clinical Laboratory Techniques',\n  'Diabetes Mellitus',\n  'Heart Failure',\n  'Hematocrit',\n  'Insulin',\n  'Mortality',\n  'Myopia',\n  'Neoplasms'},\n 'Q02156': {'Hematocrit', 'Hemoglobins', 'alpha-carotene'},\n 'O14490': {'Body Weights and Measures',\n  'Cadmium',\n  'Hematocrit',\n  'Urinalysis'},\n 'Q12882': {'Audiometry, Pure-Tone', 'Hematocrit', 'Mental Competency'},\n 'Q8TDX5': {'Hematocrit'},\n 'Q7Z569': {'Alanine Transaminase',\n  'Arterial Pressure',\n  'Hematocrit',\n  'Hemoglobins',\n  'Myocardial Infarction',\n  'Tetralogy of Fallot'},\n 'P54753': {'Hematocrit', 'Nose'},\n 'P16442': {'Alkaline Phosphatase',\n  'Angiopoietin-2',\n  'Angiotensins',\n  'Blood Coagulation Factors',\n  'Carcinoembryonic Antigen',\n  'Clinical Laboratory Techniques',\n  'Coronary Artery Disease',\n  'Duodenal Ulcer',\n  'E-Selectin',\n  'Endothelial Growth Factors',\n  'Factor VIII',\n  'Ferritins',\n  'Graves Disease',\n  'Hematocrit',\n  'Hemoglobins',\n  'Hypersensitivity',\n  'Intercellular Adhesion Molecule-1',\n  'Interleukin-6',\n  'Intraocular Pressure',\n  'Iron',\n  'Lipase',\n  'Liver Diseases',\n  'Malaria',\n  'Myocardial Infarction',\n  'Neoplasms',\n  'P-Selectin',\n  'Pancreatic Carcinoma',\n  'Pancreatic Neoplasms',\n  'Partial Thromboplastin Time',\n  'Phosphorus',\n  'Pulmonary Embolism',\n  'Thrombosis',\n  'Thyrotropin',\n  'Tumor Necrosis Factor-alpha',\n  'Urine',\n  'von Willebrand Factor'},\n 'P04035': {'Atrial Fibrillation',\n  'Diabetes Mellitus',\n  'Heart Failure',\n  'Hematocrit',\n  'Lipoproteins',\n  'Mortality',\n  'Neoplasms'},\n 'Q9UIG0': {'Atrial Fibrillation',\n  'Diabetes Mellitus',\n  'Heart Failure',\n  'Hematocrit',\n  'Hypertriglyceridemia',\n  'Migraine Disorders',\n  'Mortality',\n  'Neoplasms',\n  'Protein C',\n  'Uric Acid'},\n 'Q9UP52': {'Hematocrit', 'Hemoglobins', 'Iron', 'Selenium', 'Transferrin'},\n 'Q8IU80': {'Clinical Laboratory Techniques',\n  'Ferritins',\n  'Hematocrit',\n  'Hemoglobins',\n  'Hepcidins',\n  'Iron',\n  'Receptors, Transferrin',\n  'Selenium',\n  'Transferrin',\n  'hemoglobin A1c protein, human'},\n 'P10071': {'Hematocrit', 'Nose'},\n 'Q9C0K1': {'Arterial Pressure', 'Cardiovascular Diseases', 'Hematocrit'},\n 'Q9UHY1': {'Atrial Fibrillation',\n  'Diabetes Mellitus',\n  'Heart Failure',\n  'Hematocrit',\n  'Insulin-Like Growth Factor I',\n  'Mortality',\n  'Neoplasms'},\n 'P06858': {'Atrial Fibrillation',\n  'Diabetes Mellitus',\n  'Heart Failure',\n  'Hematocrit',\n  'Lipids',\n  'Lipoproteins',\n  'Metabolic Syndrome X',\n  'Mortality',\n  'Neoplasms',\n  'Vascular Calcification'},\n 'Q96RU8': {'Adiponectin',\n  'Alanine Transaminase',\n  'Alkaline Phosphatase',\n  'Atrial Fibrillation',\n  'Diabetes Mellitus',\n  'Heart Failure',\n  'Hematocrit',\n  'Hypertriglyceridemia',\n  'Lipids',\n  'Lipoproteins',\n  'Mortality',\n  'Neoplasms'},\n 'O14788': {'Apolipoproteins C',\n  'Cerebral Cortex',\n  'Hematocrit',\n  'Luteinizing Hormone'},\n 'P11413': {'Hematocrit', 'Hemoglobin A, Glycosylated', 'Hemoglobins'},\n 'Q8IWZ8': {'Atrial Fibrillation',\n  'Diabetes Mellitus',\n  'Heart Failure',\n  'Hematocrit',\n  'Liver Cirrhosis, Alcoholic',\n  'Mortality',\n  'Neoplasms'},\n 'Q15911': {'Atrial Fibrillation',\n  'Cardiovascular Diseases',\n  'Diabetes Mellitus',\n  'Embolism',\n  'Heart Failure',\n  'Hematocrit',\n  'Hypospadias',\n  'Mortality',\n  'Neoplasms'},\n 'P19367': {'Hematocrit', 'Hemoglobins', 'hemoglobin A1c protein, human'},\n 'Q9UBT6': {'Atrial Fibrillation',\n  'Diabetes Mellitus',\n  'Heart Failure',\n  'Hematocrit',\n  'Mortality',\n  'Neoplasms'},\n 'P19174': {'Hematocrit'},\n 'Q9P283': {'Atrial Fibrillation',\n  'Diabetes Mellitus',\n  'Heart Failure',\n  'Hematocrit',\n  'Mortality',\n  'Neoplasms'},\n 'Q14916': {'Ferritins',\n  'Gout',\n  'Hematocrit',\n  'Iron',\n  'Overweight',\n  'Receptors, Transferrin',\n  'Thinness',\n  'Uric Acid'},\n 'Q30201': {'Alcohol Drinking',\n  'Anemia',\n  'Arterial Pressure',\n  'Ferritins',\n  'Hematocrit',\n  'Hemoglobins',\n  'Hepcidins',\n  'Hypertension',\n  'Iron',\n  'Selenium',\n  'Transferrin',\n  'hemoglobin A1c protein, human'},\n 'P19838': {'Hematocrit'},\n 'O60427': {'Arachidonic Acid',\n  'Atrial Fibrillation',\n  'Blood Proteins',\n  'Carcinoma, Squamous Cell',\n  'Diabetes Mellitus',\n  'Eicosapentaenoic Acid',\n  'Fatty Acids',\n  'Fatty Acids, Omega-6',\n  'Glycerophospholipids',\n  'Heart Failure',\n  'Hematocrit',\n  'Insulin Resistance',\n  'Insulin-Secreting Cells',\n  'Linoleic Acid',\n  'Linoleoyl-CoA Desaturase',\n  'Lipids',\n  'Mortality',\n  'Neoplasms',\n  'Phospholipids',\n  'Sphingolipids',\n  'Trans Fatty Acids',\n  'alpha-Linolenic Acid',\n  'docosapentaenoic acid',\n  'gamma-Linolenic Acid'},\n 'O75083': {'Uric Acid'},\n 'Q8N1W1': {'Chin', 'Mental Competency', 'Uric Acid'},\n 'Q9BXY4': {'Alopecia',\n  'Biomarkers',\n  'Blood Urea Nitrogen',\n  'Eating',\n  'Fractures, Bone',\n  'Mental Health',\n  'Uric Acid'},\n 'Q96AA3': {'Cytokines', 'Uric Acid'},\n 'P21757': {'Bilirubin', 'Uric Acid'},\n 'P22362': {'Carotid Artery Diseases', 'Erythrocytes', 'Uric Acid'},\n 'Q13563': {'Biomarkers', 'Gout', 'Uric Acid'},\n 'P25100': {'Uric Acid'},\n 'Q14541': {'Age of Onset', 'Obesity', 'Uric Acid'},\n 'P55103': {'Uric Acid'},\n 'O43169': {'Uric Acid'},\n 'Q96S37': {'Overweight', 'Uric Acid'},\n 'Q15849': {'Alopecia',\n  'Biomarkers',\n  'Blood Urea Nitrogen',\n  'Refractive Errors',\n  'Uric Acid'},\n 'Q8NFY9': {'Biomarkers', 'Blood Urea Nitrogen', 'Uric Acid'},\n 'O43929': {'Uric Acid'},\n 'Q9P2S2': {'Biomarkers', 'Gout', 'Uric Acid'},\n 'P80108': {'Alkaline Phosphatase', 'Liver Diseases', 'Uric Acid'},\n 'Q9UNQ0': {'1-Alkyl-2-acetylglycerophosphocholine Esterase',\n  'Gout',\n  'Hydroxymethylglutaryl CoA Reductases',\n  'Overweight',\n  'Thinness',\n  'Uric Acid'},\n 'O15117': {'Uric Acid'},\n 'Q9NRM0': {'Biomarkers',\n  'Gout',\n  'Microbiota',\n  'Obesity',\n  'Overweight',\n  'Thinness',\n  'Uric Acid'},\n 'P58401': {'Biomarkers', 'Gout', 'Uric Acid'},\n 'Q9NSA0': {'Overweight', 'Uric Acid'},\n 'Q7Z4K8': {'Uric Acid'},\n 'O95971': {'Overweight', 'Uric Acid'},\n 'Q8TF09': {'Antidepressive Agents',\n  'Biomarkers',\n  'Depressive Disorder',\n  'Obesity',\n  'Serotonin Uptake Inhibitors',\n  'Thyroid Gland',\n  'Thyrotropin',\n  'Uric Acid',\n  'gamma-Glutamyltransferase'},\n 'O75444': {'Antidepressive Agents',\n  'Biomarkers',\n  'Depressive Disorder',\n  'Obesity',\n  'Serotonin Uptake Inhibitors',\n  'Thyroid Gland',\n  'Thyrotropin',\n  'Uric Acid',\n  'gamma-Glutamyltransferase'},\n 'P08069': {'Endometriosis', 'Sleep', 'Uric Acid'},\n 'P41182': {'Biomarkers', 'Blood Urea Nitrogen', 'Uric Acid'},\n 'P10070': {'Breast', 'Uric Acid'},\n 'O76003': {'Insulin Resistance', 'Uric Acid'},\n 'Q15637': {'Uric Acid'},\n 'Q9HAW7': {'Anemia, Sickle Cell',\n  'Bilirubin',\n  'Cholelithiasis',\n  'DNA',\n  'Metabolome',\n  'Obesity'},\n 'P19087': {'Obesity'},\n 'P35504': {'Anemia, Sickle Cell',\n  'Bilirubin',\n  'Cholelithiasis',\n  'DNA',\n  'Metabolome',\n  'Obesity'},\n 'P35503': {'Anemia, Sickle Cell',\n  'Bilirubin',\n  'Cholelithiasis',\n  'DNA',\n  'Metabolome',\n  'Obesity'},\n 'P48546': {'Glucose Tolerance Test', 'Obesity'},\n 'P22310': {'Anemia, Sickle Cell',\n  'Bilirubin',\n  'Cholelithiasis',\n  'DNA',\n  'Metabolome',\n  'Obesity'},\n 'Q8N3J6': {'Mental Processes', 'Obesity'},\n 'P49619': {'Obesity', 'Substance-Related Disorders'},\n 'Q9NRF2': {'Angiotensin-Converting Enzyme Inhibitors', 'Obesity'},\n 'P23560': {'Obesity'},\n 'Q8N122': {'Obesity'},\n 'P24723': {'Calcium-Binding Proteins', 'Obesity'},\n 'P19224': {'Anemia, Sickle Cell',\n  'Bilirubin',\n  'Cholelithiasis',\n  'DNA',\n  'Metabolome',\n  'Obesity'},\n 'P22309': {'Anemia, Sickle Cell',\n  'Bilirubin',\n  'Cholelithiasis',\n  'DNA',\n  'Metabolome',\n  'Obesity'},\n 'Q6VY07': {'Obesity'},\n 'Q92481': {'Myopia', 'Obesity'},\n 'O60266': {'Obesity'},\n 'O60656': {'Anemia, Sickle Cell',\n  'Bilirubin',\n  'Cholelithiasis',\n  'DNA',\n  'Metabolome',\n  'Obesity'},\n 'Q9HAW9': {'Anemia, Sickle Cell',\n  'Bilirubin',\n  'Cholelithiasis',\n  'DNA',\n  'Metabolome',\n  'Obesity'},\n 'Q13163': {'Motion Sickness', 'Obesity', 'Restless Legs Syndrome'},\n 'Q8IYH5': {'Obesity'},\n 'Q7Z5W3': {'Obesity'},\n 'Q8IZP7': {'Diabetic Retinopathy',\n  'Gallbladder Diseases',\n  'Obesity',\n  'P-Selectin'},\n 'O60503': {'Acute Coronary Syndrome',\n  'Cardiovascular Diseases',\n  'Cleft Lip',\n  'Cleft Palate',\n  'Obesity',\n  'dalcetrapib'},\n 'Q96JE7': {'Alcohol Drinking', 'Body Fat Distribution', 'Obesity'},\n 'Q02548': {'Adipose Tissue', 'Intelligence', 'Obesity'},\n 'P32245': {'Adipose Tissue',\n  'Antipsychotic Agents',\n  'Body Fat Distribution',\n  'Coronary Artery Disease',\n  'Obesity'},\n 'Q9HAW8': {'Anemia, Sickle Cell',\n  'Bilirubin',\n  'Cholelithiasis',\n  'DNA',\n  'Metabolome',\n  'Obesity'},\n 'P14651': {'Motion Sickness', 'Obesity'},\n 'Q10981': {'Alkaline Phosphatase',\n  'Arthritis, Juvenile',\n  'Autoimmune Diseases',\n  'Carcinoembryonic Antigen',\n  'Celiac Disease',\n  'Common Variable Immunodeficiency',\n  'Diarrhea',\n  'Lipase',\n  'Neoplasms',\n  'Spondylitis, Ankylosing',\n  'Thyroid Diseases',\n  'Vitamin B 12',\n  'gamma-Glutamyltransferase'},\n 'P16278': {'Celiac Disease'},\n 'Q5S007': {'Arthritis, Juvenile',\n  'Autoimmune Diseases',\n  'Celiac Disease',\n  'Common Variable Immunodeficiency',\n  'Spondylitis, Ankylosing',\n  'Thyroid Diseases'},\n 'P84022': {'Arthritis, Juvenile',\n  'Autoimmune Diseases',\n  'Celiac Disease',\n  'Common Variable Immunodeficiency',\n  'Corneal Topography',\n  'Coronary Artery Disease',\n  'Hypersensitivity',\n  'Rhinitis, Allergic, Seasonal',\n  'Spondylitis, Ankylosing',\n  'Thyroid Diseases',\n  'Thyroid Neoplasms'},\n 'P35408': {'Arthritis, Juvenile',\n  'Autoimmune Diseases',\n  'Celiac Disease',\n  'Common Variable Immunodeficiency',\n  'Hypersensitivity',\n  'Spondylitis, Ankylosing',\n  'Thyroid Diseases'},\n 'Q08116': {'Celiac Disease'},\n 'P17706': {'Autoantibodies',\n  'Autoimmune Diseases',\n  'Carcinoma, Squamous Cell',\n  'Celiac Disease',\n  'Esophageal Neoplasms'},\n 'P32246': {'Celiac Disease'},\n 'Q9H257': {'Arthritis, Juvenile',\n  'Autoimmune Diseases',\n  'Celiac Disease',\n  'Chemokine CCL2',\n  'Common Variable Immunodeficiency',\n  'Spondylitis, Ankylosing',\n  'Thyroid Diseases'},\n 'P01344': {'Arthritis, Juvenile',\n  'Autoantibodies',\n  'Autoimmune Diseases',\n  'Celiac Disease',\n  'Common Variable Immunodeficiency',\n  'Spondylitis, Ankylosing',\n  'Thyroid Diseases'},\n 'Q6AI14': {'Celiac Disease', 'IL1RL1 protein, human', 'Microbiota'},\n 'Q14118': {'Arthritis, Juvenile',\n  'Autoimmune Diseases',\n  'Celiac Disease',\n  'Common Variable Immunodeficiency',\n  'Spondylitis, Ankylosing',\n  'Thyroid Diseases'},\n 'Q15262': {'Celiac Disease'},\n 'Q96E14': {'Celiac Disease'},\n 'Q9Y6W8': {'Albuminuria', 'Celiac Disease'},\n 'Q8N103': {'Celiac Disease', 'Lipoprotein(a)', 'lipoprotein A-I'},\n 'Q96A46': {'Arthritis, Juvenile',\n  'Autoimmune Diseases',\n  'Celiac Disease',\n  'Common Variable Immunodeficiency',\n  'Spondylitis, Ankylosing',\n  'Thyroid Diseases'},\n 'O95150': {'Arthritis, Juvenile',\n  'Autoimmune Diseases',\n  'Celiac Disease',\n  'Common Variable Immunodeficiency',\n  'Immunoglobulin A',\n  'Spondylitis, Ankylosing',\n  'Thyroid Diseases'},\n 'P51677': {'Celiac Disease', 'Chemokine CCL2'},\n 'P32321': {'Arthritis, Juvenile',\n  'Autoimmune Diseases',\n  'Celiac Disease',\n  'Common Variable Immunodeficiency',\n  'Hypertriglyceridemia',\n  'Spondylitis, Ankylosing',\n  'Thyroid Diseases'},\n 'Q9HBE4': {'Alopecia Areata',\n  'Celiac Disease',\n  'Cholangitis, Sclerosing',\n  'Hypersensitivity'},\n 'P60568': {'Alopecia Areata',\n  'Celiac Disease',\n  'Cholangitis, Sclerosing',\n  'Hypersensitivity'},\n 'P51687': {'Arthritis, Juvenile',\n  'Autoimmune Diseases',\n  'Celiac Disease',\n  'Common Variable Immunodeficiency',\n  'Polycystic Ovary Syndrome',\n  'Spondylitis, Ankylosing',\n  'Thyroid Diseases'},\n 'P51679': {'Celiac Disease'},\n 'P08567': {'Celiac Disease', 'Lipoproteins', 'Sphingolipids'},\n 'O75144': {'Celiac Disease'},\n 'Q2M5E4': {'Celiac Disease'},\n 'P21580': {'Celiac Disease', 'Mortality'},\n 'P01909': {'Age of Onset',\n  'Carcinoma, Squamous Cell',\n  'Celiac Disease',\n  'Hepatitis, Autoimmune',\n  'Hypersensitivity',\n  'Hypothyroidism',\n  'Lupus Erythematosus, Cutaneous',\n  'Rhinitis, Allergic, Seasonal'},\n 'P35368': {'Arthritis, Juvenile',\n  'Autoimmune Diseases',\n  'Celiac Disease',\n  'Common Variable Immunodeficiency',\n  'Depressive Disorder',\n  'Spondylitis, Ankylosing',\n  'Thyroid Diseases'},\n 'P14921': {'Bronchodilator Agents', 'Celiac Disease', 'Interleukin-6'},\n 'P01589': {'Alopecia Areata',\n  'Arthritis, Juvenile',\n  'Autoantibodies',\n  'Autoimmune Diseases',\n  'Celiac Disease',\n  'Cholangitis, Sclerosing',\n  'Common Variable Immunodeficiency',\n  'Emotions',\n  'Fenofibrate',\n  'Interleukin-2 Receptor alpha Subunit',\n  'Peripheral Nervous System Diseases',\n  'Reverse Transcriptase Inhibitors',\n  'Spondylitis, Ankylosing',\n  'Thyroid Diseases'},\n 'P51828': {'Arthritis, Juvenile',\n  'Autoimmune Diseases',\n  'Celiac Disease',\n  'Common Variable Immunodeficiency',\n  'Spondylitis, Ankylosing',\n  'Thyroid Diseases'},\n 'Q676U5': {'Arthritis, Juvenile',\n  'Autoimmune Diseases',\n  'Celiac Disease',\n  'Common Variable Immunodeficiency',\n  'Spondylitis, Ankylosing',\n  'Thyroid Diseases'},\n 'Q5VWK5': {'Arthritis, Juvenile',\n  'Autoimmune Diseases',\n  'Celiac Disease',\n  'Common Variable Immunodeficiency',\n  'Spondylitis, Ankylosing',\n  'Thyroid Diseases'},\n 'Q2M1Z3': {'Celiac Disease'},\n 'P30532': {'Airway Obstruction',\n  'Bronchodilator Agents',\n  'Forced Expiratory Volume',\n  'Lung Neoplasms',\n  'Pulmonary Artery',\n  'Pulmonary Emphysema'},\n 'P48200': {'Bronchodilator Agents',\n  'Forced Expiratory Volume',\n  'Pulmonary Artery'},\n 'A2RU49': {'Airway Obstruction',\n  'Bronchodilator Agents',\n  'Forced Expiratory Volume',\n  'Lung Neoplasms',\n  'Pulmonary Emphysema',\n  'Tobacco Use Disorder'},\n 'P08254': {'Bronchodilator Agents', 'Matrix Metalloproteinases'},\n 'P32297': {'Adenocarcinoma of lung',\n  'Airway Obstruction',\n  'Bronchitis, Chronic',\n  'Bronchodilator Agents',\n  'Carbon Monoxide',\n  'Emphysema',\n  'Forced Expiratory Volume',\n  'Lung Neoplasms',\n  'Pulmonary Emphysema',\n  'Tobacco Use Disorder'},\n 'P02724': {'Bronchodilator Agents',\n  'Forced Expiratory Volume',\n  'Pulmonary Emphysema'},\n 'P40126': {'Bronchodilator Agents', 'Forced Expiratory Volume'},\n 'Q8NEM0': {'Bronchodilator Agents', 'Leukopenia'},\n 'Q8TB24': {'Bronchodilator Agents', 'Osteitis Deformans'},\n 'O94988': {'Bronchitis, Chronic',\n  'Bronchodilator Agents',\n  'Forced Expiratory Volume',\n  'Lung Diseases, Interstitial'},\n 'P51965': {'Bronchodilator Agents'},\n 'Q9UKL4': {'Axial Length, Eye',\n  'Bronchodilator Agents',\n  'Forced Expiratory Volume',\n  'Hyperopia',\n  'Myopia',\n  'Refraction, Ocular',\n  'Refractive Errors'},\n 'Q9UKP4': {'Bronchodilator Agents',\n  'Coronary Artery Disease',\n  'Myocardial Infarction'},\n 'Q96LR5': {'Antidepressive Agents, Tricyclic',\n  'Bronchodilator Agents',\n  'Neuropsychological Tests'},\n 'P45452': {'Bronchodilator Agents', 'Toluene 2,4-Diisocyanate'},\n 'Q96L21': {'Bronchodilator Agents'},\n 'Q9Y3R0': {'Bronchodilator Agents'},\n 'Q9UPX8': {'Bronchodilator Agents', 'Forced Expiratory Volume'},\n 'Q9H7D0': {'Bronchodilator Agents'},\n 'P61812': {'Acne Vulgaris',\n  'Bronchodilator Agents',\n  'Forced Expiratory Volume',\n  'Pulmonary Emphysema'},\n 'P25789': {'Airway Obstruction',\n  'Bronchodilator Agents',\n  'Drug Resistance',\n  'Forced Expiratory Volume'},\n 'Q7Z553': {'Bronchodilator Agents',\n  'Exercise Test',\n  'Hemoglobin A2',\n  'Lipids'},\n 'P16455': {'Bronchodilator Agents', 'DNA Methylation', 'temozolomide'},\n 'O00222': {'Bronchodilator Agents',\n  'Creutzfeldt-Jakob Syndrome',\n  'Hemoglobins',\n  'Survival'},\n 'Q9UK55': {'Bronchodilator Agents', 'Emphysema'},\n 'P19022': {'Bronchodilator Agents'},\n 'Q00169': {'Bronchodilator Agents', 'Forced Expiratory Volume'},\n 'P39900': {'Bronchodilator Agents',\n  'Matrix Metalloproteinases',\n  'Pulmonary Emphysema'},\n 'Q08AN1': {'Bronchodilator Agents'},\n 'P20853': {'Bronchodilator Agents', 'Caffeine', 'Nicotine'},\n 'P09172': {'Bronchodilator Agents', 'Forced Expiratory Volume'},\n 'Q9Y575': {'Bronchodilator Agents'},\n 'Q6VAB6': {'Bronchodilator Agents',\n  'Coronary Artery Disease',\n  'Depressive Disorder'},\n 'Q9NZL9': {'Bronchodilator Agents'},\n 'P55290': {'Adiponectin',\n  'Alcohol Drinking',\n  'Bronchodilator Agents',\n  'Drug Resistance',\n  'Forced Expiratory Volume',\n  'White Matter'},\n 'P11509': {'Bronchodilator Agents',\n  'Caffeine',\n  'Forced Expiratory Volume',\n  'Nicotine',\n  'Pulmonary Emphysema'},\n 'Q8N883': {'Bronchodilator Agents'},\n 'P30926': {'Bronchodilator Agents',\n  'Carbon Monoxide',\n  'Forced Expiratory Volume'},\n 'P47900': {'Bronchodilator Agents', 'Forced Expiratory Volume'},\n 'P01009': {'Amino Acids', 'Bronchodilator Agents', 'Vascular Calcification'},\n 'P10911': {'Hemoglobins', 'Lipoproteins'},\n 'P30281': {'Hemoglobins'},\n 'Q7Z401': {'Hemoglobins'},\n 'O14925': {'Hemoglobins'},\n 'P69905': {'Hemoglobins'},\n 'Q8IWV2': {'Brain', 'Hemoglobins', 'Lipoproteins, VLDL'},\n 'P02042': {'Fetal Hemoglobin', 'Hemoglobin A2', 'Hemoglobins'},\n 'Q96LB4': {'Hemoglobins'},\n 'Q9H211': {'Hemoglobins'},\n 'Q9Y6K9': {'Hemoglobin A, Glycosylated', 'Hemoglobins'},\n 'P0C646': {'Hemoglobin A2', 'Hemoglobins'},\n 'Q8WWG1': {'Hemoglobins'},\n 'Q9H341': {'Fetal Hemoglobin',\n  'Glucosephosphate Dehydrogenase',\n  'Hemoglobin A2',\n  'Hemoglobins'},\n 'Q9H2C8': {'Hemoglobin A2', 'Hemoglobins', 'Malaria'},\n 'Q96AV8': {'Brain',\n  'Central Nervous System',\n  'Hemoglobins',\n  'Subcutaneous Fat'},\n 'Q99967': {'Hemoglobins'},\n 'P09884': {'Hemoglobins'},\n 'Q9Y666': {'Hemoglobins'},\n 'Q9Y2W6': {'Hemoglobins'},\n 'Q9Y2P8': {'Hemoglobins'},\n 'Q12980': {'Anemia, Sickle Cell',\n  'Hemoglobin A, Glycosylated',\n  'Hemoglobins'},\n 'P08575': {'Hemoglobins'},\n 'P69891': {'Fetal Hemoglobin', 'Hemoglobin A2', 'Hemoglobins'},\n 'P69892': {'Fetal Hemoglobin', 'Hemoglobin A2', 'Hemoglobins'},\n 'P19971': {'Hemoglobins'},\n 'Q8NGK1': {'Hemoglobin A2', 'Hemoglobins'},\n 'P02100': {'Fetal Hemoglobin', 'Hemoglobin A2', 'Hemoglobins'},\n 'Q9UPR3': {'Hemoglobins', 'hemoglobin A1c protein, human'},\n 'P68871': {'Fetal Hemoglobin', 'Hemoglobin A2', 'Hemoglobins', 'Malaria'},\n 'Q8NH87': {'Hemoglobins'},\n 'P10828': {'Hemoglobins', 'Myopia'},\n 'P05091': {'Alcohol Drinking',\n  'Alcoholism',\n  'Arterial Pressure',\n  'Biomarkers',\n  'Drinking Behavior',\n  'Embolism',\n  'Esophageal Neoplasms',\n  'Hemoglobins',\n  'alpha 1-Antitrypsin',\n  'gamma-Glutamyltransferase'},\n 'P78317': {'Lipoproteins, VLDL'},\n 'P49454': {'Lipoproteins, VLDL'},\n 'Q9Y2F5': {'Disease-Free Survival', 'Lipoproteins, VLDL'},\n 'Q13002': {'Follicle Stimulating Hormone',\n  'Lipoproteins',\n  'Lipoproteins, VLDL',\n  'Longevity'},\n 'Q96P63': {'Lipoproteins, VLDL'},\n 'O15439': {'Lipoproteins, VLDL'},\n 'Q9UIV8': {'Lipoproteins, VLDL'},\n 'Q8N3A8': {'Lipoproteins, VLDL', 'Memory', 'Neuropsychological Tests'},\n 'Q86SS6': {'Lipoproteins, VLDL', 'Mental Competency', 'Phospholipids'},\n 'Q9UNG2': {'Body Weight Changes', 'Lipoproteins, VLDL'},\n 'Q86WA6': {'Lipoproteins, VLDL'},\n 'Q9GZX3': {'Lipoproteins, VLDL'},\n 'O43903': {'Lipoproteins, VLDL', 'Mortality'},\n 'Q9GZS9': {'Lipoproteins, VLDL'},\n 'Q16445': {'Lipoproteins, VLDL'},\n 'P47870': {'Chemical and Drug Induced Liver Injury',\n  'Diclofenac',\n  'Lipoproteins, VLDL'},\n 'Q8N5Z0': {'Lipoproteins, VLDL', 'Thyroxine'},\n 'Q08289': {'Arterial Pressure',\n  'Attention Deficit Disorder with Hyperactivity',\n  'Bipolar Disorder',\n  'Child Development Disorders, Pervasive',\n  'Depressive Disorder',\n  'Lipoproteins, VLDL',\n  'Odontogenesis'},\n 'Q9UQ90': {'Lipoproteins, VLDL'},\n 'Q9P267': {'Lipoproteins, VLDL'},\n 'Q9HD67': {'Depressive Disorder', 'Lipoproteins, VLDL'},\n 'P50135': {'Lipoproteins, VLDL'},\n 'Q9BPZ7': {'Lipoproteins, VLDL'},\n 'Q02094': {'Lipoproteins, VLDL'},\n 'Q92667': {'Alopecia'},\n 'Q6YHU6': {'Alopecia', 'GRN protein, human', 'Polycystic Ovary Syndrome'},\n 'Q9BXA5': {'Alopecia', 'Pyloric Stenosis, Hypertrophic'},\n 'Q15306': {'Alopecia',\n  'Carcinoma, Squamous Cell',\n  'Eye Color',\n  'Eyebrows',\n  'Hair Color',\n  'Melanoma',\n  'Melanosis',\n  'Multiple Myeloma',\n  'Skin Neoplasms',\n  'Skin Pigmentation',\n  'Suntan',\n  'Supranuclear Palsy, Progressive'},\n 'P82650': {'Alopecia', 'Ear, External'},\n 'P10275': {'Alopecia', 'Sleep'},\n 'O75886': {'Alopecia'},\n 'P18846': {'Alopecia'},\n 'Q01196': {'Alopecia',\n  'Esophageal Neoplasms',\n  'Esophageal Squamous Cell Carcinoma'},\n 'Q9UKV0': {'Alopecia',\n  'Atrial Natriuretic Factor',\n  'Eyebrows',\n  'Peripheral Nervous System Diseases',\n  'Pulse',\n  'Reverse Transcriptase Inhibitors'},\n 'Q96DH6': {'Alopecia'},\n 'P12034': {'Alopecia', 'Arterial Pressure', 'Eyebrows', 'Hypertension'},\n 'Q9UH73': {'Adipose Tissue',\n  'Alopecia',\n  'Carotid Arteries',\n  'Stress, Psychological',\n  'Varicose Veins'},\n 'O95926': {'Alopecia'},\n 'Q9UBU2': {'Alopecia'},\n 'Q13901': {'Alopecia', 'Pancreatic Carcinoma', 'Restless Legs Syndrome'},\n 'Q9UNE0': {'Alopecia',\n  'Chin',\n  'Ear',\n  'Ear, External',\n  'Eyebrows',\n  'Hair',\n  'Lip'},\n 'Q7Z3B3': {'Alopecia', 'Brain', 'Forced Expiratory Volume', 'Vital Capacity'},\n 'O00305': {'Alopecia'},\n 'Q8WVJ9': {'3-hydroxy-1-methylpropylmercapturic acid', 'Alopecia'},\n 'Q8WXX7': {'Alcohol Drinking',\n  'Alopecia',\n  'Autosomal dominant compelling helio ophthalmic outburst syndrome',\n  'Depressive Disorder',\n  'Eyebrows',\n  'Motion Sickness',\n  'Serotonin Uptake Inhibitors'},\n 'Q14571': {'Alopecia', 'Carcinoma, Renal Cell', 'Kashin-Beck Disease'},\n 'Q5VZM2': {'Alopecia', 'Prostate-Specific Antigen'},\n 'O75486': {'ADAMTS13 protein, human',\n  'Alopecia',\n  'Cartilage',\n  'Chin',\n  'Eyebrows',\n  'Face',\n  'Nose',\n  'Ossification of the posterior longitudinal ligament of the spine'},\n 'Q9GZT5': {'Alopecia', 'Hair'},\n 'P05386': {'Alopecia'},\n 'Q9HAV5': {'Alopecia'},\n 'O43426': {'Age of Onset'},\n 'Q99743': {'Age of Onset', 'Creutzfeldt-Jakob Syndrome'},\n 'P00488': {'Age of Onset', 'Blood Coagulation Factors'},\n 'Q8WV24': {'Age of Onset', 'Death, Sudden, Cardiac', 'Glioma'},\n 'P09493': {'Age of Onset', 'Mean Platelet Volume'},\n 'P01920': {'Age of Onset',\n  'Chemical and Drug Induced Liver Injury',\n  'Forced Expiratory Volume',\n  'Graves Disease',\n  'Hypersensitivity',\n  'Hypothyroidism',\n  'Lymphoma, Follicular',\n  'Mouth Neoplasms',\n  'Oropharyngeal Neoplasms',\n  'Papillomavirus Vaccines',\n  'Pharyngeal Neoplasms',\n  'Rhinitis, Allergic, Seasonal'},\n 'Q66K46': {'Age of Onset'},\n 'Q9NWB1': {'Age of Onset',\n  'Autosomal dominant compelling helio ophthalmic outburst syndrome',\n  'Calcium-Binding Proteins',\n  'Cognition Disorders',\n  'Cognitive Dysfunction',\n  'Glaucoma',\n  'Myopia',\n  'Phospholipids',\n  'Refraction, Ocular'},\n 'P14410': {'Age of Onset', 'Alcoholism'},\n 'P28222': {'Age of Onset'},\n 'P56975': {'Age of Onset',\n  'Aorta',\n  'Autosomal dominant compelling helio ophthalmic outburst syndrome',\n  'Insulin',\n  'Insulin Resistance'},\n 'Q8NB78': {'Age of Onset'},\n 'O75691': {'Age of Onset', 'Alcoholism'},\n 'Q9BZF3': {'Age of Onset'},\n 'P25874': {'Age of Onset'},\n 'P41586': {'Age of Onset'},\n 'Q9BYT9': {'Age of Onset',\n  'Autosomal dominant compelling helio ophthalmic outburst syndrome',\n  'Body Weight Changes',\n  'Seizures, Febrile'},\n 'P33176': {'Age of Onset'},\n 'Q9NZM3': {'Age of Onset'},\n 'Q6ZUX7': {'Age of Onset'},\n 'P47869': {'Age of Onset'},\n 'P20020': {'Arterial Pressure',\n  'Coronary Artery Disease',\n  'Hypertension',\n  'Myocardial Infarction'},\n 'Q06124': {'Arterial Pressure', 'Cleft Lip', 'Cleft Palate', 'Lipids'},\n 'Q9HBK9': {'Arterial Pressure',\n  'Attention Deficit Disorder with Hyperactivity',\n  'Bipolar Disorder',\n  'Child Development Disorders, Pervasive',\n  'Depressive Disorder',\n  'Hypertension'},\n 'O14649': {'Arterial Pressure'},\n 'Q6PHR2': {'Arterial Pressure', 'Coffee'},\n 'P04798': {'Arterial Pressure', 'Caffeine', 'Coffee'},\n 'P05177': {'Arterial Pressure', 'Caffeine', 'Coffee'},\n 'P35908': {'Arterial Pressure'},\n 'Q9Y6M7': {'Arterial Pressure'},\n 'Q03112': {'Arterial Pressure',\n  'Biomarkers',\n  'Blood Urea Nitrogen',\n  'Forced Expiratory Volume',\n  'Magnesium',\n  'Myeloproliferative Disorders',\n  'Osteoporosis'},\n 'Q5HYJ1': {'Arterial Pressure'},\n 'O43318': {'Arterial Pressure',\n  'Cholangitis, Sclerosing',\n  'Tumor Necrosis Factors'},\n 'A6NI28': {'Arterial Pressure', 'Hypertension'},\n 'P49902': {'Arterial Pressure',\n  'Attention Deficit Disorder with Hyperactivity',\n  'Bipolar Disorder',\n  'Child Development Disorders, Pervasive',\n  'Depressive Disorder',\n  'Hypertension'},\n 'P42898': {'Arterial Pressure', 'Homocysteine'},\n 'Q14865': {'Arterial Pressure',\n  'Corneal Topography',\n  'Precursor B-Cell Lymphoblastic Leukemia-Lymphoma',\n  'Precursor Cell Lymphoblastic Leukemia-Lymphoma'},\n 'Q96G01': {'Arterial Pressure'},\n 'P41240': {'Arterial Pressure'},\n 'Q3MIN7': {'Arterial Pressure'},\n 'Q14654': {'Arterial Pressure'},\n 'P09958': {'Arterial Pressure'},\n 'Q8NBF2': {'Arterial Pressure'},\n 'P08588': {'Arterial Pressure', 'Birth Weight'},\n 'Q8NEE6': {'Arterial Pressure', 'Cold-Shock Response'},\n 'P07332': {'Arterial Pressure'},\n 'P34949': {'Arterial Pressure'},\n 'P05093': {'Arterial Pressure', 'Hypertension'},\n 'Q99502': {'Chin', 'Hypospadias'},\n 'Q53QZ3': {'Chin'},\n 'P35548': {'Chin'},\n 'Q13444': {'Chin'},\n 'P61009': {'Chin'},\n 'Q9NSD9': {'Chin'},\n 'O75431': {'Chin', 'Eyebrows'},\n 'Q02297': {'Chin',\n  'Hirschsprung Disease',\n  'Hypothyroidism',\n  'Insulin',\n  'Thyroid Neoplasms',\n  'Thyrotropin'},\n 'P11226': {'Chin', 'Eyebrows', 'Fractures, Bone', 'Heart Function Tests'},\n 'Q9UPY3': {'Chin', 'Cleft Lip', 'Cleft Palate', 'Nose'},\n 'O15085': {'Chin'},\n 'P49767': {'Chin'},\n 'Q9UPW6': {'Abdominal Fat',\n  'Adenocarcinoma Of Esophagus',\n  'Barrett Esophagus',\n  'Body Weights and Measures',\n  'Chin',\n  'Coronary Artery Disease'},\n 'P52926': {'Aorta',\n  'Birth Weight',\n  'Brain',\n  'Chin',\n  'Head',\n  'Odontogenesis',\n  'Polycystic Ovary Syndrome',\n  'Tooth Eruption'},\n 'O43508': {'Chin', 'Myopia'},\n 'Q96PD6': {'Chin'},\n 'Q06033': {'Attention Deficit Disorder with Hyperactivity',\n  'Bipolar Disorder',\n  'Child Development Disorders, Pervasive',\n  'Cytokines',\n  'Depressive Disorder'},\n 'P23142': {'Bipolar Disorder', 'Mental Disorders', 'Personality'},\n 'O95864': {'Alkaline Phosphatase',\n  'Arachidonic Acid',\n  'Bipolar Disorder',\n  'Eicosapentaenoic Acid',\n  'Fatty Acids',\n  'Fatty Acids, Omega-6',\n  'Glycerophospholipids',\n  'Iron',\n  'Linoleic Acid',\n  'Trans Fatty Acids',\n  'Transferrin',\n  'alpha-Linolenic Acid',\n  'docosapentaenoic acid'},\n 'P04626': {'Bipolar Disorder'},\n 'O43353': {'Attention Deficit Disorder with Hyperactivity',\n  'Bipolar Disorder',\n  'Child Development Disorders, Pervasive',\n  'Depressive Disorder',\n  'Migraine Disorders'},\n 'Q12899': {'Attention Deficit Disorder with Hyperactivity',\n  'Bipolar Disorder',\n  'Child Development Disorders, Pervasive',\n  'Depressive Disorder'},\n 'Q6UQ28': {'Bipolar Disorder', 'Lithium'},\n 'Q9UEY8': {'Bipolar Disorder'},\n 'O14594': {'Bipolar Disorder'},\n 'Q14938': {'Bipolar Disorder'},\n 'Q12955': {'Attention Deficit Disorder with Hyperactivity',\n  'Bipolar Disorder',\n  'Child Development Disorders, Pervasive',\n  'Depressive Disorder'},\n 'O43323': {'Bipolar Disorder'},\n 'O75348': {'Bipolar Disorder'},\n 'Q9H0V9': {'Bipolar Disorder'},\n 'Q08462': {'Antineoplastic Agents',\n  'Attention Deficit Disorder with Hyperactivity',\n  'Bipolar Disorder',\n  'Cognition Disorders',\n  'Cognitive Dysfunction',\n  'Myopia, Degenerative'},\n 'Q9Y6D9': {'Bipolar Disorder', 'Psychotic Disorders', 'Testicular Neoplasms'},\n 'Q86XP1': {'Bipolar Disorder', 'Nephrolithiasis'},\n 'O00443': {'Bipolar Disorder'},\n 'Q86YC2': {'Bipolar Disorder'},\n 'Q9NVH2': {'Bipolar Disorder', 'Mental Disorders', 'Personality'},\n 'Q8NF91': {'Attention Deficit Disorder with Hyperactivity',\n  'Bipolar Disorder',\n  'Child Development Disorders, Pervasive',\n  'Depressive Disorder',\n  'lipoprotein A-I'},\n 'Q9Y233': {'Bipolar Disorder',\n  'Hypothyroidism',\n  'Refractive Errors',\n  'Thyrotropin'},\n 'O95084': {'Forced Expiratory Volume'},\n 'Q9BRR0': {'Forced Expiratory Volume'},\n 'Q13639': {'Forced Expiratory Volume'},\n 'O94929': {'Forced Expiratory Volume'},\n 'Q16798': {'Forced Expiratory Volume'},\n 'Q96CB8': {'Forced Expiratory Volume'},\n 'Q86SQ4': {'Corneal Pachymetry', 'Forced Expiratory Volume', 'Scoliosis'},\n 'Q08499': {'Apolipoprotein A-I',\n  'Blood Coagulation Factors',\n  'Calcium-Binding Proteins',\n  'Cytokines',\n  'Diabetes Mellitus',\n  'Esophageal Neoplasms',\n  'Forced Expiratory Volume',\n  'Gases',\n  'Quetiapine Fumarate',\n  'Sleep'},\n 'P42568': {'Forced Expiratory Volume', 'montelukast'},\n 'Q8IXL7': {'Calcium-Binding Proteins',\n  'Forced Expiratory Volume',\n  'Hippocampus',\n  'Odontogenesis',\n  'Peroxidase',\n  'Tooth Eruption'},\n 'Q96SN8': {'Autosomal dominant compelling helio ophthalmic outburst syndrome'},\n 'Q7Z6J0': {'Autosomal dominant compelling helio ophthalmic outburst syndrome'},\n 'Q8N4N8': {'Alcohol Drinking',\n  'Autosomal dominant compelling helio ophthalmic outburst syndrome',\n  'Lipids'},\n 'Q96PU8': {'Aorta',\n  'Autosomal dominant compelling helio ophthalmic outburst syndrome',\n  'Longevity',\n  'Myocardial Infarction',\n  'Polychlorinated Biphenyls',\n  'lipoprotein A-I'},\n 'P62508': {'Autosomal dominant compelling helio ophthalmic outburst syndrome'},\n 'Q92838': {'Eyebrows', 'Odontogenesis', 'Tooth Eruption'},\n 'P23760': {'Eyebrows', 'Face', 'Hair', 'Nose'},\n 'P11487': {'Eyebrows'},\n 'Q5XXA6': {'Eyebrows'},\n 'Q9NYQ3': {'Ear, External', 'Eyebrows'},\n 'O75197': {'Eyebrows'},\n 'O43181': {'Eyebrows'},\n 'P18075': {'Eyebrows', 'Nose'},\n 'Q5TB80': {'Eyebrows'},\n 'Q8NFF2': {'Audiometry, Pure-Tone',\n  'Corneal Pachymetry',\n  'Eye Color',\n  'Eyebrows',\n  'Hair Color'},\n 'O75626': {'Eyebrows', 'Hair', 'Tooth Eruption'},\n 'Q9H1Y0': {'Eyebrows'},\n 'P48431': {'Eyebrows'},\n 'Q68CQ4': {'Cleft Lip', 'Cleft Palate', 'Eyebrows', 'Mouth Abnormalities'},\n 'O95714': {'Carcinoma, Squamous Cell',\n  'Eye Color',\n  'Eyebrows',\n  'Hair Color',\n  'Skin Pigmentation',\n  'Suntan',\n  'Toluene 2,4-Diisocyanate'},\n 'Q9UMX9': {'Carcinoma, Squamous Cell',\n  'Eye Color',\n  'Eyebrows',\n  'Hair Color',\n  'Melanoma',\n  'Skin Neoplasms',\n  'Skin Pigmentation',\n  'Suntan'},\n 'Q5H9R7': {'Eyebrows'},\n 'Q13635': {'Cleft Lip', 'Cleft Palate', 'Eyebrows', 'Survival'},\n 'P42858': {'Eyebrows'},\n 'Q9Y5U4': {'Eyebrows'},\n 'P51589': {'Lipids', 'Lipoproteins'},\n 'P08637': {'Lipids'},\n 'P51532': {'Coronary Artery Disease',\n  'Lipids',\n  'Lipoproteins',\n  'Myocardial Infarction'},\n 'Q02080': {'Lipids'},\n 'P01130': {'1-Alkyl-2-acetylglycerophosphocholine Esterase',\n  'Aortic Aneurysm, Abdominal',\n  'Coronary Artery Disease',\n  'Lipids',\n  'Lipoproteins',\n  'Myocardial Infarction',\n  'Vascular Calcification'},\n 'Q9H221': {'Gallstones', 'Lipids', 'Lipoproteins', 'Phosphorus'},\n 'P55058': {'Lipids', 'Lipoproteins', 'Vascular Calcification'},\n 'Q8WWC4': {'Lipids'},\n 'Q9P121': {'Gallbladder Diseases', 'Lipids', 'Myopia'},\n 'Q9UPU5': {'Lipids', 'Lipoproteins'},\n 'O15072': {'Lipids', 'Vascular Calcification'},\n 'Q9NP71': {'Coffee',\n  'Lipids',\n  'Lipoproteins',\n  'Metabolic Syndrome X',\n  'gamma-Glutamyltransferase'},\n 'O96008': {'Amyloid beta-Peptides',\n  'Cerebral Cortex',\n  'Cognition',\n  'Cognition Disorders',\n  'Depression',\n  'Lipids',\n  'Longevity',\n  'Metabolic Syndrome X',\n  'Neurodegenerative Diseases'},\n 'Q6Q788': {'Hypertriglyceridemia',\n  'Lipids',\n  'Metabolic Syndrome X',\n  'apolipoprotein A-IV'},\n 'Q9Y5X9': {'Lipids', 'Lipoproteins'},\n 'Q8N4C8': {'Lipids'},\n 'Q96N67': {'Lipids', 'Vascular Calcification'},\n 'Q9NYV6': {'Lipids'},\n 'O94874': {'Migraine Disorders', 'Sleep'},\n 'Q6UY14': {'Migraine Disorders'},\n 'Q14642': {'Cholangitis, Sclerosing', 'Migraine Disorders'},\n 'O95279': {'Coronary Artery Disease',\n  'Migraine Disorders',\n  'Myocardial Infarction'},\n 'P17302': {'Migraine Disorders'},\n 'P46937': {'Migraine Disorders', 'Polycystic Ovary Syndrome'},\n 'Q14814': {'Migraine Disorders'},\n 'Q7Z2W7': {'CD40 Ligand',\n  'Cold-Shock Response',\n  'Migraine Disorders',\n  'Migraine without Aura',\n  'Peroxidase'},\n 'P01138': {'Dysmenorrhea', 'Migraine Disorders', 'Migraine without Aura'},\n 'Q9GZL7': {'Migraine Disorders', 'Myocardial Infarction'},\n 'Q63HN8': {'Migraine Disorders', 'Moyamoya Disease'},\n 'Q9C000': {'Migraine Disorders', 'Varicose Veins'},\n 'Q8WWQ2': {'Migraine Disorders'},\n 'Q9GZV9': {'Migraine Disorders', 'Migraine without Aura'},\n 'P08631': {'Migraine Disorders'},\n 'Q8NEX9': {'Migraine Disorders'},\n 'Q9HC58': {'Exercise Test', 'Migraine Disorders', 'Neuroblastoma'},\n 'Q8N1I0': {'Migraine Disorders'},\n 'Q07954': {'Aortic Aneurysm, Abdominal',\n  'Migraine Disorders',\n  'Migraine without Aura'},\n 'P10767': {'Migraine Disorders', 'Migraine without Aura'},\n 'Q8NCD3': {'Migraine Disorders'},\n 'P37173': {'Migraine Disorders'},\n 'Q9HAZ2': {'Migraine Disorders', 'Motion Sickness', 'Neoplasms'},\n 'O14786': {'Migraine Disorders'},\n 'Q9UBP5': {'Brugada Syndrome', 'Migraine Disorders'},\n 'Q9BX67': {'Migraine Disorders'},\n 'Q8WW43': {'Myopia'},\n 'Q8TD84': {'Lipoprotein(a)', 'Myopia'},\n 'Q9UDY2': {'Myopia', 'Refraction, Ocular', 'Refractive Errors'},\n 'P54710': {'Myopia'},\n 'Q9HCR9': {'Myopia'},\n 'Q7Z624': {'Anxiety Disorders', 'Myopia'},\n 'P16520': {'Myopia'},\n 'P47804': {'Myopia'},\n 'P48058': {'Myopia', 'Refraction, Ocular'},\n 'P54829': {'Myopia'},\n 'Q9ULV0': {'Myopia'},\n 'P24928': {'Glioma', 'Myopia'},\n 'P24043': {'Axial Length, Eye',\n  'Myopia',\n  'Refraction, Ocular',\n  'Refractive Errors'},\n 'Q9P2I0': {'Corneal Pachymetry', 'Eye Color', 'Hair Color', 'Myopia'},\n 'O14929': {'Myopia'},\n 'Q12857': {'Cryptorchidism',\n  'Drug Resistance',\n  'Myopia',\n  'Sulfonylurea Compounds',\n  'Thyrotropin'},\n 'P12109': {'Myopia'},\n 'Q9NR82': {'Myopia', 'Refraction, Ocular', 'Refractive Errors'},\n 'Q13972': {'Myopia', 'Refraction, Ocular', 'Refractive Errors'},\n 'P43304': {'Motion Sickness', 'Myopia', 'von Willebrand Factor'},\n 'Q8N6G6': {'Myopia'},\n 'Q9BY76': {'Lipoproteins'},\n 'P02652': {'Lipoproteins'},\n 'Q8NBP7': {'Coronary Artery Disease',\n  'Hydroxymethylglutaryl CoA Reductases',\n  'Lipoproteins',\n  'Myocardial Infarction'},\n 'Q9Y5Q3': {'Cleft Lip',\n  'Cleft Palate',\n  'Dupuytren Contracture',\n  'Face',\n  'GRN protein, human',\n  'Lipoproteins',\n  'Mouth Abnormalities'},\n 'P08842': {'Lipoproteins'},\n 'P08519': {'1-Alkyl-2-acetylglycerophosphocholine Esterase',\n  'Aortic Valve, Calcification of',\n  'Apolipoprotein A-I',\n  'Coronary Artery Disease',\n  'Hydroxymethylglutaryl CoA Reductases',\n  'Lipoprotein(a)',\n  'Lipoproteins',\n  'Myocardial Infarction',\n  'Plasminogen',\n  'lipoprotein A-I'},\n 'P30273': {'Hypersensitivity', 'Lipoproteins'},\n 'Q14185': {'Crown-Rump Length',\n  'Digestive System Neoplasms',\n  'Intercellular Adhesion Molecule-1',\n  'Lipoproteins'},\n 'P0CG48': {'Lipoproteins'},\n 'Q8WTV0': {'1-Alkyl-2-acetylglycerophosphocholine Esterase',\n  'Carcinoma, Renal Cell',\n  'Lipoproteins',\n  'Vitamin E'},\n 'Q9H222': {'Gallstones', 'Lipoproteins'},\n 'Q8WUP2': {'Microbiota'},\n 'Q16795': {'Microbiota'},\n 'Q9UK17': {'Cytokines', 'Electromagnetic Radiation', 'Microbiota'},\n 'Q86UQ4': {'Microbiota'},\n 'Q99467': {'Microbiota'},\n 'Q9UQ52': {'Microbiota'},\n 'Q8IUC2': {'Microbiota'},\n 'P62995': {'Microbiota'},\n 'Q9UBY0': {'Microbiota'},\n 'Q8WV22': {'Microbiota'},\n 'Q8NFW1': {'Cardiovascular Diseases', 'Dehydroepiandrosterone', 'Microbiota'},\n 'Q9BZV2': {'Microbiota'},\n 'Q99747': {'Microbiota', 'Tumor Necrosis Factor-alpha'},\n 'A0MZ66': {'Cleft Lip',\n  'Cleft Palate',\n  'GRN protein, human',\n  'Mouth Abnormalities'},\n 'P10916': {'Alcohol Drinking',\n  'Cleft Lip',\n  'Cleft Palate',\n  'Gout',\n  'gamma-Glutamyltransferase'},\n 'O14896': {'Cleft Lip',\n  'Cleft Palate',\n  'GRN protein, human',\n  'Mouth Abnormalities'},\n 'Q92793': {'Cleft Lip', 'Cleft Palate'},\n 'P27348': {'Cleft Lip', 'Cleft Palate'},\n 'O15520': {'Cleft Lip', 'Cleft Palate'},\n 'O14653': {'Cleft Lip', 'Cleft Palate', 'Heart Function Tests'},\n 'P11362': {'Cleft Lip', 'Cleft Palate'},\n 'P05783': {'Cleft Lip', 'Cleft Palate'},\n 'O43597': {'Body Fat Distribution',\n  'Cleft Lip',\n  'Cleft Palate',\n  'GRN protein, human',\n  'Mouth Abnormalities'},\n 'Q8WYR1': {'Cleft Lip', 'Cleft Palate'},\n 'Q53T94': {'Cleft Lip', 'Cleft Palate'},\n 'Q9H3D4': {'Adenocarcinoma of lung',\n  'Carcinoma, Squamous Cell',\n  'Cleft Lip',\n  'Cleft Palate',\n  'Lung Neoplasms',\n  'Pancreatic Carcinoma',\n  'Precursor Cell Lymphoblastic Leukemia-Lymphoma'},\n 'P78363': {'Cleft Lip',\n  'Cleft Palate',\n  'GRN protein, human',\n  'Mouth Abnormalities'},\n 'O95631': {'Cleft Lip', 'Cleft Palate', 'Mouth Abnormalities'},\n 'P62854': {'Cleft Lip', 'Cleft Palate'},\n 'O75140': {'Cleft Lip', 'Cleft Palate'},\n 'Q13253': {'Cleft Lip', 'Cleft Palate', 'GRN protein, human'},\n 'A8K8P3': {'Cleft Lip', 'Cleft Palate'},\n 'P60880': {'Mental Competency'},\n 'Q7KZF4': {'Mental Competency'},\n 'P23416': {'Mental Competency'},\n 'P78560': {'Mental Competency'},\n 'Q9H6R3': {'Kidney Diseases', 'Mental Competency'},\n 'Q5T1R4': {'Mental Competency', 'Neuropsychological Tests'},\n 'O43155': {'Apolipoprotein A-I',\n  'Death, Sudden, Cardiac',\n  'Mental Competency',\n  'von Willebrand Factor'},\n 'P49336': {'Exercise Test', 'Mental Competency', 'Pituitary Neoplasms'},\n 'Q8WW38': {'Mental Competency', 'Vascular Endothelial Growth Factors'},\n 'P54803': {'Apolipoprotein A-I',\n  'Death, Sudden, Cardiac',\n  'Mental Competency',\n  'von Willebrand Factor'},\n 'P20309': {'Epilepsy', 'Erythrocytes', 'Interleukin-6', 'Mental Competency'},\n 'O95777': {'Luteinizing Hormone', 'Mental Competency'},\n 'Q9HBH5': {'Mental Competency'},\n 'Q9BQ31': {'Luteinizing Hormone', 'Mental Competency'},\n 'P20591': {'Atrial Fibrillation',\n  'Diabetes Mellitus',\n  'Heart Failure',\n  'Mortality',\n  'Neoplasms'},\n 'Q969D9': {'Eosinophilic Esophagitis',\n  'Heart Failure',\n  'Hypersensitivity',\n  'Mortality',\n  'Rhinitis, Allergic, Seasonal'},\n 'O60341': {'Mortality'},\n 'O15393': {'Amyotrophic lateral sclerosis 1',\n  'Atrial Fibrillation',\n  'Diabetes Mellitus',\n  'Heart Failure',\n  'Mortality',\n  'Neoplasms'},\n 'O75891': {'Mortality'},\n 'Q13634': {'Abdominal Fat', 'Mortality', 'Subcutaneous Fat'},\n 'Q13591': {'Carotid Artery Diseases', 'Mortality'},\n 'P45381': {'Myopia, Degenerative'},\n 'Q9NWQ8': {'Myopia, Degenerative'},\n 'Q15025': {'Autoimmune Diseases', 'Myopia, Degenerative'},\n 'O95772': {'Myopia, Degenerative'},\n 'O43143': {'Myopia, Degenerative'},\n 'Q96NJ3': {'Myopia, Degenerative'},\n 'Q8TEH3': {'Myopia, Degenerative', 'Polycystic Ovary Syndrome'},\n 'Q92932': {'Myopia, Degenerative'},\n 'P41587': {'Myopia, Degenerative'},\n 'Q9UJU3': {'Myopia, Degenerative'},\n 'P29590': {'Myopia, Degenerative', 'Osteitis Deformans'},\n 'Q01543': {'Lymphoma, Follicular', 'Myopia, Degenerative'},\n 'P08133': {'Myopia, Degenerative'},\n 'P55286': {'Bilirubin', 'Myopia, Degenerative'},\n 'Q6PFW1': {'Neoplasms'},\n 'O14526': {'Neoplasms'},\n 'Q9Y2A9': {'Neoplasms'},\n 'Q9Y6Q1': {'Neoplasms'},\n 'P20936': {'Neoplasm Grading', 'Neoplasms'},\n 'P07288': {'Neoplasm Grading', 'Neoplasms', 'Prostate-Specific Antigen'},\n 'P02771': {'Neoplasms'},\n 'P20151': {'Neoplasms', 'Prostate-Specific Antigen'},\n 'Q9UM21': {'Antineoplastic Agents',\n  'Cetuximab',\n  'Disease-Free Survival',\n  'Neoplasms'},\n 'Q15109': {'Alanine Transaminase',\n  'Clozapine',\n  'Emphysema',\n  'Exhalation',\n  'Neoplasms',\n  'pazopanib',\n  'sRAGE protein, human'},\n 'P29474': {'Coronary Artery Disease'},\n 'Q14722': {'Cataract, Age-Related Nuclear', 'Coronary Artery Disease'},\n 'Q5JRA6': {'Coronary Artery Disease', 'Myocardial Infarction'},\n 'P48061': {'Coronary Artery Disease',\n  'Myocardial Infarction',\n  'Peripheral Nervous System Diseases',\n  'Reverse Transcriptase Inhibitors'},\n 'P38435': {'Coronary Artery Disease'},\n 'Q02108': {'Coronary Artery Disease', 'Myocardial Infarction'},\n 'P00747': {'Apolipoprotein A-I',\n  'Coronary Artery Disease',\n  'Giant Cell Arteritis',\n  'Lipoprotein(a)',\n  'Myocardial Infarction',\n  'Plasminogen',\n  'lipoprotein A-I'},\n 'Q15672': {'Coronary Artery Disease', 'Neuropsychological Tests'},\n 'P08572': {'Coronary Artery Disease'},\n 'Q8WZ55': {'Coronary Artery Disease', 'Myocardial Infarction'},\n 'Q9UH65': {'Coronary Artery Disease'},\n 'Q9Y6J6': {'Coronary Artery Disease',\n  'Exhalation',\n  'Joint Instability',\n  'Myocardial Infarction'},\n 'O94779': {'Blood Coagulation Factors', 'Cytokines', 'Gallbladder Diseases'},\n 'Q15631': {'Cytokines', 'Neurodegenerative Diseases', 'Varicose Veins'},\n 'Q5U5Q3': {'Cytokines'},\n 'Q9NZV8': {'Albuminuria', 'Blood Flow Velocity', 'CD40 Ligand', 'Cytokines'},\n 'O60312': {'Cytokines', 'DNA Methylation'},\n 'P08138': {'Cytokines'},\n 'Q9NWZ3': {'Cytokines'},\n 'Q14624': {'Cytokines'},\n 'Q15388': {'Cytokines'},\n 'A1A4S6': {'Cytokines', 'Walking'},\n 'Q8NEM8': {'Cytokines', 'Varicose Veins'},\n 'Q9BYV7': {'Cytokines', 'Interleukin-18', 'Interleukin-1beta'},\n 'P61225': {'Cytokines'},\n 'P51948': {'Cytokines'},\n 'O14576': {'Cytokines'},\n 'P61106': {'Cytokines'},\n 'Q13495': {'Cytokines'},\n 'P46059': {'Cytokines'},\n 'Q13224': {'Cytokines'},\n 'P61587': {'Cytokines'},\n 'Q6UW88': {'Cytokines', 'Vascular Calcification'},\n 'Q9UNS1': {'Cytokines'},\n 'Q7Z7A1': {'Cytokines'},\n 'Q05086': {'Cytokines', 'DNA Methylation'},\n 'P53420': {'Cytokines'},\n 'Q9H903': {'Cytokines', 'Leukocyte Count'},\n 'Q15399': {'Hypersensitivity', 'Rhinitis, Allergic, Seasonal'},\n 'Q8N465': {'Hypersensitivity'},\n 'Q15742': {'Hypersensitivity'},\n 'P35225': {'Hypersensitivity'},\n 'P26196': {'Autoimmune Diseases', 'Hypersensitivity'},\n 'Q01638': {'Eosinophils',\n  'Hypersensitivity',\n  'IL1RL1 protein, human',\n  'Rhinitis, Allergic, Seasonal'},\n 'Q5TCM9': {'Hypersensitivity'},\n 'P42226': {'Hypersensitivity'},\n 'Q13469': {'Asparaginase',\n  'Crown-Rump Length',\n  'Hypersensitivity',\n  'Precursor Cell Lymphoblastic Leukemia-Lymphoma'},\n 'Q9HB29': {'Hypersensitivity', 'IL1RL1 protein, human'},\n 'Q8NI36': {'Eosinophilic Esophagitis',\n  'Hypersensitivity',\n  'Rhinitis, Allergic, Seasonal'},\n 'Q9Y2C9': {'Hypersensitivity'},\n 'P55317': {'Face', 'Hypersensitivity'},\n 'Q9UMX1': {'Hypersensitivity'},\n 'Q9Y496': {'Hypersensitivity'},\n 'O95760': {'Hypersensitivity'},\n 'P10635': {'Depressive Disorder', 'Serotonin Uptake Inhibitors'},\n 'Q9Y6D5': {'Depressive Disorder'},\n 'Q01085': {'Depressive Disorder', 'Mental Health'},\n 'O43665': {'Depressive Disorder', 'Mental Health'},\n 'P11712': {'Anticoagulants',\n  'Depressive Disorder',\n  'Serotonin Uptake Inhibitors'},\n 'P37840': {'Bupropion', 'Depressive Disorder', 'Mood Disorders'},\n 'Q8TCU6': {'Depressive Disorder'},\n 'O43280': {'Autoimmune Diseases', 'Metabolome'},\n 'Q92556': {'Autoimmune Diseases'},\n 'P62699': {'Autoimmune Diseases'},\n 'P20963': {'Autoimmune Diseases'},\n 'Q9Y2R2': {'Autoantibodies',\n  'Autoimmune Diseases',\n  'Hypothyroidism',\n  'Thyroid Diseases'},\n 'Q5T6S3': {'Autoimmune Diseases', 'Prostate-Specific Antigen'},\n 'Q14765': {'Autoimmune Diseases'},\n 'Q01959': {'Prostate-Specific Antigen'},\n 'Q9NRA1': {'Hypospadias',\n  'Insulin',\n  'Prostate-Specific Antigen',\n  'Speech Perception'},\n 'Q8IVJ1': {'Prostate-Specific Antigen'},\n 'P21802': {'Adenocarcinoma of lung',\n  'Carcinoma, Endometrioid',\n  'Carcinoma, Non-Small-Cell Lung',\n  'Deglutition Disorders',\n  'HER2(776-788)',\n  'Lung Neoplasms',\n  'Ovarian Neoplasms',\n  'Prostate-Specific Antigen'},\n 'Q6VMQ6': {'Prostate-Specific Antigen', 'Testicular Neoplasms'},\n 'P35680': {'Adenocarcinoma of lung',\n  'Carcinoma, Endometrioid',\n  'Carcinoma, Non-Small-Cell Lung',\n  'Endometrial Neoplasms',\n  'Lung Neoplasms',\n  'Ovarian Neoplasms',\n  'Prostate-Specific Antigen',\n  'Testicular Germ Cell Tumor'},\n 'P01011': {'Prostate-Specific Antigen'},\n 'Q9NVS2': {'Prostate-Specific Antigen',\n  'Vascular Endothelial Growth Factors'},\n 'P09237': {'Prostate-Specific Antigen'},\n 'Q96GX9': {'Cystic Fibrosis',\n  'Lung Diseases',\n  'Prostate-Specific Antigen',\n  'Uteroglobin'},\n 'O00206': {'Prostate-Specific Antigen'},\n 'Q9NYZ2': {'Prostate-Specific Antigen'},\n 'Q96JT2': {'Basophils', 'Prostate-Specific Antigen'},\n 'Q9UBI1': {'Prostate-Specific Antigen'},\n 'P41091': {'Prostate-Specific Antigen'},\n 'O14966': {'Prostate-Specific Antigen'},\n 'Q53GD3': {'Wet Macular Degeneration'},\n 'Q4KMQ2': {'Spondylitis, Ankylosing'},\n 'P36941': {'Spondylitis, Ankylosing'},\n 'O75037': {'Spondylitis, Ankylosing'},\n 'Q9H8M1': {'Circadian Rhythm'},\n 'Q8TDR0': {'Circadian Rhythm', 'Corneal Pachymetry'},\n 'P50406': {'Circadian Rhythm'},\n 'Q5VT52': {'Circadian Rhythm'},\n 'O43614': {'Circadian Rhythm',\n  'Sleep',\n  'Sleep Initiation and Maintenance Disorders'},\n 'Q5I7T1': {'Circadian Rhythm'},\n 'Q9BY50': {'Circadian Rhythm'},\n 'P40145': {'Circadian Rhythm'},\n 'Q86YQ8': {'Circadian Rhythm', 'Lipoprotein(a)'},\n 'Q9Y576': {'Circadian Rhythm'},\n 'O15492': {'Circadian Rhythm',\n  'Sleep',\n  'Sleep Initiation and Maintenance Disorders'},\n 'Q9UJ68': {'Adenocarcinoma Of Esophagus',\n  'Barrett Esophagus',\n  'Circadian Rhythm',\n  'Cryptorchidism'},\n 'P01282': {'Circadian Rhythm'},\n 'O00470': {'Circadian Rhythm',\n  'Restless Legs Syndrome',\n  'Sleep',\n  'Sleep Initiation and Maintenance Disorders'},\n 'Q15836': {'Circadian Rhythm'},\n 'Q9UPQ9': {'Circadian Rhythm', 'Leiomyoma'},\n 'Q9ULX7': {'Circadian Rhythm'},\n 'Q9UGC7': {'Circadian Rhythm'},\n 'Q05823': {'Circadian Rhythm'},\n 'Q9Y6K8': {'Circadian Rhythm',\n  'Sleep',\n  'Sleep Initiation and Maintenance Disorders'},\n 'P49286': {'Amino Acids',\n  'Conduct Disorder',\n  'DNA Methylation',\n  'Diabetes, Gestational',\n  'Glucose Tolerance Test',\n  'Insulin',\n  'Insulin Resistance',\n  'Insulin-Secreting Cells',\n  'Metabolic Syndrome X',\n  'hemoglobin A1c protein, human'},\n 'Q15800': {'Insulin', 'Insulin Resistance'},\n 'O95965': {'Insulin', 'Natriuretic Peptide, Brain'},\n 'Q9UKK6': {'Insulin', 'Insulin Resistance', 'Kidney Diseases'},\n 'P29120': {'Insulin'},\n 'P08908': {'Insulin', 'Insulin Resistance', 'Substance-Related Disorders'},\n 'Q15544': {'Insulin'},\n 'Q8IWU4': {'Insulin', 'hemoglobin A1c protein, human'},\n 'Q8WXG6': {'Insulin'},\n 'Q96P48': {'Insulin'},\n 'Q9NZC7': {'Cardiovascular Diseases', 'Insulin', 'Vital Capacity'},\n 'P05019': {'Insulin', 'Insulin Resistance', 'Insulin-Like Growth Factor I'},\n 'Q03135': {'Atrial Fibrillation',\n  'Glaucoma, Open-Angle',\n  'Intraocular Pressure'},\n 'Q9Y3Q4': {'Atrial Fibrillation', 'Medicine', 'Stevens-Johnson Syndrome'},\n 'Q9UGI6': {'Atrial Fibrillation'},\n 'Q8WXH0': {'Atrial Fibrillation'},\n 'Q99697': {'Atrial Fibrillation', 'Embolism'},\n 'Q92731': {'Atrial Fibrillation'},\n 'Q8NCM8': {'Alcohol Drinking'},\n 'Q5VWX1': {'Adenocarcinoma Of Esophagus', 'Alcohol Drinking'},\n 'Q9UGN5': {'Alcohol Drinking'},\n 'P36871': {'Alcohol Drinking'},\n 'Q9H0E3': {'Alcohol Drinking', 'Apolipoproteins C'},\n 'O00757': {'Alcohol Drinking'},\n 'P17948': {'Alcohol Drinking'},\n 'Q9Y5M8': {'Alcohol Drinking', 'Iron'},\n 'P35611': {'Alcohol Drinking'},\n 'P02787': {'Alcohol Drinking',\n  'Anemia',\n  'Hemochromatosis',\n  'Hepcidins',\n  'Iron',\n  'Iron-Binding Proteins',\n  'Selenium',\n  'Transferrin'},\n 'Q15746': {'Alcohol Drinking'},\n 'Q9Y6K5': {'Alcohol Drinking', 'gamma-Glutamyltransferase'},\n 'Q86Z14': {'Alcohol Drinking'},\n 'P00325': {'Alcohol Drinking',\n  'Alcoholism',\n  'Esophageal Neoplasms',\n  'Head and Neck Neoplasms',\n  'Mouth Neoplasms',\n  'Oropharyngeal Neoplasms',\n  'Pharyngeal Neoplasms'},\n 'Q01973': {'Alcohol Drinking'},\n 'O60669': {'Insulin Resistance'},\n 'Q12836': {'Insulin Resistance'},\n 'Q86VH4': {'Insulin Resistance'},\n 'Q9H598': {'Insulin Resistance'},\n 'P10415': {'Insulin Resistance', 'Lymphoma, Follicular', 'Scoliosis'},\n 'Q5TG30': {'Insulin Resistance'},\n 'P00740': {'Insulin Resistance'},\n 'Q01484': {'Insulin Resistance', 'Nitric Oxide', 'Urinalysis'},\n 'P31371': {'Insulin Resistance'},\n 'Q9BR61': {'Insulin Resistance'},\n 'P48065': {'Insulin Resistance'},\n 'Q9NQP4': {'Erythrocytes',\n  'Hormone Replacement Therapy',\n  'Insulin Resistance'},\n 'Q9UI17': {'Insulin Resistance', 'Selenium'},\n 'P39748': {'Eicosapentaenoic Acid',\n  'Fatty Acids',\n  'Insulin Resistance',\n  'Linoleic Acid',\n  'Trans Fatty Acids',\n  'alpha-Linolenic Acid',\n  'docosapentaenoic acid'},\n 'Q9UIR0': {'Acute-On-Chronic Liver Failure',\n  'Adenocarcinoma of lung',\n  'Complement C4',\n  'Graves Disease',\n  'Hepatitis C',\n  'Lymphoma, B-Cell, Marginal Zone',\n  'Osteoarthritis, Knee',\n  'Sarcoidosis',\n  'Thyroid Diseases'},\n 'Q9BZY9': {'Thyroid Diseases'},\n 'Q9UKW4': {'Graves Disease',\n  'Hashimoto Disease',\n  'Hypothyroidism',\n  'Thyroid Diseases',\n  'Thyrotropin'},\n 'O14931': {'Carcinoma, Squamous Cell', 'Complement C4', 'Thyroid Diseases'},\n 'Q03519': {'Complement C4', 'Thyroid Diseases'},\n 'P43007': {'Amino Acids', 'Vascular Calcification'},\n 'Q15413': {'Vascular Calcification'},\n 'P42830': {'Vascular Calcification'},\n 'P19876': {'Carotid Stenosis', 'Vascular Calcification'},\n 'P02774': {'Vascular Calcification',\n  'Vitamin D',\n  'Vitamin D Deficiency',\n  'Vitamin D-Binding Protein'},\n 'P03952': {'Amino Acids',\n  'Arginine',\n  'CHGA protein, human',\n  'Metabolome',\n  'Natriuretic Peptide, Brain',\n  'Vascular Calcification',\n  'apolipoprotein A-IV'},\n 'P53007': {'Amino Acids', 'Vascular Calcification'},\n 'O43315': {'Adenocarcinoma Of Esophagus',\n  'Barrett Esophagus',\n  'Vascular Calcification'},\n 'O14944': {'Vascular Calcification'},\n 'P00748': {'Amino Acids',\n  'Arginine',\n  'CHGA protein, human',\n  'Partial Thromboplastin Time',\n  'Vascular Calcification'},\n 'Q9Y5X5': {'Vascular Calcification'},\n 'Q9NQR9': {'Amino Acids',\n  'Insulin-Secreting Cells',\n  'Metabolic Syndrome X',\n  'Vascular Calcification',\n  'hemoglobin A1c protein, human'},\n 'P17735': {'Vascular Calcification'},\n 'P43250': {'Amino Acids',\n  'Arginine',\n  'CHGA protein, human',\n  'Partial Thromboplastin Time',\n  'Vascular Calcification'},\n 'Q9NXB9': {'Docosahexaenoic Acids',\n  'Eicosapentaenoic Acid',\n  'Fatty Acids',\n  'Glycerophospholipids',\n  'Phospholipids',\n  'Vascular Calcification',\n  'docosapentaenoic acid'},\n 'Q8TEK3': {'Cartilage', 'Myocardial Infarction', 'Osteoarthritis'},\n 'P31153': {'Myocardial Infarction'},\n 'Q71RS6': {'Hair Color', 'Myocardial Infarction', 'Skin Pigmentation'},\n 'P56199': {'Myocardial Infarction', 'gamma-Glutamyltransferase'},\n 'O60245': {'Blood Coagulation Factors', 'Epilepsy'},\n 'P04275': {'Blood Coagulation Factors',\n  'Factor VIII',\n  'Mean Platelet Volume',\n  'von Willebrand Factor'},\n 'Q93045': {'Blood Coagulation Factors'},\n 'O15068': {'Blood Coagulation Factors', 'Osteoarthritis'},\n 'Q9Y561': {'Blood Coagulation Factors',\n  'Glaucoma, Open-Angle',\n  'Low Tension Glaucoma'},\n 'P00742': {'Blood Coagulation Factors'},\n 'P13726': {'Blood Coagulation Factors', 'fibrinogen D fragment'},\n 'P41220': {'Blood Coagulation Factors', 'Receptors, Tumor Necrosis Factor'},\n 'Q6ZQY3': {'Blood Coagulation Factors', 'Lithium'},\n 'P08709': {'Blood Coagulation Factors',\n  'Factor VII',\n  'Partial Thromboplastin Time'},\n 'P02763': {'Blood Coagulation Factors', 'Thrombin'},\n 'P78330': {'Amino Acids', 'Homocysteine'},\n 'Q969I6': {'Amino Acids'},\n 'Q9HCJ1': {'Amino Acids'},\n 'Q96H22': {'Amino Acids'},\n 'Q9UI32': {'Amino Acids'},\n 'O15498': {'Amino Acids', 'Insulin-Secreting Cells', 'Metabolic Syndrome X'},\n 'Q86XE5': {'Amino Acids'},\n 'O43272': {'Amino Acids'},\n 'Q8N3J5': {'Amino Acids'},\n 'P00439': {'Amino Acids'},\n 'P02776': {'Amino Acids'},\n 'P09960': {'Amino Acids', 'Varicose Veins'},\n 'P02775': {'Amino Acids'},\n 'Q8TF71': {'Amino Acids'},\n 'Q13554': {'Amino Acids', 'Metabolic Syndrome X', 'Osteoarthritis'},\n 'Q86YT5': {'Amino Acids'},\n 'P35754': {'Diabetes Mellitus'},\n 'Q9Y6I4': {'Heart Failure'},\n 'Q7Z2H8': {'Heart Failure'},\n 'O43570': {'Heart Failure'},\n ...}"
     },
     "execution_count": 16,
     "metadata": {},
     "output_type": "execute_result"
    }
   ],
   "source": [
    "map_protein_to_diseases = {}\n",
    "for d, ps in map_disease_to_proteins.items():\n",
    "    for p in ps:\n",
    "        if not p in map_protein_to_diseases.keys():\n",
    "            map_protein_to_diseases[p] = set()\n",
    "        map_protein_to_diseases[p].add(d)\n",
    "map_protein_to_diseases"
   ],
   "metadata": {
    "collapsed": false,
    "pycharm": {
     "name": "#%% Create map from proteins to diseases\n"
    }
   }
  },
  {
   "cell_type": "code",
   "execution_count": 17,
   "outputs": [
    {
     "data": {
      "text/plain": "     Protein  NumDiseases\n275   P16442           36\n119   Q14397           31\n296   O60427           24\n182   P02654           23\n37    P02649           15\n...      ...          ...\n1053  P01213            1\n1051  Q9NR81            1\n1050  Q9H4B7            1\n1049  Q9UQ16            1\n2084  Q6UWN5            1\n\n[2085 rows x 2 columns]",
      "text/html": "<div>\n<style scoped>\n    .dataframe tbody tr th:only-of-type {\n        vertical-align: middle;\n    }\n\n    .dataframe tbody tr th {\n        vertical-align: top;\n    }\n\n    .dataframe thead th {\n        text-align: right;\n    }\n</style>\n<table border=\"1\" class=\"dataframe\">\n  <thead>\n    <tr style=\"text-align: right;\">\n      <th></th>\n      <th>Protein</th>\n      <th>NumDiseases</th>\n    </tr>\n  </thead>\n  <tbody>\n    <tr>\n      <th>275</th>\n      <td>P16442</td>\n      <td>36</td>\n    </tr>\n    <tr>\n      <th>119</th>\n      <td>Q14397</td>\n      <td>31</td>\n    </tr>\n    <tr>\n      <th>296</th>\n      <td>O60427</td>\n      <td>24</td>\n    </tr>\n    <tr>\n      <th>182</th>\n      <td>P02654</td>\n      <td>23</td>\n    </tr>\n    <tr>\n      <th>37</th>\n      <td>P02649</td>\n      <td>15</td>\n    </tr>\n    <tr>\n      <th>...</th>\n      <td>...</td>\n      <td>...</td>\n    </tr>\n    <tr>\n      <th>1053</th>\n      <td>P01213</td>\n      <td>1</td>\n    </tr>\n    <tr>\n      <th>1051</th>\n      <td>Q9NR81</td>\n      <td>1</td>\n    </tr>\n    <tr>\n      <th>1050</th>\n      <td>Q9H4B7</td>\n      <td>1</td>\n    </tr>\n    <tr>\n      <th>1049</th>\n      <td>Q9UQ16</td>\n      <td>1</td>\n    </tr>\n    <tr>\n      <th>2084</th>\n      <td>Q6UWN5</td>\n      <td>1</td>\n    </tr>\n  </tbody>\n</table>\n<p>2085 rows × 2 columns</p>\n</div>"
     },
     "execution_count": 17,
     "metadata": {},
     "output_type": "execute_result"
    }
   ],
   "source": [
    "map_protein_to_numdiseases = {p: len(ds) for p, ds in map_protein_to_diseases.items()}\n",
    "df_p_nd = pd.DataFrame(data=map_protein_to_numdiseases.items(), columns=[\"Protein\", \"NumDiseases\"])\n",
    "df_p_nd.sort_values([\"NumDiseases\"], ascending=False, inplace=True)\n",
    "df_p_nd"
   ],
   "metadata": {
    "collapsed": false,
    "pycharm": {
     "name": "#%% Create map proteins to num diseases\n"
    }
   }
  },
  {
   "cell_type": "code",
   "execution_count": 18,
   "outputs": [
    {
     "data": {
      "text/plain": "<Figure size 432x288 with 1 Axes>",
      "image/png": "[encoded data removed]"
     },
     "metadata": {
      "needs_background": "light"
     },
     "output_type": "display_data"
    }
   ],
   "source": [
    "sns.violinplot(data=df_p_nd, color=\"0.8\")\n",
    "sns.stripplot(data=df_p_nd, jitter=True, zorder=1)\n",
    "plt.show()"
   ],
   "metadata": {
    "collapsed": false,
    "pycharm": {
     "name": "#%% Plot number of diseases per protein\n"
    }
   }
  },
  {
   "cell_type": "code",
   "execution_count": 19,
   "outputs": [
    {
     "name": "stdout",
     "output_type": "stream",
     "text": [
      "Diseases to delete: \n",
      "\n",
      " {'Spondylitis, Ankylosing', 'Graves Disease', 'Eosinophils', 'Skin Neoplasms', 'Malaria', 'Factor VIII', 'Creatinine', 'Phosphorus', 'Hair Color', 'Fibrinogen', 'Eye Color', 'Health', 'Pharyngeal Neoplasms', 'Calcium', 'Forced Expiratory Volume', 'Autoimmune Diseases', 'Renal Insufficiency, Chronic', 'tau Proteins', 'Anthropometry', 'hemoglobin A1c protein, human', 'Urine', 'Leptin', 'Hypersensitivity', 'Multiple Myeloma', 'Endometrial Neoplasms', 'Lactation', 'von Willebrand Factor', 'Blood Proteins', 'Arachidonic Acid', 'Neuroimaging', 'Alopecia Areata', 'Carcinoma, Squamous Cell', 'Atherosclerosis', 'Mortality', 'Atrial Fibrillation', 'Insulin-Secreting Cells', 'Rhinitis, Allergic, Seasonal', 'Celiac Disease', 'Thyrotropin', 'Carcinoma, Endometrioid', 'Arterial Pressure', 'Hypertriglyceridemia', 'Skin Pigmentation', 'Cognition Disorders', 'Chemical and Drug Induced Liver Injury', 'Glycerophospholipids', 'Myopia', 'Selenium', 'Arthritis, Juvenile', 'Lipoproteins', 'Melanoma', 'Sphingolipids', 'Glucose Tolerance Test', 'Fatty Acids, Omega-6', 'Idiopathic Pulmonary Fibrosis', 'alpha 1-Antitrypsin', 'Intercellular Adhesion Molecule-1', 'oxidized low density lipoprotein', 'Corneal Topography', 'Trans Fatty Acids', 'Obesity', 'docosapentaenoic acid', 'Duodenal Ulcer', 'Neuropsychological Tests', 'Serum Albumin', 'Lewy Body Disease', 'Mouth Neoplasms', 'Emotions', 'Mental Processes', 'Lung Diseases, Interstitial', 'Suntan', 'Reverse Transcriptase Inhibitors', 'Intraocular Pressure', 'P-Selectin', 'Purines', 'Eyebrows', 'Age of Onset', 'Longevity', 'Amyloidosis, Cerebral, with Spongiform Encephalopathy', 'Lipase', 'Prostate-Specific Antigen', 'Gout', '1-Alkyl-2-acetylglycerophosphocholine Esterase', 'Body Fat Distribution', 'C-Peptide', 'Eicosapentaenoic Acid', 'Cerebral Cortex', 'Hemoglobins', 'Oropharyngeal Neoplasms', 'Pancreatic Neoplasms', 'Pancreatic Carcinoma', 'Transferrin', 'Mannose', 'Carcinoembryonic Antigen', 'Psychomotor Performance', 'Adenocarcinoma of lung', 'Pulmonary Embolism', 'Interleukin-6', 'Neoplasms', 'Angiopoietin-2', 'Diabetes Mellitus', 'gamma-Linolenic Acid', 'Angiotensins', 'Autoantibodies', 'Lipids', 'Vascular Endothelial Growth Factors', 'Energy Intake', 'Cerebrospinal Fluid', 'Fatty Acids', 'Liver Diseases', 'Heart Failure', 'Peripheral Nervous System Diseases', 'Blood Coagulation Factors', 'gamma-Glutamyltransferase', 'Hypothyroidism', 'Ovarian Neoplasms', 'alpha-Linolenic Acid', 'Hematocrit', 'Glioblastoma', 'Myocardial Infarction', 'Papillomavirus Vaccines', 'Alkaline Phosphatase', 'Interleukin-2 Receptor alpha Subunit', 'Bipolar Disorder', 'Insulin-Like Growth Factor I', 'Hydroxymethylglutaryl CoA Reductases', 'Memory', 'Linoleic Acid', 'Alopecia', 'Subcutaneous Fat', 'Thyroid Neoplasms', 'Leukopenia', 'Partial Thromboplastin Time', 'Supranuclear Palsy, Progressive', 'Alcohol Drinking', 'Phospholipids', 'Diarrhea', 'Macular Degeneration', 'Hepcidins', 'Insulin', 'Amyloid beta-Peptides', 'Carcinoma, Non-Small-Cell Lung', 'Clinical Laboratory Techniques', 'Tumor Necrosis Factor-alpha', 'E-Selectin', 'Sex Characteristics', 'Fenofibrate', 'Coronary Artery Disease', 'Common Variable Immunodeficiency', 'Hypertension', 'Sex Hormone-Binding Globulin', 'Amino Acids', 'Testicular Neoplasms', 'Vitamin B 12', 'Thrombosis', 'Uric Acid', 'Lung Neoplasms', 'Adiponectin', 'Lymphoma, Follicular', 'Linoleoyl-CoA Desaturase', 'Melanosis', 'Metabolic Syndrome X', 'Alanine Transaminase', 'amyloid beta-protein (1-42)', 'Glioma', 'Wet Macular Degeneration', 'Thyroid Diseases', 'Insulin Resistance', 'Ferritins', 'Iron', 'Anemia', 'Cholangitis, Sclerosing', 'Vascular Calcification', 'Endothelial Growth Factors'}\n"
     ]
    },
    {
     "data": {
      "text/plain": "                             Disease  Num Entity\n549               Multiple Sclerosis   92  genes\n618                Parkinson Disease   89  genes\n424  Influenza A Virus, H1N1 Subtype   89  genes\n588                       Optic Disk   85  genes\n245               Dermatitis, Atopic   81  genes\n..                               ...  ...    ...\n647                  Premature Birth    1  genes\n165                  Caudate Nucleus    1  genes\n169      Cerebral Amyloid Angiopathy    1  genes\n243                       Depression    1  genes\n174                        Cetuximab    1  genes\n\n[653 rows x 3 columns]",
      "text/html": "<div>\n<style scoped>\n    .dataframe tbody tr th:only-of-type {\n        vertical-align: middle;\n    }\n\n    .dataframe tbody tr th {\n        vertical-align: top;\n    }\n\n    .dataframe thead th {\n        text-align: right;\n    }\n</style>\n<table border=\"1\" class=\"dataframe\">\n  <thead>\n    <tr style=\"text-align: right;\">\n      <th></th>\n      <th>Disease</th>\n      <th>Num</th>\n      <th>Entity</th>\n    </tr>\n  </thead>\n  <tbody>\n    <tr>\n      <th>549</th>\n      <td>Multiple Sclerosis</td>\n      <td>92</td>\n      <td>genes</td>\n    </tr>\n    <tr>\n      <th>618</th>\n      <td>Parkinson Disease</td>\n      <td>89</td>\n      <td>genes</td>\n    </tr>\n    <tr>\n      <th>424</th>\n      <td>Influenza A Virus, H1N1 Subtype</td>\n      <td>89</td>\n      <td>genes</td>\n    </tr>\n    <tr>\n      <th>588</th>\n      <td>Optic Disk</td>\n      <td>85</td>\n      <td>genes</td>\n    </tr>\n    <tr>\n      <th>245</th>\n      <td>Dermatitis, Atopic</td>\n      <td>81</td>\n      <td>genes</td>\n    </tr>\n    <tr>\n      <th>...</th>\n      <td>...</td>\n      <td>...</td>\n      <td>...</td>\n    </tr>\n    <tr>\n      <th>647</th>\n      <td>Premature Birth</td>\n      <td>1</td>\n      <td>genes</td>\n    </tr>\n    <tr>\n      <th>165</th>\n      <td>Caudate Nucleus</td>\n      <td>1</td>\n      <td>genes</td>\n    </tr>\n    <tr>\n      <th>169</th>\n      <td>Cerebral Amyloid Angiopathy</td>\n      <td>1</td>\n      <td>genes</td>\n    </tr>\n    <tr>\n      <th>243</th>\n      <td>Depression</td>\n      <td>1</td>\n      <td>genes</td>\n    </tr>\n    <tr>\n      <th>174</th>\n      <td>Cetuximab</td>\n      <td>1</td>\n      <td>genes</td>\n    </tr>\n  </tbody>\n</table>\n<p>653 rows × 3 columns</p>\n</div>"
     },
     "execution_count": 19,
     "metadata": {},
     "output_type": "execute_result"
    }
   ],
   "source": [
    "filter_proteins = df_p_nd[df_p_nd['NumDiseases'] > 10]\n",
    "filter_proteins = set(filter_proteins[\"Protein\"])\n",
    "filter_proteins\n",
    "filter_diseases = set()\n",
    "for d, ps in map_disease_to_proteins.items():\n",
    "    if bool(ps & filter_proteins):\n",
    "        filter_diseases.add(d)\n",
    "print(f\"Diseases to delete: \\n\\n {filter_diseases}\")\n",
    "df_sel_diseases = df_disease_to_genes[~df_disease_to_genes['Disease'].isin(filter_diseases)]\n",
    "df_sel_diseases\n"
   ],
   "metadata": {
    "collapsed": false,
    "pycharm": {
     "name": "#%% Filter diseases that contain proteins participating in too many diseases\n"
    }
   }
  },
  {
   "cell_type": "code",
   "execution_count": 20,
   "outputs": [
    {
     "data": {
      "text/plain": "{'P47712',\n 'P07550',\n 'Q13467',\n 'P08631',\n 'Q92481',\n 'Q14980',\n 'Q9NP70',\n 'P01275',\n 'Q93079',\n 'P04000',\n 'Q8TE59',\n 'Q6IBW4',\n 'Q9H4B6',\n 'P61026',\n 'O95997',\n 'P51843',\n 'Q9NVK5',\n 'Q13546',\n 'Q04727',\n 'Q8N307',\n 'P08151',\n 'P13987',\n 'P43405',\n 'P56703',\n 'Q9Y6F6',\n 'O15197',\n 'Q8WXD2',\n 'Q99504',\n 'Q9NP71',\n 'Q05707',\n 'Q9UPZ6',\n 'P19086',\n 'Q12829',\n 'Q7Z7A1',\n 'Q8WU20',\n 'P19105',\n 'Q96GX5',\n 'Q07343',\n 'Q13635',\n 'O75173',\n 'Q96QV6',\n 'P41279',\n 'P12830',\n 'Q9UL25',\n 'Q3SXY8',\n 'Q9Y5L4',\n 'P49407',\n 'Q9UP79',\n 'Q99743',\n 'Q6P3S1',\n 'P29966',\n 'Q9ULW5',\n 'P30518',\n 'P42167',\n 'P98088',\n 'P02771',\n 'Q16665',\n 'O14531',\n 'P55072',\n 'Q9UMD9',\n 'P12107',\n 'P99999',\n 'Q9UBW5',\n 'P54756',\n 'P05060',\n 'P14678',\n 'P61086',\n 'P24844',\n 'Q7Z6A9',\n 'Q00987',\n 'Q02241',\n 'Q14164',\n 'P24385',\n 'P49792',\n 'P10451',\n 'Q8N158',\n 'Q9H2X6',\n 'Q9BRK3',\n 'P61956',\n 'P54764',\n 'P51617',\n 'Q9Y277',\n 'O75553',\n 'Q14956',\n 'P58012',\n 'P13521',\n 'P13569',\n 'Q8TAF3',\n 'P02679',\n 'P46527',\n 'P20908',\n 'Q8N5V2',\n 'Q92841',\n 'P04792',\n 'P07992',\n 'Q99835',\n 'O14920',\n 'P19174',\n 'Q15907',\n 'Q96B36',\n 'P46937',\n 'Q9UBR2',\n 'O14492',\n 'Q15022',\n 'A6NNZ2',\n 'P06731',\n 'Q9H195',\n 'Q14515',\n 'P00167',\n 'P18827',\n 'P0DPH7',\n 'Q9P126',\n 'Q32MZ4',\n 'P17844',\n 'P54793',\n 'P30304',\n 'Q9BVA1',\n 'Q9Y6N5',\n 'O75015',\n 'Q03393',\n 'O00755',\n 'P40337',\n 'Q9UKP5',\n 'Q01955',\n 'P62807',\n 'P51884',\n 'Q8NB16',\n 'Q8IWE4',\n 'Q17RW2',\n 'P23434',\n 'P22692',\n 'P98077',\n 'Q14957',\n 'P42224',\n 'Q49B96',\n 'Q9BZG1',\n 'P51692',\n 'P06400',\n 'P40818',\n 'P38398',\n 'Q15067',\n 'Q9UBV4',\n 'P21953',\n 'P00367',\n 'P10070',\n 'Q6PCB0',\n 'P56704',\n 'Q12888',\n 'Q9H6X2',\n 'Q13620',\n 'P57729',\n 'Q86XD5',\n 'P42261',\n 'P68371',\n 'P07225',\n 'Q9Y2N7',\n 'P08581',\n 'P55055',\n 'P12109',\n 'Q9BWV1',\n 'P00450',\n 'P35052',\n 'P51608',\n 'Q92793',\n 'Q9NRF2',\n 'Q5TAT6',\n 'P62714',\n 'P78396',\n 'Q6W4X9',\n 'Q9BXM0',\n 'Q6UN15',\n 'Q15596',\n 'Q9UHC7',\n 'O14641',\n 'Q99715',\n 'O94905',\n 'Q16288',\n 'P39059',\n 'Q12778',\n 'P51170',\n 'P60484',\n 'P06737',\n 'P36969',\n 'O15519',\n 'Q92731',\n 'P43351',\n 'Q06124',\n 'O43561',\n 'P51451',\n 'P36894',\n 'P22736',\n 'Q9UN19',\n 'P04279',\n 'P19793',\n 'O14974',\n 'Q9BPX3',\n 'P26678',\n 'Q9GZV9',\n 'P12110',\n 'Q8IV16',\n 'Q13094',\n 'P52948',\n 'P04629',\n 'Q14623',\n 'P11274',\n 'Q92630',\n 'P29317',\n 'Q9HC77',\n 'O14867',\n 'P14921',\n 'Q9NRM1',\n 'O15198',\n 'P19838',\n 'O75182',\n 'Q13177',\n 'Q8N6G6',\n 'Q9UPV9',\n 'O96014',\n 'P29474',\n 'P14625',\n 'O43914',\n 'P27918',\n 'A8TX70',\n 'Q13882',\n 'P00740',\n 'Q9UBT2',\n 'Q9H1Y0',\n 'P16284',\n 'O75056',\n 'Q9C0I4',\n 'Q5FYB1',\n 'P45973',\n 'Q14653',\n 'Q14116',\n 'Q14676',\n 'Q04637',\n 'P15289',\n 'P11047',\n 'Q8TAQ5',\n 'O14775',\n 'P17706',\n 'P56277',\n 'P30530',\n 'Q92900',\n 'P11831',\n 'P40259',\n 'Q9HC84',\n 'P42768',\n 'Q12879',\n 'P49137',\n 'Q9NP90',\n 'Q9BQA1',\n 'Q13263',\n 'P49023',\n 'P11217',\n 'Q99497',\n 'O00204',\n 'O15169',\n 'Q14203',\n 'Q5JTJ3',\n 'O00744',\n 'P10827',\n 'Q6UWY0',\n 'A2RUS2',\n 'P36507',\n 'P16885',\n 'P51805',\n 'O00238',\n 'P35398',\n 'Q86YS6',\n 'Q6WCQ1',\n 'Q9BQI3',\n 'Q9UEF7',\n 'P11245',\n 'P51648',\n 'O14561',\n 'Q8WYQ3',\n 'P49840',\n 'P37840',\n 'P30291',\n 'Q9H0T7',\n 'Q01449',\n 'Q14195',\n 'Q92838',\n 'Q96A32',\n 'Q99996',\n 'Q8IU57',\n 'Q5JZY3',\n 'P01116',\n 'Q96F24',\n 'Q96EG1',\n 'P11362',\n 'Q13885',\n 'Q04725',\n 'O60493',\n 'P24394',\n 'Q15286',\n 'Q96HY7',\n 'P38117',\n 'P07949',\n 'O96028',\n 'Q15717',\n 'P16871',\n 'Q13043',\n 'O75385',\n 'Q13569',\n 'P05546',\n 'Q86Y22',\n 'P09603',\n 'Q9H1J5',\n 'P09496',\n 'Q9BQK8',\n 'Q13415',\n 'Q9BTY2',\n 'Q712K3',\n 'Q96A00',\n 'P36888',\n 'P05412',\n 'P56211',\n 'P21860',\n 'P20963',\n 'P09382',\n 'P35568',\n 'P62753',\n 'A2VEC9',\n 'Q04726',\n 'P29400',\n 'P06213',\n 'P08572',\n 'Q13617',\n 'Q6ZMT4',\n 'Q92997',\n 'Q8N2W9',\n 'Q9Y219',\n 'O75581',\n 'Q03001',\n 'Q9NRY4',\n 'Q76LX8',\n 'Q9GZV4',\n 'Q8N2K1',\n 'Q13421',\n 'Q13362',\n 'P07766',\n 'P49459',\n 'Q6P988',\n 'Q9Y266',\n 'O15488',\n 'O60500',\n 'P30613',\n 'P57735',\n 'Q53HL2',\n 'Q13103',\n 'P00734',\n 'Q6Q788',\n 'A6NHL2',\n 'P53420',\n 'Q9UM21',\n 'P19419',\n 'Q9Y4H2',\n 'Q9UNA0',\n 'Q9Y253',\n 'O14578',\n 'Q9NYB9',\n 'P12318',\n 'P62253',\n 'Q5XPI4',\n 'P02545',\n 'P15336',\n 'Q71U36',\n 'P05161',\n 'Q13426',\n 'Q96P20',\n 'Q01094',\n 'Q92945',\n 'Q6FI13',\n 'P61764',\n 'Q6ZMM2',\n 'Q9HC35',\n 'Q96MS0',\n 'Q96B97',\n 'P01033',\n 'P05549',\n 'Q14703',\n 'Q09472',\n 'Q9UPW6',\n 'Q99640',\n 'P06899',\n 'O60216',\n 'Q07666',\n 'P54762',\n 'Q7L7L0',\n 'P10276',\n 'Q12846',\n 'Q9C0C7',\n 'P16671',\n 'Q16620',\n 'P58397',\n 'P02647',\n 'Q5FYA8',\n 'P14136',\n 'Q15465',\n 'O15392',\n 'P00451',\n 'P13497',\n 'O96033',\n 'Q99879',\n 'P20273',\n 'Q03692',\n 'Q9NX57',\n 'Q00535',\n 'P15260',\n 'Q8IZC6',\n 'P46531',\n 'O75888',\n 'Q06481',\n 'P98172',\n 'O95786',\n 'P04628',\n 'Q9UJV9',\n 'P25098',\n 'Q6UVK1',\n 'O15527',\n 'P42681',\n 'P43353',\n 'P52333',\n 'P02461',\n 'P41208',\n 'Q9HC98',\n 'P19235',\n 'Q9Y618',\n 'P32121',\n 'Q14678',\n 'Q15796',\n 'Q13164',\n 'O95633',\n 'P31785',\n 'Q92930',\n 'P37173',\n 'Q96E29',\n 'P08069',\n 'Q9NZL9',\n 'Q08050',\n 'Q8TAX7',\n 'O94956',\n 'Q14289',\n 'P05997',\n 'Q969H0',\n 'Q9NPB6',\n 'Q9NRW1',\n 'Q92934',\n 'P59190',\n 'Q92539',\n 'P23458',\n 'Q92558',\n 'P34969',\n 'P36956',\n 'O14672',\n 'P51159',\n 'P0C0S8',\n 'Q04206',\n 'P43354',\n 'P13726',\n 'Q7Z6M1',\n 'P02787',\n 'Q92754',\n 'Q14789',\n 'P30273',\n 'P63165',\n 'P06493',\n 'Q15084',\n 'P05165',\n 'Q12841',\n 'O76024',\n 'P19878',\n 'P08709',\n 'Q13285',\n 'O14654',\n 'Q15173',\n 'P00742',\n 'P11473',\n 'P16220',\n 'Q96FF9',\n 'Q9UQK1',\n 'Q96EQ8',\n 'P10636',\n 'Q06187',\n 'P05067',\n 'O95278',\n 'P40763',\n 'Q9NYJ1',\n 'Q96EE3',\n 'Q07869',\n 'P06401',\n 'O43493',\n 'Q49AN0',\n 'Q53H12',\n 'Q02045',\n 'P35968',\n 'Q8N9B5',\n 'O43187',\n 'P29323',\n 'P21810',\n 'P63010',\n 'P62979',\n 'O95267',\n 'Q9Y5J9',\n 'P0C0S5',\n 'P17181',\n 'P15586',\n 'Q02447',\n 'Q96MT3',\n 'P98160',\n 'O95714',\n 'P35241',\n 'P60660',\n 'P08833',\n 'P61077',\n 'P29322',\n 'Q16659',\n 'Q01196',\n 'Q9HCM2',\n 'Q9Y625',\n 'O75164',\n 'Q16539',\n 'Q08379',\n 'Q9Y6Y9',\n 'O95999',\n 'Q9NR19',\n 'O75928',\n 'Q9NS56',\n 'P11387',\n 'P08887',\n 'P12259',\n 'Q13490',\n 'P21731',\n 'O60240',\n 'P00387',\n 'P03999',\n 'Q5VWX1',\n 'P04114',\n 'P04626',\n 'Q03405',\n 'Q14994',\n 'O95677',\n 'Q9GZV5',\n 'P17252',\n 'Q969R5',\n 'Q00610',\n 'Q68DV7',\n 'Q13363',\n 'Q9UBE8',\n 'O75461',\n 'Q13636',\n 'Q9H4B7',\n 'Q8IV61',\n 'P59510',\n 'P15311',\n 'Q9UKL3',\n 'P19429',\n 'P34059',\n 'P00441',\n 'P14314',\n 'Q9BPU6',\n 'P84022',\n 'P34897',\n 'Q9Y2X3',\n 'P58876',\n 'Q9UKW4',\n 'O94826',\n 'Q9Y5Y0',\n 'Q8IWA4',\n 'P07948',\n 'P35222',\n 'P29590',\n 'P24941',\n 'Q00613',\n 'Q8IVT5',\n 'Q92529',\n 'Q9UK32',\n 'P35270',\n 'P46060',\n 'Q00653',\n 'P52739',\n 'P53634',\n 'P13591',\n 'Q9Y5X4',\n 'P48552',\n 'P49427',\n 'P51812',\n 'Q16513',\n 'Q99708',\n 'O95429',\n 'P23588',\n 'Q13976',\n 'O75914',\n 'P98177',\n 'P51114',\n 'Q2UY09',\n 'Q03468',\n 'Q8N302',\n 'P15927',\n 'Q9H267',\n 'O60343',\n 'Q7Z569',\n 'Q8N122',\n 'O43318',\n 'Q13616',\n 'P62993',\n 'Q9BY41',\n 'P0DPH8',\n 'Q15349',\n 'Q8IUE6',\n 'Q96PU8',\n 'P53680',\n 'Q8IZP0',\n 'P30305',\n 'P17936',\n 'P11498',\n 'P42685',\n 'Q7L523',\n 'Q9H8M9',\n 'Q8IXI2',\n 'P34741',\n 'P10275',\n 'Q9Y606',\n 'Q13469',\n 'P05231',\n 'Q9P218',\n 'P29320',\n 'P08123',\n 'O95716',\n 'O96017',\n 'P51610',\n 'O95352',\n 'P09429',\n 'P24593',\n 'Q5FYB0',\n 'P01008',\n 'P04908',\n 'Q13316',\n 'Q96DR8',\n 'Q9BUK0',\n 'P78527',\n 'Q06547',\n 'O15399',\n 'P48200',\n 'Q05469',\n 'Q9P2N4',\n 'Q15759',\n 'Q3ZCM7',\n 'P10747',\n 'Q96A08',\n 'Q9Y2X7',\n 'P01210',\n 'Q13489',\n 'P51797',\n 'Q96RR4',\n 'P25054',\n 'P49448',\n 'P62256',\n 'P04085',\n 'Q12933',\n 'Q9NTJ3',\n 'Q9NQ76',\n 'Q13330',\n 'Q99880',\n 'Q14765',\n 'P40199',\n 'P68366',\n 'P51690',\n 'Q9HB75',\n 'P78324',\n 'Q01113',\n 'Q9Y4K3',\n 'O14594',\n 'Q969V5',\n 'Q969V6',\n 'Q02505',\n 'P40429',\n 'P02671',\n 'P31431',\n 'O60879',\n 'Q9UK55',\n 'Q93034',\n 'P21359',\n 'P11216',\n 'Q15797',\n 'Q15293',\n 'Q13541',\n 'Q04912',\n 'Q07065',\n 'Q15436',\n 'P61020',\n 'P10721',\n 'O75886',\n 'O15264',\n 'P05771',\n 'P30307',\n 'P31751',\n 'Q13224',\n 'P0C0L5',\n 'P55957',\n 'P11912',\n 'P02768',\n 'P09923',\n 'Q05397',\n 'Q99704',\n 'Q9NS62',\n 'P48357',\n 'O95450',\n 'P61088',\n 'Q14526',\n 'P22681',\n 'O75051',\n 'P22607',\n 'O14640',\n 'P35555',\n 'O94973',\n 'P18440',\n 'Q8IVN8',\n 'O15072',\n 'P16455',\n 'Q14050',\n 'Q9UQC2',\n 'Q86XI2',\n 'Q99665',\n 'Q24JP5',\n 'O43252',\n 'P98170',\n 'Q8TEB7',\n 'P53671',\n 'Q9BYX4',\n 'P15941',\n 'P32119',\n 'Q14318',\n 'P25940',\n 'Q13618',\n 'Q96JA1',\n 'Q9BU40',\n 'Q13133',\n 'Q9Y3M2',\n 'Q9UIF7',\n 'P78552',\n 'O43521',\n 'P26045',\n 'Q9NZB8',\n 'P39060',\n 'P11233',\n 'Q99728',\n 'P78504',\n 'Q99541',\n 'P10599',\n 'Q99877',\n 'P09544',\n 'Q9UBS0',\n 'Q05655',\n 'Q9H324',\n 'P12004',\n 'O95084',\n 'P49918',\n 'Q9HAW4',\n 'P0DP23',\n 'Q9UKI2',\n 'P68104',\n 'P63279',\n 'Q9UHI8',\n 'Q9Y6W8',\n 'O14744',\n 'Q9H8Y8',\n 'Q6NZY7',\n 'O60229',\n 'O43609',\n 'P67775',\n 'Q8TE56',\n 'O75531',\n 'Q685J3',\n 'Q13554',\n 'P62805',\n 'P23771',\n 'Q9UER7',\n 'P41221',\n 'Q9UJU2',\n 'Q13619',\n 'P07996',\n 'Q99502',\n 'Q13555',\n 'P61081',\n 'P06241',\n 'P13807',\n 'O00468',\n 'P14649',\n 'O15164',\n 'Q8WXS8',\n 'Q9BUD6',\n 'P26651',\n 'Q13009',\n 'O00762',\n 'Q14694',\n 'Q9BXS0',\n 'P54760',\n 'P49327',\n 'Q9H832',\n 'Q9ULK5',\n 'O14950',\n 'P17677',\n 'P01100',\n 'Q9HAT8',\n 'O00548',\n 'Q5JRA6',\n 'Q14993',\n 'O75460',\n 'P15036',\n 'P68431',\n 'Q16555',\n 'O75143',\n 'Q9NYA1',\n 'Q15375',\n 'P63241',\n 'Q9Y6Q2',\n 'O95235',\n 'P68871',\n 'Q15643',\n 'O43157',\n 'P51587',\n 'Q9NX63',\n 'P21333',\n 'Q96SD1',\n 'Q9BTM9',\n 'O15111',\n 'Q15424',\n 'P11488',\n 'O95477',\n 'O75030',\n 'Q15388',\n 'P40189',\n 'P51689',\n 'Q12798',\n 'P36957',\n 'Q6YHK3',\n 'O43323',\n 'P53992',\n 'O15151',\n 'P51668',\n 'Q13547',\n 'Q01826',\n 'P35354',\n 'P59665',\n 'O94953',\n 'Q9NVI1',\n 'P01106',\n 'Q684P5',\n 'P21709',\n 'Q99717',\n 'Q13557',\n 'Q9H461',\n 'O43815',\n 'Q9UQM7',\n 'P23528',\n 'Q86UP2',\n 'Q8NBP7',\n 'P42226',\n 'Q8N257',\n 'Q9UJT9',\n 'P14618',\n 'P25685',\n 'P33151',\n 'P25963',\n 'P32004',\n 'P27694',\n 'O00194',\n 'P22307',\n 'O94856',\n 'O43303',\n 'P01009',\n 'P62318',\n 'Q9H3R2',\n 'Q8NER5',\n 'O60870',\n 'O14905',\n 'Q9UHD2',\n 'P49815',\n 'Q93098',\n 'P04001',\n 'P04035',\n 'Q8TE58',\n 'Q96AH8',\n 'Q969M7',\n 'Q96FA3',\n 'P52569',\n 'Q16778',\n 'P55268',\n 'Q14191',\n 'P43146',\n 'P02760',\n 'O15516',\n 'P61019',\n 'Q05932',\n 'Q6UY14',\n 'Q8TBC4',\n 'P15692',\n 'Q14031',\n 'P57764',\n 'P04070',\n 'P45984',\n 'A4D1S5',\n 'Q96RQ3',\n 'P55058',\n 'Q14118',\n 'P01111',\n 'Q86Y07',\n 'O95835',\n 'P28482',\n 'O00459',\n 'P07947',\n 'Q8N163',\n 'Q9UIW2',\n 'P52799',\n 'P46976',\n 'P11142',\n 'Q12834',\n 'P16112',\n 'O43353',\n 'Q14155',\n 'P16234',\n 'P69905',\n 'O43559',\n 'P35754',\n 'Q02880',\n 'P02751',\n 'O15232',\n 'Q6IQ22',\n 'Q16566',\n 'P98155',\n 'Q9UL26',\n 'Q53T94',\n 'Q13099',\n 'Q9H0U4',\n 'P18615',\n 'P18850',\n 'P0C0L4',\n 'P15056',\n 'Q71DI3',\n 'Q9UPP1',\n 'P16410',\n 'P20338',\n 'Q8NFW1',\n 'Q9GZT5',\n 'P16104',\n 'Q04759',\n 'Q7Z434',\n 'O00482',\n 'P14598',\n 'Q9NQC7',\n 'O00391',\n 'Q15843',\n 'O43852',\n 'P01892',\n 'O75525',\n 'Q9Y6K1',\n 'O95644',\n 'P07585',\n 'Q6UX39',\n 'Q9Y6H5',\n 'Q86XL3',\n 'Q8N3U4',\n 'Q13950',\n 'Q96IF1',\n 'Q8N0Z6',\n 'P00738',\n 'Q96ST3',\n 'Q8IYD8',\n 'Q92769',\n 'P11802',\n 'P42262',\n 'Q13233',\n 'Q96JH7',\n 'O95498',\n 'Q9MY60',\n 'O00401',\n 'P54132',\n 'Q6NXG1',\n 'O75582',\n 'Q08881',\n 'Q15021',\n 'P12111',\n 'Q15418',\n 'O95613',\n 'P62837',\n 'Q96T51',\n 'Q14114',\n 'P0C5Y9',\n 'Q16644',\n 'Q9BVL2',\n 'P35226',\n 'P82987',\n 'Q96A83',\n 'Q00534',\n 'Q99466',\n 'O60260',\n 'Q13591',\n ...}"
     },
     "execution_count": 20,
     "metadata": {},
     "output_type": "execute_result"
    }
   ],
   "source": [
    "# Select proteins with multiple proteoforms\n",
    "\n",
    "selected_proteins = set(df[\"Protein\"].unique())\n",
    "selected_proteins\n",
    "\n",
    "# Select proteins that do not participate in many diseases\n",
    "\n"
   ],
   "metadata": {
    "collapsed": false,
    "pycharm": {
     "name": "#%% Select proteins proteins to filter diseases\n"
    }
   }
  },
  {
   "cell_type": "code",
   "execution_count": 21,
   "outputs": [
    {
     "data": {
      "text/plain": "{'3-hydroxy-1-methylpropylmercapturic acid',\n 'ADAMTS13 protein, human',\n 'Abdominal Fat',\n 'Acute Coronary Syndrome',\n 'Adenocarcinoma Of Esophagus',\n 'Adenocarcinoma of lung',\n 'Adiponectin',\n 'Age of Onset',\n 'Aggression',\n 'Alanine Transaminase',\n 'Albuminuria',\n 'Alcohol Drinking',\n 'Alkaline Phosphatase',\n 'Alopecia',\n 'Alopecia Areata',\n 'Amino Acids',\n 'Amyloid beta-Peptides',\n 'Amyloidosis, Cerebral, with Spongiform Encephalopathy',\n 'Amyotrophic Lateral Sclerosis',\n 'Amyotrophic lateral sclerosis 1',\n 'Anemia',\n 'Angiography',\n 'Angiopoietin-2',\n 'Angiotensin-Converting Enzyme Inhibitors',\n 'Anthropometry',\n 'Anticoagulants',\n 'Antidepressive Agents',\n 'Antineoplastic Agents',\n 'Aorta',\n 'Aortic Aneurysm, Abdominal',\n 'Aortic Aneurysm, Thoracic',\n 'Apolipoproteins B',\n 'Apolipoproteins E',\n 'Arterial Pressure',\n 'Arthritis, Juvenile',\n 'Asparaginase',\n 'Astigmatism',\n 'Atrial Fibrillation',\n 'Attention Deficit Disorder with Hyperactivity',\n 'Autistic Disorder',\n 'Autoantibodies',\n 'Autoimmune Diseases',\n 'Autosomal dominant compelling helio ophthalmic outburst syndrome',\n 'Barrett Esophagus',\n 'Betaine',\n 'Bilirubin',\n 'Bipolar Disorder',\n 'Blood Cells',\n 'Blood Coagulation Factors',\n 'Blood Flow Velocity',\n 'Blood Proteins',\n 'Body Fat Distribution',\n 'Body Weights and Measures',\n 'Brain',\n 'Breast',\n 'Bronchodilator Agents',\n 'Bupropion',\n 'Butyrylcholinesterase',\n 'Carcinoembryonic Antigen',\n 'Carcinoma, Endometrioid',\n 'Carcinoma, Non-Small-Cell Lung',\n 'Carcinoma, Renal Cell',\n 'Carcinoma, Squamous Cell',\n 'Cardiomegaly',\n 'Cardiovascular Diseases',\n 'Carotid Artery Diseases',\n 'Cartilage',\n 'Celiac Disease',\n 'Cerebral Cortex',\n 'Cerebrospinal Fluid',\n 'Ceruloplasmin',\n 'Cetuximab',\n 'Chemical and Drug Induced Liver Injury',\n 'Chemokine CCL2',\n 'Child Development Disorders, Pervasive',\n 'Chin',\n 'Cholangitis, Sclerosing',\n 'Cisplatin',\n 'Cleft Lip',\n 'Cleft Palate',\n 'Clinical Laboratory Techniques',\n 'Coffee',\n 'Cognition Disorders',\n 'Cognitive Dysfunction',\n 'Common Variable Immunodeficiency',\n 'Complement C3',\n 'Complement C4',\n 'Corneal Pachymetry',\n 'Corneal Topography',\n 'Coronary Aneurysm',\n 'Coronary Artery Disease',\n 'Creatinine',\n 'Creutzfeldt-Jakob Syndrome',\n 'Crown-Rump Length',\n 'Cystatin C',\n 'Cystatins',\n 'Cystic Fibrosis',\n 'Cytokines',\n 'DNA Methylation',\n 'Deafness, Aminoglycoside-Induced',\n 'Death, Sudden, Cardiac',\n 'Deglutition Disorders',\n 'Dehydroepiandrosterone',\n 'Dementia, Vascular',\n 'Depressive Disorder',\n 'Diabetes Mellitus',\n 'Diagnostic Techniques, Cardiovascular',\n 'Disease-Free Survival',\n 'Dupuytren Contracture',\n 'Dystonia',\n 'E-Selectin',\n 'Emphysema',\n 'Endometrial Neoplasms',\n 'Endometriosis',\n 'Endothelial Growth Factors',\n 'Eosinophils',\n 'Epilepsy, Generalized',\n 'Esophageal Neoplasms',\n 'Esophageal Squamous Cell Carcinoma',\n 'Essential Tremor',\n 'Eye Color',\n 'Eyebrows',\n 'Face',\n 'Factor VII',\n 'Fetal Hemoglobin',\n 'Fibrinogen',\n 'Fluorescence',\n 'Follicle Stimulating Hormone',\n 'Forced Expiratory Volume',\n 'Fractures, Bone',\n 'GRN protein, human',\n 'Gallbladder Diseases',\n 'Genotype',\n 'Glaucoma',\n 'Glaucoma, Angle-Closure',\n 'Glaucoma, Open-Angle',\n 'Glioblastoma',\n 'Glioma',\n 'Glomerulosclerosis, Focal Segmental',\n 'Graves Disease',\n 'HER2(776-788)',\n 'Hair',\n 'Hair Color',\n 'Hashimoto Disease',\n 'Health',\n 'Heart Failure',\n 'Heart Function Tests',\n 'Helicobacter Infections',\n 'Hematocrit',\n 'Hematologic Tests',\n 'Hemochromatosis',\n 'Hemoglobin A, Glycosylated',\n 'Hemoglobin A2',\n 'Hemoglobins',\n 'Hepcidins',\n 'Hernia, Inguinal',\n 'Hippocampus',\n 'Hirschsprung Disease',\n 'Homocysteine',\n 'Hormones',\n 'Hydroxymethylglutaryl CoA Reductases',\n 'Hypersensitivity',\n 'Hypertriglyceridemia',\n 'Hypertrophy, Left Ventricular',\n 'Hypospadias',\n 'Hypothyroidism',\n 'IL1RL1 protein, human',\n 'Idiopathic Pulmonary Fibrosis',\n 'Immunoglobulin M',\n 'Immunoglobulins',\n 'Influenza A Virus, H1N1 Subtype',\n 'Insulin',\n 'Insulin Resistance',\n 'Insulin-Like Growth Factor Binding Protein 3',\n 'Insulin-Like Growth Factor I',\n 'Interferon-alpha',\n 'Interleukin-18',\n 'Interleukin-6',\n 'Intervertebral disc disease',\n 'Intracranial Aneurysm',\n 'Intraocular Pressure',\n 'Iron',\n 'Iron-Binding Proteins',\n 'Joint Instability',\n 'Leukocyte Count',\n 'Lewy Bodies',\n 'Lewy Body Disease',\n 'Lipids',\n 'Lipoprotein(a)',\n 'Lipoproteins',\n 'Lipoproteins, VLDL',\n 'Liver Diseases',\n 'Longevity',\n 'Lung Diseases',\n 'Lung Diseases, Interstitial',\n 'Lung Neoplasms',\n 'Lupus Erythematosus, Cutaneous',\n 'Macular Degeneration',\n 'Magnesium',\n 'Malaria',\n 'Maximal Midexpiratory Flow Rate',\n 'Mean Platelet Volume',\n 'Melanoma',\n 'Menopause',\n 'Menstruation',\n 'Mental Competency',\n 'Metabolic Syndrome X',\n 'Microbiota',\n 'Migraine Disorders',\n 'Migraine without Aura',\n 'Mood Disorders',\n 'Mortality',\n 'Mouth Abnormalities',\n 'Mucocutaneous Lymph Node Syndrome',\n 'Myasthenia Gravis',\n 'Myeloproliferative Disorders',\n 'Myocardial Infarction',\n 'Myopia',\n 'Myopia, Degenerative',\n 'Neoplasms',\n 'Neuroblastoma',\n 'Neuroimaging',\n 'Neuroticism',\n 'Neutrophils',\n 'Nose',\n 'Obesity',\n 'Odontogenesis',\n 'Optic Disk',\n 'Osteitis Deformans',\n 'Osteoarthritis',\n 'Otitis Media',\n 'Ovarian Neoplasms',\n 'Pancreatic Carcinoma',\n 'Pancreatic Neoplasms',\n 'Pancreatitis',\n 'Partial Thromboplastin Time',\n 'Peripheral Nervous System Diseases',\n 'Peroxidases',\n 'Plasminogen Activator Inhibitor 1',\n 'Pneumoconiosis',\n 'Polychlorinated Biphenyls',\n 'Polycystic Ovary Syndrome',\n 'Precursor B-Cell Lymphoblastic Leukemia-Lymphoma',\n 'Precursor Cell Lymphoblastic Leukemia-Lymphoma',\n 'Primary amyloidosis',\n 'Prognosis',\n 'Prostate-Specific Antigen',\n 'Protein C',\n 'Pulmonary Artery',\n 'Pulmonary Embolism',\n 'Pulse',\n 'Putamen',\n 'Pyloric Stenosis, Hypertrophic',\n 'Receptors, Interleukin-6',\n 'Receptors, Leptin',\n 'Receptors, Tumor Necrosis Factor, Type II',\n 'Refraction, Ocular',\n 'Refractive Errors',\n 'Renal Insufficiency, Chronic',\n 'Renin',\n 'Reproductive Behavior',\n 'Respiratory System',\n 'Reverse Transcriptase Inhibitors',\n 'Rhinitis, Allergic, Seasonal',\n 'S-(3-hydroxypropyl)cysteine N-acetate',\n 'Selenium',\n 'Serum Globulins',\n 'Sex Characteristics',\n 'Sex Hormone-Binding Globulin',\n 'Sex Ratio',\n 'Silicon Compounds',\n 'Skin Pigmentation',\n 'Sleep',\n 'Spondylitis, Ankylosing',\n 'Stomach Neoplasms',\n 'Substance-Related Disorders',\n 'Sulfonylurea Compounds',\n 'Suntan',\n 'Supranuclear Palsy, Progressive',\n 'Survival',\n 'Telomere',\n 'Testicular Germ Cell Tumor',\n 'Tetralogy of Fallot',\n 'Thrombosis',\n 'Thyroid Diseases',\n 'Thyroid Neoplasms',\n 'Thyrotropin',\n 'Tissue Plasminogen Activator',\n 'Toluene 2,4-Diisocyanate',\n 'Tooth Eruption',\n 'Tourette Syndrome',\n 'Transferrin',\n 'Transplants',\n 'Trypanosoma cruzi',\n 'Tuberculosis',\n 'Tumor Necrosis Factors',\n 'Uric Acid',\n 'Urinalysis',\n 'Urinary Bladder Neoplasms',\n 'Urine',\n 'Varicose Veins',\n 'Vascular Calcification',\n 'Vascular Endothelial Growth Factors',\n 'Vascular Stiffness',\n 'Vitamin D',\n 'Vitamin K',\n 'Voice',\n 'Wet Macular Degeneration',\n 'White Matter',\n 'alpha-carotene',\n 'amyloid beta-protein (1-42)',\n 'apolipoprotein A-IV',\n 'fibrinogen D fragment',\n 'gamma-Glutamyltransferase',\n 'lipoprotein A-I',\n 'monocyte chemoattractant protein 1 (66-77)',\n 'oxidized low density lipoprotein',\n 'pro-brain natriuretic peptide (1-76)',\n 'tau Proteins',\n 'temozolomide',\n 'thyroid microsomal antibodies'}"
     },
     "execution_count": 21,
     "metadata": {},
     "output_type": "execute_result"
    }
   ],
   "source": [
    "selected_diseases = set()\n",
    "for disease, proteins in map_disease_to_proteins.items():\n",
    "    if proteins & selected_proteins:\n",
    "        selected_diseases.add(disease)\n",
    "selected_diseases"
   ],
   "metadata": {
    "collapsed": false,
    "pycharm": {
     "name": "#%% Select diseases with at least one protein with multiple proteoforms\n"
    }
   }
  },
  {
   "cell_type": "code",
   "execution_count": 22,
   "outputs": [
    {
     "data": {
      "text/plain": "321"
     },
     "execution_count": 22,
     "metadata": {},
     "output_type": "execute_result"
    }
   ],
   "source": [
    "len(selected_diseases)"
   ],
   "metadata": {
    "collapsed": false,
    "pycharm": {
     "name": "#%%\n"
    }
   }
  },
  {
   "cell_type": "code",
   "source": [
    "\n"
   ],
   "metadata": {
    "collapsed": false,
    "pycharm": {
     "name": "#%%\n"
    }
   },
   "execution_count": 22,
   "outputs": []
  },
  {
   "cell_type": "code",
   "execution_count": 23,
   "outputs": [],
   "source": [
    "\n",
    "file_vertices = \"resources/Reactome/interactome_indexed_vertices.tsv\"\n",
    "file_edges = \"resources/Reactome/interactome_edges.tsv\"\n",
    "file_indexes = \"resources/Reactome/interactome_vertices\"\n",
    "file_proteins_to_genes = \"resources/Reactome/mapping_proteins_to_genes.tsv\"\n",
    "file_proteins_to_proteoforms = \"resources/Reactome/mapping_proteins_to_proteoforms.tsv\"\n",
    "output_path = \"resources/PheGenI/modules/\""
   ],
   "metadata": {
    "collapsed": false,
    "pycharm": {
     "name": "#%% Set file locations\n"
    }
   }
  },
  {
   "cell_type": "code",
   "execution_count": 23,
   "outputs": [],
   "source": [],
   "metadata": {
    "collapsed": false,
    "pycharm": {
     "name": "#%% Compile and run program\n"
    }
   }
  },
  {
   "cell_type": "code",
   "execution_count": 24,
   "outputs": [],
   "source": [
    "\n",
    "pass\n",
    "# Generates module files: gene_modules.tsv, protein_modules.tsv and proteoform_modules.tsv\n",
    "# Generates single module files at each level: gene, protein and proteoform file for each trait\n",
    "# Module sizes for genes, protein and proteoform levels\n",
    "# Variation in module sizes when going from one level to the other\n",
    "# Three files (for genes, proteins and proteoforms) with the Overlap similarity of each \n",
    "# pair of traits.\n",
    "# Creates a file with a selection of trait pair examples which show decrease in the overlap."
   ],
   "metadata": {
    "collapsed": false,
    "pycharm": {
     "name": "#%%\n"
    }
   }
  },
  {
   "cell_type": "code",
   "execution_count": 25,
   "outputs": [
    {
     "name": "stdout",
     "output_type": "stream",
     "text": [
      " Volume in drive C is Windows\r\n",
      " Volume Serial Number is EC1B-53E2\r\n",
      "\r\n",
      " Directory of c:\\git\\pathwayanalysisplatform\\proteoformnetworks\r\n",
      "\r\n",
      "06/01/2021  10:04 PM    <DIR>          .\r\n",
      "06/01/2021  10:04 PM    <DIR>          ..\r\n",
      "05/07/2020  02:28 PM                73 .env\r\n",
      "05/16/2021  10:11 AM               846 .gitignore\r\n",
      "05/16/2021  10:10 AM    <DIR>          .idea\r\n",
      "05/07/2020  02:23 PM    <DIR>          .vscode\r\n",
      "06/28/2021  10:46 PM    <DIR>          build\r\n",
      "06/02/2021  08:44 PM    <DIR>          figures\r\n",
      "10/11/2019  09:21 PM            11,359 LICENSE\r\n",
      "10/11/2019  09:21 PM               414 README.md\r\n",
      "11/13/2020  12:17 AM    <DIR>          reports\r\n",
      "04/23/2020  10:52 PM    <DIR>          resources\r\n",
      "10/11/2019  09:21 PM    <DIR>          src\r\n",
      "11/09/2019  05:48 PM               618 Untitled-1.txt\r\n",
      "03/25/2021  07:43 PM    <DIR>          venv\r\n",
      "               5 File(s)         13,310 bytes\r\n",
      "              10 Dir(s)  421,234,585,600 bytes free\r\n",
      "\n"
     ]
    }
   ],
   "source": [
    "args = {\n",
    "    \"modules_file\": \"resources/PheGenI/PheGenI_Association_genome_wide_significant.txt\",\n",
    "    \"gene_vertices\": \"resources/Reactome/genes_vertices.tsv\",\n",
    "    \"protein_vertices\": \"resources/Reactome/proteins_vertices.tsv\",\n",
    "    \"proteoform_vertices\": \"resources/Reactome/proteoforms_vertices.tsv\",\n",
    "    \"small_molecules_vertices\": \"resources/Reactome/proteoforms_small_molecules_vertices.tsv\",\n",
    "    \"gene_edges\": \"resources/Reactome/genes_interactions.tsv\",\n",
    "    \"protein_edges\": \"resources/Reactome/proteins_interactions.tsv\",\n",
    "    \"proteoform_edges\": \"resources/Reactome/proteoforms_interactions.tsv\",\n",
    "    \"proteins_to_genes\": \"resources/UniProt/mapping_proteins_to_genes.tsv\",\n",
    "    \"proteins_to_proteoforms\": \"resources/UniProt/mapping_proteins_to_proteoforms.tsv\",\n",
    "    \"output_path\": \"reports/All_modules/\"\n",
    "}\n",
    "\n",
    "result = subprocess.check_output(\"dir\", stderr=subprocess.STDOUT, shell=True)\n",
    "\n",
    "print(result.decode())"
   ],
   "metadata": {
    "collapsed": false,
    "pycharm": {
     "name": "#%%\n"
    }
   }
  },
  {
   "cell_type": "markdown",
   "source": [
    "## Compare disease modules accross levels"
   ],
   "metadata": {
    "collapsed": false,
    "pycharm": {
     "name": "#%% md\n"
    }
   }
  },
  {
   "cell_type": "code",
   "execution_count": 26,
   "outputs": [
    {
     "ename": "FileNotFoundError",
     "evalue": "[Errno 2] No such file or directory: 'reports/All_modules/module_sizes_genes.tsv'",
     "output_type": "error",
     "traceback": [
      "\u001B[1;31m---------------------------------------------------------------------------\u001B[0m",
      "\u001B[1;31mFileNotFoundError\u001B[0m                         Traceback (most recent call last)",
      "\u001B[1;32m<ipython-input-26-c6b8a3a724a6>\u001B[0m in \u001B[0;36m<module>\u001B[1;34m\u001B[0m\n\u001B[1;32m----> 1\u001B[1;33m \u001B[0msizes_dict_connected\u001B[0m \u001B[1;33m=\u001B[0m \u001B[1;33m{\u001B[0m\u001B[0mlevel\u001B[0m\u001B[1;33m:\u001B[0m \u001B[0mpd\u001B[0m\u001B[1;33m.\u001B[0m\u001B[0mread_csv\u001B[0m\u001B[1;33m(\u001B[0m\u001B[1;34mf\"reports/All_modules/module_sizes_{level}.tsv\"\u001B[0m\u001B[1;33m,\u001B[0m \u001B[0msep\u001B[0m\u001B[1;33m=\u001B[0m\u001B[1;34m\"\\t\"\u001B[0m\u001B[1;33m)\u001B[0m \u001B[1;32mfor\u001B[0m \u001B[0mlevel\u001B[0m \u001B[1;32min\u001B[0m \u001B[0mLEVELS\u001B[0m\u001B[1;33m}\u001B[0m\u001B[1;33m\u001B[0m\u001B[1;33m\u001B[0m\u001B[0m\n\u001B[0m\u001B[0;32m      2\u001B[0m \u001B[0msizes_dict_disconnected\u001B[0m \u001B[1;33m=\u001B[0m \u001B[1;33m{\u001B[0m\u001B[0mlevel\u001B[0m\u001B[1;33m:\u001B[0m \u001B[0mpd\u001B[0m\u001B[1;33m.\u001B[0m\u001B[0mread_csv\u001B[0m\u001B[1;33m(\u001B[0m\u001B[1;34mf\"reports/modules_keep_disconnected/module_sizes_{level}.tsv\"\u001B[0m\u001B[1;33m,\u001B[0m \u001B[0msep\u001B[0m\u001B[1;33m=\u001B[0m\u001B[1;34m\"\\t\"\u001B[0m\u001B[1;33m)\u001B[0m \u001B[1;32mfor\u001B[0m \u001B[0mlevel\u001B[0m \u001B[1;32min\u001B[0m \u001B[0mLEVELS\u001B[0m\u001B[1;33m}\u001B[0m\u001B[1;33m\u001B[0m\u001B[1;33m\u001B[0m\u001B[0m\n\u001B[0;32m      3\u001B[0m \u001B[1;32mfor\u001B[0m \u001B[0mlevel\u001B[0m \u001B[1;32min\u001B[0m \u001B[0mLEVELS\u001B[0m\u001B[1;33m:\u001B[0m\u001B[1;33m\u001B[0m\u001B[1;33m\u001B[0m\u001B[0m\n\u001B[0;32m      4\u001B[0m     \u001B[0mprint\u001B[0m\u001B[1;33m(\u001B[0m\u001B[1;34mf\"\\n{level}\"\u001B[0m\u001B[1;33m)\u001B[0m\u001B[1;33m\u001B[0m\u001B[1;33m\u001B[0m\u001B[0m\n\u001B[0;32m      5\u001B[0m     \u001B[0mprint\u001B[0m\u001B[1;33m(\u001B[0m\u001B[0msizes_dict_connected\u001B[0m\u001B[1;33m[\u001B[0m\u001B[0mlevel\u001B[0m\u001B[1;33m]\u001B[0m\u001B[1;33m.\u001B[0m\u001B[0mdescribe\u001B[0m\u001B[1;33m(\u001B[0m\u001B[1;33m)\u001B[0m\u001B[1;33m)\u001B[0m\u001B[1;33m\u001B[0m\u001B[1;33m\u001B[0m\u001B[0m\n",
      "\u001B[1;32m<ipython-input-26-c6b8a3a724a6>\u001B[0m in \u001B[0;36m<dictcomp>\u001B[1;34m(.0)\u001B[0m\n\u001B[1;32m----> 1\u001B[1;33m \u001B[0msizes_dict_connected\u001B[0m \u001B[1;33m=\u001B[0m \u001B[1;33m{\u001B[0m\u001B[0mlevel\u001B[0m\u001B[1;33m:\u001B[0m \u001B[0mpd\u001B[0m\u001B[1;33m.\u001B[0m\u001B[0mread_csv\u001B[0m\u001B[1;33m(\u001B[0m\u001B[1;34mf\"reports/All_modules/module_sizes_{level}.tsv\"\u001B[0m\u001B[1;33m,\u001B[0m \u001B[0msep\u001B[0m\u001B[1;33m=\u001B[0m\u001B[1;34m\"\\t\"\u001B[0m\u001B[1;33m)\u001B[0m \u001B[1;32mfor\u001B[0m \u001B[0mlevel\u001B[0m \u001B[1;32min\u001B[0m \u001B[0mLEVELS\u001B[0m\u001B[1;33m}\u001B[0m\u001B[1;33m\u001B[0m\u001B[1;33m\u001B[0m\u001B[0m\n\u001B[0m\u001B[0;32m      2\u001B[0m \u001B[0msizes_dict_disconnected\u001B[0m \u001B[1;33m=\u001B[0m \u001B[1;33m{\u001B[0m\u001B[0mlevel\u001B[0m\u001B[1;33m:\u001B[0m \u001B[0mpd\u001B[0m\u001B[1;33m.\u001B[0m\u001B[0mread_csv\u001B[0m\u001B[1;33m(\u001B[0m\u001B[1;34mf\"reports/modules_keep_disconnected/module_sizes_{level}.tsv\"\u001B[0m\u001B[1;33m,\u001B[0m \u001B[0msep\u001B[0m\u001B[1;33m=\u001B[0m\u001B[1;34m\"\\t\"\u001B[0m\u001B[1;33m)\u001B[0m \u001B[1;32mfor\u001B[0m \u001B[0mlevel\u001B[0m \u001B[1;32min\u001B[0m \u001B[0mLEVELS\u001B[0m\u001B[1;33m}\u001B[0m\u001B[1;33m\u001B[0m\u001B[1;33m\u001B[0m\u001B[0m\n\u001B[0;32m      3\u001B[0m \u001B[1;32mfor\u001B[0m \u001B[0mlevel\u001B[0m \u001B[1;32min\u001B[0m \u001B[0mLEVELS\u001B[0m\u001B[1;33m:\u001B[0m\u001B[1;33m\u001B[0m\u001B[1;33m\u001B[0m\u001B[0m\n\u001B[0;32m      4\u001B[0m     \u001B[0mprint\u001B[0m\u001B[1;33m(\u001B[0m\u001B[1;34mf\"\\n{level}\"\u001B[0m\u001B[1;33m)\u001B[0m\u001B[1;33m\u001B[0m\u001B[1;33m\u001B[0m\u001B[0m\n\u001B[0;32m      5\u001B[0m     \u001B[0mprint\u001B[0m\u001B[1;33m(\u001B[0m\u001B[0msizes_dict_connected\u001B[0m\u001B[1;33m[\u001B[0m\u001B[0mlevel\u001B[0m\u001B[1;33m]\u001B[0m\u001B[1;33m.\u001B[0m\u001B[0mdescribe\u001B[0m\u001B[1;33m(\u001B[0m\u001B[1;33m)\u001B[0m\u001B[1;33m)\u001B[0m\u001B[1;33m\u001B[0m\u001B[1;33m\u001B[0m\u001B[0m\n",
      "\u001B[1;32mc:\\git\\pathwayanalysisplatform\\proteoformnetworks\\venv\\lib\\site-packages\\pandas\\io\\parsers.py\u001B[0m in \u001B[0;36mread_csv\u001B[1;34m(filepath_or_buffer, sep, delimiter, header, names, index_col, usecols, squeeze, prefix, mangle_dupe_cols, dtype, engine, converters, true_values, false_values, skipinitialspace, skiprows, skipfooter, nrows, na_values, keep_default_na, na_filter, verbose, skip_blank_lines, parse_dates, infer_datetime_format, keep_date_col, date_parser, dayfirst, cache_dates, iterator, chunksize, compression, thousands, decimal, lineterminator, quotechar, quoting, doublequote, escapechar, comment, encoding, dialect, error_bad_lines, warn_bad_lines, delim_whitespace, low_memory, memory_map, float_precision, storage_options)\u001B[0m\n\u001B[0;32m    608\u001B[0m     \u001B[0mkwds\u001B[0m\u001B[1;33m.\u001B[0m\u001B[0mupdate\u001B[0m\u001B[1;33m(\u001B[0m\u001B[0mkwds_defaults\u001B[0m\u001B[1;33m)\u001B[0m\u001B[1;33m\u001B[0m\u001B[1;33m\u001B[0m\u001B[0m\n\u001B[0;32m    609\u001B[0m \u001B[1;33m\u001B[0m\u001B[0m\n\u001B[1;32m--> 610\u001B[1;33m     \u001B[1;32mreturn\u001B[0m \u001B[0m_read\u001B[0m\u001B[1;33m(\u001B[0m\u001B[0mfilepath_or_buffer\u001B[0m\u001B[1;33m,\u001B[0m \u001B[0mkwds\u001B[0m\u001B[1;33m)\u001B[0m\u001B[1;33m\u001B[0m\u001B[1;33m\u001B[0m\u001B[0m\n\u001B[0m\u001B[0;32m    611\u001B[0m \u001B[1;33m\u001B[0m\u001B[0m\n\u001B[0;32m    612\u001B[0m \u001B[1;33m\u001B[0m\u001B[0m\n",
      "\u001B[1;32mc:\\git\\pathwayanalysisplatform\\proteoformnetworks\\venv\\lib\\site-packages\\pandas\\io\\parsers.py\u001B[0m in \u001B[0;36m_read\u001B[1;34m(filepath_or_buffer, kwds)\u001B[0m\n\u001B[0;32m    460\u001B[0m \u001B[1;33m\u001B[0m\u001B[0m\n\u001B[0;32m    461\u001B[0m     \u001B[1;31m# Create the parser.\u001B[0m\u001B[1;33m\u001B[0m\u001B[1;33m\u001B[0m\u001B[1;33m\u001B[0m\u001B[0m\n\u001B[1;32m--> 462\u001B[1;33m     \u001B[0mparser\u001B[0m \u001B[1;33m=\u001B[0m \u001B[0mTextFileReader\u001B[0m\u001B[1;33m(\u001B[0m\u001B[0mfilepath_or_buffer\u001B[0m\u001B[1;33m,\u001B[0m \u001B[1;33m**\u001B[0m\u001B[0mkwds\u001B[0m\u001B[1;33m)\u001B[0m\u001B[1;33m\u001B[0m\u001B[1;33m\u001B[0m\u001B[0m\n\u001B[0m\u001B[0;32m    463\u001B[0m \u001B[1;33m\u001B[0m\u001B[0m\n\u001B[0;32m    464\u001B[0m     \u001B[1;32mif\u001B[0m \u001B[0mchunksize\u001B[0m \u001B[1;32mor\u001B[0m \u001B[0miterator\u001B[0m\u001B[1;33m:\u001B[0m\u001B[1;33m\u001B[0m\u001B[1;33m\u001B[0m\u001B[0m\n",
      "\u001B[1;32mc:\\git\\pathwayanalysisplatform\\proteoformnetworks\\venv\\lib\\site-packages\\pandas\\io\\parsers.py\u001B[0m in \u001B[0;36m__init__\u001B[1;34m(self, f, engine, **kwds)\u001B[0m\n\u001B[0;32m    817\u001B[0m             \u001B[0mself\u001B[0m\u001B[1;33m.\u001B[0m\u001B[0moptions\u001B[0m\u001B[1;33m[\u001B[0m\u001B[1;34m\"has_index_names\"\u001B[0m\u001B[1;33m]\u001B[0m \u001B[1;33m=\u001B[0m \u001B[0mkwds\u001B[0m\u001B[1;33m[\u001B[0m\u001B[1;34m\"has_index_names\"\u001B[0m\u001B[1;33m]\u001B[0m\u001B[1;33m\u001B[0m\u001B[1;33m\u001B[0m\u001B[0m\n\u001B[0;32m    818\u001B[0m \u001B[1;33m\u001B[0m\u001B[0m\n\u001B[1;32m--> 819\u001B[1;33m         \u001B[0mself\u001B[0m\u001B[1;33m.\u001B[0m\u001B[0m_engine\u001B[0m \u001B[1;33m=\u001B[0m \u001B[0mself\u001B[0m\u001B[1;33m.\u001B[0m\u001B[0m_make_engine\u001B[0m\u001B[1;33m(\u001B[0m\u001B[0mself\u001B[0m\u001B[1;33m.\u001B[0m\u001B[0mengine\u001B[0m\u001B[1;33m)\u001B[0m\u001B[1;33m\u001B[0m\u001B[1;33m\u001B[0m\u001B[0m\n\u001B[0m\u001B[0;32m    820\u001B[0m \u001B[1;33m\u001B[0m\u001B[0m\n\u001B[0;32m    821\u001B[0m     \u001B[1;32mdef\u001B[0m \u001B[0mclose\u001B[0m\u001B[1;33m(\u001B[0m\u001B[0mself\u001B[0m\u001B[1;33m)\u001B[0m\u001B[1;33m:\u001B[0m\u001B[1;33m\u001B[0m\u001B[1;33m\u001B[0m\u001B[0m\n",
      "\u001B[1;32mc:\\git\\pathwayanalysisplatform\\proteoformnetworks\\venv\\lib\\site-packages\\pandas\\io\\parsers.py\u001B[0m in \u001B[0;36m_make_engine\u001B[1;34m(self, engine)\u001B[0m\n\u001B[0;32m   1048\u001B[0m             )\n\u001B[0;32m   1049\u001B[0m         \u001B[1;31m# error: Too many arguments for \"ParserBase\"\u001B[0m\u001B[1;33m\u001B[0m\u001B[1;33m\u001B[0m\u001B[1;33m\u001B[0m\u001B[0m\n\u001B[1;32m-> 1050\u001B[1;33m         \u001B[1;32mreturn\u001B[0m \u001B[0mmapping\u001B[0m\u001B[1;33m[\u001B[0m\u001B[0mengine\u001B[0m\u001B[1;33m]\u001B[0m\u001B[1;33m(\u001B[0m\u001B[0mself\u001B[0m\u001B[1;33m.\u001B[0m\u001B[0mf\u001B[0m\u001B[1;33m,\u001B[0m \u001B[1;33m**\u001B[0m\u001B[0mself\u001B[0m\u001B[1;33m.\u001B[0m\u001B[0moptions\u001B[0m\u001B[1;33m)\u001B[0m  \u001B[1;31m# type: ignore[call-arg]\u001B[0m\u001B[1;33m\u001B[0m\u001B[1;33m\u001B[0m\u001B[0m\n\u001B[0m\u001B[0;32m   1051\u001B[0m \u001B[1;33m\u001B[0m\u001B[0m\n\u001B[0;32m   1052\u001B[0m     \u001B[1;32mdef\u001B[0m \u001B[0m_failover_to_python\u001B[0m\u001B[1;33m(\u001B[0m\u001B[0mself\u001B[0m\u001B[1;33m)\u001B[0m\u001B[1;33m:\u001B[0m\u001B[1;33m\u001B[0m\u001B[1;33m\u001B[0m\u001B[0m\n",
      "\u001B[1;32mc:\\git\\pathwayanalysisplatform\\proteoformnetworks\\venv\\lib\\site-packages\\pandas\\io\\parsers.py\u001B[0m in \u001B[0;36m__init__\u001B[1;34m(self, src, **kwds)\u001B[0m\n\u001B[0;32m   1865\u001B[0m \u001B[1;33m\u001B[0m\u001B[0m\n\u001B[0;32m   1866\u001B[0m         \u001B[1;31m# open handles\u001B[0m\u001B[1;33m\u001B[0m\u001B[1;33m\u001B[0m\u001B[1;33m\u001B[0m\u001B[0m\n\u001B[1;32m-> 1867\u001B[1;33m         \u001B[0mself\u001B[0m\u001B[1;33m.\u001B[0m\u001B[0m_open_handles\u001B[0m\u001B[1;33m(\u001B[0m\u001B[0msrc\u001B[0m\u001B[1;33m,\u001B[0m \u001B[0mkwds\u001B[0m\u001B[1;33m)\u001B[0m\u001B[1;33m\u001B[0m\u001B[1;33m\u001B[0m\u001B[0m\n\u001B[0m\u001B[0;32m   1868\u001B[0m         \u001B[1;32massert\u001B[0m \u001B[0mself\u001B[0m\u001B[1;33m.\u001B[0m\u001B[0mhandles\u001B[0m \u001B[1;32mis\u001B[0m \u001B[1;32mnot\u001B[0m \u001B[1;32mNone\u001B[0m\u001B[1;33m\u001B[0m\u001B[1;33m\u001B[0m\u001B[0m\n\u001B[0;32m   1869\u001B[0m         \u001B[1;32mfor\u001B[0m \u001B[0mkey\u001B[0m \u001B[1;32min\u001B[0m \u001B[1;33m(\u001B[0m\u001B[1;34m\"storage_options\"\u001B[0m\u001B[1;33m,\u001B[0m \u001B[1;34m\"encoding\"\u001B[0m\u001B[1;33m,\u001B[0m \u001B[1;34m\"memory_map\"\u001B[0m\u001B[1;33m,\u001B[0m \u001B[1;34m\"compression\"\u001B[0m\u001B[1;33m)\u001B[0m\u001B[1;33m:\u001B[0m\u001B[1;33m\u001B[0m\u001B[1;33m\u001B[0m\u001B[0m\n",
      "\u001B[1;32mc:\\git\\pathwayanalysisplatform\\proteoformnetworks\\venv\\lib\\site-packages\\pandas\\io\\parsers.py\u001B[0m in \u001B[0;36m_open_handles\u001B[1;34m(self, src, kwds)\u001B[0m\n\u001B[0;32m   1360\u001B[0m         \u001B[0mLet\u001B[0m \u001B[0mthe\u001B[0m \u001B[0mreaders\u001B[0m \u001B[0mopen\u001B[0m \u001B[0mIOHanldes\u001B[0m \u001B[0mafter\u001B[0m \u001B[0mthey\u001B[0m \u001B[0mare\u001B[0m \u001B[0mdone\u001B[0m \u001B[1;32mwith\u001B[0m \u001B[0mtheir\u001B[0m \u001B[0mpotential\u001B[0m \u001B[0mraises\u001B[0m\u001B[1;33m.\u001B[0m\u001B[1;33m\u001B[0m\u001B[1;33m\u001B[0m\u001B[0m\n\u001B[0;32m   1361\u001B[0m         \"\"\"\n\u001B[1;32m-> 1362\u001B[1;33m         self.handles = get_handle(\n\u001B[0m\u001B[0;32m   1363\u001B[0m             \u001B[0msrc\u001B[0m\u001B[1;33m,\u001B[0m\u001B[1;33m\u001B[0m\u001B[1;33m\u001B[0m\u001B[0m\n\u001B[0;32m   1364\u001B[0m             \u001B[1;34m\"r\"\u001B[0m\u001B[1;33m,\u001B[0m\u001B[1;33m\u001B[0m\u001B[1;33m\u001B[0m\u001B[0m\n",
      "\u001B[1;32mc:\\git\\pathwayanalysisplatform\\proteoformnetworks\\venv\\lib\\site-packages\\pandas\\io\\common.py\u001B[0m in \u001B[0;36mget_handle\u001B[1;34m(path_or_buf, mode, encoding, compression, memory_map, is_text, errors, storage_options)\u001B[0m\n\u001B[0;32m    640\u001B[0m                 \u001B[0merrors\u001B[0m \u001B[1;33m=\u001B[0m \u001B[1;34m\"replace\"\u001B[0m\u001B[1;33m\u001B[0m\u001B[1;33m\u001B[0m\u001B[0m\n\u001B[0;32m    641\u001B[0m             \u001B[1;31m# Encoding\u001B[0m\u001B[1;33m\u001B[0m\u001B[1;33m\u001B[0m\u001B[1;33m\u001B[0m\u001B[0m\n\u001B[1;32m--> 642\u001B[1;33m             handle = open(\n\u001B[0m\u001B[0;32m    643\u001B[0m                 \u001B[0mhandle\u001B[0m\u001B[1;33m,\u001B[0m\u001B[1;33m\u001B[0m\u001B[1;33m\u001B[0m\u001B[0m\n\u001B[0;32m    644\u001B[0m                 \u001B[0mioargs\u001B[0m\u001B[1;33m.\u001B[0m\u001B[0mmode\u001B[0m\u001B[1;33m,\u001B[0m\u001B[1;33m\u001B[0m\u001B[1;33m\u001B[0m\u001B[0m\n",
      "\u001B[1;31mFileNotFoundError\u001B[0m: [Errno 2] No such file or directory: 'reports/All_modules/module_sizes_genes.tsv'"
     ]
    }
   ],
   "source": [
    "sizes_dict_connected = {level: pd.read_csv(f\"reports/All_modules/module_sizes_{level}.tsv\", sep=\"\\t\") for level in LEVELS}\n",
    "sizes_dict_disconnected = {level: pd.read_csv(f\"reports/modules_keep_disconnected/module_sizes_{level}.tsv\", sep=\"\\t\") for level in LEVELS}\n",
    "for level in LEVELS:\n",
    "    print(f\"\\n{level}\")\n",
    "    print(sizes_dict_connected[level].describe())\n",
    "    print(sizes_dict_disconnected[level].describe())\n",
    "    sizes_dict_connected[level][\"CONNECTEDNESS\"] = \"connected\"\n",
    "    sizes_dict_disconnected[level][\"CONNECTEDNESS\"] = \"disconnected\"\n",
    "\n",
    "sizes_df_connected = pd.concat(sizes_dict_connected, names=[\"level\", \"index\"])\n",
    "sizes_df_disconnected = pd.concat(sizes_dict_disconnected, names=[\"level\", \"index\"])\n",
    "# sizes_df[sizes_df.index.get_level_values(\"level\") == \"genes\"]\n",
    "# sizes_df = pd.concat([sizes_df_connected, sizes_dict_disconnected], names=[\"level\", \"index\"])\n",
    "# sizes_df\n",
    "sizes_df_connected[\"LEVEL\"] = sizes_df_connected.index.get_level_values(\"level\")\n",
    "sizes_df_disconnected[\"LEVEL\"] = sizes_df_disconnected.index.get_level_values(\"level\")\n",
    "sizes_df = pd.concat([sizes_df_connected, sizes_df_disconnected])\n",
    "sizes_df"
   ],
   "metadata": {
    "collapsed": false,
    "pycharm": {
     "name": "#%% Explore module sizes\n"
    }
   }
  },
  {
   "cell_type": "code",
   "execution_count": null,
   "outputs": [],
   "source": [
    "# Do the following plots for the All_modules in two cases: keeping disconnected nodes and removing them\n",
    "    # Jitter plot showing the sizes for genes, proteins and proteoforms\n",
    "    # Jitter plot showing the difference in size fom genes to proteins and from proteins to proteoforms.\n",
    "# sizes_df = pd.DataFrame()\n",
    "# for level in levels:\n",
    "#     sizes_df[f\"SIZES_{level.upper()}\"] = sizes_dict[level][\"SIZES\"]\n",
    "\n",
    "sns.set(style=\"ticks\")\n",
    "g = sns.FacetGrid(sizes_df, col=\"LEVEL\", height=4, aspect=.5, hue=\"LEVEL\", palette=\"Set2\")\n",
    "g.map(sns.barplot, \"CONNECTEDNESS\", \"SIZE\")\n",
    "plt.show()\n",
    "\n",
    "ax = sns.boxplot(x=\"SIZE\", y=\"LEVEL\", data=sizes_df_connected, whis=np.inf)\n",
    "ax = sns.stripplot(x=\"SIZE\", y=\"LEVEL\", data=sizes_df_connected, jitter=True, color=\".3\")\n",
    "plt.show()\n",
    "\n",
    "ax = sns.violinplot(x=\"SIZE\", y=\"LEVEL\", data=sizes_df_connected, inner=None, color=\".8\")\n",
    "ax = sns.stripplot(x=\"SIZE\", y=\"LEVEL\", data=sizes_df_connected, jitter=True)\n",
    "plt.show()\n",
    "\n",
    "g = sns.catplot(x=\"LEVEL\", y=\"SIZE\",\n",
    "                hue=\"LEVEL\", col=\"CONNECTEDNESS\",\n",
    "                data=sizes_df, kind=\"strip\",\n",
    "                jitter=True,\n",
    "                height=4, aspect=.7);\n",
    "plt.show()\n",
    "\n",
    "g = sns.catplot(x=\"CONNECTEDNESS\", y=\"SIZE\",\n",
    "                hue=\"CONNECTEDNESS\", col=\"LEVEL\",\n",
    "                data=sizes_df, kind=\"strip\",\n",
    "                jitter=True,\n",
    "                height=4, aspect=.7);\n",
    "plt.show()\n",
    "\n",
    "g = sns.catplot(x=\"SIZE\", y=\"LEVEL\", hue=\"CONNECTEDNESS\", data=sizes_df, kind=\"violin\")\n",
    "plt.show()\n",
    "\n",
    "g = sns.catplot(x=\"SIZE\", y=\"CONNECTEDNESS\", hue=\"LEVEL\", data=sizes_df, kind=\"violin\")\n",
    "plt.show()"
   ],
   "metadata": {
    "collapsed": false,
    "pycharm": {
     "name": "#%%\n"
    }
   }
  },
  {
   "cell_type": "code",
   "execution_count": null,
   "outputs": [],
   "source": [
    "# Calculate and plot size variation\n",
    "sizes_df = pd.concat(\n",
    "    [pd.read_csv(f\"reports/All_modules/module_sizes_{level}.tsv\", sep=\"\\t\", names=[\"MODULES\", f\"SIZE_{level.upper()}\"], header=0)[f\"SIZE_{level.upper()}\"] for level in LEVELS], \n",
    "    axis=1)\n",
    "\n",
    "sizes_df[f\"VARIATION_GENES_TO_PROTEINS\"] = sizes_df[\"SIZE_PROTEINS\"] - sizes_df[\"SIZE_GENES\"]\n",
    "sizes_df[f\"VARIATION_PROTEINS_TO_PROTEOFORMS\"] = sizes_df[\"SIZE_PROTEOFORMS\"] - sizes_df[\"SIZE_PROTEINS\"]\n",
    "\n",
    "sizes_df['PERCENTAGE_GENES_TO_PROTEINS'] = sizes_df['VARIATION_GENES_TO_PROTEINS']*100/sizes_df['SIZE_GENES']\n",
    "sizes_df['PERCENTAGE_PROTEINS_TO_PROTEOFORMS'] = sizes_df['VARIATION_PROTEINS_TO_PROTEOFORMS']*100/sizes_df['SIZE_PROTEINS']\n",
    "sizes_df.fillna(0, inplace=True)\n",
    "# sizes_df['PERCENTAGE_PROTEINS_TO_PROTEOFORMS'].unique()\n",
    "sizes_df"
   ],
   "metadata": {
    "collapsed": false,
    "pycharm": {
     "name": "#%% Explore module size variation when switching levels\n"
    }
   }
  },
  {
   "cell_type": "code",
   "execution_count": null,
   "outputs": [],
   "source": [
    "size_variation = pd.concat({\"GENES_TO_PROTEINS\":sizes_df[\"VARIATION_GENES_TO_PROTEINS\"], \n",
    "                            \"PROTEINS_TO_PROTEOFORMS\": sizes_df[f\"VARIATION_PROTEINS_TO_PROTEOFORMS\"]\n",
    "                           }, names=[\"STEP\", \"INDEX\"], axis=0)\n",
    "size_variation = size_variation.to_frame()\n",
    "size_variation[\"STEP\"] = size_variation.index.get_level_values(\"STEP\")\n",
    "size_variation.columns = [\"VARIATION\", \"STEP\"]\n",
    "\n",
    "size_variation"
   ],
   "metadata": {
    "collapsed": false,
    "pycharm": {
     "name": "#%% Plot size variation\n"
    }
   }
  },
  {
   "cell_type": "code",
   "execution_count": null,
   "outputs": [],
   "source": [
    "ax = sns.boxplot(x=\"VARIATION\", y=\"STEP\", data=size_variation, whis=np.inf)\n",
    "ax = sns.stripplot(x=\"VARIATION\", y=\"STEP\", data=size_variation,\n",
    "                   jitter=True, color=\".3\").set_title(\"SIZE VARIATION AT LEVEL TRANSITION\")\n",
    "plt.show()\n",
    "\n",
    "ax = sns.violinplot(x=\"STEP\", y=\"VARIATION\", data=size_variation, inner=None, color=\".8\")\n",
    "ax = sns.stripplot(x=\"STEP\", y=\"VARIATION\", data=size_variation, jitter=True).set_title(\"SIZE VARIATION AT LEVEL TRANSITION\")\n",
    "plt.show()"
   ],
   "metadata": {
    "collapsed": false,
    "pycharm": {
     "name": "#%%\n"
    }
   }
  },
  {
   "cell_type": "code",
   "execution_count": null,
   "outputs": [],
   "source": [
    "percentage_variation = pd.concat({\"GENES_TO_PROTEINS\":sizes_df[\"PERCENTAGE_GENES_TO_PROTEINS\"], \n",
    "                            \"PROTEINS_TO_PROTEOFORMS\": sizes_df[f\"PERCENTAGE_PROTEINS_TO_PROTEOFORMS\"]\n",
    "                           }, names=[\"STEP\", \"INDEX\"], axis=0)\n",
    "percentage_variation = percentage_variation.to_frame()\n",
    "percentage_variation[\"STEP\"] = percentage_variation.index.get_level_values(\"STEP\")\n",
    "percentage_variation.columns = [\"PERCENTAGE\", \"STEP\"]\n",
    "\n",
    "percentage_variation"
   ],
   "metadata": {
    "collapsed": false,
    "pycharm": {
     "name": "#%% Plot percentage variation\n"
    }
   }
  },
  {
   "cell_type": "code",
   "execution_count": null,
   "outputs": [],
   "source": [
    "ax = sns.boxplot(x=\"PERCENTAGE\", y=\"STEP\", data=percentage_variation, whis=np.inf)\n",
    "ax = sns.stripplot(x=\"PERCENTAGE\", y=\"STEP\", data=percentage_variation,\n",
    "                   jitter=True, color=\".3\").set_title(\"PERCENTAGE OF SIZE VARIATION AT LEVEL TRANSITION\")\n",
    "plt.show()\n",
    "\n",
    "ax = sns.violinplot(x=\"STEP\", y=\"PERCENTAGE\", data=percentage_variation, inner=None, color=\".8\")\n",
    "ax = sns.stripplot(x=\"STEP\", y=\"PERCENTAGE\", data=percentage_variation, jitter=True).set_title(\"PERCENTAGE OF SIZE VARIATION AT LEVEL TRANSITION\")\n",
    "plt.show()"
   ],
   "metadata": {
    "collapsed": false,
    "pycharm": {
     "name": "#%%\n"
    }
   }
  },
  {
   "cell_type": "markdown",
   "source": [
    "## Overlap analysis"
   ],
   "metadata": {
    "collapsed": false,
    "pycharm": {
     "name": "#%% md\n"
    }
   }
  },
  {
   "cell_type": "code",
   "execution_count": null,
   "outputs": [],
   "source": [
    "scores = {level: pd.read_csv(f\"reports/scores_{level}_overlap_similarity.tsv\", sep='\\t') for level in LEVELS}\n",
    "assert len({len(scores[level]) for level in LEVELS}) == 1, \"Error: the number of All_modules vary among levels.\""
   ],
   "metadata": {
    "collapsed": false,
    "pycharm": {
     "name": "#%% Read overlap scores off all levels\n"
    }
   }
  },
  {
   "cell_type": "code",
   "execution_count": null,
   "outputs": [],
   "source": [
    "import matplotlib.pyplot as plt\n",
    "\n",
    "bins = 250\n",
    "plt.figure(figsize=(13, 6), )\n",
    "for level in LEVELS:\n",
    "    sns.distplot(scores[level]['SCORE'] , hist = True, kde = True, kde_kws = {'linewidth': 1}, label=level, bins=bins)\n",
    "plt.ylim(0, 20)\n",
    "plt.legend(prop={'size': 16}, title = 'Overlap score density distribution')\n",
    "plt.title('Overlap score distribution')\n",
    "plt.xlabel('Overlap score')\n",
    "plt.ylabel('Density')\n",
    "plt.show()"
   ],
   "metadata": {
    "collapsed": false,
    "pycharm": {
     "name": "#%% Plot overlap scores\n"
    }
   }
  },
  {
   "cell_type": "code",
   "execution_count": null,
   "outputs": [],
   "source": [
    "df = pd.DataFrame(scores['genes'][['SCORE', 'OVERLAP_SIZE']])\n",
    "df.columns = ['SCORE_GENES', 'OVERLAP_SIZE_GENES']\n",
    "for level in ['proteins', 'proteoforms']:\n",
    "    df['OVERLAP_SIZE_' + level.upper()] = scores[level]['OVERLAP_SIZE']\n",
    "    df['SCORE_' + level.upper()] = scores[level]['SCORE']\n",
    "df['SCORE_VARIATION'] = df['SCORE_PROTEOFORMS'] - df['SCORE_GENES'] \n",
    "df['SIZE_PERCENTAGE_VARIATION'] = scores['genes'].apply(lambda x: sizes['PERCENTAGE_VARIATION'].loc[x['TRAIT1']] + sizes['PERCENTAGE_VARIATION'].loc[x['TRAIT2']], axis=1)\n",
    "df.index = scores['genes'].apply(lambda x: (x['TRAIT1'], x['TRAIT2']), axis=1)\n",
    "df"
   ],
   "metadata": {
    "collapsed": false,
    "pycharm": {
     "name": "#%% Calculate overlap score variation\n"
    }
   }
  },
  {
   "cell_type": "code",
   "execution_count": null,
   "outputs": [],
   "source": [
    "plt.figure(figsize=(13, 6))\n",
    "plt.scatter(df['SCORE_VARIATION'], df['SIZE_PERCENTAGE_VARIATION'], alpha=0.5)\n",
    "plt.title('Variation in size VS variation in overlap')\n",
    "plt.xlabel('Size percentage variation')\n",
    "plt.ylabel('Overlap variation')\n",
    "plt.show()"
   ],
   "metadata": {
    "collapsed": false,
    "pycharm": {
     "name": "#%% Plot size variation vs score variation\n"
    }
   }
  },
  {
   "cell_type": "code",
   "execution_count": null,
   "outputs": [],
   "source": [
    "min_overlap_size = 10\n",
    "max_overlap_size = 20\n",
    "\n",
    "overlap_data = {level: pd.read_csv(f\"reports/All_modules/pairs_overlap_data_{level}.tsv\") for level in LEVELS}\n"
   ],
   "metadata": {
    "collapsed": false,
    "pycharm": {
     "name": "#%% Select overlap examples where the overlap is between size range\n"
    }
   }
  },
  {
   "cell_type": "code",
   "execution_count": null,
   "outputs": [],
   "source": [],
   "metadata": {
    "collapsed": false,
    "pycharm": {
     "name": "#%% Plot: Variation in size VS variation in overlap\n"
    }
   }
  },
  {
   "cell_type": "code",
   "execution_count": null,
   "outputs": [],
   "source": [],
   "metadata": {
    "collapsed": false,
    "pycharm": {
     "name": "#%% Create a column with overlap coefficient variation across levels\n"
    }
   }
  },
  {
   "cell_type": "code",
   "execution_count": null,
   "outputs": [],
   "source": [
    "# NODE_OVERLAP_SIZE_VARIATION_GENES_TO_PROTEINS\n",
    "# NODE_OVERLAP_SIZE_VARIATION_PROTEINS_TO_PROTEOFORMS\n",
    "# NODE_INTERFACE_SIZE_VARIATION_GENES_TO_PROTEINS\n",
    "# NODE_INTERFACE_SIZE_VARIATION_PROTEINS_TO_PROTEOFORMS\n",
    "# NODE_INTERFACE_SIZE_VARIATION_GENES_TO"
   ],
   "metadata": {
    "collapsed": false,
    "pycharm": {
     "name": "#%% Create columns: \n"
    }
   }
  }
 ],
 "metadata": {
  "kernelspec": {
   "display_name": "Python 3",
   "language": "python",
   "name": "python3"
  },
  "language_info": {
   "codemirror_mode": {
    "name": "ipython",
    "version": 2
   },
   "file_extension": ".py",
   "mimetype": "text/x-python",
   "name": "python",
   "nbconvert_exporter": "python",
   "pygments_lexer": "ipython2",
   "version": "2.7.6"
  },
  "pycharm": {
   "stem_cell": {
    "cell_type": "raw",
    "source": [
     "# This file is the starting point for the whole project.\n",
     "\"\"\"\n",
     " The goal of this project is to study the differences between protein and proteoform \n",
     " interaction networks for functional analysis.\n",
     "\n",
     "\"\"\"  \n"
    ],
    "metadata": {
     "collapsed": false
    }
   }
  }
 },
 "nbformat": 4,
 "nbformat_minor": 0
}