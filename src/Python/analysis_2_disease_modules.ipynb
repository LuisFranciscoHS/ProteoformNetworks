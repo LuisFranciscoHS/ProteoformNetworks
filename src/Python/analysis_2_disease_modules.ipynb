{
 "cells": [
  {
   "cell_type": "markdown",
   "source": [
    "* Goal 1: Find examples that suggest the use of small molecules in the interaction networks\n",
    "* Goal 2: Show overview of the network topologies\n",
    "* Goal 3: Show overview of modifications of proteins in the interface of disease modules\n",
    "* Goal 4: Show overview of the disease module overlap\n",
    "\n",
    "- [X] Create interactomes\n",
    "    - [X] Interactomes without small molecules\n",
    "    - [X] Interactomes with small molecules\n",
    "- [ ] Show examples\n",
    "- [ ] Create some disease modules\n",
    "    - [X] Select multiform proteins\n",
    "    - [ ] Select diseases containing multiforms\n",
    "- [ ] A) Find pairs that overlap only with modified proteoforms\n",
    "- [ ] B) Find pairs that overlap at gene/protein level and not overlap at proteoform level\n",
    "    - [ ] Calculate overlap scores: node overlap, jaccard index, separation\n",
    "    - [ ] Make\n",
    "    - [ ] Plot overlap score distribution for all selected disease pairs\n",
    "    - [ ] Plot selected pairs"
   ],
   "metadata": {
    "collapsed": false
   }
  },
  {
   "cell_type": "markdown",
   "source": [
    "## Set up configuration"
   ],
   "metadata": {
    "collapsed": false
   }
  },
  {
   "cell_type": "code",
   "execution_count": 102,
   "outputs": [
    {
     "name": "stdout",
     "output_type": "stream",
     "text": [
      "The autoreload extension is already loaded. To reload it, use:\n",
      "  %reload_ext autoreload\n",
      "Working directory: c:\\git\\pathwayanalysisplatform\\proteoformnetworks\n"
     ]
    }
   ],
   "source": [
    "import itertools\n",
    "import random\n",
    "import subprocess\n",
    "\n",
    "import matplotlib.pyplot as plt\n",
    "import numpy as np\n",
    "import pandas as pd\n",
    "import seaborn as sns\n",
    "from numpy.core.tests.test_einsum import sizes\n",
    "\n",
    "import config\n",
    "from config import LEVELS, genes, proteins, proteoforms, GRAPHS_PATH, sm, no_sm, with_sm, with_unique_sm\n",
    "from datasets.phegeni.filter_genes import create_filtered_file\n",
    "from lib.dictionaries import read_dictionary_one_to_set, merge_dictionaries\n",
    "from lib.download import download_if_not_exists\n",
    "from lib.graph_database_access import get_query_result, get_participants, get_components\n",
    "from lib.networks import get_or_create_interaction_network, print_interactome_details, get_nodes_and_adjacent\n",
    "from queries import QUERY_GET_NUM_PROTEOFORMS_PER_PROTEIN\n",
    "from visualization.visualize_single_network import plot_interaction_network, Coloring\n",
    "\n",
    "%load_ext autoreload\n",
    "%autoreload 2\n",
    "%reload_ext autoreload\n",
    "\n",
    "config.set_root_wd()"
   ],
   "metadata": {
    "collapsed": false,
    "pycharm": {
     "name": "#%% Set up configuration\n"
    }
   }
  },
  {
   "cell_type": "markdown",
   "source": [
    "## Create disease modules"
   ],
   "metadata": {
    "collapsed": false
   }
  },
  {
   "cell_type": "code",
   "execution_count": 98,
   "outputs": [
    {
     "name": "stdout",
     "output_type": "stream",
     "text": [
      "PheGenI files READY\n",
      "Jensen Lab files READY\n"
     ]
    }
   ],
   "source": [
    "# PheGenI Phenotypes\n",
    "download_if_not_exists(\"resources/PheGenI/\", \n",
    "                       \"PheGenI_Association.txt\", \n",
    "                       \"https://www.ncbi.nlm.nih.gov/projects/gap/eqtl/EpiViewBE.cgi?type=dl.tab\",\n",
    "                       \"PheGenI All_modules\")\n",
    "print(\"PheGenI files READY\")\n",
    "\n",
    "# Filter\n",
    "create_filtered_file(\"resources/PheGenI/PheGenI_Association.txt\",\n",
    "                     \"resources/PheGenI/PheGenI_Association_genome_wide_significant.txt\",\n",
    "                     5e-8)\n",
    "\n",
    "# Jensen Lab Diseases\n",
    "download_if_not_exists(\"resources/Jensen/\",\n",
    "                       \"human_disease_textmining_filtered.tsv\",\n",
    "                       \"http://download.jensenlab.org/human_disease_textmining_filtered.tsv\",\n",
    "                       \"Jensen Lab Diseases\")\n",
    "print(\"Jensen Lab files READY\")"
   ],
   "metadata": {
    "collapsed": false,
    "pycharm": {
     "name": "#%% Download data to create disease modules\n"
    }
   }
  },
  {
   "cell_type": "code",
   "execution_count": 71,
   "outputs": [
    {
     "data": {
      "text/plain": "     Protein                                        Proteoforms  \\\n0     P0CG48  [[P0CG48], [P0CG48, 00134:152], [P0CG48, 00134...   \n1     P68431  [[P68431], [P68431, 00046:11, 00047:12, 00064:...   \n2     Q71DI3  [[Q71DI3], [Q71DI3, 00046:11, 00047:12, 00064:...   \n3     P02452  [[P02452], [P02452, 00037:null], [P02452, 0003...   \n4     P08123  [[P08123], [P08123, 00037:null], [P08123, 0003...   \n...      ...                                                ...   \n1486  Q9Y6K1                   [[Q9Y6K1], [Q9Y6K1, 01149:null]]   \n1487  Q9Y6Q2                   [[Q9Y6Q2], [Q9Y6Q2, 01150:null]]   \n1488  Q9Y6Q9                    [[Q9Y6Q9], [Q9Y6Q9, 00046:857]]   \n1489  Q9Y6W8                [[Q9Y6W8-1], [Q9Y6W8-1, 00048:180]]   \n1490  Q9Y6Y9          [[Q9Y6Y9], [Q9Y6Y9, 00160:26, 00160:114]]   \n\n      NumProteoforms  \n0                 82  \n1                 52  \n2                 48  \n3                 36  \n4                 36  \n...              ...  \n1486               2  \n1487               2  \n1488               2  \n1489               2  \n1490               2  \n\n[1491 rows x 3 columns]",
      "text/html": "<div>\n<style scoped>\n    .dataframe tbody tr th:only-of-type {\n        vertical-align: middle;\n    }\n\n    .dataframe tbody tr th {\n        vertical-align: top;\n    }\n\n    .dataframe thead th {\n        text-align: right;\n    }\n</style>\n<table border=\"1\" class=\"dataframe\">\n  <thead>\n    <tr style=\"text-align: right;\">\n      <th></th>\n      <th>Protein</th>\n      <th>Proteoforms</th>\n      <th>NumProteoforms</th>\n    </tr>\n  </thead>\n  <tbody>\n    <tr>\n      <th>0</th>\n      <td>P0CG48</td>\n      <td>[[P0CG48], [P0CG48, 00134:152], [P0CG48, 00134...</td>\n      <td>82</td>\n    </tr>\n    <tr>\n      <th>1</th>\n      <td>P68431</td>\n      <td>[[P68431], [P68431, 00046:11, 00047:12, 00064:...</td>\n      <td>52</td>\n    </tr>\n    <tr>\n      <th>2</th>\n      <td>Q71DI3</td>\n      <td>[[Q71DI3], [Q71DI3, 00046:11, 00047:12, 00064:...</td>\n      <td>48</td>\n    </tr>\n    <tr>\n      <th>3</th>\n      <td>P02452</td>\n      <td>[[P02452], [P02452, 00037:null], [P02452, 0003...</td>\n      <td>36</td>\n    </tr>\n    <tr>\n      <th>4</th>\n      <td>P08123</td>\n      <td>[[P08123], [P08123, 00037:null], [P08123, 0003...</td>\n      <td>36</td>\n    </tr>\n    <tr>\n      <th>...</th>\n      <td>...</td>\n      <td>...</td>\n      <td>...</td>\n    </tr>\n    <tr>\n      <th>1486</th>\n      <td>Q9Y6K1</td>\n      <td>[[Q9Y6K1], [Q9Y6K1, 01149:null]]</td>\n      <td>2</td>\n    </tr>\n    <tr>\n      <th>1487</th>\n      <td>Q9Y6Q2</td>\n      <td>[[Q9Y6Q2], [Q9Y6Q2, 01150:null]]</td>\n      <td>2</td>\n    </tr>\n    <tr>\n      <th>1488</th>\n      <td>Q9Y6Q9</td>\n      <td>[[Q9Y6Q9], [Q9Y6Q9, 00046:857]]</td>\n      <td>2</td>\n    </tr>\n    <tr>\n      <th>1489</th>\n      <td>Q9Y6W8</td>\n      <td>[[Q9Y6W8-1], [Q9Y6W8-1, 00048:180]]</td>\n      <td>2</td>\n    </tr>\n    <tr>\n      <th>1490</th>\n      <td>Q9Y6Y9</td>\n      <td>[[Q9Y6Y9], [Q9Y6Y9, 00160:26, 00160:114]]</td>\n      <td>2</td>\n    </tr>\n  </tbody>\n</table>\n<p>1491 rows × 3 columns</p>\n</div>"
     },
     "execution_count": 71,
     "metadata": {},
     "output_type": "execute_result"
    }
   ],
   "source": [
    "query = QUERY_GET_NUM_PROTEOFORMS_PER_PROTEIN\n",
    "df = get_query_result(query)\n",
    "\n",
    "df"
   ],
   "metadata": {
    "collapsed": false,
    "pycharm": {
     "name": "#%% Get list of proteins with multiple proteoforms\n"
    }
   }
  },
  {
   "cell_type": "code",
   "execution_count": 72,
   "outputs": [
    {
     "data": {
      "text/plain": "            #                                           Trait    SNP rs  \\\n0           2  1-Alkyl-2-acetylglycerophosphocholine Esterase   7528419   \n1           3  1-Alkyl-2-acetylglycerophosphocholine Esterase  12740374   \n2           4  1-Alkyl-2-acetylglycerophosphocholine Esterase    599839   \n3           5  1-Alkyl-2-acetylglycerophosphocholine Esterase    600550   \n4           6  1-Alkyl-2-acetylglycerophosphocholine Esterase    964184   \n...       ...                                             ...       ...   \n30210  136499                           von Willebrand Factor   8176704   \n30211  136500                           von Willebrand Factor    687621   \n30212  136501                           von Willebrand Factor    643434   \n30213  136502                           von Willebrand Factor    505922   \n30214  136526                                     ziprasidone   1405687   \n\n          Context       Gene    Gene ID  Gene 2  Gene ID 2  Chromosome  \\\n0           UTR-3     CELSR2       1952  CELSR2       1952           1   \n1           UTR-3     CELSR2       1952  CELSR2       1952           1   \n2      nearGene-3      PSRC1      84722   PSRC1      84722           1   \n3          intron     MS4A4E     643680  MS4A4E     643680          11   \n4          intron       ZPR1       8882    ZPR1       8882          11   \n...           ...        ...        ...     ...        ...         ...   \n30210      intron        ABO         28     ABO         28           9   \n30211      intron        ABO         28     ABO         28           9   \n30212      intron        ABO         28     ABO         28           9   \n30213      intron        ABO         28     ABO         28           9   \n30214  intergenic  LINC01216  100874275  PPP3CA       5530           4   \n\n        Location  P-Value Source    PubMed  Analysis ID  Study ID Study Name  \n0      109274569     0.00  NHGRI  22003152            0       NaN        NaN  \n1      109274967     0.00  NHGRI  23118302            0       NaN        NaN  \n2      109279543     0.00  NHGRI  20442857            0       NaN        NaN  \n3       60230192     0.00  NHGRI  23118302            0       NaN        NaN  \n4      116778200     0.00  NHGRI  22003152            0       NaN        NaN  \n...          ...      ...    ...       ...          ...       ...        ...  \n30210  133260147     0.00  NHGRI  26486471            0       NaN        NaN  \n30211  133261661     0.00  NHGRI  20231535            0       NaN        NaN  \n30212  133266941     0.00  NHGRI  23381943            0       NaN        NaN  \n30213  133273812     0.00  NHGRI  23381943            0       NaN        NaN  \n30214  101010668     0.00  NHGRI  20195266            0       NaN        NaN  \n\n[30215 rows x 16 columns]",
      "text/html": "<div>\n<style scoped>\n    .dataframe tbody tr th:only-of-type {\n        vertical-align: middle;\n    }\n\n    .dataframe tbody tr th {\n        vertical-align: top;\n    }\n\n    .dataframe thead th {\n        text-align: right;\n    }\n</style>\n<table border=\"1\" class=\"dataframe\">\n  <thead>\n    <tr style=\"text-align: right;\">\n      <th></th>\n      <th>#</th>\n      <th>Trait</th>\n      <th>SNP rs</th>\n      <th>Context</th>\n      <th>Gene</th>\n      <th>Gene ID</th>\n      <th>Gene 2</th>\n      <th>Gene ID 2</th>\n      <th>Chromosome</th>\n      <th>Location</th>\n      <th>P-Value</th>\n      <th>Source</th>\n      <th>PubMed</th>\n      <th>Analysis ID</th>\n      <th>Study ID</th>\n      <th>Study Name</th>\n    </tr>\n  </thead>\n  <tbody>\n    <tr>\n      <th>0</th>\n      <td>2</td>\n      <td>1-Alkyl-2-acetylglycerophosphocholine Esterase</td>\n      <td>7528419</td>\n      <td>UTR-3</td>\n      <td>CELSR2</td>\n      <td>1952</td>\n      <td>CELSR2</td>\n      <td>1952</td>\n      <td>1</td>\n      <td>109274569</td>\n      <td>0.00</td>\n      <td>NHGRI</td>\n      <td>22003152</td>\n      <td>0</td>\n      <td>NaN</td>\n      <td>NaN</td>\n    </tr>\n    <tr>\n      <th>1</th>\n      <td>3</td>\n      <td>1-Alkyl-2-acetylglycerophosphocholine Esterase</td>\n      <td>12740374</td>\n      <td>UTR-3</td>\n      <td>CELSR2</td>\n      <td>1952</td>\n      <td>CELSR2</td>\n      <td>1952</td>\n      <td>1</td>\n      <td>109274967</td>\n      <td>0.00</td>\n      <td>NHGRI</td>\n      <td>23118302</td>\n      <td>0</td>\n      <td>NaN</td>\n      <td>NaN</td>\n    </tr>\n    <tr>\n      <th>2</th>\n      <td>4</td>\n      <td>1-Alkyl-2-acetylglycerophosphocholine Esterase</td>\n      <td>599839</td>\n      <td>nearGene-3</td>\n      <td>PSRC1</td>\n      <td>84722</td>\n      <td>PSRC1</td>\n      <td>84722</td>\n      <td>1</td>\n      <td>109279543</td>\n      <td>0.00</td>\n      <td>NHGRI</td>\n      <td>20442857</td>\n      <td>0</td>\n      <td>NaN</td>\n      <td>NaN</td>\n    </tr>\n    <tr>\n      <th>3</th>\n      <td>5</td>\n      <td>1-Alkyl-2-acetylglycerophosphocholine Esterase</td>\n      <td>600550</td>\n      <td>intron</td>\n      <td>MS4A4E</td>\n      <td>643680</td>\n      <td>MS4A4E</td>\n      <td>643680</td>\n      <td>11</td>\n      <td>60230192</td>\n      <td>0.00</td>\n      <td>NHGRI</td>\n      <td>23118302</td>\n      <td>0</td>\n      <td>NaN</td>\n      <td>NaN</td>\n    </tr>\n    <tr>\n      <th>4</th>\n      <td>6</td>\n      <td>1-Alkyl-2-acetylglycerophosphocholine Esterase</td>\n      <td>964184</td>\n      <td>intron</td>\n      <td>ZPR1</td>\n      <td>8882</td>\n      <td>ZPR1</td>\n      <td>8882</td>\n      <td>11</td>\n      <td>116778200</td>\n      <td>0.00</td>\n      <td>NHGRI</td>\n      <td>22003152</td>\n      <td>0</td>\n      <td>NaN</td>\n      <td>NaN</td>\n    </tr>\n    <tr>\n      <th>...</th>\n      <td>...</td>\n      <td>...</td>\n      <td>...</td>\n      <td>...</td>\n      <td>...</td>\n      <td>...</td>\n      <td>...</td>\n      <td>...</td>\n      <td>...</td>\n      <td>...</td>\n      <td>...</td>\n      <td>...</td>\n      <td>...</td>\n      <td>...</td>\n      <td>...</td>\n      <td>...</td>\n    </tr>\n    <tr>\n      <th>30210</th>\n      <td>136499</td>\n      <td>von Willebrand Factor</td>\n      <td>8176704</td>\n      <td>intron</td>\n      <td>ABO</td>\n      <td>28</td>\n      <td>ABO</td>\n      <td>28</td>\n      <td>9</td>\n      <td>133260147</td>\n      <td>0.00</td>\n      <td>NHGRI</td>\n      <td>26486471</td>\n      <td>0</td>\n      <td>NaN</td>\n      <td>NaN</td>\n    </tr>\n    <tr>\n      <th>30211</th>\n      <td>136500</td>\n      <td>von Willebrand Factor</td>\n      <td>687621</td>\n      <td>intron</td>\n      <td>ABO</td>\n      <td>28</td>\n      <td>ABO</td>\n      <td>28</td>\n      <td>9</td>\n      <td>133261661</td>\n      <td>0.00</td>\n      <td>NHGRI</td>\n      <td>20231535</td>\n      <td>0</td>\n      <td>NaN</td>\n      <td>NaN</td>\n    </tr>\n    <tr>\n      <th>30212</th>\n      <td>136501</td>\n      <td>von Willebrand Factor</td>\n      <td>643434</td>\n      <td>intron</td>\n      <td>ABO</td>\n      <td>28</td>\n      <td>ABO</td>\n      <td>28</td>\n      <td>9</td>\n      <td>133266941</td>\n      <td>0.00</td>\n      <td>NHGRI</td>\n      <td>23381943</td>\n      <td>0</td>\n      <td>NaN</td>\n      <td>NaN</td>\n    </tr>\n    <tr>\n      <th>30213</th>\n      <td>136502</td>\n      <td>von Willebrand Factor</td>\n      <td>505922</td>\n      <td>intron</td>\n      <td>ABO</td>\n      <td>28</td>\n      <td>ABO</td>\n      <td>28</td>\n      <td>9</td>\n      <td>133273812</td>\n      <td>0.00</td>\n      <td>NHGRI</td>\n      <td>23381943</td>\n      <td>0</td>\n      <td>NaN</td>\n      <td>NaN</td>\n    </tr>\n    <tr>\n      <th>30214</th>\n      <td>136526</td>\n      <td>ziprasidone</td>\n      <td>1405687</td>\n      <td>intergenic</td>\n      <td>LINC01216</td>\n      <td>100874275</td>\n      <td>PPP3CA</td>\n      <td>5530</td>\n      <td>4</td>\n      <td>101010668</td>\n      <td>0.00</td>\n      <td>NHGRI</td>\n      <td>20195266</td>\n      <td>0</td>\n      <td>NaN</td>\n      <td>NaN</td>\n    </tr>\n  </tbody>\n</table>\n<p>30215 rows × 16 columns</p>\n</div>"
     },
     "execution_count": 72,
     "metadata": {},
     "output_type": "execute_result"
    }
   ],
   "source": [
    "file_phegeni = \"resources/PheGenI/PheGenI_Association_genome_wide_significant.txt\"\n",
    "df_diseases = pd.read_csv(file_phegeni, sep=\"\\t\")\n",
    "df_diseases"
   ],
   "metadata": {
    "collapsed": false,
    "pycharm": {
     "name": "#%% Get list of diseases in which the selected proteins participate\n"
    }
   }
  },
  {
   "cell_type": "code",
   "execution_count": 73,
   "outputs": [
    {
     "name": "stdout",
     "output_type": "stream",
     "text": [
      "Got map of 873 diseases to genes\n"
     ]
    }
   ],
   "source": [
    "map_disease_to_genes1 = read_dictionary_one_to_set(\"resources/PheGenI/\", \"PheGenI_Association_genome_wide_significant.txt\", col_indices=(1, 4), ignore_header=True)\n",
    "map_disease_to_genes2 = read_dictionary_one_to_set(\"resources/PheGenI/\", \"PheGenI_Association_genome_wide_significant.txt\", col_indices=(1, 6), ignore_header=True)\n",
    "df_diseases.columns\n",
    "map_disease_to_genes = merge_dictionaries(map_disease_to_genes1, map_disease_to_genes2)\n",
    "#map_disease_to_genes\n",
    "print(f\"Got map of {len(map_disease_to_genes.keys())} diseases to genes\")"
   ],
   "metadata": {
    "collapsed": false,
    "pycharm": {
     "name": "#%% Get list of genes for each disease\n"
    }
   }
  },
  {
   "cell_type": "code",
   "execution_count": 74,
   "outputs": [
    {
     "data": {
      "text/plain": "                         Disease  Num Entity\n117              Body Mass Index  646  genes\n637      Platelet Function Tests  594  genes\n116                  Body Height  520  genes\n185             Cholesterol, HDL  391  genes\n109               Blood Pressure  331  genes\n..                           ...  ...    ...\n647              Premature Birth    1  genes\n165              Caudate Nucleus    1  genes\n169  Cerebral Amyloid Angiopathy    1  genes\n243                   Depression    1  genes\n174                    Cetuximab    1  genes\n\n[873 rows x 3 columns]",
      "text/html": "<div>\n<style scoped>\n    .dataframe tbody tr th:only-of-type {\n        vertical-align: middle;\n    }\n\n    .dataframe tbody tr th {\n        vertical-align: top;\n    }\n\n    .dataframe thead th {\n        text-align: right;\n    }\n</style>\n<table border=\"1\" class=\"dataframe\">\n  <thead>\n    <tr style=\"text-align: right;\">\n      <th></th>\n      <th>Disease</th>\n      <th>Num</th>\n      <th>Entity</th>\n    </tr>\n  </thead>\n  <tbody>\n    <tr>\n      <th>117</th>\n      <td>Body Mass Index</td>\n      <td>646</td>\n      <td>genes</td>\n    </tr>\n    <tr>\n      <th>637</th>\n      <td>Platelet Function Tests</td>\n      <td>594</td>\n      <td>genes</td>\n    </tr>\n    <tr>\n      <th>116</th>\n      <td>Body Height</td>\n      <td>520</td>\n      <td>genes</td>\n    </tr>\n    <tr>\n      <th>185</th>\n      <td>Cholesterol, HDL</td>\n      <td>391</td>\n      <td>genes</td>\n    </tr>\n    <tr>\n      <th>109</th>\n      <td>Blood Pressure</td>\n      <td>331</td>\n      <td>genes</td>\n    </tr>\n    <tr>\n      <th>...</th>\n      <td>...</td>\n      <td>...</td>\n      <td>...</td>\n    </tr>\n    <tr>\n      <th>647</th>\n      <td>Premature Birth</td>\n      <td>1</td>\n      <td>genes</td>\n    </tr>\n    <tr>\n      <th>165</th>\n      <td>Caudate Nucleus</td>\n      <td>1</td>\n      <td>genes</td>\n    </tr>\n    <tr>\n      <th>169</th>\n      <td>Cerebral Amyloid Angiopathy</td>\n      <td>1</td>\n      <td>genes</td>\n    </tr>\n    <tr>\n      <th>243</th>\n      <td>Depression</td>\n      <td>1</td>\n      <td>genes</td>\n    </tr>\n    <tr>\n      <th>174</th>\n      <td>Cetuximab</td>\n      <td>1</td>\n      <td>genes</td>\n    </tr>\n  </tbody>\n</table>\n<p>873 rows × 3 columns</p>\n</div>"
     },
     "execution_count": 74,
     "metadata": {},
     "output_type": "execute_result"
    }
   ],
   "source": [
    "df_disease_to_genes = pd.DataFrame(data=[(d, len(g)) for d, g in map_disease_to_genes.items()], columns=[\"Disease\", \"Num\"])\n",
    "df_disease_to_genes['Entity'] = config.genes\n",
    "df_disease_to_genes.sort_values([\"Num\"], ascending=False, inplace=True)\n",
    "df_disease_to_genes"
   ],
   "metadata": {
    "collapsed": false,
    "pycharm": {
     "name": "#%% Get number of genes per disease\n"
    }
   }
  },
  {
   "cell_type": "code",
   "execution_count": 75,
   "outputs": [
    {
     "data": {
      "text/plain": "<Figure size 432x288 with 1 Axes>",
      "image/png": "[encoded data removed]"
     },
     "metadata": {
      "needs_background": "light"
     },
     "output_type": "display_data"
    }
   ],
   "source": [
    "sns.violinplot(x=\"Entity\", y=\"Num\", data=df_disease_to_genes, color=\"0.8\")\n",
    "sns.stripplot(x=\"Entity\", y=\"Num\", data=df_disease_to_genes, jitter=True, zorder=1)\n",
    "plt.show()"
   ],
   "metadata": {
    "collapsed": false,
    "pycharm": {
     "name": "#%% Plot number of genes per disease\n"
    }
   }
  },
  {
   "cell_type": "code",
   "execution_count": 76,
   "outputs": [
    {
     "data": {
      "text/plain": "                         Disease  Num Entity\n172          Cerebrospinal Fluid   99  genes\n323                   Fibrinogen   95  genes\n549           Multiple Sclerosis   92  genes\n220                   Creatinine   92  genes\n504         Macular Degeneration   90  genes\n..                           ...  ...    ...\n647              Premature Birth    1  genes\n165              Caudate Nucleus    1  genes\n169  Cerebral Amyloid Angiopathy    1  genes\n243                   Depression    1  genes\n174                    Cetuximab    1  genes\n\n[827 rows x 3 columns]",
      "text/html": "<div>\n<style scoped>\n    .dataframe tbody tr th:only-of-type {\n        vertical-align: middle;\n    }\n\n    .dataframe tbody tr th {\n        vertical-align: top;\n    }\n\n    .dataframe thead th {\n        text-align: right;\n    }\n</style>\n<table border=\"1\" class=\"dataframe\">\n  <thead>\n    <tr style=\"text-align: right;\">\n      <th></th>\n      <th>Disease</th>\n      <th>Num</th>\n      <th>Entity</th>\n    </tr>\n  </thead>\n  <tbody>\n    <tr>\n      <th>172</th>\n      <td>Cerebrospinal Fluid</td>\n      <td>99</td>\n      <td>genes</td>\n    </tr>\n    <tr>\n      <th>323</th>\n      <td>Fibrinogen</td>\n      <td>95</td>\n      <td>genes</td>\n    </tr>\n    <tr>\n      <th>549</th>\n      <td>Multiple Sclerosis</td>\n      <td>92</td>\n      <td>genes</td>\n    </tr>\n    <tr>\n      <th>220</th>\n      <td>Creatinine</td>\n      <td>92</td>\n      <td>genes</td>\n    </tr>\n    <tr>\n      <th>504</th>\n      <td>Macular Degeneration</td>\n      <td>90</td>\n      <td>genes</td>\n    </tr>\n    <tr>\n      <th>...</th>\n      <td>...</td>\n      <td>...</td>\n      <td>...</td>\n    </tr>\n    <tr>\n      <th>647</th>\n      <td>Premature Birth</td>\n      <td>1</td>\n      <td>genes</td>\n    </tr>\n    <tr>\n      <th>165</th>\n      <td>Caudate Nucleus</td>\n      <td>1</td>\n      <td>genes</td>\n    </tr>\n    <tr>\n      <th>169</th>\n      <td>Cerebral Amyloid Angiopathy</td>\n      <td>1</td>\n      <td>genes</td>\n    </tr>\n    <tr>\n      <th>243</th>\n      <td>Depression</td>\n      <td>1</td>\n      <td>genes</td>\n    </tr>\n    <tr>\n      <th>174</th>\n      <td>Cetuximab</td>\n      <td>1</td>\n      <td>genes</td>\n    </tr>\n  </tbody>\n</table>\n<p>827 rows × 3 columns</p>\n</div>"
     },
     "execution_count": 76,
     "metadata": {},
     "output_type": "execute_result"
    }
   ],
   "source": [
    "df_disease_to_genes = df_disease_to_genes[df_disease_to_genes['Num']<=100]\n",
    "df_disease_to_genes"
   ],
   "metadata": {
    "collapsed": false,
    "pycharm": {
     "name": "#%% Filter: Remove diseases with too many genes\n"
    }
   }
  },
  {
   "cell_type": "code",
   "execution_count": 77,
   "outputs": [
    {
     "data": {
      "text/plain": "          Genes  NumProteins\n830       HLA-B           36\n831       HLA-A           21\n833       HLA-C           14\n3765   HLA-DRB1           13\n4551      KIF5C            2\n...         ...          ...\n3665       TLE3            1\n3666       TLE4            1\n3667       TLE1            1\n3668      KMT2D            1\n10967   EMILIN2            1\n\n[10968 rows x 2 columns]",
      "text/html": "<div>\n<style scoped>\n    .dataframe tbody tr th:only-of-type {\n        vertical-align: middle;\n    }\n\n    .dataframe tbody tr th {\n        vertical-align: top;\n    }\n\n    .dataframe thead th {\n        text-align: right;\n    }\n</style>\n<table border=\"1\" class=\"dataframe\">\n  <thead>\n    <tr style=\"text-align: right;\">\n      <th></th>\n      <th>Genes</th>\n      <th>NumProteins</th>\n    </tr>\n  </thead>\n  <tbody>\n    <tr>\n      <th>830</th>\n      <td>HLA-B</td>\n      <td>36</td>\n    </tr>\n    <tr>\n      <th>831</th>\n      <td>HLA-A</td>\n      <td>21</td>\n    </tr>\n    <tr>\n      <th>833</th>\n      <td>HLA-C</td>\n      <td>14</td>\n    </tr>\n    <tr>\n      <th>3765</th>\n      <td>HLA-DRB1</td>\n      <td>13</td>\n    </tr>\n    <tr>\n      <th>4551</th>\n      <td>KIF5C</td>\n      <td>2</td>\n    </tr>\n    <tr>\n      <th>...</th>\n      <td>...</td>\n      <td>...</td>\n    </tr>\n    <tr>\n      <th>3665</th>\n      <td>TLE3</td>\n      <td>1</td>\n    </tr>\n    <tr>\n      <th>3666</th>\n      <td>TLE4</td>\n      <td>1</td>\n    </tr>\n    <tr>\n      <th>3667</th>\n      <td>TLE1</td>\n      <td>1</td>\n    </tr>\n    <tr>\n      <th>3668</th>\n      <td>KMT2D</td>\n      <td>1</td>\n    </tr>\n    <tr>\n      <th>10967</th>\n      <td>EMILIN2</td>\n      <td>1</td>\n    </tr>\n  </tbody>\n</table>\n<p>10968 rows × 2 columns</p>\n</div>"
     },
     "execution_count": 77,
     "metadata": {},
     "output_type": "execute_result"
    }
   ],
   "source": [
    "map_genes_to_proteins = read_dictionary_one_to_set(config.GRAPHS_PATH, \"mapping_proteins_to_genes.tsv\", col_indices=(1, 0))\n",
    "df_genes_to_proteins = pd.DataFrame(data=[(g,len(ps)) for g, ps in map_genes_to_proteins.items()], columns=[\"Genes\", \"NumProteins\"])\n",
    "df_genes_to_proteins.sort_values([\"NumProteins\"], ascending=False, inplace=True)\n",
    "df_genes_to_proteins"
   ],
   "metadata": {
    "collapsed": false,
    "pycharm": {
     "name": "#%% Get the map to convert genes to proteins\n"
    }
   }
  },
  {
   "cell_type": "code",
   "execution_count": 78,
   "outputs": [
    {
     "data": {
      "text/plain": "<Figure size 432x288 with 1 Axes>",
      "image/png": "[encoded data removed]"
     },
     "metadata": {
      "needs_background": "light"
     },
     "output_type": "display_data"
    }
   ],
   "source": [
    "genes_arr=[\"Genes\"]*len(df_genes_to_proteins)\n",
    "sns.violinplot(x=df_genes_to_proteins[\"NumProteins\"], color=\"0.8\")\n",
    "sns.stripplot(x=df_genes_to_proteins[\"NumProteins\"], jitter=True, zorder=1)\n",
    "plt.show()"
   ],
   "metadata": {
    "collapsed": false,
    "pycharm": {
     "name": "#%% Plot proteins per gene\n"
    }
   }
  },
  {
   "cell_type": "code",
   "execution_count": 79,
   "outputs": [
    {
     "name": "stdout",
     "output_type": "stream",
     "text": [
      "Diseases to delete: \n",
      "\n",
      " {'Carcinoma, Hepatocellular', 'Dermatitis, Atopic', 'Immunoglobulin E', 'Otitis', 'Coronary Disease', 'Epstein-Barr Virus Infections', 'Lymphocyte Count', 'Cryoglobulinemia', 'Immunoglobulin G', 'Anti-Neutrophil Cytoplasmic Antibody-Associated Vasculitis', 'Leukocytes', 'Pulmonary Surfactant-Associated Protein D', 'Leukemia, Lymphocytic, Chronic, B-Cell', 'Leishmaniasis, Visceral', 'Cholesterol', 'Colitis, Ulcerative', 'Menarche', 'Agranulocytosis', 'Interferon-beta', 'Multiple Sclerosis', 'Scleroderma, Systemic', 'Leprosy', 'Pulmonary Disease, Chronic Obstructive', 'Uterine Cervical Neoplasms', 'Vaccine Potency', 'Breast Neoplasms', 'Crohn Disease', 'Triglycerides', 'Lupus Erythematosus, Systemic', 'Arthritis, Psoriatic', \"Sjogren's Syndrome\", 'Liver Cirrhosis, Biliary', 'Proteins', 'Nasopharyngeal Neoplasms', 'Narcolepsy', 'Schizophrenia', 'HIV-1', 'Alzheimer Disease', 'Hepatitis B, Chronic', 'Platelet Count', 'Lymphoma', 'Body Height', 'Epstein-Barr Virus Nuclear Antigens', 'Glomerulonephritis, IGA', 'Hodgkin Disease', 'Oligoclonal Bands', 'Parkinson Disease', 'Vitiligo', 'Diabetes Mellitus, Type 1', 'Monocytes', 'Psoriasis', 'Staphylococcus aureus', 'Lymphocytes', 'beta 2-Microglobulin', 'Hepatitis C, Chronic', 'Lymphoma, Large B-Cell, Diffuse', 'Thyroid Hormones', 'Glomerulonephritis, Membranous', 'Tonsillectomy', 'Drug Hypersensitivity Syndrome', 'Uveomeningoencephalitic Syndrome', 'Asthma', 'Arthritis, Rheumatoid', 'Antibodies', 'Carcinoma, Basal Cell', 'Thioamides', 'Behcet Syndrome', 'Staphylococcus', 'Inflammatory Bowel Diseases', 'Cholesterol, LDL', 'C-Reactive Protein'}\n"
     ]
    },
    {
     "data": {
      "text/plain": "                             Disease  Num Entity\n172              Cerebrospinal Fluid   99  genes\n323                       Fibrinogen   95  genes\n220                       Creatinine   92  genes\n504             Macular Degeneration   90  genes\n424  Influenza A Virus, H1N1 Subtype   89  genes\n..                               ...  ...    ...\n647                  Premature Birth    1  genes\n165                  Caudate Nucleus    1  genes\n169      Cerebral Amyloid Angiopathy    1  genes\n243                       Depression    1  genes\n174                        Cetuximab    1  genes\n\n[774 rows x 3 columns]",
      "text/html": "<div>\n<style scoped>\n    .dataframe tbody tr th:only-of-type {\n        vertical-align: middle;\n    }\n\n    .dataframe tbody tr th {\n        vertical-align: top;\n    }\n\n    .dataframe thead th {\n        text-align: right;\n    }\n</style>\n<table border=\"1\" class=\"dataframe\">\n  <thead>\n    <tr style=\"text-align: right;\">\n      <th></th>\n      <th>Disease</th>\n      <th>Num</th>\n      <th>Entity</th>\n    </tr>\n  </thead>\n  <tbody>\n    <tr>\n      <th>172</th>\n      <td>Cerebrospinal Fluid</td>\n      <td>99</td>\n      <td>genes</td>\n    </tr>\n    <tr>\n      <th>323</th>\n      <td>Fibrinogen</td>\n      <td>95</td>\n      <td>genes</td>\n    </tr>\n    <tr>\n      <th>220</th>\n      <td>Creatinine</td>\n      <td>92</td>\n      <td>genes</td>\n    </tr>\n    <tr>\n      <th>504</th>\n      <td>Macular Degeneration</td>\n      <td>90</td>\n      <td>genes</td>\n    </tr>\n    <tr>\n      <th>424</th>\n      <td>Influenza A Virus, H1N1 Subtype</td>\n      <td>89</td>\n      <td>genes</td>\n    </tr>\n    <tr>\n      <th>...</th>\n      <td>...</td>\n      <td>...</td>\n      <td>...</td>\n    </tr>\n    <tr>\n      <th>647</th>\n      <td>Premature Birth</td>\n      <td>1</td>\n      <td>genes</td>\n    </tr>\n    <tr>\n      <th>165</th>\n      <td>Caudate Nucleus</td>\n      <td>1</td>\n      <td>genes</td>\n    </tr>\n    <tr>\n      <th>169</th>\n      <td>Cerebral Amyloid Angiopathy</td>\n      <td>1</td>\n      <td>genes</td>\n    </tr>\n    <tr>\n      <th>243</th>\n      <td>Depression</td>\n      <td>1</td>\n      <td>genes</td>\n    </tr>\n    <tr>\n      <th>174</th>\n      <td>Cetuximab</td>\n      <td>1</td>\n      <td>genes</td>\n    </tr>\n  </tbody>\n</table>\n<p>774 rows × 3 columns</p>\n</div>"
     },
     "execution_count": 79,
     "metadata": {},
     "output_type": "execute_result"
    }
   ],
   "source": [
    "filter_genes = df_genes_to_proteins[df_genes_to_proteins[\"NumProteins\"] > 5]\n",
    "filter_genes = set(filter_genes['Genes'])\n",
    "filter_diseases = set()\n",
    "for d, gs in map_disease_to_genes.items():\n",
    "    if bool(gs & filter_genes):\n",
    "        filter_diseases.add(d)\n",
    "print(f\"Diseases to delete: \\n\\n {filter_diseases}\")\n",
    "df_sel_diseases = df_disease_to_genes[~df_disease_to_genes['Disease'].isin(filter_diseases)]\n",
    "df_sel_diseases\n"
   ],
   "metadata": {
    "collapsed": false,
    "pycharm": {
     "name": "#%% Filter: Remove diseases which contain genes that map to too many proteins\n"
    }
   }
  },
  {
   "cell_type": "code",
   "execution_count": 80,
   "outputs": [],
   "source": [
    "map_disease_to_proteins = {disease: set() for disease in df_sel_diseases[\"Disease\"]}\n",
    "for disease in df_sel_diseases[\"Disease\"]:\n",
    "    for g in map_disease_to_genes[disease]:\n",
    "        if g in map_genes_to_proteins:\n",
    "            for protein in map_genes_to_proteins[g]:\n",
    "                map_disease_to_proteins[disease].add(protein)\n",
    "#map_disease_to_proteins"
   ],
   "metadata": {
    "collapsed": false,
    "pycharm": {
     "name": "#%% Get list of proteins for each disease\n"
    }
   }
  },
  {
   "cell_type": "code",
   "execution_count": 81,
   "outputs": [
    {
     "data": {
      "text/plain": "                     Disease  Num    Entity\n3       Macular Degeneration   54  proteins\n1                 Fibrinogen   54  proteins\n0        Cerebrospinal Fluid   51  proteins\n6                 Hematocrit   48  proteins\n11               Hemoglobins   47  proteins\n..                       ...  ...       ...\n705  Neurofibrillary Tangles    0  proteins\n647                Methadone    0  proteins\n703           Diet, High-Fat    0  proteins\n648         Memory, Episodic    0  proteins\n635            Osteonecrosis    0  proteins\n\n[774 rows x 3 columns]",
      "text/html": "<div>\n<style scoped>\n    .dataframe tbody tr th:only-of-type {\n        vertical-align: middle;\n    }\n\n    .dataframe tbody tr th {\n        vertical-align: top;\n    }\n\n    .dataframe thead th {\n        text-align: right;\n    }\n</style>\n<table border=\"1\" class=\"dataframe\">\n  <thead>\n    <tr style=\"text-align: right;\">\n      <th></th>\n      <th>Disease</th>\n      <th>Num</th>\n      <th>Entity</th>\n    </tr>\n  </thead>\n  <tbody>\n    <tr>\n      <th>3</th>\n      <td>Macular Degeneration</td>\n      <td>54</td>\n      <td>proteins</td>\n    </tr>\n    <tr>\n      <th>1</th>\n      <td>Fibrinogen</td>\n      <td>54</td>\n      <td>proteins</td>\n    </tr>\n    <tr>\n      <th>0</th>\n      <td>Cerebrospinal Fluid</td>\n      <td>51</td>\n      <td>proteins</td>\n    </tr>\n    <tr>\n      <th>6</th>\n      <td>Hematocrit</td>\n      <td>48</td>\n      <td>proteins</td>\n    </tr>\n    <tr>\n      <th>11</th>\n      <td>Hemoglobins</td>\n      <td>47</td>\n      <td>proteins</td>\n    </tr>\n    <tr>\n      <th>...</th>\n      <td>...</td>\n      <td>...</td>\n      <td>...</td>\n    </tr>\n    <tr>\n      <th>705</th>\n      <td>Neurofibrillary Tangles</td>\n      <td>0</td>\n      <td>proteins</td>\n    </tr>\n    <tr>\n      <th>647</th>\n      <td>Methadone</td>\n      <td>0</td>\n      <td>proteins</td>\n    </tr>\n    <tr>\n      <th>703</th>\n      <td>Diet, High-Fat</td>\n      <td>0</td>\n      <td>proteins</td>\n    </tr>\n    <tr>\n      <th>648</th>\n      <td>Memory, Episodic</td>\n      <td>0</td>\n      <td>proteins</td>\n    </tr>\n    <tr>\n      <th>635</th>\n      <td>Osteonecrosis</td>\n      <td>0</td>\n      <td>proteins</td>\n    </tr>\n  </tbody>\n</table>\n<p>774 rows × 3 columns</p>\n</div>"
     },
     "execution_count": 81,
     "metadata": {},
     "output_type": "execute_result"
    }
   ],
   "source": [
    "map_disease_to_numproteins = {d: len(g) for d, g in map_disease_to_proteins.items()}\n",
    "df_disease_to_proteins = pd.DataFrame(data=map_disease_to_numproteins.items(), columns=[\"Disease\", \"Num\"])\n",
    "df_disease_to_proteins['Entity'] = config.proteins\n",
    "df_disease_to_proteins.sort_values([\"Num\"], ascending=False, inplace=True)\n",
    "df_disease_to_proteins"
   ],
   "metadata": {
    "collapsed": false,
    "pycharm": {
     "name": "#%% Get number of proteins per disease\n"
    }
   }
  },
  {
   "cell_type": "code",
   "execution_count": 82,
   "outputs": [
    {
     "data": {
      "text/plain": "                                            Disease  Num    Entity\n0    1-Alkyl-2-acetylglycerophosphocholine Esterase   13     genes\n211  1-Alkyl-2-acetylglycerophosphocholine Esterase    8  proteins\n1          3-hydroxy-1-methylpropylmercapturic acid   42     genes\n64         3-hydroxy-1-methylpropylmercapturic acid   11  proteins\n546                         ADAMTS13 protein, human    2  proteins\n..                                              ...  ...       ...\n381                   thyroid microsomal antibodies    2  proteins\n871                           von Willebrand Factor   14     genes\n194                           von Willebrand Factor    6  proteins\n651                                     ziprasidone    1  proteins\n872                                     ziprasidone    2     genes\n\n[1601 rows x 3 columns]",
      "text/html": "<div>\n<style scoped>\n    .dataframe tbody tr th:only-of-type {\n        vertical-align: middle;\n    }\n\n    .dataframe tbody tr th {\n        vertical-align: top;\n    }\n\n    .dataframe thead th {\n        text-align: right;\n    }\n</style>\n<table border=\"1\" class=\"dataframe\">\n  <thead>\n    <tr style=\"text-align: right;\">\n      <th></th>\n      <th>Disease</th>\n      <th>Num</th>\n      <th>Entity</th>\n    </tr>\n  </thead>\n  <tbody>\n    <tr>\n      <th>0</th>\n      <td>1-Alkyl-2-acetylglycerophosphocholine Esterase</td>\n      <td>13</td>\n      <td>genes</td>\n    </tr>\n    <tr>\n      <th>211</th>\n      <td>1-Alkyl-2-acetylglycerophosphocholine Esterase</td>\n      <td>8</td>\n      <td>proteins</td>\n    </tr>\n    <tr>\n      <th>1</th>\n      <td>3-hydroxy-1-methylpropylmercapturic acid</td>\n      <td>42</td>\n      <td>genes</td>\n    </tr>\n    <tr>\n      <th>64</th>\n      <td>3-hydroxy-1-methylpropylmercapturic acid</td>\n      <td>11</td>\n      <td>proteins</td>\n    </tr>\n    <tr>\n      <th>546</th>\n      <td>ADAMTS13 protein, human</td>\n      <td>2</td>\n      <td>proteins</td>\n    </tr>\n    <tr>\n      <th>...</th>\n      <td>...</td>\n      <td>...</td>\n      <td>...</td>\n    </tr>\n    <tr>\n      <th>381</th>\n      <td>thyroid microsomal antibodies</td>\n      <td>2</td>\n      <td>proteins</td>\n    </tr>\n    <tr>\n      <th>871</th>\n      <td>von Willebrand Factor</td>\n      <td>14</td>\n      <td>genes</td>\n    </tr>\n    <tr>\n      <th>194</th>\n      <td>von Willebrand Factor</td>\n      <td>6</td>\n      <td>proteins</td>\n    </tr>\n    <tr>\n      <th>651</th>\n      <td>ziprasidone</td>\n      <td>1</td>\n      <td>proteins</td>\n    </tr>\n    <tr>\n      <th>872</th>\n      <td>ziprasidone</td>\n      <td>2</td>\n      <td>genes</td>\n    </tr>\n  </tbody>\n</table>\n<p>1601 rows × 3 columns</p>\n</div>"
     },
     "execution_count": 82,
     "metadata": {},
     "output_type": "execute_result"
    }
   ],
   "source": [
    "df_disease_to_entitites = pd.concat([df_disease_to_genes, df_disease_to_proteins])\n",
    "df_disease_to_entitites.sort_values(by=[\"Disease\"], inplace=True)\n",
    "df_disease_to_entitites"
   ],
   "metadata": {
    "collapsed": false,
    "pycharm": {
     "name": "#%%\n"
    }
   }
  },
  {
   "cell_type": "code",
   "execution_count": 83,
   "outputs": [
    {
     "data": {
      "text/plain": "<Figure size 432x288 with 1 Axes>",
      "image/png": "[encoded data removed]"
     },
     "metadata": {
      "needs_background": "light"
     },
     "output_type": "display_data"
    }
   ],
   "source": [
    "sns.violinplot(x=\"Entity\", y=\"Num\", data=df_disease_to_entitites, color=\"0.8\")\n",
    "sns.stripplot(x=\"Entity\", y=\"Num\", data=df_disease_to_entitites, jitter=True, zorder=1)\n",
    "plt.show()"
   ],
   "metadata": {
    "collapsed": false,
    "pycharm": {
     "name": "#%% See the distribution of genes and proteins per disease\n"
    }
   }
  },
  {
   "cell_type": "code",
   "execution_count": 84,
   "outputs": [],
   "source": [
    "map_protein_to_diseases = {}\n",
    "for d, ps in map_disease_to_proteins.items():\n",
    "    for p in ps:\n",
    "        if not p in map_protein_to_diseases.keys():\n",
    "            map_protein_to_diseases[p] = set()\n",
    "        map_protein_to_diseases[p].add(d)\n",
    "#map_protein_to_diseases"
   ],
   "metadata": {
    "collapsed": false,
    "pycharm": {
     "name": "#%% Create map from proteins to diseases\n"
    }
   }
  },
  {
   "cell_type": "code",
   "execution_count": 85,
   "outputs": [
    {
     "data": {
      "text/plain": "     Protein  NumDiseases\n273   P16442           36\n123   Q14397           31\n281   O60427           24\n168   P02654           23\n5     P02649           15\n...      ...          ...\n1055  Q9NRZ5            1\n1053  Q7L7X3            1\n1052  Q9H4B7            1\n1051  Q9UQ16            1\n2084  Q6UWN5            1\n\n[2085 rows x 2 columns]",
      "text/html": "<div>\n<style scoped>\n    .dataframe tbody tr th:only-of-type {\n        vertical-align: middle;\n    }\n\n    .dataframe tbody tr th {\n        vertical-align: top;\n    }\n\n    .dataframe thead th {\n        text-align: right;\n    }\n</style>\n<table border=\"1\" class=\"dataframe\">\n  <thead>\n    <tr style=\"text-align: right;\">\n      <th></th>\n      <th>Protein</th>\n      <th>NumDiseases</th>\n    </tr>\n  </thead>\n  <tbody>\n    <tr>\n      <th>273</th>\n      <td>P16442</td>\n      <td>36</td>\n    </tr>\n    <tr>\n      <th>123</th>\n      <td>Q14397</td>\n      <td>31</td>\n    </tr>\n    <tr>\n      <th>281</th>\n      <td>O60427</td>\n      <td>24</td>\n    </tr>\n    <tr>\n      <th>168</th>\n      <td>P02654</td>\n      <td>23</td>\n    </tr>\n    <tr>\n      <th>5</th>\n      <td>P02649</td>\n      <td>15</td>\n    </tr>\n    <tr>\n      <th>...</th>\n      <td>...</td>\n      <td>...</td>\n    </tr>\n    <tr>\n      <th>1055</th>\n      <td>Q9NRZ5</td>\n      <td>1</td>\n    </tr>\n    <tr>\n      <th>1053</th>\n      <td>Q7L7X3</td>\n      <td>1</td>\n    </tr>\n    <tr>\n      <th>1052</th>\n      <td>Q9H4B7</td>\n      <td>1</td>\n    </tr>\n    <tr>\n      <th>1051</th>\n      <td>Q9UQ16</td>\n      <td>1</td>\n    </tr>\n    <tr>\n      <th>2084</th>\n      <td>Q6UWN5</td>\n      <td>1</td>\n    </tr>\n  </tbody>\n</table>\n<p>2085 rows × 2 columns</p>\n</div>"
     },
     "execution_count": 85,
     "metadata": {},
     "output_type": "execute_result"
    }
   ],
   "source": [
    "map_protein_to_numdiseases = {p: len(ds) for p, ds in map_protein_to_diseases.items()}\n",
    "df_p_nd = pd.DataFrame(data=map_protein_to_numdiseases.items(), columns=[\"Protein\", \"NumDiseases\"])\n",
    "df_p_nd.sort_values([\"NumDiseases\"], ascending=False, inplace=True)\n",
    "df_p_nd"
   ],
   "metadata": {
    "collapsed": false,
    "pycharm": {
     "name": "#%% Create map proteins to num diseases\n"
    }
   }
  },
  {
   "cell_type": "code",
   "execution_count": 86,
   "outputs": [
    {
     "data": {
      "text/plain": "<Figure size 432x288 with 1 Axes>",
      "image/png": "[encoded data removed]"
     },
     "metadata": {
      "needs_background": "light"
     },
     "output_type": "display_data"
    }
   ],
   "source": [
    "sns.violinplot(data=df_p_nd, color=\"0.8\")\n",
    "sns.stripplot(data=df_p_nd, jitter=True, zorder=1)\n",
    "plt.show()"
   ],
   "metadata": {
    "collapsed": false,
    "pycharm": {
     "name": "#%% Plot number of diseases per protein\n"
    }
   }
  },
  {
   "cell_type": "code",
   "execution_count": 87,
   "outputs": [
    {
     "name": "stdout",
     "output_type": "stream",
     "text": [
      "Diseases to delete: \n",
      "\n",
      " {'Autoimmune Diseases', 'Purines', 'Alanine Transaminase', 'Phospholipids', 'Pancreatic Carcinoma', 'Insulin', 'Sex Hormone-Binding Globulin', 'Testicular Neoplasms', 'alpha-Linolenic Acid', 'Emotions', 'Diarrhea', 'Oropharyngeal Neoplasms', 'Mortality', 'Uric Acid', 'Glioblastoma', 'Prostate-Specific Antigen', 'Linoleic Acid', 'Malaria', 'Alcohol Drinking', 'Fatty Acids', 'Adiponectin', 'Endothelial Growth Factors', 'Amino Acids', 'Interleukin-6', 'Angiotensins', 'Melanoma', 'Anthropometry', 'Ferritins', 'Mouth Neoplasms', 'Alkaline Phosphatase', 'Arthritis, Juvenile', 'Glucose Tolerance Test', 'Hypothyroidism', 'oxidized low density lipoprotein', 'Leptin', 'Hair Color', 'Body Fat Distribution', 'Creatinine', 'Bipolar Disorder', 'Skin Neoplasms', 'Interleukin-2 Receptor alpha Subunit', 'Amyloid beta-Peptides', 'Hypertension', 'Blood Coagulation Factors', 'Reverse Transcriptase Inhibitors', 'Duodenal Ulcer', '1-Alkyl-2-acetylglycerophosphocholine Esterase', 'Subcutaneous Fat', 'Hepcidins', 'Hydroxymethylglutaryl CoA Reductases', 'Amyloidosis, Cerebral, with Spongiform Encephalopathy', 'Cholangitis, Sclerosing', 'Selenium', 'Cerebrospinal Fluid', 'Intraocular Pressure', 'Calcium', 'Transferrin', 'Factor VIII', 'P-Selectin', 'Carcinoembryonic Antigen', 'Rhinitis, Allergic, Seasonal', 'Chemical and Drug Induced Liver Injury', 'Carcinoma, Non-Small-Cell Lung', 'Lipids', 'Adenocarcinoma of lung', 'Intercellular Adhesion Molecule-1', 'C-Peptide', 'Iron', 'Metabolic Syndrome X', 'Wet Macular Degeneration', 'Sphingolipids', 'Cognition Disorders', 'Common Variable Immunodeficiency', 'Obesity', 'Vitamin B 12', 'Pancreatic Neoplasms', 'Angiopoietin-2', 'Myopia', 'gamma-Linolenic Acid', 'Energy Intake', 'Papillomavirus Vaccines', 'Vascular Endothelial Growth Factors', 'hemoglobin A1c protein, human', 'Carcinoma, Squamous Cell', 'Trans Fatty Acids', 'Insulin-Like Growth Factor I', 'Lung Diseases, Interstitial', 'Neuropsychological Tests', 'Suntan', 'Atherosclerosis', 'Eyebrows', 'Vascular Calcification', 'Macular Degeneration', 'E-Selectin', 'Blood Proteins', 'Age of Onset', 'Sex Characteristics', 'Thyroid Diseases', 'Melanosis', 'Hemoglobins', 'docosapentaenoic acid', 'Eye Color', 'Anemia', 'Fenofibrate', 'Lipase', 'tau Proteins', 'gamma-Glutamyltransferase', 'Myocardial Infarction', 'Partial Thromboplastin Time', 'Mannose', 'Forced Expiratory Volume', 'Pharyngeal Neoplasms', 'Serum Albumin', 'Linoleoyl-CoA Desaturase', 'Thyrotropin', 'Thyroid Neoplasms', 'von Willebrand Factor', 'Corneal Topography', 'Longevity', 'Leukopenia', 'Skin Pigmentation', 'Spondylitis, Ankylosing', 'Insulin Resistance', 'Glioma', 'Liver Diseases', 'Tumor Necrosis Factor-alpha', 'Hypertriglyceridemia', 'Mental Processes', 'Arachidonic Acid', 'Eicosapentaenoic Acid', 'Lipoproteins', 'Hematocrit', 'Supranuclear Palsy, Progressive', 'Cerebral Cortex', 'Insulin-Secreting Cells', 'Alopecia Areata', 'alpha 1-Antitrypsin', 'Neoplasms', 'Neuroimaging', 'Pulmonary Embolism', 'Psychomotor Performance', 'Phosphorus', 'Endometrial Neoplasms', 'Lymphoma, Follicular', 'Thrombosis', 'Idiopathic Pulmonary Fibrosis', 'Peripheral Nervous System Diseases', 'Memory', 'Fibrinogen', 'Lactation', 'Renal Insufficiency, Chronic', 'Urine', 'Arterial Pressure', 'Hypersensitivity', 'Lung Neoplasms', 'Gout', 'Autoantibodies', 'Glycerophospholipids', 'Clinical Laboratory Techniques', 'Celiac Disease', 'Multiple Myeloma', 'Atrial Fibrillation', 'Ovarian Neoplasms', 'Alopecia', 'Heart Failure', 'Health', 'Lewy Body Disease', 'Graves Disease', 'Coronary Artery Disease', 'Fatty Acids, Omega-6', 'Eosinophils', 'Carcinoma, Endometrioid', 'amyloid beta-protein (1-42)', 'Diabetes Mellitus'}\n"
     ]
    },
    {
     "data": {
      "text/plain": "                             Disease  Num Entity\n549               Multiple Sclerosis   92  genes\n618                Parkinson Disease   89  genes\n424  Influenza A Virus, H1N1 Subtype   89  genes\n588                       Optic Disk   85  genes\n245               Dermatitis, Atopic   81  genes\n..                               ...  ...    ...\n647                  Premature Birth    1  genes\n165                  Caudate Nucleus    1  genes\n169      Cerebral Amyloid Angiopathy    1  genes\n243                       Depression    1  genes\n174                        Cetuximab    1  genes\n\n[653 rows x 3 columns]",
      "text/html": "<div>\n<style scoped>\n    .dataframe tbody tr th:only-of-type {\n        vertical-align: middle;\n    }\n\n    .dataframe tbody tr th {\n        vertical-align: top;\n    }\n\n    .dataframe thead th {\n        text-align: right;\n    }\n</style>\n<table border=\"1\" class=\"dataframe\">\n  <thead>\n    <tr style=\"text-align: right;\">\n      <th></th>\n      <th>Disease</th>\n      <th>Num</th>\n      <th>Entity</th>\n    </tr>\n  </thead>\n  <tbody>\n    <tr>\n      <th>549</th>\n      <td>Multiple Sclerosis</td>\n      <td>92</td>\n      <td>genes</td>\n    </tr>\n    <tr>\n      <th>618</th>\n      <td>Parkinson Disease</td>\n      <td>89</td>\n      <td>genes</td>\n    </tr>\n    <tr>\n      <th>424</th>\n      <td>Influenza A Virus, H1N1 Subtype</td>\n      <td>89</td>\n      <td>genes</td>\n    </tr>\n    <tr>\n      <th>588</th>\n      <td>Optic Disk</td>\n      <td>85</td>\n      <td>genes</td>\n    </tr>\n    <tr>\n      <th>245</th>\n      <td>Dermatitis, Atopic</td>\n      <td>81</td>\n      <td>genes</td>\n    </tr>\n    <tr>\n      <th>...</th>\n      <td>...</td>\n      <td>...</td>\n      <td>...</td>\n    </tr>\n    <tr>\n      <th>647</th>\n      <td>Premature Birth</td>\n      <td>1</td>\n      <td>genes</td>\n    </tr>\n    <tr>\n      <th>165</th>\n      <td>Caudate Nucleus</td>\n      <td>1</td>\n      <td>genes</td>\n    </tr>\n    <tr>\n      <th>169</th>\n      <td>Cerebral Amyloid Angiopathy</td>\n      <td>1</td>\n      <td>genes</td>\n    </tr>\n    <tr>\n      <th>243</th>\n      <td>Depression</td>\n      <td>1</td>\n      <td>genes</td>\n    </tr>\n    <tr>\n      <th>174</th>\n      <td>Cetuximab</td>\n      <td>1</td>\n      <td>genes</td>\n    </tr>\n  </tbody>\n</table>\n<p>653 rows × 3 columns</p>\n</div>"
     },
     "execution_count": 87,
     "metadata": {},
     "output_type": "execute_result"
    }
   ],
   "source": [
    "filter_proteins = df_p_nd[df_p_nd['NumDiseases'] > 10]\n",
    "filter_proteins = set(filter_proteins[\"Protein\"])\n",
    "filter_proteins\n",
    "filter_diseases = set()\n",
    "for d, ps in map_disease_to_proteins.items():\n",
    "    if bool(ps & filter_proteins):\n",
    "        filter_diseases.add(d)\n",
    "print(f\"Diseases to delete: \\n\\n {filter_diseases}\")\n",
    "df_sel_diseases = df_disease_to_genes[~df_disease_to_genes['Disease'].isin(filter_diseases)]\n",
    "df_sel_diseases\n"
   ],
   "metadata": {
    "collapsed": false,
    "pycharm": {
     "name": "#%% Filter diseases that contain proteins participating in too many diseases\n"
    }
   }
  },
  {
   "cell_type": "code",
   "execution_count": 88,
   "outputs": [
    {
     "data": {
      "text/plain": "{'Q99879',\n 'P31749',\n 'Q8N5S9',\n 'P39060',\n 'Q53H12',\n 'Q969M7',\n 'P02652',\n 'Q13547',\n 'Q8N387',\n 'P06493',\n 'Q13616',\n 'P43403',\n 'P22692',\n 'Q96A32',\n 'P61086',\n 'Q01082',\n 'Q15843',\n 'Q14145',\n 'P98172',\n 'P51587',\n 'P56524',\n 'O75487',\n 'O95450',\n 'Q9BVI0',\n 'P02545',\n 'P23443',\n 'P00738',\n 'A6NHL2',\n 'O00159',\n 'O00755',\n 'Q07666',\n 'P61019',\n 'P02671',\n 'Q8WU20',\n 'P21359',\n 'O76061',\n 'Q9H7L9',\n 'P05412',\n 'Q9UQE7',\n 'Q13591',\n 'P51608',\n 'Q15349',\n 'P63241',\n 'P20337',\n 'O15392',\n 'Q13114',\n 'Q13426',\n 'Q14653',\n 'O95477',\n 'Q96JA1',\n 'P98160',\n 'P45880',\n 'O00401',\n 'P08581',\n 'Q13164',\n 'O60216',\n 'Q12846',\n 'O14904',\n 'P37840',\n 'P25067',\n 'P20336',\n 'P00451',\n 'Q14164',\n 'Q96EG1',\n 'Q15464',\n 'P51689',\n 'P53667',\n 'Q13322',\n 'Q92997',\n 'O00418',\n 'Q13415',\n 'Q9Y219',\n 'Q9NR19',\n 'Q9UJT9',\n 'Q9NPD8',\n 'Q9NRF2',\n 'O95352',\n 'Q9HCE9',\n 'P13726',\n 'P35754',\n 'P20671',\n 'O14531',\n 'Q9H082',\n 'O15350',\n 'Q16270',\n 'P05165',\n 'P12004',\n 'P08069',\n 'P40337',\n 'Q9GZV4',\n 'Q9BY84',\n 'Q9ULK5',\n 'P06213',\n 'P62993',\n 'P01111',\n 'P29322',\n 'Q96A83',\n 'Q01113',\n 'P08709',\n 'P17480',\n 'A8MYZ6',\n 'Q5FYB1',\n 'P19174',\n 'O14641',\n 'O95786',\n 'Q14012',\n 'P51805',\n 'Q9BQI3',\n 'Q92569',\n 'O43493',\n 'P51610',\n 'P60604',\n 'P15692',\n 'Q6IBW4',\n 'Q99704',\n 'Q9BQQ3',\n 'Q8TE56',\n 'P07237',\n 'P24821',\n 'P25940',\n 'P51965',\n 'P82987',\n 'P36639',\n 'P48357',\n 'P05161',\n 'Q9UIW2',\n 'Q13217',\n 'Q9NX57',\n 'P07225',\n 'P55055',\n 'P00740',\n 'P49840',\n 'Q99102',\n 'P22736',\n 'Q7L523',\n 'O43521',\n 'O15264',\n 'P01100',\n 'Q8NB16',\n 'P58753',\n 'P24844',\n 'Q5JT25',\n 'O15399',\n 'O15072',\n 'Q05655',\n 'P00387',\n 'Q9HC16',\n 'Q969R5',\n 'Q8IV16',\n 'P36897',\n 'Q16777',\n 'P98177',\n 'Q9NR61',\n 'Q13618',\n 'P34741',\n 'Q86WV6',\n 'O94905',\n 'P51159',\n 'Q8N122',\n 'P22607',\n 'P07550',\n 'Q12841',\n 'P27694',\n 'P30044',\n 'P14207',\n 'P42229',\n 'P53420',\n 'Q12798',\n 'P55268',\n 'P53992',\n 'P18846',\n 'Q9P218',\n 'P15498',\n 'P19838',\n 'Q9NRW1',\n 'P15586',\n 'P32121',\n 'Q8WUD1',\n 'Q9NYZ3',\n 'P61956',\n 'Q14980',\n 'P04114',\n 'Q05397',\n 'Q99757',\n 'Q9H2D6',\n 'Q03692',\n 'Q13469',\n 'Q13103',\n 'Q9NP90',\n 'Q02156',\n 'Q9UKW4',\n 'Q9Y6Y9',\n 'P40199',\n 'P02765',\n 'O00238',\n 'Q8N307',\n 'Q9UBS0',\n 'P78324',\n 'Q9Y277',\n 'O95644',\n 'P17844',\n 'Q24JP5',\n 'P33778',\n 'Q14103',\n 'Q86XI2',\n 'P12931',\n 'Q12879',\n 'Q8N2H9',\n 'P15056',\n 'Q8IZP0',\n 'Q9UM47',\n 'Q9H4B6',\n 'Q8N163',\n 'P60660',\n 'P29966',\n 'Q13557',\n 'O00716',\n 'Q6P3S1',\n 'Q13636',\n 'Q9H3R2',\n 'Q9NYB9',\n 'P05060',\n 'P28482',\n 'P15036',\n 'P63000',\n 'Q9H160',\n 'P31152',\n 'Q9H1Y0',\n 'P02818',\n 'P21953',\n 'Q9Y2N7',\n 'Q8IWT3',\n 'Q96RI1',\n 'P0DP23',\n 'P42681',\n 'Q9GZY6',\n 'P35398',\n 'Q03405',\n 'Q9Y2I6',\n 'Q99541',\n 'P04350',\n 'P00519',\n 'Q8N6P7',\n 'Q8WXD2',\n 'O15488',\n 'Q8IVT5',\n 'P10398',\n 'Q15116',\n 'P19793',\n 'Q13285',\n 'P12111',\n 'Q13637',\n 'Q13153',\n 'Q9UHC7',\n 'Q99835',\n 'O60934',\n 'Q13761',\n 'Q14994',\n 'Q13094',\n 'Q9Y256',\n 'O75015',\n 'P19419',\n 'Q14061',\n 'Q15554',\n 'Q14031',\n 'P17676',\n 'O94826',\n 'Q9Y6N7',\n 'Q9Y5P4',\n 'Q9Y6N5',\n 'Q9BRK3',\n 'P49407',\n 'Q13555',\n 'P53350',\n 'A4D1S5',\n 'O14920',\n 'Q15717',\n 'Q92945',\n 'P13987',\n 'P54793',\n 'Q13371',\n 'P61026',\n 'P54760',\n 'Q9BUK0',\n 'Q9Y5L4',\n 'Q9Y6H1',\n 'Q86YS7',\n 'Q96PU8',\n 'O95486',\n 'P04001',\n 'Q01826',\n 'P62820',\n 'Q16555',\n 'Q7Z6P3',\n 'P78396',\n 'Q99880',\n 'Q12888',\n 'O14775',\n 'P09874',\n 'P68871',\n 'P11233',\n 'O00762',\n 'P23528',\n 'Q9Y266',\n 'Q05707',\n 'Q93098',\n 'P21810',\n 'P15941',\n 'P23246',\n 'P0CG48',\n 'Q13795',\n 'P26038',\n 'Q96IF1',\n 'Q92614',\n 'P00533',\n 'Q9NWZ3',\n 'P13196',\n 'P07992',\n 'P56211',\n 'O96017',\n 'Q92793',\n 'Q01831',\n 'Q9GZV5',\n 'P08631',\n 'P68366',\n 'O14905',\n 'Q8TDX7',\n 'Q93097',\n 'Q15788',\n 'Q9BYF1',\n 'P29317',\n 'O76024',\n 'P51170',\n 'O15169',\n 'Q99665',\n 'P09693',\n 'P78356',\n 'Q9NVK5',\n 'O75914',\n 'P41181',\n 'P08100',\n 'P24385',\n 'P33151',\n 'P35222',\n 'P07942',\n 'Q01362',\n 'Q9Y4K3',\n 'Q8WXI7',\n 'Q6NZY7',\n 'Q9HC98',\n 'P41212',\n 'P35442',\n 'Q14050',\n 'P20340',\n 'Q96AQ7',\n 'Q8N2W9',\n 'Q9NRP2',\n 'Q9UJU2',\n 'O60260',\n 'O15527',\n 'O60343',\n 'Q9NS62',\n 'P98088',\n 'Q8N3U4',\n 'P35968',\n 'Q05469',\n 'Q96KK5',\n 'P26358',\n 'P13611',\n 'Q86Y22',\n 'Q86XD5',\n 'Q96RQ3',\n 'Q14694',\n 'P41221',\n 'Q7KZF4',\n 'O75143',\n 'P11216',\n 'O96033',\n 'Q99558',\n 'P49841',\n 'Q7L9L4',\n 'Q9ULV1',\n 'O14757',\n 'Q09472',\n 'O75030',\n 'P00450',\n 'Q32MZ4',\n 'Q00987',\n 'P63146',\n 'Q08999',\n 'Q13316',\n 'O43353',\n 'Q9Y572',\n 'P31785',\n 'O15198',\n 'P36957',\n 'O95084',\n 'Q14515',\n 'Q5SSG8',\n 'Q13177',\n 'Q92985',\n 'P32927',\n 'P98155',\n 'Q01638',\n 'P27658',\n 'Q86YS6',\n 'Q14766',\n 'P68371',\n 'Q9Y5Y0',\n 'Q96QV6',\n 'O00161',\n 'Q07092',\n 'O75928',\n 'P30304',\n 'P21549',\n 'Q15406',\n 'Q9HB75',\n 'P67775',\n 'Q5JRA6',\n 'Q13546',\n 'Q15084',\n 'Q9BZG1',\n 'Q5FYA8',\n 'Q04206',\n 'Q9NZ53',\n 'P55058',\n 'O96014',\n 'Q06187',\n 'Q9BPX3',\n 'Q92841',\n 'Q9UQM7',\n 'Q71DI3',\n 'Q9UBV4',\n 'Q96JH7',\n 'Q99743',\n 'O75051',\n 'Q14194',\n 'O14672',\n 'Q9P2N4',\n 'Q8WXE9',\n 'O00763',\n 'O00391',\n 'Q04724',\n 'P51812',\n 'O43524',\n 'P16871',\n 'P16455',\n 'P49918',\n 'Q8IWA4',\n 'Q12778',\n 'O00206',\n 'Q6UX39',\n 'O95396',\n 'P61764',\n 'Q14693',\n 'Q14116',\n 'Q06124',\n 'P08842',\n 'Q96A00',\n 'Q9UBE8',\n 'O43609',\n 'P28749',\n 'P40818',\n 'P12318',\n 'Q13467',\n 'Q9GZT5',\n 'Q96B36',\n 'Q6ZMM2',\n 'Q6WCQ1',\n 'Q6ZMP0',\n 'P19878',\n 'O15519',\n 'P36969',\n 'Q13363',\n 'P56703',\n 'Q14118',\n 'Q9ULC3',\n 'Q15375',\n 'P06241',\n 'P53680',\n 'P58876',\n 'O14613',\n 'P46060',\n 'P62753',\n 'Q6YHK3',\n 'P27361',\n 'Q13541',\n 'P00367',\n 'Q7Z2W4',\n 'Q9UBK2',\n 'P37231',\n 'P52735',\n 'P02679',\n 'P43351',\n 'Q15768',\n 'Q9Y6Q9',\n 'P51153',\n 'Q6P988',\n 'O95429',\n 'P10827',\n 'P30273',\n 'Q14191',\n 'Q02045',\n 'P56706',\n 'P29590',\n 'P30307',\n 'P10828',\n 'Q96HY7',\n 'P52564',\n 'Q13099',\n 'P34897',\n 'Q93077',\n 'O75888',\n 'Q06609',\n 'Q9BUF5',\n 'Q9BTY2',\n 'P05106',\n 'P01275',\n 'Q14956',\n 'P54840',\n 'P06737',\n 'Q10588',\n 'P51648',\n 'P10451',\n 'Q9BY41',\n 'Q8N4Z0',\n 'Q92754',\n 'P11142',\n 'Q53HL2',\n 'Q9H8Y8',\n 'O60500',\n 'Q15303',\n 'Q8NBP7',\n 'Q5TAT6',\n 'A8TX70',\n 'P29597',\n 'Q8N4F0',\n 'Q9H8M9',\n 'Q16288',\n 'Q08881',\n 'Q15653',\n 'P21796',\n 'Q02447',\n 'Q15080',\n 'P41279',\n 'Q76LX8',\n 'P05198',\n 'P01106',\n 'O75469',\n 'Q13330',\n 'Q9UQK1',\n 'Q9BXS0',\n 'P10747',\n 'P43353',\n 'O60220',\n 'O95498',\n 'P62979',\n 'Q96ST3',\n 'Q14393',\n 'Q14055',\n 'P56704',\n 'P11802',\n 'Q9UIF7',\n 'Q6PEY2',\n 'Q9HCM3',\n 'Q9Y4I1',\n 'P20338',\n 'P00742',\n 'Q9BU40',\n 'Q6UVK1',\n 'P52948',\n 'Q9UIS9',\n 'Q16763',\n 'P49448',\n 'O95633',\n 'P52630',\n 'Q14765',\n 'Q9H324',\n 'Q16566',\n 'Q9NYJ1',\n 'P34969',\n 'P42695',\n 'P04049',\n 'Q16512',\n 'Q07352',\n 'Q14789',\n 'Q9Y6F9',\n 'P62987',\n 'P18827',\n 'P19823',\n 'Q01955',\n 'Q15465',\n 'P52569',\n 'Q9UD71',\n 'P02787',\n 'Q13617',\n 'P25054',\n 'P56705',\n 'Q96AX2',\n 'Q9NP71',\n 'Q07889',\n 'P04179',\n 'Q96GX5',\n 'Q07343',\n 'Q16526',\n 'O14492',\n 'P23458',\n 'P11831',\n 'Q92481',\n 'P57764',\n 'Q13324',\n 'P01034',\n 'Q00613',\n 'Q01449',\n 'Q8TE58',\n 'Q15286',\n 'Q15418',\n 'P11473',\n 'Q99717',\n 'Q9H853',\n 'Q92794',\n 'P17181',\n 'Q7L7L0',\n 'P23434',\n 'O75553',\n 'Q14195',\n 'Q14739',\n 'Q9H4B7',\n 'Q04759',\n 'P04626',\n 'P16671',\n 'Q15173',\n 'P78552',\n 'P14625',\n 'Q6PGQ7',\n 'Q15067',\n 'P46734',\n 'P46531',\n 'P26651',\n 'P08235',\n 'Q00653',\n 'Q9ULW5',\n 'Q9NQC7',\n 'Q8WXS8',\n 'P10721',\n 'A6NMZ7',\n 'P63010',\n 'Q9NP72',\n 'Q71U36',\n 'P05231',\n 'Q15424',\n 'Q6PCB0',\n 'P54764',\n 'Q9H1J5',\n 'P22455',\n 'Q9NTJ3',\n 'Q9UEF7',\n 'Q9NQB0',\n 'Q13224',\n 'P21802',\n 'P15311',\n 'O75182',\n 'P04908',\n 'Q8NFW1',\n 'Q14457',\n 'Q9NRM7',\n 'P08571',\n 'Q99504',\n 'Q01196',\n 'P02647',\n 'Q96T51',\n 'P68363',\n 'Q08379',\n 'P58335',\n 'Q685J3',\n 'P54646',\n 'O43815',\n 'P58397',\n 'Q99062',\n 'Q96FA3',\n 'P11274',\n 'P23219',\n 'P56277',\n 'Q9P283',\n 'Q6NXG1',\n 'Q15797',\n 'Q99502',\n 'Q9UBW5',\n 'P06899',\n 'P11182',\n 'P43146',\n 'Q9H063',\n 'Q8N114',\n 'P10515',\n 'O94856',\n 'P62318',\n 'Q9UGN5',\n 'Q92570',\n 'Q02297',\n 'P98077',\n 'Q9UKN1',\n 'P12107',\n 'Q8N6G6',\n 'Q92934',\n 'Q9H2X6',\n 'Q9NRY5',\n 'Q9Y3M2',\n 'P61018',\n 'P02458',\n 'P15880',\n 'P10636',\n 'P19429',\n 'Q9HCM2',\n 'O00548',\n 'Q92558',\n 'Q08050',\n 'P51797',\n 'Q99217',\n 'P19235',\n 'P02751',\n 'Q9Y618',\n 'O00468',\n 'Q96GW7',\n 'O75460',\n 'Q15021',\n 'P14649',\n 'Q13480',\n 'Q9HC77',\n 'O95684',\n 'Q9BUA6',\n 'Q8WYQ3',\n 'P15391',\n 'Q17RW2',\n 'P07585',\n 'P55211',\n 'P11388',\n 'O60674',\n 'Q8NHY2',\n 'Q03393',\n 'P04035',\n 'P69905',\n 'P13807',\n 'P43405',\n 'P14921',\n 'P57053',\n 'O43914',\n 'P12830',\n 'Q9ULT6',\n 'Q8TD19',\n 'P23327',\n 'O00141',\n 'Q86TH1',\n 'P17302',\n 'Q9Y625',\n 'Q93079',\n 'P11912',\n 'Q15796',\n 'Q14703',\n 'Q15078',\n 'P49327',\n 'P54756',\n 'Q13362',\n 'O60240',\n 'P02461',\n 'P21709',\n 'Q9BQE3',\n 'P13942',\n 'O00622',\n 'Q9Y243',\n 'P15848',\n 'Q96B97',\n 'P10071',\n 'P49792',\n 'O43157',\n 'P23771',\n 'P02462',\n 'P61088',\n 'P16118',\n 'Q06481',\n 'O43303',\n 'P12644',\n 'Q9BVA1',\n 'P01009',\n 'Q7Z5P9',\n 'Q9UQC2',\n 'P46976',\n 'O00257',\n 'Q8N2K1',\n 'Q13439',\n 'P35052',\n 'P59190',\n 'P42685',\n 'Q9H1J7',\n 'Q8WWR8',\n 'P41208',\n 'P20339',\n 'P13569',\n 'P62837',\n 'Q96P20',\n 'P13639',\n 'P15260',\n 'P20849',\n 'P51843',\n 'Q13620',\n 'P35354',\n 'P30530',\n 'Q8N0Z6',\n 'O96028',\n 'Q969T4',\n 'Q52LA3',\n 'P10912',\n 'Q96SD1',\n 'O95999',\n 'Q96S21',\n 'P0CG47',\n 'O75197',\n 'Q13509',\n 'P11387',\n 'Q969V5',\n 'Q8IXI2',\n 'P36896',\n 'P20908',\n 'P36888',\n 'Q9P126',\n 'P05997',\n 'P78504',\n 'Q13635',\n 'Q99877',\n 'Q99878',\n 'Q03468',\n 'P40763',\n 'O15111',\n 'Q8TBC4',\n 'Q14155',\n 'P60484',\n 'P36894',\n 'P16234',\n 'Q9BWV1',\n 'Q5QNW6',\n 'Q04637',\n 'P12110',\n 'P15289',\n 'P58012',\n 'Q8TE57',\n 'P38936',\n 'P62314',\n 'Q92731',\n 'Q96GD4',\n 'O95714',\n 'P62495',\n 'Q96B02',\n 'Q9H267',\n 'P12109',\n 'P01892',\n 'Q02241',\n 'O95972',\n 'O94973',\n 'Q6UWY0',\n 'P51692',\n 'Q96DA2',\n 'Q9Y6W5',\n 'O94953',\n 'Q96LC9',\n 'Q12791',\n 'P25963',\n 'P27986',\n 'Q6UN15',\n 'Q13950',\n 'Q13188',\n 'O14733',\n 'O94855',\n 'Q9UKP4',\n 'Q9HCB6',\n 'Q8TAQ5',\n 'A6NNZ2',\n 'Q8WV28',\n 'Q01814',\n 'Q9UBC3',\n 'Q9Y2X7',\n 'P29353',\n 'P53779',\n 'O60285',\n 'P02768',\n 'Q00534',\n 'Q9UF33',\n 'Q9BXN2',\n 'Q04726',\n 'O95716',\n 'Q9NQ76',\n 'Q9Y365',\n 'Q9Y3E5',\n 'P54753',\n 'O95497',\n 'Q02880',\n 'P51451',\n 'Q8TE59',\n 'Q99996',\n 'Q8IUE6',\n 'P04085',\n 'Q5JTJ3',\n 'O15197',\n 'P99999',\n 'Q9Y5X4',\n 'P42224',\n 'P21860',\n 'P25098',\n 'Q92529',\n 'Q07065',\n 'Q13085',\n 'Q13421',\n 'Q14526',\n 'Q9BQA1',\n 'O15516',\n 'P16471',\n 'P0DPH7',\n 'Q9UBR2',\n 'P40429',\n 'Q8IZC6',\n 'P62714',\n 'P42261',\n 'P49427',\n 'O75525',\n 'Q14247',\n 'Q13315',\n 'Q99497',\n 'Q96P44',\n 'Q08431',\n 'Q15293',\n 'P53671',\n 'Q02763',\n 'O14974',\n 'P14598',\n 'Q8N302',\n 'P24394',\n 'Q9UKT4',\n 'Q9NY65',\n 'P49815',\n 'Q9UM21',\n 'P54762',\n 'P06239',\n 'P05771',\n 'Q6Q788',\n 'Q8WXH6',\n 'P29400',\n 'P51884',\n 'Q04912',\n 'Q96FF9',\n 'P07949',\n 'Q49B96',\n 'P35555',\n 'P48552',\n 'Q8TDY2',\n 'Q9NZL9',\n 'Q8TE60',\n 'Q9BUD6',\n 'P14678',\n 'O95677',\n 'P42768',\n 'Q3SXY8',\n 'Q9UBW7',\n 'P08174',\n 'P47712',\n 'O60814',\n 'P34059',\n 'Q15643',\n 'P13591',\n 'Q9NRY4',\n 'O60870',\n 'P10070',\n 'P01210',\n 'P50548',\n 'Q8N5V2',\n 'O95196',\n 'P26045',\n 'Q13882',\n 'P08887',\n 'Q99708',\n 'P14635',\n 'Q7Z6M1',\n 'Q12834',\n 'Q8IW41',\n 'P0DPH8',\n 'Q9UKP5',\n 'P54132',\n 'Q9UK55',\n 'Q96CW1',\n 'Q02078',\n 'Q86XL3',\n 'Q9HAT8',\n 'Q9Y2T1',\n 'Q13263',\n 'P20248',\n 'O75531',\n 'Q13619',\n 'O15151',\n 'P06731',\n 'Q8N9B5',\n 'O95760',\n 'O14654',\n 'Q05513',\n ...}"
     },
     "execution_count": 88,
     "metadata": {},
     "output_type": "execute_result"
    }
   ],
   "source": [
    "# Select proteins with multiple proteoforms\n",
    "\n",
    "selected_proteins = set(df[\"Protein\"].unique())\n",
    "selected_proteins\n",
    "\n",
    "# Select proteins that do not participate in many diseases\n",
    "\n"
   ],
   "metadata": {
    "collapsed": false,
    "pycharm": {
     "name": "#%% Select proteins proteins to filter diseases\n"
    }
   }
  },
  {
   "cell_type": "code",
   "execution_count": 89,
   "outputs": [
    {
     "name": "stdout",
     "output_type": "stream",
     "text": [
      "Sex Hormone-Binding Globulin\n",
      "Follicle Stimulating Hormone\n",
      "Nose\n",
      "Face\n",
      "Immunoglobulin M\n",
      "Hemoglobin A2\n",
      "Prostate-Specific Antigen\n",
      "HER2(776-788)\n",
      "Neuroticism\n",
      "Tourette Syndrome\n"
     ]
    }
   ],
   "source": [
    "selected_diseases = set()\n",
    "for disease, proteins in map_disease_to_proteins.items():\n",
    "    if proteins & selected_proteins:\n",
    "        selected_diseases.add(disease)\n",
    "# selected_diseases\n",
    "for i, val in enumerate(itertools.islice(selected_diseases, 10)):\n",
    "    print(val)"
   ],
   "metadata": {
    "collapsed": false,
    "pycharm": {
     "name": "#%% Select diseases with at least one protein with multiple proteoforms\n"
    }
   }
  },
  {
   "cell_type": "code",
   "execution_count": 90,
   "outputs": [
    {
     "data": {
      "text/plain": "321"
     },
     "execution_count": 90,
     "metadata": {},
     "output_type": "execute_result"
    }
   ],
   "source": [
    "len(selected_diseases)"
   ],
   "metadata": {
    "collapsed": false,
    "pycharm": {
     "name": "#%%\n"
    }
   }
  },
  {
   "cell_type": "code",
   "execution_count": 91,
   "outputs": [],
   "source": [
    "participant_records = { l: get_participants(l, GRAPHS_PATH) for l in [*LEVELS, sm]}\n",
    "components_records = { l: get_components(l, GRAPHS_PATH) for l in [*LEVELS, sm]}"
   ],
   "metadata": {
    "collapsed": false,
    "pycharm": {
     "name": "#%% Get all reaction participants and complex components in Reactome\n"
    }
   }
  },
  {
   "cell_type": "code",
   "execution_count": 94,
   "outputs": [
    {
     "name": "stdout",
     "output_type": "stream",
     "text": [
      "Graph for genes \n",
      "Graph edges: 528969\n",
      "Graph nodes: 12933\n",
      "Graph genes nodes: 10968\n",
      "Graph small molecule nodes: 1965\n",
      "\n",
      "***********************\n",
      "\n",
      "\n",
      "Graph for proteins \n",
      "Graph edges: 538874\n",
      "Graph nodes: 13031\n",
      "Graph proteins nodes: 11066\n",
      "Graph small molecule nodes: 1965\n",
      "\n",
      "***********************\n",
      "\n",
      "\n",
      "Graph for proteoforms \n",
      "Graph edges: 759198\n",
      "Graph nodes: 16260\n",
      "Graph proteoforms nodes: 14295\n",
      "Graph small molecule nodes: 1965\n",
      "\n",
      "***********************\n",
      "\n",
      "\n"
     ]
    }
   ],
   "source": [
    "interactomes_with_sm = { l: get_or_create_interaction_network(l, with_sm, participant_records, components_records, GRAPHS_PATH) for l in LEVELS}\n",
    "for level, interactome in interactomes_with_sm.items():\n",
    "     print_interactome_details(interactome)"
   ],
   "metadata": {
    "collapsed": false,
    "pycharm": {
     "name": "#%% Create interactomes with generic small molecules for Genes, Proteins and Proteoforms\n"
    }
   }
  },
  {
   "cell_type": "code",
   "source": [
    "# Create disease module at genes level\n",
    "# -- We know what genes belong\n",
    "# -- Create a subraph induced by the gene nodes and the neighboring small molecules\n",
    "\n",
    "for trait in list(selected_diseases)[:1]:\n",
    "    node_set = get_nodes_and_adjacent(map_disease_to_genes[trait], interactomes_with_sm[genes])\n",
    "    S = interactomes_with_sm[genes].subgraph(node_set)\n",
    "    p = plot_interaction_network(S, coloring=Coloring.ENTITY_TYPE, plot_width=600, plot_height=500, toolbar_location=None, title=\"Test title\", legend_location=\"right\")\n",
    "    plt.show(p)\n",
    "# Create disease module at proteins level\n",
    "\n",
    "# Create disease module at proteoforms level"
   ],
   "metadata": {
    "collapsed": false,
    "pycharm": {
     "name": "#%%\n"
    }
   },
   "execution_count": 105,
   "outputs": [
    {
     "ename": "KeyError",
     "evalue": "1286",
     "output_type": "error",
     "traceback": [
      "\u001B[1;31m---------------------------------------------------------------------------\u001B[0m",
      "\u001B[1;31mKeyError\u001B[0m                                  Traceback (most recent call last)",
      "\u001B[1;32m<ipython-input-105-d9fc55390e2d>\u001B[0m in \u001B[0;36m<module>\u001B[1;34m\u001B[0m\n\u001B[0;32m      6\u001B[0m     \u001B[0mnode_set\u001B[0m \u001B[1;33m=\u001B[0m \u001B[0mget_nodes_and_adjacent\u001B[0m\u001B[1;33m(\u001B[0m\u001B[0mmap_disease_to_genes\u001B[0m\u001B[1;33m[\u001B[0m\u001B[0mtrait\u001B[0m\u001B[1;33m]\u001B[0m\u001B[1;33m,\u001B[0m \u001B[0minteractomes_with_sm\u001B[0m\u001B[1;33m[\u001B[0m\u001B[0mgenes\u001B[0m\u001B[1;33m]\u001B[0m\u001B[1;33m)\u001B[0m\u001B[1;33m\u001B[0m\u001B[1;33m\u001B[0m\u001B[0m\n\u001B[0;32m      7\u001B[0m     \u001B[0mS\u001B[0m \u001B[1;33m=\u001B[0m \u001B[0minteractomes_with_sm\u001B[0m\u001B[1;33m[\u001B[0m\u001B[0mgenes\u001B[0m\u001B[1;33m]\u001B[0m\u001B[1;33m.\u001B[0m\u001B[0msubgraph\u001B[0m\u001B[1;33m(\u001B[0m\u001B[0mnode_set\u001B[0m\u001B[1;33m)\u001B[0m\u001B[1;33m\u001B[0m\u001B[1;33m\u001B[0m\u001B[0m\n\u001B[1;32m----> 8\u001B[1;33m     \u001B[0mp\u001B[0m \u001B[1;33m=\u001B[0m \u001B[0mplot_interaction_network\u001B[0m\u001B[1;33m(\u001B[0m\u001B[0mS\u001B[0m\u001B[1;33m,\u001B[0m \u001B[0mcoloring\u001B[0m\u001B[1;33m=\u001B[0m\u001B[0mColoring\u001B[0m\u001B[1;33m.\u001B[0m\u001B[0mENTITY_TYPE\u001B[0m\u001B[1;33m,\u001B[0m \u001B[0mplot_width\u001B[0m\u001B[1;33m=\u001B[0m\u001B[1;36m600\u001B[0m\u001B[1;33m,\u001B[0m \u001B[0mplot_height\u001B[0m\u001B[1;33m=\u001B[0m\u001B[1;36m500\u001B[0m\u001B[1;33m,\u001B[0m \u001B[0mtoolbar_location\u001B[0m\u001B[1;33m=\u001B[0m\u001B[1;32mNone\u001B[0m\u001B[1;33m,\u001B[0m \u001B[0mtitle\u001B[0m\u001B[1;33m=\u001B[0m\u001B[1;34m\"Test title\"\u001B[0m\u001B[1;33m,\u001B[0m \u001B[0mlegend_location\u001B[0m\u001B[1;33m=\u001B[0m\u001B[1;34m\"right\"\u001B[0m\u001B[1;33m)\u001B[0m\u001B[1;33m\u001B[0m\u001B[1;33m\u001B[0m\u001B[0m\n\u001B[0m\u001B[0;32m      9\u001B[0m     \u001B[0mplt\u001B[0m\u001B[1;33m.\u001B[0m\u001B[0mshow\u001B[0m\u001B[1;33m(\u001B[0m\u001B[0mp\u001B[0m\u001B[1;33m)\u001B[0m\u001B[1;33m\u001B[0m\u001B[1;33m\u001B[0m\u001B[0m\n\u001B[0;32m     10\u001B[0m \u001B[1;31m# Create disease module at proteins level\u001B[0m\u001B[1;33m\u001B[0m\u001B[1;33m\u001B[0m\u001B[1;33m\u001B[0m\u001B[0m\n",
      "\u001B[1;32mC:\\git\\PathwayAnalysisPlatform\\ProteoformNetworks\\src\\Python\\visualization\\visualize_single_network.py\u001B[0m in \u001B[0;36mplot_interaction_network\u001B[1;34m(G, coloring, **kwargs)\u001B[0m\n\u001B[0;32m    143\u001B[0m \u001B[1;33m\u001B[0m\u001B[0m\n\u001B[0;32m    144\u001B[0m         \u001B[0mradius\u001B[0m \u001B[1;33m=\u001B[0m \u001B[0mkwargs\u001B[0m\u001B[1;33m[\u001B[0m\u001B[1;34m'radius'\u001B[0m\u001B[1;33m]\u001B[0m \u001B[1;32mif\u001B[0m \u001B[1;34m'radius'\u001B[0m \u001B[1;32min\u001B[0m \u001B[0mkwargs\u001B[0m \u001B[1;32melse\u001B[0m \u001B[1;36m0.1\u001B[0m\u001B[1;33m\u001B[0m\u001B[1;33m\u001B[0m\u001B[0m\n\u001B[1;32m--> 145\u001B[1;33m         \u001B[0mcolor_palette\u001B[0m \u001B[1;33m=\u001B[0m \u001B[0mkwargs\u001B[0m\u001B[1;33m[\u001B[0m\u001B[1;34m'color_palette'\u001B[0m\u001B[1;33m]\u001B[0m \u001B[1;32mif\u001B[0m \u001B[1;34m'color_palette'\u001B[0m \u001B[1;32min\u001B[0m \u001B[0mkwargs\u001B[0m \u001B[1;32melse\u001B[0m \u001B[0mgetDefaultPalette\u001B[0m\u001B[1;33m(\u001B[0m\u001B[0mlen\u001B[0m\u001B[1;33m(\u001B[0m\u001B[0mevents\u001B[0m\u001B[1;33m)\u001B[0m\u001B[1;33m)\u001B[0m\u001B[1;33m\u001B[0m\u001B[1;33m\u001B[0m\u001B[0m\n\u001B[0m\u001B[0;32m    146\u001B[0m \u001B[1;33m\u001B[0m\u001B[0m\n\u001B[0;32m    147\u001B[0m         \u001B[1;31m######## Create fake wedge to create full legend\u001B[0m\u001B[1;33m\u001B[0m\u001B[1;33m\u001B[0m\u001B[1;33m\u001B[0m\u001B[0m\n",
      "\u001B[1;32mC:\\git\\PathwayAnalysisPlatform\\ProteoformNetworks\\src\\Python\\visualization\\visualize_single_network.py\u001B[0m in \u001B[0;36mgetDefaultPalette\u001B[1;34m(n)\u001B[0m\n\u001B[0;32m     48\u001B[0m         \u001B[1;32mreturn\u001B[0m \u001B[1;33m[\u001B[0m\u001B[0mColorblind\u001B[0m\u001B[1;33m[\u001B[0m\u001B[1;36m3\u001B[0m\u001B[1;33m]\u001B[0m\u001B[1;33m[\u001B[0m\u001B[1;36m0\u001B[0m\u001B[1;33m]\u001B[0m\u001B[1;33m,\u001B[0m \u001B[0mColorblind\u001B[0m\u001B[1;33m[\u001B[0m\u001B[1;36m3\u001B[0m\u001B[1;33m]\u001B[0m\u001B[1;33m[\u001B[0m\u001B[1;36m1\u001B[0m\u001B[1;33m]\u001B[0m\u001B[1;33m]\u001B[0m\u001B[1;33m\u001B[0m\u001B[1;33m\u001B[0m\u001B[0m\n\u001B[0;32m     49\u001B[0m     \u001B[1;32melse\u001B[0m\u001B[1;33m:\u001B[0m\u001B[1;33m\u001B[0m\u001B[1;33m\u001B[0m\u001B[0m\n\u001B[1;32m---> 50\u001B[1;33m         \u001B[1;32mreturn\u001B[0m \u001B[0mColorblind\u001B[0m\u001B[1;33m[\u001B[0m\u001B[0mn\u001B[0m\u001B[1;33m]\u001B[0m\u001B[1;33m\u001B[0m\u001B[1;33m\u001B[0m\u001B[0m\n\u001B[0m\u001B[0;32m     51\u001B[0m \u001B[1;33m\u001B[0m\u001B[0m\n\u001B[0;32m     52\u001B[0m \u001B[1;33m\u001B[0m\u001B[0m\n",
      "\u001B[1;31mKeyError\u001B[0m: 1286"
     ]
    }
   ]
  },
  {
   "cell_type": "code",
   "execution_count": null,
   "outputs": [],
   "source": [],
   "metadata": {
    "collapsed": false,
    "pycharm": {
     "name": "#%%\n"
    }
   }
  }
 ],
 "metadata": {
  "kernelspec": {
   "display_name": "Python 3",
   "language": "python",
   "name": "python3"
  },
  "language_info": {
   "codemirror_mode": {
    "name": "ipython",
    "version": 2
   },
   "file_extension": ".py",
   "mimetype": "text/x-python",
   "name": "python",
   "nbconvert_exporter": "python",
   "pygments_lexer": "ipython2",
   "version": "2.7.6"
  },
  "pycharm": {
   "stem_cell": {
    "cell_type": "raw",
    "source": [
     "# This file is the starting point for the whole project.\n",
     "\"\"\"\n",
     " The goal of this project is to study the differences between protein and proteoform \n",
     " interaction networks for functional analysis.\n",
     "\n",
     "\"\"\"  \n"
    ],
    "metadata": {
     "collapsed": false
    }
   }
  }
 },
 "nbformat": 4,
 "nbformat_minor": 0
}