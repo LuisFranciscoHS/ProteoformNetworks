{
 "cells": [
  {
   "cell_type": "markdown",
   "source": [
    "* Goal 1: Find examples that suggest the use of small molecules in the interaction networks\n",
    "* Goal 2: Show overview of the network topologies\n",
    "* Goal 3: Show overview of modifications of proteins in the interface of disease modules\n",
    "* Goal 4: Show overview of the disease module overlap\n",
    "\n",
    "- [X] Create interactomes\n",
    "    - [X] Interactomes without small molecules\n",
    "    - [X] Interactomes with small molecules\n",
    "- [ ] Show examples\n",
    "- [ ] Create some disease modules\n",
    "    - [X] Select multiform proteins\n",
    "    - [ ] Select diseases containing multiforms\n",
    "- [ ] A) Find pairs that overlap only with modified proteoforms\n",
    "- [ ] B) Find pairs that overlap at gene/protein level and not overlap at proteoform level\n",
    "    - [ ] Calculate overlap scores: node overlap, jaccard index, separation\n",
    "    - [ ] Make\n",
    "    - [ ] Plot overlap score distribution for all selected disease pairs\n",
    "    - [ ] Plot selected pairs"
   ],
   "metadata": {
    "collapsed": false,
    "pycharm": {
     "name": "#%% md\n"
    }
   }
  },
  {
   "cell_type": "markdown",
   "source": [
    "## Set up configuration"
   ],
   "metadata": {
    "collapsed": false,
    "pycharm": {
     "name": "#%% md\n"
    }
   }
  },
  {
   "cell_type": "code",
   "execution_count": 1,
   "outputs": [
    {
     "name": "stdout",
     "output_type": "stream",
     "text": [
      "Working directory: c:\\git\\pathwayanalysisplatform\\proteoformnetworks\n"
     ]
    }
   ],
   "source": [
    "import subprocess\n",
    "\n",
    "import matplotlib.pyplot as plt\n",
    "import numpy as np\n",
    "import pandas as pd\n",
    "import seaborn as sns\n",
    "from numpy.core.tests.test_einsum import sizes\n",
    "\n",
    "import config\n",
    "from config import LEVELS\n",
    "from datasets.phegeni.filter_genes import create_filtered_file\n",
    "from interactomes import get_interactome\n",
    "from lib.dictionaries import read_dictionary_one_to_set, merge_dictionaries\n",
    "from lib.download import download_if_not_exists\n",
    "from lib.graph_database import get_query_result\n",
    "from queries import QUERY_GET_NUM_PROTEOFORMS_PER_PROTEIN\n",
    "\n",
    "%load_ext autoreload\n",
    "%autoreload 2\n",
    "%reload_ext autoreload\n",
    "\n",
    "config.set_root_wd()"
   ],
   "metadata": {
    "collapsed": false,
    "pycharm": {
     "name": "#%% Set up configuration\n"
    }
   }
  },
  {
   "cell_type": "markdown",
   "source": [
    "## Create disease modules"
   ],
   "metadata": {
    "collapsed": false,
    "pycharm": {
     "name": "#%% md\n"
    }
   }
  },
  {
   "cell_type": "code",
   "execution_count": 2,
   "outputs": [
    {
     "name": "stdout",
     "output_type": "stream",
     "text": [
      "PheGenI files READY\n",
      "Jensen Lab files READY\n"
     ]
    }
   ],
   "source": [
    "# PheGenI Phenotypes\n",
    "download_if_not_exists(\"resources/PheGenI/\", \n",
    "                       \"PheGenI_Association.txt\", \n",
    "                       \"https://www.ncbi.nlm.nih.gov/projects/gap/eqtl/EpiViewBE.cgi?type=dl.tab\",\n",
    "                       \"PheGenI All_modules\")\n",
    "print(\"PheGenI files READY\")\n",
    "\n",
    "# Filter\n",
    "create_filtered_file(\"resources/PheGenI/PheGenI_Association.txt\",\n",
    "                     \"resources/PheGenI/PheGenI_Association_genome_wide_significant.txt\",\n",
    "                     5e-8)\n",
    "\n",
    "# Jensen Lab Diseases\n",
    "download_if_not_exists(\"resources/Jensen/\",\n",
    "                       \"human_disease_textmining_filtered.tsv\",\n",
    "                       \"http://download.jensenlab.org/human_disease_textmining_filtered.tsv\",\n",
    "                       \"Jensen Lab Diseases\")\n",
    "print(\"Jensen Lab files READY\")"
   ],
   "metadata": {
    "collapsed": false,
    "pycharm": {
     "name": "#%% Download data to create disease modules\n"
    }
   }
  },
  {
   "cell_type": "code",
   "execution_count": 3,
   "outputs": [
    {
     "data": {
      "text/plain": "     Protein                                        Proteoforms  \\\n0     P0CG48  [[P0CG48], [P0CG48, 00134:152], [P0CG48, 00134...   \n1     P68431  [[P68431], [P68431, 00046:11, 00047:12, 00064:...   \n2     Q71DI3  [[Q71DI3], [Q71DI3, 00046:11, 00047:12, 00064:...   \n3     P02452  [[P02452], [P02452, 00037:null], [P02452, 0003...   \n4     P08123  [[P08123], [P08123, 00037:null], [P08123, 0003...   \n...      ...                                                ...   \n1486  Q9Y6K1                   [[Q9Y6K1], [Q9Y6K1, 01149:null]]   \n1487  Q9Y6Q2                   [[Q9Y6Q2], [Q9Y6Q2, 01150:null]]   \n1488  Q9Y6Q9                    [[Q9Y6Q9], [Q9Y6Q9, 00046:857]]   \n1489  Q9Y6W8                [[Q9Y6W8-1], [Q9Y6W8-1, 00048:180]]   \n1490  Q9Y6Y9          [[Q9Y6Y9], [Q9Y6Y9, 00160:26, 00160:114]]   \n\n      NumProteoforms  \n0                 82  \n1                 52  \n2                 48  \n3                 36  \n4                 36  \n...              ...  \n1486               2  \n1487               2  \n1488               2  \n1489               2  \n1490               2  \n\n[1491 rows x 3 columns]",
      "text/html": "<div>\n<style scoped>\n    .dataframe tbody tr th:only-of-type {\n        vertical-align: middle;\n    }\n\n    .dataframe tbody tr th {\n        vertical-align: top;\n    }\n\n    .dataframe thead th {\n        text-align: right;\n    }\n</style>\n<table border=\"1\" class=\"dataframe\">\n  <thead>\n    <tr style=\"text-align: right;\">\n      <th></th>\n      <th>Protein</th>\n      <th>Proteoforms</th>\n      <th>NumProteoforms</th>\n    </tr>\n  </thead>\n  <tbody>\n    <tr>\n      <th>0</th>\n      <td>P0CG48</td>\n      <td>[[P0CG48], [P0CG48, 00134:152], [P0CG48, 00134...</td>\n      <td>82</td>\n    </tr>\n    <tr>\n      <th>1</th>\n      <td>P68431</td>\n      <td>[[P68431], [P68431, 00046:11, 00047:12, 00064:...</td>\n      <td>52</td>\n    </tr>\n    <tr>\n      <th>2</th>\n      <td>Q71DI3</td>\n      <td>[[Q71DI3], [Q71DI3, 00046:11, 00047:12, 00064:...</td>\n      <td>48</td>\n    </tr>\n    <tr>\n      <th>3</th>\n      <td>P02452</td>\n      <td>[[P02452], [P02452, 00037:null], [P02452, 0003...</td>\n      <td>36</td>\n    </tr>\n    <tr>\n      <th>4</th>\n      <td>P08123</td>\n      <td>[[P08123], [P08123, 00037:null], [P08123, 0003...</td>\n      <td>36</td>\n    </tr>\n    <tr>\n      <th>...</th>\n      <td>...</td>\n      <td>...</td>\n      <td>...</td>\n    </tr>\n    <tr>\n      <th>1486</th>\n      <td>Q9Y6K1</td>\n      <td>[[Q9Y6K1], [Q9Y6K1, 01149:null]]</td>\n      <td>2</td>\n    </tr>\n    <tr>\n      <th>1487</th>\n      <td>Q9Y6Q2</td>\n      <td>[[Q9Y6Q2], [Q9Y6Q2, 01150:null]]</td>\n      <td>2</td>\n    </tr>\n    <tr>\n      <th>1488</th>\n      <td>Q9Y6Q9</td>\n      <td>[[Q9Y6Q9], [Q9Y6Q9, 00046:857]]</td>\n      <td>2</td>\n    </tr>\n    <tr>\n      <th>1489</th>\n      <td>Q9Y6W8</td>\n      <td>[[Q9Y6W8-1], [Q9Y6W8-1, 00048:180]]</td>\n      <td>2</td>\n    </tr>\n    <tr>\n      <th>1490</th>\n      <td>Q9Y6Y9</td>\n      <td>[[Q9Y6Y9], [Q9Y6Y9, 00160:26, 00160:114]]</td>\n      <td>2</td>\n    </tr>\n  </tbody>\n</table>\n<p>1491 rows × 3 columns</p>\n</div>"
     },
     "execution_count": 3,
     "metadata": {},
     "output_type": "execute_result"
    }
   ],
   "source": [
    "query = QUERY_GET_NUM_PROTEOFORMS_PER_PROTEIN\n",
    "df = get_query_result(query)\n",
    "\n",
    "df"
   ],
   "metadata": {
    "collapsed": false,
    "pycharm": {
     "name": "#%% Get list of proteins with multiple proteoforms\n"
    }
   }
  },
  {
   "cell_type": "code",
   "execution_count": 4,
   "outputs": [
    {
     "data": {
      "text/plain": "            #                                           Trait    SNP rs  \\\n0           2  1-Alkyl-2-acetylglycerophosphocholine Esterase   7528419   \n1           3  1-Alkyl-2-acetylglycerophosphocholine Esterase  12740374   \n2           4  1-Alkyl-2-acetylglycerophosphocholine Esterase    599839   \n3           5  1-Alkyl-2-acetylglycerophosphocholine Esterase    600550   \n4           6  1-Alkyl-2-acetylglycerophosphocholine Esterase    964184   \n...       ...                                             ...       ...   \n30210  136499                           von Willebrand Factor   8176704   \n30211  136500                           von Willebrand Factor    687621   \n30212  136501                           von Willebrand Factor    643434   \n30213  136502                           von Willebrand Factor    505922   \n30214  136526                                     ziprasidone   1405687   \n\n          Context       Gene    Gene ID  Gene 2  Gene ID 2  Chromosome  \\\n0           UTR-3     CELSR2       1952  CELSR2       1952           1   \n1           UTR-3     CELSR2       1952  CELSR2       1952           1   \n2      nearGene-3      PSRC1      84722   PSRC1      84722           1   \n3          intron     MS4A4E     643680  MS4A4E     643680          11   \n4          intron       ZPR1       8882    ZPR1       8882          11   \n...           ...        ...        ...     ...        ...         ...   \n30210      intron        ABO         28     ABO         28           9   \n30211      intron        ABO         28     ABO         28           9   \n30212      intron        ABO         28     ABO         28           9   \n30213      intron        ABO         28     ABO         28           9   \n30214  intergenic  LINC01216  100874275  PPP3CA       5530           4   \n\n        Location  P-Value Source    PubMed  Analysis ID  Study ID Study Name  \n0      109274569     0.00  NHGRI  22003152            0       NaN        NaN  \n1      109274967     0.00  NHGRI  23118302            0       NaN        NaN  \n2      109279543     0.00  NHGRI  20442857            0       NaN        NaN  \n3       60230192     0.00  NHGRI  23118302            0       NaN        NaN  \n4      116778200     0.00  NHGRI  22003152            0       NaN        NaN  \n...          ...      ...    ...       ...          ...       ...        ...  \n30210  133260147     0.00  NHGRI  26486471            0       NaN        NaN  \n30211  133261661     0.00  NHGRI  20231535            0       NaN        NaN  \n30212  133266941     0.00  NHGRI  23381943            0       NaN        NaN  \n30213  133273812     0.00  NHGRI  23381943            0       NaN        NaN  \n30214  101010668     0.00  NHGRI  20195266            0       NaN        NaN  \n\n[30215 rows x 16 columns]",
      "text/html": "<div>\n<style scoped>\n    .dataframe tbody tr th:only-of-type {\n        vertical-align: middle;\n    }\n\n    .dataframe tbody tr th {\n        vertical-align: top;\n    }\n\n    .dataframe thead th {\n        text-align: right;\n    }\n</style>\n<table border=\"1\" class=\"dataframe\">\n  <thead>\n    <tr style=\"text-align: right;\">\n      <th></th>\n      <th>#</th>\n      <th>Trait</th>\n      <th>SNP rs</th>\n      <th>Context</th>\n      <th>Gene</th>\n      <th>Gene ID</th>\n      <th>Gene 2</th>\n      <th>Gene ID 2</th>\n      <th>Chromosome</th>\n      <th>Location</th>\n      <th>P-Value</th>\n      <th>Source</th>\n      <th>PubMed</th>\n      <th>Analysis ID</th>\n      <th>Study ID</th>\n      <th>Study Name</th>\n    </tr>\n  </thead>\n  <tbody>\n    <tr>\n      <th>0</th>\n      <td>2</td>\n      <td>1-Alkyl-2-acetylglycerophosphocholine Esterase</td>\n      <td>7528419</td>\n      <td>UTR-3</td>\n      <td>CELSR2</td>\n      <td>1952</td>\n      <td>CELSR2</td>\n      <td>1952</td>\n      <td>1</td>\n      <td>109274569</td>\n      <td>0.00</td>\n      <td>NHGRI</td>\n      <td>22003152</td>\n      <td>0</td>\n      <td>NaN</td>\n      <td>NaN</td>\n    </tr>\n    <tr>\n      <th>1</th>\n      <td>3</td>\n      <td>1-Alkyl-2-acetylglycerophosphocholine Esterase</td>\n      <td>12740374</td>\n      <td>UTR-3</td>\n      <td>CELSR2</td>\n      <td>1952</td>\n      <td>CELSR2</td>\n      <td>1952</td>\n      <td>1</td>\n      <td>109274967</td>\n      <td>0.00</td>\n      <td>NHGRI</td>\n      <td>23118302</td>\n      <td>0</td>\n      <td>NaN</td>\n      <td>NaN</td>\n    </tr>\n    <tr>\n      <th>2</th>\n      <td>4</td>\n      <td>1-Alkyl-2-acetylglycerophosphocholine Esterase</td>\n      <td>599839</td>\n      <td>nearGene-3</td>\n      <td>PSRC1</td>\n      <td>84722</td>\n      <td>PSRC1</td>\n      <td>84722</td>\n      <td>1</td>\n      <td>109279543</td>\n      <td>0.00</td>\n      <td>NHGRI</td>\n      <td>20442857</td>\n      <td>0</td>\n      <td>NaN</td>\n      <td>NaN</td>\n    </tr>\n    <tr>\n      <th>3</th>\n      <td>5</td>\n      <td>1-Alkyl-2-acetylglycerophosphocholine Esterase</td>\n      <td>600550</td>\n      <td>intron</td>\n      <td>MS4A4E</td>\n      <td>643680</td>\n      <td>MS4A4E</td>\n      <td>643680</td>\n      <td>11</td>\n      <td>60230192</td>\n      <td>0.00</td>\n      <td>NHGRI</td>\n      <td>23118302</td>\n      <td>0</td>\n      <td>NaN</td>\n      <td>NaN</td>\n    </tr>\n    <tr>\n      <th>4</th>\n      <td>6</td>\n      <td>1-Alkyl-2-acetylglycerophosphocholine Esterase</td>\n      <td>964184</td>\n      <td>intron</td>\n      <td>ZPR1</td>\n      <td>8882</td>\n      <td>ZPR1</td>\n      <td>8882</td>\n      <td>11</td>\n      <td>116778200</td>\n      <td>0.00</td>\n      <td>NHGRI</td>\n      <td>22003152</td>\n      <td>0</td>\n      <td>NaN</td>\n      <td>NaN</td>\n    </tr>\n    <tr>\n      <th>...</th>\n      <td>...</td>\n      <td>...</td>\n      <td>...</td>\n      <td>...</td>\n      <td>...</td>\n      <td>...</td>\n      <td>...</td>\n      <td>...</td>\n      <td>...</td>\n      <td>...</td>\n      <td>...</td>\n      <td>...</td>\n      <td>...</td>\n      <td>...</td>\n      <td>...</td>\n      <td>...</td>\n    </tr>\n    <tr>\n      <th>30210</th>\n      <td>136499</td>\n      <td>von Willebrand Factor</td>\n      <td>8176704</td>\n      <td>intron</td>\n      <td>ABO</td>\n      <td>28</td>\n      <td>ABO</td>\n      <td>28</td>\n      <td>9</td>\n      <td>133260147</td>\n      <td>0.00</td>\n      <td>NHGRI</td>\n      <td>26486471</td>\n      <td>0</td>\n      <td>NaN</td>\n      <td>NaN</td>\n    </tr>\n    <tr>\n      <th>30211</th>\n      <td>136500</td>\n      <td>von Willebrand Factor</td>\n      <td>687621</td>\n      <td>intron</td>\n      <td>ABO</td>\n      <td>28</td>\n      <td>ABO</td>\n      <td>28</td>\n      <td>9</td>\n      <td>133261661</td>\n      <td>0.00</td>\n      <td>NHGRI</td>\n      <td>20231535</td>\n      <td>0</td>\n      <td>NaN</td>\n      <td>NaN</td>\n    </tr>\n    <tr>\n      <th>30212</th>\n      <td>136501</td>\n      <td>von Willebrand Factor</td>\n      <td>643434</td>\n      <td>intron</td>\n      <td>ABO</td>\n      <td>28</td>\n      <td>ABO</td>\n      <td>28</td>\n      <td>9</td>\n      <td>133266941</td>\n      <td>0.00</td>\n      <td>NHGRI</td>\n      <td>23381943</td>\n      <td>0</td>\n      <td>NaN</td>\n      <td>NaN</td>\n    </tr>\n    <tr>\n      <th>30213</th>\n      <td>136502</td>\n      <td>von Willebrand Factor</td>\n      <td>505922</td>\n      <td>intron</td>\n      <td>ABO</td>\n      <td>28</td>\n      <td>ABO</td>\n      <td>28</td>\n      <td>9</td>\n      <td>133273812</td>\n      <td>0.00</td>\n      <td>NHGRI</td>\n      <td>23381943</td>\n      <td>0</td>\n      <td>NaN</td>\n      <td>NaN</td>\n    </tr>\n    <tr>\n      <th>30214</th>\n      <td>136526</td>\n      <td>ziprasidone</td>\n      <td>1405687</td>\n      <td>intergenic</td>\n      <td>LINC01216</td>\n      <td>100874275</td>\n      <td>PPP3CA</td>\n      <td>5530</td>\n      <td>4</td>\n      <td>101010668</td>\n      <td>0.00</td>\n      <td>NHGRI</td>\n      <td>20195266</td>\n      <td>0</td>\n      <td>NaN</td>\n      <td>NaN</td>\n    </tr>\n  </tbody>\n</table>\n<p>30215 rows × 16 columns</p>\n</div>"
     },
     "execution_count": 4,
     "metadata": {},
     "output_type": "execute_result"
    }
   ],
   "source": [
    "file_phegeni = \"resources/PheGenI/PheGenI_Association_genome_wide_significant.txt\"\n",
    "df_diseases = pd.read_csv(file_phegeni, sep=\"\\t\")\n",
    "df_diseases"
   ],
   "metadata": {
    "collapsed": false,
    "pycharm": {
     "name": "#%% Get list of diseases in which the selected proteins participate\n"
    }
   }
  },
  {
   "cell_type": "code",
   "execution_count": 5,
   "outputs": [
    {
     "name": "stdout",
     "output_type": "stream",
     "text": [
      "Got map of 873 diseases to genes\n"
     ]
    }
   ],
   "source": [
    "map_disease_to_genes1 = read_dictionary_one_to_set(\"resources/PheGenI/\", \"PheGenI_Association_genome_wide_significant.txt\", col_indices=(1, 4), ignore_header=True)\n",
    "map_disease_to_genes2 = read_dictionary_one_to_set(\"resources/PheGenI/\", \"PheGenI_Association_genome_wide_significant.txt\", col_indices=(1, 6), ignore_header=True)\n",
    "df_diseases.columns\n",
    "map_disease_to_genes = merge_dictionaries(map_disease_to_genes1, map_disease_to_genes2)\n",
    "#map_disease_to_genes\n",
    "print(f\"Got map of {len(map_disease_to_genes.keys())} diseases to genes\")"
   ],
   "metadata": {
    "collapsed": false,
    "pycharm": {
     "name": "#%% Get list of genes for each disease\n"
    }
   }
  },
  {
   "cell_type": "code",
   "execution_count": 6,
   "outputs": [
    {
     "data": {
      "text/plain": "                         Disease  Num Entity\n117              Body Mass Index  646  genes\n637      Platelet Function Tests  594  genes\n116                  Body Height  520  genes\n185             Cholesterol, HDL  391  genes\n109               Blood Pressure  331  genes\n..                           ...  ...    ...\n647              Premature Birth    1  genes\n165              Caudate Nucleus    1  genes\n169  Cerebral Amyloid Angiopathy    1  genes\n243                   Depression    1  genes\n174                    Cetuximab    1  genes\n\n[873 rows x 3 columns]",
      "text/html": "<div>\n<style scoped>\n    .dataframe tbody tr th:only-of-type {\n        vertical-align: middle;\n    }\n\n    .dataframe tbody tr th {\n        vertical-align: top;\n    }\n\n    .dataframe thead th {\n        text-align: right;\n    }\n</style>\n<table border=\"1\" class=\"dataframe\">\n  <thead>\n    <tr style=\"text-align: right;\">\n      <th></th>\n      <th>Disease</th>\n      <th>Num</th>\n      <th>Entity</th>\n    </tr>\n  </thead>\n  <tbody>\n    <tr>\n      <th>117</th>\n      <td>Body Mass Index</td>\n      <td>646</td>\n      <td>genes</td>\n    </tr>\n    <tr>\n      <th>637</th>\n      <td>Platelet Function Tests</td>\n      <td>594</td>\n      <td>genes</td>\n    </tr>\n    <tr>\n      <th>116</th>\n      <td>Body Height</td>\n      <td>520</td>\n      <td>genes</td>\n    </tr>\n    <tr>\n      <th>185</th>\n      <td>Cholesterol, HDL</td>\n      <td>391</td>\n      <td>genes</td>\n    </tr>\n    <tr>\n      <th>109</th>\n      <td>Blood Pressure</td>\n      <td>331</td>\n      <td>genes</td>\n    </tr>\n    <tr>\n      <th>...</th>\n      <td>...</td>\n      <td>...</td>\n      <td>...</td>\n    </tr>\n    <tr>\n      <th>647</th>\n      <td>Premature Birth</td>\n      <td>1</td>\n      <td>genes</td>\n    </tr>\n    <tr>\n      <th>165</th>\n      <td>Caudate Nucleus</td>\n      <td>1</td>\n      <td>genes</td>\n    </tr>\n    <tr>\n      <th>169</th>\n      <td>Cerebral Amyloid Angiopathy</td>\n      <td>1</td>\n      <td>genes</td>\n    </tr>\n    <tr>\n      <th>243</th>\n      <td>Depression</td>\n      <td>1</td>\n      <td>genes</td>\n    </tr>\n    <tr>\n      <th>174</th>\n      <td>Cetuximab</td>\n      <td>1</td>\n      <td>genes</td>\n    </tr>\n  </tbody>\n</table>\n<p>873 rows × 3 columns</p>\n</div>"
     },
     "execution_count": 6,
     "metadata": {},
     "output_type": "execute_result"
    }
   ],
   "source": [
    "df_disease_to_genes = pd.DataFrame(data=[(d, len(g)) for d, g in map_disease_to_genes.items()], columns=[\"Disease\", \"Num\"])\n",
    "df_disease_to_genes['Entity'] = config.genes\n",
    "df_disease_to_genes.sort_values([\"Num\"], ascending=False, inplace=True)\n",
    "df_disease_to_genes"
   ],
   "metadata": {
    "collapsed": false,
    "pycharm": {
     "name": "#%% Get number of genes per disease\n"
    }
   }
  },
  {
   "cell_type": "code",
   "execution_count": 7,
   "outputs": [
    {
     "data": {
      "text/plain": "<Figure size 432x288 with 1 Axes>",
      "image/png": "[encoded data removed]"
     },
     "metadata": {
      "needs_background": "light"
     },
     "output_type": "display_data"
    }
   ],
   "source": [
    "sns.violinplot(x=\"Entity\", y=\"Num\", data=df_disease_to_genes, color=\"0.8\")\n",
    "sns.stripplot(x=\"Entity\", y=\"Num\", data=df_disease_to_genes, jitter=True, zorder=1)\n",
    "plt.show()"
   ],
   "metadata": {
    "collapsed": false,
    "pycharm": {
     "name": "#%% Plot number of genes per disease\n"
    }
   }
  },
  {
   "cell_type": "code",
   "execution_count": 8,
   "outputs": [
    {
     "data": {
      "text/plain": "                         Disease  Num Entity\n172          Cerebrospinal Fluid   99  genes\n323                   Fibrinogen   95  genes\n549           Multiple Sclerosis   92  genes\n220                   Creatinine   92  genes\n504         Macular Degeneration   90  genes\n..                           ...  ...    ...\n647              Premature Birth    1  genes\n165              Caudate Nucleus    1  genes\n169  Cerebral Amyloid Angiopathy    1  genes\n243                   Depression    1  genes\n174                    Cetuximab    1  genes\n\n[827 rows x 3 columns]",
      "text/html": "<div>\n<style scoped>\n    .dataframe tbody tr th:only-of-type {\n        vertical-align: middle;\n    }\n\n    .dataframe tbody tr th {\n        vertical-align: top;\n    }\n\n    .dataframe thead th {\n        text-align: right;\n    }\n</style>\n<table border=\"1\" class=\"dataframe\">\n  <thead>\n    <tr style=\"text-align: right;\">\n      <th></th>\n      <th>Disease</th>\n      <th>Num</th>\n      <th>Entity</th>\n    </tr>\n  </thead>\n  <tbody>\n    <tr>\n      <th>172</th>\n      <td>Cerebrospinal Fluid</td>\n      <td>99</td>\n      <td>genes</td>\n    </tr>\n    <tr>\n      <th>323</th>\n      <td>Fibrinogen</td>\n      <td>95</td>\n      <td>genes</td>\n    </tr>\n    <tr>\n      <th>549</th>\n      <td>Multiple Sclerosis</td>\n      <td>92</td>\n      <td>genes</td>\n    </tr>\n    <tr>\n      <th>220</th>\n      <td>Creatinine</td>\n      <td>92</td>\n      <td>genes</td>\n    </tr>\n    <tr>\n      <th>504</th>\n      <td>Macular Degeneration</td>\n      <td>90</td>\n      <td>genes</td>\n    </tr>\n    <tr>\n      <th>...</th>\n      <td>...</td>\n      <td>...</td>\n      <td>...</td>\n    </tr>\n    <tr>\n      <th>647</th>\n      <td>Premature Birth</td>\n      <td>1</td>\n      <td>genes</td>\n    </tr>\n    <tr>\n      <th>165</th>\n      <td>Caudate Nucleus</td>\n      <td>1</td>\n      <td>genes</td>\n    </tr>\n    <tr>\n      <th>169</th>\n      <td>Cerebral Amyloid Angiopathy</td>\n      <td>1</td>\n      <td>genes</td>\n    </tr>\n    <tr>\n      <th>243</th>\n      <td>Depression</td>\n      <td>1</td>\n      <td>genes</td>\n    </tr>\n    <tr>\n      <th>174</th>\n      <td>Cetuximab</td>\n      <td>1</td>\n      <td>genes</td>\n    </tr>\n  </tbody>\n</table>\n<p>827 rows × 3 columns</p>\n</div>"
     },
     "execution_count": 8,
     "metadata": {},
     "output_type": "execute_result"
    }
   ],
   "source": [
    "df_disease_to_genes = df_disease_to_genes[df_disease_to_genes['Num']<=100]\n",
    "df_disease_to_genes"
   ],
   "metadata": {
    "collapsed": false,
    "pycharm": {
     "name": "#%% Filter: Remove diseases with too many genes\n"
    }
   }
  },
  {
   "cell_type": "code",
   "execution_count": 9,
   "outputs": [
    {
     "data": {
      "text/plain": "          Genes  NumProteins\n830       HLA-B           36\n831       HLA-A           21\n833       HLA-C           14\n3765   HLA-DRB1           13\n4551      KIF5C            2\n...         ...          ...\n3665       TLE3            1\n3666       TLE4            1\n3667       TLE1            1\n3668      KMT2D            1\n10967   EMILIN2            1\n\n[10968 rows x 2 columns]",
      "text/html": "<div>\n<style scoped>\n    .dataframe tbody tr th:only-of-type {\n        vertical-align: middle;\n    }\n\n    .dataframe tbody tr th {\n        vertical-align: top;\n    }\n\n    .dataframe thead th {\n        text-align: right;\n    }\n</style>\n<table border=\"1\" class=\"dataframe\">\n  <thead>\n    <tr style=\"text-align: right;\">\n      <th></th>\n      <th>Genes</th>\n      <th>NumProteins</th>\n    </tr>\n  </thead>\n  <tbody>\n    <tr>\n      <th>830</th>\n      <td>HLA-B</td>\n      <td>36</td>\n    </tr>\n    <tr>\n      <th>831</th>\n      <td>HLA-A</td>\n      <td>21</td>\n    </tr>\n    <tr>\n      <th>833</th>\n      <td>HLA-C</td>\n      <td>14</td>\n    </tr>\n    <tr>\n      <th>3765</th>\n      <td>HLA-DRB1</td>\n      <td>13</td>\n    </tr>\n    <tr>\n      <th>4551</th>\n      <td>KIF5C</td>\n      <td>2</td>\n    </tr>\n    <tr>\n      <th>...</th>\n      <td>...</td>\n      <td>...</td>\n    </tr>\n    <tr>\n      <th>3665</th>\n      <td>TLE3</td>\n      <td>1</td>\n    </tr>\n    <tr>\n      <th>3666</th>\n      <td>TLE4</td>\n      <td>1</td>\n    </tr>\n    <tr>\n      <th>3667</th>\n      <td>TLE1</td>\n      <td>1</td>\n    </tr>\n    <tr>\n      <th>3668</th>\n      <td>KMT2D</td>\n      <td>1</td>\n    </tr>\n    <tr>\n      <th>10967</th>\n      <td>EMILIN2</td>\n      <td>1</td>\n    </tr>\n  </tbody>\n</table>\n<p>10968 rows × 2 columns</p>\n</div>"
     },
     "execution_count": 9,
     "metadata": {},
     "output_type": "execute_result"
    }
   ],
   "source": [
    "map_genes_to_proteins = read_dictionary_one_to_set(config.GRAPHS_PATH, \"mapping_proteins_to_genes.tsv\", col_indices=(1, 0))\n",
    "df_genes_to_proteins = pd.DataFrame(data=[(g,len(ps)) for g, ps in map_genes_to_proteins.items()], columns=[\"Genes\", \"NumProteins\"])\n",
    "df_genes_to_proteins.sort_values([\"NumProteins\"], ascending=False, inplace=True)\n",
    "df_genes_to_proteins"
   ],
   "metadata": {
    "collapsed": false,
    "pycharm": {
     "name": "#%% Get the map to convert genes to proteins\n"
    }
   }
  },
  {
   "cell_type": "code",
   "execution_count": 10,
   "outputs": [
    {
     "data": {
      "text/plain": "<Figure size 432x288 with 1 Axes>",
      "image/png": "[encoded data removed]"
     },
     "metadata": {
      "needs_background": "light"
     },
     "output_type": "display_data"
    }
   ],
   "source": [
    "genes_arr=[\"Genes\"]*len(df_genes_to_proteins)\n",
    "sns.violinplot(x=df_genes_to_proteins[\"NumProteins\"], color=\"0.8\")\n",
    "sns.stripplot(x=df_genes_to_proteins[\"NumProteins\"], jitter=True, zorder=1)\n",
    "plt.show()"
   ],
   "metadata": {
    "collapsed": false,
    "pycharm": {
     "name": "#%% Plot proteins per gene\n"
    }
   }
  },
  {
   "cell_type": "code",
   "execution_count": 19,
   "outputs": [
    {
     "name": "stdout",
     "output_type": "stream",
     "text": [
      "Diseases to delete: \n",
      "\n",
      " {'Liver Cirrhosis, Biliary', 'C-Reactive Protein', 'Behcet Syndrome', 'Multiple Sclerosis', 'Staphylococcus', 'Asthma', 'Cryoglobulinemia', 'Lupus Erythematosus, Systemic', 'Oligoclonal Bands', 'Menarche', 'Crohn Disease', 'Parkinson Disease', 'Schizophrenia', 'Tonsillectomy', 'Inflammatory Bowel Diseases', 'Alzheimer Disease', 'Body Height', 'Hodgkin Disease', 'beta 2-Microglobulin', 'Epstein-Barr Virus Nuclear Antigens', 'Arthritis, Psoriatic', 'Monocytes', 'Triglycerides', 'Uveomeningoencephalitic Syndrome', 'Dermatitis, Atopic', 'Anti-Neutrophil Cytoplasmic Antibody-Associated Vasculitis', 'Lymphoma, Large B-Cell, Diffuse', 'Cholesterol', 'Psoriasis', 'Hepatitis B, Chronic', 'Staphylococcus aureus', 'Breast Neoplasms', 'Arthritis, Rheumatoid', 'Glomerulonephritis, IGA', 'Leukocytes', 'Leprosy', 'Agranulocytosis', 'Antibodies', 'Pulmonary Surfactant-Associated Protein D', 'Uterine Cervical Neoplasms', 'Hepatitis C, Chronic', 'Narcolepsy', 'Colitis, Ulcerative', 'Nasopharyngeal Neoplasms', 'Lymphocytes', 'Drug Hypersensitivity Syndrome', 'Vitiligo', 'Lymphocyte Count', 'Carcinoma, Basal Cell', 'Glomerulonephritis, Membranous', 'Leishmaniasis, Visceral', 'Interferon-beta', 'Otitis', 'Immunoglobulin E', 'Diabetes Mellitus, Type 1', 'Proteins', 'Scleroderma, Systemic', 'Leukemia, Lymphocytic, Chronic, B-Cell', 'Immunoglobulin G', 'Vaccine Potency', 'Coronary Disease', 'Thioamides', \"Sjogren's Syndrome\", 'Lymphoma', 'Epstein-Barr Virus Infections', 'Thyroid Hormones', 'Cholesterol, LDL', 'Pulmonary Disease, Chronic Obstructive', 'Platelet Count', 'HIV-1', 'Carcinoma, Hepatocellular'}\n"
     ]
    },
    {
     "data": {
      "text/plain": "                             Disease  Num Entity\n172              Cerebrospinal Fluid   99  genes\n323                       Fibrinogen   95  genes\n220                       Creatinine   92  genes\n504             Macular Degeneration   90  genes\n424  Influenza A Virus, H1N1 Subtype   89  genes\n..                               ...  ...    ...\n647                  Premature Birth    1  genes\n165                  Caudate Nucleus    1  genes\n169      Cerebral Amyloid Angiopathy    1  genes\n243                       Depression    1  genes\n174                        Cetuximab    1  genes\n\n[774 rows x 3 columns]",
      "text/html": "<div>\n<style scoped>\n    .dataframe tbody tr th:only-of-type {\n        vertical-align: middle;\n    }\n\n    .dataframe tbody tr th {\n        vertical-align: top;\n    }\n\n    .dataframe thead th {\n        text-align: right;\n    }\n</style>\n<table border=\"1\" class=\"dataframe\">\n  <thead>\n    <tr style=\"text-align: right;\">\n      <th></th>\n      <th>Disease</th>\n      <th>Num</th>\n      <th>Entity</th>\n    </tr>\n  </thead>\n  <tbody>\n    <tr>\n      <th>172</th>\n      <td>Cerebrospinal Fluid</td>\n      <td>99</td>\n      <td>genes</td>\n    </tr>\n    <tr>\n      <th>323</th>\n      <td>Fibrinogen</td>\n      <td>95</td>\n      <td>genes</td>\n    </tr>\n    <tr>\n      <th>220</th>\n      <td>Creatinine</td>\n      <td>92</td>\n      <td>genes</td>\n    </tr>\n    <tr>\n      <th>504</th>\n      <td>Macular Degeneration</td>\n      <td>90</td>\n      <td>genes</td>\n    </tr>\n    <tr>\n      <th>424</th>\n      <td>Influenza A Virus, H1N1 Subtype</td>\n      <td>89</td>\n      <td>genes</td>\n    </tr>\n    <tr>\n      <th>...</th>\n      <td>...</td>\n      <td>...</td>\n      <td>...</td>\n    </tr>\n    <tr>\n      <th>647</th>\n      <td>Premature Birth</td>\n      <td>1</td>\n      <td>genes</td>\n    </tr>\n    <tr>\n      <th>165</th>\n      <td>Caudate Nucleus</td>\n      <td>1</td>\n      <td>genes</td>\n    </tr>\n    <tr>\n      <th>169</th>\n      <td>Cerebral Amyloid Angiopathy</td>\n      <td>1</td>\n      <td>genes</td>\n    </tr>\n    <tr>\n      <th>243</th>\n      <td>Depression</td>\n      <td>1</td>\n      <td>genes</td>\n    </tr>\n    <tr>\n      <th>174</th>\n      <td>Cetuximab</td>\n      <td>1</td>\n      <td>genes</td>\n    </tr>\n  </tbody>\n</table>\n<p>774 rows × 3 columns</p>\n</div>"
     },
     "execution_count": 19,
     "metadata": {},
     "output_type": "execute_result"
    }
   ],
   "source": [
    "filter_genes = df_genes_to_proteins[df_genes_to_proteins[\"NumProteins\"] > 5]\n",
    "filter_genes = set(filter_genes['Genes'])\n",
    "filter_diseases = set()\n",
    "for d, gs in map_disease_to_genes.items():\n",
    "    if bool(gs & filter_genes):\n",
    "        filter_diseases.add(d)\n",
    "print(f\"Diseases to delete: \\n\\n {filter_diseases}\")\n",
    "df_sel_diseases = df_disease_to_genes[~df_disease_to_genes['Disease'].isin(filter_diseases)]\n",
    "df_sel_diseases\n"
   ],
   "metadata": {
    "collapsed": false,
    "pycharm": {
     "name": "#%% Filter: Remove diseases which contain genes that map to too many proteins\n"
    }
   }
  },
  {
   "cell_type": "code",
   "execution_count": 29,
   "outputs": [],
   "source": [
    "map_disease_to_proteins = {disease: set() for disease in df_sel_diseases[\"Disease\"]}\n",
    "for disease in df_sel_diseases[\"Disease\"]:\n",
    "    for g in map_disease_to_genes[disease]:\n",
    "        if g in map_genes_to_proteins:\n",
    "            for protein in map_genes_to_proteins[g]:\n",
    "                map_disease_to_proteins[disease].add(protein)\n",
    "#map_disease_to_proteins"
   ],
   "metadata": {
    "collapsed": false,
    "pycharm": {
     "name": "#%% Get list of proteins for each disease\n"
    }
   }
  },
  {
   "cell_type": "code",
   "execution_count": 30,
   "outputs": [
    {
     "data": {
      "text/plain": "                     Disease  Num    Entity\n3       Macular Degeneration   54  proteins\n1                 Fibrinogen   54  proteins\n0        Cerebrospinal Fluid   51  proteins\n6                 Hematocrit   48  proteins\n11               Hemoglobins   47  proteins\n..                       ...  ...       ...\n705  Neurofibrillary Tangles    0  proteins\n647                Methadone    0  proteins\n703           Diet, High-Fat    0  proteins\n648         Memory, Episodic    0  proteins\n635            Osteonecrosis    0  proteins\n\n[774 rows x 3 columns]",
      "text/html": "<div>\n<style scoped>\n    .dataframe tbody tr th:only-of-type {\n        vertical-align: middle;\n    }\n\n    .dataframe tbody tr th {\n        vertical-align: top;\n    }\n\n    .dataframe thead th {\n        text-align: right;\n    }\n</style>\n<table border=\"1\" class=\"dataframe\">\n  <thead>\n    <tr style=\"text-align: right;\">\n      <th></th>\n      <th>Disease</th>\n      <th>Num</th>\n      <th>Entity</th>\n    </tr>\n  </thead>\n  <tbody>\n    <tr>\n      <th>3</th>\n      <td>Macular Degeneration</td>\n      <td>54</td>\n      <td>proteins</td>\n    </tr>\n    <tr>\n      <th>1</th>\n      <td>Fibrinogen</td>\n      <td>54</td>\n      <td>proteins</td>\n    </tr>\n    <tr>\n      <th>0</th>\n      <td>Cerebrospinal Fluid</td>\n      <td>51</td>\n      <td>proteins</td>\n    </tr>\n    <tr>\n      <th>6</th>\n      <td>Hematocrit</td>\n      <td>48</td>\n      <td>proteins</td>\n    </tr>\n    <tr>\n      <th>11</th>\n      <td>Hemoglobins</td>\n      <td>47</td>\n      <td>proteins</td>\n    </tr>\n    <tr>\n      <th>...</th>\n      <td>...</td>\n      <td>...</td>\n      <td>...</td>\n    </tr>\n    <tr>\n      <th>705</th>\n      <td>Neurofibrillary Tangles</td>\n      <td>0</td>\n      <td>proteins</td>\n    </tr>\n    <tr>\n      <th>647</th>\n      <td>Methadone</td>\n      <td>0</td>\n      <td>proteins</td>\n    </tr>\n    <tr>\n      <th>703</th>\n      <td>Diet, High-Fat</td>\n      <td>0</td>\n      <td>proteins</td>\n    </tr>\n    <tr>\n      <th>648</th>\n      <td>Memory, Episodic</td>\n      <td>0</td>\n      <td>proteins</td>\n    </tr>\n    <tr>\n      <th>635</th>\n      <td>Osteonecrosis</td>\n      <td>0</td>\n      <td>proteins</td>\n    </tr>\n  </tbody>\n</table>\n<p>774 rows × 3 columns</p>\n</div>"
     },
     "execution_count": 30,
     "metadata": {},
     "output_type": "execute_result"
    }
   ],
   "source": [
    "map_disease_to_numproteins = {d: len(g) for d, g in map_disease_to_proteins.items()}\n",
    "df_disease_to_proteins = pd.DataFrame(data=map_disease_to_numproteins.items(), columns=[\"Disease\", \"Num\"])\n",
    "df_disease_to_proteins['Entity'] = config.proteins\n",
    "df_disease_to_proteins.sort_values([\"Num\"], ascending=False, inplace=True)\n",
    "df_disease_to_proteins"
   ],
   "metadata": {
    "collapsed": false,
    "pycharm": {
     "name": "#%% Get number of proteins per disease\n"
    }
   }
  },
  {
   "cell_type": "code",
   "execution_count": 31,
   "outputs": [
    {
     "data": {
      "text/plain": "                                            Disease  Num    Entity\n0    1-Alkyl-2-acetylglycerophosphocholine Esterase   13     genes\n211  1-Alkyl-2-acetylglycerophosphocholine Esterase    8  proteins\n1          3-hydroxy-1-methylpropylmercapturic acid   42     genes\n64         3-hydroxy-1-methylpropylmercapturic acid   11  proteins\n546                         ADAMTS13 protein, human    2  proteins\n..                                              ...  ...       ...\n381                   thyroid microsomal antibodies    2  proteins\n871                           von Willebrand Factor   14     genes\n194                           von Willebrand Factor    6  proteins\n651                                     ziprasidone    1  proteins\n872                                     ziprasidone    2     genes\n\n[1601 rows x 3 columns]",
      "text/html": "<div>\n<style scoped>\n    .dataframe tbody tr th:only-of-type {\n        vertical-align: middle;\n    }\n\n    .dataframe tbody tr th {\n        vertical-align: top;\n    }\n\n    .dataframe thead th {\n        text-align: right;\n    }\n</style>\n<table border=\"1\" class=\"dataframe\">\n  <thead>\n    <tr style=\"text-align: right;\">\n      <th></th>\n      <th>Disease</th>\n      <th>Num</th>\n      <th>Entity</th>\n    </tr>\n  </thead>\n  <tbody>\n    <tr>\n      <th>0</th>\n      <td>1-Alkyl-2-acetylglycerophosphocholine Esterase</td>\n      <td>13</td>\n      <td>genes</td>\n    </tr>\n    <tr>\n      <th>211</th>\n      <td>1-Alkyl-2-acetylglycerophosphocholine Esterase</td>\n      <td>8</td>\n      <td>proteins</td>\n    </tr>\n    <tr>\n      <th>1</th>\n      <td>3-hydroxy-1-methylpropylmercapturic acid</td>\n      <td>42</td>\n      <td>genes</td>\n    </tr>\n    <tr>\n      <th>64</th>\n      <td>3-hydroxy-1-methylpropylmercapturic acid</td>\n      <td>11</td>\n      <td>proteins</td>\n    </tr>\n    <tr>\n      <th>546</th>\n      <td>ADAMTS13 protein, human</td>\n      <td>2</td>\n      <td>proteins</td>\n    </tr>\n    <tr>\n      <th>...</th>\n      <td>...</td>\n      <td>...</td>\n      <td>...</td>\n    </tr>\n    <tr>\n      <th>381</th>\n      <td>thyroid microsomal antibodies</td>\n      <td>2</td>\n      <td>proteins</td>\n    </tr>\n    <tr>\n      <th>871</th>\n      <td>von Willebrand Factor</td>\n      <td>14</td>\n      <td>genes</td>\n    </tr>\n    <tr>\n      <th>194</th>\n      <td>von Willebrand Factor</td>\n      <td>6</td>\n      <td>proteins</td>\n    </tr>\n    <tr>\n      <th>651</th>\n      <td>ziprasidone</td>\n      <td>1</td>\n      <td>proteins</td>\n    </tr>\n    <tr>\n      <th>872</th>\n      <td>ziprasidone</td>\n      <td>2</td>\n      <td>genes</td>\n    </tr>\n  </tbody>\n</table>\n<p>1601 rows × 3 columns</p>\n</div>"
     },
     "execution_count": 31,
     "metadata": {},
     "output_type": "execute_result"
    }
   ],
   "source": [
    "df_disease_to_entitites = pd.concat([df_disease_to_genes, df_disease_to_proteins])\n",
    "df_disease_to_entitites.sort_values(by=[\"Disease\"], inplace=True)\n",
    "df_disease_to_entitites"
   ],
   "metadata": {
    "collapsed": false,
    "pycharm": {
     "name": "#%%\n"
    }
   }
  },
  {
   "cell_type": "code",
   "execution_count": 32,
   "outputs": [
    {
     "data": {
      "text/plain": "<Figure size 432x288 with 1 Axes>",
      "image/png": "[encoded data removed]"
     },
     "metadata": {
      "needs_background": "light"
     },
     "output_type": "display_data"
    }
   ],
   "source": [
    "sns.violinplot(data=df_disease_to_entitites, color=\"0.8\")\n",
    "sns.stripplot(data=df_disease_to_entitites, jitter=True, zorder=1)\n",
    "plt.show()"
   ],
   "metadata": {
    "collapsed": false,
    "pycharm": {
     "name": "#%% See the distribution of genes and proteins per disease\n"
    }
   }
  },
  {
   "cell_type": "code",
   "execution_count": 35,
   "outputs": [
    {
     "data": {
      "text/plain": "{'Q29980': {'Cerebrospinal Fluid',\n  'Eosinophils',\n  'Metabolic Syndrome X',\n  'Myositis',\n  'Neonatal Systemic lupus erythematosus',\n  'Severe Dengue'},\n 'Q13093': {'1-Alkyl-2-acetylglycerophosphocholine Esterase',\n  'Cerebrospinal Fluid'},\n 'Q9BXR6': {'Blood Coagulation Factors',\n  'Cerebrospinal Fluid',\n  'Macular Degeneration'},\n 'O15389': {'Cerebrospinal Fluid'},\n 'Q16610': {'Cerebrospinal Fluid'},\n 'Q9UI12': {'Cerebrospinal Fluid'},\n 'P04196': {'Cerebrospinal Fluid', 'Partial Thromboplastin Time'},\n 'Q29983': {'Cerebrospinal Fluid',\n  'Drug Resistance',\n  'Graves Disease',\n  'HIV',\n  'Hypersensitivity',\n  'Spondylitis, Ankylosing',\n  'Trichloroethylene'},\n 'Q9UHL4': {'Cerebrospinal Fluid'},\n 'Q02083': {'Cerebrospinal Fluid'},\n 'P28223': {'Cerebrospinal Fluid'},\n 'P17213': {'Cerebrospinal Fluid'},\n 'P08887': {'Aortic Aneurysm, Abdominal',\n  'Cerebrospinal Fluid',\n  'Coronary Artery Disease',\n  'Fibrinogen',\n  'Interleukin-6',\n  'Receptors, Interleukin-6'},\n 'P10643': {'Cerebrospinal Fluid'},\n 'Q9Y4C0': {'Audiometry, Pure-Tone',\n  'Blood Flow Velocity',\n  'Body Weight Changes',\n  'Cerebrospinal Fluid',\n  'Obesity'},\n 'O60333': {'Cerebrospinal Fluid', 'Mean Platelet Volume'},\n 'Q14134': {'Cerebrospinal Fluid'},\n 'P36222': {'CHI3L1 protein, human', 'Cerebrospinal Fluid'},\n 'Q9NZ08': {'Cerebrospinal Fluid', 'Spondylitis, Ankylosing'},\n 'O15041': {'Cerebrospinal Fluid'},\n 'Q9Y336': {'Cerebrospinal Fluid'},\n 'P10768': {'Cerebrospinal Fluid'},\n 'Q6UWB1': {'Cerebrospinal Fluid'},\n 'Q9HDB5': {'Audiometry, Pure-Tone',\n  'Blood Flow Velocity',\n  'Body Weight Changes',\n  'Cerebrospinal Fluid',\n  'Obesity'},\n 'P30740': {'Cerebrospinal Fluid', 'amyloid beta-protein (1-42)'},\n 'P20138': {'Cerebrospinal Fluid'},\n 'Q14956': {'Cerebrospinal Fluid'},\n 'P68402': {'Cerebrospinal Fluid',\n  'Hypertriglyceridemia',\n  'Receptors, Transferrin'},\n 'Q02246': {'Cerebrospinal Fluid'},\n 'Q10588': {'Cerebrospinal Fluid'},\n 'Q13478': {'Celiac Disease', 'Cerebrospinal Fluid'},\n 'Q9BW92': {'Cerebrospinal Fluid', 'Circadian Rhythm'},\n 'O95644': {'Cerebrospinal Fluid', 'Creatinine', 'tau Proteins'},\n 'P06734': {'Cerebrospinal Fluid'},\n 'O95619': {'Cerebrospinal Fluid'},\n 'P01019': {'Arterial Pressure', 'Cerebrospinal Fluid'},\n 'Q8N4E7': {'Cerebrospinal Fluid',\n  'Lateral Ventricles',\n  'amyloid beta-protein (1-42)'},\n 'P09619': {'Cerebrospinal Fluid'},\n 'P48357': {'Cerebrospinal Fluid',\n  'Fibrinogen',\n  'Obesity',\n  'Receptors, Leptin',\n  'Voice'},\n 'Q8NFM7': {'Cerebrospinal Fluid'},\n 'Q13231': {'Cerebrospinal Fluid'},\n 'Q6UXX9': {'Cerebrospinal Fluid',\n  'Ossification of the posterior longitudinal ligament of the spine'},\n 'Q9NR71': {'Cerebrospinal Fluid'},\n 'Q9HD89': {'Cerebrospinal Fluid', 'Resistin'},\n 'Q6UX06': {'Cerebrospinal Fluid', 'tau Proteins'},\n 'P12318': {'Cerebrospinal Fluid',\n  'Helicobacter Infections',\n  'Mucocutaneous Lymph Node Syndrome'},\n 'Q9Y4H4': {'Cerebrospinal Fluid'},\n 'P15848': {'Cerebrospinal Fluid', 'Selenium'},\n 'Q96N96': {'Cerebrospinal Fluid', 'Hypothyroidism'},\n 'P02649': {'Amyloid beta-Peptides',\n  'Amyloidosis, Cerebral, with Spongiform Encephalopathy',\n  'Cerebral Cortex',\n  'Cerebrospinal Fluid',\n  'Cognition Disorders',\n  'Health',\n  'Hydroxymethylglutaryl CoA Reductases',\n  'Lewy Body Disease',\n  'Lipids',\n  'Lipoproteins',\n  'Macular Degeneration',\n  'Neuroimaging',\n  'Wet Macular Degeneration',\n  'amyloid beta-protein (1-42)',\n  'tau Proteins'},\n 'Q8NEC5': {'Cerebrospinal Fluid'},\n 'O95271': {'Alkaline Phosphatase',\n  'Calcium-Binding Proteins',\n  'Fibrinogen',\n  'Nose'},\n 'Q9H015': {'Fibrinogen', 'acylcarnitine'},\n 'P18510': {'Fibrinogen', 'Leukocyte Count'},\n 'Q8NBN3': {'Fibrinogen'},\n 'Q02127': {'Fibrinogen'},\n 'P02671': {'Fibrinogen', 'fibrinogen D fragment'},\n 'Q6JQN1': {'Esophageal Neoplasms',\n  'Fibrinogen',\n  'Macular Degeneration',\n  'Wet Macular Degeneration'},\n 'Q8NBK3': {'Fibrinogen', 'Intervertebral disc disease', 'Lipoproteins, VLDL'},\n 'P05113': {'Eosinophils', 'Fibrinogen'},\n 'P02679': {'Fibrinogen',\n  'Pulmonary Embolism',\n  'Thrombosis',\n  'fibrinogen D fragment'},\n 'P41235': {'Fibrinogen', 'Microbiota'},\n 'Q3L8U1': {'Androgens',\n  'Circadian Rhythm',\n  'Fibrinogen',\n  'Hair Color',\n  'Hormones'},\n 'P56880': {'Fibrinogen'},\n 'Q9BWP8': {'Fibrinogen'},\n 'P01042': {'Adiponectin',\n  'Fibrinogen',\n  'Myopia, Degenerative',\n  'Partial Thromboplastin Time',\n  'Renin'},\n 'P51148': {'Fibrinogen'},\n 'P31327': {'Amino Acids',\n  'Angiography',\n  'Betaine',\n  'Fibrinogen',\n  'Homocysteine',\n  'Insulin Resistance',\n  'Macular Degeneration',\n  'Urine'},\n 'P38571': {'Coronary Artery Disease', 'Fibrinogen', 'Myocardial Infarction'},\n 'Q96AX2': {'Fibrinogen'},\n 'Q15149': {'Fibrinogen'},\n 'P02675': {'Fibrinogen'},\n 'O95237': {'Fibrinogen', 'Pulmonary Embolism', 'Thrombosis'},\n 'Q15652': {'Alkaline Phosphatase',\n  'Fatty Acids, Omega-6',\n  'Fibrinogen',\n  'Liver Diseases',\n  'Mean Platelet Volume',\n  'Platelet Aggregation',\n  'Sex Hormone-Binding Globulin',\n  'Vascular Endothelial Growth Factors'},\n 'Q96P20': {'Fibrinogen'},\n 'Q96SW2': {'Fibrinogen', 'Intervertebral disc disease', 'Lipoproteins, VLDL'},\n 'P25116': {'Fibrinogen', 'Mean Platelet Volume'},\n 'Q9BYB0': {'Fibrinogen'},\n 'Q12791': {'Cystatins', 'Fibrinogen', 'Hypospadias', 'Myopia', 'Obesity'},\n 'Q8WWZ1': {'Fibrinogen',\n  'Interleukin 1 Receptor Antagonist Protein',\n  'Leukocyte Count'},\n 'P10914': {'Eosinophils', 'Fibrinogen', 'Polycystic Ovary Syndrome'},\n 'Q07343': {'Apolipoproteins E', 'Fibrinogen', 'Voice'},\n 'Q9BZH6': {'Fibrinogen', 'Prostate-Specific Antigen'},\n 'Q9HBY0': {'Fibrinogen'},\n 'Q14554': {'Fibrinogen'},\n 'P15289': {'Fibrinogen'},\n 'P05166': {'Fibrinogen'},\n 'Q5VZE5': {'Fibrinogen'},\n 'O76082': {'Fibrinogen', 'acylcarnitine'},\n 'Q8TCT8': {'Fibrinogen'},\n 'P03951': {'Fibrinogen', 'Partial Thromboplastin Time'},\n 'Q9UQQ2': {'Arterial Pressure',\n  'Autoantibodies',\n  'Cholangitis, Sclerosing',\n  'Coronary Artery Disease',\n  'Endometrial Neoplasms',\n  'Eosinophils',\n  'Fibrinogen',\n  'Hemoglobins',\n  'Hypertension',\n  'Hypothyroidism',\n  'Mental Processes'},\n 'O94887': {'Fibrinogen'},\n 'Q00341': {'Fibrinogen'},\n 'P14778': {'Fibrinogen', 'IL1RL1 protein, human'},\n 'O43660': {'Fibrinogen'},\n 'Q49A17': {'Fibrinogen', 'Insulin Resistance'},\n 'Q8TDQ1': {'Fibrinogen'},\n 'P20807': {'Fibrinogen'},\n 'Q04756': {'Fibrinogen'},\n 'Q07352': {'Fibrinogen'},\n 'Q9P0U1': {'Fibrinogen'},\n 'Q10471': {'Fibrinogen',\n  'Lipoproteins',\n  'Metabolic Syndrome X',\n  'Vascular Calcification'},\n 'Q96PY5': {'Creatinine'},\n 'Q8TCU4': {'Creatinine', 'Urine'},\n 'P51787': {'Creatinine', 'Gout'},\n 'O00462': {'Creatinine'},\n 'Q06495': {'Creatinine', 'Magnesium', 'Renal Insufficiency, Chronic'},\n 'Q9HD42': {'Creatinine', 'Homocysteine'},\n 'Q9ULG1': {'Creatinine', 'Occipital Lobe'},\n 'Q96FL8': {'Creatinine'},\n 'O43868': {'Amino Acids',\n  'Creatinine',\n  'Homoarginine',\n  'Renal Insufficiency, Chronic'},\n 'Q9UGJ0': {'Amino Acids',\n  'Creatinine',\n  'Hematocrit',\n  'Hemoglobins',\n  'Renal Insufficiency, Chronic',\n  'Uric Acid'},\n 'P12757': {'Creatinine'},\n 'Q96G23': {'Creatinine', 'Renal Insufficiency, Chronic'},\n 'P43146': {'Creatinine', 'Depressive Disorder', 'Putamen'},\n 'P98082': {'Creatinine', 'Pancreatic Carcinoma'},\n 'Q14188': {'Creatinine',\n  'Renal Insufficiency, Chronic',\n  'Testicular Germ Cell Tumor'},\n 'P15692': {'Adiponectin',\n  'Anthropometry',\n  'Creatinine',\n  'Hypothyroidism',\n  'Macular Degeneration',\n  'Prostate-Specific Antigen',\n  'Renal Insufficiency, Chronic',\n  'Sex Characteristics',\n  'Thyrotropin',\n  'Uric Acid',\n  'Vascular Endothelial Growth Factors',\n  'Wet Macular Degeneration'},\n 'Q96IG2': {'Creatinine'},\n 'Q9H490': {'Creatinine', 'Melanoma'},\n 'O15244': {'Apolipoprotein A-I',\n  'Creatinine',\n  'Lipoprotein(a)',\n  'Renal Insufficiency, Chronic',\n  'lipoprotein A-I'},\n 'Q9NSD5': {'Creatinine',\n  'Metabolome',\n  'Renal Insufficiency, Chronic',\n  'Urine'},\n 'Q14831': {'Creatinine', 'Risperidone'},\n 'Q15465': {'Creatinine', 'Forced Expiratory Volume'},\n 'Q92499': {'Creatinine', 'Renal Insufficiency, Chronic', 'Wilms Tumor'},\n 'P98164': {'Creatinine', 'Uric Acid'},\n 'O14986': {'Creatinine', 'Microbiota', 'Renal Insufficiency, Chronic'},\n 'P23771': {'Creatinine',\n  'Precursor B-Cell Lymphoblastic Leukemia-Lymphoma',\n  'Precursor Cell Lymphoblastic Leukemia-Lymphoma'},\n 'P16444': {'Creatinine', 'Homocysteine'},\n 'P55211': {'Creatinine'},\n 'O00755': {'Creatinine'},\n 'P07911': {'Biomarkers',\n  'Creatinine',\n  'Diabetes Mellitus',\n  'Hypertension',\n  'Renal Insufficiency, Chronic',\n  'Uromodulin'},\n 'Q86SQ7': {'Bipolar Disorder', 'Creatinine', 'Psychotic Disorders'},\n 'Q14397': {'Amino Acids',\n  'Atrial Fibrillation',\n  'C-Peptide',\n  'Calcium',\n  'Creatinine',\n  'Diabetes Mellitus',\n  'Glucose Tolerance Test',\n  'Gout',\n  'Heart Failure',\n  'Hematocrit',\n  'Hypertriglyceridemia',\n  'Insulin',\n  'Insulin Resistance',\n  'Insulin-Like Growth Factor I',\n  'Lactation',\n  'Leptin',\n  'Lipids',\n  'Mannose',\n  'Metabolic Syndrome X',\n  'Mortality',\n  'Neoplasms',\n  'Obesity',\n  'Phospholipids',\n  'Renal Insufficiency, Chronic',\n  'Serum Albumin',\n  'Sex Hormone-Binding Globulin',\n  'Uric Acid',\n  'Vascular Calcification',\n  'alpha 1-Antitrypsin',\n  'docosapentaenoic acid',\n  'gamma-Glutamyltransferase'},\n 'Q07973': {'Calcium',\n  'Creatinine',\n  'Hormone Replacement Therapy',\n  'Insulin Resistance',\n  'Parathyroid Hormone'},\n 'Q96ST8': {'Creatinine', 'Urine'},\n 'P50440': {'Amino Acids',\n  'Creatinine',\n  'Homoarginine',\n  'Renal Insufficiency, Chronic'},\n 'Q9BXS1': {'Creatinine'},\n 'P82251': {'Creatinine', 'Renal Insufficiency, Chronic', 'Urine'},\n 'Q9NQ94': {'Creatinine', 'Uric Acid'},\n 'Q8WVN8': {'Creatinine', 'Renal Insufficiency, Chronic', 'Uric Acid'},\n 'Q9UHE5': {'Creatinine',\n  'Leucine',\n  'Metabolome',\n  'Renal Insufficiency, Chronic',\n  'Urine'},\n 'Q9Y231': {'Creatinine', 'Migraine Disorders', 'Sleep'},\n 'Q13698': {'Creatinine', 'Tooth Eruption'},\n 'Q6GPI1': {'Macular Degeneration', 'Wet Macular Degeneration'},\n 'P11150': {'Atrial Fibrillation',\n  'Blood Flow Velocity',\n  'Diabetes Mellitus',\n  'Heart Failure',\n  'Hematocrit',\n  'Lipoproteins',\n  'Macular Degeneration',\n  'Mortality',\n  'Neoplasms',\n  'Wet Macular Degeneration'},\n 'Q15011': {'1-Alkyl-2-acetylglycerophosphocholine Esterase',\n  'Atrial Fibrillation',\n  'Diabetes Mellitus',\n  'Heart Failure',\n  'Hematocrit',\n  'Hydroxymethylglutaryl CoA Reductases',\n  'Lipids',\n  'Lipoproteins',\n  'Macular Degeneration',\n  'Metabolic Syndrome X',\n  'Mortality',\n  'Neoplasms',\n  'Vascular Calcification',\n  'Wet Macular Degeneration'},\n 'P04083': {'Erythrocytes',\n  'Lipids',\n  'Macular Degeneration',\n  'Wet Macular Degeneration'},\n 'P51993': {'Carcinoembryonic Antigen',\n  'Macular Degeneration',\n  'Neoplasms',\n  'Polysaccharides',\n  'Vitamin B 12',\n  'Wet Macular Degeneration'},\n 'O15315': {'Adenocarcinoma of lung',\n  'Carcinoma, Endometrioid',\n  'Carcinoma, Non-Small-Cell Lung',\n  'Lung Neoplasms',\n  'Macular Degeneration',\n  'Nose',\n  'Odontogenesis',\n  'Ovarian Neoplasms',\n  'Wet Macular Degeneration'},\n 'Q92743': {'Macular Degeneration'},\n 'P36897': {'Macular Degeneration'},\n 'Q92781': {'Macular Degeneration',\n  'Myopia',\n  'Refraction, Ocular',\n  'Refractive Errors',\n  'Wet Macular Degeneration'},\n 'Q92753': {'Erythrocytes',\n  'Lipids',\n  'Macular Degeneration',\n  'Refraction, Ocular',\n  'Wet Macular Degeneration'},\n 'Q15477': {'Macular Degeneration'},\n 'Q5T5U3': {'Macular Degeneration', 'Wet Macular Degeneration'},\n 'Q03692': {'Macular Degeneration', 'Myopia'},\n 'P00751': {'Macular Degeneration', 'Thyroid Diseases'},\n 'P05156': {'Macular Degeneration', 'Wet Macular Degeneration'},\n 'P06681': {'Macular Degeneration'},\n 'O00220': {'Macular Degeneration'},\n 'P02748': {'Macular Degeneration', 'Wet Macular Degeneration'},\n 'Q9BZM1': {'Macular Degeneration', 'Wet Macular Degeneration'},\n 'Q8TAT6': {'Eye Color', 'Macular Degeneration', 'Wet Macular Degeneration'},\n 'O14994': {'Macular Degeneration', 'Wet Macular Degeneration'},\n 'P08603': {'Blood Coagulation Factors',\n  'Complement C3',\n  'Kidney Diseases',\n  'Macular Degeneration',\n  'Peroxidases',\n  'Wet Macular Degeneration'},\n 'Q9HCF6': {'Macular Degeneration', 'Wet Macular Degeneration'},\n 'Q01955': {'Corneal Topography',\n  'Macular Degeneration',\n  'Wet Macular Degeneration'},\n 'O43175': {'Amino Acids', 'Insulin Resistance', 'Macular Degeneration'},\n 'Q6Y288': {'Macular Degeneration', 'Wet Macular Degeneration'},\n 'Q99942': {'Macular Degeneration', 'sRAGE protein, human'},\n 'Q9HB21': {'Macular Degeneration'},\n 'Q9H553': {'Macular Degeneration', 'Wet Macular Degeneration'},\n 'P01024': {'Complement C3',\n  'Macular Degeneration',\n  'Wet Macular Degeneration'},\n 'P05160': {'Macular Degeneration'},\n 'P02654': {'1-Alkyl-2-acetylglycerophosphocholine Esterase',\n  'Age of Onset',\n  'Amyloid beta-Peptides',\n  'Atherosclerosis',\n  'Atrial Fibrillation',\n  'Cerebral Cortex',\n  'Coronary Artery Disease',\n  'Diabetes Mellitus',\n  'Health',\n  'Heart Failure',\n  'Hematocrit',\n  'Hydroxymethylglutaryl CoA Reductases',\n  'Lipids',\n  'Lipoproteins',\n  'Longevity',\n  'Macular Degeneration',\n  'Memory',\n  'Mortality',\n  'Myocardial Infarction',\n  'Neoplasms',\n  'Neuropsychological Tests',\n  'Psychomotor Performance',\n  'Vascular Calcification'},\n 'P42685': {'Autosomal dominant compelling helio ophthalmic outburst syndrome',\n  'Cognition Disorders',\n  'Cognitive Dysfunction',\n  'Macular Degeneration',\n  'Uric Acid'},\n 'Q99943': {'Macular Degeneration', 'Phospholipids', 'sRAGE protein, human'},\n 'P27658': {'Macular Degeneration', 'Optic Disk', 'Wet Macular Degeneration'},\n 'P14780': {'Influenza A Virus, H1N1 Subtype',\n  'Lipoproteins',\n  'Macular Degeneration',\n  'Wet Macular Degeneration'},\n 'P16471': {'3-hydroxy-1-methylpropylmercapturic acid',\n  'Macular Degeneration',\n  'Wet Macular Degeneration'},\n 'P11597': {'1-Alkyl-2-acetylglycerophosphocholine Esterase',\n  'Atrial Fibrillation',\n  'Diabetes Mellitus',\n  'Heart Failure',\n  'Hematocrit',\n  'Hydroxymethylglutaryl CoA Reductases',\n  'Lipids',\n  'Lipoproteins',\n  'Macular Degeneration',\n  'Metabolic Syndrome X',\n  'Mortality',\n  'Neoplasms',\n  'Vascular Calcification',\n  'Wet Macular Degeneration'},\n 'P18615': {'Macular Degeneration'},\n 'Q99439': {'Macular Degeneration', 'Wet Macular Degeneration'},\n 'O95907': {'Macular Degeneration', 'Wet Macular Degeneration'},\n 'Q03591': {'Macular Degeneration', 'Wet Macular Degeneration'},\n 'P36980': {'Macular Degeneration'},\n 'Q92496': {'Blood Coagulation Factors',\n  'Macular Degeneration',\n  'Wet Macular Degeneration'},\n 'P22105': {'Complement C4', 'Hypertension', 'Macular Degeneration'},\n 'Q13127': {'Macular Degeneration', 'Migraine Disorders'},\n 'Q99466': {'Celiac Disease',\n  'Complement C4',\n  'Joint Instability',\n  'Macular Degeneration',\n  'Peroxidases'},\n 'O95477': {'Glaucoma, Open-Angle',\n  'Intraocular Pressure',\n  'Lipids',\n  'Lipoproteins',\n  'Macular Degeneration',\n  'Metabolic Syndrome X',\n  'Vascular Calcification',\n  'Wet Macular Degeneration'},\n 'Q9UKJ1': {'Macular Degeneration', 'Wet Macular Degeneration'},\n 'O00451': {'Influenza A Virus, H1N1 Subtype'},\n 'P48426': {'Influenza A Virus, H1N1 Subtype'},\n 'P61328': {'Influenza A Virus, H1N1 Subtype'},\n 'O95573': {'Influenza A Virus, H1N1 Subtype'},\n 'O43184': {'Influenza A Virus, H1N1 Subtype'},\n 'Q7Z698': {'Autoimmune Diseases', 'Influenza A Virus, H1N1 Subtype'},\n 'Q9BSJ2': {'Influenza A Virus, H1N1 Subtype'},\n 'Q9NR34': {'Influenza A Virus, H1N1 Subtype'},\n 'P51793': {'Influenza A Virus, H1N1 Subtype'},\n 'Q5SSG8': {'Influenza A Virus, H1N1 Subtype',\n  'Lupus Erythematosus, Cutaneous'},\n 'Q8WZ64': {'Influenza A Virus, H1N1 Subtype', 'Motion Sickness'},\n 'Q86UE6': {'Antipsychotic Agents',\n  'Hypotension, Orthostatic',\n  'Influenza A Virus, H1N1 Subtype',\n  'Menopause'},\n 'Q8NE71': {'Graves Disease', 'Influenza A Virus, H1N1 Subtype'},\n 'Q15700': {'Bronchodilator Agents',\n  'Influenza A Virus, H1N1 Subtype',\n  'Myopia',\n  'Phospholipids',\n  'Putamen',\n  'Wilms Tumor'},\n 'Q8IW52': {'Influenza A Virus, H1N1 Subtype'},\n 'A0FGR8': {'Influenza A Virus, H1N1 Subtype'},\n 'Q6UWR7': {'Influenza A Virus, H1N1 Subtype'},\n 'P52594': {'Influenza A Virus, H1N1 Subtype'},\n 'O15078': {'Influenza A Virus, H1N1 Subtype'},\n 'P18507': {'Angiotensin-Converting Enzyme Inhibitors',\n  'Influenza A Virus, H1N1 Subtype'},\n 'Q9BYX2': {'Influenza A Virus, H1N1 Subtype'},\n 'P11532': {'Audiometry, Pure-Tone',\n  'Influenza A Virus, H1N1 Subtype',\n  'Memory',\n  'Temporomandibular Joint Disorders'},\n 'Q8WUM4': {'Influenza A Virus, H1N1 Subtype', 'Neuroticism'},\n 'Q9H7S9': {'Age of Onset', 'Influenza A Virus, H1N1 Subtype'},\n 'P15056': {'Influenza A Virus, H1N1 Subtype'},\n 'O75030': {'Influenza A Virus, H1N1 Subtype'},\n 'Q9UBN4': {'Influenza A Virus, H1N1 Subtype', 'lipoprotein A-I'},\n 'Q14980': {'Influenza A Virus, H1N1 Subtype'},\n 'Q14186': {'Influenza A Virus, H1N1 Subtype'},\n 'Q9NS87': {'Influenza A Virus, H1N1 Subtype'},\n 'P01906': {'Alopecia Areata',\n  'Giant Cell Arteritis',\n  'Influenza A Virus, H1N1 Subtype',\n  'Kidney Diseases',\n  'Pancreatitis',\n  'Peanut Hypersensitivity',\n  'Purines',\n  'Typhoid Fever'},\n 'P35869': {'Caffeine',\n  'Coffee',\n  'Influenza A Virus, H1N1 Subtype',\n  'Melanoma',\n  'Skin Neoplasms'},\n 'Q17RR3': {'Influenza A Virus, H1N1 Subtype'},\n 'O96017': {'Carcinoma, Squamous Cell',\n  'Esophageal Neoplasms',\n  'Lung Neoplasms',\n  'Optic Disk'},\n 'Q96KP1': {'Hair Color',\n  'Melanoma',\n  'Melanosis',\n  'Multiple Myeloma',\n  'Optic Disk',\n  'Skin Pigmentation',\n  'Suntan'},\n 'P35813': {'Glaucoma, Open-Angle',\n  'Microbiota',\n  'Optic Disk',\n  'Refractive Errors'},\n 'P13611': {'Joint Instability', 'Optic Disk'},\n 'P28562': {'Optic Disk'},\n 'Q9UP79': {'Intraocular Pressure', 'Optic Disk'},\n 'Q5VT25': {'Optic Disk'},\n 'Q00587': {'Optic Disk'},\n 'O43653': {'Duodenal Ulcer',\n  'Optic Disk',\n  'Stomach Neoplasms',\n  'Urinary Bladder Neoplasms'},\n 'Q9Y6T7': {'Optic Disk'},\n 'Q9H2D6': {'Optic Disk'},\n 'Q9P212': {'Esophageal Neoplasms',\n  'Esophageal Squamous Cell Carcinoma',\n  'Gastrointestinal Neoplasms',\n  'Hypertension',\n  'Migraine Disorders',\n  'Optic Disk',\n  'Personality',\n  'Severe Dengue',\n  'Stomach Neoplasms'},\n 'O75369': {'Microbiota', 'Optic Disk'},\n 'Q5FYB0': {'Optic Disk'},\n 'Q8NEL9': {'Optic Disk'},\n 'Q9H2J7': {'Depressive Disorder', 'Hypersensitivity', 'Optic Disk'},\n 'Q96EB1': {'Glaucoma', 'Optic Disk'},\n 'Q9H672': {'Chin', 'Optic Disk'},\n 'P42772': {'Glaucoma, Open-Angle', 'Glioma', 'Optic Disk'},\n 'Q16880': {'Optic Disk'},\n 'O43301': {'Optic Disk', 'Uric Acid'},\n 'Q14974': {'Optic Disk', 'Spondylitis, Ankylosing'},\n 'Q17RY6': {'Optic Disk'},\n 'P12259': {'Hematologic Tests',\n  'Hippocampus',\n  'Optic Disk',\n  'Partial Thromboplastin Time',\n  'Pulmonary Embolism',\n  'Thrombosis',\n  'fibrinogen D fragment'},\n 'Q12805': {'Hernia, Inguinal',\n  'Optic Disk',\n  'Vital Capacity',\n  'White Matter'},\n 'P12643': {'Craniosynostoses',\n  'Depressive Disorder',\n  'Diagnostic Self Evaluation',\n  'Mental Health',\n  'Optic Disk',\n  'Pulse',\n  'Refraction, Ocular',\n  'Vital Capacity'},\n 'Q16518': {'Optic Disk'},\n 'O75911': {'Optic Disk'},\n 'O14788': {'Apolipoproteins C',\n  'Cerebral Cortex',\n  'Hematocrit',\n  'Luteinizing Hormone'},\n 'P16442': {'Alkaline Phosphatase',\n  'Angiopoietin-2',\n  'Angiotensins',\n  'Blood Coagulation Factors',\n  'Carcinoembryonic Antigen',\n  'Clinical Laboratory Techniques',\n  'Coronary Artery Disease',\n  'Duodenal Ulcer',\n  'E-Selectin',\n  'Endothelial Growth Factors',\n  'Factor VIII',\n  'Ferritins',\n  'Graves Disease',\n  'Hematocrit',\n  'Hemoglobins',\n  'Hypersensitivity',\n  'Intercellular Adhesion Molecule-1',\n  'Interleukin-6',\n  'Intraocular Pressure',\n  'Iron',\n  'Lipase',\n  'Liver Diseases',\n  'Malaria',\n  'Myocardial Infarction',\n  'Neoplasms',\n  'P-Selectin',\n  'Pancreatic Carcinoma',\n  'Pancreatic Neoplasms',\n  'Partial Thromboplastin Time',\n  'Phosphorus',\n  'Pulmonary Embolism',\n  'Thrombosis',\n  'Thyrotropin',\n  'Tumor Necrosis Factor-alpha',\n  'Urine',\n  'von Willebrand Factor'},\n 'Q30201': {'Alcohol Drinking',\n  'Anemia',\n  'Arterial Pressure',\n  'Ferritins',\n  'Hematocrit',\n  'Hemoglobins',\n  'Hepcidins',\n  'Hypertension',\n  'Iron',\n  'Selenium',\n  'Transferrin',\n  'hemoglobin A1c protein, human'},\n 'P06858': {'Atrial Fibrillation',\n  'Diabetes Mellitus',\n  'Heart Failure',\n  'Hematocrit',\n  'Lipids',\n  'Lipoproteins',\n  'Metabolic Syndrome X',\n  'Mortality',\n  'Neoplasms',\n  'Vascular Calcification'},\n 'P16234': {'Astigmatism', 'Corneal Topography', 'Hematocrit', 'Hemoglobins'},\n 'Q7Z569': {'Alanine Transaminase',\n  'Arterial Pressure',\n  'Hematocrit',\n  'Hemoglobins',\n  'Myocardial Infarction',\n  'Tetralogy of Fallot'},\n 'Q9UBT6': {'Atrial Fibrillation',\n  'Diabetes Mellitus',\n  'Heart Failure',\n  'Hematocrit',\n  'Mortality',\n  'Neoplasms'},\n 'P04114': {'Atrial Fibrillation',\n  'Diabetes Mellitus',\n  'Heart Failure',\n  'Hematocrit',\n  'Lipids',\n  'Lipoproteins',\n  'Metabolic Syndrome X',\n  'Mortality',\n  'Neoplasms',\n  'Vascular Calcification',\n  'oxidized low density lipoprotein'},\n 'Q13572': {'Atrial Fibrillation',\n  'Diabetes Mellitus',\n  'Heart Failure',\n  'Hematocrit',\n  'Mortality',\n  'Neoplasms',\n  'Sleep'},\n 'O00476': {'Arterial Pressure',\n  'Hematocrit',\n  'Homocysteine',\n  'Iron',\n  'Receptors, Transferrin',\n  'Uric Acid'},\n 'P82932': {'Hematocrit'},\n 'P10071': {'Hematocrit', 'Nose'},\n 'Q9UP52': {'Hematocrit', 'Hemoglobins', 'Iron', 'Selenium', 'Transferrin'},\n 'P11413': {'Hematocrit', 'Hemoglobin A, Glycosylated', 'Hemoglobins'},\n 'Q9BQK8': {'Hematocrit'},\n 'O60427': {'Arachidonic Acid',\n  'Atrial Fibrillation',\n  'Blood Proteins',\n  'Carcinoma, Squamous Cell',\n  'Diabetes Mellitus',\n  'Eicosapentaenoic Acid',\n  'Fatty Acids',\n  'Fatty Acids, Omega-6',\n  'Glycerophospholipids',\n  'Heart Failure',\n  'Hematocrit',\n  'Insulin Resistance',\n  'Insulin-Secreting Cells',\n  'Linoleic Acid',\n  'Linoleoyl-CoA Desaturase',\n  'Lipids',\n  'Mortality',\n  'Neoplasms',\n  'Phospholipids',\n  'Sphingolipids',\n  'Trans Fatty Acids',\n  'alpha-Linolenic Acid',\n  'docosapentaenoic acid',\n  'gamma-Linolenic Acid'},\n 'O94805': {'Hematocrit', 'Hemoglobins'},\n 'Q8TDX5': {'Hematocrit'},\n 'P04035': {'Atrial Fibrillation',\n  'Diabetes Mellitus',\n  'Heart Failure',\n  'Hematocrit',\n  'Lipoproteins',\n  'Mortality',\n  'Neoplasms'},\n 'P10721': {'Hematocrit', 'Hemoglobins'},\n 'P19367': {'Hematocrit', 'Hemoglobins', 'hemoglobin A1c protein, human'},\n 'Q9UIG0': {'Atrial Fibrillation',\n  'Diabetes Mellitus',\n  'Heart Failure',\n  'Hematocrit',\n  'Hypertriglyceridemia',\n  'Migraine Disorders',\n  'Mortality',\n  'Neoplasms',\n  'Protein C',\n  'Uric Acid'},\n 'P19174': {'Hematocrit'},\n 'Q9C0B1': {'Atrial Fibrillation',\n  'Body Fat Distribution',\n  'Diabetes Mellitus',\n  'Energy Intake',\n  'Heart Failure',\n  'Hematocrit',\n  'Leptin',\n  'Leukopenia',\n  'Melanoma',\n  'Metabolic Syndrome X',\n  'Mortality',\n  'Neoplasms',\n  'Obesity',\n  'Purines',\n  'Subcutaneous Fat'},\n 'Q8IWZ8': {'Atrial Fibrillation',\n  'Diabetes Mellitus',\n  'Heart Failure',\n  'Hematocrit',\n  'Liver Cirrhosis, Alcoholic',\n  'Mortality',\n  'Neoplasms'},\n 'Q02156': {'Hematocrit', 'Hemoglobins', 'alpha-carotene'},\n 'Q99726': {'Atrial Fibrillation',\n  'Diabetes Mellitus',\n  'Heart Failure',\n  'Hematocrit',\n  'Mortality',\n  'Neoplasms'},\n 'Q96JK9': {'Atrial Fibrillation',\n  'Diabetes Mellitus',\n  'Heart Defects, Congenital',\n  'Heart Failure',\n  'Hematocrit',\n  'Mortality',\n  'Neoplasms'},\n 'Q9UHY1': {'Atrial Fibrillation',\n  'Diabetes Mellitus',\n  'Heart Failure',\n  'Hematocrit',\n  'Insulin-Like Growth Factor I',\n  'Mortality',\n  'Neoplasms'},\n 'Q13936': {'Attention Deficit Disorder with Hyperactivity',\n  'Bipolar Disorder',\n  'Child Development Disorders, Pervasive',\n  'Depressive Disorder',\n  'Hematocrit'},\n 'Q9P283': {'Atrial Fibrillation',\n  'Diabetes Mellitus',\n  'Heart Failure',\n  'Hematocrit',\n  'Mortality',\n  'Neoplasms'},\n 'Q8IU80': {'Clinical Laboratory Techniques',\n  'Ferritins',\n  'Hematocrit',\n  'Hemoglobins',\n  'Hepcidins',\n  'Iron',\n  'Receptors, Transferrin',\n  'Selenium',\n  'Transferrin',\n  'hemoglobin A1c protein, human'},\n 'Q9NQB0': {'Atrial Fibrillation',\n  'Autoantibodies',\n  'Bipolar Disorder',\n  'Clinical Laboratory Techniques',\n  'Diabetes Mellitus',\n  'Heart Failure',\n  'Hematocrit',\n  'Insulin',\n  'Mortality',\n  'Myopia',\n  'Neoplasms'},\n 'Q15911': {'Atrial Fibrillation',\n  'Cardiovascular Diseases',\n  'Diabetes Mellitus',\n  'Embolism',\n  'Heart Failure',\n  'Hematocrit',\n  'Hypospadias',\n  'Mortality',\n  'Neoplasms'},\n 'P10242': {'Anemia, Sickle Cell',\n  'Eosinophils',\n  'Fetal Hemoglobin',\n  'Hematocrit',\n  'Hemoglobin A2',\n  'Hemoglobin E',\n  'Hemoglobins',\n  'Leukocyte Count',\n  'hemoglobin A1c protein, human'},\n 'Q14916': {'Ferritins',\n  'Gout',\n  'Hematocrit',\n  'Iron',\n  'Overweight',\n  'Receptors, Transferrin',\n  'Thinness',\n  'Uric Acid'},\n 'O14490': {'Body Weights and Measures',\n  'Cadmium',\n  'Hematocrit',\n  'Urinalysis'},\n 'Q9C0K1': {'Arterial Pressure', 'Cardiovascular Diseases', 'Hematocrit'},\n 'P19838': {'Hematocrit'},\n 'Q96RU8': {'Adiponectin',\n  'Alanine Transaminase',\n  'Alkaline Phosphatase',\n  'Atrial Fibrillation',\n  'Diabetes Mellitus',\n  'Heart Failure',\n  'Hematocrit',\n  'Hypertriglyceridemia',\n  'Lipids',\n  'Lipoproteins',\n  'Mortality',\n  'Neoplasms'},\n 'P54753': {'Hematocrit', 'Nose'},\n 'Q12882': {'Audiometry, Pure-Tone', 'Hematocrit', 'Mental Competency'},\n 'Q9P2S2': {'Biomarkers', 'Gout', 'Uric Acid'},\n 'P55103': {'Uric Acid'},\n 'Q8NFY9': {'Biomarkers', 'Blood Urea Nitrogen', 'Uric Acid'},\n 'O43929': {'Uric Acid'},\n 'Q7Z4K8': {'Uric Acid'},\n 'Q9BXY4': {'Alopecia',\n  'Biomarkers',\n  'Blood Urea Nitrogen',\n  'Eating',\n  'Fractures, Bone',\n  'Mental Health',\n  'Uric Acid'},\n 'O15117': {'Uric Acid'},\n 'P10070': {'Breast', 'Uric Acid'},\n 'P58401': {'Biomarkers', 'Gout', 'Uric Acid'},\n 'O75444': {'Antidepressive Agents',\n  'Biomarkers',\n  'Depressive Disorder',\n  'Obesity',\n  'Serotonin Uptake Inhibitors',\n  'Thyroid Gland',\n  'Thyrotropin',\n  'Uric Acid',\n  'gamma-Glutamyltransferase'},\n 'Q9NRM0': {'Biomarkers',\n  'Gout',\n  'Microbiota',\n  'Obesity',\n  'Overweight',\n  'Thinness',\n  'Uric Acid'},\n 'Q96S37': {'Overweight', 'Uric Acid'},\n 'O75083': {'Uric Acid'},\n 'P08069': {'Endometriosis', 'Sleep', 'Uric Acid'},\n 'Q9NSA0': {'Overweight', 'Uric Acid'},\n 'P41182': {'Biomarkers', 'Blood Urea Nitrogen', 'Uric Acid'},\n 'Q8N1W1': {'Chin', 'Mental Competency', 'Uric Acid'},\n 'P22362': {'Carotid Artery Diseases', 'Erythrocytes', 'Uric Acid'},\n 'O76003': {'Insulin Resistance', 'Uric Acid'},\n 'Q13563': {'Biomarkers', 'Gout', 'Uric Acid'},\n 'P21757': {'Bilirubin', 'Uric Acid'},\n 'P80108': {'Alkaline Phosphatase', 'Liver Diseases', 'Uric Acid'},\n 'Q8TF09': {'Antidepressive Agents',\n  'Biomarkers',\n  'Depressive Disorder',\n  'Obesity',\n  'Serotonin Uptake Inhibitors',\n  'Thyroid Gland',\n  'Thyrotropin',\n  'Uric Acid',\n  'gamma-Glutamyltransferase'},\n 'O95971': {'Overweight', 'Uric Acid'},\n 'Q96AA3': {'Cytokines', 'Uric Acid'},\n 'Q15637': {'Uric Acid'},\n 'P25100': {'Uric Acid'},\n 'O43169': {'Uric Acid'},\n 'Q14541': {'Age of Onset', 'Obesity', 'Uric Acid'},\n 'Q15849': {'Alopecia',\n  'Biomarkers',\n  'Blood Urea Nitrogen',\n  'Refractive Errors',\n  'Uric Acid'},\n 'Q9UNQ0': {'1-Alkyl-2-acetylglycerophosphocholine Esterase',\n  'Gout',\n  'Hydroxymethylglutaryl CoA Reductases',\n  'Overweight',\n  'Thinness',\n  'Uric Acid'},\n 'Q13163': {'Motion Sickness', 'Obesity', 'Restless Legs Syndrome'},\n 'P35503': {'Anemia, Sickle Cell',\n  'Bilirubin',\n  'Cholelithiasis',\n  'DNA',\n  'Metabolome',\n  'Obesity'},\n 'Q9HAW8': {'Anemia, Sickle Cell',\n  'Bilirubin',\n  'Cholelithiasis',\n  'DNA',\n  'Metabolome',\n  'Obesity'},\n 'Q6VY07': {'Obesity'},\n 'P19087': {'Obesity'},\n 'Q02548': {'Adipose Tissue', 'Intelligence', 'Obesity'},\n 'P49619': {'Obesity', 'Substance-Related Disorders'},\n 'P22310': {'Anemia, Sickle Cell',\n  'Bilirubin',\n  'Cholelithiasis',\n  'DNA',\n  'Metabolome',\n  'Obesity'},\n 'P32245': {'Adipose Tissue',\n  'Antipsychotic Agents',\n  'Body Fat Distribution',\n  'Coronary Artery Disease',\n  'Obesity'},\n 'Q96JE7': {'Alcohol Drinking', 'Body Fat Distribution', 'Obesity'},\n 'P19224': {'Anemia, Sickle Cell',\n  'Bilirubin',\n  'Cholelithiasis',\n  'DNA',\n  'Metabolome',\n  'Obesity'},\n 'Q92481': {'Myopia', 'Obesity'},\n 'Q7Z5W3': {'Obesity'},\n 'Q8IZP7': {'Diabetic Retinopathy',\n  'Gallbladder Diseases',\n  'Obesity',\n  'P-Selectin'},\n 'Q8N122': {'Obesity'},\n 'P48546': {'Glucose Tolerance Test', 'Obesity'},\n 'P24723': {'Calcium-Binding Proteins', 'Obesity'},\n 'O60266': {'Obesity'},\n 'P35504': {'Anemia, Sickle Cell',\n  'Bilirubin',\n  'Cholelithiasis',\n  'DNA',\n  'Metabolome',\n  'Obesity'},\n 'Q9HAW7': {'Anemia, Sickle Cell',\n  'Bilirubin',\n  'Cholelithiasis',\n  'DNA',\n  'Metabolome',\n  'Obesity'},\n 'P23560': {'Obesity'},\n 'Q8IYH5': {'Obesity'},\n 'Q9NRF2': {'Angiotensin-Converting Enzyme Inhibitors', 'Obesity'},\n 'Q9HAW9': {'Anemia, Sickle Cell',\n  'Bilirubin',\n  'Cholelithiasis',\n  'DNA',\n  'Metabolome',\n  'Obesity'},\n 'Q8N3J6': {'Mental Processes', 'Obesity'},\n 'O60656': {'Anemia, Sickle Cell',\n  'Bilirubin',\n  'Cholelithiasis',\n  'DNA',\n  'Metabolome',\n  'Obesity'},\n 'P14651': {'Motion Sickness', 'Obesity'},\n 'P22309': {'Anemia, Sickle Cell',\n  'Bilirubin',\n  'Cholelithiasis',\n  'DNA',\n  'Metabolome',\n  'Obesity'},\n 'O60503': {'Acute Coronary Syndrome',\n  'Cardiovascular Diseases',\n  'Cleft Lip',\n  'Cleft Palate',\n  'Obesity',\n  'dalcetrapib'},\n 'P51677': {'Celiac Disease', 'Chemokine CCL2'},\n 'O75144': {'Celiac Disease'},\n 'P51687': {'Arthritis, Juvenile',\n  'Autoimmune Diseases',\n  'Celiac Disease',\n  'Common Variable Immunodeficiency',\n  'Polycystic Ovary Syndrome',\n  'Spondylitis, Ankylosing',\n  'Thyroid Diseases'},\n 'Q6AI14': {'Celiac Disease', 'IL1RL1 protein, human', 'Microbiota'},\n 'P01589': {'Alopecia Areata',\n  'Arthritis, Juvenile',\n  'Autoantibodies',\n  'Autoimmune Diseases',\n  'Celiac Disease',\n  'Cholangitis, Sclerosing',\n  'Common Variable Immunodeficiency',\n  'Emotions',\n  'Fenofibrate',\n  'Interleukin-2 Receptor alpha Subunit',\n  'Peripheral Nervous System Diseases',\n  'Reverse Transcriptase Inhibitors',\n  'Spondylitis, Ankylosing',\n  'Thyroid Diseases'},\n 'P01909': {'Age of Onset',\n  'Carcinoma, Squamous Cell',\n  'Celiac Disease',\n  'Hepatitis, Autoimmune',\n  'Hypersensitivity',\n  'Hypothyroidism',\n  'Lupus Erythematosus, Cutaneous',\n  'Rhinitis, Allergic, Seasonal'},\n 'Q96E14': {'Celiac Disease'},\n 'P32246': {'Celiac Disease'},\n 'P01344': {'Arthritis, Juvenile',\n  'Autoantibodies',\n  'Autoimmune Diseases',\n  'Celiac Disease',\n  'Common Variable Immunodeficiency',\n  'Spondylitis, Ankylosing',\n  'Thyroid Diseases'},\n 'P35368': {'Arthritis, Juvenile',\n  'Autoimmune Diseases',\n  'Celiac Disease',\n  'Common Variable Immunodeficiency',\n  'Depressive Disorder',\n  'Spondylitis, Ankylosing',\n  'Thyroid Diseases'},\n 'P35408': {'Arthritis, Juvenile',\n  'Autoimmune Diseases',\n  'Celiac Disease',\n  'Common Variable Immunodeficiency',\n  'Hypersensitivity',\n  'Spondylitis, Ankylosing',\n  'Thyroid Diseases'},\n 'P32321': {'Arthritis, Juvenile',\n  'Autoimmune Diseases',\n  'Celiac Disease',\n  'Common Variable Immunodeficiency',\n  'Hypertriglyceridemia',\n  'Spondylitis, Ankylosing',\n  'Thyroid Diseases'},\n 'Q676U5': {'Arthritis, Juvenile',\n  'Autoimmune Diseases',\n  'Celiac Disease',\n  'Common Variable Immunodeficiency',\n  'Spondylitis, Ankylosing',\n  'Thyroid Diseases'},\n 'Q10981': {'Alkaline Phosphatase',\n  'Arthritis, Juvenile',\n  'Autoimmune Diseases',\n  'Carcinoembryonic Antigen',\n  'Celiac Disease',\n  'Common Variable Immunodeficiency',\n  'Diarrhea',\n  'Lipase',\n  'Neoplasms',\n  'Spondylitis, Ankylosing',\n  'Thyroid Diseases',\n  'Vitamin B 12',\n  'gamma-Glutamyltransferase'},\n 'P60568': {'Alopecia Areata',\n  'Celiac Disease',\n  'Cholangitis, Sclerosing',\n  'Hypersensitivity'},\n 'Q9HBE4': {'Alopecia Areata',\n  'Celiac Disease',\n  'Cholangitis, Sclerosing',\n  'Hypersensitivity'},\n 'Q15262': {'Celiac Disease'},\n 'P84022': {'Arthritis, Juvenile',\n  'Autoimmune Diseases',\n  'Celiac Disease',\n  'Common Variable Immunodeficiency',\n  'Corneal Topography',\n  'Coronary Artery Disease',\n  'Hypersensitivity',\n  'Rhinitis, Allergic, Seasonal',\n  'Spondylitis, Ankylosing',\n  'Thyroid Diseases',\n  'Thyroid Neoplasms'},\n 'Q9H257': {'Arthritis, Juvenile',\n  'Autoimmune Diseases',\n  'Celiac Disease',\n  'Chemokine CCL2',\n  'Common Variable Immunodeficiency',\n  'Spondylitis, Ankylosing',\n  'Thyroid Diseases'},\n 'O95150': {'Arthritis, Juvenile',\n  'Autoimmune Diseases',\n  'Celiac Disease',\n  'Common Variable Immunodeficiency',\n  'Immunoglobulin A',\n  'Spondylitis, Ankylosing',\n  'Thyroid Diseases'},\n 'Q2M5E4': {'Celiac Disease'},\n 'Q96A46': {'Arthritis, Juvenile',\n  'Autoimmune Diseases',\n  'Celiac Disease',\n  'Common Variable Immunodeficiency',\n  'Spondylitis, Ankylosing',\n  'Thyroid Diseases'},\n 'Q2M1Z3': {'Celiac Disease'},\n 'P21580': {'Celiac Disease', 'Mortality'},\n 'P51679': {'Celiac Disease'},\n 'P14921': {'Bronchodilator Agents', 'Celiac Disease', 'Interleukin-6'},\n 'Q5S007': {'Arthritis, Juvenile',\n  'Autoimmune Diseases',\n  'Celiac Disease',\n  'Common Variable Immunodeficiency',\n  'Spondylitis, Ankylosing',\n  'Thyroid Diseases'},\n 'P16278': {'Celiac Disease'},\n 'P51828': {'Arthritis, Juvenile',\n  'Autoimmune Diseases',\n  'Celiac Disease',\n  'Common Variable Immunodeficiency',\n  'Spondylitis, Ankylosing',\n  'Thyroid Diseases'},\n 'Q8N103': {'Celiac Disease', 'Lipoprotein(a)', 'lipoprotein A-I'},\n 'P17706': {'Autoantibodies',\n  'Autoimmune Diseases',\n  'Carcinoma, Squamous Cell',\n  'Celiac Disease',\n  'Esophageal Neoplasms'},\n 'Q5VWK5': {'Arthritis, Juvenile',\n  'Autoimmune Diseases',\n  'Celiac Disease',\n  'Common Variable Immunodeficiency',\n  'Spondylitis, Ankylosing',\n  'Thyroid Diseases'},\n 'Q14118': {'Arthritis, Juvenile',\n  'Autoimmune Diseases',\n  'Celiac Disease',\n  'Common Variable Immunodeficiency',\n  'Spondylitis, Ankylosing',\n  'Thyroid Diseases'},\n 'Q08116': {'Celiac Disease'},\n 'Q9Y6W8': {'Albuminuria', 'Celiac Disease'},\n 'P08567': {'Celiac Disease', 'Lipoproteins', 'Sphingolipids'},\n 'Q9H7D0': {'Bronchodilator Agents'},\n 'P20853': {'Bronchodilator Agents', 'Caffeine', 'Nicotine'},\n 'Q96L21': {'Bronchodilator Agents'},\n 'Q8NEM0': {'Bronchodilator Agents', 'Leukopenia'},\n 'Q9UKP4': {'Bronchodilator Agents',\n  'Coronary Artery Disease',\n  'Myocardial Infarction'},\n 'P19022': {'Bronchodilator Agents'},\n 'P01009': {'Amino Acids', 'Bronchodilator Agents', 'Vascular Calcification'},\n 'P30532': {'Airway Obstruction',\n  'Bronchodilator Agents',\n  'Forced Expiratory Volume',\n  'Lung Neoplasms',\n  'Pulmonary Artery',\n  'Pulmonary Emphysema'},\n 'Q9NZL9': {'Bronchodilator Agents'},\n 'O00222': {'Bronchodilator Agents',\n  'Creutzfeldt-Jakob Syndrome',\n  'Hemoglobins',\n  'Survival'},\n 'A2RU49': {'Airway Obstruction',\n  'Bronchodilator Agents',\n  'Forced Expiratory Volume',\n  'Lung Neoplasms',\n  'Pulmonary Emphysema',\n  'Tobacco Use Disorder'},\n 'P08254': {'Bronchodilator Agents', 'Matrix Metalloproteinases'},\n 'Q8N883': {'Bronchodilator Agents'},\n 'P47900': {'Bronchodilator Agents', 'Forced Expiratory Volume'},\n 'P32297': {'Adenocarcinoma of lung',\n  'Airway Obstruction',\n  'Bronchitis, Chronic',\n  'Bronchodilator Agents',\n  'Carbon Monoxide',\n  'Emphysema',\n  'Forced Expiratory Volume',\n  'Lung Neoplasms',\n  'Pulmonary Emphysema',\n  'Tobacco Use Disorder'},\n 'P16455': {'Bronchodilator Agents', 'DNA Methylation', 'temozolomide'},\n 'Q9UK55': {'Bronchodilator Agents', 'Emphysema'},\n 'Q8TB24': {'Bronchodilator Agents', 'Osteitis Deformans'},\n 'P30926': {'Bronchodilator Agents',\n  'Carbon Monoxide',\n  'Forced Expiratory Volume'},\n 'P11509': {'Bronchodilator Agents',\n  'Caffeine',\n  'Forced Expiratory Volume',\n  'Nicotine',\n  'Pulmonary Emphysema'},\n 'P25789': {'Airway Obstruction',\n  'Bronchodilator Agents',\n  'Drug Resistance',\n  'Forced Expiratory Volume'},\n 'Q9UKL4': {'Axial Length, Eye',\n  'Bronchodilator Agents',\n  'Forced Expiratory Volume',\n  'Hyperopia',\n  'Myopia',\n  'Refraction, Ocular',\n  'Refractive Errors'},\n 'Q9UPX8': {'Bronchodilator Agents', 'Forced Expiratory Volume'},\n 'Q6VAB6': {'Bronchodilator Agents',\n  'Coronary Artery Disease',\n  'Depressive Disorder'},\n 'Q96LR5': {'Antidepressive Agents, Tricyclic',\n  'Bronchodilator Agents',\n  'Neuropsychological Tests'},\n 'P48200': {'Bronchodilator Agents',\n  'Forced Expiratory Volume',\n  'Pulmonary Artery'},\n 'P51965': {'Bronchodilator Agents'},\n 'P45452': {'Bronchodilator Agents', 'Toluene 2,4-Diisocyanate'},\n 'P39900': {'Bronchodilator Agents',\n  'Matrix Metalloproteinases',\n  'Pulmonary Emphysema'},\n 'O94988': {'Bronchitis, Chronic',\n  'Bronchodilator Agents',\n  'Forced Expiratory Volume',\n  'Lung Diseases, Interstitial'},\n 'Q9Y3R0': {'Bronchodilator Agents'},\n 'P40126': {'Bronchodilator Agents', 'Forced Expiratory Volume'},\n 'Q7Z553': {'Bronchodilator Agents',\n  'Exercise Test',\n  'Hemoglobin A2',\n  'Lipids'},\n 'P61812': {'Acne Vulgaris',\n  'Bronchodilator Agents',\n  'Forced Expiratory Volume',\n  'Pulmonary Emphysema'},\n 'Q9Y575': {'Bronchodilator Agents'},\n 'Q00169': {'Bronchodilator Agents', 'Forced Expiratory Volume'},\n 'Q08AN1': {'Bronchodilator Agents'},\n 'P09172': {'Bronchodilator Agents', 'Forced Expiratory Volume'},\n 'P55290': {'Adiponectin',\n  'Alcohol Drinking',\n  'Bronchodilator Agents',\n  'Drug Resistance',\n  'Forced Expiratory Volume',\n  'White Matter'},\n 'P02724': {'Bronchodilator Agents',\n  'Forced Expiratory Volume',\n  'Pulmonary Emphysema'},\n 'P09884': {'Hemoglobins'},\n 'Q8NGK1': {'Hemoglobin A2', 'Hemoglobins'},\n 'Q9Y6K9': {'Hemoglobin A, Glycosylated', 'Hemoglobins'},\n 'P02100': {'Fetal Hemoglobin', 'Hemoglobin A2', 'Hemoglobins'},\n 'O14925': {'Hemoglobins'},\n 'Q9H341': {'Fetal Hemoglobin',\n  'Glucosephosphate Dehydrogenase',\n  'Hemoglobin A2',\n  'Hemoglobins'},\n 'Q9H211': {'Hemoglobins'},\n 'Q12980': {'Anemia, Sickle Cell',\n  'Hemoglobin A, Glycosylated',\n  'Hemoglobins'},\n 'P08575': {'Hemoglobins'},\n 'Q7Z401': {'Hemoglobins'},\n 'P10911': {'Hemoglobins', 'Lipoproteins'},\n 'P69905': {'Hemoglobins'},\n 'Q8WWG1': {'Hemoglobins'},\n 'Q99967': {'Hemoglobins'},\n 'Q9H2C8': {'Hemoglobin A2', 'Hemoglobins', 'Malaria'},\n 'Q96AV8': {'Brain',\n  'Central Nervous System',\n  'Hemoglobins',\n  'Subcutaneous Fat'},\n 'Q9Y666': {'Hemoglobins'},\n 'P69891': {'Fetal Hemoglobin', 'Hemoglobin A2', 'Hemoglobins'},\n 'P05091': {'Alcohol Drinking',\n  'Alcoholism',\n  'Arterial Pressure',\n  'Biomarkers',\n  'Drinking Behavior',\n  'Embolism',\n  'Esophageal Neoplasms',\n  'Hemoglobins',\n  'alpha 1-Antitrypsin',\n  'gamma-Glutamyltransferase'},\n 'Q96LB4': {'Hemoglobins'},\n 'P68871': {'Fetal Hemoglobin', 'Hemoglobin A2', 'Hemoglobins', 'Malaria'},\n 'Q8IWV2': {'Brain', 'Hemoglobins', 'Lipoproteins, VLDL'},\n 'Q9Y2W6': {'Hemoglobins'},\n 'Q9Y2P8': {'Hemoglobins'},\n 'P69892': {'Fetal Hemoglobin', 'Hemoglobin A2', 'Hemoglobins'},\n 'P19971': {'Hemoglobins'},\n 'P10828': {'Hemoglobins', 'Myopia'},\n 'P30281': {'Hemoglobins'},\n 'Q9UPR3': {'Hemoglobins', 'hemoglobin A1c protein, human'},\n 'Q8NH87': {'Hemoglobins'},\n 'P02042': {'Fetal Hemoglobin', 'Hemoglobin A2', 'Hemoglobins'},\n 'P0C646': {'Hemoglobin A2', 'Hemoglobins'},\n 'O15439': {'Lipoproteins, VLDL'},\n 'Q9P267': {'Lipoproteins, VLDL'},\n 'P78317': {'Lipoproteins, VLDL'},\n 'Q9Y2F5': {'Disease-Free Survival', 'Lipoproteins, VLDL'},\n 'Q9UQ90': {'Lipoproteins, VLDL'},\n 'P49454': {'Lipoproteins, VLDL'},\n 'O43903': {'Lipoproteins, VLDL', 'Mortality'},\n 'Q86SS6': {'Lipoproteins, VLDL', 'Mental Competency', 'Phospholipids'},\n 'Q08289': {'Arterial Pressure',\n  'Attention Deficit Disorder with Hyperactivity',\n  'Bipolar Disorder',\n  'Child Development Disorders, Pervasive',\n  'Depressive Disorder',\n  'Lipoproteins, VLDL',\n  'Odontogenesis'},\n 'Q8N3A8': {'Lipoproteins, VLDL', 'Memory', 'Neuropsychological Tests'},\n 'Q86WA6': {'Lipoproteins, VLDL'},\n 'Q9GZS9': {'Lipoproteins, VLDL'},\n 'Q9UIV8': {'Lipoproteins, VLDL'},\n 'Q9UNG2': {'Body Weight Changes', 'Lipoproteins, VLDL'},\n 'Q9GZX3': {'Lipoproteins, VLDL'},\n 'P47870': {'Chemical and Drug Induced Liver Injury',\n  'Diclofenac',\n  'Lipoproteins, VLDL'},\n 'Q16445': {'Lipoproteins, VLDL'},\n 'Q9BPZ7': {'Lipoproteins, VLDL'},\n 'Q8N5Z0': {'Lipoproteins, VLDL', 'Thyroxine'},\n 'Q02094': {'Lipoproteins, VLDL'},\n 'Q96P63': {'Lipoproteins, VLDL'},\n 'Q9HD67': {'Depressive Disorder', 'Lipoproteins, VLDL'},\n 'Q13002': {'Follicle Stimulating Hormone',\n  'Lipoproteins',\n  'Lipoproteins, VLDL',\n  'Longevity'},\n 'P50135': {'Lipoproteins, VLDL'},\n 'O75486': {'ADAMTS13 protein, human',\n  'Alopecia',\n  'Cartilage',\n  'Chin',\n  'Eyebrows',\n  'Face',\n  'Nose',\n  'Ossification of the posterior longitudinal ligament of the spine'},\n 'Q92667': {'Alopecia'},\n 'O75886': {'Alopecia'},\n 'Q7Z3B3': {'Alopecia', 'Brain', 'Forced Expiratory Volume', 'Vital Capacity'},\n 'P12034': {'Alopecia', 'Arterial Pressure', 'Eyebrows', 'Hypertension'},\n 'Q9UH73': {'Adipose Tissue',\n  'Alopecia',\n  'Carotid Arteries',\n  'Stress, Psychological',\n  'Varicose Veins'},\n 'P05386': {'Alopecia'},\n 'Q14571': {'Alopecia', 'Carcinoma, Renal Cell', 'Kashin-Beck Disease'},\n 'Q9BXA5': {'Alopecia', 'Pyloric Stenosis, Hypertrophic'},\n 'P82650': {'Alopecia', 'Ear, External'},\n 'Q9UNE0': {'Alopecia',\n  'Chin',\n  'Ear',\n  'Ear, External',\n  'Eyebrows',\n  'Hair',\n  'Lip'},\n 'O95926': {'Alopecia'},\n 'Q9UKV0': {'Alopecia',\n  'Atrial Natriuretic Factor',\n  'Eyebrows',\n  'Peripheral Nervous System Diseases',\n  'Pulse',\n  'Reverse Transcriptase Inhibitors'},\n 'Q5VZM2': {'Alopecia', 'Prostate-Specific Antigen'},\n 'Q9UBU2': {'Alopecia'},\n 'Q96DH6': {'Alopecia'},\n 'Q01196': {'Alopecia',\n  'Esophageal Neoplasms',\n  'Esophageal Squamous Cell Carcinoma'},\n 'Q15306': {'Alopecia',\n  'Carcinoma, Squamous Cell',\n  'Eye Color',\n  'Eyebrows',\n  'Hair Color',\n  'Melanoma',\n  'Melanosis',\n  'Multiple Myeloma',\n  'Skin Neoplasms',\n  'Skin Pigmentation',\n  'Suntan',\n  'Supranuclear Palsy, Progressive'},\n 'Q8WVJ9': {'3-hydroxy-1-methylpropylmercapturic acid', 'Alopecia'},\n 'Q9GZT5': {'Alopecia', 'Hair'},\n 'P10275': {'Alopecia', 'Sleep'},\n 'O00305': {'Alopecia'},\n 'Q13901': {'Alopecia', 'Pancreatic Carcinoma', 'Restless Legs Syndrome'},\n 'P18846': {'Alopecia'},\n 'Q8WXX7': {'Alcohol Drinking',\n  'Alopecia',\n  'Autosomal dominant compelling helio ophthalmic outburst syndrome',\n  'Depressive Disorder',\n  'Eyebrows',\n  'Motion Sickness',\n  'Serotonin Uptake Inhibitors'},\n 'Q6YHU6': {'Alopecia', 'GRN protein, human', 'Polycystic Ovary Syndrome'},\n 'Q9HAV5': {'Alopecia'},\n 'Q9NWB1': {'Age of Onset',\n  'Autosomal dominant compelling helio ophthalmic outburst syndrome',\n  'Calcium-Binding Proteins',\n  'Cognition Disorders',\n  'Cognitive Dysfunction',\n  'Glaucoma',\n  'Myopia',\n  'Phospholipids',\n  'Refraction, Ocular'},\n 'Q9NZM3': {'Age of Onset'},\n 'P56975': {'Age of Onset',\n  'Aorta',\n  'Autosomal dominant compelling helio ophthalmic outburst syndrome',\n  'Insulin',\n  'Insulin Resistance'},\n 'Q99743': {'Age of Onset', 'Creutzfeldt-Jakob Syndrome'},\n 'P00488': {'Age of Onset', 'Blood Coagulation Factors'},\n 'Q9BZF3': {'Age of Onset'},\n 'P33176': {'Age of Onset'},\n 'Q8NB78': {'Age of Onset'},\n 'P41586': {'Age of Onset'},\n 'P14410': {'Age of Onset', 'Alcoholism'},\n 'P25874': {'Age of Onset'},\n 'Q6ZUX7': {'Age of Onset'},\n 'O43426': {'Age of Onset'},\n 'O75691': {'Age of Onset', 'Alcoholism'},\n 'Q9BYT9': {'Age of Onset',\n  'Autosomal dominant compelling helio ophthalmic outburst syndrome',\n  'Body Weight Changes',\n  'Seizures, Febrile'},\n 'P47869': {'Age of Onset'},\n 'P09493': {'Age of Onset', 'Mean Platelet Volume'},\n 'P28222': {'Age of Onset'},\n 'Q66K46': {'Age of Onset'},\n 'P01920': {'Age of Onset',\n  'Chemical and Drug Induced Liver Injury',\n  'Forced Expiratory Volume',\n  'Graves Disease',\n  'Hypersensitivity',\n  'Hypothyroidism',\n  'Lymphoma, Follicular',\n  'Mouth Neoplasms',\n  'Oropharyngeal Neoplasms',\n  'Papillomavirus Vaccines',\n  'Pharyngeal Neoplasms',\n  'Rhinitis, Allergic, Seasonal'},\n 'Q8WV24': {'Age of Onset', 'Death, Sudden, Cardiac', 'Glioma'},\n 'Q03112': {'Arterial Pressure',\n  'Biomarkers',\n  'Blood Urea Nitrogen',\n  'Forced Expiratory Volume',\n  'Magnesium',\n  'Myeloproliferative Disorders',\n  'Osteoporosis'},\n 'P05177': {'Arterial Pressure', 'Caffeine', 'Coffee'},\n 'P04798': {'Arterial Pressure', 'Caffeine', 'Coffee'},\n 'O14649': {'Arterial Pressure'},\n 'Q96G01': {'Arterial Pressure'},\n 'P08588': {'Arterial Pressure', 'Birth Weight'},\n 'P34949': {'Arterial Pressure'},\n 'Q9Y6M7': {'Arterial Pressure'},\n 'P35908': {'Arterial Pressure'},\n 'P49902': {'Arterial Pressure',\n  'Attention Deficit Disorder with Hyperactivity',\n  'Bipolar Disorder',\n  'Child Development Disorders, Pervasive',\n  'Depressive Disorder',\n  'Hypertension'},\n 'Q6PHR2': {'Arterial Pressure', 'Coffee'},\n 'P09958': {'Arterial Pressure'},\n 'P20020': {'Arterial Pressure',\n  'Coronary Artery Disease',\n  'Hypertension',\n  'Myocardial Infarction'},\n 'Q8NBF2': {'Arterial Pressure'},\n 'P42898': {'Arterial Pressure', 'Homocysteine'},\n 'Q06124': {'Arterial Pressure', 'Cleft Lip', 'Cleft Palate', 'Lipids'},\n 'P05093': {'Arterial Pressure', 'Hypertension'},\n 'Q14654': {'Arterial Pressure'},\n 'Q3MIN7': {'Arterial Pressure'},\n 'P41240': {'Arterial Pressure'},\n 'Q14865': {'Arterial Pressure',\n  'Corneal Topography',\n  'Precursor B-Cell Lymphoblastic Leukemia-Lymphoma',\n  'Precursor Cell Lymphoblastic Leukemia-Lymphoma'},\n 'A6NI28': {'Arterial Pressure', 'Hypertension'},\n 'O43318': {'Arterial Pressure',\n  'Cholangitis, Sclerosing',\n  'Tumor Necrosis Factors'},\n 'P07332': {'Arterial Pressure'},\n 'Q5HYJ1': {'Arterial Pressure'},\n 'Q8NEE6': {'Arterial Pressure', 'Cold-Shock Response'},\n 'Q9HBK9': {'Arterial Pressure',\n  'Attention Deficit Disorder with Hyperactivity',\n  'Bipolar Disorder',\n  'Child Development Disorders, Pervasive',\n  'Depressive Disorder',\n  'Hypertension'},\n 'P11226': {'Chin', 'Eyebrows', 'Fractures, Bone', 'Heart Function Tests'},\n 'P52926': {'Aorta',\n  'Birth Weight',\n  'Brain',\n  'Chin',\n  'Head',\n  'Odontogenesis',\n  'Polycystic Ovary Syndrome',\n  'Tooth Eruption'},\n 'O15085': {'Chin'},\n 'Q53QZ3': {'Chin'},\n 'P61009': {'Chin'},\n 'P35548': {'Chin'},\n 'O75431': {'Chin', 'Eyebrows'},\n 'O43508': {'Chin', 'Myopia'},\n 'P49767': {'Chin'},\n 'Q9UPY3': {'Chin', 'Cleft Lip', 'Cleft Palate', 'Nose'},\n 'Q9NSD9': {'Chin'},\n 'Q13444': {'Chin'},\n 'Q96PD6': {'Chin'},\n 'Q9UPW6': {'Abdominal Fat',\n  'Adenocarcinoma Of Esophagus',\n  'Barrett Esophagus',\n  'Body Weights and Measures',\n  'Chin',\n  'Coronary Artery Disease'},\n 'Q02297': {'Chin',\n  'Hirschsprung Disease',\n  'Hypothyroidism',\n  'Insulin',\n  'Thyroid Neoplasms',\n  'Thyrotropin'},\n 'Q99502': {'Chin', 'Hypospadias'},\n 'Q86XP1': {'Bipolar Disorder', 'Nephrolithiasis'},\n 'O95864': {'Alkaline Phosphatase',\n  'Arachidonic Acid',\n  'Bipolar Disorder',\n  'Eicosapentaenoic Acid',\n  'Fatty Acids',\n  'Fatty Acids, Omega-6',\n  'Glycerophospholipids',\n  'Iron',\n  'Linoleic Acid',\n  'Trans Fatty Acids',\n  'Transferrin',\n  'alpha-Linolenic Acid',\n  'docosapentaenoic acid'},\n 'Q9UEY8': {'Bipolar Disorder'},\n 'O43353': {'Attention Deficit Disorder with Hyperactivity',\n  'Bipolar Disorder',\n  'Child Development Disorders, Pervasive',\n  'Depressive Disorder',\n  'Migraine Disorders'},\n 'Q12955': {'Attention Deficit Disorder with Hyperactivity',\n  'Bipolar Disorder',\n  'Child Development Disorders, Pervasive',\n  'Depressive Disorder'},\n 'O00443': {'Bipolar Disorder'},\n 'Q6UQ28': {'Bipolar Disorder', 'Lithium'},\n 'O75348': {'Bipolar Disorder'},\n 'P23142': {'Bipolar Disorder', 'Mental Disorders', 'Personality'},\n 'P04626': {'Bipolar Disorder'},\n 'O43323': {'Bipolar Disorder'},\n 'Q8NF91': {'Attention Deficit Disorder with Hyperactivity',\n  'Bipolar Disorder',\n  'Child Development Disorders, Pervasive',\n  'Depressive Disorder',\n  'lipoprotein A-I'},\n 'O14594': {'Bipolar Disorder'},\n 'Q9Y233': {'Bipolar Disorder',\n  'Hypothyroidism',\n  'Refractive Errors',\n  'Thyrotropin'},\n 'Q9H0V9': {'Bipolar Disorder'},\n 'Q14938': {'Bipolar Disorder'},\n 'Q9Y6D9': {'Bipolar Disorder', 'Psychotic Disorders', 'Testicular Neoplasms'},\n 'Q9NVH2': {'Bipolar Disorder', 'Mental Disorders', 'Personality'},\n 'Q12899': {'Attention Deficit Disorder with Hyperactivity',\n  'Bipolar Disorder',\n  'Child Development Disorders, Pervasive',\n  'Depressive Disorder'},\n 'Q08462': {'Antineoplastic Agents',\n  'Attention Deficit Disorder with Hyperactivity',\n  'Bipolar Disorder',\n  'Cognition Disorders',\n  'Cognitive Dysfunction',\n  'Myopia, Degenerative'},\n 'Q06033': {'Attention Deficit Disorder with Hyperactivity',\n  'Bipolar Disorder',\n  'Child Development Disorders, Pervasive',\n  'Cytokines',\n  'Depressive Disorder'},\n 'Q86YC2': {'Bipolar Disorder'},\n 'Q13639': {'Forced Expiratory Volume'},\n 'Q96CB8': {'Forced Expiratory Volume'},\n 'P42568': {'Forced Expiratory Volume', 'montelukast'},\n 'Q16798': {'Forced Expiratory Volume'},\n 'Q86SQ4': {'Corneal Pachymetry', 'Forced Expiratory Volume', 'Scoliosis'},\n 'O94929': {'Forced Expiratory Volume'},\n 'O95084': {'Forced Expiratory Volume'},\n 'Q9BRR0': {'Forced Expiratory Volume'},\n 'Q08499': {'Apolipoprotein A-I',\n  'Blood Coagulation Factors',\n  'Calcium-Binding Proteins',\n  'Cytokines',\n  'Diabetes Mellitus',\n  'Esophageal Neoplasms',\n  'Forced Expiratory Volume',\n  'Gases',\n  'Quetiapine Fumarate',\n  'Sleep'},\n 'Q8IXL7': {'Calcium-Binding Proteins',\n  'Forced Expiratory Volume',\n  'Hippocampus',\n  'Odontogenesis',\n  'Peroxidase',\n  'Tooth Eruption'},\n 'Q96PU8': {'Aorta',\n  'Autosomal dominant compelling helio ophthalmic outburst syndrome',\n  'Longevity',\n  'Myocardial Infarction',\n  'Polychlorinated Biphenyls',\n  'lipoprotein A-I'},\n 'Q96SN8': {'Autosomal dominant compelling helio ophthalmic outburst syndrome'},\n 'P62508': {'Autosomal dominant compelling helio ophthalmic outburst syndrome'},\n 'Q7Z6J0': {'Autosomal dominant compelling helio ophthalmic outburst syndrome'},\n 'Q8N4N8': {'Alcohol Drinking',\n  'Autosomal dominant compelling helio ophthalmic outburst syndrome',\n  'Lipids'},\n 'P18075': {'Eyebrows', 'Nose'},\n 'P42858': {'Eyebrows'},\n 'Q92838': {'Eyebrows', 'Odontogenesis', 'Tooth Eruption'},\n 'Q5TB80': {'Eyebrows'},\n 'O95714': {'Carcinoma, Squamous Cell',\n  'Eye Color',\n  'Eyebrows',\n  'Hair Color',\n  'Skin Pigmentation',\n  'Suntan',\n  'Toluene 2,4-Diisocyanate'},\n 'Q13635': {'Cleft Lip', 'Cleft Palate', 'Eyebrows', 'Survival'},\n 'P23760': {'Eyebrows', 'Face', 'Hair', 'Nose'},\n 'P11487': {'Eyebrows'},\n 'Q5H9R7': {'Eyebrows'},\n 'Q5XXA6': {'Eyebrows'},\n 'O43181': {'Eyebrows'},\n 'Q68CQ4': {'Cleft Lip', 'Cleft Palate', 'Eyebrows', 'Mouth Abnormalities'},\n 'Q9Y5U4': {'Eyebrows'},\n 'Q8NFF2': {'Audiometry, Pure-Tone',\n  'Corneal Pachymetry',\n  'Eye Color',\n  'Eyebrows',\n  'Hair Color'},\n 'Q9NYQ3': {'Ear, External', 'Eyebrows'},\n 'Q9UMX9': {'Carcinoma, Squamous Cell',\n  'Eye Color',\n  'Eyebrows',\n  'Hair Color',\n  'Melanoma',\n  'Skin Neoplasms',\n  'Skin Pigmentation',\n  'Suntan'},\n 'Q9H1Y0': {'Eyebrows'},\n 'P48431': {'Eyebrows'},\n 'O75626': {'Eyebrows', 'Hair', 'Tooth Eruption'},\n 'O75197': {'Eyebrows'},\n 'O96008': {'Amyloid beta-Peptides',\n  'Cerebral Cortex',\n  'Cognition',\n  'Cognition Disorders',\n  'Depression',\n  'Lipids',\n  'Longevity',\n  'Metabolic Syndrome X',\n  'Neurodegenerative Diseases'},\n 'Q8N4C8': {'Lipids'},\n 'Q8WWC4': {'Lipids'},\n 'P51589': {'Lipids', 'Lipoproteins'},\n 'Q9NP71': {'Coffee',\n  'Lipids',\n  'Lipoproteins',\n  'Metabolic Syndrome X',\n  'gamma-Glutamyltransferase'},\n 'Q96N67': {'Lipids', 'Vascular Calcification'},\n 'Q6Q788': {'Hypertriglyceridemia',\n  'Lipids',\n  'Metabolic Syndrome X',\n  'apolipoprotein A-IV'},\n 'Q9NYV6': {'Lipids'},\n 'P51532': {'Coronary Artery Disease',\n  'Lipids',\n  'Lipoproteins',\n  'Myocardial Infarction'},\n 'O15072': {'Lipids', 'Vascular Calcification'},\n 'Q02080': {'Lipids'},\n 'Q9H221': {'Gallstones', 'Lipids', 'Lipoproteins', 'Phosphorus'},\n 'Q9UPU5': {'Lipids', 'Lipoproteins'},\n 'Q9Y5X9': {'Lipids', 'Lipoproteins'},\n 'P08637': {'Lipids'},\n 'Q9P121': {'Gallbladder Diseases', 'Lipids', 'Myopia'},\n 'P55058': {'Lipids', 'Lipoproteins', 'Vascular Calcification'},\n 'P01130': {'1-Alkyl-2-acetylglycerophosphocholine Esterase',\n  'Aortic Aneurysm, Abdominal',\n  'Coronary Artery Disease',\n  'Lipids',\n  'Lipoproteins',\n  'Myocardial Infarction',\n  'Vascular Calcification'},\n 'P10767': {'Migraine Disorders', 'Migraine without Aura'},\n 'Q07954': {'Aortic Aneurysm, Abdominal',\n  'Migraine Disorders',\n  'Migraine without Aura'},\n 'Q7Z2W7': {'CD40 Ligand',\n  'Cold-Shock Response',\n  'Migraine Disorders',\n  'Migraine without Aura',\n  'Peroxidase'},\n 'O14786': {'Migraine Disorders'},\n 'Q63HN8': {'Migraine Disorders', 'Moyamoya Disease'},\n 'O94874': {'Migraine Disorders', 'Sleep'},\n 'Q9HC58': {'Exercise Test', 'Migraine Disorders', 'Neuroblastoma'},\n 'P37173': {'Migraine Disorders'},\n 'Q9GZL7': {'Migraine Disorders', 'Myocardial Infarction'},\n 'Q9C000': {'Migraine Disorders', 'Varicose Veins'},\n 'P08631': {'Migraine Disorders'},\n 'Q8NEX9': {'Migraine Disorders'},\n 'Q8WWQ2': {'Migraine Disorders'},\n 'Q9GZV9': {'Migraine Disorders', 'Migraine without Aura'},\n 'O95279': {'Coronary Artery Disease',\n  'Migraine Disorders',\n  'Myocardial Infarction'},\n 'Q14642': {'Cholangitis, Sclerosing', 'Migraine Disorders'},\n 'Q14814': {'Migraine Disorders'},\n 'Q6UY14': {'Migraine Disorders'},\n 'Q8NCD3': {'Migraine Disorders'},\n 'Q9HAZ2': {'Migraine Disorders', 'Motion Sickness', 'Neoplasms'},\n 'Q9UBP5': {'Brugada Syndrome', 'Migraine Disorders'},\n 'P01138': {'Dysmenorrhea', 'Migraine Disorders', 'Migraine without Aura'},\n 'Q8N1I0': {'Migraine Disorders'},\n 'P46937': {'Migraine Disorders', 'Polycystic Ovary Syndrome'},\n 'P17302': {'Migraine Disorders'},\n 'Q9BX67': {'Migraine Disorders'},\n 'Q12857': {'Cryptorchidism',\n  'Drug Resistance',\n  'Myopia',\n  'Sulfonylurea Compounds',\n  'Thyrotropin'},\n 'P12109': {'Myopia'},\n 'P24043': {'Axial Length, Eye',\n  'Myopia',\n  'Refraction, Ocular',\n  'Refractive Errors'},\n 'Q9P2I0': {'Corneal Pachymetry', 'Eye Color', 'Hair Color', 'Myopia'},\n 'P48058': {'Myopia', 'Refraction, Ocular'},\n 'P54829': {'Myopia'},\n 'P47804': {'Myopia'},\n 'Q13972': {'Myopia', 'Refraction, Ocular', 'Refractive Errors'},\n 'P24928': {'Glioma', 'Myopia'},\n 'Q7Z624': {'Anxiety Disorders', 'Myopia'},\n 'O14929': {'Myopia'},\n 'P43304': {'Motion Sickness', 'Myopia', 'von Willebrand Factor'},\n 'Q9ULV0': {'Myopia'},\n 'Q9HCR9': {'Myopia'},\n 'Q9UDY2': {'Myopia', 'Refraction, Ocular', 'Refractive Errors'},\n 'Q8N6G6': {'Myopia'},\n 'Q8WW43': {'Myopia'},\n 'Q8TD84': {'Lipoprotein(a)', 'Myopia'},\n 'Q9NR82': {'Myopia', 'Refraction, Ocular', 'Refractive Errors'},\n 'P16520': {'Myopia'},\n 'P54710': {'Myopia'},\n 'P0CG48': {'Lipoproteins'},\n 'Q8WTV0': {'1-Alkyl-2-acetylglycerophosphocholine Esterase',\n  'Carcinoma, Renal Cell',\n  'Lipoproteins',\n  'Vitamin E'},\n 'Q9H222': {'Gallstones', 'Lipoproteins'},\n 'Q14185': {'Crown-Rump Length',\n  'Digestive System Neoplasms',\n  'Intercellular Adhesion Molecule-1',\n  'Lipoproteins'},\n 'P08842': {'Lipoproteins'},\n 'Q8NBP7': {'Coronary Artery Disease',\n  'Hydroxymethylglutaryl CoA Reductases',\n  'Lipoproteins',\n  'Myocardial Infarction'},\n 'P30273': {'Hypersensitivity', 'Lipoproteins'},\n 'Q9Y5Q3': {'Cleft Lip',\n  'Cleft Palate',\n  'Dupuytren Contracture',\n  'Face',\n  'GRN protein, human',\n  'Lipoproteins',\n  'Mouth Abnormalities'},\n 'P02652': {'Lipoproteins'},\n 'Q9BY76': {'Lipoproteins'},\n 'P08519': {'1-Alkyl-2-acetylglycerophosphocholine Esterase',\n  'Aortic Valve, Calcification of',\n  'Apolipoprotein A-I',\n  'Coronary Artery Disease',\n  'Hydroxymethylglutaryl CoA Reductases',\n  'Lipoprotein(a)',\n  'Lipoproteins',\n  'Myocardial Infarction',\n  'Plasminogen',\n  'lipoprotein A-I'},\n 'Q9UQ52': {'Microbiota'},\n 'Q99467': {'Microbiota'},\n 'Q16795': {'Microbiota'},\n 'Q8IUC2': {'Microbiota'},\n 'Q99747': {'Microbiota', 'Tumor Necrosis Factor-alpha'},\n 'Q86UQ4': {'Microbiota'},\n 'Q9UBY0': {'Microbiota'},\n 'Q8WV22': {'Microbiota'},\n 'Q9BZV2': {'Microbiota'},\n 'Q9UK17': {'Cytokines', 'Electromagnetic Radiation', 'Microbiota'},\n 'P62995': {'Microbiota'},\n 'Q8WUP2': {'Microbiota'},\n 'Q8NFW1': {'Cardiovascular Diseases', 'Dehydroepiandrosterone', 'Microbiota'},\n 'A8K8P3': {'Cleft Lip', 'Cleft Palate'},\n 'Q53T94': {'Cleft Lip', 'Cleft Palate'},\n 'P05783': {'Cleft Lip', 'Cleft Palate'},\n 'O95631': {'Cleft Lip', 'Cleft Palate', 'Mouth Abnormalities'},\n 'O14896': {'Cleft Lip',\n  'Cleft Palate',\n  'GRN protein, human',\n  'Mouth Abnormalities'},\n 'Q13253': {'Cleft Lip', 'Cleft Palate', 'GRN protein, human'},\n 'P78363': {'Cleft Lip',\n  'Cleft Palate',\n  'GRN protein, human',\n  'Mouth Abnormalities'},\n 'O14653': {'Cleft Lip', 'Cleft Palate', 'Heart Function Tests'},\n 'Q92793': {'Cleft Lip', 'Cleft Palate'},\n 'P27348': {'Cleft Lip', 'Cleft Palate'},\n 'Q9H3D4': {'Adenocarcinoma of lung',\n  'Carcinoma, Squamous Cell',\n  'Cleft Lip',\n  'Cleft Palate',\n  'Lung Neoplasms',\n  'Pancreatic Carcinoma',\n  'Precursor Cell Lymphoblastic Leukemia-Lymphoma'},\n 'O43597': {'Body Fat Distribution',\n  'Cleft Lip',\n  'Cleft Palate',\n  'GRN protein, human',\n  'Mouth Abnormalities'},\n 'Q8WYR1': {'Cleft Lip', 'Cleft Palate'},\n 'P11362': {'Cleft Lip', 'Cleft Palate'},\n 'P10916': {'Alcohol Drinking',\n  'Cleft Lip',\n  'Cleft Palate',\n  'Gout',\n  'gamma-Glutamyltransferase'},\n 'O75140': {'Cleft Lip', 'Cleft Palate'},\n 'O15520': {'Cleft Lip', 'Cleft Palate'},\n 'A0MZ66': {'Cleft Lip',\n  'Cleft Palate',\n  'GRN protein, human',\n  'Mouth Abnormalities'},\n 'P62854': {'Cleft Lip', 'Cleft Palate'},\n 'P23416': {'Mental Competency'},\n 'Q9HBH5': {'Mental Competency'},\n 'P20309': {'Epilepsy', 'Erythrocytes', 'Interleukin-6', 'Mental Competency'},\n 'Q9H6R3': {'Kidney Diseases', 'Mental Competency'},\n 'O43155': {'Apolipoprotein A-I',\n  'Death, Sudden, Cardiac',\n  'Mental Competency',\n  'von Willebrand Factor'},\n 'Q9BQ31': {'Luteinizing Hormone', 'Mental Competency'},\n 'P78560': {'Mental Competency'},\n 'Q8WW38': {'Mental Competency', 'Vascular Endothelial Growth Factors'},\n 'O95777': {'Luteinizing Hormone', 'Mental Competency'},\n 'P49336': {'Exercise Test', 'Mental Competency', 'Pituitary Neoplasms'},\n 'Q5T1R4': {'Mental Competency', 'Neuropsychological Tests'},\n 'P60880': {'Mental Competency'},\n 'Q7KZF4': {'Mental Competency'},\n 'P54803': {'Apolipoprotein A-I',\n  'Death, Sudden, Cardiac',\n  'Mental Competency',\n  'von Willebrand Factor'},\n 'Q13591': {'Carotid Artery Diseases', 'Mortality'},\n 'P20591': {'Atrial Fibrillation',\n  'Diabetes Mellitus',\n  'Heart Failure',\n  'Mortality',\n  'Neoplasms'},\n 'Q969D9': {'Eosinophilic Esophagitis',\n  'Heart Failure',\n  'Hypersensitivity',\n  'Mortality',\n  'Rhinitis, Allergic, Seasonal'},\n 'O15393': {'Amyotrophic lateral sclerosis 1',\n  'Atrial Fibrillation',\n  'Diabetes Mellitus',\n  'Heart Failure',\n  'Mortality',\n  'Neoplasms'},\n 'Q13634': {'Abdominal Fat', 'Mortality', 'Subcutaneous Fat'},\n 'O75891': {'Mortality'},\n 'O60341': {'Mortality'},\n 'P29590': {'Myopia, Degenerative', 'Osteitis Deformans'},\n 'Q9NWQ8': {'Myopia, Degenerative'},\n 'Q15025': {'Autoimmune Diseases', 'Myopia, Degenerative'},\n 'Q9UJU3': {'Myopia, Degenerative'},\n 'Q96NJ3': {'Myopia, Degenerative'},\n 'P41587': {'Myopia, Degenerative'},\n 'Q01543': {'Lymphoma, Follicular', 'Myopia, Degenerative'},\n 'Q8TEH3': {'Myopia, Degenerative', 'Polycystic Ovary Syndrome'},\n 'O43143': {'Myopia, Degenerative'},\n 'P45381': {'Myopia, Degenerative'},\n 'Q92932': {'Myopia, Degenerative'},\n 'P08133': {'Myopia, Degenerative'},\n 'O95772': {'Myopia, Degenerative'},\n 'P55286': {'Bilirubin', 'Myopia, Degenerative'},\n 'Q15109': {'Alanine Transaminase',\n  'Clozapine',\n  'Emphysema',\n  'Exhalation',\n  'Neoplasms',\n  'pazopanib',\n  'sRAGE protein, human'},\n 'P07288': {'Neoplasm Grading', 'Neoplasms', 'Prostate-Specific Antigen'},\n 'Q9UM21': {'Antineoplastic Agents',\n  'Cetuximab',\n  'Disease-Free Survival',\n  'Neoplasms'},\n 'P02771': {'Neoplasms'},\n 'Q9Y6Q1': {'Neoplasms'},\n 'O14526': {'Neoplasms'},\n 'P20936': {'Neoplasm Grading', 'Neoplasms'},\n 'Q6PFW1': {'Neoplasms'},\n 'Q9Y2A9': {'Neoplasms'},\n 'P20151': {'Neoplasms', 'Prostate-Specific Antigen'},\n 'P38435': {'Coronary Artery Disease'},\n 'Q02108': {'Coronary Artery Disease', 'Myocardial Infarction'},\n 'P08572': {'Coronary Artery Disease'},\n 'P29474': {'Coronary Artery Disease'},\n 'P48061': {'Coronary Artery Disease',\n  'Myocardial Infarction',\n  'Peripheral Nervous System Diseases',\n  'Reverse Transcriptase Inhibitors'},\n 'P00747': {'Apolipoprotein A-I',\n  'Coronary Artery Disease',\n  'Giant Cell Arteritis',\n  'Lipoprotein(a)',\n  'Myocardial Infarction',\n  'Plasminogen',\n  'lipoprotein A-I'},\n 'Q8WZ55': {'Coronary Artery Disease', 'Myocardial Infarction'},\n 'Q9UH65': {'Coronary Artery Disease'},\n 'Q9Y6J6': {'Coronary Artery Disease',\n  'Exhalation',\n  'Joint Instability',\n  'Myocardial Infarction'},\n 'Q15672': {'Coronary Artery Disease', 'Neuropsychological Tests'},\n 'Q5JRA6': {'Coronary Artery Disease', 'Myocardial Infarction'},\n 'Q14722': {'Cataract, Age-Related Nuclear', 'Coronary Artery Disease'},\n 'Q9NWZ3': {'Cytokines'},\n 'Q15388': {'Cytokines'},\n 'O94779': {'Blood Coagulation Factors', 'Cytokines', 'Gallbladder Diseases'},\n 'Q13495': {'Cytokines'},\n 'Q8NEM8': {'Cytokines', 'Varicose Veins'},\n 'P51948': {'Cytokines'},\n 'Q05086': {'Cytokines', 'DNA Methylation'},\n 'Q9UNS1': {'Cytokines'},\n 'Q9NZV8': {'Albuminuria', 'Blood Flow Velocity', 'CD40 Ligand', 'Cytokines'},\n 'P61106': {'Cytokines'},\n 'O14576': {'Cytokines'},\n 'Q9BYV7': {'Cytokines', 'Interleukin-18', 'Interleukin-1beta'},\n 'Q9H903': {'Cytokines', 'Leukocyte Count'},\n 'Q6UW88': {'Cytokines', 'Vascular Calcification'},\n 'Q15631': {'Cytokines', 'Neurodegenerative Diseases', 'Varicose Veins'},\n 'O60312': {'Cytokines', 'DNA Methylation'},\n 'Q13224': {'Cytokines'},\n 'Q5U5Q3': {'Cytokines'},\n 'P61587': {'Cytokines'},\n 'P46059': {'Cytokines'},\n 'P61225': {'Cytokines'},\n 'A1A4S6': {'Cytokines', 'Walking'},\n 'P53420': {'Cytokines'},\n 'P08138': {'Cytokines'},\n 'Q14624': {'Cytokines'},\n 'Q7Z7A1': {'Cytokines'},\n 'Q9Y496': {'Hypersensitivity'},\n 'Q15399': {'Hypersensitivity', 'Rhinitis, Allergic, Seasonal'},\n 'Q9HB29': {'Hypersensitivity', 'IL1RL1 protein, human'},\n 'O95760': {'Hypersensitivity'},\n 'Q5TCM9': {'Hypersensitivity'},\n 'Q13469': {'Asparaginase',\n  'Crown-Rump Length',\n  'Hypersensitivity',\n  'Precursor Cell Lymphoblastic Leukemia-Lymphoma'},\n 'Q9UMX1': {'Hypersensitivity'},\n 'Q8NI36': {'Eosinophilic Esophagitis',\n  'Hypersensitivity',\n  'Rhinitis, Allergic, Seasonal'},\n 'P42226': {'Hypersensitivity'},\n 'P26196': {'Autoimmune Diseases', 'Hypersensitivity'},\n 'Q8N465': {'Hypersensitivity'},\n 'Q15742': {'Hypersensitivity'},\n 'Q9Y2C9': {'Hypersensitivity'},\n 'P35225': {'Hypersensitivity'},\n 'P55317': {'Face', 'Hypersensitivity'},\n 'Q01638': {'Eosinophils',\n  'Hypersensitivity',\n  'IL1RL1 protein, human',\n  'Rhinitis, Allergic, Seasonal'},\n 'P11712': {'Anticoagulants',\n  'Depressive Disorder',\n  'Serotonin Uptake Inhibitors'},\n 'Q01085': {'Depressive Disorder', 'Mental Health'},\n 'Q9Y6D5': {'Depressive Disorder'},\n 'P10635': {'Depressive Disorder', 'Serotonin Uptake Inhibitors'},\n 'P37840': {'Bupropion', 'Depressive Disorder', 'Mood Disorders'},\n 'Q8TCU6': {'Depressive Disorder'},\n 'O43665': {'Depressive Disorder', 'Mental Health'},\n 'O43280': {'Autoimmune Diseases', 'Metabolome'},\n 'Q14765': {'Autoimmune Diseases'},\n 'Q9Y2R2': {'Autoantibodies',\n  'Autoimmune Diseases',\n  'Hypothyroidism',\n  'Thyroid Diseases'},\n 'Q92556': {'Autoimmune Diseases'},\n 'P20963': {'Autoimmune Diseases'},\n 'Q5T6S3': {'Autoimmune Diseases', 'Prostate-Specific Antigen'},\n 'P62699': {'Autoimmune Diseases'},\n 'O00206': {'Prostate-Specific Antigen'},\n 'Q9UBI1': {'Prostate-Specific Antigen'},\n 'Q8IVJ1': {'Prostate-Specific Antigen'},\n 'P09237': {'Prostate-Specific Antigen'},\n 'P35680': {'Adenocarcinoma of lung',\n  'Carcinoma, Endometrioid',\n  'Carcinoma, Non-Small-Cell Lung',\n  'Endometrial Neoplasms',\n  'Lung Neoplasms',\n  'Ovarian Neoplasms',\n  'Prostate-Specific Antigen',\n  'Testicular Germ Cell Tumor'},\n 'Q9NRA1': {'Hypospadias',\n  'Insulin',\n  'Prostate-Specific Antigen',\n  'Speech Perception'},\n 'P41091': {'Prostate-Specific Antigen'},\n 'Q96GX9': {'Cystic Fibrosis',\n  'Lung Diseases',\n  'Prostate-Specific Antigen',\n  'Uteroglobin'},\n 'Q9NYZ2': {'Prostate-Specific Antigen'},\n 'Q01959': {'Prostate-Specific Antigen'},\n 'P01011': {'Prostate-Specific Antigen'},\n 'P21802': {'Adenocarcinoma of lung',\n  'Carcinoma, Endometrioid',\n  'Carcinoma, Non-Small-Cell Lung',\n  'Deglutition Disorders',\n  'HER2(776-788)',\n  'Lung Neoplasms',\n  'Ovarian Neoplasms',\n  'Prostate-Specific Antigen'},\n 'Q96JT2': {'Basophils', 'Prostate-Specific Antigen'},\n 'O14966': {'Prostate-Specific Antigen'},\n 'Q9NVS2': {'Prostate-Specific Antigen',\n  'Vascular Endothelial Growth Factors'},\n 'Q6VMQ6': {'Prostate-Specific Antigen', 'Testicular Neoplasms'},\n 'Q53GD3': {'Wet Macular Degeneration'},\n 'P36941': {'Spondylitis, Ankylosing'},\n 'O75037': {'Spondylitis, Ankylosing'},\n 'Q4KMQ2': {'Spondylitis, Ankylosing'},\n 'Q86YQ8': {'Circadian Rhythm', 'Lipoprotein(a)'},\n 'P01282': {'Circadian Rhythm'},\n 'O15492': {'Circadian Rhythm',\n  'Sleep',\n  'Sleep Initiation and Maintenance Disorders'},\n 'Q9BY50': {'Circadian Rhythm'},\n 'Q9ULX7': {'Circadian Rhythm'},\n 'Q15836': {'Circadian Rhythm'},\n 'Q5VT52': {'Circadian Rhythm'},\n 'Q05823': {'Circadian Rhythm'},\n 'P40145': {'Circadian Rhythm'},\n 'Q9UPQ9': {'Circadian Rhythm', 'Leiomyoma'},\n 'P50406': {'Circadian Rhythm'},\n 'Q9UGC7': {'Circadian Rhythm'},\n 'O43614': {'Circadian Rhythm',\n  'Sleep',\n  'Sleep Initiation and Maintenance Disorders'},\n 'Q9Y6K8': {'Circadian Rhythm',\n  'Sleep',\n  'Sleep Initiation and Maintenance Disorders'},\n 'Q5I7T1': {'Circadian Rhythm'},\n 'O00470': {'Circadian Rhythm',\n  'Restless Legs Syndrome',\n  'Sleep',\n  'Sleep Initiation and Maintenance Disorders'},\n 'Q9H8M1': {'Circadian Rhythm'},\n 'Q9Y576': {'Circadian Rhythm'},\n 'Q9UJ68': {'Adenocarcinoma Of Esophagus',\n  'Barrett Esophagus',\n  'Circadian Rhythm',\n  'Cryptorchidism'},\n 'Q8TDR0': {'Circadian Rhythm', 'Corneal Pachymetry'},\n 'Q9NZC7': {'Cardiovascular Diseases', 'Insulin', 'Vital Capacity'},\n 'P29120': {'Insulin'},\n 'P08908': {'Insulin', 'Insulin Resistance', 'Substance-Related Disorders'},\n 'Q15800': {'Insulin', 'Insulin Resistance'},\n 'P05019': {'Insulin', 'Insulin Resistance', 'Insulin-Like Growth Factor I'},\n 'Q15544': {'Insulin'},\n 'Q96P48': {'Insulin'},\n 'Q8WXG6': {'Insulin'},\n 'O95965': {'Insulin', 'Natriuretic Peptide, Brain'},\n 'P49286': {'Amino Acids',\n  'Conduct Disorder',\n  'DNA Methylation',\n  'Diabetes, Gestational',\n  'Glucose Tolerance Test',\n  'Insulin',\n  'Insulin Resistance',\n  'Insulin-Secreting Cells',\n  'Metabolic Syndrome X',\n  'hemoglobin A1c protein, human'},\n 'Q8IWU4': {'Insulin', 'hemoglobin A1c protein, human'},\n 'Q9UKK6': {'Insulin', 'Insulin Resistance', 'Kidney Diseases'},\n 'Q9UGI6': {'Atrial Fibrillation'},\n 'Q99697': {'Atrial Fibrillation', 'Embolism'},\n 'Q8WXH0': {'Atrial Fibrillation'},\n 'Q92731': {'Atrial Fibrillation'},\n 'Q03135': {'Atrial Fibrillation',\n  'Glaucoma, Open-Angle',\n  'Intraocular Pressure'},\n 'Q9Y3Q4': {'Atrial Fibrillation', 'Medicine', 'Stevens-Johnson Syndrome'},\n 'P36871': {'Alcohol Drinking'},\n 'Q8NCM8': {'Alcohol Drinking'},\n 'P02787': {'Alcohol Drinking',\n  'Anemia',\n  'Hemochromatosis',\n  'Hepcidins',\n  'Iron',\n  'Iron-Binding Proteins',\n  'Selenium',\n  'Transferrin'},\n 'P35611': {'Alcohol Drinking'},\n 'Q15746': {'Alcohol Drinking'},\n 'Q9Y5M8': {'Alcohol Drinking', 'Iron'},\n 'Q86Z14': {'Alcohol Drinking'},\n 'Q5VWX1': {'Adenocarcinoma Of Esophagus', 'Alcohol Drinking'},\n 'Q9H0E3': {'Alcohol Drinking', 'Apolipoproteins C'},\n 'P17948': {'Alcohol Drinking'},\n 'O00757': {'Alcohol Drinking'},\n 'Q9Y6K5': {'Alcohol Drinking', 'gamma-Glutamyltransferase'},\n 'P00325': {'Alcohol Drinking',\n  'Alcoholism',\n  'Esophageal Neoplasms',\n  'Head and Neck Neoplasms',\n  'Mouth Neoplasms',\n  'Oropharyngeal Neoplasms',\n  'Pharyngeal Neoplasms'},\n 'Q9UGN5': {'Alcohol Drinking'},\n 'Q01973': {'Alcohol Drinking'},\n 'Q9BR61': {'Insulin Resistance'},\n 'Q12836': {'Insulin Resistance'},\n 'Q01484': {'Insulin Resistance', 'Nitric Oxide', 'Urinalysis'},\n 'Q9UI17': {'Insulin Resistance', 'Selenium'},\n 'P39748': {'Eicosapentaenoic Acid',\n  'Fatty Acids',\n  'Insulin Resistance',\n  'Linoleic Acid',\n  'Trans Fatty Acids',\n  'alpha-Linolenic Acid',\n  'docosapentaenoic acid'},\n 'Q9H598': {'Insulin Resistance'},\n 'P10415': {'Insulin Resistance', 'Lymphoma, Follicular', 'Scoliosis'},\n 'P48065': {'Insulin Resistance'},\n 'O60669': {'Insulin Resistance'},\n 'Q5TG30': {'Insulin Resistance'},\n 'P00740': {'Insulin Resistance'},\n 'Q9NQP4': {'Erythrocytes',\n  'Hormone Replacement Therapy',\n  'Insulin Resistance'},\n 'Q86VH4': {'Insulin Resistance'},\n 'P31371': {'Insulin Resistance'},\n 'O14931': {'Carcinoma, Squamous Cell', 'Complement C4', 'Thyroid Diseases'},\n 'Q9UIR0': {'Acute-On-Chronic Liver Failure',\n  'Adenocarcinoma of lung',\n  'Complement C4',\n  'Graves Disease',\n  'Hepatitis C',\n  'Lymphoma, B-Cell, Marginal Zone',\n  'Osteoarthritis, Knee',\n  'Sarcoidosis',\n  'Thyroid Diseases'},\n 'Q9UKW4': {'Graves Disease',\n  'Hashimoto Disease',\n  'Hypothyroidism',\n  'Thyroid Diseases',\n  'Thyrotropin'},\n 'Q9BZY9': {'Thyroid Diseases'},\n 'Q03519': {'Complement C4', 'Thyroid Diseases'},\n 'Q9NQR9': {'Amino Acids',\n  'Insulin-Secreting Cells',\n  'Metabolic Syndrome X',\n  'Vascular Calcification',\n  'hemoglobin A1c protein, human'},\n 'P03952': {'Amino Acids',\n  'Arginine',\n  'CHGA protein, human',\n  'Metabolome',\n  'Natriuretic Peptide, Brain',\n  'Vascular Calcification',\n  'apolipoprotein A-IV'},\n 'Q15413': {'Vascular Calcification'},\n 'P53007': {'Amino Acids', 'Vascular Calcification'},\n 'O43315': {'Adenocarcinoma Of Esophagus',\n  'Barrett Esophagus',\n  'Vascular Calcification'},\n 'Q9NXB9': {'Docosahexaenoic Acids',\n  'Eicosapentaenoic Acid',\n  'Fatty Acids',\n  'Glycerophospholipids',\n  'Phospholipids',\n  'Vascular Calcification',\n  'docosapentaenoic acid'},\n 'P42830': {'Vascular Calcification'},\n 'O14944': {'Vascular Calcification'},\n 'P17735': {'Vascular Calcification'},\n 'P43250': {'Amino Acids',\n  'Arginine',\n  'CHGA protein, human',\n  'Partial Thromboplastin Time',\n  'Vascular Calcification'},\n 'Q9Y5X5': {'Vascular Calcification'},\n 'P43007': {'Amino Acids', 'Vascular Calcification'},\n 'P02774': {'Vascular Calcification',\n  'Vitamin D',\n  'Vitamin D Deficiency',\n  'Vitamin D-Binding Protein'},\n 'P00748': {'Amino Acids',\n  'Arginine',\n  'CHGA protein, human',\n  'Partial Thromboplastin Time',\n  'Vascular Calcification'},\n 'P19876': {'Carotid Stenosis', 'Vascular Calcification'},\n 'Q8TEK3': {'Cartilage', 'Myocardial Infarction', 'Osteoarthritis'},\n 'P31153': {'Myocardial Infarction'},\n 'P56199': {'Myocardial Infarction', 'gamma-Glutamyltransferase'},\n 'Q71RS6': {'Hair Color', 'Myocardial Infarction', 'Skin Pigmentation'},\n 'P02763': {'Blood Coagulation Factors', 'Thrombin'},\n 'O15068': {'Blood Coagulation Factors', 'Osteoarthritis'},\n 'P04275': {'Blood Coagulation Factors',\n  'Factor VIII',\n  'Mean Platelet Volume',\n  'von Willebrand Factor'},\n 'P08709': {'Blood Coagulation Factors',\n  'Factor VII',\n  'Partial Thromboplastin Time'},\n 'Q9Y561': {'Blood Coagulation Factors',\n  'Glaucoma, Open-Angle',\n  'Low Tension Glaucoma'},\n 'Q6ZQY3': {'Blood Coagulation Factors', 'Lithium'},\n 'O60245': {'Blood Coagulation Factors', 'Epilepsy'},\n 'P00742': {'Blood Coagulation Factors'},\n 'P13726': {'Blood Coagulation Factors', 'fibrinogen D fragment'},\n 'P41220': {'Blood Coagulation Factors', 'Receptors, Tumor Necrosis Factor'},\n 'Q93045': {'Blood Coagulation Factors'},\n 'P09960': {'Amino Acids', 'Varicose Veins'},\n 'Q969I6': {'Amino Acids'},\n 'Q8TF71': {'Amino Acids'},\n 'Q9UI32': {'Amino Acids'},\n 'P78330': {'Amino Acids', 'Homocysteine'},\n 'O15498': {'Amino Acids', 'Insulin-Secreting Cells', 'Metabolic Syndrome X'},\n 'Q96H22': {'Amino Acids'},\n 'Q86XE5': {'Amino Acids'},\n 'P02776': {'Amino Acids'},\n 'P02775': {'Amino Acids'},\n 'P00439': {'Amino Acids'},\n 'Q8N3J5': {'Amino Acids'},\n 'O43272': {'Amino Acids'},\n 'Q9HCJ1': {'Amino Acids'},\n 'Q86YT5': {'Amino Acids'},\n 'Q13554': {'Amino Acids', 'Metabolic Syndrome X', 'Osteoarthritis'},\n 'P35754': {'Diabetes Mellitus'},\n 'Q9Y6I4': {'Heart Failure'},\n 'O43570': {'Heart Failure'},\n 'Q7Z2H8': {'Heart Failure'},\n ...}"
     },
     "execution_count": 35,
     "metadata": {},
     "output_type": "execute_result"
    }
   ],
   "source": [
    "map_protein_to_diseases = {}\n",
    "for d, ps in map_disease_to_proteins.items():\n",
    "    for p in ps:\n",
    "        if not p in map_protein_to_diseases.keys():\n",
    "            map_protein_to_diseases[p] = set()\n",
    "        map_protein_to_diseases[p].add(d)\n",
    "map_protein_to_diseases"
   ],
   "metadata": {
    "collapsed": false,
    "pycharm": {
     "name": "#%% Create map from proteins to diseases\n"
    }
   }
  },
  {
   "cell_type": "code",
   "execution_count": 37,
   "outputs": [
    {
     "data": {
      "text/plain": "     Protein  NumDiseases\n256   P16442           36\n134   Q14397           31\n270   O60427           24\n176   P02654           23\n278   Q9C0B1           15\n...      ...          ...\n1056  Q9NRZ5            1\n1053  Q96K12            1\n1052  P21926            1\n1051  Q16621            1\n2084  Q6UWN5            1\n\n[2085 rows x 2 columns]",
      "text/html": "<div>\n<style scoped>\n    .dataframe tbody tr th:only-of-type {\n        vertical-align: middle;\n    }\n\n    .dataframe tbody tr th {\n        vertical-align: top;\n    }\n\n    .dataframe thead th {\n        text-align: right;\n    }\n</style>\n<table border=\"1\" class=\"dataframe\">\n  <thead>\n    <tr style=\"text-align: right;\">\n      <th></th>\n      <th>Protein</th>\n      <th>NumDiseases</th>\n    </tr>\n  </thead>\n  <tbody>\n    <tr>\n      <th>256</th>\n      <td>P16442</td>\n      <td>36</td>\n    </tr>\n    <tr>\n      <th>134</th>\n      <td>Q14397</td>\n      <td>31</td>\n    </tr>\n    <tr>\n      <th>270</th>\n      <td>O60427</td>\n      <td>24</td>\n    </tr>\n    <tr>\n      <th>176</th>\n      <td>P02654</td>\n      <td>23</td>\n    </tr>\n    <tr>\n      <th>278</th>\n      <td>Q9C0B1</td>\n      <td>15</td>\n    </tr>\n    <tr>\n      <th>...</th>\n      <td>...</td>\n      <td>...</td>\n    </tr>\n    <tr>\n      <th>1056</th>\n      <td>Q9NRZ5</td>\n      <td>1</td>\n    </tr>\n    <tr>\n      <th>1053</th>\n      <td>Q96K12</td>\n      <td>1</td>\n    </tr>\n    <tr>\n      <th>1052</th>\n      <td>P21926</td>\n      <td>1</td>\n    </tr>\n    <tr>\n      <th>1051</th>\n      <td>Q16621</td>\n      <td>1</td>\n    </tr>\n    <tr>\n      <th>2084</th>\n      <td>Q6UWN5</td>\n      <td>1</td>\n    </tr>\n  </tbody>\n</table>\n<p>2085 rows × 2 columns</p>\n</div>"
     },
     "execution_count": 37,
     "metadata": {},
     "output_type": "execute_result"
    }
   ],
   "source": [
    "map_protein_to_numdiseases = {p: len(ds) for p, ds in map_protein_to_diseases.items()}\n",
    "df_p_nd = pd.DataFrame(data=map_protein_to_numdiseases.items(), columns=[\"Protein\", \"NumDiseases\"])\n",
    "df_p_nd.sort_values([\"NumDiseases\"], ascending=False, inplace=True)\n",
    "df_p_nd"
   ],
   "metadata": {
    "collapsed": false,
    "pycharm": {
     "name": "#%% Create map proteins to num diseases\n"
    }
   }
  },
  {
   "cell_type": "code",
   "execution_count": 38,
   "outputs": [
    {
     "data": {
      "text/plain": "<Figure size 432x288 with 1 Axes>",
      "image/png": "[encoded data removed]"
     },
     "metadata": {
      "needs_background": "light"
     },
     "output_type": "display_data"
    }
   ],
   "source": [
    "sns.violinplot(data=df_p_nd, color=\"0.8\")\n",
    "sns.stripplot(data=df_p_nd, jitter=True, zorder=1)\n",
    "plt.show()"
   ],
   "metadata": {
    "collapsed": false,
    "pycharm": {
     "name": "#%% Plot number of diseases per protein\n"
    }
   }
  },
  {
   "cell_type": "code",
   "execution_count": 41,
   "outputs": [
    {
     "name": "stdout",
     "output_type": "stream",
     "text": [
      "Diseases to delete: \n",
      "\n",
      " {'Mental Processes', 'Oropharyngeal Neoplasms', 'P-Selectin', 'Memory', 'Leptin', 'Neoplasms', 'gamma-Glutamyltransferase', 'Forced Expiratory Volume', 'Fibrinogen', 'Pancreatic Carcinoma', 'Graves Disease', 'Lipoproteins', 'Intraocular Pressure', 'Factor VIII', 'Amyloidosis, Cerebral, with Spongiform Encephalopathy', 'Vascular Endothelial Growth Factors', 'Testicular Neoplasms', 'Arachidonic Acid', 'Papillomavirus Vaccines', 'Neuropsychological Tests', 'Renal Insufficiency, Chronic', 'Prostate-Specific Antigen', 'Thyrotropin', 'Ferritins', 'Adiponectin', 'Spondylitis, Ankylosing', 'Adenocarcinoma of lung', 'Anthropometry', 'Sphingolipids', 'Rhinitis, Allergic, Seasonal', 'Atherosclerosis', 'Myopia', 'Common Variable Immunodeficiency', 'Alopecia', 'Cholangitis, Sclerosing', 'Mortality', 'Diabetes Mellitus', 'Linoleic Acid', 'Eicosapentaenoic Acid', 'Eyebrows', 'alpha-Linolenic Acid', 'Thrombosis', 'Mannose', 'Hypersensitivity', 'Hemoglobins', 'Endothelial Growth Factors', 'Obesity', 'Cognition Disorders', 'Eye Color', 'Hydroxymethylglutaryl CoA Reductases', 'Angiotensins', 'Corneal Topography', 'Age of Onset', 'Autoantibodies', 'Mouth Neoplasms', 'Sex Hormone-Binding Globulin', 'oxidized low density lipoprotein', 'Insulin-Like Growth Factor I', 'Amino Acids', 'Angiopoietin-2', 'Body Fat Distribution', 'hemoglobin A1c protein, human', 'Eosinophils', 'Phospholipids', 'Suntan', 'Melanosis', 'Sex Characteristics', 'Health', 'Neuroimaging', 'Carcinoembryonic Antigen', 'Lung Diseases, Interstitial', 'Pharyngeal Neoplasms', 'Thyroid Neoplasms', 'Psychomotor Performance', 'Fatty Acids', 'Lung Neoplasms', 'Insulin-Secreting Cells', 'Atrial Fibrillation', 'Emotions', 'Clinical Laboratory Techniques', 'amyloid beta-protein (1-42)', 'Vascular Calcification', 'Diarrhea', 'Liver Diseases', 'Heart Failure', 'Carcinoma, Endometrioid', 'Peripheral Nervous System Diseases', 'Hypothyroidism', 'Autoimmune Diseases', 'Supranuclear Palsy, Progressive', 'Fatty Acids, Omega-6', 'Hepcidins', 'Bipolar Disorder', 'Macular Degeneration', 'Alcohol Drinking', 'Skin Neoplasms', 'Energy Intake', 'Vitamin B 12', 'Leukopenia', 'Amyloid beta-Peptides', 'Idiopathic Pulmonary Fibrosis', 'Hypertension', 'Glioblastoma', 'Anemia', 'Alanine Transaminase', 'docosapentaenoic acid', 'Calcium', 'Selenium', 'Urine', 'Cerebrospinal Fluid', 'Partial Thromboplastin Time', 'Insulin', 'Myocardial Infarction', '1-Alkyl-2-acetylglycerophosphocholine Esterase', 'gamma-Linolenic Acid', 'alpha 1-Antitrypsin', 'Pulmonary Embolism', 'Intercellular Adhesion Molecule-1', 'Lipase', 'Skin Pigmentation', 'Malaria', 'E-Selectin', 'Alopecia Areata', 'Pancreatic Neoplasms', 'Iron', 'Gout', 'Hair Color', 'Arterial Pressure', 'Subcutaneous Fat', 'Purines', 'Insulin Resistance', 'Reverse Transcriptase Inhibitors', 'C-Peptide', 'Glioma', 'Metabolic Syndrome X', 'Trans Fatty Acids', 'Thyroid Diseases', 'Celiac Disease', 'Blood Proteins', 'Uric Acid', 'von Willebrand Factor', 'Multiple Myeloma', 'Glucose Tolerance Test', 'Alkaline Phosphatase', 'Interleukin-2 Receptor alpha Subunit', 'Blood Coagulation Factors', 'Lipids', 'Lewy Body Disease', 'Cerebral Cortex', 'Wet Macular Degeneration', 'Interleukin-6', 'Arthritis, Juvenile', 'Lactation', 'Serum Albumin', 'Endometrial Neoplasms', 'Melanoma', 'Lymphoma, Follicular', 'Ovarian Neoplasms', 'Hematocrit', 'Carcinoma, Squamous Cell', 'Glycerophospholipids', 'Transferrin', 'Duodenal Ulcer', 'Longevity', 'Creatinine', 'Coronary Artery Disease', 'Hypertriglyceridemia', 'Fenofibrate', 'Chemical and Drug Induced Liver Injury', 'Carcinoma, Non-Small-Cell Lung', 'Linoleoyl-CoA Desaturase', 'Tumor Necrosis Factor-alpha', 'Phosphorus', 'tau Proteins'}\n"
     ]
    },
    {
     "data": {
      "text/plain": "                             Disease  Num Entity\n549               Multiple Sclerosis   92  genes\n618                Parkinson Disease   89  genes\n424  Influenza A Virus, H1N1 Subtype   89  genes\n588                       Optic Disk   85  genes\n245               Dermatitis, Atopic   81  genes\n..                               ...  ...    ...\n647                  Premature Birth    1  genes\n165                  Caudate Nucleus    1  genes\n169      Cerebral Amyloid Angiopathy    1  genes\n243                       Depression    1  genes\n174                        Cetuximab    1  genes\n\n[653 rows x 3 columns]",
      "text/html": "<div>\n<style scoped>\n    .dataframe tbody tr th:only-of-type {\n        vertical-align: middle;\n    }\n\n    .dataframe tbody tr th {\n        vertical-align: top;\n    }\n\n    .dataframe thead th {\n        text-align: right;\n    }\n</style>\n<table border=\"1\" class=\"dataframe\">\n  <thead>\n    <tr style=\"text-align: right;\">\n      <th></th>\n      <th>Disease</th>\n      <th>Num</th>\n      <th>Entity</th>\n    </tr>\n  </thead>\n  <tbody>\n    <tr>\n      <th>549</th>\n      <td>Multiple Sclerosis</td>\n      <td>92</td>\n      <td>genes</td>\n    </tr>\n    <tr>\n      <th>618</th>\n      <td>Parkinson Disease</td>\n      <td>89</td>\n      <td>genes</td>\n    </tr>\n    <tr>\n      <th>424</th>\n      <td>Influenza A Virus, H1N1 Subtype</td>\n      <td>89</td>\n      <td>genes</td>\n    </tr>\n    <tr>\n      <th>588</th>\n      <td>Optic Disk</td>\n      <td>85</td>\n      <td>genes</td>\n    </tr>\n    <tr>\n      <th>245</th>\n      <td>Dermatitis, Atopic</td>\n      <td>81</td>\n      <td>genes</td>\n    </tr>\n    <tr>\n      <th>...</th>\n      <td>...</td>\n      <td>...</td>\n      <td>...</td>\n    </tr>\n    <tr>\n      <th>647</th>\n      <td>Premature Birth</td>\n      <td>1</td>\n      <td>genes</td>\n    </tr>\n    <tr>\n      <th>165</th>\n      <td>Caudate Nucleus</td>\n      <td>1</td>\n      <td>genes</td>\n    </tr>\n    <tr>\n      <th>169</th>\n      <td>Cerebral Amyloid Angiopathy</td>\n      <td>1</td>\n      <td>genes</td>\n    </tr>\n    <tr>\n      <th>243</th>\n      <td>Depression</td>\n      <td>1</td>\n      <td>genes</td>\n    </tr>\n    <tr>\n      <th>174</th>\n      <td>Cetuximab</td>\n      <td>1</td>\n      <td>genes</td>\n    </tr>\n  </tbody>\n</table>\n<p>653 rows × 3 columns</p>\n</div>"
     },
     "execution_count": 41,
     "metadata": {},
     "output_type": "execute_result"
    }
   ],
   "source": [
    "filter_proteins = df_p_nd[df_p_nd['NumDiseases'] > 10]\n",
    "filter_proteins = set(filter_proteins[\"Protein\"])\n",
    "filter_proteins\n",
    "filter_diseases = set()\n",
    "for d, ps in map_disease_to_proteins.items():\n",
    "    if bool(ps & filter_proteins):\n",
    "        filter_diseases.add(d)\n",
    "print(f\"Diseases to delete: \\n\\n {filter_diseases}\")\n",
    "df_sel_diseases = df_disease_to_genes[~df_disease_to_genes['Disease'].isin(filter_diseases)]\n",
    "df_sel_diseases\n"
   ],
   "metadata": {
    "collapsed": false,
    "pycharm": {
     "name": "#%% Filter diseases that contain proteins participating in too many diseases\n"
    }
   }
  },
  {
   "cell_type": "code",
   "execution_count": null,
   "outputs": [],
   "source": [
    "# Select proteins with multiple proteoforms\n",
    "\n",
    "selected_proteins = set(df[\"Protein\"].unique())\n",
    "selected_proteins\n",
    "\n",
    "# Select proteins that do not participate in many diseases\n",
    "\n"
   ],
   "metadata": {
    "collapsed": false,
    "pycharm": {
     "name": "#%% Select proteins proteins to filter diseases\n"
    }
   }
  },
  {
   "cell_type": "code",
   "execution_count": null,
   "outputs": [],
   "source": [
    "selected_diseases = set()\n",
    "for disease, proteins in map_disease_to_proteins.items():\n",
    "    if proteins & selected_proteins:\n",
    "        selected_diseases.add(disease)\n",
    "selected_diseases"
   ],
   "metadata": {
    "collapsed": false,
    "pycharm": {
     "name": "#%% Select diseases with at least one protein with multiple proteoforms\n"
    }
   }
  },
  {
   "cell_type": "code",
   "execution_count": null,
   "outputs": [],
   "source": [
    "len(selected_diseases)"
   ],
   "metadata": {
    "collapsed": false,
    "pycharm": {
     "name": "#%%\n"
    }
   }
  },
  {
   "cell_type": "code",
   "source": [
    "\n"
   ],
   "metadata": {
    "collapsed": false,
    "pycharm": {
     "name": "#%%\n"
    }
   },
   "execution_count": null,
   "outputs": []
  },
  {
   "cell_type": "code",
   "execution_count": null,
   "outputs": [],
   "source": [
    "\n",
    "file_vertices = \"resources/Reactome/interactome_indexed_vertices.tsv\"\n",
    "file_edges = \"resources/Reactome/interactome_edges.tsv\"\n",
    "file_indexes = \"resources/Reactome/interactome_vertices\"\n",
    "file_proteins_to_genes = \"resources/Reactome/mapping_proteins_to_genes.tsv\"\n",
    "file_proteins_to_proteoforms = \"resources/Reactome/mapping_proteins_to_proteoforms.tsv\"\n",
    "output_path = \"resources/PheGenI/modules/\""
   ],
   "metadata": {
    "collapsed": false,
    "pycharm": {
     "name": "#%% Set file locations\n"
    }
   }
  },
  {
   "cell_type": "code",
   "execution_count": null,
   "outputs": [],
   "source": [],
   "metadata": {
    "collapsed": false,
    "pycharm": {
     "name": "#%% Compile and run program\n"
    }
   }
  },
  {
   "cell_type": "code",
   "execution_count": null,
   "outputs": [],
   "source": [
    "\n",
    "pass\n",
    "# Generates module files: gene_modules.tsv, protein_modules.tsv and proteoform_modules.tsv\n",
    "# Generates single module files at each level: gene, protein and proteoform file for each trait\n",
    "# Module sizes for genes, protein and proteoform levels\n",
    "# Variation in module sizes when going from one level to the other\n",
    "# Three files (for genes, proteins and proteoforms) with the Overlap similarity of each \n",
    "# pair of traits.\n",
    "# Creates a file with a selection of trait pair examples which show decrease in the overlap."
   ],
   "metadata": {
    "collapsed": false,
    "pycharm": {
     "name": "#%%\n"
    }
   }
  },
  {
   "cell_type": "code",
   "execution_count": null,
   "outputs": [],
   "source": [
    "args = {\n",
    "    \"modules_file\": \"resources/PheGenI/PheGenI_Association_genome_wide_significant.txt\",\n",
    "    \"gene_vertices\": \"resources/Reactome/genes_vertices.tsv\",\n",
    "    \"protein_vertices\": \"resources/Reactome/proteins_vertices.tsv\",\n",
    "    \"proteoform_vertices\": \"resources/Reactome/proteoforms_vertices.tsv\",\n",
    "    \"small_molecules_vertices\": \"resources/Reactome/proteoforms_small_molecules_vertices.tsv\",\n",
    "    \"gene_edges\": \"resources/Reactome/genes_interactions.tsv\",\n",
    "    \"protein_edges\": \"resources/Reactome/proteins_interactions.tsv\",\n",
    "    \"proteoform_edges\": \"resources/Reactome/proteoforms_interactions.tsv\",\n",
    "    \"proteins_to_genes\": \"resources/UniProt/mapping_proteins_to_genes.tsv\",\n",
    "    \"proteins_to_proteoforms\": \"resources/UniProt/mapping_proteins_to_proteoforms.tsv\",\n",
    "    \"output_path\": \"reports/All_modules/\"\n",
    "}\n",
    "\n",
    "result = subprocess.check_output(\"dir\", stderr=subprocess.STDOUT, shell=True)\n",
    "\n",
    "print(result.decode())"
   ],
   "metadata": {
    "collapsed": false,
    "pycharm": {
     "name": "#%%\n"
    }
   }
  },
  {
   "cell_type": "markdown",
   "source": [
    "## Compare disease modules accross levels"
   ],
   "metadata": {
    "collapsed": false,
    "pycharm": {
     "name": "#%% md\n"
    }
   }
  },
  {
   "cell_type": "code",
   "execution_count": null,
   "outputs": [],
   "source": [
    "sizes_dict_connected = {level: pd.read_csv(f\"reports/All_modules/module_sizes_{level}.tsv\", sep=\"\\t\") for level in LEVELS}\n",
    "sizes_dict_disconnected = {level: pd.read_csv(f\"reports/modules_keep_disconnected/module_sizes_{level}.tsv\", sep=\"\\t\") for level in LEVELS}\n",
    "for level in LEVELS:\n",
    "    print(f\"\\n{level}\")\n",
    "    print(sizes_dict_connected[level].describe())\n",
    "    print(sizes_dict_disconnected[level].describe())\n",
    "    sizes_dict_connected[level][\"CONNECTEDNESS\"] = \"connected\"\n",
    "    sizes_dict_disconnected[level][\"CONNECTEDNESS\"] = \"disconnected\"\n",
    "\n",
    "sizes_df_connected = pd.concat(sizes_dict_connected, names=[\"level\", \"index\"])\n",
    "sizes_df_disconnected = pd.concat(sizes_dict_disconnected, names=[\"level\", \"index\"])\n",
    "# sizes_df[sizes_df.index.get_level_values(\"level\") == \"genes\"]\n",
    "# sizes_df = pd.concat([sizes_df_connected, sizes_dict_disconnected], names=[\"level\", \"index\"])\n",
    "# sizes_df\n",
    "sizes_df_connected[\"LEVEL\"] = sizes_df_connected.index.get_level_values(\"level\")\n",
    "sizes_df_disconnected[\"LEVEL\"] = sizes_df_disconnected.index.get_level_values(\"level\")\n",
    "sizes_df = pd.concat([sizes_df_connected, sizes_df_disconnected])\n",
    "sizes_df"
   ],
   "metadata": {
    "collapsed": false,
    "pycharm": {
     "name": "#%% Explore module sizes\n"
    }
   }
  },
  {
   "cell_type": "code",
   "execution_count": null,
   "outputs": [],
   "source": [
    "# Do the following plots for the All_modules in two cases: keeping disconnected nodes and removing them\n",
    "    # Jitter plot showing the sizes for genes, proteins and proteoforms\n",
    "    # Jitter plot showing the difference in size fom genes to proteins and from proteins to proteoforms.\n",
    "# sizes_df = pd.DataFrame()\n",
    "# for level in levels:\n",
    "#     sizes_df[f\"SIZES_{level.upper()}\"] = sizes_dict[level][\"SIZES\"]\n",
    "\n",
    "sns.set(style=\"ticks\")\n",
    "g = sns.FacetGrid(sizes_df, col=\"LEVEL\", height=4, aspect=.5, hue=\"LEVEL\", palette=\"Set2\")\n",
    "g.map(sns.barplot, \"CONNECTEDNESS\", \"SIZE\")\n",
    "plt.show()\n",
    "\n",
    "ax = sns.boxplot(x=\"SIZE\", y=\"LEVEL\", data=sizes_df_connected, whis=np.inf)\n",
    "ax = sns.stripplot(x=\"SIZE\", y=\"LEVEL\", data=sizes_df_connected, jitter=True, color=\".3\")\n",
    "plt.show()\n",
    "\n",
    "ax = sns.violinplot(x=\"SIZE\", y=\"LEVEL\", data=sizes_df_connected, inner=None, color=\".8\")\n",
    "ax = sns.stripplot(x=\"SIZE\", y=\"LEVEL\", data=sizes_df_connected, jitter=True)\n",
    "plt.show()\n",
    "\n",
    "g = sns.catplot(x=\"LEVEL\", y=\"SIZE\",\n",
    "                hue=\"LEVEL\", col=\"CONNECTEDNESS\",\n",
    "                data=sizes_df, kind=\"strip\",\n",
    "                jitter=True,\n",
    "                height=4, aspect=.7);\n",
    "plt.show()\n",
    "\n",
    "g = sns.catplot(x=\"CONNECTEDNESS\", y=\"SIZE\",\n",
    "                hue=\"CONNECTEDNESS\", col=\"LEVEL\",\n",
    "                data=sizes_df, kind=\"strip\",\n",
    "                jitter=True,\n",
    "                height=4, aspect=.7);\n",
    "plt.show()\n",
    "\n",
    "g = sns.catplot(x=\"SIZE\", y=\"LEVEL\", hue=\"CONNECTEDNESS\", data=sizes_df, kind=\"violin\")\n",
    "plt.show()\n",
    "\n",
    "g = sns.catplot(x=\"SIZE\", y=\"CONNECTEDNESS\", hue=\"LEVEL\", data=sizes_df, kind=\"violin\")\n",
    "plt.show()"
   ],
   "metadata": {
    "collapsed": false,
    "pycharm": {
     "name": "#%%\n"
    }
   }
  },
  {
   "cell_type": "code",
   "execution_count": null,
   "outputs": [],
   "source": [
    "# Calculate and plot size variation\n",
    "sizes_df = pd.concat(\n",
    "    [pd.read_csv(f\"reports/All_modules/module_sizes_{level}.tsv\", sep=\"\\t\", names=[\"MODULES\", f\"SIZE_{level.upper()}\"], header=0)[f\"SIZE_{level.upper()}\"] for level in LEVELS], \n",
    "    axis=1)\n",
    "\n",
    "sizes_df[f\"VARIATION_GENES_TO_PROTEINS\"] = sizes_df[\"SIZE_PROTEINS\"] - sizes_df[\"SIZE_GENES\"]\n",
    "sizes_df[f\"VARIATION_PROTEINS_TO_PROTEOFORMS\"] = sizes_df[\"SIZE_PROTEOFORMS\"] - sizes_df[\"SIZE_PROTEINS\"]\n",
    "\n",
    "sizes_df['PERCENTAGE_GENES_TO_PROTEINS'] = sizes_df['VARIATION_GENES_TO_PROTEINS']*100/sizes_df['SIZE_GENES']\n",
    "sizes_df['PERCENTAGE_PROTEINS_TO_PROTEOFORMS'] = sizes_df['VARIATION_PROTEINS_TO_PROTEOFORMS']*100/sizes_df['SIZE_PROTEINS']\n",
    "sizes_df.fillna(0, inplace=True)\n",
    "# sizes_df['PERCENTAGE_PROTEINS_TO_PROTEOFORMS'].unique()\n",
    "sizes_df"
   ],
   "metadata": {
    "collapsed": false,
    "pycharm": {
     "name": "#%% Explore module size variation when switching levels\n"
    }
   }
  },
  {
   "cell_type": "code",
   "execution_count": null,
   "outputs": [],
   "source": [
    "size_variation = pd.concat({\"GENES_TO_PROTEINS\":sizes_df[\"VARIATION_GENES_TO_PROTEINS\"], \n",
    "                            \"PROTEINS_TO_PROTEOFORMS\": sizes_df[f\"VARIATION_PROTEINS_TO_PROTEOFORMS\"]\n",
    "                           }, names=[\"STEP\", \"INDEX\"], axis=0)\n",
    "size_variation = size_variation.to_frame()\n",
    "size_variation[\"STEP\"] = size_variation.index.get_level_values(\"STEP\")\n",
    "size_variation.columns = [\"VARIATION\", \"STEP\"]\n",
    "\n",
    "size_variation"
   ],
   "metadata": {
    "collapsed": false,
    "pycharm": {
     "name": "#%% Plot size variation\n"
    }
   }
  },
  {
   "cell_type": "code",
   "execution_count": null,
   "outputs": [],
   "source": [
    "ax = sns.boxplot(x=\"VARIATION\", y=\"STEP\", data=size_variation, whis=np.inf)\n",
    "ax = sns.stripplot(x=\"VARIATION\", y=\"STEP\", data=size_variation,\n",
    "                   jitter=True, color=\".3\").set_title(\"SIZE VARIATION AT LEVEL TRANSITION\")\n",
    "plt.show()\n",
    "\n",
    "ax = sns.violinplot(x=\"STEP\", y=\"VARIATION\", data=size_variation, inner=None, color=\".8\")\n",
    "ax = sns.stripplot(x=\"STEP\", y=\"VARIATION\", data=size_variation, jitter=True).set_title(\"SIZE VARIATION AT LEVEL TRANSITION\")\n",
    "plt.show()"
   ],
   "metadata": {
    "collapsed": false,
    "pycharm": {
     "name": "#%%\n"
    }
   }
  },
  {
   "cell_type": "code",
   "execution_count": null,
   "outputs": [],
   "source": [
    "percentage_variation = pd.concat({\"GENES_TO_PROTEINS\":sizes_df[\"PERCENTAGE_GENES_TO_PROTEINS\"], \n",
    "                            \"PROTEINS_TO_PROTEOFORMS\": sizes_df[f\"PERCENTAGE_PROTEINS_TO_PROTEOFORMS\"]\n",
    "                           }, names=[\"STEP\", \"INDEX\"], axis=0)\n",
    "percentage_variation = percentage_variation.to_frame()\n",
    "percentage_variation[\"STEP\"] = percentage_variation.index.get_level_values(\"STEP\")\n",
    "percentage_variation.columns = [\"PERCENTAGE\", \"STEP\"]\n",
    "\n",
    "percentage_variation"
   ],
   "metadata": {
    "collapsed": false,
    "pycharm": {
     "name": "#%% Plot percentage variation\n"
    }
   }
  },
  {
   "cell_type": "code",
   "execution_count": null,
   "outputs": [],
   "source": [
    "ax = sns.boxplot(x=\"PERCENTAGE\", y=\"STEP\", data=percentage_variation, whis=np.inf)\n",
    "ax = sns.stripplot(x=\"PERCENTAGE\", y=\"STEP\", data=percentage_variation,\n",
    "                   jitter=True, color=\".3\").set_title(\"PERCENTAGE OF SIZE VARIATION AT LEVEL TRANSITION\")\n",
    "plt.show()\n",
    "\n",
    "ax = sns.violinplot(x=\"STEP\", y=\"PERCENTAGE\", data=percentage_variation, inner=None, color=\".8\")\n",
    "ax = sns.stripplot(x=\"STEP\", y=\"PERCENTAGE\", data=percentage_variation, jitter=True).set_title(\"PERCENTAGE OF SIZE VARIATION AT LEVEL TRANSITION\")\n",
    "plt.show()"
   ],
   "metadata": {
    "collapsed": false,
    "pycharm": {
     "name": "#%%\n"
    }
   }
  },
  {
   "cell_type": "markdown",
   "source": [
    "## Overlap analysis"
   ],
   "metadata": {
    "collapsed": false,
    "pycharm": {
     "name": "#%% md\n"
    }
   }
  },
  {
   "cell_type": "code",
   "execution_count": null,
   "outputs": [],
   "source": [
    "scores = {level: pd.read_csv(f\"reports/scores_{level}_overlap_similarity.tsv\", sep='\\t') for level in LEVELS}\n",
    "assert len({len(scores[level]) for level in LEVELS}) == 1, \"Error: the number of All_modules vary among levels.\""
   ],
   "metadata": {
    "collapsed": false,
    "pycharm": {
     "name": "#%% Read overlap scores off all levels\n"
    }
   }
  },
  {
   "cell_type": "code",
   "execution_count": null,
   "outputs": [],
   "source": [
    "import matplotlib.pyplot as plt\n",
    "\n",
    "bins = 250\n",
    "plt.figure(figsize=(13, 6), )\n",
    "for level in LEVELS:\n",
    "    sns.distplot(scores[level]['SCORE'] , hist = True, kde = True, kde_kws = {'linewidth': 1}, label=level, bins=bins)\n",
    "plt.ylim(0, 20)\n",
    "plt.legend(prop={'size': 16}, title = 'Overlap score density distribution')\n",
    "plt.title('Overlap score distribution')\n",
    "plt.xlabel('Overlap score')\n",
    "plt.ylabel('Density')\n",
    "plt.show()"
   ],
   "metadata": {
    "collapsed": false,
    "pycharm": {
     "name": "#%% Plot overlap scores\n"
    }
   }
  },
  {
   "cell_type": "code",
   "execution_count": null,
   "outputs": [],
   "source": [
    "df = pd.DataFrame(scores['genes'][['SCORE', 'OVERLAP_SIZE']])\n",
    "df.columns = ['SCORE_GENES', 'OVERLAP_SIZE_GENES']\n",
    "for level in ['proteins', 'proteoforms']:\n",
    "    df['OVERLAP_SIZE_' + level.upper()] = scores[level]['OVERLAP_SIZE']\n",
    "    df['SCORE_' + level.upper()] = scores[level]['SCORE']\n",
    "df['SCORE_VARIATION'] = df['SCORE_PROTEOFORMS'] - df['SCORE_GENES'] \n",
    "df['SIZE_PERCENTAGE_VARIATION'] = scores['genes'].apply(lambda x: sizes['PERCENTAGE_VARIATION'].loc[x['TRAIT1']] + sizes['PERCENTAGE_VARIATION'].loc[x['TRAIT2']], axis=1)\n",
    "df.index = scores['genes'].apply(lambda x: (x['TRAIT1'], x['TRAIT2']), axis=1)\n",
    "df"
   ],
   "metadata": {
    "collapsed": false,
    "pycharm": {
     "name": "#%% Calculate overlap score variation\n"
    }
   }
  },
  {
   "cell_type": "code",
   "execution_count": null,
   "outputs": [],
   "source": [
    "plt.figure(figsize=(13, 6))\n",
    "plt.scatter(df['SCORE_VARIATION'], df['SIZE_PERCENTAGE_VARIATION'], alpha=0.5)\n",
    "plt.title('Variation in size VS variation in overlap')\n",
    "plt.xlabel('Size percentage variation')\n",
    "plt.ylabel('Overlap variation')\n",
    "plt.show()"
   ],
   "metadata": {
    "collapsed": false,
    "pycharm": {
     "name": "#%% Plot size variation vs score variation\n"
    }
   }
  },
  {
   "cell_type": "code",
   "execution_count": null,
   "outputs": [],
   "source": [
    "min_overlap_size = 10\n",
    "max_overlap_size = 20\n",
    "\n",
    "overlap_data = {level: pd.read_csv(f\"reports/All_modules/pairs_overlap_data_{level}.tsv\") for level in LEVELS}\n"
   ],
   "metadata": {
    "collapsed": false,
    "pycharm": {
     "name": "#%% Select overlap examples where the overlap is between size range\n"
    }
   }
  },
  {
   "cell_type": "code",
   "execution_count": null,
   "outputs": [],
   "source": [],
   "metadata": {
    "collapsed": false,
    "pycharm": {
     "name": "#%% Plot: Variation in size VS variation in overlap\n"
    }
   }
  },
  {
   "cell_type": "code",
   "execution_count": null,
   "outputs": [],
   "source": [],
   "metadata": {
    "collapsed": false,
    "pycharm": {
     "name": "#%% Create a column with overlap coefficient variation across levels\n"
    }
   }
  },
  {
   "cell_type": "code",
   "execution_count": null,
   "outputs": [],
   "source": [
    "# NODE_OVERLAP_SIZE_VARIATION_GENES_TO_PROTEINS\n",
    "# NODE_OVERLAP_SIZE_VARIATION_PROTEINS_TO_PROTEOFORMS\n",
    "# NODE_INTERFACE_SIZE_VARIATION_GENES_TO_PROTEINS\n",
    "# NODE_INTERFACE_SIZE_VARIATION_PROTEINS_TO_PROTEOFORMS\n",
    "# NODE_INTERFACE_SIZE_VARIATION_GENES_TO"
   ],
   "metadata": {
    "collapsed": false,
    "pycharm": {
     "name": "#%% Create columns: \n"
    }
   }
  }
 ],
 "metadata": {
  "kernelspec": {
   "display_name": "Python 3",
   "language": "python",
   "name": "python3"
  },
  "language_info": {
   "codemirror_mode": {
    "name": "ipython",
    "version": 2
   },
   "file_extension": ".py",
   "mimetype": "text/x-python",
   "name": "python",
   "nbconvert_exporter": "python",
   "pygments_lexer": "ipython2",
   "version": "2.7.6"
  },
  "pycharm": {
   "stem_cell": {
    "cell_type": "raw",
    "source": [
     "# This file is the starting point for the whole project.\n",
     "\"\"\"\n",
     " The goal of this project is to study the differences between protein and proteoform \n",
     " interaction networks for functional analysis.\n",
     "\n",
     "\"\"\"  \n"
    ],
    "metadata": {
     "collapsed": false
    }
   }
  }
 },
 "nbformat": 4,
 "nbformat_minor": 0
}