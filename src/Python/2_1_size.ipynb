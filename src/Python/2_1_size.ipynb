{
 "cells": [
  {
   "cell_type": "markdown",
   "metadata": {
    "collapsed": false,
    "pycharm": {
     "name": "#%% md\n"
    }
   },
   "source": [
    "# Size"
   ]
  },
  {
   "cell_type": "markdown",
   "metadata": {},
   "source": [
    "## Load dependencies"
   ]
  },
  {
   "cell_type": "code",
   "execution_count": 9,
   "metadata": {
    "collapsed": false,
    "pycharm": {
     "name": "#%% Set up configuration\n"
    }
   },
   "outputs": [
    {
     "name": "stdout",
     "output_type": "stream",
     "text": [
      "The autoreload extension is already loaded. To reload it, use:\n",
      "  %reload_ext autoreload\n",
      "Initial working directory: C:\\git\\ProteoformNetworks\\src\\Python\n",
      "New working directory: c:\\git\\ProteoformNetworks\n"
     ]
    }
   ],
   "source": [
    "import pandas as pd\n",
    "import seaborn as sns\n",
    "import config\n",
    "import dataframe_image as dfi\n",
    "from config import INTERACTOMES_PATH, DATA_REACTOME_PATH, genes, proteoforms\n",
    "from lib.networks import get_interactomes, get_multiindex, get_increase_percentage\n",
    "from networkx import edge_boundary\n",
    "from queries import QUERY_GET_ALL_PROTEINS\n",
    "from lib.graph_database_access import get_query_result\n",
    "\n",
    "%load_ext autoreload\n",
    "%autoreload 2\n",
    "%reload_ext autoreload\n",
    "\n",
    "config.set_root_wd()"
   ]
  },
  {
   "cell_type": "markdown",
   "metadata": {},
   "source": [
    "## Create interactomes"
   ]
  },
  {
   "cell_type": "code",
   "execution_count": 10,
   "metadata": {
    "collapsed": false,
    "pycharm": {
     "name": "#%% Get all interactomes\n"
    }
   },
   "outputs": [
    {
     "name": "stdout",
     "output_type": "stream",
     "text": [
      "Reading participants of all reactions for level genes...\n",
      "Reading participants of all reactions for level proteins...\n",
      "Reading participants of all reactions for level proteoforms...\n",
      "Reading participants of all reactions for level sm...\n",
      "Reading components of all complexes for level genes...\n",
      "Reading components of all complexes for level proteins...\n",
      "Reading components of all complexes for level proteoforms...\n",
      "Reading components of all complexes for level sm...\n",
      "Reading interaction network for  at genes level, method no_sm...\n",
      "Reading interaction network for  at proteins level, method no_sm...\n",
      "Reading interaction network for  at proteoforms level, method no_sm...\n",
      "Reading interaction network for  at genes level, method with_sm...\n",
      "Reading interaction network for  at proteins level, method with_sm...\n",
      "Reading interaction network for  at proteoforms level, method with_sm...\n",
      "Reading interaction network for  at genes level, method with_unique_sm...\n",
      "Reading interaction network for  at proteins level, method with_unique_sm...\n",
      "Reading interaction network for  at proteoforms level, method with_unique_sm...\n"
     ]
    }
   ],
   "source": [
    "interactomes_no_sm, interactomes_with_sm, interactomes_with_unique_sm = get_interactomes(DATA_REACTOME_PATH, INTERACTOMES_PATH)\n",
    "interactomes = [interactomes_no_sm[genes], interactomes_no_sm[proteoforms], interactomes_with_sm[genes], interactomes_with_sm[proteoforms], interactomes_with_unique_sm[genes], interactomes_with_unique_sm[proteoforms]]"
   ]
  },
  {
   "cell_type": "markdown",
   "metadata": {},
   "source": [
    "## Number of nodes per type"
   ]
  },
  {
   "cell_type": "code",
   "execution_count": 11,
   "metadata": {
    "collapsed": false,
    "pycharm": {
     "name": "#%% Calculate size of the full networks\n"
    }
   },
   "outputs": [
    {
     "data": {
      "text/html": [
       "<div>\n",
       "<style scoped>\n",
       "    .dataframe tbody tr th:only-of-type {\n",
       "        vertical-align: middle;\n",
       "    }\n",
       "\n",
       "    .dataframe tbody tr th {\n",
       "        vertical-align: top;\n",
       "    }\n",
       "\n",
       "    .dataframe thead th {\n",
       "        text-align: right;\n",
       "    }\n",
       "</style>\n",
       "<table border=\"1\" class=\"dataframe\">\n",
       "  <thead>\n",
       "    <tr style=\"text-align: right;\">\n",
       "      <th></th>\n",
       "      <th></th>\n",
       "      <th>Interactions</th>\n",
       "      <th>Nodes</th>\n",
       "    </tr>\n",
       "    <tr>\n",
       "      <th>Small Molecules</th>\n",
       "      <th>Entity Level</th>\n",
       "      <th></th>\n",
       "      <th></th>\n",
       "    </tr>\n",
       "  </thead>\n",
       "  <tbody>\n",
       "    <tr>\n",
       "      <th rowspan=\"2\" valign=\"top\">Not Included</th>\n",
       "      <th>genes</th>\n",
       "      <td>366208</td>\n",
       "      <td>10976</td>\n",
       "    </tr>\n",
       "    <tr>\n",
       "      <th>proteoforms</th>\n",
       "      <td>590415</td>\n",
       "      <td>14246</td>\n",
       "    </tr>\n",
       "    <tr>\n",
       "      <th rowspan=\"2\" valign=\"top\">Included</th>\n",
       "      <th>genes</th>\n",
       "      <td>451490</td>\n",
       "      <td>13033</td>\n",
       "    </tr>\n",
       "    <tr>\n",
       "      <th>proteoforms</th>\n",
       "      <td>681891</td>\n",
       "      <td>16303</td>\n",
       "    </tr>\n",
       "    <tr>\n",
       "      <th rowspan=\"2\" valign=\"top\">Reaction-Unique Included</th>\n",
       "      <th>genes</th>\n",
       "      <td>808212</td>\n",
       "      <td>40575</td>\n",
       "    </tr>\n",
       "    <tr>\n",
       "      <th>proteoforms</th>\n",
       "      <td>1047542</td>\n",
       "      <td>43845</td>\n",
       "    </tr>\n",
       "  </tbody>\n",
       "</table>\n",
       "</div>"
      ],
      "text/plain": [
       "                                       Interactions  Nodes\n",
       "Small Molecules          Entity Level                     \n",
       "Not Included             genes               366208  10976\n",
       "                         proteoforms         590415  14246\n",
       "Included                 genes               451490  13033\n",
       "                         proteoforms         681891  16303\n",
       "Reaction-Unique Included genes               808212  40575\n",
       "                         proteoforms        1047542  43845"
      ]
     },
     "execution_count": 11,
     "metadata": {},
     "output_type": "execute_result"
    }
   ],
   "source": [
    "index = get_multiindex()\n",
    "\n",
    "num_interactions = pd.Series([i.number_of_edges() for i in interactomes], index=index)\n",
    "num_nodes = pd.Series([i.number_of_nodes() for i in interactomes], index=index)\n",
    "num_acc_ent = pd.Series([i.graph['num_entities'] for i in interactomes], index=index)\n",
    "# num_small_molecules = pd.Series([interactome.graph['num_small_molecules'] for interactome in interactome_list], index=index)\n",
    "\n",
    "# Calculate number of nodes of each type\n",
    "df_sizes = pd.DataFrame({\n",
    "    \"Interactions\": num_interactions,\n",
    "    \"Nodes\": num_nodes,\n",
    "}, index=index)\n",
    "dfi.export(df_sizes, 'figures/interactome_num_nodes_by_type.png')\n",
    "df_sizes"
   ]
  },
  {
   "cell_type": "code",
   "execution_count": 12,
   "metadata": {},
   "outputs": [
    {
     "ename": "KeyError",
     "evalue": "'Accessioned Entities'",
     "output_type": "error",
     "traceback": [
      "\u001b[1;31m---------------------------------------------------------------------------\u001b[0m",
      "\u001b[1;31mKeyError\u001b[0m                                  Traceback (most recent call last)",
      "File \u001b[1;32mc:\\Python310\\lib\\site-packages\\pandas\\core\\indexes\\base.py:3621\u001b[0m, in \u001b[0;36mIndex.get_loc\u001b[1;34m(self, key, method, tolerance)\u001b[0m\n\u001b[0;32m   <a href='file:///c%3A/Python310/lib/site-packages/pandas/core/indexes/base.py?line=3619'>3620</a>\u001b[0m \u001b[39mtry\u001b[39;00m:\n\u001b[1;32m-> <a href='file:///c%3A/Python310/lib/site-packages/pandas/core/indexes/base.py?line=3620'>3621</a>\u001b[0m     \u001b[39mreturn\u001b[39;00m \u001b[39mself\u001b[39;49m\u001b[39m.\u001b[39;49m_engine\u001b[39m.\u001b[39;49mget_loc(casted_key)\n\u001b[0;32m   <a href='file:///c%3A/Python310/lib/site-packages/pandas/core/indexes/base.py?line=3621'>3622</a>\u001b[0m \u001b[39mexcept\u001b[39;00m \u001b[39mKeyError\u001b[39;00m \u001b[39mas\u001b[39;00m err:\n",
      "File \u001b[1;32mc:\\Python310\\lib\\site-packages\\pandas\\_libs\\index.pyx:136\u001b[0m, in \u001b[0;36mpandas._libs.index.IndexEngine.get_loc\u001b[1;34m()\u001b[0m\n",
      "File \u001b[1;32mc:\\Python310\\lib\\site-packages\\pandas\\_libs\\index.pyx:163\u001b[0m, in \u001b[0;36mpandas._libs.index.IndexEngine.get_loc\u001b[1;34m()\u001b[0m\n",
      "File \u001b[1;32mpandas\\_libs\\hashtable_class_helper.pxi:5198\u001b[0m, in \u001b[0;36mpandas._libs.hashtable.PyObjectHashTable.get_item\u001b[1;34m()\u001b[0m\n",
      "File \u001b[1;32mpandas\\_libs\\hashtable_class_helper.pxi:5206\u001b[0m, in \u001b[0;36mpandas._libs.hashtable.PyObjectHashTable.get_item\u001b[1;34m()\u001b[0m\n",
      "\u001b[1;31mKeyError\u001b[0m: 'Accessioned Entities'",
      "\nThe above exception was the direct cause of the following exception:\n",
      "\u001b[1;31mKeyError\u001b[0m                                  Traceback (most recent call last)",
      "\u001b[1;32mc:\\git\\ProteoformNetworks\\src\\Python\\2_1_size.ipynb Cell 8'\u001b[0m in \u001b[0;36m<cell line: 2>\u001b[1;34m()\u001b[0m\n\u001b[0;32m      <a href='vscode-notebook-cell:/c%3A/git/ProteoformNetworks/src/Python/2_1_size.ipynb#ch0000007?line=0'>1</a>\u001b[0m proteins \u001b[39m=\u001b[39m \u001b[39mlen\u001b[39m(get_query_result(QUERY_GET_ALL_PROTEINS))\n\u001b[1;32m----> <a href='vscode-notebook-cell:/c%3A/git/ProteoformNetworks/src/Python/2_1_size.ipynb#ch0000007?line=1'>2</a>\u001b[0m \u001b[39mprint\u001b[39m(\u001b[39mf\u001b[39m\u001b[39m\"\u001b[39m\u001b[39m{\u001b[39;00mdf_sizes\u001b[39m.\u001b[39mloc[\u001b[39m'\u001b[39m\u001b[39mNot Included\u001b[39m\u001b[39m'\u001b[39m, \u001b[39m'\u001b[39m\u001b[39mproteoforms\u001b[39m\u001b[39m'\u001b[39m][\u001b[39m'\u001b[39m\u001b[39mAccessioned Entities\u001b[39m\u001b[39m'\u001b[39m]\u001b[39m}\u001b[39;00m\u001b[39m proteoforms represent \u001b[39m\u001b[39m{\u001b[39;00mproteins\u001b[39m}\u001b[39;00m\u001b[39m proteins coded by \u001b[39m\u001b[39m{\u001b[39;00mdf_sizes\u001b[39m.\u001b[39mloc[\u001b[39m'\u001b[39m\u001b[39mNot Included\u001b[39m\u001b[39m'\u001b[39m, \u001b[39m'\u001b[39m\u001b[39mgenes\u001b[39m\u001b[39m'\u001b[39m][\u001b[39m'\u001b[39m\u001b[39mAccessioned Entities\u001b[39m\u001b[39m'\u001b[39m]\u001b[39m}\u001b[39;00m\u001b[39m genes\u001b[39m\u001b[39m\"\u001b[39m)\n",
      "File \u001b[1;32mc:\\Python310\\lib\\site-packages\\pandas\\core\\series.py:958\u001b[0m, in \u001b[0;36mSeries.__getitem__\u001b[1;34m(self, key)\u001b[0m\n\u001b[0;32m    <a href='file:///c%3A/Python310/lib/site-packages/pandas/core/series.py?line=954'>955</a>\u001b[0m     \u001b[39mreturn\u001b[39;00m \u001b[39mself\u001b[39m\u001b[39m.\u001b[39m_values[key]\n\u001b[0;32m    <a href='file:///c%3A/Python310/lib/site-packages/pandas/core/series.py?line=956'>957</a>\u001b[0m \u001b[39melif\u001b[39;00m key_is_scalar:\n\u001b[1;32m--> <a href='file:///c%3A/Python310/lib/site-packages/pandas/core/series.py?line=957'>958</a>\u001b[0m     \u001b[39mreturn\u001b[39;00m \u001b[39mself\u001b[39;49m\u001b[39m.\u001b[39;49m_get_value(key)\n\u001b[0;32m    <a href='file:///c%3A/Python310/lib/site-packages/pandas/core/series.py?line=959'>960</a>\u001b[0m \u001b[39mif\u001b[39;00m is_hashable(key):\n\u001b[0;32m    <a href='file:///c%3A/Python310/lib/site-packages/pandas/core/series.py?line=960'>961</a>\u001b[0m     \u001b[39m# Otherwise index.get_value will raise InvalidIndexError\u001b[39;00m\n\u001b[0;32m    <a href='file:///c%3A/Python310/lib/site-packages/pandas/core/series.py?line=961'>962</a>\u001b[0m     \u001b[39mtry\u001b[39;00m:\n\u001b[0;32m    <a href='file:///c%3A/Python310/lib/site-packages/pandas/core/series.py?line=962'>963</a>\u001b[0m         \u001b[39m# For labels that don't resolve as scalars like tuples and frozensets\u001b[39;00m\n",
      "File \u001b[1;32mc:\\Python310\\lib\\site-packages\\pandas\\core\\series.py:1069\u001b[0m, in \u001b[0;36mSeries._get_value\u001b[1;34m(self, label, takeable)\u001b[0m\n\u001b[0;32m   <a href='file:///c%3A/Python310/lib/site-packages/pandas/core/series.py?line=1065'>1066</a>\u001b[0m     \u001b[39mreturn\u001b[39;00m \u001b[39mself\u001b[39m\u001b[39m.\u001b[39m_values[label]\n\u001b[0;32m   <a href='file:///c%3A/Python310/lib/site-packages/pandas/core/series.py?line=1067'>1068</a>\u001b[0m \u001b[39m# Similar to Index.get_value, but we do not fall back to positional\u001b[39;00m\n\u001b[1;32m-> <a href='file:///c%3A/Python310/lib/site-packages/pandas/core/series.py?line=1068'>1069</a>\u001b[0m loc \u001b[39m=\u001b[39m \u001b[39mself\u001b[39;49m\u001b[39m.\u001b[39;49mindex\u001b[39m.\u001b[39;49mget_loc(label)\n\u001b[0;32m   <a href='file:///c%3A/Python310/lib/site-packages/pandas/core/series.py?line=1069'>1070</a>\u001b[0m \u001b[39mreturn\u001b[39;00m \u001b[39mself\u001b[39m\u001b[39m.\u001b[39mindex\u001b[39m.\u001b[39m_get_values_for_loc(\u001b[39mself\u001b[39m, loc, label)\n",
      "File \u001b[1;32mc:\\Python310\\lib\\site-packages\\pandas\\core\\indexes\\base.py:3623\u001b[0m, in \u001b[0;36mIndex.get_loc\u001b[1;34m(self, key, method, tolerance)\u001b[0m\n\u001b[0;32m   <a href='file:///c%3A/Python310/lib/site-packages/pandas/core/indexes/base.py?line=3620'>3621</a>\u001b[0m     \u001b[39mreturn\u001b[39;00m \u001b[39mself\u001b[39m\u001b[39m.\u001b[39m_engine\u001b[39m.\u001b[39mget_loc(casted_key)\n\u001b[0;32m   <a href='file:///c%3A/Python310/lib/site-packages/pandas/core/indexes/base.py?line=3621'>3622</a>\u001b[0m \u001b[39mexcept\u001b[39;00m \u001b[39mKeyError\u001b[39;00m \u001b[39mas\u001b[39;00m err:\n\u001b[1;32m-> <a href='file:///c%3A/Python310/lib/site-packages/pandas/core/indexes/base.py?line=3622'>3623</a>\u001b[0m     \u001b[39mraise\u001b[39;00m \u001b[39mKeyError\u001b[39;00m(key) \u001b[39mfrom\u001b[39;00m \u001b[39merr\u001b[39;00m\n\u001b[0;32m   <a href='file:///c%3A/Python310/lib/site-packages/pandas/core/indexes/base.py?line=3623'>3624</a>\u001b[0m \u001b[39mexcept\u001b[39;00m \u001b[39mTypeError\u001b[39;00m:\n\u001b[0;32m   <a href='file:///c%3A/Python310/lib/site-packages/pandas/core/indexes/base.py?line=3624'>3625</a>\u001b[0m     \u001b[39m# If we have a listlike key, _check_indexing_error will raise\u001b[39;00m\n\u001b[0;32m   <a href='file:///c%3A/Python310/lib/site-packages/pandas/core/indexes/base.py?line=3625'>3626</a>\u001b[0m     \u001b[39m#  InvalidIndexError. Otherwise we fall through and re-raise\u001b[39;00m\n\u001b[0;32m   <a href='file:///c%3A/Python310/lib/site-packages/pandas/core/indexes/base.py?line=3626'>3627</a>\u001b[0m     \u001b[39m#  the TypeError.\u001b[39;00m\n\u001b[0;32m   <a href='file:///c%3A/Python310/lib/site-packages/pandas/core/indexes/base.py?line=3627'>3628</a>\u001b[0m     \u001b[39mself\u001b[39m\u001b[39m.\u001b[39m_check_indexing_error(key)\n",
      "\u001b[1;31mKeyError\u001b[0m: 'Accessioned Entities'"
     ]
    }
   ],
   "source": [
    "proteins = len(get_query_result(QUERY_GET_ALL_PROTEINS))\n",
    "print(f\"{df_sizes.loc['Not Included', 'proteoforms']['Accessioned Entities']} proteoforms represent {proteins} proteins coded by {df_sizes.loc['Not Included', 'genes']['Accessioned Entities']} genes\")"
   ]
  },
  {
   "cell_type": "markdown",
   "metadata": {},
   "source": [
    "## Number of proteoforms per gene"
   ]
  },
  {
   "cell_type": "code",
   "execution_count": null,
   "metadata": {},
   "outputs": [
    {
     "name": "stdout",
     "output_type": "stream",
     "text": [
      "There are 1.2979227405247813 proteoforms per gene.\n"
     ]
    }
   ],
   "source": [
    "ratio = df_sizes.loc[\"Not Included\", \"proteoforms\"][\"Accessioned Entities\"] / df_sizes.loc[\"Not Included\", \"genes\"][\"Accessioned Entities\"]\n",
    "print(f\"There are {ratio} proteoforms per gene.\")"
   ]
  },
  {
   "cell_type": "markdown",
   "metadata": {},
   "source": [
    "## Changes in network size by proteoforms"
   ]
  },
  {
   "cell_type": "code",
   "execution_count": null,
   "metadata": {
    "collapsed": false,
    "pycharm": {
     "name": "#%% Percentage of change in nodes. For accessioned entities and small molecules.\n"
    }
   },
   "outputs": [
    {
     "name": "stdout",
     "output_type": "stream",
     "text": [
      "the proteoform representation yielded 3270 (29.79 %) more nodes and 224207 (61.22 %) more connections than the single gene representation\n"
     ]
    }
   ],
   "source": [
    "node_difference = interactomes_no_sm[proteoforms].number_of_nodes() - interactomes_no_sm[genes].number_of_nodes()\n",
    "nodes_change = round(node_difference * 100 / interactomes_no_sm[genes].number_of_nodes(), 2)\n",
    "links_difference = interactomes_no_sm[proteoforms].number_of_edges() - interactomes_no_sm[genes].number_of_edges()\n",
    "links_change = round(links_difference * 100 / interactomes_no_sm[genes].number_of_edges(), 2)\n",
    "print(f\"the proteoform representation yielded {node_difference} ({nodes_change} %) more nodes and {links_difference} ({links_change} %) more connections than the single gene representation\")"
   ]
  },
  {
   "cell_type": "markdown",
   "metadata": {},
   "source": [
    "## Number of proteoforms with annotations"
   ]
  },
  {
   "cell_type": "code",
   "execution_count": null,
   "metadata": {},
   "outputs": [
    {
     "name": "stdout",
     "output_type": "stream",
     "text": [
      "There are 3433 proteoforms with isoform or translational modification annotations, 24.1 % of the total.\n",
      "the vast majority of the proteoforms 10813 (75.9 %) are not annotated functionally.\n"
     ]
    }
   ],
   "source": [
    "proteoforms_with_annotations = [node for node in interactomes_no_sm['proteoforms'].nodes if any((c in {':', '-'}) for c in str(node))]\n",
    "proteoforms_no_annotations = [node for node in interactomes_no_sm['proteoforms'].nodes if not any((c in {':', '-'}) for c in str(node))]\n",
    "\n",
    "percentage = round(len(proteoforms_with_annotations) * 100 / interactomes_no_sm[proteoforms].number_of_nodes(), 2)\n",
    "print(f\"There are {len(proteoforms_with_annotations)} proteoforms with isoform or translational modification annotations, {percentage} % of the total.\")\n",
    "print(f\"the vast majority of the proteoforms {len(interactomes_no_sm['proteoforms'].nodes) - len(proteoforms_with_annotations)} ({100 - percentage} %) are not annotated functionally.\")"
   ]
  },
  {
   "cell_type": "markdown",
   "metadata": {},
   "source": [
    "## Changes in network size by small molecules"
   ]
  },
  {
   "cell_type": "code",
   "execution_count": null,
   "metadata": {
    "collapsed": false,
    "pycharm": {
     "name": "#%% Create table with increase of size by adding small molecules\n"
    }
   },
   "outputs": [
    {
     "name": "stdout",
     "output_type": "stream",
     "text": [
      "Small molecules addition increases the number of nodes by 2057 (18.74 % and 14.44 % respectively).\n",
      "the gene- and proteoform-centric networks with small molecules thus increases the number of nodes by 18.74 % and 14.44 %, respectively\n",
      "Adding small molecules creates 85282 and 91476 new connections, corresponding to an increase of 23.29 % and 15.49 %, for the gene- and proteoform-centric networks, respectively\n",
      "With reaction unique small molecules,\n",
      "the number of new connections is 442004 and 457127, corresponding to an increase of 120.7 % and 77.42 %, for the gene- and proteoform-centric networks, respectively\n"
     ]
    }
   ],
   "source": [
    "diff_nodes_gene_level = interactomes_with_sm[genes].number_of_nodes() - interactomes_no_sm[genes].number_of_nodes()\n",
    "diff_nodes_proteoform_level = interactomes_with_sm[proteoforms].number_of_nodes() - interactomes_no_sm[proteoforms].number_of_nodes()\n",
    "assert diff_nodes_gene_level == diff_nodes_proteoform_level\n",
    "change_gene_level = round(diff_nodes_gene_level * 100 / interactomes_no_sm[genes].number_of_nodes(), 2)\n",
    "change_proteoform_level = round(diff_nodes_proteoform_level * 100 / interactomes_no_sm[proteoforms].number_of_nodes(), 2)\n",
    "print(f\"Small molecules addition increases the number of nodes by {diff_nodes_proteoform_level} ({change_gene_level} % and {change_proteoform_level} % respectively).\")\n",
    "\n",
    "\n",
    "nodes_change_gene_level = get_increase_percentage(interactomes_no_sm[genes].number_of_nodes(), interactomes_with_sm[genes].number_of_nodes())\n",
    "nodes_change_proteoform_level = get_increase_percentage(interactomes_no_sm[proteoforms].number_of_nodes(), interactomes_with_sm[proteoforms].number_of_nodes())\n",
    "print(f\"the gene- and proteoform-centric networks with small molecules thus increases the number of nodes by {nodes_change_gene_level} % and {nodes_change_proteoform_level} %, respectively\")\n",
    "\n",
    "connections_change_gene_level = get_increase_percentage(interactomes_no_sm[genes].number_of_edges(), interactomes_with_sm[genes].number_of_edges())\n",
    "difference_gene_level = interactomes_with_sm[genes].number_of_edges() - interactomes_no_sm[genes].number_of_edges()\n",
    "connections_change_proteoform_level = get_increase_percentage(interactomes_no_sm[proteoforms].number_of_edges(), interactomes_with_sm[proteoforms].number_of_edges())\n",
    "difference_proteoform_level = interactomes_with_sm[proteoforms].number_of_edges() - interactomes_no_sm[proteoforms].number_of_edges()\n",
    "print(f\"Adding small molecules creates {difference_gene_level} and {difference_proteoform_level} new connections, corresponding to an increase of {connections_change_gene_level} % and {connections_change_proteoform_level} %, for the gene- and proteoform-centric networks, respectively\")\n",
    "\n",
    "connections_change_gene_level = get_increase_percentage(interactomes_no_sm[genes].number_of_edges(), interactomes_with_unique_sm[genes].number_of_edges())\n",
    "difference_gene_level = interactomes_with_unique_sm[genes].number_of_edges() - interactomes_no_sm[genes].number_of_edges()\n",
    "connections_change_proteoform_level = get_increase_percentage(interactomes_no_sm[proteoforms].number_of_edges(), interactomes_with_unique_sm[proteoforms].number_of_edges())\n",
    "difference_proteoform_level = interactomes_with_unique_sm[proteoforms].number_of_edges() - interactomes_no_sm[proteoforms].number_of_edges()\n",
    "print(f\"With reaction unique small molecules,\")\n",
    "print(f\"the number of new connections is {difference_gene_level} and {difference_proteoform_level}, corresponding to an increase of {connections_change_gene_level} % and {connections_change_proteoform_level} %, for the gene- and proteoform-centric networks, respectively\")"
   ]
  },
  {
   "cell_type": "markdown",
   "metadata": {},
   "source": [
    "## Number of connections among proteoform nodes with/without annotations"
   ]
  },
  {
   "cell_type": "code",
   "execution_count": null,
   "metadata": {},
   "outputs": [
    {
     "name": "stdout",
     "output_type": "stream",
     "text": [
      "Total number of connections in the proteoform interactome: 590415\n",
      "Connections when BOTH HAVE annotations:                     143255, that is 24.26 % of all connections.\n",
      "Connections when ONE has and ONE does NOT have annotations: 101907, that is 17.26 % of all connections.\n",
      "Connections when BOTH nodes do NOT have annotations:        345253, that is 58.48 % of all connections.\n"
     ]
    }
   ],
   "source": [
    "\n",
    "edges_nn = edge_boundary(interactomes_no_sm['proteoforms'], proteoforms_no_annotations, proteoforms_no_annotations)\n",
    "edges_an = edge_boundary(interactomes_no_sm['proteoforms'], proteoforms_with_annotations, proteoforms_no_annotations)\n",
    "edges_aa = edge_boundary(interactomes_no_sm['proteoforms'], proteoforms_with_annotations, proteoforms_with_annotations)\n",
    "\n",
    "num_edges_nn = len(list(edges_nn))\n",
    "num_edges_an = len(list(edges_an))\n",
    "num_edges_aa = len(list(edges_aa))\n",
    "\n",
    "print(f\"Total number of connections in the proteoform interactome: {interactomes_no_sm['proteoforms'].number_of_edges()}\")\n",
    "\n",
    "percentage = round(num_edges_aa * 100 / interactomes_no_sm['proteoforms'].number_of_edges(), 2)\n",
    "print(f\"Connections when BOTH HAVE annotations:                     {num_edges_aa}, that is {percentage} % of all connections.\")\n",
    "\n",
    "percentage = round(num_edges_an * 100 / interactomes_no_sm['proteoforms'].number_of_edges(), 2)\n",
    "print(f\"Connections when ONE has and ONE does NOT have annotations: {num_edges_an}, that is {percentage} % of all connections.\")\n",
    "\n",
    "percentage = round(num_edges_nn * 100 / interactomes_no_sm['proteoforms'].number_of_edges(), 2)\n",
    "print(f\"Connections when BOTH nodes do NOT have annotations:        {num_edges_nn}, that is {percentage} % of all connections.\")\n"
   ]
  }
 ],
 "metadata": {
  "interpreter": {
   "hash": "369f2c481f4da34e4445cda3fffd2e751bd1c4d706f27375911949ba6bb62e1c"
  },
  "kernelspec": {
   "display_name": "Python 3.10.2 64-bit",
   "language": "python",
   "name": "python3"
  },
  "language_info": {
   "codemirror_mode": {
    "name": "ipython",
    "version": 3
   },
   "file_extension": ".py",
   "mimetype": "text/x-python",
   "name": "python",
   "nbconvert_exporter": "python",
   "pygments_lexer": "ipython3",
   "version": "3.10.2"
  }
 },
 "nbformat": 4,
 "nbformat_minor": 0
}
