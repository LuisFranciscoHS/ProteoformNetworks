{
 "cells": [
  {
   "cell_type": "markdown",
   "metadata": {
    "collapsed": false,
    "pycharm": {
     "name": "#%% md\n"
    }
   },
   "source": [
    "## General network properties: Size as number of nodes and links"
   ]
  },
  {
   "cell_type": "code",
   "execution_count": 1,
   "metadata": {
    "collapsed": false,
    "pycharm": {
     "name": "#%% Set up configuration\n"
    }
   },
   "outputs": [
    {
     "name": "stdout",
     "output_type": "stream",
     "text": [
      "Initial working directory: C:\\git\\ProteoformNetworks\\src\\Python\n",
      "New working directory: c:\\git\\ProteoformNetworks\n"
     ]
    }
   ],
   "source": [
    "import pandas as pd\n",
    "import seaborn as sns\n",
    "from pathlib import Path\n",
    "import os\n",
    "import config\n",
    "import dataframe_image as dfi\n",
    "from config import LEVELS, INTERACTOMES_PATH, DATA_REACTOME_PATH, PATHWAY_GRAPHS_PATH\n",
    "from lib.networks import get_interactomes, get_combinations, get_combinations_with_pathways\n",
    "from lib.networks import get_multiindex\n",
    "from lib.networks import get_sizes\n",
    "\n",
    "%load_ext autoreload\n",
    "%autoreload 2\n",
    "%reload_ext autoreload\n",
    "\n",
    "config.set_root_wd()"
   ]
  },
  {
   "cell_type": "code",
   "execution_count": 2,
   "metadata": {
    "collapsed": false,
    "pycharm": {
     "name": "#%% Get all interactomes\n"
    }
   },
   "outputs": [
    {
     "name": "stdout",
     "output_type": "stream",
     "text": [
      "Reading participants of all reactions for level genes...\n",
      "Quering participants of all reactions for level proteins...\n"
     ]
    },
    {
     "ename": "KeyboardInterrupt",
     "evalue": "",
     "output_type": "error",
     "traceback": [
      "\u001b[1;31m---------------------------------------------------------------------------\u001b[0m",
      "\u001b[1;31mKeyboardInterrupt\u001b[0m                         Traceback (most recent call last)",
      "\u001b[1;32mc:\\git\\ProteoformNetworks\\src\\Python\\2_1_size.ipynb Cell 3'\u001b[0m in \u001b[0;36m<cell line: 1>\u001b[1;34m()\u001b[0m\n\u001b[1;32m----> <a href='vscode-notebook-cell:/c%3A/git/ProteoformNetworks/src/Python/2_1_size.ipynb#ch0000002?line=0'>1</a>\u001b[0m interactomes_no_sm, interactomes_with_sm, interactomes_with_unique_sm \u001b[39m=\u001b[39m get_interactomes(DATA_REACTOME_PATH, INTERACTOMES_PATH)\n\u001b[0;32m      <a href='vscode-notebook-cell:/c%3A/git/ProteoformNetworks/src/Python/2_1_size.ipynb#ch0000002?line=1'>2</a>\u001b[0m interactomes \u001b[39m=\u001b[39m [\u001b[39m*\u001b[39minteractomes_no_sm\u001b[39m.\u001b[39mvalues(), \u001b[39m*\u001b[39minteractomes_with_sm\u001b[39m.\u001b[39mvalues(), \u001b[39m*\u001b[39minteractomes_with_unique_sm\u001b[39m.\u001b[39mvalues()]\n",
      "File \u001b[1;32mc:\\git\\ProteoformNetworks\\src\\Python\\lib\\networks.py:56\u001b[0m, in \u001b[0;36mget_interactomes\u001b[1;34m(input_data_path, output_networks_path)\u001b[0m\n\u001b[0;32m     <a href='file:///c%3A/git/ProteoformNetworks/src/Python/lib/networks.py?line=49'>50</a>\u001b[0m \u001b[39mdef\u001b[39;00m \u001b[39mget_interactomes\u001b[39m(input_data_path, output_networks_path):\n\u001b[0;32m     <a href='file:///c%3A/git/ProteoformNetworks/src/Python/lib/networks.py?line=50'>51</a>\u001b[0m     \u001b[39m\"\"\" Get or create interactomes: With only accessioned sequence nodes, with small molecule nodes and with reaction-unique-small molecules\u001b[39;00m\n\u001b[0;32m     <a href='file:///c%3A/git/ProteoformNetworks/src/Python/lib/networks.py?line=51'>52</a>\u001b[0m \u001b[39m    \u001b[39;00m\n\u001b[0;32m     <a href='file:///c%3A/git/ProteoformNetworks/src/Python/lib/networks.py?line=52'>53</a>\u001b[0m \u001b[39m    Returns tuple with 3 dictionaries: level to network\u001b[39;00m\n\u001b[0;32m     <a href='file:///c%3A/git/ProteoformNetworks/src/Python/lib/networks.py?line=53'>54</a>\u001b[0m \u001b[39m    \"\"\"\u001b[39;00m\n\u001b[1;32m---> <a href='file:///c%3A/git/ProteoformNetworks/src/Python/lib/networks.py?line=55'>56</a>\u001b[0m     participant_records \u001b[39m=\u001b[39m {l: get_participants(\n\u001b[0;32m     <a href='file:///c%3A/git/ProteoformNetworks/src/Python/lib/networks.py?line=56'>57</a>\u001b[0m         l, input_data_path) \u001b[39mfor\u001b[39;00m l \u001b[39min\u001b[39;00m [\u001b[39m*\u001b[39mLEVELS, sm]}\n\u001b[0;32m     <a href='file:///c%3A/git/ProteoformNetworks/src/Python/lib/networks.py?line=57'>58</a>\u001b[0m     components_records \u001b[39m=\u001b[39m {l: get_components(\n\u001b[0;32m     <a href='file:///c%3A/git/ProteoformNetworks/src/Python/lib/networks.py?line=58'>59</a>\u001b[0m         l, input_data_path) \u001b[39mfor\u001b[39;00m l \u001b[39min\u001b[39;00m [\u001b[39m*\u001b[39mLEVELS, sm]}\n\u001b[0;32m     <a href='file:///c%3A/git/ProteoformNetworks/src/Python/lib/networks.py?line=60'>61</a>\u001b[0m     interactomes_no_sm \u001b[39m=\u001b[39m {\n\u001b[0;32m     <a href='file:///c%3A/git/ProteoformNetworks/src/Python/lib/networks.py?line=61'>62</a>\u001b[0m         l: get_or_create_interaction_network(l, no_sm, participant_records, components_records, output_networks_path, v\u001b[39m=\u001b[39m\u001b[39mTrue\u001b[39;00m) \u001b[39mfor\u001b[39;00m l \u001b[39min\u001b[39;00m\n\u001b[0;32m     <a href='file:///c%3A/git/ProteoformNetworks/src/Python/lib/networks.py?line=62'>63</a>\u001b[0m         LEVELS}\n",
      "File \u001b[1;32mc:\\git\\ProteoformNetworks\\src\\Python\\lib\\networks.py:56\u001b[0m, in \u001b[0;36m<dictcomp>\u001b[1;34m(.0)\u001b[0m\n\u001b[0;32m     <a href='file:///c%3A/git/ProteoformNetworks/src/Python/lib/networks.py?line=49'>50</a>\u001b[0m \u001b[39mdef\u001b[39;00m \u001b[39mget_interactomes\u001b[39m(input_data_path, output_networks_path):\n\u001b[0;32m     <a href='file:///c%3A/git/ProteoformNetworks/src/Python/lib/networks.py?line=50'>51</a>\u001b[0m     \u001b[39m\"\"\" Get or create interactomes: With only accessioned sequence nodes, with small molecule nodes and with reaction-unique-small molecules\u001b[39;00m\n\u001b[0;32m     <a href='file:///c%3A/git/ProteoformNetworks/src/Python/lib/networks.py?line=51'>52</a>\u001b[0m \u001b[39m    \u001b[39;00m\n\u001b[0;32m     <a href='file:///c%3A/git/ProteoformNetworks/src/Python/lib/networks.py?line=52'>53</a>\u001b[0m \u001b[39m    Returns tuple with 3 dictionaries: level to network\u001b[39;00m\n\u001b[0;32m     <a href='file:///c%3A/git/ProteoformNetworks/src/Python/lib/networks.py?line=53'>54</a>\u001b[0m \u001b[39m    \"\"\"\u001b[39;00m\n\u001b[1;32m---> <a href='file:///c%3A/git/ProteoformNetworks/src/Python/lib/networks.py?line=55'>56</a>\u001b[0m     participant_records \u001b[39m=\u001b[39m {l: get_participants(\n\u001b[0;32m     <a href='file:///c%3A/git/ProteoformNetworks/src/Python/lib/networks.py?line=56'>57</a>\u001b[0m         l, input_data_path) \u001b[39mfor\u001b[39;00m l \u001b[39min\u001b[39;00m [\u001b[39m*\u001b[39mLEVELS, sm]}\n\u001b[0;32m     <a href='file:///c%3A/git/ProteoformNetworks/src/Python/lib/networks.py?line=57'>58</a>\u001b[0m     components_records \u001b[39m=\u001b[39m {l: get_components(\n\u001b[0;32m     <a href='file:///c%3A/git/ProteoformNetworks/src/Python/lib/networks.py?line=58'>59</a>\u001b[0m         l, input_data_path) \u001b[39mfor\u001b[39;00m l \u001b[39min\u001b[39;00m [\u001b[39m*\u001b[39mLEVELS, sm]}\n\u001b[0;32m     <a href='file:///c%3A/git/ProteoformNetworks/src/Python/lib/networks.py?line=60'>61</a>\u001b[0m     interactomes_no_sm \u001b[39m=\u001b[39m {\n\u001b[0;32m     <a href='file:///c%3A/git/ProteoformNetworks/src/Python/lib/networks.py?line=61'>62</a>\u001b[0m         l: get_or_create_interaction_network(l, no_sm, participant_records, components_records, output_networks_path, v\u001b[39m=\u001b[39m\u001b[39mTrue\u001b[39;00m) \u001b[39mfor\u001b[39;00m l \u001b[39min\u001b[39;00m\n\u001b[0;32m     <a href='file:///c%3A/git/ProteoformNetworks/src/Python/lib/networks.py?line=62'>63</a>\u001b[0m         LEVELS}\n",
      "File \u001b[1;32mc:\\git\\ProteoformNetworks\\src\\Python\\lib\\graph_database_access.py:120\u001b[0m, in \u001b[0;36mget_participants\u001b[1;34m(level, location)\u001b[0m\n\u001b[0;32m    <a href='file:///c%3A/git/ProteoformNetworks/src/Python/lib/graph_database_access.py?line=117'>118</a>\u001b[0m \u001b[39mprint\u001b[39m(\u001b[39mf\u001b[39m\u001b[39m\"\u001b[39m\u001b[39mQuering participants of all reactions for level \u001b[39m\u001b[39m{\u001b[39;00mlevel\u001b[39m}\u001b[39;00m\u001b[39m...\u001b[39m\u001b[39m\"\u001b[39m)\n\u001b[0;32m    <a href='file:///c%3A/git/ProteoformNetworks/src/Python/lib/graph_database_access.py?line=118'>119</a>\u001b[0m participants \u001b[39m=\u001b[39m get_query_result(QUERIES_PARTICIPANTS[level])\n\u001b[1;32m--> <a href='file:///c%3A/git/ProteoformNetworks/src/Python/lib/graph_database_access.py?line=119'>120</a>\u001b[0m participants \u001b[39m=\u001b[39m fix_neo4j_values(participants, level)\n\u001b[0;32m    <a href='file:///c%3A/git/ProteoformNetworks/src/Python/lib/graph_database_access.py?line=120'>121</a>\u001b[0m \u001b[39mif\u001b[39;00m \u001b[39mnot\u001b[39;00m os\u001b[39m.\u001b[39mpath\u001b[39m.\u001b[39mexists(location):\n\u001b[0;32m    <a href='file:///c%3A/git/ProteoformNetworks/src/Python/lib/graph_database_access.py?line=121'>122</a>\u001b[0m     os\u001b[39m.\u001b[39mmakedirs(location)\n",
      "File \u001b[1;32mc:\\git\\ProteoformNetworks\\src\\Python\\lib\\graph_database_access.py:91\u001b[0m, in \u001b[0;36mfix_neo4j_values\u001b[1;34m(df, level)\u001b[0m\n\u001b[0;32m     <a href='file:///c%3A/git/ProteoformNetworks/src/Python/lib/graph_database_access.py?line=87'>88</a>\u001b[0m     \u001b[39mreturn\u001b[39;00m df\n\u001b[0;32m     <a href='file:///c%3A/git/ProteoformNetworks/src/Python/lib/graph_database_access.py?line=89'>90</a>\u001b[0m df[\u001b[39m'\u001b[39m\u001b[39mId\u001b[39m\u001b[39m'\u001b[39m] \u001b[39m=\u001b[39m df\u001b[39m.\u001b[39mapply(\u001b[39mlambda\u001b[39;00m x: re\u001b[39m.\u001b[39msub(\u001b[39mr\u001b[39m\u001b[39m'\u001b[39m\u001b[39m\\\u001b[39m\u001b[39ms*\u001b[39m\u001b[39m\\\u001b[39m\u001b[39m[[\u001b[39m\u001b[39m\\\u001b[39m\u001b[39mw\u001b[39m\u001b[39m\\\u001b[39m\u001b[39ms]*\u001b[39m\u001b[39m\\\u001b[39m\u001b[39m]\u001b[39m\u001b[39m\\\u001b[39m\u001b[39ms*\u001b[39m\u001b[39m'\u001b[39m, \u001b[39m'\u001b[39m\u001b[39m'\u001b[39m, x\u001b[39m.\u001b[39mId) \u001b[39mif\u001b[39;00m x\u001b[39m.\u001b[39mType \u001b[39m==\u001b[39m \u001b[39m'\u001b[39m\u001b[39mSimpleEntity\u001b[39m\u001b[39m'\u001b[39m \u001b[39melse\u001b[39;00m x\u001b[39m.\u001b[39mId, axis\u001b[39m=\u001b[39m\u001b[39m1\u001b[39m)\n\u001b[1;32m---> <a href='file:///c%3A/git/ProteoformNetworks/src/Python/lib/graph_database_access.py?line=90'>91</a>\u001b[0m df[\u001b[39m'\u001b[39m\u001b[39mId\u001b[39m\u001b[39m'\u001b[39m] \u001b[39m=\u001b[39m df\u001b[39m.\u001b[39;49mapply(\u001b[39mlambda\u001b[39;49;00m x: \u001b[39mstr\u001b[39;49m(x\u001b[39m.\u001b[39;49mId)\u001b[39m.\u001b[39;49mreplace(\u001b[39m\"\u001b[39;49m\u001b[39m \u001b[39;49m\u001b[39m\"\u001b[39;49m, \u001b[39m\"\u001b[39;49m\u001b[39m_\u001b[39;49m\u001b[39m\"\u001b[39;49m)\u001b[39m.\u001b[39;49mstrip() \u001b[39mif\u001b[39;49;00m x\u001b[39m.\u001b[39;49mType \u001b[39m==\u001b[39;49m \u001b[39m'\u001b[39;49m\u001b[39mSimpleEntity\u001b[39;49m\u001b[39m'\u001b[39;49m \u001b[39melse\u001b[39;49;00m x\u001b[39m.\u001b[39;49mId, axis\u001b[39m=\u001b[39;49m\u001b[39m1\u001b[39;49m)\n\u001b[0;32m     <a href='file:///c%3A/git/ProteoformNetworks/src/Python/lib/graph_database_access.py?line=92'>93</a>\u001b[0m \u001b[39mif\u001b[39;00m \u001b[39m\"\u001b[39m\u001b[39mUniqueId\u001b[39m\u001b[39m\"\u001b[39m \u001b[39min\u001b[39;00m df\u001b[39m.\u001b[39mcolumns:\n\u001b[0;32m     <a href='file:///c%3A/git/ProteoformNetworks/src/Python/lib/graph_database_access.py?line=93'>94</a>\u001b[0m     df[\u001b[39m'\u001b[39m\u001b[39mUniqueId\u001b[39m\u001b[39m'\u001b[39m] \u001b[39m=\u001b[39m df\u001b[39m.\u001b[39mapply(\n\u001b[0;32m     <a href='file:///c%3A/git/ProteoformNetworks/src/Python/lib/graph_database_access.py?line=94'>95</a>\u001b[0m         \u001b[39mlambda\u001b[39;00m x: re\u001b[39m.\u001b[39msub(\u001b[39mr\u001b[39m\u001b[39m'\u001b[39m\u001b[39m\\\u001b[39m\u001b[39ms*\u001b[39m\u001b[39m\\\u001b[39m\u001b[39m[[\u001b[39m\u001b[39m\\\u001b[39m\u001b[39mw\u001b[39m\u001b[39m\\\u001b[39m\u001b[39ms]*\u001b[39m\u001b[39m\\\u001b[39m\u001b[39m]\u001b[39m\u001b[39m\\\u001b[39m\u001b[39ms*\u001b[39m\u001b[39m'\u001b[39m, \u001b[39m'\u001b[39m\u001b[39m'\u001b[39m, x\u001b[39m.\u001b[39mUniqueId) \u001b[39mif\u001b[39;00m x\u001b[39m.\u001b[39mType \u001b[39m==\u001b[39m \u001b[39m'\u001b[39m\u001b[39mSimpleEntity\u001b[39m\u001b[39m'\u001b[39m \u001b[39melse\u001b[39;00m x\u001b[39m.\u001b[39mId, axis\u001b[39m=\u001b[39m\u001b[39m1\u001b[39m)\n",
      "File \u001b[1;32mC:\\Python310\\lib\\site-packages\\pandas\\core\\frame.py:8833\u001b[0m, in \u001b[0;36mDataFrame.apply\u001b[1;34m(self, func, axis, raw, result_type, args, **kwargs)\u001b[0m\n\u001b[0;32m   <a href='file:///c%3A/Python310/lib/site-packages/pandas/core/frame.py?line=8821'>8822</a>\u001b[0m \u001b[39mfrom\u001b[39;00m \u001b[39mpandas\u001b[39;00m\u001b[39m.\u001b[39;00m\u001b[39mcore\u001b[39;00m\u001b[39m.\u001b[39;00m\u001b[39mapply\u001b[39;00m \u001b[39mimport\u001b[39;00m frame_apply\n\u001b[0;32m   <a href='file:///c%3A/Python310/lib/site-packages/pandas/core/frame.py?line=8823'>8824</a>\u001b[0m op \u001b[39m=\u001b[39m frame_apply(\n\u001b[0;32m   <a href='file:///c%3A/Python310/lib/site-packages/pandas/core/frame.py?line=8824'>8825</a>\u001b[0m     \u001b[39mself\u001b[39m,\n\u001b[0;32m   <a href='file:///c%3A/Python310/lib/site-packages/pandas/core/frame.py?line=8825'>8826</a>\u001b[0m     func\u001b[39m=\u001b[39mfunc,\n\u001b[1;32m   (...)\u001b[0m\n\u001b[0;32m   <a href='file:///c%3A/Python310/lib/site-packages/pandas/core/frame.py?line=8830'>8831</a>\u001b[0m     kwargs\u001b[39m=\u001b[39mkwargs,\n\u001b[0;32m   <a href='file:///c%3A/Python310/lib/site-packages/pandas/core/frame.py?line=8831'>8832</a>\u001b[0m )\n\u001b[1;32m-> <a href='file:///c%3A/Python310/lib/site-packages/pandas/core/frame.py?line=8832'>8833</a>\u001b[0m \u001b[39mreturn\u001b[39;00m op\u001b[39m.\u001b[39;49mapply()\u001b[39m.\u001b[39m__finalize__(\u001b[39mself\u001b[39m, method\u001b[39m=\u001b[39m\u001b[39m\"\u001b[39m\u001b[39mapply\u001b[39m\u001b[39m\"\u001b[39m)\n",
      "File \u001b[1;32mC:\\Python310\\lib\\site-packages\\pandas\\core\\apply.py:727\u001b[0m, in \u001b[0;36mFrameApply.apply\u001b[1;34m(self)\u001b[0m\n\u001b[0;32m    <a href='file:///c%3A/Python310/lib/site-packages/pandas/core/apply.py?line=723'>724</a>\u001b[0m \u001b[39melif\u001b[39;00m \u001b[39mself\u001b[39m\u001b[39m.\u001b[39mraw:\n\u001b[0;32m    <a href='file:///c%3A/Python310/lib/site-packages/pandas/core/apply.py?line=724'>725</a>\u001b[0m     \u001b[39mreturn\u001b[39;00m \u001b[39mself\u001b[39m\u001b[39m.\u001b[39mapply_raw()\n\u001b[1;32m--> <a href='file:///c%3A/Python310/lib/site-packages/pandas/core/apply.py?line=726'>727</a>\u001b[0m \u001b[39mreturn\u001b[39;00m \u001b[39mself\u001b[39;49m\u001b[39m.\u001b[39;49mapply_standard()\n",
      "File \u001b[1;32mC:\\Python310\\lib\\site-packages\\pandas\\core\\apply.py:851\u001b[0m, in \u001b[0;36mFrameApply.apply_standard\u001b[1;34m(self)\u001b[0m\n\u001b[0;32m    <a href='file:///c%3A/Python310/lib/site-packages/pandas/core/apply.py?line=849'>850</a>\u001b[0m \u001b[39mdef\u001b[39;00m \u001b[39mapply_standard\u001b[39m(\u001b[39mself\u001b[39m):\n\u001b[1;32m--> <a href='file:///c%3A/Python310/lib/site-packages/pandas/core/apply.py?line=850'>851</a>\u001b[0m     results, res_index \u001b[39m=\u001b[39m \u001b[39mself\u001b[39;49m\u001b[39m.\u001b[39;49mapply_series_generator()\n\u001b[0;32m    <a href='file:///c%3A/Python310/lib/site-packages/pandas/core/apply.py?line=852'>853</a>\u001b[0m     \u001b[39m# wrap results\u001b[39;00m\n\u001b[0;32m    <a href='file:///c%3A/Python310/lib/site-packages/pandas/core/apply.py?line=853'>854</a>\u001b[0m     \u001b[39mreturn\u001b[39;00m \u001b[39mself\u001b[39m\u001b[39m.\u001b[39mwrap_results(results, res_index)\n",
      "File \u001b[1;32mC:\\Python310\\lib\\site-packages\\pandas\\core\\apply.py:865\u001b[0m, in \u001b[0;36mFrameApply.apply_series_generator\u001b[1;34m(self)\u001b[0m\n\u001b[0;32m    <a href='file:///c%3A/Python310/lib/site-packages/pandas/core/apply.py?line=861'>862</a>\u001b[0m results \u001b[39m=\u001b[39m {}\n\u001b[0;32m    <a href='file:///c%3A/Python310/lib/site-packages/pandas/core/apply.py?line=863'>864</a>\u001b[0m \u001b[39mwith\u001b[39;00m option_context(\u001b[39m\"\u001b[39m\u001b[39mmode.chained_assignment\u001b[39m\u001b[39m\"\u001b[39m, \u001b[39mNone\u001b[39;00m):\n\u001b[1;32m--> <a href='file:///c%3A/Python310/lib/site-packages/pandas/core/apply.py?line=864'>865</a>\u001b[0m     \u001b[39mfor\u001b[39;00m i, v \u001b[39min\u001b[39;00m \u001b[39menumerate\u001b[39m(series_gen):\n\u001b[0;32m    <a href='file:///c%3A/Python310/lib/site-packages/pandas/core/apply.py?line=865'>866</a>\u001b[0m         \u001b[39m# ignore SettingWithCopy here in case the user mutates\u001b[39;00m\n\u001b[0;32m    <a href='file:///c%3A/Python310/lib/site-packages/pandas/core/apply.py?line=866'>867</a>\u001b[0m         results[i] \u001b[39m=\u001b[39m \u001b[39mself\u001b[39m\u001b[39m.\u001b[39mf(v)\n\u001b[0;32m    <a href='file:///c%3A/Python310/lib/site-packages/pandas/core/apply.py?line=867'>868</a>\u001b[0m         \u001b[39mif\u001b[39;00m \u001b[39misinstance\u001b[39m(results[i], ABCSeries):\n\u001b[0;32m    <a href='file:///c%3A/Python310/lib/site-packages/pandas/core/apply.py?line=868'>869</a>\u001b[0m             \u001b[39m# If we have a view on v, we need to make a copy because\u001b[39;00m\n\u001b[0;32m    <a href='file:///c%3A/Python310/lib/site-packages/pandas/core/apply.py?line=869'>870</a>\u001b[0m             \u001b[39m#  series_generator will swap out the underlying data\u001b[39;00m\n",
      "File \u001b[1;32mC:\\Python310\\lib\\site-packages\\pandas\\core\\apply.py:998\u001b[0m, in \u001b[0;36mFrameColumnApply.series_generator\u001b[1;34m(self)\u001b[0m\n\u001b[0;32m    <a href='file:///c%3A/Python310/lib/site-packages/pandas/core/apply.py?line=994'>995</a>\u001b[0m \u001b[39mfor\u001b[39;00m (arr, name) \u001b[39min\u001b[39;00m \u001b[39mzip\u001b[39m(values, \u001b[39mself\u001b[39m\u001b[39m.\u001b[39mindex):\n\u001b[0;32m    <a href='file:///c%3A/Python310/lib/site-packages/pandas/core/apply.py?line=995'>996</a>\u001b[0m     \u001b[39m# GH#35462 re-pin mgr in case setitem changed it\u001b[39;00m\n\u001b[0;32m    <a href='file:///c%3A/Python310/lib/site-packages/pandas/core/apply.py?line=996'>997</a>\u001b[0m     ser\u001b[39m.\u001b[39m_mgr \u001b[39m=\u001b[39m mgr\n\u001b[1;32m--> <a href='file:///c%3A/Python310/lib/site-packages/pandas/core/apply.py?line=997'>998</a>\u001b[0m     mgr\u001b[39m.\u001b[39;49mset_values(arr)\n\u001b[0;32m    <a href='file:///c%3A/Python310/lib/site-packages/pandas/core/apply.py?line=998'>999</a>\u001b[0m     ser\u001b[39m.\u001b[39mname \u001b[39m=\u001b[39m name\n\u001b[0;32m   <a href='file:///c%3A/Python310/lib/site-packages/pandas/core/apply.py?line=999'>1000</a>\u001b[0m     \u001b[39myield\u001b[39;00m ser\n",
      "File \u001b[1;32mC:\\Python310\\lib\\site-packages\\pandas\\core\\internals\\managers.py:1884\u001b[0m, in \u001b[0;36mSingleBlockManager.set_values\u001b[1;34m(self, values)\u001b[0m\n\u001b[0;32m   <a href='file:///c%3A/Python310/lib/site-packages/pandas/core/internals/managers.py?line=1877'>1878</a>\u001b[0m     \u001b[39m\"\"\"\u001b[39;00m\n\u001b[0;32m   <a href='file:///c%3A/Python310/lib/site-packages/pandas/core/internals/managers.py?line=1878'>1879</a>\u001b[0m \u001b[39m    fast path for getting a cross-section\u001b[39;00m\n\u001b[0;32m   <a href='file:///c%3A/Python310/lib/site-packages/pandas/core/internals/managers.py?line=1879'>1880</a>\u001b[0m \u001b[39m    return a view of the data\u001b[39;00m\n\u001b[0;32m   <a href='file:///c%3A/Python310/lib/site-packages/pandas/core/internals/managers.py?line=1880'>1881</a>\u001b[0m \u001b[39m    \"\"\"\u001b[39;00m\n\u001b[0;32m   <a href='file:///c%3A/Python310/lib/site-packages/pandas/core/internals/managers.py?line=1881'>1882</a>\u001b[0m     \u001b[39mraise\u001b[39;00m \u001b[39mNotImplementedError\u001b[39;00m(\u001b[39m\"\u001b[39m\u001b[39mUse series._values[loc] instead\u001b[39m\u001b[39m\"\u001b[39m)\n\u001b[1;32m-> <a href='file:///c%3A/Python310/lib/site-packages/pandas/core/internals/managers.py?line=1883'>1884</a>\u001b[0m \u001b[39mdef\u001b[39;00m \u001b[39mset_values\u001b[39m(\u001b[39mself\u001b[39m, values: ArrayLike):\n\u001b[0;32m   <a href='file:///c%3A/Python310/lib/site-packages/pandas/core/internals/managers.py?line=1884'>1885</a>\u001b[0m     \u001b[39m\"\"\"\u001b[39;00m\n\u001b[0;32m   <a href='file:///c%3A/Python310/lib/site-packages/pandas/core/internals/managers.py?line=1885'>1886</a>\u001b[0m \u001b[39m    Set the values of the single block in place.\u001b[39;00m\n\u001b[0;32m   <a href='file:///c%3A/Python310/lib/site-packages/pandas/core/internals/managers.py?line=1886'>1887</a>\u001b[0m \n\u001b[0;32m   <a href='file:///c%3A/Python310/lib/site-packages/pandas/core/internals/managers.py?line=1887'>1888</a>\u001b[0m \u001b[39m    Use at your own risk! This does not check if the passed values are\u001b[39;00m\n\u001b[0;32m   <a href='file:///c%3A/Python310/lib/site-packages/pandas/core/internals/managers.py?line=1888'>1889</a>\u001b[0m \u001b[39m    valid for the current Block/SingleBlockManager (length, dtype, etc).\u001b[39;00m\n\u001b[0;32m   <a href='file:///c%3A/Python310/lib/site-packages/pandas/core/internals/managers.py?line=1889'>1890</a>\u001b[0m \u001b[39m    \"\"\"\u001b[39;00m\n\u001b[0;32m   <a href='file:///c%3A/Python310/lib/site-packages/pandas/core/internals/managers.py?line=1890'>1891</a>\u001b[0m     \u001b[39mself\u001b[39m\u001b[39m.\u001b[39mblocks[\u001b[39m0\u001b[39m]\u001b[39m.\u001b[39mvalues \u001b[39m=\u001b[39m values\n",
      "\u001b[1;31mKeyboardInterrupt\u001b[0m: "
     ]
    }
   ],
   "source": [
    "interactomes_no_sm, interactomes_with_sm, interactomes_with_unique_sm = get_interactomes(DATA_REACTOME_PATH, INTERACTOMES_PATH)\n",
    "interactomes = [*interactomes_no_sm.values(), *interactomes_with_sm.values(), *interactomes_with_unique_sm.values()]"
   ]
  },
  {
   "cell_type": "code",
   "execution_count": null,
   "metadata": {
    "collapsed": false,
    "pycharm": {
     "name": "#%% Calculate size of the full networks\n"
    }
   },
   "outputs": [
    {
     "data": {
      "text/plain": [
       "Small Molecules           Entity Level\n",
       "Not Included              genes            365068\n",
       "                          proteins         374362\n",
       "                          proteoforms      590204\n",
       "Included                  genes            451221\n",
       "                          proteins         461128\n",
       "                          proteoforms      682711\n",
       "Reaction-Unique Included  genes            808025\n",
       "                          proteins         822205\n",
       "                          proteoforms     1047807\n",
       "dtype: int64"
      ]
     },
     "execution_count": 14,
     "metadata": {},
     "output_type": "execute_result"
    }
   ],
   "source": [
    "index = get_multiindex()\n",
    "num_interactions, num_entities, num_small_molecules = get_sizes(interactomes, index)\n",
    "num_interactions"
   ]
  },
  {
   "cell_type": "code",
   "execution_count": null,
   "metadata": {
    "collapsed": false,
    "pycharm": {
     "name": "#%% Create dataframe with Sizes of Interactomes\n"
    }
   },
   "outputs": [
    {
     "data": {
      "text/html": [
       "<div>\n",
       "<style scoped>\n",
       "    .dataframe tbody tr th:only-of-type {\n",
       "        vertical-align: middle;\n",
       "    }\n",
       "\n",
       "    .dataframe tbody tr th {\n",
       "        vertical-align: top;\n",
       "    }\n",
       "\n",
       "    .dataframe thead th {\n",
       "        text-align: right;\n",
       "    }\n",
       "</style>\n",
       "<table border=\"1\" class=\"dataframe\">\n",
       "  <thead>\n",
       "    <tr style=\"text-align: right;\">\n",
       "      <th></th>\n",
       "      <th>Sizes</th>\n",
       "      <th>Interactions</th>\n",
       "      <th>Accessioned Entities</th>\n",
       "      <th>Small Molecules</th>\n",
       "    </tr>\n",
       "    <tr>\n",
       "      <th>Small Molecules</th>\n",
       "      <th>Entity Level</th>\n",
       "      <th></th>\n",
       "      <th></th>\n",
       "      <th></th>\n",
       "    </tr>\n",
       "  </thead>\n",
       "  <tbody>\n",
       "    <tr>\n",
       "      <th rowspan=\"3\" valign=\"top\">Not Included</th>\n",
       "      <th>genes</th>\n",
       "      <td>365068</td>\n",
       "      <td>10966</td>\n",
       "      <td>0</td>\n",
       "    </tr>\n",
       "    <tr>\n",
       "      <th>proteins</th>\n",
       "      <td>374362</td>\n",
       "      <td>11064</td>\n",
       "      <td>0</td>\n",
       "    </tr>\n",
       "    <tr>\n",
       "      <th>proteoforms</th>\n",
       "      <td>590204</td>\n",
       "      <td>14340</td>\n",
       "      <td>0</td>\n",
       "    </tr>\n",
       "    <tr>\n",
       "      <th rowspan=\"3\" valign=\"top\">Included</th>\n",
       "      <th>genes</th>\n",
       "      <td>451221</td>\n",
       "      <td>10966</td>\n",
       "      <td>2087</td>\n",
       "    </tr>\n",
       "    <tr>\n",
       "      <th>proteins</th>\n",
       "      <td>461128</td>\n",
       "      <td>11064</td>\n",
       "      <td>2087</td>\n",
       "    </tr>\n",
       "    <tr>\n",
       "      <th>proteoforms</th>\n",
       "      <td>682711</td>\n",
       "      <td>14340</td>\n",
       "      <td>2087</td>\n",
       "    </tr>\n",
       "    <tr>\n",
       "      <th rowspan=\"3\" valign=\"top\">Reaction-Unique Included</th>\n",
       "      <th>genes</th>\n",
       "      <td>808025</td>\n",
       "      <td>10966</td>\n",
       "      <td>29561</td>\n",
       "    </tr>\n",
       "    <tr>\n",
       "      <th>proteins</th>\n",
       "      <td>822205</td>\n",
       "      <td>11064</td>\n",
       "      <td>29561</td>\n",
       "    </tr>\n",
       "    <tr>\n",
       "      <th>proteoforms</th>\n",
       "      <td>1047807</td>\n",
       "      <td>14340</td>\n",
       "      <td>29561</td>\n",
       "    </tr>\n",
       "  </tbody>\n",
       "</table>\n",
       "</div>"
      ],
      "text/plain": [
       "Sizes                                  Interactions  Accessioned Entities  \\\n",
       "Small Molecules          Entity Level                                       \n",
       "Not Included             genes               365068                 10966   \n",
       "                         proteins            374362                 11064   \n",
       "                         proteoforms         590204                 14340   \n",
       "Included                 genes               451221                 10966   \n",
       "                         proteins            461128                 11064   \n",
       "                         proteoforms         682711                 14340   \n",
       "Reaction-Unique Included genes               808025                 10966   \n",
       "                         proteins            822205                 11064   \n",
       "                         proteoforms        1047807                 14340   \n",
       "\n",
       "Sizes                                  Small Molecules  \n",
       "Small Molecules          Entity Level                   \n",
       "Not Included             genes                       0  \n",
       "                         proteins                    0  \n",
       "                         proteoforms                 0  \n",
       "Included                 genes                    2087  \n",
       "                         proteins                 2087  \n",
       "                         proteoforms              2087  \n",
       "Reaction-Unique Included genes                   29561  \n",
       "                         proteins                29561  \n",
       "                         proteoforms             29561  "
      ]
     },
     "execution_count": 15,
     "metadata": {},
     "output_type": "execute_result"
    }
   ],
   "source": [
    "# Calculate number of nodes of each type\n",
    "df_sizes = pd.DataFrame({\n",
    "    \"Interactions\": num_interactions,\n",
    "    \"Accessioned Entities\": num_entities,\n",
    "    \"Small Molecules\": num_small_molecules\n",
    "}, index=index)\n",
    "df_sizes.columns.name = \"Sizes\"\n",
    "dfi.export(df_sizes, 'figures/interactome_num_nodes_by_type.png')\n",
    "df_sizes"
   ]
  },
  {
   "cell_type": "code",
   "execution_count": null,
   "metadata": {
    "collapsed": false,
    "pycharm": {
     "name": "#%%\n"
    }
   },
   "outputs": [],
   "source": [
    "# Create a list with the number of genes, proteins, proteoforms, small molecules\n",
    "num_nodes = [*df_sizes.loc[['Not Included']][\"Accessioned Entities\"], df_sizes.loc[['Included']][\"Small Molecules\"][0]]\n",
    "\n",
    "# Create list with all levels:\n",
    "node_types = [*LEVELS, \"small molecules\"]\n",
    "\n",
    "# Create a list with the number of interactions without the small molecules\n",
    "num_interactions_no_sm = df_sizes.loc[['Not Included']][\"Interactions\"]\n",
    "\n",
    "num_interactions_with_sm = df_sizes.loc[['Included']][\"Interactions\"]\n",
    "\n",
    "maxy = max([*num_interactions_with_sm, *num_interactions_no_sm])\n",
    "\n",
    "maxy = 800000"
   ]
  },
  {
   "cell_type": "code",
   "execution_count": null,
   "metadata": {
    "collapsed": false,
    "pycharm": {
     "name": "#%% Plot sizes of all Interactomes\n"
    }
   },
   "outputs": [
    {
     "name": "stderr",
     "output_type": "stream",
     "text": [
      "C:\\Users\\luisp\\AppData\\Local\\Temp\\ipykernel_15404\\703382627.py:21: UserWarning: FixedFormatter should only be used together with FixedLocator\n",
      "  plot2.set_xticklabels(LEVELS, rotation=45)\n",
      "C:\\Users\\luisp\\AppData\\Local\\Temp\\ipykernel_15404\\703382627.py:27: UserWarning: FixedFormatter should only be used together with FixedLocator\n",
      "  plot3.set_xticklabels(LEVELS, rotation=45)\n"
     ]
    },
    {
     "data": {
      "image/png": "[encoded data removed]",
      "text/plain": [
       "<Figure size 432x288 with 3 Axes>"
      ]
     },
     "metadata": {
      "needs_background": "light"
     },
     "output_type": "display_data"
    }
   ],
   "source": [
    "import matplotlib.pyplot as plt\n",
    "import numpy as np\n",
    "from config import COLORS_BORDER\n",
    "\n",
    "figure, axis = plt.subplots(1, 4)\n",
    "# Placing the plots in the plane\n",
    "plot1 = plt.subplot2grid((2, 2), (0, 0), rowspan=1, colspan=1)\n",
    "plot2 = plt.subplot2grid((2, 2), (1, 0), rowspan=1, colspan=1)\n",
    "plot3 = plt.subplot2grid((2, 2), (1, 1), rowspan=1, colspan=1)\n",
    "\n",
    "# Plot number of nodes\n",
    "plot1.bar(node_types, num_nodes, color=config.COLORS_FILL, edgecolor=COLORS_BORDER)\n",
    "plot1.set_title('A) Number of Entities')\n",
    "\n",
    "plt.xticks(rotation=90)\n",
    "\n",
    "# Plot number of interactions without small molecules\n",
    "plot2.bar(LEVELS, num_interactions_no_sm, color=config.COLORS_FILL, edgecolor=COLORS_BORDER)\n",
    "plot2.set_title('B) Interactions without S. M.')\n",
    "plot2.set_ylim([0, maxy])\n",
    "plot2.set_xticklabels(LEVELS, rotation=45)\n",
    "\n",
    "# Plot number of interactions with small molecules\n",
    "plot3.bar(LEVELS, num_interactions_with_sm, color=config.COLORS_FILL, edgecolor=COLORS_BORDER)\n",
    "plot3.set_title('C) Interactions with S. M.')\n",
    "plot3.set_ylim([0, maxy])\n",
    "plot3.set_xticklabels(LEVELS, rotation=45)\n",
    "\n",
    "# Packing all the plots and displaying them\n",
    "plt.tight_layout()\n",
    "plt.show()\n",
    "\n",
    "figure.savefig('figures/figure_4.png')\n",
    "plt.close()"
   ]
  },
  {
   "cell_type": "code",
   "execution_count": null,
   "metadata": {
    "collapsed": false,
    "pycharm": {
     "name": "#%% Percentage of change in nodes. For accessioned entities and small molecules.\n"
    }
   },
   "outputs": [
    {
     "name": "stdout",
     "output_type": "stream",
     "text": [
      "There are 0.89 % more nodes in the protein interactome than in the gene interactome.\n",
      "There are 2.48 % more interactions in the protein interactome than in the gene interactome.\n",
      "There are 22.85 % more nodes in the proteoform interactome than in the protein interactome.\n",
      "There are 36.57 % more interactions in the proteoform interactome than in the protein interactome.\n"
     ]
    }
   ],
   "source": [
    "from lib.networks import get_increase_percentage\n",
    "from config import genes, proteins, proteoforms\n",
    "\n",
    "increase = get_increase_percentage(interactomes_no_sm[genes].number_of_nodes(),\n",
    "                                   interactomes_no_sm[proteins].number_of_nodes())\n",
    "print(f\"There are {increase} % more nodes in the protein interactome than in the gene interactome.\")\n",
    "\n",
    "increase = get_increase_percentage(interactomes_no_sm[genes].number_of_edges(),\n",
    "                                   interactomes_no_sm[proteins].number_of_edges())\n",
    "print(f\"There are {increase} % more interactions in the protein interactome than in the gene interactome.\")\n",
    "\n",
    "increase = get_increase_percentage(interactomes_no_sm[proteins].number_of_nodes(),\n",
    "                                   interactomes_no_sm[proteoforms].number_of_nodes())\n",
    "print(f\"There are {increase} % more nodes in the proteoform interactome than in the protein interactome.\")\n",
    "\n",
    "increase = get_increase_percentage(interactomes_no_sm[proteins].number_of_edges(),\n",
    "                                   interactomes_no_sm[proteoforms].number_of_edges())\n",
    "print(f\"There are {increase} % more interactions in the proteoform interactome than in the protein interactome.\")"
   ]
  },
  {
   "cell_type": "code",
   "execution_count": null,
   "metadata": {
    "collapsed": false,
    "pycharm": {
     "name": "#%% Create table with increase of size by adding small molecules\n"
    }
   },
   "outputs": [
    {
     "name": "stdout",
     "output_type": "stream",
     "text": [
      "In the genes network, there is an increase of 15.99 % more nodes when adding generic small molecules\n",
      "In the genes network, there is an increase of 72.94 % more nodes when adding reaction-unique small molecules\n",
      "In the proteins network, there is an increase of 15.87 % more nodes when adding generic small molecules\n",
      "In the proteins network, there is an increase of 72.77 % more nodes when adding reaction-unique small molecules\n",
      "In the proteoforms network, there is an increase of 12.7 % more nodes when adding generic small molecules\n",
      "In the proteoforms network, there is an increase of 67.34 % more nodes when adding reaction-unique small molecules\n"
     ]
    },
    {
     "data": {
      "text/html": [
       "<div>\n",
       "<style scoped>\n",
       "    .dataframe tbody tr th:only-of-type {\n",
       "        vertical-align: middle;\n",
       "    }\n",
       "\n",
       "    .dataframe tbody tr th {\n",
       "        vertical-align: top;\n",
       "    }\n",
       "\n",
       "    .dataframe thead th {\n",
       "        text-align: right;\n",
       "    }\n",
       "</style>\n",
       "<table border=\"1\" class=\"dataframe\">\n",
       "  <thead>\n",
       "    <tr style=\"text-align: right;\">\n",
       "      <th></th>\n",
       "      <th>Increase of nodes with generic small molecules</th>\n",
       "      <th>Percentage of generic small molecule nodes</th>\n",
       "      <th>Increase of nodes with unique small molecules</th>\n",
       "      <th>Percentage of unique small molecule nodes</th>\n",
       "    </tr>\n",
       "  </thead>\n",
       "  <tbody>\n",
       "    <tr>\n",
       "      <th>genes</th>\n",
       "      <td>15.99</td>\n",
       "      <td>0.16</td>\n",
       "      <td>72.94</td>\n",
       "      <td>0.73</td>\n",
       "    </tr>\n",
       "    <tr>\n",
       "      <th>proteins</th>\n",
       "      <td>15.87</td>\n",
       "      <td>0.16</td>\n",
       "      <td>72.77</td>\n",
       "      <td>0.73</td>\n",
       "    </tr>\n",
       "    <tr>\n",
       "      <th>proteoforms</th>\n",
       "      <td>12.70</td>\n",
       "      <td>0.13</td>\n",
       "      <td>67.34</td>\n",
       "      <td>0.67</td>\n",
       "    </tr>\n",
       "  </tbody>\n",
       "</table>\n",
       "</div>"
      ],
      "text/plain": [
       "             Increase of nodes with generic small molecules  \\\n",
       "genes                                                 15.99   \n",
       "proteins                                              15.87   \n",
       "proteoforms                                           12.70   \n",
       "\n",
       "             Percentage of generic small molecule nodes  \\\n",
       "genes                                              0.16   \n",
       "proteins                                           0.16   \n",
       "proteoforms                                        0.13   \n",
       "\n",
       "             Increase of nodes with unique small molecules  \\\n",
       "genes                                                72.94   \n",
       "proteins                                             72.77   \n",
       "proteoforms                                          67.34   \n",
       "\n",
       "             Percentage of unique small molecule nodes   \n",
       "genes                                              0.73  \n",
       "proteins                                           0.73  \n",
       "proteoforms                                        0.67  "
      ]
     },
     "execution_count": 19,
     "metadata": {},
     "output_type": "execute_result"
    }
   ],
   "source": [
    "for l in LEVELS:\n",
    "    increase_generic = get_increase_percentage(\n",
    "        interactomes_no_sm[l].number_of_nodes(),\n",
    "        interactomes_with_sm[l].number_of_nodes()\n",
    "    )\n",
    "    print(f\"In the {l} network, there is an increase of {increase_generic} % more nodes when adding generic small molecules\")\n",
    "    increase_unique = get_increase_percentage(\n",
    "        interactomes_no_sm[l].number_of_nodes(),\n",
    "        interactomes_with_unique_sm[l].number_of_nodes()\n",
    "    )\n",
    "    print(f\"In the {l} network, there is an increase of {increase_unique} % more nodes when adding reaction-unique small molecules\")\n",
    "\n",
    "increase_with_generic_sm = [get_increase_percentage(\n",
    "        interactomes_no_sm[l].number_of_nodes(),\n",
    "        interactomes_with_sm[l].number_of_nodes()\n",
    "    ) for l in LEVELS]\n",
    "percentage_generic_sm = [\n",
    "    (interactomes_with_sm[l].number_of_nodes() - interactomes_no_sm[l].number_of_nodes()) / interactomes_with_sm[l].number_of_nodes()\n",
    "    for l in LEVELS]\n",
    "increase_with_unique_sm = [get_increase_percentage(\n",
    "        interactomes_no_sm[l].number_of_nodes(),\n",
    "        interactomes_with_unique_sm[l].number_of_nodes()\n",
    "    ) for l in LEVELS]\n",
    "percentage_unique_sm = [\n",
    "    (interactomes_with_unique_sm[l].number_of_nodes() - interactomes_no_sm[l].number_of_nodes()) / interactomes_with_unique_sm[l].number_of_nodes()\n",
    "    for l in LEVELS]\n",
    "\n",
    "d = {\n",
    "    \"Increase of nodes with generic small molecules\": increase_with_generic_sm,\n",
    "    \"Percentage of generic small molecule nodes\": percentage_generic_sm,\n",
    "    \"Increase of nodes with unique small molecules\": increase_with_unique_sm,\n",
    "    \"Percentage of unique small molecule nodes \": percentage_unique_sm\n",
    "}\n",
    "\n",
    "df_increase_sm = pd.DataFrame(data=d, index=LEVELS)\n",
    "dfi.export(df_increase_sm, 'figures/interactome_size_increase.png')\n",
    "df_increase_sm\n"
   ]
  },
  {
   "cell_type": "code",
   "execution_count": null,
   "metadata": {
    "collapsed": false,
    "pycharm": {
     "name": "#%% Get avg. proteins per gene\n"
    }
   },
   "outputs": [
    {
     "name": "stdout",
     "output_type": "stream",
     "text": [
      "There are 10966 genes in the map.\n",
      "The average number of proteins per gene is 1.01\n"
     ]
    }
   ],
   "source": [
    "from statistics import mean\n",
    "from lib.dictionaries import read_dictionary_one_to_set\n",
    "\n",
    "map_genes_to_proteins = read_dictionary_one_to_set(INTERACTOMES_PATH, \"mapping_proteins_to_genes.tsv\",\n",
    "                                                   col_indices=(1, 0))\n",
    "print(f\"There are {len(map_genes_to_proteins.keys())} genes in the map.\")\n",
    "\n",
    "avg_proteins_per_gene = round(mean([len(map_genes_to_proteins[key]) for key in map_genes_to_proteins.keys()]), 2)\n",
    "print(f\"The average number of proteins per gene is {avg_proteins_per_gene}\")"
   ]
  },
  {
   "cell_type": "code",
   "execution_count": null,
   "metadata": {
    "collapsed": false,
    "pycharm": {
     "name": "#%% Get avg. proteoforms per proteoform\n"
    }
   },
   "outputs": [
    {
     "name": "stdout",
     "output_type": "stream",
     "text": [
      "There are 11064 proteins in the map.\n",
      "The average number of proteoforms per protein is 1.3\n"
     ]
    }
   ],
   "source": [
    "map_proteins_to_proteoforms = read_dictionary_one_to_set(INTERACTOMES_PATH, \"mapping_proteins_to_proteoforms.tsv\",\n",
    "                                                         col_indices=(0, 1))\n",
    "print(f\"There are {len(map_proteins_to_proteoforms.keys())} proteins in the map.\")\n",
    "\n",
    "avg_proteoforms_per_protein = round(\n",
    "    mean([len(map_proteins_to_proteoforms[key]) for key in map_proteins_to_proteoforms.keys()]), 2)\n",
    "print(f\"The average number of proteoforms per protein is {avg_proteoforms_per_protein}\")"
   ]
  }
 ],
 "metadata": {
  "kernelspec": {
   "display_name": "Python 3",
   "language": "python",
   "name": "python3"
  },
  "language_info": {
   "codemirror_mode": {
    "name": "ipython",
    "version": 3
   },
   "file_extension": ".py",
   "mimetype": "text/x-python",
   "name": "python",
   "nbconvert_exporter": "python",
   "pygments_lexer": "ipython3",
   "version": "3.10.2"
  }
 },
 "nbformat": 4,
 "nbformat_minor": 0
}
