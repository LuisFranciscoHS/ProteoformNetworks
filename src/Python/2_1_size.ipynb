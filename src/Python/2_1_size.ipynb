{
 "cells": [
  {
   "cell_type": "markdown",
   "metadata": {
    "collapsed": false,
    "pycharm": {
     "name": "#%% md\n"
    }
   },
   "source": [
    "## General network properties: Size as number of nodes and links"
   ]
  },
  {
   "cell_type": "code",
   "execution_count": 45,
   "metadata": {
    "collapsed": false,
    "pycharm": {
     "name": "#%% Set up configuration\n"
    }
   },
   "outputs": [
    {
     "name": "stdout",
     "output_type": "stream",
     "text": [
      "The autoreload extension is already loaded. To reload it, use:\n",
      "  %reload_ext autoreload\n",
      "Initial working directory: C:\\git\\ProteoformNetworks\\src\\Python\n",
      "New working directory: c:\\git\\ProteoformNetworks\n"
     ]
    }
   ],
   "source": [
    "import pandas as pd\n",
    "import seaborn as sns\n",
    "from pathlib import Path\n",
    "import os\n",
    "import config\n",
    "import dataframe_image as dfi\n",
    "from config import LEVELS, INTERACTOMES_PATH, DATA_REACTOME_PATH, PATHWAY_GRAPHS_PATH\n",
    "from lib.networks import get_interactomes, get_combinations, get_combinations_with_pathways\n",
    "from lib.networks import get_multiindex\n",
    "from lib.networks import get_sizes\n",
    "import networkx as nx\n",
    "from networkx import edge_boundary\n",
    "import itertools\n",
    "import random\n",
    "\n",
    "%load_ext autoreload\n",
    "%autoreload 2\n",
    "%reload_ext autoreload\n",
    "\n",
    "config.set_root_wd()"
   ]
  },
  {
   "cell_type": "code",
   "execution_count": 12,
   "metadata": {
    "collapsed": false,
    "pycharm": {
     "name": "#%% Get all interactomes\n"
    }
   },
   "outputs": [
    {
     "name": "stdout",
     "output_type": "stream",
     "text": [
      "Quering participants of all reactions for level genes...\n",
      "Quering participants of all reactions for level proteins...\n",
      "Quering participants of all reactions for level proteoforms...\n",
      "Quering participants of all reactions for level sm...\n",
      "Reading components of all complexes for level genes...\n",
      "Reading components of all complexes for level proteins...\n",
      "Reading components of all complexes for level proteoforms...\n",
      "Reading components of all complexes for level sm...\n",
      "Creating interaction network for  at genes level, method no_sm...\n",
      "Finished creating interactome file for genes-no_sm\n",
      "Creating interaction network for  at proteins level, method no_sm...\n",
      "Finished creating interactome file for proteins-no_sm\n",
      "Creating interaction network for  at proteoforms level, method no_sm...\n",
      "Finished creating interactome file for proteoforms-no_sm\n",
      "Creating interaction network for  at genes level, method with_sm...\n",
      "Finished creating interactome file for genes-with_sm\n",
      "Creating interaction network for  at proteins level, method with_sm...\n",
      "Finished creating interactome file for proteins-with_sm\n",
      "Creating interaction network for  at proteoforms level, method with_sm...\n",
      "Finished creating interactome file for proteoforms-with_sm\n",
      "Creating interaction network for  at genes level, method with_unique_sm...\n",
      "Finished creating interactome file for genes-with_unique_sm\n",
      "Creating interaction network for  at proteins level, method with_unique_sm...\n",
      "Finished creating interactome file for proteins-with_unique_sm\n",
      "Creating interaction network for  at proteoforms level, method with_unique_sm...\n",
      "Finished creating interactome file for proteoforms-with_unique_sm\n"
     ]
    }
   ],
   "source": [
    "interactomes_no_sm, interactomes_with_sm, interactomes_with_unique_sm = get_interactomes(DATA_REACTOME_PATH, INTERACTOMES_PATH)\n",
    "interactomes = [*interactomes_no_sm.values(), *interactomes_with_sm.values(), *interactomes_with_unique_sm.values()]"
   ]
  },
  {
   "cell_type": "code",
   "execution_count": 13,
   "metadata": {
    "collapsed": false,
    "pycharm": {
     "name": "#%% Calculate size of the full networks\n"
    }
   },
   "outputs": [
    {
     "data": {
      "text/plain": [
       "Small Molecules           Entity Level\n",
       "Not Included              genes            366208\n",
       "                          proteins         375770\n",
       "                          proteoforms      590415\n",
       "Included                  genes            451490\n",
       "                          proteins         461665\n",
       "                          proteoforms      681891\n",
       "Reaction-Unique Included  genes            808212\n",
       "                          proteins         823196\n",
       "                          proteoforms     1047542\n",
       "dtype: int64"
      ]
     },
     "execution_count": 13,
     "metadata": {},
     "output_type": "execute_result"
    }
   ],
   "source": [
    "index = get_multiindex()\n",
    "num_interactions, num_entities, num_small_molecules = get_sizes(interactomes, index)\n",
    "num_interactions"
   ]
  },
  {
   "cell_type": "code",
   "execution_count": 14,
   "metadata": {
    "collapsed": false,
    "pycharm": {
     "name": "#%% Create dataframe with Sizes of Interactomes\n"
    }
   },
   "outputs": [
    {
     "data": {
      "text/html": [
       "<div>\n",
       "<style scoped>\n",
       "    .dataframe tbody tr th:only-of-type {\n",
       "        vertical-align: middle;\n",
       "    }\n",
       "\n",
       "    .dataframe tbody tr th {\n",
       "        vertical-align: top;\n",
       "    }\n",
       "\n",
       "    .dataframe thead th {\n",
       "        text-align: right;\n",
       "    }\n",
       "</style>\n",
       "<table border=\"1\" class=\"dataframe\">\n",
       "  <thead>\n",
       "    <tr style=\"text-align: right;\">\n",
       "      <th></th>\n",
       "      <th>Sizes</th>\n",
       "      <th>Interactions</th>\n",
       "      <th>Accessioned Entities</th>\n",
       "      <th>Small Molecules</th>\n",
       "    </tr>\n",
       "    <tr>\n",
       "      <th>Small Molecules</th>\n",
       "      <th>Entity Level</th>\n",
       "      <th></th>\n",
       "      <th></th>\n",
       "      <th></th>\n",
       "    </tr>\n",
       "  </thead>\n",
       "  <tbody>\n",
       "    <tr>\n",
       "      <th rowspan=\"3\" valign=\"top\">Not Included</th>\n",
       "      <th>genes</th>\n",
       "      <td>366208</td>\n",
       "      <td>10976</td>\n",
       "      <td>0</td>\n",
       "    </tr>\n",
       "    <tr>\n",
       "      <th>proteins</th>\n",
       "      <td>375770</td>\n",
       "      <td>11074</td>\n",
       "      <td>0</td>\n",
       "    </tr>\n",
       "    <tr>\n",
       "      <th>proteoforms</th>\n",
       "      <td>590415</td>\n",
       "      <td>14246</td>\n",
       "      <td>0</td>\n",
       "    </tr>\n",
       "    <tr>\n",
       "      <th rowspan=\"3\" valign=\"top\">Included</th>\n",
       "      <th>genes</th>\n",
       "      <td>451490</td>\n",
       "      <td>10976</td>\n",
       "      <td>2057</td>\n",
       "    </tr>\n",
       "    <tr>\n",
       "      <th>proteins</th>\n",
       "      <td>461665</td>\n",
       "      <td>11074</td>\n",
       "      <td>2057</td>\n",
       "    </tr>\n",
       "    <tr>\n",
       "      <th>proteoforms</th>\n",
       "      <td>681891</td>\n",
       "      <td>14246</td>\n",
       "      <td>2057</td>\n",
       "    </tr>\n",
       "    <tr>\n",
       "      <th rowspan=\"3\" valign=\"top\">Reaction-Unique Included</th>\n",
       "      <th>genes</th>\n",
       "      <td>808212</td>\n",
       "      <td>10976</td>\n",
       "      <td>29599</td>\n",
       "    </tr>\n",
       "    <tr>\n",
       "      <th>proteins</th>\n",
       "      <td>823196</td>\n",
       "      <td>11074</td>\n",
       "      <td>29599</td>\n",
       "    </tr>\n",
       "    <tr>\n",
       "      <th>proteoforms</th>\n",
       "      <td>1047542</td>\n",
       "      <td>14246</td>\n",
       "      <td>29599</td>\n",
       "    </tr>\n",
       "  </tbody>\n",
       "</table>\n",
       "</div>"
      ],
      "text/plain": [
       "Sizes                                  Interactions  Accessioned Entities  \\\n",
       "Small Molecules          Entity Level                                       \n",
       "Not Included             genes               366208                 10976   \n",
       "                         proteins            375770                 11074   \n",
       "                         proteoforms         590415                 14246   \n",
       "Included                 genes               451490                 10976   \n",
       "                         proteins            461665                 11074   \n",
       "                         proteoforms         681891                 14246   \n",
       "Reaction-Unique Included genes               808212                 10976   \n",
       "                         proteins            823196                 11074   \n",
       "                         proteoforms        1047542                 14246   \n",
       "\n",
       "Sizes                                  Small Molecules  \n",
       "Small Molecules          Entity Level                   \n",
       "Not Included             genes                       0  \n",
       "                         proteins                    0  \n",
       "                         proteoforms                 0  \n",
       "Included                 genes                    2057  \n",
       "                         proteins                 2057  \n",
       "                         proteoforms              2057  \n",
       "Reaction-Unique Included genes                   29599  \n",
       "                         proteins                29599  \n",
       "                         proteoforms             29599  "
      ]
     },
     "execution_count": 14,
     "metadata": {},
     "output_type": "execute_result"
    }
   ],
   "source": [
    "# Calculate number of nodes of each type\n",
    "df_sizes = pd.DataFrame({\n",
    "    \"Interactions\": num_interactions,\n",
    "    \"Accessioned Entities\": num_entities,\n",
    "    \"Small Molecules\": num_small_molecules\n",
    "}, index=index)\n",
    "df_sizes.columns.name = \"Sizes\"\n",
    "dfi.export(df_sizes, 'figures/interactome_num_nodes_by_type.png')\n",
    "df_sizes"
   ]
  },
  {
   "cell_type": "code",
   "execution_count": 15,
   "metadata": {
    "collapsed": false,
    "pycharm": {
     "name": "#%%\n"
    }
   },
   "outputs": [],
   "source": [
    "# Create a list with the number of genes, proteins, proteoforms, small molecules\n",
    "num_nodes = [*df_sizes.loc[['Not Included']][\"Accessioned Entities\"], df_sizes.loc[['Included']][\"Small Molecules\"][0]]\n",
    "\n",
    "# Create list with all levels:\n",
    "node_types = [*LEVELS, \"small molecules\"]\n",
    "\n",
    "# Create a list with the number of interactions without the small molecules\n",
    "num_interactions_no_sm = df_sizes.loc[['Not Included']][\"Interactions\"]\n",
    "\n",
    "num_interactions_with_sm = df_sizes.loc[['Included']][\"Interactions\"]\n",
    "\n",
    "maxy = max([*num_interactions_with_sm, *num_interactions_no_sm])\n",
    "\n",
    "maxy = 800000"
   ]
  },
  {
   "cell_type": "code",
   "execution_count": 16,
   "metadata": {
    "collapsed": false,
    "pycharm": {
     "name": "#%% Plot sizes of all Interactomes\n"
    }
   },
   "outputs": [
    {
     "name": "stderr",
     "output_type": "stream",
     "text": [
      "C:\\Users\\luisp\\AppData\\Local\\Temp\\ipykernel_35028\\703382627.py:21: UserWarning: FixedFormatter should only be used together with FixedLocator\n",
      "  plot2.set_xticklabels(LEVELS, rotation=45)\n",
      "C:\\Users\\luisp\\AppData\\Local\\Temp\\ipykernel_35028\\703382627.py:27: UserWarning: FixedFormatter should only be used together with FixedLocator\n",
      "  plot3.set_xticklabels(LEVELS, rotation=45)\n"
     ]
    },
    {
     "data": {
      "image/png": "[encoded data removed]",
      "text/plain": [
       "<Figure size 432x288 with 3 Axes>"
      ]
     },
     "metadata": {
      "needs_background": "light"
     },
     "output_type": "display_data"
    }
   ],
   "source": [
    "import matplotlib.pyplot as plt\n",
    "import numpy as np\n",
    "from config import COLORS_BORDER\n",
    "\n",
    "figure, axis = plt.subplots(1, 4)\n",
    "# Placing the plots in the plane\n",
    "plot1 = plt.subplot2grid((2, 2), (0, 0), rowspan=1, colspan=1)\n",
    "plot2 = plt.subplot2grid((2, 2), (1, 0), rowspan=1, colspan=1)\n",
    "plot3 = plt.subplot2grid((2, 2), (1, 1), rowspan=1, colspan=1)\n",
    "\n",
    "# Plot number of nodes\n",
    "plot1.bar(node_types, num_nodes, color=config.COLORS_FILL, edgecolor=COLORS_BORDER)\n",
    "plot1.set_title('A) Number of Entities')\n",
    "\n",
    "plt.xticks(rotation=90)\n",
    "\n",
    "# Plot number of interactions without small molecules\n",
    "plot2.bar(LEVELS, num_interactions_no_sm, color=config.COLORS_FILL, edgecolor=COLORS_BORDER)\n",
    "plot2.set_title('B) Interactions without S. M.')\n",
    "plot2.set_ylim([0, maxy])\n",
    "plot2.set_xticklabels(LEVELS, rotation=45)\n",
    "\n",
    "# Plot number of interactions with small molecules\n",
    "plot3.bar(LEVELS, num_interactions_with_sm, color=config.COLORS_FILL, edgecolor=COLORS_BORDER)\n",
    "plot3.set_title('C) Interactions with S. M.')\n",
    "plot3.set_ylim([0, maxy])\n",
    "plot3.set_xticklabels(LEVELS, rotation=45)\n",
    "\n",
    "# Packing all the plots and displaying them\n",
    "plt.tight_layout()\n",
    "plt.show()\n",
    "\n",
    "figure.savefig('figures/figure_4.png')\n",
    "plt.close()"
   ]
  },
  {
   "cell_type": "code",
   "execution_count": 17,
   "metadata": {
    "collapsed": false,
    "pycharm": {
     "name": "#%% Percentage of change in nodes. For accessioned entities and small molecules.\n"
    }
   },
   "outputs": [
    {
     "name": "stdout",
     "output_type": "stream",
     "text": [
      "There are 0.88 % more nodes in the protein interactome than in the gene interactome.\n",
      "There are 2.54 % more interactions in the protein interactome than in the gene interactome.\n",
      "There are 22.27 % more nodes in the proteoform interactome than in the protein interactome.\n",
      "There are 36.35 % more interactions in the proteoform interactome than in the protein interactome.\n"
     ]
    }
   ],
   "source": [
    "# Increase in nodes and interactions by changing from genes to proteins and then to proteoforms.\n",
    "\n",
    "\n",
    "from lib.networks import get_increase_percentage\n",
    "from config import genes, proteins, proteoforms\n",
    "\n",
    "increase = get_increase_percentage(interactomes_no_sm[genes].number_of_nodes(),\n",
    "                                   interactomes_no_sm[proteins].number_of_nodes())\n",
    "print(f\"There are {increase} % more nodes in the protein interactome than in the gene interactome.\")# \n",
    "\n",
    "increase = get_increase_percentage(interactomes_no_sm[genes].number_of_edges(),\n",
    "                                   interactomes_no_sm[proteins].number_of_edges())\n",
    "print(f\"There are {increase} % more interactions in the protein interactome than in the gene interactome.\")\n",
    "\n",
    "increase = get_increase_percentage(interactomes_no_sm[proteins].number_of_nodes(),\n",
    "                                   interactomes_no_sm[proteoforms].number_of_nodes())\n",
    "print(f\"There are {increase} % more nodes in the proteoform interactome than in the protein interactome.\")\n",
    "\n",
    "increase = get_increase_percentage(interactomes_no_sm[proteins].number_of_edges(),\n",
    "                                   interactomes_no_sm[proteoforms].number_of_edges())\n",
    "print(f\"There are {increase} % more interactions in the proteoform interactome than in the protein interactome.\")"
   ]
  },
  {
   "cell_type": "code",
   "execution_count": 30,
   "metadata": {
    "collapsed": false,
    "pycharm": {
     "name": "#%% Create table with increase of size by adding small molecules\n"
    }
   },
   "outputs": [
    {
     "name": "stdout",
     "output_type": "stream",
     "text": [
      "In the genes network, there is an increase of 2057 nodes when adding small molecules, that is 15.78 % more.\n",
      "In the genes network, there is an increase of 85282 links when adding generic small molecules, that is 18.89 % more.\n",
      "In the genes network, there is an increase of 29599 nodes when adding reaction-unique small molecules, that is 72.95 % more.\n",
      "In the genes network, there is an increase of 442004 links when adding reaction-unique small molecules, that is 54.69 % more.\n",
      "In the proteoforms network, there is an increase of 2057 nodes when adding small molecules, that is 12.62 % more.\n",
      "In the proteoforms network, there is an increase of 91476 links when adding generic small molecules, that is 13.42 % more.\n",
      "In the proteoforms network, there is an increase of 29599 nodes when adding reaction-unique small molecules, that is 67.51 % more.\n",
      "In the proteoforms network, there is an increase of 457127 links when adding reaction-unique small molecules, that is 43.64 % more.\n"
     ]
    },
    {
     "data": {
      "text/html": [
       "<div>\n",
       "<style scoped>\n",
       "    .dataframe tbody tr th:only-of-type {\n",
       "        vertical-align: middle;\n",
       "    }\n",
       "\n",
       "    .dataframe tbody tr th {\n",
       "        vertical-align: top;\n",
       "    }\n",
       "\n",
       "    .dataframe thead th {\n",
       "        text-align: right;\n",
       "    }\n",
       "</style>\n",
       "<table border=\"1\" class=\"dataframe\">\n",
       "  <thead>\n",
       "    <tr style=\"text-align: right;\">\n",
       "      <th></th>\n",
       "      <th>Increase of nodes with generic small molecules</th>\n",
       "      <th>Percentage of generic small molecule nodes</th>\n",
       "      <th>Increase of nodes with unique small molecules</th>\n",
       "      <th>Percentage of unique small molecule nodes</th>\n",
       "    </tr>\n",
       "  </thead>\n",
       "  <tbody>\n",
       "    <tr>\n",
       "      <th>genes</th>\n",
       "      <td>15.78</td>\n",
       "      <td>0.16</td>\n",
       "      <td>72.95</td>\n",
       "      <td>0.73</td>\n",
       "    </tr>\n",
       "    <tr>\n",
       "      <th>proteins</th>\n",
       "      <td>15.67</td>\n",
       "      <td>0.16</td>\n",
       "      <td>72.77</td>\n",
       "      <td>0.73</td>\n",
       "    </tr>\n",
       "    <tr>\n",
       "      <th>proteoforms</th>\n",
       "      <td>12.62</td>\n",
       "      <td>0.13</td>\n",
       "      <td>67.51</td>\n",
       "      <td>0.68</td>\n",
       "    </tr>\n",
       "  </tbody>\n",
       "</table>\n",
       "</div>"
      ],
      "text/plain": [
       "             Increase of nodes with generic small molecules  \\\n",
       "genes                                                 15.78   \n",
       "proteins                                              15.67   \n",
       "proteoforms                                           12.62   \n",
       "\n",
       "             Percentage of generic small molecule nodes  \\\n",
       "genes                                              0.16   \n",
       "proteins                                           0.16   \n",
       "proteoforms                                        0.13   \n",
       "\n",
       "             Increase of nodes with unique small molecules  \\\n",
       "genes                                                72.95   \n",
       "proteins                                             72.77   \n",
       "proteoforms                                          67.51   \n",
       "\n",
       "             Percentage of unique small molecule nodes   \n",
       "genes                                              0.73  \n",
       "proteins                                           0.73  \n",
       "proteoforms                                        0.68  "
      ]
     },
     "execution_count": 30,
     "metadata": {},
     "output_type": "execute_result"
    }
   ],
   "source": [
    "# Increase in nodes by adding small molecules\n",
    "\n",
    "for l in [genes, proteoforms]:\n",
    "    increase_generic = get_increase_percentage(\n",
    "        interactomes_no_sm[l].number_of_nodes(),\n",
    "        interactomes_with_sm[l].number_of_nodes()\n",
    "    )\n",
    "    print(f\"In the {l} network, there is an increase of {interactomes_with_sm[l].number_of_nodes() - interactomes_no_sm[l].number_of_nodes()} nodes when adding small molecules, that is {increase_generic} % more.\")\n",
    "\n",
    "    increase_generic = get_increase_percentage(\n",
    "        interactomes_no_sm[l].number_of_edges(),\n",
    "        interactomes_with_sm[l].number_of_edges()\n",
    "    )\n",
    "    print(f\"In the {l} network, there is an increase of {interactomes_with_sm[l].number_of_edges() - interactomes_no_sm[l].number_of_edges()} links when adding generic small molecules, that is {increase_generic} % more.\")\n",
    "\n",
    "    increase_unique = get_increase_percentage(\n",
    "        interactomes_no_sm[l].number_of_nodes(),\n",
    "        interactomes_with_unique_sm[l].number_of_nodes()\n",
    "    )\n",
    "    print(f\"In the {l} network, there is an increase of {interactomes_with_unique_sm[l].number_of_nodes() - interactomes_no_sm[l].number_of_nodes()} nodes when adding reaction-unique small molecules, that is {increase_unique} % more.\")\n",
    "\n",
    "    increase_unique = get_increase_percentage(\n",
    "        interactomes_no_sm[l].number_of_edges(),\n",
    "        interactomes_with_unique_sm[l].number_of_edges()\n",
    "    )\n",
    "    print(f\"In the {l} network, there is an increase of {interactomes_with_unique_sm[l].number_of_edges() - interactomes_no_sm[l].number_of_edges()} links when adding reaction-unique small molecules, that is {increase_unique} % more.\")\n",
    "\n",
    "increase_with_generic_sm = [get_increase_percentage(\n",
    "        interactomes_no_sm[l].number_of_nodes(),\n",
    "        interactomes_with_sm[l].number_of_nodes()\n",
    "    ) for l in LEVELS]\n",
    "percentage_generic_sm = [\n",
    "    (interactomes_with_sm[l].number_of_nodes() - interactomes_no_sm[l].number_of_nodes()) / interactomes_with_sm[l].number_of_nodes()\n",
    "    for l in LEVELS]\n",
    "increase_with_unique_sm = [get_increase_percentage(\n",
    "        interactomes_no_sm[l].number_of_nodes(),\n",
    "        interactomes_with_unique_sm[l].number_of_nodes()\n",
    "    ) for l in LEVELS]\n",
    "percentage_unique_sm = [\n",
    "    (interactomes_with_unique_sm[l].number_of_nodes() - interactomes_no_sm[l].number_of_nodes()) / interactomes_with_unique_sm[l].number_of_nodes()\n",
    "    for l in LEVELS]\n",
    "\n",
    "d = {\n",
    "    \"Increase of nodes with generic small molecules\": increase_with_generic_sm,\n",
    "    \"Percentage of generic small molecule nodes\": percentage_generic_sm,\n",
    "    \"Increase of nodes with unique small molecules\": increase_with_unique_sm,\n",
    "    \"Percentage of unique small molecule nodes \": percentage_unique_sm\n",
    "}\n",
    "\n",
    "df_increase_sm = pd.DataFrame(data=d, index=LEVELS)\n",
    "dfi.export(df_increase_sm, 'figures/interactome_size_increase.png')\n",
    "df_increase_sm\n"
   ]
  },
  {
   "cell_type": "code",
   "execution_count": 19,
   "metadata": {
    "collapsed": false,
    "pycharm": {
     "name": "#%% Get avg. proteins per gene\n"
    }
   },
   "outputs": [
    {
     "name": "stdout",
     "output_type": "stream",
     "text": [
      "There are 10976 genes in the map.\n",
      "The average number of proteins per gene is 1.01\n"
     ]
    }
   ],
   "source": [
    "from statistics import mean\n",
    "from lib.dictionaries import read_dictionary_one_to_set\n",
    "\n",
    "map_genes_to_proteins = read_dictionary_one_to_set(INTERACTOMES_PATH, \"mapping_proteins_to_genes.tsv\",\n",
    "                                                   col_indices=(1, 0))\n",
    "print(f\"There are {len(map_genes_to_proteins.keys())} genes in the map.\")\n",
    "\n",
    "avg_proteins_per_gene = round(mean([len(map_genes_to_proteins[key]) for key in map_genes_to_proteins.keys()]), 2)\n",
    "print(f\"The average number of proteins per gene is {avg_proteins_per_gene}\")"
   ]
  },
  {
   "cell_type": "code",
   "execution_count": 20,
   "metadata": {
    "collapsed": false,
    "pycharm": {
     "name": "#%% Get avg. proteoforms per proteoform\n"
    }
   },
   "outputs": [
    {
     "name": "stdout",
     "output_type": "stream",
     "text": [
      "There are 11074 proteins in the map.\n",
      "The average number of proteoforms per protein is 1.29\n"
     ]
    }
   ],
   "source": [
    "map_proteins_to_proteoforms = read_dictionary_one_to_set(INTERACTOMES_PATH, \"mapping_proteins_to_proteoforms.tsv\",\n",
    "                                                         col_indices=(0, 1))\n",
    "print(f\"There are {len(map_proteins_to_proteoforms.keys())} proteins in the map.\")\n",
    "\n",
    "avg_proteoforms_per_protein = round(\n",
    "    mean([len(map_proteins_to_proteoforms[key]) for key in map_proteins_to_proteoforms.keys()]), 2)\n",
    "print(f\"The average number of proteoforms per protein is {avg_proteoforms_per_protein}\")"
   ]
  },
  {
   "cell_type": "code",
   "execution_count": 55,
   "metadata": {},
   "outputs": [
    {
     "name": "stdout",
     "output_type": "stream",
     "text": [
      "Nodes with not modified proteoforms 10813\n",
      "['O60674;', 'P23458;', 'P29597;', 'P40189;']\n",
      "Nodes with modified proteoforms 3433\n",
      "['P40189-2;', 'O60674;00048:1007', 'P23458;00048:1034', 'P29597;00048:1054']\n",
      "Total number of connections in the proteoform interactome: 590415\n",
      "Number of connections in the proteoform-centric network where proteoform level informaction is NOT available for both nodes: 345253, that is 58.47632597410296 % of all the connections.\n",
      "Number of connections in the proteoform-centric network where proteoform level informaction is available for one of the nodes: 101907, that is 17.26023220954752 % of all the connections.\n",
      "Number of connections in the proteoform-centric network where proteoform level informaction is available for both nodes: 143255, that is 24.263441816349516 % of all the connections.\n"
     ]
    }
   ],
   "source": [
    "# Get number of nodes with proteoform level information and number of connections among them\n",
    "# For networks with only accessioned entities; i.e. without small molecules\n",
    "\n",
    "nodes_uu = [node for node in interactomes_no_sm['proteoforms'].nodes if not any((c in {':', '-'}) for c in str(node))]\n",
    "nodes_mm = [node for node in interactomes_no_sm['proteoforms'].nodes if any((c in {':', '-'}) for c in str(node))]\n",
    "\n",
    "print(f\"Nodes with not modified proteoforms {len(nodes_uu)}\")\n",
    "print(nodes_uu[1:5])\n",
    "\n",
    "print(f\"Nodes with modified proteoforms {len(nodes_mm)}\")\n",
    "print(nodes_mm[1:5])\n",
    "\n",
    "edges_uu = edge_boundary(interactomes_no_sm['proteoforms'], nodes_uu, nodes_uu)\n",
    "edges_um = edge_boundary(interactomes_no_sm['proteoforms'], nodes_uu, nodes_mm)\n",
    "edges_mm = edge_boundary(interactomes_no_sm['proteoforms'], nodes_mm, nodes_mm)\n",
    "\n",
    "num_edges_uu = len(list(edges_uu))\n",
    "num_edges_um = len(list(edges_um))\n",
    "num_edges_mm = len(list(edges_mm))\n",
    "\n",
    "print(f\"Total number of connections in the proteoform interactome: {interactomes_no_sm['proteoforms'].number_of_edges()}\")\n",
    "\n",
    "\n",
    "percentage = num_edges_uu * 100 / interactomes_no_sm['proteoforms'].number_of_edges()\n",
    "print(f\"Number of connections in the proteoform-centric network where proteoform level informaction is NOT available for both nodes: {num_edges_uu}, that is {percentage} % of all the connections.\")\n",
    "\n",
    "percentage = num_edges_um * 100 / interactomes_no_sm['proteoforms'].number_of_edges()\n",
    "print(f\"Number of connections in the proteoform-centric network where proteoform level informaction is available for one of the nodes: {num_edges_um}, that is {percentage} % of all the connections.\")\n",
    "\n",
    "percentage = num_edges_mm * 100 / interactomes_no_sm['proteoforms'].number_of_edges()\n",
    "print(f\"Number of connections in the proteoform-centric network where proteoform level informaction is available for both nodes: {num_edges_mm}, that is {percentage} % of all the connections.\")\n",
    "\n",
    "# for edge in random.sample(list(edges_mm), 50):\n",
    "#     print(edge)"
   ]
  },
  {
   "cell_type": "code",
   "execution_count": null,
   "metadata": {},
   "outputs": [],
   "source": [
    "\n",
    "subgraphs = dict()\n",
    "subgraphs['mm'] = interactomes['proteoforms'].subgraph(nodes_mm).copy(as_view=False)\n",
    "subgraphs['uu'] = interactomes['proteoforms'].subgraph(nodes_uu).copy(as_view=False)\n",
    "subgraphs['um'] = nx.Graph()\n",
    "subgraphs['um'].add_edges_from(edges_um)\n",
    "\n",
    "print(f\"Original interactome edges: {interactomes['proteoforms'].number_of_edges()}, original interactome nodes: {interactomes['proteoforms'].number_of_nodes()}\")\n",
    "print(f\"mm: edges: {subgraphs['mm'].number_of_edges()}, vertices: {subgraphs['mm'].number_of_nodes()}\" )\n",
    "print(f\"uu: edges: {subgraphs['uu'].number_of_edges()}, vertices: {subgraphs['uu'].number_of_nodes()}\" )"
   ]
  }
 ],
 "metadata": {
  "kernelspec": {
   "display_name": "Python 3",
   "language": "python",
   "name": "python3"
  },
  "language_info": {
   "codemirror_mode": {
    "name": "ipython",
    "version": 3
   },
   "file_extension": ".py",
   "mimetype": "text/x-python",
   "name": "python",
   "nbconvert_exporter": "python",
   "pygments_lexer": "ipython3",
   "version": "3.10.2"
  }
 },
 "nbformat": 4,
 "nbformat_minor": 0
}
