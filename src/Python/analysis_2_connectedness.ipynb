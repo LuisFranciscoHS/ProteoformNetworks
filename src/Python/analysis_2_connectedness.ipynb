{
 "cells": [
  {
   "cell_type": "markdown",
   "source": [
    "## Connected components\n",
    "\n",
    "For all interactomes:\n",
    "* Number of connected components\n",
    "* Size of the largest connected component\n",
    "* Relative size of the largest connected component\n",
    "* Average size of the connected components\n",
    "* Size of the smallest component\n",
    "* Number of isolated nodes\n",
    "\n",
    "For all pathways:\n",
    "- Sizes of connected components for all pathways"
   ],
   "metadata": {
    "collapsed": false
   }
  },
  {
   "cell_type": "code",
   "execution_count": 1,
   "outputs": [
    {
     "name": "stdout",
     "output_type": "stream",
     "text": [
      "Working directory: c:\\git\\pathwayanalysisplatform\\proteoformnetworks\n"
     ]
    }
   ],
   "source": [
    "import bisect\n",
    "\n",
    "import networkx as nx\n",
    "import pandas as pd\n",
    "import seaborn\n",
    "import seaborn as sns\n",
    "\n",
    "import config\n",
    "from config import GRAPHS_PATH\n",
    "from lib.networks import get_interactomes, get_multiindex\n",
    "from lib.networks import create_pathway_interaction_networks\n",
    "from visualization.visualize_single_network import plot_pathway_all_levels, Coloring\n",
    "\n",
    "%load_ext autoreload\n",
    "%autoreload 2\n",
    "%reload_ext autoreload\n",
    "\n",
    "config.set_root_wd()\n"
   ],
   "metadata": {
    "collapsed": false,
    "pycharm": {
     "name": "#%%\n"
    }
   }
  },
  {
   "cell_type": "code",
   "execution_count": 2,
   "outputs": [],
   "source": [
    "index = get_multiindex()\n",
    "interactomes_no_sm, interactomes_with_sm, interactomes_with_unique_sm = get_interactomes(GRAPHS_PATH)\n",
    "interactomes = [*interactomes_no_sm.values(), *interactomes_with_sm.values(), *interactomes_with_unique_sm.values()]"
   ],
   "metadata": {
    "collapsed": false,
    "pycharm": {
     "name": "#%% Get all interactomes\n"
    }
   }
  },
  {
   "cell_type": "code",
   "execution_count": 3,
   "outputs": [
    {
     "data": {
      "text/plain": "      Small Molecules Entity Level  Size\n0               no_sm        genes  0.81\n1               no_sm        genes  0.01\n2               no_sm        genes  0.00\n3               no_sm        genes  0.00\n4               no_sm        genes  0.00\n...               ...          ...   ...\n13277  with_unique_sm  proteoforms  0.00\n13278  with_unique_sm  proteoforms  0.00\n13279  with_unique_sm  proteoforms  0.00\n13280  with_unique_sm  proteoforms  0.00\n13281  with_unique_sm  proteoforms  0.00\n\n[13282 rows x 3 columns]",
      "text/html": "<div>\n<style scoped>\n    .dataframe tbody tr th:only-of-type {\n        vertical-align: middle;\n    }\n\n    .dataframe tbody tr th {\n        vertical-align: top;\n    }\n\n    .dataframe thead th {\n        text-align: right;\n    }\n</style>\n<table border=\"1\" class=\"dataframe\">\n  <thead>\n    <tr style=\"text-align: right;\">\n      <th></th>\n      <th>Small Molecules</th>\n      <th>Entity Level</th>\n      <th>Size</th>\n    </tr>\n  </thead>\n  <tbody>\n    <tr>\n      <th>0</th>\n      <td>no_sm</td>\n      <td>genes</td>\n      <td>0.81</td>\n    </tr>\n    <tr>\n      <th>1</th>\n      <td>no_sm</td>\n      <td>genes</td>\n      <td>0.01</td>\n    </tr>\n    <tr>\n      <th>2</th>\n      <td>no_sm</td>\n      <td>genes</td>\n      <td>0.00</td>\n    </tr>\n    <tr>\n      <th>3</th>\n      <td>no_sm</td>\n      <td>genes</td>\n      <td>0.00</td>\n    </tr>\n    <tr>\n      <th>4</th>\n      <td>no_sm</td>\n      <td>genes</td>\n      <td>0.00</td>\n    </tr>\n    <tr>\n      <th>...</th>\n      <td>...</td>\n      <td>...</td>\n      <td>...</td>\n    </tr>\n    <tr>\n      <th>13277</th>\n      <td>with_unique_sm</td>\n      <td>proteoforms</td>\n      <td>0.00</td>\n    </tr>\n    <tr>\n      <th>13278</th>\n      <td>with_unique_sm</td>\n      <td>proteoforms</td>\n      <td>0.00</td>\n    </tr>\n    <tr>\n      <th>13279</th>\n      <td>with_unique_sm</td>\n      <td>proteoforms</td>\n      <td>0.00</td>\n    </tr>\n    <tr>\n      <th>13280</th>\n      <td>with_unique_sm</td>\n      <td>proteoforms</td>\n      <td>0.00</td>\n    </tr>\n    <tr>\n      <th>13281</th>\n      <td>with_unique_sm</td>\n      <td>proteoforms</td>\n      <td>0.00</td>\n    </tr>\n  </tbody>\n</table>\n<p>13282 rows × 3 columns</p>\n</div>"
     },
     "execution_count": 3,
     "metadata": {},
     "output_type": "execute_result"
    }
   ],
   "source": [
    "from lib.networks import get_multiindex\n",
    "import itertools\n",
    "\n",
    "\n",
    "def getTuples(i):\n",
    "    sizes = [len(c) / i.number_of_nodes() for c in sorted(nx.connected_components(i), key=len, reverse=True)]\n",
    "    d = [(i.graph[\"method\"], i.graph[\"level\"], s) for s in sizes]\n",
    "    return d\n",
    "\n",
    "\n",
    "tuples = [getTuples(i) for i in interactomes]\n",
    "data = list(itertools.chain.from_iterable(tuples))\n",
    "data\n",
    "df_cc = pd.DataFrame(data, columns=['Small Molecules', 'Entity Level', 'Size'])\n",
    "df_cc"
   ],
   "metadata": {
    "collapsed": false,
    "pycharm": {
     "name": "#%% Relative size of the connected components\n"
    }
   }
  },
  {
   "cell_type": "code",
   "execution_count": 4,
   "outputs": [
    {
     "data": {
      "text/plain": "                                       Number of connected components  \\\nSmall Molecules          Entity Level                                   \nNot Included             genes                                   1773   \n                         proteins                                1774   \n                         proteoforms                             1821   \nIncluded                 genes                                    195   \n                         proteins                                 195   \n                         proteoforms                              205   \nReaction-Unique Included genes                                   2427   \n                         proteins                                2427   \n                         proteoforms                             2465   \n\n                                       Size of largest connected component  \\\nSmall Molecules          Entity Level                                        \nNot Included             genes                                        8869   \n                         proteins                                     8966   \n                         proteoforms                                 11984   \nIncluded                 genes                                       12692   \n                         proteins                                    12790   \n                         proteoforms                                 15962   \nReaction-Unique Included genes                                       28696   \n                         proteins                                    28793   \n                         proteoforms                                 31644   \n\n                                       Relative size of largest connected component  \\\nSmall Molecules          Entity Level                                                 \nNot Included             genes                                                 0.81   \n                         proteins                                              0.81   \n                         proteoforms                                           0.84   \nIncluded                 genes                                                 0.98   \n                         proteins                                              0.98   \n                         proteoforms                                           0.98   \nReaction-Unique Included genes                                                 0.73   \n                         proteins                                              0.73   \n                         proteoforms                                           0.75   \n\n                                       Average size of connected components  \\\nSmall Molecules          Entity Level                                         \nNot Included             genes                                         6.19   \n                         proteins                                      6.24   \n                         proteoforms                                   7.85   \nIncluded                 genes                                        66.32   \n                         proteins                                     66.83   \n                         proteoforms                                  79.32   \nReaction-Unique Included genes                                        16.10   \n                         proteins                                     16.14   \n                         proteoforms                                  17.20   \n\n                                       Size of smallest connected component  \\\nSmall Molecules          Entity Level                                         \nNot Included             genes                                            1   \n                         proteins                                         1   \n                         proteoforms                                      1   \nIncluded                 genes                                            1   \n                         proteins                                         1   \n                         proteoforms                                      1   \nReaction-Unique Included genes                                            1   \n                         proteins                                         1   \n                         proteoforms                                      1   \n\n                                       Number of isolated nodes  \nSmall Molecules          Entity Level                            \nNot Included             genes                             1664  \n                         proteins                          1665  \n                         proteoforms                       1696  \nIncluded                 genes                              166  \n                         proteins                           166  \n                         proteoforms                        173  \nReaction-Unique Included genes                             1152  \n                         proteins                          1152  \n                         proteoforms                       1159  ",
      "text/html": "<div>\n<style scoped>\n    .dataframe tbody tr th:only-of-type {\n        vertical-align: middle;\n    }\n\n    .dataframe tbody tr th {\n        vertical-align: top;\n    }\n\n    .dataframe thead th {\n        text-align: right;\n    }\n</style>\n<table border=\"1\" class=\"dataframe\">\n  <thead>\n    <tr style=\"text-align: right;\">\n      <th></th>\n      <th></th>\n      <th>Number of connected components</th>\n      <th>Size of largest connected component</th>\n      <th>Relative size of largest connected component</th>\n      <th>Average size of connected components</th>\n      <th>Size of smallest connected component</th>\n      <th>Number of isolated nodes</th>\n    </tr>\n    <tr>\n      <th>Small Molecules</th>\n      <th>Entity Level</th>\n      <th></th>\n      <th></th>\n      <th></th>\n      <th></th>\n      <th></th>\n      <th></th>\n    </tr>\n  </thead>\n  <tbody>\n    <tr>\n      <th rowspan=\"3\" valign=\"top\">Not Included</th>\n      <th>genes</th>\n      <td>1773</td>\n      <td>8869</td>\n      <td>0.81</td>\n      <td>6.19</td>\n      <td>1</td>\n      <td>1664</td>\n    </tr>\n    <tr>\n      <th>proteins</th>\n      <td>1774</td>\n      <td>8966</td>\n      <td>0.81</td>\n      <td>6.24</td>\n      <td>1</td>\n      <td>1665</td>\n    </tr>\n    <tr>\n      <th>proteoforms</th>\n      <td>1821</td>\n      <td>11984</td>\n      <td>0.84</td>\n      <td>7.85</td>\n      <td>1</td>\n      <td>1696</td>\n    </tr>\n    <tr>\n      <th rowspan=\"3\" valign=\"top\">Included</th>\n      <th>genes</th>\n      <td>195</td>\n      <td>12692</td>\n      <td>0.98</td>\n      <td>66.32</td>\n      <td>1</td>\n      <td>166</td>\n    </tr>\n    <tr>\n      <th>proteins</th>\n      <td>195</td>\n      <td>12790</td>\n      <td>0.98</td>\n      <td>66.83</td>\n      <td>1</td>\n      <td>166</td>\n    </tr>\n    <tr>\n      <th>proteoforms</th>\n      <td>205</td>\n      <td>15962</td>\n      <td>0.98</td>\n      <td>79.32</td>\n      <td>1</td>\n      <td>173</td>\n    </tr>\n    <tr>\n      <th rowspan=\"3\" valign=\"top\">Reaction-Unique Included</th>\n      <th>genes</th>\n      <td>2427</td>\n      <td>28696</td>\n      <td>0.73</td>\n      <td>16.10</td>\n      <td>1</td>\n      <td>1152</td>\n    </tr>\n    <tr>\n      <th>proteins</th>\n      <td>2427</td>\n      <td>28793</td>\n      <td>0.73</td>\n      <td>16.14</td>\n      <td>1</td>\n      <td>1152</td>\n    </tr>\n    <tr>\n      <th>proteoforms</th>\n      <td>2465</td>\n      <td>31644</td>\n      <td>0.75</td>\n      <td>17.20</td>\n      <td>1</td>\n      <td>1159</td>\n    </tr>\n  </tbody>\n</table>\n</div>"
     },
     "execution_count": 4,
     "metadata": {},
     "output_type": "execute_result"
    }
   ],
   "source": [
    "# Number of connected components\n",
    "# Size of the largest connected component\n",
    "# Relative size of the largest connected component\n",
    "# Average size of the connected components\n",
    "# Size of the smallest component\n",
    "# Number of isolated nodes\n",
    "\n",
    "def getTuples(i):\n",
    "    ccs_sizes = [len(c) for c in sorted(nx.connected_components(i), key=len, reverse=False)]\n",
    "    num_ccs = len(ccs_sizes)\n",
    "\n",
    "    return (\n",
    "        i.graph[\"method\"],\n",
    "        i.graph[\"level\"],\n",
    "        num_ccs,\n",
    "        ccs_sizes[-1],\n",
    "        ccs_sizes[-1] / i.number_of_nodes(),\n",
    "        sum(ccs_sizes) / len(ccs_sizes),\n",
    "        ccs_sizes[0],\n",
    "        0 if ccs_sizes[0] > 1 else bisect.bisect_left(ccs_sizes, 2, lo=0, hi=len(ccs_sizes))\n",
    "    )\n",
    "\n",
    "\n",
    "data = [getTuples(i) for i in interactomes]\n",
    "columns = [\n",
    "    'Method',\n",
    "    'Level',\n",
    "    'Number of connected components',\n",
    "    'Size of largest connected component',\n",
    "    'Relative size of largest connected component',\n",
    "    'Average size of connected components',\n",
    "    \"Size of smallest connected component\",\n",
    "    \"Number of isolated nodes\"\n",
    "]\n",
    "df_interactomes = pd.DataFrame.from_records(data, columns=columns, index=get_multiindex())\n",
    "df_interactomes[columns[2:]]"
   ],
   "metadata": {
    "collapsed": false,
    "pycharm": {
     "name": "#%% Create dataframe with values for all interactomes:\n"
    }
   }
  },
  {
   "cell_type": "code",
   "execution_count": 5,
   "outputs": [
    {
     "data": {
      "text/plain": "             Pathway           Small Molecules Entity Level  \\\n0      R-HSA-9613829              Not Included        genes   \n1      R-HSA-9613829              Not Included     proteins   \n2      R-HSA-9613829              Not Included  proteoforms   \n3      R-HSA-9613829                  Included        genes   \n4      R-HSA-9613829                  Included     proteins   \n...              ...                       ...          ...   \n18403   R-HSA-917729                  Included     proteins   \n18404   R-HSA-917729                  Included  proteoforms   \n18405   R-HSA-917729  Reaction-Unique Included        genes   \n18406   R-HSA-917729  Reaction-Unique Included     proteins   \n18407   R-HSA-917729  Reaction-Unique Included  proteoforms   \n\n       Relative size of largest connected component  \\\n0                                              1.00   \n1                                              1.00   \n2                                              1.00   \n3                                              1.00   \n4                                              1.00   \n...                                             ...   \n18403                                          1.00   \n18404                                          1.00   \n18405                                          1.00   \n18406                                          1.00   \n18407                                          1.00   \n\n       Average relative size of connected components  \\\n0                                               1.00   \n1                                               1.00   \n2                                               1.00   \n3                                               1.00   \n4                                               1.00   \n...                                              ...   \n18403                                           1.00   \n18404                                           1.00   \n18405                                           1.00   \n18406                                           1.00   \n18407                                           1.00   \n\n       Relative Size of smallest connected component  \\\n0                                               1.00   \n1                                               1.00   \n2                                               1.00   \n3                                               1.00   \n4                                               1.00   \n...                                              ...   \n18403                                           1.00   \n18404                                           1.00   \n18405                                           1.00   \n18406                                           1.00   \n18407                                           1.00   \n\n       Relative Number of isolated nodes  Number of connected components  \n0                                   0.00                               1  \n1                                   0.00                               1  \n2                                   0.00                               1  \n3                                   0.00                               1  \n4                                   0.00                               1  \n...                                  ...                             ...  \n18403                               0.00                               1  \n18404                               0.00                               1  \n18405                               0.00                               1  \n18406                               0.00                               1  \n18407                               0.00                               1  \n\n[18408 rows x 8 columns]",
      "text/html": "<div>\n<style scoped>\n    .dataframe tbody tr th:only-of-type {\n        vertical-align: middle;\n    }\n\n    .dataframe tbody tr th {\n        vertical-align: top;\n    }\n\n    .dataframe thead th {\n        text-align: right;\n    }\n</style>\n<table border=\"1\" class=\"dataframe\">\n  <thead>\n    <tr style=\"text-align: right;\">\n      <th></th>\n      <th>Pathway</th>\n      <th>Small Molecules</th>\n      <th>Entity Level</th>\n      <th>Relative size of largest connected component</th>\n      <th>Average relative size of connected components</th>\n      <th>Relative Size of smallest connected component</th>\n      <th>Relative Number of isolated nodes</th>\n      <th>Number of connected components</th>\n    </tr>\n  </thead>\n  <tbody>\n    <tr>\n      <th>0</th>\n      <td>R-HSA-9613829</td>\n      <td>Not Included</td>\n      <td>genes</td>\n      <td>1.00</td>\n      <td>1.00</td>\n      <td>1.00</td>\n      <td>0.00</td>\n      <td>1</td>\n    </tr>\n    <tr>\n      <th>1</th>\n      <td>R-HSA-9613829</td>\n      <td>Not Included</td>\n      <td>proteins</td>\n      <td>1.00</td>\n      <td>1.00</td>\n      <td>1.00</td>\n      <td>0.00</td>\n      <td>1</td>\n    </tr>\n    <tr>\n      <th>2</th>\n      <td>R-HSA-9613829</td>\n      <td>Not Included</td>\n      <td>proteoforms</td>\n      <td>1.00</td>\n      <td>1.00</td>\n      <td>1.00</td>\n      <td>0.00</td>\n      <td>1</td>\n    </tr>\n    <tr>\n      <th>3</th>\n      <td>R-HSA-9613829</td>\n      <td>Included</td>\n      <td>genes</td>\n      <td>1.00</td>\n      <td>1.00</td>\n      <td>1.00</td>\n      <td>0.00</td>\n      <td>1</td>\n    </tr>\n    <tr>\n      <th>4</th>\n      <td>R-HSA-9613829</td>\n      <td>Included</td>\n      <td>proteins</td>\n      <td>1.00</td>\n      <td>1.00</td>\n      <td>1.00</td>\n      <td>0.00</td>\n      <td>1</td>\n    </tr>\n    <tr>\n      <th>...</th>\n      <td>...</td>\n      <td>...</td>\n      <td>...</td>\n      <td>...</td>\n      <td>...</td>\n      <td>...</td>\n      <td>...</td>\n      <td>...</td>\n    </tr>\n    <tr>\n      <th>18403</th>\n      <td>R-HSA-917729</td>\n      <td>Included</td>\n      <td>proteins</td>\n      <td>1.00</td>\n      <td>1.00</td>\n      <td>1.00</td>\n      <td>0.00</td>\n      <td>1</td>\n    </tr>\n    <tr>\n      <th>18404</th>\n      <td>R-HSA-917729</td>\n      <td>Included</td>\n      <td>proteoforms</td>\n      <td>1.00</td>\n      <td>1.00</td>\n      <td>1.00</td>\n      <td>0.00</td>\n      <td>1</td>\n    </tr>\n    <tr>\n      <th>18405</th>\n      <td>R-HSA-917729</td>\n      <td>Reaction-Unique Included</td>\n      <td>genes</td>\n      <td>1.00</td>\n      <td>1.00</td>\n      <td>1.00</td>\n      <td>0.00</td>\n      <td>1</td>\n    </tr>\n    <tr>\n      <th>18406</th>\n      <td>R-HSA-917729</td>\n      <td>Reaction-Unique Included</td>\n      <td>proteins</td>\n      <td>1.00</td>\n      <td>1.00</td>\n      <td>1.00</td>\n      <td>0.00</td>\n      <td>1</td>\n    </tr>\n    <tr>\n      <th>18407</th>\n      <td>R-HSA-917729</td>\n      <td>Reaction-Unique Included</td>\n      <td>proteoforms</td>\n      <td>1.00</td>\n      <td>1.00</td>\n      <td>1.00</td>\n      <td>0.00</td>\n      <td>1</td>\n    </tr>\n  </tbody>\n</table>\n<p>18408 rows × 8 columns</p>\n</div>"
     },
     "execution_count": 5,
     "metadata": {},
     "output_type": "execute_result"
    }
   ],
   "source": [
    "from pathlib import Path\n",
    "from config import METHODS, PATHWAY_GRAPHS_PATH\n",
    "from config import LEVELS\n",
    "from lib.networks import get_json_filename, create_pathway_interaction_network, read_graph, replace_methods\n",
    "from lib.graph_database_access import get_pathways\n",
    "\n",
    "columns_for_pathways = [\n",
    "    'Pathway',\n",
    "    'Small Molecules',\n",
    "    'Entity Level',\n",
    "    'Relative size of largest connected component',\n",
    "    'Average relative size of connected components',\n",
    "    'Relative Size of smallest connected component',\n",
    "    'Relative Number of isolated nodes',\n",
    "    'Number of connected components'\n",
    "]\n",
    "\n",
    "\n",
    "def get_pathway_tuples(pathway, pathway_graph):\n",
    "    ccs_sizes = [len(cc) for cc in sorted(nx.connected_components(pathway_graph), key=len, reverse=False)]\n",
    "    rel_ccs_sizes = [size / pathway_graph.number_of_nodes() for size in ccs_sizes]\n",
    "\n",
    "    return (\n",
    "        pathway,\n",
    "        pathway_graph.graph[\"method\"],\n",
    "        pathway_graph.graph[\"level\"],\n",
    "        rel_ccs_sizes[-1],\n",
    "        sum(rel_ccs_sizes) / len(rel_ccs_sizes),\n",
    "        rel_ccs_sizes[0],\n",
    "        0 if ccs_sizes[0] > 1 else bisect.bisect_left(ccs_sizes, 2, lo=0, hi=len(ccs_sizes)) / len(ccs_sizes),\n",
    "        len(ccs_sizes)\n",
    "    )\n",
    "\n",
    "\n",
    "data_pathways = []\n",
    "pathways = get_pathways()[\"stId\"]\n",
    "for pathway in pathways:\n",
    "    for method in METHODS:\n",
    "        for level in LEVELS:\n",
    "            filename = get_json_filename(level, method, PATHWAY_GRAPHS_PATH, pathway)\n",
    "            if not Path(filename).exists():\n",
    "                create_pathway_interaction_network(pathway, level, method, PATHWAY_GRAPHS_PATH)\n",
    "            G = read_graph(filename)\n",
    "            if G.number_of_nodes() > 0:\n",
    "                data_pathways.append(get_pathway_tuples(pathway, G))\n",
    "\n",
    "df_pathways = pd.DataFrame.from_records(data_pathways, columns=columns_for_pathways)\n",
    "replace_methods(df_pathways)\n",
    "df_pathways"
   ],
   "metadata": {
    "collapsed": false,
    "pycharm": {
     "name": "#%% Calculate values for each pathway\n"
    }
   }
  },
  {
   "cell_type": "code",
   "execution_count": 11,
   "outputs": [],
   "source": [
    "# - Select records at protein level\n",
    "# - Select records with and without small molecules\n",
    "df_no_sm = df_pathways[(df_pathways['Small Molecules'] == \"Not Included\") & (df_pathways['Entity Level'] == f\"{config.proteins}\")]\n",
    "df_with_sm = df_pathways[(df_pathways['Small Molecules'] == \"Included\") & (df_pathways['Entity Level'] == f\"{config.proteins}\")]\n",
    "df_with_ru_sm =  df_pathways[(df_pathways['Small Molecules'] == \"Reaction-Unique Included\") & (df_pathways['Entity Level'] == f\"{config.proteins}\")]"
   ],
   "metadata": {
    "collapsed": false,
    "pycharm": {
     "name": "#%% Select records at protein levels for finding the examples.\n"
    }
   }
  },
  {
   "cell_type": "code",
   "execution_count": 20,
   "outputs": [
    {
     "data": {
      "text/plain": "               LCC size no sm  LCC size with sm  Increase\nPathway                                                  \nR-HSA-70263              0.03              1.00     34.00\nR-HSA-1482839            0.03              1.00     29.00\nR-HSA-1482788            0.04              1.00     27.00\nR-HSA-1855204            0.04              1.00     26.00\nR-HSA-75876              0.04              1.00     24.00\nR-HSA-3295583            0.04              0.89     22.22\nR-HSA-1482801            0.05              1.00     22.00\nR-HSA-379726             0.05              1.00     21.00\nR-HSA-189200             0.05              1.00     21.00\nR-HSA-156588             0.04              0.83     20.83",
      "text/html": "<div>\n<style scoped>\n    .dataframe tbody tr th:only-of-type {\n        vertical-align: middle;\n    }\n\n    .dataframe tbody tr th {\n        vertical-align: top;\n    }\n\n    .dataframe thead th {\n        text-align: right;\n    }\n</style>\n<table border=\"1\" class=\"dataframe\">\n  <thead>\n    <tr style=\"text-align: right;\">\n      <th></th>\n      <th>LCC size no sm</th>\n      <th>LCC size with sm</th>\n      <th>Increase</th>\n    </tr>\n    <tr>\n      <th>Pathway</th>\n      <th></th>\n      <th></th>\n      <th></th>\n    </tr>\n  </thead>\n  <tbody>\n    <tr>\n      <th>R-HSA-70263</th>\n      <td>0.03</td>\n      <td>1.00</td>\n      <td>34.00</td>\n    </tr>\n    <tr>\n      <th>R-HSA-1482839</th>\n      <td>0.03</td>\n      <td>1.00</td>\n      <td>29.00</td>\n    </tr>\n    <tr>\n      <th>R-HSA-1482788</th>\n      <td>0.04</td>\n      <td>1.00</td>\n      <td>27.00</td>\n    </tr>\n    <tr>\n      <th>R-HSA-1855204</th>\n      <td>0.04</td>\n      <td>1.00</td>\n      <td>26.00</td>\n    </tr>\n    <tr>\n      <th>R-HSA-75876</th>\n      <td>0.04</td>\n      <td>1.00</td>\n      <td>24.00</td>\n    </tr>\n    <tr>\n      <th>R-HSA-3295583</th>\n      <td>0.04</td>\n      <td>0.89</td>\n      <td>22.22</td>\n    </tr>\n    <tr>\n      <th>R-HSA-1482801</th>\n      <td>0.05</td>\n      <td>1.00</td>\n      <td>22.00</td>\n    </tr>\n    <tr>\n      <th>R-HSA-379726</th>\n      <td>0.05</td>\n      <td>1.00</td>\n      <td>21.00</td>\n    </tr>\n    <tr>\n      <th>R-HSA-189200</th>\n      <td>0.05</td>\n      <td>1.00</td>\n      <td>21.00</td>\n    </tr>\n    <tr>\n      <th>R-HSA-156588</th>\n      <td>0.04</td>\n      <td>0.83</td>\n      <td>20.83</td>\n    </tr>\n  </tbody>\n</table>\n</div>"
     },
     "execution_count": 20,
     "metadata": {},
     "output_type": "execute_result"
    }
   ],
   "source": [
    "df_no_sm_size_lcc = df_no_sm[['Pathway', 'Relative size of largest connected component']]\n",
    "df_no_sm_size_lcc.set_index('Pathway', inplace=True)\n",
    "\n",
    "df_with_sm_size_lcc = df_with_sm[['Pathway', 'Relative size of largest connected component']]\n",
    "df_with_sm_size_lcc.set_index('Pathway', inplace=True)\n",
    "\n",
    "result = pd.concat([df_no_sm_size_lcc, df_with_sm_size_lcc], axis=1)\n",
    "result = result[~result.isnull().any(axis=1)]\n",
    "result.columns = [\"LCC size no sm\", \"LCC size with sm\"]\n",
    "result[\"Increase\"] = result[\"LCC size with sm\"]/result[\"LCC size no sm\"]\n",
    "result.sort_values(by=['Increase'], ascending=False, inplace=True)\n",
    "result.head(10)"
   ],
   "metadata": {
    "collapsed": false,
    "pycharm": {
     "name": "#%% Get example of pathway where small molecules increase size of LCC\n"
    }
   }
  },
  {
   "cell_type": "code",
   "execution_count": 28,
   "outputs": [
    {
     "data": {
      "text/plain": "               Num CCs no sm  Num CCs with sm  Increase\nPathway                                                \nR-HSA-6811558          82.00                1      0.01\nR-HSA-109704           41.00                1      0.02\nR-HSA-1660499          40.00                1      0.03\nR-HSA-1483166          38.00                1      0.03\nR-HSA-1660661          37.00                1      0.03\nR-HSA-70263            34.00                1      0.03\nR-HSA-4085001          30.00                1      0.03\nR-HSA-1482839          29.00                1      0.03\nR-HSA-1482788          27.00                1      0.04\nR-HSA-1855204          26.00                1      0.04",
      "text/html": "<div>\n<style scoped>\n    .dataframe tbody tr th:only-of-type {\n        vertical-align: middle;\n    }\n\n    .dataframe tbody tr th {\n        vertical-align: top;\n    }\n\n    .dataframe thead th {\n        text-align: right;\n    }\n</style>\n<table border=\"1\" class=\"dataframe\">\n  <thead>\n    <tr style=\"text-align: right;\">\n      <th></th>\n      <th>Num CCs no sm</th>\n      <th>Num CCs with sm</th>\n      <th>Increase</th>\n    </tr>\n    <tr>\n      <th>Pathway</th>\n      <th></th>\n      <th></th>\n      <th></th>\n    </tr>\n  </thead>\n  <tbody>\n    <tr>\n      <th>R-HSA-6811558</th>\n      <td>82.00</td>\n      <td>1</td>\n      <td>0.01</td>\n    </tr>\n    <tr>\n      <th>R-HSA-109704</th>\n      <td>41.00</td>\n      <td>1</td>\n      <td>0.02</td>\n    </tr>\n    <tr>\n      <th>R-HSA-1660499</th>\n      <td>40.00</td>\n      <td>1</td>\n      <td>0.03</td>\n    </tr>\n    <tr>\n      <th>R-HSA-1483166</th>\n      <td>38.00</td>\n      <td>1</td>\n      <td>0.03</td>\n    </tr>\n    <tr>\n      <th>R-HSA-1660661</th>\n      <td>37.00</td>\n      <td>1</td>\n      <td>0.03</td>\n    </tr>\n    <tr>\n      <th>R-HSA-70263</th>\n      <td>34.00</td>\n      <td>1</td>\n      <td>0.03</td>\n    </tr>\n    <tr>\n      <th>R-HSA-4085001</th>\n      <td>30.00</td>\n      <td>1</td>\n      <td>0.03</td>\n    </tr>\n    <tr>\n      <th>R-HSA-1482839</th>\n      <td>29.00</td>\n      <td>1</td>\n      <td>0.03</td>\n    </tr>\n    <tr>\n      <th>R-HSA-1482788</th>\n      <td>27.00</td>\n      <td>1</td>\n      <td>0.04</td>\n    </tr>\n    <tr>\n      <th>R-HSA-1855204</th>\n      <td>26.00</td>\n      <td>1</td>\n      <td>0.04</td>\n    </tr>\n  </tbody>\n</table>\n</div>"
     },
     "execution_count": 28,
     "metadata": {},
     "output_type": "execute_result"
    }
   ],
   "source": [
    "df_no_sm_num_ccs = df_no_sm[['Pathway', 'Number of connected components']]\n",
    "df_no_sm_num_ccs.set_index('Pathway', inplace=True)\n",
    "\n",
    "df_with_sm_num_ccs = df_with_sm[['Pathway', 'Number of connected components']]\n",
    "df_with_sm_num_ccs.set_index('Pathway', inplace=True)\n",
    "\n",
    "result = pd.concat([df_no_sm_num_ccs, df_with_sm_num_ccs], axis=1)\n",
    "result = result[~result.isnull().any(axis=1)]\n",
    "result.columns = [\"Num CCs no sm\", \"Num CCs with sm\"]\n",
    "result[\"Increase\"] = result[\"Num CCs with sm\"]/result[\"Num CCs no sm\"]\n",
    "result.sort_values(by=['Increase'], ascending=True, inplace=True)\n",
    "result.head(10)"
   ],
   "metadata": {
    "collapsed": false,
    "pycharm": {
     "name": "#%% Get example of pathway where number of CCs are reduced\n"
    }
   }
  },
  {
   "cell_type": "code",
   "execution_count": 33,
   "outputs": [
    {
     "data": {
      "text/plain": "               Num CCs with sm  Num CCs with reaction-unique sm  Increase\nPathway                                                                  \nR-HSA-75955                  1                                1      1.00\nR-HSA-8941856                1                                1      1.00\nR-HSA-9609523                1                                1      1.00\nR-HSA-376172                 1                                1      1.00\nR-HSA-77350                  1                                4      4.00\nR-HSA-975871                 8                                8      1.00\nR-HSA-2470946                1                                1      1.00\nR-HSA-3214841                1                                2      2.00\nR-HSA-111997                 4                                5      1.25\nR-HSA-9670095                2                                2      1.00",
      "text/html": "<div>\n<style scoped>\n    .dataframe tbody tr th:only-of-type {\n        vertical-align: middle;\n    }\n\n    .dataframe tbody tr th {\n        vertical-align: top;\n    }\n\n    .dataframe thead th {\n        text-align: right;\n    }\n</style>\n<table border=\"1\" class=\"dataframe\">\n  <thead>\n    <tr style=\"text-align: right;\">\n      <th></th>\n      <th>Num CCs with sm</th>\n      <th>Num CCs with reaction-unique sm</th>\n      <th>Increase</th>\n    </tr>\n    <tr>\n      <th>Pathway</th>\n      <th></th>\n      <th></th>\n      <th></th>\n    </tr>\n  </thead>\n  <tbody>\n    <tr>\n      <th>R-HSA-75955</th>\n      <td>1</td>\n      <td>1</td>\n      <td>1.00</td>\n    </tr>\n    <tr>\n      <th>R-HSA-8941856</th>\n      <td>1</td>\n      <td>1</td>\n      <td>1.00</td>\n    </tr>\n    <tr>\n      <th>R-HSA-9609523</th>\n      <td>1</td>\n      <td>1</td>\n      <td>1.00</td>\n    </tr>\n    <tr>\n      <th>R-HSA-376172</th>\n      <td>1</td>\n      <td>1</td>\n      <td>1.00</td>\n    </tr>\n    <tr>\n      <th>R-HSA-77350</th>\n      <td>1</td>\n      <td>4</td>\n      <td>4.00</td>\n    </tr>\n    <tr>\n      <th>R-HSA-975871</th>\n      <td>8</td>\n      <td>8</td>\n      <td>1.00</td>\n    </tr>\n    <tr>\n      <th>R-HSA-2470946</th>\n      <td>1</td>\n      <td>1</td>\n      <td>1.00</td>\n    </tr>\n    <tr>\n      <th>R-HSA-3214841</th>\n      <td>1</td>\n      <td>2</td>\n      <td>2.00</td>\n    </tr>\n    <tr>\n      <th>R-HSA-111997</th>\n      <td>4</td>\n      <td>5</td>\n      <td>1.25</td>\n    </tr>\n    <tr>\n      <th>R-HSA-9670095</th>\n      <td>2</td>\n      <td>2</td>\n      <td>1.00</td>\n    </tr>\n  </tbody>\n</table>\n</div>"
     },
     "execution_count": 33,
     "metadata": {},
     "output_type": "execute_result"
    }
   ],
   "source": [
    "df_with_ru_sm_num_ccs = df_with_ru_sm[['Pathway', 'Number of connected components']]\n",
    "df_with_ru_sm_num_ccs.set_index('Pathway', inplace=True)\n",
    "\n",
    "result = pd.concat([df_with_sm_num_ccs, df_with_ru_sm_num_ccs], axis=1)\n",
    "result = result[~result.isnull().any(axis=1)]\n",
    "result.columns = [\"Num CCs with sm\", \"Num CCs with reaction-unique sm\"]\n",
    "result[\"Increase\"] = result[\"Num CCs with reaction-unique sm\"]/result[\"Num CCs with sm\"]\n",
    "result.sort_values(by=['Increase'], ascending=False, inplace=True)\n",
    "result.sample(10)"
   ],
   "metadata": {
    "collapsed": false,
    "pycharm": {
     "name": "#%% Get example where the number of CCs increases when using raction-unique instead of generic small molecules\n"
    }
   }
  },
  {
   "cell_type": "code",
   "execution_count": null,
   "outputs": [],
   "source": [
    "# df_no_sm_size_lcc = df_no_sm[['Pathway', 'Average relative size of connected components']]\n",
    "# df_no_sm_size_lcc.set_index('Pathway', inplace=True)\n",
    "# df_with_sm_size_cc = df_with_sm[['Pathway', 'Average relative size of connected components']]\n",
    "# df_with_sm_size_cc.set_index('Pathway', inplace=True)\n"
   ],
   "metadata": {
    "collapsed": false,
    "pycharm": {
     "name": "#%% Get example of a pathway where LCC size decreases but CC increases\n"
    }
   }
  },
  {
   "cell_type": "code",
   "execution_count": null,
   "outputs": [],
   "source": [
    "df_pathways_grouped = df_pathways.groupby(['Small Molecules', 'Entity Level']).agg(\n",
    "    {\n",
    "        'Relative size of largest connected component': ['mean'],\n",
    "        'Average relative size of connected components': ['mean'],\n",
    "        'Relative Size of smallest connected component': ['mean'],\n",
    "        'Relative Number of isolated nodes': ['mean']\n",
    "    })\n",
    "df_pathways_grouped.columns = [\n",
    "    'Avg. Rel. Size of LCC',\n",
    "    'Avg. Rel. Size of CCs',\n",
    "    'Avg. Rel. Size of SCC',\n",
    "    'Avg. Rel. Number of isolated nodes'\n",
    "]\n",
    "df_pathways_grouped = df_pathways_grouped.set_index(get_multiindex())\n",
    "\n",
    "df_pathways_grouped"
   ],
   "metadata": {
    "collapsed": false,
    "pycharm": {
     "name": "#%% Create sumarized dataframe with average values for all dataframes\n"
    }
   }
  },
  {
   "cell_type": "code",
   "execution_count": null,
   "outputs": [],
   "source": [
    "from config import SMALL_MOLECULES\n",
    "\n",
    "g = sns.catplot(x=\"Entity Level\", y='Relative size of largest connected component',\n",
    "                col=\"Small Molecules\",\n",
    "                data=df_pathways.sample(1000),\n",
    "                kind=\"violin\", split=True,\n",
    "                order=LEVELS, col_order=SMALL_MOLECULES,\n",
    "                height=4, aspect=.7);\n",
    "# g.fig.suptitle(\"Small Molecules\")\n",
    "# g.fig.subplots_adjust(top=0.85)\n",
    "g.set_titles(\" Small molecules\\n{col_name}\")\n",
    "g.set_axis_labels(\"Level\", 'Rel.Size of LCC')\n",
    "g.add_legend()"
   ],
   "metadata": {
    "collapsed": false,
    "pycharm": {
     "name": "#%%\n"
    }
   }
  },
  {
   "cell_type": "code",
   "execution_count": null,
   "outputs": [],
   "source": [
    "g = sns.catplot(x=\"Entity Level\", y='Relative size of largest connected component',\n",
    "                col=\"Small Molecules\",\n",
    "                data=df_pathways.sample(1000),\n",
    "                kind=\"strip\", split=True,\n",
    "                order=LEVELS, col_order=SMALL_MOLECULES,\n",
    "                height=4, aspect=.7);\n",
    "# g.fig.suptitle(\"Small Molecules\")\n",
    "# g.fig.subplots_adjust(top=0.85)\n",
    "g.set_titles(\" Small molecules\\n{col_name}\")\n",
    "g.set_axis_labels(\"Level\", 'Rel.Size of LCC')\n",
    "g.add_legend()"
   ],
   "metadata": {
    "collapsed": false,
    "pycharm": {
     "name": "#%%\n"
    }
   }
  },
  {
   "cell_type": "code",
   "execution_count": null,
   "outputs": [],
   "source": [
    "from lib.networks import get_pathway_filenames\n",
    "\n",
    "n = 10\n",
    "pathway_examples_isolated_nodes = set()\n",
    "for pathway, filename in get_pathway_filenames(PATHWAY_GRAPHS_PATH):\n",
    "    G = read_graph(filename)\n",
    "    if G.number_of_nodes() < 20:\n",
    "        ccs_sizes = [len(cc) for cc in sorted(nx.connected_components(G), key=len, reverse=False)]\n",
    "        if ccs_sizes[0] == 1:\n",
    "            prev = len(pathway_examples_isolated_nodes)\n",
    "            pathway_examples_isolated_nodes.add(pathway)\n",
    "            if len(pathway_examples_isolated_nodes) != prev:\n",
    "                print(f\"{pathway} CCs: {ccs_sizes}\")\n",
    "            if len(pathway_examples_isolated_nodes) == n: break;\n"
   ],
   "metadata": {
    "collapsed": false,
    "pycharm": {
     "name": "#%% Pahtway examples with Isolated nodes\n"
    }
   }
  },
  {
   "cell_type": "code",
   "execution_count": null,
   "outputs": [],
   "source": [
    "for pathway in pathway_examples_isolated_nodes:\n",
    "    graphs = create_pathway_interaction_networks(pathway, PATHWAY_GRAPHS_PATH)\n",
    "    p = plot_pathway_all_levels(pathway, out_path=PATHWAY_GRAPHS_PATH, graphs=graphs,\n",
    "                                coloring=Coloring.ENTITY_TYPE,\n",
    "                                highlight_articulations=False, highlight_bridges=False,\n",
    "                                node_size = 10,\n",
    "                                toolbar_location=None)"
   ],
   "metadata": {
    "collapsed": false,
    "pycharm": {
     "name": "#%% Make plots for the examples of pathways with isolated nodes\n"
    }
   }
  },
  {
   "cell_type": "code",
   "execution_count": null,
   "outputs": [],
   "source": [],
   "metadata": {
    "collapsed": false,
    "pycharm": {
     "name": "#%%\n"
    }
   }
  }
 ],
 "metadata": {
  "kernelspec": {
   "display_name": "Python 3",
   "language": "python",
   "name": "python3"
  },
  "language_info": {
   "codemirror_mode": {
    "name": "ipython",
    "version": 2
   },
   "file_extension": ".py",
   "mimetype": "text/x-python",
   "name": "python",
   "nbconvert_exporter": "python",
   "pygments_lexer": "ipython2",
   "version": "2.7.6"
  }
 },
 "nbformat": 4,
 "nbformat_minor": 0
}