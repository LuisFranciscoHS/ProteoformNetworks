{
 "cells": [
  {
   "cell_type": "markdown",
   "source": [
    " ## Set up"
   ],
   "metadata": {
    "collapsed": false,
    "pycharm": {
     "name": "#%% md\n"
    }
   }
  },
  {
   "cell_type": "code",
   "execution_count": 2,
   "outputs": [
    {
     "name": "stdout",
     "output_type": "stream",
     "text": [
      "Working directory: c:\\git\\pathwayanalysisplatform\\proteoformnetworks\n"
     ]
    }
   ],
   "source": [
    "from lib.networks import get_multiindex\n",
    "import networkx as nx\n",
    "import pandas as pd\n",
    "import seaborn as sns\n",
    "\n",
    "import config\n",
    "from config import LEVELS, sm, with_sm, no_sm, with_unique_sm, GRAPHS_PATH\n",
    "from lib.graph_database_access import get_participants, get_components, get_pathways\n",
    "from lib.networks import get_multiindex\n",
    "from lib.networks import get_or_create_interaction_network, print_interactome_details, get_sizes,\n",
    "    create_pathway_interaction_networks\n",
    "\n",
    "%load_ext autoreload\n",
    "%autoreload 2\n",
    "%reload_ext autoreload\n",
    "\n",
    "config.set_root_wd()"
   ],
   "metadata": {
    "collapsed": false,
    "pycharm": {
     "name": "#%% Set up configuration\n"
    }
   }
  },
  {
   "cell_type": "code",
   "execution_count": 3,
   "outputs": [],
   "source": [
    "# Genes:\n",
    "# Pathway, Reaction, Entity, Name, Type, Id, Database, Role\n",
    "\n",
    "# Proteins:\n",
    "# Pathway, Reaction, Entity, Name, Type, Id, PrevId, Database, Role\n",
    "\n",
    "# Proteoforms:\n",
    "# Pathway, Reaction, Entity, Name, Type, Id, PrevId, Database, Role\n",
    "\n",
    "# Small molecules:\n",
    "# Pathway, Reaction, Entity, Name, Type, Id, Database, Role\n",
    "\n",
    "participant_records = { l: get_participants(l, GRAPHS_PATH) for l in LEVELS}\n",
    "participant_records[sm] = get_participants(sm, GRAPHS_PATH)\n",
    "\n",
    "for level in [*LEVELS, sm]:\n",
    "    participant_records"
   ],
   "metadata": {
    "collapsed": false,
    "pycharm": {
     "name": "#%% Get all reaction participants in Reactome\n"
    }
   }
  },
  {
   "cell_type": "code",
   "execution_count": 4,
   "outputs": [
    {
     "data": {
      "text/plain": "{'genes':         Unnamed: 0        Complex         Entity          Name  \\\n 0                0  R-HSA-1006173   R-HSA-976788           CFH   \n 1                1  R-HSA-1008206  R-HSA-1008221          NFE2   \n 2                2  R-HSA-1008206  R-HSA-1008261          MAFF   \n 3                3  R-HSA-1008206  R-HSA-1008212          MAFG   \n 4                4  R-HSA-1008206  R-HSA-1008242          MAFK   \n ...            ...            ...            ...           ...   \n 108399      108399   R-NUL-997399   R-HSA-879433         S100B   \n 108400      108400   R-NUL-997399   R-HSA-976740  APP(672-711)   \n 108401      108401   R-NUL-997399   R-HSA-879382         HMGB1   \n 108402      108402   R-NUL-997399  R-HSA-2457833  SAA1(19-122)   \n 108403      108403   R-NUL-997399   R-HSA-197639          AGER   \n \n                                  Type     Id  \n 0       EntityWithAccessionedSequence    CFH  \n 1       EntityWithAccessionedSequence   NFE2  \n 2       EntityWithAccessionedSequence   MAFF  \n 3       EntityWithAccessionedSequence   MAFG  \n 4       EntityWithAccessionedSequence   MAFK  \n ...                               ...    ...  \n 108399  EntityWithAccessionedSequence  S100B  \n 108400  EntityWithAccessionedSequence    APP  \n 108401  EntityWithAccessionedSequence  HMGB1  \n 108402  EntityWithAccessionedSequence   SAA1  \n 108403  EntityWithAccessionedSequence   AGER  \n \n [108404 rows x 6 columns],\n 'proteins':         Unnamed: 0        Complex         Entity          Name  \\\n 0                0  R-HSA-1006173   R-HSA-976788           CFH   \n 1                1  R-HSA-1008206  R-HSA-1008221          NFE2   \n 2                2  R-HSA-1008206  R-HSA-1008261          MAFF   \n 3                3  R-HSA-1008206  R-HSA-1008212          MAFG   \n 4                4  R-HSA-1008206  R-HSA-1008242          MAFK   \n ...            ...            ...            ...           ...   \n 108399      108399   R-NUL-997399   R-HSA-879433         S100B   \n 108400      108400   R-NUL-997399   R-HSA-976740  APP(672-711)   \n 108401      108401   R-NUL-997399   R-HSA-879382         HMGB1   \n 108402      108402   R-NUL-997399  R-HSA-2457833  SAA1(19-122)   \n 108403      108403   R-NUL-997399   R-HSA-197639          AGER   \n \n                                  Type      Id PrevId  \n 0       EntityWithAccessionedSequence  P08603    CFH  \n 1       EntityWithAccessionedSequence  Q16621   NFE2  \n 2       EntityWithAccessionedSequence  Q9ULX9   MAFF  \n 3       EntityWithAccessionedSequence  O15525   MAFG  \n 4       EntityWithAccessionedSequence  O60675   MAFK  \n ...                               ...     ...    ...  \n 108399  EntityWithAccessionedSequence  P04271  S100B  \n 108400  EntityWithAccessionedSequence  P05067    APP  \n 108401  EntityWithAccessionedSequence  P09429  HMGB1  \n 108402  EntityWithAccessionedSequence  P0DJI8   SAA1  \n 108403  EntityWithAccessionedSequence  Q15109   AGER  \n \n [108404 rows x 7 columns],\n 'proteoforms':         Unnamed: 0        Complex         Entity          Name  \\\n 0                0  R-HSA-1006173   R-HSA-976788           CFH   \n 1                1  R-HSA-1008206  R-HSA-1008221          NFE2   \n 2                2  R-HSA-1008206  R-HSA-1008261          MAFF   \n 3                3  R-HSA-1008206  R-HSA-1008212          MAFG   \n 4                4  R-HSA-1008206  R-HSA-1008242          MAFK   \n ...            ...            ...            ...           ...   \n 108399      108399   R-NUL-997399   R-HSA-879433         S100B   \n 108400      108400   R-NUL-997399   R-HSA-976740  APP(672-711)   \n 108401      108401   R-NUL-997399   R-HSA-879382         HMGB1   \n 108402      108402   R-NUL-997399  R-HSA-2457833  SAA1(19-122)   \n 108403      108403   R-NUL-997399   R-HSA-197639          AGER   \n \n                                  Type       Id  PrevId  \n 0       EntityWithAccessionedSequence  P08603;  P08603  \n 1       EntityWithAccessionedSequence  Q16621;  Q16621  \n 2       EntityWithAccessionedSequence  Q9ULX9;  Q9ULX9  \n 3       EntityWithAccessionedSequence  O15525;  O15525  \n 4       EntityWithAccessionedSequence  O60675;  O60675  \n ...                               ...      ...     ...  \n 108399  EntityWithAccessionedSequence  P04271;  P04271  \n 108400  EntityWithAccessionedSequence  P05067;  P05067  \n 108401  EntityWithAccessionedSequence  P09429;  P09429  \n 108402  EntityWithAccessionedSequence  P0DJI8;  P0DJI8  \n 108403  EntityWithAccessionedSequence  Q15109;  Q15109  \n \n [108404 rows x 7 columns],\n 'sm':       Unnamed: 0        Complex         Entity  \\\n 0              0  R-HSA-1006173  R-ALL-1006168   \n 1              1  R-HSA-1006173  R-ALL-1006140   \n 2              2  R-HSA-1013011   R-ALL-352003   \n 3              3  R-HSA-1013017   R-ALL-352003   \n 4              4   R-HSA-109266   R-ALL-109265   \n ...          ...            ...            ...   \n 5757        5757  R-NUL-9619245    R-ALL-74016   \n 5758        5758  R-NUL-9619393    R-ALL-74016   \n 5759        5759   R-NUL-997399   R-ALL-879484   \n 5760        5760   R-NUL-997399   R-ALL-938699   \n 5761        5761   R-NUL-997399   R-ALL-879473   \n \n                                       Name          Type  \\\n 0                              Sialic acid  SimpleEntity   \n 1                                 Heparins  SimpleEntity   \n 2                                     GABA  SimpleEntity   \n 3                                     GABA  SimpleEntity   \n 4                                     Zn2+  SimpleEntity   \n ...                                    ...           ...   \n 5757                                  Ca2+  SimpleEntity   \n 5758                                  Ca2+  SimpleEntity   \n 5759                               Peptide  SimpleEntity   \n 5760  N-epsilon-(1-(1-carboxy)ethyl)lysine  SimpleEntity   \n 5761                                 NECML  SimpleEntity   \n \n                                            Id  \\\n 0                              sm_Sialic_acid   \n 1                                 sm_Heparins   \n 2                                     sm_GABA   \n 3                                     sm_GABA   \n 4                                     sm_Zn2+   \n ...                                       ...   \n 5757                                  sm_Ca2+   \n 5758                                  sm_Ca2+   \n 5759                               sm_Peptide   \n 5760  sm_N-epsilon-(1-(1-carboxy)ethyl)lysine   \n 5761                                 sm_NECML   \n \n                                                UniqueId  \n 0                          sm_R-HSA-1006173_Sialic_acid  \n 1                             sm_R-HSA-1006173_Heparins  \n 2                                 sm_R-HSA-1013011_GABA  \n 3                                 sm_R-HSA-1013017_GABA  \n 4                                  sm_R-HSA-109266_Zn2+  \n ...                                                 ...  \n 5757                              sm_R-NUL-9619245_Ca2+  \n 5758                              sm_R-NUL-9619393_Ca2+  \n 5759                            sm_R-NUL-997399_Peptide  \n 5760  sm_R-NUL-997399_N-epsilon-(1-(1-carboxy)ethyl)...  \n 5761                              sm_R-NUL-997399_NECML  \n \n [5762 rows x 7 columns]}"
     },
     "execution_count": 4,
     "metadata": {},
     "output_type": "execute_result"
    }
   ],
   "source": [
    "# Genes:\n",
    "# Complex, Entity, Name, Type, Id\n",
    "\n",
    "# Proteins:\n",
    "# Complex, Entity, Name, Type, Id, PrevId\n",
    "\n",
    "# Proteoforms:\n",
    "# Complex, Entity, Name, Type, Id, PrevId\n",
    "\n",
    "# Small molecules:\n",
    "# Complex, Entity, Name, Type, Id\n",
    "\n",
    "components_records = { l: get_components(l, GRAPHS_PATH) for l in LEVELS}\n",
    "components_records[sm] = get_components(sm, GRAPHS_PATH)\n",
    "\n",
    "components_records"
   ],
   "metadata": {
    "collapsed": false,
    "pycharm": {
     "name": "#%% Get complex components in Reactome\n"
    }
   }
  },
  {
   "cell_type": "code",
   "execution_count": 5,
   "outputs": [
    {
     "name": "stdout",
     "output_type": "stream",
     "text": [
      "Graph for genes \n",
      "Graph edges: 453137\n",
      "Graph nodes: 10968\n",
      "Graph genes nodes: 10968\n",
      "Graph small molecule nodes: 0\n",
      "\n",
      "***********************\n",
      "\n",
      "\n",
      "Graph for proteins \n",
      "Graph edges: 462430\n",
      "Graph nodes: 11066\n",
      "Graph proteins nodes: 11066\n",
      "Graph small molecule nodes: 0\n",
      "\n",
      "***********************\n",
      "\n",
      "\n",
      "Graph for proteoforms \n",
      "Graph edges: 677057\n",
      "Graph nodes: 14295\n",
      "Graph proteoforms nodes: 14295\n",
      "Graph small molecule nodes: 0\n",
      "\n",
      "***********************\n",
      "\n",
      "\n"
     ]
    }
   ],
   "source": [
    "interactomes_no_sm = { l: get_or_create_interaction_network(l, no_sm, participant_records, components_records, GRAPHS_PATH) for l in LEVELS}\n",
    "for level, interactome in interactomes_no_sm.items():\n",
    "     print_interactome_details(interactome)"
   ],
   "metadata": {
    "collapsed": false,
    "pycharm": {
     "name": "#%% Create interactomes without small molecules for Genes, Proteins and Proteoforms\n"
    }
   }
  },
  {
   "cell_type": "code",
   "execution_count": 6,
   "outputs": [
    {
     "name": "stdout",
     "output_type": "stream",
     "text": [
      "Graph for genes \n",
      "Graph edges: 528969\n",
      "Graph nodes: 12933\n",
      "Graph genes nodes: 10968\n",
      "Graph small molecule nodes: 1965\n",
      "\n",
      "***********************\n",
      "\n",
      "\n",
      "Graph for proteins \n",
      "Graph edges: 538874\n",
      "Graph nodes: 13031\n",
      "Graph proteins nodes: 11066\n",
      "Graph small molecule nodes: 1965\n",
      "\n",
      "***********************\n",
      "\n",
      "\n",
      "Graph for proteoforms \n",
      "Graph edges: 759198\n",
      "Graph nodes: 16260\n",
      "Graph proteoforms nodes: 14295\n",
      "Graph small molecule nodes: 1965\n",
      "\n",
      "***********************\n",
      "\n",
      "\n"
     ]
    }
   ],
   "source": [
    "interactomes_with_sm = { l: get_or_create_interaction_network(l, with_sm, participant_records, components_records, GRAPHS_PATH) for l in LEVELS}\n",
    "for level, interactome in interactomes_with_sm.items():\n",
    "     print_interactome_details(interactome)"
   ],
   "metadata": {
    "collapsed": false,
    "pycharm": {
     "name": "#%% Create interactomes with generic small molecules for Genes, Proteins and Proteoforms\n"
    }
   }
  },
  {
   "cell_type": "code",
   "execution_count": 7,
   "outputs": [
    {
     "name": "stdout",
     "output_type": "stream",
     "text": [
      "Graph for genes \n",
      "Graph edges: 839401\n",
      "Graph nodes: 39078\n",
      "Graph genes nodes: 10968\n",
      "Graph small molecule nodes: 28110\n",
      "\n",
      "***********************\n",
      "\n",
      "\n",
      "Graph for proteins \n",
      "Graph edges: 853568\n",
      "Graph nodes: 39176\n",
      "Graph proteins nodes: 11066\n",
      "Graph small molecule nodes: 28110\n",
      "\n",
      "***********************\n",
      "\n",
      "\n",
      "Graph for proteoforms \n",
      "Graph edges: 1077886\n",
      "Graph nodes: 42405\n",
      "Graph proteoforms nodes: 14295\n",
      "Graph small molecule nodes: 28110\n",
      "\n",
      "***********************\n",
      "\n",
      "\n"
     ]
    }
   ],
   "source": [
    "interactomes_with_unique_sm = { l: get_or_create_interaction_network(l, with_unique_sm, participant_records, components_records, GRAPHS_PATH) for l in LEVELS}\n",
    "\n",
    "for level, interactome in interactomes_with_unique_sm.items():\n",
    "     print_interactome_details(interactome)\n"
   ],
   "metadata": {
    "collapsed": false,
    "pycharm": {
     "name": "#%% Create interactomes with reaction-unique and complex-unique small molecules  for Genes, Proteins and Proteoforms\n"
    }
   }
  },
  {
   "cell_type": "code",
   "execution_count": 8,
   "outputs": [
    {
     "data": {
      "text/plain": "MultiIndex([(            'Not Included',       'genes'),\n            (            'Not Included',    'proteins'),\n            (            'Not Included', 'proteoforms'),\n            (                'Included',       'genes'),\n            (                'Included',    'proteins'),\n            (                'Included', 'proteoforms'),\n            ('Reaction-Unique Included',       'genes'),\n            ('Reaction-Unique Included',    'proteins'),\n            ('Reaction-Unique Included', 'proteoforms')],\n           names=['Small Molecules', 'Entity Level'])"
     },
     "execution_count": 8,
     "metadata": {},
     "output_type": "execute_result"
    }
   ],
   "source": [
    "index = get_multiindex()\n",
    "index"
   ],
   "metadata": {
    "collapsed": false,
    "pycharm": {
     "name": "#%% Get the multiindex for the tables\n"
    }
   }
  },
  {
   "cell_type": "code",
   "execution_count": 9,
   "outputs": [],
   "source": [
    "nums_no_sm = get_sizes(interactomes_no_sm)\n",
    "nums_with_sm = get_sizes(interactomes_with_sm)\n",
    "nums_with_unique_sm = get_sizes(interactomes_with_unique_sm)"
   ],
   "metadata": {
    "collapsed": false,
    "pycharm": {
     "name": "#%% Calculate size of the full networks\n"
    }
   }
  },
  {
   "cell_type": "code",
   "execution_count": 10,
   "outputs": [
    {
     "data": {
      "text/plain": "Sizes                                  Interactions  Accessioned Entities  \\\nSmall Molecules          Entity Level                                       \nNot Included             genes               453137                 10968   \n                         proteins            462430                 11066   \n                         proteoforms         677057                 14295   \nIncluded                 genes               528969                 10968   \n                         proteins            538874                 11066   \n                         proteoforms         759198                 14295   \nReaction-Unique Included genes               839401                 10968   \n                         proteins            853568                 11066   \n                         proteoforms        1077886                 14295   \n\nSizes                                  Small Molecules  \nSmall Molecules          Entity Level                   \nNot Included             genes                       0  \n                         proteins                    0  \n                         proteoforms                 0  \nIncluded                 genes                    1965  \n                         proteins                 1965  \n                         proteoforms              1965  \nReaction-Unique Included genes                   28110  \n                         proteins                28110  \n                         proteoforms             28110  ",
      "text/html": "<div>\n<style scoped>\n    .dataframe tbody tr th:only-of-type {\n        vertical-align: middle;\n    }\n\n    .dataframe tbody tr th {\n        vertical-align: top;\n    }\n\n    .dataframe thead th {\n        text-align: right;\n    }\n</style>\n<table border=\"1\" class=\"dataframe\">\n  <thead>\n    <tr style=\"text-align: right;\">\n      <th></th>\n      <th>Sizes</th>\n      <th>Interactions</th>\n      <th>Accessioned Entities</th>\n      <th>Small Molecules</th>\n    </tr>\n    <tr>\n      <th>Small Molecules</th>\n      <th>Entity Level</th>\n      <th></th>\n      <th></th>\n      <th></th>\n    </tr>\n  </thead>\n  <tbody>\n    <tr>\n      <th rowspan=\"3\" valign=\"top\">Not Included</th>\n      <th>genes</th>\n      <td>453137</td>\n      <td>10968</td>\n      <td>0</td>\n    </tr>\n    <tr>\n      <th>proteins</th>\n      <td>462430</td>\n      <td>11066</td>\n      <td>0</td>\n    </tr>\n    <tr>\n      <th>proteoforms</th>\n      <td>677057</td>\n      <td>14295</td>\n      <td>0</td>\n    </tr>\n    <tr>\n      <th rowspan=\"3\" valign=\"top\">Included</th>\n      <th>genes</th>\n      <td>528969</td>\n      <td>10968</td>\n      <td>1965</td>\n    </tr>\n    <tr>\n      <th>proteins</th>\n      <td>538874</td>\n      <td>11066</td>\n      <td>1965</td>\n    </tr>\n    <tr>\n      <th>proteoforms</th>\n      <td>759198</td>\n      <td>14295</td>\n      <td>1965</td>\n    </tr>\n    <tr>\n      <th rowspan=\"3\" valign=\"top\">Reaction-Unique Included</th>\n      <th>genes</th>\n      <td>839401</td>\n      <td>10968</td>\n      <td>28110</td>\n    </tr>\n    <tr>\n      <th>proteins</th>\n      <td>853568</td>\n      <td>11066</td>\n      <td>28110</td>\n    </tr>\n    <tr>\n      <th>proteoforms</th>\n      <td>1077886</td>\n      <td>14295</td>\n      <td>28110</td>\n    </tr>\n  </tbody>\n</table>\n</div>"
     },
     "execution_count": 10,
     "metadata": {},
     "output_type": "execute_result"
    }
   ],
   "source": [
    "df_sizes = pd.DataFrame({\n",
    "    \"Interactions\": [*nums_no_sm[0], *nums_with_sm[0], *nums_with_unique_sm[0]],\n",
    "    \"Accessioned Entities\": [*nums_no_sm[1], *nums_with_sm[1], *nums_with_unique_sm[1]],\n",
    "    \"Small Molecules\": [*nums_no_sm[2], *nums_with_sm[2], *nums_with_unique_sm[2]]\n",
    "}, index=index)\n",
    "df_sizes.columns.name = \"Sizes\"\n",
    "df_sizes"
   ],
   "metadata": {
    "collapsed": false,
    "pycharm": {
     "name": "#%% Create dataframe with Sizes of Interactomes\n"
    }
   }
  },
  {
   "cell_type": "code",
   "execution_count": 11,
   "outputs": [],
   "source": [
    "# Create a list with the number of genes, proteins, proteoforms, small molecules\n",
    "num_nodes = [*df_sizes.loc[['Not Included']][\"Accessioned Entities\"], df_sizes.loc[['Included']][\"Small Molecules\"][0]]\n",
    "\n",
    "# Create list with all levels:\n",
    "node_types = [*LEVELS, \"small molecules\"]\n",
    "\n",
    "# Create a list with the number of interactions without the small molecules\n",
    "num_interactions_no_sm = df_sizes.loc[['Not Included']][\"Interactions\"]\n",
    "\n",
    "num_interactions_with_sm = df_sizes.loc[['Included']][\"Interactions\"]\n",
    "\n",
    "maxy = max([*num_interactions_with_sm, *num_interactions_no_sm])\n",
    "\n",
    "maxy = 800000"
   ],
   "metadata": {
    "collapsed": false,
    "pycharm": {
     "name": "#%%\n"
    }
   }
  },
  {
   "cell_type": "code",
   "execution_count": 12,
   "outputs": [
    {
     "name": "stderr",
     "output_type": "stream",
     "text": [
      "<ipython-input-12-aa9fbb78aa11>:21: UserWarning: FixedFormatter should only be used together with FixedLocator\n",
      "  plot2.set_xticklabels(LEVELS, rotation=45)\n",
      "<ipython-input-12-aa9fbb78aa11>:27: UserWarning: FixedFormatter should only be used together with FixedLocator\n",
      "  plot3.set_xticklabels(LEVELS, rotation=45)\n"
     ]
    },
    {
     "data": {
      "text/plain": "<Figure size 432x288 with 3 Axes>",
      "image/png": "[encoded data removed]"
     },
     "metadata": {
      "needs_background": "light"
     },
     "output_type": "display_data"
    }
   ],
   "source": [
    "import matplotlib.pyplot as plt\n",
    "import numpy as np\n",
    "from config import COLORS_BORDER\n",
    "\n",
    "figure, axis = plt.subplots(2, 2)\n",
    "# Placing the plots in the plane\n",
    "plot1 = plt.subplot2grid((2, 2), (0, 0), rowspan=1, colspan=2)\n",
    "plot2 = plt.subplot2grid((2, 2), (1, 0), rowspan=1, colspan=1)\n",
    "plot3 = plt.subplot2grid((2, 2), (1, 1), rowspan=1, colspan=1)\n",
    "\n",
    "# Plot number of nodes\n",
    "plot1.bar(node_types, num_nodes, color=config.COLORS_FILL, edgecolor=COLORS_BORDER)\n",
    "plot1.set_title('A) Number of Entities')\n",
    "\n",
    "plt.xticks(rotation=90)\n",
    "\n",
    "# Plot number of interactions without small molecules\n",
    "plot2.bar(LEVELS, num_interactions_no_sm, color=config.COLORS_FILL, edgecolor=COLORS_BORDER)\n",
    "plot2.set_title('B) Interactions without S. M.')\n",
    "plot2.set_ylim([0, maxy])\n",
    "plot2.set_xticklabels(LEVELS, rotation=45)\n",
    "\n",
    "# Plot number of interactions with small molecules\n",
    "plot3.bar(LEVELS, num_interactions_with_sm, color=config.COLORS_FILL, edgecolor=COLORS_BORDER)\n",
    "plot3.set_title('C) Interactions with S. M.')\n",
    "plot3.set_ylim([0, maxy])\n",
    "plot3.set_xticklabels(LEVELS, rotation=45)\n",
    "\n",
    "# Packing all the plots and displaying them\n",
    "plt.tight_layout()\n",
    "plt.show()\n",
    "\n",
    "figure.savefig('figures/figure_4.png')\n",
    "plt.close()"
   ],
   "metadata": {
    "collapsed": false,
    "pycharm": {
     "name": "#%% Plot sizes of all Interactomes\n"
    }
   }
  },
  {
   "cell_type": "code",
   "execution_count": 13,
   "outputs": [
    {
     "data": {
      "text/plain": "Small Molecules           Entity Level\nNot Included              genes           [1241, 1218, 1057, 1057, 902, 892, 586, 578, 5...\n                          proteins        [1242, 1219, 1058, 1058, 904, 894, 594, 578, 5...\n                          proteoforms     [1469, 1444, 1279, 1279, 915, 898, 627, 619, 6...\nIncluded                  genes           [3431, 3270, 2678, 2093, 2089, 2084, 1372, 129...\n                          proteins        [3452, 3292, 2767, 2181, 2169, 2104, 1379, 129...\n                          proteoforms     [4085, 3963, 3061, 2412, 2299, 2221, 1520, 149...\nReaction-Unique Included  genes           [1920, 1890, 1809, 1769, 1559, 1559, 1498, 148...\n                          proteins        [1922, 1892, 1810, 1770, 1560, 1560, 1500, 148...\n                          proteoforms     [2029, 1987, 1933, 1896, 1773, 1773, 1494, 148...\ndtype: object"
     },
     "execution_count": 13,
     "metadata": {},
     "output_type": "execute_result"
    }
   ],
   "source": [
    "interactomes = [*interactomes_no_sm.values(), *interactomes_with_sm.values(), *interactomes_with_unique_sm.values()]\n",
    "degree_sequences = pd.Series([sorted([d for n, d in interactome.degree()], reverse=True) for interactome in interactomes], index=index)\n",
    "degree_sequences"
   ],
   "metadata": {
    "collapsed": false,
    "pycharm": {
     "name": "#%% Calculate average, min and max degree for all networks\n"
    }
   }
  },
  {
   "cell_type": "code",
   "execution_count": 14,
   "outputs": [
    {
     "data": {
      "text/plain": "        Node  Degree\n5483   GPR35       0\n4091    AOC3       0\n4092    BPHL       0\n4093    CMBL       0\n4097    NQO2       0\n...      ...     ...\n1041    GNB1     902\n62       UBB    1057\n61       UBC    1057\n63     UBA52    1218\n64    RPS27A    1241\n\n[10968 rows x 2 columns]",
      "text/html": "<div>\n<style scoped>\n    .dataframe tbody tr th:only-of-type {\n        vertical-align: middle;\n    }\n\n    .dataframe tbody tr th {\n        vertical-align: top;\n    }\n\n    .dataframe thead th {\n        text-align: right;\n    }\n</style>\n<table border=\"1\" class=\"dataframe\">\n  <thead>\n    <tr style=\"text-align: right;\">\n      <th></th>\n      <th>Node</th>\n      <th>Degree</th>\n    </tr>\n  </thead>\n  <tbody>\n    <tr>\n      <th>5483</th>\n      <td>GPR35</td>\n      <td>0</td>\n    </tr>\n    <tr>\n      <th>4091</th>\n      <td>AOC3</td>\n      <td>0</td>\n    </tr>\n    <tr>\n      <th>4092</th>\n      <td>BPHL</td>\n      <td>0</td>\n    </tr>\n    <tr>\n      <th>4093</th>\n      <td>CMBL</td>\n      <td>0</td>\n    </tr>\n    <tr>\n      <th>4097</th>\n      <td>NQO2</td>\n      <td>0</td>\n    </tr>\n    <tr>\n      <th>...</th>\n      <td>...</td>\n      <td>...</td>\n    </tr>\n    <tr>\n      <th>1041</th>\n      <td>GNB1</td>\n      <td>902</td>\n    </tr>\n    <tr>\n      <th>62</th>\n      <td>UBB</td>\n      <td>1057</td>\n    </tr>\n    <tr>\n      <th>61</th>\n      <td>UBC</td>\n      <td>1057</td>\n    </tr>\n    <tr>\n      <th>63</th>\n      <td>UBA52</td>\n      <td>1218</td>\n    </tr>\n    <tr>\n      <th>64</th>\n      <td>RPS27A</td>\n      <td>1241</td>\n    </tr>\n  </tbody>\n</table>\n<p>10968 rows × 2 columns</p>\n</div>"
     },
     "execution_count": 14,
     "metadata": {},
     "output_type": "execute_result"
    }
   ],
   "source": [
    "i = interactomes_no_sm[\"genes\"]\n",
    "df = pd.DataFrame(data=list(i.degree()), columns =['Node', 'Degree'])\n",
    "df.sort_values(by=['Degree'], inplace=True)\n",
    "df"
   ],
   "metadata": {
    "collapsed": false,
    "pycharm": {
     "name": "#%%\n"
    }
   }
  },
  {
   "cell_type": "code",
   "execution_count": 15,
   "outputs": [
    {
     "name": "stdout",
     "output_type": "stream",
     "text": [
      "(Genes, No SM) 0\n",
      "Neighbours: []\n",
      "(Genes, With SM) 1\n",
      "Neighbours: ['sm_Kynurenic_acid']\n",
      "(Genes, With Unique SM) 2\n",
      "Neighbours: ['sm_R-HSA-6805205_Kynurenic_acid', 'sm_R-HSA-6805208_Kynurenic_acid']\n"
     ]
    }
   ],
   "source": [
    "print(f\"(Genes, No SM) {interactomes_no_sm['genes'].degree['GPR35']}\")\n",
    "print(f\"Neighbours: {[n for n in interactomes_no_sm['genes'].neighbors('GPR35')]}\")\n",
    "print(f\"(Genes, With SM) {interactomes_with_sm['genes'].degree['GPR35']}\")\n",
    "print(f\"Neighbours: {[n for n in interactomes_with_sm['genes'].neighbors('GPR35')]}\")\n",
    "print(f\"(Genes, With Unique SM) {interactomes_with_unique_sm['genes'].degree['GPR35']}\")\n",
    "print(f\"Neighbours: {[n for n in interactomes_with_unique_sm['genes'].neighbors('GPR35')]}\")\n"
   ],
   "metadata": {
    "collapsed": false,
    "pycharm": {
     "name": "#%% Examples of disconnected nodes\n"
    }
   }
  },
  {
   "cell_type": "code",
   "execution_count": 16,
   "outputs": [
    {
     "data": {
      "text/plain": "                                       Min   Max   Avg\nSmall Molecules          Entity Level                 \nNot Included             genes           0  1241 82.63\n                         proteins        0  1242 83.58\n                         proteoforms     0  1469 94.73\nIncluded                 genes           0  3431 81.80\n                         proteins        0  3452 82.71\n                         proteoforms     0  4085 93.38\nReaction-Unique Included genes           0  1920 42.96\n                         proteins        0  1922 43.58\n                         proteoforms     0  2029 50.84",
      "text/html": "<div>\n<style scoped>\n    .dataframe tbody tr th:only-of-type {\n        vertical-align: middle;\n    }\n\n    .dataframe tbody tr th {\n        vertical-align: top;\n    }\n\n    .dataframe thead th {\n        text-align: right;\n    }\n</style>\n<table border=\"1\" class=\"dataframe\">\n  <thead>\n    <tr style=\"text-align: right;\">\n      <th></th>\n      <th></th>\n      <th>Min</th>\n      <th>Max</th>\n      <th>Avg</th>\n    </tr>\n    <tr>\n      <th>Small Molecules</th>\n      <th>Entity Level</th>\n      <th></th>\n      <th></th>\n      <th></th>\n    </tr>\n  </thead>\n  <tbody>\n    <tr>\n      <th rowspan=\"3\" valign=\"top\">Not Included</th>\n      <th>genes</th>\n      <td>0</td>\n      <td>1241</td>\n      <td>82.63</td>\n    </tr>\n    <tr>\n      <th>proteins</th>\n      <td>0</td>\n      <td>1242</td>\n      <td>83.58</td>\n    </tr>\n    <tr>\n      <th>proteoforms</th>\n      <td>0</td>\n      <td>1469</td>\n      <td>94.73</td>\n    </tr>\n    <tr>\n      <th rowspan=\"3\" valign=\"top\">Included</th>\n      <th>genes</th>\n      <td>0</td>\n      <td>3431</td>\n      <td>81.80</td>\n    </tr>\n    <tr>\n      <th>proteins</th>\n      <td>0</td>\n      <td>3452</td>\n      <td>82.71</td>\n    </tr>\n    <tr>\n      <th>proteoforms</th>\n      <td>0</td>\n      <td>4085</td>\n      <td>93.38</td>\n    </tr>\n    <tr>\n      <th rowspan=\"3\" valign=\"top\">Reaction-Unique Included</th>\n      <th>genes</th>\n      <td>0</td>\n      <td>1920</td>\n      <td>42.96</td>\n    </tr>\n    <tr>\n      <th>proteins</th>\n      <td>0</td>\n      <td>1922</td>\n      <td>43.58</td>\n    </tr>\n    <tr>\n      <th>proteoforms</th>\n      <td>0</td>\n      <td>2029</td>\n      <td>50.84</td>\n    </tr>\n  </tbody>\n</table>\n</div>"
     },
     "execution_count": 16,
     "metadata": {},
     "output_type": "execute_result"
    }
   ],
   "source": [
    "mins = pd.Series([min(degree_sequence) for degree_sequence in degree_sequences], index=index)\n",
    "maxs = pd.Series([max(degree_sequence) for degree_sequence in degree_sequences], index=index)\n",
    "avgs = pd.Series([sum(degree_sequence)/len(degree_sequence) for degree_sequence in degree_sequences], index=index)\n",
    "\n",
    "df_degrees = pd.DataFrame({\"Min\": mins, \"Max\": maxs, \"Avg\": avgs}, index=index)\n",
    "df_degrees\n"
   ],
   "metadata": {
    "collapsed": false,
    "pycharm": {
     "name": "#%% Create dataframe with Degree values of Interactomes\n"
    }
   }
  },
  {
   "cell_type": "code",
   "execution_count": 17,
   "outputs": [
    {
     "data": {
      "text/plain": "                 Small Molecules Entity Level  Degree\n0                   Not Included        genes    3.09\n1                   Not Included        genes    3.09\n2                   Not Included        genes    3.02\n3                   Not Included        genes    3.02\n4                   Not Included        genes    2.96\n...                          ...          ...     ...\n199207  Reaction-Unique Included  proteoforms    0.00\n199208  Reaction-Unique Included  proteoforms    0.00\n199209  Reaction-Unique Included  proteoforms    0.00\n199210  Reaction-Unique Included  proteoforms    0.00\n199211  Reaction-Unique Included  proteoforms    0.00\n\n[199212 rows x 3 columns]",
      "text/html": "<div>\n<style scoped>\n    .dataframe tbody tr th:only-of-type {\n        vertical-align: middle;\n    }\n\n    .dataframe tbody tr th {\n        vertical-align: top;\n    }\n\n    .dataframe thead th {\n        text-align: right;\n    }\n</style>\n<table border=\"1\" class=\"dataframe\">\n  <thead>\n    <tr style=\"text-align: right;\">\n      <th></th>\n      <th>Small Molecules</th>\n      <th>Entity Level</th>\n      <th>Degree</th>\n    </tr>\n  </thead>\n  <tbody>\n    <tr>\n      <th>0</th>\n      <td>Not Included</td>\n      <td>genes</td>\n      <td>3.09</td>\n    </tr>\n    <tr>\n      <th>1</th>\n      <td>Not Included</td>\n      <td>genes</td>\n      <td>3.09</td>\n    </tr>\n    <tr>\n      <th>2</th>\n      <td>Not Included</td>\n      <td>genes</td>\n      <td>3.02</td>\n    </tr>\n    <tr>\n      <th>3</th>\n      <td>Not Included</td>\n      <td>genes</td>\n      <td>3.02</td>\n    </tr>\n    <tr>\n      <th>4</th>\n      <td>Not Included</td>\n      <td>genes</td>\n      <td>2.96</td>\n    </tr>\n    <tr>\n      <th>...</th>\n      <td>...</td>\n      <td>...</td>\n      <td>...</td>\n    </tr>\n    <tr>\n      <th>199207</th>\n      <td>Reaction-Unique Included</td>\n      <td>proteoforms</td>\n      <td>0.00</td>\n    </tr>\n    <tr>\n      <th>199208</th>\n      <td>Reaction-Unique Included</td>\n      <td>proteoforms</td>\n      <td>0.00</td>\n    </tr>\n    <tr>\n      <th>199209</th>\n      <td>Reaction-Unique Included</td>\n      <td>proteoforms</td>\n      <td>0.00</td>\n    </tr>\n    <tr>\n      <th>199210</th>\n      <td>Reaction-Unique Included</td>\n      <td>proteoforms</td>\n      <td>0.00</td>\n    </tr>\n    <tr>\n      <th>199211</th>\n      <td>Reaction-Unique Included</td>\n      <td>proteoforms</td>\n      <td>0.00</td>\n    </tr>\n  </tbody>\n</table>\n<p>199212 rows × 3 columns</p>\n</div>"
     },
     "execution_count": 17,
     "metadata": {},
     "output_type": "execute_result"
    }
   ],
   "source": [
    "df_seq = pd.DataFrame({\"Sequence\": degree_sequences})\n",
    "df_seq.reset_index(inplace=True)\n",
    "\n",
    "lst_col = 'Sequence'\n",
    "\n",
    "df_seq = pd.DataFrame({\n",
    "      col:np.repeat(df_seq[col].values, df_seq[lst_col].str.len())\n",
    "      for col in df_seq.columns.drop(lst_col)}\n",
    "    ).assign(**{lst_col:np.concatenate(df_seq[lst_col].values)})[df_seq.columns]\n",
    "\n",
    "df_seq = df_seq.rename(columns={'Sequence': 'Degree'})\n",
    "df_seq['Degree'] = df_seq['Degree'].apply(lambda x: 0 if x == 0 else np.log10(x))\n",
    "\n",
    "df_seq"
   ],
   "metadata": {
    "collapsed": false,
    "pycharm": {
     "name": "#%% Prepare data for the violin plot of the degree sequences\n"
    }
   }
  },
  {
   "cell_type": "code",
   "execution_count": 18,
   "outputs": [
    {
     "data": {
      "text/plain": "<Figure size 720x432 with 1 Axes>",
      "image/png": "[encoded data removed]"
     },
     "metadata": {
      "needs_background": "light"
     },
     "output_type": "display_data"
    }
   ],
   "source": [
    "from matplotlib import ticker as mticker\n",
    "\n",
    "fig, ax = plt.subplots(1, 1, figsize=(5, 6))\n",
    "fig.set_size_inches(10, 6)\n",
    "fig5 = sns.violinplot(x=\"Small Molecules\", y=\"Degree\", hue=\"Entity Level\", data=df_seq, palette=config.COLORS_BORDER)\n",
    "ax.yaxis.set_major_formatter(mticker.StrMethodFormatter(\"$10^{{{x:.0f}}}$\")) # Convert ticks to powers of 10\n",
    "plt.legend(bbox_to_anchor=(1.0, 1),borderaxespad=0.5) # Put the legend out of the figure\n",
    "plt.show()\n",
    "fig5.figure.savefig('figures/figure_5.png')"
   ],
   "metadata": {
    "collapsed": false,
    "pycharm": {
     "name": "#%% Plot the max, min, and average degree for each granularity level\n"
    }
   }
  },
  {
   "cell_type": "markdown",
   "source": [
    "## Connected components\n",
    "\n",
    "- Number of connected components\n",
    "- Size of the largest connected component\n",
    "- Average size of the connected components\n",
    "- Size of the smalles connected component"
   ],
   "metadata": {
    "collapsed": false
   }
  },
  {
   "cell_type": "code",
   "execution_count": 19,
   "outputs": [
    {
     "data": {
      "text/plain": "               Method        Level  Size\n0               no_sm        genes  8869\n1               no_sm        genes    93\n2               no_sm        genes    16\n3               no_sm        genes    12\n4               no_sm        genes    12\n...               ...          ...   ...\n13277  with_unique_sm  proteoforms     1\n13278  with_unique_sm  proteoforms     1\n13279  with_unique_sm  proteoforms     1\n13280  with_unique_sm  proteoforms     1\n13281  with_unique_sm  proteoforms     1\n\n[13282 rows x 3 columns]",
      "text/html": "<div>\n<style scoped>\n    .dataframe tbody tr th:only-of-type {\n        vertical-align: middle;\n    }\n\n    .dataframe tbody tr th {\n        vertical-align: top;\n    }\n\n    .dataframe thead th {\n        text-align: right;\n    }\n</style>\n<table border=\"1\" class=\"dataframe\">\n  <thead>\n    <tr style=\"text-align: right;\">\n      <th></th>\n      <th>Method</th>\n      <th>Level</th>\n      <th>Size</th>\n    </tr>\n  </thead>\n  <tbody>\n    <tr>\n      <th>0</th>\n      <td>no_sm</td>\n      <td>genes</td>\n      <td>8869</td>\n    </tr>\n    <tr>\n      <th>1</th>\n      <td>no_sm</td>\n      <td>genes</td>\n      <td>93</td>\n    </tr>\n    <tr>\n      <th>2</th>\n      <td>no_sm</td>\n      <td>genes</td>\n      <td>16</td>\n    </tr>\n    <tr>\n      <th>3</th>\n      <td>no_sm</td>\n      <td>genes</td>\n      <td>12</td>\n    </tr>\n    <tr>\n      <th>4</th>\n      <td>no_sm</td>\n      <td>genes</td>\n      <td>12</td>\n    </tr>\n    <tr>\n      <th>...</th>\n      <td>...</td>\n      <td>...</td>\n      <td>...</td>\n    </tr>\n    <tr>\n      <th>13277</th>\n      <td>with_unique_sm</td>\n      <td>proteoforms</td>\n      <td>1</td>\n    </tr>\n    <tr>\n      <th>13278</th>\n      <td>with_unique_sm</td>\n      <td>proteoforms</td>\n      <td>1</td>\n    </tr>\n    <tr>\n      <th>13279</th>\n      <td>with_unique_sm</td>\n      <td>proteoforms</td>\n      <td>1</td>\n    </tr>\n    <tr>\n      <th>13280</th>\n      <td>with_unique_sm</td>\n      <td>proteoforms</td>\n      <td>1</td>\n    </tr>\n    <tr>\n      <th>13281</th>\n      <td>with_unique_sm</td>\n      <td>proteoforms</td>\n      <td>1</td>\n    </tr>\n  </tbody>\n</table>\n<p>13282 rows × 3 columns</p>\n</div>"
     },
     "execution_count": 19,
     "metadata": {},
     "output_type": "execute_result"
    }
   ],
   "source": [
    "import itertools\n",
    "\n",
    "def getTuples(i):\n",
    "    sizes = [len(c) for c in sorted(nx.connected_components(i), key=len, reverse=True)]\n",
    "    d = [(i.graph[\"method\"], i.graph[\"level\"], s) for s in sizes]\n",
    "    return d\n",
    "\n",
    "tuples = [getTuples(i) for i in interactomes]\n",
    "data = list(itertools.chain.from_iterable(tuples))\n",
    "data\n",
    "df_cc = pd.DataFrame(data, columns=['Method', 'Level', 'Size'])\n",
    "df_cc"
   ],
   "metadata": {
    "collapsed": false,
    "pycharm": {
     "name": "#%%\n"
    }
   }
  },
  {
   "cell_type": "code",
   "execution_count": 20,
   "outputs": [
    {
     "name": "stderr",
     "output_type": "stream",
     "text": [
      "c:\\git\\pathwayanalysisplatform\\proteoformnetworks\\venv\\lib\\site-packages\\seaborn\\axisgrid.py:643: UserWarning: Using the stripplot function without specifying `order` is likely to produce an incorrect plot.\n",
      "  warnings.warn(warning)\n",
      "c:\\git\\pathwayanalysisplatform\\proteoformnetworks\\venv\\lib\\site-packages\\seaborn\\axisgrid.py:643: UserWarning: Using the boxplot function without specifying `order` is likely to produce an incorrect plot.\n",
      "  warnings.warn(warning)\n"
     ]
    },
    {
     "data": {
      "text/plain": "<seaborn.axisgrid.FacetGrid at 0x248ed569c40>"
     },
     "execution_count": 20,
     "metadata": {},
     "output_type": "execute_result"
    },
    {
     "data": {
      "text/plain": "<Figure size 656x216 with 3 Axes>",
      "image/png": "[encoded data removed]"
     },
     "metadata": {
      "needs_background": "light"
     },
     "output_type": "display_data"
    }
   ],
   "source": [
    "# Requires creating a dataframe with two columns\n",
    "g = sns.FacetGrid(df_cc, col=\"Method\")\n",
    "\n",
    "g.map(sns.stripplot, \"Level\", \"Size\", alpha=.7)\n",
    "g.map(sns.boxplot, \"Level\", \"Size\")\n",
    "g.add_legend()"
   ],
   "metadata": {
    "collapsed": false,
    "pycharm": {
     "name": "#%% Plot the sizes of connected components for the 9 types of Interactomes\n"
    }
   }
  },
  {
   "cell_type": "code",
   "execution_count": 21,
   "outputs": [
    {
     "data": {
      "text/plain": "               Method        Level  Size\n0               no_sm        genes  0.81\n1               no_sm        genes  0.01\n2               no_sm        genes  0.00\n3               no_sm        genes  0.00\n4               no_sm        genes  0.00\n...               ...          ...   ...\n13277  with_unique_sm  proteoforms  0.00\n13278  with_unique_sm  proteoforms  0.00\n13279  with_unique_sm  proteoforms  0.00\n13280  with_unique_sm  proteoforms  0.00\n13281  with_unique_sm  proteoforms  0.00\n\n[13282 rows x 3 columns]",
      "text/html": "<div>\n<style scoped>\n    .dataframe tbody tr th:only-of-type {\n        vertical-align: middle;\n    }\n\n    .dataframe tbody tr th {\n        vertical-align: top;\n    }\n\n    .dataframe thead th {\n        text-align: right;\n    }\n</style>\n<table border=\"1\" class=\"dataframe\">\n  <thead>\n    <tr style=\"text-align: right;\">\n      <th></th>\n      <th>Method</th>\n      <th>Level</th>\n      <th>Size</th>\n    </tr>\n  </thead>\n  <tbody>\n    <tr>\n      <th>0</th>\n      <td>no_sm</td>\n      <td>genes</td>\n      <td>0.81</td>\n    </tr>\n    <tr>\n      <th>1</th>\n      <td>no_sm</td>\n      <td>genes</td>\n      <td>0.01</td>\n    </tr>\n    <tr>\n      <th>2</th>\n      <td>no_sm</td>\n      <td>genes</td>\n      <td>0.00</td>\n    </tr>\n    <tr>\n      <th>3</th>\n      <td>no_sm</td>\n      <td>genes</td>\n      <td>0.00</td>\n    </tr>\n    <tr>\n      <th>4</th>\n      <td>no_sm</td>\n      <td>genes</td>\n      <td>0.00</td>\n    </tr>\n    <tr>\n      <th>...</th>\n      <td>...</td>\n      <td>...</td>\n      <td>...</td>\n    </tr>\n    <tr>\n      <th>13277</th>\n      <td>with_unique_sm</td>\n      <td>proteoforms</td>\n      <td>0.00</td>\n    </tr>\n    <tr>\n      <th>13278</th>\n      <td>with_unique_sm</td>\n      <td>proteoforms</td>\n      <td>0.00</td>\n    </tr>\n    <tr>\n      <th>13279</th>\n      <td>with_unique_sm</td>\n      <td>proteoforms</td>\n      <td>0.00</td>\n    </tr>\n    <tr>\n      <th>13280</th>\n      <td>with_unique_sm</td>\n      <td>proteoforms</td>\n      <td>0.00</td>\n    </tr>\n    <tr>\n      <th>13281</th>\n      <td>with_unique_sm</td>\n      <td>proteoforms</td>\n      <td>0.00</td>\n    </tr>\n  </tbody>\n</table>\n<p>13282 rows × 3 columns</p>\n</div>"
     },
     "execution_count": 21,
     "metadata": {},
     "output_type": "execute_result"
    }
   ],
   "source": [
    "import itertools\n",
    "\n",
    "def getTuples(i):\n",
    "    sizes = [len(c)/i.number_of_nodes() for c in sorted(nx.connected_components(i), key=len, reverse=True)]\n",
    "    d = [(i.graph[\"method\"], i.graph[\"level\"], s) for s in sizes]\n",
    "    return d\n",
    "\n",
    "tuples = [getTuples(i) for i in interactomes]\n",
    "data = list(itertools.chain.from_iterable(tuples))\n",
    "data\n",
    "df_cc = pd.DataFrame(data, columns=['Method', 'Level', 'Size'])\n",
    "df_cc"
   ],
   "metadata": {
    "collapsed": false,
    "pycharm": {
     "name": "#%% Relative size of the connected components\n"
    }
   }
  },
  {
   "cell_type": "code",
   "execution_count": 22,
   "outputs": [
    {
     "name": "stderr",
     "output_type": "stream",
     "text": [
      "c:\\git\\pathwayanalysisplatform\\proteoformnetworks\\venv\\lib\\site-packages\\seaborn\\axisgrid.py:643: UserWarning: Using the stripplot function without specifying `order` is likely to produce an incorrect plot.\n",
      "  warnings.warn(warning)\n",
      "c:\\git\\pathwayanalysisplatform\\proteoformnetworks\\venv\\lib\\site-packages\\seaborn\\axisgrid.py:643: UserWarning: Using the boxplot function without specifying `order` is likely to produce an incorrect plot.\n",
      "  warnings.warn(warning)\n"
     ]
    },
    {
     "data": {
      "text/plain": "<seaborn.axisgrid.FacetGrid at 0x248ed569700>"
     },
     "execution_count": 22,
     "metadata": {},
     "output_type": "execute_result"
    },
    {
     "data": {
      "text/plain": "<Figure size 656x216 with 3 Axes>",
      "image/png": "[encoded data removed]"
     },
     "metadata": {},
     "output_type": "display_data"
    }
   ],
   "source": [
    "# Requires creating a dataframe with two columns\n",
    "with sns.axes_style(\"white\"):\n",
    "    g = sns.FacetGrid(df_cc, col=\"Method\")\n",
    "g.map(sns.stripplot, \"Level\", \"Size\", alpha=.7)\n",
    "g.map(sns.boxplot, \"Level\", \"Size\")\n",
    "g.set_axis_labels(\"Level\", \"Relative Size\")\n",
    "g.add_legend()"
   ],
   "metadata": {
    "collapsed": false,
    "pycharm": {
     "name": "#%% Plot the sizes of connected components for the 9 types of Interactomes\n"
    }
   }
  },
  {
   "cell_type": "markdown",
   "source": [
    "## Articulation points and bridges"
   ],
   "metadata": {
    "collapsed": false,
    "pycharm": {
     "name": "#%% md\n"
    }
   }
  },
  {
   "cell_type": "code",
   "execution_count": 23,
   "outputs": [
    {
     "data": {
      "text/plain": "Entity Type                            Articulation Points  Bridges\nSmall Molecules          Entity Level                              \nNot Included             genes                         269      515\n                         proteins                      270      517\n                         proteoforms                   349      580\nIncluded                 genes                         246      524\n                         proteins                      246      524\n                         proteoforms                   255      524\nReaction-Unique Included genes                        1889     3367\n                         proteins                     1888     3365\n                         proteoforms                  1919     3280",
      "text/html": "<div>\n<style scoped>\n    .dataframe tbody tr th:only-of-type {\n        vertical-align: middle;\n    }\n\n    .dataframe tbody tr th {\n        vertical-align: top;\n    }\n\n    .dataframe thead th {\n        text-align: right;\n    }\n</style>\n<table border=\"1\" class=\"dataframe\">\n  <thead>\n    <tr style=\"text-align: right;\">\n      <th></th>\n      <th>Entity Type</th>\n      <th>Articulation Points</th>\n      <th>Bridges</th>\n    </tr>\n    <tr>\n      <th>Small Molecules</th>\n      <th>Entity Level</th>\n      <th></th>\n      <th></th>\n    </tr>\n  </thead>\n  <tbody>\n    <tr>\n      <th rowspan=\"3\" valign=\"top\">Not Included</th>\n      <th>genes</th>\n      <td>269</td>\n      <td>515</td>\n    </tr>\n    <tr>\n      <th>proteins</th>\n      <td>270</td>\n      <td>517</td>\n    </tr>\n    <tr>\n      <th>proteoforms</th>\n      <td>349</td>\n      <td>580</td>\n    </tr>\n    <tr>\n      <th rowspan=\"3\" valign=\"top\">Included</th>\n      <th>genes</th>\n      <td>246</td>\n      <td>524</td>\n    </tr>\n    <tr>\n      <th>proteins</th>\n      <td>246</td>\n      <td>524</td>\n    </tr>\n    <tr>\n      <th>proteoforms</th>\n      <td>255</td>\n      <td>524</td>\n    </tr>\n    <tr>\n      <th rowspan=\"3\" valign=\"top\">Reaction-Unique Included</th>\n      <th>genes</th>\n      <td>1889</td>\n      <td>3367</td>\n    </tr>\n    <tr>\n      <th>proteins</th>\n      <td>1888</td>\n      <td>3365</td>\n    </tr>\n    <tr>\n      <th>proteoforms</th>\n      <td>1919</td>\n      <td>3280</td>\n    </tr>\n  </tbody>\n</table>\n</div>"
     },
     "execution_count": 23,
     "metadata": {},
     "output_type": "execute_result"
    }
   ],
   "source": [
    "br_ap = pd.DataFrame({\n",
    "    \"Articulation Points\": [len(list(nx.articulation_points(i))) for i in interactomes],\n",
    "    \"Bridges\": [len(list(nx.bridges(i))) for i in interactomes]},\n",
    "    index=index)\n",
    "br_ap.columns.name = \"Entity Type\"\n",
    "\n",
    "br_ap"
   ],
   "metadata": {
    "collapsed": false,
    "pycharm": {
     "name": "#%%\n"
    }
   }
  },
  {
   "cell_type": "code",
   "execution_count": 24,
   "outputs": [
    {
     "data": {
      "text/plain": "Entity Level              genes  proteins  proteoforms\nSmall Molecules                                       \nIncluded                    246       246          255\nNot Included                269       270          349\nReaction-Unique Included   1889      1888         1919",
      "text/html": "<div>\n<style scoped>\n    .dataframe tbody tr th:only-of-type {\n        vertical-align: middle;\n    }\n\n    .dataframe tbody tr th {\n        vertical-align: top;\n    }\n\n    .dataframe thead th {\n        text-align: right;\n    }\n</style>\n<table border=\"1\" class=\"dataframe\">\n  <thead>\n    <tr style=\"text-align: right;\">\n      <th>Entity Level</th>\n      <th>genes</th>\n      <th>proteins</th>\n      <th>proteoforms</th>\n    </tr>\n    <tr>\n      <th>Small Molecules</th>\n      <th></th>\n      <th></th>\n      <th></th>\n    </tr>\n  </thead>\n  <tbody>\n    <tr>\n      <th>Included</th>\n      <td>246</td>\n      <td>246</td>\n      <td>255</td>\n    </tr>\n    <tr>\n      <th>Not Included</th>\n      <td>269</td>\n      <td>270</td>\n      <td>349</td>\n    </tr>\n    <tr>\n      <th>Reaction-Unique Included</th>\n      <td>1889</td>\n      <td>1888</td>\n      <td>1919</td>\n    </tr>\n  </tbody>\n</table>\n</div>"
     },
     "execution_count": 24,
     "metadata": {},
     "output_type": "execute_result"
    }
   ],
   "source": [
    "br_ap[\"Articulation Points\"].unstack()"
   ],
   "metadata": {
    "collapsed": false,
    "pycharm": {
     "name": "#%% Plot articulation points and bridges\n"
    }
   }
  },
  {
   "cell_type": "code",
   "execution_count": 25,
   "outputs": [
    {
     "data": {
      "text/plain": "<AxesSubplot:title={'center':'Articulation Points'}, xlabel='Small Molecules'>"
     },
     "execution_count": 25,
     "metadata": {},
     "output_type": "execute_result"
    },
    {
     "data": {
      "text/plain": "<Figure size 432x288 with 1 Axes>",
      "image/png": "[encoded data removed]"
     },
     "metadata": {
      "needs_background": "light"
     },
     "output_type": "display_data"
    }
   ],
   "source": [
    "br_ap[\"Articulation Points\"].unstack().plot(kind='bar', stacked=False, color=COLORS_BORDER, title=\"Articulation Points\")"
   ],
   "metadata": {
    "collapsed": false,
    "pycharm": {
     "name": "#%%\n"
    }
   }
  },
  {
   "cell_type": "code",
   "execution_count": 26,
   "outputs": [
    {
     "data": {
      "text/plain": "Entity Level              genes  proteins  proteoforms\nSmall Molecules                                       \nIncluded                    524       524          524\nNot Included                515       517          580\nReaction-Unique Included   3367      3365         3280",
      "text/html": "<div>\n<style scoped>\n    .dataframe tbody tr th:only-of-type {\n        vertical-align: middle;\n    }\n\n    .dataframe tbody tr th {\n        vertical-align: top;\n    }\n\n    .dataframe thead th {\n        text-align: right;\n    }\n</style>\n<table border=\"1\" class=\"dataframe\">\n  <thead>\n    <tr style=\"text-align: right;\">\n      <th>Entity Level</th>\n      <th>genes</th>\n      <th>proteins</th>\n      <th>proteoforms</th>\n    </tr>\n    <tr>\n      <th>Small Molecules</th>\n      <th></th>\n      <th></th>\n      <th></th>\n    </tr>\n  </thead>\n  <tbody>\n    <tr>\n      <th>Included</th>\n      <td>524</td>\n      <td>524</td>\n      <td>524</td>\n    </tr>\n    <tr>\n      <th>Not Included</th>\n      <td>515</td>\n      <td>517</td>\n      <td>580</td>\n    </tr>\n    <tr>\n      <th>Reaction-Unique Included</th>\n      <td>3367</td>\n      <td>3365</td>\n      <td>3280</td>\n    </tr>\n  </tbody>\n</table>\n</div>"
     },
     "execution_count": 26,
     "metadata": {},
     "output_type": "execute_result"
    }
   ],
   "source": [
    "br_ap[\"Bridges\"].unstack()"
   ],
   "metadata": {
    "collapsed": false,
    "pycharm": {
     "name": "#%%\n"
    }
   }
  },
  {
   "cell_type": "code",
   "execution_count": 27,
   "outputs": [
    {
     "data": {
      "text/plain": "<AxesSubplot:title={'center':'Bridges'}, xlabel='Small Molecules'>"
     },
     "execution_count": 27,
     "metadata": {},
     "output_type": "execute_result"
    },
    {
     "data": {
      "text/plain": "<Figure size 432x288 with 1 Axes>",
      "image/png": "[encoded data removed]"
     },
     "metadata": {
      "needs_background": "light"
     },
     "output_type": "display_data"
    }
   ],
   "source": [
    "br_ap[\"Bridges\"].unstack().plot(kind='bar', stacked=False, color=COLORS_BORDER, title=\"Bridges\")"
   ],
   "metadata": {
    "collapsed": false,
    "pycharm": {
     "name": "#%%\n"
    }
   }
  },
  {
   "cell_type": "code",
   "source": [
    "df_pathways = get_pathways()\n",
    "df_pathways[\"stId\"]"
   ],
   "metadata": {
    "collapsed": false,
    "pycharm": {
     "name": "#%% md Get list of all pathways\n"
    }
   },
   "execution_count": 28,
   "outputs": [
    {
     "data": {
      "text/plain": "0       R-HSA-9613829\n1       R-HSA-1632852\n2       R-HSA-5205685\n3       R-HSA-8934903\n4       R-HSA-9613354\n            ...      \n2060     R-HSA-432722\n2061     R-HSA-432720\n2062    R-HSA-8856828\n2063    R-HSA-8856825\n2064     R-HSA-917729\nName: stId, Length: 2065, dtype: object"
     },
     "execution_count": 28,
     "metadata": {},
     "output_type": "execute_result"
    }
   ]
  },
  {
   "cell_type": "markdown",
   "source": [
    "## Articulation points and bridges\n",
    "\n",
    "- [ ] Get bridges and articulation points for all pathways\n",
    "- [ ] Calculate changes across the 3 levels with small molecules and with unique small molecules\n",
    "- [ ] Plot the top 5 with most changes"
   ],
   "metadata": {
    "collapsed": false,
    "pycharm": {
     "name": "#%% md\n"
    }
   },
   "outputs": [
    {
     "ename": "SyntaxError",
     "evalue": "invalid syntax (<ipython-input-57-ade8ead2ca47>, line 3)",
     "output_type": "error",
     "traceback": [
      "\u001B[1;36m  File \u001B[1;32m\"<ipython-input-57-ade8ead2ca47>\"\u001B[1;36m, line \u001B[1;32m3\u001B[0m\n\u001B[1;33m    - [ ] Get bridges and articulation points for all pathways\u001B[0m\n\u001B[1;37m          ^\u001B[0m\n\u001B[1;31mSyntaxError\u001B[0m\u001B[1;31m:\u001B[0m invalid syntax\n"
     ]
    }
   ],
   "execution_count": 57
  },
  {
   "cell_type": "code",
   "execution_count": 58,
   "outputs": [
    {
     "name": "stdout",
     "output_type": "stream",
     "text": [
      "-- Creating interaction networks for pathway R-HSA-9673163\n",
      "    * Network resources\\pathway_networks\\R-HSA-9673163_genes_no_sm.json already exists..\n",
      "    * Network resources\\pathway_networks\\R-HSA-9673163_proteins_no_sm.json already exists..\n",
      "    * Network resources\\pathway_networks\\R-HSA-9673163_proteoforms_no_sm.json already exists..\n",
      "    * Network resources\\pathway_networks\\R-HSA-9673163_genes_with_sm.json already exists..\n",
      "    * Network resources\\pathway_networks\\R-HSA-9673163_proteins_with_sm.json already exists..\n",
      "    * Network resources\\pathway_networks\\R-HSA-9673163_proteoforms_with_sm.json already exists..\n",
      "    * Network resources\\pathway_networks\\R-HSA-9673163_genes_with_unique_sm.json already exists..\n",
      "    * Network resources\\pathway_networks\\R-HSA-9673163_proteins_with_unique_sm.json already exists..\n",
      "    * Network resources\\pathway_networks\\R-HSA-9673163_proteoforms_with_unique_sm.json already exists..\n"
     ]
    }
   ],
   "source": [
    "from lib.networks import create_pathway_interaction_networks\n",
    "from bokeh.io import show\n",
    "\n",
    "pathway1 = \"R-HSA-9673163\"  # Regulation of glycolysis by fructose 2,6-bisphosphate metabolism\n",
    "graphs = create_pathway_interaction_networks(pathway1, \"resources/pathway_networks/\")"
   ],
   "metadata": {
    "collapsed": false,
    "pycharm": {
     "name": "#%%\n"
    }
   }
  },
  {
   "cell_type": "code",
   "execution_count": 59,
   "outputs": [],
   "source": [
    "from visualization.visualize_single_network import plot_pathway_all_levels, Coloring\n",
    "\n",
    "p = plot_pathway_all_levels(pathway1, out_path=\"resources/pathway_networks/\", graphs=graphs, coloring=Coloring.ENTITY_TYPE)\n",
    "show(p)"
   ],
   "metadata": {
    "collapsed": false,
    "pycharm": {
     "name": "#%%\n"
    }
   }
  },
  {
   "cell_type": "code",
   "execution_count": 30,
   "outputs": [],
   "source": [
    "\n"
   ],
   "metadata": {
    "collapsed": false,
    "pycharm": {
     "name": "#%%\n"
    }
   }
  }
 ],
 "metadata": {
  "kernelspec": {
   "display_name": "Python 3",
   "language": "python",
   "name": "python3"
  },
  "language_info": {
   "codemirror_mode": {
    "name": "ipython",
    "version": 2
   },
   "file_extension": ".py",
   "mimetype": "text/x-python",
   "name": "python",
   "nbconvert_exporter": "python",
   "pygments_lexer": "ipython2",
   "version": "2.7.6"
  },
  "pycharm": {
   "stem_cell": {
    "cell_type": "raw",
    "source": [
     "# This file is the starting point for the whole project.\n",
     "\"\"\"\n",
     " The goal of this project is to study the differences between protein and proteoform \n",
     " interaction networks for functional analysis.\n",
     "\n",
     "\"\"\"  \n"
    ],
    "metadata": {
     "collapsed": false
    }
   }
  }
 },
 "nbformat": 4,
 "nbformat_minor": 0
}