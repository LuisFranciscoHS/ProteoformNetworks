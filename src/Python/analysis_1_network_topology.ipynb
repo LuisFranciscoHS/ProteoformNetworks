{
 "cells": [
  {
   "cell_type": "markdown",
   "source": [
    " ## Set up"
   ],
   "metadata": {
    "collapsed": false,
    "pycharm": {
     "name": "#%% md\n"
    }
   }
  },
  {
   "cell_type": "code",
   "execution_count": 17,
   "outputs": [
    {
     "name": "stdout",
     "output_type": "stream",
     "text": [
      "The autoreload extension is already loaded. To reload it, use:\n",
      "  %reload_ext autoreload\n",
      "Working directory: c:\\git\\pathwayanalysisplatform\\proteoformnetworks\n"
     ]
    }
   ],
   "source": [
    "import networkx as nx\n",
    "import numpy as np\n",
    "import pandas as pd\n",
    "import seaborn as sns\n",
    "\n",
    "import config\n",
    "from config import LEVELS, sm, with_sm, no_sm, with_unique_sm, GRAPHS_PATH\n",
    "from interactomes import get_interactome, print_interactome_details, get_json_filename, read_graph\n",
    "from lib.graph_database import get_participants, get_components\n",
    "\n",
    "%load_ext autoreload\n",
    "%autoreload 2\n",
    "%reload_ext autoreload\n",
    "\n",
    "config.set_root_wd()"
   ],
   "metadata": {
    "collapsed": false,
    "pycharm": {
     "name": "#%% Set up configuration\n"
    }
   }
  },
  {
   "cell_type": "code",
   "execution_count": 12,
   "outputs": [
    {
     "data": {
      "text/plain": "{'genes':           Pathway       Reaction         Entity          Name  \\\n 0   R-HSA-1059683  R-HSA-1067640   R-HSA-447100           IL6   \n 1   R-HSA-1059683  R-HSA-1067640  R-HSA-1067661        IL6R-2   \n 2   R-HSA-1059683  R-HSA-1067640  R-HSA-1067661        IL6R-2   \n 3   R-HSA-1059683  R-HSA-1067640   R-HSA-447100           IL6   \n 4   R-HSA-1059683  R-HSA-1067646   R-HSA-877348          TYK2   \n ..            ...            ...            ...           ...   \n 95  R-HSA-1059683  R-HSA-1112538   R-HSA-914048  p-Y705-STAT3   \n 96  R-HSA-1059683  R-HSA-1112565   R-HSA-197824          IL6R   \n 97  R-HSA-1059683  R-HSA-1112565  R-HSA-1112543  p-Y1034-JAK1   \n 98  R-HSA-1059683  R-HSA-1112565   R-HSA-873799  p-Y1007-JAK2   \n 99  R-HSA-1059683  R-HSA-1112565  R-HSA-1112598  p-Y1054-TYK2   \n \n                              Type     Id Database    Role  \n 0   EntityWithAccessionedSequence    IL6  UniProt   input  \n 1   EntityWithAccessionedSequence   IL6R  UniProt   input  \n 2   EntityWithAccessionedSequence   IL6R  UniProt  output  \n 3   EntityWithAccessionedSequence    IL6  UniProt  output  \n 4   EntityWithAccessionedSequence   TYK2  UniProt   input  \n ..                            ...    ...      ...     ...  \n 95  EntityWithAccessionedSequence  STAT3  UniProt  output  \n 96  EntityWithAccessionedSequence   IL6R  UniProt   input  \n 97  EntityWithAccessionedSequence   JAK1  UniProt   input  \n 98  EntityWithAccessionedSequence   JAK2  UniProt   input  \n 99  EntityWithAccessionedSequence   TYK2  UniProt   input  \n \n [100 rows x 8 columns],\n 'proteins':           Pathway       Reaction         Entity          Name  \\\n 0   R-HSA-1059683  R-HSA-1067640   R-HSA-447100           IL6   \n 1   R-HSA-1059683  R-HSA-1067640  R-HSA-1067661        IL6R-2   \n 2   R-HSA-1059683  R-HSA-1067640  R-HSA-1067661        IL6R-2   \n 3   R-HSA-1059683  R-HSA-1067640   R-HSA-447100           IL6   \n 4   R-HSA-1059683  R-HSA-1067646   R-HSA-877348          TYK2   \n ..            ...            ...            ...           ...   \n 95  R-HSA-1059683  R-HSA-1112538   R-HSA-914048  p-Y705-STAT3   \n 96  R-HSA-1059683  R-HSA-1112565   R-HSA-197824          IL6R   \n 97  R-HSA-1059683  R-HSA-1112565  R-HSA-1112543  p-Y1034-JAK1   \n 98  R-HSA-1059683  R-HSA-1112565   R-HSA-873799  p-Y1007-JAK2   \n 99  R-HSA-1059683  R-HSA-1112565  R-HSA-1112598  p-Y1054-TYK2   \n \n                              Type      Id PrevId Database    Role  \n 0   EntityWithAccessionedSequence  P05231    IL6  UniProt   input  \n 1   EntityWithAccessionedSequence  P08887   IL6R  UniProt   input  \n 2   EntityWithAccessionedSequence  P08887   IL6R  UniProt  output  \n 3   EntityWithAccessionedSequence  P05231    IL6  UniProt  output  \n 4   EntityWithAccessionedSequence  P29597   TYK2  UniProt   input  \n ..                            ...     ...    ...      ...     ...  \n 95  EntityWithAccessionedSequence  P40763  STAT3  UniProt  output  \n 96  EntityWithAccessionedSequence  P08887   IL6R  UniProt   input  \n 97  EntityWithAccessionedSequence  P23458   JAK1  UniProt   input  \n 98  EntityWithAccessionedSequence  O60674   JAK2  UniProt   input  \n 99  EntityWithAccessionedSequence  P29597   TYK2  UniProt   input  \n \n [100 rows x 9 columns],\n 'proteoforms':           Pathway       Reaction         Entity          Name  \\\n 0   R-HSA-1059683  R-HSA-1067640  R-HSA-1067661        IL6R-2   \n 1   R-HSA-1059683  R-HSA-1067640   R-HSA-447100           IL6   \n 2   R-HSA-1059683  R-HSA-1067640   R-HSA-447100           IL6   \n 3   R-HSA-1059683  R-HSA-1067640  R-HSA-1067661        IL6R-2   \n 4   R-HSA-1059683  R-HSA-1067646   R-HSA-448453         IL6ST   \n ..            ...            ...            ...           ...   \n 95  R-HSA-1059683  R-HSA-1112538  R-HSA-3132766  p-Y701-STAT1   \n 96  R-HSA-1059683  R-HSA-1112565   R-HSA-539044         STAT3   \n 97  R-HSA-1059683  R-HSA-1112565  R-HSA-1067661        IL6R-2   \n 98  R-HSA-1059683  R-HSA-1112565   R-HSA-447100           IL6   \n 99  R-HSA-1059683  R-HSA-1112565   R-HSA-197824          IL6R   \n \n                              Type                Id  PrevId Database    Role  \n 0   EntityWithAccessionedSequence         P08887-2;  P08887  UniProt   input  \n 1   EntityWithAccessionedSequence           P05231;  P05231  UniProt   input  \n 2   EntityWithAccessionedSequence           P05231;  P05231  UniProt  output  \n 3   EntityWithAccessionedSequence         P08887-2;  P08887  UniProt  output  \n 4   EntityWithAccessionedSequence           P40189;  P40189  UniProt   input  \n ..                            ...               ...     ...      ...     ...  \n 95  EntityWithAccessionedSequence  P42224;00048:701  P42224  UniProt  output  \n 96  EntityWithAccessionedSequence           P40763;  P40763  UniProt   input  \n 97  EntityWithAccessionedSequence         P08887-2;  P08887  UniProt   input  \n 98  EntityWithAccessionedSequence           P05231;  P05231  UniProt   input  \n 99  EntityWithAccessionedSequence           P08887;  P08887  UniProt   input  \n \n [100 rows x 9 columns],\n 'sm':           Pathway       Reaction        Entity  Name          Type    Id  \\\n 0   R-HSA-1059683  R-HSA-1112510  R-ALL-113592   ATP  SimpleEntity   ATP   \n 1   R-HSA-1059683  R-HSA-1112510   R-ALL-29370   ADP  SimpleEntity   ADP   \n 2   R-HSA-1059683  R-HSA-1112514  R-ALL-113592   ATP  SimpleEntity   ATP   \n 3   R-HSA-1059683  R-HSA-1112514   R-ALL-29370   ADP  SimpleEntity   ADP   \n 4   R-HSA-1059683  R-HSA-1112602  R-ALL-113592   ATP  SimpleEntity   ATP   \n ..            ...            ...           ...   ...           ...   ...   \n 95   R-HSA-111932   R-HSA-111915   R-ALL-29496  Ca2+  SimpleEntity  Ca2+   \n 96   R-HSA-111932   R-HSA-111915   R-ALL-29358   ATP  SimpleEntity   ATP   \n 97   R-HSA-111932   R-HSA-111915   R-ALL-29496  Ca2+  SimpleEntity  Ca2+   \n 98   R-HSA-111932   R-HSA-111915  R-ALL-113582   ADP  SimpleEntity   ADP   \n 99   R-HSA-111932   R-HSA-111915   R-ALL-29496  Ca2+  SimpleEntity  Ca2+   \n \n    Database              Role  \n 0     ChEBI             input  \n 1     ChEBI            output  \n 2     ChEBI             input  \n 3     ChEBI            output  \n 4     ChEBI             input  \n ..      ...               ...  \n 95    ChEBI  catalystActivity  \n 96    ChEBI             input  \n 97    ChEBI             input  \n 98    ChEBI            output  \n 99    ChEBI            output  \n \n [100 rows x 8 columns]}"
     },
     "execution_count": 12,
     "metadata": {},
     "output_type": "execute_result"
    }
   ],
   "source": [
    "# Genes:\n",
    "# Pathway, Reaction, Entity, Name, Type, Id, Database, Role\n",
    "\n",
    "# Proteins:\n",
    "# Pathway, Reaction, Entity, Name, Type, Id, PrevId, Database, Role\n",
    "\n",
    "# Proteoforms:\n",
    "# Pathway, Reaction, Entity, Name, Type, Id, PrevId, Database, Role\n",
    "\n",
    "# Small molecules:\n",
    "# Pathway, Reaction, Entity, Name, Type, Id, Database, Role\n",
    "\n",
    "participant_records = { l: get_participants(l) for l in LEVELS}\n",
    "participant_records[sm] = get_participants(sm)\n",
    "\n",
    "participant_records"
   ],
   "metadata": {
    "collapsed": false,
    "pycharm": {
     "name": "#%% Get all reaction participants in Reactome\n"
    }
   }
  },
  {
   "cell_type": "code",
   "execution_count": 13,
   "outputs": [
    {
     "data": {
      "text/plain": "{'genes':           Complex         Entity              Name  \\\n 0   R-HSA-1006173   R-HSA-976788               CFH   \n 1   R-HSA-1008206  R-HSA-1008221              NFE2   \n 2   R-HSA-1008206  R-HSA-1008261              MAFF   \n 3   R-HSA-1008206  R-HSA-1008212              MAFG   \n 4   R-HSA-1008206  R-HSA-1008242              MAFK   \n ..            ...            ...               ...   \n 95  R-HSA-1027359   R-HSA-193545            CREBBP   \n 96  R-HSA-1027359   R-HSA-381325             EP300   \n 97  R-HSA-1027359   R-HSA-177654    p-4S,T404-IRF3   \n 98  R-HSA-1027360   R-HSA-450270  p-S477,S479-IRF7   \n 99  R-HSA-1027360   R-HSA-381325             EP300   \n \n                              Type      Id  \n 0   EntityWithAccessionedSequence     CFH  \n 1   EntityWithAccessionedSequence    NFE2  \n 2   EntityWithAccessionedSequence    MAFF  \n 3   EntityWithAccessionedSequence    MAFG  \n 4   EntityWithAccessionedSequence    MAFK  \n ..                            ...     ...  \n 95  EntityWithAccessionedSequence  CREBBP  \n 96  EntityWithAccessionedSequence   EP300  \n 97  EntityWithAccessionedSequence    IRF3  \n 98  EntityWithAccessionedSequence    IRF7  \n 99  EntityWithAccessionedSequence   EP300  \n \n [100 rows x 5 columns],\n 'proteins':           Complex         Entity              Name  \\\n 0   R-HSA-1006173   R-HSA-976788               CFH   \n 1   R-HSA-1008206  R-HSA-1008221              NFE2   \n 2   R-HSA-1008206  R-HSA-1008261              MAFF   \n 3   R-HSA-1008206  R-HSA-1008212              MAFG   \n 4   R-HSA-1008206  R-HSA-1008242              MAFK   \n ..            ...            ...               ...   \n 95  R-HSA-1027359   R-HSA-193545            CREBBP   \n 96  R-HSA-1027359   R-HSA-381325             EP300   \n 97  R-HSA-1027359   R-HSA-177654    p-4S,T404-IRF3   \n 98  R-HSA-1027360   R-HSA-450270  p-S477,S479-IRF7   \n 99  R-HSA-1027360   R-HSA-381325             EP300   \n \n                              Type      Id  PrevId  \n 0   EntityWithAccessionedSequence  P08603     CFH  \n 1   EntityWithAccessionedSequence  Q16621    NFE2  \n 2   EntityWithAccessionedSequence  Q9ULX9    MAFF  \n 3   EntityWithAccessionedSequence  O15525    MAFG  \n 4   EntityWithAccessionedSequence  O60675    MAFK  \n ..                            ...     ...     ...  \n 95  EntityWithAccessionedSequence  Q92793  CREBBP  \n 96  EntityWithAccessionedSequence  Q09472   EP300  \n 97  EntityWithAccessionedSequence  Q14653    IRF3  \n 98  EntityWithAccessionedSequence  Q92985    IRF7  \n 99  EntityWithAccessionedSequence  Q09472   EP300  \n \n [100 rows x 6 columns],\n 'proteoforms':           Complex         Entity            Name  \\\n 0   R-HSA-1006173   R-HSA-976788             CFH   \n 1   R-HSA-1008206  R-HSA-1008212            MAFG   \n 2   R-HSA-1008206  R-HSA-1008261            MAFF   \n 3   R-HSA-1008206  R-HSA-1008221            NFE2   \n 4   R-HSA-1008206  R-HSA-1008242            MAFK   \n ..            ...            ...             ...   \n 95  R-HSA-1027359   R-HSA-381325           EP300   \n 96  R-HSA-1027359   R-HSA-177654  p-4S,T404-IRF3   \n 97  R-HSA-1027359   R-HSA-193545          CREBBP   \n 98  R-HSA-1027360   R-HSA-177654  p-4S,T404-IRF3   \n 99  R-HSA-1027360   R-HSA-193545          CREBBP   \n \n                              Type  \\\n 0   EntityWithAccessionedSequence   \n 1   EntityWithAccessionedSequence   \n 2   EntityWithAccessionedSequence   \n 3   EntityWithAccessionedSequence   \n 4   EntityWithAccessionedSequence   \n ..                            ...   \n 95  EntityWithAccessionedSequence   \n 96  EntityWithAccessionedSequence   \n 97  EntityWithAccessionedSequence   \n 98  EntityWithAccessionedSequence   \n 99  EntityWithAccessionedSequence   \n \n                                                    Id  PrevId  \n 0                                             P08603;  P08603  \n 1                                             O15525;  O15525  \n 2                                             Q9ULX9;  Q9ULX9  \n 3                                             Q16621;  Q16621  \n 4                                             O60675;  O60675  \n ..                                                ...     ...  \n 95                                            Q09472;  Q09472  \n 96  Q14653;00046:396,00046:398,00046:402,00046:405...  Q14653  \n 97                                            Q92793;  Q92793  \n 98  Q14653;00046:396,00046:398,00046:402,00046:405...  Q14653  \n 99                                            Q92793;  Q92793  \n \n [100 rows x 6 columns],\n 'sm':           Complex         Entity         Name          Type           Id\n 0   R-HSA-1006173  R-ALL-1006168  Sialic acid  SimpleEntity  Sialic acid\n 1   R-HSA-1006173  R-ALL-1006140     Heparins  SimpleEntity     Heparins\n 2   R-HSA-1013011   R-ALL-352003         GABA  SimpleEntity         GABA\n 3   R-HSA-1013017   R-ALL-352003         GABA  SimpleEntity         GABA\n 4    R-HSA-109266   R-ALL-109265         Zn2+  SimpleEntity         Zn2+\n ..            ...            ...          ...           ...          ...\n 95  R-HSA-1237311   R-ALL-109265         Zn2+  SimpleEntity         Zn2+\n 96  R-HSA-1237312    R-ALL-71185         heme  SimpleEntity         heme\n 97  R-HSA-1237314   R-ALL-880067         Zn2+  SimpleEntity         Zn2+\n 98  R-HSA-1237315    R-ALL-29426         Zn2+  SimpleEntity         Zn2+\n 99  R-HSA-1237316   R-ALL-158417         Zn2+  SimpleEntity         Zn2+\n \n [100 rows x 5 columns]}"
     },
     "execution_count": 13,
     "metadata": {},
     "output_type": "execute_result"
    }
   ],
   "source": [
    "# Genes:\n",
    "# Complex, Entity, Name, Type, Id\n",
    "\n",
    "# Proteins:\n",
    "# Complex, Entity, Name, Type, Id, PrevId\n",
    "\n",
    "# Proteoforms:\n",
    "# Complex, Entity, Name, Type, Id, PrevId\n",
    "\n",
    "# Small molecules:\n",
    "# Complex, Entity, Name, Type, Id\n",
    "\n",
    "components_records = { l: get_components(l) for l in LEVELS}\n",
    "components_records[sm] = get_components(sm)\n",
    "\n",
    "components_records"
   ],
   "metadata": {
    "collapsed": false,
    "pycharm": {
     "name": "#%% Get complex components in Reactome\n"
    }
   }
  },
  {
   "cell_type": "code",
   "execution_count": 18,
   "outputs": [
    {
     "data": {
      "text/plain": "<networkx.classes.graph.Graph at 0x25bc90050a0>"
     },
     "execution_count": 18,
     "metadata": {},
     "output_type": "execute_result"
    }
   ],
   "source": [
    "json_file = get_json_filename(config.genes, \"no_sm\", config.GRAPHS_PATH)\n",
    "\n",
    "G = read_graph(json_file)\n",
    "G"
   ],
   "metadata": {
    "collapsed": false,
    "pycharm": {
     "name": "#%%\n"
    }
   }
  },
  {
   "cell_type": "code",
   "execution_count": 19,
   "outputs": [
    {
     "name": "stdout",
     "output_type": "stream",
     "text": [
      "['IL6', 'IL6R', 'TYK2', 'JAK2', 'IL6ST', 'JAK1', 'STAT3', 'STAT1', 'CFH', 'NFE2', 'MAFF', 'MAFG', 'MAFK', 'IRF1', 'RBSN', 'EHD1', 'EHD2', 'EHD3', 'VPS45', 'RAB5A', 'DOCK3', 'DOCK8', 'DOCK2', 'DOCK7', 'CDC42', 'DOCK1', 'DOCK5', 'DOCK4', 'DOCK9', 'RAC1', 'DOCK10', 'DOCK6', 'DOCK11', 'KCNJ9', 'KCNJ15', 'GNB2', 'GNB1', 'GNG8', 'GNG2', 'KCNJ12', 'KCNJ4', 'GNGT1', 'GNG5', 'KCNJ10', 'GABBR1', 'KCNJ6', 'GNG7', 'GNG11', 'GABBR2', 'GNG4', 'GNG12', 'KCNJ3', 'KCNJ5', 'GNB5', 'GNGT2', 'GNB4', 'GNB3', 'GNG13', 'KCNJ2', 'GNG10', 'KCNJ16', 'GNG3', 'CABLES2', 'CDK5', 'ABL1', 'CABLES1', 'WEE1', 'CDK2', 'IRF9', 'STAT2', 'B4GALT6', 'B4GALT5', 'KIFC1', 'LMAN1', 'MCFD2', 'IRF2', 'CREBBP', 'EP300', 'IRF3', 'IRF7']\n"
     ]
    }
   ],
   "source": [
    "print(G.nodes())"
   ],
   "metadata": {
    "collapsed": false,
    "pycharm": {
     "name": "#%%\n"
    }
   }
  },
  {
   "cell_type": "code",
   "execution_count": 20,
   "outputs": [
    {
     "name": "stdout",
     "output_type": "stream",
     "text": [
      "Graph for genes \n",
      "Graph edges: 532\n",
      "Graph nodes: 80\n",
      "Graph genes nodes: 80\n",
      "Graph small molecule nodes: 0\n",
      "Graph for proteins \n",
      "Graph edges: 532\n",
      "Graph nodes: 80\n",
      "Graph proteins nodes: 80\n",
      "Graph small molecule nodes: 0\n",
      "Graph for proteoforms \n",
      "Graph edges: 577\n",
      "Graph nodes: 88\n",
      "Graph proteoforms nodes: 88\n",
      "Graph small molecule nodes: 0\n",
      "Graph for genes \n",
      "Graph edges: 532\n",
      "Graph nodes: 137\n",
      "Graph genes nodes: 80\n",
      "Graph small molecule nodes: 57\n",
      "Graph for proteins \n",
      "Graph edges: 532\n",
      "Graph nodes: 137\n",
      "Graph proteins nodes: 80\n",
      "Graph small molecule nodes: 57\n",
      "Graph for proteoforms \n",
      "Graph edges: 577\n",
      "Graph nodes: 145\n",
      "Graph proteoforms nodes: 88\n",
      "Graph small molecule nodes: 57\n",
      "Graph for genes \n",
      "Graph edges: 532\n",
      "Graph nodes: 274\n",
      "Graph genes nodes: 80\n",
      "Graph small molecule nodes: 194\n",
      "Graph for proteins \n",
      "Graph edges: 532\n",
      "Graph nodes: 274\n",
      "Graph proteins nodes: 80\n",
      "Graph small molecule nodes: 194\n",
      "Graph for proteoforms \n",
      "Graph edges: 577\n",
      "Graph nodes: 282\n",
      "Graph proteoforms nodes: 88\n",
      "Graph small molecule nodes: 194\n"
     ]
    }
   ],
   "source": [
    "interactomes_no_sm = { l: get_interactome(l, no_sm, participant_records, components_records, GRAPHS_PATH) for l in LEVELS}\n",
    "interactomes_with_sm = { l: get_interactome(l, with_sm, participant_records, components_records, GRAPHS_PATH) for l in LEVELS}\n",
    "interactomes_with_unique_sm = { l: get_interactome(l, with_unique_sm, participant_records, components_records, GRAPHS_PATH) for l in LEVELS}\n",
    "\n",
    "for level, interactome in interactomes_no_sm.items():\n",
    "     print_interactome_details(interactome)\n",
    "\n",
    "for level, interactome in interactomes_with_sm.items():\n",
    "     print_interactome_details(interactome)\n",
    "\n",
    "for level, interactome in interactomes_with_unique_sm.items():\n",
    "     print_interactome_details(interactome)"
   ],
   "metadata": {
    "collapsed": false,
    "pycharm": {
     "name": "#%% Create full interaction Networks for Genes, Proteins and Proteoforms\n"
    }
   }
  },
  {
   "cell_type": "code",
   "execution_count": null,
   "outputs": [],
   "source": [
    "print(\"Number of edges: \")\n",
    "e = pd.Series([interactomes_no_sm[l].size() for l in LEVELS], index=LEVELS)\n",
    "v_entities = pd.Series([interactomes_no_sm[l].graph['num_' + l] for l in LEVELS], index=LEVELS)\n",
    "v_small_molecules = pd.Series([interactomes_no_sm[l].graph['num_small_molecules'] for l in LEVELS], index=LEVELS)\n",
    "\n",
    "sizes = pd.DataFrame({\"Interactions\": e, \"Accessioned Entities\": v_entities, \"Simple Entities\": v_small_molecules}, index=LEVELS)\n",
    "sizes.columns.name = \"Entity Type\"\n",
    "sizes"
   ],
   "metadata": {
    "collapsed": false,
    "pycharm": {
     "name": "#%% Calculate size of the full networks\n"
    }
   }
  },
  {
   "cell_type": "code",
   "execution_count": null,
   "outputs": [],
   "source": [
    "degrees = {l: [graphs[l].degree(n) for n in graphs[l].nodes()] for l in LEVELS}\n",
    "mins = pd.Series([min(degrees[l]) for l in LEVELS], index=LEVELS)\n",
    "maxs = pd.Series([max(degrees[l]) for l in LEVELS], index=LEVELS)\n",
    "avgs = pd.Series([sum(degrees[l])/len(degrees[l]) for l in LEVELS], index=LEVELS)\n",
    "\n",
    "degrees_mma = pd.DataFrame({\"Min\": mins, \"Max\": maxs, \"Avg\": avgs}, index=LEVELS)\n",
    "degrees_mma.columns.name = \"Entity Type\"\n",
    "degrees_mma"
   ],
   "metadata": {
    "collapsed": false,
    "pycharm": {
     "name": "#%% Calculate average, min and max degree for all networks\n"
    }
   }
  },
  {
   "cell_type": "code",
   "execution_count": null,
   "outputs": [],
   "source": [
    "datas = { l: {'ENTITY': np.repeat(l, len(degrees[l])), 'DEGREE': degrees[l]} for l in LEVELS}\n",
    "degrees_dfs = [pd.DataFrame(datas[l], columns=['ENTITY', 'DEGREE']) for l in LEVELS]\n",
    "\n",
    "degrees_df = pd.concat(degrees_dfs)\n",
    "sns.set(style=\"ticks\")\n",
    "ax = sns.violinplot(x=\"ENTITY\", y=\"DEGREE\", data=degrees_df)"
   ],
   "metadata": {
    "collapsed": false,
    "pycharm": {
     "name": "#%% Plot the max, min, and average degree for each granularity level\n"
    }
   }
  },
  {
   "cell_type": "code",
   "execution_count": null,
   "outputs": [],
   "source": [
    "import matplotlib.pyplot as plt\n",
    "\n",
    "[sns.kdeplot(degrees[l], label=l) for l in LEVELS]\n",
    "plt.legend();"
   ],
   "metadata": {
    "collapsed": false,
    "pycharm": {
     "name": "#%% Plot degree distribution\n"
    }
   }
  },
  {
   "cell_type": "code",
   "execution_count": null,
   "outputs": [],
   "source": [
    "degrees = {l: [graphs[l].degree(n) for n, t in graphs[l].nodes(data='type') if t != \"SimpleEntity\"] for l in LEVELS}\n",
    "mins = pd.Series([min(degrees[l]) for l in LEVELS], index=LEVELS)\n",
    "maxs = pd.Series([max(degrees[l]) for l in LEVELS], index=LEVELS)\n",
    "avgs = pd.Series([sum(degrees[l])/len(degrees[l]) for l in LEVELS], index=LEVELS)\n",
    "\n",
    "degrees_df = pd.DataFrame({\"Min\": mins, \"Max\": maxs, \"Avg\": avgs}, index=LEVELS)\n",
    "degrees_df.columns.name = \"Entity Type\"\n",
    "degrees_df"
   ],
   "metadata": {
    "collapsed": false,
    "pycharm": {
     "name": "#%% Calculate average, min and max degree for all networks without small molecules\n"
    }
   }
  },
  {
   "cell_type": "code",
   "execution_count": null,
   "outputs": [],
   "source": [],
   "metadata": {
    "collapsed": false,
    "pycharm": {
     "name": "#%% Plot degree distribution for each granularity level without small molecule interactions\n"
    }
   }
  },
  {
   "cell_type": "code",
   "execution_count": null,
   "outputs": [],
   "source": [
    "datas = { l: {'ENTITY': np.repeat(l, len(degrees[l])), 'DEGREE': degrees[l]} for l in LEVELS}\n",
    "degrees_dfs = [pd.DataFrame(datas[l], columns=['ENTITY', 'DEGREE']) for l in LEVELS]\n",
    "\n",
    "degrees_df = pd.concat(degrees_dfs)\n",
    "sns.set(style=\"ticks\")\n",
    "ax = sns.violinplot(x=\"ENTITY\", y=\"DEGREE\", data=degrees_df)"
   ],
   "metadata": {
    "collapsed": false,
    "pycharm": {
     "name": "#%% Plot the max, min, and average degree for each granularity level\n"
    }
   }
  },
  {
   "cell_type": "code",
   "execution_count": null,
   "outputs": [],
   "source": [
    "import matplotlib.pyplot as plt\n",
    "\n",
    "[sns.kdeplot(degrees[l], label=l) for l in LEVELS]\n",
    "plt.legend();"
   ],
   "metadata": {
    "collapsed": false,
    "pycharm": {
     "name": "#%% Plot degree distribution\n"
    }
   }
  },
  {
   "cell_type": "markdown",
   "source": [
    "## Bridges and Articulation points"
   ],
   "metadata": {
    "collapsed": false,
    "pycharm": {
     "name": "#%% md\n"
    }
   }
  },
  {
   "cell_type": "code",
   "execution_count": null,
   "outputs": [],
   "source": [
    "br_ap = pd.DataFrame({\n",
    "    \"Articulation Points\": [len(list(nx.articulation_points(graphs[l]))) for l in LEVELS],\n",
    "    \"Bridges\": [len(list(nx.bridges(graphs[l]))) for l in LEVELS]},\n",
    "    index=LEVELS)\n",
    "br_ap.columns.name = \"Entity Type\"\n",
    "\n",
    "br_ap"
   ],
   "metadata": {
    "collapsed": false,
    "pycharm": {
     "name": "#%%\n"
    }
   }
  },
  {
   "cell_type": "code",
   "execution_count": null,
   "outputs": [],
   "source": [
    "#plot_low_level_pathways(figures_path=\"figures/pathways/\", graphs_path=\"reports/pathways/\")"
   ],
   "metadata": {
    "collapsed": false,
    "pycharm": {
     "name": "#%%  Plot all pathways at the three granularity levels\n"
    }
   }
  },
  {
   "cell_type": "code",
   "execution_count": null,
   "outputs": [],
   "source": [
    "# TODO: Write function that plots and highlights the articulation points of an interaction network.\n",
    "# TODO: Write function that plots and highlights also the bridges of the network."
   ],
   "metadata": {
    "collapsed": false,
    "pycharm": {
     "name": "#%%\n"
    }
   }
  }
 ],
 "metadata": {
  "kernelspec": {
   "display_name": "Python 3",
   "language": "python",
   "name": "python3"
  },
  "language_info": {
   "codemirror_mode": {
    "name": "ipython",
    "version": 2
   },
   "file_extension": ".py",
   "mimetype": "text/x-python",
   "name": "python",
   "nbconvert_exporter": "python",
   "pygments_lexer": "ipython2",
   "version": "2.7.6"
  },
  "pycharm": {
   "stem_cell": {
    "cell_type": "raw",
    "source": [
     "# This file is the starting point for the whole project.\n",
     "\"\"\"\n",
     " The goal of this project is to study the differences between protein and proteoform \n",
     " interaction networks for functional analysis.\n",
     "\n",
     "\"\"\"  \n"
    ],
    "metadata": {
     "collapsed": false
    }
   }
  }
 },
 "nbformat": 4,
 "nbformat_minor": 0
}