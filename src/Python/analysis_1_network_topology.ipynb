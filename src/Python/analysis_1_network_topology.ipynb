{
 "cells": [
  {
   "cell_type": "markdown",
   "source": [
    " ## Set up"
   ],
   "metadata": {
    "collapsed": false,
    "pycharm": {
     "name": "#%% md\n"
    }
   }
  },
  {
   "cell_type": "code",
   "execution_count": 1,
   "outputs": [
    {
     "name": "stdout",
     "output_type": "stream",
     "text": [
      "Working directory: c:\\git\\pathwayanalysisplatform\\proteoformnetworks\n"
     ]
    }
   ],
   "source": [
    "import networkx as nx\n",
    "import numpy as np\n",
    "import pandas as pd\n",
    "import seaborn as sns\n",
    "\n",
    "import config\n",
    "from config import LEVELS, sm, with_sm, no_sm, with_unique_sm, GRAPHS_PATH, genes, proteins, proteoforms\n",
    "from interactomes import get_interactome, print_interactome_details, get_json_filename, read_graph, get_nums\n",
    "from lib.graph_database import get_participants, get_components\n",
    "\n",
    "%load_ext autoreload\n",
    "%autoreload 2\n",
    "%reload_ext autoreload\n",
    "\n",
    "config.set_root_wd()"
   ],
   "metadata": {
    "collapsed": false,
    "pycharm": {
     "name": "#%% Set up configuration\n"
    }
   }
  },
  {
   "cell_type": "code",
   "execution_count": 2,
   "outputs": [
    {
     "data": {
      "text/plain": "{'genes':         Unnamed: 0        Pathway       Reaction         Entity    Name  \\\n 0                0  R-HSA-1059683  R-HSA-1067640   R-HSA-447100     IL6   \n 1                1  R-HSA-1059683  R-HSA-1067640  R-HSA-1067661  IL6R-2   \n 2                2  R-HSA-1059683  R-HSA-1067640   R-HSA-447100     IL6   \n 3                3  R-HSA-1059683  R-HSA-1067640  R-HSA-1067661  IL6R-2   \n 4                4  R-HSA-1059683  R-HSA-1067646   R-HSA-448453   IL6ST   \n ...            ...            ...            ...            ...     ...   \n 248393      248393   R-HSA-997272  R-HSA-1013020   R-HSA-164383    GNG5   \n 248394      248394   R-HSA-997272  R-HSA-1013020   R-HSA-164367   GNG12   \n 248395      248395   R-HSA-997272  R-HSA-1013020   R-HSA-164380    GNG2   \n 248396      248396   R-HSA-997272  R-HSA-1013020   R-HSA-420716  GABBR1   \n 248397      248397   R-HSA-997272  R-HSA-1013020   R-HSA-420747  GABBR2   \n \n                                  Type      Id Database              Role  \n 0       EntityWithAccessionedSequence     IL6  UniProt             input  \n 1       EntityWithAccessionedSequence    IL6R  UniProt             input  \n 2       EntityWithAccessionedSequence     IL6  UniProt            output  \n 3       EntityWithAccessionedSequence    IL6R  UniProt            output  \n 4       EntityWithAccessionedSequence   IL6ST  UniProt             input  \n ...                               ...     ...      ...               ...  \n 248393  EntityWithAccessionedSequence    GNG5  UniProt  catalystActivity  \n 248394  EntityWithAccessionedSequence   GNG12  UniProt  catalystActivity  \n 248395  EntityWithAccessionedSequence    GNG2  UniProt  catalystActivity  \n 248396  EntityWithAccessionedSequence  GABBR1  UniProt  catalystActivity  \n 248397  EntityWithAccessionedSequence  GABBR2  UniProt  catalystActivity  \n \n [248398 rows x 9 columns],\n 'proteins':         Unnamed: 0        Pathway       Reaction         Entity    Name  \\\n 0                0  R-HSA-1059683  R-HSA-1067640   R-HSA-447100     IL6   \n 1                1  R-HSA-1059683  R-HSA-1067640  R-HSA-1067661  IL6R-2   \n 2                2  R-HSA-1059683  R-HSA-1067640   R-HSA-447100     IL6   \n 3                3  R-HSA-1059683  R-HSA-1067640  R-HSA-1067661  IL6R-2   \n 4                4  R-HSA-1059683  R-HSA-1067646   R-HSA-448453   IL6ST   \n ...            ...            ...            ...            ...     ...   \n 248393      248393   R-HSA-997272  R-HSA-1013020   R-HSA-164383    GNG5   \n 248394      248394   R-HSA-997272  R-HSA-1013020   R-HSA-164367   GNG12   \n 248395      248395   R-HSA-997272  R-HSA-1013020   R-HSA-164380    GNG2   \n 248396      248396   R-HSA-997272  R-HSA-1013020   R-HSA-420716  GABBR1   \n 248397      248397   R-HSA-997272  R-HSA-1013020   R-HSA-420747  GABBR2   \n \n                                  Type      Id  PrevId Database  \\\n 0       EntityWithAccessionedSequence  P05231     IL6  UniProt   \n 1       EntityWithAccessionedSequence  P08887    IL6R  UniProt   \n 2       EntityWithAccessionedSequence  P05231     IL6  UniProt   \n 3       EntityWithAccessionedSequence  P08887    IL6R  UniProt   \n 4       EntityWithAccessionedSequence  P40189   IL6ST  UniProt   \n ...                               ...     ...     ...      ...   \n 248393  EntityWithAccessionedSequence  P63218    GNG5  UniProt   \n 248394  EntityWithAccessionedSequence  Q9UBI6   GNG12  UniProt   \n 248395  EntityWithAccessionedSequence  P59768    GNG2  UniProt   \n 248396  EntityWithAccessionedSequence  Q9UBS5  GABBR1  UniProt   \n 248397  EntityWithAccessionedSequence  O75899  GABBR2  UniProt   \n \n                     Role  \n 0                  input  \n 1                  input  \n 2                 output  \n 3                 output  \n 4                  input  \n ...                  ...  \n 248393  catalystActivity  \n 248394  catalystActivity  \n 248395  catalystActivity  \n 248396  catalystActivity  \n 248397  catalystActivity  \n \n [248398 rows x 10 columns],\n 'proteoforms':         Unnamed: 0        Pathway       Reaction         Entity    Name  \\\n 0                0  R-HSA-1059683  R-HSA-1067640   R-HSA-447100     IL6   \n 1                1  R-HSA-1059683  R-HSA-1067640  R-HSA-1067661  IL6R-2   \n 2                2  R-HSA-1059683  R-HSA-1067640   R-HSA-447100     IL6   \n 3                3  R-HSA-1059683  R-HSA-1067640  R-HSA-1067661  IL6R-2   \n 4                4  R-HSA-1059683  R-HSA-1067646   R-HSA-448453   IL6ST   \n ...            ...            ...            ...            ...     ...   \n 248393      248393   R-HSA-997272  R-HSA-1013020   R-HSA-164383    GNG5   \n 248394      248394   R-HSA-997272  R-HSA-1013020   R-HSA-164367   GNG12   \n 248395      248395   R-HSA-997272  R-HSA-1013020   R-HSA-164380    GNG2   \n 248396      248396   R-HSA-997272  R-HSA-1013020   R-HSA-420716  GABBR1   \n 248397      248397   R-HSA-997272  R-HSA-1013020   R-HSA-420747  GABBR2   \n \n                                  Type         Id  PrevId Database  \\\n 0       EntityWithAccessionedSequence    P05231;  P05231  UniProt   \n 1       EntityWithAccessionedSequence  P08887-2;  P08887  UniProt   \n 2       EntityWithAccessionedSequence    P05231;  P05231  UniProt   \n 3       EntityWithAccessionedSequence  P08887-2;  P08887  UniProt   \n 4       EntityWithAccessionedSequence    P40189;  P40189  UniProt   \n ...                               ...        ...     ...      ...   \n 248393  EntityWithAccessionedSequence    P63218;  P63218  UniProt   \n 248394  EntityWithAccessionedSequence    Q9UBI6;  Q9UBI6  UniProt   \n 248395  EntityWithAccessionedSequence    P59768;  P59768  UniProt   \n 248396  EntityWithAccessionedSequence    Q9UBS5;  Q9UBS5  UniProt   \n 248397  EntityWithAccessionedSequence    O75899;  O75899  UniProt   \n \n                     Role  \n 0                  input  \n 1                  input  \n 2                 output  \n 3                 output  \n 4                  input  \n ...                  ...  \n 248393  catalystActivity  \n 248394  catalystActivity  \n 248395  catalystActivity  \n 248396  catalystActivity  \n 248397  catalystActivity  \n \n [248398 rows x 10 columns],\n 'sm':        Unnamed: 0        Pathway       Reaction        Entity  Name  \\\n 0               0  R-HSA-1059683  R-HSA-1112510  R-ALL-113592   ATP   \n 1               1  R-HSA-1059683  R-HSA-1112510   R-ALL-29370   ADP   \n 2               2  R-HSA-1059683  R-HSA-1112514  R-ALL-113592   ATP   \n 3               3  R-HSA-1059683  R-HSA-1112514   R-ALL-29370   ADP   \n 4               4  R-HSA-1059683  R-HSA-1112602  R-ALL-113592   ATP   \n ...           ...            ...            ...           ...   ...   \n 31094       31094   R-HSA-997272  R-HSA-1013013  R-ALL-352003  GABA   \n 31095       31095   R-HSA-997272  R-HSA-1013013  R-ALL-352003  GABA   \n 31096       31096   R-HSA-997272  R-HSA-1013020  R-ALL-352003  GABA   \n 31097       31097   R-HSA-997272  R-HSA-1013020   R-ALL-29804    K+   \n 31098       31098   R-HSA-997272  R-HSA-1013020   R-ALL-74126    K+   \n \n                Type       Id Database              Role               UniqueId  \n 0      SimpleEntity   sm_ATP    ChEBI             input   sm_R-HSA-1112510_ATP  \n 1      SimpleEntity   sm_ADP    ChEBI            output   sm_R-HSA-1112510_ADP  \n 2      SimpleEntity   sm_ATP    ChEBI             input   sm_R-HSA-1112514_ATP  \n 3      SimpleEntity   sm_ADP    ChEBI            output   sm_R-HSA-1112514_ADP  \n 4      SimpleEntity   sm_ATP    ChEBI             input   sm_R-HSA-1112602_ATP  \n ...             ...      ...      ...               ...                    ...  \n 31094  SimpleEntity  sm_GABA    ChEBI             input  sm_R-HSA-1013013_GABA  \n 31095  SimpleEntity  sm_GABA    ChEBI            output  sm_R-HSA-1013013_GABA  \n 31096  SimpleEntity  sm_GABA    ChEBI  catalystActivity  sm_R-HSA-1013020_GABA  \n 31097  SimpleEntity    sm_K+    ChEBI             input    sm_R-HSA-1013020_K+  \n 31098  SimpleEntity    sm_K+    ChEBI            output    sm_R-HSA-1013020_K+  \n \n [31099 rows x 10 columns]}"
     },
     "execution_count": 2,
     "metadata": {},
     "output_type": "execute_result"
    }
   ],
   "source": [
    "# Genes:\n",
    "# Pathway, Reaction, Entity, Name, Type, Id, Database, Role\n",
    "\n",
    "# Proteins:\n",
    "# Pathway, Reaction, Entity, Name, Type, Id, PrevId, Database, Role\n",
    "\n",
    "# Proteoforms:\n",
    "# Pathway, Reaction, Entity, Name, Type, Id, PrevId, Database, Role\n",
    "\n",
    "# Small molecules:\n",
    "# Pathway, Reaction, Entity, Name, Type, Id, Database, Role\n",
    "\n",
    "participant_records = { l: get_participants(l, GRAPHS_PATH) for l in LEVELS}\n",
    "participant_records[sm] = get_participants(sm, GRAPHS_PATH)\n",
    "\n",
    "participant_records"
   ],
   "metadata": {
    "collapsed": false,
    "pycharm": {
     "name": "#%% Get all reaction participants in Reactome\n"
    }
   }
  },
  {
   "cell_type": "code",
   "execution_count": 3,
   "outputs": [
    {
     "data": {
      "text/plain": "{'genes':         Unnamed: 0        Complex         Entity          Name  \\\n 0                0  R-HSA-1006173   R-HSA-976788           CFH   \n 1                1  R-HSA-1008206  R-HSA-1008221          NFE2   \n 2                2  R-HSA-1008206  R-HSA-1008261          MAFF   \n 3                3  R-HSA-1008206  R-HSA-1008212          MAFG   \n 4                4  R-HSA-1008206  R-HSA-1008242          MAFK   \n ...            ...            ...            ...           ...   \n 108399      108399   R-NUL-997399   R-HSA-879433         S100B   \n 108400      108400   R-NUL-997399   R-HSA-976740  APP(672-711)   \n 108401      108401   R-NUL-997399   R-HSA-879382         HMGB1   \n 108402      108402   R-NUL-997399  R-HSA-2457833  SAA1(19-122)   \n 108403      108403   R-NUL-997399   R-HSA-197639          AGER   \n \n                                  Type     Id  \n 0       EntityWithAccessionedSequence    CFH  \n 1       EntityWithAccessionedSequence   NFE2  \n 2       EntityWithAccessionedSequence   MAFF  \n 3       EntityWithAccessionedSequence   MAFG  \n 4       EntityWithAccessionedSequence   MAFK  \n ...                               ...    ...  \n 108399  EntityWithAccessionedSequence  S100B  \n 108400  EntityWithAccessionedSequence    APP  \n 108401  EntityWithAccessionedSequence  HMGB1  \n 108402  EntityWithAccessionedSequence   SAA1  \n 108403  EntityWithAccessionedSequence   AGER  \n \n [108404 rows x 6 columns],\n 'proteins':         Unnamed: 0        Complex         Entity          Name  \\\n 0                0  R-HSA-1006173   R-HSA-976788           CFH   \n 1                1  R-HSA-1008206  R-HSA-1008221          NFE2   \n 2                2  R-HSA-1008206  R-HSA-1008261          MAFF   \n 3                3  R-HSA-1008206  R-HSA-1008212          MAFG   \n 4                4  R-HSA-1008206  R-HSA-1008242          MAFK   \n ...            ...            ...            ...           ...   \n 108399      108399   R-NUL-997399   R-HSA-879433         S100B   \n 108400      108400   R-NUL-997399   R-HSA-976740  APP(672-711)   \n 108401      108401   R-NUL-997399   R-HSA-879382         HMGB1   \n 108402      108402   R-NUL-997399  R-HSA-2457833  SAA1(19-122)   \n 108403      108403   R-NUL-997399   R-HSA-197639          AGER   \n \n                                  Type      Id PrevId  \n 0       EntityWithAccessionedSequence  P08603    CFH  \n 1       EntityWithAccessionedSequence  Q16621   NFE2  \n 2       EntityWithAccessionedSequence  Q9ULX9   MAFF  \n 3       EntityWithAccessionedSequence  O15525   MAFG  \n 4       EntityWithAccessionedSequence  O60675   MAFK  \n ...                               ...     ...    ...  \n 108399  EntityWithAccessionedSequence  P04271  S100B  \n 108400  EntityWithAccessionedSequence  P05067    APP  \n 108401  EntityWithAccessionedSequence  P09429  HMGB1  \n 108402  EntityWithAccessionedSequence  P0DJI8   SAA1  \n 108403  EntityWithAccessionedSequence  Q15109   AGER  \n \n [108404 rows x 7 columns],\n 'proteoforms':         Unnamed: 0        Complex         Entity          Name  \\\n 0                0  R-HSA-1006173   R-HSA-976788           CFH   \n 1                1  R-HSA-1008206  R-HSA-1008221          NFE2   \n 2                2  R-HSA-1008206  R-HSA-1008261          MAFF   \n 3                3  R-HSA-1008206  R-HSA-1008212          MAFG   \n 4                4  R-HSA-1008206  R-HSA-1008242          MAFK   \n ...            ...            ...            ...           ...   \n 108399      108399   R-NUL-997399   R-HSA-879433         S100B   \n 108400      108400   R-NUL-997399   R-HSA-976740  APP(672-711)   \n 108401      108401   R-NUL-997399   R-HSA-879382         HMGB1   \n 108402      108402   R-NUL-997399  R-HSA-2457833  SAA1(19-122)   \n 108403      108403   R-NUL-997399   R-HSA-197639          AGER   \n \n                                  Type       Id  PrevId  \n 0       EntityWithAccessionedSequence  P08603;  P08603  \n 1       EntityWithAccessionedSequence  Q16621;  Q16621  \n 2       EntityWithAccessionedSequence  Q9ULX9;  Q9ULX9  \n 3       EntityWithAccessionedSequence  O15525;  O15525  \n 4       EntityWithAccessionedSequence  O60675;  O60675  \n ...                               ...      ...     ...  \n 108399  EntityWithAccessionedSequence  P04271;  P04271  \n 108400  EntityWithAccessionedSequence  P05067;  P05067  \n 108401  EntityWithAccessionedSequence  P09429;  P09429  \n 108402  EntityWithAccessionedSequence  P0DJI8;  P0DJI8  \n 108403  EntityWithAccessionedSequence  Q15109;  Q15109  \n \n [108404 rows x 7 columns],\n 'sm':       Unnamed: 0        Complex         Entity  \\\n 0              0  R-HSA-1006173  R-ALL-1006168   \n 1              1  R-HSA-1006173  R-ALL-1006140   \n 2              2  R-HSA-1013011   R-ALL-352003   \n 3              3  R-HSA-1013017   R-ALL-352003   \n 4              4   R-HSA-109266   R-ALL-109265   \n ...          ...            ...            ...   \n 5757        5757  R-NUL-9619245    R-ALL-74016   \n 5758        5758  R-NUL-9619393    R-ALL-74016   \n 5759        5759   R-NUL-997399   R-ALL-879484   \n 5760        5760   R-NUL-997399   R-ALL-938699   \n 5761        5761   R-NUL-997399   R-ALL-879473   \n \n                                       Name          Type  \\\n 0                              Sialic acid  SimpleEntity   \n 1                                 Heparins  SimpleEntity   \n 2                                     GABA  SimpleEntity   \n 3                                     GABA  SimpleEntity   \n 4                                     Zn2+  SimpleEntity   \n ...                                    ...           ...   \n 5757                                  Ca2+  SimpleEntity   \n 5758                                  Ca2+  SimpleEntity   \n 5759                               Peptide  SimpleEntity   \n 5760  N-epsilon-(1-(1-carboxy)ethyl)lysine  SimpleEntity   \n 5761                                 NECML  SimpleEntity   \n \n                                            Id  \\\n 0                              sm_Sialic_acid   \n 1                                 sm_Heparins   \n 2                                     sm_GABA   \n 3                                     sm_GABA   \n 4                                     sm_Zn2+   \n ...                                       ...   \n 5757                                  sm_Ca2+   \n 5758                                  sm_Ca2+   \n 5759                               sm_Peptide   \n 5760  sm_N-epsilon-(1-(1-carboxy)ethyl)lysine   \n 5761                                 sm_NECML   \n \n                                                UniqueId  \n 0                          sm_R-HSA-1006173_Sialic_acid  \n 1                             sm_R-HSA-1006173_Heparins  \n 2                                 sm_R-HSA-1013011_GABA  \n 3                                 sm_R-HSA-1013017_GABA  \n 4                                  sm_R-HSA-109266_Zn2+  \n ...                                                 ...  \n 5757                              sm_R-NUL-9619245_Ca2+  \n 5758                              sm_R-NUL-9619393_Ca2+  \n 5759                            sm_R-NUL-997399_Peptide  \n 5760  sm_R-NUL-997399_N-epsilon-(1-(1-carboxy)ethyl)...  \n 5761                              sm_R-NUL-997399_NECML  \n \n [5762 rows x 7 columns]}"
     },
     "execution_count": 3,
     "metadata": {},
     "output_type": "execute_result"
    }
   ],
   "source": [
    "# Genes:\n",
    "# Complex, Entity, Name, Type, Id\n",
    "\n",
    "# Proteins:\n",
    "# Complex, Entity, Name, Type, Id, PrevId\n",
    "\n",
    "# Proteoforms:\n",
    "# Complex, Entity, Name, Type, Id, PrevId\n",
    "\n",
    "# Small molecules:\n",
    "# Complex, Entity, Name, Type, Id\n",
    "\n",
    "components_records = { l: get_components(l, GRAPHS_PATH) for l in LEVELS}\n",
    "components_records[sm] = get_components(sm, GRAPHS_PATH)\n",
    "\n",
    "components_records"
   ],
   "metadata": {
    "collapsed": false,
    "pycharm": {
     "name": "#%% Get complex components in Reactome\n"
    }
   }
  },
  {
   "cell_type": "code",
   "execution_count": 4,
   "outputs": [
    {
     "name": "stdout",
     "output_type": "stream",
     "text": [
      "Graph for genes \n",
      "Graph edges: 453137\n",
      "Graph nodes: 10968\n",
      "Graph genes nodes: 10968\n",
      "Graph small molecule nodes: 0\n",
      "\n",
      "***********************\n",
      "\n",
      "\n",
      "Graph for proteins \n",
      "Graph edges: 462430\n",
      "Graph nodes: 11066\n",
      "Graph proteins nodes: 11066\n",
      "Graph small molecule nodes: 0\n",
      "\n",
      "***********************\n",
      "\n",
      "\n",
      "Graph for proteoforms \n",
      "Graph edges: 677057\n",
      "Graph nodes: 14295\n",
      "Graph proteoforms nodes: 14295\n",
      "Graph small molecule nodes: 0\n",
      "\n",
      "***********************\n",
      "\n",
      "\n"
     ]
    }
   ],
   "source": [
    "interactomes_no_sm = { l: get_interactome(l, no_sm, participant_records, components_records, GRAPHS_PATH) for l in LEVELS}\n",
    "for level, interactome in interactomes_no_sm.items():\n",
    "     print_interactome_details(interactome)"
   ],
   "metadata": {
    "collapsed": false,
    "pycharm": {
     "name": "#%% Create interactomes without small molecules for Genes, Proteins and Proteoforms\n"
    }
   }
  },
  {
   "cell_type": "code",
   "execution_count": 5,
   "outputs": [
    {
     "name": "stdout",
     "output_type": "stream",
     "text": [
      "Graph for genes \n",
      "Graph edges: 528969\n",
      "Graph nodes: 12933\n",
      "Graph genes nodes: 10968\n",
      "Graph small molecule nodes: 1965\n",
      "\n",
      "***********************\n",
      "\n",
      "\n",
      "Graph for proteins \n",
      "Graph edges: 538874\n",
      "Graph nodes: 13031\n",
      "Graph proteins nodes: 11066\n",
      "Graph small molecule nodes: 1965\n",
      "\n",
      "***********************\n",
      "\n",
      "\n",
      "Graph for proteoforms \n",
      "Graph edges: 759198\n",
      "Graph nodes: 16260\n",
      "Graph proteoforms nodes: 14295\n",
      "Graph small molecule nodes: 1965\n",
      "\n",
      "***********************\n",
      "\n",
      "\n"
     ]
    }
   ],
   "source": [
    "interactomes_with_sm = { l: get_interactome(l, with_sm, participant_records, components_records, GRAPHS_PATH) for l in LEVELS}\n",
    "for level, interactome in interactomes_with_sm.items():\n",
    "     print_interactome_details(interactome)"
   ],
   "metadata": {
    "collapsed": false,
    "pycharm": {
     "name": "#%% Create interactomes with generic small molecules for Genes, Proteins and Proteoforms\n"
    }
   }
  },
  {
   "cell_type": "code",
   "execution_count": 6,
   "outputs": [
    {
     "name": "stdout",
     "output_type": "stream",
     "text": [
      "Creating interactome file...\n",
      "genes level - small molecules: 28110\n",
      "genes: 10968\n",
      "Storing network level: genes at directory: resources/Reactome/76/\n",
      "Created json file.\n",
      "Created edges file for genes\n",
      "Created entity vertices file for genes\n",
      "Created small molecule vertices file for genes\n",
      "Finished creating interactome file for genes-with_unique_sm\n",
      "Creating interactome file...\n",
      "proteins level - small molecules: 28110\n",
      "proteins: 11066\n",
      "Storing network level: proteins at directory: resources/Reactome/76/\n",
      "Created json file.\n",
      "Created edges file for proteins\n",
      "Created entity vertices file for proteins\n",
      "Created small molecule vertices file for proteins\n",
      "Created mapping proteins to genes file.\n",
      "Finished creating interactome file for proteins-with_unique_sm\n",
      "Creating interactome file...\n",
      "proteoforms level - small molecules: 28110\n",
      "proteoforms: 14295\n",
      "Storing network level: proteoforms at directory: resources/Reactome/76/\n",
      "Created json file.\n",
      "Created edges file for proteoforms\n",
      "Created entity vertices file for proteoforms\n",
      "Created small molecule vertices file for proteoforms\n",
      "Created mapping proteins to proteoforms file.\n",
      "Finished creating interactome file for proteoforms-with_unique_sm\n",
      "Graph for genes \n",
      "Graph edges: 839401\n",
      "Graph nodes: 39078\n",
      "Graph genes nodes: 10968\n",
      "Graph small molecule nodes: 28110\n",
      "\n",
      "***********************\n",
      "\n",
      "\n",
      "Graph for proteins \n",
      "Graph edges: 853568\n",
      "Graph nodes: 39176\n",
      "Graph proteins nodes: 11066\n",
      "Graph small molecule nodes: 28110\n",
      "\n",
      "***********************\n",
      "\n",
      "\n",
      "Graph for proteoforms \n",
      "Graph edges: 1077886\n",
      "Graph nodes: 42405\n",
      "Graph proteoforms nodes: 14295\n",
      "Graph small molecule nodes: 28110\n",
      "\n",
      "***********************\n",
      "\n",
      "\n"
     ]
    }
   ],
   "source": [
    "interactomes_with_unique_sm = { l: get_interactome(l, with_unique_sm, participant_records, components_records, GRAPHS_PATH) for l in LEVELS}\n",
    "\n",
    "for level, interactome in interactomes_with_unique_sm.items():\n",
    "     print_interactome_details(interactome)\n"
   ],
   "metadata": {
    "collapsed": false,
    "pycharm": {
     "name": "#%% Create interactomes with reaction-unique and complex-unique small molecules  for Genes, Proteins and Proteoforms\n"
    }
   }
  },
  {
   "cell_type": "code",
   "execution_count": 7,
   "outputs": [
    {
     "data": {
      "text/plain": "[('Not Included', 'genes'),\n ('Not Included', 'proteins'),\n ('Not Included', 'proteoforms'),\n ('Included', 'genes'),\n ('Included', 'proteins'),\n ('Included', 'proteoforms'),\n ('Reaction-Unique Included', 'genes'),\n ('Reaction-Unique Included', 'proteins'),\n ('Reaction-Unique Included', 'proteoforms')]"
     },
     "execution_count": 7,
     "metadata": {},
     "output_type": "execute_result"
    }
   ],
   "source": [
    "nums_no_sm = get_nums(interactomes_no_sm)\n",
    "nums_with_sm = get_nums(interactomes_with_sm)\n",
    "nums_with_unique_sm = get_nums(interactomes_with_unique_sm)\n",
    "\n",
    "arrays = [\n",
    "    [*([\"Not Included\"]*3), *([\"Included\"]*3), *([\"Reaction-Unique Included\"]*3)],\n",
    "    [*(LEVELS*3)]\n",
    "]\n",
    "tuples = list(zip(*arrays))\n",
    "tuples"
   ],
   "metadata": {
    "collapsed": false,
    "pycharm": {
     "name": "#%% Calculate size of the full networks\n"
    }
   }
  },
  {
   "cell_type": "code",
   "execution_count": 8,
   "outputs": [
    {
     "data": {
      "text/plain": "MultiIndex([(            'Not Included',       'genes'),\n            (            'Not Included',    'proteins'),\n            (            'Not Included', 'proteoforms'),\n            (                'Included',       'genes'),\n            (                'Included',    'proteins'),\n            (                'Included', 'proteoforms'),\n            ('Reaction-Unique Included',       'genes'),\n            ('Reaction-Unique Included',    'proteins'),\n            ('Reaction-Unique Included', 'proteoforms')],\n           names=['Small Molecules', 'Entity Level'])"
     },
     "execution_count": 8,
     "metadata": {},
     "output_type": "execute_result"
    }
   ],
   "source": [
    "index = pd.MultiIndex.from_tuples(tuples, names=[\"Small Molecules\", \"Entity Level\"])\n",
    "index"
   ],
   "metadata": {
    "collapsed": false,
    "pycharm": {
     "name": "#%%\n"
    }
   }
  },
  {
   "cell_type": "code",
   "execution_count": 9,
   "outputs": [
    {
     "name": "stdout",
     "output_type": "stream",
     "text": [
      "[453137, 462430, 677057, 528969, 538874, 759198, 839401, 853568, 1077886]\n",
      "[10968, 11066, 14295, 10968, 11066, 14295, 10968, 11066, 14295]\n",
      "[0, 0, 0, 1965, 1965, 1965, 28110, 28110, 28110]\n"
     ]
    }
   ],
   "source": [
    "num_interactions = [*nums_no_sm[0], *nums_with_sm[0], *nums_with_unique_sm[0]]\n",
    "num_entities = [*nums_no_sm[1], *nums_with_sm[1], *nums_with_unique_sm[1]]\n",
    "num_small_molecules = [*nums_no_sm[2], *nums_with_sm[2], *nums_with_unique_sm[2]]\n",
    "\n",
    "print(num_interactions)\n",
    "print(num_entities)\n",
    "print(num_small_molecules)"
   ],
   "metadata": {
    "collapsed": false,
    "pycharm": {
     "name": "#%%\n"
    }
   }
  },
  {
   "cell_type": "code",
   "execution_count": 10,
   "outputs": [
    {
     "data": {
      "text/plain": "                                       Interactions  Accessioned Entities  \\\nSmall Molecules          Entity Level                                       \nNot Included             genes               453137                 10968   \n                         proteins            462430                 11066   \n                         proteoforms         677057                 14295   \nIncluded                 genes               528969                 10968   \n                         proteins            538874                 11066   \n                         proteoforms         759198                 14295   \nReaction-Unique Included genes               839401                 10968   \n                         proteins            853568                 11066   \n                         proteoforms        1077886                 14295   \n\n                                       Small Molecules  \nSmall Molecules          Entity Level                   \nNot Included             genes                       0  \n                         proteins                    0  \n                         proteoforms                 0  \nIncluded                 genes                    1965  \n                         proteins                 1965  \n                         proteoforms              1965  \nReaction-Unique Included genes                   28110  \n                         proteins                28110  \n                         proteoforms             28110  ",
      "text/html": "<div>\n<style scoped>\n    .dataframe tbody tr th:only-of-type {\n        vertical-align: middle;\n    }\n\n    .dataframe tbody tr th {\n        vertical-align: top;\n    }\n\n    .dataframe thead th {\n        text-align: right;\n    }\n</style>\n<table border=\"1\" class=\"dataframe\">\n  <thead>\n    <tr style=\"text-align: right;\">\n      <th></th>\n      <th></th>\n      <th>Interactions</th>\n      <th>Accessioned Entities</th>\n      <th>Small Molecules</th>\n    </tr>\n    <tr>\n      <th>Small Molecules</th>\n      <th>Entity Level</th>\n      <th></th>\n      <th></th>\n      <th></th>\n    </tr>\n  </thead>\n  <tbody>\n    <tr>\n      <th rowspan=\"3\" valign=\"top\">Not Included</th>\n      <th>genes</th>\n      <td>453137</td>\n      <td>10968</td>\n      <td>0</td>\n    </tr>\n    <tr>\n      <th>proteins</th>\n      <td>462430</td>\n      <td>11066</td>\n      <td>0</td>\n    </tr>\n    <tr>\n      <th>proteoforms</th>\n      <td>677057</td>\n      <td>14295</td>\n      <td>0</td>\n    </tr>\n    <tr>\n      <th rowspan=\"3\" valign=\"top\">Included</th>\n      <th>genes</th>\n      <td>528969</td>\n      <td>10968</td>\n      <td>1965</td>\n    </tr>\n    <tr>\n      <th>proteins</th>\n      <td>538874</td>\n      <td>11066</td>\n      <td>1965</td>\n    </tr>\n    <tr>\n      <th>proteoforms</th>\n      <td>759198</td>\n      <td>14295</td>\n      <td>1965</td>\n    </tr>\n    <tr>\n      <th rowspan=\"3\" valign=\"top\">Reaction-Unique Included</th>\n      <th>genes</th>\n      <td>839401</td>\n      <td>10968</td>\n      <td>28110</td>\n    </tr>\n    <tr>\n      <th>proteins</th>\n      <td>853568</td>\n      <td>11066</td>\n      <td>28110</td>\n    </tr>\n    <tr>\n      <th>proteoforms</th>\n      <td>1077886</td>\n      <td>14295</td>\n      <td>28110</td>\n    </tr>\n  </tbody>\n</table>\n</div>"
     },
     "execution_count": 10,
     "metadata": {},
     "output_type": "execute_result"
    }
   ],
   "source": [
    "sizes = pd.DataFrame({\n",
    "    \"Interactions\": num_interactions,\n",
    "    \"Accessioned Entities\": num_entities,\n",
    "    \"Small Molecules\": num_small_molecules\n",
    "}, index=index)\n",
    "sizes.columns.name = \"\"\n",
    "sizes"
   ],
   "metadata": {
    "collapsed": false,
    "pycharm": {
     "name": "#%% Create dataframe with Sizes of Interactomes\n"
    }
   }
  },
  {
   "cell_type": "code",
   "execution_count": 11,
   "outputs": [
    {
     "data": {
      "text/plain": "array([<AxesSubplot:title={'center':'(Interactions, Included)'}, xlabel='Entity Level'>,\n       <AxesSubplot:title={'center':'(Interactions, Not Included)'}, xlabel='Entity Level'>,\n       <AxesSubplot:title={'center':'(Interactions, Reaction-Unique Included)'}, xlabel='Entity Level'>,\n       <AxesSubplot:title={'center':'(Accessioned Entities, Included)'}, xlabel='Entity Level'>,\n       <AxesSubplot:title={'center':'(Accessioned Entities, Not Included)'}, xlabel='Entity Level'>,\n       <AxesSubplot:title={'center':'(Accessioned Entities, Reaction-Unique Included)'}, xlabel='Entity Level'>,\n       <AxesSubplot:title={'center':'(Small Molecules, Included)'}, xlabel='Entity Level'>,\n       <AxesSubplot:title={'center':'(Small Molecules, Not Included)'}, xlabel='Entity Level'>,\n       <AxesSubplot:title={'center':'(Small Molecules, Reaction-Unique Included)'}, xlabel='Entity Level'>],\n      dtype=object)"
     },
     "execution_count": 11,
     "metadata": {},
     "output_type": "execute_result"
    },
    {
     "data": {
      "text/plain": "<Figure size 432x288 with 9 Axes>",
      "image/png": "[encoded data removed]"
     },
     "metadata": {
      "needs_background": "light"
     },
     "output_type": "display_data"
    }
   ],
   "source": [
    "sizes.unstack(level=0).plot(kind='bar', subplots=True)"
   ],
   "metadata": {
    "collapsed": false,
    "pycharm": {
     "name": "#%%\n"
    }
   }
  },
  {
   "cell_type": "code",
   "execution_count": 12,
   "outputs": [
    {
     "data": {
      "text/plain": "Small Molecules           Entity Level\nNot Included              genes           [1241, 1218, 1057, 1057, 902, 892, 586, 578, 5...\n                          proteins        [1242, 1219, 1058, 1058, 904, 894, 594, 578, 5...\n                          proteoforms     [1469, 1444, 1279, 1279, 915, 898, 627, 619, 6...\nIncluded                  genes           [3431, 3270, 2678, 2093, 2089, 2084, 1372, 129...\n                          proteins        [3452, 3292, 2767, 2181, 2169, 2104, 1379, 129...\n                          proteoforms     [4085, 3963, 3061, 2412, 2299, 2221, 1520, 149...\nReaction-Unique Included  genes           [1920, 1890, 1809, 1769, 1559, 1559, 1498, 148...\n                          proteins        [1922, 1892, 1810, 1770, 1560, 1560, 1500, 148...\n                          proteoforms     [2029, 1987, 1933, 1896, 1773, 1773, 1494, 148...\ndtype: object"
     },
     "execution_count": 12,
     "metadata": {},
     "output_type": "execute_result"
    }
   ],
   "source": [
    "interactomes = [*interactomes_no_sm.values(), *interactomes_with_sm.values(), *interactomes_with_unique_sm.values()]\n",
    "degree_sequences = pd.Series([sorted([d for n, d in interactome.degree()], reverse=True) for interactome in interactomes], index=index)\n",
    "degree_sequences"
   ],
   "metadata": {
    "collapsed": false,
    "pycharm": {
     "name": "#%% Calculate average, min and max degree for all networks\n"
    }
   }
  },
  {
   "cell_type": "code",
   "execution_count": 31,
   "outputs": [
    {
     "data": {
      "text/plain": "                                       Min   Max   Avg\nSmall Molecules          Entity Level                 \nNot Included             genes           0  1241 82.63\n                         proteins        0  1242 83.58\n                         proteoforms     0  1469 94.73\nIncluded                 genes           0  3431 81.80\n                         proteins        0  3452 82.71\n                         proteoforms     0  4085 93.38\nReaction-Unique Included genes           0  1920 42.96\n                         proteins        0  1922 43.58\n                         proteoforms     0  2029 50.84",
      "text/html": "<div>\n<style scoped>\n    .dataframe tbody tr th:only-of-type {\n        vertical-align: middle;\n    }\n\n    .dataframe tbody tr th {\n        vertical-align: top;\n    }\n\n    .dataframe thead th {\n        text-align: right;\n    }\n</style>\n<table border=\"1\" class=\"dataframe\">\n  <thead>\n    <tr style=\"text-align: right;\">\n      <th></th>\n      <th></th>\n      <th>Min</th>\n      <th>Max</th>\n      <th>Avg</th>\n    </tr>\n    <tr>\n      <th>Small Molecules</th>\n      <th>Entity Level</th>\n      <th></th>\n      <th></th>\n      <th></th>\n    </tr>\n  </thead>\n  <tbody>\n    <tr>\n      <th rowspan=\"3\" valign=\"top\">Not Included</th>\n      <th>genes</th>\n      <td>0</td>\n      <td>1241</td>\n      <td>82.63</td>\n    </tr>\n    <tr>\n      <th>proteins</th>\n      <td>0</td>\n      <td>1242</td>\n      <td>83.58</td>\n    </tr>\n    <tr>\n      <th>proteoforms</th>\n      <td>0</td>\n      <td>1469</td>\n      <td>94.73</td>\n    </tr>\n    <tr>\n      <th rowspan=\"3\" valign=\"top\">Included</th>\n      <th>genes</th>\n      <td>0</td>\n      <td>3431</td>\n      <td>81.80</td>\n    </tr>\n    <tr>\n      <th>proteins</th>\n      <td>0</td>\n      <td>3452</td>\n      <td>82.71</td>\n    </tr>\n    <tr>\n      <th>proteoforms</th>\n      <td>0</td>\n      <td>4085</td>\n      <td>93.38</td>\n    </tr>\n    <tr>\n      <th rowspan=\"3\" valign=\"top\">Reaction-Unique Included</th>\n      <th>genes</th>\n      <td>0</td>\n      <td>1920</td>\n      <td>42.96</td>\n    </tr>\n    <tr>\n      <th>proteins</th>\n      <td>0</td>\n      <td>1922</td>\n      <td>43.58</td>\n    </tr>\n    <tr>\n      <th>proteoforms</th>\n      <td>0</td>\n      <td>2029</td>\n      <td>50.84</td>\n    </tr>\n  </tbody>\n</table>\n</div>"
     },
     "execution_count": 31,
     "metadata": {},
     "output_type": "execute_result"
    }
   ],
   "source": [
    "mins = pd.Series([min(degree_sequence) for degree_sequence in degree_sequences], index=index)\n",
    "maxs = pd.Series([max(degree_sequence) for degree_sequence in degree_sequences], index=index)\n",
    "avgs = pd.Series([sum(degree_sequence)/len(degree_sequence) for degree_sequence in degree_sequences], index=index)\n",
    "\n",
    "degrees_mma = pd.DataFrame({\"Min\": mins, \"Max\": maxs, \"Avg\": avgs}, index=index)\n",
    "degrees_mma.columns.name = \"\"\n",
    "degrees_mma"
   ],
   "metadata": {
    "collapsed": false,
    "pycharm": {
     "name": "#%%\n"
    }
   }
  },
  {
   "cell_type": "code",
   "execution_count": 34,
   "outputs": [
    {
     "data": {
      "text/plain": "              Min      Max   Avg\nEntity Level                    \ngenes        0.00 1,241.00 82.63\nproteins     0.00 1,242.00 83.58\nproteoforms  0.00 1,469.00 94.73",
      "text/html": "<div>\n<style scoped>\n    .dataframe tbody tr th:only-of-type {\n        vertical-align: middle;\n    }\n\n    .dataframe tbody tr th {\n        vertical-align: top;\n    }\n\n    .dataframe thead th {\n        text-align: right;\n    }\n</style>\n<table border=\"1\" class=\"dataframe\">\n  <thead>\n    <tr style=\"text-align: right;\">\n      <th></th>\n      <th>Min</th>\n      <th>Max</th>\n      <th>Avg</th>\n    </tr>\n    <tr>\n      <th>Entity Level</th>\n      <th></th>\n      <th></th>\n      <th></th>\n    </tr>\n  </thead>\n  <tbody>\n    <tr>\n      <th>genes</th>\n      <td>0.00</td>\n      <td>1,241.00</td>\n      <td>82.63</td>\n    </tr>\n    <tr>\n      <th>proteins</th>\n      <td>0.00</td>\n      <td>1,242.00</td>\n      <td>83.58</td>\n    </tr>\n    <tr>\n      <th>proteoforms</th>\n      <td>0.00</td>\n      <td>1,469.00</td>\n      <td>94.73</td>\n    </tr>\n  </tbody>\n</table>\n</div>"
     },
     "execution_count": 34,
     "metadata": {},
     "output_type": "execute_result"
    }
   ],
   "source": [
    "degrees_no_sm = degrees_mma.unstack(level=1).transpose()[\"Not Included\"].unstack(level=0)\n",
    "degrees_no_sm"
   ],
   "metadata": {
    "collapsed": false,
    "pycharm": {
     "name": "#%% Plot the max, min, and average degree for each granularity level\n"
    }
   }
  },
  {
   "cell_type": "code",
   "execution_count": null,
   "outputs": [],
   "source": [
    "datas = { l: {'ENTITY': np.repeat(l, len(degrees[l])), 'DEGREE': degrees[l]} for l in LEVELS}\n",
    "degrees_dfs = [pd.DataFrame(datas[l], columns=['ENTITY', 'DEGREE']) for l in LEVELS]\n",
    "\n",
    "degrees_df = pd.concat(degrees_dfs)\n",
    "sns.set(style=\"ticks\")\n",
    "ax = sns.violinplot(x=\"ENTITY\", y=\"DEGREE\", data=degrees_df)"
   ],
   "metadata": {
    "collapsed": false,
    "pycharm": {
     "name": "#%%\n"
    }
   }
  },
  {
   "cell_type": "code",
   "execution_count": 18,
   "outputs": [
    {
     "name": "stderr",
     "output_type": "stream",
     "text": [
      "No handles with labels found to put in legend.\n"
     ]
    },
    {
     "data": {
      "text/plain": "<Figure size 432x288 with 1 Axes>",
      "image/png": "[encoded data removed]"
     },
     "metadata": {
      "needs_background": "light"
     },
     "output_type": "display_data"
    }
   ],
   "source": [
    "import matplotlib.pyplot as plt\n",
    "\n",
    "[sns.kdeplot(sequence) for sequence in degree_sequences]\n",
    "plt.legend();"
   ],
   "metadata": {
    "collapsed": false,
    "pycharm": {
     "name": "#%% Plot degree distribution\n"
    }
   }
  },
  {
   "cell_type": "code",
   "execution_count": null,
   "outputs": [],
   "source": [
    "degrees = {l: [graphs[l].degree(n) for n, t in graphs[l].nodes(data='type') if t != \"SimpleEntity\"] for l in LEVELS}\n",
    "mins = pd.Series([min(degrees[l]) for l in LEVELS], index=LEVELS)\n",
    "maxs = pd.Series([max(degrees[l]) for l in LEVELS], index=LEVELS)\n",
    "avgs = pd.Series([sum(degrees[l])/len(degrees[l]) for l in LEVELS], index=LEVELS)\n",
    "\n",
    "degrees_df = pd.DataFrame({\"Min\": mins, \"Max\": maxs, \"Avg\": avgs}, index=LEVELS)\n",
    "degrees_df.columns.name = \"Entity Type\"\n",
    "degrees_df"
   ],
   "metadata": {
    "collapsed": false,
    "pycharm": {
     "name": "#%% Calculate average, min and max degree for all networks without small molecules\n"
    }
   }
  },
  {
   "cell_type": "code",
   "execution_count": null,
   "outputs": [],
   "source": [],
   "metadata": {
    "collapsed": false,
    "pycharm": {
     "name": "#%% Plot degree distribution for each granularity level without small molecule interactions\n"
    }
   }
  },
  {
   "cell_type": "code",
   "execution_count": null,
   "outputs": [],
   "source": [
    "datas = { l: {'ENTITY': np.repeat(l, len(degrees[l])), 'DEGREE': degrees[l]} for l in LEVELS}\n",
    "degrees_dfs = [pd.DataFrame(datas[l], columns=['ENTITY', 'DEGREE']) for l in LEVELS]\n",
    "\n",
    "degrees_df = pd.concat(degrees_dfs)\n",
    "sns.set(style=\"ticks\")\n",
    "ax = sns.violinplot(x=\"ENTITY\", y=\"DEGREE\", data=degrees_df)"
   ],
   "metadata": {
    "collapsed": false,
    "pycharm": {
     "name": "#%% Plot the max, min, and average degree for each granularity level\n"
    }
   }
  },
  {
   "cell_type": "code",
   "execution_count": null,
   "outputs": [],
   "source": [
    "import matplotlib.pyplot as plt\n",
    "\n",
    "[sns.kdeplot(degrees[l], label=l) for l in LEVELS]\n",
    "plt.legend();"
   ],
   "metadata": {
    "collapsed": false,
    "pycharm": {
     "name": "#%% Plot degree distribution\n"
    }
   }
  },
  {
   "cell_type": "markdown",
   "source": [
    "## Bridges and Articulation points"
   ],
   "metadata": {
    "collapsed": false,
    "pycharm": {
     "name": "#%% md\n"
    }
   }
  },
  {
   "cell_type": "code",
   "execution_count": null,
   "outputs": [],
   "source": [
    "br_ap = pd.DataFrame({\n",
    "    \"Articulation Points\": [len(list(nx.articulation_points(graphs[l]))) for l in LEVELS],\n",
    "    \"Bridges\": [len(list(nx.bridges(graphs[l]))) for l in LEVELS]},\n",
    "    index=LEVELS)\n",
    "br_ap.columns.name = \"Entity Type\"\n",
    "\n",
    "br_ap"
   ],
   "metadata": {
    "collapsed": false,
    "pycharm": {
     "name": "#%%\n"
    }
   }
  },
  {
   "cell_type": "code",
   "execution_count": null,
   "outputs": [],
   "source": [
    "#plot_low_level_pathways(figures_path=\"figures/pathways/\", graphs_path=\"reports/pathways/\")"
   ],
   "metadata": {
    "collapsed": false,
    "pycharm": {
     "name": "#%%  Plot all pathways at the three granularity levels\n"
    }
   }
  },
  {
   "cell_type": "code",
   "execution_count": null,
   "outputs": [],
   "source": [
    "# TODO: Write function that plots and highlights the articulation points of an interaction network.\n",
    "# TODO: Write function that plots and highlights also the bridges of the network."
   ],
   "metadata": {
    "collapsed": false,
    "pycharm": {
     "name": "#%%\n"
    }
   }
  },
  {
   "cell_type": "markdown",
   "source": [
    "## Connected components\n",
    "\n",
    "- Number of connected components\n",
    "- Size of the largest connected component\n",
    "- Average size of the connected components\n",
    "- Size of the smalles connected component\n"
   ],
   "metadata": {
    "collapsed": false,
    "pycharm": {
     "name": "#%% md\n"
    }
   }
  }
 ],
 "metadata": {
  "kernelspec": {
   "display_name": "Python 3",
   "language": "python",
   "name": "python3"
  },
  "language_info": {
   "codemirror_mode": {
    "name": "ipython",
    "version": 2
   },
   "file_extension": ".py",
   "mimetype": "text/x-python",
   "name": "python",
   "nbconvert_exporter": "python",
   "pygments_lexer": "ipython2",
   "version": "2.7.6"
  },
  "pycharm": {
   "stem_cell": {
    "cell_type": "raw",
    "source": [
     "# This file is the starting point for the whole project.\n",
     "\"\"\"\n",
     " The goal of this project is to study the differences between protein and proteoform \n",
     " interaction networks for functional analysis.\n",
     "\n",
     "\"\"\"  \n"
    ],
    "metadata": {
     "collapsed": false
    }
   }
  }
 },
 "nbformat": 4,
 "nbformat_minor": 0
}