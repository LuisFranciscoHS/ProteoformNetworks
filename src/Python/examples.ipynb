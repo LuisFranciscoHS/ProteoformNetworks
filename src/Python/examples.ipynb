{
 "cells": [
  {
   "cell_type": "code",
   "execution_count": 12,
   "metadata": {
    "collapsed": true
   },
   "outputs": [
    {
     "name": "stdout",
     "output_type": "stream",
     "text": [
      "The autoreload extension is already loaded. To reload it, use:\n",
      "  %reload_ext autoreload\n",
      "Working directory: c:\\git\\pathwayanalysisplatform\\proteoformnetworks\n"
     ]
    }
   ],
   "source": [
    "import config\n",
    "from lib.graph_database import get_participants_by_pathway\n",
    "\n",
    "%load_ext autoreload\n",
    "%autoreload 2\n",
    "%reload_ext autoreload\n",
    "\n",
    "config.set_root_wd()"
   ]
  },
  {
   "cell_type": "code",
   "execution_count": 13,
   "outputs": [
    {
     "data": {
      "text/plain": "          Pathway       Reaction         Entity  \\\n87  R-HSA-9648002  R-HSA-9653503  R-HSA-2685606   \n88  R-HSA-9648002  R-HSA-9653503   R-HSA-418377   \n89  R-HSA-9648002  R-HSA-9653503  R-HSA-9647815   \n90  R-HSA-9648002  R-HSA-9653503  R-HSA-9653482   \n\n                               Name                           Type     Id  \\\n87  p-Y90,T219,T538,S676,S695-PRKCQ  EntityWithAccessionedSequence  PRKCQ   \n88                            PRKG2  EntityWithAccessionedSequence  PRKG2   \n89                 S-Farn-Me KRAS4B  EntityWithAccessionedSequence   KRAS   \n90           pS181-S-Farn-Me KRAS4B  EntityWithAccessionedSequence   KRAS   \n\n   Database              Role  \n87  UniProt  catalystActivity  \n88  UniProt  catalystActivity  \n89  UniProt             input  \n90  UniProt            output  ",
      "text/html": "<div>\n<style scoped>\n    .dataframe tbody tr th:only-of-type {\n        vertical-align: middle;\n    }\n\n    .dataframe tbody tr th {\n        vertical-align: top;\n    }\n\n    .dataframe thead th {\n        text-align: right;\n    }\n</style>\n<table border=\"1\" class=\"dataframe\">\n  <thead>\n    <tr style=\"text-align: right;\">\n      <th></th>\n      <th>Pathway</th>\n      <th>Reaction</th>\n      <th>Entity</th>\n      <th>Name</th>\n      <th>Type</th>\n      <th>Id</th>\n      <th>Database</th>\n      <th>Role</th>\n    </tr>\n  </thead>\n  <tbody>\n    <tr>\n      <th>87</th>\n      <td>R-HSA-9648002</td>\n      <td>R-HSA-9653503</td>\n      <td>R-HSA-2685606</td>\n      <td>p-Y90,T219,T538,S676,S695-PRKCQ</td>\n      <td>EntityWithAccessionedSequence</td>\n      <td>PRKCQ</td>\n      <td>UniProt</td>\n      <td>catalystActivity</td>\n    </tr>\n    <tr>\n      <th>88</th>\n      <td>R-HSA-9648002</td>\n      <td>R-HSA-9653503</td>\n      <td>R-HSA-418377</td>\n      <td>PRKG2</td>\n      <td>EntityWithAccessionedSequence</td>\n      <td>PRKG2</td>\n      <td>UniProt</td>\n      <td>catalystActivity</td>\n    </tr>\n    <tr>\n      <th>89</th>\n      <td>R-HSA-9648002</td>\n      <td>R-HSA-9653503</td>\n      <td>R-HSA-9647815</td>\n      <td>S-Farn-Me KRAS4B</td>\n      <td>EntityWithAccessionedSequence</td>\n      <td>KRAS</td>\n      <td>UniProt</td>\n      <td>input</td>\n    </tr>\n    <tr>\n      <th>90</th>\n      <td>R-HSA-9648002</td>\n      <td>R-HSA-9653503</td>\n      <td>R-HSA-9653482</td>\n      <td>pS181-S-Farn-Me KRAS4B</td>\n      <td>EntityWithAccessionedSequence</td>\n      <td>KRAS</td>\n      <td>UniProt</td>\n      <td>output</td>\n    </tr>\n  </tbody>\n</table>\n</div>"
     },
     "execution_count": 13,
     "metadata": {},
     "output_type": "execute_result"
    }
   ],
   "source": [
    "records = get_participants_by_pathway(\"genes\", \"R-HSA-9648002\")\n",
    "records.loc[records['Reaction'] == \"R-HSA-9653503\"]"
   ],
   "metadata": {
    "collapsed": false,
    "pycharm": {
     "name": "#%%\n"
    }
   }
  },
  {
   "cell_type": "code",
   "execution_count": 14,
   "outputs": [
    {
     "data": {
      "text/plain": "          Pathway       Reaction         Entity  \\\n87  R-HSA-9648002  R-HSA-9653503  R-HSA-2685606   \n88  R-HSA-9648002  R-HSA-9653503   R-HSA-418377   \n89  R-HSA-9648002  R-HSA-9653503  R-HSA-9647815   \n90  R-HSA-9648002  R-HSA-9653503  R-HSA-9653482   \n\n                               Name                           Type      Id  \\\n87  p-Y90,T219,T538,S676,S695-PRKCQ  EntityWithAccessionedSequence  Q04759   \n88                            PRKG2  EntityWithAccessionedSequence  Q13237   \n89                 S-Farn-Me KRAS4B  EntityWithAccessionedSequence  P01116   \n90           pS181-S-Farn-Me KRAS4B  EntityWithAccessionedSequence  P01116   \n\n   PrevId Database              Role  \n87  PRKCQ  UniProt  catalystActivity  \n88  PRKG2  UniProt  catalystActivity  \n89   KRAS  UniProt             input  \n90   KRAS  UniProt            output  ",
      "text/html": "<div>\n<style scoped>\n    .dataframe tbody tr th:only-of-type {\n        vertical-align: middle;\n    }\n\n    .dataframe tbody tr th {\n        vertical-align: top;\n    }\n\n    .dataframe thead th {\n        text-align: right;\n    }\n</style>\n<table border=\"1\" class=\"dataframe\">\n  <thead>\n    <tr style=\"text-align: right;\">\n      <th></th>\n      <th>Pathway</th>\n      <th>Reaction</th>\n      <th>Entity</th>\n      <th>Name</th>\n      <th>Type</th>\n      <th>Id</th>\n      <th>PrevId</th>\n      <th>Database</th>\n      <th>Role</th>\n    </tr>\n  </thead>\n  <tbody>\n    <tr>\n      <th>87</th>\n      <td>R-HSA-9648002</td>\n      <td>R-HSA-9653503</td>\n      <td>R-HSA-2685606</td>\n      <td>p-Y90,T219,T538,S676,S695-PRKCQ</td>\n      <td>EntityWithAccessionedSequence</td>\n      <td>Q04759</td>\n      <td>PRKCQ</td>\n      <td>UniProt</td>\n      <td>catalystActivity</td>\n    </tr>\n    <tr>\n      <th>88</th>\n      <td>R-HSA-9648002</td>\n      <td>R-HSA-9653503</td>\n      <td>R-HSA-418377</td>\n      <td>PRKG2</td>\n      <td>EntityWithAccessionedSequence</td>\n      <td>Q13237</td>\n      <td>PRKG2</td>\n      <td>UniProt</td>\n      <td>catalystActivity</td>\n    </tr>\n    <tr>\n      <th>89</th>\n      <td>R-HSA-9648002</td>\n      <td>R-HSA-9653503</td>\n      <td>R-HSA-9647815</td>\n      <td>S-Farn-Me KRAS4B</td>\n      <td>EntityWithAccessionedSequence</td>\n      <td>P01116</td>\n      <td>KRAS</td>\n      <td>UniProt</td>\n      <td>input</td>\n    </tr>\n    <tr>\n      <th>90</th>\n      <td>R-HSA-9648002</td>\n      <td>R-HSA-9653503</td>\n      <td>R-HSA-9653482</td>\n      <td>pS181-S-Farn-Me KRAS4B</td>\n      <td>EntityWithAccessionedSequence</td>\n      <td>P01116</td>\n      <td>KRAS</td>\n      <td>UniProt</td>\n      <td>output</td>\n    </tr>\n  </tbody>\n</table>\n</div>"
     },
     "execution_count": 14,
     "metadata": {},
     "output_type": "execute_result"
    }
   ],
   "source": [
    "records = get_participants_by_pathway(\"proteins\", \"R-HSA-9648002\")\n",
    "records.loc[records['Reaction'] == \"R-HSA-9653503\"]"
   ],
   "metadata": {
    "collapsed": false,
    "pycharm": {
     "name": "#%%\n"
    }
   }
  },
  {
   "cell_type": "code",
   "execution_count": 15,
   "outputs": [
    {
     "data": {
      "text/plain": "          Pathway       Reaction         Entity  \\\n87  R-HSA-9648002  R-HSA-9653503  R-HSA-2685606   \n88  R-HSA-9648002  R-HSA-9653503   R-HSA-418377   \n89  R-HSA-9648002  R-HSA-9653503  R-HSA-9647815   \n90  R-HSA-9648002  R-HSA-9653503  R-HSA-9653482   \n\n                               Name                           Type  \\\n87  p-Y90,T219,T538,S676,S695-PRKCQ  EntityWithAccessionedSequence   \n88                            PRKG2  EntityWithAccessionedSequence   \n89                 S-Farn-Me KRAS4B  EntityWithAccessionedSequence   \n90           pS181-S-Farn-Me KRAS4B  EntityWithAccessionedSequence   \n\n                                                   Id  PrevId Database  \\\n87  Q04759;00046:676,00046:695,00047:219,00047:538...  Q04759  UniProt   \n88                                            Q13237;  Q13237  UniProt   \n89                                 P01116-2;01116:186  P01116  UniProt   \n90                       P01116-2;00046:181,01116:186  P01116  UniProt   \n\n                Role  \n87  catalystActivity  \n88  catalystActivity  \n89             input  \n90            output  ",
      "text/html": "<div>\n<style scoped>\n    .dataframe tbody tr th:only-of-type {\n        vertical-align: middle;\n    }\n\n    .dataframe tbody tr th {\n        vertical-align: top;\n    }\n\n    .dataframe thead th {\n        text-align: right;\n    }\n</style>\n<table border=\"1\" class=\"dataframe\">\n  <thead>\n    <tr style=\"text-align: right;\">\n      <th></th>\n      <th>Pathway</th>\n      <th>Reaction</th>\n      <th>Entity</th>\n      <th>Name</th>\n      <th>Type</th>\n      <th>Id</th>\n      <th>PrevId</th>\n      <th>Database</th>\n      <th>Role</th>\n    </tr>\n  </thead>\n  <tbody>\n    <tr>\n      <th>87</th>\n      <td>R-HSA-9648002</td>\n      <td>R-HSA-9653503</td>\n      <td>R-HSA-2685606</td>\n      <td>p-Y90,T219,T538,S676,S695-PRKCQ</td>\n      <td>EntityWithAccessionedSequence</td>\n      <td>Q04759;00046:676,00046:695,00047:219,00047:538...</td>\n      <td>Q04759</td>\n      <td>UniProt</td>\n      <td>catalystActivity</td>\n    </tr>\n    <tr>\n      <th>88</th>\n      <td>R-HSA-9648002</td>\n      <td>R-HSA-9653503</td>\n      <td>R-HSA-418377</td>\n      <td>PRKG2</td>\n      <td>EntityWithAccessionedSequence</td>\n      <td>Q13237;</td>\n      <td>Q13237</td>\n      <td>UniProt</td>\n      <td>catalystActivity</td>\n    </tr>\n    <tr>\n      <th>89</th>\n      <td>R-HSA-9648002</td>\n      <td>R-HSA-9653503</td>\n      <td>R-HSA-9647815</td>\n      <td>S-Farn-Me KRAS4B</td>\n      <td>EntityWithAccessionedSequence</td>\n      <td>P01116-2;01116:186</td>\n      <td>P01116</td>\n      <td>UniProt</td>\n      <td>input</td>\n    </tr>\n    <tr>\n      <th>90</th>\n      <td>R-HSA-9648002</td>\n      <td>R-HSA-9653503</td>\n      <td>R-HSA-9653482</td>\n      <td>pS181-S-Farn-Me KRAS4B</td>\n      <td>EntityWithAccessionedSequence</td>\n      <td>P01116-2;00046:181,01116:186</td>\n      <td>P01116</td>\n      <td>UniProt</td>\n      <td>output</td>\n    </tr>\n  </tbody>\n</table>\n</div>"
     },
     "execution_count": 15,
     "metadata": {},
     "output_type": "execute_result"
    }
   ],
   "source": [
    "records = get_participants_by_pathway(\"proteoforms\", \"R-HSA-9648002\")\n",
    "records.loc[records['Reaction'] == \"R-HSA-9653503\"]"
   ],
   "metadata": {
    "collapsed": false,
    "pycharm": {
     "name": "#%%\n"
    }
   }
  },
  {
   "cell_type": "code",
   "execution_count": 16,
   "outputs": [
    {
     "data": {
      "text/plain": "          Pathway       Reaction        Entity  Name          Type       Id  \\\n12  R-HSA-9648002  R-HSA-9653503  R-ALL-112275  DAGs  SimpleEntity  sm_DAGs   \n13  R-HSA-9648002  R-HSA-9653503   R-ALL-30991  cGMP  SimpleEntity  sm_cGMP   \n14  R-HSA-9648002  R-HSA-9653503  R-ALL-113592   ATP  SimpleEntity   sm_ATP   \n15  R-HSA-9648002  R-HSA-9653503   R-ALL-29370   ADP  SimpleEntity   sm_ADP   \n\n   Database              Role  \n12    ChEBI  catalystActivity  \n13    ChEBI  catalystActivity  \n14    ChEBI             input  \n15    ChEBI            output  ",
      "text/html": "<div>\n<style scoped>\n    .dataframe tbody tr th:only-of-type {\n        vertical-align: middle;\n    }\n\n    .dataframe tbody tr th {\n        vertical-align: top;\n    }\n\n    .dataframe thead th {\n        text-align: right;\n    }\n</style>\n<table border=\"1\" class=\"dataframe\">\n  <thead>\n    <tr style=\"text-align: right;\">\n      <th></th>\n      <th>Pathway</th>\n      <th>Reaction</th>\n      <th>Entity</th>\n      <th>Name</th>\n      <th>Type</th>\n      <th>Id</th>\n      <th>Database</th>\n      <th>Role</th>\n    </tr>\n  </thead>\n  <tbody>\n    <tr>\n      <th>12</th>\n      <td>R-HSA-9648002</td>\n      <td>R-HSA-9653503</td>\n      <td>R-ALL-112275</td>\n      <td>DAGs</td>\n      <td>SimpleEntity</td>\n      <td>sm_DAGs</td>\n      <td>ChEBI</td>\n      <td>catalystActivity</td>\n    </tr>\n    <tr>\n      <th>13</th>\n      <td>R-HSA-9648002</td>\n      <td>R-HSA-9653503</td>\n      <td>R-ALL-30991</td>\n      <td>cGMP</td>\n      <td>SimpleEntity</td>\n      <td>sm_cGMP</td>\n      <td>ChEBI</td>\n      <td>catalystActivity</td>\n    </tr>\n    <tr>\n      <th>14</th>\n      <td>R-HSA-9648002</td>\n      <td>R-HSA-9653503</td>\n      <td>R-ALL-113592</td>\n      <td>ATP</td>\n      <td>SimpleEntity</td>\n      <td>sm_ATP</td>\n      <td>ChEBI</td>\n      <td>input</td>\n    </tr>\n    <tr>\n      <th>15</th>\n      <td>R-HSA-9648002</td>\n      <td>R-HSA-9653503</td>\n      <td>R-ALL-29370</td>\n      <td>ADP</td>\n      <td>SimpleEntity</td>\n      <td>sm_ADP</td>\n      <td>ChEBI</td>\n      <td>output</td>\n    </tr>\n  </tbody>\n</table>\n</div>"
     },
     "execution_count": 16,
     "metadata": {},
     "output_type": "execute_result"
    }
   ],
   "source": [
    "records = get_participants_by_pathway(\"sm\", \"R-HSA-9648002\")\n",
    "records.loc[records['Reaction'] == \"R-HSA-9653503\"]\n"
   ],
   "metadata": {
    "collapsed": false,
    "pycharm": {
     "name": "#%%\n"
    }
   }
  },
  {
   "cell_type": "code",
   "execution_count": null,
   "outputs": [],
   "source": [],
   "metadata": {
    "collapsed": false,
    "pycharm": {
     "name": "#%%\n"
    }
   }
  }
 ],
 "metadata": {
  "kernelspec": {
   "display_name": "Python 3",
   "language": "python",
   "name": "python3"
  },
  "language_info": {
   "codemirror_mode": {
    "name": "ipython",
    "version": 2
   },
   "file_extension": ".py",
   "mimetype": "text/x-python",
   "name": "python",
   "nbconvert_exporter": "python",
   "pygments_lexer": "ipython2",
   "version": "2.7.6"
  }
 },
 "nbformat": 4,
 "nbformat_minor": 0
}