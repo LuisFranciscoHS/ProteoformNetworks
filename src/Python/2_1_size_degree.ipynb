{
 "cells": [
  {
   "cell_type": "markdown",
   "metadata": {
    "collapsed": false,
    "pycharm": {
     "name": "#%% md\n"
    }
   },
   "source": [
    "## General network properties: Size, Degree"
   ]
  },
  {
   "cell_type": "code",
   "execution_count": null,
   "metadata": {
    "collapsed": false,
    "pycharm": {
     "name": "#%% Set up configuration\n"
    }
   },
   "outputs": [],
   "source": [
    "import pandas as pd\n",
    "import seaborn as sns\n",
    "from pathlib import Path\n",
    "import os\n",
    "import config\n",
    "import dataframe_image as dfi\n",
    "from config import LEVELS, NETWORKS_PATH, DATA_REACTOME_PATH, PATHWAY_GRAPHS_PATH\n",
    "from lib.networks import get_interactomes, get_combinations, get_combinations_with_pathways\n",
    "from lib.networks import get_multiindex\n",
    "from lib.networks import get_sizes\n",
    "\n",
    "%load_ext autoreload\n",
    "%autoreload 2\n",
    "%reload_ext autoreload\n",
    "\n",
    "pathway_networks_path = PATHWAY_GRAPHS_PATH\n",
    "if not Path(pathway_networks_path).exists():\n",
    "    os.mkdir(pathway_networks_path)\n",
    "\n",
    "interactome_networks_path = NETWORKS_PATH + \"interactomes/\"\n",
    "if not Path(interactome_networks_path).exists():\n",
    "    os.mkdir(interactome_networks_path)\n",
    "\n",
    "config.set_root_wd()"
   ]
  },
  {
   "cell_type": "code",
   "execution_count": null,
   "metadata": {
    "collapsed": false,
    "pycharm": {
     "name": "#%% Get all interactomes\n"
    }
   },
   "outputs": [],
   "source": [
    "# Create interactome networks and store them in the /networks/interactomes/ directory\n",
    "\n",
    "interactomes_no_sm, interactomes_with_sm, interactomes_with_unique_sm = get_interactomes(config.DATA_REACTOME_PATH, interactome_networks_path)\n",
    "interactomes = [*interactomes_no_sm.values(), *interactomes_with_sm.values(), *interactomes_with_unique_sm.values()]"
   ]
  },
  {
   "cell_type": "code",
   "execution_count": null,
   "metadata": {
    "collapsed": false,
    "pycharm": {
     "name": "#%% Calculate size of the full networks\n"
    }
   },
   "outputs": [],
   "source": [
    "index = get_multiindex()\n",
    "num_interactions, num_entities, num_small_molecules = get_sizes(interactomes, index)\n",
    "num_interactions"
   ]
  },
  {
   "cell_type": "code",
   "execution_count": null,
   "metadata": {
    "collapsed": false,
    "pycharm": {
     "name": "#%% Create dataframe with Sizes of Interactomes\n"
    }
   },
   "outputs": [],
   "source": [
    "df_sizes = pd.DataFrame({\n",
    "    \"Interactions\": num_interactions,\n",
    "    \"Accessioned Entities\": num_entities,\n",
    "    \"Small Molecules\": num_small_molecules\n",
    "}, index=index)\n",
    "df_sizes.columns.name = \"Sizes\"\n",
    "dfi.export(df_sizes, 'figures/interactome_sizes.png')\n",
    "df_sizes"
   ]
  },
  {
   "cell_type": "code",
   "execution_count": null,
   "metadata": {
    "collapsed": false,
    "pycharm": {
     "name": "#%%\n"
    }
   },
   "outputs": [],
   "source": [
    "# Create a list with the number of genes, proteins, proteoforms, small molecules\n",
    "num_nodes = [*df_sizes.loc[['Not Included']][\"Accessioned Entities\"], df_sizes.loc[['Included']][\"Small Molecules\"][0]]\n",
    "\n",
    "# Create list with all levels:\n",
    "node_types = [*LEVELS, \"small molecules\"]\n",
    "\n",
    "# Create a list with the number of interactions without the small molecules\n",
    "num_interactions_no_sm = df_sizes.loc[['Not Included']][\"Interactions\"]\n",
    "\n",
    "num_interactions_with_sm = df_sizes.loc[['Included']][\"Interactions\"]\n",
    "\n",
    "maxy = max([*num_interactions_with_sm, *num_interactions_no_sm])\n",
    "\n",
    "maxy = 800000"
   ]
  },
  {
   "cell_type": "code",
   "execution_count": null,
   "metadata": {
    "collapsed": false,
    "pycharm": {
     "name": "#%% Plot sizes of all Interactomes\n"
    }
   },
   "outputs": [],
   "source": [
    "import matplotlib.pyplot as plt\n",
    "import numpy as np\n",
    "from config import COLORS_BORDER\n",
    "\n",
    "figure, axis = plt.subplots(1, 4)\n",
    "# Placing the plots in the plane\n",
    "plot1 = plt.subplot2grid((2, 2), (0, 0), rowspan=1, colspan=1)\n",
    "plot2 = plt.subplot2grid((2, 2), (1, 0), rowspan=1, colspan=1)\n",
    "plot3 = plt.subplot2grid((2, 2), (1, 1), rowspan=1, colspan=1)\n",
    "\n",
    "# Plot number of nodes\n",
    "plot1.bar(node_types, num_nodes, color=config.COLORS_FILL, edgecolor=COLORS_BORDER)\n",
    "plot1.set_title('A) Number of Entities')\n",
    "\n",
    "plt.xticks(rotation=90)\n",
    "\n",
    "# Plot number of interactions without small molecules\n",
    "plot2.bar(LEVELS, num_interactions_no_sm, color=config.COLORS_FILL, edgecolor=COLORS_BORDER)\n",
    "plot2.set_title('B) Interactions without S. M.')\n",
    "plot2.set_ylim([0, maxy])\n",
    "plot2.set_xticklabels(LEVELS, rotation=45)\n",
    "\n",
    "# Plot number of interactions with small molecules\n",
    "plot3.bar(LEVELS, num_interactions_with_sm, color=config.COLORS_FILL, edgecolor=COLORS_BORDER)\n",
    "plot3.set_title('C) Interactions with S. M.')\n",
    "plot3.set_ylim([0, maxy])\n",
    "plot3.set_xticklabels(LEVELS, rotation=45)\n",
    "\n",
    "# Packing all the plots and displaying them\n",
    "plt.tight_layout()\n",
    "plt.show()\n",
    "\n",
    "figure.savefig('figures/figure_4.png')\n",
    "plt.close()"
   ]
  },
  {
   "cell_type": "code",
   "execution_count": null,
   "metadata": {
    "collapsed": false,
    "pycharm": {
     "name": "#%% Percentage of change in nodes. For accessioned entities and small molecules.\n"
    }
   },
   "outputs": [],
   "source": [
    "from lib.networks import get_increase_percentage\n",
    "from config import genes, proteins, proteoforms\n",
    "\n",
    "increase = get_increase_percentage(interactomes_no_sm[genes].number_of_nodes(),\n",
    "                                   interactomes_no_sm[proteins].number_of_nodes())\n",
    "print(f\"There are {increase} % more nodes in the protein interactome than in the gene interactome.\")\n",
    "\n",
    "increase = get_increase_percentage(interactomes_no_sm[genes].number_of_edges(),\n",
    "                                   interactomes_no_sm[proteins].number_of_edges())\n",
    "print(f\"There are {increase} % more interactions in the protein interactome than in the gene interactome.\")\n",
    "\n",
    "increase = get_increase_percentage(interactomes_no_sm[proteins].number_of_nodes(),\n",
    "                                   interactomes_no_sm[proteoforms].number_of_nodes())\n",
    "print(f\"There are {increase} % more nodes in the proteoform interactome than in the protein interactome.\")\n",
    "\n",
    "increase = get_increase_percentage(interactomes_no_sm[proteins].number_of_edges(),\n",
    "                                   interactomes_no_sm[proteoforms].number_of_edges())\n",
    "print(f\"There are {increase} % more interactions in the proteoform interactome than in the protein interactome.\")"
   ]
  },
  {
   "cell_type": "code",
   "execution_count": null,
   "metadata": {
    "collapsed": false,
    "pycharm": {
     "name": "#%% Create table with increase of size by adding small molecules\n"
    }
   },
   "outputs": [],
   "source": [
    "for l in LEVELS:\n",
    "    increase_generic = get_increase_percentage(\n",
    "        interactomes_no_sm[l].number_of_nodes(),\n",
    "        interactomes_with_sm[l].number_of_nodes()\n",
    "    )\n",
    "    print(f\"In the {l} network, there is an increase of {increase_generic} % more nodes when adding generic small molecules\")\n",
    "    increase_unique = get_increase_percentage(\n",
    "        interactomes_no_sm[l].number_of_nodes(),\n",
    "        interactomes_with_unique_sm[l].number_of_nodes()\n",
    "    )\n",
    "    print(f\"In the {l} network, there is an increase of {increase_unique} % more nodes when adding reaction-unique small molecules\")\n",
    "\n",
    "increase_with_generic_sm = [get_increase_percentage(\n",
    "        interactomes_no_sm[l].number_of_nodes(),\n",
    "        interactomes_with_sm[l].number_of_nodes()\n",
    "    ) for l in LEVELS]\n",
    "percentage_generic_sm = [\n",
    "    (interactomes_with_sm[l].number_of_nodes() - interactomes_no_sm[l].number_of_nodes()) / interactomes_with_sm[l].number_of_nodes()\n",
    "    for l in LEVELS]\n",
    "increase_with_unique_sm = [get_increase_percentage(\n",
    "        interactomes_no_sm[l].number_of_nodes(),\n",
    "        interactomes_with_unique_sm[l].number_of_nodes()\n",
    "    ) for l in LEVELS]\n",
    "percentage_unique_sm = [\n",
    "    (interactomes_with_unique_sm[l].number_of_nodes() - interactomes_no_sm[l].number_of_nodes()) / interactomes_with_unique_sm[l].number_of_nodes()\n",
    "    for l in LEVELS]\n",
    "\n",
    "d = {\n",
    "    \"Increase of nodes with generic small molecules\": increase_with_generic_sm,\n",
    "    \"Percentage of generic small molecule nodes\": percentage_generic_sm,\n",
    "    \"Increase of nodes with unique small molecules\": increase_with_unique_sm,\n",
    "    \"Percentage of unique small molecule nodes \": percentage_unique_sm\n",
    "}\n",
    "\n",
    "df_increase_sm = pd.DataFrame(data=d, index=LEVELS)\n",
    "dfi.export(df_increase_sm, 'figures/interactome_size_increase.png')\n",
    "df_increase_sm\n"
   ]
  },
  {
   "cell_type": "code",
   "execution_count": null,
   "metadata": {
    "collapsed": false,
    "pycharm": {
     "name": "#%% Get avg. proteins per gene\n"
    }
   },
   "outputs": [],
   "source": [
    "from statistics import mean\n",
    "from lib.dictionaries import read_dictionary_one_to_set\n",
    "\n",
    "map_genes_to_proteins = read_dictionary_one_to_set(interactome_networks_path, \"mapping_proteins_to_genes.tsv\",\n",
    "                                                   col_indices=(1, 0))\n",
    "print(f\"There are {len(map_genes_to_proteins.keys())} genes in the map.\")\n",
    "\n",
    "avg_proteins_per_gene = round(mean([len(map_genes_to_proteins[key]) for key in map_genes_to_proteins.keys()]), 2)\n",
    "print(f\"The average number of proteins per gene is {avg_proteins_per_gene}\")"
   ]
  },
  {
   "cell_type": "code",
   "execution_count": null,
   "metadata": {
    "collapsed": false,
    "pycharm": {
     "name": "#%% Get avg. proteoforms per proteoform\n"
    }
   },
   "outputs": [],
   "source": [
    "map_proteins_to_proteoforms = read_dictionary_one_to_set(interactome_networks_path, \"mapping_proteins_to_proteoforms.tsv\",\n",
    "                                                         col_indices=(0, 1))\n",
    "print(f\"There are {len(map_proteins_to_proteoforms.keys())} proteins in the map.\")\n",
    "\n",
    "avg_proteoforms_per_protein = round(\n",
    "    mean([len(map_proteins_to_proteoforms[key]) for key in map_proteins_to_proteoforms.keys()]), 2)\n",
    "print(f\"The average number of proteoforms per protein is {avg_proteoforms_per_protein}\")"
   ]
  },
  {
   "cell_type": "markdown",
   "metadata": {
    "collapsed": false,
    "pycharm": {
     "name": "#%% md\n"
    }
   },
   "source": [
    "# Degree"
   ]
  },
  {
   "cell_type": "code",
   "execution_count": null,
   "metadata": {
    "collapsed": false,
    "pycharm": {
     "name": "#%% Calculate average, min and max degree for all networks\n"
    }
   },
   "outputs": [],
   "source": [
    "degree_sequences = []\n",
    "for interactome in interactomes:\n",
    "    accessioned_nodes = [node for node, data in interactome.nodes(data=True) if not data['type'].startswith(\"Simple\")]\n",
    "    sequence = sorted([d for n, d in interactome.degree(accessioned_nodes)], reverse=True)\n",
    "    degree_sequences.append(sequence)\n",
    "\n",
    "degree_sequences = pd.Series([sorted(sequence, reverse=True) for sequence in degree_sequences], index=index)\n",
    "degree_sequences"
   ]
  },
  {
   "cell_type": "code",
   "execution_count": null,
   "metadata": {
    "collapsed": false,
    "pycharm": {
     "name": "#%% To calculate the examples of disconnected nodes\n"
    }
   },
   "outputs": [],
   "source": [
    "i = interactomes_no_sm[\"genes\"]\n",
    "df = pd.DataFrame(data=list(i.degree()), columns=['Node', 'Degree'])\n",
    "df.sort_values(by=['Degree'], inplace=True)\n",
    "df"
   ]
  },
  {
   "cell_type": "code",
   "execution_count": null,
   "metadata": {
    "collapsed": false,
    "pycharm": {
     "name": "#%% Examples of disconnected nodes\n"
    }
   },
   "outputs": [],
   "source": [
    "print(f\"(Genes, No SM) {interactomes_no_sm['genes'].degree['GPR35']}\")\n",
    "print(f\"Neighbours: {[n for n in interactomes_no_sm['genes'].neighbors('GPR35')]}\")\n",
    "print(f\"(Genes, With SM) {interactomes_with_sm['genes'].degree['GPR35']}\")\n",
    "print(f\"Neighbours: {[n for n in interactomes_with_sm['genes'].neighbors('GPR35')]}\")\n",
    "print(f\"(Genes, With Unique SM) {interactomes_with_unique_sm['genes'].degree['GPR35']}\")\n",
    "print(f\"Neighbours: {[n for n in interactomes_with_unique_sm['genes'].neighbors('GPR35')]}\")\n"
   ]
  },
  {
   "cell_type": "code",
   "execution_count": null,
   "metadata": {
    "collapsed": false,
    "pycharm": {
     "name": "#%% Create dataframe with Degree values of Interactomes\n"
    }
   },
   "outputs": [],
   "source": [
    "mins = pd.Series([min(degree_sequence) for degree_sequence in degree_sequences], index=index)\n",
    "maxs = pd.Series([max(degree_sequence) for degree_sequence in degree_sequences], index=index)\n",
    "avgs = pd.Series([sum(degree_sequence) / len(degree_sequence) for degree_sequence in degree_sequences], index=index)\n",
    "\n",
    "df_degrees = pd.DataFrame({\"Min\": mins, \"Max\": maxs, \"Avg\": avgs}, index=index)\n",
    "dfi.export(df_degrees, 'figures/interactome_degrees.png')\n",
    "df_degrees\n"
   ]
  },
  {
   "cell_type": "code",
   "execution_count": null,
   "metadata": {
    "collapsed": false,
    "pycharm": {
     "name": "#%% Prepare data for the violin plot of the degree sequences\n"
    }
   },
   "outputs": [],
   "source": [
    "df_seq = pd.DataFrame({\"Sequence\": degree_sequences})\n",
    "df_seq.reset_index(inplace=True)\n",
    "lst_col = 'Sequence'\n",
    "\n",
    "df_seq = pd.DataFrame({\n",
    "    col: np.repeat(df_seq[col].values, df_seq[lst_col].str.len())\n",
    "    for col in df_seq.columns.drop(lst_col)}\n",
    ").assign(**{lst_col: np.concatenate(df_seq[lst_col].values)})[df_seq.columns]\n",
    "\n",
    "df_seq = df_seq.rename(columns={'Sequence': 'Degree'})\n",
    "df_seq['Degree'] = df_seq['Degree'].apply(lambda x: 0 if x == 0 else np.log10(x))\n",
    "\n",
    "df_seq"
   ]
  },
  {
   "cell_type": "code",
   "execution_count": null,
   "metadata": {
    "collapsed": false,
    "pycharm": {
     "name": "#%% Plot the max, min, and average degree for each granularity level\n"
    }
   },
   "outputs": [],
   "source": [
    "from matplotlib import ticker as mticker\n",
    "\n",
    "fig, ax = plt.subplots(1, 1, figsize=(5, 6))\n",
    "fig.set_size_inches(10, 6)\n",
    "fig5 = sns.violinplot(x=\"Small Molecules\", y=\"Degree\", hue=\"Entity Level\", data=df_seq, palette=config.COLORS_BORDER)\n",
    "ax.yaxis.set_major_formatter(mticker.StrMethodFormatter(\"$10^{{{x:.0f}}}$\"))  # Convert ticks to powers of 10\n",
    "plt.legend(bbox_to_anchor=(1.0, 1), borderaxespad=0.5)  # Put the legend out of the figure\n",
    "plt.show()\n",
    "fig5.figure.savefig('figures/figure_5.png')"
   ]
  },
  {
   "cell_type": "code",
   "execution_count": 55,
   "metadata": {
    "collapsed": false,
    "pycharm": {
     "name": "#%% Find example pathways\n"
    }
   },
   "outputs": [
    {
     "name": "stdout",
     "output_type": "stream",
     "text": [
      "    * Creating network networks\\pathways\\R-HSA-9668328_proteoforms_with_sm.json\n",
      "    * Creating network networks\\pathways\\R-HSA-9668328_genes_with_unique_sm.json\n",
      "    * Creating network networks\\pathways\\R-HSA-9668328_proteins_with_unique_sm.json\n",
      "    * Creating network networks\\pathways\\R-HSA-9668328_proteoforms_with_unique_sm.json\n",
      "    * Creating network networks\\pathways\\R-HSA-9615933_genes_no_sm.json\n"
     ]
    },
    {
     "ename": "KeyboardInterrupt",
     "evalue": "",
     "output_type": "error",
     "traceback": [
      "\u001b[1;31m---------------------------------------------------------------------------\u001b[0m",
      "\u001b[1;31mConnectionRefusedError\u001b[0m                    Traceback (most recent call last)",
      "File \u001b[1;32mC:\\Python310\\lib\\site-packages\\neo4j\\io\\__init__.py:1253\u001b[0m, in \u001b[0;36m_connect\u001b[1;34m(resolved_address, timeout, keep_alive)\u001b[0m\n\u001b[0;32m   <a href='file:///c%3A/Python310/lib/site-packages/neo4j/io/__init__.py?line=1251'>1252</a>\u001b[0m log\u001b[39m.\u001b[39mdebug(\u001b[39m\"\u001b[39m\u001b[39m[#0000]  C: <OPEN> \u001b[39m\u001b[39m%s\u001b[39;00m\u001b[39m\"\u001b[39m, resolved_address)\n\u001b[1;32m-> <a href='file:///c%3A/Python310/lib/site-packages/neo4j/io/__init__.py?line=1252'>1253</a>\u001b[0m s\u001b[39m.\u001b[39;49mconnect(resolved_address)\n\u001b[0;32m   <a href='file:///c%3A/Python310/lib/site-packages/neo4j/io/__init__.py?line=1253'>1254</a>\u001b[0m s\u001b[39m.\u001b[39msettimeout(t)\n",
      "\u001b[1;31mConnectionRefusedError\u001b[0m: [WinError 10061] No connection could be made because the target machine actively refused it",
      "\nDuring handling of the above exception, another exception occurred:\n",
      "\u001b[1;31mKeyboardInterrupt\u001b[0m                         Traceback (most recent call last)",
      "\u001b[1;32mc:\\Users\\luisp\\OneDrive\\Documents\\phd\\ProteoformNetworks\\src\\Python\\2_1_size_degree.ipynb Cell 19'\u001b[0m in \u001b[0;36m<cell line: 41>\u001b[1;34m()\u001b[0m\n\u001b[0;32m     <a href='vscode-notebook-cell:/c%3A/Users/luisp/OneDrive/Documents/phd/ProteoformNetworks/src/Python/2_1_size_degree.ipynb#ch0000018?line=44'>45</a>\u001b[0m filename \u001b[39m=\u001b[39m get_json_filename(level, method, PATHWAY_GRAPHS_PATH, pathway)\n\u001b[0;32m     <a href='vscode-notebook-cell:/c%3A/Users/luisp/OneDrive/Documents/phd/ProteoformNetworks/src/Python/2_1_size_degree.ipynb#ch0000018?line=45'>46</a>\u001b[0m \u001b[39mif\u001b[39;00m \u001b[39mnot\u001b[39;00m Path(filename)\u001b[39m.\u001b[39mexists():\n\u001b[1;32m---> <a href='vscode-notebook-cell:/c%3A/Users/luisp/OneDrive/Documents/phd/ProteoformNetworks/src/Python/2_1_size_degree.ipynb#ch0000018?line=46'>47</a>\u001b[0m     create_pathway_interaction_network(pathway, level, method, PATHWAY_GRAPHS_PATH)\n\u001b[0;32m     <a href='vscode-notebook-cell:/c%3A/Users/luisp/OneDrive/Documents/phd/ProteoformNetworks/src/Python/2_1_size_degree.ipynb#ch0000018?line=47'>48</a>\u001b[0m G \u001b[39m=\u001b[39m read_graph(filename)\n\u001b[0;32m     <a href='vscode-notebook-cell:/c%3A/Users/luisp/OneDrive/Documents/phd/ProteoformNetworks/src/Python/2_1_size_degree.ipynb#ch0000018?line=48'>49</a>\u001b[0m pathway_graphs[level] \u001b[39m=\u001b[39m G\n",
      "File \u001b[1;32mc:\\Users\\luisp\\OneDrive\\Documents\\phd\\ProteoformNetworks\\src\\Python\\lib\\networks.py:88\u001b[0m, in \u001b[0;36mcreate_pathway_interaction_network\u001b[1;34m(pathway, level, method, out_path, v)\u001b[0m\n\u001b[0;32m     <a href='file:///c%3A/Users/luisp/OneDrive/Documents/phd/ProteoformNetworks/src/Python/lib/networks.py?line=84'>85</a>\u001b[0m         \u001b[39mprint\u001b[39m(\u001b[39mf\u001b[39m\u001b[39m\"\u001b[39m\u001b[39m    * Creating network \u001b[39m\u001b[39m{\u001b[39;00mfilename\u001b[39m}\u001b[39;00m\u001b[39m\"\u001b[39m)\n\u001b[0;32m     <a href='file:///c%3A/Users/luisp/OneDrive/Documents/phd/ProteoformNetworks/src/Python/lib/networks.py?line=85'>86</a>\u001b[0m     participants \u001b[39m=\u001b[39m {level: get_participants_by_pathway(\n\u001b[0;32m     <a href='file:///c%3A/Users/luisp/OneDrive/Documents/phd/ProteoformNetworks/src/Python/lib/networks.py?line=86'>87</a>\u001b[0m         pathway, level, out_path) \u001b[39mfor\u001b[39;00m level \u001b[39min\u001b[39;00m [level, sm]}\n\u001b[1;32m---> <a href='file:///c%3A/Users/luisp/OneDrive/Documents/phd/ProteoformNetworks/src/Python/lib/networks.py?line=87'>88</a>\u001b[0m     components \u001b[39m=\u001b[39m {level: get_components_by_pathway(\n\u001b[0;32m     <a href='file:///c%3A/Users/luisp/OneDrive/Documents/phd/ProteoformNetworks/src/Python/lib/networks.py?line=88'>89</a>\u001b[0m         pathway, level, out_path) \u001b[39mfor\u001b[39;00m level \u001b[39min\u001b[39;00m [level, sm]}\n\u001b[0;32m     <a href='file:///c%3A/Users/luisp/OneDrive/Documents/phd/ProteoformNetworks/src/Python/lib/networks.py?line=89'>90</a>\u001b[0m     create_interaction_network(\n\u001b[0;32m     <a href='file:///c%3A/Users/luisp/OneDrive/Documents/phd/ProteoformNetworks/src/Python/lib/networks.py?line=90'>91</a>\u001b[0m         level, method, participants, components, out_path, pathway, \u001b[39mFalse\u001b[39;00m)\n\u001b[0;32m     <a href='file:///c%3A/Users/luisp/OneDrive/Documents/phd/ProteoformNetworks/src/Python/lib/networks.py?line=91'>92</a>\u001b[0m \u001b[39m# else:\u001b[39;00m\n\u001b[0;32m     <a href='file:///c%3A/Users/luisp/OneDrive/Documents/phd/ProteoformNetworks/src/Python/lib/networks.py?line=92'>93</a>\u001b[0m \u001b[39m#     print(f\"    * Network {filename} already exists..\")\u001b[39;00m\n",
      "File \u001b[1;32mc:\\Users\\luisp\\OneDrive\\Documents\\phd\\ProteoformNetworks\\src\\Python\\lib\\networks.py:88\u001b[0m, in \u001b[0;36m<dictcomp>\u001b[1;34m(.0)\u001b[0m\n\u001b[0;32m     <a href='file:///c%3A/Users/luisp/OneDrive/Documents/phd/ProteoformNetworks/src/Python/lib/networks.py?line=84'>85</a>\u001b[0m         \u001b[39mprint\u001b[39m(\u001b[39mf\u001b[39m\u001b[39m\"\u001b[39m\u001b[39m    * Creating network \u001b[39m\u001b[39m{\u001b[39;00mfilename\u001b[39m}\u001b[39;00m\u001b[39m\"\u001b[39m)\n\u001b[0;32m     <a href='file:///c%3A/Users/luisp/OneDrive/Documents/phd/ProteoformNetworks/src/Python/lib/networks.py?line=85'>86</a>\u001b[0m     participants \u001b[39m=\u001b[39m {level: get_participants_by_pathway(\n\u001b[0;32m     <a href='file:///c%3A/Users/luisp/OneDrive/Documents/phd/ProteoformNetworks/src/Python/lib/networks.py?line=86'>87</a>\u001b[0m         pathway, level, out_path) \u001b[39mfor\u001b[39;00m level \u001b[39min\u001b[39;00m [level, sm]}\n\u001b[1;32m---> <a href='file:///c%3A/Users/luisp/OneDrive/Documents/phd/ProteoformNetworks/src/Python/lib/networks.py?line=87'>88</a>\u001b[0m     components \u001b[39m=\u001b[39m {level: get_components_by_pathway(\n\u001b[0;32m     <a href='file:///c%3A/Users/luisp/OneDrive/Documents/phd/ProteoformNetworks/src/Python/lib/networks.py?line=88'>89</a>\u001b[0m         pathway, level, out_path) \u001b[39mfor\u001b[39;00m level \u001b[39min\u001b[39;00m [level, sm]}\n\u001b[0;32m     <a href='file:///c%3A/Users/luisp/OneDrive/Documents/phd/ProteoformNetworks/src/Python/lib/networks.py?line=89'>90</a>\u001b[0m     create_interaction_network(\n\u001b[0;32m     <a href='file:///c%3A/Users/luisp/OneDrive/Documents/phd/ProteoformNetworks/src/Python/lib/networks.py?line=90'>91</a>\u001b[0m         level, method, participants, components, out_path, pathway, \u001b[39mFalse\u001b[39;00m)\n\u001b[0;32m     <a href='file:///c%3A/Users/luisp/OneDrive/Documents/phd/ProteoformNetworks/src/Python/lib/networks.py?line=91'>92</a>\u001b[0m \u001b[39m# else:\u001b[39;00m\n\u001b[0;32m     <a href='file:///c%3A/Users/luisp/OneDrive/Documents/phd/ProteoformNetworks/src/Python/lib/networks.py?line=92'>93</a>\u001b[0m \u001b[39m#     print(f\"    * Network {filename} already exists..\")\u001b[39;00m\n",
      "File \u001b[1;32mc:\\Users\\luisp\\OneDrive\\Documents\\phd\\ProteoformNetworks\\src\\Python\\lib\\graph_database_access.py:203\u001b[0m, in \u001b[0;36mget_components_by_pathway\u001b[1;34m(pathway, level, out_path)\u001b[0m\n\u001b[0;32m    <a href='file:///c%3A/Users/luisp/OneDrive/Documents/phd/ProteoformNetworks/src/Python/lib/graph_database_access.py?line=198'>199</a>\u001b[0m df_complexes \u001b[39m=\u001b[39m get_complexes_by_pathway(pathway)\n\u001b[0;32m    <a href='file:///c%3A/Users/luisp/OneDrive/Documents/phd/ProteoformNetworks/src/Python/lib/graph_database_access.py?line=200'>201</a>\u001b[0m \u001b[39mif\u001b[39;00m \u001b[39mlen\u001b[39m(df_complexes) \u001b[39m>\u001b[39m \u001b[39m0\u001b[39m:\n\u001b[0;32m    <a href='file:///c%3A/Users/luisp/OneDrive/Documents/phd/ProteoformNetworks/src/Python/lib/graph_database_access.py?line=201'>202</a>\u001b[0m     \u001b[39m# Get the components of each complex\u001b[39;00m\n\u001b[1;32m--> <a href='file:///c%3A/Users/luisp/OneDrive/Documents/phd/ProteoformNetworks/src/Python/lib/graph_database_access.py?line=202'>203</a>\u001b[0m     dfs_components \u001b[39m=\u001b[39m [get_complex_components_by_complex(\u001b[39mcomplex\u001b[39m, level, out_path) \u001b[39mfor\u001b[39;00m \u001b[39mcomplex\u001b[39m \u001b[39min\u001b[39;00m\n\u001b[0;32m    <a href='file:///c%3A/Users/luisp/OneDrive/Documents/phd/ProteoformNetworks/src/Python/lib/graph_database_access.py?line=203'>204</a>\u001b[0m                       df_complexes[\u001b[39m\"\u001b[39m\u001b[39mComplex\u001b[39m\u001b[39m\"\u001b[39m]]\n\u001b[0;32m    <a href='file:///c%3A/Users/luisp/OneDrive/Documents/phd/ProteoformNetworks/src/Python/lib/graph_database_access.py?line=204'>205</a>\u001b[0m     components \u001b[39m=\u001b[39m pd\u001b[39m.\u001b[39mconcat(dfs_components)\n\u001b[0;32m    <a href='file:///c%3A/Users/luisp/OneDrive/Documents/phd/ProteoformNetworks/src/Python/lib/graph_database_access.py?line=205'>206</a>\u001b[0m     \u001b[39mreturn\u001b[39;00m components\n",
      "File \u001b[1;32mc:\\Users\\luisp\\OneDrive\\Documents\\phd\\ProteoformNetworks\\src\\Python\\lib\\graph_database_access.py:203\u001b[0m, in \u001b[0;36m<listcomp>\u001b[1;34m(.0)\u001b[0m\n\u001b[0;32m    <a href='file:///c%3A/Users/luisp/OneDrive/Documents/phd/ProteoformNetworks/src/Python/lib/graph_database_access.py?line=198'>199</a>\u001b[0m df_complexes \u001b[39m=\u001b[39m get_complexes_by_pathway(pathway)\n\u001b[0;32m    <a href='file:///c%3A/Users/luisp/OneDrive/Documents/phd/ProteoformNetworks/src/Python/lib/graph_database_access.py?line=200'>201</a>\u001b[0m \u001b[39mif\u001b[39;00m \u001b[39mlen\u001b[39m(df_complexes) \u001b[39m>\u001b[39m \u001b[39m0\u001b[39m:\n\u001b[0;32m    <a href='file:///c%3A/Users/luisp/OneDrive/Documents/phd/ProteoformNetworks/src/Python/lib/graph_database_access.py?line=201'>202</a>\u001b[0m     \u001b[39m# Get the components of each complex\u001b[39;00m\n\u001b[1;32m--> <a href='file:///c%3A/Users/luisp/OneDrive/Documents/phd/ProteoformNetworks/src/Python/lib/graph_database_access.py?line=202'>203</a>\u001b[0m     dfs_components \u001b[39m=\u001b[39m [get_complex_components_by_complex(\u001b[39mcomplex\u001b[39;49m, level, out_path) \u001b[39mfor\u001b[39;00m \u001b[39mcomplex\u001b[39m \u001b[39min\u001b[39;00m\n\u001b[0;32m    <a href='file:///c%3A/Users/luisp/OneDrive/Documents/phd/ProteoformNetworks/src/Python/lib/graph_database_access.py?line=203'>204</a>\u001b[0m                       df_complexes[\u001b[39m\"\u001b[39m\u001b[39mComplex\u001b[39m\u001b[39m\"\u001b[39m]]\n\u001b[0;32m    <a href='file:///c%3A/Users/luisp/OneDrive/Documents/phd/ProteoformNetworks/src/Python/lib/graph_database_access.py?line=204'>205</a>\u001b[0m     components \u001b[39m=\u001b[39m pd\u001b[39m.\u001b[39mconcat(dfs_components)\n\u001b[0;32m    <a href='file:///c%3A/Users/luisp/OneDrive/Documents/phd/ProteoformNetworks/src/Python/lib/graph_database_access.py?line=205'>206</a>\u001b[0m     \u001b[39mreturn\u001b[39;00m components\n",
      "File \u001b[1;32mc:\\Users\\luisp\\OneDrive\\Documents\\phd\\ProteoformNetworks\\src\\Python\\lib\\graph_database_access.py:272\u001b[0m, in \u001b[0;36mget_complex_components_by_complex\u001b[1;34m(complex, level, out_path)\u001b[0m\n\u001b[0;32m    <a href='file:///c%3A/Users/luisp/OneDrive/Documents/phd/ProteoformNetworks/src/Python/lib/graph_database_access.py?line=267'>268</a>\u001b[0m \u001b[39mif\u001b[39;00m \u001b[39mnot\u001b[39;00m path\u001b[39m.\u001b[39mexists(filename):\n\u001b[0;32m    <a href='file:///c%3A/Users/luisp/OneDrive/Documents/phd/ProteoformNetworks/src/Python/lib/graph_database_access.py?line=268'>269</a>\u001b[0m     query \u001b[39m=\u001b[39m QUERIES_COMPONENTS[level]\u001b[39m.\u001b[39mreplace(\n\u001b[0;32m    <a href='file:///c%3A/Users/luisp/OneDrive/Documents/phd/ProteoformNetworks/src/Python/lib/graph_database_access.py?line=269'>270</a>\u001b[0m         \u001b[39m\"\u001b[39m\u001b[39mComplex\u001b[39m\u001b[39m{\u001b[39m\u001b[39mspeciesName:\u001b[39m\u001b[39m'\u001b[39m\u001b[39mHomo sapiens\u001b[39m\u001b[39m'\u001b[39m\u001b[39m}\u001b[39m\u001b[39m\"\u001b[39m,\n\u001b[0;32m    <a href='file:///c%3A/Users/luisp/OneDrive/Documents/phd/ProteoformNetworks/src/Python/lib/graph_database_access.py?line=270'>271</a>\u001b[0m         \u001b[39mf\u001b[39m\u001b[39m\"\u001b[39m\u001b[39mComplex\u001b[39m\u001b[39m{{\u001b[39;00m\u001b[39mspeciesName:\u001b[39m\u001b[39m'\u001b[39m\u001b[39mHomo sapiens\u001b[39m\u001b[39m'\u001b[39m\u001b[39m, stId:\u001b[39m\u001b[39m'\u001b[39m\u001b[39m{\u001b[39;00m\u001b[39mcomplex\u001b[39m\u001b[39m}\u001b[39;00m\u001b[39m'\u001b[39m\u001b[39m}}\u001b[39;00m\u001b[39m\"\u001b[39m)\n\u001b[1;32m--> <a href='file:///c%3A/Users/luisp/OneDrive/Documents/phd/ProteoformNetworks/src/Python/lib/graph_database_access.py?line=271'>272</a>\u001b[0m     components \u001b[39m=\u001b[39m get_query_result(query)\n\u001b[0;32m    <a href='file:///c%3A/Users/luisp/OneDrive/Documents/phd/ProteoformNetworks/src/Python/lib/graph_database_access.py?line=272'>273</a>\u001b[0m     components \u001b[39m=\u001b[39m fix_neo4j_values(components, level)\n\u001b[0;32m    <a href='file:///c%3A/Users/luisp/OneDrive/Documents/phd/ProteoformNetworks/src/Python/lib/graph_database_access.py?line=273'>274</a>\u001b[0m     \u001b[39mif\u001b[39;00m \u001b[39mlen\u001b[39m(components) \u001b[39m==\u001b[39m \u001b[39m0\u001b[39m:\n",
      "File \u001b[1;32mc:\\Users\\luisp\\OneDrive\\Documents\\phd\\ProteoformNetworks\\src\\Python\\lib\\graph_database_access.py:20\u001b[0m, in \u001b[0;36mget_query_result\u001b[1;34m(query)\u001b[0m\n\u001b[0;32m     <a href='file:///c%3A/Users/luisp/OneDrive/Documents/phd/ProteoformNetworks/src/Python/lib/graph_database_access.py?line=13'>14</a>\u001b[0m \u001b[39m\"\"\"\u001b[39;00m\n\u001b[0;32m     <a href='file:///c%3A/Users/luisp/OneDrive/Documents/phd/ProteoformNetworks/src/Python/lib/graph_database_access.py?line=14'>15</a>\u001b[0m \u001b[39mGet pandas dataframe with the result of the query to Reactome Graph Database\u001b[39;00m\n\u001b[0;32m     <a href='file:///c%3A/Users/luisp/OneDrive/Documents/phd/ProteoformNetworks/src/Python/lib/graph_database_access.py?line=15'>16</a>\u001b[0m \u001b[39m:param query: Cypher string with the query to get the data\u001b[39;00m\n\u001b[0;32m     <a href='file:///c%3A/Users/luisp/OneDrive/Documents/phd/ProteoformNetworks/src/Python/lib/graph_database_access.py?line=16'>17</a>\u001b[0m \u001b[39m:return: pandas dataframe with the result records\u001b[39;00m\n\u001b[0;32m     <a href='file:///c%3A/Users/luisp/OneDrive/Documents/phd/ProteoformNetworks/src/Python/lib/graph_database_access.py?line=17'>18</a>\u001b[0m \u001b[39m\"\"\"\u001b[39;00m\n\u001b[0;32m     <a href='file:///c%3A/Users/luisp/OneDrive/Documents/phd/ProteoformNetworks/src/Python/lib/graph_database_access.py?line=18'>19</a>\u001b[0m db \u001b[39m=\u001b[39m GraphDatabaseAccess(\u001b[39m\"\u001b[39m\u001b[39mbolt://localhost\u001b[39m\u001b[39m\"\u001b[39m, \u001b[39m\"\u001b[39m\u001b[39mneo4j\u001b[39m\u001b[39m\"\u001b[39m, \u001b[39m\"\u001b[39m\u001b[39mreactome79\u001b[39m\u001b[39m\"\u001b[39m)\n\u001b[1;32m---> <a href='file:///c%3A/Users/luisp/OneDrive/Documents/phd/ProteoformNetworks/src/Python/lib/graph_database_access.py?line=19'>20</a>\u001b[0m df \u001b[39m=\u001b[39m db\u001b[39m.\u001b[39;49mget_result(query)\n\u001b[0;32m     <a href='file:///c%3A/Users/luisp/OneDrive/Documents/phd/ProteoformNetworks/src/Python/lib/graph_database_access.py?line=20'>21</a>\u001b[0m db\u001b[39m.\u001b[39mclose()\n\u001b[0;32m     <a href='file:///c%3A/Users/luisp/OneDrive/Documents/phd/ProteoformNetworks/src/Python/lib/graph_database_access.py?line=21'>22</a>\u001b[0m \u001b[39mreturn\u001b[39;00m df\n",
      "File \u001b[1;32mc:\\Users\\luisp\\OneDrive\\Documents\\phd\\ProteoformNetworks\\src\\Python\\lib\\graph_database_access.py:35\u001b[0m, in \u001b[0;36mGraphDatabaseAccess.get_result\u001b[1;34m(self, query)\u001b[0m\n\u001b[0;32m     <a href='file:///c%3A/Users/luisp/OneDrive/Documents/phd/ProteoformNetworks/src/Python/lib/graph_database_access.py?line=32'>33</a>\u001b[0m \u001b[39mdef\u001b[39;00m \u001b[39mget_result\u001b[39m(\u001b[39mself\u001b[39m, query):\n\u001b[0;32m     <a href='file:///c%3A/Users/luisp/OneDrive/Documents/phd/ProteoformNetworks/src/Python/lib/graph_database_access.py?line=33'>34</a>\u001b[0m     \u001b[39mwith\u001b[39;00m \u001b[39mself\u001b[39m\u001b[39m.\u001b[39mdriver\u001b[39m.\u001b[39msession() \u001b[39mas\u001b[39;00m session:\n\u001b[1;32m---> <a href='file:///c%3A/Users/luisp/OneDrive/Documents/phd/ProteoformNetworks/src/Python/lib/graph_database_access.py?line=34'>35</a>\u001b[0m         records \u001b[39m=\u001b[39m session\u001b[39m.\u001b[39;49mread_transaction(\u001b[39mself\u001b[39;49m\u001b[39m.\u001b[39;49mget_records, query)\n\u001b[0;32m     <a href='file:///c%3A/Users/luisp/OneDrive/Documents/phd/ProteoformNetworks/src/Python/lib/graph_database_access.py?line=35'>36</a>\u001b[0m         \u001b[39mif\u001b[39;00m records:\n\u001b[0;32m     <a href='file:///c%3A/Users/luisp/OneDrive/Documents/phd/ProteoformNetworks/src/Python/lib/graph_database_access.py?line=36'>37</a>\u001b[0m             \u001b[39mreturn\u001b[39;00m pd\u001b[39m.\u001b[39mDataFrame([r\u001b[39m.\u001b[39mvalues() \u001b[39mfor\u001b[39;00m r \u001b[39min\u001b[39;00m records], columns\u001b[39m=\u001b[39mrecords[\u001b[39m0\u001b[39m]\u001b[39m.\u001b[39mkeys())\n",
      "File \u001b[1;32mC:\\Python310\\lib\\site-packages\\neo4j\\work\\simple.py:396\u001b[0m, in \u001b[0;36mSession.read_transaction\u001b[1;34m(self, transaction_function, *args, **kwargs)\u001b[0m\n\u001b[0;32m    <a href='file:///c%3A/Python310/lib/site-packages/neo4j/work/simple.py?line=355'>356</a>\u001b[0m \u001b[39mdef\u001b[39;00m \u001b[39mread_transaction\u001b[39m(\u001b[39mself\u001b[39m, transaction_function, \u001b[39m*\u001b[39margs, \u001b[39m*\u001b[39m\u001b[39m*\u001b[39mkwargs):\n\u001b[0;32m    <a href='file:///c%3A/Python310/lib/site-packages/neo4j/work/simple.py?line=356'>357</a>\u001b[0m     \u001b[39m\"\"\"Execute a unit of work in a managed read transaction.\u001b[39;00m\n\u001b[0;32m    <a href='file:///c%3A/Python310/lib/site-packages/neo4j/work/simple.py?line=357'>358</a>\u001b[0m \u001b[39m    This transaction will automatically be committed unless an exception is thrown during query execution or by the user code.\u001b[39;00m\n\u001b[0;32m    <a href='file:///c%3A/Python310/lib/site-packages/neo4j/work/simple.py?line=358'>359</a>\u001b[0m \u001b[39m    Note, that this function perform retries and that the supplied `transaction_function` might get invoked more than once.\u001b[39;00m\n\u001b[1;32m   (...)\u001b[0m\n\u001b[0;32m    <a href='file:///c%3A/Python310/lib/site-packages/neo4j/work/simple.py?line=393'>394</a>\u001b[0m \u001b[39m    :return: a result as returned by the given unit of work\u001b[39;00m\n\u001b[0;32m    <a href='file:///c%3A/Python310/lib/site-packages/neo4j/work/simple.py?line=394'>395</a>\u001b[0m \u001b[39m    \"\"\"\u001b[39;00m\n\u001b[1;32m--> <a href='file:///c%3A/Python310/lib/site-packages/neo4j/work/simple.py?line=395'>396</a>\u001b[0m     \u001b[39mreturn\u001b[39;00m \u001b[39mself\u001b[39m\u001b[39m.\u001b[39m_run_transaction(READ_ACCESS, transaction_function, \u001b[39m*\u001b[39margs, \u001b[39m*\u001b[39m\u001b[39m*\u001b[39mkwargs)\n",
      "File \u001b[1;32mC:\\Python310\\lib\\site-packages\\neo4j\\work\\simple.py:322\u001b[0m, in \u001b[0;36mSession._run_transaction\u001b[1;34m(self, access_mode, transaction_function, *args, **kwargs)\u001b[0m\n\u001b[0;32m    <a href='file:///c%3A/Python310/lib/site-packages/neo4j/work/simple.py?line=319'>320</a>\u001b[0m \u001b[39mwhile\u001b[39;00m \u001b[39mTrue\u001b[39;00m:\n\u001b[0;32m    <a href='file:///c%3A/Python310/lib/site-packages/neo4j/work/simple.py?line=320'>321</a>\u001b[0m     \u001b[39mtry\u001b[39;00m:\n\u001b[1;32m--> <a href='file:///c%3A/Python310/lib/site-packages/neo4j/work/simple.py?line=321'>322</a>\u001b[0m         \u001b[39mself\u001b[39;49m\u001b[39m.\u001b[39;49m_open_transaction(access_mode\u001b[39m=\u001b[39;49maccess_mode, metadata\u001b[39m=\u001b[39;49mmetadata, timeout\u001b[39m=\u001b[39;49mtimeout)\n\u001b[0;32m    <a href='file:///c%3A/Python310/lib/site-packages/neo4j/work/simple.py?line=322'>323</a>\u001b[0m         tx \u001b[39m=\u001b[39m \u001b[39mself\u001b[39m\u001b[39m.\u001b[39m_transaction\n\u001b[0;32m    <a href='file:///c%3A/Python310/lib/site-packages/neo4j/work/simple.py?line=323'>324</a>\u001b[0m         \u001b[39mtry\u001b[39;00m:\n",
      "File \u001b[1;32mC:\\Python310\\lib\\site-packages\\neo4j\\work\\simple.py:255\u001b[0m, in \u001b[0;36mSession._open_transaction\u001b[1;34m(self, access_mode, metadata, timeout)\u001b[0m\n\u001b[0;32m    <a href='file:///c%3A/Python310/lib/site-packages/neo4j/work/simple.py?line=252'>253</a>\u001b[0m \u001b[39mdef\u001b[39;00m \u001b[39m_open_transaction\u001b[39m(\u001b[39mself\u001b[39m, \u001b[39m*\u001b[39m, access_mode, metadata\u001b[39m=\u001b[39m\u001b[39mNone\u001b[39;00m,\n\u001b[0;32m    <a href='file:///c%3A/Python310/lib/site-packages/neo4j/work/simple.py?line=253'>254</a>\u001b[0m                       timeout\u001b[39m=\u001b[39m\u001b[39mNone\u001b[39;00m):\n\u001b[1;32m--> <a href='file:///c%3A/Python310/lib/site-packages/neo4j/work/simple.py?line=254'>255</a>\u001b[0m     \u001b[39mself\u001b[39;49m\u001b[39m.\u001b[39;49m_connect(access_mode\u001b[39m=\u001b[39;49maccess_mode)\n\u001b[0;32m    <a href='file:///c%3A/Python310/lib/site-packages/neo4j/work/simple.py?line=255'>256</a>\u001b[0m     \u001b[39mself\u001b[39m\u001b[39m.\u001b[39m_transaction \u001b[39m=\u001b[39m Transaction(\n\u001b[0;32m    <a href='file:///c%3A/Python310/lib/site-packages/neo4j/work/simple.py?line=256'>257</a>\u001b[0m         \u001b[39mself\u001b[39m\u001b[39m.\u001b[39m_connection, \u001b[39mself\u001b[39m\u001b[39m.\u001b[39m_config\u001b[39m.\u001b[39mfetch_size,\n\u001b[0;32m    <a href='file:///c%3A/Python310/lib/site-packages/neo4j/work/simple.py?line=257'>258</a>\u001b[0m         \u001b[39mself\u001b[39m\u001b[39m.\u001b[39m_transaction_closed_handler,\n\u001b[0;32m    <a href='file:///c%3A/Python310/lib/site-packages/neo4j/work/simple.py?line=258'>259</a>\u001b[0m         \u001b[39mself\u001b[39m\u001b[39m.\u001b[39m_transaction_error_handler\n\u001b[0;32m    <a href='file:///c%3A/Python310/lib/site-packages/neo4j/work/simple.py?line=259'>260</a>\u001b[0m     )\n\u001b[0;32m    <a href='file:///c%3A/Python310/lib/site-packages/neo4j/work/simple.py?line=260'>261</a>\u001b[0m     \u001b[39mself\u001b[39m\u001b[39m.\u001b[39m_transaction\u001b[39m.\u001b[39m_begin(\n\u001b[0;32m    <a href='file:///c%3A/Python310/lib/site-packages/neo4j/work/simple.py?line=261'>262</a>\u001b[0m         \u001b[39mself\u001b[39m\u001b[39m.\u001b[39m_config\u001b[39m.\u001b[39mdatabase, \u001b[39mself\u001b[39m\u001b[39m.\u001b[39m_config\u001b[39m.\u001b[39mimpersonated_user,\n\u001b[0;32m    <a href='file:///c%3A/Python310/lib/site-packages/neo4j/work/simple.py?line=262'>263</a>\u001b[0m         \u001b[39mself\u001b[39m\u001b[39m.\u001b[39m_bookmarks, access_mode, metadata, timeout\n\u001b[0;32m    <a href='file:///c%3A/Python310/lib/site-packages/neo4j/work/simple.py?line=263'>264</a>\u001b[0m     )\n",
      "File \u001b[1;32mC:\\Python310\\lib\\site-packages\\neo4j\\work\\simple.py:108\u001b[0m, in \u001b[0;36mSession._connect\u001b[1;34m(self, access_mode)\u001b[0m\n\u001b[0;32m    <a href='file:///c%3A/Python310/lib/site-packages/neo4j/work/simple.py?line=105'>106</a>\u001b[0m \u001b[39mif\u001b[39;00m access_mode \u001b[39mis\u001b[39;00m \u001b[39mNone\u001b[39;00m:\n\u001b[0;32m    <a href='file:///c%3A/Python310/lib/site-packages/neo4j/work/simple.py?line=106'>107</a>\u001b[0m     access_mode \u001b[39m=\u001b[39m \u001b[39mself\u001b[39m\u001b[39m.\u001b[39m_config\u001b[39m.\u001b[39mdefault_access_mode\n\u001b[1;32m--> <a href='file:///c%3A/Python310/lib/site-packages/neo4j/work/simple.py?line=107'>108</a>\u001b[0m \u001b[39msuper\u001b[39;49m()\u001b[39m.\u001b[39;49m_connect(access_mode)\n",
      "File \u001b[1;32mC:\\Python310\\lib\\site-packages\\neo4j\\work\\__init__.py:79\u001b[0m, in \u001b[0;36mWorkspace._connect\u001b[1;34m(self, access_mode)\u001b[0m\n\u001b[0;32m     <a href='file:///c%3A/Python310/lib/site-packages/neo4j/work/__init__.py?line=65'>66</a>\u001b[0m     \u001b[39melse\u001b[39;00m:\n\u001b[0;32m     <a href='file:///c%3A/Python310/lib/site-packages/neo4j/work/__init__.py?line=66'>67</a>\u001b[0m         \u001b[39m# This is the first time we open a connection to a server in a\u001b[39;00m\n\u001b[0;32m     <a href='file:///c%3A/Python310/lib/site-packages/neo4j/work/__init__.py?line=67'>68</a>\u001b[0m         \u001b[39m# cluster environment for this session without explicitly\u001b[39;00m\n\u001b[1;32m   (...)\u001b[0m\n\u001b[0;32m     <a href='file:///c%3A/Python310/lib/site-packages/neo4j/work/__init__.py?line=70'>71</a>\u001b[0m         \u001b[39m# we shall use this database explicitly for all subsequent\u001b[39;00m\n\u001b[0;32m     <a href='file:///c%3A/Python310/lib/site-packages/neo4j/work/__init__.py?line=71'>72</a>\u001b[0m         \u001b[39m# actions within this session.\u001b[39;00m\n\u001b[0;32m     <a href='file:///c%3A/Python310/lib/site-packages/neo4j/work/__init__.py?line=72'>73</a>\u001b[0m         \u001b[39mself\u001b[39m\u001b[39m.\u001b[39m_pool\u001b[39m.\u001b[39mupdate_routing_table(\n\u001b[0;32m     <a href='file:///c%3A/Python310/lib/site-packages/neo4j/work/__init__.py?line=73'>74</a>\u001b[0m             database\u001b[39m=\u001b[39m\u001b[39mself\u001b[39m\u001b[39m.\u001b[39m_config\u001b[39m.\u001b[39mdatabase,\n\u001b[0;32m     <a href='file:///c%3A/Python310/lib/site-packages/neo4j/work/__init__.py?line=74'>75</a>\u001b[0m             imp_user\u001b[39m=\u001b[39m\u001b[39mself\u001b[39m\u001b[39m.\u001b[39m_config\u001b[39m.\u001b[39mimpersonated_user,\n\u001b[0;32m     <a href='file:///c%3A/Python310/lib/site-packages/neo4j/work/__init__.py?line=75'>76</a>\u001b[0m             bookmarks\u001b[39m=\u001b[39m\u001b[39mself\u001b[39m\u001b[39m.\u001b[39m_bookmarks,\n\u001b[0;32m     <a href='file:///c%3A/Python310/lib/site-packages/neo4j/work/__init__.py?line=76'>77</a>\u001b[0m             database_callback\u001b[39m=\u001b[39m\u001b[39mself\u001b[39m\u001b[39m.\u001b[39m_set_cached_database\n\u001b[0;32m     <a href='file:///c%3A/Python310/lib/site-packages/neo4j/work/__init__.py?line=77'>78</a>\u001b[0m         )\n\u001b[1;32m---> <a href='file:///c%3A/Python310/lib/site-packages/neo4j/work/__init__.py?line=78'>79</a>\u001b[0m \u001b[39mself\u001b[39m\u001b[39m.\u001b[39m_connection \u001b[39m=\u001b[39m \u001b[39mself\u001b[39;49m\u001b[39m.\u001b[39;49m_pool\u001b[39m.\u001b[39;49macquire(\n\u001b[0;32m     <a href='file:///c%3A/Python310/lib/site-packages/neo4j/work/__init__.py?line=79'>80</a>\u001b[0m     access_mode\u001b[39m=\u001b[39;49maccess_mode,\n\u001b[0;32m     <a href='file:///c%3A/Python310/lib/site-packages/neo4j/work/__init__.py?line=80'>81</a>\u001b[0m     timeout\u001b[39m=\u001b[39;49m\u001b[39mself\u001b[39;49m\u001b[39m.\u001b[39;49m_config\u001b[39m.\u001b[39;49mconnection_acquisition_timeout,\n\u001b[0;32m     <a href='file:///c%3A/Python310/lib/site-packages/neo4j/work/__init__.py?line=81'>82</a>\u001b[0m     database\u001b[39m=\u001b[39;49m\u001b[39mself\u001b[39;49m\u001b[39m.\u001b[39;49m_config\u001b[39m.\u001b[39;49mdatabase,\n\u001b[0;32m     <a href='file:///c%3A/Python310/lib/site-packages/neo4j/work/__init__.py?line=82'>83</a>\u001b[0m     bookmarks\u001b[39m=\u001b[39;49m\u001b[39mself\u001b[39;49m\u001b[39m.\u001b[39;49m_bookmarks\n\u001b[0;32m     <a href='file:///c%3A/Python310/lib/site-packages/neo4j/work/__init__.py?line=83'>84</a>\u001b[0m )\n\u001b[0;32m     <a href='file:///c%3A/Python310/lib/site-packages/neo4j/work/__init__.py?line=84'>85</a>\u001b[0m \u001b[39mself\u001b[39m\u001b[39m.\u001b[39m_connection_access_mode \u001b[39m=\u001b[39m access_mode\n",
      "File \u001b[1;32mC:\\Python310\\lib\\site-packages\\neo4j\\io\\__init__.py:842\u001b[0m, in \u001b[0;36mBoltPool.acquire\u001b[1;34m(self, access_mode, timeout, database, bookmarks)\u001b[0m\n\u001b[0;32m    <a href='file:///c%3A/Python310/lib/site-packages/neo4j/io/__init__.py?line=839'>840</a>\u001b[0m \u001b[39mdef\u001b[39;00m \u001b[39macquire\u001b[39m(\u001b[39mself\u001b[39m, access_mode\u001b[39m=\u001b[39m\u001b[39mNone\u001b[39;00m, timeout\u001b[39m=\u001b[39m\u001b[39mNone\u001b[39;00m, database\u001b[39m=\u001b[39m\u001b[39mNone\u001b[39;00m, bookmarks\u001b[39m=\u001b[39m\u001b[39mNone\u001b[39;00m):\n\u001b[0;32m    <a href='file:///c%3A/Python310/lib/site-packages/neo4j/io/__init__.py?line=840'>841</a>\u001b[0m     \u001b[39m# The access_mode and database is not needed for a direct connection, its just there for consistency.\u001b[39;00m\n\u001b[1;32m--> <a href='file:///c%3A/Python310/lib/site-packages/neo4j/io/__init__.py?line=841'>842</a>\u001b[0m     \u001b[39mreturn\u001b[39;00m \u001b[39mself\u001b[39;49m\u001b[39m.\u001b[39;49m_acquire(\u001b[39mself\u001b[39;49m\u001b[39m.\u001b[39;49maddress, timeout)\n",
      "File \u001b[1;32mC:\\Python310\\lib\\site-packages\\neo4j\\io\\__init__.py:696\u001b[0m, in \u001b[0;36mIOPool._acquire\u001b[1;34m(self, address, timeout)\u001b[0m\n\u001b[0;32m    <a href='file:///c%3A/Python310/lib/site-packages/neo4j/io/__init__.py?line=692'>693</a>\u001b[0m timeout \u001b[39m=\u001b[39m \u001b[39mmin\u001b[39m(\u001b[39mself\u001b[39m\u001b[39m.\u001b[39mpool_config\u001b[39m.\u001b[39mconnection_timeout,\n\u001b[0;32m    <a href='file:///c%3A/Python310/lib/site-packages/neo4j/io/__init__.py?line=693'>694</a>\u001b[0m               time_remaining())\n\u001b[0;32m    <a href='file:///c%3A/Python310/lib/site-packages/neo4j/io/__init__.py?line=694'>695</a>\u001b[0m \u001b[39mtry\u001b[39;00m:\n\u001b[1;32m--> <a href='file:///c%3A/Python310/lib/site-packages/neo4j/io/__init__.py?line=695'>696</a>\u001b[0m     connection \u001b[39m=\u001b[39m \u001b[39mself\u001b[39;49m\u001b[39m.\u001b[39;49mopener(address, timeout)\n\u001b[0;32m    <a href='file:///c%3A/Python310/lib/site-packages/neo4j/io/__init__.py?line=696'>697</a>\u001b[0m \u001b[39mexcept\u001b[39;00m ServiceUnavailable:\n\u001b[0;32m    <a href='file:///c%3A/Python310/lib/site-packages/neo4j/io/__init__.py?line=697'>698</a>\u001b[0m     \u001b[39mself\u001b[39m\u001b[39m.\u001b[39mremove(address)\n",
      "File \u001b[1;32mC:\\Python310\\lib\\site-packages\\neo4j\\io\\__init__.py:825\u001b[0m, in \u001b[0;36mBoltPool.open.<locals>.opener\u001b[1;34m(addr, timeout)\u001b[0m\n\u001b[0;32m    <a href='file:///c%3A/Python310/lib/site-packages/neo4j/io/__init__.py?line=823'>824</a>\u001b[0m \u001b[39mdef\u001b[39;00m \u001b[39mopener\u001b[39m(addr, timeout):\n\u001b[1;32m--> <a href='file:///c%3A/Python310/lib/site-packages/neo4j/io/__init__.py?line=824'>825</a>\u001b[0m     \u001b[39mreturn\u001b[39;00m Bolt\u001b[39m.\u001b[39mopen(\n\u001b[0;32m    <a href='file:///c%3A/Python310/lib/site-packages/neo4j/io/__init__.py?line=825'>826</a>\u001b[0m         addr, auth\u001b[39m=\u001b[39mauth, timeout\u001b[39m=\u001b[39mtimeout, routing_context\u001b[39m=\u001b[39m\u001b[39mNone\u001b[39;00m,\n\u001b[0;32m    <a href='file:///c%3A/Python310/lib/site-packages/neo4j/io/__init__.py?line=826'>827</a>\u001b[0m         \u001b[39m*\u001b[39m\u001b[39m*\u001b[39mpool_config\n\u001b[0;32m    <a href='file:///c%3A/Python310/lib/site-packages/neo4j/io/__init__.py?line=827'>828</a>\u001b[0m     )\n",
      "File \u001b[1;32mC:\\Python310\\lib\\site-packages\\neo4j\\io\\__init__.py:318\u001b[0m, in \u001b[0;36mBolt.open\u001b[1;34m(cls, address, auth, timeout, routing_context, **pool_config)\u001b[0m\n\u001b[0;32m    <a href='file:///c%3A/Python310/lib/site-packages/neo4j/io/__init__.py?line=305'>306</a>\u001b[0m \u001b[39m\"\"\" Open a new Bolt connection to a given server address.\u001b[39;00m\n\u001b[0;32m    <a href='file:///c%3A/Python310/lib/site-packages/neo4j/io/__init__.py?line=306'>307</a>\u001b[0m \n\u001b[0;32m    <a href='file:///c%3A/Python310/lib/site-packages/neo4j/io/__init__.py?line=307'>308</a>\u001b[0m \u001b[39m:param address:\u001b[39;00m\n\u001b[1;32m   (...)\u001b[0m\n\u001b[0;32m    <a href='file:///c%3A/Python310/lib/site-packages/neo4j/io/__init__.py?line=314'>315</a>\u001b[0m \u001b[39m:raise ServiceUnavailable: raised if there was a connection issue.\u001b[39;00m\n\u001b[0;32m    <a href='file:///c%3A/Python310/lib/site-packages/neo4j/io/__init__.py?line=315'>316</a>\u001b[0m \u001b[39m\"\"\"\u001b[39;00m\n\u001b[0;32m    <a href='file:///c%3A/Python310/lib/site-packages/neo4j/io/__init__.py?line=316'>317</a>\u001b[0m pool_config \u001b[39m=\u001b[39m PoolConfig\u001b[39m.\u001b[39mconsume(pool_config)\n\u001b[1;32m--> <a href='file:///c%3A/Python310/lib/site-packages/neo4j/io/__init__.py?line=317'>318</a>\u001b[0m s, pool_config\u001b[39m.\u001b[39mprotocol_version, handshake, data \u001b[39m=\u001b[39m connect(\n\u001b[0;32m    <a href='file:///c%3A/Python310/lib/site-packages/neo4j/io/__init__.py?line=318'>319</a>\u001b[0m     address,\n\u001b[0;32m    <a href='file:///c%3A/Python310/lib/site-packages/neo4j/io/__init__.py?line=319'>320</a>\u001b[0m     timeout\u001b[39m=\u001b[39;49mtimeout,\n\u001b[0;32m    <a href='file:///c%3A/Python310/lib/site-packages/neo4j/io/__init__.py?line=320'>321</a>\u001b[0m     custom_resolver\u001b[39m=\u001b[39;49mpool_config\u001b[39m.\u001b[39;49mresolver,\n\u001b[0;32m    <a href='file:///c%3A/Python310/lib/site-packages/neo4j/io/__init__.py?line=321'>322</a>\u001b[0m     ssl_context\u001b[39m=\u001b[39;49mpool_config\u001b[39m.\u001b[39;49mget_ssl_context(),\n\u001b[0;32m    <a href='file:///c%3A/Python310/lib/site-packages/neo4j/io/__init__.py?line=322'>323</a>\u001b[0m     keep_alive\u001b[39m=\u001b[39;49mpool_config\u001b[39m.\u001b[39;49mkeep_alive,\n\u001b[0;32m    <a href='file:///c%3A/Python310/lib/site-packages/neo4j/io/__init__.py?line=323'>324</a>\u001b[0m )\n\u001b[0;32m    <a href='file:///c%3A/Python310/lib/site-packages/neo4j/io/__init__.py?line=325'>326</a>\u001b[0m \u001b[39m# Carry out Bolt subclass imports locally to avoid circular dependency\u001b[39;00m\n\u001b[0;32m    <a href='file:///c%3A/Python310/lib/site-packages/neo4j/io/__init__.py?line=326'>327</a>\u001b[0m \u001b[39m# issues.\u001b[39;00m\n\u001b[0;32m    <a href='file:///c%3A/Python310/lib/site-packages/neo4j/io/__init__.py?line=327'>328</a>\u001b[0m \u001b[39mif\u001b[39;00m pool_config\u001b[39m.\u001b[39mprotocol_version \u001b[39m==\u001b[39m (\u001b[39m3\u001b[39m, \u001b[39m0\u001b[39m):\n",
      "File \u001b[1;32mC:\\Python310\\lib\\site-packages\\neo4j\\io\\__init__.py:1374\u001b[0m, in \u001b[0;36mconnect\u001b[1;34m(address, timeout, custom_resolver, ssl_context, keep_alive)\u001b[0m\n\u001b[0;32m   <a href='file:///c%3A/Python310/lib/site-packages/neo4j/io/__init__.py?line=1371'>1372</a>\u001b[0m s \u001b[39m=\u001b[39m \u001b[39mNone\u001b[39;00m\n\u001b[0;32m   <a href='file:///c%3A/Python310/lib/site-packages/neo4j/io/__init__.py?line=1372'>1373</a>\u001b[0m \u001b[39mtry\u001b[39;00m:\n\u001b[1;32m-> <a href='file:///c%3A/Python310/lib/site-packages/neo4j/io/__init__.py?line=1373'>1374</a>\u001b[0m     s \u001b[39m=\u001b[39m _connect(resolved_address, timeout, keep_alive)\n\u001b[0;32m   <a href='file:///c%3A/Python310/lib/site-packages/neo4j/io/__init__.py?line=1374'>1375</a>\u001b[0m     s \u001b[39m=\u001b[39m _secure(s, resolved_address\u001b[39m.\u001b[39mhost_name, ssl_context)\n\u001b[0;32m   <a href='file:///c%3A/Python310/lib/site-packages/neo4j/io/__init__.py?line=1375'>1376</a>\u001b[0m     \u001b[39mreturn\u001b[39;00m _handshake(s, resolved_address)\n",
      "File \u001b[1;32mC:\\Python310\\lib\\site-packages\\neo4j\\io\\__init__.py:1253\u001b[0m, in \u001b[0;36m_connect\u001b[1;34m(resolved_address, timeout, keep_alive)\u001b[0m\n\u001b[0;32m   <a href='file:///c%3A/Python310/lib/site-packages/neo4j/io/__init__.py?line=1250'>1251</a>\u001b[0m     s\u001b[39m.\u001b[39msettimeout(timeout)\n\u001b[0;32m   <a href='file:///c%3A/Python310/lib/site-packages/neo4j/io/__init__.py?line=1251'>1252</a>\u001b[0m log\u001b[39m.\u001b[39mdebug(\u001b[39m\"\u001b[39m\u001b[39m[#0000]  C: <OPEN> \u001b[39m\u001b[39m%s\u001b[39;00m\u001b[39m\"\u001b[39m, resolved_address)\n\u001b[1;32m-> <a href='file:///c%3A/Python310/lib/site-packages/neo4j/io/__init__.py?line=1252'>1253</a>\u001b[0m s\u001b[39m.\u001b[39;49mconnect(resolved_address)\n\u001b[0;32m   <a href='file:///c%3A/Python310/lib/site-packages/neo4j/io/__init__.py?line=1253'>1254</a>\u001b[0m s\u001b[39m.\u001b[39msettimeout(t)\n\u001b[0;32m   <a href='file:///c%3A/Python310/lib/site-packages/neo4j/io/__init__.py?line=1254'>1255</a>\u001b[0m keep_alive \u001b[39m=\u001b[39m \u001b[39m1\u001b[39m \u001b[39mif\u001b[39;00m keep_alive \u001b[39melse\u001b[39;00m \u001b[39m0\u001b[39m\n",
      "\u001b[1;31mKeyboardInterrupt\u001b[0m: "
     ]
    }
   ],
   "source": [
    "from pathlib import Path\n",
    "from config import METHODS, PATHWAY_GRAPHS_PATH\n",
    "from config import LEVELS\n",
    "from lib.networks import get_json_filename, create_pathway_interaction_network, read_graph, \\\n",
    "    get_pathways_with_multiple_proteoforms\n",
    "from lib.graph_database_access import get_pathways\n",
    "\n",
    "columns = [\n",
    "    'Pathway',\n",
    "    'Small Molecules',\n",
    "    'Increase Nodes Genes-Proteins',\n",
    "    'Increase Interactions Genes-Proteins',\n",
    "    'Increase Nodes Proteins-Proteoforms',\n",
    "    'Increase Interactions Proteins-Proteoforms'\n",
    "]\n",
    "\n",
    "\n",
    "def get_pathway_tuples(pathway, graphs):\n",
    "    increase_nodes_genes_proteins = get_increase_percentage(graphs[genes].number_of_nodes(),\n",
    "                                                            graphs[proteins].number_of_nodes())\n",
    "    increase_links_genes_proteins = get_increase_percentage(graphs[genes].number_of_edges(),\n",
    "                                                            graphs[proteins].number_of_edges())\n",
    "    increase_nodes_proteins_proteoforms = get_increase_percentage(graphs[proteins].number_of_nodes(),\n",
    "                                                                  graphs[proteoforms].number_of_nodes())\n",
    "    increase_links_proteins_proteoforms = get_increase_percentage(graphs[proteoforms].number_of_edges(),\n",
    "                                                                  graphs[proteoforms].number_of_edges())\n",
    "\n",
    "    return (\n",
    "        pathway,\n",
    "        graphs[genes].graph[\"method\"],\n",
    "        increase_nodes_genes_proteins,\n",
    "        increase_links_genes_proteins,\n",
    "        increase_nodes_proteins_proteoforms,\n",
    "        increase_links_proteins_proteoforms\n",
    "    )\n",
    "\n",
    "\n",
    "data_pathways = []\n",
    "# pathways = get_pathways()[\"stId\"]\n",
    "pathways = get_pathways_with_multiple_proteoforms(interactome_networks_path, pathway_networks_path)\n",
    "for pathway in pathways:\n",
    "    for method in METHODS:\n",
    "        pathway_graphs = {}\n",
    "        for level in LEVELS:\n",
    "            filename = get_json_filename(level, method, PATHWAY_GRAPHS_PATH, pathway)\n",
    "            if not Path(filename).exists():\n",
    "                create_pathway_interaction_network(pathway, level, method, PATHWAY_GRAPHS_PATH)\n",
    "            G = read_graph(filename)\n",
    "            pathway_graphs[level] = G\n",
    "        if pathway_graphs[genes].number_of_nodes() > 0\\\n",
    "                and pathway_graphs[genes].number_of_edges() > 0\\\n",
    "                and pathway_graphs[genes].number_of_nodes() < 20:\n",
    "            data_pathways.append(get_pathway_tuples(pathway, pathway_graphs))\n",
    "\n",
    "df_pathways = pd.DataFrame.from_records(data_pathways, columns=columns)\n",
    "df_pathways"
   ]
  },
  {
   "cell_type": "code",
   "execution_count": null,
   "metadata": {
    "collapsed": false,
    "pycharm": {
     "name": "#%% Find the example of pathways with most change\n"
    }
   },
   "outputs": [],
   "source": [
    "from bokeh.io import show\n",
    "from visualization.visualize_single_network import Coloring, plot_pathway_all_levels\n",
    "from lib.networks import create_pathway_interaction_networks\n",
    "\n",
    "# Example nodes genes-proteins\n",
    "df_pathways.sort_values(by=['Increase Nodes Genes-Proteins'], ascending=False, inplace=True)\n",
    "examples = df_pathways.head(20)[\"Pathway\"].unique()\n",
    "print(examples)\n",
    "\n",
    "for example in examples:\n",
    "    graphs = create_pathway_interaction_networks(example, \"resources/pathway_networks/\")\n",
    "    p = plot_pathway_all_levels(example, out_path=\"resources/pathway_networks/\", graphs=graphs,\n",
    "                                coloring=Coloring.ENTITY_TYPE, outline_line_width=1,\n",
    "                                node_size = 12,\n",
    "                                inner_plot_size=350,\n",
    "                                highlight_articulations=True,\n",
    "                                highlight_bridges=True,\n",
    "                                toolbar_location='below')\n",
    "    show(p)\n",
    "df_pathways.head(20)"
   ]
  },
  {
   "cell_type": "code",
   "execution_count": null,
   "metadata": {
    "collapsed": false,
    "pycharm": {
     "name": "#%% Example pathways increasing nodes proteins-proteoforms\n"
    }
   },
   "outputs": [],
   "source": [
    "df_pathways.sort_values(by=['Increase Nodes Proteins-Proteoforms'], ascending=False, inplace=True)\n",
    "examples = df_pathways.head(10)[\"Pathway\"].unique()\n",
    "print(examples)\n",
    "df_pathways[[\"Pathway\", \"Increase Nodes Proteins-Proteoforms\", \"Increase Interactions Proteins-Proteoforms\"]].head(20)"
   ]
  },
  {
   "cell_type": "code",
   "execution_count": null,
   "metadata": {
    "collapsed": false,
    "pycharm": {
     "name": "#%% Example pathways increasing interactions proteins-proteoforms\n"
    }
   },
   "outputs": [],
   "source": [
    "df_pathways.sort_values(by=['Increase Interactions Proteins-Proteoforms'], ascending=False, inplace=True)\n",
    "df_pathways[[\"Pathway\", \"Increase Nodes Proteins-Proteoforms\", \"Increase Interactions Proteins-Proteoforms\"]].head(12)"
   ]
  },
  {
   "cell_type": "code",
   "execution_count": null,
   "metadata": {
    "collapsed": false,
    "pycharm": {
     "name": "#%% Calculate degree for all types of entities in the Interactomes\n"
    }
   },
   "outputs": [],
   "source": [
    "combinations = get_combinations()\n",
    "columns = [\n",
    "    \"Small Molecules\",\n",
    "    \"Entity Level\",\n",
    "    \"Min. Degree Accessioned Entities\",\n",
    "    \"Avg. Degree Accessioned Entities\",\n",
    "    \"Max. Degree Accessioned Entities\",\n",
    "    \"Min. Degree Small Molecules\",\n",
    "    \"Avg. Degree Small Molecules\",\n",
    "    \"Max. Degree Small Molecules\"\n",
    "]\n",
    "\n",
    "def get_tuples(G):\n",
    "\n",
    "    acc_ents = list(G.nodes)\n",
    "    sm_ents = []\n",
    "    if G.graph['num_small_molecules'] > 0:\n",
    "        acc_ents = [n for n in G.nodes if not G.nodes[n]['type'].startswith(\"Simple\")]\n",
    "        sm_ents = [n for n in G.nodes if G.nodes[n]['type'].startswith(\"Simple\")]\n",
    "\n",
    "    deg_seq_acc_ents = [d for n, d in list(G.degree(acc_ents))]\n",
    "\n",
    "    min_deg_sm_ents = 0\n",
    "    avg_deg_sm_ents = 0\n",
    "    max_deg_sm_ents = 0\n",
    "    if len(sm_ents) > 0:\n",
    "        deg_seq_sm_ents = [d for n, d in list(G.degree(sm_ents))]\n",
    "        min_deg_sm_ents = min(deg_seq_sm_ents)\n",
    "        avg_deg_sm_ents = mean(deg_seq_sm_ents)\n",
    "        max_deg_sm_ents = max(deg_seq_sm_ents)\n",
    "\n",
    "    return (\n",
    "        G.graph[\"method\"], G.graph[\"level\"],\n",
    "        min(deg_seq_acc_ents), mean(deg_seq_acc_ents), max(deg_seq_acc_ents),\n",
    "        min_deg_sm_ents, avg_deg_sm_ents, max_deg_sm_ents\n",
    "    )"
   ]
  },
  {
   "cell_type": "code",
   "execution_count": null,
   "metadata": {
    "collapsed": false,
    "pycharm": {
     "name": "#%%\n"
    }
   },
   "outputs": [],
   "source": [
    "df_deg_interactomes = pd.DataFrame([get_tuples(I) for I in interactomes], columns=columns, index=index)\n",
    "df_deg_interactomes.drop([\"Small Molecules\",\"Entity Level\"], axis=1)"
   ]
  },
  {
   "cell_type": "code",
   "execution_count": null,
   "metadata": {
    "collapsed": false,
    "pycharm": {
     "name": "#%%\n"
    }
   },
   "outputs": [],
   "source": [
    "for method in config.SMALL_MOLECULES:\n",
    "    print(f\"Small Molecules: {method}\")\n",
    "    avg_genes = df_deg_interactomes.loc[method,'genes'][\"Avg. Degree Accessioned Entities\"]\n",
    "    avg_proteins = df_deg_interactomes.loc[method,'proteins'][\"Avg. Degree Accessioned Entities\"]\n",
    "    avg_proteoforms = df_deg_interactomes.loc[method,'proteoforms'][\"Avg. Degree Accessioned Entities\"]\n",
    "    inc_genes_proteins = get_increase_percentage(avg_genes, avg_proteins)\n",
    "    inc_proteins_proteoforms = get_increase_percentage(avg_proteins, avg_proteoforms)\n",
    "    print(f\"There is an increase of degree: {inc_genes_proteins}% from genes to proteins\")\n",
    "    print(f\"There is an increase of degree: {inc_proteins_proteoforms}% from proteins to proteoforms\")\n"
   ]
  },
  {
   "cell_type": "code",
   "execution_count": null,
   "metadata": {
    "collapsed": false,
    "pycharm": {
     "name": "#%% Calculate degree for all types of entities for all pathways\n"
    }
   },
   "outputs": [],
   "source": [
    "combinations = get_combinations_with_pathways(3)\n",
    "\n",
    "columns = [\n",
    "    \"Small Molecules\",\n",
    "    \"Entity Level\",\n",
    "    \"Pathway\",\n",
    "    \"Min. Degree Accessioned Entities\",\n",
    "    \"Avg. Degree Accessioned Entities\",\n",
    "    \"Max. Degree Accessioned Entities\",\n",
    "    \"Min. Degree Small Molecules\",\n",
    "    \"Avg. Degree Small Molecules\",\n",
    "    \"Max. Degree Small Molecules\"\n",
    "]\n",
    "\n",
    "out_path = \"resources/pathway_networks/\"\n",
    "\n",
    "def get_tuples(combination):\n",
    "    G = create_pathway_interaction_network(\n",
    "        method=combination[0], level=combination[1], pathway=combination[2], out_path=out_path\n",
    "    )\n",
    "\n",
    "    acc_ents = list(G.nodes)\n",
    "    sm_ents = []\n",
    "    if G.graph['num_small_molecules'] > 0:\n",
    "        acc_ents = [n for n in G.nodes if not G.nodes[n]['type'].startswith(\"Simple\")]\n",
    "        sm_ents = [n for n in G.nodes if G.nodes[n]['type'].startswith(\"Simple\")]\n",
    "\n",
    "    deg_seq_acc_ents = [d for n, d in list(G.degree(acc_ents))]\n",
    "    min_deg_sm_ents = 0\n",
    "    avg_deg_sm_ents = 0\n",
    "    max_deg_sm_ents = 0\n",
    "    if len(sm_ents) > 0:\n",
    "        deg_seq_sm_ents = [d for n, d in list(G.degree(sm_ents))]\n",
    "        min_deg_sm_ents = min(deg_seq_sm_ents)\n",
    "        avg_deg_sm_ents = mean(deg_seq_sm_ents)\n",
    "        max_deg_sm_ents = max(deg_seq_sm_ents)\n",
    "\n",
    "    return (\n",
    "        combination[0], combination[1], combination[2],\n",
    "        min(deg_seq_acc_ents), mean(deg_seq_acc_ents), max(deg_seq_acc_ents),\n",
    "        min_deg_sm_ents, avg_deg_sm_ents, max_deg_sm_ents\n",
    "    )"
   ]
  },
  {
   "cell_type": "code",
   "execution_count": null,
   "metadata": {
    "collapsed": false,
    "pycharm": {
     "name": "#%%\n"
    }
   },
   "outputs": [],
   "source": [
    "df_deg_pathways = pd.DataFrame([get_tuples(combination) for combination in combinations], columns=columns)\n",
    "df_deg_pathways"
   ]
  },
  {
   "cell_type": "code",
   "execution_count": null,
   "metadata": {
    "collapsed": false,
    "pycharm": {
     "name": "#%%\n"
    }
   },
   "outputs": [],
   "source": [
    "df_deg_pathways_agg = df_deg_pathways.groupby(['Small Molecules', 'Entity Level']).agg(\n",
    "    {\n",
    "        \"Min. Degree Accessioned Entities\": ['mean'],\n",
    "        \"Avg. Degree Accessioned Entities\": ['mean'],\n",
    "        \"Max. Degree Accessioned Entities\": ['mean'],\n",
    "        \"Min. Degree Small Molecules\": ['mean'],\n",
    "        \"Avg. Degree Small Molecules\": ['mean'],\n",
    "        \"Max. Degree Small Molecules\": ['mean']\n",
    "    })\n",
    "df_deg_pathways_agg.columns = [\n",
    "    \"Min. Degree Accessioned Entities\",\n",
    "    \"Avg. Degree Accessioned Entities\",\n",
    "    \"Max. Degree Accessioned Entities\",\n",
    "    \"Min. Degree Small Molecules\",\n",
    "    \"Avg. Degree Small Molecules\",\n",
    "    \"Max. Degree Small Molecules\"\n",
    "]\n",
    "df_pathways_grouped = df_deg_pathways_agg.set_index(get_multiindex())\n",
    "df_pathways_grouped"
   ]
  },
  {
   "cell_type": "code",
   "execution_count": null,
   "metadata": {
    "collapsed": false,
    "pycharm": {
     "name": "#%% Plot distribution of the Avg. Degree of accessioned entities in each pathway\n"
    }
   },
   "outputs": [],
   "source": [
    "import matplotlib.pyplot as plt\n",
    "\n",
    "sns.set(rc = {\"figure.facecolor\": \"white\"})\n",
    "\n",
    "fig, ax = plt.subplots(1, 1, figsize=(5, 6))\n",
    "fig.set_size_inches(10, 6)\n",
    "f = sns.violinplot(x=\"Small Molecules\", y=\"Avg. Degree Accessioned Entities\", hue=\"Entity Level\",\n",
    "                   data=df_deg_pathways, palette=config.COLORS_BORDER)\n",
    "#ax.yaxis.set_major_formatter(mticker.StrMethodFormatter(\"$10^{{{x:.0f}}}$\")) # Convert ticks to powers of 10\n",
    "f.legend(loc='center left', bbox_to_anchor=(1, 0.5))\n",
    "f.set_title(\"Distribution of Avg. Degree of Accessioned Entities in all Pathways\")"
   ]
  },
  {
   "cell_type": "code",
   "execution_count": null,
   "metadata": {
    "collapsed": false,
    "pycharm": {
     "name": "#%% Plot distribution of the Avg.Degree of small molecules in each pathway\n"
    }
   },
   "outputs": [],
   "source": [
    "import matplotlib.pyplot as plt\n",
    "\n",
    "fig, ax = plt.subplots(1, 1, figsize=(5, 6))\n",
    "fig.set_size_inches(10, 6)\n",
    "f = sns.violinplot(x=\"Small Molecules\", y=\"Avg. Degree Small Molecules\", hue=\"Entity Level\",\n",
    "                   data=df_deg_pathways, palette=config.COLORS_BORDER)\n",
    "#ax.yaxis.set_major_formatter(mticker.StrMethodFormatter(\"$10^{{{x:.0f}}}$\")) # Convert ticks to powers of 10\n",
    "f.legend(loc='center left', bbox_to_anchor=(1, 0.5))\n",
    "f.set_title(\"Distribution of Avg. Degree of Small Molecules in all Pathways\")"
   ]
  },
  {
   "cell_type": "code",
   "execution_count": null,
   "metadata": {
    "collapsed": false,
    "pycharm": {
     "name": "#%%\n"
    }
   },
   "outputs": [],
   "source": [
    "df_deg_pathways[\n",
    "    (df_deg_pathways[\"Small Molecules\"] == 'with_unique_sm') & (df_deg_pathways[\"Entity Level\"] == 'proteoforms')]"
   ]
  },
  {
   "cell_type": "code",
   "execution_count": null,
   "metadata": {
    "collapsed": false,
    "pycharm": {
     "name": "#%%\n"
    }
   },
   "outputs": [],
   "source": [
    "df_pathways_grouped.reset_index(inplace=True)\n",
    "df_pathways_grouped"
   ]
  },
  {
   "cell_type": "code",
   "execution_count": null,
   "metadata": {
    "collapsed": false,
    "pycharm": {
     "name": "#%%\n"
    }
   },
   "outputs": [],
   "source": [
    "df_interactomes_temp = df_deg_interactomes[[\"Avg. Degree Accessioned Entities\",\n",
    "    \"Avg. Degree Small Molecules\"]]\n",
    "df_interactomes_temp.reset_index(inplace=True)\n",
    "df_interactomes_temp"
   ]
  },
  {
   "cell_type": "code",
   "execution_count": null,
   "metadata": {
    "collapsed": false,
    "pycharm": {
     "name": "#%%\n"
    }
   },
   "outputs": [],
   "source": [
    "df_degrees = pd.concat([df_interactomes_temp, df_pathways_grouped[[\"Avg. Degree Accessioned Entities\",\n",
    "    \"Avg. Degree Small Molecules\"]]], axis=1)\n",
    "df_degrees.set_index(index, inplace=True)\n",
    "df_degrees.drop(df_degrees.columns[[0,1]],axis=1,inplace=True)\n",
    "df_degrees"
   ]
  },
  {
   "cell_type": "code",
   "execution_count": null,
   "metadata": {
    "collapsed": false,
    "pycharm": {
     "name": "#%%\n"
    }
   },
   "outputs": [],
   "source": []
  }
 ],
 "metadata": {
  "kernelspec": {
   "display_name": "Python 3",
   "language": "python",
   "name": "python3"
  },
  "language_info": {
   "codemirror_mode": {
    "name": "ipython",
    "version": 3
   },
   "file_extension": ".py",
   "mimetype": "text/x-python",
   "name": "python",
   "nbconvert_exporter": "python",
   "pygments_lexer": "ipython3",
   "version": "3.10.2"
  }
 },
 "nbformat": 4,
 "nbformat_minor": 0
}
