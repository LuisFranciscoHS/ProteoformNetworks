{
 "cells": [
  {
   "cell_type": "markdown",
   "source": [
    "# Disease module analysis"
   ],
   "metadata": {
    "collapsed": false,
    "pycharm": {
     "name": "#%% md\n"
    }
   }
  },
  {
   "cell_type": "code",
   "execution_count": 1,
   "outputs": [
    {
     "name": "stdout",
     "output_type": "stream",
     "text": [
      "Initial working directory: C:\\git\\ProteoformNetworks\\src\\Python\n",
      "New working directory: C:\\git\\ProteoformNetworks\n"
     ]
    }
   ],
   "source": [
    "import matplotlib.pyplot as plt\n",
    "import pandas as pd\n",
    "import seaborn as sns\n",
    "from bokeh.io import curdoc\n",
    "from bokeh.layouts import layout\n",
    "from bokeh.models import DataTable, ColumnDataSource, TableColumn, Div\n",
    "\n",
    "import config\n",
    "from Python.analysis_diseases.filter_genes import create_filtered_file\n",
    "from Python.lib import networks\n",
    "from Python.lib.dictionaries import read_dictionary_one_to_set, merge_dictionaries\n",
    "from Python.lib.download import download_if_not_exists\n",
    "\n",
    "%load_ext autoreload\n",
    "%autoreload 2\n",
    "%reload_ext autoreload\n",
    "\n",
    "config.set_root_wd()"
   ],
   "metadata": {
    "collapsed": false,
    "pycharm": {
     "name": "#%%\n"
    }
   }
  },
  {
   "cell_type": "markdown",
   "source": [
    "### Download disease related gene sets"
   ],
   "metadata": {
    "collapsed": false,
    "pycharm": {
     "name": "#%% md\n"
    }
   }
  },
  {
   "cell_type": "code",
   "execution_count": null,
   "outputs": [],
   "source": [
    "# PheGenI Phenotypes\n",
    "download_if_not_exists(\"resources/PheGenI/\",\n",
    "                       \"PheGenI_Association.txt\",\n",
    "                       \"https://www.ncbi.nlm.nih.gov/projects/gap/eqtl/EpiViewBE.cgi?type=dl.tab\",\n",
    "                       \"PheGenI All_modules\")\n",
    "print(\"PheGenI files READY\")\n",
    "\n",
    "# Filter\n",
    "create_filtered_file(\"resources/PheGenI/PheGenI_Association.txt\",\n",
    "                     \"resources/PheGenI/PheGenI_Association_genome_wide_significant.txt\",\n",
    "                     5e-8)\n",
    "\n",
    "# Jensen Lab Diseases\n",
    "download_if_not_exists(\"resources/Jensen/\",\n",
    "                       \"human_disease_textmining_filtered.tsv\",\n",
    "                       \"http://download.jensenlab.org/human_disease_textmining_filtered.tsv\",\n",
    "                       \"Jensen Lab Diseases\")\n",
    "print(\"Jensen Lab files READY\")"
   ],
   "metadata": {
    "collapsed": false,
    "pycharm": {
     "name": "#%%\n"
    }
   }
  },
  {
   "cell_type": "markdown",
   "source": [
    "### Read gene sets"
   ],
   "metadata": {
    "collapsed": false,
    "pycharm": {
     "name": "#%% md\n"
    }
   }
  },
  {
   "cell_type": "code",
   "execution_count": null,
   "outputs": [],
   "source": [
    "file_phegeni = \"resources/PheGenI/PheGenI_Association_genome_wide_significant.txt\"\n",
    "df_diseases = pd.read_csv(file_phegeni, sep=\"\\t\")\n",
    "df_diseases"
   ],
   "metadata": {
    "collapsed": false,
    "pycharm": {
     "name": "#%%\n"
    }
   }
  },
  {
   "cell_type": "code",
   "execution_count": null,
   "outputs": [],
   "source": [
    "map_disease_to_genes1 = read_dictionary_one_to_set(\"resources/PheGenI/\", \"PheGenI_Association_genome_wide_significant.txt\", col_indices=(1, 4), ignore_header=True)\n",
    "map_disease_to_genes2 = read_dictionary_one_to_set(\"resources/PheGenI/\", \"PheGenI_Association_genome_wide_significant.txt\", col_indices=(1, 6), ignore_header=True)\n",
    "df_diseases.columns\n",
    "map_disease_to_genes = merge_dictionaries(map_disease_to_genes1, map_disease_to_genes2)\n",
    "#map_disease_to_genes\n",
    "print(f\"Got map of {len(map_disease_to_genes.keys())} diseases to genes\")"
   ],
   "metadata": {
    "collapsed": false,
    "pycharm": {
     "name": "#%%\n"
    }
   }
  },
  {
   "cell_type": "code",
   "execution_count": null,
   "outputs": [],
   "source": [
    "df_disease_to_genes = pd.DataFrame(data=[(d, len(g)) for d, g in map_disease_to_genes.items()], columns=[\"Disease\", \"Num\"])\n",
    "df_disease_to_genes['Entity'] = config.genes\n",
    "df_disease_to_genes.sort_values([\"Num\"], ascending=False, inplace=True)\n",
    "df_disease_to_genes"
   ],
   "metadata": {
    "collapsed": false,
    "pycharm": {
     "name": "#%%\n"
    }
   }
  },
  {
   "cell_type": "code",
   "execution_count": null,
   "outputs": [],
   "source": [
    "sns.violinplot(x=\"Entity\", y=\"Num\", data=df_disease_to_genes, color=\"0.8\")\n",
    "sns.stripplot(x=\"Entity\", y=\"Num\", data=df_disease_to_genes, jitter=True, zorder=1)\n",
    "plt.show()"
   ],
   "metadata": {
    "collapsed": false,
    "pycharm": {
     "name": "#%%\n"
    }
   }
  },
  {
   "cell_type": "code",
   "execution_count": null,
   "outputs": [],
   "source": [
    "df_disease_to_genes = df_disease_to_genes[df_disease_to_genes['Num']<=100]\n",
    "df_disease_to_genes"
   ],
   "metadata": {
    "collapsed": false,
    "pycharm": {
     "name": "#%%\n"
    }
   }
  },
  {
   "cell_type": "code",
   "execution_count": null,
   "outputs": [],
   "source": [
    "map_genes_to_proteins = read_dictionary_one_to_set(config.GRAPHS_PATH, \"mapping_proteins_to_genes.tsv\", col_indices=(1, 0))\n",
    "df_genes_to_proteins = pd.DataFrame(data=[(g,len(ps)) for g, ps in map_genes_to_proteins.items()], columns=[\"Genes\", \"NumProteins\"])\n",
    "df_genes_to_proteins.sort_values([\"NumProteins\"], ascending=False, inplace=True)\n",
    "df_genes_to_proteins"
   ],
   "metadata": {
    "collapsed": false,
    "pycharm": {
     "name": "#%%\n"
    }
   }
  },
  {
   "cell_type": "code",
   "execution_count": null,
   "outputs": [],
   "source": [
    "genes_arr=[\"Genes\"]*len(df_genes_to_proteins)\n",
    "sns.violinplot(x=df_genes_to_proteins[\"NumProteins\"], color=\"0.8\")\n",
    "sns.stripplot(x=df_genes_to_proteins[\"NumProteins\"], jitter=True, zorder=1)\n",
    "plt.show()"
   ],
   "metadata": {
    "collapsed": false,
    "pycharm": {
     "name": "#%%\n"
    }
   }
  },
  {
   "cell_type": "code",
   "execution_count": null,
   "outputs": [],
   "source": [
    "filter_genes = df_genes_to_proteins[df_genes_to_proteins[\"NumProteins\"] > 5]\n",
    "filter_genes = set(filter_genes['Genes'])\n",
    "filter_diseases = set()\n",
    "for d, gs in map_disease_to_genes.items():\n",
    "    if bool(gs & filter_genes):\n",
    "        filter_diseases.add(d)\n",
    "print(f\"Diseases to delete: \\n\\n {filter_diseases}\")\n",
    "df_sel_diseases = df_disease_to_genes[~df_disease_to_genes['Disease'].isin(filter_diseases)]\n",
    "df_sel_diseases\n"
   ],
   "metadata": {
    "collapsed": false,
    "pycharm": {
     "name": "#%%\n"
    }
   }
  },
  {
   "cell_type": "code",
   "execution_count": null,
   "outputs": [],
   "source": [
    "map_disease_to_proteins = {disease: set() for disease in df_sel_diseases[\"Disease\"]}\n",
    "for disease in df_sel_diseases[\"Disease\"]:\n",
    "    for g in map_disease_to_genes[disease]:\n",
    "        if g in map_genes_to_proteins:\n",
    "            for protein in map_genes_to_proteins[g]:\n",
    "                map_disease_to_proteins[disease].add(protein)\n",
    "#map_disease_to_proteins"
   ],
   "metadata": {
    "collapsed": false,
    "pycharm": {
     "name": "#%%\n"
    }
   }
  },
  {
   "cell_type": "code",
   "execution_count": null,
   "outputs": [],
   "source": [
    "map_disease_to_numproteins = {d: len(g) for d, g in map_disease_to_proteins.items()}\n",
    "df_disease_to_proteins = pd.DataFrame(data=map_disease_to_numproteins.items(), columns=[\"Disease\", \"Num\"])\n",
    "df_disease_to_proteins['Entity'] = config.proteins\n",
    "df_disease_to_proteins.sort_values([\"Num\"], ascending=False, inplace=True)\n",
    "df_disease_to_proteins"
   ],
   "metadata": {
    "collapsed": false,
    "pycharm": {
     "name": "#%%\n"
    }
   }
  },
  {
   "cell_type": "code",
   "execution_count": null,
   "outputs": [],
   "source": [
    "df_disease_to_entitites = pd.concat([df_disease_to_genes, df_disease_to_proteins])\n",
    "df_disease_to_entitites.sort_values(by=[\"Disease\"], inplace=True)\n",
    "df_disease_to_entitites"
   ],
   "metadata": {
    "collapsed": false,
    "pycharm": {
     "name": "#%%\n"
    }
   }
  },
  {
   "cell_type": "code",
   "execution_count": null,
   "outputs": [],
   "source": [
    "sns.violinplot(x=\"Entity\", y=\"Num\", data=df_disease_to_entitites, color=\"0.8\")\n",
    "sns.stripplot(x=\"Entity\", y=\"Num\", data=df_disease_to_entitites, jitter=True, zorder=1)\n",
    "plt.show()"
   ],
   "metadata": {
    "collapsed": false,
    "pycharm": {
     "name": "#%%\n"
    }
   }
  },
  {
   "cell_type": "code",
   "execution_count": null,
   "outputs": [],
   "source": [
    "map_protein_to_diseases = {}\n",
    "for d, ps in map_disease_to_proteins.items():\n",
    "    for p in ps:\n",
    "        if not p in map_protein_to_diseases.keys():\n",
    "            map_protein_to_diseases[p] = set()\n",
    "        map_protein_to_diseases[p].add(d)\n",
    "#map_protein_to_diseases"
   ],
   "metadata": {
    "collapsed": false,
    "pycharm": {
     "name": "#%%\n"
    }
   }
  },
  {
   "cell_type": "code",
   "execution_count": null,
   "outputs": [],
   "source": [
    "map_protein_to_numdiseases = {p: len(ds) for p, ds in map_protein_to_diseases.items()}\n",
    "df_p_nd = pd.DataFrame(data=map_protein_to_numdiseases.items(), columns=[\"Protein\", \"NumDiseases\"])\n",
    "df_p_nd.sort_values([\"NumDiseases\"], ascending=False, inplace=True)\n",
    "df_p_nd"
   ],
   "metadata": {
    "collapsed": false,
    "pycharm": {
     "name": "#%%\n"
    }
   }
  },
  {
   "cell_type": "code",
   "execution_count": null,
   "outputs": [],
   "source": [
    "sns.violinplot(data=df_p_nd, color=\"0.8\")\n",
    "sns.stripplot(data=df_p_nd, jitter=True, zorder=1)\n",
    "plt.show()"
   ],
   "metadata": {
    "collapsed": false,
    "pycharm": {
     "name": "#%%\n"
    }
   }
  },
  {
   "cell_type": "code",
   "execution_count": null,
   "outputs": [],
   "source": [
    "filter_proteins = df_p_nd[df_p_nd['NumDiseases'] > 10]\n",
    "filter_proteins = set(filter_proteins[\"Protein\"])\n",
    "filter_proteins\n",
    "filter_diseases = set()\n",
    "for d, ps in map_disease_to_proteins.items():\n",
    "    if bool(ps & filter_proteins):\n",
    "        filter_diseases.add(d)\n",
    "print(f\"Diseases to delete: \\n\\n {filter_diseases}\")\n",
    "df_sel_diseases = df_disease_to_genes[~df_disease_to_genes['Disease'].isin(filter_diseases)]\n",
    "df_sel_diseases\n"
   ],
   "metadata": {
    "collapsed": false,
    "pycharm": {
     "name": "#%%\n"
    }
   }
  },
  {
   "cell_type": "code",
   "execution_count": null,
   "outputs": [],
   "source": [
    "selected_diseases = set()\n",
    "for disease, proteins in map_disease_to_proteins.items():\n",
    "    if proteins & selected_proteins:\n",
    "        selected_diseases.add(disease)\n",
    "# selected_diseases\n",
    "for i, val in enumerate(itertools.islice(selected_diseases, 10)):\n",
    "    print(val)\n",
    "len(selected_diseases)"
   ],
   "metadata": {
    "collapsed": false,
    "pycharm": {
     "name": "#%%\n"
    }
   }
  },
  {
   "cell_type": "code",
   "execution_count": null,
   "outputs": [],
   "source": [
    "participant_records = { l: get_participants(l, GRAPHS_PATH) for l in [*LEVELS, sm]}\n",
    "components_records = { l: get_components(l, GRAPHS_PATH) for l in [*LEVELS, sm]}"
   ],
   "metadata": {
    "collapsed": false,
    "pycharm": {
     "name": "#%%\n"
    }
   }
  },
  {
   "cell_type": "code",
   "execution_count": null,
   "outputs": [],
   "source": [
    "interactomes_with_sm = { l: get_or_create_interaction_network(l, with_sm, participant_records, components_records, GRAPHS_PATH) for l in LEVELS}\n",
    "for level, interactome in interactomes_with_sm.items():\n",
    "     print_interactome_details(interactome)"
   ],
   "metadata": {
    "collapsed": false,
    "pycharm": {
     "name": "#%%\n"
    }
   }
  },
  {
   "cell_type": "code",
   "execution_count": null,
   "outputs": [],
   "source": [
    "# Create disease module at genes level\n",
    "# -- We know what genes belong\n",
    "# -- Create a subraph induced by the gene nodes and the neighboring small molecules\n",
    "\n",
    "for trait in list(selected_diseases)[:1]:\n",
    "    node_set = get_nodes_and_adjacent(map_disease_to_genes[trait], interactomes_with_sm[genes])\n",
    "    S = interactomes_with_sm[genes].subgraph(node_set)\n",
    "    p = plot_interaction_network(S, coloring=Coloring.ENTITY_TYPE, plot_width=600, plot_height=500, toolbar_location=None, title=\"Test title\", legend_location=\"right\")\n",
    "    plt.show(p)\n",
    "# Create disease module at proteins level\n",
    "\n",
    "# Create disease module at proteoforms level"
   ],
   "metadata": {
    "collapsed": false,
    "pycharm": {
     "name": "#%%\n"
    }
   }
  },
  {
   "cell_type": "code",
   "execution_count": null,
   "outputs": [],
   "source": [
    "# TODO: Call C++ program to calculate overlap"
   ],
   "metadata": {
    "collapsed": false,
    "pycharm": {
     "name": "#%%\n"
    }
   }
  },
  {
   "cell_type": "code",
   "execution_count": null,
   "outputs": [],
   "source": [
    "# TODO: Plot relative size of lcc for each disease module"
   ],
   "metadata": {
    "collapsed": false,
    "pycharm": {
     "name": "#%%\n"
    }
   }
  },
  {
   "cell_type": "code",
   "execution_count": null,
   "outputs": [],
   "source": [
    "# TODO: Plot Number of genes (x) VS Observed module size (y)\n",
    "# The observed module size is the number of vertices in the lcc of the disease module"
   ],
   "metadata": {
    "collapsed": false,
    "pycharm": {
     "name": "#%%\n"
    }
   }
  },
  {
   "cell_type": "markdown",
   "source": [
    "### Read overlap data"
   ],
   "metadata": {
    "collapsed": false,
    "pycharm": {
     "name": "#%% md\n"
    }
   }
  },
  {
   "cell_type": "code",
   "execution_count": 3,
   "metadata": {
    "pycharm": {
     "is_executing": false,
     "name": "#%%\n"
    }
   },
   "outputs": [
    {
     "ename": "FileNotFoundError",
     "evalue": "[Errno 2] File ../../reports/overlap_similarity_score_variation_examples.tsv does not exist: '../../reports/overlap_similarity_score_variation_examples.tsv'",
     "output_type": "error",
     "traceback": [
      "\u001B[1;31m---------------------------------------------------------------------------\u001B[0m",
      "\u001B[1;31mFileNotFoundError\u001B[0m                         Traceback (most recent call last)",
      "\u001B[1;32m<ipython-input-3-38ed5a73897e>\u001B[0m in \u001B[0;36m<module>\u001B[1;34m\u001B[0m\n\u001B[1;32m----> 1\u001B[1;33m \u001B[0moverlap_data\u001B[0m \u001B[1;33m=\u001B[0m \u001B[0mpd\u001B[0m\u001B[1;33m.\u001B[0m\u001B[0mread_table\u001B[0m\u001B[1;33m(\u001B[0m\u001B[1;34m\"../../reports/overlap_similarity_score_variation_examples.tsv\"\u001B[0m\u001B[1;33m)\u001B[0m\u001B[1;33m\u001B[0m\u001B[1;33m\u001B[0m\u001B[0m\n\u001B[0m\u001B[0;32m      2\u001B[0m \u001B[0moverlap_data\u001B[0m\u001B[1;33m.\u001B[0m\u001B[0mhead\u001B[0m\u001B[1;33m(\u001B[0m\u001B[1;33m)\u001B[0m\u001B[1;33m\u001B[0m\u001B[1;33m\u001B[0m\u001B[0m\n\u001B[0;32m      3\u001B[0m \u001B[1;33m\u001B[0m\u001B[0m\n",
      "\u001B[1;32mc:\\git\\pathwayanalysisplatform\\proteoformnetworks\\venv\\lib\\site-packages\\pandas\\io\\parsers.py\u001B[0m in \u001B[0;36mparser_f\u001B[1;34m(filepath_or_buffer, sep, delimiter, header, names, index_col, usecols, squeeze, prefix, mangle_dupe_cols, dtype, engine, converters, true_values, false_values, skipinitialspace, skiprows, skipfooter, nrows, na_values, keep_default_na, na_filter, verbose, skip_blank_lines, parse_dates, infer_datetime_format, keep_date_col, date_parser, dayfirst, cache_dates, iterator, chunksize, compression, thousands, decimal, lineterminator, quotechar, quoting, doublequote, escapechar, comment, encoding, dialect, error_bad_lines, warn_bad_lines, delim_whitespace, low_memory, memory_map, float_precision)\u001B[0m\n\u001B[0;32m    674\u001B[0m         )\n\u001B[0;32m    675\u001B[0m \u001B[1;33m\u001B[0m\u001B[0m\n\u001B[1;32m--> 676\u001B[1;33m         \u001B[1;32mreturn\u001B[0m \u001B[0m_read\u001B[0m\u001B[1;33m(\u001B[0m\u001B[0mfilepath_or_buffer\u001B[0m\u001B[1;33m,\u001B[0m \u001B[0mkwds\u001B[0m\u001B[1;33m)\u001B[0m\u001B[1;33m\u001B[0m\u001B[1;33m\u001B[0m\u001B[0m\n\u001B[0m\u001B[0;32m    677\u001B[0m \u001B[1;33m\u001B[0m\u001B[0m\n\u001B[0;32m    678\u001B[0m     \u001B[0mparser_f\u001B[0m\u001B[1;33m.\u001B[0m\u001B[0m__name__\u001B[0m \u001B[1;33m=\u001B[0m \u001B[0mname\u001B[0m\u001B[1;33m\u001B[0m\u001B[1;33m\u001B[0m\u001B[0m\n",
      "\u001B[1;32mc:\\git\\pathwayanalysisplatform\\proteoformnetworks\\venv\\lib\\site-packages\\pandas\\io\\parsers.py\u001B[0m in \u001B[0;36m_read\u001B[1;34m(filepath_or_buffer, kwds)\u001B[0m\n\u001B[0;32m    446\u001B[0m \u001B[1;33m\u001B[0m\u001B[0m\n\u001B[0;32m    447\u001B[0m     \u001B[1;31m# Create the parser.\u001B[0m\u001B[1;33m\u001B[0m\u001B[1;33m\u001B[0m\u001B[1;33m\u001B[0m\u001B[0m\n\u001B[1;32m--> 448\u001B[1;33m     \u001B[0mparser\u001B[0m \u001B[1;33m=\u001B[0m \u001B[0mTextFileReader\u001B[0m\u001B[1;33m(\u001B[0m\u001B[0mfp_or_buf\u001B[0m\u001B[1;33m,\u001B[0m \u001B[1;33m**\u001B[0m\u001B[0mkwds\u001B[0m\u001B[1;33m)\u001B[0m\u001B[1;33m\u001B[0m\u001B[1;33m\u001B[0m\u001B[0m\n\u001B[0m\u001B[0;32m    449\u001B[0m \u001B[1;33m\u001B[0m\u001B[0m\n\u001B[0;32m    450\u001B[0m     \u001B[1;32mif\u001B[0m \u001B[0mchunksize\u001B[0m \u001B[1;32mor\u001B[0m \u001B[0miterator\u001B[0m\u001B[1;33m:\u001B[0m\u001B[1;33m\u001B[0m\u001B[1;33m\u001B[0m\u001B[0m\n",
      "\u001B[1;32mc:\\git\\pathwayanalysisplatform\\proteoformnetworks\\venv\\lib\\site-packages\\pandas\\io\\parsers.py\u001B[0m in \u001B[0;36m__init__\u001B[1;34m(self, f, engine, **kwds)\u001B[0m\n\u001B[0;32m    878\u001B[0m             \u001B[0mself\u001B[0m\u001B[1;33m.\u001B[0m\u001B[0moptions\u001B[0m\u001B[1;33m[\u001B[0m\u001B[1;34m\"has_index_names\"\u001B[0m\u001B[1;33m]\u001B[0m \u001B[1;33m=\u001B[0m \u001B[0mkwds\u001B[0m\u001B[1;33m[\u001B[0m\u001B[1;34m\"has_index_names\"\u001B[0m\u001B[1;33m]\u001B[0m\u001B[1;33m\u001B[0m\u001B[1;33m\u001B[0m\u001B[0m\n\u001B[0;32m    879\u001B[0m \u001B[1;33m\u001B[0m\u001B[0m\n\u001B[1;32m--> 880\u001B[1;33m         \u001B[0mself\u001B[0m\u001B[1;33m.\u001B[0m\u001B[0m_make_engine\u001B[0m\u001B[1;33m(\u001B[0m\u001B[0mself\u001B[0m\u001B[1;33m.\u001B[0m\u001B[0mengine\u001B[0m\u001B[1;33m)\u001B[0m\u001B[1;33m\u001B[0m\u001B[1;33m\u001B[0m\u001B[0m\n\u001B[0m\u001B[0;32m    881\u001B[0m \u001B[1;33m\u001B[0m\u001B[0m\n\u001B[0;32m    882\u001B[0m     \u001B[1;32mdef\u001B[0m \u001B[0mclose\u001B[0m\u001B[1;33m(\u001B[0m\u001B[0mself\u001B[0m\u001B[1;33m)\u001B[0m\u001B[1;33m:\u001B[0m\u001B[1;33m\u001B[0m\u001B[1;33m\u001B[0m\u001B[0m\n",
      "\u001B[1;32mc:\\git\\pathwayanalysisplatform\\proteoformnetworks\\venv\\lib\\site-packages\\pandas\\io\\parsers.py\u001B[0m in \u001B[0;36m_make_engine\u001B[1;34m(self, engine)\u001B[0m\n\u001B[0;32m   1112\u001B[0m     \u001B[1;32mdef\u001B[0m \u001B[0m_make_engine\u001B[0m\u001B[1;33m(\u001B[0m\u001B[0mself\u001B[0m\u001B[1;33m,\u001B[0m \u001B[0mengine\u001B[0m\u001B[1;33m=\u001B[0m\u001B[1;34m\"c\"\u001B[0m\u001B[1;33m)\u001B[0m\u001B[1;33m:\u001B[0m\u001B[1;33m\u001B[0m\u001B[1;33m\u001B[0m\u001B[0m\n\u001B[0;32m   1113\u001B[0m         \u001B[1;32mif\u001B[0m \u001B[0mengine\u001B[0m \u001B[1;33m==\u001B[0m \u001B[1;34m\"c\"\u001B[0m\u001B[1;33m:\u001B[0m\u001B[1;33m\u001B[0m\u001B[1;33m\u001B[0m\u001B[0m\n\u001B[1;32m-> 1114\u001B[1;33m             \u001B[0mself\u001B[0m\u001B[1;33m.\u001B[0m\u001B[0m_engine\u001B[0m \u001B[1;33m=\u001B[0m \u001B[0mCParserWrapper\u001B[0m\u001B[1;33m(\u001B[0m\u001B[0mself\u001B[0m\u001B[1;33m.\u001B[0m\u001B[0mf\u001B[0m\u001B[1;33m,\u001B[0m \u001B[1;33m**\u001B[0m\u001B[0mself\u001B[0m\u001B[1;33m.\u001B[0m\u001B[0moptions\u001B[0m\u001B[1;33m)\u001B[0m\u001B[1;33m\u001B[0m\u001B[1;33m\u001B[0m\u001B[0m\n\u001B[0m\u001B[0;32m   1115\u001B[0m         \u001B[1;32melse\u001B[0m\u001B[1;33m:\u001B[0m\u001B[1;33m\u001B[0m\u001B[1;33m\u001B[0m\u001B[0m\n\u001B[0;32m   1116\u001B[0m             \u001B[1;32mif\u001B[0m \u001B[0mengine\u001B[0m \u001B[1;33m==\u001B[0m \u001B[1;34m\"python\"\u001B[0m\u001B[1;33m:\u001B[0m\u001B[1;33m\u001B[0m\u001B[1;33m\u001B[0m\u001B[0m\n",
      "\u001B[1;32mc:\\git\\pathwayanalysisplatform\\proteoformnetworks\\venv\\lib\\site-packages\\pandas\\io\\parsers.py\u001B[0m in \u001B[0;36m__init__\u001B[1;34m(self, src, **kwds)\u001B[0m\n\u001B[0;32m   1889\u001B[0m         \u001B[0mkwds\u001B[0m\u001B[1;33m[\u001B[0m\u001B[1;34m\"usecols\"\u001B[0m\u001B[1;33m]\u001B[0m \u001B[1;33m=\u001B[0m \u001B[0mself\u001B[0m\u001B[1;33m.\u001B[0m\u001B[0musecols\u001B[0m\u001B[1;33m\u001B[0m\u001B[1;33m\u001B[0m\u001B[0m\n\u001B[0;32m   1890\u001B[0m \u001B[1;33m\u001B[0m\u001B[0m\n\u001B[1;32m-> 1891\u001B[1;33m         \u001B[0mself\u001B[0m\u001B[1;33m.\u001B[0m\u001B[0m_reader\u001B[0m \u001B[1;33m=\u001B[0m \u001B[0mparsers\u001B[0m\u001B[1;33m.\u001B[0m\u001B[0mTextReader\u001B[0m\u001B[1;33m(\u001B[0m\u001B[0msrc\u001B[0m\u001B[1;33m,\u001B[0m \u001B[1;33m**\u001B[0m\u001B[0mkwds\u001B[0m\u001B[1;33m)\u001B[0m\u001B[1;33m\u001B[0m\u001B[1;33m\u001B[0m\u001B[0m\n\u001B[0m\u001B[0;32m   1892\u001B[0m         \u001B[0mself\u001B[0m\u001B[1;33m.\u001B[0m\u001B[0munnamed_cols\u001B[0m \u001B[1;33m=\u001B[0m \u001B[0mself\u001B[0m\u001B[1;33m.\u001B[0m\u001B[0m_reader\u001B[0m\u001B[1;33m.\u001B[0m\u001B[0munnamed_cols\u001B[0m\u001B[1;33m\u001B[0m\u001B[1;33m\u001B[0m\u001B[0m\n\u001B[0;32m   1893\u001B[0m \u001B[1;33m\u001B[0m\u001B[0m\n",
      "\u001B[1;32mpandas\\_libs\\parsers.pyx\u001B[0m in \u001B[0;36mpandas._libs.parsers.TextReader.__cinit__\u001B[1;34m()\u001B[0m\n",
      "\u001B[1;32mpandas\\_libs\\parsers.pyx\u001B[0m in \u001B[0;36mpandas._libs.parsers.TextReader._setup_parser_source\u001B[1;34m()\u001B[0m\n",
      "\u001B[1;31mFileNotFoundError\u001B[0m: [Errno 2] File ../../reports/overlap_similarity_score_variation_examples.tsv does not exist: '../../reports/overlap_similarity_score_variation_examples.tsv'"
     ]
    }
   ],
   "source": [
    "overlap_data = pd.read_table(\"../../reports/overlap_similarity_score_variation_examples.tsv\")\n",
    "overlap_data.head()\n",
    "\n",
    "data = dict(\n",
    "    trait1 = overlap_data[\"TRAIT1\"],\n",
    "    trait2 = overlap_data[\"TRAIT2\"],\n",
    "    score = overlap_data[\"PROTEINS_TO_PROTEOFORMS\"]\n",
    ")\n",
    "source = ColumnDataSource(data)\n",
    "\n",
    "columns = [\n",
    "        TableColumn(field=\"trait1\", title=\"Trait1\"),\n",
    "        TableColumn(field=\"trait2\", title=\"Trait2\"),\n",
    "        TableColumn(field=\"score\", title=\"Score\"),\n",
    "    ]\n",
    "data_table = DataTable(source=source, columns=columns, width=600, height=280)\n",
    "plt.show(data_table)"
   ]
  },
  {
   "cell_type": "code",
   "execution_count": null,
   "metadata": {
    "collapsed": false,
    "pycharm": {
     "is_executing": false,
     "name": "#%%\n"
    }
   },
   "outputs": [],
   "source": [
    "def callback(attrname, old, new):\n",
    "    print(\"Attribute changed: \", attrname)\n",
    "    print(\"Old: \", old)\n",
    "    print(\"New: \", new)\n",
    "    selectionIndex=source.selected.indices[0]\n",
    "    print(\"you have selected the row numr \"+ str(selectionIndex) + \" which is \" \n",
    "          + source[\"trait1\"][selectionIndex] + \" -- \" + source[\"trait2\"][selectionIndex])\n",
    "\n",
    "source.selected.on_change(\"indices\", callback);"
   ]
  },
  {
   "cell_type": "code",
   "execution_count": null,
   "metadata": {
    "pycharm": {
     "is_executing": false,
     "name": "#%%\n"
    }
   },
   "outputs": [],
   "source": [
    "trait1 = \"Adiponectin\"\n",
    "trait2 = \"Thyrotropin\"\n",
    "path_to_modules = \"../../reports/All_modules/\"\n",
    "path_to_figures = \"../../figures/overlap_analysis/\""
   ]
  },
  {
   "cell_type": "code",
   "execution_count": null,
   "metadata": {
    "pycharm": {
     "is_executing": false,
     "name": "#%%\n"
    }
   },
   "outputs": [],
   "source": [
    "title = f\"<p style=\\\"font-weight:bold;text-align:center;font-size:22px;width:1800px;\\\">\" \\\n",
    "            f\"<span style=\\\"color:green;\\\">{trait1}</span> with \" \\\n",
    "            f\"<span style=\\\"color:blue;\\\">{trait2}</span>\" \\\n",
    "            f\"</p>\"\n",
    "\n",
    "graphs_complete = {level: networks.create_graph(trait1, trait2, level, path_to_modules) for level in config.LEVELS}\n",
    "graphs_interface = {level: networks.create_graph(trait1, trait2, level, path_to_modules, only_interface=True) for level in config.LEVELS}\n",
    " \n",
    "figures_complete_modules = [networks.create_plot(level, graph) for level, graph in graphs_complete.items()]\n",
    "figures_interfaces = [networks.create_plot(level, graph) for level, graph in graphs_interface.items()]\n",
    "\n",
    "l = layout(\n",
    "    [[data_table], \n",
    "     [Div(text=f\"{title}\")], \n",
    "     figures_complete_modules, \n",
    "     figures_interfaces,\n",
    "])\n",
    "\n",
    "plt.show(l)\n",
    "curdoc().add_root(l)\n",
    "curdoc().title = \"Module pairs visualization\"\n"
   ]
  },
  {
   "cell_type": "code",
   "execution_count": 2,
   "metadata": {
    "pycharm": {
     "name": "#%%\n"
    }
   },
   "outputs": [],
   "source": [
    "# TODO: Make scatter plot where each dot is a disease."
   ]
  }
 ],
 "metadata": {
  "kernelspec": {
   "display_name": "Python 3",
   "language": "python",
   "name": "python3"
  },
  "language_info": {
   "codemirror_mode": {
    "name": "ipython",
    "version": 3
   },
   "file_extension": ".py",
   "mimetype": "text/x-python",
   "name": "python",
   "nbconvert_exporter": "python",
   "pygments_lexer": "ipython3",
   "version": "3.7.4"
  },
  "pycharm": {
   "stem_cell": {
    "cell_type": "raw",
    "metadata": {
     "collapsed": false
    },
    "source": []
   }
  }
 },
 "nbformat": 4,
 "nbformat_minor": 1
}