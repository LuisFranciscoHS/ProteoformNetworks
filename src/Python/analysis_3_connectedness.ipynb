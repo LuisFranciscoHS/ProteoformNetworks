{
 "cells": [
  {
   "cell_type": "markdown",
   "source": [
    "## Connected components\n",
    "\n",
    "For all interactomes:\n",
    "* Number of connected components\n",
    "* Size of the largest connected component\n",
    "* Relative size of the largest connected component\n",
    "* Average size of the connected components\n",
    "* Size of the smallest component\n",
    "* Number of isolated nodes\n",
    "\n",
    "For all pathways:\n",
    "- Sizes of connected components for all pathways"
   ],
   "metadata": {
    "collapsed": false
   }
  },
  {
   "cell_type": "code",
   "execution_count": 1,
   "outputs": [
    {
     "name": "stdout",
     "output_type": "stream",
     "text": [
      "Working directory: c:\\git\\pathwayanalysisplatform\\proteoformnetworks\n"
     ]
    }
   ],
   "source": [
    "import bisect\n",
    "\n",
    "import networkx as nx\n",
    "import pandas as pd\n",
    "import seaborn as sns\n",
    "\n",
    "import config\n",
    "from config import GRAPHS_PATH\n",
    "from lib.networks import get_interactomes\n",
    "\n",
    "%load_ext autoreload\n",
    "%autoreload 2\n",
    "%reload_ext autoreload\n",
    "\n",
    "config.set_root_wd()\n"
   ],
   "metadata": {
    "collapsed": false,
    "pycharm": {
     "name": "#%%\n"
    }
   }
  },
  {
   "cell_type": "code",
   "execution_count": 2,
   "outputs": [],
   "source": [
    "interactomes = get_interactomes(GRAPHS_PATH)"
   ],
   "metadata": {
    "collapsed": false,
    "pycharm": {
     "name": "#%% Get all interactomes\n"
    }
   }
  },
  {
   "cell_type": "code",
   "execution_count": 3,
   "outputs": [
    {
     "data": {
      "text/plain": "               Method        Level  Size\n0               no_sm        genes  0.81\n1               no_sm        genes  0.01\n2               no_sm        genes  0.00\n3               no_sm        genes  0.00\n4               no_sm        genes  0.00\n...               ...          ...   ...\n13277  with_unique_sm  proteoforms  0.00\n13278  with_unique_sm  proteoforms  0.00\n13279  with_unique_sm  proteoforms  0.00\n13280  with_unique_sm  proteoforms  0.00\n13281  with_unique_sm  proteoforms  0.00\n\n[13282 rows x 3 columns]",
      "text/html": "<div>\n<style scoped>\n    .dataframe tbody tr th:only-of-type {\n        vertical-align: middle;\n    }\n\n    .dataframe tbody tr th {\n        vertical-align: top;\n    }\n\n    .dataframe thead th {\n        text-align: right;\n    }\n</style>\n<table border=\"1\" class=\"dataframe\">\n  <thead>\n    <tr style=\"text-align: right;\">\n      <th></th>\n      <th>Method</th>\n      <th>Level</th>\n      <th>Size</th>\n    </tr>\n  </thead>\n  <tbody>\n    <tr>\n      <th>0</th>\n      <td>no_sm</td>\n      <td>genes</td>\n      <td>0.81</td>\n    </tr>\n    <tr>\n      <th>1</th>\n      <td>no_sm</td>\n      <td>genes</td>\n      <td>0.01</td>\n    </tr>\n    <tr>\n      <th>2</th>\n      <td>no_sm</td>\n      <td>genes</td>\n      <td>0.00</td>\n    </tr>\n    <tr>\n      <th>3</th>\n      <td>no_sm</td>\n      <td>genes</td>\n      <td>0.00</td>\n    </tr>\n    <tr>\n      <th>4</th>\n      <td>no_sm</td>\n      <td>genes</td>\n      <td>0.00</td>\n    </tr>\n    <tr>\n      <th>...</th>\n      <td>...</td>\n      <td>...</td>\n      <td>...</td>\n    </tr>\n    <tr>\n      <th>13277</th>\n      <td>with_unique_sm</td>\n      <td>proteoforms</td>\n      <td>0.00</td>\n    </tr>\n    <tr>\n      <th>13278</th>\n      <td>with_unique_sm</td>\n      <td>proteoforms</td>\n      <td>0.00</td>\n    </tr>\n    <tr>\n      <th>13279</th>\n      <td>with_unique_sm</td>\n      <td>proteoforms</td>\n      <td>0.00</td>\n    </tr>\n    <tr>\n      <th>13280</th>\n      <td>with_unique_sm</td>\n      <td>proteoforms</td>\n      <td>0.00</td>\n    </tr>\n    <tr>\n      <th>13281</th>\n      <td>with_unique_sm</td>\n      <td>proteoforms</td>\n      <td>0.00</td>\n    </tr>\n  </tbody>\n</table>\n<p>13282 rows × 3 columns</p>\n</div>"
     },
     "execution_count": 3,
     "metadata": {},
     "output_type": "execute_result"
    }
   ],
   "source": [
    "import itertools\n",
    "\n",
    "\n",
    "def getTuples(i):\n",
    "    sizes = [len(c) / i.number_of_nodes() for c in sorted(nx.connected_components(i), key=len, reverse=True)]\n",
    "    d = [(i.graph[\"method\"], i.graph[\"level\"], s) for s in sizes]\n",
    "    return d\n",
    "\n",
    "\n",
    "tuples = [getTuples(i) for i in interactomes]\n",
    "data = list(itertools.chain.from_iterable(tuples))\n",
    "data\n",
    "df_cc = pd.DataFrame(data, columns=['Method', 'Level', 'Size'])\n",
    "df_cc"
   ],
   "metadata": {
    "collapsed": false,
    "pycharm": {
     "name": "#%% Relative size of the connected components\n"
    }
   }
  },
  {
   "cell_type": "code",
   "execution_count": 4,
   "outputs": [
    {
     "name": "stderr",
     "output_type": "stream",
     "text": [
      "c:\\git\\pathwayanalysisplatform\\proteoformnetworks\\venv\\lib\\site-packages\\seaborn\\axisgrid.py:643: UserWarning: Using the stripplot function without specifying `order` is likely to produce an incorrect plot.\n",
      "  warnings.warn(warning)\n",
      "c:\\git\\pathwayanalysisplatform\\proteoformnetworks\\venv\\lib\\site-packages\\seaborn\\axisgrid.py:643: UserWarning: Using the boxplot function without specifying `order` is likely to produce an incorrect plot.\n",
      "  warnings.warn(warning)\n"
     ]
    },
    {
     "data": {
      "text/plain": "<seaborn.axisgrid.FacetGrid at 0x2b826c5d8e0>"
     },
     "execution_count": 4,
     "metadata": {},
     "output_type": "execute_result"
    },
    {
     "data": {
      "text/plain": "<Figure size 656x216 with 3 Axes>",
      "image/png": "[encoded data removed]"
     },
     "metadata": {},
     "output_type": "display_data"
    }
   ],
   "source": [
    "# Requires creating a dataframe with two columns\n",
    "with sns.axes_style(\"white\"):\n",
    "    g = sns.FacetGrid(df_cc, col=\"Method\")\n",
    "g.map(sns.stripplot, \"Level\", \"Size\", alpha=.7)\n",
    "g.map(sns.boxplot, \"Level\", \"Size\")\n",
    "g.set_axis_labels(\"Level\", \"Relative Size\")\n",
    "g.add_legend()"
   ],
   "metadata": {
    "collapsed": false,
    "pycharm": {
     "name": "#%% Plot the sizes of connected components for the 9 types of Interactomes\n"
    }
   }
  },
  {
   "cell_type": "code",
   "execution_count": 5,
   "outputs": [
    {
     "data": {
      "text/plain": "           Method        Level  Number of connected components  \\\n0           no_sm        genes                            1773   \n1           no_sm     proteins                            1774   \n2           no_sm  proteoforms                            1821   \n3         with_sm        genes                             195   \n4         with_sm     proteins                             195   \n5         with_sm  proteoforms                             205   \n6  with_unique_sm        genes                            2427   \n7  with_unique_sm     proteins                            2427   \n8  with_unique_sm  proteoforms                            2465   \n\n   Size of largest connected component  \\\n0                                 8869   \n1                                 8966   \n2                                11984   \n3                                12692   \n4                                12790   \n5                                15962   \n6                                28696   \n7                                28793   \n8                                31644   \n\n   Relative size of largest connected component  \\\n0                                          0.81   \n1                                          0.81   \n2                                          0.84   \n3                                          0.98   \n4                                          0.98   \n5                                          0.98   \n6                                          0.73   \n7                                          0.73   \n8                                          0.75   \n\n   Average size of connected components  Size of smallest connected component  \\\n0                                  6.19                                     1   \n1                                  6.24                                     1   \n2                                  7.85                                     1   \n3                                 66.32                                     1   \n4                                 66.83                                     1   \n5                                 79.32                                     1   \n6                                 16.10                                     1   \n7                                 16.14                                     1   \n8                                 17.20                                     1   \n\n   Number of isolated nodes  \n0                      1664  \n1                      1665  \n2                      1696  \n3                       166  \n4                       166  \n5                       173  \n6                      1152  \n7                      1152  \n8                      1159  ",
      "text/html": "<div>\n<style scoped>\n    .dataframe tbody tr th:only-of-type {\n        vertical-align: middle;\n    }\n\n    .dataframe tbody tr th {\n        vertical-align: top;\n    }\n\n    .dataframe thead th {\n        text-align: right;\n    }\n</style>\n<table border=\"1\" class=\"dataframe\">\n  <thead>\n    <tr style=\"text-align: right;\">\n      <th></th>\n      <th>Method</th>\n      <th>Level</th>\n      <th>Number of connected components</th>\n      <th>Size of largest connected component</th>\n      <th>Relative size of largest connected component</th>\n      <th>Average size of connected components</th>\n      <th>Size of smallest connected component</th>\n      <th>Number of isolated nodes</th>\n    </tr>\n  </thead>\n  <tbody>\n    <tr>\n      <th>0</th>\n      <td>no_sm</td>\n      <td>genes</td>\n      <td>1773</td>\n      <td>8869</td>\n      <td>0.81</td>\n      <td>6.19</td>\n      <td>1</td>\n      <td>1664</td>\n    </tr>\n    <tr>\n      <th>1</th>\n      <td>no_sm</td>\n      <td>proteins</td>\n      <td>1774</td>\n      <td>8966</td>\n      <td>0.81</td>\n      <td>6.24</td>\n      <td>1</td>\n      <td>1665</td>\n    </tr>\n    <tr>\n      <th>2</th>\n      <td>no_sm</td>\n      <td>proteoforms</td>\n      <td>1821</td>\n      <td>11984</td>\n      <td>0.84</td>\n      <td>7.85</td>\n      <td>1</td>\n      <td>1696</td>\n    </tr>\n    <tr>\n      <th>3</th>\n      <td>with_sm</td>\n      <td>genes</td>\n      <td>195</td>\n      <td>12692</td>\n      <td>0.98</td>\n      <td>66.32</td>\n      <td>1</td>\n      <td>166</td>\n    </tr>\n    <tr>\n      <th>4</th>\n      <td>with_sm</td>\n      <td>proteins</td>\n      <td>195</td>\n      <td>12790</td>\n      <td>0.98</td>\n      <td>66.83</td>\n      <td>1</td>\n      <td>166</td>\n    </tr>\n    <tr>\n      <th>5</th>\n      <td>with_sm</td>\n      <td>proteoforms</td>\n      <td>205</td>\n      <td>15962</td>\n      <td>0.98</td>\n      <td>79.32</td>\n      <td>1</td>\n      <td>173</td>\n    </tr>\n    <tr>\n      <th>6</th>\n      <td>with_unique_sm</td>\n      <td>genes</td>\n      <td>2427</td>\n      <td>28696</td>\n      <td>0.73</td>\n      <td>16.10</td>\n      <td>1</td>\n      <td>1152</td>\n    </tr>\n    <tr>\n      <th>7</th>\n      <td>with_unique_sm</td>\n      <td>proteins</td>\n      <td>2427</td>\n      <td>28793</td>\n      <td>0.73</td>\n      <td>16.14</td>\n      <td>1</td>\n      <td>1152</td>\n    </tr>\n    <tr>\n      <th>8</th>\n      <td>with_unique_sm</td>\n      <td>proteoforms</td>\n      <td>2465</td>\n      <td>31644</td>\n      <td>0.75</td>\n      <td>17.20</td>\n      <td>1</td>\n      <td>1159</td>\n    </tr>\n  </tbody>\n</table>\n</div>"
     },
     "execution_count": 5,
     "metadata": {},
     "output_type": "execute_result"
    }
   ],
   "source": [
    "# Number of connected components\n",
    "# Size of the largest connected component\n",
    "# Relative size of the largest connected component\n",
    "# Average size of the connected components\n",
    "# Size of the smallest component\n",
    "# Number of isolated nodes\n",
    "\n",
    "def getTuples(i):\n",
    "    ccs_sizes = [len(c) for c in sorted(nx.connected_components(i), key=len, reverse=False)]\n",
    "    num_ccs = len(ccs_sizes)\n",
    "\n",
    "    return (\n",
    "        i.graph[\"method\"],\n",
    "        i.graph[\"level\"],\n",
    "        num_ccs,\n",
    "        ccs_sizes[-1],\n",
    "        ccs_sizes[-1] / i.number_of_nodes(),\n",
    "        sum(ccs_sizes) / len(ccs_sizes),\n",
    "        ccs_sizes[0],\n",
    "        0 if ccs_sizes[0] > 1 else bisect.bisect_left(ccs_sizes, 2, lo=0, hi=len(ccs_sizes))\n",
    "    )\n",
    "\n",
    "\n",
    "data = [getTuples(i) for i in interactomes]\n",
    "columns = [\n",
    "    'Method',\n",
    "    'Level',\n",
    "    'Number of connected components',\n",
    "    'Size of largest connected component',\n",
    "    'Relative size of largest connected component',\n",
    "    'Average size of connected components',\n",
    "    \"Size of smallest connected component\",\n",
    "    \"Number of isolated nodes\"\n",
    "]\n",
    "df_interactomes = pd.DataFrame.from_records(data, columns=columns)\n",
    "df_interactomes"
   ],
   "metadata": {
    "collapsed": false,
    "pycharm": {
     "name": "#%% Create dataframe with values for all interactomes:\n"
    }
   }
  },
  {
   "cell_type": "code",
   "execution_count": 6,
   "outputs": [
    {
     "data": {
      "text/plain": "             Pathway          Method        Level  \\\n0      R-HSA-9613829           no_sm        genes   \n1      R-HSA-9613829           no_sm     proteins   \n2      R-HSA-9613829           no_sm  proteoforms   \n3      R-HSA-9613829         with_sm        genes   \n4      R-HSA-9613829         with_sm     proteins   \n...              ...             ...          ...   \n18403   R-HSA-917729         with_sm     proteins   \n18404   R-HSA-917729         with_sm  proteoforms   \n18405   R-HSA-917729  with_unique_sm        genes   \n18406   R-HSA-917729  with_unique_sm     proteins   \n18407   R-HSA-917729  with_unique_sm  proteoforms   \n\n       Relative size of largest connected component  \\\n0                                              1.00   \n1                                              1.00   \n2                                              1.00   \n3                                              1.00   \n4                                              1.00   \n...                                             ...   \n18403                                          1.00   \n18404                                          1.00   \n18405                                          1.00   \n18406                                          1.00   \n18407                                          1.00   \n\n       Average relative size of connected components  \\\n0                                               1.00   \n1                                               1.00   \n2                                               1.00   \n3                                               1.00   \n4                                               1.00   \n...                                              ...   \n18403                                           1.00   \n18404                                           1.00   \n18405                                           1.00   \n18406                                           1.00   \n18407                                           1.00   \n\n       Relative Size of smallest connected component  \\\n0                                               1.00   \n1                                               1.00   \n2                                               1.00   \n3                                               1.00   \n4                                               1.00   \n...                                              ...   \n18403                                           1.00   \n18404                                           1.00   \n18405                                           1.00   \n18406                                           1.00   \n18407                                           1.00   \n\n       Relative Number of isolated nodes  \n0                                   0.00  \n1                                   0.00  \n2                                   0.00  \n3                                   0.00  \n4                                   0.00  \n...                                  ...  \n18403                               0.00  \n18404                               0.00  \n18405                               0.00  \n18406                               0.00  \n18407                               0.00  \n\n[18408 rows x 7 columns]",
      "text/html": "<div>\n<style scoped>\n    .dataframe tbody tr th:only-of-type {\n        vertical-align: middle;\n    }\n\n    .dataframe tbody tr th {\n        vertical-align: top;\n    }\n\n    .dataframe thead th {\n        text-align: right;\n    }\n</style>\n<table border=\"1\" class=\"dataframe\">\n  <thead>\n    <tr style=\"text-align: right;\">\n      <th></th>\n      <th>Pathway</th>\n      <th>Method</th>\n      <th>Level</th>\n      <th>Relative size of largest connected component</th>\n      <th>Average relative size of connected components</th>\n      <th>Relative Size of smallest connected component</th>\n      <th>Relative Number of isolated nodes</th>\n    </tr>\n  </thead>\n  <tbody>\n    <tr>\n      <th>0</th>\n      <td>R-HSA-9613829</td>\n      <td>no_sm</td>\n      <td>genes</td>\n      <td>1.00</td>\n      <td>1.00</td>\n      <td>1.00</td>\n      <td>0.00</td>\n    </tr>\n    <tr>\n      <th>1</th>\n      <td>R-HSA-9613829</td>\n      <td>no_sm</td>\n      <td>proteins</td>\n      <td>1.00</td>\n      <td>1.00</td>\n      <td>1.00</td>\n      <td>0.00</td>\n    </tr>\n    <tr>\n      <th>2</th>\n      <td>R-HSA-9613829</td>\n      <td>no_sm</td>\n      <td>proteoforms</td>\n      <td>1.00</td>\n      <td>1.00</td>\n      <td>1.00</td>\n      <td>0.00</td>\n    </tr>\n    <tr>\n      <th>3</th>\n      <td>R-HSA-9613829</td>\n      <td>with_sm</td>\n      <td>genes</td>\n      <td>1.00</td>\n      <td>1.00</td>\n      <td>1.00</td>\n      <td>0.00</td>\n    </tr>\n    <tr>\n      <th>4</th>\n      <td>R-HSA-9613829</td>\n      <td>with_sm</td>\n      <td>proteins</td>\n      <td>1.00</td>\n      <td>1.00</td>\n      <td>1.00</td>\n      <td>0.00</td>\n    </tr>\n    <tr>\n      <th>...</th>\n      <td>...</td>\n      <td>...</td>\n      <td>...</td>\n      <td>...</td>\n      <td>...</td>\n      <td>...</td>\n      <td>...</td>\n    </tr>\n    <tr>\n      <th>18403</th>\n      <td>R-HSA-917729</td>\n      <td>with_sm</td>\n      <td>proteins</td>\n      <td>1.00</td>\n      <td>1.00</td>\n      <td>1.00</td>\n      <td>0.00</td>\n    </tr>\n    <tr>\n      <th>18404</th>\n      <td>R-HSA-917729</td>\n      <td>with_sm</td>\n      <td>proteoforms</td>\n      <td>1.00</td>\n      <td>1.00</td>\n      <td>1.00</td>\n      <td>0.00</td>\n    </tr>\n    <tr>\n      <th>18405</th>\n      <td>R-HSA-917729</td>\n      <td>with_unique_sm</td>\n      <td>genes</td>\n      <td>1.00</td>\n      <td>1.00</td>\n      <td>1.00</td>\n      <td>0.00</td>\n    </tr>\n    <tr>\n      <th>18406</th>\n      <td>R-HSA-917729</td>\n      <td>with_unique_sm</td>\n      <td>proteins</td>\n      <td>1.00</td>\n      <td>1.00</td>\n      <td>1.00</td>\n      <td>0.00</td>\n    </tr>\n    <tr>\n      <th>18407</th>\n      <td>R-HSA-917729</td>\n      <td>with_unique_sm</td>\n      <td>proteoforms</td>\n      <td>1.00</td>\n      <td>1.00</td>\n      <td>1.00</td>\n      <td>0.00</td>\n    </tr>\n  </tbody>\n</table>\n<p>18408 rows × 7 columns</p>\n</div>"
     },
     "execution_count": 6,
     "metadata": {},
     "output_type": "execute_result"
    }
   ],
   "source": [
    "from pathlib import Path\n",
    "from config import METHODS, PATHWAY_GRAPHS_PATH\n",
    "from config import LEVELS\n",
    "from lib.networks import get_json_filename, create_pathway_interaction_network, read_graph\n",
    "from lib.graph_database_access import get_pathways\n",
    "\n",
    "columns_for_pathways = [\n",
    "    'Pathway',\n",
    "    'Method',\n",
    "    'Level',\n",
    "    'Relative size of largest connected component',\n",
    "    'Average relative size of connected components',\n",
    "    'Relative Size of smallest connected component',\n",
    "    'Relative Number of isolated nodes'\n",
    "]\n",
    "\n",
    "\n",
    "def get_pathway_tuples(pathway, pathway_graph):\n",
    "    ccs_sizes = [len(cc) for cc in sorted(nx.connected_components(pathway_graph), key=len, reverse=False)]\n",
    "    rel_ccs_sizes = [size / pathway_graph.number_of_nodes() for size in ccs_sizes]\n",
    "\n",
    "    return (\n",
    "        pathway,\n",
    "        pathway_graph.graph[\"method\"],\n",
    "        pathway_graph.graph[\"level\"],\n",
    "        rel_ccs_sizes[-1],\n",
    "        sum(rel_ccs_sizes) / len(rel_ccs_sizes),\n",
    "        rel_ccs_sizes[0],\n",
    "        0 if ccs_sizes[0] > 1 else bisect.bisect_left(ccs_sizes, 2, lo=0, hi=len(ccs_sizes)) / len(ccs_sizes)\n",
    "    )\n",
    "\n",
    "\n",
    "data_pathways = []\n",
    "for pathway in get_pathways()[\"stId\"]:\n",
    "    for method in METHODS:\n",
    "        for level in LEVELS:\n",
    "            filename = get_json_filename(level, method, PATHWAY_GRAPHS_PATH, pathway)\n",
    "            if not Path(filename).exists():\n",
    "                create_pathway_interaction_network(pathway, level, method, PATHWAY_GRAPHS_PATH)\n",
    "            G = read_graph(filename)\n",
    "            if G.number_of_nodes() > 0:\n",
    "                data_pathways.append(get_pathway_tuples(pathway, G))\n",
    "\n",
    "df_pathways = pd.DataFrame.from_records(data_pathways, columns=columns_for_pathways)\n",
    "df_pathways"
   ],
   "metadata": {
    "collapsed": false,
    "pycharm": {
     "name": "#%% Calculate values for each pathway\n"
    }
   }
  },
  {
   "cell_type": "code",
   "execution_count": 7,
   "outputs": [
    {
     "data": {
      "text/plain": "           Method        Level  Avg. Rel. Size of LCC  Avg. Rel. Size of CCs  \\\n0           no_sm        genes                   0.79                   0.70   \n1           no_sm     proteins                   0.79                   0.70   \n2           no_sm  proteoforms                   0.79                   0.70   \n3         with_sm        genes                   0.85                   0.77   \n4         with_sm     proteins                   0.85                   0.77   \n5         with_sm  proteoforms                   0.84                   0.77   \n6  with_unique_sm        genes                   0.74                   0.64   \n7  with_unique_sm     proteins                   0.74                   0.64   \n8  with_unique_sm  proteoforms                   0.74                   0.63   \n\n   Avg. Rel. Size of SCC  Avg. Rel. Number of isolated nodes  \n0                   0.66                                0.37  \n1                   0.66                                0.37  \n2                   0.65                                0.36  \n3                   0.73                                0.20  \n4                   0.73                                0.20  \n5                   0.72                                0.20  \n6                   0.58                                0.21  \n7                   0.58                                0.21  \n8                   0.57                                0.21  ",
      "text/html": "<div>\n<style scoped>\n    .dataframe tbody tr th:only-of-type {\n        vertical-align: middle;\n    }\n\n    .dataframe tbody tr th {\n        vertical-align: top;\n    }\n\n    .dataframe thead th {\n        text-align: right;\n    }\n</style>\n<table border=\"1\" class=\"dataframe\">\n  <thead>\n    <tr style=\"text-align: right;\">\n      <th></th>\n      <th>Method</th>\n      <th>Level</th>\n      <th>Avg. Rel. Size of LCC</th>\n      <th>Avg. Rel. Size of CCs</th>\n      <th>Avg. Rel. Size of SCC</th>\n      <th>Avg. Rel. Number of isolated nodes</th>\n    </tr>\n  </thead>\n  <tbody>\n    <tr>\n      <th>0</th>\n      <td>no_sm</td>\n      <td>genes</td>\n      <td>0.79</td>\n      <td>0.70</td>\n      <td>0.66</td>\n      <td>0.37</td>\n    </tr>\n    <tr>\n      <th>1</th>\n      <td>no_sm</td>\n      <td>proteins</td>\n      <td>0.79</td>\n      <td>0.70</td>\n      <td>0.66</td>\n      <td>0.37</td>\n    </tr>\n    <tr>\n      <th>2</th>\n      <td>no_sm</td>\n      <td>proteoforms</td>\n      <td>0.79</td>\n      <td>0.70</td>\n      <td>0.65</td>\n      <td>0.36</td>\n    </tr>\n    <tr>\n      <th>3</th>\n      <td>with_sm</td>\n      <td>genes</td>\n      <td>0.85</td>\n      <td>0.77</td>\n      <td>0.73</td>\n      <td>0.20</td>\n    </tr>\n    <tr>\n      <th>4</th>\n      <td>with_sm</td>\n      <td>proteins</td>\n      <td>0.85</td>\n      <td>0.77</td>\n      <td>0.73</td>\n      <td>0.20</td>\n    </tr>\n    <tr>\n      <th>5</th>\n      <td>with_sm</td>\n      <td>proteoforms</td>\n      <td>0.84</td>\n      <td>0.77</td>\n      <td>0.72</td>\n      <td>0.20</td>\n    </tr>\n    <tr>\n      <th>6</th>\n      <td>with_unique_sm</td>\n      <td>genes</td>\n      <td>0.74</td>\n      <td>0.64</td>\n      <td>0.58</td>\n      <td>0.21</td>\n    </tr>\n    <tr>\n      <th>7</th>\n      <td>with_unique_sm</td>\n      <td>proteins</td>\n      <td>0.74</td>\n      <td>0.64</td>\n      <td>0.58</td>\n      <td>0.21</td>\n    </tr>\n    <tr>\n      <th>8</th>\n      <td>with_unique_sm</td>\n      <td>proteoforms</td>\n      <td>0.74</td>\n      <td>0.63</td>\n      <td>0.57</td>\n      <td>0.21</td>\n    </tr>\n  </tbody>\n</table>\n</div>"
     },
     "execution_count": 7,
     "metadata": {},
     "output_type": "execute_result"
    }
   ],
   "source": [
    "grouped_multiple = df_pathways.groupby(['Method', 'Level']).agg(\n",
    "    {\n",
    "        'Relative size of largest connected component': ['mean'],\n",
    "        'Average relative size of connected components': ['mean'],\n",
    "        'Relative Size of smallest connected component': ['mean'],\n",
    "        'Relative Number of isolated nodes': ['mean']\n",
    "    })\n",
    "grouped_multiple.columns = [\n",
    "    'Avg. Rel. Size of LCC',\n",
    "    'Avg. Rel. Size of CCs',\n",
    "    'Avg. Rel. Size of SCC',\n",
    "    'Avg. Rel. Number of isolated nodes'\n",
    "]\n",
    "grouped_multiple = grouped_multiple.reset_index()\n",
    "\n",
    "grouped_multiple"
   ],
   "metadata": {
    "collapsed": false,
    "pycharm": {
     "name": "#%% Create sumarized dataframe with average values for all dataframes\n"
    }
   }
  },
  {
   "cell_type": "code",
   "execution_count": 7,
   "outputs": [],
   "source": [],
   "metadata": {
    "collapsed": false,
    "pycharm": {
     "name": "#%%\n"
    }
   }
  }
 ],
 "metadata": {
  "kernelspec": {
   "display_name": "Python 3",
   "language": "python",
   "name": "python3"
  },
  "language_info": {
   "codemirror_mode": {
    "name": "ipython",
    "version": 2
   },
   "file_extension": ".py",
   "mimetype": "text/x-python",
   "name": "python",
   "nbconvert_exporter": "python",
   "pygments_lexer": "ipython2",
   "version": "2.7.6"
  }
 },
 "nbformat": 4,
 "nbformat_minor": 0
}