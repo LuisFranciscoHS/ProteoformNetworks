{
 "cells": [
  {
   "cell_type": "markdown",
   "source": [
    "## Connected components\n",
    "\n",
    "- Number of connected components\n",
    "- Size of the largest connected component\n",
    "- Average size of the connected components\n",
    "- Size of the smalles connected component\n",
    "- Sizes of connected components for all pathways"
   ],
   "metadata": {
    "collapsed": false
   }
  },
  {
   "cell_type": "code",
   "execution_count": 1,
   "outputs": [
    {
     "name": "stdout",
     "output_type": "stream",
     "text": [
      "Working directory: c:\\git\\pathwayanalysisplatform\\proteoformnetworks\n"
     ]
    }
   ],
   "source": [
    "import networkx as nx\n",
    "import pandas as pd\n",
    "import seaborn as sns\n",
    "\n",
    "import config\n",
    "from config import GRAPHS_PATH\n",
    "from lib.networks import get_interactomes\n",
    "\n",
    "%load_ext autoreload\n",
    "%autoreload 2\n",
    "%reload_ext autoreload\n",
    "\n",
    "config.set_root_wd()"
   ],
   "metadata": {
    "collapsed": false,
    "pycharm": {
     "name": "#%%\n"
    }
   }
  },
  {
   "cell_type": "code",
   "execution_count": 2,
   "outputs": [],
   "source": [
    "interactomes = get_interactomes(GRAPHS_PATH)"
   ],
   "metadata": {
    "collapsed": false,
    "pycharm": {
     "name": "#%% Get all interactomes\n"
    }
   }
  },
  {
   "cell_type": "code",
   "execution_count": 3,
   "outputs": [
    {
     "data": {
      "text/plain": "               Method        Level  Size\n0               no_sm        genes  8869\n1               no_sm        genes    93\n2               no_sm        genes    16\n3               no_sm        genes    12\n4               no_sm        genes    12\n...               ...          ...   ...\n13277  with_unique_sm  proteoforms     1\n13278  with_unique_sm  proteoforms     1\n13279  with_unique_sm  proteoforms     1\n13280  with_unique_sm  proteoforms     1\n13281  with_unique_sm  proteoforms     1\n\n[13282 rows x 3 columns]",
      "text/html": "<div>\n<style scoped>\n    .dataframe tbody tr th:only-of-type {\n        vertical-align: middle;\n    }\n\n    .dataframe tbody tr th {\n        vertical-align: top;\n    }\n\n    .dataframe thead th {\n        text-align: right;\n    }\n</style>\n<table border=\"1\" class=\"dataframe\">\n  <thead>\n    <tr style=\"text-align: right;\">\n      <th></th>\n      <th>Method</th>\n      <th>Level</th>\n      <th>Size</th>\n    </tr>\n  </thead>\n  <tbody>\n    <tr>\n      <th>0</th>\n      <td>no_sm</td>\n      <td>genes</td>\n      <td>8869</td>\n    </tr>\n    <tr>\n      <th>1</th>\n      <td>no_sm</td>\n      <td>genes</td>\n      <td>93</td>\n    </tr>\n    <tr>\n      <th>2</th>\n      <td>no_sm</td>\n      <td>genes</td>\n      <td>16</td>\n    </tr>\n    <tr>\n      <th>3</th>\n      <td>no_sm</td>\n      <td>genes</td>\n      <td>12</td>\n    </tr>\n    <tr>\n      <th>4</th>\n      <td>no_sm</td>\n      <td>genes</td>\n      <td>12</td>\n    </tr>\n    <tr>\n      <th>...</th>\n      <td>...</td>\n      <td>...</td>\n      <td>...</td>\n    </tr>\n    <tr>\n      <th>13277</th>\n      <td>with_unique_sm</td>\n      <td>proteoforms</td>\n      <td>1</td>\n    </tr>\n    <tr>\n      <th>13278</th>\n      <td>with_unique_sm</td>\n      <td>proteoforms</td>\n      <td>1</td>\n    </tr>\n    <tr>\n      <th>13279</th>\n      <td>with_unique_sm</td>\n      <td>proteoforms</td>\n      <td>1</td>\n    </tr>\n    <tr>\n      <th>13280</th>\n      <td>with_unique_sm</td>\n      <td>proteoforms</td>\n      <td>1</td>\n    </tr>\n    <tr>\n      <th>13281</th>\n      <td>with_unique_sm</td>\n      <td>proteoforms</td>\n      <td>1</td>\n    </tr>\n  </tbody>\n</table>\n<p>13282 rows × 3 columns</p>\n</div>"
     },
     "execution_count": 3,
     "metadata": {},
     "output_type": "execute_result"
    }
   ],
   "source": [
    "import itertools\n",
    "\n",
    "def getTuples(i):\n",
    "    sizes = [len(c) for c in sorted(nx.connected_components(i), key=len, reverse=True)]\n",
    "    d = [(i.graph[\"method\"], i.graph[\"level\"], s) for s in sizes]\n",
    "    return d\n",
    "\n",
    "tuples = [getTuples(i) for i in interactomes]\n",
    "data = list(itertools.chain.from_iterable(tuples))\n",
    "data\n",
    "df_cc = pd.DataFrame(data, columns=['Method', 'Level', 'Size'])\n",
    "df_cc"
   ],
   "metadata": {
    "collapsed": false,
    "pycharm": {
     "name": "#%%\n"
    }
   }
  },
  {
   "cell_type": "code",
   "execution_count": 4,
   "outputs": [
    {
     "name": "stderr",
     "output_type": "stream",
     "text": [
      "c:\\git\\pathwayanalysisplatform\\proteoformnetworks\\venv\\lib\\site-packages\\seaborn\\axisgrid.py:643: UserWarning: Using the stripplot function without specifying `order` is likely to produce an incorrect plot.\n",
      "  warnings.warn(warning)\n",
      "c:\\git\\pathwayanalysisplatform\\proteoformnetworks\\venv\\lib\\site-packages\\seaborn\\axisgrid.py:643: UserWarning: Using the boxplot function without specifying `order` is likely to produce an incorrect plot.\n",
      "  warnings.warn(warning)\n"
     ]
    },
    {
     "data": {
      "text/plain": "<seaborn.axisgrid.FacetGrid at 0x1787e04e0d0>"
     },
     "execution_count": 4,
     "metadata": {},
     "output_type": "execute_result"
    },
    {
     "data": {
      "text/plain": "<Figure size 656x216 with 3 Axes>",
      "image/png": "[encoded data removed]"
     },
     "metadata": {
      "needs_background": "light"
     },
     "output_type": "display_data"
    }
   ],
   "source": [
    "# Requires creating a dataframe with two columns\n",
    "g = sns.FacetGrid(df_cc, col=\"Method\")\n",
    "\n",
    "g.map(sns.stripplot, \"Level\", \"Size\", alpha=.7)\n",
    "g.map(sns.boxplot, \"Level\", \"Size\")\n",
    "g.add_legend()"
   ],
   "metadata": {
    "collapsed": false,
    "pycharm": {
     "name": "#%% Plot the sizes of connected components for the 9 types of Interactomes\n"
    }
   }
  },
  {
   "cell_type": "code",
   "execution_count": 5,
   "outputs": [
    {
     "data": {
      "text/plain": "               Method        Level  Size\n0               no_sm        genes  0.81\n1               no_sm        genes  0.01\n2               no_sm        genes  0.00\n3               no_sm        genes  0.00\n4               no_sm        genes  0.00\n...               ...          ...   ...\n13277  with_unique_sm  proteoforms  0.00\n13278  with_unique_sm  proteoforms  0.00\n13279  with_unique_sm  proteoforms  0.00\n13280  with_unique_sm  proteoforms  0.00\n13281  with_unique_sm  proteoforms  0.00\n\n[13282 rows x 3 columns]",
      "text/html": "<div>\n<style scoped>\n    .dataframe tbody tr th:only-of-type {\n        vertical-align: middle;\n    }\n\n    .dataframe tbody tr th {\n        vertical-align: top;\n    }\n\n    .dataframe thead th {\n        text-align: right;\n    }\n</style>\n<table border=\"1\" class=\"dataframe\">\n  <thead>\n    <tr style=\"text-align: right;\">\n      <th></th>\n      <th>Method</th>\n      <th>Level</th>\n      <th>Size</th>\n    </tr>\n  </thead>\n  <tbody>\n    <tr>\n      <th>0</th>\n      <td>no_sm</td>\n      <td>genes</td>\n      <td>0.81</td>\n    </tr>\n    <tr>\n      <th>1</th>\n      <td>no_sm</td>\n      <td>genes</td>\n      <td>0.01</td>\n    </tr>\n    <tr>\n      <th>2</th>\n      <td>no_sm</td>\n      <td>genes</td>\n      <td>0.00</td>\n    </tr>\n    <tr>\n      <th>3</th>\n      <td>no_sm</td>\n      <td>genes</td>\n      <td>0.00</td>\n    </tr>\n    <tr>\n      <th>4</th>\n      <td>no_sm</td>\n      <td>genes</td>\n      <td>0.00</td>\n    </tr>\n    <tr>\n      <th>...</th>\n      <td>...</td>\n      <td>...</td>\n      <td>...</td>\n    </tr>\n    <tr>\n      <th>13277</th>\n      <td>with_unique_sm</td>\n      <td>proteoforms</td>\n      <td>0.00</td>\n    </tr>\n    <tr>\n      <th>13278</th>\n      <td>with_unique_sm</td>\n      <td>proteoforms</td>\n      <td>0.00</td>\n    </tr>\n    <tr>\n      <th>13279</th>\n      <td>with_unique_sm</td>\n      <td>proteoforms</td>\n      <td>0.00</td>\n    </tr>\n    <tr>\n      <th>13280</th>\n      <td>with_unique_sm</td>\n      <td>proteoforms</td>\n      <td>0.00</td>\n    </tr>\n    <tr>\n      <th>13281</th>\n      <td>with_unique_sm</td>\n      <td>proteoforms</td>\n      <td>0.00</td>\n    </tr>\n  </tbody>\n</table>\n<p>13282 rows × 3 columns</p>\n</div>"
     },
     "execution_count": 5,
     "metadata": {},
     "output_type": "execute_result"
    }
   ],
   "source": [
    "import itertools\n",
    "\n",
    "def getTuples(i):\n",
    "    sizes = [len(c)/i.number_of_nodes() for c in sorted(nx.connected_components(i), key=len, reverse=True)]\n",
    "    d = [(i.graph[\"method\"], i.graph[\"level\"], s) for s in sizes]\n",
    "    return d\n",
    "\n",
    "tuples = [getTuples(i) for i in interactomes]\n",
    "data = list(itertools.chain.from_iterable(tuples))\n",
    "data\n",
    "df_cc = pd.DataFrame(data, columns=['Method', 'Level', 'Size'])\n",
    "df_cc"
   ],
   "metadata": {
    "collapsed": false,
    "pycharm": {
     "name": "#%% Relative size of the connected components\n"
    }
   }
  },
  {
   "cell_type": "code",
   "execution_count": 6,
   "outputs": [
    {
     "name": "stderr",
     "output_type": "stream",
     "text": [
      "c:\\git\\pathwayanalysisplatform\\proteoformnetworks\\venv\\lib\\site-packages\\seaborn\\axisgrid.py:643: UserWarning: Using the stripplot function without specifying `order` is likely to produce an incorrect plot.\n",
      "  warnings.warn(warning)\n",
      "c:\\git\\pathwayanalysisplatform\\proteoformnetworks\\venv\\lib\\site-packages\\seaborn\\axisgrid.py:643: UserWarning: Using the boxplot function without specifying `order` is likely to produce an incorrect plot.\n",
      "  warnings.warn(warning)\n"
     ]
    },
    {
     "data": {
      "text/plain": "<seaborn.axisgrid.FacetGrid at 0x1788fa91d30>"
     },
     "execution_count": 6,
     "metadata": {},
     "output_type": "execute_result"
    },
    {
     "data": {
      "text/plain": "<Figure size 656x216 with 3 Axes>",
      "image/png": "[encoded data removed]"
     },
     "metadata": {},
     "output_type": "display_data"
    }
   ],
   "source": [
    "# Requires creating a dataframe with two columns\n",
    "with sns.axes_style(\"white\"):\n",
    "    g = sns.FacetGrid(df_cc, col=\"Method\")\n",
    "g.map(sns.stripplot, \"Level\", \"Size\", alpha=.7)\n",
    "g.map(sns.boxplot, \"Level\", \"Size\")\n",
    "g.set_axis_labels(\"Level\", \"Relative Size\")\n",
    "g.add_legend()"
   ],
   "metadata": {
    "collapsed": false,
    "pycharm": {
     "name": "#%% Plot the sizes of connected components for the 9 types of Interactomes\n"
    }
   }
  }
 ],
 "metadata": {
  "kernelspec": {
   "display_name": "Python 3",
   "language": "python",
   "name": "python3"
  },
  "language_info": {
   "codemirror_mode": {
    "name": "ipython",
    "version": 2
   },
   "file_extension": ".py",
   "mimetype": "text/x-python",
   "name": "python",
   "nbconvert_exporter": "python",
   "pygments_lexer": "ipython2",
   "version": "2.7.6"
  }
 },
 "nbformat": 4,
 "nbformat_minor": 0
}