{
 "cells": [
  {
   "cell_type": "markdown",
   "source": [
    "## Connected components\n",
    "\n",
    "For all interactomes:\n",
    "* Number of connected components\n",
    "* Size of the largest connected component\n",
    "* Relative size of the largest connected component\n",
    "* Average size of the connected components\n",
    "* Size of the smallest component\n",
    "* Number of isolated nodes\n",
    "\n",
    "For all pathways:\n",
    "- Sizes of connected components for all pathways"
   ],
   "metadata": {
    "collapsed": false
   }
  },
  {
   "cell_type": "code",
   "execution_count": 2,
   "outputs": [
    {
     "name": "stdout",
     "output_type": "stream",
     "text": [
      "Working directory: c:\\git\\pathwayanalysisplatform\\proteoformnetworks\n"
     ]
    }
   ],
   "source": [
    "import bisect\n",
    "\n",
    "import networkx as nx\n",
    "import pandas as pd\n",
    "import seaborn as sns\n",
    "\n",
    "import config\n",
    "from config import GRAPHS_PATH\n",
    "from lib.networks import get_interactomes\n",
    "\n",
    "%load_ext autoreload\n",
    "%autoreload 2\n",
    "%reload_ext autoreload\n",
    "\n",
    "config.set_root_wd()"
   ],
   "metadata": {
    "collapsed": false,
    "pycharm": {
     "name": "#%%\n"
    }
   }
  },
  {
   "cell_type": "code",
   "execution_count": 3,
   "outputs": [],
   "source": [
    "interactomes = get_interactomes(GRAPHS_PATH)"
   ],
   "metadata": {
    "collapsed": false,
    "pycharm": {
     "name": "#%% Get all interactomes\n"
    }
   }
  },
  {
   "cell_type": "code",
   "execution_count": 4,
   "outputs": [
    {
     "data": {
      "text/plain": "               Method        Level  Size\n0               no_sm        genes  0.81\n1               no_sm        genes  0.01\n2               no_sm        genes  0.00\n3               no_sm        genes  0.00\n4               no_sm        genes  0.00\n...               ...          ...   ...\n13277  with_unique_sm  proteoforms  0.00\n13278  with_unique_sm  proteoforms  0.00\n13279  with_unique_sm  proteoforms  0.00\n13280  with_unique_sm  proteoforms  0.00\n13281  with_unique_sm  proteoforms  0.00\n\n[13282 rows x 3 columns]",
      "text/html": "<div>\n<style scoped>\n    .dataframe tbody tr th:only-of-type {\n        vertical-align: middle;\n    }\n\n    .dataframe tbody tr th {\n        vertical-align: top;\n    }\n\n    .dataframe thead th {\n        text-align: right;\n    }\n</style>\n<table border=\"1\" class=\"dataframe\">\n  <thead>\n    <tr style=\"text-align: right;\">\n      <th></th>\n      <th>Method</th>\n      <th>Level</th>\n      <th>Size</th>\n    </tr>\n  </thead>\n  <tbody>\n    <tr>\n      <th>0</th>\n      <td>no_sm</td>\n      <td>genes</td>\n      <td>0.81</td>\n    </tr>\n    <tr>\n      <th>1</th>\n      <td>no_sm</td>\n      <td>genes</td>\n      <td>0.01</td>\n    </tr>\n    <tr>\n      <th>2</th>\n      <td>no_sm</td>\n      <td>genes</td>\n      <td>0.00</td>\n    </tr>\n    <tr>\n      <th>3</th>\n      <td>no_sm</td>\n      <td>genes</td>\n      <td>0.00</td>\n    </tr>\n    <tr>\n      <th>4</th>\n      <td>no_sm</td>\n      <td>genes</td>\n      <td>0.00</td>\n    </tr>\n    <tr>\n      <th>...</th>\n      <td>...</td>\n      <td>...</td>\n      <td>...</td>\n    </tr>\n    <tr>\n      <th>13277</th>\n      <td>with_unique_sm</td>\n      <td>proteoforms</td>\n      <td>0.00</td>\n    </tr>\n    <tr>\n      <th>13278</th>\n      <td>with_unique_sm</td>\n      <td>proteoforms</td>\n      <td>0.00</td>\n    </tr>\n    <tr>\n      <th>13279</th>\n      <td>with_unique_sm</td>\n      <td>proteoforms</td>\n      <td>0.00</td>\n    </tr>\n    <tr>\n      <th>13280</th>\n      <td>with_unique_sm</td>\n      <td>proteoforms</td>\n      <td>0.00</td>\n    </tr>\n    <tr>\n      <th>13281</th>\n      <td>with_unique_sm</td>\n      <td>proteoforms</td>\n      <td>0.00</td>\n    </tr>\n  </tbody>\n</table>\n<p>13282 rows × 3 columns</p>\n</div>"
     },
     "execution_count": 4,
     "metadata": {},
     "output_type": "execute_result"
    }
   ],
   "source": [
    "import itertools\n",
    "\n",
    "def getTuples(i):\n",
    "    sizes = [len(c)/i.number_of_nodes() for c in sorted(nx.connected_components(i), key=len, reverse=True)]\n",
    "    d = [(i.graph[\"method\"], i.graph[\"level\"], s) for s in sizes]\n",
    "    return d\n",
    "\n",
    "tuples = [getTuples(i) for i in interactomes]\n",
    "data = list(itertools.chain.from_iterable(tuples))\n",
    "data\n",
    "df_cc = pd.DataFrame(data, columns=['Method', 'Level', 'Size'])\n",
    "df_cc"
   ],
   "metadata": {
    "collapsed": false,
    "pycharm": {
     "name": "#%% Relative size of the connected components\n"
    }
   }
  },
  {
   "cell_type": "code",
   "execution_count": 5,
   "outputs": [
    {
     "name": "stderr",
     "output_type": "stream",
     "text": [
      "c:\\git\\pathwayanalysisplatform\\proteoformnetworks\\venv\\lib\\site-packages\\seaborn\\axisgrid.py:643: UserWarning: Using the stripplot function without specifying `order` is likely to produce an incorrect plot.\n",
      "  warnings.warn(warning)\n",
      "c:\\git\\pathwayanalysisplatform\\proteoformnetworks\\venv\\lib\\site-packages\\seaborn\\axisgrid.py:643: UserWarning: Using the boxplot function without specifying `order` is likely to produce an incorrect plot.\n",
      "  warnings.warn(warning)\n"
     ]
    },
    {
     "data": {
      "text/plain": "<seaborn.axisgrid.FacetGrid at 0x18102dd3a30>"
     },
     "execution_count": 5,
     "metadata": {},
     "output_type": "execute_result"
    },
    {
     "data": {
      "text/plain": "<Figure size 656x216 with 3 Axes>",
      "image/png": "[encoded data removed]"
     },
     "metadata": {},
     "output_type": "display_data"
    }
   ],
   "source": [
    "# Requires creating a dataframe with two columns\n",
    "with sns.axes_style(\"white\"):\n",
    "    g = sns.FacetGrid(df_cc, col=\"Method\")\n",
    "g.map(sns.stripplot, \"Level\", \"Size\", alpha=.7)\n",
    "g.map(sns.boxplot, \"Level\", \"Size\")\n",
    "g.set_axis_labels(\"Level\", \"Relative Size\")\n",
    "g.add_legend()"
   ],
   "metadata": {
    "collapsed": false,
    "pycharm": {
     "name": "#%% Plot the sizes of connected components for the 9 types of Interactomes\n"
    }
   }
  },
  {
   "cell_type": "code",
   "execution_count": 6,
   "outputs": [
    {
     "data": {
      "text/plain": "           Method        Level  Number of connected components  \\\n0           no_sm        genes                            1773   \n1           no_sm     proteins                            1774   \n2           no_sm  proteoforms                            1821   \n3         with_sm        genes                             195   \n4         with_sm     proteins                             195   \n5         with_sm  proteoforms                             205   \n6  with_unique_sm        genes                            2427   \n7  with_unique_sm     proteins                            2427   \n8  with_unique_sm  proteoforms                            2465   \n\n   Size of largest connected component  \\\n0                                 8869   \n1                                 8966   \n2                                11984   \n3                                12692   \n4                                12790   \n5                                15962   \n6                                28696   \n7                                28793   \n8                                31644   \n\n   Relative size of largest connected component  \\\n0                                          0.81   \n1                                          0.81   \n2                                          0.84   \n3                                          0.98   \n4                                          0.98   \n5                                          0.98   \n6                                          0.73   \n7                                          0.73   \n8                                          0.75   \n\n   Average size of connected components  Size of smallest connected component  \\\n0                                  6.19                                     1   \n1                                  6.24                                     1   \n2                                  7.85                                     1   \n3                                 66.32                                     1   \n4                                 66.83                                     1   \n5                                 79.32                                     1   \n6                                 16.10                                     1   \n7                                 16.14                                     1   \n8                                 17.20                                     1   \n\n   Number of isolated nodes  \n0                      1664  \n1                      1665  \n2                      1696  \n3                       166  \n4                       166  \n5                       173  \n6                      1152  \n7                      1152  \n8                      1159  ",
      "text/html": "<div>\n<style scoped>\n    .dataframe tbody tr th:only-of-type {\n        vertical-align: middle;\n    }\n\n    .dataframe tbody tr th {\n        vertical-align: top;\n    }\n\n    .dataframe thead th {\n        text-align: right;\n    }\n</style>\n<table border=\"1\" class=\"dataframe\">\n  <thead>\n    <tr style=\"text-align: right;\">\n      <th></th>\n      <th>Method</th>\n      <th>Level</th>\n      <th>Number of connected components</th>\n      <th>Size of largest connected component</th>\n      <th>Relative size of largest connected component</th>\n      <th>Average size of connected components</th>\n      <th>Size of smallest connected component</th>\n      <th>Number of isolated nodes</th>\n    </tr>\n  </thead>\n  <tbody>\n    <tr>\n      <th>0</th>\n      <td>no_sm</td>\n      <td>genes</td>\n      <td>1773</td>\n      <td>8869</td>\n      <td>0.81</td>\n      <td>6.19</td>\n      <td>1</td>\n      <td>1664</td>\n    </tr>\n    <tr>\n      <th>1</th>\n      <td>no_sm</td>\n      <td>proteins</td>\n      <td>1774</td>\n      <td>8966</td>\n      <td>0.81</td>\n      <td>6.24</td>\n      <td>1</td>\n      <td>1665</td>\n    </tr>\n    <tr>\n      <th>2</th>\n      <td>no_sm</td>\n      <td>proteoforms</td>\n      <td>1821</td>\n      <td>11984</td>\n      <td>0.84</td>\n      <td>7.85</td>\n      <td>1</td>\n      <td>1696</td>\n    </tr>\n    <tr>\n      <th>3</th>\n      <td>with_sm</td>\n      <td>genes</td>\n      <td>195</td>\n      <td>12692</td>\n      <td>0.98</td>\n      <td>66.32</td>\n      <td>1</td>\n      <td>166</td>\n    </tr>\n    <tr>\n      <th>4</th>\n      <td>with_sm</td>\n      <td>proteins</td>\n      <td>195</td>\n      <td>12790</td>\n      <td>0.98</td>\n      <td>66.83</td>\n      <td>1</td>\n      <td>166</td>\n    </tr>\n    <tr>\n      <th>5</th>\n      <td>with_sm</td>\n      <td>proteoforms</td>\n      <td>205</td>\n      <td>15962</td>\n      <td>0.98</td>\n      <td>79.32</td>\n      <td>1</td>\n      <td>173</td>\n    </tr>\n    <tr>\n      <th>6</th>\n      <td>with_unique_sm</td>\n      <td>genes</td>\n      <td>2427</td>\n      <td>28696</td>\n      <td>0.73</td>\n      <td>16.10</td>\n      <td>1</td>\n      <td>1152</td>\n    </tr>\n    <tr>\n      <th>7</th>\n      <td>with_unique_sm</td>\n      <td>proteins</td>\n      <td>2427</td>\n      <td>28793</td>\n      <td>0.73</td>\n      <td>16.14</td>\n      <td>1</td>\n      <td>1152</td>\n    </tr>\n    <tr>\n      <th>8</th>\n      <td>with_unique_sm</td>\n      <td>proteoforms</td>\n      <td>2465</td>\n      <td>31644</td>\n      <td>0.75</td>\n      <td>17.20</td>\n      <td>1</td>\n      <td>1159</td>\n    </tr>\n  </tbody>\n</table>\n</div>"
     },
     "execution_count": 6,
     "metadata": {},
     "output_type": "execute_result"
    }
   ],
   "source": [
    "# Number of connected components\n",
    "# Size of the largest connected component\n",
    "# Relative size of the largest connected component\n",
    "# Average size of the connected components\n",
    "# Size of the smallest component\n",
    "# Number of isolated nodes\n",
    "\n",
    "def getTuples(i):\n",
    "    ccs_sizes = [len(c) for c in sorted(nx.connected_components(i), key=len, reverse=False)]\n",
    "    num_ccs = len(ccs_sizes)\n",
    "\n",
    "    return (\n",
    "        i.graph[\"method\"],\n",
    "        i.graph[\"level\"],\n",
    "        num_ccs,\n",
    "        ccs_sizes[-1],\n",
    "        ccs_sizes[-1]/i.number_of_nodes(),\n",
    "        sum(ccs_sizes) / len(ccs_sizes),\n",
    "        ccs_sizes[0],\n",
    "        bisect.bisect_left(ccs_sizes, 2, lo=0, hi=len(ccs_sizes))\n",
    "    )\n",
    "\n",
    "data = [getTuples(i) for i in interactomes]\n",
    "columns = [\n",
    "    'Method',\n",
    "    'Level',\n",
    "    'Number of connected components',\n",
    "    'Size of largest connected component',\n",
    "    'Relative size of largest connected component',\n",
    "    'Average size of connected components',\n",
    "    \"Size of smallest connected component\",\n",
    "    \"Number of isolated nodes\"\n",
    "]\n",
    "df_interactomes = pd.DataFrame.from_records(data, columns=columns)\n",
    "df_interactomes"
   ],
   "metadata": {
    "collapsed": false,
    "pycharm": {
     "name": "#%% Create dataframe with values for all interactomes:\n"
    }
   }
  },
  {
   "cell_type": "code",
   "execution_count": 11,
   "outputs": [
    {
     "data": {
      "text/plain": "          Pathway          Method        Level  \\\n0   R-HSA-9613829           no_sm        genes   \n1   R-HSA-9613829           no_sm     proteins   \n2   R-HSA-9613829           no_sm  proteoforms   \n3   R-HSA-9613829         with_sm        genes   \n4   R-HSA-9613829         with_sm     proteins   \n5   R-HSA-9613829         with_sm  proteoforms   \n6   R-HSA-9613829  with_unique_sm        genes   \n7   R-HSA-9613829  with_unique_sm     proteins   \n8   R-HSA-9613829  with_unique_sm  proteoforms   \n9   R-HSA-1632852           no_sm        genes   \n10  R-HSA-1632852           no_sm     proteins   \n11  R-HSA-1632852           no_sm  proteoforms   \n12  R-HSA-1632852         with_sm        genes   \n13  R-HSA-1632852         with_sm     proteins   \n14  R-HSA-1632852         with_sm  proteoforms   \n15  R-HSA-1632852  with_unique_sm        genes   \n16  R-HSA-1632852  with_unique_sm     proteins   \n17  R-HSA-1632852  with_unique_sm  proteoforms   \n18  R-HSA-5205685           no_sm        genes   \n19  R-HSA-5205685           no_sm     proteins   \n20  R-HSA-5205685           no_sm  proteoforms   \n21  R-HSA-5205685         with_sm        genes   \n22  R-HSA-5205685         with_sm     proteins   \n23  R-HSA-5205685         with_sm  proteoforms   \n24  R-HSA-5205685  with_unique_sm        genes   \n25  R-HSA-5205685  with_unique_sm     proteins   \n26  R-HSA-5205685  with_unique_sm  proteoforms   \n27  R-HSA-8934903           no_sm        genes   \n28  R-HSA-8934903           no_sm     proteins   \n29  R-HSA-8934903           no_sm  proteoforms   \n30  R-HSA-8934903         with_sm        genes   \n31  R-HSA-8934903         with_sm     proteins   \n32  R-HSA-8934903         with_sm  proteoforms   \n33  R-HSA-8934903  with_unique_sm        genes   \n34  R-HSA-8934903  with_unique_sm     proteins   \n35  R-HSA-8934903  with_unique_sm  proteoforms   \n36  R-HSA-9613354           no_sm        genes   \n37  R-HSA-9613354           no_sm     proteins   \n38  R-HSA-9613354           no_sm  proteoforms   \n39  R-HSA-9613354         with_sm        genes   \n40  R-HSA-9613354         with_sm     proteins   \n41  R-HSA-9613354         with_sm  proteoforms   \n42  R-HSA-9613354  with_unique_sm        genes   \n43  R-HSA-9613354  with_unique_sm     proteins   \n44  R-HSA-9613354  with_unique_sm  proteoforms   \n\n    Number of connected components  Size of largest connected component  \\\n0                                1                                   21   \n1                                1                                   21   \n2                                1                                   22   \n3                                1                                   22   \n4                                1                                   22   \n5                                1                                   23   \n6                                1                                   25   \n7                                1                                   25   \n8                                1                                   26   \n9                                5                                  102   \n10                               5                                  102   \n11                               6                                  118   \n12                               3                                  114   \n13                               3                                  114   \n14                               4                                  130   \n15                               4                                  169   \n16                               4                                  169   \n17                               5                                  185   \n18                               1                                   22   \n19                               1                                   22   \n20                               1                                   26   \n21                               1                                   22   \n22                               1                                   22   \n23                               1                                   26   \n24                               1                                   22   \n25                               1                                   22   \n26                               1                                   26   \n27                               1                                   11   \n28                               1                                   11   \n29                               1                                   14   \n30                               1                                   13   \n31                               1                                   13   \n32                               1                                   16   \n33                               1                                   17   \n34                               1                                   17   \n35                               1                                   20   \n36                               1                                    9   \n37                               1                                    9   \n38                               1                                   12   \n39                               1                                   12   \n40                               1                                   12   \n41                               1                                   15   \n42                               1                                   13   \n43                               1                                   13   \n44                               1                                   16   \n\n    Relative size of largest connected component  \\\n0                                           1.00   \n1                                           1.00   \n2                                           1.00   \n3                                           1.00   \n4                                           1.00   \n5                                           1.00   \n6                                           1.00   \n7                                           1.00   \n8                                           1.00   \n9                                           0.89   \n10                                          0.89   \n11                                          0.87   \n12                                          0.92   \n13                                          0.92   \n14                                          0.89   \n15                                          0.92   \n16                                          0.92   \n17                                          0.90   \n18                                          1.00   \n19                                          1.00   \n20                                          1.00   \n21                                          1.00   \n22                                          1.00   \n23                                          1.00   \n24                                          1.00   \n25                                          1.00   \n26                                          1.00   \n27                                          1.00   \n28                                          1.00   \n29                                          1.00   \n30                                          1.00   \n31                                          1.00   \n32                                          1.00   \n33                                          1.00   \n34                                          1.00   \n35                                          1.00   \n36                                          1.00   \n37                                          1.00   \n38                                          1.00   \n39                                          1.00   \n40                                          1.00   \n41                                          1.00   \n42                                          1.00   \n43                                          1.00   \n44                                          1.00   \n\n    Average size of connected components  \\\n0                                  21.00   \n1                                  21.00   \n2                                  22.00   \n3                                  22.00   \n4                                  22.00   \n5                                  23.00   \n6                                  25.00   \n7                                  25.00   \n8                                  26.00   \n9                                  22.80   \n10                                 22.80   \n11                                 22.67   \n12                                 41.33   \n13                                 41.33   \n14                                 36.50   \n15                                 45.75   \n16                                 45.75   \n17                                 41.00   \n18                                 22.00   \n19                                 22.00   \n20                                 26.00   \n21                                 22.00   \n22                                 22.00   \n23                                 26.00   \n24                                 22.00   \n25                                 22.00   \n26                                 26.00   \n27                                 11.00   \n28                                 11.00   \n29                                 14.00   \n30                                 13.00   \n31                                 13.00   \n32                                 16.00   \n33                                 17.00   \n34                                 17.00   \n35                                 20.00   \n36                                  9.00   \n37                                  9.00   \n38                                 12.00   \n39                                 12.00   \n40                                 12.00   \n41                                 15.00   \n42                                 13.00   \n43                                 13.00   \n44                                 16.00   \n\n    Size of smallest connected component  Number of isolated nodes  \n0                                     21                         0  \n1                                     21                         0  \n2                                     22                         0  \n3                                     22                         0  \n4                                     22                         0  \n5                                     23                         0  \n6                                     25                         0  \n7                                     25                         0  \n8                                     26                         0  \n9                                      1                         2  \n10                                     1                         2  \n11                                     1                         2  \n12                                     3                         0  \n13                                     3                         0  \n14                                     3                         0  \n15                                     3                         0  \n16                                     3                         0  \n17                                     3                         0  \n18                                    22                         0  \n19                                    22                         0  \n20                                    26                         0  \n21                                    22                         0  \n22                                    22                         0  \n23                                    26                         0  \n24                                    22                         0  \n25                                    22                         0  \n26                                    26                         0  \n27                                    11                         0  \n28                                    11                         0  \n29                                    14                         0  \n30                                    13                         0  \n31                                    13                         0  \n32                                    16                         0  \n33                                    17                         0  \n34                                    17                         0  \n35                                    20                         0  \n36                                     9                         0  \n37                                     9                         0  \n38                                    12                         0  \n39                                    12                         0  \n40                                    12                         0  \n41                                    15                         0  \n42                                    13                         0  \n43                                    13                         0  \n44                                    16                         0  ",
      "text/html": "<div>\n<style scoped>\n    .dataframe tbody tr th:only-of-type {\n        vertical-align: middle;\n    }\n\n    .dataframe tbody tr th {\n        vertical-align: top;\n    }\n\n    .dataframe thead th {\n        text-align: right;\n    }\n</style>\n<table border=\"1\" class=\"dataframe\">\n  <thead>\n    <tr style=\"text-align: right;\">\n      <th></th>\n      <th>Pathway</th>\n      <th>Method</th>\n      <th>Level</th>\n      <th>Number of connected components</th>\n      <th>Size of largest connected component</th>\n      <th>Relative size of largest connected component</th>\n      <th>Average size of connected components</th>\n      <th>Size of smallest connected component</th>\n      <th>Number of isolated nodes</th>\n    </tr>\n  </thead>\n  <tbody>\n    <tr>\n      <th>0</th>\n      <td>R-HSA-9613829</td>\n      <td>no_sm</td>\n      <td>genes</td>\n      <td>1</td>\n      <td>21</td>\n      <td>1.00</td>\n      <td>21.00</td>\n      <td>21</td>\n      <td>0</td>\n    </tr>\n    <tr>\n      <th>1</th>\n      <td>R-HSA-9613829</td>\n      <td>no_sm</td>\n      <td>proteins</td>\n      <td>1</td>\n      <td>21</td>\n      <td>1.00</td>\n      <td>21.00</td>\n      <td>21</td>\n      <td>0</td>\n    </tr>\n    <tr>\n      <th>2</th>\n      <td>R-HSA-9613829</td>\n      <td>no_sm</td>\n      <td>proteoforms</td>\n      <td>1</td>\n      <td>22</td>\n      <td>1.00</td>\n      <td>22.00</td>\n      <td>22</td>\n      <td>0</td>\n    </tr>\n    <tr>\n      <th>3</th>\n      <td>R-HSA-9613829</td>\n      <td>with_sm</td>\n      <td>genes</td>\n      <td>1</td>\n      <td>22</td>\n      <td>1.00</td>\n      <td>22.00</td>\n      <td>22</td>\n      <td>0</td>\n    </tr>\n    <tr>\n      <th>4</th>\n      <td>R-HSA-9613829</td>\n      <td>with_sm</td>\n      <td>proteins</td>\n      <td>1</td>\n      <td>22</td>\n      <td>1.00</td>\n      <td>22.00</td>\n      <td>22</td>\n      <td>0</td>\n    </tr>\n    <tr>\n      <th>5</th>\n      <td>R-HSA-9613829</td>\n      <td>with_sm</td>\n      <td>proteoforms</td>\n      <td>1</td>\n      <td>23</td>\n      <td>1.00</td>\n      <td>23.00</td>\n      <td>23</td>\n      <td>0</td>\n    </tr>\n    <tr>\n      <th>6</th>\n      <td>R-HSA-9613829</td>\n      <td>with_unique_sm</td>\n      <td>genes</td>\n      <td>1</td>\n      <td>25</td>\n      <td>1.00</td>\n      <td>25.00</td>\n      <td>25</td>\n      <td>0</td>\n    </tr>\n    <tr>\n      <th>7</th>\n      <td>R-HSA-9613829</td>\n      <td>with_unique_sm</td>\n      <td>proteins</td>\n      <td>1</td>\n      <td>25</td>\n      <td>1.00</td>\n      <td>25.00</td>\n      <td>25</td>\n      <td>0</td>\n    </tr>\n    <tr>\n      <th>8</th>\n      <td>R-HSA-9613829</td>\n      <td>with_unique_sm</td>\n      <td>proteoforms</td>\n      <td>1</td>\n      <td>26</td>\n      <td>1.00</td>\n      <td>26.00</td>\n      <td>26</td>\n      <td>0</td>\n    </tr>\n    <tr>\n      <th>9</th>\n      <td>R-HSA-1632852</td>\n      <td>no_sm</td>\n      <td>genes</td>\n      <td>5</td>\n      <td>102</td>\n      <td>0.89</td>\n      <td>22.80</td>\n      <td>1</td>\n      <td>2</td>\n    </tr>\n    <tr>\n      <th>10</th>\n      <td>R-HSA-1632852</td>\n      <td>no_sm</td>\n      <td>proteins</td>\n      <td>5</td>\n      <td>102</td>\n      <td>0.89</td>\n      <td>22.80</td>\n      <td>1</td>\n      <td>2</td>\n    </tr>\n    <tr>\n      <th>11</th>\n      <td>R-HSA-1632852</td>\n      <td>no_sm</td>\n      <td>proteoforms</td>\n      <td>6</td>\n      <td>118</td>\n      <td>0.87</td>\n      <td>22.67</td>\n      <td>1</td>\n      <td>2</td>\n    </tr>\n    <tr>\n      <th>12</th>\n      <td>R-HSA-1632852</td>\n      <td>with_sm</td>\n      <td>genes</td>\n      <td>3</td>\n      <td>114</td>\n      <td>0.92</td>\n      <td>41.33</td>\n      <td>3</td>\n      <td>0</td>\n    </tr>\n    <tr>\n      <th>13</th>\n      <td>R-HSA-1632852</td>\n      <td>with_sm</td>\n      <td>proteins</td>\n      <td>3</td>\n      <td>114</td>\n      <td>0.92</td>\n      <td>41.33</td>\n      <td>3</td>\n      <td>0</td>\n    </tr>\n    <tr>\n      <th>14</th>\n      <td>R-HSA-1632852</td>\n      <td>with_sm</td>\n      <td>proteoforms</td>\n      <td>4</td>\n      <td>130</td>\n      <td>0.89</td>\n      <td>36.50</td>\n      <td>3</td>\n      <td>0</td>\n    </tr>\n    <tr>\n      <th>15</th>\n      <td>R-HSA-1632852</td>\n      <td>with_unique_sm</td>\n      <td>genes</td>\n      <td>4</td>\n      <td>169</td>\n      <td>0.92</td>\n      <td>45.75</td>\n      <td>3</td>\n      <td>0</td>\n    </tr>\n    <tr>\n      <th>16</th>\n      <td>R-HSA-1632852</td>\n      <td>with_unique_sm</td>\n      <td>proteins</td>\n      <td>4</td>\n      <td>169</td>\n      <td>0.92</td>\n      <td>45.75</td>\n      <td>3</td>\n      <td>0</td>\n    </tr>\n    <tr>\n      <th>17</th>\n      <td>R-HSA-1632852</td>\n      <td>with_unique_sm</td>\n      <td>proteoforms</td>\n      <td>5</td>\n      <td>185</td>\n      <td>0.90</td>\n      <td>41.00</td>\n      <td>3</td>\n      <td>0</td>\n    </tr>\n    <tr>\n      <th>18</th>\n      <td>R-HSA-5205685</td>\n      <td>no_sm</td>\n      <td>genes</td>\n      <td>1</td>\n      <td>22</td>\n      <td>1.00</td>\n      <td>22.00</td>\n      <td>22</td>\n      <td>0</td>\n    </tr>\n    <tr>\n      <th>19</th>\n      <td>R-HSA-5205685</td>\n      <td>no_sm</td>\n      <td>proteins</td>\n      <td>1</td>\n      <td>22</td>\n      <td>1.00</td>\n      <td>22.00</td>\n      <td>22</td>\n      <td>0</td>\n    </tr>\n    <tr>\n      <th>20</th>\n      <td>R-HSA-5205685</td>\n      <td>no_sm</td>\n      <td>proteoforms</td>\n      <td>1</td>\n      <td>26</td>\n      <td>1.00</td>\n      <td>26.00</td>\n      <td>26</td>\n      <td>0</td>\n    </tr>\n    <tr>\n      <th>21</th>\n      <td>R-HSA-5205685</td>\n      <td>with_sm</td>\n      <td>genes</td>\n      <td>1</td>\n      <td>22</td>\n      <td>1.00</td>\n      <td>22.00</td>\n      <td>22</td>\n      <td>0</td>\n    </tr>\n    <tr>\n      <th>22</th>\n      <td>R-HSA-5205685</td>\n      <td>with_sm</td>\n      <td>proteins</td>\n      <td>1</td>\n      <td>22</td>\n      <td>1.00</td>\n      <td>22.00</td>\n      <td>22</td>\n      <td>0</td>\n    </tr>\n    <tr>\n      <th>23</th>\n      <td>R-HSA-5205685</td>\n      <td>with_sm</td>\n      <td>proteoforms</td>\n      <td>1</td>\n      <td>26</td>\n      <td>1.00</td>\n      <td>26.00</td>\n      <td>26</td>\n      <td>0</td>\n    </tr>\n    <tr>\n      <th>24</th>\n      <td>R-HSA-5205685</td>\n      <td>with_unique_sm</td>\n      <td>genes</td>\n      <td>1</td>\n      <td>22</td>\n      <td>1.00</td>\n      <td>22.00</td>\n      <td>22</td>\n      <td>0</td>\n    </tr>\n    <tr>\n      <th>25</th>\n      <td>R-HSA-5205685</td>\n      <td>with_unique_sm</td>\n      <td>proteins</td>\n      <td>1</td>\n      <td>22</td>\n      <td>1.00</td>\n      <td>22.00</td>\n      <td>22</td>\n      <td>0</td>\n    </tr>\n    <tr>\n      <th>26</th>\n      <td>R-HSA-5205685</td>\n      <td>with_unique_sm</td>\n      <td>proteoforms</td>\n      <td>1</td>\n      <td>26</td>\n      <td>1.00</td>\n      <td>26.00</td>\n      <td>26</td>\n      <td>0</td>\n    </tr>\n    <tr>\n      <th>27</th>\n      <td>R-HSA-8934903</td>\n      <td>no_sm</td>\n      <td>genes</td>\n      <td>1</td>\n      <td>11</td>\n      <td>1.00</td>\n      <td>11.00</td>\n      <td>11</td>\n      <td>0</td>\n    </tr>\n    <tr>\n      <th>28</th>\n      <td>R-HSA-8934903</td>\n      <td>no_sm</td>\n      <td>proteins</td>\n      <td>1</td>\n      <td>11</td>\n      <td>1.00</td>\n      <td>11.00</td>\n      <td>11</td>\n      <td>0</td>\n    </tr>\n    <tr>\n      <th>29</th>\n      <td>R-HSA-8934903</td>\n      <td>no_sm</td>\n      <td>proteoforms</td>\n      <td>1</td>\n      <td>14</td>\n      <td>1.00</td>\n      <td>14.00</td>\n      <td>14</td>\n      <td>0</td>\n    </tr>\n    <tr>\n      <th>30</th>\n      <td>R-HSA-8934903</td>\n      <td>with_sm</td>\n      <td>genes</td>\n      <td>1</td>\n      <td>13</td>\n      <td>1.00</td>\n      <td>13.00</td>\n      <td>13</td>\n      <td>0</td>\n    </tr>\n    <tr>\n      <th>31</th>\n      <td>R-HSA-8934903</td>\n      <td>with_sm</td>\n      <td>proteins</td>\n      <td>1</td>\n      <td>13</td>\n      <td>1.00</td>\n      <td>13.00</td>\n      <td>13</td>\n      <td>0</td>\n    </tr>\n    <tr>\n      <th>32</th>\n      <td>R-HSA-8934903</td>\n      <td>with_sm</td>\n      <td>proteoforms</td>\n      <td>1</td>\n      <td>16</td>\n      <td>1.00</td>\n      <td>16.00</td>\n      <td>16</td>\n      <td>0</td>\n    </tr>\n    <tr>\n      <th>33</th>\n      <td>R-HSA-8934903</td>\n      <td>with_unique_sm</td>\n      <td>genes</td>\n      <td>1</td>\n      <td>17</td>\n      <td>1.00</td>\n      <td>17.00</td>\n      <td>17</td>\n      <td>0</td>\n    </tr>\n    <tr>\n      <th>34</th>\n      <td>R-HSA-8934903</td>\n      <td>with_unique_sm</td>\n      <td>proteins</td>\n      <td>1</td>\n      <td>17</td>\n      <td>1.00</td>\n      <td>17.00</td>\n      <td>17</td>\n      <td>0</td>\n    </tr>\n    <tr>\n      <th>35</th>\n      <td>R-HSA-8934903</td>\n      <td>with_unique_sm</td>\n      <td>proteoforms</td>\n      <td>1</td>\n      <td>20</td>\n      <td>1.00</td>\n      <td>20.00</td>\n      <td>20</td>\n      <td>0</td>\n    </tr>\n    <tr>\n      <th>36</th>\n      <td>R-HSA-9613354</td>\n      <td>no_sm</td>\n      <td>genes</td>\n      <td>1</td>\n      <td>9</td>\n      <td>1.00</td>\n      <td>9.00</td>\n      <td>9</td>\n      <td>0</td>\n    </tr>\n    <tr>\n      <th>37</th>\n      <td>R-HSA-9613354</td>\n      <td>no_sm</td>\n      <td>proteins</td>\n      <td>1</td>\n      <td>9</td>\n      <td>1.00</td>\n      <td>9.00</td>\n      <td>9</td>\n      <td>0</td>\n    </tr>\n    <tr>\n      <th>38</th>\n      <td>R-HSA-9613354</td>\n      <td>no_sm</td>\n      <td>proteoforms</td>\n      <td>1</td>\n      <td>12</td>\n      <td>1.00</td>\n      <td>12.00</td>\n      <td>12</td>\n      <td>0</td>\n    </tr>\n    <tr>\n      <th>39</th>\n      <td>R-HSA-9613354</td>\n      <td>with_sm</td>\n      <td>genes</td>\n      <td>1</td>\n      <td>12</td>\n      <td>1.00</td>\n      <td>12.00</td>\n      <td>12</td>\n      <td>0</td>\n    </tr>\n    <tr>\n      <th>40</th>\n      <td>R-HSA-9613354</td>\n      <td>with_sm</td>\n      <td>proteins</td>\n      <td>1</td>\n      <td>12</td>\n      <td>1.00</td>\n      <td>12.00</td>\n      <td>12</td>\n      <td>0</td>\n    </tr>\n    <tr>\n      <th>41</th>\n      <td>R-HSA-9613354</td>\n      <td>with_sm</td>\n      <td>proteoforms</td>\n      <td>1</td>\n      <td>15</td>\n      <td>1.00</td>\n      <td>15.00</td>\n      <td>15</td>\n      <td>0</td>\n    </tr>\n    <tr>\n      <th>42</th>\n      <td>R-HSA-9613354</td>\n      <td>with_unique_sm</td>\n      <td>genes</td>\n      <td>1</td>\n      <td>13</td>\n      <td>1.00</td>\n      <td>13.00</td>\n      <td>13</td>\n      <td>0</td>\n    </tr>\n    <tr>\n      <th>43</th>\n      <td>R-HSA-9613354</td>\n      <td>with_unique_sm</td>\n      <td>proteins</td>\n      <td>1</td>\n      <td>13</td>\n      <td>1.00</td>\n      <td>13.00</td>\n      <td>13</td>\n      <td>0</td>\n    </tr>\n    <tr>\n      <th>44</th>\n      <td>R-HSA-9613354</td>\n      <td>with_unique_sm</td>\n      <td>proteoforms</td>\n      <td>1</td>\n      <td>16</td>\n      <td>1.00</td>\n      <td>16.00</td>\n      <td>16</td>\n      <td>0</td>\n    </tr>\n  </tbody>\n</table>\n</div>"
     },
     "execution_count": 11,
     "metadata": {},
     "output_type": "execute_result"
    }
   ],
   "source": [
    "from pathlib import Path\n",
    "from config import METHODS, PATHWAY_GRAPHS_PATH\n",
    "from config import LEVELS\n",
    "from lib.networks import get_json_filename, create_pathway_interaction_network, read_graph\n",
    "from lib.graph_database_access import get_pathways\n",
    "\n",
    "def get_pathway_tuples(pathway, pathway_graph):\n",
    "    return (pathway, *getTuples(pathway_graph))\n",
    "\n",
    "data_pathways = []\n",
    "for pathway in get_pathways()[\"stId\"][0:5]:\n",
    "    for method in METHODS:\n",
    "        for level in LEVELS:\n",
    "            filename = get_json_filename(level, method, PATHWAY_GRAPHS_PATH, pathway)\n",
    "            if not Path(filename).exists():\n",
    "                create_pathway_interaction_network(pathway, level, method, PATHWAY_GRAPHS_PATH)\n",
    "            G = read_graph(filename)\n",
    "            data_pathways.append(get_pathway_tuples(pathway, G))\n",
    "\n",
    "df_pathways = pd.DataFrame.from_records(data_pathways, columns=['Pathway',*columns])\n",
    "df_pathways"
   ],
   "metadata": {
    "collapsed": false,
    "pycharm": {
     "name": "#%% Calculate values for each pathway\n"
    }
   }
  },
  {
   "cell_type": "code",
   "execution_count": 8,
   "outputs": [
    {
     "data": {
      "text/plain": "0    R-HSA-9613829\n1    R-HSA-1632852\n2    R-HSA-5205685\n3    R-HSA-8934903\n4    R-HSA-9613354\nName: stId, dtype: object"
     },
     "execution_count": 8,
     "metadata": {},
     "output_type": "execute_result"
    }
   ],
   "source": [
    "\n"
   ],
   "metadata": {
    "collapsed": false,
    "pycharm": {
     "name": "#%% Create sumarized dataframe with average values for all dataframes\n"
    }
   }
  }
 ],
 "metadata": {
  "kernelspec": {
   "display_name": "Python 3",
   "language": "python",
   "name": "python3"
  },
  "language_info": {
   "codemirror_mode": {
    "name": "ipython",
    "version": 2
   },
   "file_extension": ".py",
   "mimetype": "text/x-python",
   "name": "python",
   "nbconvert_exporter": "python",
   "pygments_lexer": "ipython2",
   "version": "2.7.6"
  }
 },
 "nbformat": 4,
 "nbformat_minor": 0
}