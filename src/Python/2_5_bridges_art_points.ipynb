{
 "cells": [
  {
   "cell_type": "markdown",
   "source": [
    "## General network properties: Articulation points and bridges"
   ],
   "metadata": {
    "collapsed": false,
    "pycharm": {
     "name": "#%% md\n"
    }
   }
  },
  {
   "cell_type": "code",
   "execution_count": 43,
   "metadata": {
    "collapsed": false,
    "pycharm": {
     "name": "#%%\n"
    }
   },
   "outputs": [
    {
     "name": "stdout",
     "output_type": "stream",
     "text": [
      "The autoreload extension is already loaded. To reload it, use:\n",
      "  %reload_ext autoreload\n",
      "Initial working directory: C:\\git\\ProteoformNetworks\\src\\Python\n",
      "New working directory: C:\\git\\ProteoformNetworks\n"
     ]
    }
   ],
   "source": [
    "\n",
    "import pandas as pd\n",
    "import seaborn as sns\n",
    "import networkx as nx\n",
    "import dataframe_image as dfi\n",
    "import decimal\n",
    "from statistics import mean\n",
    "\n",
    "import config\n",
    "from config import INTERACTOMES_PATH, DATA_REACTOME_PATH, PATHWAY_GRAPHS_PATH, genes, proteoforms\n",
    "from lib.networks import get_interactomes, get_multiindex, get_combinations, create_pathway_interaction_network, get_combinations_with_pathways\n",
    "\n",
    "%load_ext autoreload\n",
    "%autoreload 2\n",
    "%reload_ext autoreload\n",
    "\n",
    "config.set_root_wd()"
   ]
  },
  {
   "cell_type": "markdown",
   "metadata": {
    "collapsed": false,
    "pycharm": {
     "name": "#%% md\n"
    }
   },
   "source": [
    "## For each interactome"
   ]
  },
  {
   "cell_type": "code",
   "execution_count": 44,
   "metadata": {
    "collapsed": false,
    "pycharm": {
     "name": "#%% Get all interactomes\n"
    }
   },
   "outputs": [
    {
     "name": "stdout",
     "output_type": "stream",
     "text": [
      "Reading participants of all reactions for level genes...\n",
      "Reading participants of all reactions for level proteins...\n",
      "Reading participants of all reactions for level proteoforms...\n",
      "Reading participants of all reactions for level sm...\n",
      "Reading components of all complexes for level genes...\n",
      "Reading components of all complexes for level proteins...\n",
      "Reading components of all complexes for level proteoforms...\n",
      "Reading components of all complexes for level sm...\n",
      "Reading interaction network for  at genes level, method no_sm...\n",
      "Reading interaction network for  at proteins level, method no_sm...\n",
      "Reading interaction network for  at proteoforms level, method no_sm...\n",
      "Reading interaction network for  at genes level, method with_sm...\n",
      "Reading interaction network for  at proteins level, method with_sm...\n",
      "Reading interaction network for  at proteoforms level, method with_sm...\n",
      "Reading interaction network for  at genes level, method with_unique_sm...\n",
      "Reading interaction network for  at proteins level, method with_unique_sm...\n",
      "Reading interaction network for  at proteoforms level, method with_unique_sm...\n"
     ]
    }
   ],
   "source": [
    "index = get_multiindex()\n",
    "interactomes_no_sm, interactomes_with_sm, interactomes_with_unique_sm = get_interactomes(DATA_REACTOME_PATH,\n",
    "                                                                                         INTERACTOMES_PATH)\n",
    "interactomes = [interactomes_no_sm[genes], interactomes_no_sm[proteoforms], interactomes_with_sm[genes],\n",
    "                interactomes_with_sm[proteoforms], interactomes_with_unique_sm[genes],\n",
    "                interactomes_with_unique_sm[proteoforms]]"
   ]
  },
  {
   "cell_type": "markdown",
   "metadata": {
    "pycharm": {
     "name": "#%% md\n"
    }
   },
   "source": [
    "## Create table by interactomes\n"
   ]
  },
  {
   "cell_type": "code",
   "execution_count": 45,
   "metadata": {
    "collapsed": false,
    "pycharm": {
     "name": "#%% Table: Calculate articulation points and bridges for all interactomes\n"
    }
   },
   "outputs": [
    {
     "data": {
      "text/plain": "                                       Art. Points  % Art. Points    AE  % AE  \\\nSmall Molecules          Entity Level                                           \nNot Included             genes                 267           2.43   267  2.43   \n                         proteoforms           351           2.46   351  2.46   \nIncluded                 genes                 244           1.87   143  1.10   \n                         proteoforms           254           1.56   151  0.93   \nReaction-Unique Included genes                2012           4.96  1600  3.94   \n                         proteoforms          2050           4.68  1638  3.74   \n\n                                        SM  % SM  \nSmall Molecules          Entity Level             \nNot Included             genes           0  0.00  \n                         proteoforms     0  0.00  \nIncluded                 genes         101  0.77  \n                         proteoforms   103  0.63  \nReaction-Unique Included genes         412  1.02  \n                         proteoforms   412  0.94  ",
      "text/html": "<div>\n<style scoped>\n    .dataframe tbody tr th:only-of-type {\n        vertical-align: middle;\n    }\n\n    .dataframe tbody tr th {\n        vertical-align: top;\n    }\n\n    .dataframe thead th {\n        text-align: right;\n    }\n</style>\n<table border=\"1\" class=\"dataframe\">\n  <thead>\n    <tr style=\"text-align: right;\">\n      <th></th>\n      <th></th>\n      <th>Art. Points</th>\n      <th>% Art. Points</th>\n      <th>AE</th>\n      <th>% AE</th>\n      <th>SM</th>\n      <th>% SM</th>\n    </tr>\n    <tr>\n      <th>Small Molecules</th>\n      <th>Entity Level</th>\n      <th></th>\n      <th></th>\n      <th></th>\n      <th></th>\n      <th></th>\n      <th></th>\n    </tr>\n  </thead>\n  <tbody>\n    <tr>\n      <th rowspan=\"2\" valign=\"top\">Not Included</th>\n      <th>genes</th>\n      <td>267</td>\n      <td>2.43</td>\n      <td>267</td>\n      <td>2.43</td>\n      <td>0</td>\n      <td>0.00</td>\n    </tr>\n    <tr>\n      <th>proteoforms</th>\n      <td>351</td>\n      <td>2.46</td>\n      <td>351</td>\n      <td>2.46</td>\n      <td>0</td>\n      <td>0.00</td>\n    </tr>\n    <tr>\n      <th rowspan=\"2\" valign=\"top\">Included</th>\n      <th>genes</th>\n      <td>244</td>\n      <td>1.87</td>\n      <td>143</td>\n      <td>1.10</td>\n      <td>101</td>\n      <td>0.77</td>\n    </tr>\n    <tr>\n      <th>proteoforms</th>\n      <td>254</td>\n      <td>1.56</td>\n      <td>151</td>\n      <td>0.93</td>\n      <td>103</td>\n      <td>0.63</td>\n    </tr>\n    <tr>\n      <th rowspan=\"2\" valign=\"top\">Reaction-Unique Included</th>\n      <th>genes</th>\n      <td>2012</td>\n      <td>4.96</td>\n      <td>1600</td>\n      <td>3.94</td>\n      <td>412</td>\n      <td>1.02</td>\n    </tr>\n    <tr>\n      <th>proteoforms</th>\n      <td>2050</td>\n      <td>4.68</td>\n      <td>1638</td>\n      <td>3.74</td>\n      <td>412</td>\n      <td>0.94</td>\n    </tr>\n  </tbody>\n</table>\n</div>"
     },
     "execution_count": 45,
     "metadata": {},
     "output_type": "execute_result"
    }
   ],
   "source": [
    "cols_art_points = [\"Art. Points\", \"% Art. Points\", \"AE\", \"% AE\", \"SM\", \"% SM\", ]\n",
    "cols_bridges = [\"Bridges\", \"% Bridges\", \"% Bridges out of AE\", \"% Bridges out of SM\"]\n",
    "columns = [\n",
    "    *cols_art_points, *cols_bridges\n",
    "]\n",
    "\n",
    "\n",
    "def get_percentage_links_that_are_bridges(g, nodes):\n",
    "    percentage_bridges_from_node = []\n",
    "    for node in nodes:\n",
    "        if len(g.edges(node)) > 0:\n",
    "            num_bridges = sum(g.edges[e]['Bridge'] for e in g.edges(node))\n",
    "            percentage_bridges_from_node.append(num_bridges / len(g.edges(node)))\n",
    "        else:\n",
    "            percentage_bridges_from_node.append(0)\n",
    "    return round(mean(percentage_bridges_from_node) * 100, 2)\n",
    "\n",
    "\n",
    "def get_tuples(i):\n",
    "    percentage_art_points = round(i.graph['Articulation Points'] / i.number_of_nodes() * 100, 2)\n",
    "    num_acc_ent_art_points = sum(\n",
    "        i.nodes[n][\"Articulation Point\"] and not i.nodes[n]['type'].startswith(\"S\") for n in i.nodes)\n",
    "    percentage_acc_ent_art_points = round(num_acc_ent_art_points / i.number_of_nodes() * 100, 2)\n",
    "    num_sm_art_points = sum(i.nodes[n][\"Articulation Point\"] and i.nodes[n]['type'].startswith(\"S\") for n in i.nodes)\n",
    "    percentage_sm_art_points = 0\n",
    "    if i.graph['num_small_molecules'] > 0:\n",
    "        percentage_sm_art_points = round(num_sm_art_points / i.number_of_nodes() * 100, 2)\n",
    "    assert i.graph['Articulation Points'] == num_acc_ent_art_points + num_sm_art_points\n",
    "\n",
    "    percentage_bridges = round(decimal.Decimal(i.graph[\"Bridges\"]) / i.number_of_edges() * 100, 2)\n",
    "    acc_ents = list(i.nodes)\n",
    "    percentage_from_sms = 0\n",
    "    if i.graph['num_small_molecules'] > 0:\n",
    "        acc_ents = [n for n in i.nodes if not i.nodes[n]['type'].startswith(\"S\")]\n",
    "        sms = [n for n in i.nodes if i.nodes[n]['type'].startswith(\"S\")]\n",
    "        percentage_from_sms = get_percentage_links_that_are_bridges(i, sms)\n",
    "    percentage_from_acc_ents = get_percentage_links_that_are_bridges(i, acc_ents)\n",
    "\n",
    "    return (\n",
    "        i.graph['Articulation Points'],\n",
    "        percentage_art_points,\n",
    "        num_acc_ent_art_points,\n",
    "        percentage_acc_ent_art_points,\n",
    "        num_sm_art_points,\n",
    "        percentage_sm_art_points,\n",
    "        i.graph[\"Bridges\"],\n",
    "        percentage_bridges,\n",
    "        percentage_from_acc_ents,\n",
    "        percentage_from_sms\n",
    "    )\n",
    "\n",
    "\n",
    "df_br_ap = pd.DataFrame([get_tuples(interactome) for interactome in interactomes],\n",
    "                        columns=columns,\n",
    "                        index=index)\n",
    "dfi.export(df_br_ap[cols_art_points], 'figures/table_interactomes_art_points.png')\n",
    "df_br_ap[cols_art_points]"
   ]
  },
  {
   "cell_type": "code",
   "execution_count": 46,
   "outputs": [
    {
     "data": {
      "text/plain": "                                       Bridges % Bridges  % Bridges out of AE  \\\nSmall Molecules          Entity Level                                           \nNot Included             genes             511      0.14                 5.41   \n                         proteoforms       582      0.10                 4.81   \nIncluded                 genes             523      0.12                 4.49   \n                         proteoforms       527      0.08                 3.52   \nReaction-Unique Included genes            3444      0.43                 5.87   \n                         proteoforms      3356      0.32                 4.63   \n\n                                       % Bridges out of SM  \nSmall Molecules          Entity Level                       \nNot Included             genes                        0.00  \n                         proteoforms                  0.00  \nIncluded                 genes                        3.53  \n                         proteoforms                  3.55  \nReaction-Unique Included genes                       11.07  \n                         proteoforms                 10.79  ",
      "text/html": "<div>\n<style scoped>\n    .dataframe tbody tr th:only-of-type {\n        vertical-align: middle;\n    }\n\n    .dataframe tbody tr th {\n        vertical-align: top;\n    }\n\n    .dataframe thead th {\n        text-align: right;\n    }\n</style>\n<table border=\"1\" class=\"dataframe\">\n  <thead>\n    <tr style=\"text-align: right;\">\n      <th></th>\n      <th></th>\n      <th>Bridges</th>\n      <th>% Bridges</th>\n      <th>% Bridges out of AE</th>\n      <th>% Bridges out of SM</th>\n    </tr>\n    <tr>\n      <th>Small Molecules</th>\n      <th>Entity Level</th>\n      <th></th>\n      <th></th>\n      <th></th>\n      <th></th>\n    </tr>\n  </thead>\n  <tbody>\n    <tr>\n      <th rowspan=\"2\" valign=\"top\">Not Included</th>\n      <th>genes</th>\n      <td>511</td>\n      <td>0.14</td>\n      <td>5.41</td>\n      <td>0.00</td>\n    </tr>\n    <tr>\n      <th>proteoforms</th>\n      <td>582</td>\n      <td>0.10</td>\n      <td>4.81</td>\n      <td>0.00</td>\n    </tr>\n    <tr>\n      <th rowspan=\"2\" valign=\"top\">Included</th>\n      <th>genes</th>\n      <td>523</td>\n      <td>0.12</td>\n      <td>4.49</td>\n      <td>3.53</td>\n    </tr>\n    <tr>\n      <th>proteoforms</th>\n      <td>527</td>\n      <td>0.08</td>\n      <td>3.52</td>\n      <td>3.55</td>\n    </tr>\n    <tr>\n      <th rowspan=\"2\" valign=\"top\">Reaction-Unique Included</th>\n      <th>genes</th>\n      <td>3444</td>\n      <td>0.43</td>\n      <td>5.87</td>\n      <td>11.07</td>\n    </tr>\n    <tr>\n      <th>proteoforms</th>\n      <td>3356</td>\n      <td>0.32</td>\n      <td>4.63</td>\n      <td>10.79</td>\n    </tr>\n  </tbody>\n</table>\n</div>"
     },
     "execution_count": 46,
     "metadata": {},
     "output_type": "execute_result"
    }
   ],
   "source": [
    "dfi.export(df_br_ap[cols_bridges], 'figures/table_interactomes_bridges.png')\n",
    "df_br_ap[cols_bridges]"
   ],
   "metadata": {
    "collapsed": false,
    "pycharm": {
     "name": "#%%\n"
    }
   }
  },
  {
   "cell_type": "code",
   "execution_count": 47,
   "metadata": {
    "collapsed": false,
    "pycharm": {
     "name": "#%% Figure: Bar plot percentage of nodes that are articulation points in each interactome\n"
    }
   },
   "outputs": [
    {
     "data": {
      "text/plain": "            Small Molecules Entity Level           Bottleneck Percentage\n0              Not Included        genes  Articulation Points       2.43\n1              Not Included  proteoforms  Articulation Points       2.46\n2                  Included        genes  Articulation Points       1.87\n3                  Included  proteoforms  Articulation Points       1.56\n4  Reaction-Unique Included        genes  Articulation Points       4.96\n5  Reaction-Unique Included  proteoforms  Articulation Points       4.68\n0              Not Included        genes              Bridges       0.14\n1              Not Included  proteoforms              Bridges       0.10\n2                  Included        genes              Bridges       0.12\n3                  Included  proteoforms              Bridges       0.08\n4  Reaction-Unique Included        genes              Bridges       0.43\n5  Reaction-Unique Included  proteoforms              Bridges       0.32",
      "text/html": "<div>\n<style scoped>\n    .dataframe tbody tr th:only-of-type {\n        vertical-align: middle;\n    }\n\n    .dataframe tbody tr th {\n        vertical-align: top;\n    }\n\n    .dataframe thead th {\n        text-align: right;\n    }\n</style>\n<table border=\"1\" class=\"dataframe\">\n  <thead>\n    <tr style=\"text-align: right;\">\n      <th></th>\n      <th>Small Molecules</th>\n      <th>Entity Level</th>\n      <th>Bottleneck</th>\n      <th>Percentage</th>\n    </tr>\n  </thead>\n  <tbody>\n    <tr>\n      <th>0</th>\n      <td>Not Included</td>\n      <td>genes</td>\n      <td>Articulation Points</td>\n      <td>2.43</td>\n    </tr>\n    <tr>\n      <th>1</th>\n      <td>Not Included</td>\n      <td>proteoforms</td>\n      <td>Articulation Points</td>\n      <td>2.46</td>\n    </tr>\n    <tr>\n      <th>2</th>\n      <td>Included</td>\n      <td>genes</td>\n      <td>Articulation Points</td>\n      <td>1.87</td>\n    </tr>\n    <tr>\n      <th>3</th>\n      <td>Included</td>\n      <td>proteoforms</td>\n      <td>Articulation Points</td>\n      <td>1.56</td>\n    </tr>\n    <tr>\n      <th>4</th>\n      <td>Reaction-Unique Included</td>\n      <td>genes</td>\n      <td>Articulation Points</td>\n      <td>4.96</td>\n    </tr>\n    <tr>\n      <th>5</th>\n      <td>Reaction-Unique Included</td>\n      <td>proteoforms</td>\n      <td>Articulation Points</td>\n      <td>4.68</td>\n    </tr>\n    <tr>\n      <th>0</th>\n      <td>Not Included</td>\n      <td>genes</td>\n      <td>Bridges</td>\n      <td>0.14</td>\n    </tr>\n    <tr>\n      <th>1</th>\n      <td>Not Included</td>\n      <td>proteoforms</td>\n      <td>Bridges</td>\n      <td>0.10</td>\n    </tr>\n    <tr>\n      <th>2</th>\n      <td>Included</td>\n      <td>genes</td>\n      <td>Bridges</td>\n      <td>0.12</td>\n    </tr>\n    <tr>\n      <th>3</th>\n      <td>Included</td>\n      <td>proteoforms</td>\n      <td>Bridges</td>\n      <td>0.08</td>\n    </tr>\n    <tr>\n      <th>4</th>\n      <td>Reaction-Unique Included</td>\n      <td>genes</td>\n      <td>Bridges</td>\n      <td>0.43</td>\n    </tr>\n    <tr>\n      <th>5</th>\n      <td>Reaction-Unique Included</td>\n      <td>proteoforms</td>\n      <td>Bridges</td>\n      <td>0.32</td>\n    </tr>\n  </tbody>\n</table>\n</div>"
     },
     "execution_count": 47,
     "metadata": {},
     "output_type": "execute_result"
    }
   ],
   "source": [
    "data = {\n",
    "    \"Bottleneck\": [\"Articulation Points\"] * 6,\n",
    "    \"Percentage\": df_br_ap[\"% Art. Points\"]\n",
    "}\n",
    "df_art_points = pd.DataFrame(data)\n",
    "df_art_points.reset_index(inplace=True)\n",
    "\n",
    "data = {\n",
    "    \"Bottleneck\": [\"Bridges\"] * 6,\n",
    "    \"Percentage\": df_br_ap[\"% Bridges\"]\n",
    "}\n",
    "df_bridges = pd.DataFrame(data)\n",
    "df_bridges.reset_index(inplace=True)\n",
    "\n",
    "data_br_ap = pd.concat([df_art_points, df_bridges])\n",
    "data_br_ap"
   ]
  },
  {
   "cell_type": "code",
   "execution_count": 48,
   "metadata": {
    "collapsed": false,
    "pycharm": {
     "name": "#%%\n"
    }
   },
   "outputs": [
    {
     "data": {
      "text/plain": "<seaborn.axisgrid.FacetGrid at 0x268bd47e1d0>"
     },
     "execution_count": 48,
     "metadata": {},
     "output_type": "execute_result"
    },
    {
     "data": {
      "text/plain": "<Figure size 1015.38x432 with 2 Axes>",
      "image/png": "[encoded data removed]"
     },
     "metadata": {},
     "output_type": "display_data"
    }
   ],
   "source": [
    "sns.set_style(\"dark\")\n",
    "f = sns.catplot(x=\"Entity Level\",\n",
    "                y=\"Percentage\",\n",
    "                hue=\"Small Molecules\",\n",
    "                col=\"Bottleneck\",\n",
    "                data=data_br_ap,\n",
    "                kind=\"bar\",\n",
    "                height=6, aspect=1, sharey=False)\n",
    "f.set_titles(\"{col_name}\")"
   ]
  },
  {
   "cell_type": "markdown",
   "metadata": {
    "collapsed": false,
    "pycharm": {
     "name": "#%% md\n"
    }
   },
   "source": [
    "## For each pathway"
   ]
  },
  {
   "cell_type": "code",
   "execution_count": 49,
   "metadata": {
    "collapsed": false,
    "pycharm": {
     "name": "#%% Calculate the number of articulation points and bridges for each pathway\n"
    }
   },
   "outputs": [
    {
     "name": "stdout",
     "output_type": "stream",
     "text": [
      "There are 1119 pathways with proteoforms with annotations.\n"
     ]
    },
    {
     "data": {
      "text/plain": "            Pathway\n1103  R-HSA-1059683\n502    R-HSA-109704\n653    R-HSA-110056\n1070   R-HSA-110312\n577    R-HSA-110314\n...             ...\n304    R-HSA-977347\n445    R-HSA-977606\n187    R-HSA-982772\n404    R-HSA-983231\n1044   R-HSA-983695\n\n[1119 rows x 1 columns]",
      "text/html": "<div>\n<style scoped>\n    .dataframe tbody tr th:only-of-type {\n        vertical-align: middle;\n    }\n\n    .dataframe tbody tr th {\n        vertical-align: top;\n    }\n\n    .dataframe thead th {\n        text-align: right;\n    }\n</style>\n<table border=\"1\" class=\"dataframe\">\n  <thead>\n    <tr style=\"text-align: right;\">\n      <th></th>\n      <th>Pathway</th>\n    </tr>\n  </thead>\n  <tbody>\n    <tr>\n      <th>1103</th>\n      <td>R-HSA-1059683</td>\n    </tr>\n    <tr>\n      <th>502</th>\n      <td>R-HSA-109704</td>\n    </tr>\n    <tr>\n      <th>653</th>\n      <td>R-HSA-110056</td>\n    </tr>\n    <tr>\n      <th>1070</th>\n      <td>R-HSA-110312</td>\n    </tr>\n    <tr>\n      <th>577</th>\n      <td>R-HSA-110314</td>\n    </tr>\n    <tr>\n      <th>...</th>\n      <td>...</td>\n    </tr>\n    <tr>\n      <th>304</th>\n      <td>R-HSA-977347</td>\n    </tr>\n    <tr>\n      <th>445</th>\n      <td>R-HSA-977606</td>\n    </tr>\n    <tr>\n      <th>187</th>\n      <td>R-HSA-982772</td>\n    </tr>\n    <tr>\n      <th>404</th>\n      <td>R-HSA-983231</td>\n    </tr>\n    <tr>\n      <th>1044</th>\n      <td>R-HSA-983695</td>\n    </tr>\n  </tbody>\n</table>\n<p>1119 rows × 1 columns</p>\n</div>"
     },
     "execution_count": 49,
     "metadata": {},
     "output_type": "execute_result"
    }
   ],
   "source": [
    "proteoforms_no_annotations = [node for node in interactomes_no_sm['proteoforms'].nodes if not any((c in {':', '-'}) for c in str(node))]\n",
    "proteoforms_with_annotations = [node for node in interactomes_no_sm['proteoforms'].nodes if any((c in {':', '-'}) for c in str(node))]\n",
    "\n",
    "pathways_map = nx.get_node_attributes(interactomes_no_sm[proteoforms], \"pathways\")\n",
    "selected_pathways = set()\n",
    "\n",
    "for proteoform in proteoforms_with_annotations:\n",
    "    for pathway in pathways_map[proteoform]:\n",
    "        selected_pathways.add(pathway)\n",
    "print(f\"There are {len(selected_pathways)} pathways with proteoforms with annotations.\")\n",
    "df_selected_pathways = pd.DataFrame(selected_pathways, columns=[\"Pathway\"])\n",
    "df_selected_pathways.sort_values(by=[\"Pathway\"], inplace=True)\n",
    "df_selected_pathways"
   ]
  },
  {
   "cell_type": "code",
   "execution_count": 50,
   "metadata": {
    "collapsed": false,
    "pycharm": {
     "name": "#%%\n"
    }
   },
   "outputs": [
    {
     "data": {
      "text/plain": "     Small Molecules Entity Level        Pathway  Art. Points  % Art. Points  \\\n0              no_sm        genes  R-HSA-1059683            0           0.00   \n1              no_sm        genes   R-HSA-109704            0           0.00   \n2              no_sm        genes   R-HSA-110056            1          10.00   \n3              no_sm        genes   R-HSA-110312            0           0.00   \n4              no_sm        genes   R-HSA-110314            0           0.00   \n...              ...          ...            ...          ...            ...   \n6709  with_unique_sm  proteoforms   R-HSA-977347            4          10.26   \n6710  with_unique_sm  proteoforms   R-HSA-977606            3           2.00   \n6711  with_unique_sm  proteoforms   R-HSA-982772            1           1.85   \n6712  with_unique_sm  proteoforms   R-HSA-983231            4           2.35   \n6713  with_unique_sm  proteoforms   R-HSA-983695            7           4.55   \n\n      AE  % AE  SM  % SM  Bridges % Bridges  % Bridges out of AE  \\\n0      0  0.00   0  0.00        0      0.00                 0.00   \n1      0  0.00   0  0.00        0      0.00                 0.00   \n2      1 10.00   0  0.00        1      0.03                11.11   \n3      0  0.00   0  0.00        0      0.00                 0.00   \n4      0  0.00   0  0.00        0      0.00                 0.00   \n...   ..   ...  ..   ...      ...       ...                  ...   \n6709   2  5.13   2  5.13       10      0.20                60.85   \n6710   3  2.00   0  0.00        5      0.00                 3.04   \n6711   1  1.85   0  0.00        1      0.00                 2.96   \n6712   4  2.35   0  0.00        2      0.00                 1.60   \n6713   4  2.60   3  1.95        8      0.00                 1.19   \n\n      % Bridges out of SM  \n0                    0.00  \n1                    0.00  \n2                    0.00  \n3                    0.00  \n4                    0.00  \n...                   ...  \n6709                20.00  \n6710                10.00  \n6711                 0.00  \n6712                 4.17  \n6713                17.50  \n\n[6714 rows x 13 columns]",
      "text/html": "<div>\n<style scoped>\n    .dataframe tbody tr th:only-of-type {\n        vertical-align: middle;\n    }\n\n    .dataframe tbody tr th {\n        vertical-align: top;\n    }\n\n    .dataframe thead th {\n        text-align: right;\n    }\n</style>\n<table border=\"1\" class=\"dataframe\">\n  <thead>\n    <tr style=\"text-align: right;\">\n      <th></th>\n      <th>Small Molecules</th>\n      <th>Entity Level</th>\n      <th>Pathway</th>\n      <th>Art. Points</th>\n      <th>% Art. Points</th>\n      <th>AE</th>\n      <th>% AE</th>\n      <th>SM</th>\n      <th>% SM</th>\n      <th>Bridges</th>\n      <th>% Bridges</th>\n      <th>% Bridges out of AE</th>\n      <th>% Bridges out of SM</th>\n    </tr>\n  </thead>\n  <tbody>\n    <tr>\n      <th>0</th>\n      <td>no_sm</td>\n      <td>genes</td>\n      <td>R-HSA-1059683</td>\n      <td>0</td>\n      <td>0.00</td>\n      <td>0</td>\n      <td>0.00</td>\n      <td>0</td>\n      <td>0.00</td>\n      <td>0</td>\n      <td>0.00</td>\n      <td>0.00</td>\n      <td>0.00</td>\n    </tr>\n    <tr>\n      <th>1</th>\n      <td>no_sm</td>\n      <td>genes</td>\n      <td>R-HSA-109704</td>\n      <td>0</td>\n      <td>0.00</td>\n      <td>0</td>\n      <td>0.00</td>\n      <td>0</td>\n      <td>0.00</td>\n      <td>0</td>\n      <td>0.00</td>\n      <td>0.00</td>\n      <td>0.00</td>\n    </tr>\n    <tr>\n      <th>2</th>\n      <td>no_sm</td>\n      <td>genes</td>\n      <td>R-HSA-110056</td>\n      <td>1</td>\n      <td>10.00</td>\n      <td>1</td>\n      <td>10.00</td>\n      <td>0</td>\n      <td>0.00</td>\n      <td>1</td>\n      <td>0.03</td>\n      <td>11.11</td>\n      <td>0.00</td>\n    </tr>\n    <tr>\n      <th>3</th>\n      <td>no_sm</td>\n      <td>genes</td>\n      <td>R-HSA-110312</td>\n      <td>0</td>\n      <td>0.00</td>\n      <td>0</td>\n      <td>0.00</td>\n      <td>0</td>\n      <td>0.00</td>\n      <td>0</td>\n      <td>0.00</td>\n      <td>0.00</td>\n      <td>0.00</td>\n    </tr>\n    <tr>\n      <th>4</th>\n      <td>no_sm</td>\n      <td>genes</td>\n      <td>R-HSA-110314</td>\n      <td>0</td>\n      <td>0.00</td>\n      <td>0</td>\n      <td>0.00</td>\n      <td>0</td>\n      <td>0.00</td>\n      <td>0</td>\n      <td>0.00</td>\n      <td>0.00</td>\n      <td>0.00</td>\n    </tr>\n    <tr>\n      <th>...</th>\n      <td>...</td>\n      <td>...</td>\n      <td>...</td>\n      <td>...</td>\n      <td>...</td>\n      <td>...</td>\n      <td>...</td>\n      <td>...</td>\n      <td>...</td>\n      <td>...</td>\n      <td>...</td>\n      <td>...</td>\n      <td>...</td>\n    </tr>\n    <tr>\n      <th>6709</th>\n      <td>with_unique_sm</td>\n      <td>proteoforms</td>\n      <td>R-HSA-977347</td>\n      <td>4</td>\n      <td>10.26</td>\n      <td>2</td>\n      <td>5.13</td>\n      <td>2</td>\n      <td>5.13</td>\n      <td>10</td>\n      <td>0.20</td>\n      <td>60.85</td>\n      <td>20.00</td>\n    </tr>\n    <tr>\n      <th>6710</th>\n      <td>with_unique_sm</td>\n      <td>proteoforms</td>\n      <td>R-HSA-977606</td>\n      <td>3</td>\n      <td>2.00</td>\n      <td>3</td>\n      <td>2.00</td>\n      <td>0</td>\n      <td>0.00</td>\n      <td>5</td>\n      <td>0.00</td>\n      <td>3.04</td>\n      <td>10.00</td>\n    </tr>\n    <tr>\n      <th>6711</th>\n      <td>with_unique_sm</td>\n      <td>proteoforms</td>\n      <td>R-HSA-982772</td>\n      <td>1</td>\n      <td>1.85</td>\n      <td>1</td>\n      <td>1.85</td>\n      <td>0</td>\n      <td>0.00</td>\n      <td>1</td>\n      <td>0.00</td>\n      <td>2.96</td>\n      <td>0.00</td>\n    </tr>\n    <tr>\n      <th>6712</th>\n      <td>with_unique_sm</td>\n      <td>proteoforms</td>\n      <td>R-HSA-983231</td>\n      <td>4</td>\n      <td>2.35</td>\n      <td>4</td>\n      <td>2.35</td>\n      <td>0</td>\n      <td>0.00</td>\n      <td>2</td>\n      <td>0.00</td>\n      <td>1.60</td>\n      <td>4.17</td>\n    </tr>\n    <tr>\n      <th>6713</th>\n      <td>with_unique_sm</td>\n      <td>proteoforms</td>\n      <td>R-HSA-983695</td>\n      <td>7</td>\n      <td>4.55</td>\n      <td>4</td>\n      <td>2.60</td>\n      <td>3</td>\n      <td>1.95</td>\n      <td>8</td>\n      <td>0.00</td>\n      <td>1.19</td>\n      <td>17.50</td>\n    </tr>\n  </tbody>\n</table>\n<p>6714 rows × 13 columns</p>\n</div>"
     },
     "execution_count": 50,
     "metadata": {},
     "output_type": "execute_result"
    }
   ],
   "source": [
    "def get_tuples(combination):\n",
    "    g = create_pathway_interaction_network(\n",
    "        method=combination[0], level=combination[1], pathway=combination[2], out_path=PATHWAY_GRAPHS_PATH\n",
    "    )\n",
    "\n",
    "    percentage_art_points = round(g.graph['Articulation Points'] / g.number_of_nodes() * 100, 2)\n",
    "    num_acc_ent_art_points = sum(g.nodes[n][\"Articulation Point\"] and not g.nodes[n]['type'].startswith(\"S\") for n in g.nodes)\n",
    "    percentage_acc_ent_art_points = round(num_acc_ent_art_points / g.number_of_nodes() * 100, 2)\n",
    "    num_sm_art_points = sum(g.nodes[n][\"Articulation Point\"] and g.nodes[n]['type'].startswith(\"S\") for n in g.nodes)\n",
    "    percentage_sm_art_points = 0\n",
    "    if g.graph['num_small_molecules'] > 0:\n",
    "        percentage_sm_art_points = round(num_sm_art_points / g.number_of_nodes() * 100, 2)\n",
    "    assert g.graph['Articulation Points'] == num_acc_ent_art_points + num_sm_art_points\n",
    "\n",
    "    percentage_bridges = 0\n",
    "    if g.number_of_edges() > 0:\n",
    "        percentage_bridges = round(decimal.Decimal(g.graph[\"Bridges\"]) / g.number_of_edges(), 2)\n",
    "    acc_ents = list(g.nodes)\n",
    "    percentage_from_sms = 0\n",
    "    if g.graph['num_small_molecules'] > 0:\n",
    "        acc_ents = [n for n in g.nodes if not g.nodes[n]['type'].startswith(\"Simple\")]\n",
    "        sms = [n for n in g.nodes if g.nodes[n]['type'].startswith(\"Simple\")]\n",
    "        percentage_from_sms = get_percentage_links_that_are_bridges(g, sms)\n",
    "    percentage_from_acc_ents = get_percentage_links_that_are_bridges(g, acc_ents)\n",
    "\n",
    "    return (\n",
    "        combination[0], combination[1], combination[2],\n",
    "        g.graph['Articulation Points'], percentage_art_points, num_acc_ent_art_points, percentage_acc_ent_art_points, num_sm_art_points, percentage_sm_art_points,\n",
    "        g.graph[\"Bridges\"], percentage_bridges, percentage_from_acc_ents, percentage_from_sms\n",
    "    )\n",
    "columns = [ \"Small Molecules\", \"Entity Level\", \"Pathway\", *cols_art_points, *cols_bridges]\n",
    "df_br_ap_pathways = pd.DataFrame([get_tuples(combination) for combination in get_combinations_with_pathways(df_selected_pathways[\"Pathway\"])], columns=columns)\n",
    "df_br_ap_pathways"
   ]
  },
  {
   "cell_type": "code",
   "execution_count": 51,
   "metadata": {
    "collapsed": false,
    "pycharm": {
     "name": "#%%\n"
    }
   },
   "outputs": [
    {
     "data": {
      "text/plain": "Small Molecules         object\nEntity Level            object\nPathway                 object\nArt. Points              int64\n% Art. Points          float64\nAE                       int64\n% AE                   float64\nSM                       int64\n% SM                   float64\nBridges                  int64\n% Bridges               object\n% Bridges out of AE    float64\n% Bridges out of SM    float64\ndtype: object"
     },
     "execution_count": 51,
     "metadata": {},
     "output_type": "execute_result"
    }
   ],
   "source": [
    "df_br_ap_pathways.dtypes"
   ]
  },
  {
   "cell_type": "code",
   "execution_count": 52,
   "metadata": {
    "collapsed": false,
    "pycharm": {
     "name": "#%%\n"
    }
   },
   "outputs": [
    {
     "data": {
      "text/plain": "                                       Art. Points  % Art. Points   AE  % AE  \\\nSmall Molecules          Entity Level                                          \nNot Included             genes                0.74           3.03 0.74  3.03   \n                         proteoforms          1.02           3.92 1.02  3.92   \nIncluded                 genes                0.86           2.86 0.58  2.05   \n                         proteoforms          0.91           2.65 0.62  1.88   \nReaction-Unique Included genes                1.67           3.68 1.45  3.31   \n                         proteoforms          1.71           3.42 1.49  3.06   \n\n                                        SM  % SM  Bridges  % Bridges  \\\nSmall Molecules          Entity Level                                  \nNot Included             genes        0.00  0.00     2.03       0.10   \n                         proteoforms  0.00  0.00     2.28       0.10   \nIncluded                 genes        0.28  0.80     1.43       0.04   \n                         proteoforms  0.29  0.78     1.42       0.03   \nReaction-Unique Included genes        0.23  0.37     3.17       0.05   \n                         proteoforms  0.23  0.36     3.08       0.04   \n\n                                       % Bridges out of AE  \\\nSmall Molecules          Entity Level                        \nNot Included             genes                       10.94   \n                         proteoforms                 11.14   \nIncluded                 genes                        6.66   \n                         proteoforms                  5.43   \nReaction-Unique Included genes                        7.72   \n                         proteoforms                  6.37   \n\n                                       % Bridges out of SM  \nSmall Molecules          Entity Level                       \nNot Included             genes                        0.00  \n                         proteoforms                  0.00  \nIncluded                 genes                        2.74  \n                         proteoforms                  2.38  \nReaction-Unique Included genes                        7.45  \n                         proteoforms                  6.91  ",
      "text/html": "<div>\n<style scoped>\n    .dataframe tbody tr th:only-of-type {\n        vertical-align: middle;\n    }\n\n    .dataframe tbody tr th {\n        vertical-align: top;\n    }\n\n    .dataframe thead th {\n        text-align: right;\n    }\n</style>\n<table border=\"1\" class=\"dataframe\">\n  <thead>\n    <tr style=\"text-align: right;\">\n      <th></th>\n      <th></th>\n      <th>Art. Points</th>\n      <th>% Art. Points</th>\n      <th>AE</th>\n      <th>% AE</th>\n      <th>SM</th>\n      <th>% SM</th>\n      <th>Bridges</th>\n      <th>% Bridges</th>\n      <th>% Bridges out of AE</th>\n      <th>% Bridges out of SM</th>\n    </tr>\n    <tr>\n      <th>Small Molecules</th>\n      <th>Entity Level</th>\n      <th></th>\n      <th></th>\n      <th></th>\n      <th></th>\n      <th></th>\n      <th></th>\n      <th></th>\n      <th></th>\n      <th></th>\n      <th></th>\n    </tr>\n  </thead>\n  <tbody>\n    <tr>\n      <th rowspan=\"2\" valign=\"top\">Not Included</th>\n      <th>genes</th>\n      <td>0.74</td>\n      <td>3.03</td>\n      <td>0.74</td>\n      <td>3.03</td>\n      <td>0.00</td>\n      <td>0.00</td>\n      <td>2.03</td>\n      <td>0.10</td>\n      <td>10.94</td>\n      <td>0.00</td>\n    </tr>\n    <tr>\n      <th>proteoforms</th>\n      <td>1.02</td>\n      <td>3.92</td>\n      <td>1.02</td>\n      <td>3.92</td>\n      <td>0.00</td>\n      <td>0.00</td>\n      <td>2.28</td>\n      <td>0.10</td>\n      <td>11.14</td>\n      <td>0.00</td>\n    </tr>\n    <tr>\n      <th rowspan=\"2\" valign=\"top\">Included</th>\n      <th>genes</th>\n      <td>0.86</td>\n      <td>2.86</td>\n      <td>0.58</td>\n      <td>2.05</td>\n      <td>0.28</td>\n      <td>0.80</td>\n      <td>1.43</td>\n      <td>0.04</td>\n      <td>6.66</td>\n      <td>2.74</td>\n    </tr>\n    <tr>\n      <th>proteoforms</th>\n      <td>0.91</td>\n      <td>2.65</td>\n      <td>0.62</td>\n      <td>1.88</td>\n      <td>0.29</td>\n      <td>0.78</td>\n      <td>1.42</td>\n      <td>0.03</td>\n      <td>5.43</td>\n      <td>2.38</td>\n    </tr>\n    <tr>\n      <th rowspan=\"2\" valign=\"top\">Reaction-Unique Included</th>\n      <th>genes</th>\n      <td>1.67</td>\n      <td>3.68</td>\n      <td>1.45</td>\n      <td>3.31</td>\n      <td>0.23</td>\n      <td>0.37</td>\n      <td>3.17</td>\n      <td>0.05</td>\n      <td>7.72</td>\n      <td>7.45</td>\n    </tr>\n    <tr>\n      <th>proteoforms</th>\n      <td>1.71</td>\n      <td>3.42</td>\n      <td>1.49</td>\n      <td>3.06</td>\n      <td>0.23</td>\n      <td>0.36</td>\n      <td>3.08</td>\n      <td>0.04</td>\n      <td>6.37</td>\n      <td>6.91</td>\n    </tr>\n  </tbody>\n</table>\n</div>"
     },
     "execution_count": 52,
     "metadata": {},
     "output_type": "execute_result"
    }
   ],
   "source": [
    "df_pathways_grouped = df_br_ap_pathways.groupby(['Small Molecules', 'Entity Level']).agg(\n",
    "    {\n",
    "        \"Art. Points\": ['mean'],\n",
    "        \"% Art. Points\": ['mean'],\n",
    "        \"AE\": ['mean'],\n",
    "        \"% AE\": ['mean'],\n",
    "        \"SM\": ['mean'],\n",
    "        \"% SM\": ['mean'],\n",
    "        \"Bridges\": ['mean'],\n",
    "        \"% Bridges\": ['mean'],\n",
    "        \"% Bridges out of AE\": ['mean'],\n",
    "        \"% Bridges out of SM\": ['mean']\n",
    "    })\n",
    "df_pathways_grouped.columns = [ *cols_art_points, *cols_bridges]\n",
    "df_pathways_grouped = df_pathways_grouped.set_index(get_multiindex())\n",
    "df_pathways_grouped"
   ]
  },
  {
   "cell_type": "code",
   "execution_count": 53,
   "outputs": [
    {
     "data": {
      "text/plain": "                                       Art. Points  % Art. Points   AE  % AE  \\\nSmall Molecules          Entity Level                                          \nNot Included             genes                0.74           3.03 0.74  3.03   \n                         proteoforms          1.02           3.92 1.02  3.92   \nIncluded                 genes                0.86           2.86 0.58  2.05   \n                         proteoforms          0.91           2.65 0.62  1.88   \nReaction-Unique Included genes                1.67           3.68 1.45  3.31   \n                         proteoforms          1.71           3.42 1.49  3.06   \n\n                                        SM  % SM  \nSmall Molecules          Entity Level             \nNot Included             genes        0.00  0.00  \n                         proteoforms  0.00  0.00  \nIncluded                 genes        0.28  0.80  \n                         proteoforms  0.29  0.78  \nReaction-Unique Included genes        0.23  0.37  \n                         proteoforms  0.23  0.36  ",
      "text/html": "<div>\n<style scoped>\n    .dataframe tbody tr th:only-of-type {\n        vertical-align: middle;\n    }\n\n    .dataframe tbody tr th {\n        vertical-align: top;\n    }\n\n    .dataframe thead th {\n        text-align: right;\n    }\n</style>\n<table border=\"1\" class=\"dataframe\">\n  <thead>\n    <tr style=\"text-align: right;\">\n      <th></th>\n      <th></th>\n      <th>Art. Points</th>\n      <th>% Art. Points</th>\n      <th>AE</th>\n      <th>% AE</th>\n      <th>SM</th>\n      <th>% SM</th>\n    </tr>\n    <tr>\n      <th>Small Molecules</th>\n      <th>Entity Level</th>\n      <th></th>\n      <th></th>\n      <th></th>\n      <th></th>\n      <th></th>\n      <th></th>\n    </tr>\n  </thead>\n  <tbody>\n    <tr>\n      <th rowspan=\"2\" valign=\"top\">Not Included</th>\n      <th>genes</th>\n      <td>0.74</td>\n      <td>3.03</td>\n      <td>0.74</td>\n      <td>3.03</td>\n      <td>0.00</td>\n      <td>0.00</td>\n    </tr>\n    <tr>\n      <th>proteoforms</th>\n      <td>1.02</td>\n      <td>3.92</td>\n      <td>1.02</td>\n      <td>3.92</td>\n      <td>0.00</td>\n      <td>0.00</td>\n    </tr>\n    <tr>\n      <th rowspan=\"2\" valign=\"top\">Included</th>\n      <th>genes</th>\n      <td>0.86</td>\n      <td>2.86</td>\n      <td>0.58</td>\n      <td>2.05</td>\n      <td>0.28</td>\n      <td>0.80</td>\n    </tr>\n    <tr>\n      <th>proteoforms</th>\n      <td>0.91</td>\n      <td>2.65</td>\n      <td>0.62</td>\n      <td>1.88</td>\n      <td>0.29</td>\n      <td>0.78</td>\n    </tr>\n    <tr>\n      <th rowspan=\"2\" valign=\"top\">Reaction-Unique Included</th>\n      <th>genes</th>\n      <td>1.67</td>\n      <td>3.68</td>\n      <td>1.45</td>\n      <td>3.31</td>\n      <td>0.23</td>\n      <td>0.37</td>\n    </tr>\n    <tr>\n      <th>proteoforms</th>\n      <td>1.71</td>\n      <td>3.42</td>\n      <td>1.49</td>\n      <td>3.06</td>\n      <td>0.23</td>\n      <td>0.36</td>\n    </tr>\n  </tbody>\n</table>\n</div>"
     },
     "execution_count": 53,
     "metadata": {},
     "output_type": "execute_result"
    }
   ],
   "source": [
    "dfi.export(df_pathways_grouped[cols_art_points], 'figures/table_pathways_art_points.png')\n",
    "df_pathways_grouped[cols_art_points]"
   ],
   "metadata": {
    "collapsed": false,
    "pycharm": {
     "name": "#%%\n"
    }
   }
  },
  {
   "cell_type": "code",
   "execution_count": 54,
   "outputs": [
    {
     "data": {
      "text/plain": "                                       Bridges  % Bridges  \\\nSmall Molecules          Entity Level                       \nNot Included             genes            2.03       0.10   \n                         proteoforms      2.28       0.10   \nIncluded                 genes            1.43       0.04   \n                         proteoforms      1.42       0.03   \nReaction-Unique Included genes            3.17       0.05   \n                         proteoforms      3.08       0.04   \n\n                                       % Bridges out of AE  \\\nSmall Molecules          Entity Level                        \nNot Included             genes                       10.94   \n                         proteoforms                 11.14   \nIncluded                 genes                        6.66   \n                         proteoforms                  5.43   \nReaction-Unique Included genes                        7.72   \n                         proteoforms                  6.37   \n\n                                       % Bridges out of SM  \nSmall Molecules          Entity Level                       \nNot Included             genes                        0.00  \n                         proteoforms                  0.00  \nIncluded                 genes                        2.74  \n                         proteoforms                  2.38  \nReaction-Unique Included genes                        7.45  \n                         proteoforms                  6.91  ",
      "text/html": "<div>\n<style scoped>\n    .dataframe tbody tr th:only-of-type {\n        vertical-align: middle;\n    }\n\n    .dataframe tbody tr th {\n        vertical-align: top;\n    }\n\n    .dataframe thead th {\n        text-align: right;\n    }\n</style>\n<table border=\"1\" class=\"dataframe\">\n  <thead>\n    <tr style=\"text-align: right;\">\n      <th></th>\n      <th></th>\n      <th>Bridges</th>\n      <th>% Bridges</th>\n      <th>% Bridges out of AE</th>\n      <th>% Bridges out of SM</th>\n    </tr>\n    <tr>\n      <th>Small Molecules</th>\n      <th>Entity Level</th>\n      <th></th>\n      <th></th>\n      <th></th>\n      <th></th>\n    </tr>\n  </thead>\n  <tbody>\n    <tr>\n      <th rowspan=\"2\" valign=\"top\">Not Included</th>\n      <th>genes</th>\n      <td>2.03</td>\n      <td>0.10</td>\n      <td>10.94</td>\n      <td>0.00</td>\n    </tr>\n    <tr>\n      <th>proteoforms</th>\n      <td>2.28</td>\n      <td>0.10</td>\n      <td>11.14</td>\n      <td>0.00</td>\n    </tr>\n    <tr>\n      <th rowspan=\"2\" valign=\"top\">Included</th>\n      <th>genes</th>\n      <td>1.43</td>\n      <td>0.04</td>\n      <td>6.66</td>\n      <td>2.74</td>\n    </tr>\n    <tr>\n      <th>proteoforms</th>\n      <td>1.42</td>\n      <td>0.03</td>\n      <td>5.43</td>\n      <td>2.38</td>\n    </tr>\n    <tr>\n      <th rowspan=\"2\" valign=\"top\">Reaction-Unique Included</th>\n      <th>genes</th>\n      <td>3.17</td>\n      <td>0.05</td>\n      <td>7.72</td>\n      <td>7.45</td>\n    </tr>\n    <tr>\n      <th>proteoforms</th>\n      <td>3.08</td>\n      <td>0.04</td>\n      <td>6.37</td>\n      <td>6.91</td>\n    </tr>\n  </tbody>\n</table>\n</div>"
     },
     "execution_count": 54,
     "metadata": {},
     "output_type": "execute_result"
    }
   ],
   "source": [
    "dfi.export(df_pathways_grouped[cols_bridges], 'figures/table_pathways_bridges.png')\n",
    "df_pathways_grouped[cols_bridges]"
   ],
   "metadata": {
    "collapsed": false,
    "pycharm": {
     "name": "#%%\n"
    }
   }
  },
  {
   "cell_type": "code",
   "execution_count": 55,
   "metadata": {
    "collapsed": false,
    "pycharm": {
     "name": "#%%\n"
    }
   },
   "outputs": [
    {
     "ename": "ValueError",
     "evalue": "Could not interpret input 'Percentage of articulation point nodes'",
     "output_type": "error",
     "traceback": [
      "\u001B[1;31m---------------------------------------------------------------------------\u001B[0m",
      "\u001B[1;31mValueError\u001B[0m                                Traceback (most recent call last)",
      "Input \u001B[1;32mIn [55]\u001B[0m, in \u001B[0;36m<cell line: 5>\u001B[1;34m()\u001B[0m\n\u001B[0;32m      3\u001B[0m fig, ax \u001B[38;5;241m=\u001B[39m plt\u001B[38;5;241m.\u001B[39msubplots(\u001B[38;5;241m1\u001B[39m, \u001B[38;5;241m1\u001B[39m, figsize\u001B[38;5;241m=\u001B[39m(\u001B[38;5;241m5\u001B[39m, \u001B[38;5;241m6\u001B[39m))\n\u001B[0;32m      4\u001B[0m fig\u001B[38;5;241m.\u001B[39mset_size_inches(\u001B[38;5;241m10\u001B[39m, \u001B[38;5;241m6\u001B[39m)\n\u001B[1;32m----> 5\u001B[0m f \u001B[38;5;241m=\u001B[39m \u001B[43msns\u001B[49m\u001B[38;5;241;43m.\u001B[39;49m\u001B[43mviolinplot\u001B[49m\u001B[43m(\u001B[49m\u001B[43mx\u001B[49m\u001B[38;5;241;43m=\u001B[39;49m\u001B[38;5;124;43m\"\u001B[39;49m\u001B[38;5;124;43mSmall Molecules\u001B[39;49m\u001B[38;5;124;43m\"\u001B[39;49m\u001B[43m,\u001B[49m\u001B[43m \u001B[49m\u001B[43my\u001B[49m\u001B[38;5;241;43m=\u001B[39;49m\u001B[38;5;124;43m\"\u001B[39;49m\u001B[38;5;124;43mPercentage of articulation point nodes\u001B[39;49m\u001B[38;5;124;43m\"\u001B[39;49m\u001B[43m,\u001B[49m\u001B[43m \u001B[49m\u001B[43mhue\u001B[49m\u001B[38;5;241;43m=\u001B[39;49m\u001B[38;5;124;43m\"\u001B[39;49m\u001B[38;5;124;43mEntity Level\u001B[39;49m\u001B[38;5;124;43m\"\u001B[39;49m\u001B[43m,\u001B[49m\n\u001B[0;32m      6\u001B[0m \u001B[43m                   \u001B[49m\u001B[43mdata\u001B[49m\u001B[38;5;241;43m=\u001B[39;49m\u001B[43mdf_br_ap_pathways\u001B[49m\u001B[43m,\u001B[49m\u001B[43m \u001B[49m\u001B[43mpalette\u001B[49m\u001B[38;5;241;43m=\u001B[39;49m\u001B[43mconfig\u001B[49m\u001B[38;5;241;43m.\u001B[39;49m\u001B[43mCOLORS_BORDER\u001B[49m\u001B[43m)\u001B[49m\n\u001B[0;32m      7\u001B[0m \u001B[38;5;66;03m#ax.yaxis.set_major_formatter(mticker.StrMethodFormatter(\"$10^{{{x:.0f}}}$\")) # Convert ticks to powers of 10\u001B[39;00m\n\u001B[0;32m      8\u001B[0m f\u001B[38;5;241m.\u001B[39mlegend(loc\u001B[38;5;241m=\u001B[39m\u001B[38;5;124m'\u001B[39m\u001B[38;5;124mcenter left\u001B[39m\u001B[38;5;124m'\u001B[39m, bbox_to_anchor\u001B[38;5;241m=\u001B[39m(\u001B[38;5;241m1\u001B[39m, \u001B[38;5;241m0.5\u001B[39m))\n",
      "File \u001B[1;32mC:\\git\\ProteoformNetworks\\venv\\lib\\site-packages\\seaborn\\_decorators.py:46\u001B[0m, in \u001B[0;36m_deprecate_positional_args.<locals>.inner_f\u001B[1;34m(*args, **kwargs)\u001B[0m\n\u001B[0;32m     36\u001B[0m     warnings\u001B[38;5;241m.\u001B[39mwarn(\n\u001B[0;32m     37\u001B[0m         \u001B[38;5;124m\"\u001B[39m\u001B[38;5;124mPass the following variable\u001B[39m\u001B[38;5;132;01m{}\u001B[39;00m\u001B[38;5;124m as \u001B[39m\u001B[38;5;132;01m{}\u001B[39;00m\u001B[38;5;124mkeyword arg\u001B[39m\u001B[38;5;132;01m{}\u001B[39;00m\u001B[38;5;124m: \u001B[39m\u001B[38;5;132;01m{}\u001B[39;00m\u001B[38;5;124m. \u001B[39m\u001B[38;5;124m\"\u001B[39m\n\u001B[0;32m     38\u001B[0m         \u001B[38;5;124m\"\u001B[39m\u001B[38;5;124mFrom version 0.12, the only valid positional argument \u001B[39m\u001B[38;5;124m\"\u001B[39m\n\u001B[1;32m   (...)\u001B[0m\n\u001B[0;32m     43\u001B[0m         \u001B[38;5;167;01mFutureWarning\u001B[39;00m\n\u001B[0;32m     44\u001B[0m     )\n\u001B[0;32m     45\u001B[0m kwargs\u001B[38;5;241m.\u001B[39mupdate({k: arg \u001B[38;5;28;01mfor\u001B[39;00m k, arg \u001B[38;5;129;01min\u001B[39;00m \u001B[38;5;28mzip\u001B[39m(sig\u001B[38;5;241m.\u001B[39mparameters, args)})\n\u001B[1;32m---> 46\u001B[0m \u001B[38;5;28;01mreturn\u001B[39;00m f(\u001B[38;5;241m*\u001B[39m\u001B[38;5;241m*\u001B[39mkwargs)\n",
      "File \u001B[1;32mC:\\git\\ProteoformNetworks\\venv\\lib\\site-packages\\seaborn\\categorical.py:2400\u001B[0m, in \u001B[0;36mviolinplot\u001B[1;34m(x, y, hue, data, order, hue_order, bw, cut, scale, scale_hue, gridsize, width, inner, split, dodge, orient, linewidth, color, palette, saturation, ax, **kwargs)\u001B[0m\n\u001B[0;32m   2388\u001B[0m \u001B[38;5;129m@_deprecate_positional_args\u001B[39m\n\u001B[0;32m   2389\u001B[0m \u001B[38;5;28;01mdef\u001B[39;00m \u001B[38;5;21mviolinplot\u001B[39m(\n\u001B[0;32m   2390\u001B[0m     \u001B[38;5;241m*\u001B[39m,\n\u001B[1;32m   (...)\u001B[0m\n\u001B[0;32m   2397\u001B[0m     ax\u001B[38;5;241m=\u001B[39m\u001B[38;5;28;01mNone\u001B[39;00m, \u001B[38;5;241m*\u001B[39m\u001B[38;5;241m*\u001B[39mkwargs,\n\u001B[0;32m   2398\u001B[0m ):\n\u001B[1;32m-> 2400\u001B[0m     plotter \u001B[38;5;241m=\u001B[39m \u001B[43m_ViolinPlotter\u001B[49m\u001B[43m(\u001B[49m\u001B[43mx\u001B[49m\u001B[43m,\u001B[49m\u001B[43m \u001B[49m\u001B[43my\u001B[49m\u001B[43m,\u001B[49m\u001B[43m \u001B[49m\u001B[43mhue\u001B[49m\u001B[43m,\u001B[49m\u001B[43m \u001B[49m\u001B[43mdata\u001B[49m\u001B[43m,\u001B[49m\u001B[43m \u001B[49m\u001B[43morder\u001B[49m\u001B[43m,\u001B[49m\u001B[43m \u001B[49m\u001B[43mhue_order\u001B[49m\u001B[43m,\u001B[49m\n\u001B[0;32m   2401\u001B[0m \u001B[43m                             \u001B[49m\u001B[43mbw\u001B[49m\u001B[43m,\u001B[49m\u001B[43m \u001B[49m\u001B[43mcut\u001B[49m\u001B[43m,\u001B[49m\u001B[43m \u001B[49m\u001B[43mscale\u001B[49m\u001B[43m,\u001B[49m\u001B[43m \u001B[49m\u001B[43mscale_hue\u001B[49m\u001B[43m,\u001B[49m\u001B[43m \u001B[49m\u001B[43mgridsize\u001B[49m\u001B[43m,\u001B[49m\n\u001B[0;32m   2402\u001B[0m \u001B[43m                             \u001B[49m\u001B[43mwidth\u001B[49m\u001B[43m,\u001B[49m\u001B[43m \u001B[49m\u001B[43minner\u001B[49m\u001B[43m,\u001B[49m\u001B[43m \u001B[49m\u001B[43msplit\u001B[49m\u001B[43m,\u001B[49m\u001B[43m \u001B[49m\u001B[43mdodge\u001B[49m\u001B[43m,\u001B[49m\u001B[43m \u001B[49m\u001B[43morient\u001B[49m\u001B[43m,\u001B[49m\u001B[43m \u001B[49m\u001B[43mlinewidth\u001B[49m\u001B[43m,\u001B[49m\n\u001B[0;32m   2403\u001B[0m \u001B[43m                             \u001B[49m\u001B[43mcolor\u001B[49m\u001B[43m,\u001B[49m\u001B[43m \u001B[49m\u001B[43mpalette\u001B[49m\u001B[43m,\u001B[49m\u001B[43m \u001B[49m\u001B[43msaturation\u001B[49m\u001B[43m)\u001B[49m\n\u001B[0;32m   2405\u001B[0m     \u001B[38;5;28;01mif\u001B[39;00m ax \u001B[38;5;129;01mis\u001B[39;00m \u001B[38;5;28;01mNone\u001B[39;00m:\n\u001B[0;32m   2406\u001B[0m         ax \u001B[38;5;241m=\u001B[39m plt\u001B[38;5;241m.\u001B[39mgca()\n",
      "File \u001B[1;32mC:\\git\\ProteoformNetworks\\venv\\lib\\site-packages\\seaborn\\categorical.py:522\u001B[0m, in \u001B[0;36m_ViolinPlotter.__init__\u001B[1;34m(self, x, y, hue, data, order, hue_order, bw, cut, scale, scale_hue, gridsize, width, inner, split, dodge, orient, linewidth, color, palette, saturation)\u001B[0m\n\u001B[0;32m    517\u001B[0m \u001B[38;5;28;01mdef\u001B[39;00m \u001B[38;5;21m__init__\u001B[39m(\u001B[38;5;28mself\u001B[39m, x, y, hue, data, order, hue_order,\n\u001B[0;32m    518\u001B[0m              bw, cut, scale, scale_hue, gridsize,\n\u001B[0;32m    519\u001B[0m              width, inner, split, dodge, orient, linewidth,\n\u001B[0;32m    520\u001B[0m              color, palette, saturation):\n\u001B[1;32m--> 522\u001B[0m     \u001B[38;5;28;43mself\u001B[39;49m\u001B[38;5;241;43m.\u001B[39;49m\u001B[43mestablish_variables\u001B[49m\u001B[43m(\u001B[49m\u001B[43mx\u001B[49m\u001B[43m,\u001B[49m\u001B[43m \u001B[49m\u001B[43my\u001B[49m\u001B[43m,\u001B[49m\u001B[43m \u001B[49m\u001B[43mhue\u001B[49m\u001B[43m,\u001B[49m\u001B[43m \u001B[49m\u001B[43mdata\u001B[49m\u001B[43m,\u001B[49m\u001B[43m \u001B[49m\u001B[43morient\u001B[49m\u001B[43m,\u001B[49m\u001B[43m \u001B[49m\u001B[43morder\u001B[49m\u001B[43m,\u001B[49m\u001B[43m \u001B[49m\u001B[43mhue_order\u001B[49m\u001B[43m)\u001B[49m\n\u001B[0;32m    523\u001B[0m     \u001B[38;5;28mself\u001B[39m\u001B[38;5;241m.\u001B[39mestablish_colors(color, palette, saturation)\n\u001B[0;32m    524\u001B[0m     \u001B[38;5;28mself\u001B[39m\u001B[38;5;241m.\u001B[39mestimate_densities(bw, cut, scale, scale_hue, gridsize)\n",
      "File \u001B[1;32mC:\\git\\ProteoformNetworks\\venv\\lib\\site-packages\\seaborn\\categorical.py:153\u001B[0m, in \u001B[0;36m_CategoricalPlotter.establish_variables\u001B[1;34m(self, x, y, hue, data, orient, order, hue_order, units)\u001B[0m\n\u001B[0;32m    151\u001B[0m     \u001B[38;5;28;01mif\u001B[39;00m \u001B[38;5;28misinstance\u001B[39m(var, \u001B[38;5;28mstr\u001B[39m):\n\u001B[0;32m    152\u001B[0m         err \u001B[38;5;241m=\u001B[39m \u001B[38;5;124m\"\u001B[39m\u001B[38;5;124mCould not interpret input \u001B[39m\u001B[38;5;124m'\u001B[39m\u001B[38;5;132;01m{}\u001B[39;00m\u001B[38;5;124m'\u001B[39m\u001B[38;5;124m\"\u001B[39m\u001B[38;5;241m.\u001B[39mformat(var)\n\u001B[1;32m--> 153\u001B[0m         \u001B[38;5;28;01mraise\u001B[39;00m \u001B[38;5;167;01mValueError\u001B[39;00m(err)\n\u001B[0;32m    155\u001B[0m \u001B[38;5;66;03m# Figure out the plotting orientation\u001B[39;00m\n\u001B[0;32m    156\u001B[0m orient \u001B[38;5;241m=\u001B[39m infer_orient(\n\u001B[0;32m    157\u001B[0m     x, y, orient, require_numeric\u001B[38;5;241m=\u001B[39m\u001B[38;5;28mself\u001B[39m\u001B[38;5;241m.\u001B[39mrequire_numeric\n\u001B[0;32m    158\u001B[0m )\n",
      "\u001B[1;31mValueError\u001B[0m: Could not interpret input 'Percentage of articulation point nodes'"
     ]
    },
    {
     "data": {
      "text/plain": "<Figure size 720x432 with 1 Axes>",
      "image/png": "[encoded data removed]"
     },
     "metadata": {},
     "output_type": "display_data"
    }
   ],
   "source": [
    "import matplotlib.pyplot as plt\n",
    "\n",
    "fig, ax = plt.subplots(1, 1, figsize=(5, 6))\n",
    "fig.set_size_inches(10, 6)\n",
    "f = sns.violinplot(x=\"Small Molecules\", y=\"Percentage of articulation point nodes\", hue=\"Entity Level\",\n",
    "                   data=df_br_ap_pathways, palette=config.COLORS_BORDER)\n",
    "#ax.yaxis.set_major_formatter(mticker.StrMethodFormatter(\"$10^{{{x:.0f}}}$\")) # Convert ticks to powers of 10\n",
    "f.legend(loc='center left', bbox_to_anchor=(1, 0.5))\n",
    "f.set_title(\"Percentage of articulation point nodes in Pathways\")"
   ]
  },
  {
   "cell_type": "code",
   "execution_count": null,
   "metadata": {
    "collapsed": false,
    "pycharm": {
     "name": "#%%\n"
    }
   },
   "outputs": [],
   "source": [
    "fig, ax = plt.subplots(1, 1, figsize=(5, 6))\n",
    "fig.set_size_inches(10, 6)\n",
    "df_br_ap_pathways[\"Percentage of bridge links\"] = df_br_ap_pathways[\"Percentage of bridge links\"].astype('float64')\n",
    "f2 = sns.violinplot(x=\"Small Molecules\", y=\"Percentage of bridge links\", hue=\"Entity Level\",\n",
    "                    data=df_br_ap_pathways, palette=config.COLORS_BORDER)\n",
    "f2.legend(loc='center left', bbox_to_anchor=(1, 0.5))\n",
    "f2.set_title(\"Percentage of bridge links in Pathways\")"
   ]
  },
  {
   "cell_type": "code",
   "execution_count": null,
   "metadata": {
    "collapsed": false,
    "pycharm": {
     "name": "#%% Prepare the data for the figure\n"
    }
   },
   "outputs": [],
   "source": [
    "data = {\n",
    "    \"Bottleneck\": [\"Articulation Points\"] * len(df_br_ap_pathways),\n",
    "    \"Small Molecules\": df_br_ap_pathways[\"Small Molecules\"],\n",
    "    \"Entity Level\": df_br_ap_pathways[\"Entity Level\"],\n",
    "    \"Pathway\": df_br_ap_pathways[\"Pathway\"],\n",
    "    \"Percentage\": df_br_ap_pathways[\"Percentage of articulation point nodes\"]\n",
    "}\n",
    "df_art_points = pd.DataFrame(data)\n",
    "df_art_points"
   ]
  },
  {
   "cell_type": "code",
   "execution_count": null,
   "metadata": {
    "collapsed": false,
    "pycharm": {
     "name": "#%%\n"
    }
   },
   "outputs": [],
   "source": [
    "data = {\n",
    "    \"Bottleneck\": [\"Bridges\"] * len(df_br_ap_pathways),\n",
    "    \"Small Molecules\": df_br_ap_pathways[\"Small Molecules\"],\n",
    "    \"Entity Level\": df_br_ap_pathways[\"Entity Level\"],\n",
    "    \"Pathway\": df_br_ap_pathways[\"Pathway\"],\n",
    "    \"Percentage\": df_br_ap_pathways[\"Percentage of bridge links\"]\n",
    "}\n",
    "df_bridges = pd.DataFrame(data)\n",
    "df_bridges"
   ]
  },
  {
   "cell_type": "code",
   "execution_count": null,
   "metadata": {
    "collapsed": false,
    "pycharm": {
     "name": "#%%\n"
    }
   },
   "outputs": [],
   "source": [
    "data_br_ap = pd.concat([df_art_points, df_bridges])\n",
    "data_br_ap"
   ]
  },
  {
   "cell_type": "code",
   "execution_count": null,
   "metadata": {
    "collapsed": false,
    "pycharm": {
     "name": "#%%\n"
    }
   },
   "outputs": [],
   "source": [
    "sns.set_style(\"dark\")\n",
    "f = sns.catplot(x=\"Entity Level\",\n",
    "                y=\"Percentage\",\n",
    "                hue=\"Small Molecules\",\n",
    "                col=\"Bottleneck\",\n",
    "                data=data_br_ap,\n",
    "                kind=\"violin\",\n",
    "                height=6, aspect=1, sharey=False)\n",
    "f.set_titles(\"{col_name}\")"
   ]
  },
  {
   "cell_type": "code",
   "execution_count": null,
   "metadata": {
    "collapsed": false,
    "pycharm": {
     "name": "#%%\n"
    }
   },
   "outputs": [],
   "source": []
  }
 ],
 "metadata": {
  "interpreter": {
   "hash": "369f2c481f4da34e4445cda3fffd2e751bd1c4d706f27375911949ba6bb62e1c"
  },
  "kernelspec": {
   "display_name": "Python 3.10.2 64-bit",
   "language": "python",
   "name": "python3"
  },
  "language_info": {
   "codemirror_mode": {
    "name": "ipython",
    "version": 3
   },
   "file_extension": ".py",
   "mimetype": "text/x-python",
   "name": "python",
   "nbconvert_exporter": "python",
   "pygments_lexer": "ipython3",
   "version": "3.10.2"
  }
 },
 "nbformat": 4,
 "nbformat_minor": 0
}