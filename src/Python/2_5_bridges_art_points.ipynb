{
 "cells": [
  {
   "cell_type": "markdown",
   "metadata": {
    "collapsed": false
   },
   "source": [
    "## General network properties: Articulation points and bridges"
   ]
  },
  {
   "cell_type": "code",
   "execution_count": 2,
   "metadata": {
    "collapsed": false,
    "pycharm": {
     "name": "#%%\n"
    }
   },
   "outputs": [
    {
     "name": "stdout",
     "output_type": "stream",
     "text": [
      "The autoreload extension is already loaded. To reload it, use:\n",
      "  %reload_ext autoreload\n",
      "Initial working directory: C:\\git\\ProteoformNetworks\\src\\Python\n",
      "New working directory: c:\\git\\ProteoformNetworks\n"
     ]
    }
   ],
   "source": [
    "\n",
    "import pandas as pd\n",
    "import seaborn as sns\n",
    "\n",
    "import config\n",
    "from config import INTERACTOMES_PATH, DATA_REACTOME_PATH, genes, proteoforms\n",
    "from lib.graph_database_access import get_pathways\n",
    "from lib.networks import get_interactomes, get_multiindex, get_combinations\n",
    "\n",
    "%load_ext autoreload\n",
    "%autoreload 2\n",
    "%reload_ext autoreload\n",
    "\n",
    "config.set_root_wd()"
   ]
  },
  {
   "cell_type": "markdown",
   "metadata": {
    "collapsed": false
   },
   "source": [
    "## For each interactome"
   ]
  },
  {
   "cell_type": "code",
   "execution_count": 3,
   "metadata": {
    "collapsed": false,
    "pycharm": {
     "name": "#%% Get all interactomes\n"
    }
   },
   "outputs": [
    {
     "name": "stdout",
     "output_type": "stream",
     "text": [
      "Reading participants of all reactions for level genes...\n",
      "Reading participants of all reactions for level proteins...\n",
      "Reading participants of all reactions for level proteoforms...\n",
      "Reading participants of all reactions for level sm...\n",
      "Reading components of all complexes for level genes...\n",
      "Reading components of all complexes for level proteins...\n",
      "Reading components of all complexes for level proteoforms...\n",
      "Reading components of all complexes for level sm...\n",
      "Reading interaction network for  at genes level, method no_sm...\n",
      "Reading interaction network for  at proteins level, method no_sm...\n",
      "Reading interaction network for  at proteoforms level, method no_sm...\n",
      "Reading interaction network for  at genes level, method with_sm...\n",
      "Reading interaction network for  at proteins level, method with_sm...\n",
      "Reading interaction network for  at proteoforms level, method with_sm...\n",
      "Reading interaction network for  at genes level, method with_unique_sm...\n",
      "Reading interaction network for  at proteins level, method with_unique_sm...\n",
      "Reading interaction network for  at proteoforms level, method with_unique_sm...\n"
     ]
    }
   ],
   "source": [
    "index = get_multiindex()\n",
    "interactomes_no_sm, interactomes_with_sm, interactomes_with_unique_sm = get_interactomes(DATA_REACTOME_PATH, INTERACTOMES_PATH)\n",
    "interactomes = [interactomes_no_sm[genes], interactomes_no_sm[proteoforms], interactomes_with_sm[genes], interactomes_with_sm[proteoforms], interactomes_with_unique_sm[genes], interactomes_with_unique_sm[proteoforms]]"
   ]
  },
  {
   "cell_type": "code",
   "execution_count": 4,
   "metadata": {
    "collapsed": false,
    "pycharm": {
     "name": "#%% Table: Calculate articulation points and bridges for all interactomes\n"
    }
   },
   "outputs": [
    {
     "data": {
      "text/html": [
       "<div>\n",
       "<style scoped>\n",
       "    .dataframe tbody tr th:only-of-type {\n",
       "        vertical-align: middle;\n",
       "    }\n",
       "\n",
       "    .dataframe tbody tr th {\n",
       "        vertical-align: top;\n",
       "    }\n",
       "\n",
       "    .dataframe thead th {\n",
       "        text-align: right;\n",
       "    }\n",
       "</style>\n",
       "<table border=\"1\" class=\"dataframe\">\n",
       "  <thead>\n",
       "    <tr style=\"text-align: right;\">\n",
       "      <th></th>\n",
       "      <th></th>\n",
       "      <th>Number of Articulation Points</th>\n",
       "      <th>Percentage articulation point nodes</th>\n",
       "      <th>Number of accessioned entities articulation points</th>\n",
       "      <th>Percentage of accessioned entities articulation points</th>\n",
       "      <th>Number of small molecules articulation points</th>\n",
       "      <th>Percentage of small molecules articulation points</th>\n",
       "      <th>Number of interactions</th>\n",
       "      <th>Number of bridge interactions</th>\n",
       "      <th>Percentage of links that are bridges</th>\n",
       "      <th>Percentage of links coming out of the accessioned entities that are bridges</th>\n",
       "      <th>Percentage of links coming out of the small molecules that are bridges</th>\n",
       "    </tr>\n",
       "    <tr>\n",
       "      <th>Small Molecules</th>\n",
       "      <th>Entity Level</th>\n",
       "      <th></th>\n",
       "      <th></th>\n",
       "      <th></th>\n",
       "      <th></th>\n",
       "      <th></th>\n",
       "      <th></th>\n",
       "      <th></th>\n",
       "      <th></th>\n",
       "      <th></th>\n",
       "      <th></th>\n",
       "      <th></th>\n",
       "    </tr>\n",
       "  </thead>\n",
       "  <tbody>\n",
       "    <tr>\n",
       "      <th rowspan=\"2\" valign=\"top\">Not Included</th>\n",
       "      <th>genes</th>\n",
       "      <td>267</td>\n",
       "      <td>0.02</td>\n",
       "      <td>267</td>\n",
       "      <td>0.02</td>\n",
       "      <td>0</td>\n",
       "      <td>0.00</td>\n",
       "      <td>366208</td>\n",
       "      <td>511</td>\n",
       "      <td>0.00140</td>\n",
       "      <td>0.05</td>\n",
       "      <td>0.00</td>\n",
       "    </tr>\n",
       "    <tr>\n",
       "      <th>proteoforms</th>\n",
       "      <td>351</td>\n",
       "      <td>0.02</td>\n",
       "      <td>351</td>\n",
       "      <td>0.02</td>\n",
       "      <td>0</td>\n",
       "      <td>0.00</td>\n",
       "      <td>590415</td>\n",
       "      <td>582</td>\n",
       "      <td>0.00099</td>\n",
       "      <td>0.05</td>\n",
       "      <td>0.00</td>\n",
       "    </tr>\n",
       "    <tr>\n",
       "      <th rowspan=\"2\" valign=\"top\">Included</th>\n",
       "      <th>genes</th>\n",
       "      <td>244</td>\n",
       "      <td>0.02</td>\n",
       "      <td>143</td>\n",
       "      <td>0.01</td>\n",
       "      <td>101</td>\n",
       "      <td>0.05</td>\n",
       "      <td>451490</td>\n",
       "      <td>523</td>\n",
       "      <td>0.00116</td>\n",
       "      <td>0.04</td>\n",
       "      <td>0.04</td>\n",
       "    </tr>\n",
       "    <tr>\n",
       "      <th>proteoforms</th>\n",
       "      <td>254</td>\n",
       "      <td>0.02</td>\n",
       "      <td>151</td>\n",
       "      <td>0.01</td>\n",
       "      <td>103</td>\n",
       "      <td>0.05</td>\n",
       "      <td>681891</td>\n",
       "      <td>527</td>\n",
       "      <td>0.00077</td>\n",
       "      <td>0.04</td>\n",
       "      <td>0.04</td>\n",
       "    </tr>\n",
       "    <tr>\n",
       "      <th rowspan=\"2\" valign=\"top\">Reaction-Unique Included</th>\n",
       "      <th>genes</th>\n",
       "      <td>2012</td>\n",
       "      <td>0.05</td>\n",
       "      <td>1600</td>\n",
       "      <td>0.15</td>\n",
       "      <td>412</td>\n",
       "      <td>0.01</td>\n",
       "      <td>808212</td>\n",
       "      <td>3444</td>\n",
       "      <td>0.00426</td>\n",
       "      <td>0.06</td>\n",
       "      <td>0.11</td>\n",
       "    </tr>\n",
       "    <tr>\n",
       "      <th>proteoforms</th>\n",
       "      <td>2050</td>\n",
       "      <td>0.05</td>\n",
       "      <td>1638</td>\n",
       "      <td>0.11</td>\n",
       "      <td>412</td>\n",
       "      <td>0.01</td>\n",
       "      <td>1047542</td>\n",
       "      <td>3356</td>\n",
       "      <td>0.00320</td>\n",
       "      <td>0.05</td>\n",
       "      <td>0.11</td>\n",
       "    </tr>\n",
       "  </tbody>\n",
       "</table>\n",
       "</div>"
      ],
      "text/plain": [
       "                                       Number of Articulation Points  \\\n",
       "Small Molecules          Entity Level                                  \n",
       "Not Included             genes                                   267   \n",
       "                         proteoforms                             351   \n",
       "Included                 genes                                   244   \n",
       "                         proteoforms                             254   \n",
       "Reaction-Unique Included genes                                  2012   \n",
       "                         proteoforms                            2050   \n",
       "\n",
       "                                       Percentage articulation point nodes  \\\n",
       "Small Molecules          Entity Level                                        \n",
       "Not Included             genes                                        0.02   \n",
       "                         proteoforms                                  0.02   \n",
       "Included                 genes                                        0.02   \n",
       "                         proteoforms                                  0.02   \n",
       "Reaction-Unique Included genes                                        0.05   \n",
       "                         proteoforms                                  0.05   \n",
       "\n",
       "                                       Number of accessioned entities articulation points  \\\n",
       "Small Molecules          Entity Level                                                       \n",
       "Not Included             genes                                                       267    \n",
       "                         proteoforms                                                 351    \n",
       "Included                 genes                                                       143    \n",
       "                         proteoforms                                                 151    \n",
       "Reaction-Unique Included genes                                                      1600    \n",
       "                         proteoforms                                                1638    \n",
       "\n",
       "                                       Percentage of accessioned entities articulation points  \\\n",
       "Small Molecules          Entity Level                                                           \n",
       "Not Included             genes                                                      0.02        \n",
       "                         proteoforms                                                0.02        \n",
       "Included                 genes                                                      0.01        \n",
       "                         proteoforms                                                0.01        \n",
       "Reaction-Unique Included genes                                                      0.15        \n",
       "                         proteoforms                                                0.11        \n",
       "\n",
       "                                       Number of small molecules articulation points  \\\n",
       "Small Molecules          Entity Level                                                  \n",
       "Not Included             genes                                                     0   \n",
       "                         proteoforms                                               0   \n",
       "Included                 genes                                                   101   \n",
       "                         proteoforms                                             103   \n",
       "Reaction-Unique Included genes                                                   412   \n",
       "                         proteoforms                                             412   \n",
       "\n",
       "                                       Percentage of small molecules articulation points  \\\n",
       "Small Molecules          Entity Level                                                      \n",
       "Not Included             genes                                                      0.00   \n",
       "                         proteoforms                                                0.00   \n",
       "Included                 genes                                                      0.05   \n",
       "                         proteoforms                                                0.05   \n",
       "Reaction-Unique Included genes                                                      0.01   \n",
       "                         proteoforms                                                0.01   \n",
       "\n",
       "                                       Number of interactions  \\\n",
       "Small Molecules          Entity Level                           \n",
       "Not Included             genes                         366208   \n",
       "                         proteoforms                   590415   \n",
       "Included                 genes                         451490   \n",
       "                         proteoforms                   681891   \n",
       "Reaction-Unique Included genes                         808212   \n",
       "                         proteoforms                  1047542   \n",
       "\n",
       "                                       Number of bridge interactions  \\\n",
       "Small Molecules          Entity Level                                  \n",
       "Not Included             genes                                   511   \n",
       "                         proteoforms                             582   \n",
       "Included                 genes                                   523   \n",
       "                         proteoforms                             527   \n",
       "Reaction-Unique Included genes                                  3444   \n",
       "                         proteoforms                            3356   \n",
       "\n",
       "                                      Percentage of links that are bridges  \\\n",
       "Small Molecules          Entity Level                                        \n",
       "Not Included             genes                                     0.00140   \n",
       "                         proteoforms                               0.00099   \n",
       "Included                 genes                                     0.00116   \n",
       "                         proteoforms                               0.00077   \n",
       "Reaction-Unique Included genes                                     0.00426   \n",
       "                         proteoforms                               0.00320   \n",
       "\n",
       "                                       Percentage of links coming out of the accessioned entities that are bridges  \\\n",
       "Small Molecules          Entity Level                                                                                \n",
       "Not Included             genes                                                      0.05                             \n",
       "                         proteoforms                                                0.05                             \n",
       "Included                 genes                                                      0.04                             \n",
       "                         proteoforms                                                0.04                             \n",
       "Reaction-Unique Included genes                                                      0.06                             \n",
       "                         proteoforms                                                0.05                             \n",
       "\n",
       "                                       Percentage of links coming out of the small molecules that are bridges  \n",
       "Small Molecules          Entity Level                                                                          \n",
       "Not Included             genes                                                      0.00                       \n",
       "                         proteoforms                                                0.00                       \n",
       "Included                 genes                                                      0.04                       \n",
       "                         proteoforms                                                0.04                       \n",
       "Reaction-Unique Included genes                                                      0.11                       \n",
       "                         proteoforms                                                0.11                       "
      ]
     },
     "execution_count": 4,
     "metadata": {},
     "output_type": "execute_result"
    }
   ],
   "source": [
    "import decimal\n",
    "from statistics import mean\n",
    "\n",
    "columns = [\n",
    "    \"Number of Articulation Points\",\n",
    "    \"Percentage articulation point nodes\",\n",
    "    \"Number of accessioned entities articulation points\",\n",
    "    \"Percentage of accessioned entities articulation points\",\n",
    "    \"Number of small molecules articulation points\",\n",
    "    \"Percentage of small molecules articulation points\",\n",
    "    \"Number of interactions\",\n",
    "    \"Number of bridge interactions\",\n",
    "    \"Percentage of links that are bridges\",\n",
    "    \"Percentage of links coming out of the accessioned entities that are bridges\",\n",
    "    \"Percentage of links coming out of the small molecules that are bridges\"\n",
    "]\n",
    "\n",
    "\n",
    "def count_accessioned_entites_art_points(g):\n",
    "    return sum(g.nodes[n][\"Articulation Point\"] and not g.nodes[n]['type'].startswith(\"Simple\") for n in g.nodes)\n",
    "\n",
    "\n",
    "def count_small_molecules_art_points(g):\n",
    "    return sum(g.nodes[n][\"Articulation Point\"] and g.nodes[n]['type'].startswith(\"Simple\") for n in g.nodes)\n",
    "\n",
    "\n",
    "def get_percentage_links_that_are_bridges(g, nodes):\n",
    "    percentage_bridges_from_node = []\n",
    "    for node in nodes:\n",
    "        if len(g.edges(node)) > 0:\n",
    "            num_bridges = sum(g.edges[e]['Bridge'] for e in g.edges(node))\n",
    "            percentage_bridges_from_node.append(num_bridges / len(g.edges(node)))\n",
    "        else:\n",
    "            percentage_bridges_from_node.append(0)\n",
    "    return mean(percentage_bridges_from_node)\n",
    "\n",
    "\n",
    "def get_tuples(interactome):\n",
    "    percentage_art_points = interactome.graph['Articulation Points'] / interactome.number_of_nodes()\n",
    "    num_acc_ent_art_points = count_accessioned_entites_art_points(interactome)\n",
    "    percentage_acc_ent_art_points = num_acc_ent_art_points / interactome.graph['num_entities']\n",
    "    num_sm_art_points = count_small_molecules_art_points(interactome)\n",
    "    percentage_sm_art_points = 0\n",
    "    if interactome.graph['num_small_molecules'] > 0:\n",
    "        percentage_sm_art_points = num_sm_art_points / interactome.graph['num_small_molecules']\n",
    "    assert interactome.graph['Articulation Points'] == num_acc_ent_art_points + num_sm_art_points\n",
    "\n",
    "    percentage_bridges = round(decimal.Decimal(interactome.graph[\"Bridges\"]) / interactome.number_of_edges(), 5)\n",
    "    acc_ents = list(interactome.nodes)\n",
    "    percentage_from_sms = 0\n",
    "    if interactome.graph['num_small_molecules'] > 0:\n",
    "        acc_ents = [n for n in interactome.nodes if not interactome.nodes[n]['type'].startswith(\"Simple\")]\n",
    "        sms = [n for n in interactome.nodes if interactome.nodes[n]['type'].startswith(\"Simple\")]\n",
    "        percentage_from_sms = get_percentage_links_that_are_bridges(interactome, sms)\n",
    "    percentage_from_acc_ents = get_percentage_links_that_are_bridges(interactome, acc_ents)\n",
    "\n",
    "    return (\n",
    "        interactome.graph['Articulation Points'],\n",
    "        percentage_art_points,\n",
    "        num_acc_ent_art_points,\n",
    "        percentage_acc_ent_art_points,\n",
    "        num_sm_art_points,\n",
    "        percentage_sm_art_points,\n",
    "        interactome.number_of_edges(),\n",
    "        interactome.graph[\"Bridges\"],\n",
    "        percentage_bridges,\n",
    "        percentage_from_acc_ents,\n",
    "        percentage_from_sms\n",
    "    )\n",
    "\n",
    "\n",
    "df_br_ap = pd.DataFrame([get_tuples(interactome) for interactome in interactomes],\n",
    "                        columns=columns,\n",
    "                        index=index)\n",
    "df_br_ap"
   ]
  },
  {
   "cell_type": "code",
   "execution_count": 6,
   "metadata": {
    "collapsed": false,
    "pycharm": {
     "name": "#%% Figure: Bar plot percentage of nodes that are articulation points in each interactome\n"
    }
   },
   "outputs": [
    {
     "data": {
      "text/html": [
       "<div>\n",
       "<style scoped>\n",
       "    .dataframe tbody tr th:only-of-type {\n",
       "        vertical-align: middle;\n",
       "    }\n",
       "\n",
       "    .dataframe tbody tr th {\n",
       "        vertical-align: top;\n",
       "    }\n",
       "\n",
       "    .dataframe thead th {\n",
       "        text-align: right;\n",
       "    }\n",
       "</style>\n",
       "<table border=\"1\" class=\"dataframe\">\n",
       "  <thead>\n",
       "    <tr style=\"text-align: right;\">\n",
       "      <th></th>\n",
       "      <th>Small Molecules</th>\n",
       "      <th>Entity Level</th>\n",
       "      <th>Bottleneck</th>\n",
       "      <th>Percentage</th>\n",
       "    </tr>\n",
       "  </thead>\n",
       "  <tbody>\n",
       "    <tr>\n",
       "      <th>0</th>\n",
       "      <td>Not Included</td>\n",
       "      <td>genes</td>\n",
       "      <td>Articulation Points</td>\n",
       "      <td>0.02</td>\n",
       "    </tr>\n",
       "    <tr>\n",
       "      <th>1</th>\n",
       "      <td>Not Included</td>\n",
       "      <td>proteoforms</td>\n",
       "      <td>Articulation Points</td>\n",
       "      <td>0.02</td>\n",
       "    </tr>\n",
       "    <tr>\n",
       "      <th>2</th>\n",
       "      <td>Included</td>\n",
       "      <td>genes</td>\n",
       "      <td>Articulation Points</td>\n",
       "      <td>0.02</td>\n",
       "    </tr>\n",
       "    <tr>\n",
       "      <th>3</th>\n",
       "      <td>Included</td>\n",
       "      <td>proteoforms</td>\n",
       "      <td>Articulation Points</td>\n",
       "      <td>0.02</td>\n",
       "    </tr>\n",
       "    <tr>\n",
       "      <th>4</th>\n",
       "      <td>Reaction-Unique Included</td>\n",
       "      <td>genes</td>\n",
       "      <td>Articulation Points</td>\n",
       "      <td>0.05</td>\n",
       "    </tr>\n",
       "    <tr>\n",
       "      <th>5</th>\n",
       "      <td>Reaction-Unique Included</td>\n",
       "      <td>proteoforms</td>\n",
       "      <td>Articulation Points</td>\n",
       "      <td>0.05</td>\n",
       "    </tr>\n",
       "    <tr>\n",
       "      <th>0</th>\n",
       "      <td>Not Included</td>\n",
       "      <td>genes</td>\n",
       "      <td>Bridges</td>\n",
       "      <td>0.00140</td>\n",
       "    </tr>\n",
       "    <tr>\n",
       "      <th>1</th>\n",
       "      <td>Not Included</td>\n",
       "      <td>proteoforms</td>\n",
       "      <td>Bridges</td>\n",
       "      <td>0.00099</td>\n",
       "    </tr>\n",
       "    <tr>\n",
       "      <th>2</th>\n",
       "      <td>Included</td>\n",
       "      <td>genes</td>\n",
       "      <td>Bridges</td>\n",
       "      <td>0.00116</td>\n",
       "    </tr>\n",
       "    <tr>\n",
       "      <th>3</th>\n",
       "      <td>Included</td>\n",
       "      <td>proteoforms</td>\n",
       "      <td>Bridges</td>\n",
       "      <td>0.00077</td>\n",
       "    </tr>\n",
       "    <tr>\n",
       "      <th>4</th>\n",
       "      <td>Reaction-Unique Included</td>\n",
       "      <td>genes</td>\n",
       "      <td>Bridges</td>\n",
       "      <td>0.00426</td>\n",
       "    </tr>\n",
       "    <tr>\n",
       "      <th>5</th>\n",
       "      <td>Reaction-Unique Included</td>\n",
       "      <td>proteoforms</td>\n",
       "      <td>Bridges</td>\n",
       "      <td>0.00320</td>\n",
       "    </tr>\n",
       "  </tbody>\n",
       "</table>\n",
       "</div>"
      ],
      "text/plain": [
       "            Small Molecules Entity Level           Bottleneck Percentage\n",
       "0              Not Included        genes  Articulation Points       0.02\n",
       "1              Not Included  proteoforms  Articulation Points       0.02\n",
       "2                  Included        genes  Articulation Points       0.02\n",
       "3                  Included  proteoforms  Articulation Points       0.02\n",
       "4  Reaction-Unique Included        genes  Articulation Points       0.05\n",
       "5  Reaction-Unique Included  proteoforms  Articulation Points       0.05\n",
       "0              Not Included        genes              Bridges    0.00140\n",
       "1              Not Included  proteoforms              Bridges    0.00099\n",
       "2                  Included        genes              Bridges    0.00116\n",
       "3                  Included  proteoforms              Bridges    0.00077\n",
       "4  Reaction-Unique Included        genes              Bridges    0.00426\n",
       "5  Reaction-Unique Included  proteoforms              Bridges    0.00320"
      ]
     },
     "execution_count": 6,
     "metadata": {},
     "output_type": "execute_result"
    }
   ],
   "source": [
    "data = {\n",
    "    \"Bottleneck\": [\"Articulation Points\"] * 6,\n",
    "    \"Percentage\": df_br_ap[\"Percentage articulation point nodes\"]\n",
    "}\n",
    "df_art_points = pd.DataFrame(data)\n",
    "df_art_points.reset_index(inplace=True)\n",
    "\n",
    "data = {\n",
    "    \"Bottleneck\": [\"Bridges\"] * 6,\n",
    "    \"Percentage\": df_br_ap[\"Percentage of links that are bridges\"]\n",
    "}\n",
    "df_bridges = pd.DataFrame(data)\n",
    "df_bridges.reset_index(inplace=True)\n",
    "\n",
    "data_br_ap = pd.concat([df_art_points, df_bridges])\n",
    "data_br_ap"
   ]
  },
  {
   "cell_type": "code",
   "execution_count": 7,
   "metadata": {
    "collapsed": false,
    "pycharm": {
     "name": "#%%\n"
    }
   },
   "outputs": [
    {
     "data": {
      "text/plain": [
       "<seaborn.axisgrid.FacetGrid at 0x2acae419000>"
      ]
     },
     "execution_count": 7,
     "metadata": {},
     "output_type": "execute_result"
    },
    {
     "data": {
      "image/png": "[encoded data removed]",
      "text/plain": [
       "<Figure size 1015.38x432 with 2 Axes>"
      ]
     },
     "metadata": {},
     "output_type": "display_data"
    }
   ],
   "source": [
    "sns.set_style(\"dark\")\n",
    "f = sns.catplot(x=\"Entity Level\",\n",
    "                y=\"Percentage\",\n",
    "                hue=\"Small Molecules\",\n",
    "                col=\"Bottleneck\",\n",
    "                data=data_br_ap,\n",
    "                kind=\"bar\",\n",
    "                height=6, aspect=1, sharey=False)\n",
    "f.set_titles(\"{col_name}\")"
   ]
  },
  {
   "cell_type": "markdown",
   "metadata": {
    "collapsed": false,
    "pycharm": {
     "name": "#%% md\n"
    }
   },
   "source": [
    "## For each pathway"
   ]
  },
  {
   "cell_type": "code",
   "execution_count": 8,
   "metadata": {
    "collapsed": false,
    "pycharm": {
     "name": "#%% Calculate the number of articulation points and bridges for each pathway\n"
    }
   },
   "outputs": [
    {
     "data": {
      "text/html": [
       "<div>\n",
       "<style scoped>\n",
       "    .dataframe tbody tr th:only-of-type {\n",
       "        vertical-align: middle;\n",
       "    }\n",
       "\n",
       "    .dataframe tbody tr th {\n",
       "        vertical-align: top;\n",
       "    }\n",
       "\n",
       "    .dataframe thead th {\n",
       "        text-align: right;\n",
       "    }\n",
       "</style>\n",
       "<table border=\"1\" class=\"dataframe\">\n",
       "  <thead>\n",
       "    <tr style=\"text-align: right;\">\n",
       "      <th></th>\n",
       "      <th>stId</th>\n",
       "      <th>displayName</th>\n",
       "    </tr>\n",
       "  </thead>\n",
       "  <tbody>\n",
       "    <tr>\n",
       "      <th>0</th>\n",
       "      <td>R-HSA-9613829</td>\n",
       "      <td>Chaperone Mediated Autophagy</td>\n",
       "    </tr>\n",
       "    <tr>\n",
       "      <th>1</th>\n",
       "      <td>R-HSA-1632852</td>\n",
       "      <td>Macroautophagy</td>\n",
       "    </tr>\n",
       "    <tr>\n",
       "      <th>2</th>\n",
       "      <td>R-HSA-5205685</td>\n",
       "      <td>PINK1-PRKN Mediated Mitophagy</td>\n",
       "    </tr>\n",
       "    <tr>\n",
       "      <th>3</th>\n",
       "      <td>R-HSA-8934903</td>\n",
       "      <td>Receptor Mediated Mitophagy</td>\n",
       "    </tr>\n",
       "    <tr>\n",
       "      <th>4</th>\n",
       "      <td>R-HSA-9613354</td>\n",
       "      <td>Lipophagy</td>\n",
       "    </tr>\n",
       "    <tr>\n",
       "      <th>...</th>\n",
       "      <td>...</td>\n",
       "      <td>...</td>\n",
       "    </tr>\n",
       "    <tr>\n",
       "      <th>2107</th>\n",
       "      <td>R-HSA-432722</td>\n",
       "      <td>Golgi Associated Vesicle Biogenesis</td>\n",
       "    </tr>\n",
       "    <tr>\n",
       "      <th>2108</th>\n",
       "      <td>R-HSA-432720</td>\n",
       "      <td>Lysosome Vesicle Biogenesis</td>\n",
       "    </tr>\n",
       "    <tr>\n",
       "      <th>2109</th>\n",
       "      <td>R-HSA-8856828</td>\n",
       "      <td>Clathrin-mediated endocytosis</td>\n",
       "    </tr>\n",
       "    <tr>\n",
       "      <th>2110</th>\n",
       "      <td>R-HSA-8856825</td>\n",
       "      <td>Cargo recognition for clathrin-mediated endocy...</td>\n",
       "    </tr>\n",
       "    <tr>\n",
       "      <th>2111</th>\n",
       "      <td>R-HSA-917729</td>\n",
       "      <td>Endosomal Sorting Complex Required For Transpo...</td>\n",
       "    </tr>\n",
       "  </tbody>\n",
       "</table>\n",
       "<p>2112 rows × 2 columns</p>\n",
       "</div>"
      ],
      "text/plain": [
       "               stId                                        displayName\n",
       "0     R-HSA-9613829                       Chaperone Mediated Autophagy\n",
       "1     R-HSA-1632852                                     Macroautophagy\n",
       "2     R-HSA-5205685                      PINK1-PRKN Mediated Mitophagy\n",
       "3     R-HSA-8934903                        Receptor Mediated Mitophagy\n",
       "4     R-HSA-9613354                                          Lipophagy\n",
       "...             ...                                                ...\n",
       "2107   R-HSA-432722                Golgi Associated Vesicle Biogenesis\n",
       "2108   R-HSA-432720                        Lysosome Vesicle Biogenesis\n",
       "2109  R-HSA-8856828                      Clathrin-mediated endocytosis\n",
       "2110  R-HSA-8856825  Cargo recognition for clathrin-mediated endocy...\n",
       "2111   R-HSA-917729  Endosomal Sorting Complex Required For Transpo...\n",
       "\n",
       "[2112 rows x 2 columns]"
      ]
     },
     "execution_count": 8,
     "metadata": {},
     "output_type": "execute_result"
    }
   ],
   "source": [
    "from lib.networks import create_pathway_interaction_network\n",
    "from config import LEVELS, METHODS\n",
    "\n",
    "# Create all pathway networks\n",
    "# Sets each node as node as articulation points or not\n",
    "# Sets each edge as bridge or not\n",
    "df_pathways = get_pathways()\n",
    "#for pathway in df_pathways[\"stId\"]:\n",
    "#    create_pathway_interaction_networks(pathway, \"resources/pathway_networks/\")\n",
    "df_pathways"
   ]
  },
  {
   "cell_type": "code",
   "execution_count": 10,
   "metadata": {
    "collapsed": false,
    "pycharm": {
     "name": "#%% Get all possible combinations of methods and entity levels for each pathway\n"
    }
   },
   "outputs": [
    {
     "data": {
      "text/plain": [
       "[('no_sm', 'genes'),\n",
       " ('no_sm', 'proteoforms'),\n",
       " ('with_sm', 'genes'),\n",
       " ('with_sm', 'proteoforms'),\n",
       " ('with_unique_sm', 'genes'),\n",
       " ('with_unique_sm', 'proteoforms')]"
      ]
     },
     "execution_count": 10,
     "metadata": {},
     "output_type": "execute_result"
    }
   ],
   "source": [
    "\n",
    "\n",
    "combinations = get_combinations()\n",
    "combinations[0:30]"
   ]
  },
  {
   "cell_type": "code",
   "execution_count": 11,
   "metadata": {
    "collapsed": false,
    "pycharm": {
     "name": "#%% Table: Calculate articulation points and bridges for all interactomes\n"
    }
   },
   "outputs": [],
   "source": [
    "columns = [\n",
    "    \"Small Molecules\", \"Entity Level\", \"Pathway\",\n",
    "    \"Number of nodes\", \"Number of articulation point nodes\", \"Percentage of articulation point nodes\",\n",
    "    \"Number of accessioned entities articulation points\", \"Percentage of accessioned entities articulation points\",\n",
    "    \"Number of small molecule articulation points\", \"Percentage of small molecules that are articulation points\",\n",
    "\n",
    "    \"Number of links\", \"Number of links bridges\", \"Percentage of bridge links\",\n",
    "    \"Percentage of bridge links from accessioned entities\",\n",
    "    \"Percentage of bridge links from small molecules\"\n",
    "]\n",
    "\n",
    "out_path = \"resources/pathway_networks/\"\n",
    "\n",
    "\n",
    "def get_tuples(combination):\n",
    "    G = create_pathway_interaction_network(\n",
    "        method=combination[0], level=combination[1], pathway=combination[2], out_path=out_path\n",
    "    )\n",
    "\n",
    "    percentage_art_points = G.graph['Articulation Points'] / G.number_of_nodes()\n",
    "    num_acc_ent_art_points = count_accessioned_entites_art_points(G)\n",
    "    percentage_acc_ent_art_points = num_acc_ent_art_points / G.graph['num_entities']\n",
    "    num_sm_art_points = count_small_molecules_art_points(G)\n",
    "    percentage_sm_art_points = 0\n",
    "    if G.graph['num_small_molecules'] > 0:\n",
    "        percentage_sm_art_points = num_sm_art_points / G.graph['num_small_molecules']\n",
    "    assert G.graph['Articulation Points'] == num_acc_ent_art_points + num_sm_art_points\n",
    "\n",
    "    percentage_bridges = 0\n",
    "    if G.number_of_edges() > 0:\n",
    "        percentage_bridges = round(decimal.Decimal(G.graph[\"Bridges\"]) / G.number_of_edges(), 5)\n",
    "    acc_ents = list(G.nodes)\n",
    "    percentage_from_sms = 0\n",
    "    if G.graph['num_small_molecules'] > 0:\n",
    "        acc_ents = [n for n in G.nodes if not G.nodes[n]['type'].startswith(\"Simple\")]\n",
    "        sms = [n for n in G.nodes if G.nodes[n]['type'].startswith(\"Simple\")]\n",
    "        percentage_from_sms = get_percentage_links_that_are_bridges(G, sms)\n",
    "    percentage_from_acc_ents = get_percentage_links_that_are_bridges(G, acc_ents)\n",
    "\n",
    "    return (\n",
    "        combination[0], combination[1], combination[2],\n",
    "        G.number_of_nodes(), G.graph['Articulation Points'], percentage_art_points,\n",
    "        num_acc_ent_art_points, percentage_acc_ent_art_points,\n",
    "        num_sm_art_points, percentage_sm_art_points,\n",
    "\n",
    "        G.number_of_edges(), G.graph[\"Bridges\"], float(percentage_bridges),\n",
    "        percentage_from_acc_ents,\n",
    "        percentage_from_sms\n",
    "    )"
   ]
  },
  {
   "cell_type": "code",
   "execution_count": 12,
   "metadata": {
    "collapsed": false,
    "pycharm": {
     "name": "#%%\n"
    }
   },
   "outputs": [
    {
     "ename": "IndexError",
     "evalue": "tuple index out of range",
     "output_type": "error",
     "traceback": [
      "\u001b[1;31m---------------------------------------------------------------------------\u001b[0m",
      "\u001b[1;31mIndexError\u001b[0m                                Traceback (most recent call last)",
      "\u001b[1;32mc:\\git\\ProteoformNetworks\\src\\Python\\2_5_bridges_art_points.ipynb Cell 12'\u001b[0m in \u001b[0;36m<cell line: 1>\u001b[1;34m()\u001b[0m\n\u001b[1;32m----> <a href='vscode-notebook-cell:/c%3A/git/ProteoformNetworks/src/Python/2_5_bridges_art_points.ipynb#ch0000011?line=0'>1</a>\u001b[0m df_br_ap_pathways \u001b[39m=\u001b[39m pd\u001b[39m.\u001b[39mDataFrame([get_tuples(combination) \u001b[39mfor\u001b[39;00m combination \u001b[39min\u001b[39;00m combinations], columns\u001b[39m=\u001b[39mcolumns)\n\u001b[0;32m      <a href='vscode-notebook-cell:/c%3A/git/ProteoformNetworks/src/Python/2_5_bridges_art_points.ipynb#ch0000011?line=1'>2</a>\u001b[0m df_br_ap_pathways\n",
      "\u001b[1;32mc:\\git\\ProteoformNetworks\\src\\Python\\2_5_bridges_art_points.ipynb Cell 12'\u001b[0m in \u001b[0;36m<listcomp>\u001b[1;34m(.0)\u001b[0m\n\u001b[1;32m----> <a href='vscode-notebook-cell:/c%3A/git/ProteoformNetworks/src/Python/2_5_bridges_art_points.ipynb#ch0000011?line=0'>1</a>\u001b[0m df_br_ap_pathways \u001b[39m=\u001b[39m pd\u001b[39m.\u001b[39mDataFrame([get_tuples(combination) \u001b[39mfor\u001b[39;00m combination \u001b[39min\u001b[39;00m combinations], columns\u001b[39m=\u001b[39mcolumns)\n\u001b[0;32m      <a href='vscode-notebook-cell:/c%3A/git/ProteoformNetworks/src/Python/2_5_bridges_art_points.ipynb#ch0000011?line=1'>2</a>\u001b[0m df_br_ap_pathways\n",
      "\u001b[1;32mc:\\git\\ProteoformNetworks\\src\\Python\\2_5_bridges_art_points.ipynb Cell 11'\u001b[0m in \u001b[0;36mget_tuples\u001b[1;34m(combination)\u001b[0m\n\u001b[0;32m     <a href='vscode-notebook-cell:/c%3A/git/ProteoformNetworks/src/Python/2_5_bridges_art_points.ipynb#ch0000010?line=14'>15</a>\u001b[0m \u001b[39mdef\u001b[39;00m \u001b[39mget_tuples\u001b[39m(combination):\n\u001b[0;32m     <a href='vscode-notebook-cell:/c%3A/git/ProteoformNetworks/src/Python/2_5_bridges_art_points.ipynb#ch0000010?line=15'>16</a>\u001b[0m     G \u001b[39m=\u001b[39m create_pathway_interaction_network(\n\u001b[1;32m---> <a href='vscode-notebook-cell:/c%3A/git/ProteoformNetworks/src/Python/2_5_bridges_art_points.ipynb#ch0000010?line=16'>17</a>\u001b[0m         method\u001b[39m=\u001b[39mcombination[\u001b[39m0\u001b[39m], level\u001b[39m=\u001b[39mcombination[\u001b[39m1\u001b[39m], pathway\u001b[39m=\u001b[39mcombination[\u001b[39m2\u001b[39;49m], out_path\u001b[39m=\u001b[39mout_path\n\u001b[0;32m     <a href='vscode-notebook-cell:/c%3A/git/ProteoformNetworks/src/Python/2_5_bridges_art_points.ipynb#ch0000010?line=17'>18</a>\u001b[0m     )\n\u001b[0;32m     <a href='vscode-notebook-cell:/c%3A/git/ProteoformNetworks/src/Python/2_5_bridges_art_points.ipynb#ch0000010?line=19'>20</a>\u001b[0m     percentage_art_points \u001b[39m=\u001b[39m G\u001b[39m.\u001b[39mgraph[\u001b[39m'\u001b[39m\u001b[39mArticulation Points\u001b[39m\u001b[39m'\u001b[39m] \u001b[39m/\u001b[39m G\u001b[39m.\u001b[39mnumber_of_nodes()\n\u001b[0;32m     <a href='vscode-notebook-cell:/c%3A/git/ProteoformNetworks/src/Python/2_5_bridges_art_points.ipynb#ch0000010?line=20'>21</a>\u001b[0m     num_acc_ent_art_points \u001b[39m=\u001b[39m count_accessioned_entites_art_points(G)\n",
      "\u001b[1;31mIndexError\u001b[0m: tuple index out of range"
     ]
    }
   ],
   "source": [
    "df_br_ap_pathways = pd.DataFrame([get_tuples(combination) for combination in combinations], columns=columns)\n",
    "df_br_ap_pathways"
   ]
  },
  {
   "cell_type": "code",
   "execution_count": null,
   "metadata": {
    "collapsed": false,
    "pycharm": {
     "name": "#%%\n"
    }
   },
   "outputs": [],
   "source": [
    "df_br_ap_pathways.dtypes"
   ]
  },
  {
   "cell_type": "code",
   "execution_count": null,
   "metadata": {
    "collapsed": false,
    "pycharm": {
     "name": "#%%\n"
    }
   },
   "outputs": [],
   "source": [
    "df_pathways_grouped = df_br_ap_pathways.groupby(['Small Molecules', 'Entity Level']).agg(\n",
    "    {\n",
    "        \"Number of nodes\": ['mean'],\n",
    "        \"Number of articulation point nodes\": ['mean'],\n",
    "        \"Percentage of articulation point nodes\": ['mean'],\n",
    "        \"Number of accessioned entities articulation points\": ['mean'],\n",
    "        \"Percentage of accessioned entities articulation points\": ['mean'],\n",
    "        \"Number of small molecule articulation points\": ['mean'],\n",
    "        \"Percentage of small molecules that are articulation points\": ['mean'],\n",
    "        \"Number of links\": ['mean'],\n",
    "        \"Number of links bridges\": ['mean'],\n",
    "        \"Percentage of bridge links\": ['mean'],\n",
    "        \"Percentage of bridge links from accessioned entities\": ['mean'],\n",
    "        \"Percentage of bridge links from small molecules\": ['mean']\n",
    "    })\n",
    "df_pathways_grouped.columns = [\n",
    "    \"Number of nodes\", \"Number of articulation point nodes\", \"Percentage of articulation point nodes\",\n",
    "    \"Number of accessioned entities articulation points\", \"Percentage of accessioned entities articulation points\",\n",
    "    \"Number of small molecule articulation points\", \"Percentage of small molecules that are articulation points\",\n",
    "    \"Number of links\", \"Number of links bridges\", \"Percentage of bridge links\",\n",
    "    \"Percentage of bridge links from accessioned entities\",\n",
    "    \"Percentage of bridge links from small molecules\"\n",
    "]\n",
    "df_pathways_grouped = df_pathways_grouped.set_index(get_multiindex())\n",
    "\n",
    "df_pathways_grouped"
   ]
  },
  {
   "cell_type": "code",
   "execution_count": null,
   "metadata": {
    "collapsed": false,
    "pycharm": {
     "name": "#%%\n"
    }
   },
   "outputs": [],
   "source": [
    "import matplotlib.pyplot as plt\n",
    "\n",
    "fig, ax = plt.subplots(1, 1, figsize=(5, 6))\n",
    "fig.set_size_inches(10, 6)\n",
    "f = sns.violinplot(x=\"Small Molecules\", y=\"Percentage of articulation point nodes\", hue=\"Entity Level\",\n",
    "                   data=df_br_ap_pathways, palette=config.COLORS_BORDER)\n",
    "#ax.yaxis.set_major_formatter(mticker.StrMethodFormatter(\"$10^{{{x:.0f}}}$\")) # Convert ticks to powers of 10\n",
    "f.legend(loc='center left', bbox_to_anchor=(1, 0.5))\n",
    "f.set_title(\"Percentage of articulation point nodes in Pathways\")"
   ]
  },
  {
   "cell_type": "code",
   "execution_count": null,
   "metadata": {
    "collapsed": false,
    "pycharm": {
     "name": "#%%\n"
    }
   },
   "outputs": [],
   "source": [
    "fig, ax = plt.subplots(1, 1, figsize=(5, 6))\n",
    "fig.set_size_inches(10, 6)\n",
    "df_br_ap_pathways[\"Percentage of bridge links\"] = df_br_ap_pathways[\"Percentage of bridge links\"].astype('float64')\n",
    "f2 = sns.violinplot(x=\"Small Molecules\", y=\"Percentage of bridge links\", hue=\"Entity Level\",\n",
    "                    data=df_br_ap_pathways, palette=config.COLORS_BORDER)\n",
    "f2.legend(loc='center left', bbox_to_anchor=(1, 0.5))\n",
    "f2.set_title(\"Percentage of bridge links in Pathways\")"
   ]
  },
  {
   "cell_type": "code",
   "execution_count": null,
   "metadata": {
    "collapsed": false,
    "pycharm": {
     "name": "#%% Prepare the data for the figure\n"
    }
   },
   "outputs": [],
   "source": [
    "data = {\n",
    "    \"Bottleneck\": [\"Articulation Points\"] * len(df_br_ap_pathways),\n",
    "    \"Small Molecules\": df_br_ap_pathways[\"Small Molecules\"],\n",
    "    \"Entity Level\": df_br_ap_pathways[\"Entity Level\"],\n",
    "    \"Pathway\": df_br_ap_pathways[\"Pathway\"],\n",
    "    \"Percentage\": df_br_ap_pathways[\"Percentage of articulation point nodes\"]\n",
    "}\n",
    "df_art_points = pd.DataFrame(data)\n",
    "df_art_points"
   ]
  },
  {
   "cell_type": "code",
   "execution_count": null,
   "metadata": {
    "collapsed": false,
    "pycharm": {
     "name": "#%%\n"
    }
   },
   "outputs": [],
   "source": [
    "data = {\n",
    "    \"Bottleneck\": [\"Bridges\"] * len(df_br_ap_pathways),\n",
    "    \"Small Molecules\": df_br_ap_pathways[\"Small Molecules\"],\n",
    "    \"Entity Level\": df_br_ap_pathways[\"Entity Level\"],\n",
    "    \"Pathway\": df_br_ap_pathways[\"Pathway\"],\n",
    "    \"Percentage\": df_br_ap_pathways[\"Percentage of bridge links\"]\n",
    "}\n",
    "df_bridges = pd.DataFrame(data)\n",
    "df_bridges"
   ]
  },
  {
   "cell_type": "code",
   "execution_count": null,
   "metadata": {
    "collapsed": false,
    "pycharm": {
     "name": "#%%\n"
    }
   },
   "outputs": [],
   "source": [
    "data_br_ap = pd.concat([df_art_points, df_bridges])\n",
    "data_br_ap"
   ]
  },
  {
   "cell_type": "code",
   "execution_count": null,
   "metadata": {
    "collapsed": false,
    "pycharm": {
     "name": "#%%\n"
    }
   },
   "outputs": [],
   "source": [
    "sns.set_style(\"dark\")\n",
    "f = sns.catplot(x=\"Entity Level\",\n",
    "                y=\"Percentage\",\n",
    "                hue=\"Small Molecules\",\n",
    "                col=\"Bottleneck\",\n",
    "                data=data_br_ap,\n",
    "                kind=\"violin\",\n",
    "                height=6, aspect=1, sharey=False)\n",
    "f.set_titles(\"{col_name}\")"
   ]
  },
  {
   "cell_type": "code",
   "execution_count": null,
   "metadata": {
    "collapsed": false,
    "pycharm": {
     "name": "#%%\n"
    }
   },
   "outputs": [],
   "source": []
  }
 ],
 "metadata": {
  "kernelspec": {
   "display_name": "Python 3",
   "language": "python",
   "name": "python3"
  },
  "language_info": {
   "codemirror_mode": {
    "name": "ipython",
    "version": 3
   },
   "file_extension": ".py",
   "mimetype": "text/x-python",
   "name": "python",
   "nbconvert_exporter": "python",
   "pygments_lexer": "ipython3",
   "version": "3.10.2"
  }
 },
 "nbformat": 4,
 "nbformat_minor": 0
}
