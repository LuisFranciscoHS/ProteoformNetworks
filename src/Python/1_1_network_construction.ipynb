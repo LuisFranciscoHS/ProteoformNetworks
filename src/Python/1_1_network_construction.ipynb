{
 "cells": [
  {
   "cell_type": "markdown",
   "metadata": {},
   "source": [
    "# Interaction network construction\n",
    "\n",
    "\n"
   ]
  },
  {
   "cell_type": "code",
   "execution_count": null,
   "metadata": {},
   "outputs": [],
   "source": [
    "# Import dependencies for the complete notebook\n",
    "\n",
    "import os\n",
    "import config\n",
    "import pandas as pd\n",
    "from lib.networks import get_interactomes\n",
    "from pathlib import Path\n",
    "from config import METHODS, NETWORKS_PATH, DATA_REACTOME_PATH\n",
    "from config import LEVELS\n",
    "from lib.networks import get_json_filename, create_pathway_interaction_network, read_graph, \\\n",
    "    get_pathways_with_multiple_proteoforms, create_pathway_interaction_networks\n",
    "\n",
    "%load_ext autoreload\n",
    "%autoreload 2\n",
    "%reload_ext autoreload\n",
    "\n",
    "# Set the working directory to the root(\"/\") of the repository\n",
    "config.set_root_wd()"
   ]
  },
  {
   "cell_type": "code",
   "execution_count": null,
   "metadata": {},
   "outputs": [],
   "source": [
    "# Create interactome networks and store them in the /networks/interactomes/ directory\n",
    "interactome_networks_path = config.NETWORKS_PATH + \"interactomes/\"\n",
    "if not Path(interactome_networks_path).exists():\n",
    "    os.mkdir(interactome_networks_path)\n",
    "interactomes_no_sm, interactomes_with_sm, interactomes_with_unique_sm = get_interactomes(config.DATA_REACTOME_PATH, interactome_networks_path)\n",
    "interactomes = [*interactomes_no_sm.values(), *interactomes_with_sm.values(), *interactomes_with_unique_sm.values()]"
   ]
  },
  {
   "cell_type": "code",
   "execution_count": null,
   "metadata": {},
   "outputs": [],
   "source": [
    "# Select list of pathways with proteoforms\n",
    "pathway_networks_path = NETWORKS_PATH + \"pathways/\"\n",
    "if not Path(pathway_networks_path).exists():\n",
    "    os.mkdir(pathway_networks_path)\n",
    "if not Path(pathway_networks_path + \"complexes/\").exists():\n",
    "    os.mkdir(pathway_networks_path + \"complexes/\")\n",
    "pathways_with_proteoforms = get_pathways_with_multiple_proteoforms(DATA_REACTOME_PATH, pathway_networks_path)\n",
    "print(f\"Selected {len(pathways_with_proteoforms)} pathways.\")\n",
    "pathways_with_proteoforms[1:5]"
   ]
  },
  {
   "cell_type": "code",
   "execution_count": null,
   "metadata": {},
   "outputs": [],
   "source": [
    "# Create interaction network for each pathway that has proteoforms with PTMs\n",
    "# pathways_with_proteoforms = [\"R-HSA-9013508\"]\n",
    "for pathway in pathways_with_proteoforms:\n",
    "    create_pathway_interaction_networks(pathway, pathway_networks_path, True)"
   ]
  },
  {
   "cell_type": "markdown",
   "metadata": {},
   "source": []
  },
  {
   "cell_type": "markdown",
   "metadata": {},
   "source": [
    "# Create module networks\n",
    "\n",
    "#### Gather data\n",
    "\n",
    "- Set of entities associated to the disease: PhegenI contains disease associated genes\n",
    "- Set of interactions among entities: Implicit interactions in Reactome pathways\n",
    "\n",
    "#### Make sure data is there\n",
    "#### Read traits\n",
    "#### Create gene network for a trait\n",
    "\n",
    "Input:\n",
    "- Gene interactome\n",
    "- Set of entities associated to the disease\n",
    "\n",
    "Process A:\n",
    "- Induce subnetwork from interactome\n",
    "Process B:\n",
    "- Query Neo4j for Reactions where two proteins of the set are participating\n",
    "\n",
    "#### Create protein network for a trait\n",
    "\n",
    "Given a single gene can result in multiple product proteins due to alternative splicing.\n",
    "\n",
    "* Check if there are cases where the products of a single gene are annotated to a different set of reactions.\n",
    "\n",
    "Same as process for gene networks plus additional steps:\n",
    " - Remove the \n",
    " - \n",
    "\n",
    "#### Create proteoform network for a trait\n",
    "\n",
    "\n",
    "\n"
   ]
  }
 ],
 "metadata": {
  "interpreter": {
   "hash": "2be5faf79681da6f2a61fdfdd5405d65d042280f7fba6178067603e3a2925119"
  },
  "kernelspec": {
   "display_name": "Python 3.10.2 64-bit",
   "language": "python",
   "name": "python3"
  },
  "language_info": {
   "codemirror_mode": {
    "name": "ipython",
    "version": 3
   },
   "file_extension": ".py",
   "mimetype": "text/x-python",
   "name": "python",
   "nbconvert_exporter": "python",
   "pygments_lexer": "ipython3",
   "version": "3.10.2"
  },
  "orig_nbformat": 4
 },
 "nbformat": 4,
 "nbformat_minor": 2
}
