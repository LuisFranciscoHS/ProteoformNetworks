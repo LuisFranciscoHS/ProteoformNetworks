{
 "cells": [
  {
   "cell_type": "code",
   "execution_count": null,
   "metadata": {
    "collapsed": true
   },
   "outputs": [],
   "source": [
    "\n",
    "from Python import config\n",
    "from Python.network_topology_queries import get_pathways, get_reactions_and_participants_by_pathway\n",
    "\n",
    "config.set_root_wd()"
   ]
  },
  {
   "cell_type": "code",
   "execution_count": null,
   "outputs": [],
   "source": [
    "pathways = get_pathways()\n",
    "\n",
    "for pathway in pathways:\n",
    "    df_proteins = get_reactions_and_participants_by_pathway(pathway, level=\"proteins\")\n",
    "    df_proteoforms = get_reactions_and_participants_by_pathway(pathway, level=\"proteoforms\")\n",
    "    num_participants_protein_level = len(df_proteins['Id'].unique())\n",
    "    num_participants_proteoform_level = len(df_proteoforms['Id'].unique())\n",
    "    if num_participants_protein_level < 20 \\ \n",
    "        and num_participants_proteoform_level < 20 \\ \n",
    "        and num_participants_protein_level != num_participants_proteoform_level:\n",
    "        print(pathway)\n",
    "        print(f\"Protein level: {num_participants_protein_level}\")\n",
    "        print(f\"Proteoform level: {num_participants_proteoform_level}\")\n",
    "        print(f\"Participants at protein level:\\n\")\n",
    "        print(df_proteins['Id'].unique())\n",
    "        print(f\"Participants at proteoform level:\\n\")\n",
    "        print(df_proteoforms['Id'].unique())\n",
    "        break\n",
    "    \n",
    "\n"
   ],
   "metadata": {
    "collapsed": false,
    "pycharm": {
     "name": "#%%\n"
    }
   }
  }
 ],
 "metadata": {
  "kernelspec": {
   "display_name": "Python 3",
   "language": "python",
   "name": "python3"
  },
  "language_info": {
   "codemirror_mode": {
    "name": "ipython",
    "version": 2
   },
   "file_extension": ".py",
   "mimetype": "text/x-python",
   "name": "python",
   "nbconvert_exporter": "python",
   "pygments_lexer": "ipython2",
   "version": "2.7.6"
  },
  "pycharm": {
   "stem_cell": {
    "cell_type": "raw",
    "source": [],
    "metadata": {
     "collapsed": false
    }
   }
  }
 },
 "nbformat": 4,
 "nbformat_minor": 0
}