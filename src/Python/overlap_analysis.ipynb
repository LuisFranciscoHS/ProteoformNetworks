{
 "cells": [
  {
   "cell_type": "code",
   "execution_count": 2,
   "outputs": [],
   "source": [
    "# Generates module files: gene_modules.tsv, protein_modules.tsv and proteoform_modules.tsv\n",
    "# Generates single module files at each level: gene, protein and proteoform file for each trait\n",
    "# Module sizes for genes, protein and proteoform levels\n",
    "# Variation in module sizes when going from one level to the other\n",
    "# Three files (for genes, proteins and proteoforms) with the Overlap similarity of each \n",
    "# pair of traits.\n",
    "# Creates a file with a selection of trait pair examples which show decrease in the overlap.\n",
    "# TODO: Creates a file with a selection of trait pair examples which show overlap only with \n",
    "# modified proteins."
   ],
   "metadata": {
    "collapsed": false,
    "pycharm": {
     "name": "#%% Execute the C++ program to generate the module report files\n",
     "is_executing": false
    }
   }
  },
  {
   "cell_type": "code",
   "execution_count": 1,
   "outputs": [
    {
     "name": "stdout",
     "text": [
      "WD:  C:\\git\\PathwayAnalysisPlatform\\ProteoformNetworks\\src\\Python\n"
     ],
     "output_type": "stream"
    }
   ],
   "source": [
    "import os\n",
    "print(\"WD: \", os.getcwd())"
   ],
   "metadata": {
    "collapsed": false,
    "pycharm": {
     "name": "#%%\n",
     "is_executing": false
    }
   }
  },
  {
   "cell_type": "code",
   "execution_count": null,
   "outputs": [],
   "source": [],
   "metadata": {
    "collapsed": false,
    "pycharm": {
     "name": "#%% Explore module sizes\n"
    }
   }
  },
  {
   "cell_type": "code",
   "execution_count": null,
   "outputs": [],
   "source": [],
   "metadata": {
    "collapsed": false,
    "pycharm": {
     "name": "#%% Explore variation in module sizes\n"
    }
   }
  },
  {
   "cell_type": "code",
   "execution_count": 3,
   "outputs": [],
   "source": [
    "import pandas as pd\n",
    "\n",
    "scores_genes = pd.read_csv(\"../../reports/scores_genes_overlap_similarity.tsv\", sep='\\t')\n",
    "scores_proteins = pd.read_csv(\"../../reports/scores_proteins_overlap_similarity.tsv\", sep='\\t')\n",
    "scores_proteoforms = pd.read_csv(\"../../reports/scores_proteoforms_overlap_similarity.tsv\", sep='\\t')\n",
    "\n",
    "# scores_genes.index = \"Pair\"\n",
    "# scores_genes.rename()\n",
    "# scores_genes.head()"
   ],
   "metadata": {
    "collapsed": false,
    "pycharm": {
     "name": "#%% Explore overlap scores at gene, protein and proteoform level\n",
     "is_executing": false
    }
   }
  },
  {
   "cell_type": "code",
   "execution_count": null,
   "outputs": [],
   "source": [
    "from lib.plot_module_pair import plot_module_pair\n",
    "\n",
    "plot_module_pair(\"Corneal Topography\", \"Psoriasis\", \"proteoform\", path_to_root=\"../../\")\n",
    "\n",
    "# Read the report with the score differences\n",
    "import pandas as pd\n",
    "\n",
    "data = pd.read_csv(\"../../reports/overlap_similarity_score_variation_examples.tsv\", sep='\\t')\n",
    "data.index.name = \"Trait pair\""
   ],
   "metadata": {
    "collapsed": false,
    "pycharm": {
     "name": "#%% Plot the score densities\n",
     "is_executing": false
    }
   }
  },
  {
   "cell_type": "code",
   "execution_count": null,
   "outputs": [],
   "source": [
    "data.head()"
   ],
   "metadata": {
    "collapsed": false,
    "pycharm": {
     "name": "#%% Show the first examples of module pairs\n",
     "is_executing": false
    }
   }
  },
  {
   "cell_type": "code",
   "execution_count": 5,
   "outputs": [],
   "source": [],
   "metadata": {
    "collapsed": false,
    "pycharm": {
     "name": "#%% Visualize particular pair of modules\n",
     "is_executing": false
    }
   }
  },
  {
   "cell_type": "code",
   "execution_count": null,
   "outputs": [],
   "source": [
    "# Map gene ids\n",
    "import pandas as pd\n",
    "\n",
    "from lib.conversions import create_gene_to_protein_mapping\n",
    "\n",
    "path_file_genes = \"../../../resources/Reactome/v70/Genes/all_genes_v70.csv\"\n",
    "\n",
    "create_gene_to_protein_mapping(path_file_genes, \"../../../resources/UniProt/\", \"mapping_genes_proteins.csv\", 1000)\n"
   ],
   "metadata": {
    "collapsed": false,
    "pycharm": {
     "name": "#%%\n"
    }
   }
  }
 ],
 "metadata": {
  "kernelspec": {
   "display_name": "Python 3",
   "language": "python",
   "name": "python3"
  },
  "language_info": {
   "codemirror_mode": {
    "name": "ipython",
    "version": 2
   },
   "file_extension": ".py",
   "mimetype": "text/x-python",
   "name": "python",
   "nbconvert_exporter": "python",
   "pygments_lexer": "ipython2",
   "version": "2.7.6"
  },
  "pycharm": {
   "stem_cell": {
    "cell_type": "raw",
    "source": [],
    "metadata": {
     "collapsed": false
    }
   }
  }
 },
 "nbformat": 4,
 "nbformat_minor": 0
}