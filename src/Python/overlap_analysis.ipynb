{
 "cells": [
  {
   "cell_type": "code",
   "execution_count": 2,
   "outputs": [
    {
     "name": "stdout",
     "text": [
      "WD:  C:\\git\\PathwayAnalysisPlatform\\ProteoformNetworks\\src\\Python\n"
     ],
     "output_type": "stream"
    }
   ],
   "source": [
    "import os\n",
    "print(\"WD: \", os.getcwd())"
   ],
   "metadata": {
    "collapsed": false,
    "pycharm": {
     "name": "#%% Basic check to execute the Jupyter notebook\n",
     "is_executing": false
    }
   }
  },
  {
   "cell_type": "code",
   "execution_count": null,
   "outputs": [],
   "source": [
    "from lib.conversions import create_gene_to_protein_mapping\n",
    "\n",
    "\n",
    "path_file_genes = \"../../../resources/Reactome/v70/Genes/all_genes_v70.csv\"\n",
    "create_gene_to_protein_mapping(path_file_genes, \"../../../resources/UniProt/\", \"mapping_proteins_to_genes_v70.tab\", 1000)\n"
   ],
   "metadata": {
    "collapsed": false,
    "pycharm": {
     "name": "#%% Get the necessary data files\n"
    }
   }
  },
  {
   "cell_type": "code",
   "execution_count": 2,
   "outputs": [],
   "source": [
    "# Generates module files: gene_modules.tsv, protein_modules.tsv and proteoform_modules.tsv\n",
    "# Generates single module files at each level: gene, protein and proteoform file for each trait\n",
    "# Module sizes for genes, protein and proteoform levels\n",
    "# Variation in module sizes when going from one level to the other\n",
    "# Three files (for genes, proteins and proteoforms) with the Overlap similarity of each \n",
    "# pair of traits.\n",
    "# Creates a file with a selection of trait pair examples which show decrease in the overlap.\n",
    "# TODO: Creates a file with examples where the number of crossing edges between modules changed\n",
    "# TODO: Creates a file with a selection of trait pair examples which show overlap only with \n",
    "# modified proteins."
   ],
   "metadata": {
    "collapsed": false,
    "pycharm": {
     "name": "#%% Create report files: Execute the C++ main program\n",
     "is_executing": false
    }
   }
  },
  {
   "cell_type": "code",
   "execution_count": null,
   "outputs": [],
   "source": [],
   "metadata": {
    "collapsed": false,
    "pycharm": {
     "name": "#%% Explore module sizes\n"
    }
   }
  },
  {
   "cell_type": "code",
   "execution_count": null,
   "outputs": [],
   "source": [],
   "metadata": {
    "collapsed": false,
    "pycharm": {
     "name": "#%% Explore variation in module sizes\n"
    }
   }
  },
  {
   "cell_type": "code",
   "execution_count": 3,
   "outputs": [],
   "source": [
    "import pandas as pd\n",
    "\n",
    "scores_genes = pd.read_csv(\"../../reports/scores_genes_overlap_similarity.tsv\", sep='\\t')\n",
    "scores_proteins = pd.read_csv(\"../../reports/scores_proteins_overlap_similarity.tsv\", sep='\\t')\n",
    "scores_proteoforms = pd.read_csv(\"../../reports/scores_proteoforms_overlap_similarity.tsv\", sep='\\t')\n",
    "\n",
    "# scores_genes.index = \"Pair\"\n",
    "# scores_genes.rename()\n",
    "# scores_genes.head()"
   ],
   "metadata": {
    "collapsed": false,
    "pycharm": {
     "name": "#%% Explore overlap scores at gene, protein and proteoform level\n",
     "is_executing": false
    }
   }
  },
  {
   "cell_type": "code",
   "execution_count": 4,
   "outputs": [
    {
     "data": {
      "text/plain": "                         TRAIT1                    TRAIT2  SCORE_GENES  \\\nTrait pair                                                               \n0                   Thyrotropin       Waist Circumference     0.166667   \n1                        Stroke  Wet Macular Degeneration     0.076923   \n2                        Stroke             Triglycerides     0.400000   \n3                     Psoriasis           Waist-Hip Ratio     0.111111   \n4                     Psoriasis       Waist Circumference     0.029412   \n...                         ...                       ...          ...   \n877         Electrocardiography                       Hip     0.030303   \n878         Electrocardiography      Metabolic Syndrome X     0.500000   \n879         Electrocardiography                Metabolism     0.151515   \n880         Electrocardiography                 Mortality     0.714286   \n881         Electrocardiography                 Neoplasms     0.500000   \n\n            SCORE_PROTEINS  SCORE_PROTEOFORMS  GENES_TO_PROTEINS  \\\nTrait pair                                                         \n0                 0.166667           0.000000                0.0   \n1                 0.076923           0.000000                0.0   \n2                 0.400000           0.375000                0.0   \n3                 0.111111           0.100000                0.0   \n4                 0.029412           0.010101                0.0   \n...                    ...                ...                ...   \n877               0.030303           0.000000                0.0   \n878               0.500000           0.375000                0.0   \n879               0.151515           0.108108                0.0   \n880               0.714286           0.500000                0.0   \n881               0.500000           0.333333                0.0   \n\n            PROTEINS_TO_PROTEOFORMS  \nTrait pair                           \n0                         -0.166667  \n1                         -0.076923  \n2                         -0.025000  \n3                         -0.011111  \n4                         -0.019311  \n...                             ...  \n877                       -0.030303  \n878                       -0.125000  \n879                       -0.043407  \n880                       -0.214286  \n881                       -0.166667  \n\n[882 rows x 7 columns]",
      "text/html": "<div>\n<style scoped>\n    .dataframe tbody tr th:only-of-type {\n        vertical-align: middle;\n    }\n\n    .dataframe tbody tr th {\n        vertical-align: top;\n    }\n\n    .dataframe thead th {\n        text-align: right;\n    }\n</style>\n<table border=\"1\" class=\"dataframe\">\n  <thead>\n    <tr style=\"text-align: right;\">\n      <th></th>\n      <th>TRAIT1</th>\n      <th>TRAIT2</th>\n      <th>SCORE_GENES</th>\n      <th>SCORE_PROTEINS</th>\n      <th>SCORE_PROTEOFORMS</th>\n      <th>GENES_TO_PROTEINS</th>\n      <th>PROTEINS_TO_PROTEOFORMS</th>\n    </tr>\n    <tr>\n      <th>Trait pair</th>\n      <th></th>\n      <th></th>\n      <th></th>\n      <th></th>\n      <th></th>\n      <th></th>\n      <th></th>\n    </tr>\n  </thead>\n  <tbody>\n    <tr>\n      <td>0</td>\n      <td>Thyrotropin</td>\n      <td>Waist Circumference</td>\n      <td>0.166667</td>\n      <td>0.166667</td>\n      <td>0.000000</td>\n      <td>0.0</td>\n      <td>-0.166667</td>\n    </tr>\n    <tr>\n      <td>1</td>\n      <td>Stroke</td>\n      <td>Wet Macular Degeneration</td>\n      <td>0.076923</td>\n      <td>0.076923</td>\n      <td>0.000000</td>\n      <td>0.0</td>\n      <td>-0.076923</td>\n    </tr>\n    <tr>\n      <td>2</td>\n      <td>Stroke</td>\n      <td>Triglycerides</td>\n      <td>0.400000</td>\n      <td>0.400000</td>\n      <td>0.375000</td>\n      <td>0.0</td>\n      <td>-0.025000</td>\n    </tr>\n    <tr>\n      <td>3</td>\n      <td>Psoriasis</td>\n      <td>Waist-Hip Ratio</td>\n      <td>0.111111</td>\n      <td>0.111111</td>\n      <td>0.100000</td>\n      <td>0.0</td>\n      <td>-0.011111</td>\n    </tr>\n    <tr>\n      <td>4</td>\n      <td>Psoriasis</td>\n      <td>Waist Circumference</td>\n      <td>0.029412</td>\n      <td>0.029412</td>\n      <td>0.010101</td>\n      <td>0.0</td>\n      <td>-0.019311</td>\n    </tr>\n    <tr>\n      <td>...</td>\n      <td>...</td>\n      <td>...</td>\n      <td>...</td>\n      <td>...</td>\n      <td>...</td>\n      <td>...</td>\n      <td>...</td>\n    </tr>\n    <tr>\n      <td>877</td>\n      <td>Electrocardiography</td>\n      <td>Hip</td>\n      <td>0.030303</td>\n      <td>0.030303</td>\n      <td>0.000000</td>\n      <td>0.0</td>\n      <td>-0.030303</td>\n    </tr>\n    <tr>\n      <td>878</td>\n      <td>Electrocardiography</td>\n      <td>Metabolic Syndrome X</td>\n      <td>0.500000</td>\n      <td>0.500000</td>\n      <td>0.375000</td>\n      <td>0.0</td>\n      <td>-0.125000</td>\n    </tr>\n    <tr>\n      <td>879</td>\n      <td>Electrocardiography</td>\n      <td>Metabolism</td>\n      <td>0.151515</td>\n      <td>0.151515</td>\n      <td>0.108108</td>\n      <td>0.0</td>\n      <td>-0.043407</td>\n    </tr>\n    <tr>\n      <td>880</td>\n      <td>Electrocardiography</td>\n      <td>Mortality</td>\n      <td>0.714286</td>\n      <td>0.714286</td>\n      <td>0.500000</td>\n      <td>0.0</td>\n      <td>-0.214286</td>\n    </tr>\n    <tr>\n      <td>881</td>\n      <td>Electrocardiography</td>\n      <td>Neoplasms</td>\n      <td>0.500000</td>\n      <td>0.500000</td>\n      <td>0.333333</td>\n      <td>0.0</td>\n      <td>-0.166667</td>\n    </tr>\n  </tbody>\n</table>\n<p>882 rows × 7 columns</p>\n</div>"
     },
     "metadata": {},
     "output_type": "execute_result",
     "execution_count": 4
    }
   ],
   "source": [
    "import pandas as pd\n",
    "\n",
    "data = pd.read_csv(\"../../reports/overlap_similarity_score_variation_examples.tsv\", sep='\\t')\n",
    "data.index.name = \"Trait pair\"\n",
    "\n",
    "data"
   ],
   "metadata": {
    "collapsed": false,
    "pycharm": {
     "name": "#%% Read the report with the score differences\n",
     "is_executing": false
    }
   }
  },
  {
   "cell_type": "code",
   "execution_count": 1,
   "outputs": [
    {
     "name": "stdout",
     "text": [
      "Creating graph 1\nReading members of module  Electrocardiography\nReading interactions in module  Electrocardiography\nCreating graph 2\nReading members of module  Neoplasms\nReading interactions in module  Neoplasms\n{'AOC1': '1', 'NFKB1': '1', 'JUP': '1', 'APOB': 'OVERLAP', 'LIPC': 'OVERLAP', 'CETP': 'OVERLAP', 'APOC1': 'OVERLAP', 'LPL': 'OVERLAP', 'CDC23': '1', 'TRIM63': '1', 'UBE2E2': '1', 'CREBBP': '1', 'TCF7L2': '1', 'MAML3': '1', 'NCOA2': '1', 'DOK5': '1', 'GFRA3': '1', 'PRKCA': '1', 'PLCG1': '1', 'GOSR2': '1', 'VTI1A': '1', 'KCNAB2': '1', 'KCNH2': '1', 'KCNQ1': '1', 'KCND3': '1', 'KCNE1': '1', 'LIG3': '1', 'POLK': '1', 'LPIN2': '1', 'LPIN3': '1', 'STAT1': '1', 'SCN10A': '1', 'SCN5A': '1', 'AFP': '2', 'MGAT4A': '2', 'FCHO1': '2', 'KLK2': '2', 'KLK3': '2'}\n{('AOC1', 'NFKB1'): 'black', ('AOC1', 'JUP'): 'black', ('NFKB1', 'CREBBP'): 'black', ('NFKB1', 'JUP'): 'black', ('APOB', 'LIPC'): 'orange', ('APOB', 'CETP'): 'orange', ('APOB', 'APOC1'): 'orange', ('APOB', 'LPL'): 'orange', ('APOB', 'AFP'): 'red', ('APOB', 'FCHO1'): 'red', ('APOB', 'MGAT4A'): 'red', ('CDC23', 'TRIM63'): 'black', ('CDC23', 'UBE2E2'): 'black', ('TRIM63', 'UBE2E2'): 'black', ('CREBBP', 'TCF7L2'): 'black', ('CREBBP', 'MAML3'): 'black', ('CREBBP', 'NCOA2'): 'black', ('MAML3', 'STAT1'): 'black', ('DOK5', 'GFRA3'): 'black', ('GFRA3', 'PRKCA'): 'black', ('GFRA3', 'PLCG1'): 'black', ('PLCG1', 'STAT1'): 'black', ('GOSR2', 'VTI1A'): 'black', ('KCNAB2', 'KCNH2'): 'black', ('KCNAB2', 'KCNQ1'): 'black', ('KCNAB2', 'KCND3'): 'black', ('KCNH2', 'KCND3'): 'black', ('KCNH2', 'KCNE1'): 'black', ('KCNH2', 'KCNQ1'): 'black', ('KCNQ1', 'KCND3'): 'black', ('KCNQ1', 'KCNE1'): 'black', ('LIG3', 'POLK'): 'black', ('LPIN2', 'LPIN3'): 'black', ('SCN10A', 'SCN5A'): 'black', ('AFP', 'MGAT4A'): 'black', ('KLK2', 'KLK3'): 'black'}\n",
      "Creating graph 1\nReading members of module  Electrocardiography\nReading interactions in module  Electrocardiography\nCreating graph 2\nReading members of module  Neoplasms\nReading interactions in module  Neoplasms\n{'O14653': '1', 'Q96AJ9': '1', 'O60609': '1', 'P19174': '1', 'Q9P104': '1', 'P17252': '1', 'P02654': 'OVERLAP', 'P04114': 'OVERLAP', 'P11150': 'OVERLAP', 'P06858': 'OVERLAP', 'P11597': 'OVERLAP', 'P14923': '1', 'P19838': '1', 'P19801': '1', 'P15382': '1', 'P51787': '1', 'Q12809': '1', 'P42224': '1', 'Q92793': '1', 'Q96JK9': '1', 'P49916': '1', 'Q9UBT6': '1', 'Q13303': '1', 'Q9UK17': '1', 'Q14524': '1', 'Q9Y5Y9': '1', 'Q15596': '1', 'Q92539': '1', 'Q9BQK8': '1', 'Q9NQB0': '1', 'Q969Q1': '1', 'Q96LR5': '1', 'Q9UJX2': '1', 'O14526': '2', 'P02771': '2', 'Q9UM21': '2', 'P07288': '2', 'P20151': '2'}\n{('O14653', 'Q96AJ9'): 'black', ('O60609', 'P19174'): 'black', ('O60609', 'Q9P104'): 'black', ('O60609', 'P17252'): 'black', ('P19174', 'P42224'): 'black', ('P02654', 'P04114'): 'orange', ('P04114', 'P11150'): 'orange', ('P04114', 'P06858'): 'orange', ('P04114', 'P11597'): 'orange', ('P04114', 'O14526'): 'red', ('P04114', 'P02771'): 'red', ('P04114', 'Q9UM21'): 'red', ('P14923', 'P19838'): 'black', ('P14923', 'P19801'): 'black', ('P19838', 'P19801'): 'black', ('P19838', 'Q92793'): 'black', ('P15382', 'P51787'): 'black', ('P15382', 'Q12809'): 'black', ('P51787', 'Q13303'): 'black', ('P51787', 'Q12809'): 'black', ('P51787', 'Q9UK17'): 'black', ('Q12809', 'Q13303'): 'black', ('Q12809', 'Q9UK17'): 'black', ('P42224', 'Q96JK9'): 'black', ('Q92793', 'Q15596'): 'black', ('Q92793', 'Q9NQB0'): 'black', ('Q92793', 'Q96JK9'): 'black', ('P49916', 'Q9UBT6'): 'black', ('Q13303', 'Q9UK17'): 'black', ('Q14524', 'Q9Y5Y9'): 'black', ('Q92539', 'Q9BQK8'): 'black', ('Q969Q1', 'Q96LR5'): 'black', ('Q969Q1', 'Q9UJX2'): 'black', ('Q96LR5', 'Q9UJX2'): 'black', ('P02771', 'Q9UM21'): 'black', ('P07288', 'P20151'): 'black'}\nCreating graph 1\nReading members of module  Electrocardiography\nReading interactions in module  Electrocardiography\nCreating graph 2\nReading members of module  Neoplasms\nReading interactions in module  Neoplasms\n{'O14653;': '1', 'Q96AJ9;': '1', 'O60609;': '1', 'P19174;': '1', 'P17252;': '1', 'Q9P104;': '1', 'P02654;': 'OVERLAP', 'P04114;': 'OVERLAP', 'P06858;': 'OVERLAP', 'P04114;00064:null': 'OVERLAP', 'P04114;00028:680,00028:883,00028:2665,00028:2845,00028:4019,00028:4531,00464:583,00465:56,00465:144,00465:276,00465:1020,00465:3295,00465:3923,00465:3926,00465:4380,00465:4451,00478:65,00478:145,00478:663,00478:1007,00478:2620,00478:2659,00478:3262,00478:3293,00478:3310,00478:3593,00912:2195,00912:2208,00971:596,00971:2507,00971:4529': 'OVERLAP', 'P11150;': 'OVERLAP', 'P04114;00696:null': 'OVERLAP', 'P11597;': 'OVERLAP', 'P14923;': '1', 'P19801;': '1', 'P19838;': '1', 'P15382;': '1', 'Q12809;': '1', 'P51787;': '1', 'P17252;00047:497': '1', 'P17252;00046:657,00047:497,00047:638': '1', 'P19174;00048:null': '1', 'P19174;00048:472,00048:771,00048:783,00048:1253': '1', 'P19174;00048:771,00048:783,00048:1253': '1', 'P42224;': '1', 'P19838;00046:927,00046:932': '1', 'P19838;00046:927,00046:932,01148:null': '1', 'Q92793;': '1', 'P42224-1;': '1', 'P42224-1;00046:727,00048:701': '1', 'P42224-2;00048:701': '1', 'P42224-2;': '1', 'P42224-1;00048:701': '1', 'P42224;00048:701': '1', 'Q96JK9;': '1', 'P49916;': '1', 'Q9UBT6;': '1', 'Q13303;': '1', 'Q9UK17;': '1', 'Q14524;': '1', 'Q9Y5Y9;': '1', 'Q15596;': '1', 'Q15596;01149:239,01149:731,01149:788': '1', 'Q92539;': '1', 'Q9BQK8;00046:106': '1', 'Q9BQK8;': '1', 'Q92539;00046:106': '1', 'Q92793;00798:null': '1', 'Q9NQB0;': '1', 'Q92793;01149:998,01149:1033,01149:1056': '1', 'Q969Q1;': '1', 'Q96LR5;': '1', 'Q9UJX2;': '1', 'Q9NQB0;00047:201,00047:212': '1', 'O14526;': '2', 'P02771;': '2', 'Q9UM21;00696:null': '2', 'Q9UM21;': '2', 'P02771;00696:null': '2', 'P07288;': '2', 'P20151;': '2'}\n{('O14653;', 'Q96AJ9;'): 'black', ('O60609;', 'P19174;'): 'black', ('O60609;', 'P17252;'): 'black', ('O60609;', 'Q9P104;'): 'black', ('P19174;', 'P19174;00048:null'): 'black', ('P19174;', 'P19174;00048:472,00048:771,00048:783,00048:1253'): 'black', ('P19174;', 'P19174;00048:771,00048:783,00048:1253'): 'black', ('P19174;', 'P42224;'): 'black', ('P17252;', 'P17252;00047:497'): 'black', ('P02654;', 'P04114;'): 'orange', ('P04114;', 'P06858;'): 'orange', ('P04114;', 'P04114;00064:null'): 'orange', ('P04114;', 'P04114;00028:680,00028:883,00028:2665,00028:2845,00028:4019,00028:4531,00464:583,00465:56,00465:144,00465:276,00465:1020,00465:3295,00465:3923,00465:3926,00465:4380,00465:4451,00478:65,00478:145,00478:663,00478:1007,00478:2620,00478:2659,00478:3262,00478:3293,00478:3310,00478:3593,00912:2195,00912:2208,00971:596,00971:2507,00971:4529'): 'orange', ('P04114;', 'P11150;'): 'orange', ('P04114;', 'P04114;00696:null'): 'orange', ('P04114;', 'P11597;'): 'orange', ('P04114;', 'O14526;'): 'red', ('P04114;', 'P02771;'): 'red', ('P04114;', 'P02771;00696:null'): 'red', ('P04114;', 'Q9UM21;00696:null'): 'red', ('P04114;', 'Q9UM21;'): 'red', ('P04114;00064:null', 'P04114;00028:680,00028:883,00028:2665,00028:2845,00028:4019,00028:4531,00464:583,00465:56,00465:144,00465:276,00465:1020,00465:3295,00465:3923,00465:3926,00465:4380,00465:4451,00478:65,00478:145,00478:663,00478:1007,00478:2620,00478:2659,00478:3262,00478:3293,00478:3310,00478:3593,00912:2195,00912:2208,00971:596,00971:2507,00971:4529'): 'orange', ('P04114;00696:null', 'P02771;'): 'red', ('P04114;00696:null', 'P02771;00696:null'): 'red', ('P04114;00696:null', 'Q9UM21;00696:null'): 'red', ('P04114;00696:null', 'Q9UM21;'): 'red', ('P14923;', 'P19801;'): 'black', ('P14923;', 'P19838;'): 'black', ('P19801;', 'P19838;'): 'black', ('P19838;', 'P19838;00046:927,00046:932'): 'black', ('P19838;', 'P19838;00046:927,00046:932,01148:null'): 'black', ('P19838;', 'Q92793;'): 'black', ('P15382;', 'Q12809;'): 'black', ('P15382;', 'P51787;'): 'black', ('Q12809;', 'P51787;'): 'black', ('Q12809;', 'Q9UK17;'): 'black', ('Q12809;', 'Q13303;'): 'black', ('P51787;', 'Q13303;'): 'black', ('P51787;', 'Q9UK17;'): 'black', ('P17252;00047:497', 'P17252;00046:657,00047:497,00047:638'): 'black', ('P19174;00048:472,00048:771,00048:783,00048:1253', 'P19174;00048:771,00048:783,00048:1253'): 'black', ('P42224;', 'P42224;00048:701'): 'black', ('P19838;00046:927,00046:932', 'P19838;00046:927,00046:932,01148:null'): 'black', ('Q92793;', 'Q15596;'): 'black', ('Q92793;', 'Q92793;00798:null'): 'black', ('Q92793;', 'Q9NQB0;'): 'black', ('Q92793;', 'Q92793;01149:998,01149:1033,01149:1056'): 'black', ('Q92793;', 'Q96JK9;'): 'black', ('P42224-1;', 'P42224-1;00046:727,00048:701'): 'black', ('P42224-1;', 'P42224-2;00048:701'): 'black', ('P42224-1;', 'P42224-2;'): 'black', ('P42224-1;', 'P42224-1;00048:701'): 'black', ('P42224-1;00046:727,00048:701', 'P42224-1;00048:701'): 'black', ('P42224-2;00048:701', 'P42224-1;00048:701'): 'black', ('P42224-2;00048:701', 'P42224-2;'): 'black', ('P42224-2;', 'P42224-1;00048:701'): 'black', ('P42224;00048:701', 'Q96JK9;'): 'black', ('P49916;', 'Q9UBT6;'): 'black', ('Q13303;', 'Q9UK17;'): 'black', ('Q14524;', 'Q9Y5Y9;'): 'black', ('Q15596;', 'Q15596;01149:239,01149:731,01149:788'): 'black', ('Q92539;', 'Q9BQK8;00046:106'): 'black', ('Q92539;', 'Q9BQK8;'): 'black', ('Q92539;', 'Q92539;00046:106'): 'black', ('Q9BQK8;00046:106', 'Q92539;00046:106'): 'black', ('Q9BQK8;00046:106', 'Q9BQK8;'): 'black', ('Q9BQK8;', 'Q92539;00046:106'): 'black', ('Q9NQB0;', 'Q9NQB0;00047:201,00047:212'): 'black', ('Q969Q1;', 'Q96LR5;'): 'black', ('Q969Q1;', 'Q9UJX2;'): 'black', ('Q96LR5;', 'Q9UJX2;'): 'black', ('P02771;', 'Q9UM21;00696:null'): 'black', ('P02771;', 'Q9UM21;'): 'black', ('P02771;', 'P02771;00696:null'): 'black', ('Q9UM21;00696:null', 'P02771;00696:null'): 'black', ('Q9UM21;00696:null', 'Q9UM21;'): 'black', ('Q9UM21;', 'P02771;00696:null'): 'black', ('P07288;', 'P20151;'): 'black'}\n"
     ],
     "output_type": "stream"
    }
   ],
   "source": [
    "from lib.visualization import plot_module_pair\n",
    "\n",
    "trait1 = \"Electrocardiography\"\n",
    "trait2 = \"Neoplasms\"\n",
    "path_to_modules = \"../../reports/modules/\"\n",
    "path_to_figures = \"../../figures/overlap_analysis/\"\n",
    "\n",
    "plot_module_pair(trait1, trait2, \"genes\", path_to_modules, path_to_figures)\n",
    "plot_module_pair(trait1, trait2, \"proteins\", path_to_modules, path_to_figures)\n",
    "plot_module_pair(trait1, trait2, \"proteoforms\", path_to_modules, path_to_figures)\n",
    "\n",
    "\n"
   ],
   "metadata": {
    "collapsed": false,
    "pycharm": {
     "name": "#%% Visualize particular pair of modules\n",
     "is_executing": false
    }
   }
  }
 ],
 "metadata": {
  "kernelspec": {
   "display_name": "Python 3",
   "language": "python",
   "name": "python3"
  },
  "language_info": {
   "codemirror_mode": {
    "name": "ipython",
    "version": 2
   },
   "file_extension": ".py",
   "mimetype": "text/x-python",
   "name": "python",
   "nbconvert_exporter": "python",
   "pygments_lexer": "ipython2",
   "version": "2.7.6"
  },
  "pycharm": {
   "stem_cell": {
    "cell_type": "raw",
    "source": [],
    "metadata": {
     "collapsed": false
    }
   }
  }
 },
 "nbformat": 4,
 "nbformat_minor": 0
}