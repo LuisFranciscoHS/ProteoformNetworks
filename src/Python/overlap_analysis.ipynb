{
 "cells": [
  {
   "cell_type": "code",
   "execution_count": null,
   "outputs": [],
   "source": [
    "# import os\n",
    "# print(\"WD: \", os.getcwd())"
   ],
   "metadata": {
    "collapsed": false,
    "pycharm": {
     "name": "#%% Basic check to execute the Jupyter notebook\n"
    }
   }
  },
  {
   "cell_type": "code",
   "execution_count": null,
   "outputs": [],
   "source": [
    "from lib.conversions import create_gene_to_protein_mapping\n",
    "\n",
    "\n",
    "path_file_genes = \"../../../resources/Reactome/v70/Genes/all_genes_v70.csv\"\n",
    "create_gene_to_protein_mapping(path_file_genes, \"../../../resources/UniProt/\", \"mapping_proteins_to_genes_v70.tab\", 1000)\n"
   ],
   "metadata": {
    "collapsed": false,
    "pycharm": {
     "name": "#%% Get the necessary data files\n"
    }
   }
  },
  {
   "cell_type": "code",
   "execution_count": 2,
   "outputs": [],
   "source": [
    "# Generates module files: gene_modules.tsv, protein_modules.tsv and proteoform_modules.tsv\n",
    "# Generates single module files at each level: gene, protein and proteoform file for each trait\n",
    "# Module sizes for genes, protein and proteoform levels\n",
    "# Variation in module sizes when going from one level to the other\n",
    "# Three files (for genes, proteins and proteoforms) with the Overlap similarity of each \n",
    "# pair of traits.\n",
    "# Creates a file with a selection of trait pair examples which show decrease in the overlap.\n",
    "# TODO: Creates a file with examples where the number of crossing edges between modules changed\n",
    "# TODO: Creates a file with a selection of trait pair examples which show overlap only with \n",
    "# modified proteins."
   ],
   "metadata": {
    "collapsed": false,
    "pycharm": {
     "name": "#%% Create report files: Execute the C++ main program\n",
     "is_executing": false
    }
   }
  },
  {
   "cell_type": "code",
   "execution_count": null,
   "outputs": [],
   "source": [],
   "metadata": {
    "collapsed": false,
    "pycharm": {
     "name": "#%% Explore module sizes\n"
    }
   }
  },
  {
   "cell_type": "code",
   "execution_count": null,
   "outputs": [],
   "source": [],
   "metadata": {
    "collapsed": false,
    "pycharm": {
     "name": "#%% Explore variation in module sizes\n"
    }
   }
  },
  {
   "cell_type": "code",
   "execution_count": 3,
   "outputs": [],
   "source": [
    "import pandas as pd\n",
    "\n",
    "scores_genes = pd.read_csv(\"../../reports/scores_genes_overlap_similarity.tsv\", sep='\\t')\n",
    "scores_proteins = pd.read_csv(\"../../reports/scores_proteins_overlap_similarity.tsv\", sep='\\t')\n",
    "scores_proteoforms = pd.read_csv(\"../../reports/scores_proteoforms_overlap_similarity.tsv\", sep='\\t')\n",
    "\n",
    "# scores_genes.index = \"Pair\"\n",
    "# scores_genes.rename()\n",
    "# scores_genes.head()"
   ],
   "metadata": {
    "collapsed": false,
    "pycharm": {
     "name": "#%% Explore overlap scores at gene, protein and proteoform level\n",
     "is_executing": false
    }
   }
  },
  {
   "cell_type": "code",
   "execution_count": 4,
   "outputs": [
    {
     "data": {
      "text/plain": "                         TRAIT1                    TRAIT2  SCORE_GENES  \\\nTrait pair                                                               \n0                   Thyrotropin       Waist Circumference     0.166667   \n1                        Stroke  Wet Macular Degeneration     0.076923   \n2                        Stroke             Triglycerides     0.400000   \n3                     Psoriasis           Waist-Hip Ratio     0.111111   \n4                     Psoriasis       Waist Circumference     0.029412   \n...                         ...                       ...          ...   \n877         Electrocardiography                       Hip     0.030303   \n878         Electrocardiography      Metabolic Syndrome X     0.500000   \n879         Electrocardiography                Metabolism     0.151515   \n880         Electrocardiography                 Mortality     0.714286   \n881         Electrocardiography                 Neoplasms     0.500000   \n\n            SCORE_PROTEINS  SCORE_PROTEOFORMS  GENES_TO_PROTEINS  \\\nTrait pair                                                         \n0                 0.166667           0.000000                0.0   \n1                 0.076923           0.000000                0.0   \n2                 0.400000           0.375000                0.0   \n3                 0.111111           0.100000                0.0   \n4                 0.029412           0.010101                0.0   \n...                    ...                ...                ...   \n877               0.030303           0.000000                0.0   \n878               0.500000           0.375000                0.0   \n879               0.151515           0.108108                0.0   \n880               0.714286           0.500000                0.0   \n881               0.500000           0.333333                0.0   \n\n            PROTEINS_TO_PROTEOFORMS  \nTrait pair                           \n0                         -0.166667  \n1                         -0.076923  \n2                         -0.025000  \n3                         -0.011111  \n4                         -0.019311  \n...                             ...  \n877                       -0.030303  \n878                       -0.125000  \n879                       -0.043407  \n880                       -0.214286  \n881                       -0.166667  \n\n[882 rows x 7 columns]",
      "text/html": "<div>\n<style scoped>\n    .dataframe tbody tr th:only-of-type {\n        vertical-align: middle;\n    }\n\n    .dataframe tbody tr th {\n        vertical-align: top;\n    }\n\n    .dataframe thead th {\n        text-align: right;\n    }\n</style>\n<table border=\"1\" class=\"dataframe\">\n  <thead>\n    <tr style=\"text-align: right;\">\n      <th></th>\n      <th>TRAIT1</th>\n      <th>TRAIT2</th>\n      <th>SCORE_GENES</th>\n      <th>SCORE_PROTEINS</th>\n      <th>SCORE_PROTEOFORMS</th>\n      <th>GENES_TO_PROTEINS</th>\n      <th>PROTEINS_TO_PROTEOFORMS</th>\n    </tr>\n    <tr>\n      <th>Trait pair</th>\n      <th></th>\n      <th></th>\n      <th></th>\n      <th></th>\n      <th></th>\n      <th></th>\n      <th></th>\n    </tr>\n  </thead>\n  <tbody>\n    <tr>\n      <td>0</td>\n      <td>Thyrotropin</td>\n      <td>Waist Circumference</td>\n      <td>0.166667</td>\n      <td>0.166667</td>\n      <td>0.000000</td>\n      <td>0.0</td>\n      <td>-0.166667</td>\n    </tr>\n    <tr>\n      <td>1</td>\n      <td>Stroke</td>\n      <td>Wet Macular Degeneration</td>\n      <td>0.076923</td>\n      <td>0.076923</td>\n      <td>0.000000</td>\n      <td>0.0</td>\n      <td>-0.076923</td>\n    </tr>\n    <tr>\n      <td>2</td>\n      <td>Stroke</td>\n      <td>Triglycerides</td>\n      <td>0.400000</td>\n      <td>0.400000</td>\n      <td>0.375000</td>\n      <td>0.0</td>\n      <td>-0.025000</td>\n    </tr>\n    <tr>\n      <td>3</td>\n      <td>Psoriasis</td>\n      <td>Waist-Hip Ratio</td>\n      <td>0.111111</td>\n      <td>0.111111</td>\n      <td>0.100000</td>\n      <td>0.0</td>\n      <td>-0.011111</td>\n    </tr>\n    <tr>\n      <td>4</td>\n      <td>Psoriasis</td>\n      <td>Waist Circumference</td>\n      <td>0.029412</td>\n      <td>0.029412</td>\n      <td>0.010101</td>\n      <td>0.0</td>\n      <td>-0.019311</td>\n    </tr>\n    <tr>\n      <td>...</td>\n      <td>...</td>\n      <td>...</td>\n      <td>...</td>\n      <td>...</td>\n      <td>...</td>\n      <td>...</td>\n      <td>...</td>\n    </tr>\n    <tr>\n      <td>877</td>\n      <td>Electrocardiography</td>\n      <td>Hip</td>\n      <td>0.030303</td>\n      <td>0.030303</td>\n      <td>0.000000</td>\n      <td>0.0</td>\n      <td>-0.030303</td>\n    </tr>\n    <tr>\n      <td>878</td>\n      <td>Electrocardiography</td>\n      <td>Metabolic Syndrome X</td>\n      <td>0.500000</td>\n      <td>0.500000</td>\n      <td>0.375000</td>\n      <td>0.0</td>\n      <td>-0.125000</td>\n    </tr>\n    <tr>\n      <td>879</td>\n      <td>Electrocardiography</td>\n      <td>Metabolism</td>\n      <td>0.151515</td>\n      <td>0.151515</td>\n      <td>0.108108</td>\n      <td>0.0</td>\n      <td>-0.043407</td>\n    </tr>\n    <tr>\n      <td>880</td>\n      <td>Electrocardiography</td>\n      <td>Mortality</td>\n      <td>0.714286</td>\n      <td>0.714286</td>\n      <td>0.500000</td>\n      <td>0.0</td>\n      <td>-0.214286</td>\n    </tr>\n    <tr>\n      <td>881</td>\n      <td>Electrocardiography</td>\n      <td>Neoplasms</td>\n      <td>0.500000</td>\n      <td>0.500000</td>\n      <td>0.333333</td>\n      <td>0.0</td>\n      <td>-0.166667</td>\n    </tr>\n  </tbody>\n</table>\n<p>882 rows × 7 columns</p>\n</div>"
     },
     "metadata": {},
     "output_type": "execute_result",
     "execution_count": 4
    }
   ],
   "source": [
    "import pandas as pd\n",
    "\n",
    "data = pd.read_csv(\"../../reports/overlap_similarity_score_variation_examples.tsv\", sep='\\t')\n",
    "data.index.name = \"Trait pair\"\n",
    "\n",
    "data"
   ],
   "metadata": {
    "collapsed": false,
    "pycharm": {
     "name": "#%% Read the report with the score differences\n",
     "is_executing": false
    }
   }
  },
  {
   "cell_type": "code",
   "execution_count": 5,
   "outputs": [],
   "source": [
    "from lib.visualization import plot_module_pair\n",
    "\n",
    "trait1 = \"Thyrotropin\"\n",
    "trait2 = \"Waist Circumference\"\n",
    "level = \"proteoforms\"\n",
    "path_to_modules = \"../../reports/modules/\"\n",
    "\n",
    "plot_module_pair(trait1, trait2, level, path_to_modules)\n",
    "\n",
    "\n"
   ],
   "metadata": {
    "collapsed": false,
    "pycharm": {
     "name": "#%% Visualize particular pair of modules\n",
     "is_executing": false
    }
   }
  }
 ],
 "metadata": {
  "kernelspec": {
   "display_name": "Python 3",
   "language": "python",
   "name": "python3"
  },
  "language_info": {
   "codemirror_mode": {
    "name": "ipython",
    "version": 2
   },
   "file_extension": ".py",
   "mimetype": "text/x-python",
   "name": "python",
   "nbconvert_exporter": "python",
   "pygments_lexer": "ipython2",
   "version": "2.7.6"
  },
  "pycharm": {
   "stem_cell": {
    "cell_type": "raw",
    "source": [],
    "metadata": {
     "collapsed": false
    }
   }
  }
 },
 "nbformat": 4,
 "nbformat_minor": 0
}