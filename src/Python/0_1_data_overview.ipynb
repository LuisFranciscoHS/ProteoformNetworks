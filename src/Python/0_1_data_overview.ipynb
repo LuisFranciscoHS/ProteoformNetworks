{
 "cells": [
  {
   "cell_type": "markdown",
   "metadata": {},
   "source": [
    "# Data overview"
   ]
  },
  {
   "cell_type": "code",
   "execution_count": 5,
   "metadata": {},
   "outputs": [
    {
     "name": "stdout",
     "output_type": "stream",
     "text": [
      "The autoreload extension is already loaded. To reload it, use:\n",
      "  %reload_ext autoreload\n",
      "Initial working directory: C:\\git\\ProteoformNetworks\\src\\Python\n",
      "New working directory: c:\\git\\ProteoformNetworks\n"
     ]
    }
   ],
   "source": [
    "# Import dependencies for the complete notebook\n",
    "\n",
    "import os\n",
    "import config\n",
    "from config import INTERACTOMES_PATH\n",
    "from queries import QUERY_GET_ALL_PROTEOFORMS\n",
    "from lib.graph_database_access import get_pathways, get_query_result, make_proteoform_string\n",
    "from lib.dictionaries import read_dictionary_one_to_set\n",
    "from lib.networks import get_json_filename, create_pathway_interaction_network, read_graph, get_interactomes\n",
    "from pathlib import Path\n",
    "\n",
    "%load_ext autoreload\n",
    "%autoreload 2\n",
    "%reload_ext autoreload\n",
    "\n",
    "config.set_root_wd()"
   ]
  },
  {
   "cell_type": "code",
   "execution_count": 6,
   "metadata": {},
   "outputs": [
    {
     "data": {
      "text/html": [
       "<div>\n",
       "<style scoped>\n",
       "    .dataframe tbody tr th:only-of-type {\n",
       "        vertical-align: middle;\n",
       "    }\n",
       "\n",
       "    .dataframe tbody tr th {\n",
       "        vertical-align: top;\n",
       "    }\n",
       "\n",
       "    .dataframe thead th {\n",
       "        text-align: right;\n",
       "    }\n",
       "</style>\n",
       "<table border=\"1\" class=\"dataframe\">\n",
       "  <thead>\n",
       "    <tr style=\"text-align: right;\">\n",
       "      <th></th>\n",
       "      <th>Id</th>\n",
       "    </tr>\n",
       "  </thead>\n",
       "  <tbody>\n",
       "    <tr>\n",
       "      <th>0</th>\n",
       "      <td>A0A075B6P5;</td>\n",
       "    </tr>\n",
       "    <tr>\n",
       "      <th>1</th>\n",
       "      <td>A0A075B6S6;</td>\n",
       "    </tr>\n",
       "    <tr>\n",
       "      <th>2</th>\n",
       "      <td>A0A096LP49;</td>\n",
       "    </tr>\n",
       "    <tr>\n",
       "      <th>3</th>\n",
       "      <td>A0A0A6YYK7;</td>\n",
       "    </tr>\n",
       "    <tr>\n",
       "      <th>4</th>\n",
       "      <td>A0A0C4DH25;</td>\n",
       "    </tr>\n",
       "    <tr>\n",
       "      <th>...</th>\n",
       "      <td>...</td>\n",
       "    </tr>\n",
       "    <tr>\n",
       "      <th>14392</th>\n",
       "      <td>Q9Y6X9;</td>\n",
       "    </tr>\n",
       "    <tr>\n",
       "      <th>14393</th>\n",
       "      <td>Q9Y6Y8;</td>\n",
       "    </tr>\n",
       "    <tr>\n",
       "      <th>14394</th>\n",
       "      <td>Q9Y6Y9;</td>\n",
       "    </tr>\n",
       "    <tr>\n",
       "      <th>14395</th>\n",
       "      <td>Q9Y6Y9;00160:26,00160:114</td>\n",
       "    </tr>\n",
       "    <tr>\n",
       "      <th>14396</th>\n",
       "      <td>Q9Y6Z7;</td>\n",
       "    </tr>\n",
       "  </tbody>\n",
       "</table>\n",
       "<p>14397 rows × 1 columns</p>\n",
       "</div>"
      ],
      "text/plain": [
       "                              Id\n",
       "0                    A0A075B6P5;\n",
       "1                    A0A075B6S6;\n",
       "2                    A0A096LP49;\n",
       "3                    A0A0A6YYK7;\n",
       "4                    A0A0C4DH25;\n",
       "...                          ...\n",
       "14392                    Q9Y6X9;\n",
       "14393                    Q9Y6Y8;\n",
       "14394                    Q9Y6Y9;\n",
       "14395  Q9Y6Y9;00160:26,00160:114\n",
       "14396                    Q9Y6Z7;\n",
       "\n",
       "[14397 rows x 1 columns]"
      ]
     },
     "execution_count": 6,
     "metadata": {},
     "output_type": "execute_result"
    }
   ],
   "source": [
    "# Calculate number of genes, proteins and proteoforms we can get from Reactome\n",
    "proteoforms = get_query_result(QUERY_GET_ALL_PROTEOFORMS)\n",
    "proteoforms['Id'] = proteoforms.apply(lambda x: make_proteoform_string(x.Id), axis=1)\n",
    "print(f\"There are {len(proteoforms)} proteoforms.\")\n",
    "proteoforms"
   ]
  },
  {
   "cell_type": "code",
   "execution_count": 2,
   "metadata": {
    "collapsed": false,
    "pycharm": {
     "name": "#%%\n"
    }
   },
   "outputs": [
    {
     "ename": "FileNotFoundError",
     "evalue": "[WinError 3] The system cannot find the path specified: 'networks/interactomes/'",
     "output_type": "error",
     "traceback": [
      "\u001b[1;31m---------------------------------------------------------------------------\u001b[0m",
      "\u001b[1;31mFileNotFoundError\u001b[0m                         Traceback (most recent call last)",
      "Input \u001b[1;32mIn [2]\u001b[0m, in \u001b[0;36m<cell line: 3>\u001b[1;34m()\u001b[0m\n\u001b[0;32m      2\u001b[0m interactome_networks_path \u001b[39m=\u001b[39m config\u001b[39m.\u001b[39mNETWORKS_PATH \u001b[39m+\u001b[39m \u001b[39m\"\u001b[39m\u001b[39minteractomes/\u001b[39m\u001b[39m\"\u001b[39m\n\u001b[0;32m      3\u001b[0m \u001b[39mif\u001b[39;00m \u001b[39mnot\u001b[39;00m Path(interactome_networks_path)\u001b[39m.\u001b[39mexists():\n\u001b[1;32m----> 4\u001b[0m     os\u001b[39m.\u001b[39;49mmkdir(interactome_networks_path)\n\u001b[0;32m      5\u001b[0m interactomes_no_sm, interactomes_with_sm, interactomes_with_unique_sm \u001b[39m=\u001b[39m get_interactomes(config\u001b[39m.\u001b[39mDATA_REACTOME_PATH, interactome_networks_path)\n\u001b[0;32m      6\u001b[0m interactomes \u001b[39m=\u001b[39m [\u001b[39m*\u001b[39minteractomes_no_sm\u001b[39m.\u001b[39mvalues(), \u001b[39m*\u001b[39minteractomes_with_sm\u001b[39m.\u001b[39mvalues(), \u001b[39m*\u001b[39minteractomes_with_unique_sm\u001b[39m.\u001b[39mvalues()]\n",
      "\u001b[1;31mFileNotFoundError\u001b[0m: [WinError 3] The system cannot find the path specified: 'networks/interactomes/'"
     ]
    }
   ],
   "source": [
    "# Create interactomes to make sure mapping files genes-->proteins and proteins-->proteoforms exist\n",
    "interactomes = get_interactomes(config.DATA_REACTOME_PATH, INTERACTOMES_PATH)"
   ]
  },
  {
   "cell_type": "code",
   "execution_count": null,
   "metadata": {},
   "outputs": [],
   "source": [
    "map_proteins_to_proteoforms = read_dictionary_one_to_set(INTERACTOMES_PATH, \"mapping_proteins_to_proteoforms.tsv\",\n",
    "                                                         col_indices=(0, 1))\n",
    "pathways = get_pathways()[\"stId\"]\n",
    "print(f\"There are {len(pathways)} pathways.\")"
   ]
  },
  {
   "cell_type": "code",
   "execution_count": null,
   "metadata": {
    "collapsed": false,
    "pycharm": {
     "name": "#%% Select proteins with multiple proteoforms\n"
    }
   },
   "outputs": [],
   "source": [
    "print(f\"There are {len(map_proteins_to_proteoforms.keys())} proteins.\")\n",
    "selected_proteins = []\n",
    "for protein, proteoforms in map_proteins_to_proteoforms.items():\n",
    "    if len(proteoforms) > 1:\n",
    "        selected_proteins.append(protein)\n",
    "\n",
    "print(f\"Only {len(selected_proteins)} have multiple proteoforms.\")"
   ]
  },
  {
   "cell_type": "code",
   "execution_count": null,
   "metadata": {
    "collapsed": false,
    "pycharm": {
     "name": "#%%\n"
    }
   },
   "outputs": [],
   "source": [
    "selected_pathways = []\n",
    "for pathway in pathways:\n",
    "    filename = get_json_filename(config.proteins, config.no_sm, config.PATHWAY_GRAPHS_PATH, pathway)\n",
    "    if not Path(filename).exists():\n",
    "        create_pathway_interaction_network(pathway, config.proteins, config.no_sm, config.PATHWAY_GRAPHS_PATH)\n",
    "    G = read_graph(filename)\n",
    "    if any(protein in selected_proteins for protein in list(G.nodes)):\n",
    "        selected_pathways.append(pathway)\n",
    "\n",
    "print(f\"There are {len(selected_pathways)} pathways that contain proteoforms.\")"
   ]
  },
  {
   "cell_type": "code",
   "execution_count": null,
   "metadata": {
    "collapsed": false,
    "pycharm": {
     "name": "#%%\n"
    }
   },
   "outputs": [],
   "source": [
    "# Examples of genes with multiple protein products\n",
    "\n",
    "map_genes_to_proteins = read_dictionary_one_to_set(INTERACTOMES_PATH, \"mapping_proteins_to_genes.tsv\", col_indices=(1, 0))\n",
    "map_proteins_to_proteoforms = read_dictionary_one_to_set(INTERACTOMES_PATH, \"mapping_proteins_to_proteoforms.tsv\", col_indices=(0, 1))\n",
    "\n",
    "map_proteins_to_proteoforms"
   ]
  },
  {
   "cell_type": "code",
   "execution_count": null,
   "metadata": {},
   "outputs": [],
   "source": [
    "\n",
    "#  Examples when gene products participate in a different set of reactions."
   ]
  },
  {
   "cell_type": "code",
   "execution_count": null,
   "metadata": {},
   "outputs": [],
   "source": [
    "- Calculate set of reactions where each gene product participates\n",
    "- Select genes where it's protein products have a different set of reactions\n",
    "- Quantify the difference overall:\n",
    "    * How often the multiple protein products participate in the same reaction\n",
    "    * Quantify the intersection: "
   ]
  }
 ],
 "metadata": {
  "kernelspec": {
   "display_name": "Python 3",
   "language": "python",
   "name": "python3"
  },
  "language_info": {
   "codemirror_mode": {
    "name": "ipython",
    "version": 3
   },
   "file_extension": ".py",
   "mimetype": "text/x-python",
   "name": "python",
   "nbconvert_exporter": "python",
   "pygments_lexer": "ipython3",
   "version": "3.10.2"
  }
 },
 "nbformat": 4,
 "nbformat_minor": 0
}
