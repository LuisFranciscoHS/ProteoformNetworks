{
 "cells": [
  {
   "cell_type": "markdown",
   "metadata": {},
   "source": [
    "# Data overview"
   ]
  },
  {
   "cell_type": "code",
   "execution_count": 6,
   "metadata": {},
   "outputs": [
    {
     "name": "stdout",
     "output_type": "stream",
     "text": [
      "The autoreload extension is already loaded. To reload it, use:\n",
      "  %reload_ext autoreload\n",
      "Initial working directory: C:\\git\\ProteoformNetworks\\src\\Python\n",
      "New working directory: c:\\git\\ProteoformNetworks\n"
     ]
    }
   ],
   "source": [
    "# Import dependencies for the complete notebook\n",
    "\n",
    "import os\n",
    "import config\n",
    "from config import INTERACTOMES_PATH, DATA_REACTOME_PATH\n",
    "from queries import QUERY_GET_ALL_GENES, QUERY_GET_ALL_PROTEINS, QUERY_GET_ALL_PROTEOFORMS\n",
    "from lib.graph_database_access import get_pathways, get_query_result, make_proteoform_string\n",
    "from lib.dictionaries import read_dictionary_one_to_set\n",
    "from lib.networks import get_json_filename, create_pathway_interaction_network, read_graph, get_interactomes\n",
    "from pathlib import Path\n",
    "\n",
    "%load_ext autoreload\n",
    "%autoreload 2\n",
    "%reload_ext autoreload\n",
    "\n",
    "config.set_root_wd()"
   ]
  },
  {
   "cell_type": "code",
   "execution_count": 7,
   "metadata": {},
   "outputs": [
    {
     "name": "stdout",
     "output_type": "stream",
     "text": [
      "There are 10976 genes.\n"
     ]
    },
    {
     "data": {
      "text/html": [
       "<div>\n",
       "<style scoped>\n",
       "    .dataframe tbody tr th:only-of-type {\n",
       "        vertical-align: middle;\n",
       "    }\n",
       "\n",
       "    .dataframe tbody tr th {\n",
       "        vertical-align: top;\n",
       "    }\n",
       "\n",
       "    .dataframe thead th {\n",
       "        text-align: right;\n",
       "    }\n",
       "</style>\n",
       "<table border=\"1\" class=\"dataframe\">\n",
       "  <thead>\n",
       "    <tr style=\"text-align: right;\">\n",
       "      <th></th>\n",
       "      <th>Id</th>\n",
       "    </tr>\n",
       "  </thead>\n",
       "  <tbody>\n",
       "    <tr>\n",
       "      <th>0</th>\n",
       "      <td>HSPA8</td>\n",
       "    </tr>\n",
       "    <tr>\n",
       "      <th>1</th>\n",
       "      <td>GFAP</td>\n",
       "    </tr>\n",
       "    <tr>\n",
       "      <th>2</th>\n",
       "      <td>PARK7</td>\n",
       "    </tr>\n",
       "    <tr>\n",
       "      <th>3</th>\n",
       "      <td>CFTR</td>\n",
       "    </tr>\n",
       "    <tr>\n",
       "      <th>4</th>\n",
       "      <td>UBC</td>\n",
       "    </tr>\n",
       "    <tr>\n",
       "      <th>...</th>\n",
       "      <td>...</td>\n",
       "    </tr>\n",
       "    <tr>\n",
       "      <th>10971</th>\n",
       "      <td>AMPH</td>\n",
       "    </tr>\n",
       "    <tr>\n",
       "      <th>10972</th>\n",
       "      <td>TOR1A</td>\n",
       "    </tr>\n",
       "    <tr>\n",
       "      <th>10973</th>\n",
       "      <td>TOR1B</td>\n",
       "    </tr>\n",
       "    <tr>\n",
       "      <th>10974</th>\n",
       "      <td>UBQLN2</td>\n",
       "    </tr>\n",
       "    <tr>\n",
       "      <th>10975</th>\n",
       "      <td>UBQLN1</td>\n",
       "    </tr>\n",
       "  </tbody>\n",
       "</table>\n",
       "<p>10976 rows × 1 columns</p>\n",
       "</div>"
      ],
      "text/plain": [
       "           Id\n",
       "0       HSPA8\n",
       "1        GFAP\n",
       "2       PARK7\n",
       "3        CFTR\n",
       "4         UBC\n",
       "...       ...\n",
       "10971    AMPH\n",
       "10972   TOR1A\n",
       "10973   TOR1B\n",
       "10974  UBQLN2\n",
       "10975  UBQLN1\n",
       "\n",
       "[10976 rows x 1 columns]"
      ]
     },
     "execution_count": 7,
     "metadata": {},
     "output_type": "execute_result"
    }
   ],
   "source": [
    "# Calculate number of human GENES we can get from Reactome. Genes that participate in a Reaction and a Pathway.\n",
    "genes = get_query_result(QUERY_GET_ALL_GENES)\n",
    "print(f\"There are {len(genes)} genes.\")\n",
    "if not os.path.exists(DATA_REACTOME_PATH):\n",
    "    os.makedirs(DATA_REACTOME_PATH)\n",
    "genes[\"Id\"].to_csv(DATA_REACTOME_PATH + \"genes.csv\", index=False, header=False)\n",
    "genes"
   ]
  },
  {
   "cell_type": "code",
   "execution_count": 8,
   "metadata": {},
   "outputs": [
    {
     "name": "stdout",
     "output_type": "stream",
     "text": [
      "There are 11074 proteins.\n"
     ]
    },
    {
     "data": {
      "text/html": [
       "<div>\n",
       "<style scoped>\n",
       "    .dataframe tbody tr th:only-of-type {\n",
       "        vertical-align: middle;\n",
       "    }\n",
       "\n",
       "    .dataframe tbody tr th {\n",
       "        vertical-align: top;\n",
       "    }\n",
       "\n",
       "    .dataframe thead th {\n",
       "        text-align: right;\n",
       "    }\n",
       "</style>\n",
       "<table border=\"1\" class=\"dataframe\">\n",
       "  <thead>\n",
       "    <tr style=\"text-align: right;\">\n",
       "      <th></th>\n",
       "      <th>Id</th>\n",
       "    </tr>\n",
       "  </thead>\n",
       "  <tbody>\n",
       "    <tr>\n",
       "      <th>0</th>\n",
       "      <td>P11142</td>\n",
       "    </tr>\n",
       "    <tr>\n",
       "      <th>1</th>\n",
       "      <td>P14136</td>\n",
       "    </tr>\n",
       "    <tr>\n",
       "      <th>2</th>\n",
       "      <td>Q99497</td>\n",
       "    </tr>\n",
       "    <tr>\n",
       "      <th>3</th>\n",
       "      <td>P13569</td>\n",
       "    </tr>\n",
       "    <tr>\n",
       "      <th>4</th>\n",
       "      <td>P0CG48</td>\n",
       "    </tr>\n",
       "    <tr>\n",
       "      <th>...</th>\n",
       "      <td>...</td>\n",
       "    </tr>\n",
       "    <tr>\n",
       "      <th>11069</th>\n",
       "      <td>P49418</td>\n",
       "    </tr>\n",
       "    <tr>\n",
       "      <th>11070</th>\n",
       "      <td>O14656</td>\n",
       "    </tr>\n",
       "    <tr>\n",
       "      <th>11071</th>\n",
       "      <td>O14657</td>\n",
       "    </tr>\n",
       "    <tr>\n",
       "      <th>11072</th>\n",
       "      <td>Q9UHD9</td>\n",
       "    </tr>\n",
       "    <tr>\n",
       "      <th>11073</th>\n",
       "      <td>Q9UMX0</td>\n",
       "    </tr>\n",
       "  </tbody>\n",
       "</table>\n",
       "<p>11074 rows × 1 columns</p>\n",
       "</div>"
      ],
      "text/plain": [
       "           Id\n",
       "0      P11142\n",
       "1      P14136\n",
       "2      Q99497\n",
       "3      P13569\n",
       "4      P0CG48\n",
       "...       ...\n",
       "11069  P49418\n",
       "11070  O14656\n",
       "11071  O14657\n",
       "11072  Q9UHD9\n",
       "11073  Q9UMX0\n",
       "\n",
       "[11074 rows x 1 columns]"
      ]
     },
     "execution_count": 8,
     "metadata": {},
     "output_type": "execute_result"
    }
   ],
   "source": [
    "# Calculate number of human Proteins we can get from Reactome. Proteins that participate in a Reaction and a Pathway.\n",
    "proteins = get_query_result(QUERY_GET_ALL_PROTEINS)\n",
    "print(f\"There are {len(proteins)} proteins.\")\n",
    "proteins[\"Id\"].to_csv(DATA_REACTOME_PATH + \"proteins.csv\", index=False, header=False)\n",
    "proteins"
   ]
  },
  {
   "cell_type": "code",
   "execution_count": 9,
   "metadata": {},
   "outputs": [
    {
     "name": "stdout",
     "output_type": "stream",
     "text": [
      "There are 14424 proteoforms.\n"
     ]
    },
    {
     "data": {
      "text/html": [
       "<div>\n",
       "<style scoped>\n",
       "    .dataframe tbody tr th:only-of-type {\n",
       "        vertical-align: middle;\n",
       "    }\n",
       "\n",
       "    .dataframe tbody tr th {\n",
       "        vertical-align: top;\n",
       "    }\n",
       "\n",
       "    .dataframe thead th {\n",
       "        text-align: right;\n",
       "    }\n",
       "</style>\n",
       "<table border=\"1\" class=\"dataframe\">\n",
       "  <thead>\n",
       "    <tr style=\"text-align: right;\">\n",
       "      <th></th>\n",
       "      <th>Id</th>\n",
       "    </tr>\n",
       "  </thead>\n",
       "  <tbody>\n",
       "    <tr>\n",
       "      <th>0</th>\n",
       "      <td>A0A075B6P5;</td>\n",
       "    </tr>\n",
       "    <tr>\n",
       "      <th>1</th>\n",
       "      <td>A0A075B6S6;</td>\n",
       "    </tr>\n",
       "    <tr>\n",
       "      <th>2</th>\n",
       "      <td>A0A096LP49;</td>\n",
       "    </tr>\n",
       "    <tr>\n",
       "      <th>3</th>\n",
       "      <td>A0A0A6YYK7;</td>\n",
       "    </tr>\n",
       "    <tr>\n",
       "      <th>4</th>\n",
       "      <td>A0A0C4DH25;</td>\n",
       "    </tr>\n",
       "    <tr>\n",
       "      <th>...</th>\n",
       "      <td>...</td>\n",
       "    </tr>\n",
       "    <tr>\n",
       "      <th>14419</th>\n",
       "      <td>Q9Y6X9;</td>\n",
       "    </tr>\n",
       "    <tr>\n",
       "      <th>14420</th>\n",
       "      <td>Q9Y6Y8;</td>\n",
       "    </tr>\n",
       "    <tr>\n",
       "      <th>14421</th>\n",
       "      <td>Q9Y6Y9;</td>\n",
       "    </tr>\n",
       "    <tr>\n",
       "      <th>14422</th>\n",
       "      <td>Q9Y6Y9;00160:26,00160:114</td>\n",
       "    </tr>\n",
       "    <tr>\n",
       "      <th>14423</th>\n",
       "      <td>Q9Y6Z7;</td>\n",
       "    </tr>\n",
       "  </tbody>\n",
       "</table>\n",
       "<p>14424 rows × 1 columns</p>\n",
       "</div>"
      ],
      "text/plain": [
       "                              Id\n",
       "0                    A0A075B6P5;\n",
       "1                    A0A075B6S6;\n",
       "2                    A0A096LP49;\n",
       "3                    A0A0A6YYK7;\n",
       "4                    A0A0C4DH25;\n",
       "...                          ...\n",
       "14419                    Q9Y6X9;\n",
       "14420                    Q9Y6Y8;\n",
       "14421                    Q9Y6Y9;\n",
       "14422  Q9Y6Y9;00160:26,00160:114\n",
       "14423                    Q9Y6Z7;\n",
       "\n",
       "[14424 rows x 1 columns]"
      ]
     },
     "execution_count": 9,
     "metadata": {},
     "output_type": "execute_result"
    }
   ],
   "source": [
    "# Calculate number of proteoforms we can get from Reactome\n",
    "proteoforms = get_query_result(QUERY_GET_ALL_PROTEOFORMS)\n",
    "proteoforms['Id'] = proteoforms.apply(lambda x: make_proteoform_string(x.Id), axis=1)\n",
    "print(f\"There are {len(proteoforms)} proteoforms.\")\n",
    "proteoforms[\"Id\"].to_csv(DATA_REACTOME_PATH + \"proteoforms.csv\", index=False, header=False)\n",
    "proteoforms"
   ]
  },
  {
   "cell_type": "code",
   "execution_count": 10,
   "metadata": {
    "collapsed": false,
    "pycharm": {
     "name": "#%%\n"
    }
   },
   "outputs": [
    {
     "name": "stdout",
     "output_type": "stream",
     "text": [
      "Reading participants of all reactions for level genes...\n",
      "Reading participants of all reactions for level proteins...\n",
      "Reading participants of all reactions for level proteoforms...\n",
      "Reading participants of all reactions for level sm...\n",
      "Reading components of all complexes for level genes...\n",
      "Reading components of all complexes for level proteins...\n",
      "Reading components of all complexes for level proteoforms...\n",
      "Reading components of all complexes for level sm...\n",
      "Reading interaction network for  at genes level, method no_sm...\n",
      "Reading interaction network for  at proteins level, method no_sm...\n",
      "Reading interaction network for  at proteoforms level, method no_sm...\n",
      "Reading interaction network for  at genes level, method with_sm...\n",
      "Reading interaction network for  at proteins level, method with_sm...\n",
      "Creating interaction network for  at proteoforms level, method with_sm...\n",
      "Finished creating interactome file for proteoforms-with_sm\n",
      "Creating interaction network for  at genes level, method with_unique_sm...\n",
      "Finished creating interactome file for genes-with_unique_sm\n",
      "Creating interaction network for  at proteins level, method with_unique_sm...\n",
      "Finished creating interactome file for proteins-with_unique_sm\n",
      "Creating interaction network for  at proteoforms level, method with_unique_sm...\n",
      "Finished creating interactome file for proteoforms-with_unique_sm\n"
     ]
    }
   ],
   "source": [
    "# Create interactomes to make sure mapping files genes-->proteins and proteins-->proteoforms exist\n",
    "interactomes = get_interactomes(config.DATA_REACTOME_PATH, INTERACTOMES_PATH)"
   ]
  },
  {
   "cell_type": "code",
   "execution_count": 11,
   "metadata": {},
   "outputs": [
    {
     "name": "stdout",
     "output_type": "stream",
     "text": [
      "There are 2112 pathways.\n"
     ]
    }
   ],
   "source": [
    "map_proteins_to_proteoforms = read_dictionary_one_to_set(INTERACTOMES_PATH, \"mapping_proteins_to_proteoforms.tsv\",\n",
    "                                                         col_indices=(0, 1))\n",
    "pathways = get_pathways()[\"stId\"]\n",
    "print(f\"There are {len(pathways)} pathways.\")"
   ]
  },
  {
   "cell_type": "code",
   "execution_count": 12,
   "metadata": {
    "collapsed": false,
    "pycharm": {
     "name": "#%% Select proteins with multiple proteoforms\n"
    }
   },
   "outputs": [
    {
     "name": "stdout",
     "output_type": "stream",
     "text": [
      "There are 11074 proteins.\n",
      "Only 1493 have multiple proteoforms.\n"
     ]
    }
   ],
   "source": [
    "print(f\"There are {len(map_proteins_to_proteoforms.keys())} proteins.\")\n",
    "selected_proteins = []\n",
    "for protein, proteoforms in map_proteins_to_proteoforms.items():\n",
    "    if len(proteoforms) > 1:\n",
    "        selected_proteins.append(protein)\n",
    "\n",
    "print(f\"Only {len(selected_proteins)} have multiple proteoforms.\")"
   ]
  },
  {
   "cell_type": "code",
   "execution_count": 13,
   "metadata": {
    "collapsed": false,
    "pycharm": {
     "name": "#%%\n"
    }
   },
   "outputs": [
    {
     "name": "stdout",
     "output_type": "stream",
     "text": [
      "    * Creating network networks\\pathways\\R-HSA-9613829_proteins_no_sm.json\n"
     ]
    },
    {
     "ename": "OSError",
     "evalue": "Cannot save file into a non-existent directory: 'networks\\pathways\\complexes'",
     "output_type": "error",
     "traceback": [
      "\u001b[1;31m---------------------------------------------------------------------------\u001b[0m",
      "\u001b[1;31mOSError\u001b[0m                                   Traceback (most recent call last)",
      "\u001b[1;32mc:\\git\\ProteoformNetworks\\src\\Python\\0_1_data_overview.ipynb Cell 9'\u001b[0m in \u001b[0;36m<cell line: 2>\u001b[1;34m()\u001b[0m\n\u001b[0;32m      <a href='vscode-notebook-cell:/c%3A/git/ProteoformNetworks/src/Python/0_1_data_overview.ipynb#ch0000008?line=2'>3</a>\u001b[0m filename \u001b[39m=\u001b[39m get_json_filename(config\u001b[39m.\u001b[39mproteins, config\u001b[39m.\u001b[39mno_sm, config\u001b[39m.\u001b[39mPATHWAY_GRAPHS_PATH, pathway)\n\u001b[0;32m      <a href='vscode-notebook-cell:/c%3A/git/ProteoformNetworks/src/Python/0_1_data_overview.ipynb#ch0000008?line=3'>4</a>\u001b[0m \u001b[39mif\u001b[39;00m \u001b[39mnot\u001b[39;00m Path(filename)\u001b[39m.\u001b[39mexists():\n\u001b[1;32m----> <a href='vscode-notebook-cell:/c%3A/git/ProteoformNetworks/src/Python/0_1_data_overview.ipynb#ch0000008?line=4'>5</a>\u001b[0m     create_pathway_interaction_network(pathway, config\u001b[39m.\u001b[39;49mproteins, config\u001b[39m.\u001b[39;49mno_sm, config\u001b[39m.\u001b[39;49mPATHWAY_GRAPHS_PATH)\n\u001b[0;32m      <a href='vscode-notebook-cell:/c%3A/git/ProteoformNetworks/src/Python/0_1_data_overview.ipynb#ch0000008?line=5'>6</a>\u001b[0m G \u001b[39m=\u001b[39m read_graph(filename)\n\u001b[0;32m      <a href='vscode-notebook-cell:/c%3A/git/ProteoformNetworks/src/Python/0_1_data_overview.ipynb#ch0000008?line=6'>7</a>\u001b[0m \u001b[39mif\u001b[39;00m \u001b[39many\u001b[39m(protein \u001b[39min\u001b[39;00m selected_proteins \u001b[39mfor\u001b[39;00m protein \u001b[39min\u001b[39;00m \u001b[39mlist\u001b[39m(G\u001b[39m.\u001b[39mnodes)):\n",
      "File \u001b[1;32mc:\\git\\ProteoformNetworks\\src\\Python\\lib\\networks.py:89\u001b[0m, in \u001b[0;36mcreate_pathway_interaction_network\u001b[1;34m(pathway, level, method, out_path, v)\u001b[0m\n\u001b[0;32m     <a href='file:///c%3A/git/ProteoformNetworks/src/Python/lib/networks.py?line=85'>86</a>\u001b[0m         \u001b[39mprint\u001b[39m(\u001b[39mf\u001b[39m\u001b[39m\"\u001b[39m\u001b[39m    * Creating network \u001b[39m\u001b[39m{\u001b[39;00mfilename\u001b[39m}\u001b[39;00m\u001b[39m\"\u001b[39m)\n\u001b[0;32m     <a href='file:///c%3A/git/ProteoformNetworks/src/Python/lib/networks.py?line=86'>87</a>\u001b[0m     participants \u001b[39m=\u001b[39m {level: get_participants_by_pathway(\n\u001b[0;32m     <a href='file:///c%3A/git/ProteoformNetworks/src/Python/lib/networks.py?line=87'>88</a>\u001b[0m         pathway, level, out_path) \u001b[39mfor\u001b[39;00m level \u001b[39min\u001b[39;00m [level, sm]}\n\u001b[1;32m---> <a href='file:///c%3A/git/ProteoformNetworks/src/Python/lib/networks.py?line=88'>89</a>\u001b[0m     components \u001b[39m=\u001b[39m {level: get_components_by_pathway(\n\u001b[0;32m     <a href='file:///c%3A/git/ProteoformNetworks/src/Python/lib/networks.py?line=89'>90</a>\u001b[0m         pathway, level, out_path) \u001b[39mfor\u001b[39;00m level \u001b[39min\u001b[39;00m [level, sm]}\n\u001b[0;32m     <a href='file:///c%3A/git/ProteoformNetworks/src/Python/lib/networks.py?line=90'>91</a>\u001b[0m     create_interaction_network(\n\u001b[0;32m     <a href='file:///c%3A/git/ProteoformNetworks/src/Python/lib/networks.py?line=91'>92</a>\u001b[0m         level, method, participants, components, out_path, pathway, \u001b[39mFalse\u001b[39;00m)\n\u001b[0;32m     <a href='file:///c%3A/git/ProteoformNetworks/src/Python/lib/networks.py?line=92'>93</a>\u001b[0m \u001b[39m# else:\u001b[39;00m\n\u001b[0;32m     <a href='file:///c%3A/git/ProteoformNetworks/src/Python/lib/networks.py?line=93'>94</a>\u001b[0m \u001b[39m#     print(f\"    * Network {filename} already exists..\")\u001b[39;00m\n",
      "File \u001b[1;32mc:\\git\\ProteoformNetworks\\src\\Python\\lib\\networks.py:89\u001b[0m, in \u001b[0;36m<dictcomp>\u001b[1;34m(.0)\u001b[0m\n\u001b[0;32m     <a href='file:///c%3A/git/ProteoformNetworks/src/Python/lib/networks.py?line=85'>86</a>\u001b[0m         \u001b[39mprint\u001b[39m(\u001b[39mf\u001b[39m\u001b[39m\"\u001b[39m\u001b[39m    * Creating network \u001b[39m\u001b[39m{\u001b[39;00mfilename\u001b[39m}\u001b[39;00m\u001b[39m\"\u001b[39m)\n\u001b[0;32m     <a href='file:///c%3A/git/ProteoformNetworks/src/Python/lib/networks.py?line=86'>87</a>\u001b[0m     participants \u001b[39m=\u001b[39m {level: get_participants_by_pathway(\n\u001b[0;32m     <a href='file:///c%3A/git/ProteoformNetworks/src/Python/lib/networks.py?line=87'>88</a>\u001b[0m         pathway, level, out_path) \u001b[39mfor\u001b[39;00m level \u001b[39min\u001b[39;00m [level, sm]}\n\u001b[1;32m---> <a href='file:///c%3A/git/ProteoformNetworks/src/Python/lib/networks.py?line=88'>89</a>\u001b[0m     components \u001b[39m=\u001b[39m {level: get_components_by_pathway(\n\u001b[0;32m     <a href='file:///c%3A/git/ProteoformNetworks/src/Python/lib/networks.py?line=89'>90</a>\u001b[0m         pathway, level, out_path) \u001b[39mfor\u001b[39;00m level \u001b[39min\u001b[39;00m [level, sm]}\n\u001b[0;32m     <a href='file:///c%3A/git/ProteoformNetworks/src/Python/lib/networks.py?line=90'>91</a>\u001b[0m     create_interaction_network(\n\u001b[0;32m     <a href='file:///c%3A/git/ProteoformNetworks/src/Python/lib/networks.py?line=91'>92</a>\u001b[0m         level, method, participants, components, out_path, pathway, \u001b[39mFalse\u001b[39;00m)\n\u001b[0;32m     <a href='file:///c%3A/git/ProteoformNetworks/src/Python/lib/networks.py?line=92'>93</a>\u001b[0m \u001b[39m# else:\u001b[39;00m\n\u001b[0;32m     <a href='file:///c%3A/git/ProteoformNetworks/src/Python/lib/networks.py?line=93'>94</a>\u001b[0m \u001b[39m#     print(f\"    * Network {filename} already exists..\")\u001b[39;00m\n",
      "File \u001b[1;32mc:\\git\\ProteoformNetworks\\src\\Python\\lib\\graph_database_access.py:214\u001b[0m, in \u001b[0;36mget_components_by_pathway\u001b[1;34m(pathway, level, out_path)\u001b[0m\n\u001b[0;32m    <a href='file:///c%3A/git/ProteoformNetworks/src/Python/lib/graph_database_access.py?line=209'>210</a>\u001b[0m df_complexes \u001b[39m=\u001b[39m get_complexes_by_pathway(pathway)\n\u001b[0;32m    <a href='file:///c%3A/git/ProteoformNetworks/src/Python/lib/graph_database_access.py?line=211'>212</a>\u001b[0m \u001b[39mif\u001b[39;00m \u001b[39mlen\u001b[39m(df_complexes) \u001b[39m>\u001b[39m \u001b[39m0\u001b[39m:\n\u001b[0;32m    <a href='file:///c%3A/git/ProteoformNetworks/src/Python/lib/graph_database_access.py?line=212'>213</a>\u001b[0m     \u001b[39m# Get the components of each complex\u001b[39;00m\n\u001b[1;32m--> <a href='file:///c%3A/git/ProteoformNetworks/src/Python/lib/graph_database_access.py?line=213'>214</a>\u001b[0m     dfs_components \u001b[39m=\u001b[39m [get_complex_components_by_complex(\u001b[39mcomplex\u001b[39m, level, out_path) \u001b[39mfor\u001b[39;00m \u001b[39mcomplex\u001b[39m \u001b[39min\u001b[39;00m\n\u001b[0;32m    <a href='file:///c%3A/git/ProteoformNetworks/src/Python/lib/graph_database_access.py?line=214'>215</a>\u001b[0m                       df_complexes[\u001b[39m\"\u001b[39m\u001b[39mComplex\u001b[39m\u001b[39m\"\u001b[39m]]\n\u001b[0;32m    <a href='file:///c%3A/git/ProteoformNetworks/src/Python/lib/graph_database_access.py?line=215'>216</a>\u001b[0m     components \u001b[39m=\u001b[39m pd\u001b[39m.\u001b[39mconcat(dfs_components)\n\u001b[0;32m    <a href='file:///c%3A/git/ProteoformNetworks/src/Python/lib/graph_database_access.py?line=216'>217</a>\u001b[0m     \u001b[39mreturn\u001b[39;00m components\n",
      "File \u001b[1;32mc:\\git\\ProteoformNetworks\\src\\Python\\lib\\graph_database_access.py:214\u001b[0m, in \u001b[0;36m<listcomp>\u001b[1;34m(.0)\u001b[0m\n\u001b[0;32m    <a href='file:///c%3A/git/ProteoformNetworks/src/Python/lib/graph_database_access.py?line=209'>210</a>\u001b[0m df_complexes \u001b[39m=\u001b[39m get_complexes_by_pathway(pathway)\n\u001b[0;32m    <a href='file:///c%3A/git/ProteoformNetworks/src/Python/lib/graph_database_access.py?line=211'>212</a>\u001b[0m \u001b[39mif\u001b[39;00m \u001b[39mlen\u001b[39m(df_complexes) \u001b[39m>\u001b[39m \u001b[39m0\u001b[39m:\n\u001b[0;32m    <a href='file:///c%3A/git/ProteoformNetworks/src/Python/lib/graph_database_access.py?line=212'>213</a>\u001b[0m     \u001b[39m# Get the components of each complex\u001b[39;00m\n\u001b[1;32m--> <a href='file:///c%3A/git/ProteoformNetworks/src/Python/lib/graph_database_access.py?line=213'>214</a>\u001b[0m     dfs_components \u001b[39m=\u001b[39m [get_complex_components_by_complex(\u001b[39mcomplex\u001b[39;49m, level, out_path) \u001b[39mfor\u001b[39;00m \u001b[39mcomplex\u001b[39m \u001b[39min\u001b[39;00m\n\u001b[0;32m    <a href='file:///c%3A/git/ProteoformNetworks/src/Python/lib/graph_database_access.py?line=214'>215</a>\u001b[0m                       df_complexes[\u001b[39m\"\u001b[39m\u001b[39mComplex\u001b[39m\u001b[39m\"\u001b[39m]]\n\u001b[0;32m    <a href='file:///c%3A/git/ProteoformNetworks/src/Python/lib/graph_database_access.py?line=215'>216</a>\u001b[0m     components \u001b[39m=\u001b[39m pd\u001b[39m.\u001b[39mconcat(dfs_components)\n\u001b[0;32m    <a href='file:///c%3A/git/ProteoformNetworks/src/Python/lib/graph_database_access.py?line=216'>217</a>\u001b[0m     \u001b[39mreturn\u001b[39;00m components\n",
      "File \u001b[1;32mc:\\git\\ProteoformNetworks\\src\\Python\\lib\\graph_database_access.py:287\u001b[0m, in \u001b[0;36mget_complex_components_by_complex\u001b[1;34m(complex, level, out_path)\u001b[0m\n\u001b[0;32m    <a href='file:///c%3A/git/ProteoformNetworks/src/Python/lib/graph_database_access.py?line=284'>285</a>\u001b[0m     \u001b[39mif\u001b[39;00m \u001b[39mlen\u001b[39m(components) \u001b[39m==\u001b[39m \u001b[39m0\u001b[39m:\n\u001b[0;32m    <a href='file:///c%3A/git/ProteoformNetworks/src/Python/lib/graph_database_access.py?line=285'>286</a>\u001b[0m         components \u001b[39m=\u001b[39m get_empty_components_dataframe(level)\n\u001b[1;32m--> <a href='file:///c%3A/git/ProteoformNetworks/src/Python/lib/graph_database_access.py?line=286'>287</a>\u001b[0m     components\u001b[39m.\u001b[39;49mto_csv(filename)\n\u001b[0;32m    <a href='file:///c%3A/git/ProteoformNetworks/src/Python/lib/graph_database_access.py?line=287'>288</a>\u001b[0m     \u001b[39mreturn\u001b[39;00m components\n\u001b[0;32m    <a href='file:///c%3A/git/ProteoformNetworks/src/Python/lib/graph_database_access.py?line=288'>289</a>\u001b[0m \u001b[39melse\u001b[39;00m:\n",
      "File \u001b[1;32mC:\\Python310\\lib\\site-packages\\pandas\\core\\generic.py:3563\u001b[0m, in \u001b[0;36mNDFrame.to_csv\u001b[1;34m(self, path_or_buf, sep, na_rep, float_format, columns, header, index, index_label, mode, encoding, compression, quoting, quotechar, line_terminator, chunksize, date_format, doublequote, escapechar, decimal, errors, storage_options)\u001b[0m\n\u001b[0;32m   <a href='file:///c%3A/Python310/lib/site-packages/pandas/core/generic.py?line=3551'>3552</a>\u001b[0m df \u001b[39m=\u001b[39m \u001b[39mself\u001b[39m \u001b[39mif\u001b[39;00m \u001b[39misinstance\u001b[39m(\u001b[39mself\u001b[39m, ABCDataFrame) \u001b[39melse\u001b[39;00m \u001b[39mself\u001b[39m\u001b[39m.\u001b[39mto_frame()\n\u001b[0;32m   <a href='file:///c%3A/Python310/lib/site-packages/pandas/core/generic.py?line=3553'>3554</a>\u001b[0m formatter \u001b[39m=\u001b[39m DataFrameFormatter(\n\u001b[0;32m   <a href='file:///c%3A/Python310/lib/site-packages/pandas/core/generic.py?line=3554'>3555</a>\u001b[0m     frame\u001b[39m=\u001b[39mdf,\n\u001b[0;32m   <a href='file:///c%3A/Python310/lib/site-packages/pandas/core/generic.py?line=3555'>3556</a>\u001b[0m     header\u001b[39m=\u001b[39mheader,\n\u001b[1;32m   (...)\u001b[0m\n\u001b[0;32m   <a href='file:///c%3A/Python310/lib/site-packages/pandas/core/generic.py?line=3559'>3560</a>\u001b[0m     decimal\u001b[39m=\u001b[39mdecimal,\n\u001b[0;32m   <a href='file:///c%3A/Python310/lib/site-packages/pandas/core/generic.py?line=3560'>3561</a>\u001b[0m )\n\u001b[1;32m-> <a href='file:///c%3A/Python310/lib/site-packages/pandas/core/generic.py?line=3562'>3563</a>\u001b[0m \u001b[39mreturn\u001b[39;00m DataFrameRenderer(formatter)\u001b[39m.\u001b[39;49mto_csv(\n\u001b[0;32m   <a href='file:///c%3A/Python310/lib/site-packages/pandas/core/generic.py?line=3563'>3564</a>\u001b[0m     path_or_buf,\n\u001b[0;32m   <a href='file:///c%3A/Python310/lib/site-packages/pandas/core/generic.py?line=3564'>3565</a>\u001b[0m     line_terminator\u001b[39m=\u001b[39;49mline_terminator,\n\u001b[0;32m   <a href='file:///c%3A/Python310/lib/site-packages/pandas/core/generic.py?line=3565'>3566</a>\u001b[0m     sep\u001b[39m=\u001b[39;49msep,\n\u001b[0;32m   <a href='file:///c%3A/Python310/lib/site-packages/pandas/core/generic.py?line=3566'>3567</a>\u001b[0m     encoding\u001b[39m=\u001b[39;49mencoding,\n\u001b[0;32m   <a href='file:///c%3A/Python310/lib/site-packages/pandas/core/generic.py?line=3567'>3568</a>\u001b[0m     errors\u001b[39m=\u001b[39;49merrors,\n\u001b[0;32m   <a href='file:///c%3A/Python310/lib/site-packages/pandas/core/generic.py?line=3568'>3569</a>\u001b[0m     compression\u001b[39m=\u001b[39;49mcompression,\n\u001b[0;32m   <a href='file:///c%3A/Python310/lib/site-packages/pandas/core/generic.py?line=3569'>3570</a>\u001b[0m     quoting\u001b[39m=\u001b[39;49mquoting,\n\u001b[0;32m   <a href='file:///c%3A/Python310/lib/site-packages/pandas/core/generic.py?line=3570'>3571</a>\u001b[0m     columns\u001b[39m=\u001b[39;49mcolumns,\n\u001b[0;32m   <a href='file:///c%3A/Python310/lib/site-packages/pandas/core/generic.py?line=3571'>3572</a>\u001b[0m     index_label\u001b[39m=\u001b[39;49mindex_label,\n\u001b[0;32m   <a href='file:///c%3A/Python310/lib/site-packages/pandas/core/generic.py?line=3572'>3573</a>\u001b[0m     mode\u001b[39m=\u001b[39;49mmode,\n\u001b[0;32m   <a href='file:///c%3A/Python310/lib/site-packages/pandas/core/generic.py?line=3573'>3574</a>\u001b[0m     chunksize\u001b[39m=\u001b[39;49mchunksize,\n\u001b[0;32m   <a href='file:///c%3A/Python310/lib/site-packages/pandas/core/generic.py?line=3574'>3575</a>\u001b[0m     quotechar\u001b[39m=\u001b[39;49mquotechar,\n\u001b[0;32m   <a href='file:///c%3A/Python310/lib/site-packages/pandas/core/generic.py?line=3575'>3576</a>\u001b[0m     date_format\u001b[39m=\u001b[39;49mdate_format,\n\u001b[0;32m   <a href='file:///c%3A/Python310/lib/site-packages/pandas/core/generic.py?line=3576'>3577</a>\u001b[0m     doublequote\u001b[39m=\u001b[39;49mdoublequote,\n\u001b[0;32m   <a href='file:///c%3A/Python310/lib/site-packages/pandas/core/generic.py?line=3577'>3578</a>\u001b[0m     escapechar\u001b[39m=\u001b[39;49mescapechar,\n\u001b[0;32m   <a href='file:///c%3A/Python310/lib/site-packages/pandas/core/generic.py?line=3578'>3579</a>\u001b[0m     storage_options\u001b[39m=\u001b[39;49mstorage_options,\n\u001b[0;32m   <a href='file:///c%3A/Python310/lib/site-packages/pandas/core/generic.py?line=3579'>3580</a>\u001b[0m )\n",
      "File \u001b[1;32mC:\\Python310\\lib\\site-packages\\pandas\\io\\formats\\format.py:1180\u001b[0m, in \u001b[0;36mDataFrameRenderer.to_csv\u001b[1;34m(self, path_or_buf, encoding, sep, columns, index_label, mode, compression, quoting, quotechar, line_terminator, chunksize, date_format, doublequote, escapechar, errors, storage_options)\u001b[0m\n\u001b[0;32m   <a href='file:///c%3A/Python310/lib/site-packages/pandas/io/formats/format.py?line=1158'>1159</a>\u001b[0m     created_buffer \u001b[39m=\u001b[39m \u001b[39mFalse\u001b[39;00m\n\u001b[0;32m   <a href='file:///c%3A/Python310/lib/site-packages/pandas/io/formats/format.py?line=1160'>1161</a>\u001b[0m csv_formatter \u001b[39m=\u001b[39m CSVFormatter(\n\u001b[0;32m   <a href='file:///c%3A/Python310/lib/site-packages/pandas/io/formats/format.py?line=1161'>1162</a>\u001b[0m     path_or_buf\u001b[39m=\u001b[39mpath_or_buf,\n\u001b[0;32m   <a href='file:///c%3A/Python310/lib/site-packages/pandas/io/formats/format.py?line=1162'>1163</a>\u001b[0m     line_terminator\u001b[39m=\u001b[39mline_terminator,\n\u001b[1;32m   (...)\u001b[0m\n\u001b[0;32m   <a href='file:///c%3A/Python310/lib/site-packages/pandas/io/formats/format.py?line=1177'>1178</a>\u001b[0m     formatter\u001b[39m=\u001b[39m\u001b[39mself\u001b[39m\u001b[39m.\u001b[39mfmt,\n\u001b[0;32m   <a href='file:///c%3A/Python310/lib/site-packages/pandas/io/formats/format.py?line=1178'>1179</a>\u001b[0m )\n\u001b[1;32m-> <a href='file:///c%3A/Python310/lib/site-packages/pandas/io/formats/format.py?line=1179'>1180</a>\u001b[0m csv_formatter\u001b[39m.\u001b[39;49msave()\n\u001b[0;32m   <a href='file:///c%3A/Python310/lib/site-packages/pandas/io/formats/format.py?line=1181'>1182</a>\u001b[0m \u001b[39mif\u001b[39;00m created_buffer:\n\u001b[0;32m   <a href='file:///c%3A/Python310/lib/site-packages/pandas/io/formats/format.py?line=1182'>1183</a>\u001b[0m     \u001b[39massert\u001b[39;00m \u001b[39misinstance\u001b[39m(path_or_buf, StringIO)\n",
      "File \u001b[1;32mC:\\Python310\\lib\\site-packages\\pandas\\io\\formats\\csvs.py:241\u001b[0m, in \u001b[0;36mCSVFormatter.save\u001b[1;34m(self)\u001b[0m\n\u001b[0;32m    <a href='file:///c%3A/Python310/lib/site-packages/pandas/io/formats/csvs.py?line=236'>237</a>\u001b[0m \u001b[39m\"\"\"\u001b[39;00m\n\u001b[0;32m    <a href='file:///c%3A/Python310/lib/site-packages/pandas/io/formats/csvs.py?line=237'>238</a>\u001b[0m \u001b[39mCreate the writer & save.\u001b[39;00m\n\u001b[0;32m    <a href='file:///c%3A/Python310/lib/site-packages/pandas/io/formats/csvs.py?line=238'>239</a>\u001b[0m \u001b[39m\"\"\"\u001b[39;00m\n\u001b[0;32m    <a href='file:///c%3A/Python310/lib/site-packages/pandas/io/formats/csvs.py?line=239'>240</a>\u001b[0m \u001b[39m# apply compression and byte/text conversion\u001b[39;00m\n\u001b[1;32m--> <a href='file:///c%3A/Python310/lib/site-packages/pandas/io/formats/csvs.py?line=240'>241</a>\u001b[0m \u001b[39mwith\u001b[39;00m get_handle(\n\u001b[0;32m    <a href='file:///c%3A/Python310/lib/site-packages/pandas/io/formats/csvs.py?line=241'>242</a>\u001b[0m     \u001b[39mself\u001b[39;49m\u001b[39m.\u001b[39;49mfilepath_or_buffer,\n\u001b[0;32m    <a href='file:///c%3A/Python310/lib/site-packages/pandas/io/formats/csvs.py?line=242'>243</a>\u001b[0m     \u001b[39mself\u001b[39;49m\u001b[39m.\u001b[39;49mmode,\n\u001b[0;32m    <a href='file:///c%3A/Python310/lib/site-packages/pandas/io/formats/csvs.py?line=243'>244</a>\u001b[0m     encoding\u001b[39m=\u001b[39;49m\u001b[39mself\u001b[39;49m\u001b[39m.\u001b[39;49mencoding,\n\u001b[0;32m    <a href='file:///c%3A/Python310/lib/site-packages/pandas/io/formats/csvs.py?line=244'>245</a>\u001b[0m     errors\u001b[39m=\u001b[39;49m\u001b[39mself\u001b[39;49m\u001b[39m.\u001b[39;49merrors,\n\u001b[0;32m    <a href='file:///c%3A/Python310/lib/site-packages/pandas/io/formats/csvs.py?line=245'>246</a>\u001b[0m     compression\u001b[39m=\u001b[39;49m\u001b[39mself\u001b[39;49m\u001b[39m.\u001b[39;49mcompression,\n\u001b[0;32m    <a href='file:///c%3A/Python310/lib/site-packages/pandas/io/formats/csvs.py?line=246'>247</a>\u001b[0m     storage_options\u001b[39m=\u001b[39;49m\u001b[39mself\u001b[39;49m\u001b[39m.\u001b[39;49mstorage_options,\n\u001b[0;32m    <a href='file:///c%3A/Python310/lib/site-packages/pandas/io/formats/csvs.py?line=247'>248</a>\u001b[0m ) \u001b[39mas\u001b[39;00m handles:\n\u001b[0;32m    <a href='file:///c%3A/Python310/lib/site-packages/pandas/io/formats/csvs.py?line=248'>249</a>\u001b[0m \n\u001b[0;32m    <a href='file:///c%3A/Python310/lib/site-packages/pandas/io/formats/csvs.py?line=249'>250</a>\u001b[0m     \u001b[39m# Note: self.encoding is irrelevant here\u001b[39;00m\n\u001b[0;32m    <a href='file:///c%3A/Python310/lib/site-packages/pandas/io/formats/csvs.py?line=250'>251</a>\u001b[0m     \u001b[39mself\u001b[39m\u001b[39m.\u001b[39mwriter \u001b[39m=\u001b[39m csvlib\u001b[39m.\u001b[39mwriter(\n\u001b[0;32m    <a href='file:///c%3A/Python310/lib/site-packages/pandas/io/formats/csvs.py?line=251'>252</a>\u001b[0m         handles\u001b[39m.\u001b[39mhandle,\n\u001b[0;32m    <a href='file:///c%3A/Python310/lib/site-packages/pandas/io/formats/csvs.py?line=252'>253</a>\u001b[0m         lineterminator\u001b[39m=\u001b[39m\u001b[39mself\u001b[39m\u001b[39m.\u001b[39mline_terminator,\n\u001b[1;32m   (...)\u001b[0m\n\u001b[0;32m    <a href='file:///c%3A/Python310/lib/site-packages/pandas/io/formats/csvs.py?line=257'>258</a>\u001b[0m         quotechar\u001b[39m=\u001b[39m\u001b[39mself\u001b[39m\u001b[39m.\u001b[39mquotechar,\n\u001b[0;32m    <a href='file:///c%3A/Python310/lib/site-packages/pandas/io/formats/csvs.py?line=258'>259</a>\u001b[0m     )\n\u001b[0;32m    <a href='file:///c%3A/Python310/lib/site-packages/pandas/io/formats/csvs.py?line=260'>261</a>\u001b[0m     \u001b[39mself\u001b[39m\u001b[39m.\u001b[39m_save()\n",
      "File \u001b[1;32mC:\\Python310\\lib\\site-packages\\pandas\\io\\common.py:697\u001b[0m, in \u001b[0;36mget_handle\u001b[1;34m(path_or_buf, mode, encoding, compression, memory_map, is_text, errors, storage_options)\u001b[0m\n\u001b[0;32m    <a href='file:///c%3A/Python310/lib/site-packages/pandas/io/common.py?line=694'>695</a>\u001b[0m \u001b[39m# Only for write methods\u001b[39;00m\n\u001b[0;32m    <a href='file:///c%3A/Python310/lib/site-packages/pandas/io/common.py?line=695'>696</a>\u001b[0m \u001b[39mif\u001b[39;00m \u001b[39m\"\u001b[39m\u001b[39mr\u001b[39m\u001b[39m\"\u001b[39m \u001b[39mnot\u001b[39;00m \u001b[39min\u001b[39;00m mode \u001b[39mand\u001b[39;00m is_path:\n\u001b[1;32m--> <a href='file:///c%3A/Python310/lib/site-packages/pandas/io/common.py?line=696'>697</a>\u001b[0m     check_parent_directory(\u001b[39mstr\u001b[39;49m(handle))\n\u001b[0;32m    <a href='file:///c%3A/Python310/lib/site-packages/pandas/io/common.py?line=698'>699</a>\u001b[0m \u001b[39mif\u001b[39;00m compression:\n\u001b[0;32m    <a href='file:///c%3A/Python310/lib/site-packages/pandas/io/common.py?line=699'>700</a>\u001b[0m     \u001b[39mif\u001b[39;00m compression \u001b[39m!=\u001b[39m \u001b[39m\"\u001b[39m\u001b[39mzstd\u001b[39m\u001b[39m\"\u001b[39m:\n\u001b[0;32m    <a href='file:///c%3A/Python310/lib/site-packages/pandas/io/common.py?line=700'>701</a>\u001b[0m         \u001b[39m# compression libraries do not like an explicit text-mode\u001b[39;00m\n",
      "File \u001b[1;32mC:\\Python310\\lib\\site-packages\\pandas\\io\\common.py:571\u001b[0m, in \u001b[0;36mcheck_parent_directory\u001b[1;34m(path)\u001b[0m\n\u001b[0;32m    <a href='file:///c%3A/Python310/lib/site-packages/pandas/io/common.py?line=568'>569</a>\u001b[0m parent \u001b[39m=\u001b[39m Path(path)\u001b[39m.\u001b[39mparent\n\u001b[0;32m    <a href='file:///c%3A/Python310/lib/site-packages/pandas/io/common.py?line=569'>570</a>\u001b[0m \u001b[39mif\u001b[39;00m \u001b[39mnot\u001b[39;00m parent\u001b[39m.\u001b[39mis_dir():\n\u001b[1;32m--> <a href='file:///c%3A/Python310/lib/site-packages/pandas/io/common.py?line=570'>571</a>\u001b[0m     \u001b[39mraise\u001b[39;00m \u001b[39mOSError\u001b[39;00m(\u001b[39mfr\u001b[39m\u001b[39m\"\u001b[39m\u001b[39mCannot save file into a non-existent directory: \u001b[39m\u001b[39m'\u001b[39m\u001b[39m{\u001b[39;00mparent\u001b[39m}\u001b[39;00m\u001b[39m'\u001b[39m\u001b[39m\"\u001b[39m)\n",
      "\u001b[1;31mOSError\u001b[0m: Cannot save file into a non-existent directory: 'networks\\pathways\\complexes'"
     ]
    }
   ],
   "source": [
    "selected_pathways = []\n",
    "for pathway in pathways:\n",
    "    filename = get_json_filename(config.proteins, config.no_sm, config.PATHWAY_GRAPHS_PATH, pathway)\n",
    "    if not Path(filename).exists():\n",
    "        create_pathway_interaction_network(pathway, config.proteins, config.no_sm, config.PATHWAY_GRAPHS_PATH)\n",
    "    G = read_graph(filename)\n",
    "    if any(protein in selected_proteins for protein in list(G.nodes)):\n",
    "        selected_pathways.append(pathway)\n",
    "\n",
    "print(f\"There are {len(selected_pathways)} pathways that contain proteoforms.\")"
   ]
  },
  {
   "cell_type": "code",
   "execution_count": null,
   "metadata": {
    "collapsed": false,
    "pycharm": {
     "name": "#%%\n"
    }
   },
   "outputs": [],
   "source": [
    "# Examples of genes with multiple protein products\n",
    "\n",
    "map_genes_to_proteins = read_dictionary_one_to_set(INTERACTOMES_PATH, \"mapping_proteins_to_genes.tsv\", col_indices=(1, 0))\n",
    "map_proteins_to_proteoforms = read_dictionary_one_to_set(INTERACTOMES_PATH, \"mapping_proteins_to_proteoforms.tsv\", col_indices=(0, 1))\n",
    "\n",
    "map_proteins_to_proteoforms"
   ]
  },
  {
   "cell_type": "code",
   "execution_count": null,
   "metadata": {},
   "outputs": [],
   "source": [
    "\n",
    "#  Examples when gene products participate in a different set of reactions."
   ]
  },
  {
   "cell_type": "code",
   "execution_count": null,
   "metadata": {},
   "outputs": [],
   "source": [
    "- Calculate set of reactions where each gene product participates\n",
    "- Select genes where it's protein products have a different set of reactions\n",
    "- Quantify the difference overall:\n",
    "    * How often the multiple protein products participate in the same reaction\n",
    "    * Quantify the intersection: "
   ]
  }
 ],
 "metadata": {
  "kernelspec": {
   "display_name": "Python 3",
   "language": "python",
   "name": "python3"
  },
  "language_info": {
   "codemirror_mode": {
    "name": "ipython",
    "version": 3
   },
   "file_extension": ".py",
   "mimetype": "text/x-python",
   "name": "python",
   "nbconvert_exporter": "python",
   "pygments_lexer": "ipython3",
   "version": "3.10.2"
  }
 },
 "nbformat": 4,
 "nbformat_minor": 0
}
