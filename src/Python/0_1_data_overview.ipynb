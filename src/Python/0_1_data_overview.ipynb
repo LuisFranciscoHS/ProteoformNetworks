{
 "cells": [
  {
   "cell_type": "code",
   "execution_count": 10,
   "metadata": {
    "collapsed": true
   },
   "outputs": [
    {
     "name": "stdout",
     "output_type": "stream",
     "text": [
      "The autoreload extension is already loaded. To reload it, use:\n",
      "  %reload_ext autoreload\n",
      "Working directory: c:\\git\\pathwayanalysisplatform\\proteoformnetworks\n"
     ]
    }
   ],
   "source": [
    "import config\n",
    "from lib.graph_database_access import get_pathways\n",
    "from lib.dictionaries import read_dictionary_one_to_set\n",
    "from lib.networks import get_json_filename, create_pathway_interaction_network, read_graph\n",
    "from pathlib import Path\n",
    "\n",
    "%load_ext autoreload\n",
    "%autoreload 2\n",
    "%reload_ext autoreload\n",
    "\n",
    "config.set_root_wd()"
   ]
  },
  {
   "cell_type": "code",
   "execution_count": 11,
   "metadata": {
    "collapsed": false,
    "pycharm": {
     "name": "#%%\n"
    }
   },
   "outputs": [
    {
     "name": "stdout",
     "output_type": "stream",
     "text": [
      "There are 2065 pathways.\n"
     ]
    }
   ],
   "source": [
    "map_proteins_to_proteoforms = read_dictionary_one_to_set(config.GRAPHS_PATH, \"mapping_proteins_to_proteoforms.tsv\",\n",
    "                                                         col_indices=(0, 1))\n",
    "pathways = get_pathways()[\"stId\"]\n",
    "print(f\"There are {len(pathways)} pathways.\")"
   ]
  },
  {
   "cell_type": "code",
   "execution_count": 12,
   "metadata": {
    "collapsed": false,
    "pycharm": {
     "name": "#%% Select proteins with multiple proteoforms\n"
    }
   },
   "outputs": [
    {
     "name": "stdout",
     "output_type": "stream",
     "text": [
      "There are 11066 proteins.\n",
      "Only 1491 have multiple proteoforms.\n"
     ]
    }
   ],
   "source": [
    "print(f\"There are {len(map_proteins_to_proteoforms.keys())} proteins.\")\n",
    "selected_proteins = []\n",
    "for protein, proteoforms in map_proteins_to_proteoforms.items():\n",
    "    if len(proteoforms) > 1:\n",
    "        selected_proteins.append(protein)\n",
    "\n",
    "print(f\"Only {len(selected_proteins)} have multiple proteoforms.\")"
   ]
  },
  {
   "cell_type": "code",
   "execution_count": 14,
   "metadata": {
    "collapsed": false,
    "pycharm": {
     "name": "#%%\n"
    }
   },
   "outputs": [
    {
     "name": "stdout",
     "output_type": "stream",
     "text": [
      "There are 1482 pathways that contain proteoforms.\n"
     ]
    }
   ],
   "source": [
    "selected_pathways = []\n",
    "for pathway in pathways:\n",
    "    filename = get_json_filename(config.proteins, config.no_sm, config.PATHWAY_GRAPHS_PATH, pathway)\n",
    "    if not Path(filename).exists():\n",
    "        create_pathway_interaction_network(pathway, config.proteins, config.no_sm, config.PATHWAY_GRAPHS_PATH)\n",
    "    G = read_graph(filename)\n",
    "    if any(protein in selected_proteins for protein in list(G.nodes)):\n",
    "        selected_pathways.append(pathway)\n",
    "\n",
    "print(f\"There are {len(selected_pathways)} pathways that contain proteoforms.\")"
   ]
  },
  {
   "cell_type": "code",
   "execution_count": null,
   "metadata": {
    "collapsed": false,
    "pycharm": {
     "name": "#%%\n"
    }
   },
   "outputs": [],
   "source": [
    "# Examples when gene products participate in a different set of reactions.\n",
    "\n",
    "- Find genes with multiple protein products\n",
    "- Calculate set of reactions where each gene product participates\n",
    "- Select genes where it's protein products have a different set of reactions\n",
    "- Quantify the difference overall:\n",
    "    * How often the multiple protein products participate in the same reaction\n",
    "    * Quantify the intersection: "
   ]
  }
 ],
 "metadata": {
  "kernelspec": {
   "display_name": "Python 3",
   "language": "python",
   "name": "python3"
  },
  "language_info": {
   "codemirror_mode": {
    "name": "ipython",
    "version": 2
   },
   "file_extension": ".py",
   "mimetype": "text/x-python",
   "name": "python",
   "nbconvert_exporter": "python",
   "pygments_lexer": "ipython2",
   "version": "2.7.6"
  }
 },
 "nbformat": 4,
 "nbformat_minor": 0
}
