{
 "cells": [
  {
   "cell_type": "markdown",
   "metadata": {},
   "source": [
    "# Data overview"
   ]
  },
  {
   "cell_type": "markdown",
   "metadata": {},
   "source": [
    "## Load dependencies"
   ]
  },
  {
   "cell_type": "code",
   "execution_count": 42,
   "metadata": {},
   "outputs": [
    {
     "name": "stdout",
     "output_type": "stream",
     "text": [
      "The autoreload extension is already loaded. To reload it, use:\n",
      "  %reload_ext autoreload\n",
      "Initial working directory: C:\\git\\ProteoformNetworks\\src\\Python\n",
      "New working directory: c:\\git\\ProteoformNetworks\n"
     ]
    }
   ],
   "source": [
    "import os\n",
    "import config\n",
    "from config import INTERACTOMES_PATH, DATA_REACTOME_PATH\n",
    "from queries import QUERY_GET_ALL_GENES, QUERY_GET_ALL_PROTEINS, QUERY_GET_ALL_PROTEOFORMS, QUERY_GET_ALL_SMALL_MOLECULES\n",
    "from lib.graph_database_access import get_pathways, get_query_result, make_proteoform_string, get_reactions\n",
    "from lib.dictionaries import read_dictionary_one_to_set\n",
    "from lib.networks import get_json_filename, create_pathway_interaction_network, read_graph, get_interactomes\n",
    "import pandas as pd\n",
    "import dataframe_image as dfi\n",
    "import networkx as nx\n",
    "\n",
    "%load_ext autoreload\n",
    "%autoreload 2\n",
    "%reload_ext autoreload\n",
    "\n",
    "config.set_root_wd()"
   ]
  },
  {
   "cell_type": "markdown",
   "metadata": {},
   "source": [
    "## Get number of entities in Reactome"
   ]
  },
  {
   "cell_type": "markdown",
   "metadata": {},
   "source": [
    "### Number of genes"
   ]
  },
  {
   "cell_type": "code",
   "execution_count": 43,
   "metadata": {},
   "outputs": [
    {
     "name": "stdout",
     "output_type": "stream",
     "text": [
      "There are 10976 genes.\n"
     ]
    },
    {
     "data": {
      "text/html": [
       "<div>\n",
       "<style scoped>\n",
       "    .dataframe tbody tr th:only-of-type {\n",
       "        vertical-align: middle;\n",
       "    }\n",
       "\n",
       "    .dataframe tbody tr th {\n",
       "        vertical-align: top;\n",
       "    }\n",
       "\n",
       "    .dataframe thead th {\n",
       "        text-align: right;\n",
       "    }\n",
       "</style>\n",
       "<table border=\"1\" class=\"dataframe\">\n",
       "  <thead>\n",
       "    <tr style=\"text-align: right;\">\n",
       "      <th></th>\n",
       "      <th>Id</th>\n",
       "    </tr>\n",
       "  </thead>\n",
       "  <tbody>\n",
       "    <tr>\n",
       "      <th>0</th>\n",
       "      <td>HSPA8</td>\n",
       "    </tr>\n",
       "    <tr>\n",
       "      <th>1</th>\n",
       "      <td>HDAC6</td>\n",
       "    </tr>\n",
       "    <tr>\n",
       "      <th>2</th>\n",
       "      <td>PARK7</td>\n",
       "    </tr>\n",
       "    <tr>\n",
       "      <th>3</th>\n",
       "      <td>PCNT</td>\n",
       "    </tr>\n",
       "    <tr>\n",
       "      <th>4</th>\n",
       "      <td>ARL13B</td>\n",
       "    </tr>\n",
       "    <tr>\n",
       "      <th>...</th>\n",
       "      <td>...</td>\n",
       "    </tr>\n",
       "    <tr>\n",
       "      <th>10971</th>\n",
       "      <td>DENND4B</td>\n",
       "    </tr>\n",
       "    <tr>\n",
       "      <th>10972</th>\n",
       "      <td>ALS2CL</td>\n",
       "    </tr>\n",
       "    <tr>\n",
       "      <th>10973</th>\n",
       "      <td>RIN2</td>\n",
       "    </tr>\n",
       "    <tr>\n",
       "      <th>10974</th>\n",
       "      <td>RIN1</td>\n",
       "    </tr>\n",
       "    <tr>\n",
       "      <th>10975</th>\n",
       "      <td>RINL</td>\n",
       "    </tr>\n",
       "  </tbody>\n",
       "</table>\n",
       "<p>10976 rows × 1 columns</p>\n",
       "</div>"
      ],
      "text/plain": [
       "            Id\n",
       "0        HSPA8\n",
       "1        HDAC6\n",
       "2        PARK7\n",
       "3         PCNT\n",
       "4       ARL13B\n",
       "...        ...\n",
       "10971  DENND4B\n",
       "10972   ALS2CL\n",
       "10973     RIN2\n",
       "10974     RIN1\n",
       "10975     RINL\n",
       "\n",
       "[10976 rows x 1 columns]"
      ]
     },
     "execution_count": 43,
     "metadata": {},
     "output_type": "execute_result"
    }
   ],
   "source": [
    "genes = get_query_result(QUERY_GET_ALL_GENES)\n",
    "print(f\"There are {len(genes)} genes.\")\n",
    "if not os.path.exists(DATA_REACTOME_PATH):\n",
    "    os.makedirs(DATA_REACTOME_PATH)\n",
    "genes[\"Id\"].to_csv(DATA_REACTOME_PATH + \"genes.csv\", index=False, header=False)\n",
    "genes"
   ]
  },
  {
   "cell_type": "markdown",
   "metadata": {},
   "source": [
    "### Number of proteins"
   ]
  },
  {
   "cell_type": "code",
   "execution_count": 44,
   "metadata": {},
   "outputs": [
    {
     "name": "stdout",
     "output_type": "stream",
     "text": [
      "There are 11074 proteins.\n"
     ]
    },
    {
     "data": {
      "text/html": [
       "<div>\n",
       "<style scoped>\n",
       "    .dataframe tbody tr th:only-of-type {\n",
       "        vertical-align: middle;\n",
       "    }\n",
       "\n",
       "    .dataframe tbody tr th {\n",
       "        vertical-align: top;\n",
       "    }\n",
       "\n",
       "    .dataframe thead th {\n",
       "        text-align: right;\n",
       "    }\n",
       "</style>\n",
       "<table border=\"1\" class=\"dataframe\">\n",
       "  <thead>\n",
       "    <tr style=\"text-align: right;\">\n",
       "      <th></th>\n",
       "      <th>Id</th>\n",
       "    </tr>\n",
       "  </thead>\n",
       "  <tbody>\n",
       "    <tr>\n",
       "      <th>0</th>\n",
       "      <td>P11142</td>\n",
       "    </tr>\n",
       "    <tr>\n",
       "      <th>1</th>\n",
       "      <td>Q9UBN7</td>\n",
       "    </tr>\n",
       "    <tr>\n",
       "      <th>2</th>\n",
       "      <td>Q99497</td>\n",
       "    </tr>\n",
       "    <tr>\n",
       "      <th>3</th>\n",
       "      <td>O95613</td>\n",
       "    </tr>\n",
       "    <tr>\n",
       "      <th>4</th>\n",
       "      <td>Q3SXY8</td>\n",
       "    </tr>\n",
       "    <tr>\n",
       "      <th>...</th>\n",
       "      <td>...</td>\n",
       "    </tr>\n",
       "    <tr>\n",
       "      <th>11069</th>\n",
       "      <td>O75064</td>\n",
       "    </tr>\n",
       "    <tr>\n",
       "      <th>11070</th>\n",
       "      <td>Q60I27</td>\n",
       "    </tr>\n",
       "    <tr>\n",
       "      <th>11071</th>\n",
       "      <td>Q8WYP3</td>\n",
       "    </tr>\n",
       "    <tr>\n",
       "      <th>11072</th>\n",
       "      <td>Q13671</td>\n",
       "    </tr>\n",
       "    <tr>\n",
       "      <th>11073</th>\n",
       "      <td>Q6ZS11</td>\n",
       "    </tr>\n",
       "  </tbody>\n",
       "</table>\n",
       "<p>11074 rows × 1 columns</p>\n",
       "</div>"
      ],
      "text/plain": [
       "           Id\n",
       "0      P11142\n",
       "1      Q9UBN7\n",
       "2      Q99497\n",
       "3      O95613\n",
       "4      Q3SXY8\n",
       "...       ...\n",
       "11069  O75064\n",
       "11070  Q60I27\n",
       "11071  Q8WYP3\n",
       "11072  Q13671\n",
       "11073  Q6ZS11\n",
       "\n",
       "[11074 rows x 1 columns]"
      ]
     },
     "execution_count": 44,
     "metadata": {},
     "output_type": "execute_result"
    }
   ],
   "source": [
    "# Calculate number of human Proteins we can get from Reactome. Proteins that participate in a Reaction and a Pathway.\n",
    "proteins = get_query_result(QUERY_GET_ALL_PROTEINS)\n",
    "print(f\"There are {len(proteins)} proteins.\")\n",
    "proteins[\"Id\"].to_csv(DATA_REACTOME_PATH + \"proteins.csv\", index=False, header=False)\n",
    "proteins"
   ]
  },
  {
   "cell_type": "markdown",
   "metadata": {},
   "source": [
    "### Number of proteoforms"
   ]
  },
  {
   "cell_type": "code",
   "execution_count": 45,
   "metadata": {},
   "outputs": [
    {
     "name": "stdout",
     "output_type": "stream",
     "text": [
      "These 14246 proteoforms represent 11074 proteins coded by 10976 genes, making 1.2979227405247813 proteoform per gene on average. \n"
     ]
    },
    {
     "data": {
      "text/html": [
       "<div>\n",
       "<style scoped>\n",
       "    .dataframe tbody tr th:only-of-type {\n",
       "        vertical-align: middle;\n",
       "    }\n",
       "\n",
       "    .dataframe tbody tr th {\n",
       "        vertical-align: top;\n",
       "    }\n",
       "\n",
       "    .dataframe thead th {\n",
       "        text-align: right;\n",
       "    }\n",
       "</style>\n",
       "<table border=\"1\" class=\"dataframe\">\n",
       "  <thead>\n",
       "    <tr style=\"text-align: right;\">\n",
       "      <th></th>\n",
       "      <th>Id</th>\n",
       "    </tr>\n",
       "  </thead>\n",
       "  <tbody>\n",
       "    <tr>\n",
       "      <th>0</th>\n",
       "      <td>A0A075B6P5;</td>\n",
       "    </tr>\n",
       "    <tr>\n",
       "      <th>1</th>\n",
       "      <td>A0A075B6S6;</td>\n",
       "    </tr>\n",
       "    <tr>\n",
       "      <th>2</th>\n",
       "      <td>A0A096LP49;</td>\n",
       "    </tr>\n",
       "    <tr>\n",
       "      <th>3</th>\n",
       "      <td>A0A0A6YYK7;</td>\n",
       "    </tr>\n",
       "    <tr>\n",
       "      <th>4</th>\n",
       "      <td>A0A0C4DH25;</td>\n",
       "    </tr>\n",
       "    <tr>\n",
       "      <th>...</th>\n",
       "      <td>...</td>\n",
       "    </tr>\n",
       "    <tr>\n",
       "      <th>14241</th>\n",
       "      <td>Q9Y6X9;</td>\n",
       "    </tr>\n",
       "    <tr>\n",
       "      <th>14242</th>\n",
       "      <td>Q9Y6Y8;</td>\n",
       "    </tr>\n",
       "    <tr>\n",
       "      <th>14243</th>\n",
       "      <td>Q9Y6Y9;</td>\n",
       "    </tr>\n",
       "    <tr>\n",
       "      <th>14244</th>\n",
       "      <td>Q9Y6Y9;00160:26,00160:114</td>\n",
       "    </tr>\n",
       "    <tr>\n",
       "      <th>14245</th>\n",
       "      <td>Q9Y6Z7;</td>\n",
       "    </tr>\n",
       "  </tbody>\n",
       "</table>\n",
       "<p>14246 rows × 1 columns</p>\n",
       "</div>"
      ],
      "text/plain": [
       "                              Id\n",
       "0                    A0A075B6P5;\n",
       "1                    A0A075B6S6;\n",
       "2                    A0A096LP49;\n",
       "3                    A0A0A6YYK7;\n",
       "4                    A0A0C4DH25;\n",
       "...                          ...\n",
       "14241                    Q9Y6X9;\n",
       "14242                    Q9Y6Y8;\n",
       "14243                    Q9Y6Y9;\n",
       "14244  Q9Y6Y9;00160:26,00160:114\n",
       "14245                    Q9Y6Z7;\n",
       "\n",
       "[14246 rows x 1 columns]"
      ]
     },
     "execution_count": 45,
     "metadata": {},
     "output_type": "execute_result"
    }
   ],
   "source": [
    "proteoforms = get_query_result(QUERY_GET_ALL_PROTEOFORMS)\n",
    "proteoforms['Id'] = proteoforms.apply(lambda x: make_proteoform_string(x.Id), axis=1)\n",
    "print(f\"These {len(proteoforms)} proteoforms represent {len(proteins)} proteins coded by {len(genes)} genes, making {len(proteoforms)/len(genes)} proteoform per gene on average. \")\n",
    "proteoforms[\"Id\"].to_csv(DATA_REACTOME_PATH + \"proteoforms.csv\", index=False, header=False)\n",
    "proteoforms"
   ]
  },
  {
   "cell_type": "markdown",
   "metadata": {},
   "source": [
    "### Number of small molecules"
   ]
  },
  {
   "cell_type": "code",
   "execution_count": 46,
   "metadata": {},
   "outputs": [
    {
     "data": {
      "text/html": [
       "<div>\n",
       "<style scoped>\n",
       "    .dataframe tbody tr th:only-of-type {\n",
       "        vertical-align: middle;\n",
       "    }\n",
       "\n",
       "    .dataframe tbody tr th {\n",
       "        vertical-align: top;\n",
       "    }\n",
       "\n",
       "    .dataframe thead th {\n",
       "        text-align: right;\n",
       "    }\n",
       "</style>\n",
       "<table border=\"1\" class=\"dataframe\">\n",
       "  <thead>\n",
       "    <tr style=\"text-align: right;\">\n",
       "      <th></th>\n",
       "      <th>Name</th>\n",
       "      <th>stIds</th>\n",
       "    </tr>\n",
       "  </thead>\n",
       "  <tbody>\n",
       "    <tr>\n",
       "      <th>0</th>\n",
       "      <td>GTP</td>\n",
       "      <td>[R-ALL-29438:GTP [cytosol], R-ALL-113573:GTP [...</td>\n",
       "    </tr>\n",
       "    <tr>\n",
       "      <th>1</th>\n",
       "      <td>AMP</td>\n",
       "      <td>[R-ALL-76577:AMP [cytosol], R-ALL-164121:AMP [...</td>\n",
       "    </tr>\n",
       "    <tr>\n",
       "      <th>2</th>\n",
       "      <td>ATP</td>\n",
       "      <td>[R-ALL-113592:ATP [cytosol], R-ALL-29358:ATP [...</td>\n",
       "    </tr>\n",
       "    <tr>\n",
       "      <th>3</th>\n",
       "      <td>ADP</td>\n",
       "      <td>[R-ALL-29370:ADP [cytosol], R-ALL-113582:ADP [...</td>\n",
       "    </tr>\n",
       "    <tr>\n",
       "      <th>4</th>\n",
       "      <td>GDP</td>\n",
       "      <td>[R-ALL-29420:GDP [cytosol], R-ALL-113525:GDP [...</td>\n",
       "    </tr>\n",
       "    <tr>\n",
       "      <th>...</th>\n",
       "      <td>...</td>\n",
       "      <td>...</td>\n",
       "    </tr>\n",
       "    <tr>\n",
       "      <th>2052</th>\n",
       "      <td>NSAID</td>\n",
       "      <td>[R-ALL-2672383:NSAID [extracellular region]]</td>\n",
       "    </tr>\n",
       "    <tr>\n",
       "      <th>2053</th>\n",
       "      <td>NAADP</td>\n",
       "      <td>[R-ALL-2730676:NAADP [cytosol]]</td>\n",
       "    </tr>\n",
       "    <tr>\n",
       "      <th>2054</th>\n",
       "      <td>divalent metal cation</td>\n",
       "      <td>[R-ALL-5252122:divalent metal cation [extracel...</td>\n",
       "    </tr>\n",
       "    <tr>\n",
       "      <th>2055</th>\n",
       "      <td>cation</td>\n",
       "      <td>[R-ALL-5692450:cation [cytosol], R-ALL-5692484...</td>\n",
       "    </tr>\n",
       "    <tr>\n",
       "      <th>2056</th>\n",
       "      <td>2-lysophosphatidylcholine</td>\n",
       "      <td>[R-ALL-8848483:2-lysophosphatidylcholine [Golg...</td>\n",
       "    </tr>\n",
       "  </tbody>\n",
       "</table>\n",
       "<p>2057 rows × 2 columns</p>\n",
       "</div>"
      ],
      "text/plain": [
       "                           Name  \\\n",
       "0                           GTP   \n",
       "1                           AMP   \n",
       "2                           ATP   \n",
       "3                           ADP   \n",
       "4                           GDP   \n",
       "...                         ...   \n",
       "2052                      NSAID   \n",
       "2053                      NAADP   \n",
       "2054      divalent metal cation   \n",
       "2055                     cation   \n",
       "2056  2-lysophosphatidylcholine   \n",
       "\n",
       "                                                  stIds  \n",
       "0     [R-ALL-29438:GTP [cytosol], R-ALL-113573:GTP [...  \n",
       "1     [R-ALL-76577:AMP [cytosol], R-ALL-164121:AMP [...  \n",
       "2     [R-ALL-113592:ATP [cytosol], R-ALL-29358:ATP [...  \n",
       "3     [R-ALL-29370:ADP [cytosol], R-ALL-113582:ADP [...  \n",
       "4     [R-ALL-29420:GDP [cytosol], R-ALL-113525:GDP [...  \n",
       "...                                                 ...  \n",
       "2052       [R-ALL-2672383:NSAID [extracellular region]]  \n",
       "2053                    [R-ALL-2730676:NAADP [cytosol]]  \n",
       "2054  [R-ALL-5252122:divalent metal cation [extracel...  \n",
       "2055  [R-ALL-5692450:cation [cytosol], R-ALL-5692484...  \n",
       "2056  [R-ALL-8848483:2-lysophosphatidylcholine [Golg...  \n",
       "\n",
       "[2057 rows x 2 columns]"
      ]
     },
     "execution_count": 46,
     "metadata": {},
     "output_type": "execute_result"
    }
   ],
   "source": [
    "# Calculate number of human small molecules we can get from Reactome\n",
    "small_molecules = get_query_result(QUERY_GET_ALL_SMALL_MOLECULES)\n",
    "small_molecules[\"Name\"].to_csv(DATA_REACTOME_PATH + \"small_molecules.csv\", index=False, header=False)\n",
    "small_molecules"
   ]
  },
  {
   "cell_type": "markdown",
   "metadata": {},
   "source": [
    "### Number of reactions"
   ]
  },
  {
   "cell_type": "code",
   "execution_count": 47,
   "metadata": {},
   "outputs": [
    {
     "name": "stdout",
     "output_type": "stream",
     "text": [
      "There are 13806 reactions.\n"
     ]
    }
   ],
   "source": [
    "reactions = get_reactions()[\"stId\"]\n",
    "print(f\"There are {len(reactions)} reactions.\")"
   ]
  },
  {
   "cell_type": "markdown",
   "metadata": {},
   "source": [
    "### Number of pathways"
   ]
  },
  {
   "cell_type": "code",
   "execution_count": 48,
   "metadata": {},
   "outputs": [
    {
     "name": "stdout",
     "output_type": "stream",
     "text": [
      "There are 2112 pathways.\n"
     ]
    }
   ],
   "source": [
    "pathways = get_pathways()[\"stId\"]\n",
    "print(f\"There are {len(pathways)} pathways.\")"
   ]
  },
  {
   "cell_type": "markdown",
   "metadata": {},
   "source": [
    "## Proteoform diversity"
   ]
  },
  {
   "cell_type": "markdown",
   "metadata": {},
   "source": [
    "### Proteoforms per gene"
   ]
  },
  {
   "cell_type": "code",
   "execution_count": 49,
   "metadata": {
    "collapsed": false,
    "pycharm": {
     "name": "#%% Select proteins with multiple proteoforms\n"
    }
   },
   "outputs": [
    {
     "data": {
      "text/html": [
       "<div>\n",
       "<style scoped>\n",
       "    .dataframe tbody tr th:only-of-type {\n",
       "        vertical-align: middle;\n",
       "    }\n",
       "\n",
       "    .dataframe tbody tr th {\n",
       "        vertical-align: top;\n",
       "    }\n",
       "\n",
       "    .dataframe thead th {\n",
       "        text-align: right;\n",
       "    }\n",
       "</style>\n",
       "<table border=\"1\" class=\"dataframe\">\n",
       "  <thead>\n",
       "    <tr style=\"text-align: right;\">\n",
       "      <th></th>\n",
       "      <th>proteoforms</th>\n",
       "      <th>proteins</th>\n",
       "      <th>num proteins</th>\n",
       "      <th>num proteoforms</th>\n",
       "    </tr>\n",
       "    <tr>\n",
       "      <th>gene</th>\n",
       "      <th></th>\n",
       "      <th></th>\n",
       "      <th></th>\n",
       "      <th></th>\n",
       "    </tr>\n",
       "  </thead>\n",
       "  <tbody>\n",
       "    <tr>\n",
       "      <th>UBC</th>\n",
       "      <td>{P0CG48;01148:139, P0CG48;01148:291, P0CG48;01...</td>\n",
       "      <td>{P0CG48}</td>\n",
       "      <td>1</td>\n",
       "      <td>55</td>\n",
       "    </tr>\n",
       "    <tr>\n",
       "      <th>H3C1</th>\n",
       "      <td>{P68431;00084:37, P68431;00047:12,00064:15,000...</td>\n",
       "      <td>{P68431}</td>\n",
       "      <td>1</td>\n",
       "      <td>52</td>\n",
       "    </tr>\n",
       "    <tr>\n",
       "      <th>H3C15</th>\n",
       "      <td>{Q71DI3;00064:19, Q71DI3;00084:37, Q71DI3;0004...</td>\n",
       "      <td>{Q71DI3}</td>\n",
       "      <td>1</td>\n",
       "      <td>48</td>\n",
       "    </tr>\n",
       "    <tr>\n",
       "      <th>HLA-B</th>\n",
       "      <td>{P30495;, P30493;, Q04826;, P10319;, P30475;, ...</td>\n",
       "      <td>{P30480, P30461, P30491, P30484, P30483, Q9536...</td>\n",
       "      <td>36</td>\n",
       "      <td>37</td>\n",
       "    </tr>\n",
       "    <tr>\n",
       "      <th>HLA-A</th>\n",
       "      <td>{P18462;, P16189;, P01892;01148:null, P30447;,...</td>\n",
       "      <td>{P10314, P30459, P16189, P18462, P01892, P3044...</td>\n",
       "      <td>21</td>\n",
       "      <td>23</td>\n",
       "    </tr>\n",
       "    <tr>\n",
       "      <th>TP53</th>\n",
       "      <td>{P04637;00046:15,00046:20,00046:269,00047:284,...</td>\n",
       "      <td>{P04637}</td>\n",
       "      <td>1</td>\n",
       "      <td>23</td>\n",
       "    </tr>\n",
       "    <tr>\n",
       "      <th>UBB</th>\n",
       "      <td>{P0CG47;01148:124, P0CG47;00134:76, P0CG47;011...</td>\n",
       "      <td>{P0CG47}</td>\n",
       "      <td>1</td>\n",
       "      <td>19</td>\n",
       "    </tr>\n",
       "    <tr>\n",
       "      <th>RUNX2</th>\n",
       "      <td>{Q13950-2;00046:280,00046:284,00046:288, Q1395...</td>\n",
       "      <td>{Q13950}</td>\n",
       "      <td>1</td>\n",
       "      <td>16</td>\n",
       "    </tr>\n",
       "    <tr>\n",
       "      <th>RB1</th>\n",
       "      <td>{P06400;00046:780, P06400;00046:249, P06400;00...</td>\n",
       "      <td>{P06400}</td>\n",
       "      <td>1</td>\n",
       "      <td>16</td>\n",
       "    </tr>\n",
       "    <tr>\n",
       "      <th>PPP1R1B</th>\n",
       "      <td>{Q9UD71;00046:137,00047:34,00047:75, Q9UD71;00...</td>\n",
       "      <td>{Q9UD71}</td>\n",
       "      <td>1</td>\n",
       "      <td>16</td>\n",
       "    </tr>\n",
       "    <tr>\n",
       "      <th>H4C1</th>\n",
       "      <td>{P62805;00084:21, P62805;01149:null, P62805;00...</td>\n",
       "      <td>{P62805}</td>\n",
       "      <td>1</td>\n",
       "      <td>15</td>\n",
       "    </tr>\n",
       "    <tr>\n",
       "      <th>SHC1</th>\n",
       "      <td>{P29353;, P29353-2;, P29353;00048:null, P29353...</td>\n",
       "      <td>{P29353}</td>\n",
       "      <td>1</td>\n",
       "      <td>15</td>\n",
       "    </tr>\n",
       "    <tr>\n",
       "      <th>HLA-C</th>\n",
       "      <td>{Q29963;, P30499;, P30501;, P30508;, Q29960;, ...</td>\n",
       "      <td>{Q9TNN7, Q07000, P30499, Q95604, P30501, P3050...</td>\n",
       "      <td>14</td>\n",
       "      <td>14</td>\n",
       "    </tr>\n",
       "    <tr>\n",
       "      <th>H3-3A</th>\n",
       "      <td>{P84243;00085:10, P84243;00083:5, P84243;00083...</td>\n",
       "      <td>{P84243}</td>\n",
       "      <td>1</td>\n",
       "      <td>14</td>\n",
       "    </tr>\n",
       "    <tr>\n",
       "      <th>HLA-DRB1</th>\n",
       "      <td>{Q5Y7A7;, P13760;, Q30134;, P01911;, Q95IE3;, ...</td>\n",
       "      <td>{P13761, Q95IE3, Q5Y7A7, P01911, P01912, P2003...</td>\n",
       "      <td>13</td>\n",
       "      <td>13</td>\n",
       "    </tr>\n",
       "    <tr>\n",
       "      <th>ERBB2</th>\n",
       "      <td>{P04626;00048:877,00048:1023,00048:1139,00048:...</td>\n",
       "      <td>{P04626}</td>\n",
       "      <td>1</td>\n",
       "      <td>13</td>\n",
       "    </tr>\n",
       "    <tr>\n",
       "      <th>FGFR2</th>\n",
       "      <td>{P21802-18;00048:465,00048:585,00048:587,00048...</td>\n",
       "      <td>{P21802}</td>\n",
       "      <td>1</td>\n",
       "      <td>13</td>\n",
       "    </tr>\n",
       "    <tr>\n",
       "      <th>KRAS</th>\n",
       "      <td>{P01116;00111:185, P01116-1;, P01116;00048:32,...</td>\n",
       "      <td>{P01116}</td>\n",
       "      <td>1</td>\n",
       "      <td>13</td>\n",
       "    </tr>\n",
       "    <tr>\n",
       "      <th>COL11A2</th>\n",
       "      <td>{P13942;00037:null, P13942;00038:null,00039:nu...</td>\n",
       "      <td>{P13942}</td>\n",
       "      <td>1</td>\n",
       "      <td>12</td>\n",
       "    </tr>\n",
       "    <tr>\n",
       "      <th>COL27A1</th>\n",
       "      <td>{Q8IZC6;00039:null, Q8IZC6;00037:null, Q8IZC6;...</td>\n",
       "      <td>{Q8IZC6}</td>\n",
       "      <td>1</td>\n",
       "      <td>12</td>\n",
       "    </tr>\n",
       "  </tbody>\n",
       "</table>\n",
       "</div>"
      ],
      "text/plain": [
       "                                                proteoforms  \\\n",
       "gene                                                          \n",
       "UBC       {P0CG48;01148:139, P0CG48;01148:291, P0CG48;01...   \n",
       "H3C1      {P68431;00084:37, P68431;00047:12,00064:15,000...   \n",
       "H3C15     {Q71DI3;00064:19, Q71DI3;00084:37, Q71DI3;0004...   \n",
       "HLA-B     {P30495;, P30493;, Q04826;, P10319;, P30475;, ...   \n",
       "HLA-A     {P18462;, P16189;, P01892;01148:null, P30447;,...   \n",
       "TP53      {P04637;00046:15,00046:20,00046:269,00047:284,...   \n",
       "UBB       {P0CG47;01148:124, P0CG47;00134:76, P0CG47;011...   \n",
       "RUNX2     {Q13950-2;00046:280,00046:284,00046:288, Q1395...   \n",
       "RB1       {P06400;00046:780, P06400;00046:249, P06400;00...   \n",
       "PPP1R1B   {Q9UD71;00046:137,00047:34,00047:75, Q9UD71;00...   \n",
       "H4C1      {P62805;00084:21, P62805;01149:null, P62805;00...   \n",
       "SHC1      {P29353;, P29353-2;, P29353;00048:null, P29353...   \n",
       "HLA-C     {Q29963;, P30499;, P30501;, P30508;, Q29960;, ...   \n",
       "H3-3A     {P84243;00085:10, P84243;00083:5, P84243;00083...   \n",
       "HLA-DRB1  {Q5Y7A7;, P13760;, Q30134;, P01911;, Q95IE3;, ...   \n",
       "ERBB2     {P04626;00048:877,00048:1023,00048:1139,00048:...   \n",
       "FGFR2     {P21802-18;00048:465,00048:585,00048:587,00048...   \n",
       "KRAS      {P01116;00111:185, P01116-1;, P01116;00048:32,...   \n",
       "COL11A2   {P13942;00037:null, P13942;00038:null,00039:nu...   \n",
       "COL27A1   {Q8IZC6;00039:null, Q8IZC6;00037:null, Q8IZC6;...   \n",
       "\n",
       "                                                   proteins  num proteins  \\\n",
       "gene                                                                        \n",
       "UBC                                                {P0CG48}             1   \n",
       "H3C1                                               {P68431}             1   \n",
       "H3C15                                              {Q71DI3}             1   \n",
       "HLA-B     {P30480, P30461, P30491, P30484, P30483, Q9536...            36   \n",
       "HLA-A     {P10314, P30459, P16189, P18462, P01892, P3044...            21   \n",
       "TP53                                               {P04637}             1   \n",
       "UBB                                                {P0CG47}             1   \n",
       "RUNX2                                              {Q13950}             1   \n",
       "RB1                                                {P06400}             1   \n",
       "PPP1R1B                                            {Q9UD71}             1   \n",
       "H4C1                                               {P62805}             1   \n",
       "SHC1                                               {P29353}             1   \n",
       "HLA-C     {Q9TNN7, Q07000, P30499, Q95604, P30501, P3050...            14   \n",
       "H3-3A                                              {P84243}             1   \n",
       "HLA-DRB1  {P13761, Q95IE3, Q5Y7A7, P01911, P01912, P2003...            13   \n",
       "ERBB2                                              {P04626}             1   \n",
       "FGFR2                                              {P21802}             1   \n",
       "KRAS                                               {P01116}             1   \n",
       "COL11A2                                            {P13942}             1   \n",
       "COL27A1                                            {Q8IZC6}             1   \n",
       "\n",
       "          num proteoforms  \n",
       "gene                       \n",
       "UBC                    55  \n",
       "H3C1                   52  \n",
       "H3C15                  48  \n",
       "HLA-B                  37  \n",
       "HLA-A                  23  \n",
       "TP53                   23  \n",
       "UBB                    19  \n",
       "RUNX2                  16  \n",
       "RB1                    16  \n",
       "PPP1R1B                16  \n",
       "H4C1                   15  \n",
       "SHC1                   15  \n",
       "HLA-C                  14  \n",
       "H3-3A                  14  \n",
       "HLA-DRB1               13  \n",
       "ERBB2                  13  \n",
       "FGFR2                  13  \n",
       "KRAS                   13  \n",
       "COL11A2                12  \n",
       "COL27A1                12  "
      ]
     },
     "execution_count": 49,
     "metadata": {},
     "output_type": "execute_result"
    }
   ],
   "source": [
    "# Examples of genes with multiple proteoforms\n",
    "\n",
    "map_genes_to_proteins = read_dictionary_one_to_set(INTERACTOMES_PATH, \"mapping_proteins_to_genes.tsv\", col_indices=(1, 0))\n",
    "map_proteins_to_proteoforms = read_dictionary_one_to_set(INTERACTOMES_PATH, \"mapping_proteins_to_proteoforms.tsv\", col_indices=(0, 1))\n",
    "\n",
    "assert len(map_genes_to_proteins.keys()) == len(genes)\n",
    "assert len(map_proteins_to_proteoforms.keys()) == len(proteins)\n",
    "\n",
    "map_genes_to_proteoforms = {}\n",
    "for gene, protein_set in map_genes_to_proteins.items():\n",
    "    map_genes_to_proteoforms.setdefault(gene, set())\n",
    "    for protein in protein_set:\n",
    "        map_genes_to_proteoforms[gene].update(map_proteins_to_proteoforms[protein])\n",
    "    \n",
    "map_genes_to_proteoforms\n",
    "\n",
    "df_num_products_per_gene = pd.DataFrame(map_genes_to_proteoforms.items(), columns=[\"gene\", \"proteoforms\"])\n",
    "df_num_products_per_gene[\"proteins\"] = df_num_products_per_gene.apply(lambda row: map_genes_to_proteins[row[\"gene\"]], axis=1)\n",
    "df_num_products_per_gene[\"num proteins\"] = df_num_products_per_gene.apply(lambda row: len(row[\"proteins\"]), axis=1)\n",
    "df_num_products_per_gene[\"num proteoforms\"] = df_num_products_per_gene.apply(lambda row: len(row[\"proteoforms\"]), axis=1)\n",
    "df_num_products_per_gene.sort_values(by=['num proteoforms'], inplace=True, ascending=False)\n",
    "df_num_products_per_gene.set_index(\"gene\", inplace=True)\n",
    "dfi.export(df_num_products_per_gene.head(20), 'figures/genes_with_most_proteoforms.png')\n",
    "df_num_products_per_gene.head(20)"
   ]
  },
  {
   "cell_type": "code",
   "execution_count": 55,
   "metadata": {},
   "outputs": [
    {
     "data": {
      "text/plain": [
       "proteoforms        {O60568;}\n",
       "proteins            {O60568}\n",
       "num proteins               1\n",
       "num proteoforms            1\n",
       "gene                   PLOD3\n",
       "Name: PLOD3, dtype: object"
      ]
     },
     "execution_count": 55,
     "metadata": {},
     "output_type": "execute_result"
    }
   ],
   "source": [
    "df_num_products_per_gene.loc[\"PLOD3\"]"
   ]
  },
  {
   "cell_type": "markdown",
   "metadata": {},
   "source": [
    "### Examples of genes with most proteoforms"
   ]
  },
  {
   "cell_type": "code",
   "execution_count": 50,
   "metadata": {},
   "outputs": [
    {
     "name": "stdout",
     "output_type": "stream",
     "text": [
      "Gene: UBC has proteoforms:\n",
      " {'P0CG48;01148:139', 'P0CG48;01148:291', 'P0CG48;01148:82', 'P0CG48;01148:6', 'P0CG48;01148:11', 'P0CG48;01148:124', 'P0CG48;01148:276', 'P0CG48;00134:380', 'P0CG48;01148:443', 'P0CG48;01148:163', 'P0CG48;01148:428', 'P0CG48;01148:391', 'P0CG48;00134:608', 'P0CG48;01614:228', 'P0CG48;01148:671', 'P0CG48;01148:239', 'P0CG48;01148:543', 'P0CG48;01614:456', 'P0CG48;01148:519', 'P0CG48;01614:152', 'P0CG48;01614:304', 'P0CG48;00134:null', 'P0CG48;00134:76', 'P0CG48;01148:538', 'P0CG48;01148:158', 'P0CG48;01148:234', 'P0CG48;01148:315', 'P0CG48;01148:362', 'P0CG48;01614:608', 'P0CG48;01148:215', 'P0CG48;01148:367', 'P0CG48;01148:504', 'P0CG48;01148:614', 'P0CG48;01148:386', 'P0CG48;', 'P0CG48;00134:228', 'P0CG48;00134:456', 'P0CG48;01148:200', 'P0CG48;01148:580', 'P0CG48;01148:63', 'P0CG48;00134:152', 'P0CG48;01614:76', 'P0CG48;00134:532', 'P0CG48;01148:87', 'P0CG48;01148:619', 'P0CG48;01148:595', 'P0CG48;01148:467', 'P0CG48;01614:684', 'P0CG48;01148:352', 'P0CG48;01148:48', 'P0CG48;01614:380', 'P0CG48;01148:656', 'P0CG48;00134:304', 'P0CG48;01148:310', 'P0CG48;01614:532'}\n",
      "Gene: H3C1 has proteoforms:\n",
      " {'P68431;00084:37', 'P68431;00047:12,00064:15,00064:19', 'P68431;00046:11,00064:10,00064:15', 'P68431;00083:5', 'P68431;00077:27', 'P68431;00046:11,00047:12,00064:10,00064:15,00064:19', 'P68431;00085:5', 'P68431;00077:3', 'P68431;00083:80', 'P68431;00219:18', 'P68431;00219:27', 'P68431;00046:11,00047:12,00064:15,00064:19,00064:80', 'P68431;00064:10,00064:15', 'P68431;00064:5', 'P68431;00064:null,00083:5', 'P68431;00078:18', 'P68431;00219:9', 'P68431;00076:9', 'P68431;00064:10', 'P68431;00064:null,00083:28', 'P68431;00078:27', 'P68431;00047:12,00085:10', 'P68431;00077:3,00084:5', 'P68431;00047:12,00064:15,00064:19,00064:80', 'P68431;00085:10', 'P68431;00085:28', 'P68431;00046:11,00047:12,00064:15,00064:19', 'P68431;00084:80', 'P68431;00085:80', 'P68431;00064:24', 'P68431;00084:5', 'P68431;00085:37', 'P68431;00083:37', 'P68431;00078:3', 'P68431;', 'P68431;00046:11,00064:15,00064:19,00064:80', 'P68431;00083:28', 'P68431;00064:null,00083:10', 'P68431;00047:12,00084:10', 'P68431;00064:19', 'P68431;00083:10', 'P68431;00084:10', 'P68431;00076:3', 'P68431;00046:11,00064:15,00064:19', 'P68431;00047:12', 'P68431;00084:28', 'P68431;00077:18', 'P68431;00219:3', 'P68431;00078:9', 'P68431;00064:15', 'P68431;00046:11,00047:12,00064:10,00064:15,00064:19,00064:80', 'P68431;00047:12,00083:10'}\n",
      "Gene: H3C15 has proteoforms:\n",
      " {'Q71DI3;00064:19', 'Q71DI3;00084:37', 'Q71DI3;00046:11,00047:12,00064:10,00064:15,00064:19,00064:80', 'Q71DI3;00084:28', 'Q71DI3;00077:3', 'Q71DI3;00046:11,00064:15,00064:19,00064:80', 'Q71DI3;00219:27', 'Q71DI3;00085:37', 'Q71DI3;00047:12,00064:15,00064:19', 'Q71DI3;00085:28', 'Q71DI3;00046:11,00047:12,00064:10,00064:15,00064:19', 'Q71DI3;00046:11,00064:10,00064:15', 'Q71DI3;00064:15', 'Q71DI3;00078:18', 'Q71DI3;00078:3', 'Q71DI3;00047:12', 'Q71DI3;', 'Q71DI3;00083:5', 'Q71DI3;00078:9', 'Q71DI3;00085:5', 'Q71DI3;00084:5', 'Q71DI3;00085:80', 'Q71DI3;00076:3', 'Q71DI3;00064:24', 'Q71DI3;00219:18', 'Q71DI3;00047:12,00085:10', 'Q71DI3;00047:12,00083:10', 'Q71DI3;00046:11,00047:12,00064:15,00064:19', 'Q71DI3;00083:28', 'Q71DI3;00083:10', 'Q71DI3;00084:80', 'Q71DI3;00078:27', 'Q71DI3;00047:12,00064:15,00064:19,00064:80', 'Q71DI3;00046:11,00064:15,00064:19', 'Q71DI3;00085:10', 'Q71DI3;00077:18', 'Q71DI3;00076:9', 'Q71DI3;00219:9', 'Q71DI3;00046:11,00047:12,00064:15,00064:19,00064:80', 'Q71DI3;00064:10,00064:15', 'Q71DI3;00047:12,00084:10', 'Q71DI3;00077:3,00084:5', 'Q71DI3;00083:80', 'Q71DI3;00064:13', 'Q71DI3;00064:5', 'Q71DI3;00077:27', 'Q71DI3;00083:37', 'Q71DI3;00084:10'}\n",
      "Gene: HLA-B has proteoforms:\n",
      " {'P30495;', 'P30493;', 'Q04826;', 'P10319;', 'P30475;', 'Q9MY60;', 'P30481;', 'P30490;', 'Q95365;', 'Q31610;', 'Q29940;', 'Q31612;', 'P30460;', 'P30486;', 'P30480;', 'P30462;', 'P30488;', 'P01889;', 'P30498;', 'Q9MY60;01148:null', 'P03989;', 'P30487;', 'P30479;', 'P18464;', 'P30685;', 'P30484;', 'P18463;', 'P30461;', 'P30491;', 'P30483;', 'P30464;', 'Q29718;', 'P30466;', 'P18465;', 'P30485;', 'P30492;', 'Q29836;'}\n",
      "Gene: HLA-A has proteoforms:\n",
      " {'P18462;', 'P16189;', 'P01892;01148:null', 'P30447;', 'P01891;', 'P10314;', 'P13746;', 'P16190;', 'P10316;', 'Q09160;', 'P30455;', 'P30443;', 'P05534;', 'P30456;', 'P04439;', 'P30453;', 'P16188;', 'P04439;01148:null', 'P30512;', 'P30459;', 'P30450;', 'P30457;', 'P01892;'}\n"
     ]
    }
   ],
   "source": [
    "df_num_products_per_gene[\"gene\"] = df_num_products_per_gene.index\n",
    "for i, values in df_num_products_per_gene.head(5).iterrows():\n",
    "    print(f\"Gene: {values['gene']} has proteoforms:\\n {values['proteoforms']}\")"
   ]
  },
  {
   "cell_type": "markdown",
   "metadata": {},
   "source": [
    "### Number of genes with multiple proteoforms"
   ]
  },
  {
   "cell_type": "code",
   "execution_count": 51,
   "metadata": {},
   "outputs": [
    {
     "name": "stdout",
     "output_type": "stream",
     "text": [
      "From 10976 genes, 1509 have multiple proteoforms. 9467 have no proteoform specific annotations.\n"
     ]
    }
   ],
   "source": [
    "num_genes_with_multiple_proteoforms = len(df_num_products_per_gene.loc[df_num_products_per_gene[\"num proteoforms\"] > 1])\n",
    "num_genes_with_no_proteoform_diversity = len(df_num_products_per_gene[df_num_products_per_gene[\"num proteoforms\"] == 1])\n",
    "assert num_genes_with_multiple_proteoforms + num_genes_with_no_proteoform_diversity == len(df_num_products_per_gene)\n",
    "print(f\"From {len(df_num_products_per_gene)} genes, {num_genes_with_multiple_proteoforms} have multiple proteoforms. {num_genes_with_no_proteoform_diversity} have no proteoform specific annotations.\")"
   ]
  },
  {
   "cell_type": "markdown",
   "metadata": {},
   "source": [
    "### Number of pathways with participant proteoforms with annotations"
   ]
  },
  {
   "cell_type": "code",
   "execution_count": 52,
   "metadata": {
    "collapsed": false,
    "pycharm": {
     "name": "#%%\n"
    }
   },
   "outputs": [
    {
     "name": "stdout",
     "output_type": "stream",
     "text": [
      "Reading participants of all reactions for level genes...\n",
      "Reading participants of all reactions for level proteoforms...\n",
      "Reading participants of all reactions for level sm...\n",
      "Reading components of all complexes for level genes...\n",
      "Reading components of all complexes for level proteoforms...\n",
      "Reading components of all complexes for level sm...\n",
      "Reading interaction network for  at genes level, method no_sm...\n",
      "Reading interaction network for  at proteoforms level, method no_sm...\n",
      "Reading interaction network for  at genes level, method with_sm...\n",
      "Reading interaction network for  at proteoforms level, method with_sm...\n",
      "Reading interaction network for  at genes level, method with_unique_sm...\n",
      "Reading interaction network for  at proteoforms level, method with_unique_sm...\n"
     ]
    },
    {
     "data": {
      "text/plain": [
       "({'genes': <networkx.classes.graph.Graph at 0x1bebf630e50>,\n",
       "  'proteoforms': <networkx.classes.graph.Graph at 0x1bebf631e10>},\n",
       " {'genes': <networkx.classes.graph.Graph at 0x1bebf633a00>,\n",
       "  'proteoforms': <networkx.classes.graph.Graph at 0x1bebf633730>},\n",
       " {'genes': <networkx.classes.graph.Graph at 0x1bebf633430>,\n",
       "  'proteoforms': <networkx.classes.graph.Graph at 0x1bebf632e90>})"
      ]
     },
     "execution_count": 52,
     "metadata": {},
     "output_type": "execute_result"
    }
   ],
   "source": [
    "# Create interactomes to make sure mapping files genes-->proteins and proteins-->proteoforms exist\n",
    "interactomes = get_interactomes(config.DATA_REACTOME_PATH, INTERACTOMES_PATH)\n",
    "interactomes"
   ]
  },
  {
   "cell_type": "code",
   "execution_count": 53,
   "metadata": {},
   "outputs": [
    {
     "name": "stdout",
     "output_type": "stream",
     "text": [
      "There are 9596 pathways that contain proteoforms with annotations.\n"
     ]
    }
   ],
   "source": [
    "selected_pathways = []\n",
    "i = interactomes[0][\"proteoforms\"]\n",
    "proteoforms_with_annotations = [node for node in i.nodes if any((c in {':', '-'}) for c in str(node))]\n",
    "proteoforms_with_annotations\n",
    "\n",
    "pathways = nx.get_node_attributes(i, \"pathways\")\n",
    "for proteoform in proteoforms_with_annotations:\n",
    "    for pathway in pathways[proteoform]:\n",
    "        selected_pathways.append(pathway)\n",
    "\n",
    "print(f\"There are {len(selected_pathways)} pathways that contain proteoforms with annotations.\")"
   ]
  }
 ],
 "metadata": {
  "kernelspec": {
   "display_name": "Python 3",
   "language": "python",
   "name": "python3"
  },
  "language_info": {
   "codemirror_mode": {
    "name": "ipython",
    "version": 3
   },
   "file_extension": ".py",
   "mimetype": "text/x-python",
   "name": "python",
   "nbconvert_exporter": "python",
   "pygments_lexer": "ipython3",
   "version": "3.10.2"
  }
 },
 "nbformat": 4,
 "nbformat_minor": 0
}
