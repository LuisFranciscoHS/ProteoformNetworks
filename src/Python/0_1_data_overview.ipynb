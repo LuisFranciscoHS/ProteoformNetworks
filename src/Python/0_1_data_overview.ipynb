{
 "cells": [
  {
   "cell_type": "markdown",
   "metadata": {},
   "source": [
    "# Data overview"
   ]
  },
  {
   "cell_type": "code",
   "execution_count": null,
   "metadata": {},
   "outputs": [],
   "source": [
    "# Import dependencies for the complete notebook\n",
    "\n",
    "import config\n",
    "from config import INTERACTOMES_PATH\n",
    "from lib.graph_database_access import get_pathways\n",
    "from lib.dictionaries import read_dictionary_one_to_set\n",
    "from lib.networks import get_json_filename, create_pathway_interaction_network, read_graph\n",
    "from pathlib import Path\n",
    "\n",
    "%load_ext autoreload\n",
    "%autoreload 2\n",
    "%reload_ext autoreload\n",
    "\n",
    "config.set_root_wd()"
   ]
  },
  {
   "cell_type": "code",
   "execution_count": null,
   "metadata": {
    "collapsed": false,
    "pycharm": {
     "name": "#%%\n"
    }
   },
   "outputs": [],
   "source": [
    "map_proteins_to_proteoforms = read_dictionary_one_to_set(INTERACTOMES_PATH, \"mapping_proteins_to_proteoforms.tsv\",\n",
    "                                                         col_indices=(0, 1))\n",
    "pathways = get_pathways()[\"stId\"]\n",
    "print(f\"There are {len(pathways)} pathways.\")"
   ]
  },
  {
   "cell_type": "code",
   "execution_count": null,
   "metadata": {
    "collapsed": false,
    "pycharm": {
     "name": "#%% Select proteins with multiple proteoforms\n"
    }
   },
   "outputs": [],
   "source": [
    "print(f\"There are {len(map_proteins_to_proteoforms.keys())} proteins.\")\n",
    "selected_proteins = []\n",
    "for protein, proteoforms in map_proteins_to_proteoforms.items():\n",
    "    if len(proteoforms) > 1:\n",
    "        selected_proteins.append(protein)\n",
    "\n",
    "print(f\"Only {len(selected_proteins)} have multiple proteoforms.\")"
   ]
  },
  {
   "cell_type": "code",
   "execution_count": null,
   "metadata": {
    "collapsed": false,
    "pycharm": {
     "name": "#%%\n"
    }
   },
   "outputs": [],
   "source": [
    "selected_pathways = []\n",
    "for pathway in pathways:\n",
    "    filename = get_json_filename(config.proteins, config.no_sm, config.PATHWAY_GRAPHS_PATH, pathway)\n",
    "    if not Path(filename).exists():\n",
    "        create_pathway_interaction_network(pathway, config.proteins, config.no_sm, config.PATHWAY_GRAPHS_PATH)\n",
    "    G = read_graph(filename)\n",
    "    if any(protein in selected_proteins for protein in list(G.nodes)):\n",
    "        selected_pathways.append(pathway)\n",
    "\n",
    "print(f\"There are {len(selected_pathways)} pathways that contain proteoforms.\")"
   ]
  },
  {
   "cell_type": "code",
   "execution_count": null,
   "metadata": {
    "collapsed": false,
    "pycharm": {
     "name": "#%%\n"
    }
   },
   "outputs": [],
   "source": [
    "# Examples of genes with multiple protein products\n",
    "\n",
    "map_genes_to_proteins = read_dictionary_one_to_set(INTERACTOMES_PATH, \"mapping_proteins_to_genes.tsv\", col_indices=(1, 0))\n",
    "map_proteins_to_proteoforms = read_dictionary_one_to_set(INTERACTOMES_PATH, \"mapping_proteins_to_proteoforms.tsv\", col_indices=(0, 1))\n",
    "\n",
    "map_proteins_to_proteoforms"
   ]
  },
  {
   "cell_type": "code",
   "execution_count": null,
   "metadata": {},
   "outputs": [],
   "source": [
    "\n",
    "#  Examples when gene products participate in a different set of reactions."
   ]
  },
  {
   "cell_type": "code",
   "execution_count": null,
   "metadata": {},
   "outputs": [],
   "source": [
    "- Calculate set of reactions where each gene product participates\n",
    "- Select genes where it's protein products have a different set of reactions\n",
    "- Quantify the difference overall:\n",
    "    * How often the multiple protein products participate in the same reaction\n",
    "    * Quantify the intersection: "
   ]
  }
 ],
 "metadata": {
  "kernelspec": {
   "display_name": "Python 3",
   "language": "python",
   "name": "python3"
  },
  "language_info": {
   "codemirror_mode": {
    "name": "ipython",
    "version": 3
   },
   "file_extension": ".py",
   "mimetype": "text/x-python",
   "name": "python",
   "nbconvert_exporter": "python",
   "pygments_lexer": "ipython3",
   "version": "3.10.2"
  }
 },
 "nbformat": 4,
 "nbformat_minor": 0
}
