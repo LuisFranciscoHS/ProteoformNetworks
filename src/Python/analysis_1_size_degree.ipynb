{
 "cells": [
  {
   "cell_type": "markdown",
   "source": [
    "## General network properties: Size, Degree\n",
    "\n",
    "For all interactomes:\n",
    "* Number of connected components\n",
    "* Size of the largest connected component\n",
    "* Relative size of the largest connected component\n",
    "* Average size of the connected components\n",
    "* Size of the smallest component\n",
    "* Number of isolated nodes\n",
    "\n",
    "For all pathways:\n",
    "- Sizes of connected components for all pathways"
   ],
   "metadata": {
    "collapsed": false,
    "pycharm": {
     "name": "#%% md\n"
    }
   }
  },
  {
   "cell_type": "code",
   "execution_count": 1,
   "outputs": [
    {
     "name": "stdout",
     "output_type": "stream",
     "text": [
      "Working directory: c:\\git\\pathwayanalysisplatform\\proteoformnetworks\n"
     ]
    }
   ],
   "source": [
    "import pandas as pd\n",
    "import seaborn as sns\n",
    "\n",
    "import config\n",
    "from config import LEVELS, GRAPHS_PATH\n",
    "from lib.networks import get_interactomes\n",
    "from lib.networks import get_multiindex\n",
    "from lib.networks import get_sizes\n",
    "\n",
    "% load_ext autoreload\n",
    "% autoreload 2\n",
    "% reload_ext autoreload\n",
    "\n",
    "config.set_root_wd()"
   ],
   "metadata": {
    "collapsed": false,
    "pycharm": {
     "name": "#%% Set up configuration\n"
    }
   }
  },
  {
   "cell_type": "code",
   "execution_count": 22,
   "outputs": [],
   "source": [
    "index = get_multiindex()\n",
    "interactomes_no_sm, interactomes_with_sm, interactomes_with_unique_sm = get_interactomes(GRAPHS_PATH)\n",
    "interactomes = [*interactomes_no_sm.values(), *interactomes_with_sm.values(), *interactomes_with_unique_sm.values()]"
   ],
   "metadata": {
    "collapsed": false,
    "pycharm": {
     "name": "#%% Get all interactomes\n"
    }
   }
  },
  {
   "cell_type": "code",
   "execution_count": 23,
   "outputs": [
    {
     "data": {
      "text/plain": "Small Molecules           Entity Level\nNot Included              genes            453137\n                          proteins         462430\n                          proteoforms      677057\nIncluded                  genes            528969\n                          proteins         538874\n                          proteoforms      759198\nReaction-Unique Included  genes            839401\n                          proteins         853568\n                          proteoforms     1077886\ndtype: int64"
     },
     "execution_count": 23,
     "metadata": {},
     "output_type": "execute_result"
    }
   ],
   "source": [
    "num_interactions, num_entities, num_small_molecules = get_sizes(interactomes, index)\n",
    "num_interactions"
   ],
   "metadata": {
    "collapsed": false,
    "pycharm": {
     "name": "#%% Calculate size of the full networks\n"
    }
   }
  },
  {
   "cell_type": "code",
   "execution_count": 24,
   "outputs": [
    {
     "data": {
      "text/plain": "Sizes                                  Interactions  Accessioned Entities  \\\nSmall Molecules          Entity Level                                       \nNot Included             genes               453137                 10968   \n                         proteins            462430                 11066   \n                         proteoforms         677057                 14295   \nIncluded                 genes               528969                 10968   \n                         proteins            538874                 11066   \n                         proteoforms         759198                 14295   \nReaction-Unique Included genes               839401                 10968   \n                         proteins            853568                 11066   \n                         proteoforms        1077886                 14295   \n\nSizes                                  Small Molecules  \nSmall Molecules          Entity Level                   \nNot Included             genes                       0  \n                         proteins                    0  \n                         proteoforms                 0  \nIncluded                 genes                    1965  \n                         proteins                 1965  \n                         proteoforms              1965  \nReaction-Unique Included genes                   28110  \n                         proteins                28110  \n                         proteoforms             28110  ",
      "text/html": "<div>\n<style scoped>\n    .dataframe tbody tr th:only-of-type {\n        vertical-align: middle;\n    }\n\n    .dataframe tbody tr th {\n        vertical-align: top;\n    }\n\n    .dataframe thead th {\n        text-align: right;\n    }\n</style>\n<table border=\"1\" class=\"dataframe\">\n  <thead>\n    <tr style=\"text-align: right;\">\n      <th></th>\n      <th>Sizes</th>\n      <th>Interactions</th>\n      <th>Accessioned Entities</th>\n      <th>Small Molecules</th>\n    </tr>\n    <tr>\n      <th>Small Molecules</th>\n      <th>Entity Level</th>\n      <th></th>\n      <th></th>\n      <th></th>\n    </tr>\n  </thead>\n  <tbody>\n    <tr>\n      <th rowspan=\"3\" valign=\"top\">Not Included</th>\n      <th>genes</th>\n      <td>453137</td>\n      <td>10968</td>\n      <td>0</td>\n    </tr>\n    <tr>\n      <th>proteins</th>\n      <td>462430</td>\n      <td>11066</td>\n      <td>0</td>\n    </tr>\n    <tr>\n      <th>proteoforms</th>\n      <td>677057</td>\n      <td>14295</td>\n      <td>0</td>\n    </tr>\n    <tr>\n      <th rowspan=\"3\" valign=\"top\">Included</th>\n      <th>genes</th>\n      <td>528969</td>\n      <td>10968</td>\n      <td>1965</td>\n    </tr>\n    <tr>\n      <th>proteins</th>\n      <td>538874</td>\n      <td>11066</td>\n      <td>1965</td>\n    </tr>\n    <tr>\n      <th>proteoforms</th>\n      <td>759198</td>\n      <td>14295</td>\n      <td>1965</td>\n    </tr>\n    <tr>\n      <th rowspan=\"3\" valign=\"top\">Reaction-Unique Included</th>\n      <th>genes</th>\n      <td>839401</td>\n      <td>10968</td>\n      <td>28110</td>\n    </tr>\n    <tr>\n      <th>proteins</th>\n      <td>853568</td>\n      <td>11066</td>\n      <td>28110</td>\n    </tr>\n    <tr>\n      <th>proteoforms</th>\n      <td>1077886</td>\n      <td>14295</td>\n      <td>28110</td>\n    </tr>\n  </tbody>\n</table>\n</div>"
     },
     "execution_count": 24,
     "metadata": {},
     "output_type": "execute_result"
    }
   ],
   "source": [
    "df_sizes = pd.DataFrame({\n",
    "    \"Interactions\": num_interactions,\n",
    "    \"Accessioned Entities\": num_entities,\n",
    "    \"Small Molecules\": num_small_molecules\n",
    "}, index=index)\n",
    "df_sizes.columns.name = \"Sizes\"\n",
    "df_sizes"
   ],
   "metadata": {
    "collapsed": false,
    "pycharm": {
     "name": "#%% Create dataframe with Sizes of Interactomes\n"
    }
   }
  },
  {
   "cell_type": "code",
   "execution_count": 25,
   "outputs": [],
   "source": [
    "# Create a list with the number of genes, proteins, proteoforms, small molecules\n",
    "num_nodes = [*df_sizes.loc[['Not Included']][\"Accessioned Entities\"], df_sizes.loc[['Included']][\"Small Molecules\"][0]]\n",
    "\n",
    "# Create list with all levels:\n",
    "node_types = [*LEVELS, \"small molecules\"]\n",
    "\n",
    "# Create a list with the number of interactions without the small molecules\n",
    "num_interactions_no_sm = df_sizes.loc[['Not Included']][\"Interactions\"]\n",
    "\n",
    "num_interactions_with_sm = df_sizes.loc[['Included']][\"Interactions\"]\n",
    "\n",
    "maxy = max([*num_interactions_with_sm, *num_interactions_no_sm])\n",
    "\n",
    "maxy = 800000"
   ],
   "metadata": {
    "collapsed": false,
    "pycharm": {
     "name": "#%%\n"
    }
   }
  },
  {
   "cell_type": "code",
   "execution_count": 26,
   "outputs": [
    {
     "name": "stderr",
     "output_type": "stream",
     "text": [
      "<ipython-input-26-8991b48bd7fb>:21: UserWarning: FixedFormatter should only be used together with FixedLocator\n",
      "  plot2.set_xticklabels(LEVELS, rotation=45)\n",
      "<ipython-input-26-8991b48bd7fb>:27: UserWarning: FixedFormatter should only be used together with FixedLocator\n",
      "  plot3.set_xticklabels(LEVELS, rotation=45)\n"
     ]
    },
    {
     "data": {
      "text/plain": "<Figure size 432x288 with 3 Axes>",
      "image/png": "[encoded data removed]"
     },
     "metadata": {
      "needs_background": "light"
     },
     "output_type": "display_data"
    }
   ],
   "source": [
    "import matplotlib.pyplot as plt\n",
    "import numpy as np\n",
    "from config import COLORS_BORDER\n",
    "\n",
    "figure, axis = plt.subplots(1, 4)\n",
    "# Placing the plots in the plane\n",
    "plot1 = plt.subplot2grid((2, 2), (0, 0), rowspan=1, colspan=1)\n",
    "plot2 = plt.subplot2grid((2, 2), (1, 0), rowspan=1, colspan=1)\n",
    "plot3 = plt.subplot2grid((2, 2), (1, 1), rowspan=1, colspan=1)\n",
    "\n",
    "# Plot number of nodes\n",
    "plot1.bar(node_types, num_nodes, color=config.COLORS_FILL, edgecolor=COLORS_BORDER)\n",
    "plot1.set_title('A) Number of Entities')\n",
    "\n",
    "plt.xticks(rotation=90)\n",
    "\n",
    "# Plot number of interactions without small molecules\n",
    "plot2.bar(LEVELS, num_interactions_no_sm, color=config.COLORS_FILL, edgecolor=COLORS_BORDER)\n",
    "plot2.set_title('B) Interactions without S. M.')\n",
    "plot2.set_ylim([0, maxy])\n",
    "plot2.set_xticklabels(LEVELS, rotation=45)\n",
    "\n",
    "# Plot number of interactions with small molecules\n",
    "plot3.bar(LEVELS, num_interactions_with_sm, color=config.COLORS_FILL, edgecolor=COLORS_BORDER)\n",
    "plot3.set_title('C) Interactions with S. M.')\n",
    "plot3.set_ylim([0, maxy])\n",
    "plot3.set_xticklabels(LEVELS, rotation=45)\n",
    "\n",
    "# Packing all the plots and displaying them\n",
    "plt.tight_layout()\n",
    "plt.show()\n",
    "\n",
    "figure.savefig('figures/figure_4.png')\n",
    "plt.close()"
   ],
   "metadata": {
    "collapsed": false,
    "pycharm": {
     "name": "#%% Plot sizes of all Interactomes\n"
    }
   }
  },
  {
   "cell_type": "code",
   "execution_count": 41,
   "outputs": [
    {
     "name": "stdout",
     "output_type": "stream",
     "text": [
      "There are 0.89 % more nodes in the protein interactome than in the gene interactome.\n",
      "There are 2.01 % more interactions in the protein interactome than in the gene interactome.\n",
      "There are 22.59 % more nodes in the proteoform interactome than in the protein interactome.\n",
      "There are 31.7 % more interactions in the proteoform interactome than in the protein interactome.\n"
     ]
    }
   ],
   "source": [
    "from lib.networks import get_increase_percentage\n",
    "from config import genes, proteins, proteoforms\n",
    "\n",
    "increase = get_increase_percentage(interactomes_no_sm[genes].number_of_nodes(),\n",
    "                                   interactomes_no_sm[proteins].number_of_nodes())\n",
    "print(f\"There are {increase} % more nodes in the protein interactome than in the gene interactome.\")\n",
    "\n",
    "increase = get_increase_percentage(interactomes_no_sm[genes].number_of_edges(),\n",
    "                                   interactomes_no_sm[proteins].number_of_edges())\n",
    "print(f\"There are {increase} % more interactions in the protein interactome than in the gene interactome.\")\n",
    "\n",
    "increase = get_increase_percentage(interactomes_no_sm[proteins].number_of_nodes(),\n",
    "                                   interactomes_no_sm[proteoforms].number_of_nodes())\n",
    "print(f\"There are {increase} % more nodes in the proteoform interactome than in the protein interactome.\")\n",
    "\n",
    "increase = get_increase_percentage(interactomes_no_sm[proteins].number_of_edges(),\n",
    "                                   interactomes_no_sm[proteoforms].number_of_edges())\n",
    "print(f\"There are {increase} % more interactions in the proteoform interactome than in the protein interactome.\")"
   ],
   "metadata": {
    "collapsed": false,
    "pycharm": {
     "name": "#%% Percentage of change in nodes\n"
    }
   }
  },
  {
   "cell_type": "code",
   "execution_count": 44,
   "outputs": [
    {
     "name": "stdout",
     "output_type": "stream",
     "text": [
      "There are 10968 genes in the map.\n",
      "The average number of proteins per gene is 1.01\n"
     ]
    }
   ],
   "source": [
    "from statistics import mean\n",
    "from lib.dictionaries import read_dictionary_one_to_set\n",
    "\n",
    "map_genes_to_proteins = read_dictionary_one_to_set(config.GRAPHS_PATH, \"mapping_proteins_to_genes.tsv\",\n",
    "                                                   col_indices=(1, 0))\n",
    "print(f\"There are {len(map_genes_to_proteins.keys())} genes in the map.\")\n",
    "\n",
    "avg_proteins_per_gene = round(mean([len(map_genes_to_proteins[key]) for key in map_genes_to_proteins.keys()]), 2)\n",
    "print(f\"The average number of proteins per gene is {avg_proteins_per_gene}\")"
   ],
   "metadata": {
    "collapsed": false,
    "pycharm": {
     "name": "#%% Get avg. proteins per gene\n"
    }
   }
  },
  {
   "cell_type": "code",
   "execution_count": 45,
   "outputs": [
    {
     "name": "stdout",
     "output_type": "stream",
     "text": [
      "There are 11066 proteins in the map.\n",
      "The average number of proteoforms per protein is 1.29\n"
     ]
    }
   ],
   "source": [
    "map_proteins_to_proteoforms = read_dictionary_one_to_set(config.GRAPHS_PATH, \"mapping_proteins_to_proteoforms.tsv\",\n",
    "                                                         col_indices=(0, 1))\n",
    "print(f\"There are {len(map_proteins_to_proteoforms.keys())} proteins in the map.\")\n",
    "\n",
    "avg_proteoforms_per_protein = round(\n",
    "    mean([len(map_proteins_to_proteoforms[key]) for key in map_proteins_to_proteoforms.keys()]), 2)\n",
    "print(f\"The average number of proteoforms per protein is {avg_proteoforms_per_protein}\")"
   ],
   "metadata": {
    "collapsed": false,
    "pycharm": {
     "name": "#%% Get avg. proteoforms per proteoform\n"
    }
   }
  },
  {
   "cell_type": "code",
   "execution_count": 28,
   "outputs": [
    {
     "data": {
      "text/plain": "Small Molecules           Entity Level\nNot Included              genes           [1241, 1218, 1057, 1057, 902, 892, 586, 578, 5...\n                          proteins        [1242, 1219, 1058, 1058, 904, 894, 594, 578, 5...\n                          proteoforms     [1469, 1444, 1279, 1279, 915, 898, 627, 619, 6...\nIncluded                  genes           [1293, 1270, 1106, 1106, 1035, 1024, 638, 614,...\n                          proteins        [1294, 1271, 1107, 1107, 1037, 1026, 638, 616,...\n                          proteoforms     [1520, 1495, 1327, 1327, 1048, 1030, 743, 716,...\nReaction-Unique Included  genes           [1920, 1890, 1809, 1769, 1559, 1559, 1498, 148...\n                          proteins        [1922, 1892, 1810, 1770, 1560, 1560, 1500, 148...\n                          proteoforms     [2029, 1987, 1933, 1896, 1773, 1773, 1494, 148...\ndtype: object"
     },
     "execution_count": 28,
     "metadata": {},
     "output_type": "execute_result"
    }
   ],
   "source": [
    "degree_sequences = []\n",
    "for interactome in interactomes:\n",
    "    accessioned_nodes = [node for node, data in interactome.nodes(data=True) if not data['type'].startswith(\"Simple\")]\n",
    "    sequence = sorted([d for n, d in interactome.degree(accessioned_nodes)], reverse=True)\n",
    "    degree_sequences.append(sequence)\n",
    "\n",
    "degree_sequences = pd.Series([sorted(sequence, reverse=True) for sequence in degree_sequences], index=index)\n",
    "degree_sequences"
   ],
   "metadata": {
    "collapsed": false,
    "pycharm": {
     "name": "#%% Calculate average, min and max degree for all networks\n"
    }
   }
  },
  {
   "cell_type": "code",
   "execution_count": 29,
   "outputs": [
    {
     "data": {
      "text/plain": "        Node  Degree\n5483   GPR35       0\n4091    AOC3       0\n4092    BPHL       0\n4093    CMBL       0\n4097    NQO2       0\n...      ...     ...\n1041    GNB1     902\n62       UBB    1057\n61       UBC    1057\n63     UBA52    1218\n64    RPS27A    1241\n\n[10968 rows x 2 columns]",
      "text/html": "<div>\n<style scoped>\n    .dataframe tbody tr th:only-of-type {\n        vertical-align: middle;\n    }\n\n    .dataframe tbody tr th {\n        vertical-align: top;\n    }\n\n    .dataframe thead th {\n        text-align: right;\n    }\n</style>\n<table border=\"1\" class=\"dataframe\">\n  <thead>\n    <tr style=\"text-align: right;\">\n      <th></th>\n      <th>Node</th>\n      <th>Degree</th>\n    </tr>\n  </thead>\n  <tbody>\n    <tr>\n      <th>5483</th>\n      <td>GPR35</td>\n      <td>0</td>\n    </tr>\n    <tr>\n      <th>4091</th>\n      <td>AOC3</td>\n      <td>0</td>\n    </tr>\n    <tr>\n      <th>4092</th>\n      <td>BPHL</td>\n      <td>0</td>\n    </tr>\n    <tr>\n      <th>4093</th>\n      <td>CMBL</td>\n      <td>0</td>\n    </tr>\n    <tr>\n      <th>4097</th>\n      <td>NQO2</td>\n      <td>0</td>\n    </tr>\n    <tr>\n      <th>...</th>\n      <td>...</td>\n      <td>...</td>\n    </tr>\n    <tr>\n      <th>1041</th>\n      <td>GNB1</td>\n      <td>902</td>\n    </tr>\n    <tr>\n      <th>62</th>\n      <td>UBB</td>\n      <td>1057</td>\n    </tr>\n    <tr>\n      <th>61</th>\n      <td>UBC</td>\n      <td>1057</td>\n    </tr>\n    <tr>\n      <th>63</th>\n      <td>UBA52</td>\n      <td>1218</td>\n    </tr>\n    <tr>\n      <th>64</th>\n      <td>RPS27A</td>\n      <td>1241</td>\n    </tr>\n  </tbody>\n</table>\n<p>10968 rows × 2 columns</p>\n</div>"
     },
     "execution_count": 29,
     "metadata": {},
     "output_type": "execute_result"
    }
   ],
   "source": [
    "i = interactomes_no_sm[\"genes\"]\n",
    "df = pd.DataFrame(data=list(i.degree()), columns=['Node', 'Degree'])\n",
    "df.sort_values(by=['Degree'], inplace=True)\n",
    "df"
   ],
   "metadata": {
    "collapsed": false,
    "pycharm": {
     "name": "#%% To calculate the examples of disconnected nodes\n"
    }
   }
  },
  {
   "cell_type": "code",
   "execution_count": 30,
   "outputs": [
    {
     "name": "stdout",
     "output_type": "stream",
     "text": [
      "(Genes, No SM) 0\n",
      "Neighbours: []\n",
      "(Genes, With SM) 1\n",
      "Neighbours: ['sm_Kynurenic_acid']\n",
      "(Genes, With Unique SM) 2\n",
      "Neighbours: ['sm_R-HSA-6805205_Kynurenic_acid', 'sm_R-HSA-6805208_Kynurenic_acid']\n"
     ]
    }
   ],
   "source": [
    "print(f\"(Genes, No SM) {interactomes_no_sm['genes'].degree['GPR35']}\")\n",
    "print(f\"Neighbours: {[n for n in interactomes_no_sm['genes'].neighbors('GPR35')]}\")\n",
    "print(f\"(Genes, With SM) {interactomes_with_sm['genes'].degree['GPR35']}\")\n",
    "print(f\"Neighbours: {[n for n in interactomes_with_sm['genes'].neighbors('GPR35')]}\")\n",
    "print(f\"(Genes, With Unique SM) {interactomes_with_unique_sm['genes'].degree['GPR35']}\")\n",
    "print(f\"Neighbours: {[n for n in interactomes_with_unique_sm['genes'].neighbors('GPR35')]}\")\n"
   ],
   "metadata": {
    "collapsed": false,
    "pycharm": {
     "name": "#%% Examples of disconnected nodes\n"
    }
   }
  },
  {
   "cell_type": "code",
   "execution_count": 31,
   "outputs": [
    {
     "data": {
      "text/plain": "                                       Min   Max    Avg\nSmall Molecules          Entity Level                  \nNot Included             genes           0  1241  82.63\n                         proteins        0  1242  83.58\n                         proteoforms     0  1469  94.73\nIncluded                 genes           0  1293  88.31\n                         proteins        0  1294  89.26\n                         proteoforms     0  1520  99.53\nReaction-Unique Included genes           0  1920 112.64\n                         proteins        0  1922 113.77\n                         proteoforms     0  2029 118.77",
      "text/html": "<div>\n<style scoped>\n    .dataframe tbody tr th:only-of-type {\n        vertical-align: middle;\n    }\n\n    .dataframe tbody tr th {\n        vertical-align: top;\n    }\n\n    .dataframe thead th {\n        text-align: right;\n    }\n</style>\n<table border=\"1\" class=\"dataframe\">\n  <thead>\n    <tr style=\"text-align: right;\">\n      <th></th>\n      <th></th>\n      <th>Min</th>\n      <th>Max</th>\n      <th>Avg</th>\n    </tr>\n    <tr>\n      <th>Small Molecules</th>\n      <th>Entity Level</th>\n      <th></th>\n      <th></th>\n      <th></th>\n    </tr>\n  </thead>\n  <tbody>\n    <tr>\n      <th rowspan=\"3\" valign=\"top\">Not Included</th>\n      <th>genes</th>\n      <td>0</td>\n      <td>1241</td>\n      <td>82.63</td>\n    </tr>\n    <tr>\n      <th>proteins</th>\n      <td>0</td>\n      <td>1242</td>\n      <td>83.58</td>\n    </tr>\n    <tr>\n      <th>proteoforms</th>\n      <td>0</td>\n      <td>1469</td>\n      <td>94.73</td>\n    </tr>\n    <tr>\n      <th rowspan=\"3\" valign=\"top\">Included</th>\n      <th>genes</th>\n      <td>0</td>\n      <td>1293</td>\n      <td>88.31</td>\n    </tr>\n    <tr>\n      <th>proteins</th>\n      <td>0</td>\n      <td>1294</td>\n      <td>89.26</td>\n    </tr>\n    <tr>\n      <th>proteoforms</th>\n      <td>0</td>\n      <td>1520</td>\n      <td>99.53</td>\n    </tr>\n    <tr>\n      <th rowspan=\"3\" valign=\"top\">Reaction-Unique Included</th>\n      <th>genes</th>\n      <td>0</td>\n      <td>1920</td>\n      <td>112.64</td>\n    </tr>\n    <tr>\n      <th>proteins</th>\n      <td>0</td>\n      <td>1922</td>\n      <td>113.77</td>\n    </tr>\n    <tr>\n      <th>proteoforms</th>\n      <td>0</td>\n      <td>2029</td>\n      <td>118.77</td>\n    </tr>\n  </tbody>\n</table>\n</div>"
     },
     "execution_count": 31,
     "metadata": {},
     "output_type": "execute_result"
    }
   ],
   "source": [
    "mins = pd.Series([min(degree_sequence) for degree_sequence in degree_sequences], index=index)\n",
    "maxs = pd.Series([max(degree_sequence) for degree_sequence in degree_sequences], index=index)\n",
    "avgs = pd.Series([sum(degree_sequence) / len(degree_sequence) for degree_sequence in degree_sequences], index=index)\n",
    "\n",
    "df_degrees = pd.DataFrame({\"Min\": mins, \"Max\": maxs, \"Avg\": avgs}, index=index)\n",
    "df_degrees\n"
   ],
   "metadata": {
    "collapsed": false,
    "pycharm": {
     "name": "#%% Create dataframe with Degree values of Interactomes\n"
    }
   }
  },
  {
   "cell_type": "code",
   "execution_count": 32,
   "outputs": [
    {
     "data": {
      "text/plain": "                 Small Molecules Entity Level  Degree\n0                   Not Included        genes    3.09\n1                   Not Included        genes    3.09\n2                   Not Included        genes    3.02\n3                   Not Included        genes    3.02\n4                   Not Included        genes    2.96\n...                          ...          ...     ...\n108982  Reaction-Unique Included  proteoforms    0.00\n108983  Reaction-Unique Included  proteoforms    0.00\n108984  Reaction-Unique Included  proteoforms    0.00\n108985  Reaction-Unique Included  proteoforms    0.00\n108986  Reaction-Unique Included  proteoforms    0.00\n\n[108987 rows x 3 columns]",
      "text/html": "<div>\n<style scoped>\n    .dataframe tbody tr th:only-of-type {\n        vertical-align: middle;\n    }\n\n    .dataframe tbody tr th {\n        vertical-align: top;\n    }\n\n    .dataframe thead th {\n        text-align: right;\n    }\n</style>\n<table border=\"1\" class=\"dataframe\">\n  <thead>\n    <tr style=\"text-align: right;\">\n      <th></th>\n      <th>Small Molecules</th>\n      <th>Entity Level</th>\n      <th>Degree</th>\n    </tr>\n  </thead>\n  <tbody>\n    <tr>\n      <th>0</th>\n      <td>Not Included</td>\n      <td>genes</td>\n      <td>3.09</td>\n    </tr>\n    <tr>\n      <th>1</th>\n      <td>Not Included</td>\n      <td>genes</td>\n      <td>3.09</td>\n    </tr>\n    <tr>\n      <th>2</th>\n      <td>Not Included</td>\n      <td>genes</td>\n      <td>3.02</td>\n    </tr>\n    <tr>\n      <th>3</th>\n      <td>Not Included</td>\n      <td>genes</td>\n      <td>3.02</td>\n    </tr>\n    <tr>\n      <th>4</th>\n      <td>Not Included</td>\n      <td>genes</td>\n      <td>2.96</td>\n    </tr>\n    <tr>\n      <th>...</th>\n      <td>...</td>\n      <td>...</td>\n      <td>...</td>\n    </tr>\n    <tr>\n      <th>108982</th>\n      <td>Reaction-Unique Included</td>\n      <td>proteoforms</td>\n      <td>0.00</td>\n    </tr>\n    <tr>\n      <th>108983</th>\n      <td>Reaction-Unique Included</td>\n      <td>proteoforms</td>\n      <td>0.00</td>\n    </tr>\n    <tr>\n      <th>108984</th>\n      <td>Reaction-Unique Included</td>\n      <td>proteoforms</td>\n      <td>0.00</td>\n    </tr>\n    <tr>\n      <th>108985</th>\n      <td>Reaction-Unique Included</td>\n      <td>proteoforms</td>\n      <td>0.00</td>\n    </tr>\n    <tr>\n      <th>108986</th>\n      <td>Reaction-Unique Included</td>\n      <td>proteoforms</td>\n      <td>0.00</td>\n    </tr>\n  </tbody>\n</table>\n<p>108987 rows × 3 columns</p>\n</div>"
     },
     "execution_count": 32,
     "metadata": {},
     "output_type": "execute_result"
    }
   ],
   "source": [
    "df_seq = pd.DataFrame({\"Sequence\": degree_sequences})\n",
    "df_seq.reset_index(inplace=True)\n",
    "lst_col = 'Sequence'\n",
    "\n",
    "df_seq = pd.DataFrame({\n",
    "    col: np.repeat(df_seq[col].values, df_seq[lst_col].str.len())\n",
    "    for col in df_seq.columns.drop(lst_col)}\n",
    ").assign(**{lst_col: np.concatenate(df_seq[lst_col].values)})[df_seq.columns]\n",
    "\n",
    "df_seq = df_seq.rename(columns={'Sequence': 'Degree'})\n",
    "df_seq['Degree'] = df_seq['Degree'].apply(lambda x: 0 if x == 0 else np.log10(x))\n",
    "\n",
    "df_seq"
   ],
   "metadata": {
    "collapsed": false,
    "pycharm": {
     "name": "#%% Prepare data for the violin plot of the degree sequences\n"
    }
   }
  },
  {
   "cell_type": "code",
   "execution_count": 33,
   "outputs": [
    {
     "data": {
      "text/plain": "<Figure size 720x432 with 1 Axes>",
      "image/png": "[encoded data removed]"
     },
     "metadata": {
      "needs_background": "light"
     },
     "output_type": "display_data"
    }
   ],
   "source": [
    "from matplotlib import ticker as mticker\n",
    "\n",
    "fig, ax = plt.subplots(1, 1, figsize=(5, 6))\n",
    "fig.set_size_inches(10, 6)\n",
    "fig5 = sns.violinplot(x=\"Small Molecules\", y=\"Degree\", hue=\"Entity Level\", data=df_seq, palette=config.COLORS_BORDER)\n",
    "ax.yaxis.set_major_formatter(mticker.StrMethodFormatter(\"$10^{{{x:.0f}}}$\"))  # Convert ticks to powers of 10\n",
    "plt.legend(bbox_to_anchor=(1.0, 1), borderaxespad=0.5)  # Put the legend out of the figure\n",
    "plt.show()\n",
    "fig5.figure.savefig('figures/figure_5.png')"
   ],
   "metadata": {
    "collapsed": false,
    "pycharm": {
     "name": "#%% Plot the max, min, and average degree for each granularity level\n"
    }
   }
  },
  {
   "cell_type": "code",
   "execution_count": 64,
   "outputs": [
    {
     "data": {
      "text/plain": "            Pathway Small Molecules  Increase Nodes Genes-Proteins  \\\n0     R-HSA-8934903           no_sm                           0.00   \n1     R-HSA-8934903         with_sm                           0.00   \n2     R-HSA-8934903  with_unique_sm                           0.00   \n3     R-HSA-9613354           no_sm                           0.00   \n4     R-HSA-9613354         with_sm                           0.00   \n...             ...             ...                            ...   \n2289   R-HSA-190861         with_sm                           0.00   \n2290   R-HSA-190861  with_unique_sm                           0.00   \n2291   R-HSA-190827           no_sm                           0.00   \n2292   R-HSA-190827         with_sm                           0.00   \n2293   R-HSA-190827  with_unique_sm                           0.00   \n\n      Increase Interactions Genes-Proteins  \\\n0                                     0.00   \n1                                     0.00   \n2                                     0.00   \n3                                     0.00   \n4                                     0.00   \n...                                    ...   \n2289                                  0.00   \n2290                                  0.00   \n2291                                  0.00   \n2292                                  0.00   \n2293                                  0.00   \n\n      Increase Nodes Proteins-Proteoforms  \\\n0                                   21.43   \n1                                   18.75   \n2                                   15.00   \n3                                   25.00   \n4                                   20.00   \n...                                   ...   \n2289                                 0.00   \n2290                                 0.00   \n2291                                 0.00   \n2292                                 0.00   \n2293                                 0.00   \n\n      Increase Interactions Proteins-Proteoforms  \n0                                           0.00  \n1                                           0.00  \n2                                           0.00  \n3                                           0.00  \n4                                           0.00  \n...                                          ...  \n2289                                        0.00  \n2290                                        0.00  \n2291                                        0.00  \n2292                                        0.00  \n2293                                        0.00  \n\n[2294 rows x 6 columns]",
      "text/html": "<div>\n<style scoped>\n    .dataframe tbody tr th:only-of-type {\n        vertical-align: middle;\n    }\n\n    .dataframe tbody tr th {\n        vertical-align: top;\n    }\n\n    .dataframe thead th {\n        text-align: right;\n    }\n</style>\n<table border=\"1\" class=\"dataframe\">\n  <thead>\n    <tr style=\"text-align: right;\">\n      <th></th>\n      <th>Pathway</th>\n      <th>Small Molecules</th>\n      <th>Increase Nodes Genes-Proteins</th>\n      <th>Increase Interactions Genes-Proteins</th>\n      <th>Increase Nodes Proteins-Proteoforms</th>\n      <th>Increase Interactions Proteins-Proteoforms</th>\n    </tr>\n  </thead>\n  <tbody>\n    <tr>\n      <th>0</th>\n      <td>R-HSA-8934903</td>\n      <td>no_sm</td>\n      <td>0.00</td>\n      <td>0.00</td>\n      <td>21.43</td>\n      <td>0.00</td>\n    </tr>\n    <tr>\n      <th>1</th>\n      <td>R-HSA-8934903</td>\n      <td>with_sm</td>\n      <td>0.00</td>\n      <td>0.00</td>\n      <td>18.75</td>\n      <td>0.00</td>\n    </tr>\n    <tr>\n      <th>2</th>\n      <td>R-HSA-8934903</td>\n      <td>with_unique_sm</td>\n      <td>0.00</td>\n      <td>0.00</td>\n      <td>15.00</td>\n      <td>0.00</td>\n    </tr>\n    <tr>\n      <th>3</th>\n      <td>R-HSA-9613354</td>\n      <td>no_sm</td>\n      <td>0.00</td>\n      <td>0.00</td>\n      <td>25.00</td>\n      <td>0.00</td>\n    </tr>\n    <tr>\n      <th>4</th>\n      <td>R-HSA-9613354</td>\n      <td>with_sm</td>\n      <td>0.00</td>\n      <td>0.00</td>\n      <td>20.00</td>\n      <td>0.00</td>\n    </tr>\n    <tr>\n      <th>...</th>\n      <td>...</td>\n      <td>...</td>\n      <td>...</td>\n      <td>...</td>\n      <td>...</td>\n      <td>...</td>\n    </tr>\n    <tr>\n      <th>2289</th>\n      <td>R-HSA-190861</td>\n      <td>with_sm</td>\n      <td>0.00</td>\n      <td>0.00</td>\n      <td>0.00</td>\n      <td>0.00</td>\n    </tr>\n    <tr>\n      <th>2290</th>\n      <td>R-HSA-190861</td>\n      <td>with_unique_sm</td>\n      <td>0.00</td>\n      <td>0.00</td>\n      <td>0.00</td>\n      <td>0.00</td>\n    </tr>\n    <tr>\n      <th>2291</th>\n      <td>R-HSA-190827</td>\n      <td>no_sm</td>\n      <td>0.00</td>\n      <td>0.00</td>\n      <td>0.00</td>\n      <td>0.00</td>\n    </tr>\n    <tr>\n      <th>2292</th>\n      <td>R-HSA-190827</td>\n      <td>with_sm</td>\n      <td>0.00</td>\n      <td>0.00</td>\n      <td>0.00</td>\n      <td>0.00</td>\n    </tr>\n    <tr>\n      <th>2293</th>\n      <td>R-HSA-190827</td>\n      <td>with_unique_sm</td>\n      <td>0.00</td>\n      <td>0.00</td>\n      <td>0.00</td>\n      <td>0.00</td>\n    </tr>\n  </tbody>\n</table>\n<p>2294 rows × 6 columns</p>\n</div>"
     },
     "execution_count": 64,
     "metadata": {},
     "output_type": "execute_result"
    }
   ],
   "source": [
    "from pathlib import Path\n",
    "from config import METHODS, PATHWAY_GRAPHS_PATH\n",
    "from config import LEVELS\n",
    "from lib.networks import get_json_filename, create_pathway_interaction_network, read_graph\n",
    "from lib.graph_database_access import get_pathways\n",
    "\n",
    "columns = [\n",
    "    'Pathway',\n",
    "    'Small Molecules',\n",
    "    'Increase Nodes Genes-Proteins',\n",
    "    'Increase Interactions Genes-Proteins',\n",
    "    'Increase Nodes Proteins-Proteoforms',\n",
    "    'Increase Interactions Proteins-Proteoforms'\n",
    "]\n",
    "\n",
    "\n",
    "def get_pathway_tuples(pathway, graphs):\n",
    "    increase_nodes_genes_proteins = get_increase_percentage(graphs[genes].number_of_nodes(),\n",
    "                                                            graphs[proteins].number_of_nodes())\n",
    "    increase_links_genes_proteins = get_increase_percentage(graphs[genes].number_of_edges(),\n",
    "                                                            graphs[proteins].number_of_edges())\n",
    "    increase_nodes_proteins_proteoforms = get_increase_percentage(graphs[proteins].number_of_nodes(),\n",
    "                                                                  graphs[proteoforms].number_of_nodes())\n",
    "    increase_links_proteins_proteoforms = get_increase_percentage(graphs[proteoforms].number_of_edges(),\n",
    "                                                                  graphs[proteoforms].number_of_edges())\n",
    "\n",
    "    return (\n",
    "        pathway,\n",
    "        graphs[genes].graph[\"method\"],\n",
    "        increase_nodes_genes_proteins,\n",
    "        increase_links_genes_proteins,\n",
    "        increase_nodes_proteins_proteoforms,\n",
    "        increase_links_proteins_proteoforms\n",
    "    )\n",
    "\n",
    "\n",
    "data_pathways = []\n",
    "pathways = get_pathways()[\"stId\"]\n",
    "for pathway in pathways:\n",
    "    for method in METHODS:\n",
    "        pathway_graphs = {}\n",
    "        for level in LEVELS:\n",
    "            filename = get_json_filename(level, method, PATHWAY_GRAPHS_PATH, pathway)\n",
    "            if not Path(filename).exists():\n",
    "                create_pathway_interaction_network(pathway, level, method, PATHWAY_GRAPHS_PATH)\n",
    "            G = read_graph(filename)\n",
    "            pathway_graphs[level] = G\n",
    "        if pathway_graphs[genes].number_of_nodes() > 0\\\n",
    "                and pathway_graphs[genes].number_of_edges() > 0\\\n",
    "                and pathway_graphs[genes].number_of_nodes() < 20:\n",
    "            data_pathways.append(get_pathway_tuples(pathway, pathway_graphs))\n",
    "\n",
    "df_pathways = pd.DataFrame.from_records(data_pathways, columns=columns)\n",
    "df_pathways"
   ],
   "metadata": {
    "collapsed": false,
    "pycharm": {
     "name": "#%% Find example pathways\n"
    }
   }
  },
  {
   "cell_type": "code",
   "execution_count": 70,
   "outputs": [
    {
     "name": "stdout",
     "output_type": "stream",
     "text": [
      "['R-HSA-1236977' 'R-HSA-947581' 'R-HSA-419812' 'R-HSA-164378'\n",
      " 'R-HSA-392851' 'R-HSA-9613354' 'R-HSA-9664873' 'R-HSA-174437'\n",
      " 'R-HSA-8934903' 'R-HSA-888568' 'R-HSA-75035' 'R-HSA-888593'\n",
      " 'R-HSA-2470946']\n",
      "-- Creating interaction networks for pathway R-HSA-1236977\n",
      "Generated figure: resources/pathway_networks/R-HSA-1236977_ENTITY_TYPE_network.html\n",
      "-- Creating interaction networks for pathway R-HSA-947581\n",
      "Generated figure: resources/pathway_networks/R-HSA-947581_ENTITY_TYPE_network.html\n",
      "-- Creating interaction networks for pathway R-HSA-419812\n",
      "Generated figure: resources/pathway_networks/R-HSA-419812_ENTITY_TYPE_network.html\n",
      "-- Creating interaction networks for pathway R-HSA-164378\n",
      "Generated figure: resources/pathway_networks/R-HSA-164378_ENTITY_TYPE_network.html\n",
      "-- Creating interaction networks for pathway R-HSA-392851\n",
      "Generated figure: resources/pathway_networks/R-HSA-392851_ENTITY_TYPE_network.html\n",
      "-- Creating interaction networks for pathway R-HSA-9613354\n",
      "Generated figure: resources/pathway_networks/R-HSA-9613354_ENTITY_TYPE_network.html\n",
      "-- Creating interaction networks for pathway R-HSA-9664873\n",
      "Generated figure: resources/pathway_networks/R-HSA-9664873_ENTITY_TYPE_network.html\n",
      "-- Creating interaction networks for pathway R-HSA-174437\n",
      "Generated figure: resources/pathway_networks/R-HSA-174437_ENTITY_TYPE_network.html\n",
      "-- Creating interaction networks for pathway R-HSA-8934903\n",
      "Generated figure: resources/pathway_networks/R-HSA-8934903_ENTITY_TYPE_network.html\n",
      "-- Creating interaction networks for pathway R-HSA-888568\n",
      "Generated figure: resources/pathway_networks/R-HSA-888568_ENTITY_TYPE_network.html\n",
      "-- Creating interaction networks for pathway R-HSA-75035\n",
      "Generated figure: resources/pathway_networks/R-HSA-75035_ENTITY_TYPE_network.html\n",
      "-- Creating interaction networks for pathway R-HSA-888593\n",
      "Generated figure: resources/pathway_networks/R-HSA-888593_ENTITY_TYPE_network.html\n",
      "-- Creating interaction networks for pathway R-HSA-2470946\n",
      "Generated figure: resources/pathway_networks/R-HSA-2470946_ENTITY_TYPE_network.html\n"
     ]
    }
   ],
   "source": [
    "from bokeh.io import show\n",
    "from visualization.visualize_single_network import Coloring, plot_pathway_all_levels\n",
    "from lib.networks import create_pathway_interaction_networks\n",
    "\n",
    "# Example nodes genes-proteins\n",
    "df_pathways.sort_values(by=['Increase Nodes Genes-Proteins'], ascending=False, inplace=True)\n",
    "examples = df_pathways.head(20)[\"Pathway\"].unique()\n",
    "print(examples)\n",
    "\n",
    "for example in examples:\n",
    "    graphs = create_pathway_interaction_networks(example, \"resources/pathway_networks/\")\n",
    "    p = plot_pathway_all_levels(example, out_path=\"resources/pathway_networks/\", graphs=graphs,\n",
    "                                coloring=Coloring.ENTITY_TYPE, outline_line_width=1,\n",
    "                                node_size = 12,\n",
    "                                inner_plot_size=350,\n",
    "                                highlight_articulations=True,\n",
    "                                highlight_bridges=True,\n",
    "                                toolbar_location='below')\n",
    "    show(p)"
   ],
   "metadata": {
    "collapsed": false,
    "pycharm": {
     "name": "#%% Find the example of pathways with most change\n"
    }
   }
  },
  {
   "cell_type": "code",
   "execution_count": 71,
   "outputs": [
    {
     "name": "stdout",
     "output_type": "stream",
     "text": [
      "['R-HSA-69200' 'R-HSA-3000480' 'R-HSA-444257' 'R-HSA-2214320'\n",
      " 'R-HSA-1912399' 'R-HSA-9673768']\n"
     ]
    }
   ],
   "source": [
    "# Example nodes proteins-proteoforms\n",
    "df_pathways.sort_values(by=['Increase Nodes Proteins-Proteoforms'], ascending=False, inplace=True)\n",
    "examples = df_pathways.head(10)[\"Pathway\"].unique()\n",
    "print(examples)"
   ],
   "metadata": {
    "collapsed": false,
    "pycharm": {
     "name": "#%%\n"
    }
   }
  },
  {
   "cell_type": "code",
   "execution_count": null,
   "outputs": [],
   "source": [],
   "metadata": {
    "collapsed": false,
    "pycharm": {
     "name": "#%%\n"
    }
   }
  }
 ],
 "metadata": {
  "kernelspec": {
   "display_name": "Python 3",
   "language": "python",
   "name": "python3"
  },
  "language_info": {
   "codemirror_mode": {
    "name": "ipython",
    "version": 2
   },
   "file_extension": ".py",
   "mimetype": "text/x-python",
   "name": "python",
   "nbconvert_exporter": "python",
   "pygments_lexer": "ipython2",
   "version": "2.7.6"
  }
 },
 "nbformat": 4,
 "nbformat_minor": 0
}